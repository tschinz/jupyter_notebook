{
 "metadata": {
  "name": "",
  "signature": "sha256:20976342ec6ba3962a0d3b6671a8f81b0f241328fee32a2c9ef07ce98a0b71c1"
 },
 "nbformat": 3,
 "nbformat_minor": 0,
 "worksheets": [
  {
   "cells": [
    {
     "cell_type": "markdown",
     "metadata": {},
     "source": [
      "## Decimal => Bin => Hex"
     ]
    },
    {
     "cell_type": "code",
     "collapsed": false,
     "input": [
      "dec = 5\n",
      "nbr = 10\n",
      "\n",
      "print(\"   i |    Decimal |                           Binary | Hexadecimal\")\n",
      "print(\"-----|------------|----------------------------------|-------------\")\n",
      "for i in range(nbr):\n",
      "  print(\"{0:4} | {1:10d} | {1:32b} | {1:11x}\".format(i,dec+i))"
     ],
     "language": "python",
     "metadata": {},
     "outputs": [
      {
       "output_type": "stream",
       "stream": "stdout",
       "text": [
        "   i |    Decimal |                           Binary | Hexadecimal\n",
        "-----|------------|----------------------------------|-------------\n",
        "   0 |          5 |                              101 |           5\n",
        "   1 |          6 |                              110 |           6\n",
        "   2 |          7 |                              111 |           7\n",
        "   3 |          8 |                             1000 |           8\n",
        "   4 |          9 |                             1001 |           9\n",
        "   5 |         10 |                             1010 |           a\n",
        "   6 |         11 |                             1011 |           b\n",
        "   7 |         12 |                             1100 |           c\n",
        "   8 |         13 |                             1101 |           d\n",
        "   9 |         14 |                             1110 |           e\n"
       ]
      }
     ],
     "prompt_number": 1
    }
   ],
   "metadata": {}
  }
 ]
}