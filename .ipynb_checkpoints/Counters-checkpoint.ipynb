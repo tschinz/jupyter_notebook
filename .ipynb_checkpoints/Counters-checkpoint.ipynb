{
 "metadata": {
  "name": "",
  "signature": "sha256:8af53150749d33771fbc4c116a31059bb807dcca8a0c6b0789c373176da420b3"
 },
 "nbformat": 3,
 "nbformat_minor": 0,
 "worksheets": [
  {
   "cells": [
    {
     "cell_type": "markdown",
     "metadata": {},
     "source": [
      "# General Counter Calculations"
     ]
    },
    {
     "cell_type": "code",
     "collapsed": false,
     "input": [
      "import numpy as np\n",
      "import pylab as pl\n",
      "\n",
      "# User settings\n",
      "freq     = 2     # in [Hz]\n",
      "sys_freq = 50e6  # in [Hz]\n",
      "step     = 1     # counter increment\n",
      "\n",
      "# Calculation\n",
      "def unsigned_num_bits(num):\n",
      "  _nbits = 1\n",
      "  _n = num\n",
      "  while(_n > 1):\n",
      "    _nbits = _nbits + 1\n",
      "    _n     = _n / 2\n",
      "  return _nbits\n",
      "\n",
      "def calcCounter(freq=2, sys_freq=50e6, step=1):\n",
      "  do         = True\n",
      "  period     = (1.0/freq)\n",
      "  sys_period = (1.0/sys_freq)\n",
      "  count      = (period/sys_period)/step\n",
      "\n",
      "  if (period < sys_period):\n",
      "    print(\"Requested period smaller than system period\")\n",
      "    do = False\n",
      "  if (count < 1):\n",
      "    print(\"Too small steps not possible\")\n",
      "    do = False\n",
      "\n",
      "  count_int  = int(count)\n",
      "  period_int = (count_int*sys_period)*step\n",
      "  freq_int   = 1/period_int\n",
      "  bitNb = unsigned_num_bits(count_int)\n",
      "  error = (100*freq_int)/freq-100\n",
      "\n",
      "  if do:\n",
      "    # Output Values\n",
      "    print(\"Requested Period       : {:g} s\".format(period))\n",
      "    print(\"Requested Frequence    : {:g} Hz\".format(freq))\n",
      "    print(\"Counter Step           : {:g} increment\".format(step))\n",
      "    print(\"Should count to        : {:g} counts\".format(count))\n",
      "    print(\"Result Period          : {:g} s\".format(period_int))\n",
      "    print(\"Result Frequence       : {:g} Hz\".format(freq_int))\n",
      "    print(\"Required Bits          : {:g} bits\".format(bitNb))\n",
      "    print(\"Count to               : {:g} counts\".format(count_int))\n",
      "    print(\"Error                  : {:g} %\".format(error))\n",
      "\n",
      "    print(\"-------------------------------------\")\n",
      "    print(\"SysClk                 : {:g} Hz\".format(sys_freq))\n",
      "    print(\"Counter Bit Nb         : {:g} Bits\".format(bitNb))\n",
      "    print(\"Counter Stepssize      : + {:g}\".format(step))\n",
      "    print(\"Count max value (int)  : {:g}\".format(count_int))\n",
      "    print(\"Count max value (hex)  : 0x{:X}\".format(count_int))\n",
      "\n",
      "    #if False:\n",
      "    #  ## Plot\n",
      "    #  init = 0\n",
      "    #  time = np.linspace(init, (count_int*sys_period), count_int*2) # 1sec in ns steps\n",
      "    #  counter = np.linspace(init,numpy.mod(count_int*2,count_int),count_int*2)\n",
      "\n",
      "    #  # Plot graph  \n",
      "    #  pl.plot(time,counter,label=\"Counter\")\n",
      "    #  #\n",
      "    #  ## Place legend, Axis and Title\n",
      "    #  pl.legend(loc='best')\n",
      "    #  pl.xlabel(\"time [s]\")\n",
      "    #  pl.ylabel(\"Counter Value [int]\")\n",
      "    #  pl.title(\"Counter Waveform\")\n",
      "  \n",
      "calcCounter(freq, sys_freq, step)"
     ],
     "language": "python",
     "metadata": {},
     "outputs": [
      {
       "output_type": "stream",
       "stream": "stdout",
       "text": [
        "Requested Period       : 0.5 s\n",
        "Requested Frequence    : 2 Hz\n",
        "Counter Step           : 1 increment\n",
        "Should count to        : 2.5e+07 counts\n",
        "Result Period          : 0.5 s\n",
        "Result Frequence       : 2 Hz\n",
        "Required Bits          : 25 bits\n",
        "Count to               : 2.5e+07 counts\n",
        "Error                  : 0 %\n",
        "-------------------------------------\n",
        "SysClk                 : 5e+07 Hz\n",
        "Counter Bit Nb         : 25 Bits\n",
        "Counter Stepssize      : + 1\n",
        "Count max value (int)  : 2.5e+07\n",
        "Count max value (hex)  : 0x17D7840\n"
       ]
      }
     ],
     "prompt_number": 1
    },
    {
     "cell_type": "markdown",
     "metadata": {},
     "source": [
      "## KS412S HIB CPLD"
     ]
    },
    {
     "cell_type": "markdown",
     "metadata": {},
     "source": [
      "### Test Counter"
     ]
    },
    {
     "cell_type": "code",
     "collapsed": false,
     "input": [
      "calcCounter(2, 50e6, 1)"
     ],
     "language": "python",
     "metadata": {},
     "outputs": [
      {
       "output_type": "stream",
       "stream": "stdout",
       "text": [
        "Requested Period       : 0.5 s\n",
        "Requested Frequence    : 2 Hz\n",
        "Counter Step           : 1 increment\n",
        "Should count to        : 2.5e+07 counts\n",
        "Result Period          : 0.5 s\n",
        "Result Frequence       : 2 Hz\n",
        "Required Bits          : 25 bits\n",
        "Count to               : 2.5e+07 counts\n",
        "Error                  : 0 %\n",
        "-------------------------------------\n",
        "SysClk                 : 5e+07 Hz\n",
        "Counter Bit Nb         : 25 Bits\n",
        "Counter Stepssize      : + 1\n",
        "Count max value (int)  : 2.5e+07\n",
        "Count max value (hex)  : 0x17D7840\n"
       ]
      }
     ],
     "prompt_number": 3
    },
    {
     "cell_type": "markdown",
     "metadata": {},
     "source": [
      "### Motor Reset Counter"
     ]
    },
    {
     "cell_type": "code",
     "collapsed": false,
     "input": [
      "calcCounter(1e6, 50e6, 1)"
     ],
     "language": "python",
     "metadata": {},
     "outputs": [
      {
       "output_type": "stream",
       "stream": "stdout",
       "text": [
        "Requested Period       : 1e-06 s\n",
        "Requested Frequence    : 1e+06 Hz\n",
        "Counter Step           : 1 increment\n",
        "Should count to        : 50 counts\n",
        "Result Period          : 1e-06 s\n",
        "Result Frequence       : 1e+06 Hz\n",
        "Required Bits          : 6 bits\n",
        "Count to               : 50 counts\n",
        "Error                  : 0 %\n",
        "-------------------------------------\n",
        "SysClk                 : 5e+07 Hz\n",
        "Counter Bit Nb         : 6 Bits\n",
        "Counter Stepssize      : + 1\n",
        "Count max value (int)  : 50\n",
        "Count max value (hex)  : 0x32\n"
       ]
      }
     ],
     "prompt_number": 4
    },
    {
     "cell_type": "markdown",
     "metadata": {},
     "source": [
      "## Jetmapping"
     ]
    },
    {
     "cell_type": "markdown",
     "metadata": {},
     "source": [
      "### Hw_Encoder Pulse"
     ]
    },
    {
     "cell_type": "code",
     "collapsed": false,
     "input": [
      "import numpy as np\n",
      "import pylab as pl\n",
      "\n",
      "# User settings\n",
      "incr_quadenc = 500e3       # in [Hz]\n",
      "step         = 26214       # steps per increment\n",
      "maxval       = pow(2,16)-1 # 2^16-1\n",
      "sys_freq = 50e6  # in [Hz]\n",
      "step     = 1     # counter increment\n",
      "\n",
      "# Calculation\n",
      "def unsigned_num_bits(num):\n",
      "  _nbits = 1\n",
      "  _n = num\n",
      "  while(_n > 1):\n",
      "    _nbits = _nbits + 1\n",
      "    _n     = _n / 2\n",
      "  return _nbits\n",
      "\n",
      "def calcFreq(freq=2, sys_freq=50e6, step=1):\n",
      "  do         = True\n",
      "  period     = (1.0/freq)\n",
      "  sys_period = (1.0/sys_freq)\n",
      "  count      = (period/sys_period)/step\n",
      "\n",
      "  if (period < sys_period):\n",
      "    print(\"Requested period smaller than system period\")\n",
      "    do = False\n",
      "  if (count < 1):\n",
      "    print(\"Too small steps not possible\")\n",
      "    do = False\n",
      "\n",
      "  count_int  = int(count)\n",
      "  period_int = (count_int*sys_period)*step\n",
      "  freq_int   = 1/period_int\n",
      "  bitNb = unsigned_num_bits(count_int)\n",
      "  error = (100*freq_int)/freq-100\n",
      "\n",
      "  if do:\n",
      "    # Output Values\n",
      "    print(\"Requested Period       : {:g} s\".format(period))\n",
      "    print(\"Requested Frequence    : {:g} Hz\".format(freq))\n",
      "    print(\"Counter Step           : {:g} increment\".format(step))\n",
      "    print(\"Should count to        : {:g} counts\".format(count))\n",
      "    print(\"Result Period          : {:g} s\".format(period_int))\n",
      "    print(\"Result Frequence       : {:g} Hz\".format(freq_int))\n",
      "    print(\"Required Bits          : {:g} bits\".format(bitNb))\n",
      "    print(\"Count to               : {:g} counts\".format(count_int))\n",
      "    print(\"Error                  : {:g} %\".format(error))\n",
      "\n",
      "    print(\"-------------------------------------\")\n",
      "    print(\"SysClk                 : {:g} Hz\".format(sys_freq))\n",
      "    print(\"Counter Bit Nb         : {:g} Bits\".format(bitNb))\n",
      "    print(\"Counter Stepssize      : + {:g}\".format(step))\n",
      "    print(\"Count max value (int)  : {:g}\".format(count_int))\n",
      "    print(\"Count max value (hex)  : 0x{:X}\".format(count_int))\n",
      "\n",
      "    #if False:\n",
      "    #  ## Plot\n",
      "    #  init = 0\n",
      "    #  time = np.linspace(init, (count_int*sys_period), count_int*2) # 1sec in ns steps\n",
      "    #  counter = np.linspace(init,numpy.mod(count_int*2,count_int),count_int*2)\n",
      "\n",
      "    #  # Plot graph  \n",
      "    #  pl.plot(time,counter,label=\"Counter\")\n",
      "    #  #\n",
      "    #  ## Place legend, Axis and Title\n",
      "    #  pl.legend(loc='best')\n",
      "    #  pl.xlabel(\"time [s]\")\n",
      "    #  pl.ylabel(\"Counter Value [int]\")\n",
      "    #  pl.title(\"Counter Waveform\")\n",
      "  \n",
      "calcCounter(freq, sys_freq, step)"
     ],
     "language": "python",
     "metadata": {},
     "outputs": []
    }
   ],
   "metadata": {}
  }
 ]
}