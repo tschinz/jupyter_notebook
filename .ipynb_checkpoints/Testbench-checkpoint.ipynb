{
 "metadata": {
  "name": "",
  "signature": "sha256:cde47f3479726d7f3bc28e50b144c0da38b907ad2f583a01e45e7c57d022b0c8"
 },
 "nbformat": 3,
 "nbformat_minor": 0,
 "worksheets": []
}