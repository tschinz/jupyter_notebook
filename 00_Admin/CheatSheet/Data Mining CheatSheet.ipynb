{
 "cells": [
  {
   "cell_type": "markdown",
   "metadata": {},
   "source": [
    "# Data Mining Cheat Sheet\n",
    "https://towardsdatascience.com/data-handling-using-pandas-cleaning-and-processing-3aa657dc9418"
   ]
  },
  {
   "cell_type": "code",
   "execution_count": 125,
   "metadata": {},
   "outputs": [
    {
     "data": {
      "text/html": [
       "        <script type=\"text/javascript\">\n",
       "        window.PlotlyConfig = {MathJaxConfig: 'local'};\n",
       "        if (window.MathJax) {MathJax.Hub.Config({SVG: {font: \"STIX-Web\"}});}\n",
       "        if (typeof require !== 'undefined') {\n",
       "        require.undef(\"plotly\");\n",
       "        requirejs.config({\n",
       "            paths: {\n",
       "                'plotly': ['https://cdn.plot.ly/plotly-latest.min']\n",
       "            }\n",
       "        });\n",
       "        require(['plotly'], function(Plotly) {\n",
       "            window._Plotly = Plotly;\n",
       "        });\n",
       "        }\n",
       "        </script>\n",
       "        "
      ]
     },
     "metadata": {},
     "output_type": "display_data"
    }
   ],
   "source": [
    "# python\n",
    "import sys\n",
    "import os\n",
    "\n",
    "# iPython\n",
    "import IPython\n",
    "from IPython.display import display\n",
    "\n",
    "# pandas\n",
    "import pandas as pd\n",
    "\n",
    "# numpy\n",
    "import numpy as np\n",
    "\n",
    "# seaborn\n",
    "import seaborn as sns\n",
    "\n",
    "# matplotlib\n",
    "import matplotlib.pyplot as plt\n",
    "\n",
    "# plotly\n",
    "import plotly as ply\n",
    "import plotly.figure_factory as ff\n",
    "ply.offline.init_notebook_mode(connected=True)"
   ]
  },
  {
   "cell_type": "markdown",
   "metadata": {},
   "source": [
    "## Import Data"
   ]
  },
  {
   "cell_type": "code",
   "execution_count": 126,
   "metadata": {},
   "outputs": [
    {
     "data": {
      "text/html": [
       "<div>\n",
       "<style scoped>\n",
       "    .dataframe tbody tr th:only-of-type {\n",
       "        vertical-align: middle;\n",
       "    }\n",
       "\n",
       "    .dataframe tbody tr th {\n",
       "        vertical-align: top;\n",
       "    }\n",
       "\n",
       "    .dataframe thead th {\n",
       "        text-align: right;\n",
       "    }\n",
       "</style>\n",
       "<table border=\"1\" class=\"dataframe\">\n",
       "  <thead>\n",
       "    <tr style=\"text-align: right;\">\n",
       "      <th></th>\n",
       "      <th>color</th>\n",
       "      <th>director_name</th>\n",
       "      <th>num_critic_for_reviews</th>\n",
       "      <th>duration</th>\n",
       "      <th>director_facebook_likes</th>\n",
       "      <th>actor_3_facebook_likes</th>\n",
       "      <th>actor_2_name</th>\n",
       "      <th>actor_1_facebook_likes</th>\n",
       "      <th>gross</th>\n",
       "      <th>genres</th>\n",
       "      <th>...</th>\n",
       "      <th>num_user_for_reviews</th>\n",
       "      <th>language</th>\n",
       "      <th>country</th>\n",
       "      <th>content_rating</th>\n",
       "      <th>budget</th>\n",
       "      <th>title_year</th>\n",
       "      <th>actor_2_facebook_likes</th>\n",
       "      <th>imdb_score</th>\n",
       "      <th>aspect_ratio</th>\n",
       "      <th>movie_facebook_likes</th>\n",
       "    </tr>\n",
       "  </thead>\n",
       "  <tbody>\n",
       "    <tr>\n",
       "      <th>0</th>\n",
       "      <td>Color</td>\n",
       "      <td>James Cameron</td>\n",
       "      <td>723.0</td>\n",
       "      <td>178.0</td>\n",
       "      <td>0.0</td>\n",
       "      <td>855.0</td>\n",
       "      <td>Joel David Moore</td>\n",
       "      <td>1000.0</td>\n",
       "      <td>760505847.0</td>\n",
       "      <td>Action|Adventure|Fantasy|Sci-Fi</td>\n",
       "      <td>...</td>\n",
       "      <td>3054.0</td>\n",
       "      <td>English</td>\n",
       "      <td>USA</td>\n",
       "      <td>PG-13</td>\n",
       "      <td>237000000.0</td>\n",
       "      <td>2009.0</td>\n",
       "      <td>936.0</td>\n",
       "      <td>7.9</td>\n",
       "      <td>1.78</td>\n",
       "      <td>33000</td>\n",
       "    </tr>\n",
       "    <tr>\n",
       "      <th>1</th>\n",
       "      <td>Color</td>\n",
       "      <td>Gore Verbinski</td>\n",
       "      <td>302.0</td>\n",
       "      <td>169.0</td>\n",
       "      <td>563.0</td>\n",
       "      <td>1000.0</td>\n",
       "      <td>Orlando Bloom</td>\n",
       "      <td>40000.0</td>\n",
       "      <td>309404152.0</td>\n",
       "      <td>Action|Adventure|Fantasy</td>\n",
       "      <td>...</td>\n",
       "      <td>1238.0</td>\n",
       "      <td>English</td>\n",
       "      <td>USA</td>\n",
       "      <td>PG-13</td>\n",
       "      <td>300000000.0</td>\n",
       "      <td>2007.0</td>\n",
       "      <td>5000.0</td>\n",
       "      <td>7.1</td>\n",
       "      <td>2.35</td>\n",
       "      <td>0</td>\n",
       "    </tr>\n",
       "    <tr>\n",
       "      <th>2</th>\n",
       "      <td>Color</td>\n",
       "      <td>Sam Mendes</td>\n",
       "      <td>602.0</td>\n",
       "      <td>148.0</td>\n",
       "      <td>0.0</td>\n",
       "      <td>161.0</td>\n",
       "      <td>Rory Kinnear</td>\n",
       "      <td>11000.0</td>\n",
       "      <td>200074175.0</td>\n",
       "      <td>Action|Adventure|Thriller</td>\n",
       "      <td>...</td>\n",
       "      <td>994.0</td>\n",
       "      <td>English</td>\n",
       "      <td>UK</td>\n",
       "      <td>PG-13</td>\n",
       "      <td>245000000.0</td>\n",
       "      <td>2015.0</td>\n",
       "      <td>393.0</td>\n",
       "      <td>6.8</td>\n",
       "      <td>2.35</td>\n",
       "      <td>85000</td>\n",
       "    </tr>\n",
       "    <tr>\n",
       "      <th>3</th>\n",
       "      <td>Color</td>\n",
       "      <td>Christopher Nolan</td>\n",
       "      <td>813.0</td>\n",
       "      <td>164.0</td>\n",
       "      <td>22000.0</td>\n",
       "      <td>23000.0</td>\n",
       "      <td>Christian Bale</td>\n",
       "      <td>27000.0</td>\n",
       "      <td>448130642.0</td>\n",
       "      <td>Action|Thriller</td>\n",
       "      <td>...</td>\n",
       "      <td>2701.0</td>\n",
       "      <td>English</td>\n",
       "      <td>USA</td>\n",
       "      <td>PG-13</td>\n",
       "      <td>250000000.0</td>\n",
       "      <td>2012.0</td>\n",
       "      <td>23000.0</td>\n",
       "      <td>8.5</td>\n",
       "      <td>2.35</td>\n",
       "      <td>164000</td>\n",
       "    </tr>\n",
       "    <tr>\n",
       "      <th>4</th>\n",
       "      <td>NaN</td>\n",
       "      <td>Doug Walker</td>\n",
       "      <td>NaN</td>\n",
       "      <td>NaN</td>\n",
       "      <td>131.0</td>\n",
       "      <td>NaN</td>\n",
       "      <td>Rob Walker</td>\n",
       "      <td>131.0</td>\n",
       "      <td>NaN</td>\n",
       "      <td>Documentary</td>\n",
       "      <td>...</td>\n",
       "      <td>NaN</td>\n",
       "      <td>NaN</td>\n",
       "      <td>NaN</td>\n",
       "      <td>NaN</td>\n",
       "      <td>NaN</td>\n",
       "      <td>NaN</td>\n",
       "      <td>12.0</td>\n",
       "      <td>7.1</td>\n",
       "      <td>NaN</td>\n",
       "      <td>0</td>\n",
       "    </tr>\n",
       "  </tbody>\n",
       "</table>\n",
       "<p>5 rows × 28 columns</p>\n",
       "</div>"
      ],
      "text/plain": [
       "   color      director_name  num_critic_for_reviews  duration  \\\n",
       "0  Color      James Cameron                   723.0     178.0   \n",
       "1  Color     Gore Verbinski                   302.0     169.0   \n",
       "2  Color         Sam Mendes                   602.0     148.0   \n",
       "3  Color  Christopher Nolan                   813.0     164.0   \n",
       "4    NaN        Doug Walker                     NaN       NaN   \n",
       "\n",
       "   director_facebook_likes  actor_3_facebook_likes      actor_2_name  \\\n",
       "0                      0.0                   855.0  Joel David Moore   \n",
       "1                    563.0                  1000.0     Orlando Bloom   \n",
       "2                      0.0                   161.0      Rory Kinnear   \n",
       "3                  22000.0                 23000.0    Christian Bale   \n",
       "4                    131.0                     NaN        Rob Walker   \n",
       "\n",
       "   actor_1_facebook_likes        gross                           genres  \\\n",
       "0                  1000.0  760505847.0  Action|Adventure|Fantasy|Sci-Fi   \n",
       "1                 40000.0  309404152.0         Action|Adventure|Fantasy   \n",
       "2                 11000.0  200074175.0        Action|Adventure|Thriller   \n",
       "3                 27000.0  448130642.0                  Action|Thriller   \n",
       "4                   131.0          NaN                      Documentary   \n",
       "\n",
       "          ...          num_user_for_reviews language  country  content_rating  \\\n",
       "0         ...                        3054.0  English      USA           PG-13   \n",
       "1         ...                        1238.0  English      USA           PG-13   \n",
       "2         ...                         994.0  English       UK           PG-13   \n",
       "3         ...                        2701.0  English      USA           PG-13   \n",
       "4         ...                           NaN      NaN      NaN             NaN   \n",
       "\n",
       "        budget  title_year actor_2_facebook_likes imdb_score  aspect_ratio  \\\n",
       "0  237000000.0      2009.0                  936.0        7.9          1.78   \n",
       "1  300000000.0      2007.0                 5000.0        7.1          2.35   \n",
       "2  245000000.0      2015.0                  393.0        6.8          2.35   \n",
       "3  250000000.0      2012.0                23000.0        8.5          2.35   \n",
       "4          NaN         NaN                   12.0        7.1           NaN   \n",
       "\n",
       "  movie_facebook_likes  \n",
       "0                33000  \n",
       "1                    0  \n",
       "2                85000  \n",
       "3               164000  \n",
       "4                    0  \n",
       "\n",
       "[5 rows x 28 columns]"
      ]
     },
     "execution_count": 126,
     "metadata": {},
     "output_type": "execute_result"
    }
   ],
   "source": [
    "movies_df = pd.read_csv(\"./../sample_files/data/movie_metadata.csv\")\n",
    "movies_df.head()"
   ]
  },
  {
   "cell_type": "markdown",
   "metadata": {},
   "source": [
    "## Get Basic Informations"
   ]
  },
  {
   "cell_type": "code",
   "execution_count": 127,
   "metadata": {},
   "outputs": [
    {
     "name": "stdout",
     "output_type": "stream",
     "text": [
      "data-frame shape:  (5043, 28)\n"
     ]
    }
   ],
   "source": [
    "print(\"data-frame shape: \", movies_df.shape)"
   ]
  },
  {
   "cell_type": "markdown",
   "metadata": {},
   "source": [
    "## Handling Missing Data\n",
    "http://pandas.pydata.org/pandas-docs/stable/user_guide/missing_data.html"
   ]
  },
  {
   "cell_type": "code",
   "execution_count": 128,
   "metadata": {},
   "outputs": [
    {
     "name": "stdout",
     "output_type": "stream",
     "text": [
      "null values: \n",
      "\n",
      "      color  director_name  num_critic_for_reviews  duration  \\\n",
      "0     False          False                   False     False   \n",
      "1     False          False                   False     False   \n",
      "2     False          False                   False     False   \n",
      "3     False          False                   False     False   \n",
      "4      True          False                    True      True   \n",
      "5     False          False                   False     False   \n",
      "6     False          False                   False     False   \n",
      "7     False          False                   False     False   \n",
      "8     False          False                   False     False   \n",
      "9     False          False                   False     False   \n",
      "10    False          False                   False     False   \n",
      "11    False          False                   False     False   \n",
      "12    False          False                   False     False   \n",
      "13    False          False                   False     False   \n",
      "14    False          False                   False     False   \n",
      "15    False          False                   False     False   \n",
      "16    False          False                   False     False   \n",
      "17    False          False                   False     False   \n",
      "18    False          False                   False     False   \n",
      "19    False          False                   False     False   \n",
      "20    False          False                   False     False   \n",
      "21    False          False                   False     False   \n",
      "22    False          False                   False     False   \n",
      "23    False          False                   False     False   \n",
      "24    False          False                   False     False   \n",
      "25    False          False                   False     False   \n",
      "26    False          False                   False     False   \n",
      "27    False          False                   False     False   \n",
      "28    False          False                   False     False   \n",
      "29    False          False                   False     False   \n",
      "...     ...            ...                     ...       ...   \n",
      "5013  False          False                   False     False   \n",
      "5014  False          False                   False     False   \n",
      "5015  False          False                   False     False   \n",
      "5016  False          False                    True     False   \n",
      "5017  False          False                   False     False   \n",
      "5018  False          False                   False     False   \n",
      "5019  False          False                   False     False   \n",
      "5020   True          False                    True     False   \n",
      "5021  False          False                   False     False   \n",
      "5022  False          False                   False     False   \n",
      "5023  False          False                   False     False   \n",
      "5024  False          False                   False     False   \n",
      "5025  False          False                   False     False   \n",
      "5026  False          False                   False     False   \n",
      "5027  False          False                   False     False   \n",
      "5028  False          False                   False     False   \n",
      "5029  False          False                   False     False   \n",
      "5030  False          False                    True     False   \n",
      "5031  False          False                   False     False   \n",
      "5032  False          False                   False     False   \n",
      "5033  False          False                   False     False   \n",
      "5034  False          False                   False     False   \n",
      "5035  False          False                   False     False   \n",
      "5036  False          False                    True     False   \n",
      "5037  False          False                   False     False   \n",
      "5038  False          False                   False     False   \n",
      "5039  False           True                   False     False   \n",
      "5040  False          False                   False     False   \n",
      "5041  False          False                   False     False   \n",
      "5042  False          False                   False     False   \n",
      "\n",
      "      director_facebook_likes  actor_3_facebook_likes  actor_2_name  \\\n",
      "0                       False                   False         False   \n",
      "1                       False                   False         False   \n",
      "2                       False                   False         False   \n",
      "3                       False                   False         False   \n",
      "4                       False                    True         False   \n",
      "5                       False                   False         False   \n",
      "6                       False                   False         False   \n",
      "7                       False                   False         False   \n",
      "8                       False                   False         False   \n",
      "9                       False                   False         False   \n",
      "10                      False                   False         False   \n",
      "11                      False                   False         False   \n",
      "12                      False                   False         False   \n",
      "13                      False                   False         False   \n",
      "14                      False                   False         False   \n",
      "15                      False                   False         False   \n",
      "16                      False                   False         False   \n",
      "17                      False                   False         False   \n",
      "18                      False                   False         False   \n",
      "19                      False                   False         False   \n",
      "20                      False                   False         False   \n",
      "21                      False                   False         False   \n",
      "22                      False                   False         False   \n",
      "23                      False                   False         False   \n",
      "24                      False                   False         False   \n",
      "25                      False                   False         False   \n",
      "26                      False                   False         False   \n",
      "27                      False                   False         False   \n",
      "28                      False                   False         False   \n",
      "29                      False                   False         False   \n",
      "...                       ...                     ...           ...   \n",
      "5013                    False                   False         False   \n",
      "5014                    False                   False         False   \n",
      "5015                    False                   False         False   \n",
      "5016                    False                   False         False   \n",
      "5017                    False                   False         False   \n",
      "5018                    False                   False         False   \n",
      "5019                    False                   False         False   \n",
      "5020                    False                   False         False   \n",
      "5021                    False                   False         False   \n",
      "5022                    False                   False         False   \n",
      "5023                    False                   False         False   \n",
      "5024                    False                   False         False   \n",
      "5025                    False                   False         False   \n",
      "5026                    False                   False         False   \n",
      "5027                    False                   False         False   \n",
      "5028                    False                   False         False   \n",
      "5029                    False                   False         False   \n",
      "5030                    False                   False         False   \n",
      "5031                    False                   False         False   \n",
      "5032                    False                   False         False   \n",
      "5033                    False                   False         False   \n",
      "5034                    False                   False         False   \n",
      "5035                    False                   False         False   \n",
      "5036                    False                   False         False   \n",
      "5037                    False                   False         False   \n",
      "5038                    False                   False         False   \n",
      "5039                     True                   False         False   \n",
      "5040                    False                   False         False   \n",
      "5041                    False                   False         False   \n",
      "5042                    False                   False         False   \n",
      "\n",
      "      actor_1_facebook_likes  gross  genres          ...           \\\n",
      "0                      False  False   False          ...            \n",
      "1                      False  False   False          ...            \n",
      "2                      False  False   False          ...            \n",
      "3                      False  False   False          ...            \n",
      "4                      False   True   False          ...            \n",
      "5                      False  False   False          ...            \n",
      "6                      False  False   False          ...            \n",
      "7                      False  False   False          ...            \n",
      "8                      False  False   False          ...            \n",
      "9                      False  False   False          ...            \n",
      "10                     False  False   False          ...            \n",
      "11                     False  False   False          ...            \n",
      "12                     False  False   False          ...            \n",
      "13                     False  False   False          ...            \n",
      "14                     False  False   False          ...            \n",
      "15                     False  False   False          ...            \n",
      "16                     False  False   False          ...            \n",
      "17                     False  False   False          ...            \n",
      "18                     False  False   False          ...            \n",
      "19                     False  False   False          ...            \n",
      "20                     False  False   False          ...            \n",
      "21                     False  False   False          ...            \n",
      "22                     False  False   False          ...            \n",
      "23                     False  False   False          ...            \n",
      "24                     False  False   False          ...            \n",
      "25                     False  False   False          ...            \n",
      "26                     False  False   False          ...            \n",
      "27                     False  False   False          ...            \n",
      "28                     False  False   False          ...            \n",
      "29                     False  False   False          ...            \n",
      "...                      ...    ...     ...          ...            \n",
      "5013                   False   True   False          ...            \n",
      "5014                   False   True   False          ...            \n",
      "5015                   False  False   False          ...            \n",
      "5016                   False   True   False          ...            \n",
      "5017                   False   True   False          ...            \n",
      "5018                   False   True   False          ...            \n",
      "5019                   False   True   False          ...            \n",
      "5020                   False   True   False          ...            \n",
      "5021                   False  False   False          ...            \n",
      "5022                   False   True   False          ...            \n",
      "5023                   False  False   False          ...            \n",
      "5024                   False   True   False          ...            \n",
      "5025                   False  False   False          ...            \n",
      "5026                   False  False   False          ...            \n",
      "5027                   False  False   False          ...            \n",
      "5028                   False   True   False          ...            \n",
      "5029                   False  False   False          ...            \n",
      "5030                   False   True   False          ...            \n",
      "5031                   False   True   False          ...            \n",
      "5032                   False   True   False          ...            \n",
      "5033                   False  False   False          ...            \n",
      "5034                   False  False   False          ...            \n",
      "5035                   False  False   False          ...            \n",
      "5036                   False   True   False          ...            \n",
      "5037                   False  False   False          ...            \n",
      "5038                   False   True   False          ...            \n",
      "5039                   False   True   False          ...            \n",
      "5040                   False   True   False          ...            \n",
      "5041                   False  False   False          ...            \n",
      "5042                   False  False   False          ...            \n",
      "\n",
      "      num_user_for_reviews  language  country  content_rating  budget  \\\n",
      "0                    False     False    False           False   False   \n",
      "1                    False     False    False           False   False   \n",
      "2                    False     False    False           False   False   \n",
      "3                    False     False    False           False   False   \n",
      "4                     True      True     True            True    True   \n",
      "5                    False     False    False           False   False   \n",
      "6                    False     False    False           False   False   \n",
      "7                    False     False    False           False   False   \n",
      "8                    False     False    False           False   False   \n",
      "9                    False     False    False           False   False   \n",
      "10                   False     False    False           False   False   \n",
      "11                   False     False    False           False   False   \n",
      "12                   False     False    False           False   False   \n",
      "13                   False     False    False           False   False   \n",
      "14                   False     False    False           False   False   \n",
      "15                   False     False    False           False   False   \n",
      "16                   False     False    False           False   False   \n",
      "17                   False     False    False           False   False   \n",
      "18                   False     False    False           False   False   \n",
      "19                   False     False    False           False   False   \n",
      "20                   False     False    False           False   False   \n",
      "21                   False     False    False           False   False   \n",
      "22                   False     False    False           False   False   \n",
      "23                   False     False    False           False   False   \n",
      "24                   False     False    False           False   False   \n",
      "25                   False     False    False           False   False   \n",
      "26                   False     False    False           False   False   \n",
      "27                   False     False    False           False   False   \n",
      "28                   False     False    False           False   False   \n",
      "29                   False     False    False           False   False   \n",
      "...                    ...       ...      ...             ...     ...   \n",
      "5013                 False     False    False            True   False   \n",
      "5014                 False     False    False           False    True   \n",
      "5015                 False     False    False           False   False   \n",
      "5016                 False     False    False            True   False   \n",
      "5017                 False     False    False            True   False   \n",
      "5018                 False     False    False            True   False   \n",
      "5019                 False     False    False           False    True   \n",
      "5020                 False     False    False            True   False   \n",
      "5021                 False     False    False           False   False   \n",
      "5022                 False     False    False            True   False   \n",
      "5023                 False     False    False            True   False   \n",
      "5024                 False     False    False           False   False   \n",
      "5025                 False     False    False           False   False   \n",
      "5026                 False     False    False           False   False   \n",
      "5027                 False     False    False           False   False   \n",
      "5028                 False     False    False            True   False   \n",
      "5029                 False     False    False            True   False   \n",
      "5030                 False     False    False            True    True   \n",
      "5031                 False     False    False            True   False   \n",
      "5032                 False     False    False            True    True   \n",
      "5033                 False     False    False           False   False   \n",
      "5034                 False     False    False           False   False   \n",
      "5035                 False     False    False           False   False   \n",
      "5036                 False     False    False           False   False   \n",
      "5037                 False     False    False           False   False   \n",
      "5038                 False     False    False            True    True   \n",
      "5039                 False     False    False           False    True   \n",
      "5040                 False     False    False            True   False   \n",
      "5041                 False     False    False           False    True   \n",
      "5042                 False     False    False           False   False   \n",
      "\n",
      "      title_year  actor_2_facebook_likes  imdb_score  aspect_ratio  \\\n",
      "0          False                   False       False         False   \n",
      "1          False                   False       False         False   \n",
      "2          False                   False       False         False   \n",
      "3          False                   False       False         False   \n",
      "4           True                   False       False          True   \n",
      "5          False                   False       False         False   \n",
      "6          False                   False       False         False   \n",
      "7          False                   False       False         False   \n",
      "8          False                   False       False         False   \n",
      "9          False                   False       False         False   \n",
      "10         False                   False       False         False   \n",
      "11         False                   False       False         False   \n",
      "12         False                   False       False         False   \n",
      "13         False                   False       False         False   \n",
      "14         False                   False       False         False   \n",
      "15         False                   False       False         False   \n",
      "16         False                   False       False         False   \n",
      "17         False                   False       False         False   \n",
      "18         False                   False       False         False   \n",
      "19         False                   False       False         False   \n",
      "20         False                   False       False         False   \n",
      "21         False                   False       False         False   \n",
      "22         False                   False       False         False   \n",
      "23         False                   False       False         False   \n",
      "24         False                   False       False         False   \n",
      "25         False                   False       False         False   \n",
      "26         False                   False       False         False   \n",
      "27         False                   False       False         False   \n",
      "28         False                   False       False         False   \n",
      "29         False                   False       False         False   \n",
      "...          ...                     ...         ...           ...   \n",
      "5013       False                   False       False         False   \n",
      "5014       False                   False       False         False   \n",
      "5015       False                   False       False         False   \n",
      "5016       False                   False       False          True   \n",
      "5017       False                   False       False         False   \n",
      "5018       False                   False       False         False   \n",
      "5019       False                   False       False         False   \n",
      "5020       False                   False       False          True   \n",
      "5021       False                   False       False          True   \n",
      "5022       False                   False       False          True   \n",
      "5023       False                   False       False         False   \n",
      "5024       False                   False       False         False   \n",
      "5025       False                   False       False         False   \n",
      "5026       False                   False       False         False   \n",
      "5027       False                   False       False         False   \n",
      "5028       False                   False       False         False   \n",
      "5029       False                   False       False         False   \n",
      "5030       False                   False       False          True   \n",
      "5031       False                   False       False         False   \n",
      "5032       False                   False       False          True   \n",
      "5033       False                   False       False         False   \n",
      "5034       False                   False       False          True   \n",
      "5035       False                   False       False         False   \n",
      "5036       False                   False       False          True   \n",
      "5037       False                   False       False          True   \n",
      "5038       False                   False       False          True   \n",
      "5039        True                   False       False         False   \n",
      "5040       False                   False       False          True   \n",
      "5041       False                   False       False         False   \n",
      "5042       False                   False       False         False   \n",
      "\n",
      "      movie_facebook_likes  \n",
      "0                    False  \n",
      "1                    False  \n",
      "2                    False  \n",
      "3                    False  \n",
      "4                    False  \n",
      "5                    False  \n",
      "6                    False  \n",
      "7                    False  \n",
      "8                    False  \n",
      "9                    False  \n",
      "10                   False  \n",
      "11                   False  \n",
      "12                   False  \n",
      "13                   False  \n",
      "14                   False  \n",
      "15                   False  \n",
      "16                   False  \n",
      "17                   False  \n",
      "18                   False  \n",
      "19                   False  \n",
      "20                   False  \n",
      "21                   False  \n",
      "22                   False  \n",
      "23                   False  \n",
      "24                   False  \n",
      "25                   False  \n",
      "26                   False  \n",
      "27                   False  \n",
      "28                   False  \n",
      "29                   False  \n",
      "...                    ...  \n",
      "5013                 False  \n",
      "5014                 False  \n",
      "5015                 False  \n",
      "5016                 False  \n",
      "5017                 False  \n",
      "5018                 False  \n",
      "5019                 False  \n",
      "5020                 False  \n",
      "5021                 False  \n",
      "5022                 False  \n",
      "5023                 False  \n",
      "5024                 False  \n",
      "5025                 False  \n",
      "5026                 False  \n",
      "5027                 False  \n",
      "5028                 False  \n",
      "5029                 False  \n",
      "5030                 False  \n",
      "5031                 False  \n",
      "5032                 False  \n",
      "5033                 False  \n",
      "5034                 False  \n",
      "5035                 False  \n",
      "5036                 False  \n",
      "5037                 False  \n",
      "5038                 False  \n",
      "5039                 False  \n",
      "5040                 False  \n",
      "5041                 False  \n",
      "5042                 False  \n",
      "\n",
      "[5043 rows x 28 columns]\n"
     ]
    }
   ],
   "source": [
    "print(\"null values: \\n\")\n",
    "print(movies_df.isna())"
   ]
  },
  {
   "cell_type": "code",
   "execution_count": 129,
   "metadata": {},
   "outputs": [
    {
     "name": "stdout",
     "output_type": "stream",
     "text": [
      "color                         19\n",
      "director_name                104\n",
      "num_critic_for_reviews        50\n",
      "duration                      15\n",
      "director_facebook_likes      104\n",
      "actor_3_facebook_likes        23\n",
      "actor_2_name                  13\n",
      "actor_1_facebook_likes         7\n",
      "gross                        884\n",
      "genres                         0\n",
      "actor_1_name                   7\n",
      "movie_title                    0\n",
      "num_voted_users                0\n",
      "cast_total_facebook_likes      0\n",
      "actor_3_name                  23\n",
      "facenumber_in_poster          13\n",
      "plot_keywords                153\n",
      "movie_imdb_link                0\n",
      "num_user_for_reviews          21\n",
      "language                      12\n",
      "country                        5\n",
      "content_rating               303\n",
      "budget                       492\n",
      "title_year                   108\n",
      "actor_2_facebook_likes        13\n",
      "imdb_score                     0\n",
      "aspect_ratio                 329\n",
      "movie_facebook_likes           0\n",
      "dtype: int64\n"
     ]
    }
   ],
   "source": [
    "print(movies_df.isna().sum())"
   ]
  },
  {
   "cell_type": "code",
   "execution_count": 130,
   "metadata": {},
   "outputs": [
    {
     "name": "stdout",
     "output_type": "stream",
     "text": [
      "total null values:  2698\n"
     ]
    }
   ],
   "source": [
    "print(\"total null values: \", movies_df.isna().sum().sum())"
   ]
  },
  {
   "cell_type": "markdown",
   "metadata": {},
   "source": [
    "## Drop Missing Data\n",
    "So dropping rows containing NA values in any of the columns resulted in almost 1300 rows reduction. This can be important for data-sets with less number of rows where dropping all rows with any missing value can cost us losing necessary information."
   ]
  },
  {
   "cell_type": "code",
   "execution_count": 131,
   "metadata": {},
   "outputs": [
    {
     "name": "stdout",
     "output_type": "stream",
     "text": [
      "new dataframe shape:  (3756, 28)\n",
      "old dataframe shape:  (5043, 28)\n"
     ]
    }
   ],
   "source": [
    "clean_movies_df = movies_df.dropna(how='any')\n",
    "\n",
    "print(\"new dataframe shape: \", clean_movies_df.shape)\n",
    "print(\"old dataframe shape: \", movies_df.shape)"
   ]
  },
  {
   "cell_type": "markdown",
   "metadata": {},
   "source": [
    "## Fill Missing Data\n",
    "Fill data with Zero's or another value"
   ]
  },
  {
   "cell_type": "code",
   "execution_count": 132,
   "metadata": {},
   "outputs": [
    {
     "name": "stdout",
     "output_type": "stream",
     "text": [
      "total null values:  0\n"
     ]
    }
   ],
   "source": [
    "movies_df_tmp = movies_df.copy()\n",
    "movies_df_tmp.fillna(value=0, inplace = True)\n",
    "print(\"total null values: \", movies_df_tmp.isna().sum().sum())"
   ]
  },
  {
   "cell_type": "markdown",
   "metadata": {},
   "source": [
    "Fill Specific Coloumns"
   ]
  },
  {
   "cell_type": "code",
   "execution_count": 133,
   "metadata": {},
   "outputs": [
    {
     "name": "stdout",
     "output_type": "stream",
     "text": [
      "total null values:  1322\n"
     ]
    }
   ],
   "source": [
    "movies_df_tmp = movies_df.copy()\n",
    "movies_df_tmp[['gross', 'budget']] = movies_df_tmp[['gross', 'budget']].fillna(value=0)\n",
    "print(\"total null values: \", movies_df_tmp.isna().sum().sum())"
   ]
  },
  {
   "cell_type": "markdown",
   "metadata": {},
   "source": [
    "For columns with ‘object’ dtypes, for example ‘language’ column, we can use some words like “no info” to fill up the missing entries."
   ]
  },
  {
   "cell_type": "code",
   "execution_count": 134,
   "metadata": {},
   "outputs": [
    {
     "name": "stdout",
     "output_type": "stream",
     "text": [
      "total null values:  1310\n"
     ]
    }
   ],
   "source": [
    "movies_df_tmp['language'].fillna(\"no info\", inplace=True)\n",
    "print(\"total null values: \", movies_df_tmp.isna().sum().sum())"
   ]
  },
  {
   "cell_type": "markdown",
   "metadata": {},
   "source": []
  },
  {
   "cell_type": "markdown",
   "metadata": {},
   "source": [
    "### Fill with ffill\n",
    "Another method to fill the missing value could be ffill method, which propagates last valid observation to the next. Similarly bfill method uses next observation to fill gap."
   ]
  },
  {
   "cell_type": "code",
   "execution_count": 135,
   "metadata": {},
   "outputs": [
    {
     "name": "stdout",
     "output_type": "stream",
     "text": [
      "total null values:  2686\n"
     ]
    }
   ],
   "source": [
    "movies_df_tmp = movies_df.copy()\n",
    "movies_df_tmp['language'].fillna(method='ffill', inplace=True)\n",
    "print(\"total null values: \", movies_df_tmp.isna().sum().sum())"
   ]
  },
  {
   "cell_type": "markdown",
   "metadata": {},
   "source": [
    "### Fill with Mean values"
   ]
  },
  {
   "cell_type": "code",
   "execution_count": 136,
   "metadata": {},
   "outputs": [
    {
     "name": "stdout",
     "output_type": "stream",
     "text": [
      "total null values:  2206\n"
     ]
    }
   ],
   "source": [
    "movies_df_tmp = movies_df.copy()\n",
    "movies_df_tmp['budget'].fillna(movies_df_tmp['budget'].mean(), inplace=True)\n",
    "print(\"total null values: \", movies_df_tmp.isna().sum().sum())"
   ]
  },
  {
   "cell_type": "markdown",
   "metadata": {},
   "source": [
    "## Duplicated Data\n",
    "https://pandas.pydata.org/pandas-docs/stable/reference/api/pandas.DataFrame.duplicated.html\n",
    "### For all coloums"
   ]
  },
  {
   "cell_type": "code",
   "execution_count": 137,
   "metadata": {},
   "outputs": [
    {
     "name": "stdout",
     "output_type": "stream",
     "text": [
      "number of duplicate rows:  (45, 28)\n"
     ]
    }
   ],
   "source": [
    "duplicate_rows_df = movies_df[movies_df.duplicated()]\n",
    "print(\"number of duplicate rows: \", duplicate_rows_df.shape)"
   ]
  },
  {
   "cell_type": "markdown",
   "metadata": {},
   "source": [
    "### For specific coloums"
   ]
  },
  {
   "cell_type": "code",
   "execution_count": 138,
   "metadata": {},
   "outputs": [
    {
     "name": "stdout",
     "output_type": "stream",
     "text": [
      "(124, 28)\n"
     ]
    }
   ],
   "source": [
    "duplicated_rows_df_imdb_link= movies_df[movies_df.duplicated(['movie_imdb_link'])]\n",
    "\n",
    "print(duplicated_rows_df_imdb_link.shape)"
   ]
  },
  {
   "cell_type": "markdown",
   "metadata": {},
   "source": [
    "### Check for unique values\n",
    "https://pandas.pydata.org/pandas-docs/stable/reference/api/pandas.Series.unique.html"
   ]
  },
  {
   "cell_type": "code",
   "execution_count": 139,
   "metadata": {},
   "outputs": [
    {
     "name": "stdout",
     "output_type": "stream",
     "text": [
      "4919\n"
     ]
    }
   ],
   "source": [
    "print(len(movies_df.movie_imdb_link.unique()))"
   ]
  },
  {
   "cell_type": "markdown",
   "metadata": {},
   "source": [
    "### Drop Duplicates\n",
    "https://pandas.pydata.org/pandas-docs/stable/reference/api/pandas.DataFrame.drop_duplicates.html"
   ]
  },
  {
   "cell_type": "code",
   "execution_count": 140,
   "metadata": {},
   "outputs": [
    {
     "name": "stdout",
     "output_type": "stream",
     "text": [
      "shape of dataframe after dropping duplicates (4998, 28)\n"
     ]
    }
   ],
   "source": [
    "print(\"shape of dataframe after dropping duplicates\", movies_df.drop_duplicates().shape)"
   ]
  },
  {
   "cell_type": "markdown",
   "metadata": {},
   "source": [
    "## Data Binding\n",
    "Another very important data processing technique is data bucketing or data binning. We will see an example here with binning IMDb-score using pandas.cut() method. Based on the score [0.,4., 7., 10.], I want to put movies in different buckets [‘shyyyte’, ‘moderate’, ‘good’]. As you can understand movies with score between 0–4 will be put into the ‘shyyyte’ bucket and so on. We can do this with the following lines of code\n",
    "\n",
    "https://pandas.pydata.org/pandas-docs/version/0.23.4/generated/pandas.cut.html"
   ]
  },
  {
   "cell_type": "code",
   "execution_count": 141,
   "metadata": {},
   "outputs": [
    {
     "name": "stdout",
     "output_type": "stream",
     "text": [
      "                             movie_title  imdb_score imdb_labels\n",
      "209                               Rio 2          6.4    moderate\n",
      "210                             X-Men 2          7.5        good\n",
      "211                           Fast Five          7.3        good\n",
      "212  Sherlock Holmes: A Game of Shadows          7.5        good\n",
      "213                 Clash of the Titans          5.8    moderate\n",
      "214                        Total Recall          7.5        good\n",
      "215                    The 13th Warrior          6.6    moderate\n",
      "216                   The Bourne Legacy          6.7    moderate\n",
      "217                      Batman & Robin          3.7     shyttte\n",
      "218      How the Grinch Stole Christmas          6.0    moderate\n",
      "219              The Day After Tomorrow          6.4    moderate\n"
     ]
    }
   ],
   "source": [
    "op_labels = ['shyttte', 'moderate', 'good']\n",
    "category = [0.,4.,7.,10.]\n",
    "\n",
    "movies_df['imdb_labels'] = pd.cut(movies_df['imdb_score'], labels=op_labels, bins=category, include_lowest=False)\n",
    "print(movies_df[['movie_title', 'imdb_score', 'imdb_labels']][209:220])"
   ]
  },
  {
   "cell_type": "markdown",
   "metadata": {},
   "source": [
    "## Outliers Detection\n",
    "Most of the times for Exploratory Data Analysis (EDA), outlier detection is an important segment, as, outlier for particular features may distort the true picture, so we need to disregard them. Specifically, outliers can play havoc when we want to apply machine learning algorithm for prediction. At the same time outliers can even help us for anomaly detection. So let’s see how we can use Pandas to detect outliers in this particular data-frame."
   ]
  },
  {
   "cell_type": "code",
   "execution_count": 142,
   "metadata": {},
   "outputs": [
    {
     "data": {
      "image/png": "[encoded data removed]",
      "text/plain": [
       "<Figure size 432x288 with 1 Axes>"
      ]
     },
     "metadata": {},
     "output_type": "display_data"
    }
   ],
   "source": [
    "sns.boxplot(x=movies_df['facenumber_in_poster'], color='lime')\n",
    "plt.xlabel('No. of Actors Featured in Poster', fontsize=14)\n",
    "plt.show()"
   ]
  },
  {
   "cell_type": "markdown",
   "metadata": {},
   "source": [
    "See title with maximum number of actors"
   ]
  },
  {
   "cell_type": "code",
   "execution_count": 143,
   "metadata": {},
   "outputs": [
    {
     "name": "stdout",
     "output_type": "stream",
     "text": [
      "movie_title             500 Days of Summer \n",
      "facenumber_in_poster                     43\n",
      "Name: 3468, dtype: object\n"
     ]
    }
   ],
   "source": [
    "print(movies_df[['movie_title', 'facenumber_in_poster']].iloc[movies_df['facenumber_in_poster'].idxmax()])"
   ]
  },
  {
   "cell_type": "markdown",
   "metadata": {},
   "source": [
    "Let’s see a basic statistical details of this column ‘facenumber_in_poster’ with [pandas.DataFrame.describe()](https://pandas.pydata.org/pandas-docs/stable/reference/api/pandas.DataFrame.describe.html) method."
   ]
  },
  {
   "cell_type": "code",
   "execution_count": 144,
   "metadata": {},
   "outputs": [
    {
     "name": "stdout",
     "output_type": "stream",
     "text": [
      "count    5030.000000\n",
      "mean        1.371173\n",
      "std         2.013576\n",
      "min         0.000000\n",
      "25%         0.000000\n",
      "50%         1.000000\n",
      "75%         2.000000\n",
      "max        43.000000\n",
      "Name: facenumber_in_poster, dtype: float64\n"
     ]
    }
   ],
   "source": [
    "print(movies_df['facenumber_in_poster'].describe())"
   ]
  },
  {
   "cell_type": "markdown",
   "metadata": {},
   "source": [
    "### Z-Score\n",
    "Z score is a number (dimensionless) that signifies how much standard deviation a data point is, from the mean. Z score simply can be defined as —\n",
    "\n",
    "Z =(X-μ)/σ, where μ is the population mean and σ is the standard deviation, X is one element in the population."
   ]
  },
  {
   "cell_type": "markdown",
   "metadata": {},
   "source": [
    "1. Check the data types of all column in the data-frame\n",
    "\n",
    "[DataFrame.dtypes](https://pandas.pydata.org/pandas-docs/stable/reference/api/pandas.DataFrame.dtypes.html)"
   ]
  },
  {
   "cell_type": "code",
   "execution_count": 145,
   "metadata": {},
   "outputs": [
    {
     "name": "stdout",
     "output_type": "stream",
     "text": [
      "data types: \n",
      " color                          object\n",
      "director_name                  object\n",
      "num_critic_for_reviews        float64\n",
      "duration                      float64\n",
      "director_facebook_likes       float64\n",
      "actor_3_facebook_likes        float64\n",
      "actor_2_name                   object\n",
      "actor_1_facebook_likes        float64\n",
      "gross                         float64\n",
      "genres                         object\n",
      "actor_1_name                   object\n",
      "movie_title                    object\n",
      "num_voted_users                 int64\n",
      "cast_total_facebook_likes       int64\n",
      "actor_3_name                   object\n",
      "facenumber_in_poster          float64\n",
      "plot_keywords                  object\n",
      "movie_imdb_link                object\n",
      "num_user_for_reviews          float64\n",
      "language                       object\n",
      "country                        object\n",
      "content_rating                 object\n",
      "budget                        float64\n",
      "title_year                    float64\n",
      "actor_2_facebook_likes        float64\n",
      "imdb_score                    float64\n",
      "aspect_ratio                  float64\n",
      "movie_facebook_likes            int64\n",
      "imdb_labels                  category\n",
      "dtype: object\n"
     ]
    }
   ],
   "source": [
    "print(\"data types: \\n\", movies_df.dtypes)"
   ]
  },
  {
   "cell_type": "markdown",
   "metadata": {},
   "source": [
    "2. Create a new data-frame excluding all the ‘object’ types column\n",
    "\n",
    "[DataFrame.select_dtypes](https://pandas.pydata.org/pandas-docs/stable/reference/api/pandas.DataFrame.select_dtypes.html)"
   ]
  },
  {
   "cell_type": "code",
   "execution_count": 150,
   "metadata": {},
   "outputs": [
    {
     "name": "stdout",
     "output_type": "stream",
     "text": [
      "shape before : (5043, 29)\n",
      "shape after excluding object columns:  (5043, 17)\n"
     ]
    }
   ],
   "source": [
    "print(\"shape before :\", movies_df.shape)\n",
    "\n",
    "movies_df_num = movies_df.select_dtypes(exclude=['object'])\n",
    "\n",
    "print(\"shape after excluding object columns: \", movies_df_num.shape)"
   ]
  },
  {
   "cell_type": "markdown",
   "metadata": {},
   "source": [
    "3. Select elements from each column that lie within 3 units of Z score"
   ]
  },
  {
   "cell_type": "code",
   "execution_count": 153,
   "metadata": {},
   "outputs": [
    {
     "ename": "TypeError",
     "evalue": "unsupported operand type(s) for /: 'str' and 'int'",
     "output_type": "error",
     "traceback": [
      "\u001b[0;31m---------------------------------------------------------------------------\u001b[0m",
      "\u001b[0;31mTypeError\u001b[0m                                 Traceback (most recent call last)",
      "\u001b[0;32m<ipython-input-153-b1492e813bf2>\u001b[0m in \u001b[0;36m<module>\u001b[0;34m()\u001b[0m\n\u001b[1;32m      1\u001b[0m \u001b[0;32mfrom\u001b[0m \u001b[0mscipy\u001b[0m \u001b[0;32mimport\u001b[0m \u001b[0mstats\u001b[0m\u001b[0;34m\u001b[0m\u001b[0;34m\u001b[0m\u001b[0m\n\u001b[0;32m----> 2\u001b[0;31m \u001b[0mmovies_df_Zscore\u001b[0m \u001b[0;34m=\u001b[0m \u001b[0mmovies_df_num\u001b[0m\u001b[0;34m[\u001b[0m\u001b[0;34m(\u001b[0m\u001b[0mnp\u001b[0m\u001b[0;34m.\u001b[0m\u001b[0mabs\u001b[0m\u001b[0;34m(\u001b[0m\u001b[0mstats\u001b[0m\u001b[0;34m.\u001b[0m\u001b[0mzscore\u001b[0m\u001b[0;34m(\u001b[0m\u001b[0mmovies_df_num\u001b[0m\u001b[0;34m)\u001b[0m\u001b[0;34m)\u001b[0m\u001b[0;34m<\u001b[0m\u001b[0;36m3\u001b[0m\u001b[0;34m)\u001b[0m\u001b[0;34m.\u001b[0m\u001b[0mall\u001b[0m\u001b[0;34m(\u001b[0m\u001b[0maxis\u001b[0m\u001b[0;34m=\u001b[0m\u001b[0;36m1\u001b[0m\u001b[0;34m)\u001b[0m\u001b[0;34m]\u001b[0m\u001b[0;34m\u001b[0m\u001b[0;34m\u001b[0m\u001b[0m\n\u001b[0m\u001b[1;32m      3\u001b[0m \u001b[0mprint\u001b[0m\u001b[0;34m(\u001b[0m\u001b[0;34m\"shape after rejecting outliers: \"\u001b[0m\u001b[0;34m,\u001b[0m \u001b[0mmovies_df_Zscore\u001b[0m\u001b[0;34m.\u001b[0m\u001b[0mshape\u001b[0m\u001b[0;34m)\u001b[0m\u001b[0;34m\u001b[0m\u001b[0;34m\u001b[0m\u001b[0m\n",
      "\u001b[0;32m~/anaconda3/lib/python3.6/site-packages/scipy/stats/stats.py\u001b[0m in \u001b[0;36mzscore\u001b[0;34m(a, axis, ddof)\u001b[0m\n\u001b[1;32m   2245\u001b[0m     \"\"\"\n\u001b[1;32m   2246\u001b[0m     \u001b[0ma\u001b[0m \u001b[0;34m=\u001b[0m \u001b[0mnp\u001b[0m\u001b[0;34m.\u001b[0m\u001b[0masanyarray\u001b[0m\u001b[0;34m(\u001b[0m\u001b[0ma\u001b[0m\u001b[0;34m)\u001b[0m\u001b[0;34m\u001b[0m\u001b[0;34m\u001b[0m\u001b[0m\n\u001b[0;32m-> 2247\u001b[0;31m     \u001b[0mmns\u001b[0m \u001b[0;34m=\u001b[0m \u001b[0ma\u001b[0m\u001b[0;34m.\u001b[0m\u001b[0mmean\u001b[0m\u001b[0;34m(\u001b[0m\u001b[0maxis\u001b[0m\u001b[0;34m=\u001b[0m\u001b[0maxis\u001b[0m\u001b[0;34m)\u001b[0m\u001b[0;34m\u001b[0m\u001b[0;34m\u001b[0m\u001b[0m\n\u001b[0m\u001b[1;32m   2248\u001b[0m     \u001b[0msstd\u001b[0m \u001b[0;34m=\u001b[0m \u001b[0ma\u001b[0m\u001b[0;34m.\u001b[0m\u001b[0mstd\u001b[0m\u001b[0;34m(\u001b[0m\u001b[0maxis\u001b[0m\u001b[0;34m=\u001b[0m\u001b[0maxis\u001b[0m\u001b[0;34m,\u001b[0m \u001b[0mddof\u001b[0m\u001b[0;34m=\u001b[0m\u001b[0mddof\u001b[0m\u001b[0;34m)\u001b[0m\u001b[0;34m\u001b[0m\u001b[0;34m\u001b[0m\u001b[0m\n\u001b[1;32m   2249\u001b[0m     \u001b[0;32mif\u001b[0m \u001b[0maxis\u001b[0m \u001b[0;32mand\u001b[0m \u001b[0mmns\u001b[0m\u001b[0;34m.\u001b[0m\u001b[0mndim\u001b[0m \u001b[0;34m<\u001b[0m \u001b[0ma\u001b[0m\u001b[0;34m.\u001b[0m\u001b[0mndim\u001b[0m\u001b[0;34m:\u001b[0m\u001b[0;34m\u001b[0m\u001b[0;34m\u001b[0m\u001b[0m\n",
      "\u001b[0;32m~/anaconda3/lib/python3.6/site-packages/numpy/core/_methods.py\u001b[0m in \u001b[0;36m_mean\u001b[0;34m(a, axis, dtype, out, keepdims)\u001b[0m\n\u001b[1;32m     71\u001b[0m     \u001b[0;32mif\u001b[0m \u001b[0misinstance\u001b[0m\u001b[0;34m(\u001b[0m\u001b[0mret\u001b[0m\u001b[0;34m,\u001b[0m \u001b[0mmu\u001b[0m\u001b[0;34m.\u001b[0m\u001b[0mndarray\u001b[0m\u001b[0;34m)\u001b[0m\u001b[0;34m:\u001b[0m\u001b[0;34m\u001b[0m\u001b[0;34m\u001b[0m\u001b[0m\n\u001b[1;32m     72\u001b[0m         ret = um.true_divide(\n\u001b[0;32m---> 73\u001b[0;31m                 ret, rcount, out=ret, casting='unsafe', subok=False)\n\u001b[0m\u001b[1;32m     74\u001b[0m         \u001b[0;32mif\u001b[0m \u001b[0mis_float16_result\u001b[0m \u001b[0;32mand\u001b[0m \u001b[0mout\u001b[0m \u001b[0;32mis\u001b[0m \u001b[0;32mNone\u001b[0m\u001b[0;34m:\u001b[0m\u001b[0;34m\u001b[0m\u001b[0;34m\u001b[0m\u001b[0m\n\u001b[1;32m     75\u001b[0m             \u001b[0mret\u001b[0m \u001b[0;34m=\u001b[0m \u001b[0marr\u001b[0m\u001b[0;34m.\u001b[0m\u001b[0mdtype\u001b[0m\u001b[0;34m.\u001b[0m\u001b[0mtype\u001b[0m\u001b[0;34m(\u001b[0m\u001b[0mret\u001b[0m\u001b[0;34m)\u001b[0m\u001b[0;34m\u001b[0m\u001b[0;34m\u001b[0m\u001b[0m\n",
      "\u001b[0;31mTypeError\u001b[0m: unsupported operand type(s) for /: 'str' and 'int'"
     ]
    }
   ],
   "source": [
    "from scipy import stats\n",
    "movies_df_Zscore = movies_df_num[(np.abs(stats.zscore(movies_df_num))<3).all(axis=1)]\n",
    "print(\"shape after rejecting outliers: \", movies_df_Zscore.shape)"
   ]
  },
  {
   "cell_type": "code",
   "execution_count": null,
   "metadata": {},
   "outputs": [],
   "source": []
  }
 ],
 "metadata": {
  "kernelspec": {
   "display_name": "Python 3",
   "language": "python",
   "name": "python3"
  },
  "language_info": {
   "codemirror_mode": {
    "name": "ipython",
    "version": 3
   },
   "file_extension": ".py",
   "mimetype": "text/x-python",
   "name": "python",
   "nbconvert_exporter": "python",
   "pygments_lexer": "ipython3",
   "version": "3.6.8"
  }
 },
 "nbformat": 4,
 "nbformat_minor": 2
}
