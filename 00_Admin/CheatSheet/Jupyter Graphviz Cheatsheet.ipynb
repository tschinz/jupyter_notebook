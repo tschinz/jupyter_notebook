{
 "cells": [
  {
   "cell_type": "markdown",
   "metadata": {},
   "source": [
    "# Jupyter Graphviz\n",
    "How to display inline graphviz diagrams"
   ]
  },
  {
   "cell_type": "markdown",
   "metadata": {},
   "source": [
    "# Setup"
   ]
  },
  {
   "cell_type": "code",
   "execution_count": 1,
   "metadata": {},
   "outputs": [],
   "source": [
    "from IPython.display import display, update_display\n",
    "\n",
    "def display_graphviz(dot, mimetype=\"text/vnd.graphviz\", **kwargs):\n",
    "    \"\"\" Send some DOT to the frontend\n",
    "    \n",
    "    Get a handle to update later by calling `display_graphviz` with `display_id=True` \n",
    "    \"\"\"\n",
    "    return display({mimetype: dot}, raw=True, **kwargs)\n",
    "\n",
    "def update_graphviz(dot, handle, mimetype=\"text/vnd.graphviz\", **kwargs):\n",
    "    \"\"\" Update an already-displayed DOT\n",
    "    \"\"\"\n",
    "    update_display({mimetype: dot}, display_id=handle.display_id, raw=True, **kwargs)\n",
    "from IPython.core.magic import register_line_cell_magic\n",
    "\n",
    "@register_line_cell_magic(\"graphviz\")\n",
    "def graphviz_magic(line, cell=None):\n",
    "    display_graphviz(cell if cell else line)"
   ]
  },
  {
   "cell_type": "markdown",
   "metadata": {},
   "source": [
    "# Usage"
   ]
  },
  {
   "cell_type": "code",
   "execution_count": 3,
   "metadata": {},
   "outputs": [],
   "source": [
    "graph = \"\"\"graph G { layout=dot A -- B}\"\"\"\n",
    "digraph = \"\"\"digraph G { layout=neato A -> B}\"\"\""
   ]
  },
  {
   "cell_type": "code",
   "execution_count": null,
   "metadata": {},
   "outputs": [],
   "source": []
  }
 ],
 "metadata": {
  "kernelspec": {
   "display_name": "Python 3",
   "language": "python",
   "name": "python3"
  },
  "language_info": {
   "codemirror_mode": {
    "name": "ipython",
    "version": 3
   },
   "file_extension": ".py",
   "mimetype": "text/x-python",
   "name": "python",
   "nbconvert_exporter": "python",
   "pygments_lexer": "ipython3",
   "version": "3.7.3"
  }
 },
 "nbformat": 4,
 "nbformat_minor": 2
}
