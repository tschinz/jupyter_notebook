{
 "cells": [
  {
   "cell_type": "markdown",
   "metadata": {},
   "source": [
    "# Jupyterlab Keyboard Shortcut CheatSheet\n",
    "### List possible Keybaord Shortcut Commands\n",
    "Can be found in `jupyterlab/packages/notebook-extension/src/index.ts`"
   ]
  },
  {
   "cell_type": "raw",
   "metadata": {},
   "source": [
    " namespace CommandIDs { \n",
    "   export const createNew              = 'notebook:create-new'; \n",
    "   export const interrupt              = 'notebook:interrupt-kernel'; \n",
    "   export const restart                = 'notebook:restart-kernel'; \n",
    "   export const changeKernel           = 'notebook:change-kernel'; \n",
    "   export const createConsole          = 'notebook:create-console'; \n",
    "   export const createOutputView       = 'notebook:create-output-view'; \n",
    "   export const clearAllOutputs        = 'notebook:clear-all-cell-outputs'; \n",
    "   export const closeAndShutdown       = 'notebook:close-and-shutdown'; \n",
    "   export const trust                  = 'notebook:trust'; \n",
    "   export const exportToFormat         = 'notebook:export-to-format'; \n",
    "   export const run                    = 'notebook:run-cell'; \n",
    "   export const runAndAdvance          = 'notebook:run-cell-and-select-next'; \n",
    "   export const runAndInsert           = 'notebook:run-cell-and-insert-below'; \n",
    "   export const runInConsole           = 'notebook:run-in-console'; \n",
    "   export const runAll                 = 'notebook:run-all-cells'; \n",
    "   export const runAllAbove            = 'notebook:run-all-above'; \n",
    "   export const runAllBelow            = 'notebook:run-all-below'; \n",
    "   export const toCode                 = 'notebook:change-cell-to-code'; \n",
    "   export const toMarkdown             = 'notebook:change-cell-to-markdown'; \n",
    "   export const toRaw                  = 'notebook:change-cell-to-raw'; \n",
    "   export const cut                    = 'notebook:cut-cell'; \n",
    "   export const copy                   = 'notebook:copy-cell'; \n",
    "   export const pasteAbove             = 'notebook:paste-cell-above'; \n",
    "   export const pasteBelow             = 'notebook:paste-cell-below'; \n",
    "   export const pasteAndReplace        = 'notebook:paste-and-replace-cell'; \n",
    "   export const moveUp                 = 'notebook:move-cell-up'; \n",
    "   export const moveDown               = 'notebook:move-cell-down'; \n",
    "   export const clearOutputs           = 'notebook:clear-cell-output'; \n",
    "   export const deleteCell             = 'notebook:delete-cell'; \n",
    "   export const insertAbove            = 'notebook:insert-cell-above'; \n",
    "   export const insertBelow            = 'notebook:insert-cell-below'; \n",
    "   export const selectAbove            = 'notebook:move-cursor-up'; \n",
    "   export const selectBelow            = 'notebook:move-cursor-down'; \n",
    "   export const extendAbove            = 'notebook:extend-marked-cells-above'; \n",
    "   export const extendBelow            = 'notebook:extend-marked-cells-below'; \n",
    "   export const selectAll              = 'notebook:select-all'; \n",
    "   export const deselectAll            = 'notebook:deselect-all'; \n",
    "   export const editMode               = 'notebook:enter-edit-mode'; \n",
    "   export const merge                  = 'notebook:merge-cells'; \n",
    "   export const split                  = 'notebook:split-cell-at-cursor'; \n",
    "   export const commandMode            = 'notebook:enter-command-mode'; \n",
    "   export const toggleAllLines         = 'notebook:toggle-all-cell-line-numbers'; \n",
    "   export const undoCellAction         = 'notebook:undo-cell-action'; \n",
    "   export const redoCellAction         = 'notebook:redo-cell-action'; \n",
    "   export const markdown1              = 'notebook:change-cell-to-heading-1'; \n",
    "   export const markdown2              = 'notebook:change-cell-to-heading-2'; \n",
    "   export const markdown3              = 'notebook:change-cell-to-heading-3'; \n",
    "   export const markdown4              = 'notebook:change-cell-to-heading-4'; \n",
    "   export const markdown5              = 'notebook:change-cell-to-heading-5'; \n",
    "   export const markdown6              = 'notebook:change-cell-to-heading-6'; \n",
    "   export const hideCode               = 'notebook:hide-cell-code'; \n",
    "   export const showCode               = 'notebook:show-cell-code'; \n",
    "   export const hideAllCode            = 'notebook:hide-all-cell-code'; \n",
    "   export const showAllCode            = 'notebook:show-all-cell-code'; \n",
    "   export const hideOutput             = 'notebook:hide-cell-outputs'; \n",
    "   export const showOutput             = 'notebook:show-cell-outputs'; \n",
    "   export const hideAllOutputs         = 'notebook:hide-all-cell-outputs'; \n",
    "   export const showAllOutputs         = 'notebook:show-all-cell-outputs'; \n",
    "   export const enableOutputScrolling  = 'notebook:enable-output-scrolling'; \n",
    "   export const disableOutputScrolling = 'notebook:disable-output-scrolling'; \n",
    "   export const saveWithView           = 'notebook:save-with-view'; \n",
    "} "
   ]
  },
  {
   "cell_type": "markdown",
   "metadata": {},
   "source": [
    "## Override Example"
   ]
  },
  {
   "cell_type": "raw",
   "metadata": {},
   "source": [
    "{\n",
    "   \"notebook:run-all-below\": {\n",
    "      \"command\": \"notebook:run-all-below\",\n",
    "      \"keys\": [\n",
    "        \"Shift D\"\n",
    "      ],\n",
    "      \"selector\": \".jp-Notebook:focus\",\n",
    "      \"title\": \"Run All Below\",\n",
    "      \"category\": \"Notebook Cell Operations\"\n",
    "    }\n",
    "}"
   ]
  },
  {
   "cell_type": "markdown",
   "metadata": {},
   "source": [
    "## My Overrides"
   ]
  },
  {
   "cell_type": "raw",
   "metadata": {},
   "source": [
    "{\n",
    "  \"runmenu:restart-and-run-all\": {\n",
    "    \"command\": \"runmenu:restart-and-run-all\",\n",
    "    \"keys\": [\n",
    "      \"Ctrl Shift Alt Enter\"\n",
    "    ],\n",
    "    \"selector\": \"[data-jp-code-runner]\",\n",
    "    \"title\": \"Restart Kernel and Run All\",\n",
    "    \"category\": \"Run Menu\"\n",
    "  },\n",
    "  \"runmenu:run-all\": {\n",
    "    \"command\": \"runmenu:run-all\",\n",
    "    \"keys\": [\n",
    "      \"Ctrl Shift Enter\"\n",
    "    ],\n",
    "    \"selector\": \"[data-jp-code-runner]\",\n",
    "    \"title\": \"Run All\",\n",
    "    \"category\": \"Run Menu\"\n",
    "  }\n",
    "}"
   ]
  }
 ],
 "metadata": {
  "kernelspec": {
   "display_name": "Python 3",
   "language": "python",
   "name": "python3"
  },
  "language_info": {
   "codemirror_mode": {
    "name": "ipython",
    "version": 3
   },
   "file_extension": ".py",
   "mimetype": "text/x-python",
   "name": "python",
   "nbconvert_exporter": "python",
   "pygments_lexer": "ipython3",
   "version": "3.6.5"
  }
 },
 "nbformat": 4,
 "nbformat_minor": 2
}
