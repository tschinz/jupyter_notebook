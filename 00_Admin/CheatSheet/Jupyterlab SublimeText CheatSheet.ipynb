{
 "cells": [
  {
   "cell_type": "markdown",
   "metadata": {},
   "source": [
    "# Jupyterlab SublimeText CheatSheet"
   ]
  },
  {
   "cell_type": "markdown",
   "metadata": {},
   "source": [
    "| Key                     | Sublime Function       | Notes                                              | Migrated | Extra Notes                                        |\n",
    "|-------------------------|------------------------|----------------------------------------------------|----------|----------------------------------------------------|\n",
    "| `Shift-Tab`             | indentLess             | Collide with `tooltip:launch-console`              | Yes      | Preserved when completer is on                     |\n",
    "| `Shift-Ctrl-K`          | deleteLine             | Works                                              | N/A      |                                                    |\n",
    "| `Alt-Q`                 | wrapLines              | What is this?                                      | ?        |                                                    |\n",
    "| `Ctrl-T`                | transposeChars         | What is this? Also collide with browser shortcuts. | ?        |                                                    |\n",
    "| `Alt-Left`              | goSubwordLeft          | Works                                              | N/A      |                                                    |\n",
    "| `Alt-Right`             | goSubwordRight         | Works                                              | N/A      |                                                    |\n",
    "| `Ctrl-Up`               | scrollLineUp           | Don’t need this, repurpose to add caret above.     | Yes      | Completely personal preference                     |\n",
    "| `Ctrl-Down`             | scrollLineDown         | Don’t need this, repurpose to add caret below.     | Yes      | Completely personal preference                     |\n",
    "| `Ctrl-L`                | selectLine             | Works                                              | N/A      |                                                    |\n",
    "| `Shift-Ctrl-L`          | splitSelectionByLine   | Collide with `filebrowser:create-main-launcher`    | Yes      | Overriden under editor mode                        |\n",
    "| `Esc`                   | singleSelectionTop     | Collide with `notebook:enter-command-mode-1`       | Yes      | Execute and propgate                               |\n",
    "| `Ctrl-Enter`            | insertLineAfter        | Collide with `notebook:run-cell-1`                 | Never    | This is too important a keybind to override for me |\n",
    "| `Shift-Ctrl-Enter`      | insertLineBefore       | Works                                              | N/A      |                                                    |\n",
    "| `Ctrl-D`                | selectNextOccurrence   | Works                                              | N/A      |                                                    |\n",
    "| `Shift-Ctrl-Space`      | selectScope            | Works                                              | N/A      |                                                    |\n",
    "| `Shift-Ctrl-M`          | selectBetweenBrackets  | Works                                              | N/A      |                                                    |\n",
    "| `Ctrl-M`                | goToBracket            | Collide with `notebook:enter-command-mode-2`       | Yes      | Overriden completely                               |\n",
    "| `Shift-Ctrl-Up`         | swapLineUp             | Works                                              | N/A      |                                                    |\n",
    "| `Shift-Ctrl-Down`       | swapLineDown           | Works                                              | N/A      |                                                    |\n",
    "| `Ctrl-/`                | toggleCommentIndented  | Works                                              | N/A      |                                                    |\n",
    "| `Ctrl-J`                | joinLines              | Works                                              | N/A      |                                                    |\n",
    "| `Shift-Ctrl-D`          | duplicateLine          | Collide with `application:toggle-mode`             | Yes      | Overriden under editor mode                        |\n",
    "| `F9`                    | sortLines              | Works                                              | N/A      |                                                    |\n",
    "| `Ctrl-F9`               | sortLinesInsensitive   | Works (seemingly)                                  | ?        |                                                    |\n",
    "| `F2`                    | nextBookmark           | Works, need improved visual cue.                   | Meh      |                                                    |\n",
    "| `Shift-F2`              | prevBookmark           | Works, need improved visual cue.                   | Meh      |                                                    |\n",
    "| `Ctrl-F2`               | toggleBookmark         | Works, need improved visual cue.                   | Meh      |                                                    |\n",
    "| `Shift-Ctrl-F2`         | clearBookmarks         | Works, need improved visual cue.                   | Meh      |                                                    |\n",
    "| `Alt-F2`                | selectBookmarks        | Can’t test because of my system shortcut.          | ?        |                                                    |\n",
    "| `Backspace`             | smartBackspace         | Works (seemingly – can’t tell if it’s smart)       | ?        |                                                    |\n",
    "| `Ctrl-K Ctrl-K`         | delLineRight           | Works                                              | N/A      |                                                    |\n",
    "| `Ctrl-K Ctrl-U`         | upcaseAtCursor         | Works                                              | N/A      |                                                    |\n",
    "| `Ctrl-K Ctrl-L`         | downcaseAtCursor       | Works                                              | N/A      |                                                    |\n",
    "| `Ctrl-K Ctrl-Space`     | setSublimeMark         | Works                                              | N/A      |                                                    |\n",
    "| `Ctrl-K Ctrl-A`         | selectToSublimeMark    | Works                                              | N/A      |                                                    |\n",
    "| `Ctrl-K Ctrl-W`         | deleteToSublimeMark    | Collide with broswer shortcut                      | No       |                                                    |\n",
    "| `Ctrl-K Ctrl-X`         | swapWithSublimeMark    | Works                                              | N/A      |                                                    |\n",
    "| `Ctrl-K Ctrl-Y`         | sublimeYank            | Can’t test because I can’t delete.                 | ?        |                                                    |\n",
    "| `Ctrl-K Ctrl-C`         | showInCenter           | What is this?                                      | ?        |                                                    |\n",
    "| `Ctrl-K Ctrl-G`         | clearBookmarks         | Works                                              | N/A      |                                                    |\n",
    "| `Ctrl-K Ctrl-Backspace` | delLineLeft            | Works                                              | N/A      |                                                    |\n",
    "| `Ctrl-K Ctrl-0`         | unfoldAll              | What is this?                                      | ?        |                                                    |\n",
    "| `Ctrl-K Ctrl-J`         | unfoldAll              | What is this?                                      | ?        |                                                    |\n",
    "| `Ctrl-Alt-Up`           | addCursorToPrevLine    | Can’t test because of my system shortcut.          | ?        |                                                    |\n",
    "| `Ctrl-Alt-Down`         | addCursorToNextLine    | Can’t test because of my system shortcut.          | ?        |                                                    |\n",
    "| `Ctrl-F3`               | findUnder              | Works                                              | N/A      |                                                    |\n",
    "| `Shift-Ctrl-F3`         | findUnderPrevious      | Works                                              | N/A      |                                                    |\n",
    "| `Alt-F3`                | findAllUnder           | Can’t test because of my system shortcut.          | ?        |                                                    |\n",
    "| `Shift-Ctrl-[`          | fold                   | Collide with `application:activate-previous-tab`   | No       |                                                    |\n",
    "| `Shift-Ctrl-]`          | unfold                 | Collide with `application:activate-next-tab`       | No       |                                                    |\n",
    "| `Ctrl-I`                | findIncremental        | Collide with `inspector:open`                      | No       |                                                    |\n",
    "| `Shift-Ctrl-I`          | findIncrementalReverse | Collide with broswer shortcut                      | No       |                                                    |\n",
    "| `Ctrl-H`                | replace                | Works                                              | N/A      |                                                    |\n",
    "| `F3`                    | findNext               | Works                                              | N/A      |                                                    |\n",
    "| `Shift-F3`              | findPrev               | Works                                              | N/A      |                                                    |\n"
   ]
  }
 ],
 "metadata": {
  "kernelspec": {
   "display_name": "Python 3",
   "language": "python",
   "name": "python3"
  },
  "language_info": {
   "codemirror_mode": {
    "name": "ipython",
    "version": 3
   },
   "file_extension": ".py",
   "mimetype": "text/x-python",
   "name": "python",
   "nbconvert_exporter": "python",
   "pygments_lexer": "ipython3",
   "version": "3.7.6"
  }
 },
 "nbformat": 4,
 "nbformat_minor": 4
}
