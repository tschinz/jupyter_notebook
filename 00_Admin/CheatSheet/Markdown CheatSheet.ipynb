{
 "cells": [
  {
   "cell_type": "markdown",
   "metadata": {
    "toc-hr-collapsed": false
   },
   "source": [
    "# Markdown for Jupyter Cheat Sheet\n",
    "<img src=\"../sample_files/logos/markdown.svg\" width=\"150\" />"
   ]
  },
  {
   "cell_type": "markdown",
   "metadata": {},
   "source": [
    "## Headings"
   ]
  },
  {
   "cell_type": "markdown",
   "metadata": {
    "toc-hr-collapsed": false
   },
   "source": [
    "```markdown\n",
    "# H1\n",
    "## H2\n",
    "### H3\n",
    "#### H4\n",
    "##### H5\n",
    "###### H6\n",
    "\n",
    "Alternatively, for H1 and H2, an underline-ish style:\n",
    "\n",
    "Alt-H1\n",
    "======\n",
    "\n",
    "Alt-H2\n",
    "------\n",
    "```\n",
    "---\n",
    "# H1\n",
    "## H2\n",
    "### H3\n",
    "#### H4\n",
    "##### H5\n",
    "###### H6\n",
    "\n",
    "Alternatively, for H1 and H2, an underline-ish style:\n",
    "\n",
    "Alt-H1\n",
    "======\n",
    "\n",
    "Alt-H2\n",
    "------"
   ]
  },
  {
   "cell_type": "markdown",
   "metadata": {},
   "source": [
    "## Italic / Bold / Underscore / Strikethrough"
   ]
  },
  {
   "cell_type": "markdown",
   "metadata": {},
   "source": [
    "```markdown\n",
    "* Italics: *asterisks* or _underscores_.\n",
    "* Bold: **double asterisks** or __double underscores__.\n",
    "* Combined: **asterisks and _underscores_**.\n",
    "* Strikethrough: ~~double tilde~~\n",
    "```\n",
    "---\n",
    "* Italics: *asterisks* or _underscores_.\n",
    "* Bold: **double asterisks** or __double underscores__.\n",
    "* Combined: **asterisks and _underscores_**.\n",
    "* Strikethrough: ~~double tilde~~"
   ]
  },
  {
   "cell_type": "markdown",
   "metadata": {},
   "source": [
    "## Lists"
   ]
  },
  {
   "cell_type": "markdown",
   "metadata": {},
   "source": [
    "```markdown\n",
    "1. First ordered list item\n",
    "2. Another item\n",
    "  * Unordered sub-list. \n",
    "1. Actual numbers don't matter, just that it's a number\n",
    "  1. Ordered sub-list\n",
    "4. And another item.\n",
    "\n",
    "   You can have properly indented paragraphs within list items. Notice the blank line above, and the leading spaces (at least one, but we'll use three here to also align the raw Markdown).\n",
    "\n",
    ".. To have a line break without a paragraph, you will need to use two trailing spaces...\n",
    ".. Note that this line is separate, but within the same paragraph...\n",
    ".. (This is contrary to the typical GFM line break behaviour, where trailing spaces are not required.)\n",
    "\n",
    "* Unordered list can use asterisks\n",
    "- Or minuses\n",
    "+ Or pluses\n",
    "```\n",
    "---\n",
    "1. First ordered list item\n",
    "2. Another item\n",
    "  * Unordered sub-list. \n",
    "1. Actual numbers don't matter, just that it's a number\n",
    "  1. Ordered sub-list\n",
    "4. And another item.\n",
    "\n",
    "   You can have properly indented paragraphs within list items. Notice the blank line above, and the leading spaces (at least one, but we'll use three here to also align the raw Markdown).\n",
    "\n",
    "   To have a line break without a paragraph, you will need to use two trailing spaces.  \n",
    "   Note that this line is separate, but within the same paragraph.  \n",
    "  (This is contrary to the typical GFM line break behaviour, where trailing spaces are not required.)\n",
    "\n",
    "* Unordered list can use asterisks\n",
    "- Or minuses\n",
    "+ Or pluses"
   ]
  },
  {
   "cell_type": "markdown",
   "metadata": {},
   "source": [
    "## Links"
   ]
  },
  {
   "cell_type": "markdown",
   "metadata": {},
   "source": [
    "```markdown\n",
    "* [Inline link](https://www.duckduckgo.com)\n",
    "* [Inline link with title](https://www.duckduckgo.com \"Duckduck Go Homepage\")\n",
    "* [Reference link][Case-insensitive reference text]\n",
    "* [Relative reference to a repo file](../blob/master/LICENSE)\n",
    "* [Use numbers for reference link definitions][1]\n",
    "* [link text itself for reference link definition]\n",
    "* [Notebook interlink](#Files)\n",
    "* [Link to other Notebook](Jupyter&#32;Debug&#32;CheatSheet.ipynb)\n",
    "* [Link to other Notebook Section](Jupyter&#32;Debug&#32;CheatSheet.ipynb#Interactive&#32;Python&#32;Console)\n",
    "\n",
    "*** Spaces can be used by replacing with `&#32;`***\n",
    "\n",
    "\n",
    "URLs and URLs in angle brackets will automatically get turned into links. \n",
    "http://www.example.com or <http://www.example.com>\n",
    "\n",
    "Some text to show that the reference links can follow later.\n",
    "\n",
    "[Case-insensitive reference text]: https://www.mozilla.org\n",
    "[1]: http://slashdot.org\n",
    "[link text itself]: http://www.reddit.com\n",
    "```\n",
    "---\n",
    "* [Inline link](https://www.duckduckgo.com)\n",
    "* [Inline link with title](https://www.duckduckgo.com \"Duckduck Go Homepage\")\n",
    "* [Reference link][Case-insensitive reference text]\n",
    "* [Relative reference to a repo file](../blob/master/LICENSE)\n",
    "* [Use numbers for reference link definitions][1]\n",
    "* [link text itself for reference link definition]\n",
    "* [Notebook interlink](#Files)\n",
    "* [Link to other Notebook](Jupyter&#32;Debug&#32;CheatSheet.ipynb)\n",
    "* [Link to other Notebook Section](Jupyter&#32;Debug&#32;CheatSheet.ipynb#Interactive&#32;Python&#32;Console)\n",
    "\n",
    "*** Spaces can be used by replacing with `&#32;`***\n",
    "\n",
    "\n",
    "URLs and URLs in angle brackets will automatically get turned into links. \n",
    "http://www.example.com or <http://www.example.com>\n",
    "\n",
    "Some text to show that the reference links can follow later.\n",
    "\n",
    "[Case-insensitive reference text]: https://www.mozilla.org\n",
    "[1]: http://slashdot.org\n",
    "[link text itself for reference link definition]: http://www.reddit.com"
   ]
  },
  {
   "cell_type": "markdown",
   "metadata": {},
   "source": [
    "## Files"
   ]
  },
  {
   "cell_type": "markdown",
   "metadata": {},
   "source": [
    "```markdown\n",
    "Just link to local files\n",
    "[Latex Symbols](../sample_files/Latex_Symbols.pdf)\n",
    "```\n",
    "---\n",
    "Just link to local files\n",
    "[Latex Symbols](../sample_files/Latex_Symbols.pdf)"
   ]
  },
  {
   "cell_type": "markdown",
   "metadata": {},
   "source": [
    "## Images"
   ]
  },
  {
   "cell_type": "markdown",
   "metadata": {},
   "source": [
    "```markdown\n",
    "Here is our logo (hover to see the title text):\n",
    "\n",
    "Inline-style:  \n",
    "![zawiki logo](http://relia.zapto.org/zawiki/lib/exe/fetch.php/zawiki.png \"Zawiki Logo\")\n",
    "![xkcd_estimation](../sample_files/xkcd_estimation.png)\n",
    "\n",
    "Reference-style:  \n",
    "![alt text][logo]\n",
    "\n",
    "[logo]: http://relia.zapto.org/zawiki/lib/exe/fetch.php/zawiki.png \"Logo Title Text 2\"\n",
    "\n",
    "Jupyter-style for local files:  \n",
    "<img src=\"../sample_files/xkcd_estimation.png\" />\n",
    "<img src=\"../sample_files/xkcd_estimation.png\" width=\"200\" />\n",
    "```\n",
    "---\n",
    "Here is our logo (hover to see the title text):\n",
    "\n",
    "Inline-style:  \n",
    "![zawiki logo](http://relia.zapto.org/zawiki/lib/exe/fetch.php/zawiki.png \"Zawiki Logo\")\n",
    "![xkcd_estimation](../sample_files/xkcd_estimation.png)\n",
    "\n",
    "Reference-style:  \n",
    "![alt text][logo]\n",
    "\n",
    "[logo]: http://relia.zapto.org/zawiki/lib/exe/fetch.php/zawiki.png \"Logo Title Text 2\"\n",
    "\n",
    "Jupyter-style for local files:  \n",
    "<img src=\"../sample_files/xkcd_estimation.png\" />\n",
    "<img src=\"../sample_files/xkcd_estimation.png\" width=\"200\" />"
   ]
  },
  {
   "cell_type": "markdown",
   "metadata": {},
   "source": [
    "## Videos"
   ]
  },
  {
   "cell_type": "markdown",
   "metadata": {},
   "source": [
    "```markdown\n",
    "HTML-style:  \n",
    "<a href=\"http://www.youtube.com/watch?feature=player_embedded&v=i40d8-Hu4vM\" target=\"_blank\"><img src=\"http://img.youtube.com/vi/i40d8-Hu4vM/0.jpg\" \n",
    "alt=\"Jupyter Video\" width=\"240\" height=\"180\" border=\"10\" /></a>\n",
    "\n",
    "Markdown-style:  \n",
    "[![Jupyter Video](http://img.youtube.com/vi/i40d8-Hu4vM/0.jpg)](http://www.youtube.com/watch?v=i40d8-Hu4vM)\n",
    "\n",
    "Jupyter-style for local files:  \n",
    "<video controls src=\"../sample_files/animation.m4v\" />\n",
    "```\n",
    "---\n",
    "HTML-style:  \n",
    "<a href=\"http://www.youtube.com/watch?feature=player_embedded&v=i40d8-Hu4vM\" target=\"_blank\"><img src=\"http://img.youtube.com/vi/i40d8-Hu4vM/0.jpg\" \n",
    "alt=\"Jupyter Video\" width=\"240\" height=\"180\" border=\"10\" /></a>\n",
    "\n",
    "Markdown-style:  \n",
    "[![Jupyter Video](http://img.youtube.com/vi/i40d8-Hu4vM/0.jpg)](http://www.youtube.com/watch?v=i40d8-Hu4vM)\n",
    "\n",
    "Jupyter-style for local files:  \n",
    "<video controls src=\"../sample_files/animation.m4v\" />"
   ]
  },
  {
   "cell_type": "markdown",
   "metadata": {},
   "source": [
    "## Code"
   ]
  },
  {
   "cell_type": "markdown",
   "metadata": {},
   "source": [
    "```markdown\n",
    "Inline `code` has `back-ticks around` it.\n",
    "```\n",
    "---\n",
    "Inline `code` has `back-ticks around` it."
   ]
  },
  {
   "cell_type": "markdown",
   "metadata": {},
   "source": [
    "```javascript\n",
    "var s = \"JavaScript syntax highlighting\";\n",
    "alert(s);\n",
    "```\n",
    "---\n",
    "```python\n",
    "s = \"Python syntax highlighting\"\n",
    "print s\n",
    "```\n",
    "---\n",
    "```vhdl\n",
    "library ieee;\n",
    "use ieee.std_logic_1164.all;\n",
    "\n",
    "entity AND_bloc is\n",
    "    port(x: in std_logic;\n",
    "         y: in std_logic;\n",
    "         F: out std_logic\n",
    "    );\n",
    "end AND_bloc;  \n",
    "\n",
    "architecture rtl of AND_bloc is\n",
    "begin\n",
    "    F <= x and y;\n",
    "end rtl;\n",
    "\n",
    "```\n",
    "---\n",
    "```\n",
    "No language indicated, so no syntax highlighting. \n",
    "But let's throw in a <b>tag</b>.\n",
    "```"
   ]
  },
  {
   "cell_type": "markdown",
   "metadata": {},
   "source": [
    "## Tables"
   ]
  },
  {
   "cell_type": "markdown",
   "metadata": {},
   "source": [
    "```markdown\n",
    "Colons can be used to align columns.\n",
    "\n",
    "| Tables        | Are           | Cool  |\n",
    "| ------------- |:-------------:| -----:|\n",
    "| col 3 is      | right-aligned |  1600 |\n",
    "| col 2 is      | centered      |    12 |\n",
    "\n",
    "There must be at least 3 dashes separating each header cell.\n",
    "The outer pipes (|) are optional, and you don't need to make the \n",
    "raw Markdown line up prettily. You can also use inline Markdown.\n",
    "\n",
    "Markdown | Less | Pretty\n",
    "--- | --- | ---\n",
    "*Still* | `renders` | **nicely**\n",
    "1 | 2 | 3\n",
    "\n",
    "| Nice | Table |\n",
    "| ---- | ----- |\n",
    "| 1    | 2     |\n",
    "| 3    | 4     |\n",
    "```\n",
    "---\n",
    "Colons can be used to align columns.\n",
    "\n",
    "| Tables        | Are           | Cool  |\n",
    "| ------------- |:-------------:| -----:|\n",
    "| col 3 is      | right-aligned |  1600 |\n",
    "| col 2 is      | centered      |    12 |\n",
    "\n",
    "There must be at least 3 dashes separating each header cell.\n",
    "The outer pipes (|) are optional, and you don't need to make the \n",
    "raw Markdown line up prettily. You can also use inline Markdown.\n",
    "\n",
    "Markdown | Less | Pretty\n",
    "--- | --- | ---\n",
    "*Still* | `renders` | **nicely**\n",
    "1 | 2 | 3\n",
    "\n",
    "| Nice | Table |\n",
    "| ---- | ----- |\n",
    "| 1    | 2     |\n",
    "| 3    | 4     |"
   ]
  },
  {
   "cell_type": "markdown",
   "metadata": {},
   "source": [
    "## Math Equations (Latex)"
   ]
  },
  {
   "cell_type": "markdown",
   "metadata": {},
   "source": [
    "```markdown\n",
    "Inline math $e^{i\\pi} + 1 = 0$ like this.\n",
    "\n",
    "Bloc style math:  \n",
    "$$e^x=\\sum_{i=0}^\\infty \\frac{1}{i!}x^i$$\n",
    "```\n",
    "---\n",
    "Inline math $e^{i\\pi} + 1 = 0$ like this.\n",
    "\n",
    "Bloc style math:  \n",
    "$$e^x=\\sum_{i=0}^\\infty \\frac{1}{i!}x^i$$\n",
    "\n",
    "Some Special Characters to remember:  \n",
    "\n",
    "| Symbol          | Latex Code |\n",
    "| --------------- | ---------- |\n",
    "| $\\,$ (Space)    | ` \\,`      |\n",
    "\n",
    "\n",
    "| Greek Symbol    | Latex Code |\n",
    "| --------------- | ---------- |\n",
    "| $\\alpha A$      | `\\alpha A` |\n",
    "| $\\beta B$       | `\\beta B` |\n",
    "| $\\gamma \\Gamma$ | `\\gamma \\Gamma` |\n",
    "| $\\delta \\Delta$ | `\\delta \\Delta` |\n",
    "| $\\epsilon \\varepsilon \\Epsilon$ | `\\epsilon \\varepsilon \\Epsilon` |\n",
    "| $\\eta \\Eta$        | `\\eta \\Eta` |\n",
    "| $\\mu \\Mu$         | `\\mu \\Mu` |\n",
    "| $\\nu \\Nu$         | `\\nu \\Nu` |\n",
    "| $\\omicron \\Omicron$ | `\\omicron \\Omicron` |\n",
    "| $\\pi \\Pi \\varpi$       | `\\pi \\Pi \\varpi` |\n",
    "| $\\sigma \\Sigma$ | `\\sigma \\Sigma` |\n",
    "| $\\tau \\Tau$ | `\\tau \\Tau` |\n",
    "| $\\upsilon \\Upsilon$ | `\\upsilon \\Upsilon` |\n",
    "| $\\phi \\varphi \\Phi$ | `\\phi \\varphi \\Phi` |\n",
    "| $\\chi \\Chi$ | `\\chi \\Chi` |\n",
    "| $\\psi \\Psi$ | `\\psi \\Psi` |\n",
    "| $\\omega \\Omega$ | `\\omega \\Omega` |\n",
    "| $\\zeta \\Zeta$   | `\\zeta \\Zeta` |\n",
    "\n",
    "| Arrow Symbol      | Latex Code |\n",
    "| ----------------- | ---------- |\n",
    "| $\\leftarrow$      | `\\leftarrow` |\n",
    "| $\\rightarrow$    | `\\rightarrow` |\n",
    "| $\\leftrightarrow$ | `\\leftrightarrow` |\n",
    "| $\\uparrow$        | `\\uparrow` |\n",
    "| $\\nearrow$        | `\\nearrow` |\n",
    "| $\\swarrow$        | `\\swarrow` |\n",
    "| $\\searrow$        | `\\searrow` |\n",
    "| $\\nwarrow$        | `\\nwarrow` |\n",
    "\n",
    "| Math Symbol 1 | Latex Code |\n",
    "| ------------- | ---------- |\n",
    "| $\\infty$      | `\\infty` |\n",
    "| $\\exists$     | `\\exists` |\n",
    "| $\\nexists$    | `\\nexists` |\n",
    "| $\\varnothing$ | `\\varnothing` |\n",
    "| $\\emptyset$   | `\\emptyset` |\n",
    "| $\\partial$    | `\\partial` |\n",
    "\n",
    "| Math Symbol 2  | Latex Code |\n",
    "| -------------- | ---------- |\n",
    "| $\\square$      | `\\square` |\n",
    "| $\\surd$        | `\\surd` |\n",
    "| $\\blacksquare$ | `\\blacksquare` |\n",
    "| $\\triangle$    | `\\triangle` |\n",
    "\n",
    "| Math Symbol 3 | Latex Code |\n",
    "| ------------- | ---------- |\n",
    "| $\\equiv$      | `\\equiv` |\n",
    "| $\\approx$     | `\\approx` |\n",
    "| $\\cong$       | `\\cong` |\n",
    "| $\\simeq$      | `\\simeq` |\n",
    "| $\\neq$        | `\\neq` |\n",
    "\n",
    "| Math Symbol 3 | Latex Code |\n",
    "| ------------- | ---------- |\n",
    "| $<$           | `<` |\n",
    "| $>$           | `>` |\n",
    "| $\\nless$      | `\\nless` |\n",
    "| $\\ngtr$       | `\\ngtr` |\n",
    "| $\\leq$        | `\\leq` |\n",
    "| $\\geq$        | `\\geq` |\n",
    "| $\\leqslant$   | `\\leqslant` |\n",
    "| $\\geqslant$   | `\\geqslant` |\n",
    "| $\\nleq$       | `\\nleq` |\n",
    "| $\\ngeq$       | `\\ngeq` |\n",
    "| $\\equiv$      | `\\equiv` |\n",
    "\n",
    "| Math Symbol 4     | Latex Code |\n",
    "| ----------------- | ---------- |\n",
    "| $\\int_a^b f(x)dx$ | `\\int_a^b f(x)dx` |\n",
    "| $\\sum_1^n$        | `\\sum_1^n` |\n",
    "| $\\sum_{i=0}^\\infty i^2$ | `\\sum_{i=0}^\\infty i^2` |\n",
    "| $\\prod$           | `\\prod` |\n",
    "| $\\int$            | `\\int` |\n",
    "| $\\iint$           | `\\iint` |\n",
    "| $\\iiint$          | `\\iiint` |\n",
    "| $\\{$              | `\\{` |\n",
    "| $\\}$              | `\\}` |\n",
    "| $\\Biggl(\\biggl(\\Bigl(\\bigl((x)\\bigr)\\Bigr)\\biggr)\\Biggr)$ | `\\Biggl(\\biggl(\\Bigl(\\bigl((x)\\bigr)\\Bigr)\\biggr)\\Biggr)` |\n",
    "\n",
    "| Trigonometry Symbol 3 | Latex Code |\n",
    "| --------------------- | ---------- |\n",
    "| $\\sin$                | `\\sin` |\n",
    "| $\\arcsin$             | `\\arcsin` |\n",
    "| $\\sinh$               | `\\sinh` |\n",
    "| $\\cos$                | `\\cos` |\n",
    "| $\\arccos$             | `\\arccos` |\n",
    "| $\\cosh$               | `\\cosh` |\n",
    "| $\\tan$                | `\\tan` |\n",
    "| $\\arctan$             | `\\arctan` |\n",
    "| $\\tanh$               | `\\tanh` |\n",
    "\n",
    "See also [Latex Symbols](../sample_files/Latex_Symbols.pdf)"
   ]
  },
  {
   "cell_type": "markdown",
   "metadata": {},
   "source": [
    "## Blockquotes"
   ]
  },
  {
   "cell_type": "markdown",
   "metadata": {},
   "source": [
    "```markdown\n",
    "> Blockquotes are very handy in email to emulate reply text.\n",
    "> This line is part of the same quote.\n",
    "\n",
    "Quote break.\n",
    "\n",
    "> This is a very long line that will still be quoted properly when it wraps. Oh boy let's keep writing to make sure this is long enough to actually wrap for everyone. Oh, you can *put* **Markdown** into a blockquote.\n",
    "```\n",
    "---\n",
    "> Blockquotes are very handy in email to emulate reply text.\n",
    "> This line is part of the same quote.\n",
    "\n",
    "Quote break.\n",
    "\n",
    "> This is a very long line that will still be quoted properly when it wraps. Oh boy let's keep writing to make sure this is long enough to actually wrap for everyone. Oh, you can *put* **Markdown** into a blockquote."
   ]
  },
  {
   "cell_type": "markdown",
   "metadata": {},
   "source": [
    "## Horizontal Rules"
   ]
  },
  {
   "cell_type": "markdown",
   "metadata": {},
   "source": [
    "```markdown\n",
    "Hyphens\n",
    "\n",
    "---\n",
    "\n",
    "Asterisks\n",
    "\n",
    "***\n",
    "\n",
    "Underscores\n",
    "\n",
    "___\n",
    "```\n",
    "Hyphens\n",
    "\n",
    "---\n",
    "\n",
    "Asterisks\n",
    "\n",
    "***\n",
    "\n",
    "Underscores\n",
    "\n",
    "___"
   ]
  },
  {
   "cell_type": "markdown",
   "metadata": {
    "toc-hr-collapsed": false
   },
   "source": [
    "## Line Breaks"
   ]
  },
  {
   "cell_type": "markdown",
   "metadata": {},
   "source": [
    "````markdown\n",
    "Here's a line for us to start with.\n",
    "\n",
    "This line is separated from the one above by two newlines, so it will be a *separate paragraph*.\n",
    "\n",
    "This line is also a separate paragraph, but.. (two spaces)\n",
    "This line is only separated by a single newline, so it's a separate line in the *same paragraph*.\n",
    "```\n",
    "---\n",
    "Here's a line for us to start with.\n",
    "\n",
    "This line is separated from the one above by two newlines, so it will be a *separate paragraph*.\n",
    "\n",
    "This line is also a separate paragraph, but  \n",
    "This line is only separated by a single newline, so it's a separate line in the *same paragraph*."
   ]
  }
 ],
 "metadata": {
  "kernelspec": {
   "display_name": "Python 3",
   "language": "python",
   "name": "python3"
  },
  "language_info": {
   "codemirror_mode": {
    "name": "ipython",
    "version": 3
   },
   "file_extension": ".py",
   "mimetype": "text/x-python",
   "name": "python",
   "nbconvert_exporter": "python",
   "pygments_lexer": "ipython3",
   "version": "3.6.5"
  }
 },
 "nbformat": 4,
 "nbformat_minor": 2
}
