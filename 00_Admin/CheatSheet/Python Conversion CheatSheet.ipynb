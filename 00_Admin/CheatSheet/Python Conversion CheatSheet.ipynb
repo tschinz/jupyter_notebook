{
 "cells": [
  {
   "cell_type": "markdown",
   "metadata": {},
   "source": [
    "# Python Conversion CheatSheet\n",
    "<img src=\"../sample_files/logos/python.svg\" width=\"200\" />"
   ]
  },
  {
   "cell_type": "markdown",
   "metadata": {},
   "source": [
    "## Python default convertions"
   ]
  },
  {
   "cell_type": "code",
   "execution_count": 17,
   "metadata": {},
   "outputs": [
    {
     "name": "stdout",
     "output_type": "stream",
     "text": [
      "hex(int_number) = 0x4d2\n",
      "int(hex_string,16) = 1234\n",
      "'0x%0.2X' % 255 = 0xFF\n",
      "'%0.2X' % 255 = FF\n"
     ]
    }
   ],
   "source": [
    "int_number = 1234\n",
    "\n",
    "hex_string = hex(int_number)\n",
    "print(\"hex(int_number) = {}\".format(hex_string))\n",
    "\n",
    "int_number = int(hex_string,16)\n",
    "print(\"int(hex_string,16) = {}\".format(int_number))\n",
    "\n",
    "# 2 digit hex string\n",
    "hex_string = \"0x%0.2X\" % 255 # = 0xFF\n",
    "print(\"'0x%0.2X' % 255 = {}\".format(hex_string))\n",
    "\n",
    "hex_string = \"%0.2X\" % 255   # = FF\n",
    "print(\"'%0.2X' % 255 = {}\".format(hex_string))\n"
   ]
  },
  {
   "cell_type": "markdown",
   "metadata": {},
   "source": [
    "## Format Mini Language"
   ]
  },
  {
   "cell_type": "markdown",
   "metadata": {},
   "source": [
    "```\n",
    "format_spec ::=  [[fill]align][sign][#][0][width][,][.precision][type]\n",
    "fill        ::=  <any character>\n",
    "align       ::=  \"<\" | \">\" | \"=\" | \"^\"\n",
    "sign        ::=  \"+\" | \"-\" | \" \"\n",
    "width       ::=  integer\n",
    "precision   ::=  integer\n",
    "type        ::=  \"b\" | \"c\" | \"d\" | \"e\" | \"E\" | \"f\" | \"F\" | \"g\" | \"G\" | \"n\" | \"o\" | \"s\" | \"x\" | \"X\" | \"%\"\n",
    "```\n",
    "\n",
    "```\n",
    "       \"{\" [field_name] [\"!\" conversion] [\":\" format_spec] \"}\"\n",
    "          /                  \"r\"|\"s\"                   \\\n",
    "         /               (r)epr   (s)tr                 \\\n",
    "arg_name                                                 \\\n",
    "| (\".\" attribute_name | \"[\" element_index \"]\")*           \\\n",
    "|        |                       |                         \\\n",
    "|     identifier         integer | index_string            |\n",
    "|                                   (quotes                |\n",
    "[identifier                          not required)         |\n",
    " |integer]                                                 |\n",
    "                                                           |\n",
    " _________________________________________________________/ \\________\n",
    "/                                                                    \\\n",
    "      \":\"\n",
    "         [[fill]align][sign][#][0][width][,][.precision][type]\n",
    "  [default]--> < left    +   |  |  (int)       (int)    b base 2\n",
    "  [default --> > right  [-]  |  |                       c character\n",
    "   for         ^ center \" \"  |  \\                       d base 10\n",
    "   numbers]    =             |   `zero padding          e exponent (e)\n",
    "                             |                          E exponent (E)\n",
    "                            use 0b,0o,0x                f fixed point\n",
    "                             for 2  8 16                F ^^(same)^^\n",
    "  b base 2     c character                 [default]--> g general (???)\n",
    "  o base 8     s string                                 G general 2 (?)\n",
    "  d base 10                                             n number (general 3)\n",
    "  x base 16                                             o base 8\n",
    "  X base 16                                             s string\n",
    "  e, E    exponent                         (lower case) x base 16\n",
    "  f, F, % fixed point                      (upper case) X base 16\n",
    "  g, G, n (general numbers)                   (x100, f) % percentage\n",
    "```"
   ]
  },
  {
   "cell_type": "code",
   "execution_count": 49,
   "metadata": {},
   "outputs": [
    {
     "name": "stdout",
     "output_type": "stream",
     "text": [
      "1234.6\n",
      "00000000001234.56789\n",
      "1234.57\n",
      "test______\n",
      "______test\n",
      "___test___\n",
      "0x4d2\n",
      "0x4D2\n",
      "04d2\n",
      "04D2\n"
     ]
    }
   ],
   "source": [
    "var = 1234.56789\n",
    "print(\"{:>6.5}\".format(var))        # right aligned to 6 digits, precision 5 (5 numbers including point e.g. 0.123)\n",
    "     \n",
    "print(\"{:020}\".format(var))         # filled up with 0 to 20 digits, 00000000001234.56789\n",
    "\n",
    "print('{:{width}.{prec}f}'.format(var, width=5, prec=2))\n",
    "\n",
    "print('{:_<10}'.format('test'))\n",
    "print('{:_>10}'.format('test'))\n",
    "print('{:_^10}'.format('test'))\n",
    "     \n",
    "  \n",
    "print(\"0x{:0x}\".format(int(var)))   # in hex small case, 0x4d2\n",
    "print(\"0x{:0X}\".format(int(var)))   # in hex small case, 0x4D2\n",
    "     \n",
    "print(\"{:04x}\".format(int(var)))    # in hex small case, 0x04d2\n",
    "print(\"{:04X}\".format(int(var)))    # in hex small case, 0x04D2"
   ]
  },
  {
   "cell_type": "markdown",
   "metadata": {},
   "source": [
    "## Binascii"
   ]
  },
  {
   "cell_type": "code",
   "execution_count": 9,
   "metadata": {},
   "outputs": [
    {
     "name": "stdout",
     "output_type": "stream",
     "text": [
      "binascii.unhexlify(hex_string) = b'\\xfe\\xed'\n",
      "binascii.hexlify(hex_bin) = b'feed'\n"
     ]
    }
   ],
   "source": [
    "import binascii\n",
    "\n",
    "hex_string = \"FEED\"\n",
    "hex_bin = b'\\xfe\\xed'\n",
    "conv_hex_bin = binascii.unhexlify(hex_string)\n",
    "print(\"binascii.unhexlify(hex_string) = {}\".format(conv_hex_bin))\n",
    "\n",
    "conv_hex_string = binascii.hexlify(hex_bin)\n",
    "print(\"binascii.hexlify(hex_bin) = {}\".format(conv_hex_string))\n"
   ]
  },
  {
   "cell_type": "markdown",
   "metadata": {},
   "source": [
    "## My hex2bin()"
   ]
  },
  {
   "cell_type": "code",
   "execution_count": 12,
   "metadata": {},
   "outputs": [
    {
     "name": "stdout",
     "output_type": "stream",
     "text": [
      "hex2bin(hex_string) = 1111111011101101\n"
     ]
    }
   ],
   "source": [
    "def hex2bin(str):\n",
    "    bin = ['0000','0001','0010','0011',\n",
    "           '0100','0101','0110','0111',\n",
    "           '1000','1001','1010','1011',\n",
    "           '1100','1101','1110','1111']\n",
    "    aa = ''\n",
    "    for i in range(len(str)):\n",
    "        aa += bin[int(str[i],base=16)]\n",
    "    return aa\n",
    "# END hex2bin\n",
    "hex_string = \"FEED\"\n",
    "bin_string = hex2bin(hex_string)\n",
    "print(\"hex2bin(hex_string) = {}\".format(bin_string))"
   ]
  }
 ],
 "metadata": {
  "kernelspec": {
   "display_name": "Python 3",
   "language": "python",
   "name": "python3"
  },
  "language_info": {
   "codemirror_mode": {
    "name": "ipython",
    "version": 3
   },
   "file_extension": ".py",
   "mimetype": "text/x-python",
   "name": "python",
   "nbconvert_exporter": "python",
   "pygments_lexer": "ipython3",
   "version": "3.7.6"
  }
 },
 "nbformat": 4,
 "nbformat_minor": 4
}
