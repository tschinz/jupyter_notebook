{
 "cells": [
  {
   "cell_type": "markdown",
   "metadata": {},
   "source": [
    "# Python Date Time Format Cheat sheet\n",
    "The strftime format is the standard date formatting for UNIX. It’s used in C, Ruby, and more.\n",
    "\n",
    "See also: https://devhints.io/strftime"
   ]
  },
  {
   "cell_type": "markdown",
   "metadata": {},
   "source": [
    "## Presets\n",
    "\n",
    "| Date                   | Result |\n",
    "|------------------------|--------|\n",
    "| ``%m/%d/%Y``           | ``06/05/2013`` |\n",
    "| ``%A, %B %e, %Y``      | ``Sunday, June 5, 2013`` |\n",
    "| ``%b %e %a``           | ``Jun 5 Sun`` |\n",
    "| ``%Y-%m-%d %H:%M:%S `` | ``2019-07-03 04:43:02`` |\n",
    "\n",
    "| Time         | Result |\n",
    "|-----------   |--------|\n",
    "| ``%H:%M``    | ``23:05`` |\n",
    "| ``%I:%M %p`` | ``11:05 PM`` |\n",
    "\n",
    "## Time\n",
    "\n",
    "| Time   | Result   | Description |\n",
    "|--------|----------|--------------|\n",
    "| ``%l`` | ``1``        | Hour| \n",
    "| ``%H`` | ``00..23``   | 24h Hour |\n",
    "| ``%I`` | ``01..12``   | 12h Hour |\n",
    "| ``%M`` | ``00..59``   | Minute |\n",
    "| ``%S`` | ``00..60``   | Second |\n",
    "| ``%p`` | ``AM``       | AM or PM |\n",
    "| ``%Z`` | ``+08``      | Time zone |\n",
    "| ``%j`` | ``001..366`` | Day of the year |\n",
    "| ``%%`` | ``%``        | Literal % character |\n",
    "\n",
    "\n",
    "## Date\n",
    "\n",
    "| Date   | Result      | Description |\n",
    "|--------|-------------|--------------|\n",
    "| ``%a`` | ``Sun``     | Weekday |\n",
    "| ``%A`` | ``Sunday``  | |\n",
    "| ``%w`` | ``0..6 ``   | (Sunday is 0) |\n",
    "| ``%y`` | ``13``      | Year |\n",
    "| ``%Y`` | ``2013``    | |\n",
    "| ``%b`` | ``Jan``     | Month |\n",
    "| ``%B`` | ``January`` | |\n",
    "| ``%m`` | ``01..12``  | |\n",
    "| ``%d`` | ``01..31``  | Day |\n",
    "| ``%e`` | ``1..31``   |  |\n",
    "\n",
    "## Pandas Example\n",
    "```pd.to_datetime(df['col'], format='%Y-%m-%d %H:%M:%S', utc=True)```"
   ]
  },
  {
   "cell_type": "markdown",
   "metadata": {},
   "source": [
    "## Pandas resampling"
   ]
  },
  {
   "cell_type": "markdown",
   "metadata": {},
   "source": [
    "| Alias  | Description |\n",
    "|--------|-------------|\n",
    "| B      | Business day |\n",
    "| D      | Calendar day |\n",
    "| W      | Weekly |\n",
    "| M      | Month end |\n",
    "| Q      | Quarter end |\n",
    "| A      | Year end |\n",
    "| BA     | Business year end |\n",
    "| AS     | Year start |\n",
    "| H      | Hourly frequency |\n",
    "| T, min |  Minutely frequency |\n",
    "| S      | Secondly frequency |\n",
    "| L, ms  | Millisecond frequency |\n",
    "| U, us  | Microsecond frequency |\n",
    "| N, ns  | Nanosecond frequency |\n",
    "\n",
    "```weekly_summary.resample('W').mean()```"
   ]
  },
  {
   "cell_type": "code",
   "execution_count": null,
   "metadata": {},
   "outputs": [],
   "source": []
  }
 ],
 "metadata": {
  "kernelspec": {
   "display_name": "Python 3",
   "language": "python",
   "name": "python3"
  },
  "language_info": {
   "codemirror_mode": {
    "name": "ipython",
    "version": 3
   },
   "file_extension": ".py",
   "mimetype": "text/x-python",
   "name": "python",
   "nbconvert_exporter": "python",
   "pygments_lexer": "ipython3",
   "version": "3.7.6"
  }
 },
 "nbformat": 4,
 "nbformat_minor": 4
}
