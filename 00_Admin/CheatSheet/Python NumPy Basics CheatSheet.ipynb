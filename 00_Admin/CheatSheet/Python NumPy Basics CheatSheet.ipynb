{
 "cells": [
  {
   "cell_type": "markdown",
   "metadata": {},
   "source": [
    "# Python NumPy Basics CheatSheet\n",
    "<img src=\"../sample_files/logos/numPy.svg\" width=\"200\" height=\"200\" />\n",
    "The NumPy library is the core library for scientific computing in\n",
    "Python. It provides a high-performance multidimensional array\n",
    "object, and tools for working with these arrays."
   ]
  },
  {
   "cell_type": "code",
   "execution_count": 2,
   "metadata": {},
   "outputs": [],
   "source": [
    "import numpy as np"
   ]
  },
  {
   "cell_type": "markdown",
   "metadata": {},
   "source": [
    "## Help"
   ]
  },
  {
   "cell_type": "code",
   "execution_count": 2,
   "metadata": {},
   "outputs": [
    {
     "name": "stdout",
     "output_type": "stream",
     "text": [
      "Data-type of the array's elements.\n",
      "\n",
      "Parameters\n",
      "----------\n",
      "None\n",
      "\n",
      "Returns\n",
      "-------\n",
      "d : numpy dtype object\n",
      "\n",
      "See Also\n",
      "--------\n",
      "numpy.dtype\n",
      "\n",
      "Examples\n",
      "--------\n",
      ">>> x\n",
      "array([[0, 1],\n",
      "       [2, 3]])\n",
      ">>> x.dtype\n",
      "dtype('int32')\n",
      ">>> type(x.dtype)\n",
      "<type 'numpy.dtype'>\n"
     ]
    }
   ],
   "source": [
    "np.info(np.ndarray.dtype)"
   ]
  },
  {
   "cell_type": "markdown",
   "metadata": {},
   "source": [
    "## Creating Arrays\n",
    "<img src=\"../sample_files/images/numpy_arrays.png\" width=\"400\" />"
   ]
  },
  {
   "cell_type": "code",
   "execution_count": 6,
   "metadata": {},
   "outputs": [
    {
     "name": "stdout",
     "output_type": "stream",
     "text": [
      "a = \n",
      "[1 2 3]\n",
      "b = \n",
      "[[1.5 2.  3. ]\n",
      " [4.  5.  6. ]]\n",
      "c = \n",
      "[[[1.5 2.  3. ]\n",
      "  [4.  5.  6. ]]\n",
      "\n",
      " [[3.  2.  1. ]\n",
      "  [4.  5.  6. ]]]\n"
     ]
    }
   ],
   "source": [
    "a = np.array([1,2,3])\n",
    "print(\"a = \\n{}\".format(a))\n",
    "b = np.array([(1.5,2,3), (4,5,6)], dtype = float)\n",
    "print(\"b = \\n{}\".format(b))\n",
    "c = np.array([[(1.5,2,3), (4,5,6)], [(3,2,1), (4,5,6)]], dtype = float)\n",
    "print(\"c = \\n{}\".format(c))"
   ]
  },
  {
   "cell_type": "markdown",
   "metadata": {},
   "source": [
    "### Initial Placeholders"
   ]
  },
  {
   "cell_type": "code",
   "execution_count": 7,
   "metadata": {},
   "outputs": [
    {
     "name": "stdout",
     "output_type": "stream",
     "text": [
      "zeros_arr = \n",
      "[[0. 0. 0. 0.]\n",
      " [0. 0. 0. 0.]\n",
      " [0. 0. 0. 0.]]\n",
      "ones_arr = \n",
      "[[[1 1 1 1]\n",
      "  [1 1 1 1]\n",
      "  [1 1 1 1]]\n",
      "\n",
      " [[1 1 1 1]\n",
      "  [1 1 1 1]\n",
      "  [1 1 1 1]]]\n",
      "d = [10 15 20]\n",
      "linspace_arr = \n",
      "[0.   0.25 0.5  0.75 1.   1.25 1.5  1.75 2.  ]\n",
      "e = \n",
      "[[7 7]\n",
      " [7 7]]\n",
      "f = \n",
      "[[1. 0.]\n",
      " [0. 1.]]\n",
      "random_arr = \n",
      "[[0.19538833 0.37218249]\n",
      " [0.20691142 0.50623184]]\n",
      "empty_arr = \n",
      "[[1.39069238e-309 1.39069238e-309]\n",
      " [1.39069238e-309 1.39069238e-309]\n",
      " [1.39069238e-309 1.39069238e-309]]\n"
     ]
    }
   ],
   "source": [
    "zeros_arr = np.zeros((3,4))                # Create an array of zeros\n",
    "print(\"zeros_arr = \\n{}\".format(zeros_arr))\n",
    "ones_arr = np.ones((2,3,4),dtype=np.int16) # Create an array of ones\n",
    "print(\"ones_arr = \\n{}\".format(ones_arr))\n",
    "d = np.arange(10,25,5)                     # Create an array of evenly spaced values (step value)\n",
    "print(\"d = {}\".format(d))\n",
    "linspace_arr = np.linspace(0,2,9)          # Create an array of evenly spaced values (number of samples)\n",
    "print(\"linspace_arr = \\n{}\".format(linspace_arr))\n",
    "e = np.full((2,2),7)                       # Create a constant array\n",
    "print(\"e = \\n{}\".format(e))\n",
    "f = np.eye(2)                              # Create a 2X2 identity matrix\n",
    "print(\"f = \\n{}\".format(f))\n",
    "random_arr = np.random.random((2,2))       # Create an array with random values\n",
    "print(\"random_arr = \\n{}\".format(random_arr))\n",
    "empty_arr = np.empty((3,2))                # Create an empty array\n",
    "print(\"empty_arr = \\n{}\".format(empty_arr))"
   ]
  },
  {
   "cell_type": "markdown",
   "metadata": {},
   "source": [
    "## I/O"
   ]
  },
  {
   "cell_type": "markdown",
   "metadata": {},
   "source": [
    "### Saving & Loading On Disk"
   ]
  },
  {
   "cell_type": "code",
   "execution_count": 10,
   "metadata": {},
   "outputs": [
    {
     "data": {
      "text/plain": [
       "array([1, 2, 3])"
      ]
     },
     "execution_count": 10,
     "metadata": {},
     "output_type": "execute_result"
    }
   ],
   "source": [
    "np.save('../sample_files/data/numpy_array', a)         # Saves a binary file\n",
    "np.savez('../sample_files/data/numpy_array.npz', a, b) # Saves uncompressed npz\n",
    "np.load('../sample_files/data/numpy_array.npy')        # Load file"
   ]
  },
  {
   "cell_type": "markdown",
   "metadata": {},
   "source": [
    "### Saving & Loading Text Files"
   ]
  },
  {
   "cell_type": "code",
   "execution_count": 13,
   "metadata": {},
   "outputs": [],
   "source": [
    "np.loadtxt(\"../sample_files/data/mnist.txt\")\n",
    "np.genfromtxt(\"../sample_files/data/winequality-red.csv\", delimiter=',')\n",
    "np.savetxt(\"../sample_files/data/numpy.txt\", b, delimiter=\" \")"
   ]
  },
  {
   "cell_type": "markdown",
   "metadata": {},
   "source": [
    "## Data Types"
   ]
  },
  {
   "cell_type": "code",
   "execution_count": 14,
   "metadata": {},
   "outputs": [
    {
     "data": {
      "text/plain": [
       "numpy.str_"
      ]
     },
     "execution_count": 14,
     "metadata": {},
     "output_type": "execute_result"
    }
   ],
   "source": [
    "np.int64    # Signed 64-bit integer types\n",
    "np.float32  # Standard double-precision floating point\n",
    "np.complex  # Complex numbers represented by 128 floats\n",
    "np.bool     # Boolean type storing TRUE and FALSE values\n",
    "np.object   # Python object type\n",
    "np.string_  # Fixed-length string type\n",
    "np.unicode_ # Fixed-length unicode type"
   ]
  },
  {
   "cell_type": "markdown",
   "metadata": {},
   "source": [
    "## Inspecting Array"
   ]
  },
  {
   "cell_type": "code",
   "execution_count": 21,
   "metadata": {},
   "outputs": [
    {
     "name": "stdout",
     "output_type": "stream",
     "text": [
      "a.shape = (3,)\n",
      "len(a) = 3\n",
      "b.ndim = 2\n",
      "e.size = 4\n",
      "b.dtype = float64\n",
      "b.dtype.name = float64\n",
      "b.astype(int) = \n",
      "[[1 2 3]\n",
      " [4 5 6]]\n"
     ]
    }
   ],
   "source": [
    "ans = a.shape       # Array dimensions\n",
    "print(\"a.shape = {}\".format(ans))\n",
    "ans = len(a)        # Length of array\n",
    "print(\"len(a) = {} elements\".format(ans))\n",
    "ans = b.ndim        # Number of array dimensions\n",
    "print(\"b.ndim = {} dimensions\".format(ans))\n",
    "ans = e.size        # Number of array elements\n",
    "print(\"e.size = {} elements\".format(ans))\n",
    "ans = b.dtype       # Data type of array elements\n",
    "print(\"b.dtype = {}\".format(ans))\n",
    "ans = b.dtype.name  # Name of data type\n",
    "print(\"b.dtype.name = {}\".format(ans))\n",
    "ans = b.astype(int) # Convert an array to a different type\n",
    "print(\"b.astype(int) = \\n{}\".format(ans))"
   ]
  },
  {
   "cell_type": "markdown",
   "metadata": {},
   "source": [
    "## Array Mathematics"
   ]
  },
  {
   "cell_type": "markdown",
   "metadata": {},
   "source": [
    "### Arithmetic Operations"
   ]
  },
  {
   "cell_type": "code",
   "execution_count": 23,
   "metadata": {},
   "outputs": [
    {
     "data": {
      "text/plain": [
       "array([[7., 7.],\n",
       "       [7., 7.]])"
      ]
     },
     "execution_count": 23,
     "metadata": {},
     "output_type": "execute_result"
    }
   ],
   "source": [
    "g = a - b        # Subtraction\n",
    "np.subtract(a,b) # Subtraction\n",
    "\n",
    "b + a            # Addition\n",
    "np.add(b,a)      # Addition\n",
    "\n",
    "a / b            # Division\n",
    "np.divide(a,b)   # Division\n",
    "\n",
    "a * b            # Multiplication\n",
    "np.multiply(a,b) # Multiplication\n",
    "\n",
    "np.exp(b)        # Exponentiation\n",
    "np.sqrt(b)       # Square root\n",
    "np.sin(a)        # Print sines of an array\n",
    "np.cos(b)        # Element-wise cosine\n",
    "np.log(a)        # Element-wise natural logarithm\n",
    "e.dot(f)         # Dot product"
   ]
  },
  {
   "cell_type": "markdown",
   "metadata": {},
   "source": [
    "### Comparison"
   ]
  },
  {
   "cell_type": "code",
   "execution_count": 29,
   "metadata": {},
   "outputs": [
    {
     "name": "stdout",
     "output_type": "stream",
     "text": [
      "a == b is \n",
      "[[False  True  True]\n",
      " [False False False]]\n",
      "a < 2 is [ True False False]\n",
      "np.array_equal(a, b) is False\n"
     ]
    }
   ],
   "source": [
    "ans = a == b               # Element-wise comparison\n",
    "print(\"a == b is \\n{}\".format(ans))\n",
    "ans = a < 2                # Element-wise comparison\n",
    "print(\"a < 2 is {}\".format(ans))\n",
    "ans = np.array_equal(a, b) # Array-wise comparison\n",
    "print(\"np.array_equal(a, b) is {}\".format(ans))"
   ]
  },
  {
   "cell_type": "markdown",
   "metadata": {},
   "source": [
    "### Aggragate Functions"
   ]
  },
  {
   "cell_type": "code",
   "execution_count": 36,
   "metadata": {},
   "outputs": [
    {
     "name": "stdout",
     "output_type": "stream",
     "text": [
      "a.sum() = 6\n",
      "a.min() = 1\n",
      "b.max(axis=0) = [4. 5. 6.]\n",
      "b.cumsum(axis=1) = \n",
      "[[ 1.5  3.5  6.5]\n",
      " [ 4.   9.  15. ]]\n",
      "a.mean() = 2.0\n",
      "np.median(b) = 3.5\n",
      "np.corrcoef(a) = 1.0\n",
      "np.std(b) = 1.5920810978785667\n"
     ]
    }
   ],
   "source": [
    "ans = a.sum()          # Array-wise sum\n",
    "print(\"a.sum() = {}\".format(ans))\n",
    "ans = a.min()          # Array-wise minimum value\n",
    "print(\"a.min() = {}\".format(ans))\n",
    "ans = b.max(axis=0)    # Maximum value of an array row\n",
    "print(\"b.max(axis=0) = {}\".format(ans))\n",
    "ans = b.cumsum(axis=1) # Cumulative sum of the elements\n",
    "print(\"b.cumsum(axis=1) = \\n{}\".format(ans))\n",
    "ans = a.mean()         # Mean\n",
    "print(\"a.mean() = {}\".format(ans))\n",
    "ans = np.median(b)       # Median\n",
    "print(\"np.median(b) = {}\".format(ans))\n",
    "ans = np.corrcoef(a)     # Correlation coefficient\n",
    "print(\"np.corrcoef(a) = {}\".format(ans))\n",
    "ans = np.std(b)        # Standard deviation\n",
    "print(\"np.std(b) = {}\".format(ans))"
   ]
  },
  {
   "cell_type": "markdown",
   "metadata": {},
   "source": [
    "## Copying Arrays"
   ]
  },
  {
   "cell_type": "code",
   "execution_count": 37,
   "metadata": {},
   "outputs": [],
   "source": [
    "h = a.view() # Create a view of the array with the same data\n",
    "np.copy(a)   # Create a copy of the array\n",
    "h = a.copy() # Create a deep copy of the array"
   ]
  },
  {
   "cell_type": "markdown",
   "metadata": {},
   "source": [
    "## Sorting Arrays"
   ]
  },
  {
   "cell_type": "code",
   "execution_count": 48,
   "metadata": {},
   "outputs": [
    {
     "name": "stdout",
     "output_type": "stream",
     "text": [
      "a.sort() = [1 2 3]\n",
      "c.sort(axis=0) = \n",
      "[[[1.5 2.  1. ]\n",
      "  [4.  5.  6. ]]\n",
      "\n",
      " [[3.  2.  3. ]\n",
      "  [4.  5.  6. ]]]\n"
     ]
    }
   ],
   "source": [
    "a.sort()       # Sort an array\n",
    "print(\"a.sort() = {}\".format(a))\n",
    "c.sort(axis=0) # Sort the elements of an array's axis\n",
    "print(\"c.sort(axis=0) = \\n{}\".format(c))"
   ]
  },
  {
   "cell_type": "markdown",
   "metadata": {},
   "source": [
    "## Subsetting & Slicing & Indexing\n",
    "Index starts at 0"
   ]
  },
  {
   "cell_type": "code",
   "execution_count": 64,
   "metadata": {},
   "outputs": [
    {
     "name": "stdout",
     "output_type": "stream",
     "text": [
      "a=[1 2 3] => a[2]=3\n",
      "b=\n",
      "[[1.5 2.  3. ]\n",
      " [4.  5.  6. ]] => b[1,2]=6.0\n",
      "a=[1 2 3] => a[0:2]=[1 2]\n",
      "b=[[1.5 2.  3. ]\n",
      " [4.  5.  6. ]] => b[0:2,1]=[2. 5.]\n",
      "b=[[1.5 2.  3. ]\n",
      " [4.  5.  6. ]] => b[:1]=[[1.5 2.  3. ]]\n",
      "c=\n",
      "[[[1.5 2.  1. ]\n",
      "  [4.  5.  6. ]]\n",
      "\n",
      " [[3.  2.  3. ]\n",
      "  [4.  5.  6. ]]] =>\n",
      "c[1,:,:]=\n",
      "[[3. 2. 3.]\n",
      " [4. 5. 6.]]\n",
      "a=[1 2 3] => a[ : :-1]=[3 2 1]\n",
      "a=[1 2 3] => a[a<2]=[1]\n",
      "b=\n",
      "[[1.5 2.  3. ]\n",
      " [4.  5.  6. ]] =>\n",
      "b[1, 0, 1, 0],[0, 1, 2, 0]]=\n",
      "[4.  2.  6.  1.5]\n",
      "b=\n",
      "[[1.5 2.  3. ]\n",
      " [4.  5.  6. ]] =>\n",
      "b[[1, 0, 1, 0]][:,[0,1,2,0]]=\n",
      "[[4.  5.  6.  4. ]\n",
      " [1.5 2.  3.  1.5]\n",
      " [4.  5.  6.  4. ]\n",
      " [1.5 2.  3.  1.5]]\n"
     ]
    }
   ],
   "source": [
    "# Subsetting\n",
    "ans = a[2]      # Select the element at the 2nd index\n",
    "print(\"a={} => a[2]={}\".format(a, ans))\n",
    "ans = b[1,2]    # Select the element at row 1 column 2\n",
    "print(\"b=\\n{} => b[1,2]={}\".format(b, ans))\n",
    "\n",
    "# Slicing\n",
    "ans = a[0:2]    # Select items at index 0 and 1\n",
    "print(\"a={} => a[0:2]={}\".format(a, ans))\n",
    "ans = b[0:2,1]  # Select items at rows 0 and 1 in column 1\n",
    "print(\"b={} => b[0:2,1]={}\".format(b, ans))\n",
    "ans = b[:1]     # Select all items at row 0\n",
    "print(\"b={} => b[:1]={}\".format(b, ans))\n",
    "ans = c[1,:,:]  # Same as [1,...]\n",
    "print(\"c=\\n{} =>\\nc[1,:,:]=\\n{}\".format(c, ans))\n",
    "ans = a[ : :-1] # Reversed array a\n",
    "print(\"a={} => a[ : :-1]={}\".format(a, ans))\n",
    "\n",
    "# Boolean Indexing\n",
    "ans = a[a<2]    # Select elements from a less than 2\n",
    "print(\"a={} => a[a<2]={}\".format(a, ans))\n",
    "\n",
    "\n",
    "# Fancy Indexing\n",
    "ans = b[[1, 0, 1, 0],[0, 1, 2, 0]] # Select elements (1,0),(0,1),(1,2) and (0,0)\n",
    "print(\"b=\\n{} =>\\nb[1, 0, 1, 0],[0, 1, 2, 0]]=\\n{}\".format(b, ans))\n",
    "ans = b[[1, 0, 1, 0]][:,[0,1,2,0]] # Select a subset of the matrix’s rows\n",
    "print(\"b=\\n{} =>\\nb[[1, 0, 1, 0]][:,[0,1,2,0]]=\\n{}\".format(b, ans))\n"
   ]
  },
  {
   "cell_type": "markdown",
   "metadata": {},
   "source": [
    "## Array Manipulation"
   ]
  },
  {
   "cell_type": "code",
   "execution_count": 82,
   "metadata": {},
   "outputs": [
    {
     "name": "stdout",
     "output_type": "stream",
     "text": [
      "np.transpose(b) =\n",
      "[[1.5 4. ]\n",
      " [2.  5. ]\n",
      " [3.  6. ]]\n",
      "ans.T =\n",
      "[[1.5 2.  3. ]\n",
      " [4.  5.  6. ]]\n",
      "b.ravel() =\n",
      "[1.5 2.  3.  4.  5.  6. ]\n",
      "g.reshape(3,-2) =\n",
      "[[-0.5  0. ]\n",
      " [ 0.  -3. ]\n",
      " [-3.  -3. ]]\n",
      "h.resize((2,6)) =\n",
      "[[1 2 3 0 0 0]\n",
      " [0 0 0 0 0 0]]\n",
      "np.append(h,g) =\n",
      "[ 1.   2.   3.   0.   0.   0.   0.   0.   0.   0.   0.   0.  -0.5  0.\n",
      "  0.  -3.  -3.  -3. ]\n",
      "np.insert(a, 1, 5) = [1 5 2 3]\n",
      "np.delete(a,[1]) = [1 3]\n",
      "np.concatenate((a,d),axis=0) =\n",
      "[ 1  2  3 10 15 20]\n",
      "np.vstack((a,b)) =\n",
      "[[1.  2.  3. ]\n",
      " [1.5 2.  3. ]\n",
      " [4.  5.  6. ]]\n",
      "np.r_[e,f] =\n",
      "[[7. 7.]\n",
      " [7. 7.]\n",
      " [1. 0.]\n",
      " [0. 1.]]\n",
      "np.hstack((e,f)) =\n",
      "[[7. 7. 1. 0.]\n",
      " [7. 7. 0. 1.]]\n",
      "np.column_stack((a,d)) =\n",
      "[[ 1 10]\n",
      " [ 2 15]\n",
      " [ 3 20]]\n",
      "np.c_[a,d] =\n",
      "[[ 1 10]\n",
      " [ 2 15]\n",
      " [ 3 20]]\n",
      "np.hsplit(a,3) =\n",
      "[array([1]), array([2]), array([3])]\n",
      "np.vsplit(c,2) =\n",
      "[array([[[1.5, 2. , 1. ],\n",
      "        [4. , 5. , 6. ]]]), array([[[3., 2., 3.],\n",
      "        [4., 5., 6.]]])]\n"
     ]
    }
   ],
   "source": [
    "# Transposing Array\n",
    "ans = np.transpose(b)       # Permute array dimensions\n",
    "print(\"np.transpose(b) =\\n{}\".format(ans))\n",
    "ans = ans.T                 # Permute array dimensions\n",
    "print(\"ans.T =\\n{}\".format(ans))\n",
    "\n",
    "# Changing Array Shape\n",
    "ans = b.ravel()           # Flatten the array\n",
    "print(\"b.ravel() =\\n{}\".format(ans))\n",
    "\n",
    "ans = g.reshape(3,-2)     # Reshape, but don’t change data\n",
    "print(\"g.reshape(3,-2) =\\n{}\".format(ans))\n",
    "\n",
    "# Adding/Removing Elements\n",
    "h.resize((2,6))     # Return a new array with shape (2,6)\n",
    "print(\"h.resize((2,6)) =\\n{}\".format(h))\n",
    "ans = np.append(h,g)      # Append items to an array\n",
    "print(\"np.append(h,g) =\\n{}\".format(ans))\n",
    "ans = np.insert(a, 1, 5)  # Insert items in an array\n",
    "print(\"np.insert(a, 1, 5) = {}\".format(ans))\n",
    "ans = np.delete(a,[1])    # Delete items from an array\n",
    "print(\"np.delete(a,[1]) = {}\".format(ans))\n",
    "\n",
    "# Combining Arrays\n",
    "ans = np.concatenate((a,d),axis=0) # Concatenate arrays\n",
    "print(\"np.concatenate((a,d),axis=0) =\\n{}\".format(ans))\n",
    "ans = np.vstack((a,b))    # Stack arrays vertically (row-wise)\n",
    "print(\"np.vstack((a,b)) =\\n{}\".format(ans))\n",
    "ans = np.r_[e,f]          # Stack arrays vertically (row-wise)\n",
    "print(\"np.r_[e,f] =\\n{}\".format(ans))\n",
    "ans = np.hstack((e,f))    # Stack arrays horizontally (column-wise)\n",
    "print(\"np.hstack((e,f)) =\\n{}\".format(ans))\n",
    "ans = np.column_stack((a,d)) # Create stacked column-wise arrays\n",
    "print(\"np.column_stack((a,d)) =\\n{}\".format(ans))\n",
    "ans = np.c_[a,d]          # Create stacked column-wise arrays\n",
    "print(\"np.c_[a,d] =\\n{}\".format(ans))\n",
    "\n",
    "# Splitting Arrays\n",
    "ans = np.hsplit(a,3)      # Split the array horizontally at the 3rd\n",
    "print(\"np.hsplit(a,3) =\\n{}\".format(ans))\n",
    "ans = np.vsplit(c,2)      # Split the array vertically at the 2nd index\n",
    "print(\"np.vsplit(c,2) =\\n{}\".format(ans))"
   ]
  },
  {
   "cell_type": "code",
   "execution_count": null,
   "metadata": {},
   "outputs": [],
   "source": []
  }
 ],
 "metadata": {
  "kernelspec": {
   "display_name": "Python 3",
   "language": "python",
   "name": "python3"
  },
  "language_info": {
   "codemirror_mode": {
    "name": "ipython",
    "version": 3
   },
   "file_extension": ".py",
   "mimetype": "text/x-python",
   "name": "python",
   "nbconvert_exporter": "python",
   "pygments_lexer": "ipython3",
   "version": "3.6.5"
  }
 },
 "nbformat": 4,
 "nbformat_minor": 2
}
