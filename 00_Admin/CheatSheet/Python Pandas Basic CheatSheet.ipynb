{
 "cells": [
  {
   "cell_type": "markdown",
   "metadata": {},
   "source": [
    "# Python Pandas Basics CheatSheet\n",
    "<img src=\"../sample_files/logos/pandas.svg\" width=\"400\" />\n",
    "The Pandas library is built  on NumPy and provieds easy-to-use data structures and data analysis tools for Python"
   ]
  },
  {
   "cell_type": "markdown",
   "metadata": {},
   "source": [
    "## Asking for help"
   ]
  },
  {
   "cell_type": "code",
   "execution_count": 2,
   "metadata": {},
   "outputs": [
    {
     "name": "stdout",
     "output_type": "stream",
     "text": [
      "Help on property:\n",
      "\n",
      "    Access a group of rows and columns by label(s) or a boolean array.\n",
      "    \n",
      "    ``.loc[]`` is primarily label based, but may also be used with a\n",
      "    boolean array.\n",
      "    \n",
      "    Allowed inputs are:\n",
      "    \n",
      "    - A single label, e.g. ``5`` or ``'a'``, (note that ``5`` is\n",
      "      interpreted as a *label* of the index, and **never** as an\n",
      "      integer position along the index).\n",
      "    - A list or array of labels, e.g. ``['a', 'b', 'c']``.\n",
      "    - A slice object with labels, e.g. ``'a':'f'``.\n",
      "    \n",
      "      .. warning:: Note that contrary to usual python slices, **both** the\n",
      "          start and the stop are included\n",
      "    \n",
      "    - A boolean array of the same length as the axis being sliced,\n",
      "      e.g. ``[True, False, True]``.\n",
      "    - A ``callable`` function with one argument (the calling Series, DataFrame\n",
      "      or Panel) and that returns valid output for indexing (one of the above)\n",
      "    \n",
      "    See more at :ref:`Selection by Label <indexing.label>`\n",
      "    \n",
      "    See Also\n",
      "    --------\n",
      "    DataFrame.at : Access a single value for a row/column label pair\n",
      "    DataFrame.iloc : Access group of rows and columns by integer position(s)\n",
      "    DataFrame.xs : Returns a cross-section (row(s) or column(s)) from the\n",
      "        Series/DataFrame.\n",
      "    Series.loc : Access group of values using labels\n",
      "    \n",
      "    Examples\n",
      "    --------\n",
      "    **Getting values**\n",
      "    \n",
      "    >>> df = pd.DataFrame([[1, 2], [4, 5], [7, 8]],\n",
      "    ...      index=['cobra', 'viper', 'sidewinder'],\n",
      "    ...      columns=['max_speed', 'shield'])\n",
      "    >>> df\n",
      "                max_speed  shield\n",
      "    cobra               1       2\n",
      "    viper               4       5\n",
      "    sidewinder          7       8\n",
      "    \n",
      "    Single label. Note this returns the row as a Series.\n",
      "    \n",
      "    >>> df.loc['viper']\n",
      "    max_speed    4\n",
      "    shield       5\n",
      "    Name: viper, dtype: int64\n",
      "    \n",
      "    List of labels. Note using ``[[]]`` returns a DataFrame.\n",
      "    \n",
      "    >>> df.loc[['viper', 'sidewinder']]\n",
      "                max_speed  shield\n",
      "    viper               4       5\n",
      "    sidewinder          7       8\n",
      "    \n",
      "    Single label for row and column\n",
      "    \n",
      "    >>> df.loc['cobra', 'shield']\n",
      "    2\n",
      "    \n",
      "    Slice with labels for row and single label for column. As mentioned\n",
      "    above, note that both the start and stop of the slice are included.\n",
      "    \n",
      "    >>> df.loc['cobra':'viper', 'max_speed']\n",
      "    cobra    1\n",
      "    viper    4\n",
      "    Name: max_speed, dtype: int64\n",
      "    \n",
      "    Boolean list with the same length as the row axis\n",
      "    \n",
      "    >>> df.loc[[False, False, True]]\n",
      "                max_speed  shield\n",
      "    sidewinder          7       8\n",
      "    \n",
      "    Conditional that returns a boolean Series\n",
      "    \n",
      "    >>> df.loc[df['shield'] > 6]\n",
      "                max_speed  shield\n",
      "    sidewinder          7       8\n",
      "    \n",
      "    Conditional that returns a boolean Series with column labels specified\n",
      "    \n",
      "    >>> df.loc[df['shield'] > 6, ['max_speed']]\n",
      "                max_speed\n",
      "    sidewinder          7\n",
      "    \n",
      "    Callable that returns a boolean Series\n",
      "    \n",
      "    >>> df.loc[lambda df: df['shield'] == 8]\n",
      "                max_speed  shield\n",
      "    sidewinder          7       8\n",
      "    \n",
      "    **Setting values**\n",
      "    \n",
      "    Set value for all items matching the list of labels\n",
      "    \n",
      "    >>> df.loc[['viper', 'sidewinder'], ['shield']] = 50\n",
      "    >>> df\n",
      "                max_speed  shield\n",
      "    cobra               1       2\n",
      "    viper               4      50\n",
      "    sidewinder          7      50\n",
      "    \n",
      "    Set value for an entire row\n",
      "    \n",
      "    >>> df.loc['cobra'] = 10\n",
      "    >>> df\n",
      "                max_speed  shield\n",
      "    cobra              10      10\n",
      "    viper               4      50\n",
      "    sidewinder          7      50\n",
      "    \n",
      "    Set value for an entire column\n",
      "    \n",
      "    >>> df.loc[:, 'max_speed'] = 30\n",
      "    >>> df\n",
      "                max_speed  shield\n",
      "    cobra              30      10\n",
      "    viper              30      50\n",
      "    sidewinder         30      50\n",
      "    \n",
      "    Set value for rows matching callable condition\n",
      "    \n",
      "    >>> df.loc[df['shield'] > 35] = 0\n",
      "    >>> df\n",
      "                max_speed  shield\n",
      "    cobra              30      10\n",
      "    viper               0       0\n",
      "    sidewinder          0       0\n",
      "    \n",
      "    **Getting values on a DataFrame with an index that has integer labels**\n",
      "    \n",
      "    Another example using integers for the index\n",
      "    \n",
      "    >>> df = pd.DataFrame([[1, 2], [4, 5], [7, 8]],\n",
      "    ...      index=[7, 8, 9], columns=['max_speed', 'shield'])\n",
      "    >>> df\n",
      "       max_speed  shield\n",
      "    7          1       2\n",
      "    8          4       5\n",
      "    9          7       8\n",
      "    \n",
      "    Slice with integer labels for rows. As mentioned above, note that both\n",
      "    the start and stop of the slice are included.\n",
      "    \n",
      "    >>> df.loc[7:9]\n",
      "       max_speed  shield\n",
      "    7          1       2\n",
      "    8          4       5\n",
      "    9          7       8\n",
      "    \n",
      "    **Getting values with a MultiIndex**\n",
      "    \n",
      "    A number of examples using a DataFrame with a MultiIndex\n",
      "    \n",
      "    >>> tuples = [\n",
      "    ...    ('cobra', 'mark i'), ('cobra', 'mark ii'),\n",
      "    ...    ('sidewinder', 'mark i'), ('sidewinder', 'mark ii'),\n",
      "    ...    ('viper', 'mark ii'), ('viper', 'mark iii')\n",
      "    ... ]\n",
      "    >>> index = pd.MultiIndex.from_tuples(tuples)\n",
      "    >>> values = [[12, 2], [0, 4], [10, 20],\n",
      "    ...         [1, 4], [7, 1], [16, 36]]\n",
      "    >>> df = pd.DataFrame(values, columns=['max_speed', 'shield'], index=index)\n",
      "    >>> df\n",
      "                         max_speed  shield\n",
      "    cobra      mark i           12       2\n",
      "               mark ii           0       4\n",
      "    sidewinder mark i           10      20\n",
      "               mark ii           1       4\n",
      "    viper      mark ii           7       1\n",
      "               mark iii         16      36\n",
      "    \n",
      "    Single label. Note this returns a DataFrame with a single index.\n",
      "    \n",
      "    >>> df.loc['cobra']\n",
      "             max_speed  shield\n",
      "    mark i          12       2\n",
      "    mark ii          0       4\n",
      "    \n",
      "    Single index tuple. Note this returns a Series.\n",
      "    \n",
      "    >>> df.loc[('cobra', 'mark ii')]\n",
      "    max_speed    0\n",
      "    shield       4\n",
      "    Name: (cobra, mark ii), dtype: int64\n",
      "    \n",
      "    Single label for row and column. Similar to passing in a tuple, this\n",
      "    returns a Series.\n",
      "    \n",
      "    >>> df.loc['cobra', 'mark i']\n",
      "    max_speed    12\n",
      "    shield        2\n",
      "    Name: (cobra, mark i), dtype: int64\n",
      "    \n",
      "    Single tuple. Note using ``[[]]`` returns a DataFrame.\n",
      "    \n",
      "    >>> df.loc[[('cobra', 'mark ii')]]\n",
      "                   max_speed  shield\n",
      "    cobra mark ii          0       4\n",
      "    \n",
      "    Single tuple for the index with a single label for the column\n",
      "    \n",
      "    >>> df.loc[('cobra', 'mark i'), 'shield']\n",
      "    2\n",
      "    \n",
      "    Slice from index tuple to single label\n",
      "    \n",
      "    >>> df.loc[('cobra', 'mark i'):'viper']\n",
      "                         max_speed  shield\n",
      "    cobra      mark i           12       2\n",
      "               mark ii           0       4\n",
      "    sidewinder mark i           10      20\n",
      "               mark ii           1       4\n",
      "    viper      mark ii           7       1\n",
      "               mark iii         16      36\n",
      "    \n",
      "    Slice from index tuple to index tuple\n",
      "    \n",
      "    >>> df.loc[('cobra', 'mark i'):('viper', 'mark ii')]\n",
      "                        max_speed  shield\n",
      "    cobra      mark i          12       2\n",
      "               mark ii          0       4\n",
      "    sidewinder mark i          10      20\n",
      "               mark ii          1       4\n",
      "    viper      mark ii          7       1\n",
      "    \n",
      "    Raises\n",
      "    ------\n",
      "    KeyError:\n",
      "        when any items are not found\n",
      "\n"
     ]
    }
   ],
   "source": [
    "help(pd.Series.loc)"
   ]
  },
  {
   "cell_type": "code",
   "execution_count": 1,
   "metadata": {},
   "outputs": [],
   "source": [
    "import pandas as pd"
   ]
  },
  {
   "cell_type": "markdown",
   "metadata": {},
   "source": [
    "## Pandas Data Structure"
   ]
  },
  {
   "cell_type": "markdown",
   "metadata": {},
   "source": [
    "### Series\n",
    "A one-dimensional labeled array capable of holding any data type.\n",
    "\n",
    "<img src=\"../sample_files/images/pandas_series.png\" width=\"100\" />"
   ]
  },
  {
   "cell_type": "code",
   "execution_count": 2,
   "metadata": {},
   "outputs": [
    {
     "data": {
      "text/plain": [
       "a    3\n",
       "b   -5\n",
       "c    7\n",
       "d    4\n",
       "dtype: int64"
      ]
     },
     "execution_count": 2,
     "metadata": {},
     "output_type": "execute_result"
    }
   ],
   "source": [
    "s = pd.Series([3, -5, 7, 4], index=['a', 'b', 'c', 'd'])\n",
    "s"
   ]
  },
  {
   "cell_type": "markdown",
   "metadata": {},
   "source": [
    "### DataFrame\n",
    "A two-dimensional labeled data structure with columns of potentially different types.\n",
    "\n",
    "<img src=\"../sample_files/images/pandas_dataframe.png\" width=\"200\" />"
   ]
  },
  {
   "cell_type": "code",
   "execution_count": 3,
   "metadata": {},
   "outputs": [
    {
     "data": {
      "text/html": [
       "<div>\n",
       "<style scoped>\n",
       "    .dataframe tbody tr th:only-of-type {\n",
       "        vertical-align: middle;\n",
       "    }\n",
       "\n",
       "    .dataframe tbody tr th {\n",
       "        vertical-align: top;\n",
       "    }\n",
       "\n",
       "    .dataframe thead th {\n",
       "        text-align: right;\n",
       "    }\n",
       "</style>\n",
       "<table border=\"1\" class=\"dataframe\">\n",
       "  <thead>\n",
       "    <tr style=\"text-align: right;\">\n",
       "      <th></th>\n",
       "      <th>Country</th>\n",
       "      <th>Capital</th>\n",
       "      <th>Population</th>\n",
       "    </tr>\n",
       "  </thead>\n",
       "  <tbody>\n",
       "    <tr>\n",
       "      <th>0</th>\n",
       "      <td>Belgium</td>\n",
       "      <td>Brussels</td>\n",
       "      <td>11190846</td>\n",
       "    </tr>\n",
       "    <tr>\n",
       "      <th>1</th>\n",
       "      <td>India</td>\n",
       "      <td>New Delhi</td>\n",
       "      <td>1303171035</td>\n",
       "    </tr>\n",
       "    <tr>\n",
       "      <th>2</th>\n",
       "      <td>Brazil</td>\n",
       "      <td>Brasília</td>\n",
       "      <td>207847528</td>\n",
       "    </tr>\n",
       "  </tbody>\n",
       "</table>\n",
       "</div>"
      ],
      "text/plain": [
       "   Country    Capital  Population\n",
       "0  Belgium   Brussels    11190846\n",
       "1    India  New Delhi  1303171035\n",
       "2   Brazil   Brasília   207847528"
      ]
     },
     "execution_count": 3,
     "metadata": {},
     "output_type": "execute_result"
    }
   ],
   "source": [
    "data = {'Country': ['Belgium', 'India', 'Brazil'],\n",
    "        'Capital': ['Brussels', 'New Delhi', 'Brasília'],\n",
    "        'Population': [11190846, 1303171035, 207847528]}\n",
    "df = pd.DataFrame(data,\n",
    "                  columns=['Country', 'Capital', 'Population'])\n",
    "df"
   ]
  },
  {
   "cell_type": "markdown",
   "metadata": {},
   "source": [
    "## Selection"
   ]
  },
  {
   "cell_type": "markdown",
   "metadata": {},
   "source": [
    "### Getting"
   ]
  },
  {
   "cell_type": "code",
   "execution_count": 10,
   "metadata": {},
   "outputs": [
    {
     "name": "stdout",
     "output_type": "stream",
     "text": [
      "s['b'] = -5\n",
      "df[1:] = \n",
      "  Country    Capital  Population\n",
      "1   India  New Delhi  1303171035\n",
      "2  Brazil   Brasília   207847528\n"
     ]
    }
   ],
   "source": [
    "ans = s['b']   # Get one element\n",
    "print(\"s['b'] = {}\".format(ans))\n",
    "ans = df[1:]   # Get subset of a DataFrame\n",
    "print(\"df[1:] = \\n{}\".format(ans))"
   ]
  },
  {
   "cell_type": "markdown",
   "metadata": {},
   "source": [
    "### Selecting, Boolean Indexing & Setting"
   ]
  },
  {
   "cell_type": "code",
   "execution_count": 32,
   "metadata": {},
   "outputs": [
    {
     "name": "stdout",
     "output_type": "stream",
     "text": [
      "df.iloc[[0],[0]] = \n",
      "   Country\n",
      "0  Belgium\n",
      "\n",
      "df.iat[0, 0] = \n",
      "Belgium\n",
      "\n",
      "df.loc[[0], ['Country']] = \n",
      "   Country\n",
      "0  Belgium\n",
      "\n",
      "df.at[0, 'Country'] = \n",
      "Belgium\n",
      "\n",
      "df.ix[2]  = \n",
      "Country          Brazil\n",
      "Capital        Brasília\n",
      "Population    207847528\n",
      "Name: 2, dtype: object\n",
      "\n",
      "df.ix[:,'Capital'] = \n",
      "0     Brussels\n",
      "1    New Delhi\n",
      "2     Brasília\n",
      "Name: Capital, dtype: object\n",
      "\n",
      "df.ix[1,'Capital'] = \n",
      "New Delhi\n",
      "\n",
      "s[~(s > 1)] = \n",
      "b   -5\n",
      "dtype: int64\n",
      "\n",
      "s[(s < -1) | (s > 2)] = \n",
      "a    6\n",
      "b   -5\n",
      "c    7\n",
      "d    4\n",
      "dtype: int64\n",
      "\n",
      "df[df['Population']>1200000000] = \n",
      "  Country    Capital  Population\n",
      "1   India  New Delhi  1303171035\n",
      "\n"
     ]
    },
    {
     "name": "stderr",
     "output_type": "stream",
     "text": [
      "/home/zas/anaconda3/lib/python3.6/site-packages/ipykernel_launcher.py:14: DeprecationWarning: \n",
      ".ix is deprecated. Please use\n",
      ".loc for label based indexing or\n",
      ".iloc for positional indexing\n",
      "\n",
      "See the documentation here:\n",
      "http://pandas.pydata.org/pandas-docs/stable/indexing.html#ix-indexer-is-deprecated\n",
      "  \n",
      "/home/zas/anaconda3/lib/python3.6/site-packages/ipykernel_launcher.py:16: DeprecationWarning: \n",
      ".ix is deprecated. Please use\n",
      ".loc for label based indexing or\n",
      ".iloc for positional indexing\n",
      "\n",
      "See the documentation here:\n",
      "http://pandas.pydata.org/pandas-docs/stable/indexing.html#ix-indexer-is-deprecated\n",
      "  app.launch_new_instance()\n",
      "/home/zas/anaconda3/lib/python3.6/site-packages/ipykernel_launcher.py:18: DeprecationWarning: \n",
      ".ix is deprecated. Please use\n",
      ".loc for label based indexing or\n",
      ".iloc for positional indexing\n",
      "\n",
      "See the documentation here:\n",
      "http://pandas.pydata.org/pandas-docs/stable/indexing.html#ix-indexer-is-deprecated\n"
     ]
    }
   ],
   "source": [
    "# By Position\n",
    "ans = df.iloc[[0],[0]]         # Select single value by row & coloumn\n",
    "print(\"df.iloc[[0],[0]] = \\n{}\\n\".format(ans))\n",
    "ans = df.iat[0, 0]\n",
    "print(\"df.iat[0, 0] = \\n{}\\n\".format(ans))\n",
    "\n",
    "# By Label\n",
    "ans = df.loc[[0], ['Country']] # Select single value by row & column label\n",
    "print(\"df.loc[[0], ['Country']] = \\n{}\\n\".format(ans))\n",
    "ans = df.at[0, 'Country']\n",
    "print(\"df.at[0, 'Country'] = \\n{}\\n\".format(ans))\n",
    "\n",
    "# By Label/Position\n",
    "ans = df.ix[2]                 # Select single row of subset of rows\n",
    "print(\"df.ix[2]  = \\n{}\\n\".format(ans))\n",
    "ans = df.ix[:,'Capital']       # Select a single column of subset of columns\n",
    "print(\"df.ix[:,'Capital'] = \\n{}\\n\".format(ans))\n",
    "ans = df.ix[1,'Capital']       # Select rows and columns\n",
    "print(\"df.ix[1,'Capital'] = \\n{}\\n\".format(ans))\n",
    "\n",
    "\n",
    "# Boolean Indexing\n",
    "ans = s[~(s > 1)]              # Series s where value is not >1\n",
    "print(\"s[~(s > 1)] = \\n{}\\n\".format(ans))\n",
    "ans = s[(s < -1) | (s > 2)]    # s where value is <-1 or >2\n",
    "print(\"s[(s < -1) | (s > 2)] = \\n{}\\n\".format(ans))\n",
    "ans = df[df['Population']>1200000000] # Use filter to adjust DataFrame\n",
    "print(\"df[df['Population']>1200000000] = \\n{}\\n\".format(ans))\n",
    "\n",
    "# Setting\n",
    "s['a'] = 6               # Set index a of Series s to 6"
   ]
  },
  {
   "cell_type": "markdown",
   "metadata": {},
   "source": [
    "## Dropping"
   ]
  },
  {
   "cell_type": "code",
   "execution_count": 45,
   "metadata": {},
   "outputs": [
    {
     "name": "stdout",
     "output_type": "stream",
     "text": [
      "s =\n",
      "a    6\n",
      "b   -5\n",
      "c    7\n",
      "d    4\n",
      "dtype: int64 \n",
      "df =\n",
      "   Country    Capital  Population\n",
      "0  Belgium   Brussels    11190846\n",
      "1    India  New Delhi  1303171035\n",
      "2   Brazil   Brasília   207847528\n",
      "\n",
      "s.drop(['a', 'c']) = \n",
      "b   -5\n",
      "d    4\n",
      "dtype: int64\n",
      "\n",
      "df.drop('Country', axis=1) =      Capital  Population\n",
      "0   Brussels    11190846\n",
      "1  New Delhi  1303171035\n",
      "2   Brasília   207847528\n"
     ]
    }
   ],
   "source": [
    "print(\"s =\\n{} \\ndf =\\n{}\\n\".format(s, df))\n",
    "ans = s.drop(['a', 'c'])         # Drop values from rows (axis=0)\n",
    "print(\"s.drop(['a', 'c']) = \\n{}\\n\".format(ans))\n",
    "ans = df.drop('Country', axis=1) # Drop values from columns(axis=1)\n",
    "print(\"df.drop('Country', axis=1) = {}\".format(ans))"
   ]
  },
  {
   "cell_type": "markdown",
   "metadata": {},
   "source": [
    "## Sort & Rank"
   ]
  },
  {
   "cell_type": "code",
   "execution_count": 44,
   "metadata": {},
   "outputs": [
    {
     "name": "stdout",
     "output_type": "stream",
     "text": [
      "df.sort_index() =\n",
      "   Country    Capital  Population\n",
      "0  Belgium   Brussels    11190846\n",
      "1    India  New Delhi  1303171035\n",
      "2   Brazil   Brasília   207847528\n",
      "\n",
      "df.sort_values(by='Country') =\n",
      "   Country    Capital  Population\n",
      "0  Belgium   Brussels    11190846\n",
      "2   Brazil   Brasília   207847528\n",
      "1    India  New Delhi  1303171035\n",
      "\n",
      "df.rank() =\n",
      "   Country  Capital  Population\n",
      "0      1.0      2.0         1.0\n",
      "1      3.0      3.0         3.0\n",
      "2      2.0      1.0         2.0\n",
      "\n"
     ]
    }
   ],
   "source": [
    "ans = df.sort_index()              # Sort by labels along an axis\n",
    "print(\"df.sort_index() =\\n{}\\n\".format(ans))\n",
    "ans = df.sort_values(by='Country') # Sort by the values along an axis\n",
    "print(\"df.sort_values(by='Country') =\\n{}\\n\".format(ans))\n",
    "ans = df.rank()                    # Assign ranks to entries\n",
    "print(\"df.rank() =\\n{}\\n\".format(ans))"
   ]
  },
  {
   "cell_type": "markdown",
   "metadata": {},
   "source": [
    "## Retrieving Series / DataFrame Information"
   ]
  },
  {
   "cell_type": "markdown",
   "metadata": {},
   "source": [
    "### Basic Information"
   ]
  },
  {
   "cell_type": "code",
   "execution_count": 48,
   "metadata": {},
   "outputs": [
    {
     "name": "stdout",
     "output_type": "stream",
     "text": [
      "df.shape = (3, 3)\n",
      "\n",
      "df.index =  RangeIndex(start=0, stop=3, step=1)\n",
      "\n",
      "df.columns = \n",
      "Index(['Country', 'Capital', 'Population'], dtype='object')\n",
      "\n",
      "<class 'pandas.core.frame.DataFrame'>\n",
      "RangeIndex: 3 entries, 0 to 2\n",
      "Data columns (total 3 columns):\n",
      "Country       3 non-null object\n",
      "Capital       3 non-null object\n",
      "Population    3 non-null int64\n",
      "dtypes: int64(1), object(2)\n",
      "memory usage: 152.0+ bytes\n",
      "df.info() = None\n",
      "\n",
      "df.count() = \n",
      "Country       3\n",
      "Capital       3\n",
      "Population    3\n",
      "dtype: int64\n"
     ]
    }
   ],
   "source": [
    "ans = df.shape   # (rows,columns)\n",
    "print(\"df.shape = {}\\n\".format(ans))\n",
    "ans = df.index   # Describe index\n",
    "print(\"df.index =  {}\\n\".format(ans))\n",
    "ans = df.columns # Describe DataFrame columns\n",
    "print(\"df.columns = \\n{}\\n\".format(ans))\n",
    "ans = df.info()  # Info on DataFrame\n",
    "print(\"df.info() = {}\\n\".format(ans))\n",
    "ans = df.count() # Number of non-NA values\n",
    "print(\"df.count() = \\n{}\".format(ans))"
   ]
  },
  {
   "cell_type": "markdown",
   "metadata": {},
   "source": [
    "### Summary"
   ]
  },
  {
   "cell_type": "code",
   "execution_count": 55,
   "metadata": {},
   "outputs": [
    {
     "name": "stdout",
     "output_type": "stream",
     "text": [
      "df.sum() = \n",
      "Country              BelgiumIndiaBrazil\n",
      "Capital       BrusselsNew DelhiBrasília\n",
      "Population                   1522209409\n",
      "dtype: object\n",
      "\n",
      "df.cumsum() = \n",
      "              Country                    Capital  Population\n",
      "0             Belgium                   Brussels    11190846\n",
      "1        BelgiumIndia          BrusselsNew Delhi  1314361881\n",
      "2  BelgiumIndiaBrazil  BrusselsNew DelhiBrasília  1522209409\n",
      "\n",
      "df.min()/df.max() = 0.008587396204673933\n",
      "\n"
     ]
    },
    {
     "name": "stderr",
     "output_type": "stream",
     "text": [
      "/home/zas/anaconda3/lib/python3.6/site-packages/ipykernel_launcher.py:5: DeprecationWarning: \n",
      ".ix is deprecated. Please use\n",
      ".loc for label based indexing or\n",
      ".iloc for positional indexing\n",
      "\n",
      "See the documentation here:\n",
      "http://pandas.pydata.org/pandas-docs/stable/indexing.html#ix-indexer-is-deprecated\n",
      "  \"\"\"\n"
     ]
    },
    {
     "ename": "TypeError",
     "evalue": "reduction operation 'argmin' not allowed for this dtype",
     "output_type": "error",
     "traceback": [
      "\u001b[0;31m---------------------------------------------------------------------------\u001b[0m",
      "\u001b[0;31mTypeError\u001b[0m                                 Traceback (most recent call last)",
      "\u001b[0;32m<ipython-input-55-d8c9f703b880>\u001b[0m in \u001b[0;36m<module>\u001b[0;34m()\u001b[0m\n\u001b[1;32m      5\u001b[0m \u001b[0mans\u001b[0m \u001b[0;34m=\u001b[0m \u001b[0mdf\u001b[0m\u001b[0;34m.\u001b[0m\u001b[0mix\u001b[0m\u001b[0;34m[\u001b[0m\u001b[0;34m:\u001b[0m\u001b[0;34m,\u001b[0m\u001b[0;34m'Population'\u001b[0m\u001b[0;34m]\u001b[0m\u001b[0;34m.\u001b[0m\u001b[0mmin\u001b[0m\u001b[0;34m(\u001b[0m\u001b[0;34m)\u001b[0m\u001b[0;34m/\u001b[0m\u001b[0mdf\u001b[0m\u001b[0;34m.\u001b[0m\u001b[0mix\u001b[0m\u001b[0;34m[\u001b[0m\u001b[0;34m:\u001b[0m\u001b[0;34m,\u001b[0m\u001b[0;34m'Population'\u001b[0m\u001b[0;34m]\u001b[0m\u001b[0;34m.\u001b[0m\u001b[0mmax\u001b[0m\u001b[0;34m(\u001b[0m\u001b[0;34m)\u001b[0m       \u001b[0;31m# Minimum/maximum values\u001b[0m\u001b[0;34m\u001b[0m\u001b[0m\n\u001b[1;32m      6\u001b[0m \u001b[0mprint\u001b[0m\u001b[0;34m(\u001b[0m\u001b[0;34m\"df.min()/df.max() = {}\\n\"\u001b[0m\u001b[0;34m.\u001b[0m\u001b[0mformat\u001b[0m\u001b[0;34m(\u001b[0m\u001b[0mans\u001b[0m\u001b[0;34m)\u001b[0m\u001b[0;34m)\u001b[0m\u001b[0;34m\u001b[0m\u001b[0m\n\u001b[0;32m----> 7\u001b[0;31m \u001b[0mans\u001b[0m \u001b[0;34m=\u001b[0m \u001b[0mdf\u001b[0m\u001b[0;34m.\u001b[0m\u001b[0midxmin\u001b[0m\u001b[0;34m(\u001b[0m\u001b[0;34m)\u001b[0m\u001b[0;34m/\u001b[0m\u001b[0mdf\u001b[0m\u001b[0;34m.\u001b[0m\u001b[0midxmax\u001b[0m\u001b[0;34m(\u001b[0m\u001b[0;34m)\u001b[0m \u001b[0;31m# Minimum/Maximum index value\u001b[0m\u001b[0;34m\u001b[0m\u001b[0m\n\u001b[0m\u001b[1;32m      8\u001b[0m \u001b[0mprint\u001b[0m\u001b[0;34m(\u001b[0m\u001b[0;34m\"df.idxmin()/df.idxmax() = {}\\n\"\u001b[0m\u001b[0;34m.\u001b[0m\u001b[0mformat\u001b[0m\u001b[0;34m(\u001b[0m\u001b[0mans\u001b[0m\u001b[0;34m)\u001b[0m\u001b[0;34m)\u001b[0m\u001b[0;34m\u001b[0m\u001b[0m\n\u001b[1;32m      9\u001b[0m \u001b[0mans\u001b[0m \u001b[0;34m=\u001b[0m \u001b[0mdf\u001b[0m\u001b[0;34m.\u001b[0m\u001b[0mdescribe\u001b[0m\u001b[0;34m(\u001b[0m\u001b[0;34m)\u001b[0m           \u001b[0;31m# Summary statistics\u001b[0m\u001b[0;34m\u001b[0m\u001b[0m\n",
      "\u001b[0;32m~/anaconda3/lib/python3.6/site-packages/pandas/core/frame.py\u001b[0m in \u001b[0;36midxmin\u001b[0;34m(self, axis, skipna)\u001b[0m\n\u001b[1;32m   6980\u001b[0m         \"\"\"\n\u001b[1;32m   6981\u001b[0m         \u001b[0maxis\u001b[0m \u001b[0;34m=\u001b[0m \u001b[0mself\u001b[0m\u001b[0;34m.\u001b[0m\u001b[0m_get_axis_number\u001b[0m\u001b[0;34m(\u001b[0m\u001b[0maxis\u001b[0m\u001b[0;34m)\u001b[0m\u001b[0;34m\u001b[0m\u001b[0m\n\u001b[0;32m-> 6982\u001b[0;31m         \u001b[0mindices\u001b[0m \u001b[0;34m=\u001b[0m \u001b[0mnanops\u001b[0m\u001b[0;34m.\u001b[0m\u001b[0mnanargmin\u001b[0m\u001b[0;34m(\u001b[0m\u001b[0mself\u001b[0m\u001b[0;34m.\u001b[0m\u001b[0mvalues\u001b[0m\u001b[0;34m,\u001b[0m \u001b[0maxis\u001b[0m\u001b[0;34m=\u001b[0m\u001b[0maxis\u001b[0m\u001b[0;34m,\u001b[0m \u001b[0mskipna\u001b[0m\u001b[0;34m=\u001b[0m\u001b[0mskipna\u001b[0m\u001b[0;34m)\u001b[0m\u001b[0;34m\u001b[0m\u001b[0m\n\u001b[0m\u001b[1;32m   6983\u001b[0m         \u001b[0mindex\u001b[0m \u001b[0;34m=\u001b[0m \u001b[0mself\u001b[0m\u001b[0;34m.\u001b[0m\u001b[0m_get_axis\u001b[0m\u001b[0;34m(\u001b[0m\u001b[0maxis\u001b[0m\u001b[0;34m)\u001b[0m\u001b[0;34m\u001b[0m\u001b[0m\n\u001b[1;32m   6984\u001b[0m         \u001b[0mresult\u001b[0m \u001b[0;34m=\u001b[0m \u001b[0;34m[\u001b[0m\u001b[0mindex\u001b[0m\u001b[0;34m[\u001b[0m\u001b[0mi\u001b[0m\u001b[0;34m]\u001b[0m \u001b[0;32mif\u001b[0m \u001b[0mi\u001b[0m \u001b[0;34m>=\u001b[0m \u001b[0;36m0\u001b[0m \u001b[0;32melse\u001b[0m \u001b[0mnp\u001b[0m\u001b[0;34m.\u001b[0m\u001b[0mnan\u001b[0m \u001b[0;32mfor\u001b[0m \u001b[0mi\u001b[0m \u001b[0;32min\u001b[0m \u001b[0mindices\u001b[0m\u001b[0;34m]\u001b[0m\u001b[0;34m\u001b[0m\u001b[0m\n",
      "\u001b[0;32m~/anaconda3/lib/python3.6/site-packages/pandas/core/nanops.py\u001b[0m in \u001b[0;36m_f\u001b[0;34m(*args, **kwargs)\u001b[0m\n\u001b[1;32m     72\u001b[0m             \u001b[0;32mif\u001b[0m \u001b[0many\u001b[0m\u001b[0;34m(\u001b[0m\u001b[0mself\u001b[0m\u001b[0;34m.\u001b[0m\u001b[0mcheck\u001b[0m\u001b[0;34m(\u001b[0m\u001b[0mobj\u001b[0m\u001b[0;34m)\u001b[0m \u001b[0;32mfor\u001b[0m \u001b[0mobj\u001b[0m \u001b[0;32min\u001b[0m \u001b[0mobj_iter\u001b[0m\u001b[0;34m)\u001b[0m\u001b[0;34m:\u001b[0m\u001b[0;34m\u001b[0m\u001b[0m\n\u001b[1;32m     73\u001b[0m                 \u001b[0mmsg\u001b[0m \u001b[0;34m=\u001b[0m \u001b[0;34m'reduction operation {name!r} not allowed for this dtype'\u001b[0m\u001b[0;34m\u001b[0m\u001b[0m\n\u001b[0;32m---> 74\u001b[0;31m                 \u001b[0;32mraise\u001b[0m \u001b[0mTypeError\u001b[0m\u001b[0;34m(\u001b[0m\u001b[0mmsg\u001b[0m\u001b[0;34m.\u001b[0m\u001b[0mformat\u001b[0m\u001b[0;34m(\u001b[0m\u001b[0mname\u001b[0m\u001b[0;34m=\u001b[0m\u001b[0mf\u001b[0m\u001b[0;34m.\u001b[0m\u001b[0m__name__\u001b[0m\u001b[0;34m.\u001b[0m\u001b[0mreplace\u001b[0m\u001b[0;34m(\u001b[0m\u001b[0;34m'nan'\u001b[0m\u001b[0;34m,\u001b[0m \u001b[0;34m''\u001b[0m\u001b[0;34m)\u001b[0m\u001b[0;34m)\u001b[0m\u001b[0;34m)\u001b[0m\u001b[0;34m\u001b[0m\u001b[0m\n\u001b[0m\u001b[1;32m     75\u001b[0m             \u001b[0;32mtry\u001b[0m\u001b[0;34m:\u001b[0m\u001b[0;34m\u001b[0m\u001b[0m\n\u001b[1;32m     76\u001b[0m                 \u001b[0;32mwith\u001b[0m \u001b[0mnp\u001b[0m\u001b[0;34m.\u001b[0m\u001b[0merrstate\u001b[0m\u001b[0;34m(\u001b[0m\u001b[0minvalid\u001b[0m\u001b[0;34m=\u001b[0m\u001b[0;34m'ignore'\u001b[0m\u001b[0;34m)\u001b[0m\u001b[0;34m:\u001b[0m\u001b[0;34m\u001b[0m\u001b[0m\n",
      "\u001b[0;31mTypeError\u001b[0m: reduction operation 'argmin' not allowed for this dtype"
     ]
    }
   ],
   "source": [
    "ans = df.sum()                # Sum of values\n",
    "print(\"df.sum() = \\n{}\\n\".format(ans))\n",
    "ans = df.cumsum()             # Cummulative sum of values\n",
    "print(\"df.cumsum() = \\n{}\\n\".format(ans))\n",
    "ans = df.ix[:,'Population'].min()/df.ix[:,'Population'].max()       # Minimum/maximum values\n",
    "print(\"df.min()/df.max() = {}\\n\".format(ans))\n",
    "ans = df.idxmin()/df.idxmax() # Minimum/Maximum index value\n",
    "print(\"df.idxmin()/df.idxmax() = {}\\n\".format(ans))\n",
    "ans = df.describe()           # Summary statistics\n",
    "print(\"df.describe() = {}\\n\".format(ans))\n",
    "ans = df.mean()               # Mean of values\n",
    "print(\"df.mean() = {}\\n\".format(ans))\n",
    "ans = df.median()             # Median of values\n",
    "print(\"df.median() = {}\\n\".format(ans))"
   ]
  },
  {
   "cell_type": "markdown",
   "metadata": {},
   "source": [
    "## Applying Functions"
   ]
  },
  {
   "cell_type": "code",
   "execution_count": 57,
   "metadata": {},
   "outputs": [
    {
     "name": "stdout",
     "output_type": "stream",
     "text": [
      "df = \n",
      "   Country    Capital  Population\n",
      "0  Belgium   Brussels    11190846\n",
      "1    India  New Delhi  1303171035\n",
      "2   Brazil   Brasília   207847528\n",
      "\n",
      "df.apply(f) = \n",
      "          Country             Capital  Population\n",
      "0  BelgiumBelgium    BrusselsBrussels    22381692\n",
      "1      IndiaIndia  New DelhiNew Delhi  2606342070\n",
      "2    BrazilBrazil    BrasíliaBrasília   415695056\n",
      "\n",
      "df.applymap(f) = \n",
      "          Country             Capital  Population\n",
      "0  BelgiumBelgium    BrusselsBrussels    22381692\n",
      "1      IndiaIndia  New DelhiNew Delhi  2606342070\n",
      "2    BrazilBrazil    BrasíliaBrasília   415695056\n",
      "\n"
     ]
    }
   ],
   "source": [
    "print(\"df = \\n{}\\n\".format(df))\n",
    "f = lambda x: x*2\n",
    "ans = df.apply(f)     # Apply function\n",
    "print(\"df.apply(f) = \\n{}\\n\".format(ans))\n",
    "ans = df.applymap(f)  # Apply function element-wise\n",
    "print(\"df.applymap(f) = \\n{}\\n\".format(ans))"
   ]
  },
  {
   "cell_type": "markdown",
   "metadata": {},
   "source": [
    "## Data Alignment"
   ]
  },
  {
   "cell_type": "markdown",
   "metadata": {},
   "source": [
    "### Internal Data Alignment\n",
    "NA values are introduced in the indices that don’t overlap:"
   ]
  },
  {
   "cell_type": "code",
   "execution_count": 58,
   "metadata": {},
   "outputs": [
    {
     "data": {
      "text/plain": [
       "a    13.0\n",
       "b     NaN\n",
       "c     5.0\n",
       "d     7.0\n",
       "dtype: float64"
      ]
     },
     "execution_count": 58,
     "metadata": {},
     "output_type": "execute_result"
    }
   ],
   "source": [
    "s3 = pd.Series([7, -2, 3], index=['a', 'c', 'd'])\n",
    "s + s3"
   ]
  },
  {
   "cell_type": "markdown",
   "metadata": {},
   "source": [
    "### Arithmetic Operation with Fill Methods\n",
    "You can also do the internal data alignment yourself with the help of the fill methods:"
   ]
  },
  {
   "cell_type": "code",
   "execution_count": 64,
   "metadata": {},
   "outputs": [
    {
     "name": "stdout",
     "output_type": "stream",
     "text": [
      "s = \n",
      "a    6\n",
      "b   -5\n",
      "c    7\n",
      "d    4\n",
      "dtype: int64\n",
      "\n",
      "s3 = \n",
      "a    7\n",
      "c   -2\n",
      "d    3\n",
      "dtype: int64\n",
      "\n",
      "s.add(s3, fill_value=0) = \n",
      "a    13.0\n",
      "b    -5.0\n",
      "c     5.0\n",
      "d     7.0\n",
      "dtype: float64\n",
      "\n",
      "s.sub(s3, fill_value=2) = \n",
      "a   -1.0\n",
      "b   -7.0\n",
      "c    9.0\n",
      "d    1.0\n",
      "dtype: float64\n",
      "\n",
      "s.div(s3, fill_value=4) = \n",
      "a    0.857143\n",
      "b   -1.250000\n",
      "c   -3.500000\n",
      "d    1.333333\n",
      "dtype: float64\n",
      "\n",
      "s.mul(s3, fill_value=3) = \n",
      "a    42.0\n",
      "b   -15.0\n",
      "c   -14.0\n",
      "d    12.0\n",
      "dtype: float64\n",
      "\n"
     ]
    }
   ],
   "source": [
    "print(\"s = \\n{}\\n\".format(s))\n",
    "print(\"s3 = \\n{}\\n\".format(s3))\n",
    "\n",
    "ans = s.add(s3, fill_value=0)\n",
    "print(\"s.add(s3, fill_value=0) = \\n{}\\n\".format(ans))\n",
    "ans = s.sub(s3, fill_value=2)\n",
    "print(\"s.sub(s3, fill_value=2) = \\n{}\\n\".format(ans))\n",
    "ans = s.div(s3, fill_value=4)\n",
    "print(\"s.div(s3, fill_value=4) = \\n{}\\n\".format(ans))\n",
    "ans = s.mul(s3, fill_value=3)\n",
    "print(\"s.mul(s3, fill_value=3) = \\n{}\\n\".format(ans))"
   ]
  },
  {
   "cell_type": "markdown",
   "metadata": {},
   "source": [
    "## I/O"
   ]
  },
  {
   "cell_type": "markdown",
   "metadata": {},
   "source": [
    "### Read and Write CSV"
   ]
  },
  {
   "cell_type": "code",
   "execution_count": 81,
   "metadata": {},
   "outputs": [
    {
     "name": "stdout",
     "output_type": "stream",
     "text": [
      "titanic_headerless.csv = \n",
      "   0     1       2      3   4   5\n",
      "0  1   1st    Male  Child  No   0\n",
      "1  2   2nd    Male  Child  No   0\n",
      "2  3   3rd    Male  Child  No  35\n",
      "3  4  Crew    Male  Child  No   0\n",
      "4  5   1st  Female  Child  No   0\n",
      "\n",
      "titanic.csv = \n",
      "   Number Class     Sex    Age Survived  Freq\n",
      "0       1   1st    Male  Child       No     0\n",
      "1       2   2nd    Male  Child       No     0\n",
      "2       3   3rd    Male  Child       No    35\n",
      "3       4  Crew    Male  Child       No     0\n",
      "4       5   1st  Female  Child       No     0\n",
      "5       6   2nd  Female  Child       No     0\n",
      "6       7   3rd  Female  Child       No    17\n",
      "7       8  Crew  Female  Child       No     0\n",
      "8       9   1st    Male  Adult       No   118\n",
      "9      10   2nd    Male  Adult       No   154\n",
      "\n"
     ]
    }
   ],
   "source": [
    "df = pd.read_csv('../sample_files/data/titanic_headerless.csv', header=None, nrows=5)\n",
    "print(\"titanic_headerless.csv = \\n{}\\n\".format(df))\n",
    "df.to_csv('../sample_files/data/titanic_headerless_5row.csv')\n",
    "\n",
    "df = pd.read_csv('../sample_files/data/titanic.csv', header='infer', nrows=10)\n",
    "print(\"titanic.csv = \\n{}\\n\".format(df))\n",
    "df.to_csv('../sample_files/data/titanic_10row.csv')"
   ]
  },
  {
   "cell_type": "markdown",
   "metadata": {},
   "source": [
    "### Read and Write to Excel"
   ]
  },
  {
   "cell_type": "code",
   "execution_count": 85,
   "metadata": {},
   "outputs": [
    {
     "name": "stdout",
     "output_type": "stream",
     "text": [
      "urbanpop.xlsx = \n",
      "               country        1960          1961          1962          1963  \\\n",
      "0          Afghanistan    769308.0  8.149230e+05  8.585217e+05  9.039139e+05   \n",
      "1              Albania    494443.0  5.118028e+05  5.294389e+05  5.473767e+05   \n",
      "2              Algeria   3293999.0  3.515148e+06  3.739963e+06  3.973289e+06   \n",
      "3       American Samoa         NaN  1.366030e+04  1.416580e+04  1.475893e+04   \n",
      "4              Andorra         NaN  8.723921e+03  9.700346e+03  1.074838e+04   \n",
      "5               Angola    521205.0  5.482650e+05  5.796954e+05  6.120867e+05   \n",
      "6  Antigua and Barbuda     21699.0  2.163505e+04  2.166420e+04  2.174074e+04   \n",
      "7            Argentina  15224096.0  1.554522e+07  1.591212e+07  1.628235e+07   \n",
      "8              Armenia    957974.0  1.008597e+06  1.061426e+06  1.115612e+06   \n",
      "9                Aruba     24996.0  2.813976e+04  2.853273e+04  2.876312e+04   \n",
      "\n",
      "           1964          1965          1966  \n",
      "0  9.512259e+05  1.000582e+06  1.058743e+06  \n",
      "1  5.655718e+05  5.839829e+05  6.025122e+05  \n",
      "2  4.220987e+06  4.488176e+06  4.649105e+06  \n",
      "3  1.539642e+04  1.604482e+04  1.669311e+04  \n",
      "4  1.186586e+04  1.305275e+04  1.421681e+04  \n",
      "5  6.452616e+05  6.791091e+05  7.178334e+05  \n",
      "6  2.183018e+04  2.190889e+04  2.200313e+04  \n",
      "7  1.665441e+07  1.702771e+07  1.738981e+07  \n",
      "8  1.170683e+06  1.226270e+06  1.281582e+06  \n",
      "9  2.892339e+04  2.908253e+04  2.925223e+04  \n",
      "\n",
      "urbanpop.xlsx = \n",
      "<pandas.io.excel.ExcelFile object at 0x7f1019a3ad68>\n",
      "\n",
      "urbanpop.xlsx|urbanpop_sheet = \n",
      "               country        1960          1961          1962          1963  \\\n",
      "0          Afghanistan    769308.0  8.149230e+05  8.585217e+05  9.039139e+05   \n",
      "1              Albania    494443.0  5.118028e+05  5.294389e+05  5.473767e+05   \n",
      "2              Algeria   3293999.0  3.515148e+06  3.739963e+06  3.973289e+06   \n",
      "3       American Samoa         NaN  1.366030e+04  1.416580e+04  1.475893e+04   \n",
      "4              Andorra         NaN  8.723921e+03  9.700346e+03  1.074838e+04   \n",
      "5               Angola    521205.0  5.482650e+05  5.796954e+05  6.120867e+05   \n",
      "6  Antigua and Barbuda     21699.0  2.163505e+04  2.166420e+04  2.174074e+04   \n",
      "7            Argentina  15224096.0  1.554522e+07  1.591212e+07  1.628235e+07   \n",
      "8              Armenia    957974.0  1.008597e+06  1.061426e+06  1.115612e+06   \n",
      "9                Aruba     24996.0  2.813976e+04  2.853273e+04  2.876312e+04   \n",
      "\n",
      "           1964          1965          1966  \n",
      "0  9.512259e+05  1.000582e+06  1.058743e+06  \n",
      "1  5.655718e+05  5.839829e+05  6.025122e+05  \n",
      "2  4.220987e+06  4.488176e+06  4.649105e+06  \n",
      "3  1.539642e+04  1.604482e+04  1.669311e+04  \n",
      "4  1.186586e+04  1.305275e+04  1.421681e+04  \n",
      "5  6.452616e+05  6.791091e+05  7.178334e+05  \n",
      "6  2.183018e+04  2.190889e+04  2.200313e+04  \n",
      "7  1.665441e+07  1.702771e+07  1.738981e+07  \n",
      "8  1.170683e+06  1.226270e+06  1.281582e+06  \n",
      "9  2.892339e+04  2.908253e+04  2.925223e+04  \n",
      "\n"
     ]
    }
   ],
   "source": [
    "xlsx = pd.read_excel('../sample_files/data/urbanpop.xlsx', nrows=10)\n",
    "print(\"urbanpop.xlsx = \\n{}\\n\".format(xlsx))\n",
    "\n",
    "#writer = pd.ExcelWriter('./sample_files/data/urbanpop_write.xlsx')\n",
    "#xlsx.to_excel(writer, sheet_name='urbanpop_sheet')\n",
    "xlsx.to_excel('../sample_files/data/urbanpop_write.xlsx', sheet_name='urbanpop_sheet')\n",
    "\n",
    "# Read multiple sheets from the same file\n",
    "xlsx = pd.ExcelFile('../sample_files/data/urbanpop_write.xlsx')\n",
    "df = pd.read_excel(xlsx, 'urbanpop_sheet')\n",
    "print(\"urbanpop_write.xlsx = \\n{}\\n\".format(xlsx))\n",
    "print(\"urbanpop_write.xlsx|urbanpop_sheet = \\n{}\\n\".format(df))"
   ]
  },
  {
   "cell_type": "markdown",
   "metadata": {},
   "source": [
    "### Read and Write to SQL Query or Database Table"
   ]
  },
  {
   "cell_type": "code",
   "execution_count": null,
   "metadata": {},
   "outputs": [],
   "source": [
    "from sqlalchemy import create_engine\n",
    "engine = create_engine('sqlite:///:memory:')\n",
    "pd.read_sql(\"SELECT * FROM my_table;\", engine)\n",
    "pd.read_sql_table('my_table', engine)\n",
    "pd.read_sql_query(\"SELECT * FROM my_table;\", engine)"
   ]
  },
  {
   "cell_type": "markdown",
   "metadata": {},
   "source": [
    "read_sql()is a convenience wrapper around read_sql_table() and read_sql_query()"
   ]
  },
  {
   "cell_type": "code",
   "execution_count": null,
   "metadata": {},
   "outputs": [],
   "source": [
    "pd.to_sql('myDf', engine)"
   ]
  }
 ],
 "metadata": {
  "kernelspec": {
   "display_name": "Python 3",
   "language": "python",
   "name": "python3"
  },
  "language_info": {
   "codemirror_mode": {
    "name": "ipython",
    "version": 3
   },
   "file_extension": ".py",
   "mimetype": "text/x-python",
   "name": "python",
   "nbconvert_exporter": "python",
   "pygments_lexer": "ipython3",
   "version": "3.6.5"
  }
 },
 "nbformat": 4,
 "nbformat_minor": 2
}
