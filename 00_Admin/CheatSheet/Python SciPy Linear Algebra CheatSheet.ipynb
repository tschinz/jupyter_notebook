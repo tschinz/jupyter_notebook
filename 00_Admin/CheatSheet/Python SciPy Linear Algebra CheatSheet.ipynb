{
 "cells": [
  {
   "cell_type": "markdown",
   "metadata": {},
   "source": [
    "# Python SciPy Linear Algebra CheatSheet\n",
    "<img src=\"../sample_files/logos/scipy.svg\" width=\"150\" />\n",
    "The SciPy library is one of the core packages for scientific computing that provides mathematical algorithms and convenience functions built on the NumPy extension of Python."
   ]
  },
  {
   "cell_type": "markdown",
   "metadata": {},
   "source": [
    "## Asking for Help"
   ]
  },
  {
   "cell_type": "code",
   "execution_count": null,
   "metadata": {},
   "outputs": [],
   "source": [
    "help(scipy.linalg.diagsvd)\n",
    "np.info(np.matrix)"
   ]
  },
  {
   "cell_type": "markdown",
   "metadata": {},
   "source": [
    "## Interacting with NumPy"
   ]
  },
  {
   "cell_type": "code",
   "execution_count": 3,
   "metadata": {},
   "outputs": [],
   "source": [
    "import numpy as np\n",
    "a = np.array([1,2,3])\n",
    "b = np.array([(1+5j,2j,3j), (4j,5j,6j)])\n",
    "c = np.array([[(1.5,2,3), (4,5,6)], [(3,2,1), (4,5,6)]])"
   ]
  },
  {
   "cell_type": "markdown",
   "metadata": {},
   "source": [
    "### Index Tricks"
   ]
  },
  {
   "cell_type": "code",
   "execution_count": 8,
   "metadata": {},
   "outputs": [
    {
     "name": "stdout",
     "output_type": "stream",
     "text": [
      "np.mgrid[0:5,0:5] = \n",
      "[[[0 0 0 0 0]\n",
      "  [1 1 1 1 1]\n",
      "  [2 2 2 2 2]\n",
      "  [3 3 3 3 3]\n",
      "  [4 4 4 4 4]]\n",
      "\n",
      " [[0 1 2 3 4]\n",
      "  [0 1 2 3 4]\n",
      "  [0 1 2 3 4]\n",
      "  [0 1 2 3 4]\n",
      "  [0 1 2 3 4]]]\n",
      "np.ogrid[0:2,0:2] = \n",
      "[array([[0],\n",
      "       [1]]), array([[0, 1]])]\n",
      "np.r_[3,[0]*5,-1:1:10j] = \n",
      "[ 3.          0.          0.          0.          0.          0.\n",
      " -1.         -0.77777778 -0.55555556 -0.33333333 -0.11111111  0.11111111\n",
      "  0.33333333  0.55555556  0.77777778  1.        ]\n"
     ]
    }
   ],
   "source": [
    "ans = np.mgrid[0:5,0:5]       # Create a dense meshgrid\n",
    "print(\"np.mgrid[0:5,0:5] = \\n{}\".format(ans))\n",
    "ans = np.ogrid[0:2,0:2]       # Create an open meshgrid\n",
    "print(\"np.ogrid[0:2,0:2] = \\n{}\".format(ans))\n",
    "ans = np.r_[3,[0]*5,-1:1:10j] # Stack arrays vertically (row-wise)\n",
    "print(\"np.r_[3,[0]*5,-1:1:10j] = \\n{}\".format(ans))\n",
    "#np.c_[b,c]              # Create stacked column-wise arrays"
   ]
  },
  {
   "cell_type": "markdown",
   "metadata": {},
   "source": [
    "### Shape Manipulation"
   ]
  },
  {
   "cell_type": "code",
   "execution_count": 14,
   "metadata": {},
   "outputs": [
    {
     "name": "stdout",
     "output_type": "stream",
     "text": [
      "np.transpose(b) = \n",
      "[[1.+5.j 0.+4.j]\n",
      " [0.+2.j 0.+5.j]\n",
      " [0.+3.j 0.+6.j]]\n",
      "b.flatten() = \n",
      "[[1.+5.j 0.+4.j]\n",
      " [0.+2.j 0.+5.j]\n",
      " [0.+3.j 0.+6.j]]\n",
      "np.vstack((a,b)) = \n",
      "[[1.+0.j 2.+0.j 3.+0.j]\n",
      " [1.+5.j 0.+2.j 0.+3.j]\n",
      " [0.+4.j 0.+5.j 0.+6.j]]\n",
      "np.hsplit(c,2) = \n",
      "[array([[[1.5, 2. , 3. ]],\n",
      "\n",
      "       [[3. , 2. , 1. ]]]), array([[[4., 5., 6.]],\n",
      "\n",
      "       [[4., 5., 6.]]])]\n",
      "np.vsplit(c,2) = \n",
      "[array([[[1.5, 2. , 3. ],\n",
      "        [4. , 5. , 6. ]]]), array([[[3., 2., 1.],\n",
      "        [4., 5., 6.]]])]\n"
     ]
    }
   ],
   "source": [
    "ans = np.transpose(b)  # Permute array dimensions\n",
    "print(\"np.transpose(b) = \\n{}\".format(ans))\n",
    "b.flatten()      # Flatten the array\n",
    "print(\"b.flatten() = \\n{}\".format(ans))\n",
    "#ans = np.hstack((b,c)) # Stack arrays horizontally (column-wise)\n",
    "#print(\"np.hstack((b,c)) = \\n{}\".format(ans))\n",
    "ans = np.vstack((a,b)) # Stack arrays vertically (row-wise)\n",
    "print(\"np.vstack((a,b)) = \\n{}\".format(ans))\n",
    "ans = np.hsplit(c,2)   # Split the array horizontally at the 2nd index\n",
    "print(\"np.hsplit(c,2) = \\n{}\".format(ans))\n",
    "ans = np.vsplit(c,2)   # Split the array vertically at the 2nd index\n",
    "print(\"np.vsplit(c,2) = \\n{}\".format(ans))"
   ]
  },
  {
   "cell_type": "markdown",
   "metadata": {},
   "source": [
    "### Polynomials\n",
    "$p = 3x^2+4x+5$"
   ]
  },
  {
   "cell_type": "code",
   "execution_count": 16,
   "metadata": {},
   "outputs": [
    {
     "name": "stdout",
     "output_type": "stream",
     "text": [
      "   2\n",
      "3 x + 4 x + 5\n"
     ]
    }
   ],
   "source": [
    "from numpy import poly1d\n",
    "p = poly1d([3,4,5]) # Create a polynomial object\n",
    "print(p)"
   ]
  },
  {
   "cell_type": "markdown",
   "metadata": {},
   "source": [
    "### Vectorizing Functions\n",
    "Define a vectorized function which takes a nested sequence of objects or numpy arrays as inputs and returns an single or tuple of numpy array as output."
   ]
  },
  {
   "cell_type": "code",
   "execution_count": 23,
   "metadata": {},
   "outputs": [
    {
     "data": {
      "text/plain": [
       "array([0.5, 1. , 1.5])"
      ]
     },
     "execution_count": 23,
     "metadata": {},
     "output_type": "execute_result"
    }
   ],
   "source": [
    "def func(a):\n",
    "  if a < 0:\n",
    "    return a*2\n",
    "  else:\n",
    "    return a/2\n",
    "vectorized_func = np.vectorize(myfunc) # Vectorize functions\n",
    "vectorized_func([1, 2, 3])\n",
    "vectorized_func(a)"
   ]
  },
  {
   "cell_type": "markdown",
   "metadata": {},
   "source": [
    "### Type Handling"
   ]
  },
  {
   "cell_type": "code",
   "execution_count": 24,
   "metadata": {},
   "outputs": [
    {
     "name": "stdout",
     "output_type": "stream",
     "text": [
      "np.real(b) = \n",
      "[[1. 0. 0.]\n",
      " [0. 0. 0.]]\n",
      "np.imag(b) = \n",
      "[[5. 2. 3.]\n",
      " [4. 5. 6.]]\n",
      "np.real_if_close(c,tol=1000) = \n",
      "[[[1.5 2.  3. ]\n",
      "  [4.  5.  6. ]]\n",
      "\n",
      " [[3.  2.  1. ]\n",
      "  [4.  5.  6. ]]]\n",
      "np.cast['f'](np.pi) = \n",
      "3.1415927410125732\n"
     ]
    }
   ],
   "source": [
    "ans = np.real(b)                   # Return the real part of the array elements\n",
    "print(\"np.real(b) = \\n{}\".format(ans))\n",
    "ans = np.imag(b)                   # Return the imaginary part of the array elements\n",
    "print(\"np.imag(b) = \\n{}\".format(ans))\n",
    "ans = np.real_if_close(c,tol=1000) # Return a real array if complex parts close to 0\n",
    "print(\"np.real_if_close(c,tol=1000) = \\n{}\".format(ans))\n",
    "ans = np.cast['f'](np.pi)          # Cast object to a data type\n",
    "print(\"np.cast['f'](np.pi) = \\n{}\".format(ans))"
   ]
  },
  {
   "cell_type": "markdown",
   "metadata": {},
   "source": [
    "### Other Useful Functions"
   ]
  },
  {
   "cell_type": "code",
   "execution_count": 39,
   "metadata": {},
   "outputs": [
    {
     "name": "stdout",
     "output_type": "stream",
     "text": [
      "np.angle(b,deg=True) =\n",
      "[[78.69006753 90.         90.        ]\n",
      " [90.         90.         90.        ]]\n",
      "np.linspace(0,np.pi,num=5) =\n",
      "[0.         0.78539816 1.57079633 2.35619449 3.14159265]\n",
      "g[3:] += np.pi  =\n",
      "[0.         0.78539816 1.57079633 5.49778714 6.28318531]\n",
      "np.unwrap(g) =\n",
      "[0.         0.78539816 1.57079633 5.49778714 6.28318531]\n",
      "np.logspace(0,10,3) =\n",
      "[0.         0.78539816 1.57079633 5.49778714 6.28318531]\n",
      "np.select([c<4],[c*2]) =\n",
      "[0.         0.78539816 1.57079633 5.49778714 6.28318531]\n",
      "misc.factorial(a) =\n",
      "[0.         0.78539816 1.57079633 5.49778714 6.28318531]\n",
      "misc.comb(10,3,exact=True) =\n",
      "[0.         0.78539816 1.57079633 5.49778714 6.28318531]\n",
      "misc.central_diff_weights(3) =\n",
      "[0.         0.78539816 1.57079633 5.49778714 6.28318531]\n",
      "misc.derivative(myfunc,1.0) =\n",
      "[0.         0.78539816 1.57079633 5.49778714 6.28318531]\n"
     ]
    }
   ],
   "source": [
    "import scipy\n",
    "ans = np.angle(b,deg=True)     # Return the angle of the complex argument\n",
    "print(\"np.angle(b,deg=True) =\\n{}\".format(ans))\n",
    "g = np.linspace(0,np.pi,num=5) # Create an array of evenly spaced values\n",
    "print(\"np.linspace(0,np.pi,num=5) =\\n{}\".format(g))\n",
    "g[3:] += np.pi                 # (number of samples)\n",
    "print(\"g[3:] += np.pi  =\\n{}\".format(g))\n",
    "ans = np.unwrap(g)                   # Unwrap\n",
    "print(\"np.unwrap(g) =\\n{}\".format(g))\n",
    "ans = np.logspace(0,10,3)            # Create an array of evenly spaced values (log scale)\n",
    "print(\"np.logspace(0,10,3) =\\n{}\".format(g))\n",
    "ans = np.select([c<4],[c*2])         # Return values from a list of arrays depending on conditions\n",
    "print(\"np.select([c<4],[c*2]) =\\n{}\".format(g))\n",
    "ans = scipy.special.factorial(a)              # Factorial\n",
    "print(\"scipy.special.factorial(a) =\\n{}\".format(g))\n",
    "ans = scipy.special.comb(10,3,exact=True)     # Combine N things taken at k time\n",
    "print(\"scipy.special.comb(10,3,exact=True) =\\n{}\".format(g))\n",
    "ans = scipy.misc.central_diff_weights(3)   # Weights for Np-point central derivative\n",
    "print(\"scipy.misc.central_diff_weights(3) =\\n{}\".format(g))\n",
    "ans = scipy.misc.derivative(myfunc,1.0)    # Find the n-th derivative of a function at a point\n",
    "print(\"scipy.misc.derivative(myfunc,1.0) =\\n{}\".format(g))"
   ]
  },
  {
   "cell_type": "markdown",
   "metadata": {},
   "source": [
    "## Linear Algebra\n",
    "You’ll use the`linalg` and `sparse` modules. Note that `scipy.linalg` contains and expands on `numpy.linalg`."
   ]
  },
  {
   "cell_type": "code",
   "execution_count": 43,
   "metadata": {},
   "outputs": [],
   "source": [
    "from scipy import linalg, sparse"
   ]
  },
  {
   "cell_type": "markdown",
   "metadata": {},
   "source": [
    "### Creating Matrices"
   ]
  },
  {
   "cell_type": "code",
   "execution_count": 46,
   "metadata": {},
   "outputs": [
    {
     "name": "stdout",
     "output_type": "stream",
     "text": [
      " A=\n",
      "[[0.41535575 0.05248234]\n",
      " [0.59596127 0.26570118]]\n",
      "B=\n",
      "[[1.+5.j 0.+2.j 0.+3.j]\n",
      " [0.+4.j 0.+5.j 0.+6.j]]\n",
      "C=\n",
      "[[0.87196631 0.85059865 0.43109014 0.72926946 0.05504349]\n",
      " [0.1267211  0.66255714 0.65928221 0.53978017 0.86726603]\n",
      " [0.59678061 0.41680812 0.23374995 0.83862778 0.30799501]\n",
      " [0.5163074  0.5755012  0.96140432 0.21797779 0.12238564]\n",
      " [0.03612404 0.21578817 0.85761329 0.02176608 0.2995802 ]\n",
      " [0.03107766 0.14341377 0.19893061 0.38395095 0.28332364]\n",
      " [0.98536908 0.50471775 0.45862977 0.94852765 0.24265192]\n",
      " [0.30727293 0.12903476 0.36659723 0.00309417 0.64608388]\n",
      " [0.90171263 0.23402267 0.61745369 0.42015993 0.3112721 ]\n",
      " [0.01780881 0.58215475 0.54080491 0.28480372 0.69636211]]\n",
      "D=\n",
      "[[3 4]\n",
      " [5 6]]\n"
     ]
    }
   ],
   "source": [
    "A = np.matrix(np.random.random((2,2)))\n",
    "B = np.asmatrix(b)\n",
    "C = np.mat(np.random.random((10,5)))\n",
    "D = np.mat([[3,4], [5,6]])\n",
    "print(\" A=\\n{}\\nB=\\n{}\\nC=\\n{}\\nD=\\n{}\".format(A,B,C,D))"
   ]
  },
  {
   "cell_type": "markdown",
   "metadata": {},
   "source": [
    "### Basic Matrix Routines"
   ]
  },
  {
   "cell_type": "code",
   "execution_count": 58,
   "metadata": {},
   "outputs": [
    {
     "name": "stdout",
     "output_type": "stream",
     "text": [
      "A.I = \n",
      "[[ 3.35977324 -0.66363561]\n",
      " [-7.53588939  5.25214491]]\n",
      "linalg.inv(A) = \n",
      "[[ 3.35977324 -0.66363561]\n",
      " [-7.53588939  5.25214491]]\n",
      "A.T = \n",
      "[[0.41535575 0.59596127]\n",
      " [0.05248234 0.26570118]]\n",
      "A.H = \n",
      "[[0.41535575 0.59596127]\n",
      " [0.05248234 0.26570118]]\n",
      "np.trace(A) = \n",
      "0.6810569292256414\n",
      "linalg.norm(A) =\n",
      "0.7752688223920543\n",
      "linalg.norm(A,1) =\n",
      "1.011317016602859\n",
      "linalg.norm(A,np.inf) =\n",
      "0.8616624544177166\n",
      "np.linalg.matrix_rank(C) =\n",
      "5\n",
      "linalg.det(A) =\n",
      "0.07908307039182563\n",
      "np.linalg.solve(np.array([[3,1], [1,2]]), np.array([9,8])) =\n",
      "[2. 3.]\n",
      "np.mat(a).T =\n",
      "[[1]\n",
      " [2]\n",
      " [3]]\n",
      "linalg.lstsq(A,D) =\n",
      "(array([[6.76114169, 9.45727932],\n",
      "       [3.65305639, 1.36931192]]), array([], dtype=float64), 2, array([0.76840718, 0.10291818]))\n",
      "linalg.pinv(C) =\n",
      "[[ 3.25500467e-01 -3.43200596e-01 -1.86174769e-01 -1.41061662e-02\n",
      "  -4.68316297e-01 -5.23240832e-01  9.06819243e-02  7.84606771e-01\n",
      "   6.47016110e-01 -1.47886246e-01]\n",
      " [ 1.23676944e+00  2.44079438e-01 -3.85736987e-01  3.10134581e-01\n",
      "  -6.35646342e-01 -6.16592552e-01 -4.78873164e-01  3.93282154e-02\n",
      "  -6.08604608e-01  6.41110760e-01]\n",
      " [-5.01903687e-01 -6.67243352e-02  1.86346910e-02  5.23813682e-01\n",
      "   9.54985008e-01  3.61260790e-01  1.22458750e-01 -4.44552765e-01\n",
      "   1.54052007e-01 -2.34431583e-01]\n",
      " [-5.39325964e-01  1.77213491e-01  7.51189676e-01 -2.75133537e-01\n",
      "   4.38429370e-01  8.78297337e-01  5.82723541e-01 -9.03107629e-01\n",
      "  -2.14389399e-01 -2.77247359e-01]\n",
      " [-2.42428775e-01  3.55861663e-01  1.08854250e-03 -4.83382068e-01\n",
      "  -3.36976397e-01 -6.62963392e-02 -9.29764881e-02  9.07592594e-01\n",
      "   2.61839574e-01  3.41708063e-01]]\n",
      "linalg.pinv2(C) =\n",
      "[[ 3.25500467e-01 -3.43200596e-01 -1.86174769e-01 -1.41061662e-02\n",
      "  -4.68316297e-01 -5.23240832e-01  9.06819243e-02  7.84606771e-01\n",
      "   6.47016110e-01 -1.47886246e-01]\n",
      " [ 1.23676944e+00  2.44079438e-01 -3.85736987e-01  3.10134581e-01\n",
      "  -6.35646342e-01 -6.16592552e-01 -4.78873164e-01  3.93282154e-02\n",
      "  -6.08604608e-01  6.41110760e-01]\n",
      " [-5.01903687e-01 -6.67243352e-02  1.86346910e-02  5.23813682e-01\n",
      "   9.54985008e-01  3.61260790e-01  1.22458750e-01 -4.44552765e-01\n",
      "   1.54052007e-01 -2.34431583e-01]\n",
      " [-5.39325964e-01  1.77213491e-01  7.51189676e-01 -2.75133537e-01\n",
      "   4.38429370e-01  8.78297337e-01  5.82723541e-01 -9.03107629e-01\n",
      "  -2.14389399e-01 -2.77247359e-01]\n",
      " [-2.42428775e-01  3.55861663e-01  1.08854250e-03 -4.83382068e-01\n",
      "  -3.36976397e-01 -6.62963392e-02 -9.29764881e-02  9.07592594e-01\n",
      "   2.61839574e-01  3.41708063e-01]]\n"
     ]
    }
   ],
   "source": [
    "# Inverse Matrix A^-1\n",
    "ans = A.I                    # Inverse \n",
    "print(\"A.I = \\n{}\".format(ans))\n",
    "ans = linalg.inv(A)          # Inverse\n",
    "print(\"linalg.inv(A) = \\n{}\".format(ans))\n",
    "\n",
    "# Transposition\n",
    "# Permute the dimensions of an array.\n",
    "ans = A.T                    # Transpose matrix\n",
    "print(\"A.T = \\n{}\".format(ans))\n",
    "ans = A.H                    # Conjugate transposition\n",
    "print(\"A.H = \\n{}\".format(ans))\n",
    "\n",
    "# Trace\n",
    "# Return the sum along diagonals of the array\n",
    "ans = np.trace(A)            # Trace\n",
    "print(\"np.trace(A) = \\n{}\".format(ans))\n",
    "\n",
    "# Norm\n",
    "ans = linalg.norm(A)        # Frobenius norm\n",
    "print(\"linalg.norm(A) =\\n{}\".format(ans))\n",
    "ans = linalg.norm(A,1)      # L1 norm (max column sum)\n",
    "print(\"linalg.norm(A,1) =\\n{}\".format(ans))\n",
    "ans = linalg.norm(A,np.inf) # L inf norm (max row sum)\n",
    "print(\"linalg.norm(A,np.inf) =\\n{}\".format(ans))\n",
    "\n",
    "# Rank\n",
    "# The number of linearly independent columns in a matrix is the rank of the matrix. The row and column rank of a matrix are always equal.\n",
    "ans = np.linalg.matrix_rank(C) # Matrix rank\n",
    "print(\"np.linalg.matrix_rank(C) =\\n{}\".format(ans))\n",
    "\n",
    "# Determinant\n",
    "# The determinant of a matrix is denoted, or. Geometrically, it can be viewed as the scaling factor of the linear transformation described by the matrix.\n",
    "ans = linalg.det(A) # Determinant\n",
    "print(\"linalg.det(A) =\\n{}\".format(ans))\n",
    "\n",
    "# Solving linear problems\n",
    "# Solve the system of equations 3 * x0 + x1 = 9 and x0 + 2 * x1 = 8:\n",
    "ans = np.linalg.solve(np.array([[3,1], [1,2]]), np.array([9,8]))\n",
    "print(\"np.linalg.solve(np.array([[3,1], [1,2]]), np.array([9,8])) =\\n{}\".format(ans))\n",
    "E = np.mat(a).T   # Solver for dense matrices\n",
    "print(\"np.mat(a).T =\\n{}\".format(E))\n",
    "ans = linalg.lstsq(A,D) # Least-squares solution to linear matrix equation\n",
    "print(\"linalg.lstsq(A,D) =\\n{}\".format(ans))\n",
    "\n",
    "# Generalized inverse\n",
    "ans = linalg.pinv(C)    # Compute the pseudo-inverse of a matrix (least-squares solver)\n",
    "print(\"linalg.pinv(C) =\\n{}\".format(ans))\n",
    "ans = linalg.pinv2(C)   # Compute the pseudo-inverse of a matrix (SVD)\n",
    "print(\"linalg.pinv2(C) =\\n{}\".format(ans))"
   ]
  },
  {
   "cell_type": "markdown",
   "metadata": {},
   "source": [
    "### Creating Sparse Matrices"
   ]
  },
  {
   "cell_type": "code",
   "execution_count": 63,
   "metadata": {},
   "outputs": [
    {
     "name": "stdout",
     "output_type": "stream",
     "text": [
      "np.eye(3, k=1) = \n",
      "[[0. 1. 0.]\n",
      " [0. 0. 1.]\n",
      " [0. 0. 0.]]\n",
      "np.mat(np.identity(2)) = \n",
      "[[1. 0.]\n",
      " [0. 1.]]\n",
      "C[C > 0.5] = 0 = \n",
      "[[0.         0.         0.43109014 0.         0.05504349]\n",
      " [0.1267211  0.         0.         0.         0.        ]\n",
      " [0.         0.41680812 0.23374995 0.         0.30799501]\n",
      " [0.         0.         0.         0.21797779 0.12238564]\n",
      " [0.03612404 0.21578817 0.         0.02176608 0.2995802 ]\n",
      " [0.03107766 0.14341377 0.19893061 0.38395095 0.28332364]\n",
      " [0.         0.         0.45862977 0.         0.24265192]\n",
      " [0.30727293 0.12903476 0.36659723 0.00309417 0.        ]\n",
      " [0.         0.23402267 0.         0.42015993 0.3112721 ]\n",
      " [0.01780881 0.         0.         0.28480372 0.        ]]\n",
      "np.mat(np.identity(2)) = \n",
      "  (0, 2)\t0.4310901356869927\n",
      "  (0, 4)\t0.05504348641515677\n",
      "  (1, 0)\t0.12672110454944197\n",
      "  (2, 1)\t0.4168081155065665\n",
      "  (2, 2)\t0.23374994673709137\n",
      "  (2, 4)\t0.3079950139772445\n",
      "  (3, 3)\t0.2179777878151511\n",
      "  (3, 4)\t0.12238564052707224\n",
      "  (4, 0)\t0.0361240359671372\n",
      "  (4, 1)\t0.21578816999415018\n",
      "  (4, 3)\t0.02176608178276973\n",
      "  (4, 4)\t0.2995802002453015\n",
      "  (5, 0)\t0.031077663750311624\n",
      "  (5, 1)\t0.14341377214196505\n",
      "  (5, 2)\t0.19893060533912177\n",
      "  (5, 3)\t0.3839509513467261\n",
      "  (5, 4)\t0.2833236352559476\n",
      "  (6, 2)\t0.45862977109386904\n",
      "  (6, 4)\t0.24265192010130598\n",
      "  (7, 0)\t0.3072729268824014\n",
      "  (7, 1)\t0.12903475727547187\n",
      "  (7, 2)\t0.36659723024664137\n",
      "  (7, 3)\t0.003094174825102214\n",
      "  (8, 1)\t0.2340226720629247\n",
      "  (8, 3)\t0.42015993282810826\n",
      "  (8, 4)\t0.3112720970866528\n",
      "  (9, 0)\t0.01780880887127656\n",
      "  (9, 3)\t0.2848037194063707\n",
      "sparse.csc_matrix(D) = \n",
      "  (0, 0)\t3\n",
      "  (1, 0)\t5\n",
      "  (0, 1)\t4\n",
      "  (1, 1)\t6\n",
      "sparse.dok_matrix(A) = \n",
      "  (0, 0)\t0.4153557457053919\n",
      "  (0, 1)\t0.05248234130538654\n",
      "  (1, 0)\t0.5959612708974671\n",
      "  (1, 1)\t0.2657011835202495\n",
      "sparse.isspmatrix_csc(A) = \n",
      "False\n"
     ]
    }
   ],
   "source": [
    "F = np.eye(3, k=1)         # Create a 2X2 identity matrix\n",
    "print(\"np.eye(3, k=1) = \\n{}\".format(F))\n",
    "G = np.mat(np.identity(2)) # Create a 2x2 identity matrix\n",
    "print(\"np.mat(np.identity(2)) = \\n{}\".format(G))\n",
    "C[C > 0.5] = 0\n",
    "print(\"C[C > 0.5] = 0 = \\n{}\".format(C))\n",
    "H = sparse.csr_matrix(C)   # Compressed Sparse Row matrix\n",
    "print(\"np.mat(np.identity(2)) = \\n{}\".format(H))\n",
    "I = sparse.csc_matrix(D)   # Compressed Sparse Column matrix\n",
    "print(\"sparse.csc_matrix(D) = \\n{}\".format(I))\n",
    "J = sparse.dok_matrix(A)   # Dictionary Of Keys matrix\n",
    "print(\"sparse.dok_matrix(A) = \\n{}\".format(J))\n",
    "K = sparse.isspmatrix_csc(A)   # Identify sparse matrix\n",
    "print(\"sparse.isspmatrix_csc(A) = \\n{}\".format(K))"
   ]
  },
  {
   "cell_type": "markdown",
   "metadata": {},
   "source": [
    "### Sparse Matrix Routines"
   ]
  },
  {
   "cell_type": "code",
   "execution_count": 80,
   "metadata": {},
   "outputs": [
    {
     "name": "stdout",
     "output_type": "stream",
     "text": [
      "la.inv(I) = \n",
      "  (0, 0)\t-3.0000000000000044\n",
      "  (1, 0)\t2.5000000000000036\n",
      "  (0, 1)\t2.0000000000000027\n",
      "  (1, 1)\t-1.5000000000000022\n",
      "la.norm(I) = \n",
      "9.273618495495704\n"
     ]
    },
    {
     "ename": "ValueError",
     "evalue": "matrix must be square (has shape (10, 5))",
     "output_type": "error",
     "traceback": [
      "\u001b[0;31m---------------------------------------------------------------------------\u001b[0m",
      "\u001b[0;31mValueError\u001b[0m                                Traceback (most recent call last)",
      "\u001b[0;32m<ipython-input-80-5c4f9b91c925>\u001b[0m in \u001b[0;36m<module>\u001b[0;34m()\u001b[0m\n\u001b[1;32m      8\u001b[0m \u001b[0;34m\u001b[0m\u001b[0m\n\u001b[1;32m      9\u001b[0m \u001b[0;31m# Solving linear problems\u001b[0m\u001b[0;34m\u001b[0m\u001b[0;34m\u001b[0m\u001b[0m\n\u001b[0;32m---> 10\u001b[0;31m \u001b[0mla\u001b[0m\u001b[0;34m.\u001b[0m\u001b[0mspsolve\u001b[0m\u001b[0;34m(\u001b[0m\u001b[0mH\u001b[0m\u001b[0;34m,\u001b[0m\u001b[0mI\u001b[0m\u001b[0;34m)\u001b[0m \u001b[0;31m# Solver for sparse matrices\u001b[0m\u001b[0;34m\u001b[0m\u001b[0m\n\u001b[0m",
      "\u001b[0;32m~/anaconda3/lib/python3.6/site-packages/scipy/sparse/linalg/dsolve/linsolve.py\u001b[0m in \u001b[0;36mspsolve\u001b[0;34m(A, b, permc_spec, use_umfpack)\u001b[0m\n\u001b[1;32m    150\u001b[0m     \u001b[0mM\u001b[0m\u001b[0;34m,\u001b[0m \u001b[0mN\u001b[0m \u001b[0;34m=\u001b[0m \u001b[0mA\u001b[0m\u001b[0;34m.\u001b[0m\u001b[0mshape\u001b[0m\u001b[0;34m\u001b[0m\u001b[0m\n\u001b[1;32m    151\u001b[0m     \u001b[0;32mif\u001b[0m \u001b[0;34m(\u001b[0m\u001b[0mM\u001b[0m \u001b[0;34m!=\u001b[0m \u001b[0mN\u001b[0m\u001b[0;34m)\u001b[0m\u001b[0;34m:\u001b[0m\u001b[0;34m\u001b[0m\u001b[0m\n\u001b[0;32m--> 152\u001b[0;31m         \u001b[0;32mraise\u001b[0m \u001b[0mValueError\u001b[0m\u001b[0;34m(\u001b[0m\u001b[0;34m\"matrix must be square (has shape %s)\"\u001b[0m \u001b[0;34m%\u001b[0m \u001b[0;34m(\u001b[0m\u001b[0;34m(\u001b[0m\u001b[0mM\u001b[0m\u001b[0;34m,\u001b[0m \u001b[0mN\u001b[0m\u001b[0;34m)\u001b[0m\u001b[0;34m,\u001b[0m\u001b[0;34m)\u001b[0m\u001b[0;34m)\u001b[0m\u001b[0;34m\u001b[0m\u001b[0m\n\u001b[0m\u001b[1;32m    153\u001b[0m \u001b[0;34m\u001b[0m\u001b[0m\n\u001b[1;32m    154\u001b[0m     \u001b[0;32mif\u001b[0m \u001b[0mM\u001b[0m \u001b[0;34m!=\u001b[0m \u001b[0mb\u001b[0m\u001b[0;34m.\u001b[0m\u001b[0mshape\u001b[0m\u001b[0;34m[\u001b[0m\u001b[0;36m0\u001b[0m\u001b[0;34m]\u001b[0m\u001b[0;34m:\u001b[0m\u001b[0;34m\u001b[0m\u001b[0m\n",
      "\u001b[0;31mValueError\u001b[0m: matrix must be square (has shape (10, 5))"
     ]
    }
   ],
   "source": [
    "import scipy.sparse.linalg as la\n",
    "# Inverse\n",
    "ans = la.inv(I)\n",
    "print(\"la.inv(I) = \\n{}\".format(ans))\n",
    "# Norm\n",
    "ans = la.norm(I)\n",
    "print(\"la.norm(I) = \\n{}\".format(ans))\n",
    "\n",
    "# Solving linear problems\n",
    "la.spsolve(H,I) # Solver for sparse matrices"
   ]
  },
  {
   "cell_type": "markdown",
   "metadata": {},
   "source": [
    "### Matrix Functions"
   ]
  },
  {
   "cell_type": "code",
   "execution_count": 84,
   "metadata": {},
   "outputs": [
    {
     "name": "stdout",
     "output_type": "stream",
     "text": [
      "np.add(A,D) =\n",
      "[[3.41535575 4.05248234]\n",
      " [5.59596127 6.26570118]]\n",
      "np.subtract(A,D) =\n",
      "[[-2.58464425 -3.94751766]\n",
      " [-4.40403873 -5.73429882]]\n",
      "np.divide(A,D) =\n",
      "[[0.13845192 0.01312059]\n",
      " [0.11919225 0.04428353]]\n",
      "A @ D =\n",
      "[[1.50847894 1.97631703]\n",
      " [3.11638973 3.97805218]]\n",
      "np.multiply(D,A) =\n",
      "[[1.24606724 0.20992937]\n",
      " [2.97980635 1.5942071 ]]\n",
      "np.dot(A,D) =\n",
      "[[1.50847894 1.97631703]\n",
      " [3.11638973 3.97805218]]\n",
      "np.vdot(A,D) =\n",
      "[[1.24606724]]\n",
      "np.inner(A,D) =\n",
      "[[1.4559966  2.39167278]\n",
      " [2.85068855 4.57401346]]\n",
      "np.outer(A,D) =\n",
      "[[1.24606724 1.66142298 2.07677873 2.49213447]\n",
      " [0.15744702 0.20992937 0.26241171 0.31489405]\n",
      " [1.78788381 2.38384508 2.97980635 3.57576763]\n",
      " [0.79710355 1.06280473 1.32850592 1.5942071 ]]\n",
      "np.tensordot(A,D) =\n",
      "6.030010057946554\n",
      "np.kron(A,D) =\n",
      "[[1.24606724 1.66142298 0.15744702 0.20992937]\n",
      " [2.07677873 2.49213447 0.26241171 0.31489405]\n",
      " [1.78788381 2.38384508 0.79710355 1.06280473]\n",
      " [2.97980635 3.57576763 1.32850592 1.5942071 ]]\n",
      "linalg.expm(A) =\n",
      "[[1.53752016 0.07422817]\n",
      " [0.84289526 1.32585687]]\n"
     ]
    },
    {
     "ename": "AttributeError",
     "evalue": "module 'scipy.linalg' has no attribute 'expm2'",
     "output_type": "error",
     "traceback": [
      "\u001b[0;31m---------------------------------------------------------------------------\u001b[0m",
      "\u001b[0;31mAttributeError\u001b[0m                            Traceback (most recent call last)",
      "\u001b[0;32m<ipython-input-84-f74b2e3b3dff>\u001b[0m in \u001b[0;36m<module>\u001b[0;34m()\u001b[0m\n\u001b[1;32m     32\u001b[0m \u001b[0mans\u001b[0m \u001b[0;34m=\u001b[0m \u001b[0mlinalg\u001b[0m\u001b[0;34m.\u001b[0m\u001b[0mexpm\u001b[0m\u001b[0;34m(\u001b[0m\u001b[0mA\u001b[0m\u001b[0;34m)\u001b[0m    \u001b[0;31m# Matrix exponential\u001b[0m\u001b[0;34m\u001b[0m\u001b[0m\n\u001b[1;32m     33\u001b[0m \u001b[0mprint\u001b[0m\u001b[0;34m(\u001b[0m\u001b[0;34m\"linalg.expm(A) =\\n{}\"\u001b[0m\u001b[0;34m.\u001b[0m\u001b[0mformat\u001b[0m\u001b[0;34m(\u001b[0m\u001b[0mans\u001b[0m\u001b[0;34m)\u001b[0m\u001b[0;34m)\u001b[0m\u001b[0;34m\u001b[0m\u001b[0m\n\u001b[0;32m---> 34\u001b[0;31m \u001b[0mans\u001b[0m \u001b[0;34m=\u001b[0m \u001b[0mlinalg\u001b[0m\u001b[0;34m.\u001b[0m\u001b[0mexpm2\u001b[0m\u001b[0;34m(\u001b[0m\u001b[0mA\u001b[0m\u001b[0;34m)\u001b[0m   \u001b[0;31m# Matrix exponential (Taylor Series)\u001b[0m\u001b[0;34m\u001b[0m\u001b[0m\n\u001b[0m\u001b[1;32m     35\u001b[0m \u001b[0mprint\u001b[0m\u001b[0;34m(\u001b[0m\u001b[0;34m\"linalg.expm2(A) =\\n{}\"\u001b[0m\u001b[0;34m.\u001b[0m\u001b[0mformat\u001b[0m\u001b[0;34m(\u001b[0m\u001b[0mans\u001b[0m\u001b[0;34m)\u001b[0m\u001b[0;34m)\u001b[0m\u001b[0;34m\u001b[0m\u001b[0m\n\u001b[1;32m     36\u001b[0m \u001b[0mans\u001b[0m \u001b[0;34m=\u001b[0m \u001b[0mlinalg\u001b[0m\u001b[0;34m.\u001b[0m\u001b[0mexpm3\u001b[0m\u001b[0;34m(\u001b[0m\u001b[0mD\u001b[0m\u001b[0;34m)\u001b[0m   \u001b[0;31m# Matrix exponential (eigenvalue decomposition)\u001b[0m\u001b[0;34m\u001b[0m\u001b[0m\n",
      "\u001b[0;31mAttributeError\u001b[0m: module 'scipy.linalg' has no attribute 'expm2'"
     ]
    }
   ],
   "source": [
    "# Addition\n",
    "ans = np.add(A,D)\n",
    "print(\"np.add(A,D) =\\n{}\".format(ans))\n",
    "\n",
    "# Subtraction\n",
    "ans = np.subtract(A,D)\n",
    "print(\"np.subtract(A,D) =\\n{}\".format(ans))\n",
    "\n",
    "# Division\n",
    "ans = np.divide(A,D)\n",
    "print(\"np.divide(A,D) =\\n{}\".format(ans))\n",
    "\n",
    "# Multiplication\n",
    "ans = A @ D             # Multiplication operator\n",
    "print(\"A @ D =\\n{}\".format(ans))\n",
    "ans = np.multiply(D,A)  # Multiplication\n",
    "print(\"np.multiply(D,A) =\\n{}\".format(ans))\n",
    "ans = np.dot(A,D)       # Dot product\n",
    "print(\"np.dot(A,D) =\\n{}\".format(ans))\n",
    "ans = np.vdot(A,D)      # Vector dot product\n",
    "print(\"np.vdot(A,D) =\\n{}\".format(ans))\n",
    "ans = np.inner(A,D)     # Inner product\n",
    "print(\"np.inner(A,D) =\\n{}\".format(ans))\n",
    "ans = np.outer(A,D)     # Outer product\n",
    "print(\"np.outer(A,D) =\\n{}\".format(ans))\n",
    "ans = np.tensordot(A,D) # Tensor dot product\n",
    "print(\"np.tensordot(A,D) =\\n{}\".format(ans))\n",
    "ans = np.kron(A,D)      # Kronecker product\n",
    "print(\"np.kron(A,D) =\\n{}\".format(ans))\n",
    "\n",
    "# Exponential Functions\n",
    "ans = linalg.expm(A)    # Matrix exponential\n",
    "print(\"linalg.expm(A) =\\n{}\".format(ans))\n",
    "ans = linalg.expm2(A)   # Matrix exponential (Taylor Series)\n",
    "print(\"linalg.expm2(A) =\\n{}\".format(ans))\n",
    "ans = linalg.expm3(D)   # Matrix exponential (eigenvalue decomposition)\n",
    "print(\"linalg.expm3(D) =\\n{}\".format(ans))\n",
    "\n",
    "# Logarithm Function\n",
    "ans = linalg.logm(A)    # Matrix logarithm\n",
    "print(\"linalg.logm(A) =\\n{}\".format(ans))\n",
    "\n",
    "# Trigonometric Functions\n",
    "ans = linalg.sinm(D)    # Matrix sine\n",
    "print(\"linalg.sinm(D) =\\n{}\".format(ans))\n",
    "ans = linalg.cosm(D)    # Matrix cosine\n",
    "print(\"linalg.cosm(D) =\\n{}\".format(ans))\n",
    "ans = linalg.tanm(A)    # Matrix tangent\n",
    "print(\"linalg.tanm(A) =\\n{}\".format(ans))\n",
    "\n",
    "# Hyperbolic Trigonometric Functions\n",
    "ans = linalg.sinhm(D)   # Hypberbolic matrix sine\n",
    "print(\"linalg.sinhm(D) =\\n{}\".format(ans))\n",
    "ans = linalg.coshm(D)   # Hyperbolic matrix cosine\n",
    "print(\"linalg.coshm(D) =\\n{}\".format(ans))\n",
    "ans = linalg.tanhm(A)   # Hyperbolic matrix tangent\n",
    "print(\"linalg.tanhm(A) =\\n{}\".format(ans))\n",
    "\n",
    "# Matrix Sign Function\n",
    "ans = np.signm(A)       # Matrix sign function\n",
    "print(\"np.signm(A) =\\n{}\".format(ans))\n",
    "\n",
    "# Matrix Square Root\n",
    "ans = linalg.sqrtm(A)   # Matrix square root\n",
    "print(\"linalg.sqrtm(A) =\\n{}\".format(ans))\n",
    "\n",
    "# Arbitrary Functions\n",
    "ans = linalg.funm(A, lambda x: x*x) # Evaluate matrix function\n",
    "print(\"linalg.funm(A, lambda x: x*x) =\\n{}\".format(ans))"
   ]
  },
  {
   "cell_type": "markdown",
   "metadata": {},
   "source": [
    "### Sparse Matrix Functions"
   ]
  },
  {
   "cell_type": "code",
   "execution_count": 85,
   "metadata": {},
   "outputs": [
    {
     "name": "stdout",
     "output_type": "stream",
     "text": [
      "la.expm(I) = \n",
      "  (0, 0)\t3433.286387715417\n",
      "  (1, 0)\t5334.926198416135\n",
      "  (0, 1)\t4267.940958732908\n",
      "  (1, 1)\t6634.242106765096\n"
     ]
    }
   ],
   "source": [
    "import scipy.sparse.linalg as la\n",
    "ans = la.expm(I)  # Sparse matrix exponential\n",
    "print(\"la.expm(I) = \\n{}\".format(ans))"
   ]
  },
  {
   "cell_type": "markdown",
   "metadata": {},
   "source": [
    "### Decompositions"
   ]
  },
  {
   "cell_type": "code",
   "execution_count": 89,
   "metadata": {},
   "outputs": [],
   "source": [
    "# Eigenvalues and Eigenvectors\n",
    "la, v = linalg.eig(A)  # Solve ordinary or generalized eigenvalue problem for square matrix\n",
    "l1, l2 = la            # Unpack eigenvalues\n",
    "v[:,0]                 # First eigenvector\n",
    "v[:,1]                 # Second eigenvector\n",
    "linalg.eigvals(A)      # Unpack eigenvalues\n",
    "\n",
    "# Singular Value Decomposition\n",
    "U,s,Vh = linalg.svd(B) # Singular Value Decomposition (SVD)\n",
    "M,N = B.shape\n",
    "Sig = linalg.diagsvd(s,M,N) # Construct sigma matrix in SVD\n",
    "\n",
    "# LU Decomposition\n",
    "P,L,U = linalg.lu(C)   # LU Decomposition"
   ]
  },
  {
   "cell_type": "markdown",
   "metadata": {},
   "source": [
    "### Sparse Matrix Decompositions"
   ]
  },
  {
   "cell_type": "code",
   "execution_count": 86,
   "metadata": {},
   "outputs": [
    {
     "data": {
      "text/plain": [
       "(array([[ 0.44001248, -0.25579124],\n",
       "        [ 0.03204192, -0.01281122],\n",
       "        [ 0.07377719, -0.45971824],\n",
       "        [-0.22641168, -0.1513002 ],\n",
       "        [-0.14182631, -0.26337639],\n",
       "        [-0.22859448, -0.46895281],\n",
       "        [ 0.41286903, -0.37283353],\n",
       "        [ 0.43805927, -0.2764587 ],\n",
       "        [-0.50470031, -0.42767844],\n",
       "        [-0.24332635, -0.11201402]]),\n",
       " array([0.69491042, 1.05561098]),\n",
       " array([[ 0.1757108 , -0.13559093,  0.73592414, -0.60469442, -0.20856925],\n",
       "        [-0.10671994, -0.42767775, -0.5526267 , -0.40850125, -0.57743663]]))"
      ]
     },
     "execution_count": 86,
     "metadata": {},
     "output_type": "execute_result"
    }
   ],
   "source": [
    "la, v = sparse.linalg.eigs(F,1) # Eigenvalues and eigenvectors\n",
    "sparse.linalg.svds(H, 2)        # SVD"
   ]
  },
  {
   "cell_type": "code",
   "execution_count": null,
   "metadata": {},
   "outputs": [],
   "source": []
  }
 ],
 "metadata": {
  "kernelspec": {
   "display_name": "Python 3",
   "language": "python",
   "name": "python3"
  },
  "language_info": {
   "codemirror_mode": {
    "name": "ipython",
    "version": 3
   },
   "file_extension": ".py",
   "mimetype": "text/x-python",
   "name": "python",
   "nbconvert_exporter": "python",
   "pygments_lexer": "ipython3",
   "version": "3.6.5"
  }
 },
 "nbformat": 4,
 "nbformat_minor": 2
}
