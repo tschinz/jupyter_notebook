{
 "cells": [
  {
   "cell_type": "markdown",
   "metadata": {},
   "source": [
    "# Boolsche Algebra\n",
    "* https://de.wikipedia.org/wiki/Boolesche_Algebra\n",
    "* https://kogler.wordpress.com/2008/03/21/latex-use-of-math-symbols-formulas-and-equations/"
   ]
  },
  {
   "cell_type": "markdown",
   "metadata": {},
   "source": [
    "## Operators"
   ]
  },
  {
   "cell_type": "markdown",
   "metadata": {},
   "source": [
    "| Operator | Bool Algebra        | Latex Code |\n",
    "| -------- | ------------------- | ---------- |\n",
    "| NEGATE   | $\\neg$              | `\\neg` |\n",
    "| NEGATE   | $\\overline{abc}$    | `\\overline{abc}` |\n",
    "| AND      | $\\wedge$            | `\\wedge` |\n",
    "| OR       | $\\vee$              | `\\vee` |\n",
    "| XOR      | $\\oplus$           | `\\oplus` |\n",
    "|  | $\\exists$           | `\\exists` |\n",
    "|  | $\\nexists$          | `\\nexists` |\n",
    "|  | $\\bar{A}$           | `\\bar{A}` |\n",
    "|  | $\\mid$              | `\\mid` |\n",
    "|  | $\\And$              | `\\And` |\n",
    "|  | $\\wedge$            | `\\wedge` |\n",
    "|  | $\\vee$              | `\\vee` |\n",
    "|  | $\\neg$              | `\\neg` |\n",
    "|  | $\\to$               | `\\to` |\n",
    "|  | $\\gets$             | `\\gets` |\n",
    "|  | $\\iff$              | `\\iff` |\n",
    "|  | $\\bigwedge$         | `\\bigwedge` |\n",
    "|  | $\\bigvee$           | `\\bigvee` |\n",
    "|  | $\\diamond$          | `\\diamond` |\n",
    "|  | $\\lozenge$          | `\\lozenge` |\n",
    "|  | $\\vdash$            | `\\vdash` |\n",
    "|  | $\\Vdash$            | `\\Vdash` |\n",
    "|  | $\\vDash$            | `\\vDash` |\n",
    "|  | $\\Vvdash$           | `\\Vvdash` |\n",
    "|  | $\\models$           | `\\models` |\n",
    "|  | $\\dashv$            | `\\dashv` |"
   ]
  },
  {
   "cell_type": "markdown",
   "metadata": {},
   "source": [
    "## Algebra"
   ]
  },
  {
   "cell_type": "markdown",
   "metadata": {},
   "source": [
    "### Kommutativgesetze\n",
    "Vertauschungsgesetz, ist eine Regel aus der Mathematik. Wenn sie gilt, können die Argumente einer Operation vertauscht werden.\n",
    "$a \\wedge b = b \\wedge a$\n",
    "\n",
    "$a \\vee b = b \\vee a$\n",
    "\n",
    "### Assoziativgesetze\n",
    "Verknüpfungsgesetz oder auch Verbindungsgesetz, ist eine Regel aus der Mathematik. Eine (zweistellige) Verknüpfung ist assoziativ, wenn die Reihenfolge der Ausführung keine Rolle spielt.\n",
    "$( a \\wedge b ) \\wedge c = a \\wedge ( b \\wedge c ) $\n",
    "\n",
    "$( a \\vee b ) \\vee c = a \\vee ( b \\vee c )$\n",
    "\n",
    "### Idempotenzgesetze\n",
    "Idempotenz ist ein Begriff aus der Mathematik und Informatik. In der Mathematik bezeichnet man ein Objekt a {\\displaystyle a} a, das mit einer Verknüpfung ∘ {\\displaystyle \\circ } \\circ die Eigenschaft a ∘ a = a {\\displaystyle a\\circ a=a} a\\circ a=a\n",
    "$a \\wedge a = a $\n",
    "\n",
    "$a \\vee a = a$\n",
    "\n",
    "### Distributivgesetze\n",
    "$a \\wedge ( b \\vee c ) = ( a \\wedge b ) \\vee ( a \\wedge c )$\n",
    "\n",
    "$a \\vee ( b \\wedge c ) = ( a \\vee b ) \\wedge ( a \\vee c )$\n",
    "\n",
    "### Neutralitätsgesetze\n",
    "$a \\wedge 1 = a $\n",
    "\n",
    "$a \\vee 0 = a$\n",
    "\n",
    "### Extremalgesetze\n",
    "$a \\wedge 0 = 0$\n",
    "\n",
    "$a \\vee 1 = 1$\n",
    "\n",
    "### Doppelnegationsgesetz (Involution)\n",
    "$\\neg ( \\neg a ) = a$\n",
    "\n",
    "### De Morgansche Gesetze\n",
    "$\\neg ( a \\wedge b ) = \\neg a \\vee \\neg b$\n",
    "\n",
    "$\\neg ( a \\vee b ) = \\neg a \\wedge \\neg b$\n",
    "\n",
    "### Komplementärgesetze\n",
    "$a \\wedge \\neg a = 0$\n",
    "\n",
    "$a \\vee \\neg a = 1$\n",
    "\n",
    "### Dualitätsgesetze\n",
    "$\\neg 0 = 1$\n",
    "\n",
    "$\\neg 1 = 0$\n",
    "\n",
    "### Absorptionsgesetze\n",
    "$a \\vee ( a \\wedge b ) = a$\n",
    "\n",
    "$a \\wedge ( a \\vee b ) = a$"
   ]
  },
  {
   "cell_type": "code",
   "execution_count": null,
   "metadata": {},
   "outputs": [],
   "source": []
  }
 ],
 "metadata": {
  "kernelspec": {
   "display_name": "Python 3",
   "language": "python",
   "name": "python3"
  },
  "language_info": {
   "codemirror_mode": {
    "name": "ipython",
    "version": 3
   },
   "file_extension": ".py",
   "mimetype": "text/x-python",
   "name": "python",
   "nbconvert_exporter": "python",
   "pygments_lexer": "ipython3",
   "version": "3.6.5"
  }
 },
 "nbformat": 4,
 "nbformat_minor": 2
}
