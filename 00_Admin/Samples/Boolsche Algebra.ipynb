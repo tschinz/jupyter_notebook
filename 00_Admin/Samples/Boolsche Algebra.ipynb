{
 "cells": [
  {
   "cell_type": "markdown",
   "metadata": {},
   "source": [
    "# Boolsche Algebra\n",
    "* https://de.wikipedia.org/wiki/Boolesche_Algebra\n",
    "* https://kogler.wordpress.com/2008/03/21/latex-use-of-math-symbols-formulas-and-equations/"
   ]
  },
  {
   "cell_type": "markdown",
   "metadata": {},
   "source": [
    "## Operators"
   ]
  },
  {
   "cell_type": "markdown",
   "metadata": {},
   "source": [
    "| Operator        | Latex Symbol                           | Latex Code                  |\n",
    "| --------------- | -------------------------------------- | --------------------------- |\n",
    "| NEGATE          | $\\neg \\; \\overline{x} \\; \\bar{x}$      | `\\neg \\overline{x} \\bar{x}` |\n",
    "| AND             | $\\bigwedge \\; \\wedge \\; * \\; \\And$     | `\\bigwedge \\wedge * \\And`   |\n",
    "| OR              | $\\bigvee \\; \\vee \\; + \\; \\mid$         | `\\bigvee \\vee + \\mid`       |\n",
    "| XOR             | $\\oplus$                               | `\\oplus`                    |"
   ]
  },
  {
   "cell_type": "markdown",
   "metadata": {},
   "source": [
    "## Algebra rules"
   ]
  },
  {
   "cell_type": "markdown",
   "metadata": {},
   "source": [
    "### Duality Rules\n",
    "$\\overline{0} = 1 \\\\\n",
    " \\overline{1} = 0$\n",
    "\n",
    "### Neurality Rules\n",
    "$a*1 = a \\\\\n",
    " a+0 = a$\n",
    "\n",
    "### Extremity Rules\n",
    "$a*0 = 0 \\\\\n",
    " a+1 = 1$\n",
    "\n",
    "### Dual Negation Rule (Involution)\n",
    "$\\overline{(\\overline{a})} = a$\n",
    "\n",
    "### Idempotence Rules\n",
    "Idempotenz ist ein Begriff aus der Mathematik und Informatik. In der Mathematik bezeichnet man ein Objekt a {\\displaystyle a} a, das mit einer Verknüpfung ∘ {\\displaystyle \\circ } \\circ die Eigenschaft a ∘ a = a {\\displaystyle a\\circ a=a} a\\circ a=a\n",
    "\n",
    "$a*a = a \\\\\n",
    " a+a = a$\n",
    "\n",
    "### Complementary Rules\n",
    "$a*\\overline{a} = 0 \\\\\n",
    " a+\\overline{a} = 1$\n",
    "\n",
    "### Commutativity Rules\n",
    "Vertauschungsgesetz, ist eine Regel aus der Mathematik. Wenn sie gilt, können die Argumente einer Operation vertauscht werden.\n",
    "\n",
    "$a*b = b*a \\\\\n",
    " a+b = b+a$\n",
    "\n",
    "### Associativity Rules\n",
    "Verknüpfungsgesetz oder auch Verbindungsgesetz, ist eine Regel aus der Mathematik. Eine (zweistellige) Verknüpfung ist assoziativ, wenn die Reihenfolge der Ausführung keine Rolle spielt.\n",
    "\n",
    "$(a*b)*c = a*(b*c) = a*b*c \\\\\n",
    " (a+b)+c = a+(b+c) = a+b+c$\n",
    "\n",
    "### Distributivity Rules\n",
    "\n",
    "$a*(b+c) = (a*b)+(a*c) \\\\\n",
    " a+(b*c) = (a+b)*(a+c)$\n",
    "\n",
    "### De Morgansche Rules\n",
    "$\\overline{(a*b)} = \\overline{a}+\\overline{b} \\\\\n",
    " \\overline{(a+b)} = \\overline{a}*\\overline{b}$\n",
    "\n",
    "### Absorption Rules\n",
    "$a+(a*b) = a \\\\\n",
    " a*(a+b) = a \\\\\n",
    " a+(\\overline{a}*b) = a+b \\\\\n",
    " a*(\\overline{a}+b) = a*b$"
   ]
  },
  {
   "cell_type": "markdown",
   "metadata": {},
   "source": [
    "## Some Proofs"
   ]
  },
  {
   "cell_type": "markdown",
   "metadata": {},
   "source": [
    "| Name                  | Rule &nbsp;&nbsp;&nbsp;&nbsp;&nbsp;&nbsp;&nbsp;&nbsp;&nbsp;&nbsp;&nbsp;&nbsp;&nbsp;&nbsp;&nbsp;&nbsp;&nbsp;&nbsp;&nbsp;&nbsp;&nbsp;&nbsp;&nbsp;&nbsp;&nbsp;&nbsp;&nbsp;&nbsp;&nbsp;&nbsp;&nbsp;&nbsp;&nbsp;&nbsp;&nbsp;&nbsp;&nbsp;&nbsp;&nbsp;&nbsp; | Solution &nbsp;&nbsp;&nbsp;&nbsp;&nbsp;&nbsp;&nbsp;&nbsp;&nbsp;&nbsp;&nbsp;&nbsp;&nbsp;&nbsp;&nbsp;&nbsp;&nbsp;&nbsp;&nbsp;&nbsp;&nbsp;&nbsp;&nbsp;&nbsp;&nbsp;&nbsp;&nbsp;&nbsp;&nbsp;&nbsp;&nbsp;&nbsp;&nbsp;&nbsp;&nbsp;&nbsp;&nbsp;&nbsp;&nbsp;&nbsp;&nbsp;&nbsp;&nbsp;&nbsp;&nbsp;&nbsp;&nbsp;&nbsp;&nbsp;&nbsp;&nbsp; |\n",
    "| --------------------- | ---------------------------- | -------- |\n",
    "| Absorption Rule 1     | $ a*(a+b) = a $              | $$ a*(a+b) \\\\ (a*a)+(a*b) \\\\ a+a*b \\\\ a*1+a*b \\\\ a*(1+b) \\\\ a*a \\\\ a $$ | \n",
    "| Absorption Rule 2     | $ a+(a*b) = a $              | $$ a+(a*b) \\\\ (a+a)*(a+b) \\\\ a*a+b \\\\ a+0*a+b \\\\ a+(0*b) \\\\ a+0 \\\\ a $$ |\n",
    "| Absorption Rule 3     | $ a+(\\overline{a}*b) = a+b $ | $$ a+(\\overline{a}*b) \\\\ a+\\overline{a}*a+b \\\\  1*(a+b) \\\\ a+b $$ |\n",
    "| Absorption Rule 4     | $ a*(\\overline{a}+b) = a*b $ | $$ a*(\\overline{a}+b) \\\\ a*\\overline{a}+a*b \\\\  0 + a*b \\\\  a*b $$ |\n",
    "| Xor 4 Nand Solution 1 | $ a \\oplus b = a\\overline{b} + \\overline{a}b $ | $$ a \\oplus b \\\\  a\\overline{b} + \\overline{a}b \\\\ (\\overline{\\overline{a}+\\overline{\\overline{b}}}) + (\\overline{\\overline{\\overline{a}}+\\overline{b}}) \\\\ (\\overline{\\overline{a}+b}) + (\\overline{a+\\overline{b}}) \\\\  \\overline{(\\overline{\\overline{\\overline{a}+b}})*(\\overline{\\overline{a+\\overline{b}}})} \\\\ \\overline{(\\overline{a}+b)*(a+\\overline{b})} \\\\ \\overline{\\overline{a}a+\\overline{a}\\overline{b}+ab+b\\overline{b}} \\\\ \\overline{0+\\overline{a}\\overline{b}+ab+0} \\\\ \\overline{\\overline{a}\\overline{b}+ab} \\\\ \\overline{\\overline{\\overline{ab}*\\overline{\\overline{a}\\overline{b}}}} \\\\ \\overline{ab}*\\overline{\\overline{a}\\overline{b}} \\\\ \\overline{ab}*\\overline{\\overline{\\overline{\\overline{a}}+\\overline{\\overline{b}}}} \\\\  \\overline{ab}*(a+b) \\\\  \\overline{ab}a + \\overline{ab}b \\\\ \\overline{\\overline{\\overline{ab}a + \\overline{ab}b}} \\\\ \\overline{\\overline{\\overline{\\overline{\\overline{ab}a}*\\overline{\\overline{ab}b}}}} \\\\ \\overline{\\overline{\\overline{ab}a}*\\overline{\\overline{ab}b}}$$\n",
    "| Xor 4 Nand Solution 2 | $ a \\oplus b = a\\overline{b} + \\overline{a}b $ | $$ a \\oplus b \\\\ a\\overline{b} + \\overline{a}b \\\\ a\\overline{a}+a\\overline{b}+b\\overline{b}+\\overline{a}b \\\\ a(\\overline{a}+\\overline{b})+b(\\overline{b}+\\overline{a}) \\\\ a\\overline{ab}+b\\overline{ab} \\\\ \\overline{\\overline{\\overline{ab}a}*\\overline{\\overline{ab}b}} $$ |\n",
    "\n",
    " "
   ]
  },
  {
   "cell_type": "markdown",
   "metadata": {},
   "source": [
    "## Summary"
   ]
  },
  {
   "cell_type": "markdown",
   "metadata": {},
   "source": [
    "| Topic | Rules&nbsp;&nbsp;&nbsp;&nbsp;&nbsp;&nbsp;&nbsp;&nbsp;&nbsp;&nbsp;&nbsp;&nbsp;&nbsp;&nbsp;&nbsp;&nbsp;&nbsp;&nbsp;&nbsp;&nbsp;&nbsp;&nbsp;&nbsp;&nbsp;&nbsp;&nbsp;&nbsp;&nbsp;&nbsp;&nbsp;&nbsp;&nbsp;&nbsp;&nbsp;&nbsp;&nbsp;&nbsp;&nbsp;&nbsp;&nbsp;&nbsp;&nbsp;&nbsp;&nbsp;&nbsp;&nbsp;&nbsp;&nbsp;&nbsp;&nbsp;&nbsp;&nbsp;&nbsp;&nbsp;&nbsp;&nbsp;&nbsp;&nbsp;&nbsp;&nbsp;&nbsp;&nbsp;&nbsp;&nbsp;&nbsp;&nbsp;&nbsp;&nbsp;&nbsp;&nbsp;&nbsp;&nbsp;&nbsp;&nbsp;&nbsp;&nbsp;&nbsp;&nbsp;&nbsp;&nbsp;&nbsp;&nbsp;&nbsp;&nbsp; | \n",
    "| ----- | ----- |\n",
    "| Misc | $\\overline{0} = 1 \\\\ \\overline{1} = 0 \\\\ \\overline{(\\overline{a})} = a$ |\n",
    "| AND | $ a*0 = 0 \\\\ a*1 = a \\\\ a*a = a \\\\ a*\\overline{a} = 0 \\\\ (a*b)*c = a*(b*c) = a*b*c$ |\n",
    "| OR | $ a+0 = a \\\\ a+1 = 1 \\\\ a+a = a \\\\ a+\\overline{a} = 1 \\\\ (a+b)+c = a+(b+c) = a+b+c$ |\n",
    "| Commutativity | $ a*b = b*a \\\\ a+b = b+a $  |\n",
    "| Associativity | $(a*b)*c = a*(b*c) = a*b*c \\\\ (a+b)+c = a+(b+c) = a+b+c$ |\n",
    "| Distributivity | $a*(b+c) = (a*b)+(a*c) \\\\ a+(b*c) = (a+b)*(a+c)$ |\n",
    "| De Morgan | $\\overline{(a*b)} = \\overline{a}+\\overline{b} \\\\ \\overline{(a+b)} = \\overline{a}*\\overline{b}$ |\n",
    "| Absorption | $a+(a*b) = a \\\\ a*(a+b) = a \\\\ a+(\\overline{a}*b) = a+b \\\\ a*(\\overline{a}+b) = a*b$ |"
   ]
  },
  {
   "cell_type": "code",
   "execution_count": null,
   "metadata": {},
   "outputs": [],
   "source": []
  }
 ],
 "metadata": {
  "kernelspec": {
   "display_name": "Python 3",
   "language": "python",
   "name": "python3"
  },
  "language_info": {
   "codemirror_mode": {
    "name": "ipython",
    "version": 3
   },
   "file_extension": ".py",
   "mimetype": "text/x-python",
   "name": "python",
   "nbconvert_exporter": "python",
   "pygments_lexer": "ipython3",
   "version": "3.7.6"
  }
 },
 "nbformat": 4,
 "nbformat_minor": 4
}
