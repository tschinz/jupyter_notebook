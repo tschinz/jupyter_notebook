{
 "cells": [
  {
   "cell_type": "markdown",
   "metadata": {},
   "source": [
    "# NAND Game\n",
    "<img src=\"./nand_game/Nand Game.svg\" width=\"150\" />\n",
    "The Nand Game is inspired by the amazing course [From NAND to Tetris - Building a Modern Computer From First Principles](http://nand2tetris.org/) which is highly recommended.\n",
    "\n",
    "## Introduction\n",
    "\n",
    "The Nand Game takes you though building a working computer, starting from the most basic components. It does not require any prerequisites, in particular it does not require any previous knowledge about computer architecture or software, and does not require math skills beyond addition and subtraction. It does require some patience—some of the tasks might take a while to solve.\n",
    "\n",
    "The game consists of a series of levels. In each level you are tasked with building a component that behaves according to a specification. This component can then be used as a building-block in the next level.\n",
    "\n",
    "All components are specified through what input should lead to what output. How exactly you build the component is up to you, as long as input/output conforms to the specification. The game doesn't care whether or not you have found the simplest or the most efficient design. It only cares if it works correctly.\n",
    "\n",
    "The first challenge is to build an inverter component.\n",
    "\n",
    "The inverter has a single input and a single output, and the specification look like this:\n",
    "\n",
    "\n",
    "\n",
    "The Nand gate\n",
    "\n",
    "The only component available in the first level is the nand gate. The nand gate is a fundamental building block which all other components can be built from.\n",
    "\n",
    "A nand gate has two inputs and one output, and the specification is like this:\n",
    "\n",
    "| In1| In2| Out |\n",
    "| -- | -- | --- |\n",
    "| 0  | 0  | 1   |\n",
    "| 1  | 0  | 1   |\n",
    "| 0  | 1  | 1   |\n",
    "| 1  | 1  | 0   |"
   ]
  },
  {
   "cell_type": "code",
   "execution_count": 2,
   "metadata": {},
   "outputs": [],
   "source": [
    "import SchemDraw as schem\n",
    "import SchemDraw.logic as l\n",
    "import SchemDraw.elements as e"
   ]
  },
  {
   "cell_type": "code",
   "execution_count": 153,
   "metadata": {},
   "outputs": [],
   "source": [
    "# %load ../library/schemdraw_lib.py\n",
    "import SchemDraw as schem\n",
    "import SchemDraw.logic as l\n",
    "import SchemDraw.elements as e\n",
    "\n",
    "def create_ff(mainlabel='FF', label_l=None, label_t=None, label_r=None, label_b=None, clkSign=True):\n",
    "  \"\"\"create dynamically a flipflop\n",
    "\n",
    "    All labels are lists with signal definition form top to bottom spread out evenly or from left to right.\n",
    "    Labels can have Latex notation like '$\\overline{Q}$'\n",
    "\n",
    "    Args:\n",
    "        label_l (list): List of IO label left ['D','E','clk']\n",
    "        label_t (list): List of IO label left ['SET']\n",
    "        label_r (list): List of IO label left ['Q', '$\\overline{Q}$']\n",
    "        label_b (list): List of IO label left ['CLR']\n",
    "        noClkSign (bool): Defining if clk triangle should be drawn work only on left labels, (extents 'clk' to '  clk') \n",
    "\n",
    "    Returns:\n",
    "        bool: The object\n",
    "\n",
    "  \"\"\"\n",
    "  # Left IO\n",
    "  if label_l:\n",
    "    cnt = len(label_l)\n",
    "    if cnt == 1:\n",
    "      loc = [0.8]\n",
    "    elif cnt == 2:\n",
    "      loc = [0.8,0.2]\n",
    "    elif cnt == 3:\n",
    "      loc = [0.8,0.5,0.2]\n",
    "    else:\n",
    "      loc = np.linspace(1,0,cnt+2)[1:-1]\n",
    "    if clkSign:\n",
    "      for i in range(cnt):\n",
    "        if label_l[i] == 'clk':\n",
    "          loc_clk = loc[label_l.index('clk')]\n",
    "          label_l[i] = '  clk'\n",
    "        elif label_l[i] == 'CLK':\n",
    "          loc_clk = loc[label_l.index('CLK')]\n",
    "          label_l[i] = '  CLK'\n",
    "    # Create IO's\n",
    "    ff_iol  = {'cnt'    :cnt,\n",
    "               'labels' :label_l,\n",
    "               'loc'    :loc,\n",
    "               'lblsize':15}\n",
    "  else:\n",
    "    ff_iol = None\n",
    "  # Top IO\n",
    "  if label_t:\n",
    "    cnt = len(label_t)\n",
    "    if cnt == 1:\n",
    "      loc = [0.5]\n",
    "    else:\n",
    "      loc = np.linspace(1,0,cnt+2)[1:-1]\n",
    "    # Create IO's\n",
    "    ff_iot  = {'cnt'    :cnt,\n",
    "               'labels' :label_t,\n",
    "               'loc'    :loc,\n",
    "               'lblsize':12}\n",
    "  else:\n",
    "    ff_iot = None\n",
    "\n",
    "  # Right IO\n",
    "  if label_r:\n",
    "    cnt = len(label_r)\n",
    "    if cnt == 1:\n",
    "      loc = [0.8]\n",
    "    elif cnt == 2:\n",
    "      loc = [0.8,0.2]\n",
    "    elif cnt == 3:\n",
    "      loc = [0.8,0.5,0.2]\n",
    "    else:\n",
    "      loc = np.linspace(1,0,cnt+2)[1:-1]\n",
    "    # Create IO's\n",
    "    ff_ior  = {'cnt'    :cnt,\n",
    "               'labels' :label_r,\n",
    "               'loc'    :loc,\n",
    "               'lblsize':15}\n",
    "  else:\n",
    "    ff_ior = None\n",
    "\n",
    "  # Bottom IO\n",
    "  if label_b:\n",
    "    cnt = len(label_b)\n",
    "    if cnt == 1:\n",
    "      loc = [0.5]\n",
    "    else:\n",
    "      loc = np.linspace(1,0,cnt+2)[1:-1]\n",
    "    # Create IO's\n",
    "    ff_iob  = {'cnt'    :cnt,\n",
    "               'labels' :label_b,\n",
    "               'loc'    :loc,\n",
    "               'lblsize':12}\n",
    "  else:\n",
    "    ff_iob = None\n",
    "\n",
    "  if clkSign:\n",
    "    if 'loc_clk' in locals():\n",
    "      #print(loc_clk)\n",
    "      loc_clk = loc_clk +0.7\n",
    "      clkSign_path = [[[0,loc_clk-0.2],[0.3,loc_clk],[0,loc_clk+0.2]]]\n",
    "    DFF_0 =  e.blackbox(d.unit, d.unit*1.5, linputs=ff_iol, rinputs=ff_ior, tinputs=ff_iot, binputs=ff_iob, mainlabel=mainlabel)\n",
    "    DFF = { 'name'  : mainlabel,\n",
    "            'base'  : DFF_0,\n",
    "            'paths' : clkSign_path # Add clk triangle\n",
    "            #'paths' : [[[0,0.7],[0.3,0.9],[0,1.1]]] # Add clk triangle\n",
    "          }\n",
    "    return DFF\n",
    "  else:\n",
    "    return e.blackbox(d.unit, d.unit*1.5, linputs=ff_iol, rinputs=ff_ior, tinputs=ff_iot, binputs=ff_iob, mainlabel=mainlabel)"
   ]
  },
  {
   "cell_type": "markdown",
   "metadata": {
    "toc-hr-collapsed": true
   },
   "source": [
    "## Logic Gates"
   ]
  },
  {
   "cell_type": "markdown",
   "metadata": {},
   "source": [
    "### Invert\n",
    "An inv-component has a single input and a single output.\n",
    "The output should be the opposite of the input, so 0 for 1 and vice versa.\n",
    "Components are typically specified with a table showing inputs and outputs, like this:\n",
    "\n",
    "$$\\neg a = \\overline{a}$$\n",
    "\n",
    "| A  | Q   |\n",
    "| -- | --- |\n",
    "| 0  | 1   |\n",
    "| 1  | 0   |\n",
    "\n",
    "**Solution**\n",
    "From a Nand erase the two middle entries. \n",
    "\n",
    "| A      | B      | Q   |\n",
    "| ------ | ------ | --- |\n",
    "| 0      | 0      | 1   |\n",
    "| ~~1~~  | ~~0~~  | ~~1~~ |\n",
    "| ~~0~~  | ~~1~~  | ~~1~~ |\n",
    "| 1      | 1      | 0   |"
   ]
  },
  {
   "cell_type": "code",
   "execution_count": 157,
   "metadata": {},
   "outputs": [
    {
     "data": {
      "image/png": "[encoded data removed]",
      "text/plain": [
       "<Figure size 329.94x46.8 with 1 Axes>"
      ]
     },
     "metadata": {},
     "output_type": "display_data"
    }
   ],
   "source": [
    "d = schem.Drawing()\n",
    "not1 = d.add(l.NOT, xy=(0,0), lftlabel='$A$', rgtlabel='$Q$')\n",
    "\n",
    "nand1 = d.add(l.andgate(inputs=2, nand=True), xy=(6,0))\n",
    "line1 = d.add(e.LINE, d='right',  xy=nand1.out, l=d.unit/10, rgtlabel='$Q$')\n",
    "line2 = d.add(e.LINE, d='down',  xy=nand1.in1, l=d.unit/6)\n",
    "dot1 = d.add(e.DOT, xy=line2.center)\n",
    "line2 = d.add(e.LINE, d='left',  xy=dot1.center, l=d.unit/8, lftlabel='$A$')\n",
    "d.draw()\n",
    "d.save('nand_game_out/01_invert.svg')"
   ]
  },
  {
   "cell_type": "markdown",
   "metadata": {},
   "source": [
    "### And\n",
    "An and gate output is 1 when both inputs are 1:\n",
    "\n",
    "$$a \\wedge b = ab$$\n",
    "\n",
    "| A   | B   | Q |\n",
    "| --- | --- | --- |\n",
    "| 0   | 0   | 0   |\n",
    "| 1   | 0   | 0   |\n",
    "| 0   | 1   | 0   |\n",
    "| 1   | 1   | 1   |\n",
    "\n",
    "**Solution**\n",
    "It is just an invertet NAND"
   ]
  },
  {
   "cell_type": "code",
   "execution_count": 351,
   "metadata": {},
   "outputs": [
    {
     "data": {
      "image/png": "[encoded data removed]",
      "text/plain": [
       "<Figure size 449.928x46.8 with 1 Axes>"
      ]
     },
     "metadata": {},
     "output_type": "display_data"
    }
   ],
   "source": [
    "d = schem.Drawing()\n",
    "and1 = d.add(l.AND2, xy=(0,0),)\n",
    "line1 = d.add(e.LINE, d='left',  xy=and1.in1, l=d.unit/10, lftlabel='$A$')\n",
    "line2 = d.add(e.LINE, d='left',  xy=and1.in2, l=d.unit/10, lftlabel='$B$')\n",
    "line3 = d.add(e.LINE, d='right',  xy=and1.out, l=d.unit/10, rgtlabel='$Q$')\n",
    "\n",
    "nand1 = d.add(l.andgate(inputs=2, nand=True), xy=(6,0))\n",
    "not1  = d.add(l.NOT, xy=nand1.out)\n",
    "line1 = d.add(e.LINE, d='left',  xy=nand1.in1, l=d.unit/10, lftlabel='$A$')\n",
    "line2 = d.add(e.LINE, d='left',  xy=nand1.in2, l=d.unit/10, lftlabel='$B$')\n",
    "line3 = d.add(e.LINE, d='right',  xy=not1.out, l=d.unit/10, rgtlabel='$Q$')\n",
    "d.draw()\n",
    "d.save('nand_game_out/02_and.svg')"
   ]
  },
  {
   "cell_type": "markdown",
   "metadata": {},
   "source": [
    "### Or\n",
    "An or gate output is 1 when at least one input is 1:\n",
    "\n",
    "$$ a \\vee b = a+b$$\n",
    "\n",
    "| A   | B   | Q   |\n",
    "| --- | --- | --- |\n",
    "| 0   | 0   | 0   |\n",
    "| 1   | 0   | 1   |\n",
    "| 0   | 1   | 1   |\n",
    "| 1   | 1   | 1   |\n",
    "\n",
    "**Solution**\n",
    "Invert Inputs of a NAND"
   ]
  },
  {
   "cell_type": "code",
   "execution_count": 352,
   "metadata": {},
   "outputs": [
    {
     "data": {
      "image/png": "[encoded data removed]",
      "text/plain": [
       "<Figure size 421.02x106.2 with 1 Axes>"
      ]
     },
     "metadata": {},
     "output_type": "display_data"
    }
   ],
   "source": [
    "d = schem.Drawing()\n",
    "or1 = d.add(l.OR2, xy=(0,0))\n",
    "line1 = d.add(e.LINE, d='left',  xy=or1.in1, l=d.unit/10, lftlabel='$A$')\n",
    "line2 = d.add(e.LINE, d='left',  xy=or1.in2, l=d.unit/10, lftlabel='$B$')\n",
    "line3 = d.add(e.LINE, d='right',  xy=or1.out, l=d.unit/10, rgtlabel='$Q$')\n",
    "\n",
    "nand1 = d.add(l.andgate(inputs=2, nand=True), xy=(8,0))\n",
    "line1 = d.add(e.LINE, d='up', xy=nand1.in1, l=d.unit/6)\n",
    "line2 = d.add(e.LINE, d='left', xy=line1.end, l=d.unit/6)\n",
    "line3 = d.add(e.LINE, d='down', xy=nand1.in2, l=d.unit/6)\n",
    "line4 = d.add(e.LINE, d='left', xy=line3.end, l=d.unit/6)\n",
    "inv1 = d.add(l.NOT, xy=line2.end, reverse=True, lftlabel='$A$')\n",
    "inv2 = d.add(l.NOT, xy=line4.end, reverse=True, lftlabel='$B$')\n",
    "line5 = d.add(e.LINE, d='right', xy=nand1.out, l=d.unit/10, rgtlabel='$Q$')\n",
    "d.draw()\n",
    "d.save('nand_game_out/03_or.svg')"
   ]
  },
  {
   "cell_type": "markdown",
   "metadata": {},
   "source": [
    "### Xor\n",
    "An xor gate output is 1 when the two inputs are different:\n",
    "  \n",
    "$$a \\oplus b = a\\overline{b} + \\overline{a}b$$\n",
    "\n",
    "| A   | B   | Q   |\n",
    "| --- | --- | --- |\n",
    "| 0   | 0   | 0   |\n",
    "| 1   | 0   | 1   |\n",
    "| 0   | 1   | 1   |\n",
    "| 1   | 1   | 0   |\n",
    "\n",
    "**Solution**\n",
    "a not(b) or b not (a)"
   ]
  },
  {
   "cell_type": "code",
   "execution_count": 353,
   "metadata": {},
   "outputs": [
    {
     "data": {
      "image/png": "[encoded data removed]",
      "text/plain": [
       "<Figure size 500.22x106.2 with 1 Axes>"
      ]
     },
     "metadata": {},
     "output_type": "display_data"
    }
   ],
   "source": [
    "d = schem.Drawing()\n",
    "xor1 = d.add(l.XOR2, xy=(0,0))\n",
    "line1 = d.add(e.LINE, d='left',  xy=xor1.in1, l=d.unit/10, lftlabel='$A$')\n",
    "line2 = d.add(e.LINE, d='left',  xy=xor1.in2, l=d.unit/10, lftlabel='$B$')\n",
    "line3 = d.add(e.LINE, d='right',  xy=xor1.out, l=d.unit/10, rgtlabel='$Q$')\n",
    "\n",
    "nand1 = d.add(l.andgate(inputs=2, nand=True), xy=(10,0))\n",
    "line1 = d.add(e.LINE, d='up', xy=nand1.in1, l=d.unit/6)\n",
    "line2 = d.add(e.LINE, d='left', xy=line1.end, l=d.unit/6)\n",
    "line3 = d.add(e.LINE, d='down', xy=nand1.in2, l=d.unit/6)\n",
    "line4 = d.add(e.LINE, d='left', xy=line3.end, l=d.unit/6)\n",
    "nand2 = d.add(l.andgate(inputs=2, nand=True), xy=line2.end, reverse=True)\n",
    "nand3 = d.add(l.andgate(inputs=2, nand=True), xy=line4.end, reverse=True)\n",
    "line5 = d.add(e.LINE, d='down', xy=nand2.in1, l=d.unit/3)\n",
    "dot1  = d.add(e.DOT, xy=line5.center)\n",
    "line6 = d.add(e.LINE, d='left', xy=dot1.center, l=d.unit/6)\n",
    "nand4 = d.add(l.andgate(inputs=2, nand=True), xy=line6.end, anchor='out', reverse=True)\n",
    "line6 = d.add(e.LINE, d='left', xy=nand2.in2, l=d.unit, lftlabel='$A$')\n",
    "line7 = d.add(e.LINE, d='left', xy=nand3.in1, l=d.unit, lftlabel='$B$')\n",
    "line8 = d.add(e.LINE, d='up', xy=nand4.in2, l=d.unit/4)\n",
    "line9 = d.add(e.LINE, d='down', xy=nand4.in1, l=d.unit/4)\n",
    "dot2  = d.add(e.DOT, xy=line8.end)\n",
    "dot3  = d.add(e.DOT, xy=line9.end)\n",
    "line10 = d.add(e.LINE, d='right',  xy=nand1.out, l=d.unit/10,rgtlabel='$Q$')\n",
    "\n",
    "d.draw()\n",
    "d.save('nand_game_out/04_xor.svg')"
   ]
  },
  {
   "cell_type": "markdown",
   "metadata": {},
   "source": [
    "### Logic Gates Appendium\n",
    "<img src=\"./nand_game/Boolean Logic.png\" width=\"500\" />\n",
    "\n",
    "* ```AND``` is used to let through or set to ```'0'```\n",
    "* ```OR``` is used to let through or set to ```'1'```\n",
    "* ```XOR``` is used to let through or invert signal\n"
   ]
  },
  {
   "cell_type": "code",
   "execution_count": 371,
   "metadata": {},
   "outputs": [
    {
     "data": {
      "image/png": "[encoded data removed]",
      "text/plain": [
       "<Figure size 428.94x204.804 with 1 Axes>"
      ]
     },
     "metadata": {},
     "output_type": "display_data"
    }
   ],
   "source": [
    "d = schem.Drawing()\n",
    "# AND\n",
    "and1 = d.add(l.AND2, xy=(0,0),)\n",
    "line1 = d.add(e.LINE, d='left',  xy=and1.in1, l=d.unit/10, lftlabel='A')\n",
    "line2 = d.add(e.LINE, d='left',  xy=and1.in2, l=d.unit/10, lftlabel='B')\n",
    "line3 = d.add(e.LINE, d='right',  xy=and1.out, l=d.unit/10, rgtlabel='Q')\n",
    "\n",
    "and2 = d.add(l.AND2, xy=(4,0),)\n",
    "line1 = d.add(e.LINE, d='left',  xy=and2.in1, l=d.unit/10, lftlabel='A')\n",
    "line2 = d.add(e.LINE, d='left',  xy=and2.in2, l=d.unit/10, lftlabel=\"0\")\n",
    "line3 = d.add(e.LINE, d='right',  xy=and2.out, l=d.unit/10, rgtlabel='0')\n",
    "\n",
    "and3 = d.add(l.AND2, xy=(8,0),)\n",
    "line1 = d.add(e.LINE, d='left',  xy=and3.in1, l=d.unit/10, lftlabel='A')\n",
    "line2 = d.add(e.LINE, d='left',  xy=and3.in2, l=d.unit/10, lftlabel=\"1\")\n",
    "line3 = d.add(e.LINE, d='right',  xy=and3.out, l=d.unit/10, rgtlabel='A')\n",
    "\n",
    "# OR\n",
    "or1 = d.add(l.OR2, xy=(0,2))\n",
    "line1 = d.add(e.LINE, d='left',  xy=or1.in1, l=d.unit/10, lftlabel='A')\n",
    "line2 = d.add(e.LINE, d='left',  xy=or1.in2, l=d.unit/10, lftlabel='B')\n",
    "line3 = d.add(e.LINE, d='right',  xy=or1.out, l=d.unit/10, rgtlabel='Q')\n",
    "\n",
    "or2 = d.add(l.OR2, xy=(4,2))\n",
    "line1 = d.add(e.LINE, d='left',  xy=or2.in1, l=d.unit/10, lftlabel='A')\n",
    "line2 = d.add(e.LINE, d='left',  xy=or2.in2, l=d.unit/10, lftlabel='0')\n",
    "line3 = d.add(e.LINE, d='right',  xy=or2.out, l=d.unit/10, rgtlabel='A')\n",
    "\n",
    "or3 = d.add(l.OR2, xy=(8,2))\n",
    "line1 = d.add(e.LINE, d='left',  xy=or3.in1, l=d.unit/10, lftlabel='A')\n",
    "line2 = d.add(e.LINE, d='left',  xy=or3.in2, l=d.unit/10, lftlabel='1')\n",
    "line3 = d.add(e.LINE, d='right',  xy=or3.out, l=d.unit/10, rgtlabel='1')\n",
    "\n",
    "# XOR\n",
    "xor1 = d.add(l.XOR2, xy=(0,4))\n",
    "line1 = d.add(e.LINE, d='left',  xy=xor1.in1, l=d.unit/10, lftlabel='A')\n",
    "line2 = d.add(e.LINE, d='left',  xy=xor1.in2, l=d.unit/10, lftlabel='B')\n",
    "line3 = d.add(e.LINE, d='right',  xy=xor1.out, l=d.unit/10, rgtlabel='Q')\n",
    "\n",
    "xor2 = d.add(l.XOR2, xy=(4,4))\n",
    "line1 = d.add(e.LINE, d='left',  xy=xor2.in1, l=d.unit/10, lftlabel='A')\n",
    "line2 = d.add(e.LINE, d='left',  xy=xor2.in2, l=d.unit/10, lftlabel='0')\n",
    "line3 = d.add(e.LINE, d='right',  xy=xor2.out, l=d.unit/10, rgtlabel='A')\n",
    "\n",
    "xor3 = d.add(l.XOR2, xy=(8,4))\n",
    "line1 = d.add(e.LINE, d='left',  xy=xor3.in1, l=d.unit/10, lftlabel='A')\n",
    "line2 = d.add(e.LINE, d='left',  xy=xor3.in2, l=d.unit/10, lftlabel='1')\n",
    "line3 = d.add(e.LINE, d='right',  xy=xor3.out, l=d.unit/10, rgtlabel='$\\overline{A}$')\n",
    "\n",
    "\n",
    "d.draw()\n",
    "d.save('nand_game_out/logic_gates_appendium.svg')"
   ]
  },
  {
   "cell_type": "markdown",
   "metadata": {
    "toc-hr-collapsed": true
   },
   "source": [
    "## Arithmetics"
   ]
  },
  {
   "cell_type": "markdown",
   "metadata": {},
   "source": [
    "### Half Adder\n",
    "Half Adder\n",
    "\n",
    "An add component which adds two bits. The output is a two-bit value.\n",
    "\n",
    "The h output is the high bit, the l is the low bit.\n",
    "\n",
    "| A | B | Carry | Sum |\n",
    "| - | - | ----- | --- |\n",
    "| 0 | 0 | 0     | 0   |\n",
    "| 0 | 1 | 0     | 1   |\n",
    "| 1 | 0 | 0     | 1   |\n",
    "| 1 | 1 | 1     | 0   |\n"
   ]
  },
  {
   "cell_type": "code",
   "execution_count": 354,
   "metadata": {},
   "outputs": [
    {
     "data": {
      "image/png": "[encoded data removed]",
      "text/plain": [
       "<Figure size 424.98x165.6 with 1 Axes>"
      ]
     },
     "metadata": {},
     "output_type": "display_data"
    }
   ],
   "source": [
    "d = schem.Drawing()\n",
    "tinputs = {'cnt':2, 'labels':['B','A']}\n",
    "linputs = {'cnt':1, 'labels':['$Carry$']}\n",
    "binputs = {'cnt':1, 'labels':['$Sum$']}\n",
    "halfadder1 = d.add(e.blackbox(d.unit, d.unit, linputs=linputs, binputs=binputs, tinputs=tinputs, mainlabel='HalfAdder')) #, rinputs=rinputs))\n",
    "\n",
    "xor1 = d.add(l.XOR2, rgtlabel='$Sum$', xy=(8,2))\n",
    "dot1 = d.add(e.DOT, xy=xor1.in1)\n",
    "line1 = d.add(e.LINE, d='left', l=d.unit/4, xy=xor1.in1, lftlabel='$A$')\n",
    "line2 = d.add(e.LINE, d='left', l=d.unit/4, xy=xor1.in2, lftlabel='$B$')\n",
    "line3 = d.add(e.LINE, d='down', l=d.unit/2, xy=dot1.center)\n",
    "and1 = d.add(l.AND2, d='right', anchor='in1', xy=line3.end, rgtlabel='$Carry$')\n",
    "line4 = d.add(e.LINE, d='left', l=d.unit/8, xy=and1.in2)\n",
    "line5 = d.add(e.LINE, d='up', l=d.unit/2, xy=line4.end)\n",
    "dot2 = d.add(e.DOT, xy=line5.end)\n",
    "\n",
    "d.draw()\n",
    "d.save('nand_game_out/05_half_adder.svg')"
   ]
  },
  {
   "cell_type": "markdown",
   "metadata": {},
   "source": [
    "### Full Adder\n",
    "An add component which adds three bits: a, b, and c.\n",
    "\n",
    "The output is a two-bit value. Carry and Sum with is the HSb and LSb.\n",
    "\n",
    "| A | B | $C_{in}$ | $C_{out}$ | Sum |\n",
    "| - | - | - | ----- | --- |\n",
    "| 0 | 0 | 0 | 0     | 0   |\n",
    "| 0 | 0 | 1 | 0     | 1   |\n",
    "| 0 | 1 | 0 | 0     | 1   |\n",
    "| 0 | 1 | 1 | 1     | 0   |\n",
    "| 1 | 0 | 0 | 0     | 1   |\n",
    "| 1 | 0 | 1 | 1     | 0   |\n",
    "| 1 | 1 | 0 | 1     | 0   |\n",
    "| 1 | 1 | 1 | 1     | 1   |\n",
    "\n",
    "**Solution**:\n",
    "* Two Half-Adder can be linked to create a Full-Substractor combines with an Or"
   ]
  },
  {
   "cell_type": "code",
   "execution_count": 355,
   "metadata": {},
   "outputs": [
    {
     "data": {
      "image/png": "[encoded data removed]",
      "text/plain": [
       "<Figure size 577.44x175.104 with 1 Axes>"
      ]
     },
     "metadata": {},
     "output_type": "display_data"
    }
   ],
   "source": [
    "d = schem.Drawing()\n",
    "tinputs = {'cnt':2, 'labels':['B','A']}\n",
    "rinputs = {'cnt':1, 'labels':['$C_{in}$']}\n",
    "linputs = {'cnt':1, 'labels':['$C_{out}$']}\n",
    "binputs = {'cnt':1, 'labels':['$Sum$']}\n",
    "fulladder1 = d.add(e.blackbox(d.unit, d.unit, linputs=linputs, binputs=binputs, tinputs=tinputs, rinputs=rinputs, mainlabel='FullAdder'))\n",
    "\n",
    "or1 = d.add(l.OR2, rgtlabel='$C_{out}$', xy=(12,2))\n",
    "line1 = d.add(e.LINE, d='down', l=d.unit/6, xy=or1.in2)\n",
    "line2 = d.add(e.LINE, d='left', l=d.unit/6, xy=line1.end)\n",
    "line3 = d.add(e.LINE, d='left', l=d.unit, xy=or1.in1)\n",
    "and1 = d.add(l.AND2, xy=line2.end, reverse=True)\n",
    "line4 = d.add(e.LINE, d='down', l=d.unit/2, xy=and1.in1)\n",
    "dot1 = d.add(e.DOT, xy=line4.end)\n",
    "xor1 = d.add(l.XOR2, xy=line4.end, anchor='in2')\n",
    "line6 = d.add(e.LINE, d='right', l=d.unit/1.4, xy=xor1.out, rgtlabel=\"$Sum$\")\n",
    "line7 = d.add(e.LINE, d='left', l=d.unit/8, xy=and1.in2)\n",
    "line8 = d.add(e.LINE, d='down', l=d.unit/2, xy=line7.end)\n",
    "line9 = d.add(e.LINE, d='right', l=d.unit/6, xy=line8.end)\n",
    "line10 = d.add(e.LINE, d='left', l=d.unit*1.2, xy=xor1.in2, lftlabel=\"$C_{in}$\")\n",
    "dot2 = d.add(e.DOT, xy=line8.center)\n",
    "line11 = d.add(e.LINE, d='left', l=d.unit/8, xy=dot2.center)\n",
    "xor2 = d.add(l.XOR2, xy=line11.end, reverse=True)\n",
    "line12 = d.add(e.LINE, d='up', l=d.unit/3, xy=xor2.in2)\n",
    "line13 = d.add(e.LINE, d='left', l=d.unit/8, xy=xor2.in1)\n",
    "line14 = d.add(e.LINE, d='up', l=d.unit/1.5, xy=line13.end)\n",
    "and2 = d.add(l.AND2, xy=line3.end, anchor=\"out\", d='right')\n",
    "line15 = d.add(e.LINE, d='left', l=d.unit/3, xy=and2.in1, lftlabel=\"A\")\n",
    "line16 = d.add(e.LINE, d='left', l=d.unit/3, xy=and2.in2, lftlabel=\"B\")\n",
    "dot3 = d.add(e.DOT, xy=line12.end)\n",
    "dot4 = d.add(e.DOT, xy=line14.end)\n",
    " \n",
    "d.draw()\n",
    "d.save('nand_game_out/06_full_adder.svg')"
   ]
  },
  {
   "cell_type": "markdown",
   "metadata": {},
   "source": [
    "### Multi-Bit Adder\n",
    "Create 4Bit-Adder\n",
    "\n",
    "**Solution**:\n",
    "* Chain Full-Adders together"
   ]
  },
  {
   "cell_type": "code",
   "execution_count": 356,
   "metadata": {},
   "outputs": [
    {
     "data": {
      "image/png": "[encoded data removed]",
      "text/plain": [
       "<Figure size 789.3x205.2 with 1 Axes>"
      ]
     },
     "metadata": {},
     "output_type": "display_data"
    }
   ],
   "source": [
    "d = schem.Drawing()\n",
    "tinputs = {'cnt':2, 'labels':['b','a']}\n",
    "rinputs = {'cnt':1, 'labels':['$c_{in}$']}\n",
    "linputs = {'cnt':1, 'labels':['$c_{out}$']}\n",
    "binputs = {'cnt':1, 'labels':['$s$']}\n",
    "fulladder1 = d.add(e.blackbox(d.unit, d.unit, linputs=linputs, binputs=binputs, tinputs=tinputs, rinputs=rinputs))\n",
    "line1 = d.add(e.LINE, d='right',  xy=fulladder1.c_in, l=d.unit/4)\n",
    "fulladder2 = d.add(e.blackbox(d.unit, d.unit, linputs=linputs, binputs=binputs, tinputs=tinputs, rinputs=rinputs), anchor='c_out')\n",
    "line2 = d.add(e.LINE, d='right',  xy=fulladder2.c_in, l=d.unit/4)\n",
    "fulladder3 = d.add(e.blackbox(d.unit, d.unit, linputs=linputs, binputs=binputs, tinputs=tinputs, rinputs=rinputs), anchor='c_out')\n",
    "line3 = d.add(e.LINE, d='right',  xy=fulladder3.c_in, l=d.unit/4)\n",
    "fulladder4 = d.add(e.blackbox(d.unit, d.unit, linputs=linputs, binputs=binputs, tinputs=tinputs, rinputs=rinputs), anchor='c_out')\n",
    "line4 = d.add(e.LINE, d='right',  xy=fulladder4.c_in, l=d.unit/4, rgtlabel=\"$c_{in}$\")\n",
    "line5 = d.add(e.LINE, d='down',  xy=fulladder4.s, l=d.unit/6, lftlabel=\"$s_0$\")\n",
    "line6 = d.add(e.LINE, d='down',  xy=fulladder3.s, l=d.unit/6, lftlabel=\"$s_1$\")\n",
    "line7 = d.add(e.LINE, d='down',  xy=fulladder2.s, l=d.unit/6, lftlabel=\"$s_2$\")\n",
    "line8 = d.add(e.LINE, d='down',  xy=fulladder1.s, l=d.unit/6, lftlabel=\"$s_3$\")\n",
    "line9 = d.add(e.LINE, d='left',  xy=fulladder1.c_out, l=d.unit/4,)\n",
    "line10 = d.add(e.LINE, d='down',  xy=line9.end, l=d.unit/1.2, lftlabel=\"$s_4$\")\n",
    "line11 = d.add(e.LINE, d='up',  xy=fulladder1.a, l=d.unit/6, rgtlabel=\"$a_3$\")\n",
    "line12 = d.add(e.LINE, d='up',  xy=fulladder1.b, l=d.unit/6, rgtlabel=\"$b_3$\")\n",
    "line13 = d.add(e.LINE, d='up',  xy=fulladder2.a, l=d.unit/6, rgtlabel=\"$a_2$\")\n",
    "line14 = d.add(e.LINE, d='up',  xy=fulladder2.b, l=d.unit/6, rgtlabel=\"$b_2$\")\n",
    "line15 = d.add(e.LINE, d='up',  xy=fulladder3.a, l=d.unit/6, rgtlabel=\"$a_1$\")\n",
    "line16 = d.add(e.LINE, d='up',  xy=fulladder3.b, l=d.unit/6, rgtlabel=\"$b_1$\")\n",
    "line17 = d.add(e.LINE, d='up',  xy=fulladder4.a, l=d.unit/6, rgtlabel=\"$a_0$\")\n",
    "line18 = d.add(e.LINE, d='up',  xy=fulladder4.b, l=d.unit/6, rgtlabel=\"$b_0$\")\n",
    "\n",
    "d.draw()\n",
    "d.save('nand_game_out/07_multibit_adder.svg')"
   ]
  },
  {
   "cell_type": "markdown",
   "metadata": {},
   "source": [
    "### Increment\n",
    "Add 1 to a 16-bit number.\n",
    "\n",
    "Ignore the carry if the result is larger than 16 bits\n",
    "\n",
    "**Solution**\n",
    "* Chain Full-Adders and set A to the number and B to Zero. The +1 comes from the cin which is set to '1'."
   ]
  },
  {
   "cell_type": "code",
   "execution_count": 357,
   "metadata": {},
   "outputs": [
    {
     "data": {
      "image/png": "[encoded data removed]",
      "text/plain": [
       "<Figure size 324x324 with 1 Axes>"
      ]
     },
     "metadata": {},
     "output_type": "display_data"
    }
   ],
   "source": [
    "d = schem.Drawing()\n",
    "tinputs = {'cnt':2, 'labels':['B[15:0]','A[15:0]']}\n",
    "rinputs = {'cnt':1, 'labels':['$c_{in}$']}\n",
    "linputs = {'cnt':1, 'labels':['$c_{out}$']}\n",
    "binputs = {'cnt':1, 'labels':['$Sum[15:0]$']}\n",
    "fulladder1 = d.add(e.blackbox(d.unit*2, d.unit*2, linputs=linputs, binputs=binputs, tinputs=tinputs, rinputs=rinputs, mainlabel=\"16-Bit Adder\"))\n",
    "line1 = d.add(e.LINE, d='right',  xy=fulladder1.c_in, l=d.unit/6, rgtlabel=\"\\'1\\'\")\n",
    "line2 = d.add(e.LINE, d='up',  xy=fulladder1.A150, l=d.unit/6, rgtlabel=\"Number\")\n",
    "line3 = d.add(e.LINE, d='up',  xy=fulladder1.B150, l=d.unit/6, rgtlabel=\"Zeros\")\n",
    "line4 = d.add(e.LINE, d='left',  xy=fulladder1.c_out, l=d.unit/6,)\n",
    "line4 = d.add(e.LINE, d='down',  xy=line4.end, l=d.unit*1.32, lftlabel=\"Sum[16]\")\n",
    "line5 = d.add(e.LINE, d='down',  xy=fulladder1.Sum150, l=d.unit/6, lftlabel=\"Sum[15:0]\")\n",
    "\n",
    "d.draw()\n",
    "d.save('nand_game_out/08_increment.svg')"
   ]
  },
  {
   "cell_type": "markdown",
   "metadata": {},
   "source": [
    "### Subtraction\n",
    "Outputs A minus B as a 16-bit number.\n",
    "\n",
    "If the result is less than zero it is represented as 65536 plus the result.\n",
    "\n",
    "Examples:\n",
    "\n",
    "| Result | 16-bit Binary    | unsigned decimal |\n",
    "| ------ | ---------------- | ---------------- |\n",
    "|      1 | 0000000000000001 | 1 |\n",
    "|      0 | 0000000000000000 | 0 |\n",
    "|     -1 | 1111111111111111 | 65535 |\n",
    "|     -2 | 1111111111111110 | 65534 |\n",
    "|     -3 | 1111111111111101 | 65533 |\n",
    "\n",
    "(This is equivalent to two's complement representation)\n",
    "\n",
    "**Solution**:\n",
    "* Two Half-Substractor can be linked to create a Full-Substractor"
   ]
  },
  {
   "cell_type": "code",
   "execution_count": 358,
   "metadata": {},
   "outputs": [
    {
     "data": {
      "image/png": "[encoded data removed]",
      "text/plain": [
       "<Figure size 959.58x225 with 1 Axes>"
      ]
     },
     "metadata": {},
     "output_type": "display_data"
    }
   ],
   "source": [
    "import numpy as np\n",
    "d = schem.Drawing()\n",
    "tinputs = {'cnt':2, 'labels':['B','A']}\n",
    "rinputs = {'cnt':1, 'labels':['$B_{in}$']}\n",
    "linputs = {'cnt':1, 'labels':['$B_{out}$']}\n",
    "binputs = {'cnt':1, 'labels':['$Diff$']}\n",
    "fullsubstractor1 = d.add(e.blackbox(d.unit*1.5, d.unit*1.5, linputs=linputs, binputs=binputs, tinputs=tinputs, rinputs=rinputs, mainlabel='FullSubstractor'))\n",
    "\n",
    "# Create Half Substractor Subbloc\n",
    "halfsubstractor1 = schem.Drawing()\n",
    "xor1 = halfsubstractor1.add(l.XOR2)\n",
    "line1 = halfsubstractor1.add(e.LINE, d='left', l=d.unit, xy=xor1.in1)\n",
    "dot1 = halfsubstractor1.add(e.DOT, xy=xor1.in2)\n",
    "line2 = halfsubstractor1.add(e.LINE, d='down', l=d.unit/4, xy=xor1.in2)\n",
    "dot2 = halfsubstractor1.add(e.DOT, xy=line1.end)\n",
    "line3 = halfsubstractor1.add(e.LINE, d='down', l=d.unit/1.71, xy=dot2.center)\n",
    "and1 = halfsubstractor1.add(l.AND2, xy=line2.end, d='right', anchor=\"in1\")\n",
    "not1  = halfsubstractor1.add(l.NOT, xy=line3.end)\n",
    "line3 = halfsubstractor1.add(e.LINE, d='left', l=d.unit*1.1, xy=dot1.center)\n",
    "line4 = halfsubstractor1.add(e.LINE, d='left', l=d.unit/8, xy=line1.end)\n",
    "anchors = {\n",
    "    'diffin':line3.end,\n",
    "    'bin':line4.end,\n",
    "    'diffout':xor1.out,\n",
    "    'bout':and1.out}\n",
    "# Create Half Substractor Groups\n",
    "halfsubstractor_group = schem.group_elements(halfsubstractor1, anchors=anchors)\n",
    "halfsubstractor_group1 = d.add(halfsubstractor_group, xy=(19,2))\n",
    "halfsubstractor_group2 = d.add(halfsubstractor_group, xy=(12,2.25))\n",
    "# Draw Box around the Groups\n",
    "def box_ha(d, halfsubstractor):\n",
    "    ''' Draw a dotted box around the Halfadder elements '''\n",
    "    topleft = halfsubstractor.diffin + np.array([-.5,1])\n",
    "    d.add(e.LINE, xy=topleft, tox=topleft[0]+6, d='right', ls=':')\n",
    "    d.add(e.LINE, d='down', toy=topleft[1]-3, ls=':')\n",
    "    d.add(e.LINE, d='left', tox=topleft[0], ls=':')\n",
    "    d.add(e.LINE, d='up',   toy=topleft[1], ls=':')\n",
    "box_ha(d, halfsubstractor_group1)\n",
    "box_ha(d, halfsubstractor_group2)\n",
    "\n",
    "# Interconnect Half Substractor 2 output\n",
    "line5 = d.add(e.LINE, d='right', l=d.unit/1.2, xy=halfsubstractor_group1.diffout, rgtlabel=\"Diff\")\n",
    "line6 = d.add(e.LINE, d='right', l=d.unit/5, xy=halfsubstractor_group1.bout)\n",
    "xor1 = d.add(l.OR2, xy=line6.end, anchor='in1')\n",
    "line7 = d.add(e.LINE, d='right', l=0, xy=xor1.out, rgtlabel=\"$B_{out}$\")\n",
    "\n",
    "# Interconnect Half Substractor 1&2\n",
    "line8 = d.add(e.LINE, d='right', l=d.unit/1.5, xy=halfsubstractor_group2.diffout)\n",
    "line9 = d.add(e.LINE, d='right', l=d.unit/4, xy=halfsubstractor_group2.bout)\n",
    "line10 = d.add(e.LINE, d='down', l=d.unit/2, xy=line9.end)\n",
    "line11 = d.add(e.LINE, d='right', l=d.unit*2.28, xy=line10.end)\n",
    "line12 = d.add(e.LINE, d='up', l=d.unit/4, xy=line11.end)\n",
    "\n",
    "# Interconnect Half Substractor 1 input\n",
    "line13 = d.add(e.LINE, d='left', l=d.unit/2, xy=halfsubstractor_group2.diffin, lftlabel=\"B\")\n",
    "line14 = d.add(e.LINE, d='left', l=d.unit/2.1, xy=halfsubstractor_group2.bin, lftlabel=\"A\")\n",
    "line15 = d.add(e.LINE, d='left', l=d.unit/4, xy=halfsubstractor_group1.diffin)\n",
    "line16 = d.add(e.LINE, d='down', l=d.unit/1.5, xy=line15.end)\n",
    "line17 = d.add(e.LINE, d='left', l=d.unit*2.5, xy=line16.end, lftlabel=\"$B_{in}$\")\n",
    "\n",
    "d.draw()\n",
    "d.save('nand_game_out/09_full_substractor.svg')"
   ]
  },
  {
   "cell_type": "code",
   "execution_count": 374,
   "metadata": {},
   "outputs": [
    {
     "data": {
      "image/png": "[encoded data removed]",
      "text/plain": [
       "<Figure size 789.3x324 with 1 Axes>"
      ]
     },
     "metadata": {},
     "output_type": "display_data"
    }
   ],
   "source": [
    "d = schem.Drawing()\n",
    "tinputs = {'cnt':2, 'labels':['b','a']}\n",
    "rinputs = {'cnt':1, 'labels':['$c_{in}$']}\n",
    "linputs = {'cnt':1, 'labels':['$c_{out}$']}\n",
    "binputs = {'cnt':1, 'labels':['$s$']}\n",
    "fulladder1 = d.add(e.blackbox(d.unit, d.unit, linputs=linputs, binputs=binputs, tinputs=tinputs, rinputs=rinputs, mainlabel='FullAdder'))\n",
    "line1 = d.add(e.LINE, d='right',  xy=fulladder1.c_in, l=d.unit/4)\n",
    "fulladder2 = d.add(e.blackbox(d.unit, d.unit, linputs=linputs, binputs=binputs, tinputs=tinputs, rinputs=rinputs, mainlabel='FullAdder'), anchor='c_out')\n",
    "line2 = d.add(e.LINE, d='right',  xy=fulladder2.c_in, l=d.unit/4)\n",
    "fulladder3 = d.add(e.blackbox(d.unit, d.unit, linputs=linputs, binputs=binputs, tinputs=tinputs, rinputs=rinputs, mainlabel='FullAdder'), anchor='c_out')\n",
    "line3 = d.add(e.LINE, d='right',  xy=fulladder3.c_in, l=d.unit/4)\n",
    "fulladder4 = d.add(e.blackbox(d.unit, d.unit, linputs=linputs, binputs=binputs, tinputs=tinputs, rinputs=rinputs, mainlabel='FullAdder'), anchor='c_out')\n",
    "line4 = d.add(e.LINE, d='right',  xy=fulladder4.c_in, l=d.unit/4, rgtlabel=\"$'1'$\")\n",
    "line5 = d.add(e.LINE, d='down',  xy=fulladder4.s, l=d.unit/6, lftlabel=\"$s_0$\")\n",
    "line6 = d.add(e.LINE, d='down',  xy=fulladder3.s, l=d.unit/6, lftlabel=\"$s_1$\")\n",
    "line7 = d.add(e.LINE, d='down',  xy=fulladder2.s, l=d.unit/6, lftlabel=\"$s_2$\")\n",
    "line8 = d.add(e.LINE, d='down',  xy=fulladder1.s, l=d.unit/6, lftlabel=\"$s_3$\")\n",
    "line9 = d.add(e.LINE, d='left',  xy=fulladder1.c_out, l=d.unit/4,)\n",
    "line10 = d.add(e.LINE, d='down',  xy=line9.end, l=d.unit/1.2, lftlabel=\"$s_4$\")\n",
    "line11 = d.add(e.LINE, d='up',  xy=fulladder1.a, l=d.unit*1.16, rgtlabel=\"$a_3$\")\n",
    "line12 = d.add(e.LINE, d='up',  xy=fulladder1.b, l=d.unit/6)\n",
    "line13 = d.add(e.LINE, d='up',  xy=fulladder2.a, l=d.unit*1.16, rgtlabel=\"$a_2$\")\n",
    "line14 = d.add(e.LINE, d='up',  xy=fulladder2.b, l=d.unit/6)\n",
    "line15 = d.add(e.LINE, d='up',  xy=fulladder3.a, l=d.unit*1.16, rgtlabel=\"$a_1$\")\n",
    "line16 = d.add(e.LINE, d='up',  xy=fulladder3.b, l=d.unit/6)\n",
    "line17 = d.add(e.LINE, d='up',  xy=fulladder4.a, l=d.unit*1.16, rgtlabel=\"$a_0$\")\n",
    "line18 = d.add(e.LINE, d='up',  xy=fulladder4.b, l=d.unit/6)\n",
    "not1 = d.add(l.NOT, xy=line12.end, rgtlabel=\"$b_3$\", reverse=True)\n",
    "not1 = d.add(l.NOT, xy=line14.end, rgtlabel=\"$b_2$\", reverse=True)\n",
    "not1 = d.add(l.NOT, xy=line16.end, rgtlabel=\"$b_1$\", reverse=True)\n",
    "not1 = d.add(l.NOT, xy=line18.end, rgtlabel=\"$b_0$\", reverse=True)\n",
    "\n",
    "d.draw()\n",
    "d.save('nand_game_out/10_multibit_substractor.svg')"
   ]
  },
  {
   "cell_type": "markdown",
   "metadata": {},
   "source": [
    "### Equal to Zero\n",
    "Should output 1 if and only if all bits in the input are 0."
   ]
  },
  {
   "cell_type": "code",
   "execution_count": 423,
   "metadata": {},
   "outputs": [
    {
     "data": {
      "image/png": "[encoded data removed]",
      "text/plain": [
       "<Figure size 258.66x165.6 with 1 Axes>"
      ]
     },
     "metadata": {},
     "output_type": "display_data"
    }
   ],
   "source": [
    "d = schem.Drawing()\n",
    "inv1 = d.add(l.NOT,lftlabel=\"D\", xy=(0,0))\n",
    "inv2 = d.add(l.NOT,lftlabel=\"C\", xy=(0,1))\n",
    "inv3 = d.add(l.NOT,lftlabel=\"B\", xy=(0,2))\n",
    "inv4 = d.add(l.NOT,lftlabel=\"A\", xy=(0,3))\n",
    "and1 = d.add(l.AND4, xy=(4,1.5))\n",
    "line1 = d.add(e.LINE, d=\"right\", l=d.unit/3, xy=inv1.end) \n",
    "line2 = d.add(e.LINE, d=\"up\", l=d.unit/3.3, xy=line1.end)\n",
    "line3 = d.add(e.LINE, d=\"right\", l=d.unit/3, xy=inv4.end) \n",
    "line4 = d.add(e.LINE, d=\"down\", l=d.unit/3.3, xy=line3.end) \n",
    "\n",
    "line5 = d.add(e.LINE, d=\"right\", l=d.unit/6, xy=inv3.end) \n",
    "line6 = d.add(e.LINE, d=\"down\", l=d.unit/10, xy=line5.end) \n",
    "line7 = d.add(e.LINE, d=\"right\", l=d.unit/6, xy=line6.end) \n",
    "\n",
    "line8 = d.add(e.LINE, d=\"right\", l=d.unit/6, xy=inv2.end) \n",
    "line9 = d.add(e.LINE, d=\"up\", l=d.unit/10, xy=line8.end) \n",
    "line10 = d.add(e.LINE, d=\"right\", l=d.unit/6, xy=line9.end) \n",
    "line11 = d.add(e.LINE, d=\"right\", l=d.unit/6, xy=and1.end, rgtlabel=\"Equal Zero\") \n",
    "\n",
    "d.draw()\n",
    "d.save('nand_game_out/11_equal_to_zero.svg')"
   ]
  },
  {
   "cell_type": "markdown",
   "metadata": {},
   "source": [
    "### Less than Zero\n",
    "Outputs 1 if the input as a 16-bit number is negative\n",
    "\n",
    "Specification:\n",
    "\n",
    "| In      | Out |\n",
    "| ------- | --- |\n",
    "| In >= 0 | 0   |\n",
    "| In <  0 | 1   |\n",
    "\n",
    "A number is considered less than zero if bit 15 is 1.\n",
    "\n",
    "Bit numbering\n",
    "Bits are numbered from right to left, starting with 0 as the rightmost bit. So bit 15 is the leftmost bit in a 16-bit word."
   ]
  },
  {
   "cell_type": "code",
   "execution_count": 424,
   "metadata": {},
   "outputs": [
    {
     "data": {
      "image/png": "[encoded data removed]",
      "text/plain": [
       "<Figure size 185.4x39.87 with 1 Axes>"
      ]
     },
     "metadata": {},
     "output_type": "display_data"
    }
   ],
   "source": [
    "d = schem.Drawing()\n",
    "bus1 = d.add(e.LINE, l=d.unit, lftlabel=\"A[15:0]\")\n",
    "dot1 = d.add(e.DOT, xy=bus1.center)\n",
    "line2 = d.add(e.LINE, l=d.unit/4, d=\"down\", xy=dot1.center)\n",
    "line3 = d.add(e.LINE, l=d.unit, d=\"right\", xy=line2.end, lftlabel=\"[MSB]\", rgtlabel=\"Less Than Zero\")\n",
    "\n",
    "d.draw()\n",
    "d.save('nand_game_out/11_less_than_zero.svg')"
   ]
  },
  {
   "cell_type": "markdown",
   "metadata": {
    "toc-hr-collapsed": true
   },
   "source": [
    "## Plumbing"
   ]
  },
  {
   "cell_type": "markdown",
   "metadata": {},
   "source": [
    "### Selector / Demuxliplexer\n",
    "A select-component selects one out of two input bits for output.\n",
    "\n",
    "The s (select) bit indicates which input is selected: If 0, d0 is selected, if 1, d1 is selected.\n",
    "\n",
    "| S | D1 | D0 | Output |\n",
    "| - | -- | -- | ------ |\n",
    "| 0 |  0 |  0 | 0 |\n",
    "| 0 |  1 |  0 | 0 |\n",
    "| 0 |  0 |  1 | 1 |\n",
    "| 0 |  1 |  1 | 1 |\n",
    "| 1 |  0 |  0 | 0 |\n",
    "| 1 |  0 |  1 | 0 |\n",
    "| 1 |  1 |  0 | 1 |\n",
    "| 1 |  1 |  1 | 1 |"
   ]
  },
  {
   "cell_type": "code",
   "execution_count": 498,
   "metadata": {},
   "outputs": [
    {
     "data": {
      "image/png": "[encoded data removed]",
      "text/plain": [
       "<Figure size 650.7x150.827 with 1 Axes>"
      ]
     },
     "metadata": {},
     "output_type": "display_data"
    }
   ],
   "source": [
    "d = schem.Drawing()\n",
    "m1 = d.add(e.mux(inputs=['$D_0$','$D_1$'], outputs=['Q'], ctrls=['S']))\n",
    "line1 = d.add(e.LINE, d=\"left\", l=d.unit/4, xy=m1.D_0, lftlabel=\"$D_0$\")\n",
    "line2 = d.add(e.LINE, d=\"left\", l=d.unit/4, xy=m1.D_1, lftlabel=\"$D_1$\")\n",
    "line3 = d.add(e.LINE, d=\"down\", l=d.unit/6, xy=m1.S, lftlabel=\"Selector\")\n",
    "line4 = d.add(e.LINE, d=\"right\", l=d.unit/6, xy=m1.Q, rgtlabel=\"Out\")\n",
    "\n",
    "and1 = d.add(l.AND2, xy=(10,2))\n",
    "line5 = d.add(e.LINE, d=\"left\", l=d.unit*1.2, lftlabel=\"$D_1$\", xy=and1.in1)\n",
    "line6 = d.add(e.LINE, d=\"left\", xy=and1.in2, l=d.unit*1.2, lftlabel=\"Selector\")\n",
    "line7 = d.add(e.LINE, d=\"right\", xy=and1.out, l=d.unit/4)\n",
    "line8 = d.add(e.LINE, d=\"down\", xy=line7.end, l=d.unit/4)\n",
    "or1 = d.add(l.OR2, xy=line8.end, d=\"right\", anchor=\"in1\")\n",
    "line9 = d.add(e.LINE, d=\"down\", xy=or1.in2, l=d.unit/4)\n",
    "line10 = d.add(e.LINE, d=\"left\", xy=line9.end, l=d.unit/4)\n",
    "and2 = d.add(l.AND2, xy=line10.end, reverse = True)\n",
    "line5 = d.add(e.LINE, d=\"left\", l=d.unit*1.2, lftlabel=\"$D_0$\", xy=and2.in1)\n",
    "not1 = d.add(l.NOT, xy=and2.in2, reverse = True)\n",
    "line11 = d.add(e.LINE, d=\"up\", l=d.unit/2)\n",
    "dot1 = d.add(e.DOT, xy=line11.end)\n",
    "line12 = d.add(e.LINE, d=\"right\", l=d.unit/6, xy=or1.out, rgtlabel=\"Out\")\n",
    "d.draw()\n",
    "d.save('nand_game_out/12_selector_demultiplexer.svg')"
   ]
  },
  {
   "cell_type": "markdown",
   "metadata": {},
   "source": [
    "### Switch /Multiplexer\n",
    "A switch component channels a data bit through one of two output channels.\n",
    "\n",
    "s (selector) determines if the d (data) bit is dispatched through c1 or c0.\n",
    "\n",
    "| S | D | D1 | D0 |\n",
    "| - | - | -- | -- |\n",
    "| 0 | 0 | 0  | 0  |\n",
    "| 0 | 1 | 0  | 1  |\n",
    "| 1 | 0 | 0  | 0  |\n",
    "| 1 | 1 | 1  | 0  |\n"
   ]
  },
  {
   "cell_type": "code",
   "execution_count": 629,
   "metadata": {},
   "outputs": [
    {
     "data": {
      "image/png": "[encoded data removed]",
      "text/plain": [
       "<Figure size 489.33x225 with 1 Axes>"
      ]
     },
     "metadata": {},
     "output_type": "display_data"
    }
   ],
   "source": [
    "d = schem.Drawing()\n",
    "m1 = d.add(e.mux(inputs=['$D_0$','$D_1$'], outputs=['D'], ctrls=['S']), reverse=True)\n",
    "line1 = d.add(e.LINE, d=\"right\", l=d.unit/4, xy=m1.D_0, rgtlabel=\"$D_0$\")\n",
    "line2 = d.add(e.LINE, d=\"right\", l=d.unit/4, xy=m1.D_1, rgtlabel=\"$D_1$\")\n",
    "line3 = d.add(e.LINE, d=\"down\", l=d.unit/6, xy=m1.S, lftlabel=\"Selector\")\n",
    "line4 = d.add(e.LINE, d=\"left\", l=d.unit/6, xy=m1.D, lftlabel=\"D\")\n",
    "\n",
    "and1 = d.add(l.AND2, xy=(10,0), reverse=True)\n",
    "line1 = d.add(e.LINE, l=d.unit/2, d=\"left\", xy=and1.in2, lftlabel=\"Data\")\n",
    "line2 = d.add(e.LINE, l=d.unit/2, d=\"left\", xy=and1.in1, lftlabel=\"Selector\")\n",
    "dot1 = d.add(e.DOT, xy=and1.in1)\n",
    "line3 = d.add(e.LINE, l=d.unit/2, d=\"down\", xy=and1.in1)\n",
    "\n",
    "and2 = d.add(l.andgate(inputs=2, nand=False, inputnots=[1]), d=\"right\", anchor=\"in1\")\n",
    "line4 = d.add(e.LINE, l=d.unit/8, d=\"right\", xy=and1.out, rgtlabel=\"Data1\")\n",
    "line5 = d.add(e.LINE, l=d.unit/8, d=\"right\", xy=and2.out, rgtlabel=\"Data0\")\n",
    "line6 = d.add(e.LINE, l=d.unit/4, d=\"left\", xy=and2.in2)\n",
    "line7 = d.add(e.LINE, l=d.unit/8, d=\"left\", xy=line6.end)\n",
    "line8 = d.add(e.LINE, l=d.unit/1.2, d=\"up\", xy=line7.end)\n",
    "dot2 = d.add(e.DOT, xy=line8.end)\n",
    "\n",
    "d.draw()\n",
    "d.save('nand_game_out/12_switch_multiplexer.svg')"
   ]
  },
  {
   "cell_type": "markdown",
   "metadata": {
    "toc-hr-collapsed": false
   },
   "source": [
    "## Memory"
   ]
  },
  {
   "cell_type": "markdown",
   "metadata": {},
   "source": [
    "### Latch\n",
    "\n",
    "$\\overline{SR}-Latch$ and $SR-Latch$\n",
    "\n",
    "A latch component stores and outputs a single bit\n",
    "\n",
    "To describe this in an input/output table, we introduce a variable, out, which can be assigned a bit value and keep it:\n",
    "\n",
    "| $\\overline{Set}$ | $\\overline{Reset}$ | Q              | State |\n",
    "| --- | ----- | -------------- | ----- |\n",
    "| 0   | 0     | ?              | Forbidden |\n",
    "| 0   | 1     | 1              | Set |\n",
    "| 1   | 0     | 0              | Reset |\n",
    "| 1   | 1     | Previous State | out |\n",
    "\n",
    "| Set | Reset | Q              | State |\n",
    "| --- | ----- | -------------- | ----- |\n",
    "| 0   | 0     | Previous State | Store |\n",
    "| 0   | 1     | 0              | Reset |\n",
    "| 1   | 0     | 1              | Set |\n",
    "| 1   | 1     | ?              | Forbidden |"
   ]
  },
  {
   "cell_type": "code",
   "execution_count": 3,
   "metadata": {},
   "outputs": [
    {
     "data": {
      "image/png": "[encoded data removed]",
      "text/plain": [
       "<Figure size 448.74x118.648 with 1 Axes>"
      ]
     },
     "metadata": {},
     "output_type": "display_data"
    }
   ],
   "source": [
    "d = schem.Drawing()\n",
    "\n",
    "# $\\overline{SR}-Latch$\n",
    "nand1 = d.add(l.andgate(inputs=2, nand=True), xy=(0,0))\n",
    "line1 = d.add(e.LINE, d='down', l=d.unit/8, xy=nand1.in2)\n",
    "line2 = d.add(e.LINE, d='down',theta=-20, l=d.unit/1.26, xy=line1.end)\n",
    "line3 = d.add(e.LINE, d='down', l=d.unit/8, xy=line2.end)\n",
    "line4 = d.add(e.LINE, d='left', l=d.unit/8, xy=line3.end)\n",
    "nand2 = d.add(l.andgate(inputs=2, nand=True), reverse=True, xy=line4.end)\n",
    "line5 = d.add(e.LINE, d='up', l=d.unit/8, xy=nand2.in2)\n",
    "line6 = d.add(e.LINE, d='down',theta=20, l=d.unit/1.26, xy=line5.end)\n",
    "line7 = d.add(e.LINE, d='up', l=d.unit/8, xy=line6.end)\n",
    "line8 = d.add(e.LINE, d='left', l=d.unit/8, xy=line7.end)\n",
    "line9 = d.add(e.LINE, d='left', l=d.unit/8, xy=line7.end)\n",
    "line10 = d.add(e.LINE, d='right', l=d.unit/4, xy=nand1.out, rgtlabel=\"$Q$\")\n",
    "line11 = d.add(e.LINE, d='right', l=d.unit/4, xy=nand2.out, rgtlabel=\"$\\overline{Q}$\")\n",
    "line12 = d.add(e.LINE, d='left', l=d.unit/6, xy=nand1.in1, lftlabel=\"$\\overline{S}$\")\n",
    "line13 = d.add(e.LINE, d='left', l=d.unit/6, xy=nand2.in1, lftlabel=\"$\\overline{R}$\")\n",
    "dot1 = d.add(e.DOT, xy=line7.end)\n",
    "dot2 = d.add(e.DOT, xy=line3.end)\n",
    "\n",
    "\n",
    "# SR-Latch\n",
    "nor1 = d.add(l.NOR2, xy=(8,0))\n",
    "line1 = d.add(e.LINE, d='down', l=d.unit/8, xy=nor1.in2)\n",
    "line2 = d.add(e.LINE, d='down',theta=-20, l=d.unit/1.26, xy=line1.end)\n",
    "line3 = d.add(e.LINE, d='down', l=d.unit/8, xy=line2.end)\n",
    "line4 = d.add(e.LINE, d='left', l=d.unit/8, xy=line3.end)\n",
    "nor2 = d.add(l.NOR2, reverse=True, xy=line4.end)\n",
    "line5 = d.add(e.LINE, d='up', l=d.unit/8, xy=nor2.in2)\n",
    "line6 = d.add(e.LINE, d='down',theta=20, l=d.unit/1.26, xy=line5.end)\n",
    "line7 = d.add(e.LINE, d='up', l=d.unit/8, xy=line6.end)\n",
    "line8 = d.add(e.LINE, d='left', l=d.unit/8, xy=line7.end)\n",
    "line9 = d.add(e.LINE, d='left', l=d.unit/8, xy=line7.end)\n",
    "line10 = d.add(e.LINE, d='right', l=d.unit/4, xy=nor1.out, rgtlabel=\"$Q$\")\n",
    "line11 = d.add(e.LINE, d='right', l=d.unit/4, xy=nor2.out, rgtlabel=\"$\\overline{Q}$\")\n",
    "line12 = d.add(e.LINE, d='left', l=d.unit/6, xy=nor1.in1, lftlabel=\"$S$\")\n",
    "line13 = d.add(e.LINE, d='left', l=d.unit/6, xy=nor2.in1, lftlabel=\"$R$\")\n",
    "dot1 = d.add(e.DOT, xy=line7.end)\n",
    "dot2 = d.add(e.DOT, xy=line3.end)\n",
    "\n",
    "d.draw()\n",
    "d.save('nand_game_out/13_SR-Latch.svg')"
   ]
  },
  {
   "cell_type": "markdown",
   "metadata": {},
   "source": [
    "### Data Latch\n",
    "A latch component stores and outputs a single bit\n",
    "\n",
    "When st (store) is ``1``, the value on d is stored and emitted.\n",
    "\n",
    "When st is ``0``, the value of d is ignored, and the previously stored value is still emitted.\n",
    "\n",
    "To describe this in an input/output table, we introduce a variable, out, which can be assigned a bit value and keep it:\n",
    "\n",
    "| E | D | Effect       | Output |\n",
    "| - | - | ------------ | ------ |\n",
    "| 1 | 0 | set out to 0 | out |\n",
    "| 1 | 1 | set out to 1 | out |\n",
    "| 0 | 1 | -            | out |\n",
    "| 0 | 0 | -            | out |"
   ]
  },
  {
   "cell_type": "code",
   "execution_count": 41,
   "metadata": {},
   "outputs": [
    {
     "data": {
      "image/png": "[encoded data removed]",
      "text/plain": [
       "<Figure size 233.41x138.448 with 1 Axes>"
      ]
     },
     "metadata": {},
     "output_type": "display_data"
    }
   ],
   "source": [
    "d = schem.Drawing()\n",
    "\n",
    "nand1 = d.add(l.andgate(inputs=2, nand=True), xy=(0,0))\n",
    "line1 = d.add(e.LINE, d='down', l=d.unit/8, xy=nand1.in2)\n",
    "line2 = d.add(e.LINE, d='down',theta=-20, l=d.unit/1.26, xy=line1.end)\n",
    "line3 = d.add(e.LINE, d='down', l=d.unit/8, xy=line2.end)\n",
    "line4 = d.add(e.LINE, d='left', l=d.unit/8, xy=line3.end)\n",
    "nand2 = d.add(l.andgate(inputs=2, nand=True), reverse=True, xy=line4.end)\n",
    "line5 = d.add(e.LINE, d='up', l=d.unit/8, xy=nand2.in2)\n",
    "line6 = d.add(e.LINE, d='down',theta=20, l=d.unit/1.26, xy=line5.end)\n",
    "line7 = d.add(e.LINE, d='up', l=d.unit/8, xy=line6.end)\n",
    "line8 = d.add(e.LINE, d='left', l=d.unit/8, xy=line7.end)\n",
    "line9 = d.add(e.LINE, d='left', l=d.unit/8, xy=line7.end)\n",
    "line10 = d.add(e.LINE, d='right', l=d.unit/4, xy=nand1.out, rgtlabel=\"$Q$\")\n",
    "line11 = d.add(e.LINE, d='right', l=d.unit/4, xy=nand2.out, rgtlabel=\"$\\overline{Q}$\")\n",
    "line12 = d.add(e.LINE, d='left', l=d.unit/6, xy=nand1.in1)\n",
    "line13 = d.add(e.LINE, d='left', l=d.unit/6, xy=nand2.in1)\n",
    "nand3 = d.add(l.andgate(inputs=2, nand=True), xy=line12.end, reverse=True)\n",
    "nand4 = d.add(l.andgate(inputs=2, nand=True, inputnots=[1]), xy=line13.end, reverse=True)\n",
    "line14 = d.add(e.LINE, d='up', l=d.unit/1.65, xy=nand4.in2)\n",
    "dot3 = d.add(e.DOT, xy=line14.center)\n",
    "line15 = d.add(e.LINE, d='left', l=d.unit/4, xy=dot3.center, lftlabel=\"E\")\n",
    "line16 = d.add(e.LINE, d='left', l=d.unit/4, xy=nand3.in2, lftlabel=\"D\")\n",
    "line17 = d.add(e.LINE, d='left', l=d.unit/8, xy=nand4.in1)\n",
    "line18 = d.add(e.LINE, d='up', l=d.unit/1.05, xy=line17.end)\n",
    "dot = d.add(e.DOT, xy=line18.end)\n",
    "\n",
    "\n",
    "dot1 = d.add(e.DOT, xy=line7.end)\n",
    "dot2 = d.add(e.DOT, xy=line3.end)\n",
    "\n",
    "\n",
    "d.draw()\n",
    "d.save('nand_game_out/14_Data-Latch.svg')"
   ]
  },
  {
   "cell_type": "markdown",
   "metadata": {},
   "source": [
    "### Data Flip-Flop\n",
    "A DFF (Data Flip-Flop) component stores and outputs a bit, but only change the output when the clock signal change from ``0`` to ``1``.\n",
    "\n",
    "When st (store) is ``1`` and clk (clock signal) is ``0`` the value on d is stored. But the previous value is still emitted.\n",
    "\n",
    "When the clock signal changes to ``1``, the flip-flop starts emitting the new value.\n",
    "\n",
    "When st is ``0``, the value of d does not have any effect.\n",
    "\n",
    "When clk is ``1``, the value of st and d does not have any effect.\n",
    "\n",
    "To describe this in a table requires two variables, in and out:\n",
    "\n",
    "| E | D | Clk | Effect        | Out |\n",
    "| - | - | --- | ------------- | --- |\n",
    "| 1 | 0 | 0   | set in to 0   | out |\n",
    "| 1 | 1 | 0   | set in to 1   | out |\n",
    "| 0 | - | 0   | -             | out |\n",
    "| - | - | 1   | set out to in | out |\n"
   ]
  },
  {
   "cell_type": "code",
   "execution_count": 97,
   "metadata": {},
   "outputs": [
    {
     "data": {
      "image/png": "[encoded data removed]",
      "text/plain": [
       "<Figure size 634.86x165.6 with 1 Axes>"
      ]
     },
     "metadata": {},
     "output_type": "display_data"
    }
   ],
   "source": [
    "d = schem.Drawing()\n",
    "\n",
    "rinputs = {'cnt':1, 'labels':['$Q$']}\n",
    "linputs = {'cnt':1, 'labels':['$E$', '$D$']}\n",
    "dlatch_1 = d.add(e.blackbox(d.unit*1.5, d.unit, linputs=linputs, rinputs=rinputs, mainlabel='D-Latch'))\n",
    "line1 = d.add(e.LINE, d='left',  xy=dlatch_1.D, l=d.unit/4)\n",
    "dlatch_2 = d.add(e.blackbox(d.unit*1.5, d.unit, linputs=linputs, rinputs=rinputs, mainlabel='D-Latch'), xy=line1.end, anchor='Q', reverse=True)\n",
    "line2 = d.add(e.LINE, d='left',  xy=dlatch_2.D, l=d.unit/4, lftlabel='Data')\n",
    "line3 = d.add(e.LINE, d='right',  xy=dlatch_1.Q, l=d.unit/4, rgtlabel='Q')\n",
    "line4 = d.add(e.LINE, d='left',  xy=dlatch_2.E, l=d.unit/4)\n",
    "nand4 = d.add(l.andgate(inputs=2, nand=False, inputnots=[1]), xy=line4.end, reverse=True)\n",
    "line5 = d.add(e.LINE, d='left',  xy=nand4.in2, l=d.unit/4, lftlabel='E')\n",
    "line6 = d.add(e.LINE, d='left',  xy=nand4.in1, l=d.unit/4, lftlabel='Clk')\n",
    "dot1 = d.add(e.DOT, xy=line6.center)\n",
    "line7 = d.add(e.LINE, d='down',  xy=dot1.center, l=d.unit)\n",
    "line8 = d.add(e.LINE, d='right',  xy=line7.end, l=d.unit*3.07)\n",
    "line9 = d.add(e.LINE, d='up',  xy=line8.end, l=d.unit/3)\n",
    "\n",
    "d.draw()\n",
    "d.save('nand_game_out/15_Data-FlipFlop.svg')"
   ]
  },
  {
   "cell_type": "code",
   "execution_count": 154,
   "metadata": {},
   "outputs": [
    {
     "data": {
      "image/png": "[encoded data removed]",
      "text/plain": [
       "<Figure size 165.6x185.4 with 1 Axes>"
      ]
     },
     "metadata": {},
     "output_type": "display_data"
    }
   ],
   "source": [
    "d = schem.Drawing()\n",
    "d.add(create_ff(mainlabel='DE-FF', label_l=['D','E','clk'], label_r=['Q']))\n",
    "d.draw()\n",
    "d.save('nand_game_out/16_Data-FlipFlop.svg')"
   ]
  },
  {
   "cell_type": "markdown",
   "metadata": {},
   "source": [
    "### Register\n",
    "A 2-bit DFF component works like a data flip-flop, except two bits (d1 and d0) are stored and emitted instead of one."
   ]
  },
  {
   "cell_type": "code",
   "execution_count": 155,
   "metadata": {},
   "outputs": [
    {
     "data": {
      "image/png": "[encoded data removed]",
      "text/plain": [
       "<Figure size 403.2x383.4 with 1 Axes>"
      ]
     },
     "metadata": {},
     "output_type": "display_data"
    }
   ],
   "source": [
    "d = schem.Drawing()\n",
    "dff_1 = d.add(create_ff(mainlabel='DE-FF', label_l=['D','E','clk'], label_r=['Q']))\n",
    "dff_2 = d.add(create_ff(mainlabel='DE-FF', label_l=['D','E','clk'], label_r=['Q']), xy=(0,5))\n",
    "line1 = d.add(e.LINE, d='left', l=d.unit, xy=dff_1.D, lftlabel='$D_0$')\n",
    "line2 = d.add(e.LINE, d='left', l=d.unit, xy=dff_2.D, lftlabel='$D_1$')\n",
    "line3 = d.add(e.LINE, d='left', l=d.unit, xy=dff_2.E, lftlabel='$E$')\n",
    "line4 = d.add(e.LINE, d='left', l=d.unit, xy=dff_2.clk, lftlabel='$Clk$')\n",
    "line5 = d.add(e.LINE, d='left', l=d.unit/3, xy=dff_1.E)\n",
    "line6 = d.add(e.LINE, d='up', l=d.unit*1.66, xy=line5.end)\n",
    "dot1 = d.add(e.DOT, xy=line6.end)\n",
    "line7 = d.add(e.LINE, d='left', l=d.unit/1.5, xy=dff_1.clk)\n",
    "line8 = d.add(e.LINE, d='up', l=d.unit*1.66, xy=line7.end)\n",
    "dot2 = d.add(e.DOT, xy=line8.end)\n",
    "line9 = d.add(e.LINE, d='right', l=d.unit, xy=dff_1.Q, rgtlabel='$Q_0$')\n",
    "line10 = d.add(e.LINE, d='right', l=d.unit, xy=dff_2.Q, rgtlabel='$Q_1$')\n",
    "\n",
    "d.draw()\n",
    "d.save('nand_game_out/16_Data-FlipFlop.svg')"
   ]
  },
  {
   "cell_type": "markdown",
   "metadata": {},
   "source": [
    "### Counter"
   ]
  },
  {
   "cell_type": "code",
   "execution_count": null,
   "metadata": {},
   "outputs": [],
   "source": []
  },
  {
   "cell_type": "markdown",
   "metadata": {},
   "source": [
    "### RAM"
   ]
  },
  {
   "cell_type": "code",
   "execution_count": null,
   "metadata": {},
   "outputs": [],
   "source": []
  },
  {
   "cell_type": "markdown",
   "metadata": {
    "toc-hr-collapsed": true
   },
   "source": [
    "## Arithmetic Logic Unit"
   ]
  },
  {
   "cell_type": "markdown",
   "metadata": {},
   "source": [
    "### Unary ALU"
   ]
  },
  {
   "cell_type": "code",
   "execution_count": null,
   "metadata": {},
   "outputs": [],
   "source": []
  },
  {
   "cell_type": "markdown",
   "metadata": {},
   "source": [
    "### ALU"
   ]
  },
  {
   "cell_type": "code",
   "execution_count": null,
   "metadata": {},
   "outputs": [],
   "source": []
  },
  {
   "cell_type": "markdown",
   "metadata": {},
   "source": [
    "### Condition"
   ]
  },
  {
   "cell_type": "code",
   "execution_count": null,
   "metadata": {},
   "outputs": [],
   "source": []
  },
  {
   "cell_type": "markdown",
   "metadata": {
    "toc-hr-collapsed": true
   },
   "source": [
    "## Processor"
   ]
  },
  {
   "cell_type": "markdown",
   "metadata": {},
   "source": [
    "### Combined Memory"
   ]
  },
  {
   "cell_type": "code",
   "execution_count": null,
   "metadata": {},
   "outputs": [],
   "source": []
  },
  {
   "cell_type": "markdown",
   "metadata": {},
   "source": [
    "### Instruction Decoder"
   ]
  },
  {
   "cell_type": "code",
   "execution_count": null,
   "metadata": {},
   "outputs": [],
   "source": []
  },
  {
   "cell_type": "markdown",
   "metadata": {},
   "source": [
    "### Control Unit"
   ]
  },
  {
   "cell_type": "code",
   "execution_count": null,
   "metadata": {},
   "outputs": [],
   "source": []
  },
  {
   "cell_type": "markdown",
   "metadata": {},
   "source": [
    "### Program Engine"
   ]
  },
  {
   "cell_type": "code",
   "execution_count": null,
   "metadata": {},
   "outputs": [],
   "source": []
  },
  {
   "cell_type": "markdown",
   "metadata": {},
   "source": [
    "### Computer"
   ]
  },
  {
   "cell_type": "code",
   "execution_count": null,
   "metadata": {},
   "outputs": [],
   "source": []
  },
  {
   "cell_type": "markdown",
   "metadata": {},
   "source": [
    "### Input and Output"
   ]
  },
  {
   "cell_type": "code",
   "execution_count": null,
   "metadata": {},
   "outputs": [],
   "source": []
  }
 ],
 "metadata": {
  "kernelspec": {
   "display_name": "Python 3",
   "language": "python",
   "name": "python3"
  },
  "language_info": {
   "codemirror_mode": {
    "name": "ipython",
    "version": 3
   },
   "file_extension": ".py",
   "mimetype": "text/x-python",
   "name": "python",
   "nbconvert_exporter": "python",
   "pygments_lexer": "ipython3",
   "version": "3.7.6"
  },
  "toc-autonumbering": true,
  "toc-showcode": false,
  "toc-showmarkdowntxt": false,
  "toc-showtags": false
 },
 "nbformat": 4,
 "nbformat_minor": 4
}
