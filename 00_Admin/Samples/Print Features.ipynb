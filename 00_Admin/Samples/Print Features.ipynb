{
 "cells": [
  {
   "cell_type": "markdown",
   "metadata": {},
   "source": [
    "# Print Features and Functions"
   ]
  },
  {
   "cell_type": "markdown",
   "metadata": {},
   "source": [
    "## Progressbar & Status Spinner"
   ]
  },
  {
   "cell_type": "code",
   "execution_count": 1,
   "metadata": {},
   "outputs": [],
   "source": [
    "import math\n",
    "def progressbar(percent, size = 10, text_append=[\"\",\"\"]):\n",
    "  progress = math.floor(size/100*percent)\n",
    "  print(\"\\r {} [\".format(text_append[0])+(progress-1)*\"=\"+\">\"+(size-progress)*\"-\"+\"] {}% {}\".format(percent, text_append[1]),end=\"\")\n",
    "\n",
    "def spinner(state, type=0, forward=True):\n",
    "  spinner = [[\"-\",\"\\\\\",\"|\",\"/\",\"-\",\"\\\\\",\"|\",\"/\"],\n",
    "             [\"⠈\",\"⠐\",\"⠠\",\"⢀\",\"⡀\",\"⠄\",\"⠂\",\"⠁\"],\n",
    "             [\"⣷\",\"⣯\",\"⣟\",\"⡿\",\"⢿\",\"⣻\",\"⣽\",\"⣾\"]]\n",
    "  if forward:\n",
    "    print(\"\\r {}\".format(spinner[type][state%8]),end=\"\")\n",
    "  else:\n",
    "    print(\"\\r {}\".format(spinner[type][7-state%8]),end=\"\")\n",
    "  "
   ]
  },
  {
   "cell_type": "markdown",
   "metadata": {},
   "source": [
    "## Progressbar test"
   ]
  },
  {
   "cell_type": "code",
   "execution_count": 2,
   "metadata": {},
   "outputs": [
    {
     "name": "stdout",
     "output_type": "stream",
     "text": [
      "  [===================>] 100% \n",
      " before [===================>] 100% after"
     ]
    }
   ],
   "source": [
    "import numpy as np\n",
    "import time\n",
    "\n",
    "# Progressbar test\n",
    "for percent in np.nditer(np.linspace(1, 100, num=20).astype(int)):\n",
    "  progressbar(percent, 20)\n",
    "  time.sleep(0.2)\n",
    "print()\n",
    "for percent in np.nditer(np.linspace(1, 100, num=20).astype(int)):\n",
    "  progressbar(percent, 20, [\"before\", \"after\"])\n",
    "  time.sleep(0.2)"
   ]
  },
  {
   "cell_type": "markdown",
   "metadata": {},
   "source": [
    "## Spinner Test"
   ]
  },
  {
   "cell_type": "code",
   "execution_count": null,
   "metadata": {},
   "outputs": [
    {
     "name": "stdout",
     "output_type": "stream",
     "text": [
      " -\n",
      " ⠈\n",
      " ⣷"
     ]
    }
   ],
   "source": [
    "import time\n",
    "# Spinner Test\n",
    "for type in range(0,3):\n",
    "  for i in range(1,24):\n",
    "    spinner(i, type)\n",
    "    time.sleep(0.2)\n",
    "  for i in range(1,24):\n",
    "    spinner(i, type, False)\n",
    "    time.sleep(0.3)\n",
    "  print()"
   ]
  },
  {
   "cell_type": "markdown",
   "metadata": {},
   "source": [
    "## Format Mini Language"
   ]
  },
  {
   "cell_type": "markdown",
   "metadata": {},
   "source": [
    "```\n",
    "       \"{\" [field_name] [\"!\" conversion] [\":\" format_spec] \"}\"\n",
    "          /                  \"r\"|\"s\"                   \\\n",
    "         /               (r)epr   (s)tr                 \\\n",
    "arg_name                                                 \\\n",
    "| (\".\" attribute_name | \"[\" element_index \"]\")*           \\\n",
    "|        |                       |                         \\\n",
    "|     identifier         integer | index_string            |\n",
    "|                                   (quotes                |\n",
    "[identifier                          not required)         |\n",
    " |integer]                                                 |\n",
    "                                                           |\n",
    " _________________________________________________________/ \\________\n",
    "/                                                                    \\\n",
    "      \":\"\n",
    "         [[fill]align][sign][#][0][width][,][.precision][type]\n",
    "  [default]--> < left    +   |  |  (int)       (int)    b base 2\n",
    "  [default --> > right  [-]  |  |                       c character\n",
    "   for         ^ center \" \"  |  \\                       d base 10\n",
    "   numbers]    =             |   `zero padding          e exponent (e)\n",
    "                             |                          E exponent (E)\n",
    "                            use 0b,0o,0x                f fixed point\n",
    "                             for 2  8 16                F ^^(same)^^\n",
    "  b base 2     c character                 [default]--> g general (???)\n",
    "  o base 8     s string                                 G general 2 (?)\n",
    "  d base 10                                             n number (general 3)\n",
    "  x base 16                                             o base 8\n",
    "  X base 16                                             s string\n",
    "  e, E    exponent                         (lower case) x base 16\n",
    "  f, F, % fixed point                      (upper case) X base 16\n",
    "  g, G, n (general numbers)                   (x100, f) % percentage\n",
    "```\n",
    "```\n",
    "format_spec ::=  [[fill]align][sign][#][0][width][,][.precision][type]\n",
    "fill        ::=  <any character>\n",
    "align       ::=  \"<\" | \">\" | \"=\" | \"^\"\n",
    "sign        ::=  \"+\" | \"-\" | \" \"\n",
    "width       ::=  integer\n",
    "precision   ::=  integer\n",
    "type        ::=  \"b\" | \"c\" | \"d\" | \"e\" | \"E\" | \"f\" | \"F\" | \"g\" | \"G\" | \"n\" | \"o\" | \"s\" | \"x\" | \"X\" | \"%\"\n",
    "```"
   ]
  },
  {
   "cell_type": "code",
   "execution_count": 6,
   "metadata": {},
   "outputs": [
    {
     "name": "stdout",
     "output_type": "stream",
     "text": [
      "Choose Correct Placeholder\n",
      " |     One |       1 |     1.0 |\n",
      " |     Two |    1111 | 1111.89 |\n",
      " |   Three |    2222 | 2222.78 |\n",
      " |    Four |    3333 | 3333.67 |\n",
      " |    Five |    4444 | 4444.56 |\n",
      " |     Six |    5555 | 5555.44 |\n",
      " |   Seven |    6666 | 6666.33 |\n",
      " |   Eight |    7777 | 7777.22 |\n",
      " |    Nine |    8888 | 8888.11 |\n",
      " |     Ten |    9999 |  9999.0 |\n",
      "\n",
      "Right aligned to 7 digits, precision 6 (numbers including point e.g. 0.1234)\n",
      " |     1.0 |       1 |     One |\n",
      " | 1111.89 |    1111 |     Two |\n",
      " | 2222.78 |    2222 |   Three |\n",
      " | 3333.67 |    3333 |    Four |\n",
      " | 4444.56 |    4444 |    Five |\n",
      " | 5555.44 |    5555 |     Six |\n",
      " | 6666.33 |    6666 |   Seven |\n",
      " | 7777.22 |    7777 |   Eight |\n",
      " | 8888.11 |    8888 |    Nine |\n",
      " |  9999.0 |    9999 |     Ten |\n",
      "\n",
      "Left aligned to 7 digits, precision 6 (numbers including point e.g. 0.1234)\n",
      " | 1.0     | 1       | One     |\n",
      " | 1111.89 | 1111    | Two     |\n",
      " | 2222.78 | 2222    | Three   |\n",
      " | 3333.67 | 3333    | Four    |\n",
      " | 4444.56 | 4444    | Five    |\n",
      " | 5555.44 | 5555    | Six     |\n",
      " | 6666.33 | 6666    | Seven   |\n",
      " | 7777.22 | 7777    | Eight   |\n",
      " | 8888.11 | 8888    | Nine    |\n",
      " | 9999.0  | 9999    | Ten     |\n",
      "\n",
      "Fill up with \"0\" or \"-\" or \"=\"\n",
      " | 0000001.0 | ------1 | One==== |\n",
      " | 001111.89 | ---1111 | Two==== |\n",
      " | 002222.78 | ---2222 | Three== |\n",
      " | 003333.67 | ---3333 | Four=== |\n",
      " | 004444.56 | ---4444 | Five=== |\n",
      " | 005555.44 | ---5555 | Six==== |\n",
      " | 006666.33 | ---6666 | Seven== |\n",
      " | 007777.22 | ---7777 | Eight== |\n",
      " | 008888.11 | ---8888 | Nine=== |\n",
      " | 0009999.0 | ---9999 | Ten==== |\n",
      "\n",
      "Print Hexadezimal stuff lower case\n",
      " | 0x      1 | 0x0000001 | 0x1 |\n",
      " | 0x    457 | 0x0000457 | 0x457 |\n",
      " | 0x    8ae | 0x00008ae | 0x8ae |\n",
      " | 0x    d05 | 0x0000d05 | 0xd05 |\n",
      " | 0x   115c | 0x000115c | 0x115c |\n",
      " | 0x   15b3 | 0x00015b3 | 0x15b3 |\n",
      " | 0x   1a0a | 0x0001a0a | 0x1a0a |\n",
      " | 0x   1e61 | 0x0001e61 | 0x1e61 |\n",
      " | 0x   22b8 | 0x00022b8 | 0x22b8 |\n",
      " | 0x   270f | 0x000270f | 0x270f |\n",
      "\n",
      "Print Hexadezimal stuff uppder case\n",
      " | 0x      1 | 0x0000001 | 0x1 |\n",
      " | 0x    457 | 0x0000457 | 0x457 |\n",
      " | 0x    8AE | 0x00008AE | 0x8AE |\n",
      " | 0x    D05 | 0x0000D05 | 0xD05 |\n",
      " | 0x   115C | 0x000115C | 0x115C |\n",
      " | 0x   15B3 | 0x00015B3 | 0x15B3 |\n",
      " | 0x   1A0A | 0x0001A0A | 0x1A0A |\n",
      " | 0x   1E61 | 0x0001E61 | 0x1E61 |\n",
      " | 0x   22B8 | 0x00022B8 | 0x22B8 |\n",
      " | 0x   270F | 0x000270F | 0x270F |\n"
     ]
    }
   ],
   "source": [
    "import numpy as np\n",
    "#for percent in np.nditer(np.linspace(1, 100, num=20).astype(int)):\n",
    "float_array = np.linspace(1, 9999, num=10)\n",
    "int_array   = np.linspace(1, 9999, num=10).astype(int)\n",
    "string_array = [\"One\", \"Two\", \"Three\", \"Four\", \"Five\", \"Six\", \"Seven\", \"Eight\", \"Nine\", \"Ten\"]\n",
    "\n",
    "print(\"Choose Correct Placeholder\")\n",
    "for i in range(0,10):\n",
    "  print(\" | {2:>7} | {1:>7} | {0:>7.6} |\".format(float_array[i], int_array[i], string_array[i]))\n",
    "\n",
    "print(\"\\nRight aligned to 7 digits, precision 6 (numbers including point e.g. 0.1234)\")\n",
    "for i in range(0,10):\n",
    "  print(\" | {:>7.6} | {:>7} | {:>7} |\".format(float_array[i], int_array[i], string_array[i]))\n",
    "\n",
    "print(\"\\nLeft aligned to 7 digits, precision 6 (numbers including point e.g. 0.1234)\")\n",
    "for i in range(0,10):\n",
    "  print(\" | {:<7.6} | {:<7} | {:<7} |\".format(float_array[i], int_array[i], string_array[i]))  \n",
    "\n",
    "print(\"\\nFill up with \\\"0\\\" or \\\"-\\\" or \\\"=\\\"\")\n",
    "for i in range(0,10):\n",
    "  print(\" | {:09.6} | {:->7} | {:=<7} |\".format(float_array[i], int_array[i], string_array[i]))\n",
    "\n",
    "print(\"\\nPrint Hexadezimal stuff lower case\")\n",
    "for i in range(0,10):\n",
    "  print(\" | 0x{0:>7x} | 0x{0:07x} | 0x{0:x} |\".format(int_array[i]))\n",
    "\n",
    "print(\"\\nPrint Hexadezimal stuff uppder case\")\n",
    "for i in range(0,10):\n",
    "  print(\" | 0x{0:>7X} | 0x{0:07X} | 0x{0:X} |\".format(int_array[i]))\n",
    "\n"
   ]
  },
  {
   "cell_type": "code",
   "execution_count": null,
   "metadata": {},
   "outputs": [],
   "source": []
  }
 ],
 "metadata": {
  "kernelspec": {
   "display_name": "Python 3",
   "language": "python",
   "name": "python3"
  },
  "language_info": {
   "codemirror_mode": {
    "name": "ipython",
    "version": 3
   },
   "file_extension": ".py",
   "mimetype": "text/x-python",
   "name": "python",
   "nbconvert_exporter": "python",
   "pygments_lexer": "ipython3",
   "version": "3.6.5"
  }
 },
 "nbformat": 4,
 "nbformat_minor": 2
}
