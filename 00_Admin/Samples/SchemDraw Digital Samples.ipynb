{
 "cells": [
  {
   "cell_type": "markdown",
   "metadata": {},
   "source": [
    "# SchemDraw Digital Samples\n",
    "## Load my little helper library\n",
    "```python\n",
    "%load ../library/schemdraw_lib.py\n",
    "%%writefile ../library/schemdraw_lib.py\n",
    "```"
   ]
  },
  {
   "cell_type": "code",
   "execution_count": 3,
   "metadata": {},
   "outputs": [
    {
     "ename": "NameError",
     "evalue": "name 'linputs' is not defined",
     "output_type": "error",
     "traceback": [
      "\u001b[0;31m---------------------------------------------------------------------------\u001b[0m",
      "\u001b[0;31mNameError\u001b[0m                                 Traceback (most recent call last)",
      "\u001b[0;32m<ipython-input-3-831b8069a7ad>\u001b[0m in \u001b[0;36m<module>\u001b[0;34m()\u001b[0m\n\u001b[1;32m     10\u001b[0m   \u001b[0mlinputs\u001b[0m \u001b[0;34m=\u001b[0m \u001b[0;34m{\u001b[0m\u001b[0;34m'cnt'\u001b[0m\u001b[0;34m:\u001b[0m\u001b[0;36m1\u001b[0m\u001b[0;34m,\u001b[0m \u001b[0;34m'labels'\u001b[0m\u001b[0;34m:\u001b[0m\u001b[0;34m[\u001b[0m\u001b[0;34m'$c_{out}$'\u001b[0m\u001b[0;34m]\u001b[0m\u001b[0;34m}\u001b[0m\u001b[0;34m\u001b[0m\u001b[0m\n\u001b[1;32m     11\u001b[0m   \u001b[0mbinputs\u001b[0m \u001b[0;34m=\u001b[0m \u001b[0;34m{\u001b[0m\u001b[0;34m'cnt'\u001b[0m\u001b[0;34m:\u001b[0m\u001b[0;36m1\u001b[0m\u001b[0;34m,\u001b[0m \u001b[0;34m'labels'\u001b[0m\u001b[0;34m:\u001b[0m\u001b[0;34m[\u001b[0m\u001b[0;34m'$s$'\u001b[0m\u001b[0;34m]\u001b[0m\u001b[0;34m}\u001b[0m\u001b[0;34m\u001b[0m\u001b[0m\n\u001b[0;32m---> 12\u001b[0;31m \u001b[0mB\u001b[0m \u001b[0;34m=\u001b[0m \u001b[0md\u001b[0m\u001b[0;34m.\u001b[0m\u001b[0madd\u001b[0m\u001b[0;34m(\u001b[0m\u001b[0me\u001b[0m\u001b[0;34m.\u001b[0m\u001b[0mblackbox\u001b[0m\u001b[0;34m(\u001b[0m\u001b[0md\u001b[0m\u001b[0;34m.\u001b[0m\u001b[0munit\u001b[0m\u001b[0;34m,\u001b[0m \u001b[0md\u001b[0m\u001b[0;34m.\u001b[0m\u001b[0munit\u001b[0m\u001b[0;34m,\u001b[0m \u001b[0mlinputs\u001b[0m\u001b[0;34m=\u001b[0m\u001b[0mlinputs\u001b[0m\u001b[0;34m,\u001b[0m \u001b[0mbinputs\u001b[0m\u001b[0;34m=\u001b[0m\u001b[0mbinputs\u001b[0m\u001b[0;34m,\u001b[0m \u001b[0mtinputs\u001b[0m\u001b[0;34m=\u001b[0m\u001b[0mtinputs\u001b[0m\u001b[0;34m,\u001b[0m \u001b[0mrinputs\u001b[0m\u001b[0;34m=\u001b[0m\u001b[0mrinputs\u001b[0m\u001b[0;34m)\u001b[0m\u001b[0;34m)\u001b[0m\u001b[0;34m\u001b[0m\u001b[0m\n\u001b[0m\u001b[1;32m     13\u001b[0m \u001b[0;34m\u001b[0m\u001b[0m\n\u001b[1;32m     14\u001b[0m \u001b[0;32mdef\u001b[0m \u001b[0mcreate_ff\u001b[0m\u001b[0;34m(\u001b[0m\u001b[0mmainlabel\u001b[0m\u001b[0;34m=\u001b[0m\u001b[0;34m'FF'\u001b[0m\u001b[0;34m,\u001b[0m \u001b[0mlabel_l\u001b[0m\u001b[0;34m=\u001b[0m\u001b[0;32mNone\u001b[0m\u001b[0;34m,\u001b[0m \u001b[0mlabel_t\u001b[0m\u001b[0;34m=\u001b[0m\u001b[0;32mNone\u001b[0m\u001b[0;34m,\u001b[0m \u001b[0mlabel_r\u001b[0m\u001b[0;34m=\u001b[0m\u001b[0;32mNone\u001b[0m\u001b[0;34m,\u001b[0m \u001b[0mlabel_b\u001b[0m\u001b[0;34m=\u001b[0m\u001b[0;32mNone\u001b[0m\u001b[0;34m,\u001b[0m \u001b[0mclkSign\u001b[0m\u001b[0;34m=\u001b[0m\u001b[0;32mTrue\u001b[0m\u001b[0;34m)\u001b[0m\u001b[0;34m:\u001b[0m\u001b[0;34m\u001b[0m\u001b[0m\n",
      "\u001b[0;31mNameError\u001b[0m: name 'linputs' is not defined"
     ]
    }
   ],
   "source": [
    "# %load ../library/schemdraw_lib.py\n",
    "# %%writefile ../library/schemdraw_lib.py\n",
    "import SchemDraw as schem\n",
    "import SchemDraw.logic as l\n",
    "import SchemDraw.elements as e\n",
    "\n",
    "def create_cc(mainlabel='FF', label_l=None, label_t=None, label_r=None, label_b=None):\n",
    "  tinputs = {'cnt':2, 'labels':['b','a']}\n",
    "  rinputs = {'cnt':1, 'labels':['$c_{in}$']}\n",
    "  linputs = {'cnt':1, 'labels':['$c_{out}$']}\n",
    "  binputs = {'cnt':1, 'labels':['$s$']}\n",
    "B = d.add(e.blackbox(d.unit, d.unit, linputs=linputs, binputs=binputs, tinputs=tinputs, rinputs=rinputs))\n",
    "\n",
    "def create_ff(mainlabel='FF', label_l=None, label_t=None, label_r=None, label_b=None, clkSign=True):\n",
    "  \"\"\"create dynamically a flipflop\n",
    "\n",
    "    All labels are lists with signal definition form top to bottom spread out evenly or from left to right.\n",
    "    Labels can have Latex notation like '$\\overline{Q}$'\n",
    "\n",
    "    Args:\n",
    "        label_l (list): List of IO label left ['D','E','clk']\n",
    "        label_t (list): List of IO label left ['SET']\n",
    "        label_r (list): List of IO label left ['Q', '$\\overline{Q}$']\n",
    "        label_b (list): List of IO label left ['CLR']\n",
    "        noClkSign (bool): Defining if clk triangle should be drawn work only on left labels, (extents 'clk' to '  clk') \n",
    "\n",
    "    Returns:\n",
    "        bool: The object\n",
    "\n",
    "  \"\"\"\n",
    "  # Left IO\n",
    "  if label_l:\n",
    "    cnt = len(label_l)\n",
    "    if cnt == 1:\n",
    "      loc = [0.8]\n",
    "    elif cnt == 2:\n",
    "      loc = [0.8,0.2]\n",
    "    elif cnt == 3:\n",
    "      loc = [0.8,0.5,0.2]\n",
    "    else:\n",
    "      loc = np.linspace(1,0,cnt+2)[1:-1]\n",
    "    if clkSign:\n",
    "      for i in range(cnt):\n",
    "        if label_l[i] == 'clk':\n",
    "          loc_clk = loc[label_l.index('clk')]\n",
    "          label_l[i] = '  clk'\n",
    "        elif label_l[i] == 'CLK':\n",
    "          loc_clk = loc[label_l.index('CLK')]\n",
    "          label_l[i] = '  CLK'\n",
    "    # Create IO's\n",
    "    ff_iol  = {'cnt'    :cnt,\n",
    "               'labels' :label_l,\n",
    "               'loc'    :loc,\n",
    "               'lblsize':15}\n",
    "  else:\n",
    "    ff_iol = None\n",
    "  # Top IO\n",
    "  if label_t:\n",
    "    cnt = len(label_t)\n",
    "    if cnt == 1:\n",
    "      loc = [0.5]\n",
    "    else:\n",
    "      loc = np.linspace(1,0,cnt+2)[1:-1]\n",
    "    # Create IO's\n",
    "    ff_iot  = {'cnt'    :cnt,\n",
    "               'labels' :label_t,\n",
    "               'loc'    :loc,\n",
    "               'lblsize':12}\n",
    "  else:\n",
    "    ff_iot = None\n",
    "\n",
    "  # Right IO\n",
    "  if label_r:\n",
    "    cnt = len(label_r)\n",
    "    if cnt == 1:\n",
    "      loc = [0.8]\n",
    "    elif cnt == 2:\n",
    "      loc = [0.8,0.2]\n",
    "    elif cnt == 3:\n",
    "      loc = [0.8,0.5,0.2]\n",
    "    else:\n",
    "      loc = np.linspace(1,0,cnt+2)[1:-1]\n",
    "    # Create IO's\n",
    "    ff_ior  = {'cnt'    :cnt,\n",
    "               'labels' :label_r,\n",
    "               'loc'    :loc,\n",
    "               'lblsize':15}\n",
    "  else:\n",
    "    ff_ior = None\n",
    "\n",
    "  # Bottom IO\n",
    "  if label_b:\n",
    "    cnt = len(label_b)\n",
    "    if cnt == 1:\n",
    "      loc = [0.5]\n",
    "    else:\n",
    "      loc = np.linspace(1,0,cnt+2)[1:-1]\n",
    "    # Create IO's\n",
    "    ff_iob  = {'cnt'    :cnt,\n",
    "               'labels' :label_b,\n",
    "               'loc'    :loc,\n",
    "               'lblsize':12}\n",
    "  else:\n",
    "    ff_iob = None\n",
    "\n",
    "\n",
    "  if clkSign:\n",
    "    if 'loc_clk' in locals():\n",
    "      print(loc_clk)\n",
    "      clkSign_path = [[[0,loc_clk-0.2],[0.3,loc_clk],[0,loc_clk+0.2]]]\n",
    "    DFF_0 =  e.blackbox(d.unit, d.unit*1.5, linputs=ff_iol, rinputs=ff_ior, tinputs=ff_iot, binputs=ff_iob, mainlabel=mainlabel)\n",
    "    DFF = { 'name'  : mainlabel,\n",
    "            'base'  : DFF_0,\n",
    "            'paths' : clkSign_path # Add clk triangle\n",
    "            #'paths' : [[[0,0.7],[0.3,0.9],[0,1.1]]] # Add clk triangle\n",
    "          }\n",
    "    return DFF\n",
    "  else:\n",
    "    return e.blackbox(d.unit, d.unit*1.5, linputs=ff_iol, rinputs=ff_ior, tinputs=ff_iot, binputs=ff_iob, mainlabel=mainlabel)"
   ]
  },
  {
   "cell_type": "markdown",
   "metadata": {},
   "source": [
    "## Gate Circuit"
   ]
  },
  {
   "cell_type": "code",
   "execution_count": 2,
   "metadata": {},
   "outputs": [
    {
     "data": {
      "image/png": "[encoded data removed]",
      "text/plain": [
       "<Figure size 153.72x86.4 with 1 Axes>"
      ]
     },
     "metadata": {},
     "output_type": "display_data"
    }
   ],
   "source": [
    "import SchemDraw as schem\n",
    "import SchemDraw.logic as l\n",
    "import SchemDraw.elements as e\n",
    "\n",
    "d = schem.Drawing(inches_per_unit=.5)\n",
    "\n",
    "\n",
    "andgate = d.add(l.andgate(inputs=3, nand=True, inputnots=[1]))\n",
    "andgate = d.add(l.andgate(inputs=5, nand=False, inputnots=[4,5]))\n",
    "d.draw()"
   ]
  },
  {
   "cell_type": "markdown",
   "metadata": {},
   "source": [
    "## JK-FlipFlop"
   ]
  },
  {
   "cell_type": "code",
   "execution_count": 4,
   "metadata": {},
   "outputs": [
    {
     "data": {
      "image/png": "[encoded data removed]",
      "text/plain": [
       "<Figure size 282.42x191.736 with 1 Axes>"
      ]
     },
     "metadata": {},
     "output_type": "display_data"
    }
   ],
   "source": [
    "import SchemDraw as schem\n",
    "import SchemDraw.logic as l\n",
    "\n",
    "d = schem.Drawing()\n",
    "# Two front gates (SR latch)\n",
    "G1 = d.add(l.NAND2, anchor='in1')\n",
    "d.add(e.LINE, l=d.unit/6)\n",
    "Q1 = d.add(e.DOT)\n",
    "d.add(e.LINE, l=d.unit/6)\n",
    "Q2 = d.add(e.DOT)\n",
    "d.add(e.LINE, l=d.unit/3, rgtlabel='$Q$')\n",
    "G2 = d.add(l.NAND2, anchor='in1', xy=[G1.in1[0],G1.in1[1]-2.5])\n",
    "d.add(e.LINE, l=d.unit/6)\n",
    "Qb = d.add(e.DOT)\n",
    "d.add(e.LINE, l=d.unit/3)\n",
    "Qb2 = d.add(e.DOT)\n",
    "d.add(e.LINE, l=d.unit/6, rgtlabel='$\\overline{Q}$')\n",
    "S1 = d.add(e.LINE, xy=G2.in1, d='up', l=d.unit/6)\n",
    "d.add(e.LINE, d='down', xy=Q1.start, l=d.unit/6)\n",
    "d.add(e.LINE, to=S1.end)\n",
    "R1 = d.add(e.LINE, xy=G1.in2, d='down', l=d.unit/6)\n",
    "d.add(e.LINE, d='up', xy=Qb.start, l=d.unit/6)\n",
    "d.add(e.LINE, to=R1.end)\n",
    "\n",
    "# Two back gates\n",
    "d.add(e.LINE, xy=G1.in1, d='left', l=d.unit/6)\n",
    "J = d.add(l.NAND3, anchor='out', reverse=True)\n",
    "d.add(e.LINE, xy=J.in3, d='up', l=d.unit/6)\n",
    "d.add(e.LINE, d='right', tox=Qb2.start)\n",
    "d.add(e.LINE, d='down', toy=Qb2.start)\n",
    "d.add(e.LINE, d='left', xy=J.in2, l=d.unit/4, lftlabel='$J$')\n",
    "d.add(e.LINE, xy=G2.in2, d='left', l=d.unit/6)\n",
    "K = d.add(l.NAND3, anchor='out', reverse=True)\n",
    "d.add(e.LINE, xy=K.in1, d='down', l=d.unit/6)\n",
    "d.add(e.LINE, d='right', tox=Q2.start)\n",
    "d.add(e.LINE, d='up', toy=Q2.start)\n",
    "d.add(e.LINE, d='left', xy=K.in2, l=d.unit/4, lftlabel='$K$')\n",
    "C = d.add(e.LINE, d='down', xy=J.in1, toy=K.in3)\n",
    "d.add(e.DOT, xy=C.center)\n",
    "d.add(e.LINE, d='left', xy=C.center, l=d.unit/4, lftlabel='$CLK$')\n",
    "d.draw()"
   ]
  },
  {
   "cell_type": "markdown",
   "metadata": {},
   "source": [
    "## Half Adder"
   ]
  },
  {
   "cell_type": "code",
   "execution_count": 7,
   "metadata": {},
   "outputs": [
    {
     "data": {
      "image/png": "[encoded data removed]",
      "text/plain": [
       "<Figure size 127.98x105.804 with 1 Axes>"
      ]
     },
     "metadata": {
      "needs_background": "light"
     },
     "output_type": "display_data"
    }
   ],
   "source": [
    "import SchemDraw as schem\n",
    "import SchemDraw.logic as l\n",
    "import SchemDraw.elements as e\n",
    "\n",
    "d = schem.Drawing(unit=.5)\n",
    "S = d.add(l.XOR2, rgtlabel='$S$')\n",
    "A = d.add(e.DOT, xy=S.in1)\n",
    "d.add(e.LINE, d='left', l=d.unit*2, lftlabel='$A$')\n",
    "d.add(e.LINE, d='left', xy=S.in2)\n",
    "B = d.add(e.DOT)\n",
    "d.add(e.LINE, d='left', lftlabel='$B$')\n",
    "d.add(e.LINE, d='down', xy=A.start, l=d.unit*3)\n",
    "C = d.add(l.AND2, d='right', anchor='in1', rgtlabel='$C$')\n",
    "d.add(e.LINE, d='down', xy=B.start, toy=C.in2)\n",
    "d.add(e.LINE, to=C.in2)\n",
    "d.draw()"
   ]
  },
  {
   "cell_type": "markdown",
   "metadata": {},
   "source": [
    "## Adder"
   ]
  },
  {
   "cell_type": "code",
   "execution_count": 8,
   "metadata": {},
   "outputs": [
    {
     "data": {
      "image/png": "[encoded data removed]",
      "text/plain": [
       "<Figure size 165.6x165.6 with 1 Axes>"
      ]
     },
     "metadata": {
      "needs_background": "light"
     },
     "output_type": "display_data"
    }
   ],
   "source": [
    "import SchemDraw as schem\n",
    "import SchemDraw.logic as l\n",
    "\n",
    "d = schem.Drawing()\n",
    "tinputs = {'cnt':2, 'labels':['b','a']}\n",
    "rinputs = {'cnt':1, 'labels':['$c_{in}$']}\n",
    "linputs = {'cnt':1, 'labels':['$c_{out}$']}\n",
    "binputs = {'cnt':1, 'labels':['$s$']}\n",
    "B = d.add(e.blackbox(d.unit, d.unit, linputs=linputs, binputs=binputs, tinputs=tinputs, rinputs=rinputs))\n",
    "\n",
    "d.draw()"
   ]
  },
  {
   "cell_type": "markdown",
   "metadata": {},
   "source": []
  },
  {
   "cell_type": "code",
   "execution_count": 6,
   "metadata": {},
   "outputs": [
    {
     "data": {
      "image/png": "[encoded data removed]",
      "text/plain": [
       "<Figure size 759.6x165.6 with 1 Axes>"
      ]
     },
     "metadata": {},
     "output_type": "display_data"
    }
   ],
   "source": [
    "d = schem.Drawing()\n",
    "tinputs = {'cnt':2, 'labels':['b','a']}\n",
    "rinputs = {'cnt':1, 'labels':['$c_{in}$']}\n",
    "linputs = {'cnt':1, 'labels':['$c_{out}$']}\n",
    "binputs = {'cnt':1, 'labels':['$s$']}\n",
    "fulladder1 = d.add(e.blackbox(d.unit, d.unit, linputs=linputs, binputs=binputs, tinputs=tinputs, rinputs=rinputs))\n",
    "line1 = d.add(e.LINE, d='right',  xy=fulladder1.c_in, l=d.unit/4)\n",
    "fulladder2 = d.add(e.blackbox(d.unit, d.unit, linputs=linputs, binputs=binputs, tinputs=tinputs, rinputs=rinputs), anchor='c_out')\n",
    "line1 = d.add(e.LINE, d='right',  xy=fulladder2.c_in, l=d.unit/4)\n",
    "fulladder3 = d.add(e.blackbox(d.unit, d.unit, linputs=linputs, binputs=binputs, tinputs=tinputs, rinputs=rinputs), anchor='c_out')\n",
    "line1 = d.add(e.LINE, d='right',  xy=fulladder3.c_in, l=d.unit/4)\n",
    "fulladder4 = d.add(e.blackbox(d.unit, d.unit, linputs=linputs, binputs=binputs, tinputs=tinputs, rinputs=rinputs), anchor='c_out')\n",
    "line1 = d.add(e.LINE, d='right',  xy=fulladder4.c_in, l=d.unit/4)\n",
    "\n",
    "\n",
    "d.draw()"
   ]
  },
  {
   "cell_type": "markdown",
   "metadata": {},
   "source": [
    "# Mux"
   ]
  },
  {
   "cell_type": "code",
   "execution_count": 5,
   "metadata": {},
   "outputs": [
    {
     "data": {
      "image/png": "[encoded data removed]",
      "text/plain": [
       "<Figure size 506.16x368.627 with 1 Axes>"
      ]
     },
     "metadata": {},
     "output_type": "display_data"
    }
   ],
   "source": [
    "d = schem.Drawing()\n",
    "m8 = d.add(e.mux(inputs=['A','B','C','D','E','F','G','H',], outputs=['X'], ctrls=['0','1', '2']))\n",
    "m4 = d.add(e.mux(inputs=['A','B','C','D'], outputs=['X'], ctrls=['0','1']), xy=(5,0))\n",
    "m2 = d.add(e.mux(inputs=['A','B'], outputs=['X'], ctrls=['0']), xy=(10,0))\n",
    "\n",
    "d.draw()"
   ]
  },
  {
   "cell_type": "markdown",
   "metadata": {},
   "source": []
  },
  {
   "cell_type": "code",
   "execution_count": null,
   "metadata": {},
   "outputs": [],
   "source": []
  },
  {
   "cell_type": "markdown",
   "metadata": {},
   "source": []
  },
  {
   "cell_type": "code",
   "execution_count": null,
   "metadata": {},
   "outputs": [],
   "source": []
  },
  {
   "cell_type": "markdown",
   "metadata": {},
   "source": []
  },
  {
   "cell_type": "code",
   "execution_count": null,
   "metadata": {},
   "outputs": [],
   "source": []
  },
  {
   "cell_type": "markdown",
   "metadata": {},
   "source": []
  },
  {
   "cell_type": "code",
   "execution_count": null,
   "metadata": {},
   "outputs": [],
   "source": []
  },
  {
   "cell_type": "markdown",
   "metadata": {},
   "source": []
  },
  {
   "cell_type": "code",
   "execution_count": null,
   "metadata": {},
   "outputs": [],
   "source": []
  }
 ],
 "metadata": {
  "kernelspec": {
   "display_name": "Python 3",
   "language": "python",
   "name": "python3"
  },
  "language_info": {
   "codemirror_mode": {
    "name": "ipython",
    "version": 3
   },
   "file_extension": ".py",
   "mimetype": "text/x-python",
   "name": "python",
   "nbconvert_exporter": "python",
   "pygments_lexer": "ipython3",
   "version": "3.6.5"
  },
  "toc-showcode": false,
  "toc-showmarkdowntxt": false
 },
 "nbformat": 4,
 "nbformat_minor": 2
}
