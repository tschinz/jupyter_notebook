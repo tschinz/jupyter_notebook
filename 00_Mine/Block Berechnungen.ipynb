{
 "cells": [
  {
   "cell_type": "markdown",
   "metadata": {},
   "source": [
    "# Boden Berechnungen"
   ]
  },
  {
   "cell_type": "markdown",
   "metadata": {},
   "source": [
    "## Function Declaration"
   ]
  },
  {
   "cell_type": "code",
   "execution_count": 24,
   "metadata": {
    "collapsed": true
   },
   "outputs": [],
   "source": [
    "def soil_calc(area, price_per_m2, members):\n",
    "    price_tot = area * price_per_m2\n",
    "    price_appartment = price_tot / members\n",
    "    print(\"{} m^2 @ {} SFr/m^2 = {} SFr \".format(area, price_per_m2, price_tot))\n",
    "    print(\"Price per Appartment if {} Appartments = {} SFr\".format(members, int(price_appartment)))\n",
    "    print(\"{}% of 500'000SFr\".format(100/500000*int(price_appartment)))"
   ]
  },
  {
   "cell_type": "markdown",
   "metadata": {},
   "source": [
    "## Parzelle 121\n",
    "Gesplitet Von Grand Wasmer, entweder die Hälfte oder einen Teil der Hälfte"
   ]
  },
  {
   "cell_type": "code",
   "execution_count": 40,
   "metadata": {
    "collapsed": false
   },
   "outputs": [
    {
     "name": "stdout",
     "output_type": "stream",
     "text": [
      "1942 m^2 @ 190 SFr/m^2 = 368980 SFr \n",
      "Price per Appartment if 4 Appartments = 92245 SFr\n",
      "18.449% of 500'000SFr\n",
      "1300 m^2 @ 200 SFr/m^2 = 260000 SFr \n",
      "Price per Appartment if 4 Appartments = 65000 SFr\n",
      "13.0% of 500'000SFr\n",
      "1100 m^2 @ 200 SFr/m^2 = 220000 SFr \n",
      "Price per Appartment if 4 Appartments = 55000 SFr\n",
      "11.0% of 500'000SFr\n"
     ]
    }
   ],
   "source": [
    "members = 4\n",
    "# Ganze Hälfte\n",
    "area = 1942 # m^2\n",
    "price_per_m2 = 190 # Fr/m^2\n",
    "soil_calc(area,price_per_m2, members)\n",
    "\n",
    "# Teil der Hälfte\n",
    "area = 1300 # m^2\n",
    "price_per_m2 = 200 # Fr/m^2\n",
    "soil_calc(area,price_per_m2, members)\n",
    "\n",
    "# Teil der Hälfte\n",
    "area = 1100 # m^2\n",
    "price_per_m2 = 200 # Fr/m^2\n",
    "soil_calc(area,price_per_m2, members)"
   ]
  },
  {
   "cell_type": "markdown",
   "metadata": {},
   "source": [
    "## Parzelle 7337 & 7338 \"Kössler\"\n"
   ]
  },
  {
   "cell_type": "code",
   "execution_count": 29,
   "metadata": {
    "collapsed": false
   },
   "outputs": [
    {
     "name": "stdout",
     "output_type": "stream",
     "text": [
      "1636 m^2 @ 200 SFr/m^2 = 327200 SFr \n",
      "Price per Appartment if 4 Appartments = 81800 SFr\n",
      "16.36% of 500'000SFr\n",
      "1636 m^2 @ 160 SFr/m^2 = 261760 SFr \n",
      "Price per Appartment if 4 Appartments = 65440 SFr\n",
      "13.088000000000001% of 500'000SFr\n"
     ]
    }
   ],
   "source": [
    "members = 4\n",
    "\n",
    "area = 1069 + 567 # m^2\n",
    "price_per_m2 = 200 # Fr/m^2\n",
    "soil_calc(area,price_per_m2,members)\n",
    "\n",
    "price_per_m2 = 160 # Fr/m^2\n",
    "soil_calc(area,price_per_m2,members)"
   ]
  },
  {
   "cell_type": "markdown",
   "metadata": {},
   "source": [
    "## Parzelle 346 \"Lorena\"\n",
    "An der Hauptstrasse"
   ]
  },
  {
   "cell_type": "code",
   "execution_count": 38,
   "metadata": {
    "collapsed": false
   },
   "outputs": [
    {
     "name": "stdout",
     "output_type": "stream",
     "text": [
      "1853 m^2 @ 140 SFr/m^2 = 259420 SFr \n",
      "Price per Appartment if 4 Appartments = 64855 SFr\n",
      "12.971% of 500'000SFr\n"
     ]
    }
   ],
   "source": [
    "members = 4\n",
    "area = 1853 # m^2\n",
    "price_per_m2 = 140 # Fr/m^2\n",
    "soil_calc(area,price_per_m2,members)"
   ]
  },
  {
   "cell_type": "markdown",
   "metadata": {},
   "source": [
    "## Vergleich Susten - Salgesch Musterhaus\n",
    "Vergleich Susten vs Salgesch von Gervas"
   ]
  },
  {
   "cell_type": "code",
   "execution_count": 39,
   "metadata": {
    "collapsed": false
   },
   "outputs": [
    {
     "name": "stdout",
     "output_type": "stream",
     "text": [
      "1100 m^2 @ 200 SFr/m^2 = 220000 SFr \n",
      "Price per Appartment if 4 Appartments = 55000 SFr\n",
      "11.0% of 500'000SFr\n",
      "1100 m^2 @ 160 SFr/m^2 = 176000 SFr \n",
      "Price per Appartment if 4 Appartments = 44000 SFr\n",
      "8.8% of 500'000SFr\n"
     ]
    }
   ],
   "source": [
    "members = 4\n",
    "# Susten\n",
    "area = 1100 # m^2\n",
    "price_per_m2 = 200 # Fr/m^2\n",
    "soil_calc(area,price_per_m2,members)\n",
    "\n",
    "# Salgesch\n",
    "area = 1100 # m^2\n",
    "price_per_m2 = 160 # Fr/m^2\n",
    "soil_calc(area,price_per_m2,members)"
   ]
  }
 ],
 "metadata": {
  "kernelspec": {
   "display_name": "Python 3",
   "language": "python",
   "name": "python3"
  },
  "language_info": {
   "codemirror_mode": {
    "name": "ipython",
    "version": 3
   },
   "file_extension": ".py",
   "mimetype": "text/x-python",
   "name": "python",
   "nbconvert_exporter": "python",
   "pygments_lexer": "ipython3",
   "version": "3.5.2"
  }
 },
 "nbformat": 4,
 "nbformat_minor": 1
}
