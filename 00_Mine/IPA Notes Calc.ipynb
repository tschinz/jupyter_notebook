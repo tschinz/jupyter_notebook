{
 "metadata": {
  "name": "",
  "signature": "sha256:4227257c842b176b5a66afaa3f54cf1ee8870ab59deeb7d0e9811d76a51656e6"
 },
 "nbformat": 3,
 "nbformat_minor": 0,
 "worksheets": [
  {
   "cells": [
    {
     "cell_type": "code",
     "collapsed": false,
     "input": [
      "def calcMark(a,b,c):\n",
      "  print(\"A={} B={} C={}\".format(a, b, c))\n",
      "  mark = 5*(float(a) + 2*float(b) + float(c))/69 + 1\n",
      "  print(\"Note ist: {}\".format(round(mark,1)))"
     ],
     "language": "python",
     "metadata": {},
     "outputs": [],
     "prompt_number": 1
    },
    {
     "cell_type": "code",
     "collapsed": false,
     "input": [
      "a = 2 + 3 + 3 + 2 + 3 + 2\n",
      "b = 3 + 2 + 2 + 3\n",
      "c = 3 + 3 + 3 + 2 + 3 + 3 + 3 + 3 + 3\n",
      "calcMark(a,b,c)"
     ],
     "language": "python",
     "metadata": {},
     "outputs": [
      {
       "output_type": "stream",
       "stream": "stdout",
       "text": [
        "A=15 B=10 C=26\n",
        "Note ist: 5.4\n"
       ]
      }
     ],
     "prompt_number": 13
    },
    {
     "cell_type": "code",
     "collapsed": false,
     "input": [
      "a=14\n",
      "b=9\n",
      "c=22\n",
      "calcMark(a,b,c)"
     ],
     "language": "python",
     "metadata": {},
     "outputs": [
      {
       "output_type": "stream",
       "stream": "stdout",
       "text": [
        "A=14 B=9 C=22\n",
        "Note ist: 4.9\n"
       ]
      }
     ],
     "prompt_number": 15
    },
    {
     "cell_type": "code",
     "collapsed": false,
     "input": [
      "a=15\n",
      "b=10\n",
      "c=24\n",
      "calcMark(a,b,c)"
     ],
     "language": "python",
     "metadata": {},
     "outputs": [
      {
       "output_type": "stream",
       "stream": "stdout",
       "text": [
        "A=15 B=10 C=24\n",
        "Note ist: 5.3\n"
       ]
      }
     ],
     "prompt_number": 4
    },
    {
     "cell_type": "code",
     "collapsed": false,
     "input": [],
     "language": "python",
     "metadata": {},
     "outputs": []
    }
   ],
   "metadata": {}
  }
 ]
}