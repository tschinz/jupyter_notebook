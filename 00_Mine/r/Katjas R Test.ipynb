{
 "cells": [
  {
   "cell_type": "markdown",
   "metadata": {
    "nbpresent": {
     "id": "4857b8db-b21e-433e-8fd4-9da99c4fc7fa"
    }
   },
   "source": [
    "# Mein erster Test\n",
    "Code aus dem R Buch"
   ]
  },
  {
   "cell_type": "markdown",
   "metadata": {
    "nbpresent": {
     "id": "d4d6cbd0-6993-423f-8251-f9ecd5f79021"
    }
   },
   "source": [
    "## Seite5"
   ]
  },
  {
   "cell_type": "code",
   "execution_count": 1,
   "metadata": {
    "collapsed": false,
    "nbpresent": {
     "id": "1a53050c-305d-4727-96bd-a509a67430ab"
    }
   },
   "outputs": [
    {
     "data": {
      "text/html": [
       "2"
      ],
      "text/latex": [
       "2"
      ],
      "text/markdown": [
       "2"
      ],
      "text/plain": [
       "[1] 2"
      ]
     },
     "metadata": {},
     "output_type": "display_data"
    }
   ],
   "source": [
    "x = 2\n",
    "x"
   ]
  },
  {
   "cell_type": "code",
   "execution_count": 9,
   "metadata": {
    "collapsed": false,
    "nbpresent": {
     "id": "d87ca3e2-ed19-4675-bd2f-7d3c852d2275"
    },
    "scrolled": true
   },
   "outputs": [
    {
     "data": {
      "text/html": [
       "<ol class=list-inline>\n",
       "\t<li>1</li>\n",
       "\t<li>2</li>\n",
       "\t<li>3</li>\n",
       "</ol>\n"
      ],
      "text/latex": [
       "\\begin{enumerate*}\n",
       "\\item 1\n",
       "\\item 2\n",
       "\\item 3\n",
       "\\end{enumerate*}\n"
      ],
      "text/markdown": [
       "1. 1\n",
       "2. 2\n",
       "3. 3\n",
       "\n",
       "\n"
      ],
      "text/plain": [
       "[1] 1 2 3"
      ]
     },
     "metadata": {},
     "output_type": "display_data"
    },
    {
     "data": {
      "text/html": [
       "<ol class=list-inline>\n",
       "\t<li>1</li>\n",
       "\t<li>2</li>\n",
       "\t<li>3</li>\n",
       "</ol>\n"
      ],
      "text/latex": [
       "\\begin{enumerate*}\n",
       "\\item 1\n",
       "\\item 2\n",
       "\\item 3\n",
       "\\end{enumerate*}\n"
      ],
      "text/markdown": [
       "1. 1\n",
       "2. 2\n",
       "3. 3\n",
       "\n",
       "\n"
      ],
      "text/plain": [
       "[1] 1 2 3"
      ]
     },
     "metadata": {},
     "output_type": "display_data"
    }
   ],
   "source": [
    "x = c(1,2,3)\n",
    "x\n",
    "x= 1:3\n",
    "x"
   ]
  },
  {
   "cell_type": "code",
   "execution_count": 6,
   "metadata": {
    "collapsed": false
   },
   "outputs": [
    {
     "name": "stderr",
     "output_type": "stream",
     "text": [
      "Installing package into 'C:/Users/tschi/Documents/R/win-library/3.3'\n",
      "(as 'lib' is unspecified)\n"
     ]
    },
    {
     "name": "stdout",
     "output_type": "stream",
     "text": [
      "package 'metafor' successfully unpacked and MD5 sums checked\n",
      "\n",
      "The downloaded binary packages are in\n",
      "\tC:\\Users\\tschi\\AppData\\Local\\Temp\\RtmpWuoZOE\\downloaded_packages\n"
     ]
    }
   ],
   "source": [
    "install.packages(\"metafor\",repos = \"http://cran.us.r-project.org\")"
   ]
  },
  {
   "cell_type": "code",
   "execution_count": 8,
   "metadata": {
    "collapsed": false,
    "nbpresent": {
     "id": "22f3cf3a-63cb-4491-ae7c-3bf1ee187c60"
    }
   },
   "outputs": [
    {
     "ename": "ERROR",
     "evalue": "Error in metacont(Ne, Me, Se, Nc, Mc, Sc, studlab = paste(author, year), : Objekt 'data1' nicht gefunden\n",
     "output_type": "error",
     "traceback": [
      "Error in metacont(Ne, Me, Se, Nc, Mc, Sc, studlab = paste(author, year), : Objekt 'data1' nicht gefunden\nTraceback:\n",
      "1. metacont(Ne, Me, Se, Nc, Mc, Sc, studlab = paste(author, year), \n .     data = data1)"
     ]
    }
   ],
   "source": [
    "library(meta)\n",
    "m <- metacont(Ne, Me, Se, Nc, Mc, Sc, studlab=paste(author,year), data=data1)"
   ]
  }
 ],
 "metadata": {
  "anaconda-cloud": {},
  "kernelspec": {
   "display_name": "R",
   "language": "R",
   "name": "ir"
  },
  "language_info": {
   "codemirror_mode": "r",
   "file_extension": ".r",
   "mimetype": "text/x-r-source",
   "name": "R",
   "pygments_lexer": "r",
   "version": "3.3.2"
  },
  "nbpresent": {
   "slides": {
    "3fd97942-b6dd-4e0a-ae02-1096f89d86ca": {
     "id": "3fd97942-b6dd-4e0a-ae02-1096f89d86ca",
     "prev": "8cc6c078-5be1-4cb2-9c98-3a34f3656598",
     "regions": {
      "d633b8bd-53a7-4818-8a2d-0f75aa799062": {
       "attrs": {
        "height": 0.8,
        "width": 0.8,
        "x": 0.1,
        "y": 0.1
       },
       "content": {
        "cell": "d4d6cbd0-6993-423f-8251-f9ecd5f79021",
        "part": "whole"
       },
       "id": "d633b8bd-53a7-4818-8a2d-0f75aa799062"
      }
     }
    },
    "5d6cd312-693c-427a-91a6-1341a8dd6b8c": {
     "id": "5d6cd312-693c-427a-91a6-1341a8dd6b8c",
     "prev": "c823ef19-938b-4beb-8aaf-463b02698f1d",
     "regions": {
      "c9c55a51-cef5-4671-b735-a77ebbcd1a14": {
       "attrs": {
        "height": 0.8,
        "width": 0.8,
        "x": 0.1,
        "y": 0.1
       },
       "content": {
        "cell": "22f3cf3a-63cb-4491-ae7c-3bf1ee187c60",
        "part": "whole"
       },
       "id": "c9c55a51-cef5-4671-b735-a77ebbcd1a14"
      }
     }
    },
    "8cc6c078-5be1-4cb2-9c98-3a34f3656598": {
     "id": "8cc6c078-5be1-4cb2-9c98-3a34f3656598",
     "prev": null,
     "regions": {
      "094d59fd-7497-4cb6-aa40-80b943247362": {
       "attrs": {
        "height": 0.8,
        "width": 0.8,
        "x": 0.1,
        "y": 0.1
       },
       "content": {
        "cell": "4857b8db-b21e-433e-8fd4-9da99c4fc7fa",
        "part": "whole"
       },
       "id": "094d59fd-7497-4cb6-aa40-80b943247362"
      }
     }
    },
    "adbe1385-a248-4b87-8c2d-f5b1257ed3ac": {
     "id": "adbe1385-a248-4b87-8c2d-f5b1257ed3ac",
     "prev": "e26cc970-eacf-4dff-bf9a-77cea40e97bd",
     "regions": {
      "627f4b8a-eaaa-4d9f-b8dd-3d7518edd870": {
       "attrs": {
        "height": 0.8,
        "width": 0.8,
        "x": 0.1,
        "y": 0.1
       },
       "content": {
        "cell": "d87ca3e2-ed19-4675-bd2f-7d3c852d2275",
        "part": "whole"
       },
       "id": "627f4b8a-eaaa-4d9f-b8dd-3d7518edd870"
      }
     }
    },
    "b3f95056-f097-43b5-8e93-583ea84ca79e": {
     "id": "b3f95056-f097-43b5-8e93-583ea84ca79e",
     "prev": "adbe1385-a248-4b87-8c2d-f5b1257ed3ac",
     "regions": {
      "7f372b91-0dff-40c5-8645-3466183f9824": {
       "attrs": {
        "height": 0.8,
        "width": 0.8,
        "x": 0.1,
        "y": 0.1
       },
       "content": {
        "cell": "6d0d8ee1-46db-46de-9549-4546a206efe1",
        "part": "whole"
       },
       "id": "7f372b91-0dff-40c5-8645-3466183f9824"
      }
     }
    },
    "c7a4ec0a-0a4d-434a-97dc-0edd73e4bdd9": {
     "id": "c7a4ec0a-0a4d-434a-97dc-0edd73e4bdd9",
     "prev": "5d6cd312-693c-427a-91a6-1341a8dd6b8c",
     "regions": {
      "d8b72870-33ba-4f30-a1f9-84d0bde88127": {
       "attrs": {
        "height": 0.8,
        "width": 0.8,
        "x": 0.1,
        "y": 0.1
       },
       "content": {
        "cell": "7da206da-8ab9-4504-8b7b-3c339dc67b32",
        "part": "whole"
       },
       "id": "d8b72870-33ba-4f30-a1f9-84d0bde88127"
      }
     }
    },
    "c823ef19-938b-4beb-8aaf-463b02698f1d": {
     "id": "c823ef19-938b-4beb-8aaf-463b02698f1d",
     "prev": "b3f95056-f097-43b5-8e93-583ea84ca79e",
     "regions": {
      "34fb6f40-814b-4099-b87a-f91193a8cff9": {
       "attrs": {
        "height": 0.8,
        "width": 0.8,
        "x": 0.1,
        "y": 0.1
       },
       "content": {
        "cell": "7f8949d2-c003-42c9-92ec-301eca2fbe26",
        "part": "whole"
       },
       "id": "34fb6f40-814b-4099-b87a-f91193a8cff9"
      }
     }
    },
    "e26cc970-eacf-4dff-bf9a-77cea40e97bd": {
     "id": "e26cc970-eacf-4dff-bf9a-77cea40e97bd",
     "prev": "3fd97942-b6dd-4e0a-ae02-1096f89d86ca",
     "regions": {
      "19776dca-dfaf-463c-8dd0-885c1eca674c": {
       "attrs": {
        "height": 0.8,
        "width": 0.8,
        "x": 0.1,
        "y": 0.1
       },
       "content": {
        "cell": "1a53050c-305d-4727-96bd-a509a67430ab",
        "part": "whole"
       },
       "id": "19776dca-dfaf-463c-8dd0-885c1eca674c"
      }
     }
    }
   },
   "themes": {}
  }
 },
 "nbformat": 4,
 "nbformat_minor": 1
}
