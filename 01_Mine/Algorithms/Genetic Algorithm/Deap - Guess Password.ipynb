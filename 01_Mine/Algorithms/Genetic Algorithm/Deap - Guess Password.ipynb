{
  "cells": [
    {
      "cell_type": "markdown",
      "metadata": {
        "pycharm": {}
      },
      "source": [
        "# My Example Deap Genetic Algorithm"
      ]
    },
    {
      "cell_type": "code",
      "execution_count": 1,
      "metadata": {
        "pycharm": {}
      },
      "outputs": [
        {
          "name": "stdout",
          "output_type": "stream",
          "text": [
            "Collecting version_information\n",
            "  Downloading https://files.pythonhosted.org/packages/ff/b0/6088e15b9ac43a08ccd300d68e0b900a20cf62077596c11ad11dd8cc9e4b/version_information-1.0.3.tar.gz\n",
            "Building wheels for collected packages: version-information\n",
            "  Building wheel for version-information (setup.py) ... \u001b[?25ldone\n",
            "\u001b[?25h  Stored in directory: /home/zas/.cache/pip/wheels/1f/4c/b3/1976ac11dbd802723b564de1acaa453a72c36c95827e576321\n",
            "Successfully built version-information\n",
            "Installing collected packages: version-information\n",
            "Successfully installed version-information-1.0.3\n"
          ]
        }
      ],
      "source": [
        "!pip install version_information"
      ]
    },
    {
      "cell_type": "code",
      "execution_count": 2,
      "metadata": {
        "pycharm": {}
      },
      "outputs": [
        {
          "data": {
            "application/json": {
              "Software versions": [
                {
                  "module": "Python",
                  "version": "3.6.5 64bit [GCC 7.2.0]"
                },
                {
                  "module": "IPython",
                  "version": "6.4.0"
                },
                {
                  "module": "OS",
                  "version": "Linux 4.15.0 47 generic x86_64 with debian buster sid"
                },
                {
                  "module": "scipy",
                  "version": "1.1.0"
                },
                {
                  "module": "numpy",
                  "version": "1.14.3"
                },
                {
                  "module": "matplotlib",
                  "version": "2.2.2"
                },
                {
                  "module": "seaborn",
                  "version": "0.8.1"
                },
                {
                  "module": "deap",
                  "version": "1.2"
                }
              ]
            },
            "text/html": [
              "\u003ctable\u003e\u003ctr\u003e\u003cth\u003eSoftware\u003c/th\u003e\u003cth\u003eVersion\u003c/th\u003e\u003c/tr\u003e\u003ctr\u003e\u003ctd\u003ePython\u003c/td\u003e\u003ctd\u003e3.6.5 64bit [GCC 7.2.0]\u003c/td\u003e\u003c/tr\u003e\u003ctr\u003e\u003ctd\u003eIPython\u003c/td\u003e\u003ctd\u003e6.4.0\u003c/td\u003e\u003c/tr\u003e\u003ctr\u003e\u003ctd\u003eOS\u003c/td\u003e\u003ctd\u003eLinux 4.15.0 47 generic x86_64 with debian buster sid\u003c/td\u003e\u003c/tr\u003e\u003ctr\u003e\u003ctd\u003escipy\u003c/td\u003e\u003ctd\u003e1.1.0\u003c/td\u003e\u003c/tr\u003e\u003ctr\u003e\u003ctd\u003enumpy\u003c/td\u003e\u003ctd\u003e1.14.3\u003c/td\u003e\u003c/tr\u003e\u003ctr\u003e\u003ctd\u003ematplotlib\u003c/td\u003e\u003ctd\u003e2.2.2\u003c/td\u003e\u003c/tr\u003e\u003ctr\u003e\u003ctd\u003eseaborn\u003c/td\u003e\u003ctd\u003e0.8.1\u003c/td\u003e\u003c/tr\u003e\u003ctr\u003e\u003ctd\u003edeap\u003c/td\u003e\u003ctd\u003e1.2\u003c/td\u003e\u003c/tr\u003e\u003ctr\u003e\u003ctd colspan\u003d\u00272\u0027\u003eMon Apr 08 09:52:56 2019 CEST\u003c/td\u003e\u003c/tr\u003e\u003c/table\u003e"
            ],
            "text/latex": [
              "\\begin{tabular}{|l|l|}\\hline\n",
              "{\\bf Software} \u0026 {\\bf Version} \\\\ \\hline\\hline\n",
              "Python \u0026 3.6.5 64bit [GCC 7.2.0] \\\\ \\hline\n",
              "IPython \u0026 6.4.0 \\\\ \\hline\n",
              "OS \u0026 Linux 4.15.0 47 generic x86\\_64 with debian buster sid \\\\ \\hline\n",
              "scipy \u0026 1.1.0 \\\\ \\hline\n",
              "numpy \u0026 1.14.3 \\\\ \\hline\n",
              "matplotlib \u0026 2.2.2 \\\\ \\hline\n",
              "seaborn \u0026 0.8.1 \\\\ \\hline\n",
              "deap \u0026 1.2 \\\\ \\hline\n",
              "\\hline \\multicolumn{2}{|l|}{Mon Apr 08 09:52:56 2019 CEST} \\\\ \\hline\n",
              "\\end{tabular}\n"
            ],
            "text/plain": [
              "Software versions\n",
              "Python 3.6.5 64bit [GCC 7.2.0]\n",
              "IPython 6.4.0\n",
              "OS Linux 4.15.0 47 generic x86_64 with debian buster sid\n",
              "scipy 1.1.0\n",
              "numpy 1.14.3\n",
              "matplotlib 2.2.2\n",
              "seaborn 0.8.1\n",
              "deap 1.2\n",
              "Mon Apr 08 09:52:56 2019 CEST"
            ]
          },
          "execution_count": 2,
          "metadata": {},
          "output_type": "execute_result"
        }
      ],
      "source": [
        "# To install run: pip install version_information\n",
        "%load_ext version_information\n",
        "%version_information scipy, numpy, matplotlib, seaborn, deap"
      ]
    },
    {
      "cell_type": "code",
      "execution_count": null,
      "metadata": {
        "pycharm": {}
      },
      "outputs": [],
      "source": ""
    }
  ],
  "metadata": {
    "kernelspec": {
      "display_name": "Python 3",
      "language": "python",
      "name": "python3"
    },
    "language_info": {
      "codemirror_mode": {
        "name": "ipython",
        "version": 3
      },
      "file_extension": ".py",
      "mimetype": "text/x-python",
      "name": "python",
      "nbconvert_exporter": "python",
      "pygments_lexer": "ipython3",
      "version": "3.6.5"
    }
  },
  "nbformat": 4,
  "nbformat_minor": 2
}