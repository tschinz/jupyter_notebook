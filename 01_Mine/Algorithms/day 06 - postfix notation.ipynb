{
 "cells": [
  {
   "cell_type": "markdown",
   "metadata": {},
   "source": [
    "# Postfix notation\n",
    "While humans mostly use infix notation of algebraic expressions, Reverse Polish notation or postfix notation is much easier to parse algorithmically.\n",
    "\n",
    "For example, these expressions are equivalent, the first one is in infix form and the second one is in postfix form.\n",
    "\n",
    "`2 * (1 + 3) = 2 1 3 + *`\n",
    "\n",
    "When you are implementing your very first expression parser, postfix and prefix notations are the best way to go. Onto stack: Push, push, pop, push, push, pop. Pop."
   ]
  },
  {
   "cell_type": "markdown",
   "metadata": {},
   "source": [
    "## algorithm"
   ]
  },
  {
   "cell_type": "code",
   "execution_count": 1,
   "metadata": {
    "collapsed": false
   },
   "outputs": [],
   "source": [
    "ops = {\n",
    "    '+': float.__add__,\n",
    "    '-': float.__sub__,\n",
    "    '*': float.__mul__,\n",
    "    '/': float.__truediv__,\n",
    "    '^': float.__pow__,\n",
    "}\n",
    "\n",
    "def postfix(expression):\n",
    "    stack = []\n",
    "    \n",
    "    for x in expression.split():\n",
    "        if x in ops:\n",
    "            x = ops[x](stack.pop(-2), stack.pop(-1))\n",
    "        else:\n",
    "            x = float(x)\n",
    "        stack.append(x)\n",
    "        \n",
    "    return stack.pop()"
   ]
  },
  {
   "cell_type": "markdown",
   "metadata": {},
   "source": [
    "## run"
   ]
  },
  {
   "cell_type": "code",
   "execution_count": 2,
   "metadata": {
    "collapsed": false
   },
   "outputs": [
    {
     "data": {
      "text/plain": [
       "8.0"
      ]
     },
     "execution_count": 2,
     "metadata": {},
     "output_type": "execute_result"
    }
   ],
   "source": [
    "postfix('1 2 + 4 3 - + 10 5 / *')"
   ]
  },
  {
   "cell_type": "code",
   "execution_count": 3,
   "metadata": {
    "collapsed": false
   },
   "outputs": [
    {
     "data": {
      "text/plain": [
       "25.0"
      ]
     },
     "execution_count": 3,
     "metadata": {},
     "output_type": "execute_result"
    }
   ],
   "source": [
    "postfix('1 2 * 6 2 / + 9 7 - ^')"
   ]
  },
  {
   "cell_type": "code",
   "execution_count": 4,
   "metadata": {
    "collapsed": false
   },
   "outputs": [
    {
     "data": {
      "text/plain": [
       "15.0"
      ]
     },
     "execution_count": 4,
     "metadata": {},
     "output_type": "execute_result"
    }
   ],
   "source": [
    "postfix('1 2 3 4 5 + + + +')"
   ]
  },
  {
   "cell_type": "code",
   "execution_count": null,
   "metadata": {
    "collapsed": true
   },
   "outputs": [],
   "source": []
  }
 ],
 "metadata": {
  "kernelspec": {
   "display_name": "Python 3",
   "language": "python",
   "name": "python3"
  },
  "language_info": {
   "codemirror_mode": {
    "name": "ipython",
    "version": 3
   },
   "file_extension": ".py",
   "mimetype": "text/x-python",
   "name": "python",
   "nbconvert_exporter": "python",
   "pygments_lexer": "ipython3",
   "version": "3.6.5"
  }
 },
 "nbformat": 4,
 "nbformat_minor": 2
}
