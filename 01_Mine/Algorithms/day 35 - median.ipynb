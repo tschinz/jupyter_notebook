{
 "cells": [
  {
   "cell_type": "markdown",
   "metadata": {},
   "source": [
    "# Median\n",
    "[Median](https://en.wikipedia.org/wiki/Median) is just a special case of searching for k-th element. For today, let’s just focus on arrays with distinct elements, hence each value needs to be unique.\n",
    "\n",
    "While straightforward solution would be to sort the array in O(n.log(n)) and pick k-th position in O(1), we can do better and implement the lookup in O(n).\n",
    "\n",
    "The idea is to use splitting by pivot in a way that quicksort does. However, unlike quicksort we are only interested in one partition and carry on search in there.\n",
    "\n",
    "It can be shown that the expected time of this algorithm is O(n). And it also looks like the worst case running time is O(n²). But the reason I chose median lookup today was to show a little intuition of why that’s not true.\n",
    "\n",
    "Let’s see what may happen. Obviously the best case is to hit pivot very close to median and carry on search on half of array. But we may also hit pivot very far from median and carry on almost the same array as in previous step.\n",
    "\n",
    "Fortunately, there’s a proof that a good pivot is any element from the middle half of array (in statistics it’s called [IQR](https://en.wikipedia.org/wiki/Interquartile_range)). When the pivot is randomly selected from a set of distinct elements, we have 50% chance to get a good one.\n",
    "\n",
    "We only need about the same number of good and bad pivots, in which case we can say we reach 2*O(n) running time instead of O(n) and hide the constant inside Big-O notation.\n",
    "\n",
    "We also have 50% chance to get a bad pivot and here comes the crucial part. If we randomize on pivot from a set of distinct elements, we effectively eliminate pathological situations. For O(n²) running time we would need to hit bad pivots often, but the chance of choosing a series of bad ones falls down exponentially.\n",
    "\n",
    "Intuitively, the worst case estimate doesn’t work in practice because the chances required to touch O(n²) are quickly decreasing with the problem size."
   ]
  },
  {
   "cell_type": "code",
   "execution_count": 1,
   "metadata": {
    "collapsed": true
   },
   "outputs": [],
   "source": [
    "import numpy as np"
   ]
  },
  {
   "cell_type": "markdown",
   "metadata": {},
   "source": [
    "## algorithm"
   ]
  },
  {
   "cell_type": "code",
   "execution_count": 2,
   "metadata": {
    "collapsed": false
   },
   "outputs": [],
   "source": [
    "def kth(items, k, depth=1):\n",
    "    if len(items) == 1:\n",
    "        return items[0], depth\n",
    "\n",
    "    # randomize on pivot\n",
    "    pivot = np.random.choice(items)\n",
    "    split = np.sum(items <= pivot)\n",
    "    \n",
    "    # search partition\n",
    "    if k < split:\n",
    "        return kth(items[items <= pivot], k, depth + 1)\n",
    "    else:\n",
    "        return kth(items[items > pivot], k - split, depth + 1)"
   ]
  },
  {
   "cell_type": "markdown",
   "metadata": {},
   "source": [
    "## run"
   ]
  },
  {
   "cell_type": "code",
   "execution_count": 3,
   "metadata": {
    "collapsed": true
   },
   "outputs": [],
   "source": [
    "items = np.arange(1000000)\n",
    "np.random.shuffle(items)"
   ]
  },
  {
   "cell_type": "code",
   "execution_count": 4,
   "metadata": {
    "collapsed": false
   },
   "outputs": [
    {
     "data": {
      "text/plain": [
       "(500000, 29)"
      ]
     },
     "execution_count": 4,
     "metadata": {},
     "output_type": "execute_result"
    }
   ],
   "source": [
    "kth(items, len(items) // 2)"
   ]
  },
  {
   "cell_type": "code",
   "execution_count": 5,
   "metadata": {
    "collapsed": false
   },
   "outputs": [
    {
     "data": {
      "text/plain": [
       "(0, 14)"
      ]
     },
     "execution_count": 5,
     "metadata": {},
     "output_type": "execute_result"
    }
   ],
   "source": [
    "kth(items, 0)"
   ]
  },
  {
   "cell_type": "code",
   "execution_count": 6,
   "metadata": {
    "collapsed": false
   },
   "outputs": [
    {
     "data": {
      "text/plain": [
       "(999999, 16)"
      ]
     },
     "execution_count": 6,
     "metadata": {},
     "output_type": "execute_result"
    }
   ],
   "source": [
    "kth(items, len(items) - 1)"
   ]
  },
  {
   "cell_type": "code",
   "execution_count": null,
   "metadata": {
    "collapsed": true
   },
   "outputs": [],
   "source": []
  }
 ],
 "metadata": {
  "kernelspec": {
   "display_name": "Python 3",
   "language": "python",
   "name": "python3"
  },
  "language_info": {
   "codemirror_mode": {
    "name": "ipython",
    "version": 3
   },
   "file_extension": ".py",
   "mimetype": "text/x-python",
   "name": "python",
   "nbconvert_exporter": "python",
   "pygments_lexer": "ipython3",
   "version": "3.6.5"
  }
 },
 "nbformat": 4,
 "nbformat_minor": 2
}
