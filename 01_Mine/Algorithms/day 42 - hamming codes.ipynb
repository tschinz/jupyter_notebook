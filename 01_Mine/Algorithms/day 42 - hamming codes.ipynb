{
 "cells": [
  {
   "cell_type": "markdown",
   "metadata": {},
   "source": [
    "# Hamming Code\n",
    "Anytime data is transferred or stored, there are errors occurring which leads to data corruption. Computer memory, disk, ethernet, wi-fi, … it happens everywhere. [Hamming code](https://en.wikipedia.org/wiki/Hamming_code) was an impressive discovery of how to deal with the problem efficiently.\n",
    "\n",
    "To identify errors, we may double each bit. Instead of `1010` we can store `11001100`. If a pair of consecutive bits doesn’t match, data is corrupted. That is called parity.\n",
    "\n",
    "But doubling is not enough. We can identify there’s an error but we can’t recover. Hence we have to triple the data. Having `111000111000` we can identify corrupted triplets and let the triplet vote for majority to reconstruct the original.\n",
    "\n",
    "However, for each bit of data this approach requires additional 2 bits. If we expect an error to occur not more than once out of 255 bits, that’s just wasting.\n",
    "\n",
    "Hamming’s idea is the following. For 255 bits we need 8 bits as address space. We can store 247 bits of data and only use 8 bits for parity checks.\n",
    "\n",
    "<img src=\"resource/day42-hammingcode.png\" width=\"150\" />\n",
    "\n",
    "Each parity bit covers positions that have certain bit set to 1 in its address. For example parity bit P1 checks only addresses with mask xxx1, P2 checks only addresses xx1x, P4 checks only addresses x1xx, etc.\n",
    "\n",
    "If an error occurs, only parities targeting the corrupted bit are set to 1 and form an address to exact location."
   ]
  },
  {
   "cell_type": "code",
   "execution_count": 1,
   "metadata": {
    "collapsed": true
   },
   "outputs": [],
   "source": [
    "import numpy as np"
   ]
  },
  {
   "cell_type": "markdown",
   "metadata": {},
   "source": [
    "## algorithm"
   ]
  },
  {
   "cell_type": "code",
   "execution_count": 2,
   "metadata": {
    "collapsed": true
   },
   "outputs": [],
   "source": [
    "def encode(parity_bits, data):\n",
    "    n = len(data) + parity_bits\n",
    "    assert 2 ** parity_bits == n + 1\n",
    "\n",
    "    # copy data to code\n",
    "    code = np.zeros(n, dtype=int)\n",
    "    code[np.arange(n) & np.arange(n) + 1 > 0] = data\n",
    "\n",
    "    # parity mask\n",
    "    mask = np.zeros(n, dtype=int)\n",
    "    mask[::2] = 1\n",
    "\n",
    "    # compute parity\n",
    "    i = 0\n",
    "    while i < n:\n",
    "        code[i] = code[i:][mask == 1].sum() & 1\n",
    "        i += i + 1\n",
    "        mask = np.repeat(mask, 2)[:n - i]\n",
    "\n",
    "    # result\n",
    "    return code"
   ]
  },
  {
   "cell_type": "code",
   "execution_count": 3,
   "metadata": {
    "collapsed": true
   },
   "outputs": [],
   "source": [
    "def decode(code):\n",
    "    n = len(code)\n",
    "\n",
    "    # parity mask\n",
    "    mask = np.zeros(n, dtype=int)\n",
    "    mask[::2] = 1\n",
    "\n",
    "    # compute parity\n",
    "    error, i = -1, 0\n",
    "    while i < n:\n",
    "        error += (i + 1) * (code[i:][mask == 1].sum() & 1)\n",
    "        i += i + 1\n",
    "        mask = np.repeat(mask, 2)[:n - i]\n",
    "\n",
    "    # fix error\n",
    "    if error >= 0:\n",
    "        code[error] ^= 1\n",
    "\n",
    "    # get data from code\n",
    "    data = code[np.arange(n) & np.arange(n) + 1 > 0]\n",
    "\n",
    "    # result\n",
    "    return error, data"
   ]
  },
  {
   "cell_type": "markdown",
   "metadata": {},
   "source": [
    "## encoding"
   ]
  },
  {
   "cell_type": "code",
   "execution_count": 4,
   "metadata": {
    "collapsed": false
   },
   "outputs": [
    {
     "name": "stdout",
     "output_type": "stream",
     "text": [
      "hamming code [1 0 0 1] -> [0 0 1 1 0 0 1]\n",
      "with error [0 0 1 0 0 0 1]\n",
      "error @ 3 -> [1 0 0 1]\n"
     ]
    }
   ],
   "source": [
    "parity_bits = 3\n",
    "data = np.random.randint(0, 2, 4)\n",
    "\n",
    "# generate code\n",
    "code = encode(parity_bits, data)\n",
    "print('hamming code', data, '->', code)\n",
    "\n",
    "# make error\n",
    "code[3] ^= 1\n",
    "print('with error', code)\n",
    "\n",
    "# reconstruct\n",
    "error, recon = decode(code)\n",
    "print('error @', error, '->', recon)"
   ]
  },
  {
   "cell_type": "code",
   "execution_count": 5,
   "metadata": {
    "collapsed": false
   },
   "outputs": [
    {
     "name": "stdout",
     "output_type": "stream",
     "text": [
      "hamming code [0 0 0 1 0 0 0 0 1 1 1] -> [1 1 0 0 0 0 1 1 0 0 0 0 1 1 1]\n",
      "with error [1 1 0 0 0 0 1 1 0 0 0 0 1 1 0]\n",
      "error @ 14 -> [0 0 0 1 0 0 0 0 1 1 1]\n"
     ]
    }
   ],
   "source": [
    "parity_bits = 4\n",
    "data = np.random.randint(0, 2, 11)\n",
    "\n",
    "# generate code\n",
    "code = encode(parity_bits, data)\n",
    "print('hamming code', data, '->', code)\n",
    "\n",
    "# make error\n",
    "code[14] ^= 1\n",
    "print('with error', code)\n",
    "\n",
    "# reconstruct\n",
    "error, recon = decode(code)\n",
    "print('error @', error, '->', recon)"
   ]
  },
  {
   "cell_type": "code",
   "execution_count": null,
   "metadata": {
    "collapsed": true
   },
   "outputs": [],
   "source": []
  }
 ],
 "metadata": {
  "kernelspec": {
   "display_name": "Python 3",
   "language": "python",
   "name": "python3"
  },
  "language_info": {
   "codemirror_mode": {
    "name": "ipython",
    "version": 3
   },
   "file_extension": ".py",
   "mimetype": "text/x-python",
   "name": "python",
   "nbconvert_exporter": "python",
   "pygments_lexer": "ipython3",
   "version": "3.6.5"
  }
 },
 "nbformat": 4,
 "nbformat_minor": 2
}
