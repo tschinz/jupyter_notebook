{
 "cells": [
  {
   "cell_type": "markdown",
   "metadata": {},
   "source": [
    "# Shuffle\n",
    "In machine learning we often need to shuffle data. For example, if we are about to make a train/test split and the data were sorted by category beforehand, we might end up training on just half of the classes. That would be bad.\n",
    "\n",
    "Uniform shuffle guarantees that every item has the same chance to occur at any position. Seems like an easy task, but it requires a bit of thinking.\n",
    "\n",
    "Hasty solution would be to cycle through all `N` positions, each time generate random value in range `[0, N)` and swap the current position with a random one. Is that uniform?\n",
    "\n",
    "We select out of `N^N` shuffles, but there are only `N!` permutations. Obviously, we can’t get uniform distribution in this way and some items will have its preferences.\n",
    "\n",
    "What we need, instead, is to get a random permutation. To find one, we cycle through, at position `i` generate a random value in range `[i, N)` and swap the two positions. Is that uniform?\n",
    "\n",
    "$$p(0)=\\frac{1}{N}$$\n",
    "$$p(1)=\\frac{N-1}{N}\\frac{1}{N-1}=\\frac{1}{N}$$\n",
    "$$p(1)=\\frac{N-1}{N}\\frac{N-2}{N-1}\\frac{1}{N-2}=\\frac{1}{N}$$\n",
    "\n",
    "Each item has the chance `1/N` to get at position `0`. Each item also has the chance `(N-1)/N` not to get there. Hence the chance for position `1` is the same, again, `1/N`. This condition holds for all the array."
   ]
  },
  {
   "cell_type": "code",
   "execution_count": 1,
   "metadata": {
    "collapsed": true
   },
   "outputs": [],
   "source": [
    "import numpy as np"
   ]
  },
  {
   "cell_type": "markdown",
   "metadata": {},
   "source": [
    "## algorithm"
   ]
  },
  {
   "cell_type": "code",
   "execution_count": 2,
   "metadata": {
    "collapsed": true
   },
   "outputs": [],
   "source": [
    "def shuffle(data):\n",
    "    n = len(data)\n",
    "    for i in range(n):\n",
    "        k = np.random.randint(i, n)\n",
    "        data[i], data[k] = data[k], data[i]\n",
    "        \n",
    "    return data"
   ]
  },
  {
   "cell_type": "markdown",
   "metadata": {},
   "source": [
    "## shuffle"
   ]
  },
  {
   "cell_type": "code",
   "execution_count": 3,
   "metadata": {
    "collapsed": true
   },
   "outputs": [],
   "source": [
    "data = list(range(10))"
   ]
  },
  {
   "cell_type": "code",
   "execution_count": 4,
   "metadata": {
    "collapsed": false
   },
   "outputs": [
    {
     "data": {
      "text/plain": [
       "[3, 8, 6, 4, 1, 5, 0, 7, 2, 9]"
      ]
     },
     "execution_count": 4,
     "metadata": {},
     "output_type": "execute_result"
    }
   ],
   "source": [
    "shuffle(data)"
   ]
  },
  {
   "cell_type": "code",
   "execution_count": 5,
   "metadata": {
    "collapsed": false
   },
   "outputs": [
    {
     "data": {
      "text/plain": [
       "[3, 8, 9, 7, 6, 2, 4, 5, 0, 1]"
      ]
     },
     "execution_count": 5,
     "metadata": {},
     "output_type": "execute_result"
    }
   ],
   "source": [
    "shuffle(data)"
   ]
  },
  {
   "cell_type": "code",
   "execution_count": 6,
   "metadata": {
    "collapsed": false
   },
   "outputs": [
    {
     "data": {
      "text/plain": [
       "[7, 6, 4, 2, 1, 9, 3, 8, 5, 0]"
      ]
     },
     "execution_count": 6,
     "metadata": {},
     "output_type": "execute_result"
    }
   ],
   "source": [
    "shuffle(data)"
   ]
  },
  {
   "cell_type": "code",
   "execution_count": null,
   "metadata": {
    "collapsed": true
   },
   "outputs": [],
   "source": []
  }
 ],
 "metadata": {
  "kernelspec": {
   "display_name": "Python 3",
   "language": "python",
   "name": "python3"
  },
  "language_info": {
   "codemirror_mode": {
    "name": "ipython",
    "version": 3
   },
   "file_extension": ".py",
   "mimetype": "text/x-python",
   "name": "python",
   "nbconvert_exporter": "python",
   "pygments_lexer": "ipython3",
   "version": "3.6.5"
  }
 },
 "nbformat": 4,
 "nbformat_minor": 2
}
