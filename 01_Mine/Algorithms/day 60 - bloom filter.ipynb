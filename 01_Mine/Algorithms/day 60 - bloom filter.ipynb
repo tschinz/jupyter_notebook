{
 "cells": [
  {
   "cell_type": "markdown",
   "metadata": {},
   "source": [
    "# Bloom Filter\n",
    "[Bloom filter](https://en.wikipedia.org/wiki/Bloom_filter) is a probabilistic data structure based on hashing. It’s very similar to [hash table](https://en.wikipedia.org/wiki/Hash_table), but differs in several important aspects.\n",
    "\n",
    "* only `add()` and `contains()` operations are supported (I’ll skip `union`)\n",
    "* `contains()` may return false positives\n",
    "* uses fixed memory size (can’t enlarge), but scales well for big data\n",
    "\n",
    "Bloom filter is relatively simple. It is using fixed bit array that is zeroed at the beginning and a fixed collection of k hash functions.\n",
    "\n",
    "`add(item)` sets all the `k `bits of array to `1`, `array[hash[i](item)] = 1`.\n",
    "\n",
    "`contains(item)` conversely checks if all the `k` bits are set,\n",
    "`all(array[hash[i](item)] == 1)`.\n",
    "\n",
    "It is obvious that any item that has been added will be correctly reported as present. However, it may happen that items which have not been added will be reported as present, too. That’s a false positive.\n",
    "\n",
    "I will skip the math of a chance to get false positive and try the bloom filter directly in code. Let’s use a textbook example. Users are coming to a website. Based on user IP address, find out if the user is returning.\n",
    "\n",
    "There are two groups of about million users, A — returning users, and B — new users. Using a standard hash table, we would need about `6*10**6` bytes of memory.\n",
    "\n",
    "Bloom filter with `10**6` bytes of memory and `3` hash functions has about 4% of false positive rate. Bloom filter with `4*10**6` bytes of memory and `6` hash functions is below 0.1%.\n",
    "\n",
    "Check the run section at the end of article."
   ]
  },
  {
   "cell_type": "code",
   "execution_count": 1,
   "metadata": {
    "collapsed": true
   },
   "outputs": [],
   "source": [
    "import numpy as np\n",
    "from collections import deque\n",
    "from bitarray import bitarray"
   ]
  },
  {
   "cell_type": "markdown",
   "metadata": {},
   "source": [
    "## algorithm"
   ]
  },
  {
   "cell_type": "code",
   "execution_count": 2,
   "metadata": {
    "collapsed": false
   },
   "outputs": [],
   "source": [
    "def ihash(x):\n",
    "    h = 86813\n",
    "    while True:\n",
    "        for i in x:\n",
    "            h = ((h + i) * 127733) % (1 << 32)\n",
    "        yield h"
   ]
  },
  {
   "cell_type": "code",
   "execution_count": 3,
   "metadata": {
    "collapsed": true
   },
   "outputs": [],
   "source": [
    "def bloom_filter(array_bytes, k):\n",
    "    array = bitarray(array_bytes * 8)\n",
    "    array.setall(0)\n",
    "\n",
    "    def _hash(x):\n",
    "        for _, h in zip(range(k), ihash(x)):\n",
    "            yield h % len(array)\n",
    "    \n",
    "    def _add(x):\n",
    "        for h in _hash(x):\n",
    "            array[h] = 1\n",
    "\n",
    "    def _contains(x):\n",
    "        return all(array[h] for h in _hash(x))\n",
    "\n",
    "    return _add, _contains"
   ]
  },
  {
   "cell_type": "code",
   "execution_count": 4,
   "metadata": {
    "collapsed": true
   },
   "outputs": [],
   "source": [
    "def measure_accuracy(A, B, array_bytes, k):\n",
    "    add, contains = bloom_filter(array_bytes, k)\n",
    "    \n",
    "    # store A\n",
    "    deque((add(x) for x in A), 0)\n",
    "\n",
    "    # find false positives in B\n",
    "    fp = sum(contains(x) for x in B)\n",
    "\n",
    "    # result\n",
    "    acc = 1 - fp / len(B)\n",
    "    print('{} hashes, {} false positives, {:.4f} accuracy'.format(k, fp, acc))"
   ]
  },
  {
   "cell_type": "markdown",
   "metadata": {},
   "source": [
    "## run"
   ]
  },
  {
   "cell_type": "code",
   "execution_count": 5,
   "metadata": {
    "collapsed": false
   },
   "outputs": [
    {
     "data": {
      "text/plain": [
       "(999876, 999654)"
      ]
     },
     "execution_count": 5,
     "metadata": {},
     "output_type": "execute_result"
    }
   ],
   "source": [
    "n = 10 ** 6\n",
    "A = set(map(tuple, np.random.randint(0, 256, (n, 4))))\n",
    "B = set(map(tuple, np.random.randint(0, 256, (n, 4)))) - A\n",
    "len(A), len(B)"
   ]
  },
  {
   "cell_type": "code",
   "execution_count": 6,
   "metadata": {
    "collapsed": false
   },
   "outputs": [
    {
     "name": "stdout",
     "output_type": "stream",
     "text": [
      "1 hashes, 117928 false positives, 0.8820 accuracy\n",
      "2 hashes, 67614 false positives, 0.9324 accuracy\n",
      "3 hashes, 40024 false positives, 0.9600 accuracy\n",
      "4 hashes, 61675 false positives, 0.9383 accuracy\n"
     ]
    }
   ],
   "source": [
    "for k in [1, 2, 3, 4]:\n",
    "    measure_accuracy(A, B, n, k)"
   ]
  },
  {
   "cell_type": "code",
   "execution_count": null,
   "metadata": {
    "collapsed": false
   },
   "outputs": [
    {
     "name": "stdout",
     "output_type": "stream",
     "text": [
      "1 hashes, 30717 false positives, 0.9693 accuracy\n",
      "2 hashes, 5569 false positives, 0.9944 accuracy\n",
      "4 hashes, 968 false positives, 0.9990 accuracy\n"
     ]
    }
   ],
   "source": [
    "for k in [1, 2, 4, 6, 8]:\n",
    "    measure_accuracy(A, B, n * 4, k)"
   ]
  }
 ],
 "metadata": {
  "kernelspec": {
   "display_name": "Python 3",
   "language": "python",
   "name": "python3"
  },
  "language_info": {
   "codemirror_mode": {
    "name": "ipython",
    "version": 3
   },
   "file_extension": ".py",
   "mimetype": "text/x-python",
   "name": "python",
   "nbconvert_exporter": "python",
   "pygments_lexer": "ipython3",
   "version": "3.6.5"
  }
 },
 "nbformat": 4,
 "nbformat_minor": 2
}
