{
 "cells": [
  {
   "cell_type": "markdown",
   "metadata": {},
   "source": [
    "# Hanoi Tower (II)\n",
    "Let’s solve Hanoi tower once again. Unlike day 1, the problem is slightly different today.\n",
    "\n",
    "In an optimal game (with the least number of moves), find how many moves have been played given towers’ configuration. And conversely, given towers’ configuration find how many moves have been played.\n",
    "\n",
    "The key observation here is the number of moves in optimal game. For $1$ disk, it’s $1$ move. For $n$ disks, it’s $2^n — 1$ moves. This can be proved by induction.\n",
    "\n",
    "Solving $n$-disk game, transfer $n-1$ disks to auxiliary rod, move the largest disk and transfer $n-1$ disks from auxiliary to target rod. Following the induction.\n",
    "\n",
    "$$ T(n) = T(n-1)+1+T(n-1)$$\n",
    "$$ T(n) = (2^{n-1}-1)+1+(2^{n-1}-1)$$\n",
    "$$ T(n) = 2*2^{n-1}-2+1$$\n",
    "$$ T(n) = 2^n-1$$\n",
    "\n",
    "The proof also gives a direct solution to the problem. In $n$-disk game, the largest disk is transferred exactly on move $2^(n-1)$! After a single check on moves $>= 2 ** (n-1)$ we immediately know where the largest disk is. And we can proceed recursively on a $n-1$-disk game.\n",
    "\n",
    "Regarding to this problem, I’d like to talk a bit about algorithmization. Similar to mathematics, algorithms are not lonely islands, but I’ve seen teachers, books and articles that pretend they are.\n",
    "\n",
    "A good programmer is not a living library of algorithms. Not at all. A good programmer is aware of the interconnections and should be able to use them to improve and adapt the implementation for the current situation.\n",
    "\n",
    "On day 54 I said, “Do not make the best solution. Do the solution you need.” There is no best solution. The [law of conservation](https://en.wikipedia.org/wiki/Conservation_of_energy) of energy applies to algorithms, too.\n",
    "\n",
    "You can make trade-offs — memory for speed, speed for effort, effort for readability… And there is no single number to be measured. In every single problem you solve, you have to state your own measure and write the solution that is the best one at the moment.\n",
    "\n",
    "This algorithm proves that the state of optimal game can be uniquely encoded as a sequence of integers. While somewhat obvious observation, there’s a strong relation to [Huffman code](https://medium.com/100-days-of-algorithms/day-14-huffman-codes-d712bbb0cd10) and [Hamming code](https://medium.com/100-days-of-algorithms/day-42-hamming-code-a88cca5b03b4).\n",
    "\n",
    "As a consequence, state of n-disk game can be represented using n bits of memory, and conversely, $n$ bits is the least amount we need for representation. This relates to day 47 and information representation.\n",
    "\n",
    "If you would like to send a secret message to your friend, you might use Hanoi tower! Just encode your message into the game configuration. It’s called [steganography](https://en.wikipedia.org/wiki/Steganography) and until age of [modern cryptography](https://medium.com/100-days-of-algorithms/day-52-rsa-42af376f3017) it was widely used mechanism.\n",
    "\n",
    "It is worth of mentioning that my friend solved this problem in school. He observed that disk position follows certain [congruences](https://medium.com/100-days-of-algorithms/day-13-extended-euclidean-algorithm-f3862b5f8398) and came up with a completely different solution. That makes another relation.\n",
    "\n",
    "The next time you are asked to write a solution for Hanoi tower problem, here is one you should understand now. And I think it’s a good one.<"
   ]
  },
  {
   "cell_type": "markdown",
   "metadata": {},
   "source": [
    "## algorithm"
   ]
  },
  {
   "cell_type": "code",
   "execution_count": 1,
   "metadata": {
    "collapsed": true
   },
   "outputs": [],
   "source": [
    "def get_rods(move, towers, left, middle, right):\n",
    "    if towers:\n",
    "        if (move << 1) & (1 << towers):\n",
    "            right.append(towers)\n",
    "            get_rods(move, towers - 1, middle, left, right)\n",
    "        else:\n",
    "            left.append(towers)\n",
    "            get_rods(move, towers - 1, left, right, middle)"
   ]
  },
  {
   "cell_type": "code",
   "execution_count": 2,
   "metadata": {
    "collapsed": true
   },
   "outputs": [],
   "source": [
    "def get_move(towers, left, middle, right):\n",
    "    if not towers:\n",
    "        return 0\n",
    "    if not left or right and left[0] < right[0]:\n",
    "        move = 1 << (towers - 1)\n",
    "        return move + get_move(towers - 1, middle, left, right[1:])\n",
    "    else:\n",
    "        return get_move(towers - 1, left[1:], right, middle)"
   ]
  },
  {
   "cell_type": "code",
   "execution_count": 3,
   "metadata": {
    "collapsed": true
   },
   "outputs": [],
   "source": [
    "def hanoi(towers):\n",
    "    for i in range(2 ** towers):\n",
    "        rods = [], [], []\n",
    "        get_rods(i, towers, *rods)\n",
    "        move = get_move(towers, *rods)\n",
    "        print('{:2} moves -- {} {} {}'.format(move, *rods))"
   ]
  },
  {
   "cell_type": "markdown",
   "metadata": {},
   "source": [
    "## run"
   ]
  },
  {
   "cell_type": "code",
   "execution_count": 4,
   "metadata": {
    "collapsed": false
   },
   "outputs": [
    {
     "name": "stdout",
     "output_type": "stream",
     "text": [
      " 0 moves -- [2, 1] [] []\n",
      " 1 moves -- [2] [1] []\n",
      " 2 moves -- [] [1] [2]\n",
      " 3 moves -- [] [] [2, 1]\n"
     ]
    }
   ],
   "source": [
    "hanoi(2)"
   ]
  },
  {
   "cell_type": "code",
   "execution_count": 5,
   "metadata": {
    "collapsed": false
   },
   "outputs": [
    {
     "name": "stdout",
     "output_type": "stream",
     "text": [
      " 0 moves -- [3, 2, 1] [] []\n",
      " 1 moves -- [3, 2] [] [1]\n",
      " 2 moves -- [3] [2] [1]\n",
      " 3 moves -- [3] [2, 1] []\n",
      " 4 moves -- [] [2, 1] [3]\n",
      " 5 moves -- [1] [2] [3]\n",
      " 6 moves -- [1] [] [3, 2]\n",
      " 7 moves -- [] [] [3, 2, 1]\n"
     ]
    }
   ],
   "source": [
    "hanoi(3)"
   ]
  },
  {
   "cell_type": "code",
   "execution_count": 6,
   "metadata": {
    "collapsed": false
   },
   "outputs": [
    {
     "name": "stdout",
     "output_type": "stream",
     "text": [
      " 0 moves -- [4, 3, 2, 1] [] []\n",
      " 1 moves -- [4, 3, 2] [1] []\n",
      " 2 moves -- [4, 3] [1] [2]\n",
      " 3 moves -- [4, 3] [] [2, 1]\n",
      " 4 moves -- [4] [3] [2, 1]\n",
      " 5 moves -- [4, 1] [3] [2]\n",
      " 6 moves -- [4, 1] [3, 2] []\n",
      " 7 moves -- [4] [3, 2, 1] []\n",
      " 8 moves -- [] [3, 2, 1] [4]\n",
      " 9 moves -- [] [3, 2] [4, 1]\n",
      "10 moves -- [2] [3] [4, 1]\n",
      "11 moves -- [2, 1] [3] [4]\n",
      "12 moves -- [2, 1] [] [4, 3]\n",
      "13 moves -- [2] [1] [4, 3]\n",
      "14 moves -- [] [1] [4, 3, 2]\n",
      "15 moves -- [] [] [4, 3, 2, 1]\n"
     ]
    }
   ],
   "source": [
    "hanoi(4)"
   ]
  },
  {
   "cell_type": "code",
   "execution_count": 7,
   "metadata": {
    "collapsed": false
   },
   "outputs": [
    {
     "name": "stdout",
     "output_type": "stream",
     "text": [
      " 0 moves -- [5, 4, 3, 2, 1] [] []\n",
      " 1 moves -- [5, 4, 3, 2] [] [1]\n",
      " 2 moves -- [5, 4, 3] [2] [1]\n",
      " 3 moves -- [5, 4, 3] [2, 1] []\n",
      " 4 moves -- [5, 4] [2, 1] [3]\n",
      " 5 moves -- [5, 4, 1] [2] [3]\n",
      " 6 moves -- [5, 4, 1] [] [3, 2]\n",
      " 7 moves -- [5, 4] [] [3, 2, 1]\n",
      " 8 moves -- [5] [4] [3, 2, 1]\n",
      " 9 moves -- [5] [4, 1] [3, 2]\n",
      "10 moves -- [5, 2] [4, 1] [3]\n",
      "11 moves -- [5, 2, 1] [4] [3]\n",
      "12 moves -- [5, 2, 1] [4, 3] []\n",
      "13 moves -- [5, 2] [4, 3] [1]\n",
      "14 moves -- [5] [4, 3, 2] [1]\n",
      "15 moves -- [5] [4, 3, 2, 1] []\n",
      "16 moves -- [] [4, 3, 2, 1] [5]\n",
      "17 moves -- [1] [4, 3, 2] [5]\n",
      "18 moves -- [1] [4, 3] [5, 2]\n",
      "19 moves -- [] [4, 3] [5, 2, 1]\n",
      "20 moves -- [3] [4] [5, 2, 1]\n",
      "21 moves -- [3] [4, 1] [5, 2]\n",
      "22 moves -- [3, 2] [4, 1] [5]\n",
      "23 moves -- [3, 2, 1] [4] [5]\n",
      "24 moves -- [3, 2, 1] [] [5, 4]\n",
      "25 moves -- [3, 2] [] [5, 4, 1]\n",
      "26 moves -- [3] [2] [5, 4, 1]\n",
      "27 moves -- [3] [2, 1] [5, 4]\n",
      "28 moves -- [] [2, 1] [5, 4, 3]\n",
      "29 moves -- [1] [2] [5, 4, 3]\n",
      "30 moves -- [1] [] [5, 4, 3, 2]\n",
      "31 moves -- [] [] [5, 4, 3, 2, 1]\n"
     ]
    }
   ],
   "source": [
    "hanoi(5)"
   ]
  }
 ],
 "metadata": {
  "kernelspec": {
   "display_name": "Python 3",
   "language": "python",
   "name": "python3"
  },
  "language_info": {
   "codemirror_mode": {
    "name": "ipython",
    "version": 3
   },
   "file_extension": ".py",
   "mimetype": "text/x-python",
   "name": "python",
   "nbconvert_exporter": "python",
   "pygments_lexer": "ipython3",
   "version": "3.6.5"
  }
 },
 "nbformat": 4,
 "nbformat_minor": 2
}
