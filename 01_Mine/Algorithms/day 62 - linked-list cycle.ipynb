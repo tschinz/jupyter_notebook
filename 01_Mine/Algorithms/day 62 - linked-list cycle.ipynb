{
 "cells": [
  {
   "cell_type": "markdown",
   "metadata": {},
   "source": [
    "## Linked-list cycle detection\n",
    "The task is to detect and repair a [singly linked list](https://en.wikipedia.org/wiki/Linked_list#Singly_linked_list) that contains cycle. And the solution is fast, very simple and brilliant.\n",
    "\n",
    "Here’s an idea. Iterate through the list using two pointers — slow and fast. Slow pointer iterates node by node, while fast pointer iterates by two nodes. If the pointers meet, there’s a cycle.\n",
    "\n",
    "Let’s use a bit of math to understand how the algorithm works. Denote\n",
    "\n",
    "* N, number of items\n",
    "* C, length of cycle\n",
    "* $T = N-C$, number ofitems out of cycle\n",
    "* k, number of steps inside cycle\n",
    "\n",
    "At first, focus on the simplest case — full cycle; linked list where tail points directly to head and $N = C$.\n",
    "\n",
    "What is the number of steps the algorithm has to do in this case? We know that fast pointer has to iterate twice as many nodes when it meets the slow pointer. That leads to the congruence.\n",
    "\n",
    "$$ k\\equiv2k(modC)$$\n",
    "$$ k\\equiv0(modC)$$\n",
    "$$ k=C=N$$\n",
    "\n",
    "In this simple case the pointers meet at last item. And if you think about it, it’s an intuitive result.\n",
    "\n",
    "But what about general case when tail node points to anywhere in the list? Denote $T$ as number of items that are not part of the cycle and focus at the moment when slow pointer enters the cycle.\n",
    "\n",
    "Slow pointer has made $T$ steps, while fast pointer has made $2T$ steps. And since they both are in the cycle, now, they must follow the same congruence as before.\n",
    "\n",
    "$$ T+k\\equiv2T+2k(modC)$$\n",
    "$$ T+k\\equiv0(modC)$$\n",
    "$$ T+k\\equiv C(modC)$$\n",
    "\n",
    "We know that $k$ is the number of steps made after the slow pointer entered the cycle. The equation says that if we make $T$ more steps, the slow pointer finishes the cycle and ends up after the last item in the list.\n",
    "\n",
    "Hence start another slow pointer from head and iterate through the list until these two slow pointers meet. This will be the position that has to be fixed."
   ]
  },
  {
   "cell_type": "markdown",
   "metadata": {},
   "source": [
    "## algorithm"
   ]
  },
  {
   "cell_type": "code",
   "execution_count": 1,
   "metadata": {
    "collapsed": false
   },
   "outputs": [],
   "source": [
    "def detect_cycle(head):\n",
    "    if not head:\n",
    "        return\n",
    "    \n",
    "    # cycle detection: 2k = k (mod C)\n",
    "    p, q = head, head.next\n",
    "    while q and p is not q:\n",
    "        p, q = p.next, q.next and q.next.next\n",
    "\n",
    "    if p is q:\n",
    "        # cycle removal: k + T = 0 (mod C)\n",
    "        p = head\n",
    "        while p is not q.next:\n",
    "            p, q = p.next, q.next\n",
    "        \n",
    "        # fix the last link\n",
    "        q.next = None\n",
    "        return q"
   ]
  },
  {
   "cell_type": "markdown",
   "metadata": {},
   "source": [
    "## utilities"
   ]
  },
  {
   "cell_type": "code",
   "execution_count": 2,
   "metadata": {
    "collapsed": true
   },
   "outputs": [],
   "source": [
    "class Node:\n",
    "    def __init__(self, **kwargs):\n",
    "        self.__dict__ = kwargs\n",
    "        \n",
    "    def __repr__(self):\n",
    "        return str(self.__dict__)"
   ]
  },
  {
   "cell_type": "code",
   "execution_count": 3,
   "metadata": {
    "collapsed": true
   },
   "outputs": [],
   "source": [
    "def linked_list_with_cycle(length, cycle):\n",
    "    head, tail = None, None\n",
    "    \n",
    "    for i in range(length):\n",
    "        # prepend head\n",
    "        head = Node(value=length - i, next=head)\n",
    "        tail = tail or head\n",
    "        \n",
    "        # make cycle of length C\n",
    "        if i + 1 == cycle:\n",
    "            tail.next = head\n",
    "        \n",
    "    return head"
   ]
  },
  {
   "cell_type": "markdown",
   "metadata": {},
   "source": [
    "## run"
   ]
  },
  {
   "cell_type": "code",
   "execution_count": 4,
   "metadata": {
    "collapsed": false
   },
   "outputs": [
    {
     "name": "stdout",
     "output_type": "stream",
     "text": [
      "{'value': 1, 'next': {'value': 2, 'next': {'value': 3, 'next': {'value': 4, 'next': {'value': 5, 'next': {'value': 6, 'next': {'value': 7, 'next': {'value': 8, 'next': {'value': 9, 'next': {'value': 10, 'next': {...}}}}}}}}}}}\n"
     ]
    },
    {
     "data": {
      "text/plain": [
       "{'value': 10, 'next': None}"
      ]
     },
     "execution_count": 4,
     "metadata": {},
     "output_type": "execute_result"
    }
   ],
   "source": [
    "linked_list = linked_list_with_cycle(10, 4)\n",
    "print(linked_list)\n",
    "detect_cycle(linked_list)"
   ]
  },
  {
   "cell_type": "code",
   "execution_count": 5,
   "metadata": {
    "collapsed": false
   },
   "outputs": [
    {
     "data": {
      "text/plain": [
       "{'value': 5, 'next': None}"
      ]
     },
     "execution_count": 5,
     "metadata": {},
     "output_type": "execute_result"
    }
   ],
   "source": [
    "linked_list = linked_list_with_cycle(5, 1)\n",
    "detect_cycle(linked_list)"
   ]
  },
  {
   "cell_type": "code",
   "execution_count": 6,
   "metadata": {
    "collapsed": false
   },
   "outputs": [
    {
     "data": {
      "text/plain": [
       "{'value': 10, 'next': None}"
      ]
     },
     "execution_count": 6,
     "metadata": {},
     "output_type": "execute_result"
    }
   ],
   "source": [
    "linked_list = linked_list_with_cycle(10, 5)\n",
    "detect_cycle(linked_list)"
   ]
  },
  {
   "cell_type": "code",
   "execution_count": 7,
   "metadata": {
    "collapsed": false
   },
   "outputs": [
    {
     "data": {
      "text/plain": [
       "{'value': 25, 'next': None}"
      ]
     },
     "execution_count": 7,
     "metadata": {},
     "output_type": "execute_result"
    }
   ],
   "source": [
    "linked_list = linked_list_with_cycle(25, 25)\n",
    "detect_cycle(linked_list)"
   ]
  }
 ],
 "metadata": {
  "kernelspec": {
   "display_name": "Python 3",
   "language": "python",
   "name": "python3"
  },
  "language_info": {
   "codemirror_mode": {
    "name": "ipython",
    "version": 3
   },
   "file_extension": ".py",
   "mimetype": "text/x-python",
   "name": "python",
   "nbconvert_exporter": "python",
   "pygments_lexer": "ipython3",
   "version": "3.6.5"
  }
 },
 "nbformat": 4,
 "nbformat_minor": 2
}
