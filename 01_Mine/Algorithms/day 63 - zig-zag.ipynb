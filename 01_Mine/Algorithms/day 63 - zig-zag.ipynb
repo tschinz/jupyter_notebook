{
 "cells": [
  {
   "cell_type": "markdown",
   "metadata": {},
   "source": [
    "# Zig-zag\n",
    "[Zig-zag scan](https://en.wikipedia.org/wiki/JPEG#Entropy_coding) of a matrix is useful when you transform your 2D data between domains and the transformation tends to accumulate information into top left corner.\n",
    "\n",
    "An example is [JPEG](https://en.wikipedia.org/wiki/JPEG) image compression with [discrete cosine transform](https://en.wikipedia.org/wiki/Discrete_cosine_transform), which accumulates energy to the left [in 1D] and top [in 2D].\n",
    "\n",
    "![ZigZag 1](resource/day63-zigzag_1.png)\n",
    "\n",
    "To approach the problem, it’s best to look at the matrix and notice some numerical rules.\n",
    "\n",
    "![ZigZag 2](resource/day63-zigzag_2.png)\n",
    "\n",
    "\n",
    "* indices `[i, j]` at each consecutive scan sum up to the same value, e.g `[0, 3] [1, 2] [2, 1] [3, 0]` sum up to `3`\n",
    "* the direction of a scan alters between odd and even positions of the first item `[i, 0]`\n",
    "* scan at position `[i, 0]` is preceded by `1+2+…+i = i*(i+1)/2` items\n",
    "* when the matrix is split at minor diagonal, the values in top-left and bottom-right triangles follow the equation\n",
    "* bottom-right`[i, j] == n²-1 — top-left[n-1-i, n-1-j]`\n",
    "\n",
    "Now we have enough information to write both conversions, from value to index and from index to value."
   ]
  },
  {
   "cell_type": "code",
   "execution_count": 1,
   "metadata": {
    "collapsed": true
   },
   "outputs": [],
   "source": [
    "import numpy as np"
   ]
  },
  {
   "cell_type": "markdown",
   "metadata": {},
   "source": [
    "## algorithm"
   ]
  },
  {
   "cell_type": "code",
   "execution_count": 2,
   "metadata": {
    "collapsed": true
   },
   "outputs": [],
   "source": [
    "def zig_zag_index(k, n):\n",
    "    # upper side of interval\n",
    "    if k >= n * (n + 1) // 2:\n",
    "        i, j = zig_zag_index(n * n - 1 - k, n)\n",
    "        return n - 1 - i, n - 1 - j\n",
    "\n",
    "    # lower side of interval\n",
    "    i = int((np.sqrt(1 + 8 * k) - 1) / 2)\n",
    "    j = k - i * (i + 1) // 2\n",
    "    return (j, i - j) if i & 1 else (i - j, j)"
   ]
  },
  {
   "cell_type": "code",
   "execution_count": 3,
   "metadata": {
    "collapsed": true
   },
   "outputs": [],
   "source": [
    "def zig_zag_value(i, j, n):\n",
    "    # upper side of interval\n",
    "    if i + j >= n:\n",
    "        return n * n - 1 - zig_zag_value(n - 1 - i, n - 1 - j, n)\n",
    "\n",
    "    # lower side of interval\n",
    "    k = (i + j) * (i + j + 1) // 2\n",
    "    return k + i if (i + j) & 1 else k + j"
   ]
  },
  {
   "cell_type": "markdown",
   "metadata": {},
   "source": [
    "## run"
   ]
  },
  {
   "cell_type": "code",
   "execution_count": 4,
   "metadata": {
    "collapsed": true
   },
   "outputs": [],
   "source": [
    "n = 10"
   ]
  },
  {
   "cell_type": "code",
   "execution_count": 5,
   "metadata": {
    "collapsed": false
   },
   "outputs": [
    {
     "data": {
      "text/plain": [
       "array([[ 0,  1,  5,  6, 14, 15, 27, 28, 44, 45],\n",
       "       [ 2,  4,  7, 13, 16, 26, 29, 43, 46, 63],\n",
       "       [ 3,  8, 12, 17, 25, 30, 42, 47, 62, 64],\n",
       "       [ 9, 11, 18, 24, 31, 41, 48, 61, 65, 78],\n",
       "       [10, 19, 23, 32, 40, 49, 60, 66, 77, 79],\n",
       "       [20, 22, 33, 39, 50, 59, 67, 76, 80, 89],\n",
       "       [21, 34, 38, 51, 58, 68, 75, 81, 88, 90],\n",
       "       [35, 37, 52, 57, 69, 74, 82, 87, 91, 96],\n",
       "       [36, 53, 56, 70, 73, 83, 86, 92, 95, 97],\n",
       "       [54, 55, 71, 72, 84, 85, 93, 94, 98, 99]])"
      ]
     },
     "execution_count": 5,
     "metadata": {},
     "output_type": "execute_result"
    }
   ],
   "source": [
    "M = np.zeros((n, n), dtype=int)\n",
    "for i in range(n):\n",
    "    for j in range(n):\n",
    "        M[i, j] = zig_zag_value(i, j, n)\n",
    "M"
   ]
  },
  {
   "cell_type": "code",
   "execution_count": 6,
   "metadata": {
    "collapsed": false
   },
   "outputs": [
    {
     "data": {
      "text/plain": [
       "array([[ 0,  1,  5,  6, 14, 15, 27, 28, 44, 45],\n",
       "       [ 2,  4,  7, 13, 16, 26, 29, 43, 46, 63],\n",
       "       [ 3,  8, 12, 17, 25, 30, 42, 47, 62, 64],\n",
       "       [ 9, 11, 18, 24, 31, 41, 48, 61, 65, 78],\n",
       "       [10, 19, 23, 32, 40, 49, 60, 66, 77, 79],\n",
       "       [20, 22, 33, 39, 50, 59, 67, 76, 80, 89],\n",
       "       [21, 34, 38, 51, 58, 68, 75, 81, 88, 90],\n",
       "       [35, 37, 52, 57, 69, 74, 82, 87, 91, 96],\n",
       "       [36, 53, 56, 70, 73, 83, 86, 92, 95, 97],\n",
       "       [54, 55, 71, 72, 84, 85, 93, 94, 98, 99]])"
      ]
     },
     "execution_count": 6,
     "metadata": {},
     "output_type": "execute_result"
    }
   ],
   "source": [
    "M = np.zeros((n, n), dtype=int)\n",
    "for k in range(n * n):\n",
    "    M[zig_zag_index(k, n)] = k\n",
    "M"
   ]
  }
 ],
 "metadata": {
  "kernelspec": {
   "display_name": "Python 3",
   "language": "python",
   "name": "python3"
  },
  "language_info": {
   "codemirror_mode": {
    "name": "ipython",
    "version": 3
   },
   "file_extension": ".py",
   "mimetype": "text/x-python",
   "name": "python",
   "nbconvert_exporter": "python",
   "pygments_lexer": "ipython3",
   "version": "3.6.5"
  }
 },
 "nbformat": 4,
 "nbformat_minor": 2
}
