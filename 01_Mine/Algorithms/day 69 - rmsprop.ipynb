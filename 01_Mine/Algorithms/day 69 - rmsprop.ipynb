{
 "cells": [
  {
   "cell_type": "markdown",
   "metadata": {},
   "source": [
    "# rmsprop\n",
    "What about some machine learning related topic, today? Rmsprop is a gradient-based optimization technique proposed by [Geoffrey Hinton at his Neural Networks](http://www.cs.toronto.edu/~tijmen/csc321/slides/lecture_slides_lec6.pdf) Coursera course.\n",
    "\n",
    "The concept of neural networks has been known for decades, but researchers have been failing to train any kind of slightly complex network. While there were more reasons to that, the one that was very hard to address was a gradient magnitude.\n",
    "\n",
    "Gradients of very complex functions like neural networks have a tendency to either vanish or explode as the energy is propagated through the function. And the effect has a cumulative nature — the more complex the function is, the worse the problem becomes.\n",
    "\n",
    "Rmsprop is a very clever way to deal with the problem. It uses a moving average of squared gradients to normalize the gradient itself. That has an effect of balancing the step size — decrease the step for large gradient to avoid exploding, and increase the step for small gradient to avoid vanishing.\n",
    "\n",
    "I have implemented three versions of gradient-based techniques.\n",
    "\n",
    "* [simple] gradient descent\n",
    "* rmsprop\n",
    "* rmsprop with momentum\n",
    "\n",
    "And I will use them to find an inversion of matrix `A`. The loss function will be a squared difference between `AX` and unit matrix `I` with the corresponding derivative.\n",
    "\n",
    "$$ AX = I $$\n",
    "$$ F(x) = \\sum_{i,j}(AX-I)_{i,j}^2 $$\n",
    "$$ \\Delta F(X) = 2A^T (AX-I) $$\n",
    "\n",
    "Here is the plot of loss function for each method with respect to the number of steps.\n",
    "\n",
    "![plot](resource/day69-rmsprop.png)\n",
    "\n",
    "I need to say, this example is non-representative. Rmsprop was developed as a stochastic technique for mini-batch learning and in this toy function has a little chance to show how good it really is.\n",
    "\n",
    "It is no surprise that momentum is the real deal, yet, rmsprop is still doing quite well."
   ]
  },
  {
   "cell_type": "code",
   "execution_count": 1,
   "metadata": {
    "collapsed": true
   },
   "outputs": [],
   "source": [
    "import numpy as np\n",
    "from bokeh.plotting import figure, show, output_notebook"
   ]
  },
  {
   "cell_type": "markdown",
   "metadata": {},
   "source": [
    "## algorithm"
   ]
  },
  {
   "cell_type": "code",
   "execution_count": 2,
   "metadata": {
    "collapsed": false
   },
   "outputs": [],
   "source": [
    "def gradient_descent(F, dF, x, steps=100, lr=0.001):\n",
    "    loss = []\n",
    "    \n",
    "    for _ in range(steps):\n",
    "        dx = dF(x)\n",
    "        x -= lr * dx\n",
    "        loss.append(F(x))\n",
    "\n",
    "    return x, loss"
   ]
  },
  {
   "cell_type": "code",
   "execution_count": 3,
   "metadata": {
    "collapsed": true
   },
   "outputs": [],
   "source": [
    "def rmsprop(F, dF, x, steps=100, lr=0.001, decay=.9, eps=1e-8):\n",
    "    loss = []\n",
    "    dx_mean_sqr = np.zeros(x.shape, dtype=float)\n",
    "\n",
    "    for _ in range(steps):\n",
    "        dx = dF(x)\n",
    "        dx_mean_sqr = decay * dx_mean_sqr + (1 - decay) * dx ** 2\n",
    "        x -= lr * dx / (np.sqrt(dx_mean_sqr) + eps)\n",
    "        loss.append(F(x))\n",
    "    \n",
    "    return x, loss"
   ]
  },
  {
   "cell_type": "code",
   "execution_count": 4,
   "metadata": {
    "collapsed": true
   },
   "outputs": [],
   "source": [
    "def rmsprop_momentum(F, dF, x, steps=100, lr=0.001, decay=.9, eps=1e-8, mu=.9):\n",
    "    loss = []\n",
    "    dx_mean_sqr = np.zeros(x.shape, dtype=float)\n",
    "    momentum = np.zeros(x.shape, dtype=float)\n",
    "\n",
    "    for _ in range(steps):\n",
    "        dx = dF(x)\n",
    "        dx_mean_sqr = decay * dx_mean_sqr + (1 - decay) * dx ** 2\n",
    "        momentum = mu * momentum + lr * dx / (np.sqrt(dx_mean_sqr) + eps)\n",
    "        x -= momentum\n",
    "        loss.append(F(x))\n",
    "\n",
    "    return x, loss"
   ]
  },
  {
   "cell_type": "markdown",
   "metadata": {},
   "source": [
    "## function"
   ]
  },
  {
   "cell_type": "code",
   "execution_count": 5,
   "metadata": {
    "collapsed": true
   },
   "outputs": [],
   "source": [
    "def F(x):\n",
    "    residual = A @ x - np.eye(len(A), dtype=float)\n",
    "    return np.sum(residual ** 2)"
   ]
  },
  {
   "cell_type": "code",
   "execution_count": 6,
   "metadata": {
    "collapsed": true
   },
   "outputs": [],
   "source": [
    "def dF(x):\n",
    "    return 2 * A.T @ (A @ x - np.eye(len(A), dtype=float))"
   ]
  },
  {
   "cell_type": "code",
   "execution_count": 7,
   "metadata": {
    "collapsed": true
   },
   "outputs": [],
   "source": [
    "A = np.array([\n",
    "    [2, 5, 1, 4, 6],\n",
    "    [3, 5, 0, 0, 0],\n",
    "    [1, 1, 0, 3, 8],\n",
    "    [6, 6, 2, 2, 1],\n",
    "    [8, 3, 5, 1, 4],\n",
    "], dtype=float)"
   ]
  },
  {
   "cell_type": "markdown",
   "metadata": {},
   "source": [
    "## optimization"
   ]
  },
  {
   "cell_type": "code",
   "execution_count": 8,
   "metadata": {
    "collapsed": false
   },
   "outputs": [
    {
     "data": {
      "text/plain": [
       "(array([[ 0.79, -0.01,  0.18,  0.19, -0.08],\n",
       "        [-0.01,  0.8 ,  0.  ,  0.2 , -0.07],\n",
       "        [ 0.18,  0.  ,  0.85, -0.15,  0.07],\n",
       "        [ 0.19,  0.2 , -0.15,  0.66,  0.13],\n",
       "        [-0.08, -0.07,  0.07,  0.13,  0.95]]), 0.5469198476714346)"
      ]
     },
     "execution_count": 8,
     "metadata": {},
     "output_type": "execute_result"
    }
   ],
   "source": [
    "X, loss1 = gradient_descent(F, dF, A * 0, steps=300)\n",
    "(A @ X).round(2), loss1[-1]"
   ]
  },
  {
   "cell_type": "code",
   "execution_count": 9,
   "metadata": {
    "collapsed": false
   },
   "outputs": [
    {
     "data": {
      "text/plain": [
       "(array([[ 0.84, -0.05,  0.1 ,  0.1 , -0.04],\n",
       "        [-0.04,  0.82,  0.03,  0.19, -0.03],\n",
       "        [ 0.12,  0.03,  0.9 , -0.08,  0.04],\n",
       "        [ 0.15,  0.2 , -0.12,  0.75,  0.07],\n",
       "        [-0.08, -0.09,  0.04,  0.1 ,  0.99]]), 0.32394771623791685)"
      ]
     },
     "execution_count": 9,
     "metadata": {},
     "output_type": "execute_result"
    }
   ],
   "source": [
    "X, loss2 = rmsprop(F, dF, A * 0, steps=300)\n",
    "(A @ X).round(2), loss2[-1]"
   ]
  },
  {
   "cell_type": "code",
   "execution_count": 10,
   "metadata": {
    "collapsed": false
   },
   "outputs": [
    {
     "data": {
      "text/plain": [
       "(array([[ 0.99,  0.01,  0.  , -0.01,  0.  ],\n",
       "        [-0.  ,  1.  ,  0.  , -0.  ,  0.  ],\n",
       "        [-0.  ,  0.01,  1.  , -0.01,  0.  ],\n",
       "        [-0.01,  0.01,  0.  ,  0.99,  0.  ],\n",
       "        [-0.01,  0.01,  0.  , -0.01,  1.  ]]), 0.0006230388777262454)"
      ]
     },
     "execution_count": 10,
     "metadata": {},
     "output_type": "execute_result"
    }
   ],
   "source": [
    "X, loss3 = rmsprop_momentum(F, dF, A * 0, steps=300)\n",
    "(A @ X).round(2), loss3[-1]"
   ]
  },
  {
   "cell_type": "code",
   "execution_count": 11,
   "metadata": {
    "collapsed": false
   },
   "outputs": [
    {
     "data": {
      "text/html": [
       "\n",
       "    <div class=\"bk-root\">\n",
       "        <a href=\"https://bokeh.pydata.org\" target=\"_blank\" class=\"bk-logo bk-logo-small bk-logo-notebook\"></a>\n",
       "        <span id=\"40b6877e-e15b-4536-a7e0-ce77c8d096b6\">Loading BokehJS ...</span>\n",
       "    </div>"
      ]
     },
     "metadata": {},
     "output_type": "display_data"
    },
    {
     "data": {
      "application/javascript": [
       "\n",
       "(function(root) {\n",
       "  function now() {\n",
       "    return new Date();\n",
       "  }\n",
       "\n",
       "  var force = true;\n",
       "\n",
       "  if (typeof (root._bokeh_onload_callbacks) === \"undefined\" || force === true) {\n",
       "    root._bokeh_onload_callbacks = [];\n",
       "    root._bokeh_is_loading = undefined;\n",
       "  }\n",
       "\n",
       "  var JS_MIME_TYPE = 'application/javascript';\n",
       "  var HTML_MIME_TYPE = 'text/html';\n",
       "  var EXEC_MIME_TYPE = 'application/vnd.bokehjs_exec.v0+json';\n",
       "  var CLASS_NAME = 'output_bokeh rendered_html';\n",
       "\n",
       "  /**\n",
       "   * Render data to the DOM node\n",
       "   */\n",
       "  function render(props, node) {\n",
       "    var script = document.createElement(\"script\");\n",
       "    node.appendChild(script);\n",
       "  }\n",
       "\n",
       "  /**\n",
       "   * Handle when an output is cleared or removed\n",
       "   */\n",
       "  function handleClearOutput(event, handle) {\n",
       "    var cell = handle.cell;\n",
       "\n",
       "    var id = cell.output_area._bokeh_element_id;\n",
       "    var server_id = cell.output_area._bokeh_server_id;\n",
       "    // Clean up Bokeh references\n",
       "    if (id !== undefined) {\n",
       "      Bokeh.index[id].model.document.clear();\n",
       "      delete Bokeh.index[id];\n",
       "    }\n",
       "\n",
       "    if (server_id !== undefined) {\n",
       "      // Clean up Bokeh references\n",
       "      var cmd = \"from bokeh.io.state import curstate; print(curstate().uuid_to_server['\" + server_id + \"'].get_sessions()[0].document.roots[0]._id)\";\n",
       "      cell.notebook.kernel.execute(cmd, {\n",
       "        iopub: {\n",
       "          output: function(msg) {\n",
       "            var element_id = msg.content.text.trim();\n",
       "            Bokeh.index[element_id].model.document.clear();\n",
       "            delete Bokeh.index[element_id];\n",
       "          }\n",
       "        }\n",
       "      });\n",
       "      // Destroy server and session\n",
       "      var cmd = \"import bokeh.io.notebook as ion; ion.destroy_server('\" + server_id + \"')\";\n",
       "      cell.notebook.kernel.execute(cmd);\n",
       "    }\n",
       "  }\n",
       "\n",
       "  /**\n",
       "   * Handle when a new output is added\n",
       "   */\n",
       "  function handleAddOutput(event, handle) {\n",
       "    var output_area = handle.output_area;\n",
       "    var output = handle.output;\n",
       "\n",
       "    // limit handleAddOutput to display_data with EXEC_MIME_TYPE content only\n",
       "    if ((output.output_type != \"display_data\") || (!output.data.hasOwnProperty(EXEC_MIME_TYPE))) {\n",
       "      return\n",
       "    }\n",
       "\n",
       "    var toinsert = output_area.element.find(\".\" + CLASS_NAME.split(' ')[0]);\n",
       "\n",
       "    if (output.metadata[EXEC_MIME_TYPE][\"id\"] !== undefined) {\n",
       "      toinsert[toinsert.length - 1].firstChild.textContent = output.data[JS_MIME_TYPE];\n",
       "      // store reference to embed id on output_area\n",
       "      output_area._bokeh_element_id = output.metadata[EXEC_MIME_TYPE][\"id\"];\n",
       "    }\n",
       "    if (output.metadata[EXEC_MIME_TYPE][\"server_id\"] !== undefined) {\n",
       "      var bk_div = document.createElement(\"div\");\n",
       "      bk_div.innerHTML = output.data[HTML_MIME_TYPE];\n",
       "      var script_attrs = bk_div.children[0].attributes;\n",
       "      for (var i = 0; i < script_attrs.length; i++) {\n",
       "        toinsert[toinsert.length - 1].firstChild.setAttribute(script_attrs[i].name, script_attrs[i].value);\n",
       "      }\n",
       "      // store reference to server id on output_area\n",
       "      output_area._bokeh_server_id = output.metadata[EXEC_MIME_TYPE][\"server_id\"];\n",
       "    }\n",
       "  }\n",
       "\n",
       "  function register_renderer(events, OutputArea) {\n",
       "\n",
       "    function append_mime(data, metadata, element) {\n",
       "      // create a DOM node to render to\n",
       "      var toinsert = this.create_output_subarea(\n",
       "        metadata,\n",
       "        CLASS_NAME,\n",
       "        EXEC_MIME_TYPE\n",
       "      );\n",
       "      this.keyboard_manager.register_events(toinsert);\n",
       "      // Render to node\n",
       "      var props = {data: data, metadata: metadata[EXEC_MIME_TYPE]};\n",
       "      render(props, toinsert[toinsert.length - 1]);\n",
       "      element.append(toinsert);\n",
       "      return toinsert\n",
       "    }\n",
       "\n",
       "    /* Handle when an output is cleared or removed */\n",
       "    events.on('clear_output.CodeCell', handleClearOutput);\n",
       "    events.on('delete.Cell', handleClearOutput);\n",
       "\n",
       "    /* Handle when a new output is added */\n",
       "    events.on('output_added.OutputArea', handleAddOutput);\n",
       "\n",
       "    /**\n",
       "     * Register the mime type and append_mime function with output_area\n",
       "     */\n",
       "    OutputArea.prototype.register_mime_type(EXEC_MIME_TYPE, append_mime, {\n",
       "      /* Is output safe? */\n",
       "      safe: true,\n",
       "      /* Index of renderer in `output_area.display_order` */\n",
       "      index: 0\n",
       "    });\n",
       "  }\n",
       "\n",
       "  // register the mime type if in Jupyter Notebook environment and previously unregistered\n",
       "  if (root.Jupyter !== undefined) {\n",
       "    var events = require('base/js/events');\n",
       "    var OutputArea = require('notebook/js/outputarea').OutputArea;\n",
       "\n",
       "    if (OutputArea.prototype.mime_types().indexOf(EXEC_MIME_TYPE) == -1) {\n",
       "      register_renderer(events, OutputArea);\n",
       "    }\n",
       "  }\n",
       "\n",
       "  \n",
       "  if (typeof (root._bokeh_timeout) === \"undefined\" || force === true) {\n",
       "    root._bokeh_timeout = Date.now() + 5000;\n",
       "    root._bokeh_failed_load = false;\n",
       "  }\n",
       "\n",
       "  var NB_LOAD_WARNING = {'data': {'text/html':\n",
       "     \"<div style='background-color: #fdd'>\\n\"+\n",
       "     \"<p>\\n\"+\n",
       "     \"BokehJS does not appear to have successfully loaded. If loading BokehJS from CDN, this \\n\"+\n",
       "     \"may be due to a slow or bad network connection. Possible fixes:\\n\"+\n",
       "     \"</p>\\n\"+\n",
       "     \"<ul>\\n\"+\n",
       "     \"<li>re-rerun `output_notebook()` to attempt to load from CDN again, or</li>\\n\"+\n",
       "     \"<li>use INLINE resources instead, as so:</li>\\n\"+\n",
       "     \"</ul>\\n\"+\n",
       "     \"<code>\\n\"+\n",
       "     \"from bokeh.resources import INLINE\\n\"+\n",
       "     \"output_notebook(resources=INLINE)\\n\"+\n",
       "     \"</code>\\n\"+\n",
       "     \"</div>\"}};\n",
       "\n",
       "  function display_loaded() {\n",
       "    var el = document.getElementById(\"40b6877e-e15b-4536-a7e0-ce77c8d096b6\");\n",
       "    if (el != null) {\n",
       "      el.textContent = \"BokehJS is loading...\";\n",
       "    }\n",
       "    if (root.Bokeh !== undefined) {\n",
       "      if (el != null) {\n",
       "        el.textContent = \"BokehJS \" + root.Bokeh.version + \" successfully loaded.\";\n",
       "      }\n",
       "    } else if (Date.now() < root._bokeh_timeout) {\n",
       "      setTimeout(display_loaded, 100)\n",
       "    }\n",
       "  }\n",
       "\n",
       "\n",
       "  function run_callbacks() {\n",
       "    try {\n",
       "      root._bokeh_onload_callbacks.forEach(function(callback) { callback() });\n",
       "    }\n",
       "    finally {\n",
       "      delete root._bokeh_onload_callbacks\n",
       "    }\n",
       "    console.info(\"Bokeh: all callbacks have finished\");\n",
       "  }\n",
       "\n",
       "  function load_libs(js_urls, callback) {\n",
       "    root._bokeh_onload_callbacks.push(callback);\n",
       "    if (root._bokeh_is_loading > 0) {\n",
       "      console.log(\"Bokeh: BokehJS is being loaded, scheduling callback at\", now());\n",
       "      return null;\n",
       "    }\n",
       "    if (js_urls == null || js_urls.length === 0) {\n",
       "      run_callbacks();\n",
       "      return null;\n",
       "    }\n",
       "    console.log(\"Bokeh: BokehJS not loaded, scheduling load and callback at\", now());\n",
       "    root._bokeh_is_loading = js_urls.length;\n",
       "    for (var i = 0; i < js_urls.length; i++) {\n",
       "      var url = js_urls[i];\n",
       "      var s = document.createElement('script');\n",
       "      s.src = url;\n",
       "      s.async = false;\n",
       "      s.onreadystatechange = s.onload = function() {\n",
       "        root._bokeh_is_loading--;\n",
       "        if (root._bokeh_is_loading === 0) {\n",
       "          console.log(\"Bokeh: all BokehJS libraries loaded\");\n",
       "          run_callbacks()\n",
       "        }\n",
       "      };\n",
       "      s.onerror = function() {\n",
       "        console.warn(\"failed to load library \" + url);\n",
       "      };\n",
       "      console.log(\"Bokeh: injecting script tag for BokehJS library: \", url);\n",
       "      document.getElementsByTagName(\"head\")[0].appendChild(s);\n",
       "    }\n",
       "  };var element = document.getElementById(\"40b6877e-e15b-4536-a7e0-ce77c8d096b6\");\n",
       "  if (element == null) {\n",
       "    console.log(\"Bokeh: ERROR: autoload.js configured with elementid '40b6877e-e15b-4536-a7e0-ce77c8d096b6' but no matching script tag was found. \")\n",
       "    return false;\n",
       "  }\n",
       "\n",
       "  var js_urls = [\"https://cdn.pydata.org/bokeh/release/bokeh-0.12.16.min.js\", \"https://cdn.pydata.org/bokeh/release/bokeh-widgets-0.12.16.min.js\", \"https://cdn.pydata.org/bokeh/release/bokeh-tables-0.12.16.min.js\", \"https://cdn.pydata.org/bokeh/release/bokeh-gl-0.12.16.min.js\"];\n",
       "\n",
       "  var inline_js = [\n",
       "    function(Bokeh) {\n",
       "      Bokeh.set_log_level(\"info\");\n",
       "    },\n",
       "    \n",
       "    function(Bokeh) {\n",
       "      \n",
       "    },\n",
       "    function(Bokeh) {\n",
       "      console.log(\"Bokeh: injecting CSS: https://cdn.pydata.org/bokeh/release/bokeh-0.12.16.min.css\");\n",
       "      Bokeh.embed.inject_css(\"https://cdn.pydata.org/bokeh/release/bokeh-0.12.16.min.css\");\n",
       "      console.log(\"Bokeh: injecting CSS: https://cdn.pydata.org/bokeh/release/bokeh-widgets-0.12.16.min.css\");\n",
       "      Bokeh.embed.inject_css(\"https://cdn.pydata.org/bokeh/release/bokeh-widgets-0.12.16.min.css\");\n",
       "      console.log(\"Bokeh: injecting CSS: https://cdn.pydata.org/bokeh/release/bokeh-tables-0.12.16.min.css\");\n",
       "      Bokeh.embed.inject_css(\"https://cdn.pydata.org/bokeh/release/bokeh-tables-0.12.16.min.css\");\n",
       "    }\n",
       "  ];\n",
       "\n",
       "  function run_inline_js() {\n",
       "    \n",
       "    if ((root.Bokeh !== undefined) || (force === true)) {\n",
       "      for (var i = 0; i < inline_js.length; i++) {\n",
       "        inline_js[i].call(root, root.Bokeh);\n",
       "      }if (force === true) {\n",
       "        display_loaded();\n",
       "      }} else if (Date.now() < root._bokeh_timeout) {\n",
       "      setTimeout(run_inline_js, 100);\n",
       "    } else if (!root._bokeh_failed_load) {\n",
       "      console.log(\"Bokeh: BokehJS failed to load within specified timeout.\");\n",
       "      root._bokeh_failed_load = true;\n",
       "    } else if (force !== true) {\n",
       "      var cell = $(document.getElementById(\"40b6877e-e15b-4536-a7e0-ce77c8d096b6\")).parents('.cell').data().cell;\n",
       "      cell.output_area.append_execute_result(NB_LOAD_WARNING)\n",
       "    }\n",
       "\n",
       "  }\n",
       "\n",
       "  if (root._bokeh_is_loading === 0) {\n",
       "    console.log(\"Bokeh: BokehJS loaded, going straight to plotting\");\n",
       "    run_inline_js();\n",
       "  } else {\n",
       "    load_libs(js_urls, function() {\n",
       "      console.log(\"Bokeh: BokehJS plotting callback run at\", now());\n",
       "      run_inline_js();\n",
       "    });\n",
       "  }\n",
       "}(window));"
      ],
      "application/vnd.bokehjs_load.v0+json": "\n(function(root) {\n  function now() {\n    return new Date();\n  }\n\n  var force = true;\n\n  if (typeof (root._bokeh_onload_callbacks) === \"undefined\" || force === true) {\n    root._bokeh_onload_callbacks = [];\n    root._bokeh_is_loading = undefined;\n  }\n\n  \n\n  \n  if (typeof (root._bokeh_timeout) === \"undefined\" || force === true) {\n    root._bokeh_timeout = Date.now() + 5000;\n    root._bokeh_failed_load = false;\n  }\n\n  var NB_LOAD_WARNING = {'data': {'text/html':\n     \"<div style='background-color: #fdd'>\\n\"+\n     \"<p>\\n\"+\n     \"BokehJS does not appear to have successfully loaded. If loading BokehJS from CDN, this \\n\"+\n     \"may be due to a slow or bad network connection. Possible fixes:\\n\"+\n     \"</p>\\n\"+\n     \"<ul>\\n\"+\n     \"<li>re-rerun `output_notebook()` to attempt to load from CDN again, or</li>\\n\"+\n     \"<li>use INLINE resources instead, as so:</li>\\n\"+\n     \"</ul>\\n\"+\n     \"<code>\\n\"+\n     \"from bokeh.resources import INLINE\\n\"+\n     \"output_notebook(resources=INLINE)\\n\"+\n     \"</code>\\n\"+\n     \"</div>\"}};\n\n  function display_loaded() {\n    var el = document.getElementById(\"40b6877e-e15b-4536-a7e0-ce77c8d096b6\");\n    if (el != null) {\n      el.textContent = \"BokehJS is loading...\";\n    }\n    if (root.Bokeh !== undefined) {\n      if (el != null) {\n        el.textContent = \"BokehJS \" + root.Bokeh.version + \" successfully loaded.\";\n      }\n    } else if (Date.now() < root._bokeh_timeout) {\n      setTimeout(display_loaded, 100)\n    }\n  }\n\n\n  function run_callbacks() {\n    try {\n      root._bokeh_onload_callbacks.forEach(function(callback) { callback() });\n    }\n    finally {\n      delete root._bokeh_onload_callbacks\n    }\n    console.info(\"Bokeh: all callbacks have finished\");\n  }\n\n  function load_libs(js_urls, callback) {\n    root._bokeh_onload_callbacks.push(callback);\n    if (root._bokeh_is_loading > 0) {\n      console.log(\"Bokeh: BokehJS is being loaded, scheduling callback at\", now());\n      return null;\n    }\n    if (js_urls == null || js_urls.length === 0) {\n      run_callbacks();\n      return null;\n    }\n    console.log(\"Bokeh: BokehJS not loaded, scheduling load and callback at\", now());\n    root._bokeh_is_loading = js_urls.length;\n    for (var i = 0; i < js_urls.length; i++) {\n      var url = js_urls[i];\n      var s = document.createElement('script');\n      s.src = url;\n      s.async = false;\n      s.onreadystatechange = s.onload = function() {\n        root._bokeh_is_loading--;\n        if (root._bokeh_is_loading === 0) {\n          console.log(\"Bokeh: all BokehJS libraries loaded\");\n          run_callbacks()\n        }\n      };\n      s.onerror = function() {\n        console.warn(\"failed to load library \" + url);\n      };\n      console.log(\"Bokeh: injecting script tag for BokehJS library: \", url);\n      document.getElementsByTagName(\"head\")[0].appendChild(s);\n    }\n  };var element = document.getElementById(\"40b6877e-e15b-4536-a7e0-ce77c8d096b6\");\n  if (element == null) {\n    console.log(\"Bokeh: ERROR: autoload.js configured with elementid '40b6877e-e15b-4536-a7e0-ce77c8d096b6' but no matching script tag was found. \")\n    return false;\n  }\n\n  var js_urls = [\"https://cdn.pydata.org/bokeh/release/bokeh-0.12.16.min.js\", \"https://cdn.pydata.org/bokeh/release/bokeh-widgets-0.12.16.min.js\", \"https://cdn.pydata.org/bokeh/release/bokeh-tables-0.12.16.min.js\", \"https://cdn.pydata.org/bokeh/release/bokeh-gl-0.12.16.min.js\"];\n\n  var inline_js = [\n    function(Bokeh) {\n      Bokeh.set_log_level(\"info\");\n    },\n    \n    function(Bokeh) {\n      \n    },\n    function(Bokeh) {\n      console.log(\"Bokeh: injecting CSS: https://cdn.pydata.org/bokeh/release/bokeh-0.12.16.min.css\");\n      Bokeh.embed.inject_css(\"https://cdn.pydata.org/bokeh/release/bokeh-0.12.16.min.css\");\n      console.log(\"Bokeh: injecting CSS: https://cdn.pydata.org/bokeh/release/bokeh-widgets-0.12.16.min.css\");\n      Bokeh.embed.inject_css(\"https://cdn.pydata.org/bokeh/release/bokeh-widgets-0.12.16.min.css\");\n      console.log(\"Bokeh: injecting CSS: https://cdn.pydata.org/bokeh/release/bokeh-tables-0.12.16.min.css\");\n      Bokeh.embed.inject_css(\"https://cdn.pydata.org/bokeh/release/bokeh-tables-0.12.16.min.css\");\n    }\n  ];\n\n  function run_inline_js() {\n    \n    if ((root.Bokeh !== undefined) || (force === true)) {\n      for (var i = 0; i < inline_js.length; i++) {\n        inline_js[i].call(root, root.Bokeh);\n      }if (force === true) {\n        display_loaded();\n      }} else if (Date.now() < root._bokeh_timeout) {\n      setTimeout(run_inline_js, 100);\n    } else if (!root._bokeh_failed_load) {\n      console.log(\"Bokeh: BokehJS failed to load within specified timeout.\");\n      root._bokeh_failed_load = true;\n    } else if (force !== true) {\n      var cell = $(document.getElementById(\"40b6877e-e15b-4536-a7e0-ce77c8d096b6\")).parents('.cell').data().cell;\n      cell.output_area.append_execute_result(NB_LOAD_WARNING)\n    }\n\n  }\n\n  if (root._bokeh_is_loading === 0) {\n    console.log(\"Bokeh: BokehJS loaded, going straight to plotting\");\n    run_inline_js();\n  } else {\n    load_libs(js_urls, function() {\n      console.log(\"Bokeh: BokehJS plotting callback run at\", now());\n      run_inline_js();\n    });\n  }\n}(window));"
     },
     "metadata": {},
     "output_type": "display_data"
    },
    {
     "data": {
      "text/html": [
       "\n",
       "<div class=\"bk-root\">\n",
       "    <div class=\"bk-plotdiv\" id=\"07088623-eeab-44d7-9419-0db4589ff945\"></div>\n",
       "</div>"
      ]
     },
     "metadata": {},
     "output_type": "display_data"
    },
    {
     "data": {
      "application/javascript": [
       "(function(root) {\n",
       "  function embed_document(root) {\n",
       "    \n",
       "  var docs_json = {\"18ee7123-01f6-4e5d-b7d9-9352b8d2f9bc\":{\"roots\":{\"references\":[{\"attributes\":{\"line_color\":\"steelblue\",\"x\":{\"field\":\"x\"},\"y\":{\"field\":\"y\"}},\"id\":\"4d9fcb96-fe84-4279-ad76-02b599256d7f\",\"type\":\"Line\"},{\"attributes\":{\"bottom_units\":\"screen\",\"fill_alpha\":{\"value\":0.5},\"fill_color\":{\"value\":\"lightgrey\"},\"left_units\":\"screen\",\"level\":\"overlay\",\"line_alpha\":{\"value\":1.0},\"line_color\":{\"value\":\"black\"},\"line_dash\":[4,4],\"line_width\":{\"value\":2},\"plot\":null,\"render_mode\":\"css\",\"right_units\":\"screen\",\"top_units\":\"screen\"},\"id\":\"6e6ee2dd-bfc7-4bd1-af50-a5838bceaf4d\",\"type\":\"BoxAnnotation\"},{\"attributes\":{},\"id\":\"70c8e1fc-fa20-4b74-84e5-e1d47358a223\",\"type\":\"PanTool\"},{\"attributes\":{},\"id\":\"c3278012-f194-4b88-832f-9ff480cdbed4\",\"type\":\"WheelZoomTool\"},{\"attributes\":{\"overlay\":{\"id\":\"6e6ee2dd-bfc7-4bd1-af50-a5838bceaf4d\",\"type\":\"BoxAnnotation\"}},\"id\":\"426fc2ea-8c7d-4164-bc4a-9075078d6191\",\"type\":\"BoxZoomTool\"},{\"attributes\":{},\"id\":\"089bb490-7edd-4cb9-b564-69aef1bb3c64\",\"type\":\"SaveTool\"},{\"attributes\":{},\"id\":\"cef8c24a-0f08-4ee0-b8fd-2a99a1b41137\",\"type\":\"ResetTool\"},{\"attributes\":{},\"id\":\"ff66c4a1-89b5-405e-abcf-8f3269d0f974\",\"type\":\"HelpTool\"},{\"attributes\":{\"data_source\":{\"id\":\"7793d189-2ed6-4c38-a722-6d11ae42c85e\",\"type\":\"ColumnDataSource\"},\"glyph\":{\"id\":\"4d9fcb96-fe84-4279-ad76-02b599256d7f\",\"type\":\"Line\"},\"hover_glyph\":null,\"muted_glyph\":null,\"nonselection_glyph\":{\"id\":\"19be1f12-ce30-465c-95ce-33466be658a8\",\"type\":\"Line\"},\"selection_glyph\":null,\"view\":{\"id\":\"a19426f7-c9c2-4352-ae33-86f16112589f\",\"type\":\"CDSView\"}},\"id\":\"9d4689b5-2b00-4dd7-91cc-55666dc4473a\",\"type\":\"GlyphRenderer\"},{\"attributes\":{\"line_alpha\":0.1,\"line_color\":\"#1f77b4\",\"x\":{\"field\":\"x\"},\"y\":{\"field\":\"y\"}},\"id\":\"19be1f12-ce30-465c-95ce-33466be658a8\",\"type\":\"Line\"},{\"attributes\":{},\"id\":\"1330c4be-1d79-43f9-99b7-f5df11988b3b\",\"type\":\"BasicTickFormatter\"},{\"attributes\":{},\"id\":\"c8de6b78-3f12-41c5-8579-2a9aef116d92\",\"type\":\"Selection\"},{\"attributes\":{\"source\":{\"id\":\"99d6d227-7d9a-43a2-80a9-ee4a70101bf5\",\"type\":\"ColumnDataSource\"}},\"id\":\"1404528c-019e-46fe-8300-f3b6ba422c7a\",\"type\":\"CDSView\"},{\"attributes\":{},\"id\":\"4fac684e-8ba4-48c9-a55a-57c9e0dcd6a3\",\"type\":\"UnionRenderers\"},{\"attributes\":{\"below\":[{\"id\":\"a7ebd047-9809-4166-83c6-6bf50d846b00\",\"type\":\"LinearAxis\"}],\"left\":[{\"id\":\"5745d685-e70c-4a71-a14e-d8c93d75b01c\",\"type\":\"LinearAxis\"}],\"renderers\":[{\"id\":\"a7ebd047-9809-4166-83c6-6bf50d846b00\",\"type\":\"LinearAxis\"},{\"id\":\"2228516b-c212-4c48-a2f3-37882ef94e6d\",\"type\":\"Grid\"},{\"id\":\"5745d685-e70c-4a71-a14e-d8c93d75b01c\",\"type\":\"LinearAxis\"},{\"id\":\"4514f6e9-741e-449b-aa71-316c1e9e5127\",\"type\":\"Grid\"},{\"id\":\"6e6ee2dd-bfc7-4bd1-af50-a5838bceaf4d\",\"type\":\"BoxAnnotation\"},{\"id\":\"33c1e113-b162-4d0d-8049-1130679cff97\",\"type\":\"Legend\"},{\"id\":\"9d4689b5-2b00-4dd7-91cc-55666dc4473a\",\"type\":\"GlyphRenderer\"},{\"id\":\"4b892cb5-cc9b-4c5f-a841-bf2fd62f28bf\",\"type\":\"GlyphRenderer\"},{\"id\":\"aac8ae91-9270-491d-8115-87c74e5dd9b6\",\"type\":\"GlyphRenderer\"}],\"title\":{\"id\":\"415b8f8f-cba8-4f22-a6c2-8a26dea2514e\",\"type\":\"Title\"},\"toolbar\":{\"id\":\"65ff1cbe-b057-484d-8185-561f49b38335\",\"type\":\"Toolbar\"},\"x_range\":{\"id\":\"931c7059-1211-4e73-9150-35cacd992162\",\"type\":\"DataRange1d\"},\"x_scale\":{\"id\":\"003f72af-da84-41d6-b726-988de80f1314\",\"type\":\"LinearScale\"},\"y_range\":{\"id\":\"4edf7e3b-1199-47eb-9652-b3ed3c59d0b3\",\"type\":\"DataRange1d\"},\"y_scale\":{\"id\":\"a470b122-316d-4e73-a9ca-4c15b0179deb\",\"type\":\"LinearScale\"}},\"id\":\"cbe340a0-d716-49ad-9be9-40de177cf841\",\"subtype\":\"Figure\",\"type\":\"Plot\"},{\"attributes\":{\"items\":[{\"id\":\"44f5c457-6d93-4ff2-92ec-e64d470de95d\",\"type\":\"LegendItem\"},{\"id\":\"bb3ebec8-d31e-4544-a5aa-507efa43b38d\",\"type\":\"LegendItem\"},{\"id\":\"032751c8-d40b-4427-96e8-97700ff13dba\",\"type\":\"LegendItem\"}],\"plot\":{\"id\":\"cbe340a0-d716-49ad-9be9-40de177cf841\",\"subtype\":\"Figure\",\"type\":\"Plot\"}},\"id\":\"33c1e113-b162-4d0d-8049-1130679cff97\",\"type\":\"Legend\"},{\"attributes\":{\"line_color\":\"green\",\"x\":{\"field\":\"x\"},\"y\":{\"field\":\"y\"}},\"id\":\"3a207ef2-763b-4fc5-b21c-2c61edc87dad\",\"type\":\"Line\"},{\"attributes\":{\"callback\":null,\"data\":{\"x\":[0,1,2,3,4,5,6,7,8,9,10,11,12,13,14,15,16,17,18,19,20,21,22,23,24,25,26,27,28,29,30,31,32,33,34,35,36,37,38,39,40,41,42,43,44,45,46,47,48,49,50,51,52,53,54,55,56,57,58,59,60,61,62,63,64,65,66,67,68,69,70,71,72,73,74,75,76,77,78,79,80,81,82,83,84,85,86,87,88,89,90,91,92,93,94,95,96,97,98,99,100,101,102,103,104,105,106,107,108,109,110,111,112,113,114,115,116,117,118,119,120,121,122,123,124,125,126,127,128,129,130,131,132,133,134,135,136,137,138,139,140,141,142,143,144,145,146,147,148,149,150,151,152,153,154,155,156,157,158,159,160,161,162,163,164,165,166,167,168,169,170,171,172,173,174,175,176,177,178,179,180,181,182,183,184,185,186,187,188,189,190,191,192,193,194,195,196,197,198,199,200,201,202,203,204,205,206,207,208,209,210,211,212,213,214,215,216,217,218,219,220,221,222,223,224,225,226,227,228,229,230,231,232,233,234,235,236,237,238,239,240,241,242,243,244,245,246,247,248,249,250,251,252,253,254,255,256,257,258,259,260,261,262,263,264,265,266,267,268,269,270,271,272,273,274,275,276,277,278,279,280,281,282,283,284,285,286,287,288,289,290,291,292,293,294,295,296,297,298,299],\"y\":[4.565469241724881,4.065146843674193,3.6605839598954377,3.360858945723255,3.120127688996757,2.8947645951798453,2.6620481676746177,2.422033912677105,2.195849959433284,2.0134539025741214,1.8932364523413445,1.8288053311177916,1.792847709798004,1.7546749043760097,1.6971267024286143,1.6212428837003807,1.5391644326331075,1.4632984562539544,1.3991637607789682,1.3447274480335414,1.2946905942464917,1.2458141639134017,1.1993269912247502,1.1589634809138403,1.126696166432354,1.1000899766253152,1.073755009432979,1.0434260141725593,1.0088105397947997,0.9727358627319959,0.9378531640630988,0.9046741564004783,0.8727159271746444,0.8424125184147276,0.8149282173239707,0.7904481252822826,0.7676744361820875,0.7451173772674234,0.7222709922760129,0.6994766297814249,0.6771368673172338,0.6553689086712532,0.6342184275363592,0.6137804403360896,0.5938907500466519,0.5741190434511432,0.5542281131764273,0.5342865118173056,0.5145182439606838,0.495341664400748,0.4769950892262621,0.4592645665108345,0.44192984458479034,0.4248279552120464,0.40772644680700243,0.39068367433964013,0.3740532610229836,0.3578958866340634,0.34201427123301564,0.3263840849017586,0.31089153881607273,0.29558696144183433,0.2807449288702483,0.2663343746334231,0.2521154424435933,0.23798147093458333,0.22412295131988227,0.21067136541198647,0.1975326264721122,0.18469581026984144,0.1722503287878483,0.16024659709683706,0.14864169620495116,0.1373935690682018,0.12653596159356623,0.11616819362214142,0.10635125282252836,0.09707358165622589,0.08840026235303038,0.08030510003617354,0.07230809511259831,0.06452723402170524,0.05773619091942175,0.05169509277622067,0.04559892440318465,0.03982074077022405,0.034907713412198366,0.03042476737433481,0.0261635713414351,0.02241511416353576,0.01925413695518541,0.016022728410889416,0.013042482390141844,0.0109497828808752,0.009237510178760743,0.007548431073189852,0.005665493325831412,0.005128146674779261,0.0040794398954466975,0.0025180214740962463,0.0026014283244769126,0.0018992059182560191,0.0011247392937098052,0.0015209844533039976,0.0010305064855349357,0.000898805459696402,0.0010683474634973547,0.0006833242687786252,0.0009039014657746563,0.0012262334884168512,0.0008615816729094369,0.0008014879348220428,0.0011856170308859031,0.0011852861298342146,0.0010924776637997028,0.0011470186073026121,0.001190058878833538,0.00114681528391659,0.0010720323016494204,0.001180950009163751,0.0011929408792930548,0.0011696242172186,0.001143591637455512,0.0010118902304013723,0.0009710320477281222,0.0008635572172968843,0.0009522685458366687,0.0011281672776901047,0.0009820071403187445,0.000730792118127999,0.0005697905695811526,0.000769028887888169,0.0009295071325608005,0.0007389014293150481,0.0005152056465551635,0.00046737734750848325,0.0007201841091039985,0.0007442609442307629,0.0005560508557834661,0.0004243256990162229,0.00047892709562102214,0.0007063699506427871,0.000628662186929626,0.0004886377971258818,0.00040516751059592357,0.0005223433518958697,0.0007102056332019188,0.0005880231063209423,0.00047026953888855015,0.0004010915899617889,0.0005727663554676798,0.000720545901575914,0.0005731613509489157,0.0004540138933259736,0.0004063730497328875,0.0006254613591208468,0.000714429122281128,0.0005513882654836,0.00043086673861565943,0.0004268352121500703,0.0006721697730719066,0.0006851818249991018,0.000521260937506287,0.0004082802407824066,0.0004629314016781096,0.0007036451147985945,0.0006432795448372702,0.0004920661486145255,0.0003928887649231775,0.0005100731634827988,0.0007174352882296232,0.0006015993050151112,0.00046659426507851,0.00038810685841874016,0.0005628937178433656,0.0007150800987015399,0.0005659452153903406,0.0004428232259857397,0.0003963400535837408,0.00061609825035008,0.0006987727614788442,0.0005359758109873075,0.0004201426280561563,0.0004197454229893037,0.0006632930549445729,0.0006710680747764971,0.0005099942091606343,0.0004008329195960168,0.00045801603233606205,0.0006978505784467581,0.000636072062824648,0.000486530437508893,0.000388421465905522,0.0005075753985084373,0.0007151729672266786,0.0005992565780286123,0.0004641310154116305,0.00038599419593981555,0.0005627699660295285,0.0007144693168979436,0.0005650275656991196,0.0004416187027499547,0.0003961565100475672,0.0006172116138482203,0.0006980545067405302,0.0005351147684511261,0.0004194594395207751,0.0004206933156739011,0.0006644333513517432,0.0006698142757982895,0.0005090861414600755,0.0004003866087320909,0.000459347736063308,0.000698432473537961,0.0006346796087143297,0.000485673047509216,0.00038809586603966465,0.0005089837895107679,0.0007152061044441664,0.0005980224366878137,0.00046331299715407037,0.0003859097356943952,0.000564188678166818,0.000714082063520693,0.0005640051536138051,0.0004408183316993565,0.00039649249209596166,0.0006185750184517786,0.0006973155351850472,0.0005342483082903416,0.00041875764769318225,0.0004215337212522542,0.000665564130421416,0.000668824411760942,0.0005083374275943372,0.00039988468645561315,0.0004606294340131286,0.000699145887402788,0.0006335853564004497,0.00048500380853502286,0.00038787444654294104,0.0005105320949815086,0.0007154110715392092,0.000596975062677441,0.0004626642035555255,0.00038602830439457336,0.000565806444935041,0.0007137984791283187,0.0005630812871482015,0.0004401647977573607,0.00039700746555929327,0.0006200679257731444,0.0006966349313861414,0.0005334490258111243,0.0004181463403719305,0.0004224722921739608,0.0006667467925853132,0.0006678722389858612,0.0005076311237059472,0.0003994195129345614,0.00046194024558778225,0.0006998682611994136,0.0006325178430300381,0.00048434828826579546,0.00038766157009600575,0.0005120838987570564,0.0007156075230268451,0.0005959396974903644,0.0004620160789222957,0.00038615351111251356,0.0005674218742945984,0.0007135027923503825,0.0005621611974642697,0.0004395110550950679,0.0003975365800202492,0.0006215564309760373,0.0006959431414736864,0.0005326529025043796,0.00041754048887232347,0.0004234269339502751,0.0006679212113289641,0.0006669153558294709,0.0005069287912148205,0.00039896382180067597,0.0004632640709050957,0.0007005786928333137,0.000631451886731771,0.00048369628852059564,0.0003874596034577579,0.0005136422765066439,0.0007157912893665936,0.0005949091590877093,0.0004613692363209544,0.00038629072960179767,0.0005690373610808677,0.0007131952749203405,0.000561246003036665,0.00043885818620340846,0.0003980783408164212,0.0006230388777262454]},\"selected\":{\"id\":\"802c4436-4aac-4d73-9c14-1b962aa1b1ba\",\"type\":\"Selection\"},\"selection_policy\":{\"id\":\"6f65cc4d-cc7b-445c-b1a7-45c55f449735\",\"type\":\"UnionRenderers\"}},\"id\":\"e2430c60-07eb-4359-b71c-f070a7e36283\",\"type\":\"ColumnDataSource\"},{\"attributes\":{\"data_source\":{\"id\":\"99d6d227-7d9a-43a2-80a9-ee4a70101bf5\",\"type\":\"ColumnDataSource\"},\"glyph\":{\"id\":\"3a207ef2-763b-4fc5-b21c-2c61edc87dad\",\"type\":\"Line\"},\"hover_glyph\":null,\"muted_glyph\":null,\"nonselection_glyph\":{\"id\":\"f7465054-322c-4984-a303-1a2eb216b09a\",\"type\":\"Line\"},\"selection_glyph\":null,\"view\":{\"id\":\"1404528c-019e-46fe-8300-f3b6ba422c7a\",\"type\":\"CDSView\"}},\"id\":\"4b892cb5-cc9b-4c5f-a841-bf2fd62f28bf\",\"type\":\"GlyphRenderer\"},{\"attributes\":{\"line_alpha\":0.1,\"line_color\":\"#1f77b4\",\"x\":{\"field\":\"x\"},\"y\":{\"field\":\"y\"}},\"id\":\"f7465054-322c-4984-a303-1a2eb216b09a\",\"type\":\"Line\"},{\"attributes\":{\"callback\":null},\"id\":\"4edf7e3b-1199-47eb-9652-b3ed3c59d0b3\",\"type\":\"DataRange1d\"},{\"attributes\":{\"plot\":null,\"text\":\"\"},\"id\":\"415b8f8f-cba8-4f22-a6c2-8a26dea2514e\",\"type\":\"Title\"},{\"attributes\":{},\"id\":\"676236ea-8bcc-488f-8e65-c1f988f3f401\",\"type\":\"Selection\"},{\"attributes\":{\"active_drag\":\"auto\",\"active_inspect\":\"auto\",\"active_scroll\":\"auto\",\"active_tap\":\"auto\",\"tools\":[{\"id\":\"70c8e1fc-fa20-4b74-84e5-e1d47358a223\",\"type\":\"PanTool\"},{\"id\":\"c3278012-f194-4b88-832f-9ff480cdbed4\",\"type\":\"WheelZoomTool\"},{\"id\":\"426fc2ea-8c7d-4164-bc4a-9075078d6191\",\"type\":\"BoxZoomTool\"},{\"id\":\"089bb490-7edd-4cb9-b564-69aef1bb3c64\",\"type\":\"SaveTool\"},{\"id\":\"cef8c24a-0f08-4ee0-b8fd-2a99a1b41137\",\"type\":\"ResetTool\"},{\"id\":\"ff66c4a1-89b5-405e-abcf-8f3269d0f974\",\"type\":\"HelpTool\"}]},\"id\":\"65ff1cbe-b057-484d-8185-561f49b38335\",\"type\":\"Toolbar\"},{\"attributes\":{\"source\":{\"id\":\"e2430c60-07eb-4359-b71c-f070a7e36283\",\"type\":\"ColumnDataSource\"}},\"id\":\"5a15643a-8cff-41c1-a3d3-a33660b640d1\",\"type\":\"CDSView\"},{\"attributes\":{\"label\":{\"value\":\"gd\"},\"renderers\":[{\"id\":\"9d4689b5-2b00-4dd7-91cc-55666dc4473a\",\"type\":\"GlyphRenderer\"}]},\"id\":\"44f5c457-6d93-4ff2-92ec-e64d470de95d\",\"type\":\"LegendItem\"},{\"attributes\":{\"callback\":null,\"data\":{\"x\":[0,1,2,3,4,5,6,7,8,9,10,11,12,13,14,15,16,17,18,19,20,21,22,23,24,25,26,27,28,29,30,31,32,33,34,35,36,37,38,39,40,41,42,43,44,45,46,47,48,49,50,51,52,53,54,55,56,57,58,59,60,61,62,63,64,65,66,67,68,69,70,71,72,73,74,75,76,77,78,79,80,81,82,83,84,85,86,87,88,89,90,91,92,93,94,95,96,97,98,99,100,101,102,103,104,105,106,107,108,109,110,111,112,113,114,115,116,117,118,119,120,121,122,123,124,125,126,127,128,129,130,131,132,133,134,135,136,137,138,139,140,141,142,143,144,145,146,147,148,149,150,151,152,153,154,155,156,157,158,159,160,161,162,163,164,165,166,167,168,169,170,171,172,173,174,175,176,177,178,179,180,181,182,183,184,185,186,187,188,189,190,191,192,193,194,195,196,197,198,199,200,201,202,203,204,205,206,207,208,209,210,211,212,213,214,215,216,217,218,219,220,221,222,223,224,225,226,227,228,229,230,231,232,233,234,235,236,237,238,239,240,241,242,243,244,245,246,247,248,249,250,251,252,253,254,255,256,257,258,259,260,261,262,263,264,265,266,267,268,269,270,271,272,273,274,275,276,277,278,279,280,281,282,283,284,285,286,287,288,289,290,291,292,293,294,295,296,297,298,299],\"y\":[3.7956839999999996,3.3351323370399997,3.0643780878696907,2.8663133160863796,2.709871095515805,2.5826105191316024,2.4773070682731353,2.3889584519645815,2.313888970826335,2.2493408708869658,2.193222631075687,2.1439339380207363,2.1002393319532247,2.0611759221091703,2.02598565766605,1.9940654502036648,1.9649303154016904,1.9381860283229049,1.9135087435782494,1.8906297253114752,1.869323835481977,1.8494007947084812,1.830698495786946,1.8130778433214136,1.7964187335832962,1.7806168911613116,1.7655813536420415,1.7512324500605294,1.737500158690286,1.724322758901168,1.7116457132050729,1.6994207313416192,1.6876049798607313,1.6761604092496427,1.6650531770377994,1.6542531500836166,1.6437334728309676,1.633470191033404,1.6234419225085712,1.6136295680709003,1.6040160570194548,1.5945861225194244,1.5853261029759214,1.5762237661061558,1.5672681529065882,1.5584494391120662,1.5497588120741723,1.5411883612610684,1.5327309808122986,1.524380282778009,1.5161305198394097,1.5079765164512569,1.49991360747161,1.491937583452362,1.48404464185853,1.4762313435671346,1.4684945740692903,1.4608315088633093,1.4532395825833397,1.4457164614581803,1.438260018739432,1.4308683127775623,1.4235395674595193,1.416272154752693,1.4090645791277323,1.4019154636573845,1.3948235376105171,1.3877876253800256,1.3808066366007867,1.373879557329344,1.3670054421708842,1.3601834072514054,1.3534126239439923,1.3466923132679578,1.3400217408883457,1.3334002126511295,1.326827070596404,1.3203016893980841,1.313823473184185,1.3073918526966926,1.3010062827544704,1.2946662399865672,1.2883712208068192,1.2821207396037773,1.2759143271227817,1.2697515290195058,1.2636319045665216,1.2575550254964225,1.251520474966822,1.2455278466341067,1.2395767438242717,1.233666778790383,1.22779757204737,1.2219687517758346,1.216179953287468,1.21043081854546,1.2047209957339964,1.1990501388715802,1.1934179074634854,1.1878239661891328,1.1822679846206667,1.1767496369693817,1.1712686018570229,1.1658245621093026,1.1604172045692664,1.1550462199283806,1.1497113025734622,1.1444121504477653,1.1391484649247128,1.1339199506929396,1.1287263156514442,1.1235672708137827,1.1184425302203498,1.113351810857895,1.1082948325855186,1.1032713180664628,1.0982809927050965,1.0933235845885543,1.088398824432546,1.0835064455309078,1.0786461837085073,1.0738177772771627,1.069020966994273,1.064255496023877,1.0595211098999058,1.0548175564914044,1.050144585969534,1.0455019507761767,1.0408894055939852,1.0363067073177494,1.0317536150269409,1.0272298899593375,1.022735295485625,1.0182695970848812,1.0138325623208735,1.0094239608190938,1.0050435642444673,1.0006911462796788,0.9963664826040691,0.9920693508730544,0.9877995306980223,0.9835568036266792,0.9793409531238094,0.9751517645524157,0.9709890251552205,0.9668525240364981,0.9627420521442244,0.958657402252516,0.9545983689443495,0.9505647485945423,0.9465563393529791,0.9425729411280768,0.9386143555704712,0.9346803860569197,0.9307708376744073,0.9268855172044501,0.9230242331075869,0.9191867955080545,0.9153730161786365,0.9115827085256846,0.9078156875743033,0.9040717699536961,0.9003507738826655,0.8966525191552678,0.892976827126613,0.8893235206988113,0.8856924243070619,0.8820833639058777,0.8784961669554483,0.8749306624081358,0.8713866806951015,0.8678640537130613,0.8643626148111685,0.860882198778019,0.8574226418287839,0.8539837815924582,0.8505654570992325,0.8471675087679807,0.8437897783938644,0.8404321091360527,0.8370943455055545,0.8337763333531638,0.830477919857514,0.8271989535132448,0.8239392841192744,0.8206987627671796,0.8174772418296828,0.8142745749492427,0.811090617026749,0.8079252242103206,0.8047782538842033,0.8016495646577705,0.7985390163546219,0.7954464700017818,0.7923717878189929,0.7893148332081104,0.7862754707425889,0.7832535661570641,0.7802489863370312,0.7772615993086137,0.7742912742284239,0.7713378813735181,0.7684012921314379,0.7654813789903466,0.7625780155292469,0.759691076408294,0.756820437359191,0.7539659751756731,0.7511275677040753,0.7483050938339879,0.7454984334889919,0.7427074676174821,0.7399320781835685,0.7371721481580629,0.734427561509543,0.7316982031955012,0.728983959153568,0.7262847162928174,0.7236003624851507,0.720930786556754,0.718275878279637,0.7156355283632444,0.713009628446144,0.7103980710877894,0.7078007497603566,0.7052175588406526,0.7026483936020989,0.7000931502067853,0.6975517256975947,0.6950240179904005,0.6925099258663314,0.6900093489641085,0.6875221877724476,0.6850483436225333,0.6825877186805589,0.6801402159403317,0.677705739215948,0.6752841931345309,0.672875483129035,0.6704795154311137,0.6680961970640543,0.66572543583577,0.6633671403318627,0.6610212199087409,0.6586875846868038,0.6563661455436846,0.6540568141075552,0.6517595027504895,0.6494741245818887,0.6472005934419631,0.6449388238952735,0.6426887312243307,0.6404502314232512,0.6382232411914712,0.6360076779275168,0.6338034597228279,0.6316105053556409,0.629428734284923,0.6272580666443635,0.6250984232364163,0.6229497255263986,0.6208118956366405,0.6186848563406875,0.6165685310575546,0.6144628438460339,0.6123677193990505,0.6102830830380694,0.6082088607075555,0.6061449789694782,0.6040913649978695,0.6020479465734305,0.6000146520781825,0.5979914104901695,0.5959781513782083,0.5939748048966832,0.5919813017803889,0.5899975733394199,0.5880235514541047,0.586059168569985,0.5841043576928421,0.5821590523837651,0.5802231867542655,0.5782966954614338,0.5763795137031399,0.5744715772132774,0.5725728222570503,0.5706831856263002,0.5688026046348775,0.5669310171140528,0.5650683614079697,0.5632145763691379,0.5613696013539674,0.5595333762183428,0.5577058413132348,0.5558869374803552,0.5540766060478466,0.5522747888260139,0.5504814281030905,0.5486964666410477,0.5469198476714346]},\"selected\":{\"id\":\"c8de6b78-3f12-41c5-8579-2a9aef116d92\",\"type\":\"Selection\"},\"selection_policy\":{\"id\":\"4fac684e-8ba4-48c9-a55a-57c9e0dcd6a3\",\"type\":\"UnionRenderers\"}},\"id\":\"7793d189-2ed6-4c38-a722-6d11ae42c85e\",\"type\":\"ColumnDataSource\"},{\"attributes\":{\"data_source\":{\"id\":\"e2430c60-07eb-4359-b71c-f070a7e36283\",\"type\":\"ColumnDataSource\"},\"glyph\":{\"id\":\"260cda9f-bf0b-4c93-bf73-4ec2b18f9f47\",\"type\":\"Line\"},\"hover_glyph\":null,\"muted_glyph\":null,\"nonselection_glyph\":{\"id\":\"e7d25c26-a760-4edf-b4c0-c9653d7bed03\",\"type\":\"Line\"},\"selection_glyph\":null,\"view\":{\"id\":\"5a15643a-8cff-41c1-a3d3-a33660b640d1\",\"type\":\"CDSView\"}},\"id\":\"aac8ae91-9270-491d-8115-87c74e5dd9b6\",\"type\":\"GlyphRenderer\"},{\"attributes\":{\"callback\":null},\"id\":\"931c7059-1211-4e73-9150-35cacd992162\",\"type\":\"DataRange1d\"},{\"attributes\":{\"label\":{\"value\":\"rmsprop\"},\"renderers\":[{\"id\":\"4b892cb5-cc9b-4c5f-a841-bf2fd62f28bf\",\"type\":\"GlyphRenderer\"}]},\"id\":\"bb3ebec8-d31e-4544-a5aa-507efa43b38d\",\"type\":\"LegendItem\"},{\"attributes\":{},\"id\":\"003f72af-da84-41d6-b726-988de80f1314\",\"type\":\"LinearScale\"},{\"attributes\":{\"line_alpha\":0.1,\"line_color\":\"#1f77b4\",\"x\":{\"field\":\"x\"},\"y\":{\"field\":\"y\"}},\"id\":\"e7d25c26-a760-4edf-b4c0-c9653d7bed03\",\"type\":\"Line\"},{\"attributes\":{},\"id\":\"a470b122-316d-4e73-a9ca-4c15b0179deb\",\"type\":\"LinearScale\"},{\"attributes\":{\"line_color\":\"red\",\"x\":{\"field\":\"x\"},\"y\":{\"field\":\"y\"}},\"id\":\"260cda9f-bf0b-4c93-bf73-4ec2b18f9f47\",\"type\":\"Line\"},{\"attributes\":{\"formatter\":{\"id\":\"77504a3b-a304-4e3b-ab3d-a7a673d206f5\",\"type\":\"BasicTickFormatter\"},\"plot\":{\"id\":\"cbe340a0-d716-49ad-9be9-40de177cf841\",\"subtype\":\"Figure\",\"type\":\"Plot\"},\"ticker\":{\"id\":\"eca52084-95fd-4853-9b22-57fb16b735db\",\"type\":\"BasicTicker\"}},\"id\":\"5745d685-e70c-4a71-a14e-d8c93d75b01c\",\"type\":\"LinearAxis\"},{\"attributes\":{},\"id\":\"6f65cc4d-cc7b-445c-b1a7-45c55f449735\",\"type\":\"UnionRenderers\"},{\"attributes\":{},\"id\":\"eca52084-95fd-4853-9b22-57fb16b735db\",\"type\":\"BasicTicker\"},{\"attributes\":{\"source\":{\"id\":\"7793d189-2ed6-4c38-a722-6d11ae42c85e\",\"type\":\"ColumnDataSource\"}},\"id\":\"a19426f7-c9c2-4352-ae33-86f16112589f\",\"type\":\"CDSView\"},{\"attributes\":{\"formatter\":{\"id\":\"1330c4be-1d79-43f9-99b7-f5df11988b3b\",\"type\":\"BasicTickFormatter\"},\"plot\":{\"id\":\"cbe340a0-d716-49ad-9be9-40de177cf841\",\"subtype\":\"Figure\",\"type\":\"Plot\"},\"ticker\":{\"id\":\"e2c29a98-fe5a-448b-a40e-b1a36f50dcf8\",\"type\":\"BasicTicker\"}},\"id\":\"a7ebd047-9809-4166-83c6-6bf50d846b00\",\"type\":\"LinearAxis\"},{\"attributes\":{},\"id\":\"0ba72315-5fd4-42ca-a8c7-c4799b51dac3\",\"type\":\"UnionRenderers\"},{\"attributes\":{},\"id\":\"e2c29a98-fe5a-448b-a40e-b1a36f50dcf8\",\"type\":\"BasicTicker\"},{\"attributes\":{\"plot\":{\"id\":\"cbe340a0-d716-49ad-9be9-40de177cf841\",\"subtype\":\"Figure\",\"type\":\"Plot\"},\"ticker\":{\"id\":\"e2c29a98-fe5a-448b-a40e-b1a36f50dcf8\",\"type\":\"BasicTicker\"}},\"id\":\"2228516b-c212-4c48-a2f3-37882ef94e6d\",\"type\":\"Grid\"},{\"attributes\":{},\"id\":\"77504a3b-a304-4e3b-ab3d-a7a673d206f5\",\"type\":\"BasicTickFormatter\"},{\"attributes\":{\"label\":{\"value\":\"rmsprop+momentum\"},\"renderers\":[{\"id\":\"aac8ae91-9270-491d-8115-87c74e5dd9b6\",\"type\":\"GlyphRenderer\"}]},\"id\":\"032751c8-d40b-4427-96e8-97700ff13dba\",\"type\":\"LegendItem\"},{\"attributes\":{\"dimension\":1,\"plot\":{\"id\":\"cbe340a0-d716-49ad-9be9-40de177cf841\",\"subtype\":\"Figure\",\"type\":\"Plot\"},\"ticker\":{\"id\":\"eca52084-95fd-4853-9b22-57fb16b735db\",\"type\":\"BasicTicker\"}},\"id\":\"4514f6e9-741e-449b-aa71-316c1e9e5127\",\"type\":\"Grid\"},{\"attributes\":{\"callback\":null,\"data\":{\"x\":[0,1,2,3,4,5,6,7,8,9,10,11,12,13,14,15,16,17,18,19,20,21,22,23,24,25,26,27,28,29,30,31,32,33,34,35,36,37,38,39,40,41,42,43,44,45,46,47,48,49,50,51,52,53,54,55,56,57,58,59,60,61,62,63,64,65,66,67,68,69,70,71,72,73,74,75,76,77,78,79,80,81,82,83,84,85,86,87,88,89,90,91,92,93,94,95,96,97,98,99,100,101,102,103,104,105,106,107,108,109,110,111,112,113,114,115,116,117,118,119,120,121,122,123,124,125,126,127,128,129,130,131,132,133,134,135,136,137,138,139,140,141,142,143,144,145,146,147,148,149,150,151,152,153,154,155,156,157,158,159,160,161,162,163,164,165,166,167,168,169,170,171,172,173,174,175,176,177,178,179,180,181,182,183,184,185,186,187,188,189,190,191,192,193,194,195,196,197,198,199,200,201,202,203,204,205,206,207,208,209,210,211,212,213,214,215,216,217,218,219,220,221,222,223,224,225,226,227,228,229,230,231,232,233,234,235,236,237,238,239,240,241,242,243,244,245,246,247,248,249,250,251,252,253,254,255,256,257,258,259,260,261,262,263,264,265,266,267,268,269,270,271,272,273,274,275,276,277,278,279,280,281,282,283,284,285,286,287,288,289,290,291,292,293,294,295,296,297,298,299],\"y\":[4.565469241724881,4.323801879880114,4.148470106090874,4.0068268940452185,3.8855671122141455,3.7780434872702715,3.680567722750155,3.5909250966159196,3.507652552362475,3.4297146088849133,3.356334518182458,3.286911849135425,3.2209697863913442,3.158124715041163,3.098062466838738,3.0405234370998278,2.9852892465876333,2.932174988699736,2.8810208107281183,2.8316888002427216,2.7840564337991234,2.7380182591125424,2.6934781131381915,2.6503672121466355,2.6086320257149502,2.568233517618328,2.528847053897311,2.4906271874322163,2.453518477781203,2.41750003030704,2.3824915835395486,2.348463155892808,2.3153649363790154,2.283169256267812,2.2518351309694986,2.221337175606867,2.1916378058019106,2.1627163846343236,2.1345363176013854,2.107088242280425,2.080323043696816,2.054239422076902,2.028748069397571,2.0038861435616346,1.979598609835129,1.9559084302780654,1.932770160712828,1.910185212993782,1.8881211674650873,1.866576319655058,1.8455249533356646,1.8249666007550684,1.8048769090685628,1.7852594712401206,1.7660851033204272,1.7473638598075576,1.7290533495114722,1.7111724013777434,1.6936738059283294,1.676582642298482,1.6598584688207778,1.6435181845364675,1.6275271969941592,1.6118946662674567,1.5965901340422115,1.5816205414247266,1.566956620930255,1.5526070717865557,1.538540255551835,1.524769538156192,1.5112574362297184,1.4980236682333956,1.4850254975663826,1.472288518223257,1.4597701074466183,1.4474976060068077,1.4354317188356371,1.4235977218341742,1.4119595214484137,1.4005401210508253,1.3893051943592574,1.3782768949466986,1.3674209343552015,1.3567600573322445,1.346261124824177,1.335999810291646,1.3262042000728065,1.3167476637218867,1.3064046936546474,1.2965565664334437,1.2869573349078203,1.2775644869707343,1.26828851976239,1.2591532969733799,1.2501145877018487,1.241200569917735,1.2323724179713695,1.2236592848692407,1.2150224823786593,1.206494692435512,1.1980368996913044,1.1896931575705634,1.1814287821465184,1.1733255858333504,1.16528708670002,1.1573495681156099,1.1493093396634162,1.1419581546411708,1.1348906343695986,1.1265069971189758,1.11834736677372,1.1105861593630506,1.102985821894231,1.095516985834911,1.08809602667121,1.0807722497118983,1.0734838480669207,1.0662987757477762,1.0591455973037611,1.05210796715897,1.045077041644395,1.0381645533440946,1.0312879224017129,1.0250514598054636,1.0190505823726284,1.0125790731953177,1.0053689945284578,0.9985671788716578,0.9919486056185464,0.985555262666735,0.9799789449610397,0.9740533889032268,0.9672499687339975,0.9608673043893925,0.9546658080045402,0.9486100597688946,0.9425383687473503,0.9365732681862053,0.9305827067317481,0.9246962228131993,0.918772493673489,0.9129360887133885,0.9070674232643828,0.9013457476149321,0.8956358449845352,0.890101949349731,0.8844419873581087,0.8789085995710962,0.8733884527940295,0.868051601702664,0.8625979744566349,0.8571301889458932,0.851633500480955,0.8462748283149227,0.8409173368705277,0.8356697580404799,0.8303945703032108,0.8252135216298543,0.8200035907829412,0.8148998062184286,0.8097812118384636,0.8047932119775247,0.7997935656533249,0.7949285586021341,0.7900161332520212,0.7851921123014394,0.7802843582370156,0.7754542073298808,0.7705800331390492,0.7658096397188913,0.7610171240792833,0.756324621843721,0.7516079608774907,0.746984978899519,0.7423384571659035,0.7377880239781176,0.7332176389111124,0.7287476590482888,0.724253510176831,0.7198532852509787,0.715411787976341,0.7110513100699478,0.7066420112891598,0.7023145469897792,0.6979482264665641,0.6936686878063792,0.6893593320503034,0.6851357566248399,0.6808862516271075,0.6767195695417045,0.6725288881184441,0.6684185082326032,0.6642839270095686,0.6602259074018245,0.6561403069647523,0.6521268227984551,0.6480822970156426,0.644108616467869,0.6401034283665302,0.6361704038330834,0.6322070891981616,0.6283164690123203,0.6243973628228342,0.6205499675126743,0.6166760767533425,0.6128718155801544,0.60904231279629,0.6052795243339171,0.6014914478353244,0.5977671322333729,0.5940168515382821,0.5903288203862561,0.5866145163507132,0.582962735206203,0.5792846096082612,0.5756697211622304,0.5720282318414479,0.5684500216693611,0.5648450632263031,0.5613026207359025,0.5577336546168328,0.5542258226756287,0.5506918083849222,0.5472172618120652,0.5437167557341644,0.5402743884708419,0.5368062445433162,0.5333957321985091,0.5299596015197655,0.5265812582442261,0.5231772427582465,0.51983127922448,0.51645931768196,0.51314537419754,0.5098050248781812,0.5065222617986631,0.5032128204625527,0.4999602472314477,0.49668093915307476,0.49345773482516153,0.4902079259616582,0.4870136699960999,0.48379303417801467,0.48062772498023076,0.47743621305418227,0.47430003065432474,0.47113765366968763,0.46803064917703263,0.46489726992532693,0.46181919668652427,0.45871446463119864,0.4556648117080001,0.45258823916751595,0.44956640727961716,0.4465175200354334,0.44352303053919573,0.44050150389038567,0.4375341219545639,0.4345398221460054,0.4315995315670781,0.42863244701729636,0.4257193158831798,0.422779437539885,0.4198934710358401,0.4169806975726253,0.41412175411426344,0.41123586468605017,0.4084036635796125,0.4055443624435991,0.40273856807013586,0.39990557153928125,0.39712590181144697,0.39431901421370946,0.3915653086872148,0.38878444276909724,0.38605665680794565,0.38330179435330247,0.3805999358035827,0.37787106068914766,0.37519511360198843,0.3724921572653046,0.3698420333572805,0.3671648583905853,0.36454039605725275,0.361888821601105,0.35928982667983606,0.3566636774639197,0.3540899784327915,0.3514891271825209,0.3489406118768713,0.3463649912840884,0.3438416070307214,0.34129118844093553,0.33879291139844564,0.3362676670706089,0.33379446270998436,0.3312943348578359,0.32884613229482357,0.3263710246438375,0.32394771623791685]},\"selected\":{\"id\":\"676236ea-8bcc-488f-8e65-c1f988f3f401\",\"type\":\"Selection\"},\"selection_policy\":{\"id\":\"0ba72315-5fd4-42ca-a8c7-c4799b51dac3\",\"type\":\"UnionRenderers\"}},\"id\":\"99d6d227-7d9a-43a2-80a9-ee4a70101bf5\",\"type\":\"ColumnDataSource\"},{\"attributes\":{},\"id\":\"802c4436-4aac-4d73-9c14-1b962aa1b1ba\",\"type\":\"Selection\"}],\"root_ids\":[\"cbe340a0-d716-49ad-9be9-40de177cf841\"]},\"title\":\"Bokeh Application\",\"version\":\"0.12.16\"}};\n",
       "  var render_items = [{\"docid\":\"18ee7123-01f6-4e5d-b7d9-9352b8d2f9bc\",\"elementid\":\"07088623-eeab-44d7-9419-0db4589ff945\",\"modelid\":\"cbe340a0-d716-49ad-9be9-40de177cf841\"}];\n",
       "  root.Bokeh.embed.embed_items_notebook(docs_json, render_items);\n",
       "\n",
       "  }\n",
       "  if (root.Bokeh !== undefined) {\n",
       "    embed_document(root);\n",
       "  } else {\n",
       "    var attempts = 0;\n",
       "    var timer = setInterval(function(root) {\n",
       "      if (root.Bokeh !== undefined) {\n",
       "        embed_document(root);\n",
       "        clearInterval(timer);\n",
       "      }\n",
       "      attempts++;\n",
       "      if (attempts > 100) {\n",
       "        console.log(\"Bokeh: ERROR: Unable to run BokehJS code because BokehJS library is missing\")\n",
       "        clearInterval(timer);\n",
       "      }\n",
       "    }, 10, root)\n",
       "  }\n",
       "})(window);"
      ],
      "application/vnd.bokehjs_exec.v0+json": ""
     },
     "metadata": {
      "application/vnd.bokehjs_exec.v0+json": {
       "id": "cbe340a0-d716-49ad-9be9-40de177cf841"
      }
     },
     "output_type": "display_data"
    }
   ],
   "source": [
    "output_notebook()\n",
    "\n",
    "plot = figure()\n",
    "plot.line(x=range(len(loss1)), y=loss1, color='steelblue', legend='gd')\n",
    "plot.line(x=range(len(loss2)), y=loss2, color='green', legend='rmsprop')\n",
    "plot.line(x=range(len(loss3)), y=loss3, color='red', legend='rmsprop+momentum')\n",
    "\n",
    "show(plot)"
   ]
  }
 ],
 "metadata": {
  "kernelspec": {
   "display_name": "Python 3",
   "language": "python",
   "name": "python3"
  },
  "language_info": {
   "codemirror_mode": {
    "name": "ipython",
    "version": 3
   },
   "file_extension": ".py",
   "mimetype": "text/x-python",
   "name": "python",
   "nbconvert_exporter": "python",
   "pygments_lexer": "ipython3",
   "version": "3.6.5"
  }
 },
 "nbformat": 4,
 "nbformat_minor": 2
}
