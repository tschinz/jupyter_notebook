{
 "cells": [
  {
   "cell_type": "markdown",
   "metadata": {},
   "source": [
    "# Deadlock\n",
    "I don’t think I was ever taught or tasked to implement a [deadlock](https://en.wikipedia.org/wiki/Deadlock). But I can proudly say that I have successfully managed to implement them quite a few times.\n",
    "\n",
    "This series should be for fun, so why not to implement one more today?\n",
    "\n",
    "I will run a certain number of workers in a separate threads. Imagine the workers are arranged in a circle and there is a single resource to be acquired between each pair of workers.\n",
    "\n",
    "The worker is identified by its `#pid` and to be able to do its task, it has to acquire an exclusive access to resources `#pid` and `#pid-1`.\n",
    "\n",
    "How can a deadlock happen?\n",
    "    \n",
    "- each worker `W[pid]` acquires resource `R[pid]`\n",
    "- each worker `W[pid]` is waiting for resource `R[pid-1]` to be released\n",
    "\n",
    "quiz time\n",
    "\n",
    "Here’s the expected behaviour of my program:\n",
    "\n",
    "- N workers are repeatedly acquiring and releasing shared resources\n",
    "- main thread is waiting for deadlock\n",
    "- once deadlock is detected, main thread releases all locks causing `RuntimeError` in each thread\n",
    "\n",
    "Implementation note: any thread can release any previously acquired `Lock` since the lock is not reentrant; but attempt to release free lock results in `RuntimeError`\n",
    "\n",
    "My question for you: Are you able to find and identify a bug in my program without running it? Consider bug any behaviour that deviates from the three bullets above."
   ]
  },
  {
   "cell_type": "code",
   "execution_count": 1,
   "metadata": {
    "collapsed": true
   },
   "outputs": [],
   "source": [
    "from collections import defaultdict\n",
    "from time import sleep\n",
    "from threading import Thread, Lock"
   ]
  },
  {
   "cell_type": "markdown",
   "metadata": {},
   "source": [
    "## algorithm"
   ]
  },
  {
   "cell_type": "code",
   "execution_count": 2,
   "metadata": {
    "collapsed": true
   },
   "outputs": [],
   "source": [
    "class SharedState:\n",
    "\n",
    "    def __init__(self, n):\n",
    "        self._lock = Lock()\n",
    "        self._state = defaultdict(int)\n",
    "        self._resources = [Lock() for _ in range(n)]\n",
    "\n",
    "    def atomic(self, key, value=0):\n",
    "        with self._lock:\n",
    "            self._state[key] += value\n",
    "            return self._state[key]\n",
    "\n",
    "    def resource(self, i):\n",
    "        return self._resources[i]\n",
    "\n",
    "    def kill(self):\n",
    "        resources = self._resources\n",
    "        self._resources = None\n",
    "        for i in resources:\n",
    "            i.release()"
   ]
  },
  {
   "cell_type": "code",
   "execution_count": 3,
   "metadata": {
    "collapsed": true
   },
   "outputs": [],
   "source": [
    "def worker(pid, state):\n",
    "    try:\n",
    "        while True:\n",
    "            state.atomic('waiting', 1)\n",
    "            with state.resource(pid):\n",
    "                state.atomic('waiting', 1)\n",
    "                with state.resource(pid - 1):\n",
    "                    state.atomic('waiting', -2)\n",
    "                    state.atomic('tasks', 1)\n",
    "\n",
    "    except RuntimeError:\n",
    "        pass"
   ]
  },
  {
   "cell_type": "code",
   "execution_count": 4,
   "metadata": {
    "collapsed": true
   },
   "outputs": [],
   "source": [
    "def deadlock(n):\n",
    "    state = SharedState(n)\n",
    "\n",
    "    for i in range(n):\n",
    "        Thread(target=worker, args=(i, state)).start()\n",
    "\n",
    "    while state.atomic('waiting') < 2 * n:\n",
    "        sleep(1)\n",
    "\n",
    "    print(n, 'workers; deadlock after', state.atomic('tasks'), 'tasks')\n",
    "    state.kill()"
   ]
  },
  {
   "cell_type": "markdown",
   "metadata": {},
   "source": [
    "## run"
   ]
  },
  {
   "cell_type": "code",
   "execution_count": 5,
   "metadata": {
    "collapsed": false
   },
   "outputs": [
    {
     "name": "stdout",
     "output_type": "stream",
     "text": [
      "10 workers; deadlock after 9209 tasks\n",
      "20 workers; deadlock after 9253 tasks\n",
      "30 workers; deadlock after 3816 tasks\n",
      "40 workers; deadlock after 3002 tasks\n",
      "50 workers; deadlock after 1095 tasks\n",
      "60 workers; deadlock after 11413 tasks\n",
      "70 workers; deadlock after 5764 tasks\n",
      "80 workers; deadlock after 1012 tasks\n",
      "90 workers; deadlock after 4590 tasks\n"
     ]
    }
   ],
   "source": [
    "for i in range(1, 10):\n",
    "    deadlock(10 * i)"
   ]
  }
 ],
 "metadata": {
  "kernelspec": {
   "display_name": "Python 3",
   "language": "python",
   "name": "python3"
  },
  "language_info": {
   "codemirror_mode": {
    "name": "ipython",
    "version": 3
   },
   "file_extension": ".py",
   "mimetype": "text/x-python",
   "name": "python",
   "nbconvert_exporter": "python",
   "pygments_lexer": "ipython3",
   "version": "3.6.5"
  }
 },
 "nbformat": 4,
 "nbformat_minor": 2
}
