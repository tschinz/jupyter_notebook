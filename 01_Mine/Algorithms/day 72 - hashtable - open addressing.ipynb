{
 "cells": [
  {
   "cell_type": "markdown",
   "metadata": {},
   "source": [
    "# Hash Table - open addressing\n",
    "Yesterday I spent some time on [hash table](https://en.wikipedia.org/wiki/Hash_table) implementation and talked a bit about two essential concepts behind, [hash function](https://en.wikipedia.org/wiki/Hash_function) and collision resolution.\n",
    "\n",
    "The way I chose to solve collisions was called linked-list chaining and there were some advantages and disadvantages of the approach. While the implementation was simple, each entry required bunch of additional memory and I also had to support a different data structure.\n",
    "\n",
    "Today I decided to implement a brand different approach called [open addressing](https://en.wikipedia.org/wiki/Hash_table#Open_addressing).\n",
    "\n",
    "The idea is pretty intuitive. Find a bucket based on hash code of the key. If the bucket is occupied, simply probe another bucket. If that one is also occupied, probe another one until you find free slot.\n",
    "\n",
    "Which bucket should you probe? There are various strategies. Linear probing iteratively searches `[hash(key) + i]; for i=0..N`. Quadratic probing searches `[hash(key) + i**2]; for i=0..N`. You can also use a secondary hash function to search at `[hash(key) + hash2(key, i)]; for i=0..N`.\n",
    "\n",
    "And here is the catch in implementation. If you attempt to remove a key, you must not simply remove the bucket. Instead, the bucket has to be marked as empty so that probing of sequence of entries doesn’t get corrupted.\n",
    "\n",
    "I chose to implement linear probing, which is probably the worst of open addressing techniques, yet, it’s the best one to show its disadvantage. After a while, open addressing tends to create a long consecutive sequences of occupied buckets. This effect is called clustering and may notably degrade hash table performance.\n",
    "\n",
    "![table slots](resource/day72-hashtable.png)\n",
    "x — filled slot, o — empty slot\n",
    "\n",
    "Removing a key-value pair doesn’t help since the bucket is still considered to be occupied, only marked as empty (denoted as `o` in the picture). The only way to get rid of clusters is to reset the table and re-hash all the entries.\n",
    "\n",
    "Other probing methods like double hashing or quadratic probing were proposed to solve this problem. However, even these techniques tend to create clusters, they are just way harder to be noticed."
   ]
  },
  {
   "cell_type": "code",
   "execution_count": 1,
   "metadata": {
    "collapsed": true
   },
   "outputs": [],
   "source": [
    "import numpy as np"
   ]
  },
  {
   "cell_type": "markdown",
   "metadata": {},
   "source": [
    "## algorithm"
   ]
  },
  {
   "cell_type": "code",
   "execution_count": 2,
   "metadata": {
    "collapsed": true
   },
   "outputs": [],
   "source": [
    "class HashTable:\n",
    "\n",
    "    ratio_expand = .7\n",
    "    ratio_shrink = .2\n",
    "    min_size = 11\n",
    "    empty = (None,)\n",
    "\n",
    "    def __init__(self, size=None):\n",
    "        self._size = size or self.min_size\n",
    "        self._buckets = [None] * self._size\n",
    "        self._count = 0\n",
    "\n",
    "    def _entry(self, key):\n",
    "        # get hash\n",
    "        hash_ = hash(key)\n",
    "        idx1 = None\n",
    "\n",
    "        for i in range(self._size):\n",
    "            # quadratic probing\n",
    "            idx = (hash_ + i) % self._size\n",
    "            entry = self._buckets[idx]\n",
    "\n",
    "            # end of chain\n",
    "            if not entry:\n",
    "                break\n",
    "            # remember first empty bucket\n",
    "            elif entry is self.empty:\n",
    "                if idx1 is None:\n",
    "                    idx1 = idx\n",
    "            # test key\n",
    "            elif entry[0] == key:\n",
    "                return idx, entry\n",
    "\n",
    "        else:\n",
    "            # out of space\n",
    "            if idx1 is None:\n",
    "                raise IndexError()\n",
    "\n",
    "        # return first empty bucket\n",
    "        return (idx, None) if idx1 is None else (idx1, None)\n",
    "\n",
    "    def _ensure_capacity(self):\n",
    "        fill = self._count / self._size\n",
    "        \n",
    "        # expand or shrink?\n",
    "        if fill > self.ratio_expand:\n",
    "            self._size = self._size * 2 + 1\n",
    "        elif fill < self.ratio_shrink and self._size > self.min_size:\n",
    "            self._size = (self._size - 1) // 2\n",
    "        else:\n",
    "            return\n",
    "\n",
    "        # reallocate buckets\n",
    "        entries = self._buckets\n",
    "        self._buckets = [None] * self._size\n",
    "\n",
    "        # store entries into new buckets\n",
    "        for entry in entries:\n",
    "            if entry and entry is not self.empty:\n",
    "                idx, _ = self._entry(entry[0])\n",
    "                self._buckets[idx] = entry\n",
    "\n",
    "    def __len__(self):\n",
    "        return self._count\n",
    "\n",
    "    def __contains__(self, key):\n",
    "        _, entry = self._entry(key)\n",
    "        return bool(entry)\n",
    "\n",
    "    def __getitem__(self, key):\n",
    "        _, entry = self._entry(key)\n",
    "        return entry and entry[1]\n",
    "\n",
    "    def __setitem__(self, key, value):\n",
    "        idx, entry = self._entry(key)\n",
    "\n",
    "        # set value\n",
    "        self._buckets[idx] = key, value\n",
    "\n",
    "        # expand\n",
    "        self._count += bool(not entry or entry is self.empty)\n",
    "        self._ensure_capacity()\n",
    "\n",
    "    def __delitem__(self, key):\n",
    "        idx, entry = self._entry(key)\n",
    "\n",
    "        # delete key and value\n",
    "        if entry:\n",
    "            self._buckets[idx] = self.empty\n",
    "\n",
    "        # shrink\n",
    "        self._count -= bool(entry and entry is not self.empty)\n",
    "        self._ensure_capacity()\n",
    "\n",
    "    def __iter__(self):\n",
    "        for entry in self._buckets:\n",
    "            if entry and entry is not self.empty:\n",
    "                yield entry[0]\n",
    "\n",
    "    def slots(self):\n",
    "        return ''.join('-' if not p else 'o' if p is self.empty else 'x' for p in self._buckets)\n"
   ]
  },
  {
   "cell_type": "markdown",
   "metadata": {},
   "source": [
    "## run"
   ]
  },
  {
   "cell_type": "code",
   "execution_count": 3,
   "metadata": {
    "collapsed": true
   },
   "outputs": [],
   "source": [
    "table = HashTable()"
   ]
  },
  {
   "cell_type": "code",
   "execution_count": 4,
   "metadata": {
    "collapsed": false
   },
   "outputs": [],
   "source": [
    "# add random values\n",
    "for _ in range(1000):\n",
    "    key, value = np.random.randint(1000), np.random.rand()\n",
    "    if np.random.rand() >= .5:\n",
    "        table[key] = value\n",
    "    else:\n",
    "        del table[key]"
   ]
  },
  {
   "cell_type": "code",
   "execution_count": 5,
   "metadata": {
    "collapsed": false
   },
   "outputs": [
    {
     "data": {
      "text/plain": [
       "(309, 767)"
      ]
     },
     "execution_count": 5,
     "metadata": {},
     "output_type": "execute_result"
    }
   ],
   "source": [
    "len(table), table._size"
   ]
  },
  {
   "cell_type": "code",
   "execution_count": 6,
   "metadata": {
    "collapsed": false
   },
   "outputs": [
    {
     "data": {
      "text/plain": [
       "'oxxxx-xx---x-xxxxxxxxxxxx-x-x-x--xx-xxxxxoxx-xxxxxxxxxxxxxxx----x--xxxxxxx--xxo-x-x----xx-xx-xxxx-oxxxx-xx-x-o----xxxxx---xxxxxxxoxxxxxxx--x--x-xxox-xxxxxx-----x-xxxx-x-xxxxxoxxx-xx-xxxx-xx-----xxxx-xxxxxxx-x-xx-xoxo-x-xx-oxx-xxxx------xx----o--xo--xxox----x-x-o---x----xx---xx--------xxx----x----x-x--xx-xxxo----xx-x-xx--ox--x-xxx-----x----------x-x---xxxx-x-x---x--xxxo--x----xx--x-x-x---x--x-xxx-x-----xxxx-xx--------xxxxx---------------------x-xx-----xx-------oxxx----x--x----xo----x-------x-x--x------xx--x-xxx-x----x------xxx---o---x---xx--xx------x--x--xx----ox----x-----x--oxx----------x--xx-x--x---x------xxx--x-xx-x-------x--x--x--x--xx--x---x-x-xo-----xxx---------xxo--x---xx----x----x-x-x--x----------------o-x---xxx-o-x--x----------xx----x--x-----x--xx-o'"
      ]
     },
     "execution_count": 6,
     "metadata": {},
     "output_type": "execute_result"
    }
   ],
   "source": [
    "table.slots()"
   ]
  },
  {
   "cell_type": "code",
   "execution_count": 7,
   "metadata": {
    "collapsed": false
   },
   "outputs": [
    {
     "name": "stdout",
     "output_type": "stream",
     "text": [
      "1 0.5616508934358246\n",
      "768 0.02918759614070654\n",
      "3 0.43531050838505947\n",
      "770 0.24205659708634175\n",
      "773 0.13063569064816627\n"
     ]
    }
   ],
   "source": [
    "# print some values\n",
    "for key in list(table)[:5]:\n",
    "    print(key, table[key])"
   ]
  },
  {
   "cell_type": "code",
   "execution_count": 8,
   "metadata": {
    "collapsed": true
   },
   "outputs": [],
   "source": [
    "# delete all the values\n",
    "for key in list(table):\n",
    "    del table[key]"
   ]
  },
  {
   "cell_type": "code",
   "execution_count": 9,
   "metadata": {
    "collapsed": false
   },
   "outputs": [
    {
     "data": {
      "text/plain": [
       "(0, 11)"
      ]
     },
     "execution_count": 9,
     "metadata": {},
     "output_type": "execute_result"
    }
   ],
   "source": [
    "len(table), table._size"
   ]
  }
 ],
 "metadata": {
  "kernelspec": {
   "display_name": "Python 3",
   "language": "python",
   "name": "python3"
  },
  "language_info": {
   "codemirror_mode": {
    "name": "ipython",
    "version": 3
   },
   "file_extension": ".py",
   "mimetype": "text/x-python",
   "name": "python",
   "nbconvert_exporter": "python",
   "pygments_lexer": "ipython3",
   "version": "3.6.5"
  }
 },
 "nbformat": 4,
 "nbformat_minor": 2
}
