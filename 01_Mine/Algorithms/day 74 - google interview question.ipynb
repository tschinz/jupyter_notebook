{
 "cells": [
  {
   "cell_type": "markdown",
   "metadata": {},
   "source": [
    "# Google interview questions\n",
    "There are several articles on the web that discuss the following question which supposedly originates at Google interview.\n",
    "\n",
    "> If the probability of seeing a car on the highway in 30 minutes is 0.95, what is the probability of seeing a car on the highway in 10 minutes? (assume a constant default probability)\n",
    "\n",
    "That’s a question to test my skill in probability — what if math is not my friend, but programming is?\n",
    "\n",
    "The probability of 10-minute interval must be in range between 0 and 1, I know at least as much. And I can simulate Bernoulli event with probability p¹⁰ using uniform random generator: success = rand() < p¹⁰.\n",
    "\n",
    "Next, I can track a road during three independent 10-minute intervals with given probability $p^{10}$ to check if I see a car. If I track many roads at once, I can estimate probability $p^{30}$ of 30-minute interval based on 10-minute intervals with fixed value $p^10$.\n",
    "\n",
    "So, I can find $p^{30}$ for a given value of $p^{10}$, but how do I find $p^{10}$ for desired value of $p^{30}=.95$? The answer is bisection method. It is a kind of binary search on continuous data.\n",
    "\n",
    "Start the search at interval `[0, 1]` and set $p^{10}=.5$\n",
    "* If $p^{30} >.95$, search on `[0, .5]`\n",
    "* If $p^{30} < .95$, search on `[.5, 1]`\n",
    "\n",
    "In just a moment we can find out the probability for 30-minute interval is about 63%. And who says we need math to solve complex tasks?!"
   ]
  },
  {
   "cell_type": "code",
   "execution_count": 2,
   "metadata": {
    "collapsed": true
   },
   "outputs": [],
   "source": [
    "import numpy as np"
   ]
  },
  {
   "cell_type": "markdown",
   "metadata": {},
   "source": [
    "## algorithm"
   ]
  },
  {
   "cell_type": "code",
   "execution_count": 3,
   "metadata": {
    "collapsed": true
   },
   "outputs": [],
   "source": [
    "def solve_question(trials):\n",
    "    # range to search in\n",
    "    probability_range = np.array([0., 1.])\n",
    "\n",
    "    while True:\n",
    "        # prob. to see car in 10 minutes\n",
    "        probability_10min = probability_range.mean()\n",
    "        \n",
    "        # simulate three 10-minute intervals\n",
    "        events = np.random.rand(trials, 3) < probability_10min\n",
    "        events = np.sum(events, axis=1) > 0\n",
    "\n",
    "        # prob. to see car in 30 minutes\n",
    "        probability_30min = np.mean(events)\n",
    "        if abs(probability_30min - .95) < 1e-4:\n",
    "            return probability_10min\n",
    "\n",
    "        # bisection\n",
    "        i = 0 if probability_30min < .95 else 1\n",
    "        probability_range[i] = probability_10min"
   ]
  },
  {
   "cell_type": "markdown",
   "metadata": {},
   "source": [
    "## run"
   ]
  },
  {
   "cell_type": "code",
   "execution_count": 4,
   "metadata": {
    "collapsed": false
   },
   "outputs": [
    {
     "data": {
      "text/plain": [
       "0.631866455078125"
      ]
     },
     "execution_count": 4,
     "metadata": {},
     "output_type": "execute_result"
    }
   ],
   "source": [
    "solve_question(10**6)"
   ]
  },
  {
   "cell_type": "code",
   "execution_count": 5,
   "metadata": {
    "collapsed": false
   },
   "outputs": [
    {
     "data": {
      "text/plain": [
       "0.63079833984375"
      ]
     },
     "execution_count": 5,
     "metadata": {},
     "output_type": "execute_result"
    }
   ],
   "source": [
    "solve_question(10**6)"
   ]
  },
  {
   "cell_type": "code",
   "execution_count": 6,
   "metadata": {
    "collapsed": false
   },
   "outputs": [
    {
     "data": {
      "text/plain": [
       "0.631591796875"
      ]
     },
     "execution_count": 6,
     "metadata": {},
     "output_type": "execute_result"
    }
   ],
   "source": [
    "solve_question(10**6)"
   ]
  },
  {
   "cell_type": "markdown",
   "metadata": {},
   "source": [
    "expected result"
   ]
  },
  {
   "cell_type": "code",
   "execution_count": 7,
   "metadata": {
    "collapsed": false
   },
   "outputs": [
    {
     "data": {
      "text/plain": [
       "0.6315968501359612"
      ]
     },
     "execution_count": 7,
     "metadata": {},
     "output_type": "execute_result"
    }
   ],
   "source": [
    "1 - pow(0.05, 1/3)"
   ]
  }
 ],
 "metadata": {
  "kernelspec": {
   "display_name": "Python 3",
   "language": "python",
   "name": "python3"
  },
  "language_info": {
   "codemirror_mode": {
    "name": "ipython",
    "version": 3
   },
   "file_extension": ".py",
   "mimetype": "text/x-python",
   "name": "python",
   "nbconvert_exporter": "python",
   "pygments_lexer": "ipython3",
   "version": "3.6.5"
  }
 },
 "nbformat": 4,
 "nbformat_minor": 2
}
