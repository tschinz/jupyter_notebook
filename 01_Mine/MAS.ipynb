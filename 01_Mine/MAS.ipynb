{
 "cells": [
  {
   "cell_type": "markdown",
   "metadata": {},
   "source": [
    "# Communication Theory"
   ]
  },
  {
   "cell_type": "markdown",
   "metadata": {},
   "source": [
    "# RF Energy\n",
    "## Friis transmission equation\n",
    "$P_r = P_t G_{Tx} G_{Rx} \\frac{\\lambda^2}{(4\\pi R)^2}$\n",
    "## Friis transmission equation (dB)\n",
    "$P_r = P_t + G_{Tx} + G_{Rx} + 20 log_{10}(\\frac{\\lambda}{4\\pi R})$\n",
    "## FSPL Free Space Path Loss\n",
    "$FSPL(dB) = 10log_{10}((\\frac{4\\pi RF}{c})^2)$\n",
    "$FSPL(dB) = 20log_{10}(R+ 20log_{10}(f)-147.55)$\n",
    "### Nyquist Rate\n",
    "$f_p \\leq 2B$\n",
    "### Shannon Hartley Theorem\n",
    "$C = Bnlog_2(1+\\frac{S}{N})$ (for MIMO)\n",
    "\n",
    "$C = Blog_2(1+\\frac{S}{N})$\n",
    "\n",
    "### Coherence Bandwidth\n",
    "$B_c \\approx \\frac{1}{D}$"
   ]
  },
  {
   "cell_type": "code",
   "execution_count": null,
   "metadata": {},
   "outputs": [],
   "source": []
  }
 ],
 "metadata": {
  "kernelspec": {
   "display_name": "Python 3",
   "language": "python",
   "name": "python3"
  },
  "language_info": {
   "codemirror_mode": {
    "name": "ipython",
    "version": 3
   },
   "file_extension": ".py",
   "mimetype": "text/x-python",
   "name": "python",
   "nbconvert_exporter": "python",
   "pygments_lexer": "ipython3",
   "version": "3.6.8"
  }
 },
 "nbformat": 4,
 "nbformat_minor": 2
}
