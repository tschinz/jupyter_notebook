{
 "cells": [
  {
   "cell_type": "markdown",
   "metadata": {},
   "source": [
    "# Apple Health convert XML to CSV"
   ]
  },
  {
   "cell_type": "markdown",
   "metadata": {},
   "source": [
    "## Setup"
   ]
  },
  {
   "cell_type": "markdown",
   "metadata": {},
   "source": [
    "### Import sub-modules"
   ]
  },
  {
   "cell_type": "code",
   "execution_count": 18,
   "metadata": {},
   "outputs": [
    {
     "data": {
      "text/html": [
       "        <script type=\"text/javascript\">\n",
       "        window.PlotlyConfig = {MathJaxConfig: 'local'};\n",
       "        if (window.MathJax) {MathJax.Hub.Config({SVG: {font: \"STIX-Web\"}});}\n",
       "        if (typeof require !== 'undefined') {\n",
       "        require.undef(\"plotly\");\n",
       "        requirejs.config({\n",
       "            paths: {\n",
       "                'plotly': ['https://cdn.plot.ly/plotly-latest.min']\n",
       "            }\n",
       "        });\n",
       "        require(['plotly'], function(Plotly) {\n",
       "            window._Plotly = Plotly;\n",
       "        });\n",
       "        }\n",
       "        </script>\n",
       "        "
      ]
     },
     "metadata": {},
     "output_type": "display_data"
    },
    {
     "name": "stdout",
     "output_type": "stream",
     "text": [
      "The watermark extension is already loaded. To reload it, use:\n",
      "  %reload_ext watermark\n",
      "numpy               1.16.2\n",
      "IPython             7.4.0\n",
      "pandas              0.24.2\n",
      "plotly              3.8.1\n",
      "watermark           1.8.1\n",
      "HealthDataExtractor 1.3\n",
      "Silvan Zahno 2019-07-02 \n",
      "\n",
      "CPython 3.7.3\n",
      "IPython 7.4.0\n",
      "\n",
      "compiler   : MSC v.1915 64 bit (AMD64)\n",
      "system     : Windows\n",
      "release    : 10\n",
      "machine    : AMD64\n",
      "processor  : Intel64 Family 6 Model 142 Stepping 10, GenuineIntel\n",
      "CPU cores  : 8\n",
      "interpreter: 64bit\n",
      "host name  : WE6996\n"
     ]
    }
   ],
   "source": [
    "# python\n",
    "import sys\n",
    "import os\n",
    "import datetime\n",
    "import enum\n",
    "\n",
    "# iPython\n",
    "import IPython\n",
    "from IPython.display import display\n",
    "from IPython.display import Image\n",
    "\n",
    "# pandas\n",
    "import pandas as pd\n",
    "\n",
    "# numpy\n",
    "import numpy as np\n",
    "\n",
    "# plotly\n",
    "import plotly as ply\n",
    "import plotly.figure_factory as ff\n",
    "ply.offline.init_notebook_mode(connected=True)\n",
    "import plotly.io as pio\n",
    "\n",
    "# Apple Health Data Extractor\n",
    "# https://github.com/markwk/qs_ledger/tree/master/apple_health\n",
    "import HealthDataExtractor\n",
    "\n",
    "# watermark\n",
    "import watermark\n",
    "%load_ext watermark\n",
    "%watermark -a \"Silvan Zahno\" -d -v -iv -m -h"
   ]
  },
  {
   "cell_type": "markdown",
   "metadata": {},
   "source": [
    "### Configuration"
   ]
  },
  {
   "cell_type": "code",
   "execution_count": 19,
   "metadata": {},
   "outputs": [],
   "source": [
    "# Setup local input directories\n",
    "inputDir = \"in/\"\n",
    "\n",
    "if (os.path.exists(inputDir)) is False:\n",
    "    os.makedirs(inputDir)\n",
    "if (os.path.isdir(inputDir)) is False:\n",
    "    raise NotADirectoryError(\"{} is not a directory\".format(inputDir))"
   ]
  },
  {
   "cell_type": "code",
   "execution_count": 20,
   "metadata": {},
   "outputs": [],
   "source": [
    "# Setup local input directories\n",
    "outputDir = \"out/\"\n",
    "\n",
    "if (os.path.exists(outputDir)) is False:\n",
    "    os.makedirs(outputDir)\n",
    "if (os.path.isdir(outputDir)) is False:\n",
    "    raise NotADirectoryError(\"{} is not a directory\".format(outputDir))"
   ]
  },
  {
   "cell_type": "code",
   "execution_count": 21,
   "metadata": {},
   "outputs": [],
   "source": [
    "# Graph output Options\n",
    "class GraphOutputOption(enum.Enum):\n",
    "    none = 'none'                     # Do not generate any plots\n",
    "    inline = 'inline'                 # Generate inline plots only\n",
    "    htmlFile = 'extFile'              # Generate plots in external files (html or png or ...)\n",
    "    both = 'both'                     # Generate all plots inline and external\n",
    "    \n",
    "class GraphInteractionOption(enum.Enum):\n",
    "    static = 'static'                 # Generate static inline plots (as images)\n",
    "    interactive = 'interactive'       # Generate interactive inline plots\n",
    "\n",
    "notebookGraphingInteraction = GraphInteractionOption('interactive')\n",
    "notebookGraphingOutputs = GraphOutputOption('both')\n",
    "\n",
    "ext_file = \".svg\"\n",
    "\n",
    "staticImageSize = {'width':1000, 'height':500, 'scale':1}\n",
    "\n",
    "GraphAutoOpenHTML = False              # Auto open external HTML files [True/False]\n",
    "\n",
    "class PrintOutputOption(enum.Enum):\n",
    "    none = 'none'                     # Do not output either to file or console\n",
    "    console = 'console'               # Send to console\n",
    "    file = 'file'                     # Send to file\n",
    "    both = 'both'                     # Send to console and file\n"
   ]
  },
  {
   "cell_type": "code",
   "execution_count": 22,
   "metadata": {},
   "outputs": [],
   "source": [
    "# Pandas output options\n",
    "pd.set_option('display.max_rows', 50)\n",
    "pd.set_option('display.max_columns', 50)\n",
    "pd.set_option('display.width', 100)"
   ]
  },
  {
   "cell_type": "markdown",
   "metadata": {},
   "source": [
    "### Common functions"
   ]
  },
  {
   "cell_type": "code",
   "execution_count": 23,
   "metadata": {},
   "outputs": [],
   "source": [
    "# Plot figures\n",
    "def plot_figure(graphFilename, fig, overrideNotebookGraphingInteraction=None, height=350):\n",
    "    \"\"\"Creates the graph plots depending on the choosen option\n",
    "\n",
    "    Args:\n",
    "        graphFilename: Filename of the output html-file in case of Option htmlfile\n",
    "        fig: ply.graph_objs.Figure(data=traces, layout=mylayout)\n",
    "        overrideNotebookGraphingInteraction: overrides graphic output for this figure\n",
    "        height: height of the static image export\n",
    "    Returns:\n",
    "        None\n",
    "    Raises:\n",
    "        None\n",
    "\n",
    "    \"\"\"\n",
    "    if (notebookGraphingOutputs == GraphOutputOption('extFile')) or (notebookGraphingOutputs == GraphOutputOption('both')):\n",
    "        if (os.path.splitext(graphFilename)[1] == '.png' or \n",
    "           os.path.splitext(graphFilename)[1] == '.jpg' or \n",
    "           os.path.splitext(graphFilename)[1] == '.svg' or \n",
    "           os.path.splitext(graphFilename)[1] == '.pdf'):\n",
    "            pio.write_image(fig, graphFilename, height=height)\n",
    "        elif os.path.splitext(graphFilename)[1] == '.html':\n",
    "            ply.offline.plot(fig, filename=graphFilename, auto_open=GraphAutoOpenHTML)\n",
    "    if (notebookGraphingOutputs == GraphOutputOption('inline')) or (notebookGraphingOutputs == GraphOutputOption('both')):\n",
    "        choice = None\n",
    "        if overrideNotebookGraphingInteraction == None:\n",
    "            if notebookGraphingInteraction == GraphInteractionOption('static'):\n",
    "                choice = 'static'\n",
    "            elif notebookGraphingInteraction == GraphInteractionOption('interactive'):\n",
    "                choice = 'interactive'\n",
    "        elif overrideNotebookGraphingInteraction == GraphInteractionOption('static'):\n",
    "            choice = 'static'\n",
    "        elif overrideNotebookGraphingInteraction == GraphInteractionOption('interactive'):\n",
    "            choice = 'interactive'\n",
    "        else:\n",
    "            choice = 'static'\n",
    "            \n",
    "        if choice == 'static':\n",
    "            plot_img = pio.to_image(fig, format='png', width=staticImageSize['width'], height=staticImageSize['height'], scale=staticImageSize['scale'])\n",
    "            display(Image(plot_img))\n",
    "        else:\n",
    "            ply.offline.iplot(fig)\n",
    "            "
   ]
  },
  {
   "cell_type": "code",
   "execution_count": 24,
   "metadata": {},
   "outputs": [],
   "source": [
    "def print_file(text=\"\", file=None, outputOption=PrintOutputOption('console'), append=True):\n",
    "    \"\"\"Custom print function to print to console and/or file\n",
    "\n",
    "    Args:\n",
    "        text: String to be used\n",
    "        file: output file path for fileoutput\n",
    "        fileoutput: bool sends string to file\n",
    "        consoleoutput: PrintOutputOption to specify where to send the string\n",
    "        append: For fileoutput only, create new file or append to existing\n",
    "    Returns:\n",
    "        None\n",
    "    Raises:\n",
    "        None\n",
    "\n",
    "    \"\"\"\n",
    "    if (outputOption == PrintOutputOption('file') or outputOption == PrintOutputOption('both')):\n",
    "        if append:\n",
    "            with open(file, \"a+\") as file:\n",
    "                file.write(text+\"\\n\")#os.linesep)\n",
    "        else:\n",
    "            with open(file, \"w+\") as file:\n",
    "                file.write(text+\"\\n\")#os.linesep)\n",
    "    if (outputOption == PrintOutputOption('console') or outputOption == PrintOutputOption('both')):\n",
    "        print(text)"
   ]
  },
  {
   "cell_type": "markdown",
   "metadata": {},
   "source": [
    "## Data Import"
   ]
  },
  {
   "cell_type": "code",
   "execution_count": 25,
   "metadata": {},
   "outputs": [
    {
     "name": "stdout",
     "output_type": "stream",
     "text": [
      "Files from directory  in/\n",
      "  *  export.xml\n",
      "  *  export_cda.xml\n"
     ]
    }
   ],
   "source": [
    "dirlist = os.listdir(inputDir)\n",
    "print(\"Files from directory \", inputDir)\n",
    "for file in dirlist:\n",
    "  print(\"  * \",file)\n"
   ]
  },
  {
   "cell_type": "markdown",
   "metadata": {},
   "source": [
    "### Convert to CSV"
   ]
  },
  {
   "cell_type": "code",
   "execution_count": 27,
   "metadata": {},
   "outputs": [
    {
     "name": "stdout",
     "output_type": "stream",
     "text": [
      "Reading data from in/export.xml . . . done\n",
      "Unexpected node of type ExportDate.\n",
      "\n",
      "Tags:\n",
      "ExportDate: 1\n",
      "Me: 1\n",
      "Record: 418910\n",
      "Workout: 110\n",
      "\n",
      "Fields:\n",
      "HKCharacteristicTypeIdentifierBiologicalSex: 1\n",
      "HKCharacteristicTypeIdentifierBloodType: 1\n",
      "HKCharacteristicTypeIdentifierDateOfBirth: 1\n",
      "HKCharacteristicTypeIdentifierFitzpatrickSkinType: 1\n",
      "creationDate: 419020\n",
      "device: 149610\n",
      "duration: 110\n",
      "durationUnit: 110\n",
      "endDate: 419020\n",
      "sourceName: 419020\n",
      "sourceVersion: 150033\n",
      "startDate: 419020\n",
      "totalDistance: 110\n",
      "totalDistanceUnit: 110\n",
      "totalEnergyBurned: 110\n",
      "totalEnergyBurnedUnit: 110\n",
      "type: 418910\n",
      "unit: 418318\n",
      "value: 418911\n",
      "workoutActivityType: 110\n",
      "\n",
      "Record types:\n",
      "ActiveEnergyBurned: 110\n",
      "BloodAlcoholContent: 4\n",
      "BodyFatPercentage: 2\n",
      "BodyMass: 21\n",
      "BodyMassIndex: 20\n",
      "DietaryCaffeine: 4\n",
      "DietaryWater: 18\n",
      "DistanceCycling: 17\n",
      "DistanceWalkingRunning: 185915\n",
      "FlightsClimbed: 52615\n",
      "HeartRate: 56\n",
      "Height: 1\n",
      "SleepAnalysis: 592\n",
      "StepCount: 179535\n",
      "\n",
      "Opening C:\\Users\\silvan.zahno\\Workspace\\Dropbox\\Programming\\ipython\\01_Mine\\apple_health\\in\\BloodAlcoholContent.csv for writing\n",
      "Opening C:\\Users\\silvan.zahno\\Workspace\\Dropbox\\Programming\\ipython\\01_Mine\\apple_health\\in\\DietaryWater.csv for writing\n",
      "Opening C:\\Users\\silvan.zahno\\Workspace\\Dropbox\\Programming\\ipython\\01_Mine\\apple_health\\in\\BodyMassIndex.csv for writing\n",
      "Opening C:\\Users\\silvan.zahno\\Workspace\\Dropbox\\Programming\\ipython\\01_Mine\\apple_health\\in\\Height.csv for writing\n",
      "Opening C:\\Users\\silvan.zahno\\Workspace\\Dropbox\\Programming\\ipython\\01_Mine\\apple_health\\in\\BodyMass.csv for writing\n",
      "Opening C:\\Users\\silvan.zahno\\Workspace\\Dropbox\\Programming\\ipython\\01_Mine\\apple_health\\in\\HeartRate.csv for writing\n",
      "Opening C:\\Users\\silvan.zahno\\Workspace\\Dropbox\\Programming\\ipython\\01_Mine\\apple_health\\in\\BodyFatPercentage.csv for writing\n",
      "Opening C:\\Users\\silvan.zahno\\Workspace\\Dropbox\\Programming\\ipython\\01_Mine\\apple_health\\in\\StepCount.csv for writing\n",
      "Opening C:\\Users\\silvan.zahno\\Workspace\\Dropbox\\Programming\\ipython\\01_Mine\\apple_health\\in\\DistanceWalkingRunning.csv for writing\n",
      "Opening C:\\Users\\silvan.zahno\\Workspace\\Dropbox\\Programming\\ipython\\01_Mine\\apple_health\\in\\ActiveEnergyBurned.csv for writing\n",
      "Opening C:\\Users\\silvan.zahno\\Workspace\\Dropbox\\Programming\\ipython\\01_Mine\\apple_health\\in\\FlightsClimbed.csv for writing\n",
      "Opening C:\\Users\\silvan.zahno\\Workspace\\Dropbox\\Programming\\ipython\\01_Mine\\apple_health\\in\\DietaryCaffeine.csv for writing\n",
      "Opening C:\\Users\\silvan.zahno\\Workspace\\Dropbox\\Programming\\ipython\\01_Mine\\apple_health\\in\\DistanceCycling.csv for writing\n",
      "Opening C:\\Users\\silvan.zahno\\Workspace\\Dropbox\\Programming\\ipython\\01_Mine\\apple_health\\in\\SleepAnalysis.csv for writing\n",
      "Opening C:\\Users\\silvan.zahno\\Workspace\\Dropbox\\Programming\\ipython\\01_Mine\\apple_health\\in\\Workout.csv for writing\n",
      "Written BloodAlcoholContent data.\n",
      "Written DietaryWater data.\n",
      "Written BodyMassIndex data.\n",
      "Written Height data.\n",
      "Written BodyMass data.\n",
      "Written HeartRate data.\n",
      "Written BodyFatPercentage data.\n",
      "Written StepCount data.\n",
      "Written DistanceWalkingRunning data.\n",
      "Written ActiveEnergyBurned data.\n",
      "Written FlightsClimbed data.\n",
      "Written DietaryCaffeine data.\n",
      "Written DistanceCycling data.\n",
      "Written SleepAnalysis data.\n",
      "Written Workout data.\n"
     ]
    }
   ],
   "source": [
    "data = HealthDataExtractor.HealthDataExtractor(inputDir + \"export.xml\")\n",
    "data.report_stats()\n",
    "data.extract()"
   ]
  },
  {
   "cell_type": "code",
   "execution_count": null,
   "metadata": {},
   "outputs": [],
   "source": []
  }
 ],
 "metadata": {
  "kernelspec": {
   "display_name": "Python 3",
   "language": "python",
   "name": "python3"
  },
  "language_info": {
   "codemirror_mode": {
    "name": "ipython",
    "version": 3
   },
   "file_extension": ".py",
   "mimetype": "text/x-python",
   "name": "python",
   "nbconvert_exporter": "python",
   "pygments_lexer": "ipython3",
   "version": "3.7.3"
  }
 },
 "nbformat": 4,
 "nbformat_minor": 2
}
