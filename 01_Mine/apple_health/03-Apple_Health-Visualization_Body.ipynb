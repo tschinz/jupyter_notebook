{
 "cells": [
  {
   "cell_type": "markdown",
   "metadata": {},
   "source": [
    "# Apple Health Visualization Body\n",
    "  * Weight\n",
    "  * Fat\n",
    "  * BMI\n",
    "  * HeartRate\n",
    "  * Height"
   ]
  },
  {
   "cell_type": "markdown",
   "metadata": {},
   "source": [
    "## Setup"
   ]
  },
  {
   "cell_type": "markdown",
   "metadata": {},
   "source": [
    "### Import sub-modules"
   ]
  },
  {
   "cell_type": "code",
   "execution_count": 1,
   "metadata": {},
   "outputs": [
    {
     "data": {
      "text/html": [
       "        <script type=\"text/javascript\">\n",
       "        window.PlotlyConfig = {MathJaxConfig: 'local'};\n",
       "        if (window.MathJax) {MathJax.Hub.Config({SVG: {font: \"STIX-Web\"}});}\n",
       "        if (typeof require !== 'undefined') {\n",
       "        require.undef(\"plotly\");\n",
       "        requirejs.config({\n",
       "            paths: {\n",
       "                'plotly': ['https://cdn.plot.ly/plotly-latest.min']\n",
       "            }\n",
       "        });\n",
       "        require(['plotly'], function(Plotly) {\n",
       "            window._Plotly = Plotly;\n",
       "        });\n",
       "        }\n",
       "        </script>\n",
       "        "
      ]
     },
     "metadata": {},
     "output_type": "display_data"
    },
    {
     "name": "stdout",
     "output_type": "stream",
     "text": [
      "numpy     1.16.2\n",
      "plotly    3.8.1\n",
      "pandas    0.24.2\n",
      "watermark 1.8.1\n",
      "IPython   7.4.0\n",
      "Silvan Zahno 2019-07-03 \n",
      "\n",
      "CPython 3.7.3\n",
      "IPython 7.4.0\n",
      "\n",
      "compiler   : MSC v.1915 64 bit (AMD64)\n",
      "system     : Windows\n",
      "release    : 10\n",
      "machine    : AMD64\n",
      "processor  : Intel64 Family 6 Model 142 Stepping 10, GenuineIntel\n",
      "CPU cores  : 8\n",
      "interpreter: 64bit\n",
      "host name  : WE6996\n"
     ]
    }
   ],
   "source": [
    "# python\n",
    "import sys\n",
    "import os\n",
    "import datetime\n",
    "import enum\n",
    "\n",
    "# iPython\n",
    "import IPython\n",
    "from IPython.display import display\n",
    "from IPython.display import Image\n",
    "\n",
    "# pandas\n",
    "import pandas as pd\n",
    "\n",
    "# numpy\n",
    "import numpy as np\n",
    "\n",
    "# plotly\n",
    "import plotly as ply\n",
    "import plotly.figure_factory as ff\n",
    "ply.offline.init_notebook_mode(connected=True)\n",
    "import plotly.io as pio\n",
    "\n",
    "# watermark\n",
    "import watermark\n",
    "%load_ext watermark\n",
    "%watermark -a \"Silvan Zahno\" -d -v -iv -m -h"
   ]
  },
  {
   "cell_type": "markdown",
   "metadata": {},
   "source": [
    "### Configuration"
   ]
  },
  {
   "cell_type": "code",
   "execution_count": 2,
   "metadata": {},
   "outputs": [],
   "source": [
    "# Setup local input directories\n",
    "inputDir = \"in/\"\n",
    "\n",
    "if (os.path.exists(inputDir)) is False:\n",
    "    os.makedirs(inputDir)\n",
    "if (os.path.isdir(inputDir)) is False:\n",
    "    raise NotADirectoryError(\"{} is not a directory\".format(inputDir))"
   ]
  },
  {
   "cell_type": "code",
   "execution_count": 3,
   "metadata": {},
   "outputs": [],
   "source": [
    "# Setup local input directories\n",
    "outputDir = \"out/\"\n",
    "\n",
    "if (os.path.exists(outputDir)) is False:\n",
    "    os.makedirs(outputDir)\n",
    "if (os.path.isdir(outputDir)) is False:\n",
    "    raise NotADirectoryError(\"{} is not a directory\".format(outputDir))"
   ]
  },
  {
   "cell_type": "code",
   "execution_count": 4,
   "metadata": {},
   "outputs": [],
   "source": [
    "# Graph output Options\n",
    "class GraphOutputOption(enum.Enum):\n",
    "    none = 'none'                     # Do not generate any plots\n",
    "    inline = 'inline'                 # Generate inline plots only\n",
    "    htmlFile = 'extFile'              # Generate plots in external files (html or png or ...)\n",
    "    both = 'both'                     # Generate all plots inline and external\n",
    "    \n",
    "class GraphInteractionOption(enum.Enum):\n",
    "    static = 'static'                 # Generate static inline plots (as images)\n",
    "    interactive = 'interactive'       # Generate interactive inline plots\n",
    "\n",
    "notebookGraphingInteraction = GraphInteractionOption('interactive')\n",
    "notebookGraphingOutputs = GraphOutputOption('both')\n",
    "\n",
    "ext_file = \".svg\"\n",
    "\n",
    "staticImageSize = {'width':1000, 'height':500, 'scale':1}\n",
    "\n",
    "GraphAutoOpenHTML = False              # Auto open external HTML files [True/False]\n",
    "\n",
    "class PrintOutputOption(enum.Enum):\n",
    "    none = 'none'                     # Do not output either to file or console\n",
    "    console = 'console'               # Send to console\n",
    "    file = 'file'                     # Send to file\n",
    "    both = 'both'                     # Send to console and file\n"
   ]
  },
  {
   "cell_type": "code",
   "execution_count": 5,
   "metadata": {},
   "outputs": [],
   "source": [
    "# Pandas output options\n",
    "pd.set_option('display.max_rows', 50)\n",
    "pd.set_option('display.max_columns', 50)\n",
    "pd.set_option('display.width', 100)"
   ]
  },
  {
   "cell_type": "markdown",
   "metadata": {},
   "source": [
    "### Common functions"
   ]
  },
  {
   "cell_type": "code",
   "execution_count": 6,
   "metadata": {},
   "outputs": [],
   "source": [
    "# Plot figures\n",
    "def plot_figure(graphFilename, fig, overrideNotebookGraphingInteraction=None, height=350):\n",
    "    \"\"\"Creates the graph plots depending on the choosen option\n",
    "\n",
    "    Args:\n",
    "        graphFilename: Filename of the output html-file in case of Option htmlfile\n",
    "        fig: ply.graph_objs.Figure(data=traces, layout=mylayout)\n",
    "        overrideNotebookGraphingInteraction: overrides graphic output for this figure\n",
    "        height: height of the static image export\n",
    "    Returns:\n",
    "        None\n",
    "    Raises:\n",
    "        None\n",
    "\n",
    "    \"\"\"\n",
    "    if (notebookGraphingOutputs == GraphOutputOption('extFile')) or (notebookGraphingOutputs == GraphOutputOption('both')):\n",
    "        if (os.path.splitext(graphFilename)[1] == '.png' or \n",
    "           os.path.splitext(graphFilename)[1] == '.jpg' or \n",
    "           os.path.splitext(graphFilename)[1] == '.svg' or \n",
    "           os.path.splitext(graphFilename)[1] == '.pdf'):\n",
    "            pio.write_image(fig, graphFilename, height=height)\n",
    "        elif os.path.splitext(graphFilename)[1] == '.html':\n",
    "            ply.offline.plot(fig, filename=graphFilename, auto_open=GraphAutoOpenHTML)\n",
    "    if (notebookGraphingOutputs == GraphOutputOption('inline')) or (notebookGraphingOutputs == GraphOutputOption('both')):\n",
    "        choice = None\n",
    "        if overrideNotebookGraphingInteraction == None:\n",
    "            if notebookGraphingInteraction == GraphInteractionOption('static'):\n",
    "                choice = 'static'\n",
    "            elif notebookGraphingInteraction == GraphInteractionOption('interactive'):\n",
    "                choice = 'interactive'\n",
    "        elif overrideNotebookGraphingInteraction == GraphInteractionOption('static'):\n",
    "            choice = 'static'\n",
    "        elif overrideNotebookGraphingInteraction == GraphInteractionOption('interactive'):\n",
    "            choice = 'interactive'\n",
    "        else:\n",
    "            choice = 'static'\n",
    "            \n",
    "        if choice == 'static':\n",
    "            plot_img = pio.to_image(fig, format='png', width=staticImageSize['width'], height=staticImageSize['height'], scale=staticImageSize['scale'])\n",
    "            display(Image(plot_img))\n",
    "        else:\n",
    "            ply.offline.iplot(fig)\n",
    "            "
   ]
  },
  {
   "cell_type": "code",
   "execution_count": 7,
   "metadata": {},
   "outputs": [],
   "source": [
    "def print_file(text=\"\", file=None, outputOption=PrintOutputOption('console'), append=True):\n",
    "    \"\"\"Custom print function to print to console and/or file\n",
    "\n",
    "    Args:\n",
    "        text: String to be used\n",
    "        file: output file path for fileoutput\n",
    "        fileoutput: bool sends string to file\n",
    "        consoleoutput: PrintOutputOption to specify where to send the string\n",
    "        append: For fileoutput only, create new file or append to existing\n",
    "    Returns:\n",
    "        None\n",
    "    Raises:\n",
    "        None\n",
    "    \"\"\"\n",
    "    if (outputOption == PrintOutputOption('file') or outputOption == PrintOutputOption('both')):\n",
    "        if append:\n",
    "            with open(file, \"a+\") as file:\n",
    "                file.write(text+\"\\n\")#os.linesep)\n",
    "        else:\n",
    "            with open(file, \"w+\") as file:\n",
    "                file.write(text+\"\\n\")#os.linesep)\n",
    "    if (outputOption == PrintOutputOption('console') or outputOption == PrintOutputOption('both')):\n",
    "        print(text)"
   ]
  },
  {
   "cell_type": "code",
   "execution_count": 42,
   "metadata": {},
   "outputs": [],
   "source": [
    "def value_stats(measurement):\n",
    "    print(\"\\n{}\".format(df_description[measurement]))\n",
    "    print(\"  * Time between {} - {}\".format(dfs[df_list[measurement]].startDate.iat[0], dfs[df_list[measurement]].startDate.iat[-1]))\n",
    "    print(\"  * Measured by {}\".format(dfs[df_list[measurement]].sourceName.iat[0]))\n",
    "    print(\"  * {} measurements\".format(len(dfs[df_list[measurement]].value)))\n",
    "    print(\"  * Total {} {}\".format(dfs[df_list[measurement]].value.sum(), dfs[df_list[measurement]].unit.iat[0]))    "
   ]
  },
  {
   "cell_type": "code",
   "execution_count": 53,
   "metadata": {},
   "outputs": [],
   "source": [
    "def plot_value_vs_time(df, measurement = None, rolling_mean = 3):\n",
    "    # plot value vs time\n",
    "    # .. prepare traces\n",
    "    trace_value = ply.graph_objs.Scatter(\n",
    "        x=df.index,\n",
    "        y=df.value,\n",
    "        mode='markers',\n",
    "        name=df_description[measurement],\n",
    "    )\n",
    "    \n",
    "    # .. add a rolling mean to data\n",
    "    trace_value_mean = ply.graph_objs.Scatter(\n",
    "        x=df.index,\n",
    "        y=df.value.rolling(3).mean(),\n",
    "        mode='lines',\n",
    "        name=\"{} Rolling Mean\".format(df_description[measurement]),\n",
    "    )\n",
    "    \n",
    "    # .. set layout\n",
    "    mylayout = ply.graph_objs.Layout(\n",
    "        title=\"{} vs Time\".format(df_description[measurement]),\n",
    "        yaxis=dict(\n",
    "            title=\"{} [{}]\".format(df_description[measurement], df.unit[0])\n",
    "        )\n",
    "    )\n",
    "    \n",
    "    # .. set data to plot\n",
    "    traces = [trace_value, trace_value_mean]\n",
    "    \n",
    "    # .. plot\n",
    "    graphFilename = outputDir + mylayout.title.text + ' - Scatter vs Time.html'\n",
    "    fig = ply.graph_objs.Figure(data=traces, layout=mylayout)\n",
    "    plot_figure(graphFilename, fig)"
   ]
  },
  {
   "cell_type": "markdown",
   "metadata": {},
   "source": [
    "## Data import"
   ]
  },
  {
   "cell_type": "code",
   "execution_count": 56,
   "metadata": {},
   "outputs": [],
   "source": [
    "df_list = {\n",
    "'energy': 0,\n",
    "'alcohol': 1,\n",
    "'fat': 2,\n",
    "'weight': 3,\n",
    "'bmi': 4,\n",
    "'caffeine': 5,\n",
    "'water': 6,\n",
    "'cycling': 7,\n",
    "'walking': 8,\n",
    "'flightsclimbed': 9,\n",
    "'heartrate': 10,\n",
    "'height': 11,\n",
    "'sleep': 12,\n",
    "'steps': 13,\n",
    "'workout': 14\n",
    "}\n",
    "df_description = {\n",
    "'energy': \"Active Energy Burned\",\n",
    "'alcohol': \"Blood Alcohol Content\",\n",
    "'fat': \"Body Fat Percentage\",\n",
    "'weight': \"Body Mass\",\n",
    "'bmi': \"Body Mass Index\",\n",
    "'caffeine': \"Dietary Caffeine\",\n",
    "'water': \"Dietary Water\",\n",
    "'cycling': \"Distance Cycling\",\n",
    "'walking': \"Distance Walink & Running\",\n",
    "'flightsclimbed': \"Number of Flights Climbed\",\n",
    "'heartrate': \"Heart Rate\",\n",
    "'height': \"Height\",\n",
    "'sleep': \"Sleep Analysis\",\n",
    "'steps': \"Step Count\",\n",
    "'workout': \"Workout\"\n",
    "}\n",
    "dfs = []\n",
    "dfs.append(pd.read_csv(inputDir + \"ActiveEnergyBurned.csv\"))\n",
    "dfs.append(pd.read_csv(inputDir + \"BloodAlcoholContent.csv\"))\n",
    "dfs.append(pd.read_csv(inputDir + \"BodyFatPercentage.csv\"))\n",
    "dfs.append(pd.read_csv(inputDir + \"BodyMass.csv\"))\n",
    "dfs.append(pd.read_csv(inputDir + \"BodyMassIndex.csv\"))\n",
    "dfs.append(pd.read_csv(inputDir + \"DietaryCaffeine.csv\"))\n",
    "dfs.append(pd.read_csv(inputDir + \"DietaryWater.csv\"))\n",
    "dfs.append(pd.read_csv(inputDir + \"DistanceCycling.csv\"))\n",
    "dfs.append(pd.read_csv(inputDir + \"DistanceWalkingRunning.csv\"))\n",
    "dfs.append(pd.read_csv(inputDir + \"FlightsClimbed.csv\"))\n",
    "dfs.append(pd.read_csv(inputDir + \"HeartRate.csv\"))\n",
    "dfs.append(pd.read_csv(inputDir + \"Height.csv\"))\n",
    "dfs.append(pd.read_csv(inputDir + \"SleepAnalysis.csv\"))\n",
    "dfs.append(pd.read_csv(inputDir + \"StepCount.csv\"))\n",
    "dfs.append(pd.read_csv(inputDir + \"Workout.csv\"))"
   ]
  },
  {
   "cell_type": "markdown",
   "metadata": {},
   "source": [
    "## Visualization"
   ]
  },
  {
   "cell_type": "markdown",
   "metadata": {},
   "source": [
    "### Weight"
   ]
  },
  {
   "cell_type": "code",
   "execution_count": 57,
   "metadata": {},
   "outputs": [],
   "source": [
    "measurement = 'weight'\n",
    "dfs[df_list[measurement]]['creationDate'] =  pd.to_datetime(dfs[df_list[measurement]]['creationDate'], format='%Y-%m-%d %H:%M:%S', utc=True)\n",
    "dfs[df_list[measurement]]['startDate'] =  pd.to_datetime(dfs[df_list[measurement]]['startDate'], format='%Y-%m-%d %H:%M:%S', utc=True)\n",
    "dfs[df_list[measurement]]['endDate'] =  pd.to_datetime(dfs[df_list[measurement]]['endDate'], format='%Y-%m-%d %H:%M:%S', utc=True)\n",
    "dfs[df_list[measurement]].set_index('creationDate', inplace=True)"
   ]
  },
  {
   "cell_type": "code",
   "execution_count": 58,
   "metadata": {},
   "outputs": [
    {
     "name": "stdout",
     "output_type": "stream",
     "text": [
      "\n",
      "Body Mass\n",
      "  * Time between 2014-11-01 18:55:00+00:00 - 2019-01-23 07:27:00+00:00\n",
      "  * Measured by Health\n",
      "  * 21 measurements\n",
      "  * Total 1503.7000000000003 kg\n"
     ]
    },
    {
     "data": {
      "application/vnd.plotly.v1+json": {
       "config": {
        "linkText": "Export to plot.ly",
        "plotlyServerURL": "https://plot.ly",
        "responsive": true,
        "showLink": false
       },
       "data": [
        {
         "mode": "markers",
         "name": "Body Mass",
         "type": "scatter",
         "uid": "ec9b2d14-2d4a-43b2-af72-f8961bc549ff",
         "x": [
          "2014-11-01 18:55:29",
          "2019-01-21 17:21:30",
          "2019-01-21 17:22:11",
          "2019-01-21 17:33:09",
          "2019-01-21 17:33:37",
          "2019-01-21 17:33:55",
          "2019-01-21 17:34:06",
          "2019-01-21 17:35:19",
          "2019-01-21 17:37:49",
          "2019-01-21 17:39:08",
          "2019-01-21 17:42:35",
          "2019-01-21 17:43:27",
          "2019-01-21 17:44:36",
          "2019-01-21 17:46:09",
          "2019-01-21 17:47:08",
          "2019-01-21 17:47:16",
          "2019-01-21 19:05:17",
          "2019-01-21 19:17:09",
          "2019-01-22 05:11:10",
          "2019-01-22 06:26:57",
          "2019-01-23 07:27:27"
         ],
         "y": [
          70.8,
          71.9,
          71.9,
          71.9,
          71.9,
          71.9,
          71.9,
          71.9,
          71.9,
          71.9,
          71.9,
          71.9,
          71.9,
          71.9,
          71.9,
          71.9,
          71.9,
          71.9,
          70,
          70,
          70.6
         ]
        },
        {
         "mode": "lines",
         "name": "Body Mass Rolling Mean",
         "type": "scatter",
         "uid": "33acd5cf-0c6b-4c99-8805-f0922d360b55",
         "x": [
          "2014-11-01 18:55:29",
          "2019-01-21 17:21:30",
          "2019-01-21 17:22:11",
          "2019-01-21 17:33:09",
          "2019-01-21 17:33:37",
          "2019-01-21 17:33:55",
          "2019-01-21 17:34:06",
          "2019-01-21 17:35:19",
          "2019-01-21 17:37:49",
          "2019-01-21 17:39:08",
          "2019-01-21 17:42:35",
          "2019-01-21 17:43:27",
          "2019-01-21 17:44:36",
          "2019-01-21 17:46:09",
          "2019-01-21 17:47:08",
          "2019-01-21 17:47:16",
          "2019-01-21 19:05:17",
          "2019-01-21 19:17:09",
          "2019-01-22 05:11:10",
          "2019-01-22 06:26:57",
          "2019-01-23 07:27:27"
         ],
         "y": [
          null,
          null,
          71.53333333333333,
          71.89999999999999,
          71.9,
          71.9,
          71.9,
          71.9,
          71.9,
          71.9,
          71.9,
          71.9,
          71.9,
          71.9,
          71.9,
          71.9,
          71.9,
          71.9,
          71.26666666666668,
          70.63333333333335,
          70.20000000000002
         ]
        }
       ],
       "layout": {
        "autosize": true,
        "title": {
         "text": "Body Mass vs Time"
        },
        "xaxis": {
         "autorange": true,
         "range": [
          "2014-08-01 01:11:37.9859",
          "2019-04-26 01:11:18.0141"
         ],
         "type": "date"
        },
        "yaxis": {
         "autorange": true,
         "range": [
          69.84320388349515,
          72.05679611650486
         ],
         "title": {
          "text": "Body Mass [kg]"
         },
         "type": "linear"
        }
       }
      },
      "image/png": "[encoded data removed]",
      "text/html": [
       "<div>\n",
       "        \n",
       "        \n",
       "            <div id=\"e246a09b-ff0f-41dc-a3e5-5bd39cdb3e67\" class=\"plotly-graph-div\" style=\"height:525px; width:100%;\"></div>\n",
       "            <script type=\"text/javascript\">\n",
       "                require([\"plotly\"], function(Plotly) {\n",
       "                    window.PLOTLYENV=window.PLOTLYENV || {};\n",
       "                    window.PLOTLYENV.BASE_URL='https://plot.ly';\n",
       "                    \n",
       "                if (document.getElementById(\"e246a09b-ff0f-41dc-a3e5-5bd39cdb3e67\")) {\n",
       "                    Plotly.newPlot(\n",
       "                        'e246a09b-ff0f-41dc-a3e5-5bd39cdb3e67',\n",
       "                        [{\"mode\": \"markers\", \"name\": \"Body Mass\", \"type\": \"scatter\", \"uid\": \"4d5a1498-ad1e-41a9-a258-12703658f4ee\", \"x\": [\"2014-11-01 18:55:29\", \"2019-01-21 17:21:30\", \"2019-01-21 17:22:11\", \"2019-01-21 17:33:09\", \"2019-01-21 17:33:37\", \"2019-01-21 17:33:55\", \"2019-01-21 17:34:06\", \"2019-01-21 17:35:19\", \"2019-01-21 17:37:49\", \"2019-01-21 17:39:08\", \"2019-01-21 17:42:35\", \"2019-01-21 17:43:27\", \"2019-01-21 17:44:36\", \"2019-01-21 17:46:09\", \"2019-01-21 17:47:08\", \"2019-01-21 17:47:16\", \"2019-01-21 19:05:17\", \"2019-01-21 19:17:09\", \"2019-01-22 05:11:10\", \"2019-01-22 06:26:57\", \"2019-01-23 07:27:27\"], \"y\": [70.8, 71.9, 71.9, 71.9, 71.9, 71.9, 71.9, 71.9, 71.9, 71.9, 71.9, 71.9, 71.9, 71.9, 71.9, 71.9, 71.9, 71.9, 70.0, 70.0, 70.6]}, {\"mode\": \"lines\", \"name\": \"Body Mass Rolling Mean\", \"type\": \"scatter\", \"uid\": \"3bd95e95-e7bb-4271-a323-c1e7b06115be\", \"x\": [\"2014-11-01 18:55:29\", \"2019-01-21 17:21:30\", \"2019-01-21 17:22:11\", \"2019-01-21 17:33:09\", \"2019-01-21 17:33:37\", \"2019-01-21 17:33:55\", \"2019-01-21 17:34:06\", \"2019-01-21 17:35:19\", \"2019-01-21 17:37:49\", \"2019-01-21 17:39:08\", \"2019-01-21 17:42:35\", \"2019-01-21 17:43:27\", \"2019-01-21 17:44:36\", \"2019-01-21 17:46:09\", \"2019-01-21 17:47:08\", \"2019-01-21 17:47:16\", \"2019-01-21 19:05:17\", \"2019-01-21 19:17:09\", \"2019-01-22 05:11:10\", \"2019-01-22 06:26:57\", \"2019-01-23 07:27:27\"], \"y\": [null, null, 71.53333333333333, 71.89999999999999, 71.9, 71.9, 71.9, 71.9, 71.9, 71.9, 71.9, 71.9, 71.9, 71.9, 71.9, 71.9, 71.9, 71.9, 71.26666666666668, 70.63333333333335, 70.20000000000002]}],\n",
       "                        {\"title\": {\"text\": \"Body Mass vs Time\"}, \"yaxis\": {\"title\": {\"text\": \"Body Mass [kg]\"}}},\n",
       "                        {\"showLink\": false, \"linkText\": \"Export to plot.ly\", \"plotlyServerURL\": \"https://plot.ly\", \"responsive\": true}\n",
       "                    ).then(function(){\n",
       "                            \n",
       "var gd = document.getElementById('e246a09b-ff0f-41dc-a3e5-5bd39cdb3e67');\n",
       "var x = new MutationObserver(function (mutations, observer) {{\n",
       "        var display = window.getComputedStyle(gd).display;\n",
       "        if (!display || display === 'none') {{\n",
       "            console.log([gd, 'removed!']);\n",
       "            Plotly.purge(gd);\n",
       "            observer.disconnect();\n",
       "        }}\n",
       "}});\n",
       "\n",
       "// Listen for the removal of the full notebook cells\n",
       "var notebookContainer = gd.closest('#notebook-container');\n",
       "if (notebookContainer) {{\n",
       "    x.observe(notebookContainer, {childList: true});\n",
       "}}\n",
       "\n",
       "// Listen for the clearing of the current output cell\n",
       "var outputEl = gd.closest('.output');\n",
       "if (outputEl) {{\n",
       "    x.observe(outputEl, {childList: true});\n",
       "}}\n",
       "\n",
       "                        })\n",
       "                };\n",
       "                });\n",
       "            </script>\n",
       "        </div>"
      ]
     },
     "metadata": {},
     "output_type": "display_data"
    }
   ],
   "source": [
    "value_stats(measurement)\n",
    "plot_value_vs_time(dfs[df_list[measurement]], measurement)"
   ]
  },
  {
   "cell_type": "markdown",
   "metadata": {},
   "source": [
    "### Fat"
   ]
  },
  {
   "cell_type": "code",
   "execution_count": 59,
   "metadata": {},
   "outputs": [],
   "source": [
    "measurement = 'fat'\n",
    "dfs[df_list[measurement]]['creationDate'] =  pd.to_datetime(dfs[df_list[measurement]]['creationDate'], format='%Y-%m-%d %H:%M:%S', utc=True)\n",
    "dfs[df_list[measurement]]['startDate'] =  pd.to_datetime(dfs[df_list[measurement]]['startDate'], format='%Y-%m-%d %H:%M:%S', utc=True)\n",
    "dfs[df_list[measurement]]['endDate'] =  pd.to_datetime(dfs[df_list[measurement]]['endDate'], format='%Y-%m-%d %H:%M:%S', utc=True)\n",
    "dfs[df_list[measurement]].set_index('creationDate', inplace=True)"
   ]
  },
  {
   "cell_type": "code",
   "execution_count": 60,
   "metadata": {},
   "outputs": [
    {
     "name": "stdout",
     "output_type": "stream",
     "text": [
      "\n",
      "Body Fat Percentage\n",
      "  * Time between 2014-11-01 18:55:00+00:00 - 2014-11-01 18:56:00+00:00\n",
      "  * Measured by Health\n",
      "  * 2 measurements\n",
      "  * Total 10.855 %\n"
     ]
    },
    {
     "data": {
      "application/vnd.plotly.v1+json": {
       "config": {
        "linkText": "Export to plot.ly",
        "plotlyServerURL": "https://plot.ly",
        "responsive": true,
        "showLink": false
       },
       "data": [
        {
         "mode": "markers",
         "name": "Body Fat Percentage",
         "type": "scatter",
         "uid": "0eff8e40-b8c8-4aa6-98cf-61d35ae0ce65",
         "x": [
          "2014-11-01 18:55:42",
          "2014-11-01 18:56:28"
         ],
         "y": [
          10.75,
          0.105
         ]
        },
        {
         "mode": "lines",
         "name": "Body Fat Percentage Rolling Mean",
         "type": "scatter",
         "uid": "b87126e0-7ce0-4584-9b10-0d7b11f07121",
         "x": [
          "2014-11-01 18:55:42",
          "2014-11-01 18:56:28"
         ],
         "y": [
          null,
          null
         ]
        }
       ],
       "layout": {
        "autosize": true,
        "title": {
         "text": "Body Fat Percentage vs Time"
        },
        "xaxis": {
         "autorange": true,
         "range": [
          "2014-11-01 18:55:39.2248",
          "2014-11-01 18:56:30.7752"
         ],
         "type": "date"
        },
        "yaxis": {
         "autorange": true,
         "range": [
          -0.7734708737864078,
          11.628470873786409
         ],
         "title": {
          "text": "Body Fat Percentage [%]"
         },
         "type": "linear"
        }
       }
      },
      "image/png": "[encoded data removed]",
      "text/html": [
       "<div>\n",
       "        \n",
       "        \n",
       "            <div id=\"b3ade387-0274-44b2-8f8e-80c1b9ee54b7\" class=\"plotly-graph-div\" style=\"height:525px; width:100%;\"></div>\n",
       "            <script type=\"text/javascript\">\n",
       "                require([\"plotly\"], function(Plotly) {\n",
       "                    window.PLOTLYENV=window.PLOTLYENV || {};\n",
       "                    window.PLOTLYENV.BASE_URL='https://plot.ly';\n",
       "                    \n",
       "                if (document.getElementById(\"b3ade387-0274-44b2-8f8e-80c1b9ee54b7\")) {\n",
       "                    Plotly.newPlot(\n",
       "                        'b3ade387-0274-44b2-8f8e-80c1b9ee54b7',\n",
       "                        [{\"mode\": \"markers\", \"name\": \"Body Fat Percentage\", \"type\": \"scatter\", \"uid\": \"7700fd78-b1e8-4415-a926-2df4b138840e\", \"x\": [\"2014-11-01 18:55:42\", \"2014-11-01 18:56:28\"], \"y\": [10.75, 0.105]}, {\"mode\": \"lines\", \"name\": \"Body Fat Percentage Rolling Mean\", \"type\": \"scatter\", \"uid\": \"837569e7-6df0-4cf5-8262-26a94ba211c7\", \"x\": [\"2014-11-01 18:55:42\", \"2014-11-01 18:56:28\"], \"y\": [null, null]}],\n",
       "                        {\"title\": {\"text\": \"Body Fat Percentage vs Time\"}, \"yaxis\": {\"title\": {\"text\": \"Body Fat Percentage [%]\"}}},\n",
       "                        {\"showLink\": false, \"linkText\": \"Export to plot.ly\", \"plotlyServerURL\": \"https://plot.ly\", \"responsive\": true}\n",
       "                    ).then(function(){\n",
       "                            \n",
       "var gd = document.getElementById('b3ade387-0274-44b2-8f8e-80c1b9ee54b7');\n",
       "var x = new MutationObserver(function (mutations, observer) {{\n",
       "        var display = window.getComputedStyle(gd).display;\n",
       "        if (!display || display === 'none') {{\n",
       "            console.log([gd, 'removed!']);\n",
       "            Plotly.purge(gd);\n",
       "            observer.disconnect();\n",
       "        }}\n",
       "}});\n",
       "\n",
       "// Listen for the removal of the full notebook cells\n",
       "var notebookContainer = gd.closest('#notebook-container');\n",
       "if (notebookContainer) {{\n",
       "    x.observe(notebookContainer, {childList: true});\n",
       "}}\n",
       "\n",
       "// Listen for the clearing of the current output cell\n",
       "var outputEl = gd.closest('.output');\n",
       "if (outputEl) {{\n",
       "    x.observe(outputEl, {childList: true});\n",
       "}}\n",
       "\n",
       "                        })\n",
       "                };\n",
       "                });\n",
       "            </script>\n",
       "        </div>"
      ]
     },
     "metadata": {},
     "output_type": "display_data"
    }
   ],
   "source": [
    "value_stats(measurement)\n",
    "plot_value_vs_time(dfs[df_list[measurement]], measurement)"
   ]
  },
  {
   "cell_type": "markdown",
   "metadata": {},
   "source": [
    "### BMI"
   ]
  },
  {
   "cell_type": "code",
   "execution_count": 61,
   "metadata": {},
   "outputs": [],
   "source": [
    "measurement = 'bmi'\n",
    "dfs[df_list[measurement]]['creationDate'] =  pd.to_datetime(dfs[df_list[measurement]]['creationDate'], format='%Y-%m-%d %H:%M:%S', utc=True)\n",
    "dfs[df_list[measurement]]['startDate'] =  pd.to_datetime(dfs[df_list[measurement]]['startDate'], format='%Y-%m-%d %H:%M:%S', utc=True)\n",
    "dfs[df_list[measurement]]['endDate'] =  pd.to_datetime(dfs[df_list[measurement]]['endDate'], format='%Y-%m-%d %H:%M:%S', utc=True)\n",
    "dfs[df_list[measurement]].set_index('creationDate', inplace=True)"
   ]
  },
  {
   "cell_type": "markdown",
   "metadata": {},
   "source": [
    "### Heart Rate"
   ]
  },
  {
   "cell_type": "code",
   "execution_count": 62,
   "metadata": {},
   "outputs": [],
   "source": [
    "measurement = 'heartrate'\n",
    "dfs[df_list[measurement]]['creationDate'] =  pd.to_datetime(dfs[df_list[measurement]]['creationDate'], format='%Y-%m-%d %H:%M:%S', utc=True)\n",
    "dfs[df_list[measurement]]['startDate'] =  pd.to_datetime(dfs[df_list[measurement]]['startDate'], format='%Y-%m-%d %H:%M:%S', utc=True)\n",
    "dfs[df_list[measurement]]['endDate'] =  pd.to_datetime(dfs[df_list[measurement]]['endDate'], format='%Y-%m-%d %H:%M:%S', utc=True)\n",
    "dfs[df_list[measurement]].set_index('creationDate', inplace=True)"
   ]
  },
  {
   "cell_type": "code",
   "execution_count": 63,
   "metadata": {},
   "outputs": [
    {
     "name": "stdout",
     "output_type": "stream",
     "text": [
      "\n",
      "Heart Rate\n",
      "  * Time between 2019-03-25 04:18:43+00:00 - 2019-07-02 12:00:25+00:00\n",
      "  * Measured by Sleep Cycle\n",
      "  * 56 measurements\n",
      "  * Total 3348 count/min\n"
     ]
    },
    {
     "data": {
      "application/vnd.plotly.v1+json": {
       "config": {
        "linkText": "Export to plot.ly",
        "plotlyServerURL": "https://plot.ly",
        "responsive": true,
        "showLink": false
       },
       "data": [
        {
         "mode": "markers",
         "name": "Heart Rate",
         "type": "scatter",
         "uid": "0540d9c0-404d-47d6-a1d8-cbb7064f5479",
         "x": [
          "2019-03-25 04:19:07",
          "2019-03-26 04:33:10",
          "2019-03-27 04:23:52",
          "2019-03-28 04:25:37",
          "2019-03-29 04:21:47",
          "2019-03-30 07:19:55",
          "2019-03-31 06:22:00",
          "2019-04-01 03:20:48",
          "2019-04-02 12:05:40",
          "2019-04-03 03:38:29",
          "2019-04-04 03:21:51",
          "2019-04-07 06:42:02",
          "2019-04-08 03:45:39",
          "2019-04-09 03:30:56",
          "2019-04-10 03:26:13",
          "2019-04-11 03:33:11",
          "2019-04-12 03:52:47",
          "2019-04-15 03:21:17",
          "2019-04-16 03:32:03",
          "2019-04-17 03:36:23",
          "2019-04-18 03:32:22",
          "2019-04-26 04:25:34",
          "2019-04-27 04:10:37",
          "2019-04-29 03:21:27",
          "2019-04-30 03:26:00",
          "2019-05-02 04:41:44",
          "2019-05-03 03:25:37",
          "2019-05-06 03:53:16",
          "2019-05-09 03:28:19",
          "2019-05-10 03:31:30",
          "2019-05-12 05:59:50",
          "2019-05-13 03:27:00",
          "2019-05-15 03:18:35",
          "2019-05-16 03:20:54",
          "2019-05-17 03:20:58",
          "2019-05-19 06:46:32",
          "2019-05-20 03:21:17",
          "2019-05-22 03:30:36",
          "2019-05-23 03:21:11",
          "2019-06-03 03:21:21",
          "2019-06-04 03:21:00",
          "2019-06-05 04:12:18",
          "2019-06-06 03:22:21",
          "2019-06-11 04:50:54",
          "2019-06-12 03:40:12",
          "2019-06-15 03:54:50",
          "2019-06-19 03:25:41",
          "2019-06-22 03:52:03",
          "2019-06-24 04:06:33",
          "2019-06-26 03:29:06",
          "2019-06-27 03:21:23",
          "2019-06-28 03:23:02",
          "2019-06-29 10:05:14",
          "2019-06-30 11:46:33",
          "2019-07-01 11:44:39",
          "2019-07-02 12:00:41"
         ],
         "y": [
          63,
          66,
          60,
          62,
          56,
          62,
          54,
          67,
          113,
          60,
          52,
          57,
          58,
          70,
          58,
          58,
          57,
          54,
          59,
          57,
          60,
          48,
          63,
          62,
          59,
          69,
          66,
          56,
          66,
          54,
          71,
          65,
          61,
          59,
          60,
          59,
          53,
          65,
          60,
          55,
          50,
          51,
          54,
          47,
          54,
          65,
          67,
          61,
          61,
          59,
          50,
          60,
          51,
          55,
          52,
          57
         ]
        },
        {
         "mode": "lines",
         "name": "Heart Rate Rolling Mean",
         "type": "scatter",
         "uid": "e286903a-4cff-4e9a-a3e6-501b65ce22b9",
         "x": [
          "2019-03-25 04:19:07",
          "2019-03-26 04:33:10",
          "2019-03-27 04:23:52",
          "2019-03-28 04:25:37",
          "2019-03-29 04:21:47",
          "2019-03-30 07:19:55",
          "2019-03-31 06:22:00",
          "2019-04-01 03:20:48",
          "2019-04-02 12:05:40",
          "2019-04-03 03:38:29",
          "2019-04-04 03:21:51",
          "2019-04-07 06:42:02",
          "2019-04-08 03:45:39",
          "2019-04-09 03:30:56",
          "2019-04-10 03:26:13",
          "2019-04-11 03:33:11",
          "2019-04-12 03:52:47",
          "2019-04-15 03:21:17",
          "2019-04-16 03:32:03",
          "2019-04-17 03:36:23",
          "2019-04-18 03:32:22",
          "2019-04-26 04:25:34",
          "2019-04-27 04:10:37",
          "2019-04-29 03:21:27",
          "2019-04-30 03:26:00",
          "2019-05-02 04:41:44",
          "2019-05-03 03:25:37",
          "2019-05-06 03:53:16",
          "2019-05-09 03:28:19",
          "2019-05-10 03:31:30",
          "2019-05-12 05:59:50",
          "2019-05-13 03:27:00",
          "2019-05-15 03:18:35",
          "2019-05-16 03:20:54",
          "2019-05-17 03:20:58",
          "2019-05-19 06:46:32",
          "2019-05-20 03:21:17",
          "2019-05-22 03:30:36",
          "2019-05-23 03:21:11",
          "2019-06-03 03:21:21",
          "2019-06-04 03:21:00",
          "2019-06-05 04:12:18",
          "2019-06-06 03:22:21",
          "2019-06-11 04:50:54",
          "2019-06-12 03:40:12",
          "2019-06-15 03:54:50",
          "2019-06-19 03:25:41",
          "2019-06-22 03:52:03",
          "2019-06-24 04:06:33",
          "2019-06-26 03:29:06",
          "2019-06-27 03:21:23",
          "2019-06-28 03:23:02",
          "2019-06-29 10:05:14",
          "2019-06-30 11:46:33",
          "2019-07-01 11:44:39",
          "2019-07-02 12:00:41"
         ],
         "y": [
          null,
          null,
          63,
          62.666666666666664,
          59.333333333333336,
          60,
          57.333333333333336,
          61,
          78,
          80,
          75,
          56.333333333333336,
          55.666666666666664,
          61.666666666666664,
          62,
          62,
          57.666666666666664,
          56.333333333333336,
          56.666666666666664,
          56.666666666666664,
          58.666666666666664,
          55,
          57,
          57.666666666666664,
          61.333333333333336,
          63.333333333333336,
          64.66666666666667,
          63.666666666666664,
          62.666666666666664,
          58.666666666666664,
          63.666666666666664,
          63.333333333333336,
          65.66666666666667,
          61.666666666666664,
          60,
          59.333333333333336,
          57.333333333333336,
          59,
          59.333333333333336,
          60,
          55,
          52,
          51.666666666666664,
          50.666666666666664,
          51.666666666666664,
          55.333333333333336,
          62,
          64.33333333333333,
          63,
          60.333333333333336,
          56.666666666666664,
          56.333333333333336,
          53.666666666666664,
          55.333333333333336,
          52.666666666666664,
          54.666666666666664
         ]
        }
       ],
       "layout": {
        "autosize": true,
        "title": {
         "text": "Heart Rate vs Time"
        },
        "xaxis": {
         "autorange": true,
         "range": [
          "2019-03-19 05:06:38.7281",
          "2019-07-08 11:13:09.2719"
         ],
         "type": "date"
        },
        "yaxis": {
         "autorange": true,
         "range": [
          41.55339805825243,
          118.44660194174757
         ],
         "title": {
          "text": "Heart Rate [count/min]"
         },
         "type": "linear"
        }
       }
      },
      "image/png": "[encoded data removed]",
      "text/html": [
       "<div>\n",
       "        \n",
       "        \n",
       "            <div id=\"049e8176-6970-474f-9925-a278aee9bf95\" class=\"plotly-graph-div\" style=\"height:525px; width:100%;\"></div>\n",
       "            <script type=\"text/javascript\">\n",
       "                require([\"plotly\"], function(Plotly) {\n",
       "                    window.PLOTLYENV=window.PLOTLYENV || {};\n",
       "                    window.PLOTLYENV.BASE_URL='https://plot.ly';\n",
       "                    \n",
       "                if (document.getElementById(\"049e8176-6970-474f-9925-a278aee9bf95\")) {\n",
       "                    Plotly.newPlot(\n",
       "                        '049e8176-6970-474f-9925-a278aee9bf95',\n",
       "                        [{\"mode\": \"markers\", \"name\": \"Heart Rate\", \"type\": \"scatter\", \"uid\": \"ce8b23a4-d189-45f1-aa60-8ca1b9ce92b1\", \"x\": [\"2019-03-25 04:19:07\", \"2019-03-26 04:33:10\", \"2019-03-27 04:23:52\", \"2019-03-28 04:25:37\", \"2019-03-29 04:21:47\", \"2019-03-30 07:19:55\", \"2019-03-31 06:22:00\", \"2019-04-01 03:20:48\", \"2019-04-02 12:05:40\", \"2019-04-03 03:38:29\", \"2019-04-04 03:21:51\", \"2019-04-07 06:42:02\", \"2019-04-08 03:45:39\", \"2019-04-09 03:30:56\", \"2019-04-10 03:26:13\", \"2019-04-11 03:33:11\", \"2019-04-12 03:52:47\", \"2019-04-15 03:21:17\", \"2019-04-16 03:32:03\", \"2019-04-17 03:36:23\", \"2019-04-18 03:32:22\", \"2019-04-26 04:25:34\", \"2019-04-27 04:10:37\", \"2019-04-29 03:21:27\", \"2019-04-30 03:26:00\", \"2019-05-02 04:41:44\", \"2019-05-03 03:25:37\", \"2019-05-06 03:53:16\", \"2019-05-09 03:28:19\", \"2019-05-10 03:31:30\", \"2019-05-12 05:59:50\", \"2019-05-13 03:27:00\", \"2019-05-15 03:18:35\", \"2019-05-16 03:20:54\", \"2019-05-17 03:20:58\", \"2019-05-19 06:46:32\", \"2019-05-20 03:21:17\", \"2019-05-22 03:30:36\", \"2019-05-23 03:21:11\", \"2019-06-03 03:21:21\", \"2019-06-04 03:21:00\", \"2019-06-05 04:12:18\", \"2019-06-06 03:22:21\", \"2019-06-11 04:50:54\", \"2019-06-12 03:40:12\", \"2019-06-15 03:54:50\", \"2019-06-19 03:25:41\", \"2019-06-22 03:52:03\", \"2019-06-24 04:06:33\", \"2019-06-26 03:29:06\", \"2019-06-27 03:21:23\", \"2019-06-28 03:23:02\", \"2019-06-29 10:05:14\", \"2019-06-30 11:46:33\", \"2019-07-01 11:44:39\", \"2019-07-02 12:00:41\"], \"y\": [63, 66, 60, 62, 56, 62, 54, 67, 113, 60, 52, 57, 58, 70, 58, 58, 57, 54, 59, 57, 60, 48, 63, 62, 59, 69, 66, 56, 66, 54, 71, 65, 61, 59, 60, 59, 53, 65, 60, 55, 50, 51, 54, 47, 54, 65, 67, 61, 61, 59, 50, 60, 51, 55, 52, 57]}, {\"mode\": \"lines\", \"name\": \"Heart Rate Rolling Mean\", \"type\": \"scatter\", \"uid\": \"95254d7a-1782-4724-8d5a-f29faf6350a0\", \"x\": [\"2019-03-25 04:19:07\", \"2019-03-26 04:33:10\", \"2019-03-27 04:23:52\", \"2019-03-28 04:25:37\", \"2019-03-29 04:21:47\", \"2019-03-30 07:19:55\", \"2019-03-31 06:22:00\", \"2019-04-01 03:20:48\", \"2019-04-02 12:05:40\", \"2019-04-03 03:38:29\", \"2019-04-04 03:21:51\", \"2019-04-07 06:42:02\", \"2019-04-08 03:45:39\", \"2019-04-09 03:30:56\", \"2019-04-10 03:26:13\", \"2019-04-11 03:33:11\", \"2019-04-12 03:52:47\", \"2019-04-15 03:21:17\", \"2019-04-16 03:32:03\", \"2019-04-17 03:36:23\", \"2019-04-18 03:32:22\", \"2019-04-26 04:25:34\", \"2019-04-27 04:10:37\", \"2019-04-29 03:21:27\", \"2019-04-30 03:26:00\", \"2019-05-02 04:41:44\", \"2019-05-03 03:25:37\", \"2019-05-06 03:53:16\", \"2019-05-09 03:28:19\", \"2019-05-10 03:31:30\", \"2019-05-12 05:59:50\", \"2019-05-13 03:27:00\", \"2019-05-15 03:18:35\", \"2019-05-16 03:20:54\", \"2019-05-17 03:20:58\", \"2019-05-19 06:46:32\", \"2019-05-20 03:21:17\", \"2019-05-22 03:30:36\", \"2019-05-23 03:21:11\", \"2019-06-03 03:21:21\", \"2019-06-04 03:21:00\", \"2019-06-05 04:12:18\", \"2019-06-06 03:22:21\", \"2019-06-11 04:50:54\", \"2019-06-12 03:40:12\", \"2019-06-15 03:54:50\", \"2019-06-19 03:25:41\", \"2019-06-22 03:52:03\", \"2019-06-24 04:06:33\", \"2019-06-26 03:29:06\", \"2019-06-27 03:21:23\", \"2019-06-28 03:23:02\", \"2019-06-29 10:05:14\", \"2019-06-30 11:46:33\", \"2019-07-01 11:44:39\", \"2019-07-02 12:00:41\"], \"y\": [null, null, 63.0, 62.666666666666664, 59.333333333333336, 60.0, 57.333333333333336, 61.0, 78.0, 80.0, 75.0, 56.333333333333336, 55.666666666666664, 61.666666666666664, 62.0, 62.0, 57.666666666666664, 56.333333333333336, 56.666666666666664, 56.666666666666664, 58.666666666666664, 55.0, 57.0, 57.666666666666664, 61.333333333333336, 63.333333333333336, 64.66666666666667, 63.666666666666664, 62.666666666666664, 58.666666666666664, 63.666666666666664, 63.333333333333336, 65.66666666666667, 61.666666666666664, 60.0, 59.333333333333336, 57.333333333333336, 59.0, 59.333333333333336, 60.0, 55.0, 52.0, 51.666666666666664, 50.666666666666664, 51.666666666666664, 55.333333333333336, 62.0, 64.33333333333333, 63.0, 60.333333333333336, 56.666666666666664, 56.333333333333336, 53.666666666666664, 55.333333333333336, 52.666666666666664, 54.666666666666664]}],\n",
       "                        {\"title\": {\"text\": \"Heart Rate vs Time\"}, \"yaxis\": {\"title\": {\"text\": \"Heart Rate [count/min]\"}}},\n",
       "                        {\"showLink\": false, \"linkText\": \"Export to plot.ly\", \"plotlyServerURL\": \"https://plot.ly\", \"responsive\": true}\n",
       "                    ).then(function(){\n",
       "                            \n",
       "var gd = document.getElementById('049e8176-6970-474f-9925-a278aee9bf95');\n",
       "var x = new MutationObserver(function (mutations, observer) {{\n",
       "        var display = window.getComputedStyle(gd).display;\n",
       "        if (!display || display === 'none') {{\n",
       "            console.log([gd, 'removed!']);\n",
       "            Plotly.purge(gd);\n",
       "            observer.disconnect();\n",
       "        }}\n",
       "}});\n",
       "\n",
       "// Listen for the removal of the full notebook cells\n",
       "var notebookContainer = gd.closest('#notebook-container');\n",
       "if (notebookContainer) {{\n",
       "    x.observe(notebookContainer, {childList: true});\n",
       "}}\n",
       "\n",
       "// Listen for the clearing of the current output cell\n",
       "var outputEl = gd.closest('.output');\n",
       "if (outputEl) {{\n",
       "    x.observe(outputEl, {childList: true});\n",
       "}}\n",
       "\n",
       "                        })\n",
       "                };\n",
       "                });\n",
       "            </script>\n",
       "        </div>"
      ]
     },
     "metadata": {},
     "output_type": "display_data"
    }
   ],
   "source": [
    "value_stats(measurement)\n",
    "plot_value_vs_time(dfs[df_list[measurement]], measurement)"
   ]
  },
  {
   "cell_type": "markdown",
   "metadata": {},
   "source": [
    "### Height"
   ]
  },
  {
   "cell_type": "code",
   "execution_count": 64,
   "metadata": {},
   "outputs": [],
   "source": [
    "measurement = 'height'\n",
    "dfs[df_list[measurement]]['creationDate'] =  pd.to_datetime(dfs[df_list[measurement]]['creationDate'], format='%Y-%m-%d %H:%M:%S', utc=True)\n",
    "dfs[df_list[measurement]]['startDate'] =  pd.to_datetime(dfs[df_list[measurement]]['startDate'], format='%Y-%m-%d %H:%M:%S', utc=True)\n",
    "dfs[df_list[measurement]]['endDate'] =  pd.to_datetime(dfs[df_list[measurement]]['endDate'], format='%Y-%m-%d %H:%M:%S', utc=True)\n",
    "dfs[df_list[measurement]].set_index('creationDate', inplace=True)"
   ]
  },
  {
   "cell_type": "code",
   "execution_count": 65,
   "metadata": {},
   "outputs": [
    {
     "name": "stdout",
     "output_type": "stream",
     "text": [
      "\n",
      "Height\n",
      "  * Time between 2014-11-01 18:54:00+00:00 - 2014-11-01 18:54:00+00:00\n",
      "  * Measured by Health\n",
      "  * 1 measurements\n",
      "  * Total 185 cm\n"
     ]
    },
    {
     "data": {
      "application/vnd.plotly.v1+json": {
       "config": {
        "linkText": "Export to plot.ly",
        "plotlyServerURL": "https://plot.ly",
        "responsive": true,
        "showLink": false
       },
       "data": [
        {
         "mode": "markers",
         "name": "Height",
         "type": "scatter",
         "uid": "6d8312ec-72ac-4500-9a2b-aada08e919df",
         "x": [
          "2014-11-01 18:54:34"
         ],
         "y": [
          185
         ]
        },
        {
         "mode": "lines",
         "name": "Height Rolling Mean",
         "type": "scatter",
         "uid": "7876d380-c793-450f-9549-97dbf3662167",
         "x": [
          "2014-11-01 18:54:34"
         ],
         "y": [
          null
         ]
        }
       ],
       "layout": {
        "autosize": true,
        "title": {
         "text": "Height vs Time"
        },
        "xaxis": {
         "autorange": true,
         "range": [
          "2014-11-01 18:54:33.999",
          "2014-11-01 18:54:34.001"
         ],
         "type": "date"
        },
        "yaxis": {
         "autorange": true,
         "range": [
          184,
          186
         ],
         "title": {
          "text": "Height [cm]"
         },
         "type": "linear"
        }
       }
      },
      "image/png": "[encoded data removed]",
      "text/html": [
       "<div>\n",
       "        \n",
       "        \n",
       "            <div id=\"38f3fd41-57b8-4ba3-a1ed-5ce1b46eaba8\" class=\"plotly-graph-div\" style=\"height:525px; width:100%;\"></div>\n",
       "            <script type=\"text/javascript\">\n",
       "                require([\"plotly\"], function(Plotly) {\n",
       "                    window.PLOTLYENV=window.PLOTLYENV || {};\n",
       "                    window.PLOTLYENV.BASE_URL='https://plot.ly';\n",
       "                    \n",
       "                if (document.getElementById(\"38f3fd41-57b8-4ba3-a1ed-5ce1b46eaba8\")) {\n",
       "                    Plotly.newPlot(\n",
       "                        '38f3fd41-57b8-4ba3-a1ed-5ce1b46eaba8',\n",
       "                        [{\"mode\": \"markers\", \"name\": \"Height\", \"type\": \"scatter\", \"uid\": \"3f9bf31b-bbe7-463f-a024-cefba66b7d40\", \"x\": [\"2014-11-01 18:54:34\"], \"y\": [185]}, {\"mode\": \"lines\", \"name\": \"Height Rolling Mean\", \"type\": \"scatter\", \"uid\": \"528de595-38c6-41e0-9694-21738f053c45\", \"x\": [\"2014-11-01 18:54:34\"], \"y\": [null]}],\n",
       "                        {\"title\": {\"text\": \"Height vs Time\"}, \"yaxis\": {\"title\": {\"text\": \"Height [cm]\"}}},\n",
       "                        {\"showLink\": false, \"linkText\": \"Export to plot.ly\", \"plotlyServerURL\": \"https://plot.ly\", \"responsive\": true}\n",
       "                    ).then(function(){\n",
       "                            \n",
       "var gd = document.getElementById('38f3fd41-57b8-4ba3-a1ed-5ce1b46eaba8');\n",
       "var x = new MutationObserver(function (mutations, observer) {{\n",
       "        var display = window.getComputedStyle(gd).display;\n",
       "        if (!display || display === 'none') {{\n",
       "            console.log([gd, 'removed!']);\n",
       "            Plotly.purge(gd);\n",
       "            observer.disconnect();\n",
       "        }}\n",
       "}});\n",
       "\n",
       "// Listen for the removal of the full notebook cells\n",
       "var notebookContainer = gd.closest('#notebook-container');\n",
       "if (notebookContainer) {{\n",
       "    x.observe(notebookContainer, {childList: true});\n",
       "}}\n",
       "\n",
       "// Listen for the clearing of the current output cell\n",
       "var outputEl = gd.closest('.output');\n",
       "if (outputEl) {{\n",
       "    x.observe(outputEl, {childList: true});\n",
       "}}\n",
       "\n",
       "                        })\n",
       "                };\n",
       "                });\n",
       "            </script>\n",
       "        </div>"
      ]
     },
     "metadata": {},
     "output_type": "display_data"
    }
   ],
   "source": [
    "value_stats(measurement)\n",
    "plot_value_vs_time(dfs[df_list[measurement]], measurement)"
   ]
  }
 ],
 "metadata": {
  "kernelspec": {
   "display_name": "Python 3",
   "language": "python",
   "name": "python3"
  },
  "language_info": {
   "codemirror_mode": {
    "name": "ipython",
    "version": 3
   },
   "file_extension": ".py",
   "mimetype": "text/x-python",
   "name": "python",
   "nbconvert_exporter": "python",
   "pygments_lexer": "ipython3",
   "version": "3.7.3"
  }
 },
 "nbformat": 4,
 "nbformat_minor": 2
}
