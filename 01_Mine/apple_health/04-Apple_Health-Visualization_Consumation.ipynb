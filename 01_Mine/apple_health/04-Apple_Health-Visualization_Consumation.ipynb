{
 "cells": [
  {
   "cell_type": "markdown",
   "metadata": {},
   "source": [
    "# Apple Health Visualization Consumation\n",
    "  * BloodAlcoholContent\n",
    "  * DietaryCaffeine\n",
    "  * DietaryWater"
   ]
  },
  {
   "cell_type": "markdown",
   "metadata": {},
   "source": [
    "## Setup"
   ]
  },
  {
   "cell_type": "markdown",
   "metadata": {},
   "source": [
    "### Import sub-modules"
   ]
  },
  {
   "cell_type": "code",
   "execution_count": 1,
   "metadata": {},
   "outputs": [
    {
     "data": {
      "text/html": [
       "        <script type=\"text/javascript\">\n",
       "        window.PlotlyConfig = {MathJaxConfig: 'local'};\n",
       "        if (window.MathJax) {MathJax.Hub.Config({SVG: {font: \"STIX-Web\"}});}\n",
       "        if (typeof require !== 'undefined') {\n",
       "        require.undef(\"plotly\");\n",
       "        requirejs.config({\n",
       "            paths: {\n",
       "                'plotly': ['https://cdn.plot.ly/plotly-latest.min']\n",
       "            }\n",
       "        });\n",
       "        require(['plotly'], function(Plotly) {\n",
       "            window._Plotly = Plotly;\n",
       "        });\n",
       "        }\n",
       "        </script>\n",
       "        "
      ]
     },
     "metadata": {},
     "output_type": "display_data"
    },
    {
     "name": "stdout",
     "output_type": "stream",
     "text": [
      "plotly    3.8.1\n",
      "pandas    0.24.2\n",
      "numpy     1.16.2\n",
      "watermark 1.8.1\n",
      "IPython   7.4.0\n",
      "Silvan Zahno 2019-07-03 \n",
      "\n",
      "CPython 3.7.3\n",
      "IPython 7.4.0\n",
      "\n",
      "compiler   : MSC v.1915 64 bit (AMD64)\n",
      "system     : Windows\n",
      "release    : 10\n",
      "machine    : AMD64\n",
      "processor  : Intel64 Family 6 Model 142 Stepping 10, GenuineIntel\n",
      "CPU cores  : 8\n",
      "interpreter: 64bit\n",
      "host name  : WE6996\n"
     ]
    }
   ],
   "source": [
    "# python\n",
    "import sys\n",
    "import os\n",
    "import datetime\n",
    "import enum\n",
    "\n",
    "# iPython\n",
    "import IPython\n",
    "from IPython.display import display\n",
    "from IPython.display import Image\n",
    "\n",
    "# pandas\n",
    "import pandas as pd\n",
    "\n",
    "# numpy\n",
    "import numpy as np\n",
    "\n",
    "# plotly\n",
    "import plotly as ply\n",
    "import plotly.figure_factory as ff\n",
    "ply.offline.init_notebook_mode(connected=True)\n",
    "import plotly.io as pio\n",
    "\n",
    "# watermark\n",
    "import watermark\n",
    "%load_ext watermark\n",
    "%watermark -a \"Silvan Zahno\" -d -v -iv -m -h"
   ]
  },
  {
   "cell_type": "markdown",
   "metadata": {},
   "source": [
    "### Configuration"
   ]
  },
  {
   "cell_type": "code",
   "execution_count": 2,
   "metadata": {},
   "outputs": [],
   "source": [
    "# Setup local input directories\n",
    "inputDir = \"in/\"\n",
    "\n",
    "if (os.path.exists(inputDir)) is False:\n",
    "    os.makedirs(inputDir)\n",
    "if (os.path.isdir(inputDir)) is False:\n",
    "    raise NotADirectoryError(\"{} is not a directory\".format(inputDir))"
   ]
  },
  {
   "cell_type": "code",
   "execution_count": 3,
   "metadata": {},
   "outputs": [],
   "source": [
    "# Setup local input directories\n",
    "outputDir = \"out/\"\n",
    "\n",
    "if (os.path.exists(outputDir)) is False:\n",
    "    os.makedirs(outputDir)\n",
    "if (os.path.isdir(outputDir)) is False:\n",
    "    raise NotADirectoryError(\"{} is not a directory\".format(outputDir))"
   ]
  },
  {
   "cell_type": "code",
   "execution_count": 4,
   "metadata": {},
   "outputs": [],
   "source": [
    "# Graph output Options\n",
    "class GraphOutputOption(enum.Enum):\n",
    "    none = 'none'                     # Do not generate any plots\n",
    "    inline = 'inline'                 # Generate inline plots only\n",
    "    htmlFile = 'extFile'              # Generate plots in external files (html or png or ...)\n",
    "    both = 'both'                     # Generate all plots inline and external\n",
    "    \n",
    "class GraphInteractionOption(enum.Enum):\n",
    "    static = 'static'                 # Generate static inline plots (as images)\n",
    "    interactive = 'interactive'       # Generate interactive inline plots\n",
    "\n",
    "notebookGraphingInteraction = GraphInteractionOption('interactive')\n",
    "notebookGraphingOutputs = GraphOutputOption('both')\n",
    "\n",
    "ext_file = \".svg\"\n",
    "\n",
    "staticImageSize = {'width':1000, 'height':500, 'scale':1}\n",
    "\n",
    "GraphAutoOpenHTML = False              # Auto open external HTML files [True/False]\n",
    "\n",
    "class PrintOutputOption(enum.Enum):\n",
    "    none = 'none'                     # Do not output either to file or console\n",
    "    console = 'console'               # Send to console\n",
    "    file = 'file'                     # Send to file\n",
    "    both = 'both'                     # Send to console and file\n"
   ]
  },
  {
   "cell_type": "code",
   "execution_count": 5,
   "metadata": {},
   "outputs": [],
   "source": [
    "# Pandas output options\n",
    "pd.set_option('display.max_rows', 50)\n",
    "pd.set_option('display.max_columns', 50)\n",
    "pd.set_option('display.width', 100)"
   ]
  },
  {
   "cell_type": "markdown",
   "metadata": {},
   "source": [
    "### Common functions"
   ]
  },
  {
   "cell_type": "code",
   "execution_count": 6,
   "metadata": {},
   "outputs": [],
   "source": [
    "# Plot figures\n",
    "def plot_figure(graphFilename, fig, overrideNotebookGraphingInteraction=None, height=350):\n",
    "    \"\"\"Creates the graph plots depending on the choosen option\n",
    "\n",
    "    Args:\n",
    "        graphFilename: Filename of the output html-file in case of Option htmlfile\n",
    "        fig: ply.graph_objs.Figure(data=traces, layout=mylayout)\n",
    "        overrideNotebookGraphingInteraction: overrides graphic output for this figure\n",
    "        height: height of the static image export\n",
    "    Returns:\n",
    "        None\n",
    "    Raises:\n",
    "        None\n",
    "\n",
    "    \"\"\"\n",
    "    if (notebookGraphingOutputs == GraphOutputOption('extFile')) or (notebookGraphingOutputs == GraphOutputOption('both')):\n",
    "        if (os.path.splitext(graphFilename)[1] == '.png' or \n",
    "           os.path.splitext(graphFilename)[1] == '.jpg' or \n",
    "           os.path.splitext(graphFilename)[1] == '.svg' or \n",
    "           os.path.splitext(graphFilename)[1] == '.pdf'):\n",
    "            pio.write_image(fig, graphFilename, height=height)\n",
    "        elif os.path.splitext(graphFilename)[1] == '.html':\n",
    "            ply.offline.plot(fig, filename=graphFilename, auto_open=GraphAutoOpenHTML)\n",
    "    if (notebookGraphingOutputs == GraphOutputOption('inline')) or (notebookGraphingOutputs == GraphOutputOption('both')):\n",
    "        choice = None\n",
    "        if overrideNotebookGraphingInteraction == None:\n",
    "            if notebookGraphingInteraction == GraphInteractionOption('static'):\n",
    "                choice = 'static'\n",
    "            elif notebookGraphingInteraction == GraphInteractionOption('interactive'):\n",
    "                choice = 'interactive'\n",
    "        elif overrideNotebookGraphingInteraction == GraphInteractionOption('static'):\n",
    "            choice = 'static'\n",
    "        elif overrideNotebookGraphingInteraction == GraphInteractionOption('interactive'):\n",
    "            choice = 'interactive'\n",
    "        else:\n",
    "            choice = 'static'\n",
    "            \n",
    "        if choice == 'static':\n",
    "            plot_img = pio.to_image(fig, format='png', width=staticImageSize['width'], height=staticImageSize['height'], scale=staticImageSize['scale'])\n",
    "            display(Image(plot_img))\n",
    "        else:\n",
    "            ply.offline.iplot(fig)\n",
    "            "
   ]
  },
  {
   "cell_type": "code",
   "execution_count": 7,
   "metadata": {},
   "outputs": [],
   "source": [
    "def print_file(text=\"\", file=None, outputOption=PrintOutputOption('console'), append=True):\n",
    "    \"\"\"Custom print function to print to console and/or file\n",
    "\n",
    "    Args:\n",
    "        text: String to be used\n",
    "        file: output file path for fileoutput\n",
    "        fileoutput: bool sends string to file\n",
    "        consoleoutput: PrintOutputOption to specify where to send the string\n",
    "        append: For fileoutput only, create new file or append to existing\n",
    "    Returns:\n",
    "        None\n",
    "    Raises:\n",
    "        None\n",
    "    \"\"\"\n",
    "    if (outputOption == PrintOutputOption('file') or outputOption == PrintOutputOption('both')):\n",
    "        if append:\n",
    "            with open(file, \"a+\") as file:\n",
    "                file.write(text+\"\\n\")#os.linesep)\n",
    "        else:\n",
    "            with open(file, \"w+\") as file:\n",
    "                file.write(text+\"\\n\")#os.linesep)\n",
    "    if (outputOption == PrintOutputOption('console') or outputOption == PrintOutputOption('both')):\n",
    "        print(text)"
   ]
  },
  {
   "cell_type": "code",
   "execution_count": 8,
   "metadata": {},
   "outputs": [],
   "source": [
    "def value_stats(measurement):\n",
    "    print(\"\\n{}\".format(df_description[measurement]))\n",
    "    print(\"  * Time between {} - {}\".format(dfs[df_list[measurement]].startDate.iat[0], dfs[df_list[measurement]].startDate.iat[-1]))\n",
    "    print(\"  * Measured by {}\".format(dfs[df_list[measurement]].sourceName.iat[0]))\n",
    "    print(\"  * {} measurements\".format(len(dfs[df_list[measurement]].value)))\n",
    "    print(\"  * Total {} {}\".format(dfs[df_list[measurement]].value.sum(), dfs[df_list[measurement]].unit.iat[0]))    "
   ]
  },
  {
   "cell_type": "code",
   "execution_count": 22,
   "metadata": {},
   "outputs": [],
   "source": [
    "def plot_value_vs_time(df, measurement = None, rolling_mean = 3):\n",
    "    # plot value vs time\n",
    "    # .. prepare traces\n",
    "    trace_value = ply.graph_objs.Scatter(\n",
    "        x=df.index,\n",
    "        y=df.value,\n",
    "        mode='markers',\n",
    "        name=df_description[measurement],\n",
    "    )\n",
    "    \n",
    "    # .. add a rolling mean to data\n",
    "    trace_value_mean = ply.graph_objs.Scatter(\n",
    "        x=df.index,\n",
    "        y=df.value.rolling(3).mean(),\n",
    "        mode='lines',\n",
    "        name=\"{} Rolling Mean\".format(df_description[measurement]),\n",
    "    )\n",
    "    \n",
    "    # .. set layout\n",
    "    mylayout = ply.graph_objs.Layout(\n",
    "        title=\"{} vs Time\".format(df_description[measurement]),\n",
    "        yaxis=dict(\n",
    "            title=\"{} [{}]\".format(df_description[measurement], df.unit[0])\n",
    "        )\n",
    "    )\n",
    "    \n",
    "    # .. set data to plot\n",
    "    traces = [trace_value, trace_value_mean]\n",
    "    \n",
    "    # .. plot\n",
    "    graphFilename = outputDir + mylayout.title.text + ' - Scatter vs Time.html'\n",
    "    fig = ply.graph_objs.Figure(data=traces, layout=mylayout)\n",
    "    plot_figure(graphFilename, fig)"
   ]
  },
  {
   "cell_type": "markdown",
   "metadata": {},
   "source": [
    "## Data import"
   ]
  },
  {
   "cell_type": "code",
   "execution_count": 23,
   "metadata": {},
   "outputs": [],
   "source": [
    "df_list = {\n",
    "'energy': 0,\n",
    "'alcohol': 1,\n",
    "'fat': 2,\n",
    "'weight': 3,\n",
    "'bmi': 4,\n",
    "'caffeine': 5,\n",
    "'water': 6,\n",
    "'cycling': 7,\n",
    "'walking': 8,\n",
    "'flightsclimbed': 9,\n",
    "'heartrate': 10,\n",
    "'height': 11,\n",
    "'sleep': 12,\n",
    "'steps': 13,\n",
    "'workout': 14\n",
    "}\n",
    "df_description = {\n",
    "'energy': \"Active Energy Burned\",\n",
    "'alcohol': \"Blood Alcohol Content\",\n",
    "'fat': \"Body Fat Percentage\",\n",
    "'weight': \"Body Mass\",\n",
    "'bmi': \"Body Mass Index\",\n",
    "'caffeine': \"Dietary Caffeine\",\n",
    "'water': \"Dietary Water\",\n",
    "'cycling': \"Distance Cycling\",\n",
    "'walking': \"Distance Walink & Running\",\n",
    "'flightsclimbed': \"Number of Flights Climbed\",\n",
    "'heartrate': \"Heart Rate\",\n",
    "'height': \"Height\",\n",
    "'sleep': \"Sleep Analysis\",\n",
    "'steps': \"Step Count\",\n",
    "'workout': \"Workout\"\n",
    "}\n",
    "dfs = []\n",
    "dfs.append(pd.read_csv(inputDir + \"ActiveEnergyBurned.csv\"))\n",
    "dfs.append(pd.read_csv(inputDir + \"BloodAlcoholContent.csv\"))\n",
    "dfs.append(pd.read_csv(inputDir + \"BodyFatPercentage.csv\"))\n",
    "dfs.append(pd.read_csv(inputDir + \"BodyMass.csv\"))\n",
    "dfs.append(pd.read_csv(inputDir + \"BodyMassIndex.csv\"))\n",
    "dfs.append(pd.read_csv(inputDir + \"DietaryCaffeine.csv\"))\n",
    "dfs.append(pd.read_csv(inputDir + \"DietaryWater.csv\"))\n",
    "dfs.append(pd.read_csv(inputDir + \"DistanceCycling.csv\"))\n",
    "dfs.append(pd.read_csv(inputDir + \"DistanceWalkingRunning.csv\"))\n",
    "dfs.append(pd.read_csv(inputDir + \"FlightsClimbed.csv\"))\n",
    "dfs.append(pd.read_csv(inputDir + \"HeartRate.csv\"))\n",
    "dfs.append(pd.read_csv(inputDir + \"Height.csv\"))\n",
    "dfs.append(pd.read_csv(inputDir + \"SleepAnalysis.csv\"))\n",
    "dfs.append(pd.read_csv(inputDir + \"StepCount.csv\"))\n",
    "dfs.append(pd.read_csv(inputDir + \"Workout.csv\"))"
   ]
  },
  {
   "cell_type": "markdown",
   "metadata": {},
   "source": [
    "## Visualization"
   ]
  },
  {
   "cell_type": "markdown",
   "metadata": {},
   "source": [
    "### Alcohol"
   ]
  },
  {
   "cell_type": "code",
   "execution_count": 25,
   "metadata": {},
   "outputs": [],
   "source": [
    "measurement = 'alcohol'\n",
    "dfs[df_list[measurement]]['creationDate'] =  pd.to_datetime(dfs[df_list[measurement]]['creationDate'], format='%Y-%m-%d %H:%M:%S', utc=True)\n",
    "dfs[df_list[measurement]]['startDate'] =  pd.to_datetime(dfs[df_list[measurement]]['startDate'], format='%Y-%m-%d %H:%M:%S', utc=True)\n",
    "dfs[df_list[measurement]]['endDate'] =  pd.to_datetime(dfs[df_list[measurement]]['endDate'], format='%Y-%m-%d %H:%M:%S', utc=True)\n",
    "dfs[df_list[measurement]].set_index('creationDate', inplace=True)"
   ]
  },
  {
   "cell_type": "code",
   "execution_count": 26,
   "metadata": {},
   "outputs": [
    {
     "name": "stdout",
     "output_type": "stream",
     "text": [
      "\n",
      "Blood Alcohol Content\n",
      "  * Time between 2019-01-22 09:52:00+00:00 - 2019-01-23 12:06:00+00:00\n",
      "  * Measured by Shortcuts\n",
      "  * 4 measurements\n",
      "  * Total 1.0 %\n"
     ]
    },
    {
     "data": {
      "application/vnd.plotly.v1+json": {
       "config": {
        "linkText": "Export to plot.ly",
        "plotlyServerURL": "https://plot.ly",
        "responsive": true,
        "showLink": false
       },
       "data": [
        {
         "mode": "markers",
         "name": "Blood Alcohol Content",
         "type": "scatter",
         "uid": "685074c8-3155-4d24-9e98-d16193718156",
         "x": [
          "2019-01-22 09:52:50",
          "2019-01-22 15:42:16",
          "2019-01-22 15:42:54",
          "2019-01-23 12:06:34"
         ],
         "y": [
          0.25,
          0.25,
          0.25,
          0.25
         ]
        },
        {
         "mode": "lines",
         "name": "Blood Alcohol Content Rolling Mean",
         "type": "scatter",
         "uid": "44d2a114-e2bc-4ff0-830f-a76a7c0fe336",
         "x": [
          "2019-01-22 09:52:50",
          "2019-01-22 15:42:16",
          "2019-01-22 15:42:54",
          "2019-01-23 12:06:34"
         ],
         "y": [
          null,
          null,
          0.25,
          0.25
         ]
        }
       ],
       "layout": {
        "autosize": true,
        "title": {
         "text": "Blood Alcohol Content vs Time"
        },
        "xaxis": {
         "autorange": true,
         "range": [
          "2019-01-22 08:17:49.1756",
          "2019-01-23 13:41:34.8244"
         ],
         "type": "date"
        },
        "yaxis": {
         "autorange": true,
         "range": [
          -0.75,
          1.25
         ],
         "title": {
          "text": "Blood Alcohol Content [%]"
         },
         "type": "linear"
        }
       }
      },
      "image/png": "[encoded data removed]",
      "text/html": [
       "<div>\n",
       "        \n",
       "        \n",
       "            <div id=\"81365c66-9aa8-41a9-84be-90a66dac0b43\" class=\"plotly-graph-div\" style=\"height:525px; width:100%;\"></div>\n",
       "            <script type=\"text/javascript\">\n",
       "                require([\"plotly\"], function(Plotly) {\n",
       "                    window.PLOTLYENV=window.PLOTLYENV || {};\n",
       "                    window.PLOTLYENV.BASE_URL='https://plot.ly';\n",
       "                    \n",
       "                if (document.getElementById(\"81365c66-9aa8-41a9-84be-90a66dac0b43\")) {\n",
       "                    Plotly.newPlot(\n",
       "                        '81365c66-9aa8-41a9-84be-90a66dac0b43',\n",
       "                        [{\"mode\": \"markers\", \"name\": \"Blood Alcohol Content\", \"type\": \"scatter\", \"uid\": \"a852e1d2-9263-4dd1-aac6-0311b6bb00d5\", \"x\": [\"2019-01-22 09:52:50\", \"2019-01-22 15:42:16\", \"2019-01-22 15:42:54\", \"2019-01-23 12:06:34\"], \"y\": [0.25, 0.25, 0.25, 0.25]}, {\"mode\": \"lines\", \"name\": \"Blood Alcohol Content Rolling Mean\", \"type\": \"scatter\", \"uid\": \"0d8f104d-577f-4ea8-8164-bd076ab11838\", \"x\": [\"2019-01-22 09:52:50\", \"2019-01-22 15:42:16\", \"2019-01-22 15:42:54\", \"2019-01-23 12:06:34\"], \"y\": [null, null, 0.25, 0.25]}],\n",
       "                        {\"title\": {\"text\": \"Blood Alcohol Content vs Time\"}, \"yaxis\": {\"title\": {\"text\": \"Blood Alcohol Content [%]\"}}},\n",
       "                        {\"showLink\": false, \"linkText\": \"Export to plot.ly\", \"plotlyServerURL\": \"https://plot.ly\", \"responsive\": true}\n",
       "                    ).then(function(){\n",
       "                            \n",
       "var gd = document.getElementById('81365c66-9aa8-41a9-84be-90a66dac0b43');\n",
       "var x = new MutationObserver(function (mutations, observer) {{\n",
       "        var display = window.getComputedStyle(gd).display;\n",
       "        if (!display || display === 'none') {{\n",
       "            console.log([gd, 'removed!']);\n",
       "            Plotly.purge(gd);\n",
       "            observer.disconnect();\n",
       "        }}\n",
       "}});\n",
       "\n",
       "// Listen for the removal of the full notebook cells\n",
       "var notebookContainer = gd.closest('#notebook-container');\n",
       "if (notebookContainer) {{\n",
       "    x.observe(notebookContainer, {childList: true});\n",
       "}}\n",
       "\n",
       "// Listen for the clearing of the current output cell\n",
       "var outputEl = gd.closest('.output');\n",
       "if (outputEl) {{\n",
       "    x.observe(outputEl, {childList: true});\n",
       "}}\n",
       "\n",
       "                        })\n",
       "                };\n",
       "                });\n",
       "            </script>\n",
       "        </div>"
      ]
     },
     "metadata": {},
     "output_type": "display_data"
    }
   ],
   "source": [
    "value_stats(measurement)\n",
    "plot_value_vs_time(dfs[df_list[measurement]], measurement)"
   ]
  },
  {
   "cell_type": "markdown",
   "metadata": {},
   "source": [
    "### Caffeine"
   ]
  },
  {
   "cell_type": "code",
   "execution_count": 27,
   "metadata": {},
   "outputs": [],
   "source": [
    "measurement = 'caffeine'\n",
    "dfs[df_list[measurement]]['creationDate'] =  pd.to_datetime(dfs[df_list[measurement]]['creationDate'], format='%Y-%m-%d %H:%M:%S', utc=True)\n",
    "dfs[df_list[measurement]]['startDate'] =  pd.to_datetime(dfs[df_list[measurement]]['startDate'], format='%Y-%m-%d %H:%M:%S', utc=True)\n",
    "dfs[df_list[measurement]]['endDate'] =  pd.to_datetime(dfs[df_list[measurement]]['endDate'], format='%Y-%m-%d %H:%M:%S', utc=True)\n",
    "dfs[df_list[measurement]].set_index('creationDate', inplace=True)"
   ]
  },
  {
   "cell_type": "code",
   "execution_count": 28,
   "metadata": {},
   "outputs": [
    {
     "name": "stdout",
     "output_type": "stream",
     "text": [
      "\n",
      "Dietary Caffeine\n",
      "  * Time between 2019-01-25 20:24:00+00:00 - 2019-01-26 12:10:00+00:00\n",
      "  * Measured by Shortcuts\n",
      "  * 4 measurements\n",
      "  * Total 20.959999999999997 mg\n"
     ]
    },
    {
     "data": {
      "application/vnd.plotly.v1+json": {
       "config": {
        "linkText": "Export to plot.ly",
        "plotlyServerURL": "https://plot.ly",
        "responsive": true,
        "showLink": false
       },
       "data": [
        {
         "mode": "markers",
         "name": "Dietary Caffeine",
         "type": "scatter",
         "uid": "d2a19958-d365-492e-be98-14c1319530cb",
         "x": [
          "2019-01-25 20:24:36",
          "2019-01-25 20:24:52",
          "2019-01-26 12:10:48",
          "2019-01-26 12:10:55"
         ],
         "y": [
          8.7,
          1.78,
          1.78,
          8.7
         ]
        },
        {
         "mode": "lines",
         "name": "Dietary Caffeine Rolling Mean",
         "type": "scatter",
         "uid": "80f1ecac-5a11-45a0-8c8e-6d2cc52e8a96",
         "x": [
          "2019-01-25 20:24:36",
          "2019-01-25 20:24:52",
          "2019-01-26 12:10:48",
          "2019-01-26 12:10:55"
         ],
         "y": [
          null,
          null,
          4.086666666666666,
          4.086666666666666
         ]
        }
       ],
       "layout": {
        "autosize": true,
        "title": {
         "text": "Dietary Caffeine vs Time"
        },
        "xaxis": {
         "autorange": true,
         "range": [
          "2019-01-25 19:27:37.3359",
          "2019-01-26 13:07:53.6641"
         ],
         "type": "date"
        },
        "yaxis": {
         "autorange": true,
         "range": [
          1.2089320388349516,
          9.271067961165048
         ],
         "title": {
          "text": "Dietary Caffeine [mg]"
         },
         "type": "linear"
        }
       }
      },
      "image/png": "[encoded data removed]",
      "text/html": [
       "<div>\n",
       "        \n",
       "        \n",
       "            <div id=\"851621ff-2751-4d6d-b2b7-67b191c06c19\" class=\"plotly-graph-div\" style=\"height:525px; width:100%;\"></div>\n",
       "            <script type=\"text/javascript\">\n",
       "                require([\"plotly\"], function(Plotly) {\n",
       "                    window.PLOTLYENV=window.PLOTLYENV || {};\n",
       "                    window.PLOTLYENV.BASE_URL='https://plot.ly';\n",
       "                    \n",
       "                if (document.getElementById(\"851621ff-2751-4d6d-b2b7-67b191c06c19\")) {\n",
       "                    Plotly.newPlot(\n",
       "                        '851621ff-2751-4d6d-b2b7-67b191c06c19',\n",
       "                        [{\"mode\": \"markers\", \"name\": \"Dietary Caffeine\", \"type\": \"scatter\", \"uid\": \"520b9041-8932-4d62-b59b-005116aa3156\", \"x\": [\"2019-01-25 20:24:36\", \"2019-01-25 20:24:52\", \"2019-01-26 12:10:48\", \"2019-01-26 12:10:55\"], \"y\": [8.7, 1.78, 1.78, 8.7]}, {\"mode\": \"lines\", \"name\": \"Dietary Caffeine Rolling Mean\", \"type\": \"scatter\", \"uid\": \"8e6f501e-b99a-4741-9ce7-20a91f726897\", \"x\": [\"2019-01-25 20:24:36\", \"2019-01-25 20:24:52\", \"2019-01-26 12:10:48\", \"2019-01-26 12:10:55\"], \"y\": [null, null, 4.086666666666666, 4.086666666666666]}],\n",
       "                        {\"title\": {\"text\": \"Dietary Caffeine vs Time\"}, \"yaxis\": {\"title\": {\"text\": \"Dietary Caffeine [mg]\"}}},\n",
       "                        {\"showLink\": false, \"linkText\": \"Export to plot.ly\", \"plotlyServerURL\": \"https://plot.ly\", \"responsive\": true}\n",
       "                    ).then(function(){\n",
       "                            \n",
       "var gd = document.getElementById('851621ff-2751-4d6d-b2b7-67b191c06c19');\n",
       "var x = new MutationObserver(function (mutations, observer) {{\n",
       "        var display = window.getComputedStyle(gd).display;\n",
       "        if (!display || display === 'none') {{\n",
       "            console.log([gd, 'removed!']);\n",
       "            Plotly.purge(gd);\n",
       "            observer.disconnect();\n",
       "        }}\n",
       "}});\n",
       "\n",
       "// Listen for the removal of the full notebook cells\n",
       "var notebookContainer = gd.closest('#notebook-container');\n",
       "if (notebookContainer) {{\n",
       "    x.observe(notebookContainer, {childList: true});\n",
       "}}\n",
       "\n",
       "// Listen for the clearing of the current output cell\n",
       "var outputEl = gd.closest('.output');\n",
       "if (outputEl) {{\n",
       "    x.observe(outputEl, {childList: true});\n",
       "}}\n",
       "\n",
       "                        })\n",
       "                };\n",
       "                });\n",
       "            </script>\n",
       "        </div>"
      ]
     },
     "metadata": {},
     "output_type": "display_data"
    }
   ],
   "source": [
    "value_stats(measurement)\n",
    "plot_value_vs_time(dfs[df_list[measurement]], measurement)"
   ]
  },
  {
   "cell_type": "markdown",
   "metadata": {},
   "source": [
    "### Water"
   ]
  },
  {
   "cell_type": "code",
   "execution_count": 29,
   "metadata": {},
   "outputs": [],
   "source": [
    "measurement = 'water'\n",
    "dfs[df_list[measurement]]['creationDate'] =  pd.to_datetime(dfs[df_list[measurement]]['creationDate'], format='%Y-%m-%d %H:%M:%S', utc=True)\n",
    "dfs[df_list[measurement]]['startDate'] =  pd.to_datetime(dfs[df_list[measurement]]['startDate'], format='%Y-%m-%d %H:%M:%S', utc=True)\n",
    "dfs[df_list[measurement]]['endDate'] =  pd.to_datetime(dfs[df_list[measurement]]['endDate'], format='%Y-%m-%d %H:%M:%S', utc=True)\n",
    "dfs[df_list[measurement]].set_index('creationDate', inplace=True)"
   ]
  },
  {
   "cell_type": "code",
   "execution_count": 30,
   "metadata": {},
   "outputs": [
    {
     "name": "stdout",
     "output_type": "stream",
     "text": [
      "\n",
      "Dietary Water\n",
      "  * Time between 2019-01-21 19:04:00+00:00 - 2019-01-28 07:21:00+00:00\n",
      "  * Measured by Shortcuts\n",
      "  * 18 measurements\n",
      "  * Total 6.199999999999999 L\n"
     ]
    },
    {
     "data": {
      "application/vnd.plotly.v1+json": {
       "config": {
        "linkText": "Export to plot.ly",
        "plotlyServerURL": "https://plot.ly",
        "responsive": true,
        "showLink": false
       },
       "data": [
        {
         "mode": "markers",
         "name": "Dietary Water",
         "type": "scatter",
         "uid": "bc07bd86-4d69-4add-a95b-5fc17702b993",
         "x": [
          "2019-01-21 19:04:39",
          "2019-01-21 19:05:00",
          "2019-01-22 08:37:53",
          "2019-01-22 11:43:30",
          "2019-01-22 11:43:42",
          "2019-01-22 15:42:14",
          "2019-01-22 15:42:54",
          "2019-01-23 11:03:34",
          "2019-01-23 12:06:34",
          "2019-01-25 20:24:21",
          "2019-01-25 20:24:36",
          "2019-01-25 20:24:52",
          "2019-01-25 20:24:59",
          "2019-01-26 12:10:48",
          "2019-01-26 12:10:55",
          "2019-01-26 12:11:01",
          "2019-01-28 07:21:20",
          "2019-01-28 07:21:26"
         ],
         "y": [
          0.25,
          0.2,
          0.3,
          0.3,
          0.3,
          0.5,
          0.5,
          0.3,
          0.5,
          0.3,
          0.8,
          0.3,
          0.3,
          0.25,
          0.2,
          0.3,
          0.3,
          0.3
         ]
        },
        {
         "mode": "lines",
         "name": "Dietary Water Rolling Mean",
         "type": "scatter",
         "uid": "d8cb4e4f-ce85-4832-a108-febf367b57e4",
         "x": [
          "2019-01-21 19:04:39",
          "2019-01-21 19:05:00",
          "2019-01-22 08:37:53",
          "2019-01-22 11:43:30",
          "2019-01-22 11:43:42",
          "2019-01-22 15:42:14",
          "2019-01-22 15:42:54",
          "2019-01-23 11:03:34",
          "2019-01-23 12:06:34",
          "2019-01-25 20:24:21",
          "2019-01-25 20:24:36",
          "2019-01-25 20:24:52",
          "2019-01-25 20:24:59",
          "2019-01-26 12:10:48",
          "2019-01-26 12:10:55",
          "2019-01-26 12:11:01",
          "2019-01-28 07:21:20",
          "2019-01-28 07:21:26"
         ],
         "y": [
          null,
          null,
          0.25,
          0.26666666666666666,
          0.30000000000000004,
          0.3666666666666667,
          0.43333333333333335,
          0.43333333333333335,
          0.43333333333333335,
          0.3666666666666667,
          0.5333333333333333,
          0.46666666666666673,
          0.46666666666666673,
          0.2833333333333334,
          0.25,
          0.25,
          0.26666666666666666,
          0.30000000000000004
         ]
        }
       ],
       "layout": {
        "autosize": true,
        "title": {
         "text": "Dietary Water vs Time"
        },
        "xaxis": {
         "autorange": true,
         "range": [
          "2019-01-21 09:40:38.2107",
          "2019-01-28 16:45:26.7893"
         ],
         "type": "date"
        },
        "yaxis": {
         "autorange": true,
         "range": [
          0.15048543689320387,
          0.8495145631067962
         ],
         "title": {
          "text": "Dietary Water [L]"
         },
         "type": "linear"
        }
       }
      },
      "image/png": "[encoded data removed]",
      "text/html": [
       "<div>\n",
       "        \n",
       "        \n",
       "            <div id=\"bb0ac8d8-7f16-4076-a32d-81713ac2e850\" class=\"plotly-graph-div\" style=\"height:525px; width:100%;\"></div>\n",
       "            <script type=\"text/javascript\">\n",
       "                require([\"plotly\"], function(Plotly) {\n",
       "                    window.PLOTLYENV=window.PLOTLYENV || {};\n",
       "                    window.PLOTLYENV.BASE_URL='https://plot.ly';\n",
       "                    \n",
       "                if (document.getElementById(\"bb0ac8d8-7f16-4076-a32d-81713ac2e850\")) {\n",
       "                    Plotly.newPlot(\n",
       "                        'bb0ac8d8-7f16-4076-a32d-81713ac2e850',\n",
       "                        [{\"mode\": \"markers\", \"name\": \"Dietary Water\", \"type\": \"scatter\", \"uid\": \"93ad4ff7-7a95-4103-b05f-50b9365d7ec5\", \"x\": [\"2019-01-21 19:04:39\", \"2019-01-21 19:05:00\", \"2019-01-22 08:37:53\", \"2019-01-22 11:43:30\", \"2019-01-22 11:43:42\", \"2019-01-22 15:42:14\", \"2019-01-22 15:42:54\", \"2019-01-23 11:03:34\", \"2019-01-23 12:06:34\", \"2019-01-25 20:24:21\", \"2019-01-25 20:24:36\", \"2019-01-25 20:24:52\", \"2019-01-25 20:24:59\", \"2019-01-26 12:10:48\", \"2019-01-26 12:10:55\", \"2019-01-26 12:11:01\", \"2019-01-28 07:21:20\", \"2019-01-28 07:21:26\"], \"y\": [0.25, 0.2, 0.3, 0.3, 0.3, 0.5, 0.5, 0.3, 0.5, 0.3, 0.8, 0.3, 0.3, 0.25, 0.2, 0.3, 0.3, 0.3]}, {\"mode\": \"lines\", \"name\": \"Dietary Water Rolling Mean\", \"type\": \"scatter\", \"uid\": \"11b5a344-317a-46d1-bf03-f7cdbb908a87\", \"x\": [\"2019-01-21 19:04:39\", \"2019-01-21 19:05:00\", \"2019-01-22 08:37:53\", \"2019-01-22 11:43:30\", \"2019-01-22 11:43:42\", \"2019-01-22 15:42:14\", \"2019-01-22 15:42:54\", \"2019-01-23 11:03:34\", \"2019-01-23 12:06:34\", \"2019-01-25 20:24:21\", \"2019-01-25 20:24:36\", \"2019-01-25 20:24:52\", \"2019-01-25 20:24:59\", \"2019-01-26 12:10:48\", \"2019-01-26 12:10:55\", \"2019-01-26 12:11:01\", \"2019-01-28 07:21:20\", \"2019-01-28 07:21:26\"], \"y\": [null, null, 0.25, 0.26666666666666666, 0.30000000000000004, 0.3666666666666667, 0.43333333333333335, 0.43333333333333335, 0.43333333333333335, 0.3666666666666667, 0.5333333333333333, 0.46666666666666673, 0.46666666666666673, 0.2833333333333334, 0.25, 0.25, 0.26666666666666666, 0.30000000000000004]}],\n",
       "                        {\"title\": {\"text\": \"Dietary Water vs Time\"}, \"yaxis\": {\"title\": {\"text\": \"Dietary Water [L]\"}}},\n",
       "                        {\"showLink\": false, \"linkText\": \"Export to plot.ly\", \"plotlyServerURL\": \"https://plot.ly\", \"responsive\": true}\n",
       "                    ).then(function(){\n",
       "                            \n",
       "var gd = document.getElementById('bb0ac8d8-7f16-4076-a32d-81713ac2e850');\n",
       "var x = new MutationObserver(function (mutations, observer) {{\n",
       "        var display = window.getComputedStyle(gd).display;\n",
       "        if (!display || display === 'none') {{\n",
       "            console.log([gd, 'removed!']);\n",
       "            Plotly.purge(gd);\n",
       "            observer.disconnect();\n",
       "        }}\n",
       "}});\n",
       "\n",
       "// Listen for the removal of the full notebook cells\n",
       "var notebookContainer = gd.closest('#notebook-container');\n",
       "if (notebookContainer) {{\n",
       "    x.observe(notebookContainer, {childList: true});\n",
       "}}\n",
       "\n",
       "// Listen for the clearing of the current output cell\n",
       "var outputEl = gd.closest('.output');\n",
       "if (outputEl) {{\n",
       "    x.observe(outputEl, {childList: true});\n",
       "}}\n",
       "\n",
       "                        })\n",
       "                };\n",
       "                });\n",
       "            </script>\n",
       "        </div>"
      ]
     },
     "metadata": {},
     "output_type": "display_data"
    }
   ],
   "source": [
    "value_stats(measurement)\n",
    "plot_value_vs_time(dfs[df_list[measurement]], measurement)"
   ]
  }
 ],
 "metadata": {
  "kernelspec": {
   "display_name": "Python 3",
   "language": "python",
   "name": "python3"
  },
  "language_info": {
   "codemirror_mode": {
    "name": "ipython",
    "version": 3
   },
   "file_extension": ".py",
   "mimetype": "text/x-python",
   "name": "python",
   "nbconvert_exporter": "python",
   "pygments_lexer": "ipython3",
   "version": "3.7.3"
  }
 },
 "nbformat": 4,
 "nbformat_minor": 2
}
