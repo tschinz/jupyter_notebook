{
 "cells": [
  {
   "cell_type": "markdown",
   "metadata": {},
   "source": [
    "# Nand Game Translator\n",
    "This script takes the English JSON file with all the text from the [Nand Game](http://www.nandgame.com/) created by Olav Junker Kjær and translates it with the help of Google Translate to any other language.\n",
    "\n",
    "**Limitations**\n",
    "* Google Translate has a daily limit on API access. Only 2-3 translation of a file that size can be made by day by a certain IP address\n",
    "* API Limit can be avoided by using different VPN locations\n",
    "* It is to see if HTML text are properly conserved by the Google Translation\n",
    "* The tranlated text need to be checked manually..."
   ]
  },
  {
   "cell_type": "markdown",
   "metadata": {},
   "source": [
    "## Setup"
   ]
  },
  {
   "cell_type": "code",
   "execution_count": 2,
   "metadata": {},
   "outputs": [],
   "source": [
    "import json\n",
    "import os\n",
    "from googletrans import Translator"
   ]
  },
  {
   "cell_type": "markdown",
   "metadata": {},
   "source": [
    "### Input Output directories"
   ]
  },
  {
   "cell_type": "code",
   "execution_count": 3,
   "metadata": {},
   "outputs": [],
   "source": [
    "# Setup local input directories\n",
    "inputDir = \"in/\"\n",
    "if (os.path.exists(inputDir)) is False:\n",
    "    os.makedirs(inputDir)\n",
    "if (os.path.isdir(inputDir)) is False:\n",
    "    raise NotADirectoryError(\"{} is not a directory\".format(inputDir))"
   ]
  },
  {
   "cell_type": "code",
   "execution_count": 4,
   "metadata": {},
   "outputs": [],
   "source": [
    "# Setup local input directories\n",
    "outputDir = \"out/\"\n",
    "if (os.path.exists(outputDir)) is False:\n",
    "    os.makedirs(outputDir)\n",
    "if (os.path.isdir(outputDir)) is False:\n",
    "    raise NotADirectoryError(\"{} is not a directory\".format(outputDir))"
   ]
  },
  {
   "cell_type": "code",
   "execution_count": 5,
   "metadata": {},
   "outputs": [
    {
     "name": "stdout",
     "output_type": "stream",
     "text": [
      "Files from directory  in/\n",
      "  *  .ipynb_checkpoints\n",
      "  *  en-test.json\n",
      "  *  en.json\n"
     ]
    }
   ],
   "source": [
    "# Get files in input directory\n",
    "dirlist = os.listdir(inputDir)\n",
    "print(\"Files from directory \", inputDir)\n",
    "for file in dirlist:\n",
    "    print(\"  * \",file)"
   ]
  },
  {
   "cell_type": "markdown",
   "metadata": {},
   "source": [
    "## Stupid recursive function who does all in one"
   ]
  },
  {
   "cell_type": "code",
   "execution_count": 6,
   "metadata": {},
   "outputs": [],
   "source": [
    "def getElements(jInData, jOutData, level, inLang = 'en', outLang = 'de', verbose=False):\n",
    "    for key, value in jInData.items():\n",
    "        if verbose:\n",
    "            print(\"{}* Key: {}\".format(level*\"  \", key))\n",
    "        if isinstance(value, list):\n",
    "            for field in value:\n",
    "                try:\n",
    "                    if isinstance(jOutData[key], list):\n",
    "                        getElements(field, jOutData[key], level+1, inLang, outLang)\n",
    "                except:\n",
    "                    jOutData[key] = list()\n",
    "                    getElements(field, jOutData[key], level+1, inLang, outLang)\n",
    "        else:\n",
    "            try:\n",
    "                jsonkeydata = jInData[key]\n",
    "                jOutData[key] = dict()\n",
    "                getElements(jsonkeydata, jOutData[key], level+1, inLang, outLang)\n",
    "            except:\n",
    "                translator = Translator()\n",
    "                value_translated = translator.translate(value, src=inLang, dest=outLang)\n",
    "                if isinstance(jOutData, list):\n",
    "                    jOutData.append({key:value_translated.text})\n",
    "                else:\n",
    "                    jOutData[key] = value_translated.text\n",
    "                if verbose:\n",
    "                    print(\"{}* Value: {} => {}\".format(level*\"  \", value, value_translated.text))\n",
    "\n",
    "def wirteJSONFile(jsonData, filelocation):\n",
    "    with open(filelocation, 'w') as fp:\n",
    "        json.dump(jsonData, fp)"
   ]
  },
  {
   "cell_type": "markdown",
   "metadata": {},
   "source": [
    "## Test Execution with smaller test file"
   ]
  },
  {
   "cell_type": "code",
   "execution_count": null,
   "metadata": {},
   "outputs": [],
   "source": [
    "inLang = \"en\"\n",
    "outLang = \"de\"\n",
    "inputFile = inputDir+\"en-test.json\"\n",
    "outputFile = outputDir+\"de-test.json\"\n",
    "jsonInData = json.loads(open(inputFile).read())\n",
    "jsonOutData = dict()\n",
    "\n",
    "\n",
    "getElements(jsonInData, jsonOutData, 0, inLang, outLang)\n",
    "wirteJSONFile(jsonOutData, outputFile)"
   ]
  },
  {
   "cell_type": "markdown",
   "metadata": {},
   "source": [
    "## Translate English to German"
   ]
  },
  {
   "cell_type": "code",
   "execution_count": null,
   "metadata": {},
   "outputs": [],
   "source": [
    "inLang = \"en\"\n",
    "outLang = \"de\"\n",
    "inputFile = inputDir + inLang + \".json\"\n",
    "outputFile = outputDir + outLang + \".json\"\n",
    "jsonInData = json.loads(open(inputFile).read())\n",
    "jsonOutData = dict()\n",
    "\n",
    "getElements(jsonInData, jsonOutData, 0, inLang, outLang)\n",
    "wirteJSONFile(jsonOutData, outputFile)"
   ]
  },
  {
   "cell_type": "markdown",
   "metadata": {},
   "source": [
    "## Translate English to French"
   ]
  },
  {
   "cell_type": "code",
   "execution_count": 9,
   "metadata": {},
   "outputs": [],
   "source": [
    "inLang = \"en\"\n",
    "outLang = \"fr\"\n",
    "inputFile = inputDir + inLang + \".json\"\n",
    "outputFile = outputDir + outLang + \".json\"\n",
    "jsonInData = json.loads(open(inputFile).read())\n",
    "jsonOutData = dict()\n",
    "\n",
    "getElements(jsonInData, jsonOutData, 0, inLang, outLang)\n",
    "wirteJSONFile(jsonOutData, outputFile)"
   ]
  },
  {
   "cell_type": "code",
   "execution_count": null,
   "metadata": {},
   "outputs": [],
   "source": []
  }
 ],
 "metadata": {
  "kernelspec": {
   "display_name": "Python 3",
   "language": "python",
   "name": "python3"
  },
  "language_info": {
   "codemirror_mode": {
    "name": "ipython",
    "version": 3
   },
   "file_extension": ".py",
   "mimetype": "text/x-python",
   "name": "python",
   "nbconvert_exporter": "python",
   "pygments_lexer": "ipython3",
   "version": "3.7.3"
  }
 },
 "nbformat": 4,
 "nbformat_minor": 2
}
