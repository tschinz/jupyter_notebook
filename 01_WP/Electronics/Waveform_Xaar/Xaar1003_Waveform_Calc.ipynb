{
 "cells": [
  {
   "cell_type": "markdown",
   "metadata": {},
   "source": [
    "# Xaar 1003 Waveform Calc"
   ]
  },
  {
   "cell_type": "code",
   "execution_count": 1,
   "metadata": {
    "collapsed": false
   },
   "outputs": [
    {
     "name": "stdout",
     "output_type": "stream",
     "text": [
      "Xaar 1003 PH Waveform\n",
      "PH Waveform Size            = 2040.0 bytes\n",
      "PH Waveform Download Speed  = 4882.8125 kBytes/s = 4.76837158203125 MBytes/s\n",
      "PH Waveform Download Time   = 0.408 ms\n",
      "\n",
      "Xaar 1003 SPI Waveform\n",
      "Number of SPI Accesses used = 510.0\n",
      "SPI Speed                   = 55.017605633802816 kBytes/s = 0.05372813050176056 MBytes/s\n",
      "SPI Waveform Download Time  = 36.21 ms\n"
     ]
    }
   ],
   "source": [
    "# Waveform Calc\n",
    "dclk_period   = 100e-9 # Typ 100ns == 10MHz Max 12MHz\n",
    "waveform_bits = 4      # bits\n",
    "waveform_size = 2040*2 # nibbles\n",
    "\n",
    "# calc\n",
    "ph_wave_datasize = waveform_size*waveform_bits # bits\n",
    "ph_wave_speed    = waveform_bits/dclk_period   # bit/s\n",
    "ph_download_time = 1/ph_wave_speed*ph_wave_datasize\n",
    "\n",
    "## SPI Access\n",
    "spi_clk = 1e-3 # 1us\n",
    "spi_access_datasize = 32 # bits\n",
    "spi_access_time = 71e-6  # 71us\n",
    "\n",
    "# calc\n",
    "spi_nbrOfAccess   = ph_wave_datasize/spi_access_datasize\n",
    "spi_access_speed  = spi_access_datasize/spi_access_time # bit/s\n",
    "spi_download_time = 1/spi_access_speed*ph_wave_datasize\n",
    "\n",
    "print(\"Xaar 1003 PH Waveform\")\n",
    "print(\"PH Waveform Size            = {} bytes\".format(ph_wave_datasize/8))\n",
    "print(\"PH Waveform Download Speed  = {} kBytes/s = {} MBytes/s\".format(ph_wave_speed/(8*1024), ph_wave_speed/(8*1024*1024)))\n",
    "print(\"PH Waveform Download Time   = {} ms\".format(ph_download_time*1000))\n",
    "\n",
    "print(\"\")\n",
    "print(\"Xaar 1003 SPI Waveform\")\n",
    "print(\"Number of SPI Accesses used = {}\".format(spi_nbrOfAccess))\n",
    "print(\"SPI Speed                   = {} kBytes/s = {} MBytes/s\".format(spi_access_speed/(8*1024),spi_access_speed/(8*1024*1024)))\n",
    "print(\"SPI Waveform Download Time  = {} ms\".format(spi_download_time*1000))"
   ]
  }
 ],
 "metadata": {
  "kernelspec": {
   "display_name": "Python 3",
   "language": "python",
   "name": "python3"
  },
  "language_info": {
   "codemirror_mode": {
    "name": "ipython",
    "version": 3
   },
   "file_extension": ".py",
   "mimetype": "text/x-python",
   "name": "python",
   "nbconvert_exporter": "python",
   "pygments_lexer": "ipython3",
   "version": "3.6.5"
  }
 },
 "nbformat": 4,
 "nbformat_minor": 2
}
