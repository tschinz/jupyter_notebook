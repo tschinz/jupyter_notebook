{
 "metadata": {
  "name": "",
  "signature": "sha256:27c7bf61f9b0798e0d24f4d1de7f142ca633b5f4882331380f3df6480b0ea8f5"
 },
 "nbformat": 3,
 "nbformat_minor": 0,
 "worksheets": [
  {
   "cells": [
    {
     "cell_type": "markdown",
     "metadata": {},
     "source": [
      "# Printhead Calculations"
     ]
    },
    {
     "cell_type": "markdown",
     "metadata": {},
     "source": [
      "## Pixel Pitch\n",
      "$ pixel_{Pitch}=\\frac{25400\\frac{\\mu m}{inch}}{{Resolution}} $\n",
      "\n",
      "$ sub\\_pixel_{Pitch}=\\frac{25400\\frac{\\mu m}{inch}}{{Resolution*NbrOfSubpixels}} $"
     ]
    },
    {
     "cell_type": "code",
     "collapsed": false,
     "input": [
      "resolutions    = [360, 600, 1200, 2400, 4800] # dpi\n",
      "inch2cm        = 2.54 # cm/inch\n",
      "nbrOfSubpixels = 32\n",
      "\n",
      "# Calulation Pixel Pinch\n",
      "pixel_pitch = np.empty(shape=[size(resolutions)], dtype=np.float64) # um\n",
      "for i in range(size(resolutions)):\n",
      "  pixel_pitch[i] = (inch2cm/resolutions[i])*10000\n",
      "\n",
      "# Calculation Subpixel Pinch\n",
      "sub_pixel_pitch = np.empty(shape=[size(resolutions)], dtype=np.float64) # um\n",
      "for i in range(size(resolutions)):\n",
      "  sub_pixel_pitch[i] = pixel_pitch[i]/nbrOfSubpixels\n",
      "  \n",
      "for i in range(size(resolutions)):\n",
      "  print(\"Resolution: {:4} dpi   Pixel Pitch: {} um   Sub Pixel Pitch: {} um\".format(resolutions[i], pixel_pitch[i], sub_pixel_pitch[i]))\n",
      "  "
     ],
     "language": "python",
     "metadata": {},
     "outputs": [
      {
       "output_type": "stream",
       "stream": "stdout",
       "text": [
        "Resolution:  360 dpi   Pixel Pitch: 70.5555555556 um   Sub Pixel Pitch: 2.20486111111 um\n",
        "Resolution:  600 dpi   Pixel Pitch: 42.3333333333 um   Sub Pixel Pitch: 1.32291666667 um\n",
        "Resolution: 1200 dpi   Pixel Pitch: 21.1666666667 um   Sub Pixel Pitch: 0.661458333333 um\n",
        "Resolution: 2400 dpi   Pixel Pitch: 10.5833333333 um   Sub Pixel Pitch: 0.330729166667 um\n",
        "Resolution: 4800 dpi   Pixel Pitch: 5.29166666667 um   Sub Pixel Pitch: 0.165364583333 um\n"
       ]
      }
     ],
     "prompt_number": 2
    },
    {
     "cell_type": "markdown",
     "metadata": {},
     "source": [
      "Error in Pixel Pitch $\\Delta x_{Pitch}$because of substrate speed and clock frequency\n",
      "$ \\Delta x_{Pitch}=v_{Substrate}\u2219\\Delta t $\n",
      "\n",
      "Error is the modulus of the achieved and the ideal pixel pitch.\n",
      "$ e=Rest(\\frac{pixel_{Pitch}}{\\Delta x_{Raster}}) $"
     ]
    },
    {
     "cell_type": "code",
     "collapsed": false,
     "input": [
      "import numpy as np\n",
      "import pylab as pl\n",
      "pl.clf()\n",
      "frequencies = [50e6, 100e6, 150e6, 200e6] # MHz\n",
      "speed = np.linspace(0,10,50) # 50 x points from 0m/s to 10m/s\n",
      "\n",
      "for freq in frequencies:\n",
      "  delta_x_pitch = (speed*100000) * 1/freq # um/s / s\n",
      "  #error = numpy.mod(pixel_pitch[1],delta_x_pitch)\n",
      "  # Plot graph  \n",
      "  pl.plot(speed,delta_x_pitch,label=str(int(freq/1000000))+\" MHz\")\n",
      "\n",
      "# Place legend, Axis and Title\n",
      "pl.legend(loc='best')\n",
      "pl.xlabel(\"Speed [m/s]\")\n",
      "pl.ylabel(\"$\\Delta$ x_pitch or Error [um]\")\n",
      "pl.title(\"Pixel Pitch Errors @ {}dpi\".format(resolutions[1]))"
     ],
     "language": "python",
     "metadata": {},
     "outputs": [
      {
       "metadata": {},
       "output_type": "pyout",
       "prompt_number": 97,
       "text": [
        "<matplotlib.text.Text at 0x15df70f0>"
       ]
      },
      {
       "metadata": {},
       "output_type": "display_data",
       "png": "[encoded data removed]",
       "text": [
        "<matplotlib.figure.Figure at 0x15dec5f8>"
       ]
      }
     ],
     "prompt_number": 97
    },
    {
     "cell_type": "markdown",
     "metadata": {},
     "source": [
      "## Resolution"
     ]
    },
    {
     "cell_type": "code",
     "collapsed": false,
     "input": [
      "pixel_pitch = 0.1692 # mm\n",
      "inch2cm = 2.54 # cm/inch\n",
      "resolution = (inch2cm/pixel_pitch)*10\n",
      "print(\"Resolution: {:4} dpi   Pixel Pitch: {} um\".format(resolution, pixel_pitch))"
     ],
     "language": "python",
     "metadata": {},
     "outputs": [
      {
       "output_type": "stream",
       "stream": "stdout",
       "text": [
        "Resolution: 150.11820331 dpi   Pixel Pitch: 0.1692 um\n"
       ]
      }
     ],
     "prompt_number": 4
    },
    {
     "cell_type": "markdown",
     "metadata": {},
     "source": [
      "## Stitching"
     ]
    },
    {
     "cell_type": "markdown",
     "metadata": {},
     "source": [
      "### For Steinemann machine (KonicaMinolta KM1024i)\n",
      "$ pixel_{overlap}=\\frac{ph_{resolution}}{2.54\\frac{cm}{inch}* ph_{overlapping}} $"
     ]
    },
    {
     "cell_type": "code",
     "collapsed": false,
     "input": [
      "ph_resolution  = 360   # dpi\n",
      "inch2cm        = 2.54  # cm/inch\n",
      "ph_overlapping = 0.196 # cm\n",
      "\n",
      "pixel_overlap = ph_resolution / inch2cm * ph_overlapping\n",
      "\n",
      "print(\"{} dots\".format(pixel_overlap))"
     ],
     "language": "python",
     "metadata": {},
     "outputs": [
      {
       "output_type": "stream",
       "stream": "stdout",
       "text": [
        "27.7795275591 dots\n"
       ]
      }
     ],
     "prompt_number": 9
    },
    {
     "cell_type": "markdown",
     "metadata": {},
     "source": [
      "## Pixel distance"
     ]
    },
    {
     "cell_type": "markdown",
     "metadata": {},
     "source": [
      "### KonicaMinolta KM1024i & KM1024\n",
      "$ pixel_{pitch}=\\frac{25.4\\frac{mm}{inch}}{ph_{resolution}} $"
     ]
    },
    {
     "cell_type": "markdown",
     "metadata": {},
     "source": [
      "# Printing Speed"
     ]
    },
    {
     "cell_type": "markdown",
     "metadata": {},
     "source": [
      "$ pixel_{pitch} = \\frac{25.4\\frac{mm}{inch}}{resolution_{ph}} = [mm] $\n",
      "\n",
      "$ freq_{adjusted} = \\frac{freq_{ph}*percent_{speed}}{100} = [Hz] $\n",
      "\n",
      "$ speed = pixel_{pitch} * freq_{adjusted} * \\frac{resolution_{ph}}{resolution_{job}} = [\\frac{mm}{s}] $"
     ]
    },
    {
     "cell_type": "code",
     "collapsed": false,
     "input": [
      "resolution_job = 720  # dpi\n",
      "resolution_ph  = 360  # dpi\n",
      "f_ph           = 30e3 # Hz\n",
      "speed_percent  = 100  # %\n",
      "#-------------------------------------\n",
      "inch2mm     = 25.4 # mm/inch\n",
      "#-------------------------------------\n",
      "pixel_pinch = inch2mm/resolution_ph          # (inch/mm)/(dot/inch) = mm/dot\n",
      "adjusted_frequency = f_ph / 100 * speed_percent # Hz\n",
      "\n",
      "speed = pixel_pinch * adjusted_frequency * resolution_ph/resolution_job # (mm/dot) * 1/s * (dot/inch)/(dot/inch) = mm/s\n",
      "\n",
      "print(\"Pixel Pinch = {} mm\".format(pixel_pinch))\n",
      "print(\"Adjusted Frequency = {}% of {} Hz = {} Hz\".format(speed_percent, f_ph, adjusted_frequency))\n",
      "\n",
      "print(\"Speed = {} mm/s\".format(speed))\n",
      "print(\"Speed = {} m/s\".format(speed/1000))"
     ],
     "language": "python",
     "metadata": {},
     "outputs": [
      {
       "output_type": "stream",
       "stream": "stdout",
       "text": [
        "Pixel Pinch = 0.0705555555556 mm\n",
        "Adjusted Frequency = 100% of 30000.0 Hz = 30000.0 Hz\n",
        "Speed = 1058.33333333 mm/s\n",
        "Speed = 1.05833333333 m/s\n"
       ]
      }
     ],
     "prompt_number": 30
    },
    {
     "cell_type": "markdown",
     "metadata": {},
     "source": [
      "# Printing Dimensions"
     ]
    },
    {
     "cell_type": "markdown",
     "metadata": {},
     "source": [
      "For calculating the Printing dimensions in x and y axis. The following values are needed.\n",
      "* section_witdh = Number of bytes of a section. Can be found in CoE Memory Organization 8040:1\n",
      "* section_depth = Number of bytes of a section. Can be found in CoE Memory Organization 8040:2\n",
      "* Number of sections = Number of bytes of a section. Can be found in CoE Memory Organization 8040:3\n",
      "* Resolution of the Printhead"
     ]
    },
    {
     "cell_type": "markdown",
     "metadata": {},
     "source": [
      "$print_{width} = section_{width} * 2\\frac{pixel}{byte} * \\frac{0.0254\\frac{m}{inch}}{ph_{dpi}} = [m]$\n",
      "\n",
      "$print_{length} = section_{depth} * section_{numbers} * 2\\frac{pixel}{byte} * \\frac{0.0254\\frac{m}{inch}}{ph_{dpi}} = [m]$"
     ]
    },
    {
     "cell_type": "code",
     "collapsed": false,
     "input": [
      "def printing_dimensions(section_width, section_depth, section_numbers, ph_dpi):\n",
      "  \"\"\"\n",
      "  printing_dimensions calculates the printing width and length of a printhead with the available memory\n",
      "  param section_width   : (bytes) Can be found in CoE Memory Organization 8040:1\n",
      "  param section_depth   : (bytes) Can be found in CoE Memory Organization 8040:2\n",
      "  param section_numbers : Can be found in CoE Memory Organization 8040:3\n",
      "  \"\"\"\n",
      "  # Constants\n",
      "  inch2m     = 0.0254 # m/inch\n",
      "  pixel_byte = 2      # pixel/byte\n",
      "  \n",
      "  # Calc Pixel Pitch\n",
      "  pixel_pitch = inch2m/ph_dpi # in m\n",
      "  \n",
      "  # Calc Print width = Y Axis = Crossprint Axis\n",
      "  section_width_pixel = section_width * pixel_byte\n",
      "  print_width = section_width_pixel*pixel_pitch\n",
      "  \n",
      "  # Calc Print length = X Axis = Print Axis\n",
      "  section_depth_pixel = section_depth * pixel_byte\n",
      "  print_length = section_depth_pixel*section_numbers*pixel_pitch\n",
      "  \n",
      "  # Calc memory size\n",
      "  memory_size_byte  = section_width*section_depth*section_numbers\n",
      "  memory_size_pixel = memory_size_byte * pixel_byte\n",
      "  \n",
      "  # Print\n",
      "  print(\"Memory Size           : {} MBytes\".format(memory_size_byte/1000/1000))\n",
      "  print(\"Memory Size           : {} MPixel\".format(memory_size_pixel/1000/1000))\n",
      "  print(\"PixelPitch @ {:3}dpi   : {} um\".format(ph_dpi,pixel_pitch*1000*1000))\n",
      "  print(\"Print width           : {} mm\".format(print_width*1000))\n",
      "  print(\"Print length          : {} m\".format(print_length))\n",
      "  \n",
      "  return print_width, print_length"
     ],
     "language": "python",
     "metadata": {},
     "outputs": [],
     "prompt_number": 24
    },
    {
     "cell_type": "markdown",
     "metadata": {},
     "source": [
      "## Techma 4"
     ]
    },
    {
     "cell_type": "code",
     "collapsed": false,
     "input": [
      "section_width   = 3072  # bytes\n",
      "section_depth   = 16384 # bytes\n",
      "section_numbers = 21    # Nbr\n",
      "ph_dpi          = 600   # dpi\n",
      "print_width, print_length = printing_dimensions(section_width, section_depth, section_numbers, ph_dpi)\n",
      "\n",
      "# For 4 GB of RAM\n",
      "print_length = print_length *4\n",
      "print(\"Print length (4GB)    : {} m\".format(print_length))"
     ],
     "language": "python",
     "metadata": {},
     "outputs": [
      {
       "output_type": "stream",
       "stream": "stdout",
       "text": [
        "Memory Size           : 1056 MBytes\n",
        "Memory Size           : 2113 MPixel\n",
        "PixelPitch @ 600dpi   : 42.3333333333 um\n",
        "Print width           : 260.096 mm\n",
        "Print length          : 29.130752 m\n",
        "Print length (4GB)    : 116.523008 m\n"
       ]
      }
     ],
     "prompt_number": 25
    }
   ],
   "metadata": {}
  }
 ]
}