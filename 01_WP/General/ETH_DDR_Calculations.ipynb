{
 "metadata": {
  "name": "",
  "signature": "sha256:e28c0da2fa291c6cf0e8ddb9dda992dddcdef4b01f99740e72bb66c24f5f0e92"
 },
 "nbformat": 3,
 "nbformat_minor": 0,
 "worksheets": [
  {
   "cells": [
    {
     "cell_type": "markdown",
     "metadata": {},
     "source": [
      "# Ethernet Calculations"
     ]
    },
    {
     "cell_type": "markdown",
     "metadata": {},
     "source": [
      "## Physical Frame Length\n",
      "$pixel_{Pitch} = \\frac{25400\\frac{\\mu m}{inch}}{{Resolution}}$\n",
      "\n",
      "$physical\\_frame_{length} = pixel_{Pitch} * pixel\\_per\\_frame$"
     ]
    },
    {
     "cell_type": "code",
     "collapsed": false,
     "input": [
      "resolutions       = [360, 600, 1200, 2400, 4800] # dpi\n",
      "inch2mm           = 25.4 # mm/inch\n",
      "framelength_bytes = 8192\n",
      "pixel_bitnb       = 4\n",
      "\n",
      "physical_frame_length = np.empty(shape=[size(resolutions)], dtype=np.float64) # mm\n",
      "for i in range(size(resolutions)):\n",
      "  physical_frame_length[i] = (inch2mm / resolutions[i]) * (framelength_bytes * 8 / pixel_bitnb)\n",
      "\n",
      "for i in range(size(resolutions)):\n",
      "  print(\"Resolution: {:4} dpi   Physical Frame Length: {} mm\".format(resolutions[i], physical_frame_length[i]))"
     ],
     "language": "python",
     "metadata": {},
     "outputs": [
      {
       "output_type": "stream",
       "stream": "stdout",
       "text": [
        "Resolution:  360 dpi   Physical Frame Length: 1155.98222222 mm\n",
        "Resolution:  600 dpi   Physical Frame Length: 693.589333333 mm\n",
        "Resolution: 1200 dpi   Physical Frame Length: 346.794666667 mm\n",
        "Resolution: 2400 dpi   Physical Frame Length: 173.397333333 mm\n",
        "Resolution: 4800 dpi   Physical Frame Length: 86.6986666667 mm\n"
       ]
      }
     ],
     "prompt_number": 3
    },
    {
     "cell_type": "markdown",
     "metadata": {},
     "source": [
      "# DDR Calculations"
     ]
    },
    {
     "cell_type": "markdown",
     "metadata": {},
     "source": [
      "## Memory size"
     ]
    },
    {
     "cell_type": "code",
     "collapsed": false,
     "input": [
      "memory_sizes = [1073741824, 2147483648, 4294967296, 8589934592] # [Bytes] = 1GB, 2GB, 4GB, 8GB\n",
      "memory_width = 1024 # Pixels\n",
      "section_nbr  = 16\n",
      "\n",
      "memory_depth  = np.empty(shape=[size(memory_sizes)], dtype=np.integer)\n",
      "section_depth = np.empty(shape=[size(memory_sizes)], dtype=np.integer)\n",
      "for i in range(size(memory_sizes)):\n",
      "  memory_depth[i]  = memory_sizes[i]  / memory_width\n",
      "  section_depth[i] = memory_depth[i] / section_nbr\n",
      "\n",
      "print(\"| Memory Size | Memory Width |   Memory Depth | Section Nbr | Section Depth |\")\n",
      "for i in range(size(memory_sizes)):\n",
      "  print(\"| {:4} GBytes |  {:4} Pixels | {:8} Bytes | {:11} | {:7} Bytes |\".format(memory_sizes[i]/1024/1024/1024, memory_width, memory_depth[i], section_nbr, section_depth[i]))\n"
     ],
     "language": "python",
     "metadata": {},
     "outputs": [
      {
       "output_type": "stream",
       "stream": "stdout",
       "text": [
        "| Memory Size | Memory Width |   Memory Depth | Section Nbr | Section Depth |\n",
        "|    1 GBytes |  1024 Pixels |  1048576 Bytes |          16 |   65536 Bytes |\n",
        "|    2 GBytes |  1024 Pixels |  2097152 Bytes |          16 |  131072 Bytes |\n",
        "|    4 GBytes |  1024 Pixels |  4194304 Bytes |          16 |  262144 Bytes |\n",
        "|    8 GBytes |  1024 Pixels |  8388608 Bytes |          16 |  524288 Bytes |\n"
       ]
      }
     ],
     "prompt_number": 89
    },
    {
     "cell_type": "markdown",
     "metadata": {},
     "source": [
      "## Data Rate required"
     ]
    },
    {
     "cell_type": "code",
     "collapsed": false,
     "input": [
      "inch2mm        = 25.4 # mm/inch\n",
      "ph_name        = [\"KM 1024i\", \"KY KJ4B\", \"KY KJ4B_1200_64k\"]\n",
      "resolutions    = [360, 600, 1200] # dpi\n",
      "nozzle_nbr     = [5312, 5312, 5312] # noozles\n",
      "f_jetting      = [30, 40, 64] # kHz\n",
      "\n",
      "bits_per_pixel = 4\n",
      "read_factor    = 2\n",
      "\n",
      "pixel_pitch       = np.empty(shape=[size(resolutions)], dtype=np.float64)\n",
      "substrate_speed   = np.empty(shape=[size(resolutions)], dtype=np.float64)\n",
      "printhead_bitrate = np.empty(shape=[size(resolutions)], dtype=np.float64)\n",
      "ddr2_bitrate_read = np.empty(shape=[size(resolutions)], dtype=np.float64)\n",
      "for i in range(size(resolutions)):\n",
      "  pixel_pitch[i]       = inch2mm / resolutions[i]\n",
      "  substrate_speed[i]   = f_jetting[i] * pixel_pitch[i]\n",
      "  printhead_bitrate[i] = nozzle_nbr[i] * bits_per_pixel * f_jetting[i]\n",
      "  ddr2_bitrate_read[i] = printhead_bitrate[i] * read_factor\n",
      "\n",
      "print(\"| PH Name   | Resolution | Nozzles | f Jetting | Substrate Speed |     PH Bitrate | DDR2 Read Bitrate |\")\n",
      "for i in range(size(resolutions)):\n",
      "  print(\"| {:16} | {:6} dpi | {:7} | {:5} kHz | {:11.4} m/s | {:6} Mbits/s | {:9} Mbits/s | \".format(ph_name[i], resolutions[i], nozzle_nbr[i], f_jetting[i], substrate_speed[i], printhead_bitrate[i]/1024, ddr2_bitrate_read[i]/1024))\n",
      "  "
     ],
     "language": "python",
     "metadata": {},
     "outputs": [
      {
       "output_type": "stream",
       "stream": "stdout",
       "text": [
        "| PH Name   | Resolution | Nozzles | f Jetting | Substrate Speed |     PH Bitrate | DDR2 Read Bitrate |\n",
        "| KM 1024i         |    360 dpi |    5312 |    30 kHz |       2.117 m/s |  622.5 Mbits/s |    1245.0 Mbits/s | \n",
        "| KY KJ4B          |    600 dpi |    5312 |    40 kHz |       1.693 m/s |  830.0 Mbits/s |    1660.0 Mbits/s | \n",
        "| KY KJ4B_1200_64k |   1200 dpi |    5312 |    64 kHz |       1.355 m/s | 1328.0 Mbits/s |    2656.0 Mbits/s | \n"
       ]
      }
     ],
     "prompt_number": 3
    }
   ],
   "metadata": {}
  }
 ]
}