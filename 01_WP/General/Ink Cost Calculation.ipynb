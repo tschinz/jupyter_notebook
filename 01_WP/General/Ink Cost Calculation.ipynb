{
 "cells": [
  {
   "cell_type": "markdown",
   "metadata": {},
   "source": [
    "## Ink Cost Calculation\n",
    "Inital 1 dpd calculation per printhead"
   ]
  },
  {
   "cell_type": "markdown",
   "metadata": {},
   "source": [
    "$size\\ in\\ [m] = pixel * pixel_{pitch} /100$\n",
    "\n",
    "$surface\\ size = sixe_x * size_y$\n",
    "\n",
    "$number\\ of\\ drops = \\frac{dots}{drop} * x_{pixel} * y_{pixel}$\n",
    "\n",
    "$dropsize = \\frac{ink_{amount} * surface_{size}}{number\\ of\\ drops * Factor * ink_{density}}$"
   ]
  },
  {
   "cell_type": "code",
   "execution_count": 1,
   "metadata": {
    "collapsed": false
   },
   "outputs": [],
   "source": [
    "def dropsize_calc(resolution=600, x_px=1000, y_px=1000, factor=1, dpd=2, ink_density=1000, ink_amount=8):\n",
    "  # resolution = [dpi]\n",
    "  # x_px, y_px = [pixel]\n",
    "  # factor = [-] (%/100)\n",
    "  # dpd = [-] dot per drop\n",
    "  # ink_density = [g/m3]\n",
    "  # ink_amount = [g/m2]\n",
    "  inch2cm        = 2.54 # cm/inch\n",
    "  \n",
    "  # Size calculation\n",
    "  pixel_pitch = inch2cm/resolution # [cm]\n",
    "  size_x = (x_px*pixel_pitch) / 100 # [m]\n",
    "  size_y = (y_px*pixel_pitch) / 100 # [m]\n",
    "  surface_size = size_x * size_y\n",
    "  \n",
    "  # Number of Size 1 drops\n",
    "  drop_number = dpd * x_px * y_px\n",
    "  \n",
    "  # Ink including Factor\n",
    "  dropsize_m3 = (ink_amount * surface_size) / (drop_number*factor*ink_density) # [m3]\n",
    "  dropsize_pL = dropsize_m3*1000*1000*1000*1000 # [pL]\n",
    "\n",
    "  # Output\n",
    "  print(\"X - Size     = {:.4} m\".format(size_x))\n",
    "  print(\"Y - Size     = {:.4} m\".format(size_y))\n",
    "  print(\"Surface Size = {:.4} m2\".format(surface_size))\n",
    "  print(\"Number of drops = {} droplets\".format(drop_number))\n",
    "  print(\"One Droplet Size = {:.4} m3 = {:.4} pL\".format(dropsize_m3, dropsize_pL))"
   ]
  },
  {
   "cell_type": "markdown",
   "metadata": {},
   "source": [
    "## Steinemann"
   ]
  },
  {
   "cell_type": "markdown",
   "metadata": {},
   "source": [
    "### 20170912"
   ]
  },
  {
   "cell_type": "code",
   "execution_count": 2,
   "metadata": {
    "collapsed": false
   },
   "outputs": [
    {
     "name": "stdout",
     "output_type": "stream",
     "text": [
      "X - Size     = 0.7 m\n",
      "Y - Size     = 1.035 m\n",
      "Surface Size = 0.7249 m2\n",
      "Number of drops = 808941120 droplets\n",
      "One Droplet Size = 7.168e-12 m3 = 7.168 pL\n"
     ]
    }
   ],
   "source": [
    "resolution  = 600   # [dpi]\n",
    "x_px        = 16536 # [px]\n",
    "y_px        = 24460 # [px]\n",
    "factor      = 1     # == 100%\n",
    "dpd         = 2     # dpd (dot per drop)\n",
    "ink_density = 1000  # [g/m3]\n",
    "ink_amount  = 8     # [g/m2]\n",
    "\n",
    "dropsize_calc(resolution, x_px, y_px, factor, dpd, ink_density, ink_amount)"
   ]
  }
 ],
 "metadata": {
  "kernelspec": {
   "display_name": "Python 3",
   "language": "python",
   "name": "python3"
  },
  "language_info": {
   "codemirror_mode": {
    "name": "ipython",
    "version": 3
   },
   "file_extension": ".py",
   "mimetype": "text/x-python",
   "name": "python",
   "nbconvert_exporter": "python",
   "pygments_lexer": "ipython3",
   "version": "3.6.5"
  }
 },
 "nbformat": 4,
 "nbformat_minor": 2
}
