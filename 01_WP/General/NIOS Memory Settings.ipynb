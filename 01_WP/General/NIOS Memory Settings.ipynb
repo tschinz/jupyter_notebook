{
 "cells": [
  {
   "cell_type": "markdown",
   "metadata": {},
   "source": [
    " # Nios Memory calculations\n",
    " Taken from Excel file of Florian"
   ]
  },
  {
   "cell_type": "markdown",
   "metadata": {},
   "source": [
    "## Settings CoE"
   ]
  },
  {
   "cell_type": "code",
   "execution_count": 14,
   "metadata": {
    "collapsed": false
   },
   "outputs": [],
   "source": [
    "import numpy as np\n",
    "import math\n",
    "\n",
    "def nios_memory_calculations(MemSection_width, MemSection_depth, MEMORY_SIZE, FrameSize, subpx):\n",
    "  # calculations\n",
    "  m_Data_frame_length = FrameSize\n",
    "\n",
    "  numberOfSections = math.floor(float(MEMORY_SIZE)/float(MemSection_width*MemSection_depth))\n",
    "  usableMemSize    = int(numberOfSections * (MemSection_width*MemSection_depth))\n",
    "\n",
    "\n",
    "  m_number_of_sections = MEMORY_SIZE/(MemSection_width*MemSection_depth)\n",
    "  m_N_Mem_Rows         = MemSection_width\n",
    "  m_Section_Size       = (MemSection_width*MemSection_depth)/m_Data_frame_length # in frame numbers\n",
    "  N_Frames_DDR_TH      = usableMemSize / m_Data_frame_length                     # number of frames for the full memory\n",
    "  Mem_Row_Size_Frame   = N_Frames_DDR_TH / m_N_Mem_Rows                          # number of frames for the depth direction\n",
    "  m_Mem_Row_Size       = Mem_Row_Size_Frame * m_Data_frame_length                # memory depth size in bytes\n",
    "  m_N_Mem_Rows_Inv     = (2**32)/m_N_Mem_Rows                                    # ?\n",
    "\n",
    "  print(\"-- Nios Memory Calculations ------\")\n",
    "  print(\"m_number_of_sections : {0:8} (0x{0:X})\".format(int(m_number_of_sections)))\n",
    "  print(\"m_N_Mem_Rows         : {0:8} (0x{0:X})\".format(int(m_N_Mem_Rows)))\n",
    "  print(\"m_Section_Size       : {0:8} (0x{0:X})\".format(int(m_Section_Size)))\n",
    "  print(\"N_Frames_DDR_TH      : {0:8} (0x{0:X})\".format(int(N_Frames_DDR_TH)))\n",
    "  print(\"Mem_Row_Size_Frame   : {0:8} (0x{0:X})\".format(int(Mem_Row_Size_Frame)))\n",
    "  print(\"m_Mem_Row_Size       : {0:8} (0x{0:X})\".format(int(m_Mem_Row_Size)))\n",
    "  print(\"m_N_Mem_Rows_Inv     : {0:8} (0x{0:X})\".format(int(m_N_Mem_Rows_Inv)))# memory\n",
    "  print(\"\")\n",
    "  \n",
    "def calmar_cb_testbench_memory_calculations(MemSection_width, MemSection_depth, MEMORY_SIZE, FrameSize, subpx):\n",
    "  # calculations\n",
    "  m_Data_frame_length = FrameSize\n",
    "\n",
    "  numberOfSections = math.floor(float(MEMORY_SIZE)/float(MemSection_width*MemSection_depth))\n",
    "  usableMemSize    = int(numberOfSections * (MemSection_width*MemSection_depth))\n",
    "\n",
    "\n",
    "  m_number_of_sections = MEMORY_SIZE/(MemSection_width*MemSection_depth)\n",
    "  m_N_Mem_Rows         = MemSection_width\n",
    "  m_Section_Size       = (MemSection_width*MemSection_depth)/m_Data_frame_length # in frame numbers\n",
    "  N_Frames_DDR_TH      = usableMemSize / m_Data_frame_length                     # number of frames for the full memory\n",
    "  Mem_Row_Size_Frame   = N_Frames_DDR_TH / m_N_Mem_Rows                          # number of frames for the depth direction\n",
    "  m_Mem_Row_Size       = Mem_Row_Size_Frame * m_Data_frame_length                # memory depth size in bytes\n",
    "  m_N_Mem_Rows_Inv     = (2**32)/m_N_Mem_Rows                                    # ?\n",
    "\n",
    "  print(\"-- Calmar Controller Board Testbench ------\")\n",
    "  print(\"Memory Size     : {0:8} kBytes         (0x{0:X})\".format(int(MEMORY_SIZE/1024)))\n",
    "  print(\"Memory Rows     : {0:8} pixels (lines) (0x{0:X})\".format(int(m_N_Mem_Rows)))\n",
    "  print(\"Memory Row Size : {0:8} bytes          (0x{0:X})\".format(int(m_Mem_Row_Size)))\n",
    "  print(\"\")"
   ]
  },
  {
   "cell_type": "markdown",
   "metadata": {},
   "source": [
    "## KonicaMinolta"
   ]
  },
  {
   "cell_type": "code",
   "execution_count": 15,
   "metadata": {
    "collapsed": false
   },
   "outputs": [
    {
     "name": "stdout",
     "output_type": "stream",
     "text": [
      "-- Nios Memory Calculations ------\n",
      "m_number_of_sections :       21 (0x15)\n",
      "m_N_Mem_Rows         :     6144 (0x1800)\n",
      "m_Section_Size       :     6144 (0x1800)\n",
      "N_Frames_DDR_TH      :   129024 (0x1F800)\n",
      "Mem_Row_Size_Frame   :       21 (0x15)\n",
      "m_Mem_Row_Size       :   172032 (0x2A000)\n",
      "m_N_Mem_Rows_Inv     :   699050 (0xAAAAA)\n",
      "\n",
      "-- Calmar Controller Board Testbench ------\n",
      "Memory Size     :  1048576 kBytes         (0x100000)\n",
      "Memory Rows     :     6144 pixels (lines) (0x1800)\n",
      "Memory Row Size :   172032 bytes          (0x2A000)\n",
      "\n"
     ]
    }
   ],
   "source": [
    "# memory\n",
    "MemSection_width = 1536*4\n",
    "MemSection_depth = 8192\n",
    "MEMORY_SIZE      = 1073741824  # Bytes\n",
    "# ethernet\n",
    "FrameSize = 8192\n",
    "# fix values\n",
    "subpx = 32  # scaling factor fpga\n",
    "\n",
    "nios_memory_calculations(MemSection_width, MemSection_depth, MEMORY_SIZE, FrameSize, subpx)\n",
    "calmar_cb_testbench_memory_calculations(MemSection_width, MemSection_depth, MEMORY_SIZE, FrameSize, subpx)"
   ]
  },
  {
   "cell_type": "markdown",
   "metadata": {},
   "source": [
    "## Ricoh Gen5\n",
    "Arcolor"
   ]
  },
  {
   "cell_type": "code",
   "execution_count": 16,
   "metadata": {
    "collapsed": false
   },
   "outputs": [
    {
     "name": "stdout",
     "output_type": "stream",
     "text": [
      "-- Nios Memory Calculations ------\n",
      "m_number_of_sections :        5 (0x5)\n",
      "m_N_Mem_Rows         :     8192 (0x2000)\n",
      "m_Section_Size       :    24576 (0x6000)\n",
      "N_Frames_DDR_TH      :   122880 (0x1E000)\n",
      "Mem_Row_Size_Frame   :       15 (0xF)\n",
      "m_Mem_Row_Size       :   122880 (0x1E000)\n",
      "m_N_Mem_Rows_Inv     :   524288 (0x80000)\n",
      "\n",
      "-- Calmar Controller Board Testbench ------\n",
      "Memory Size     :  1048576 kBytes         (0x100000)\n",
      "Memory Rows     :     8192 pixels (lines) (0x2000)\n",
      "Memory Row Size :   122880 bytes          (0x1E000)\n",
      "\n"
     ]
    }
   ],
   "source": [
    "# memory\n",
    "MemSection_width = 2048*4\n",
    "MemSection_depth = 24576\n",
    "MEMORY_SIZE      = 1073741824  # Bytes\n",
    "# ethernet\n",
    "FrameSize = 8192\n",
    "# fix values\n",
    "subpx = 32  # scaling factor fpga\n",
    "\n",
    "nios_memory_calculations(MemSection_width, MemSection_depth, MEMORY_SIZE, FrameSize, subpx)\n",
    "calmar_cb_testbench_memory_calculations(MemSection_width, MemSection_depth, MEMORY_SIZE, FrameSize, subpx)"
   ]
  }
 ],
 "metadata": {
  "kernelspec": {
   "display_name": "Python 3",
   "language": "python",
   "name": "python3"
  },
  "language_info": {
   "codemirror_mode": {
    "name": "ipython",
    "version": 3
   },
   "file_extension": ".py",
   "mimetype": "text/x-python",
   "name": "python",
   "nbconvert_exporter": "python",
   "pygments_lexer": "ipython3",
   "version": "3.6.5"
  }
 },
 "nbformat": 4,
 "nbformat_minor": 2
}
