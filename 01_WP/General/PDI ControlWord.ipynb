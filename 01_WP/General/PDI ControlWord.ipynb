{
 "cells": [
  {
   "cell_type": "markdown",
   "metadata": {},
   "source": [
    "# PDI Register definition"
   ]
  },
  {
   "cell_type": "markdown",
   "metadata": {},
   "source": [
    "## PDI register doc generation\n",
    "Can be used to generate the wiki page table\n",
    "[WpWiki-Doc](http://wpwiki/doku.php?id=internal:cpp:products:application:ethercat)"
   ]
  },
  {
   "cell_type": "code",
   "execution_count": 1,
   "metadata": {
    "collapsed": false
   },
   "outputs": [],
   "source": [
    "# bitdefs - elements for bit descriptions\n",
    "# bitsz - size of register in bits\n",
    "# \n",
    "def reg_wiki(reg_name, reg_dir, reg_description, bitdefs, bitsz):\n",
    " \n",
    "  reg_size = str(bitsz)+\"bit\"\n",
    "\n",
    "  # part table definitions \n",
    "  #table pre part of row\n",
    "  title_pre_row = \"^ ^ Register ^ Direction ^ Size ^ Description \"\n",
    "  reg_pre_row   = \"| {0} | {1} | {2} | {3} | {4} \".format('', reg_name, reg_dir, reg_size, reg_description)\n",
    "  bit_pre_row   = \"| ::: | ::: | ::: | ::: | ::: \"\n",
    "  #table post part of row\n",
    "  title_post_row = \"^ Bit ^ Name ^ Hex ^ Bit Description ^\"\n",
    "  bit_post_row   = \"| ''[{0:2}]'' |{2:19}  | 0x{1:08X} | {3:30} |\"  # define a sub-row for bit description with parameter 0-3\n",
    "\n",
    "  print(\"=== \"+reg_name+\" definition ===\")\n",
    "  print(title_pre_row + title_post_row)\n",
    "  for i in range(nbr):\n",
    "    desc = [0, '', '']  # empty element\n",
    "    for k in bitdefs:\n",
    "      if k[0] == i:\n",
    "        desc = k\n",
    "    if not desc[1] == '':\n",
    "      if i == 0:\n",
    "        print(reg_pre_row + bit_post_row.format(i,1<<i,desc[1],desc[2]))  # for first line add register description\n",
    "      else:\n",
    "        print(bit_pre_row + bit_post_row.format(i,1<<i,desc[1],desc[2]))  # for other liens add column concat\n",
    "\n",
    "\n",
    "  \"\"\"# use full row definitions for printing\n",
    "  tabtitle = \"^ ^ Register ^ Direction ^ Size ^ Description ^ Bit ^ Name ^ Hex ^ Bit Description ^\"\n",
    "  reg_row = \"| {0} | {1} | {2} | {3} | {4} |             |        |         |        |\".format('', reg_name, reg_dir, reg_size, reg_description)\n",
    "  bit_row = \"| ::: | ::: | ::: | ::: | ::: | ''[{0:2}]'' |{2:19}  | {1:08X} | {3:30} |\"  # define a row for bit description with parameter 0-3\n",
    "\n",
    "  print(\"==== ControlWord definition ====\")\n",
    "  print(tabtitle)\n",
    "  print(reg_row)\n",
    "  for i in range(nbr):\n",
    "    desc = [0, '', '']\n",
    "    for k in register:\n",
    "      if k[0] == i:\n",
    "        desc = k\n",
    "    print(bit_row.format(i,1<<i,desc[1],desc[2]))\"\"\"\n",
    "\n"
   ]
  },
  {
   "cell_type": "code",
   "execution_count": 2,
   "metadata": {
    "collapsed": true
   },
   "outputs": [],
   "source": [
    "# print the register information as text (full)\n",
    "def reg_text(register, nbr):\n",
    "  print(\"^ bit  ^                           Binary ^ Hex      ^   Decimal  ^    bit    ^ Register name   ^ Comment ^\")\n",
    "  print(\"|------|----------------------------------|----------|------------|-----------|-----------------|-----------------|\")\n",
    "  for i in range(nbr):\n",
    "    desc = [0, '', '']\n",
    "    for k in register:\n",
    "      if k[0] == i:\n",
    "        desc = k\n",
    "    print(\"|{0:4} | {1:032b} | {1:08X} | {1:10d} | ''[{0:3}]'' | {2:22} | {3:30} |\".format(i,1<<i,desc[1],desc[2]))"
   ]
  },
  {
   "cell_type": "markdown",
   "metadata": {},
   "source": [
    "## Control Word Register"
   ]
  },
  {
   "cell_type": "code",
   "execution_count": 3,
   "metadata": {
    "collapsed": false
   },
   "outputs": [
    {
     "name": "stdout",
     "output_type": "stream",
     "text": [
      "=== ControlWord definition ===\n",
      "^ ^ Register ^ Direction ^ Size ^ Description ^ Bit ^ Name ^ Hex ^ Bit Description ^\n",
      "|  | ControlWord | Input | 32bit | PDI ControlWord | ''[ 0]'' |CMD_PREPARE          | 0x00000001 | -                              |\n",
      "| ::: | ::: | ::: | ::: | ::: | ''[ 1]'' |CMD_START            | 0x00000002 | -                              |\n",
      "| ::: | ::: | ::: | ::: | ::: | ''[ 2]'' |CMD_STOP             | 0x00000004 | -                              |\n",
      "| ::: | ::: | ::: | ::: | ::: | ''[ 3]'' |CMD_ABORT            | 0x00000008 | -                              |\n",
      "| ::: | ::: | ::: | ::: | ::: | ''[ 4]'' |CMD_SYNC             | 0x00000010 | -                              |\n",
      "| ::: | ::: | ::: | ::: | ::: | ''[ 5]'' |CMD_FINISH           | 0x00000020 | -                              |\n",
      "| ::: | ::: | ::: | ::: | ::: | ''[ 6]'' |CMD_PAUSE            | 0x00000040 | -                              |\n",
      "| ::: | ::: | ::: | ::: | ::: | ''[ 7]'' |CMD_TRANSFER_ABORT   | 0x00000080 | -                              |\n",
      "| ::: | ::: | ::: | ::: | ::: | ''[ 8]'' |CMD_RESTART          | 0x00000100 | -                              |\n",
      "| ::: | ::: | ::: | ::: | ::: | ''[16]'' |CMD_INLET_VALVE      | 0x00010000 | -                              |\n",
      "| ::: | ::: | ::: | ::: | ::: | ''[17]'' |CMD_OUTLET_VALVE     | 0x00020000 | -                              |\n",
      "| ::: | ::: | ::: | ::: | ::: | ''[18]'' |CMD_FIRE_VOLTAGE     | 0x00040000 | -                              |\n",
      "| ::: | ::: | ::: | ::: | ::: | ''[19]'' |CMD_PH_HEATER        | 0x00080000 | -                              |\n",
      "| ::: | ::: | ::: | ::: | ::: | ''[24]'' |CMD_MANUAL_FIRE      | 0x01000000 | -                              |\n",
      "| ::: | ::: | ::: | ::: | ::: | ''[25]'' |CMD_MANUAL_DATA      | 0x02000000 | -                              |\n",
      "| ::: | ::: | ::: | ::: | ::: | ''[28]'' |CMD_PH_SELECT1       | 0x10000000 | -                              |\n",
      "| ::: | ::: | ::: | ::: | ::: | ''[29]'' |CMD_PH_SELECT2       | 0x20000000 | -                              |\n",
      "| ::: | ::: | ::: | ::: | ::: | ''[30]'' |CMD_PH_SELECT3       | 0x40000000 | -                              |\n",
      "| ::: | ::: | ::: | ::: | ::: | ''[31]'' |CMD_PH_SELECT4       | 0x80000000 | -                              |\n"
     ]
    }
   ],
   "source": [
    "nbr = 32\n",
    "\n",
    "register =  ([  0 , 'CMD_PREPARE'       , '-'],)\n",
    "register += ([  1 , 'CMD_START'         , '-'],)\n",
    "register += ([  2 , 'CMD_STOP'          , '-'],)\n",
    "register += ([  3 , 'CMD_ABORT'         , '-'],)\n",
    "register += ([  4 , 'CMD_SYNC'          , '-'],)\n",
    "register += ([  5 , 'CMD_FINISH'        , '-'],)\n",
    "register += ([  6 , 'CMD_PAUSE'         , '-'],)\n",
    "register += ([  7 , 'CMD_TRANSFER_ABORT', '-'],)\n",
    "register += ([  8 , 'CMD_RESTART'       , '-'],)\n",
    "register += ([ 16 , 'CMD_INLET_VALVE'   , '-'],)\n",
    "register += ([ 17 , 'CMD_OUTLET_VALVE'  , '-'],)\n",
    "register += ([ 18 , 'CMD_FIRE_VOLTAGE'  , '-'],)\n",
    "register += ([ 19 , 'CMD_PH_HEATER'     , '-'],)\n",
    "register += ([ 24 , 'CMD_MANUAL_FIRE'   , '-'],)\n",
    "register += ([ 25 , 'CMD_MANUAL_DATA'   , '-'],)\n",
    "register += ([ 28 , 'CMD_PH_SELECT1'    , '-'],)\n",
    "register += ([ 29 , 'CMD_PH_SELECT2'    , '-'],)\n",
    "register += ([ 30 , 'CMD_PH_SELECT3'    , '-'],)\n",
    "register += ([ 31 , 'CMD_PH_SELECT4'    , '-'],)\n",
    "\n",
    "\n",
    "reg_wiki(\"ControlWord\", \"Input\", \"PDI ControlWord\", register, nbr)\n",
    "\n",
    "#print(\"\\n\")\n",
    "#print(\"... and in text format\")\n",
    "#reg_text(\"ControlWord\", \"Input\", \"PDI ControlWord\", register, nbr)"
   ]
  },
  {
   "cell_type": "markdown",
   "metadata": {},
   "source": [
    "## Status Word Register"
   ]
  },
  {
   "cell_type": "code",
   "execution_count": 5,
   "metadata": {
    "collapsed": false
   },
   "outputs": [
    {
     "name": "stdout",
     "output_type": "stream",
     "text": [
      "=== StatusWord definition ===\n",
      "^ ^ Register ^ Direction ^ Size ^ Description ^ Bit ^ Name ^ Hex ^ Bit Description ^\n",
      "|  | StatusWord | Output | 32bit | PDI StatusWord | ''[ 0]'' |STATUS_ERROR         | 0x00000001 | -                              |\n",
      "| ::: | ::: | ::: | ::: | ::: | ''[ 1]'' |STATUS_1             | 0x00000002 | -                              |\n",
      "| ::: | ::: | ::: | ::: | ::: | ''[ 2]'' |STATUS_2             | 0x00000004 | -                              |\n",
      "| ::: | ::: | ::: | ::: | ::: | ''[ 3]'' |STATUS_3             | 0x00000008 | -                              |\n",
      "| ::: | ::: | ::: | ::: | ::: | ''[ 4]'' |STATUS_IDLE          | 0x00000010 | PrintControl StateMachine - IDLE |\n",
      "| ::: | ::: | ::: | ::: | ::: | ''[ 5]'' |STATUS_PREPARING     | 0x00000020 | PrintControl StateMachine - PREPARING |\n",
      "| ::: | ::: | ::: | ::: | ::: | ''[ 6]'' |STATUS_READY         | 0x00000040 | PrintControl StateMachine - READY |\n",
      "| ::: | ::: | ::: | ::: | ::: | ''[ 7]'' |STATUS_PRINTING      | 0x00000080 | PrintControl StateMachine - PRINTING |\n",
      "| ::: | ::: | ::: | ::: | ::: | ''[ 8]'' |STATUS_DONE          | 0x00000100 | PrintControl StateMachine - DONE |\n",
      "| ::: | ::: | ::: | ::: | ::: | ''[12]'' |STATUS_MOVING        | 0x00001000 | interpolator/pulsegenerator    |\n",
      "| ::: | ::: | ::: | ::: | ::: | ''[13]'' |STATUS_SYNC_WARNING  | 0x00002000 | interpolator/pulsegenerator    |\n",
      "| ::: | ::: | ::: | ::: | ::: | ''[14]'' |STATUS_BUSY          | 0x00004000 | interpolator/pulsegenerator busy flag, one ph is printing (generating pulses) \\ [[http://wpwiki/doku.php?id=internal:vhdl:components:interpolator:vhdl&#pulsegeneratorvhd]] |\n",
      "| ::: | ::: | ::: | ::: | ::: | ''[15]'' |STATUS_ACTIVE        | 0x00008000 | interpolator/pulsegenerator active flag, on ph is started (received start signal) \\ [[http://wpwiki/doku.php?id=internal:vhdl:components:interpolator:vhdl&#pulsegeneratorvhd]] |\n",
      "| ::: | ::: | ::: | ::: | ::: | ''[16]'' |STATUS_PH_PRESENT    | 0x00010000 | Printhead is present for all connected HIB |\n",
      "| ::: | ::: | ::: | ::: | ::: | ''[17]'' |STATUS_PH_WARNING    | 0x00020000 | Warning or Error for one PH is present |\n",
      "| ::: | ::: | ::: | ::: | ::: | ''[18]'' |STATUS_PH_WAVEFORM   | 0x00040000 | [Ricoh only] printhead waveform load request |\n",
      "| ::: | ::: | ::: | ::: | ::: | ''[19]'' |STATUS_PH_TEMPERATURE  | 0x00080000 | Temperature of one PH is not ok |\n",
      "| ::: | ::: | ::: | ::: | ::: | ''[20]'' |STATUS_IMAGEEND      | 0x00100000 | jetmapping - image print end event |\n",
      "| ::: | ::: | ::: | ::: | ::: | ''[21]'' |STATUS_LINK_LOSS     | 0x00200000 | HIB link loss indication on one enabled ph [HIB products only] |\n",
      "| ::: | ::: | ::: | ::: | ::: | ''[24]'' |STATUS_JOBQUEUEEMPTY  | 0x01000000 | -                              |\n",
      "| ::: | ::: | ::: | ::: | ::: | ''[25]'' |STATUS_JOBTRANSFER   | 0x02000000 | -                              |\n",
      "| ::: | ::: | ::: | ::: | ::: | ''[28]'' |STATUS_STEPPERMOTOR_BUSY  | 0x10000000 | [Kyocera only]                 |\n"
     ]
    }
   ],
   "source": [
    "nbr = 32\n",
    "\n",
    "# =====================================================================\n",
    "register =  ([  0, 'STATUS_ERROR'          , '-'],)\n",
    "register += ([  1, 'STATUS_1'              , '-'],)\n",
    "register += ([  2, 'STATUS_2'              , '-'],)\n",
    "register += ([  3, 'STATUS_3'              , '-'],)\n",
    "register += ([  4, 'STATUS_IDLE'           , 'PrintControl StateMachine - IDLE'],)\n",
    "register += ([  5, 'STATUS_PREPARING'      , 'PrintControl StateMachine - PREPARING'],)\n",
    "register += ([  6, 'STATUS_READY'          , 'PrintControl StateMachine - READY'],)\n",
    "register += ([  7, 'STATUS_PRINTING'       , 'PrintControl StateMachine - PRINTING'],)\n",
    "register += ([  8, 'STATUS_DONE'           , 'PrintControl StateMachine - DONE'],)\n",
    "register += ([ 12, 'STATUS_MOVING'         , 'interpolator/pulsegenerator'],)\n",
    "register += ([ 13, 'STATUS_SYNC_WARNING'   , 'interpolator/pulsegenerator'],)\n",
    "register += ([ 14, 'STATUS_BUSY'           , 'interpolator/pulsegenerator busy flag, one ph is printing (generating pulses) \\\\ [[http://wpwiki/doku.php?id=internal:vhdl:components:interpolator:vhdl&#pulsegeneratorvhd]]'],)\n",
    "register += ([ 15, 'STATUS_ACTIVE'         , 'interpolator/pulsegenerator active flag, on ph is started (received start signal) \\\\ [[http://wpwiki/doku.php?id=internal:vhdl:components:interpolator:vhdl&#pulsegeneratorvhd]]'],)\n",
    "register += ([ 16, 'STATUS_PH_PRESENT'     , 'Printhead is present for all connected HIB'],)\n",
    "register += ([ 17, 'STATUS_PH_WARNING'     , 'Warning or Error for one PH is present'],)\n",
    "register += ([ 18, 'STATUS_PH_WAVEFORM'    , '[Ricoh only] printhead waveform load request'],)\n",
    "register += ([ 19, 'STATUS_PH_TEMPERATURE' , 'Temperature of one PH is not ok'],)\n",
    "register += ([ 20, 'STATUS_IMAGEEND'       , 'jetmapping - image print end event'],)\n",
    "register += ([ 21, 'STATUS_LINK_LOSS'      , 'HIB link loss indication on one enabled ph [HIB products only]'],)\n",
    "register += ([ 24, 'STATUS_JOBQUEUEEMPTY'  , '-'],)\n",
    "register += ([ 25, 'STATUS_JOBTRANSFER'    , '-'],)\n",
    "register += ([ 28, 'STATUS_STEPPERMOTOR_BUSY'  , '[Kyocera only]'],)\n",
    "\n",
    "reg_wiki(\"StatusWord\", \"Output\", \"PDI StatusWord\", register, nbr)\n",
    "\n",
    "#print(\"\\n\")\n",
    "#print(\"... and in text format\")\n",
    "#reg_text(\"ControlWord\", \"Input\", \"PDI ControlWord\", register, nbr)\n"
   ]
  }
 ],
 "metadata": {
  "kernelspec": {
   "display_name": "Python 3",
   "language": "python",
   "name": "python3"
  },
  "language_info": {
   "codemirror_mode": {
    "name": "ipython",
    "version": 3
   },
   "file_extension": ".py",
   "mimetype": "text/x-python",
   "name": "python",
   "nbconvert_exporter": "python",
   "pygments_lexer": "ipython3",
   "version": "3.6.5"
  }
 },
 "nbformat": 4,
 "nbformat_minor": 2
}
