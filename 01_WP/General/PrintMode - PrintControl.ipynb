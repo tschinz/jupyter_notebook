{
 "cells": [
  {
   "cell_type": "markdown",
   "metadata": {},
   "source": [
    "## PrintMode definition for PrintControl\n",
    "http://jupyter.polytype.com:8888/notebooks/General/CoE_Register_Extract.ipynb#CoE-0x8000---Print-Mode-Setup-Register-(PrintControl)"
   ]
  },
  {
   "cell_type": "code",
   "execution_count": 1,
   "metadata": {
    "collapsed": false,
    "scrolled": true
   },
   "outputs": [
    {
     "name": "stdout",
     "output_type": "stream",
     "text": [
      "| bit ^                           Binary ^ Hex      ^   Decimal  ^    ^ Register name   ^ Comment ^\n",
      "|-----|----------------------------------|----------|------------|----|-----------------|-----------------------------------|\n",
      "|   0 | 00000000000000000000000000000001 | 00000001 |          1 |  0 |                 |                                   |\n",
      "|   1 | 00000000000000000000000000000010 | 00000002 |          2 |  1 |                 |                                   |\n",
      "|   2 | 00000000000000000000000000000100 | 00000004 |          4 |  2 |                 |                                   |\n",
      "|   3 | 00000000000000000000000000001000 | 00000008 |          8 |  3 |                 |                                   |\n",
      "|   4 | 00000000000000000000000000010000 | 00000010 |         16 |  4 | DROPMULT        | Dropmultiplication                |\n",
      "|   5 | 00000000000000000000000000100000 | 00000020 |         32 |  5 |                 |                                   |\n",
      "|   6 | 00000000000000000000000001000000 | 00000040 |         64 |  6 |                 |                                   |\n",
      "|   7 | 00000000000000000000000010000000 | 00000080 |        128 |  7 |                 |                                   |\n",
      "|   8 | 00000000000000000000000100000000 | 00000100 |        256 |  8 | START_ABS       | Start absolut                     |\n",
      "|   9 | 00000000000000000000001000000000 | 00000200 |        512 |  9 | START_REL       | Start relative                    |\n",
      "|  10 | 00000000000000000000010000000000 | 00000400 |       1024 | 10 | IMG_OFS         | Image offset                      |\n",
      "|  11 | 00000000000000000000100000000000 | 00000800 |       2048 | 11 | IMG_SHIFT       | Image shift                       |\n",
      "|  12 | 00000000000000000001000000000000 | 00001000 |       4096 | 12 | IMG_ROT         | Image Rotation                    |\n",
      "|  13 | 00000000000000000010000000000000 | 00002000 |       8192 | 13 | IMG_MAP         | Image Mapping                     |\n",
      "|  14 | 00000000000000000100000000000000 | 00004000 |      16384 | 14 |                 |                                   |\n",
      "|  15 | 00000000000000001000000000000000 | 00008000 |      32768 | 15 |                 |                                   |\n",
      "|  16 | 00000000000000010000000000000000 | 00010000 |      65536 | 16 | FLIP_X          | Activate Flip-X                   |\n",
      "|  17 | 00000000000000100000000000000000 | 00020000 |     131072 | 17 | FLIP_Y          | Activate Flip-Y                   |\n",
      "|  18 | 00000000000001000000000000000000 | 00040000 |     262144 | 18 | MASKING         | Activate masking                  |\n",
      "|  19 | 00000000000010000000000000000000 | 00080000 |     524288 | 19 |                 |                                   |\n",
      "|  20 | 00000000000100000000000000000000 | 00100000 |    1048576 | 20 |                 |                                   |\n",
      "|  21 | 00000000001000000000000000000000 | 00200000 |    2097152 | 21 |                 |                                   |\n",
      "|  22 | 00000000010000000000000000000000 | 00400000 |    4194304 | 22 |                 |                                   |\n",
      "|  23 | 00000000100000000000000000000000 | 00800000 |    8388608 | 23 |                 |                                   |\n",
      "|  24 | 00000001000000000000000000000000 | 01000000 |   16777216 | 24 | EMULENC         | Emulate encoder                   |\n",
      "|  25 | 00000010000000000000000000000000 | 02000000 |   33554432 | 25 | HWENC           | Use hardware encoder              |\n",
      "|  26 | 00000100000000000000000000000000 | 04000000 |   67108864 | 26 | REV_HWENC       | Reverse hardware encoder          |\n",
      "|  27 | 00001000000000000000000000000000 | 08000000 |  134217728 | 27 | SP_HWENC        | Encoder in single phase mode      |\n",
      "|  28 | 00010000000000000000000000000000 | 10000000 |  268435456 | 28 | RS422_OPT       | Encoder RS422 output option [1:0] |\n",
      "|  29 | 00100000000000000000000000000000 | 20000000 |  536870912 | 29 | :::             | :::                               |\n",
      "|  30 | 01000000000000000000000000000000 | 40000000 | 1073741824 | 30 |                 |                                   |\n",
      "|  31 | 10000000000000000000000000000000 | 80000000 | 2147483648 | 31 | LAST            | -                                 |\n"
     ]
    }
   ],
   "source": [
    "nbr = 32\n",
    "\n",
    "PrintMode =  ([ 4,  'DROPMULT', 'Dropmultiplication'],)\n",
    "PrintMode += ([ 8,  'START_ABS', 'Start absolut'],)\n",
    "PrintMode += ([ 9,  'START_REL', 'Start relative'],)\n",
    "PrintMode += ([10,  'IMG_OFS',   'Image offset'],)\n",
    "PrintMode += ([11,  'IMG_SHIFT', 'Image shift'],)\n",
    "PrintMode += ([12,  'IMG_ROT', 'Image Rotation'],)\n",
    "PrintMode += ([13,  'IMG_MAP', 'Image Mapping'],)\n",
    "PrintMode += ([16,  'FLIP_X', 'Activate Flip-X'],)\n",
    "PrintMode += ([17,  'FLIP_Y', 'Activate Flip-Y'],)\n",
    "PrintMode += ([18,  'MASKING', 'Activate masking'],)\n",
    "PrintMode += ([24,  'EMULENC', 'Emulate encoder'],)\n",
    "PrintMode += ([25,  'HWENC', 'Use hardware encoder'],)\n",
    "PrintMode += ([26,  'REV_HWENC', 'Reverse hardware encoder'],)\n",
    "PrintMode += ([27,  'SP_HWENC', 'Encoder in single phase mode'],)\n",
    "PrintMode += ([28,  'RS422_OPT', 'Encoder RS422 output option [1:0]'],)\n",
    "PrintMode += ([29,  ':::', ':::'],)\n",
    "PrintMode += ([31, 'LAST',        '-'],)\n",
    "\n",
    "\n",
    "print(\"| bit ^                           Binary ^ Hex      ^   Decimal  ^    ^ Register name   ^ Comment ^\")\n",
    "print(\"|-----|----------------------------------|----------|------------|----|-----------------|-----------------------------------|\")\n",
    "for i in range(nbr):\n",
    "  desc = [0, '', '']\n",
    "  for k in PrintMode:\n",
    "    if k[0] == i:\n",
    "      desc = k\n",
    "  print(\"|{0:4} | {1:032b} | {1:08X} | {1:10d} | {0:2} | {2:15} | {3:33} |\".format(i,1<<i,desc[1],desc[2]))"
   ]
  }
 ],
 "metadata": {
  "kernelspec": {
   "display_name": "Python 3",
   "language": "python",
   "name": "python3"
  },
  "language_info": {
   "codemirror_mode": {
    "name": "ipython",
    "version": 3
   },
   "file_extension": ".py",
   "mimetype": "text/x-python",
   "name": "python",
   "nbconvert_exporter": "python",
   "pygments_lexer": "ipython3",
   "version": "3.6.5"
  }
 },
 "nbformat": 4,
 "nbformat_minor": 2
}
