{
 "metadata": {
  "name": "",
  "signature": "sha256:36973d6e448c0701db040bc740b8010b54555f9c549174207432d734c75c39cc"
 },
 "nbformat": 3,
 "nbformat_minor": 0,
 "worksheets": [
  {
   "cells": [
    {
     "cell_type": "markdown",
     "metadata": {},
     "source": [
      "# Product ID Calculations"
     ]
    },
    {
     "cell_type": "markdown",
     "metadata": {},
     "source": [
      "Needed for ProductID Register of Ethercat Core\n",
      "\n",
      "* Product ID 3 = 16 Bit MSB of Version\n",
      "* Product ID 2 = 16 Bit LSB of Version\n",
      "* Product ID 1 = Product Type\n",
      "* Product ID 0 = Image Type"
     ]
    },
    {
     "cell_type": "code",
     "collapsed": false,
     "input": [
      "def gen_product_id(version=\"1.2.3\", product_type=\"Ricoh\", image_type=\"User\"):\n",
      "  version_norm = version.lower()\n",
      "  product_type = product_type.lower()\n",
      "  image_type   = image_type.lower()\n",
      "  \n",
      "  # Calculate Version\n",
      "  version_split = version_norm.split(\".\")\n",
      "  version_int = int(version_split[0])*1000000 + int(version_split[1])*1000 + int(version_split[2])*1\n",
      "  version_hex = hex(version_int)[2:]\n",
      "  \n",
      "  version_msb = version_hex[:-4]\n",
      "  version_lsb = version_hex[-4:]\n",
      "\n",
      "  # Product ID 3\n",
      "  print(\"Product Version = {:09}  : Product ID 3: 0x0000000{}\".format(version_int,(version_msb)))\n",
      "    \n",
      "  # Product ID 2\n",
      "  print(\"                             : Product ID 2: 0x0000{}\".format((version_lsb)))\n",
      "  \n",
      "  # Product ID 1\n",
      "  if product_type == \"ricoh\":\n",
      "    print(\"Product Type = Ricoh         : Product ID 1: 0x00005249\")\n",
      "  elif product_type == \"konicaminolta\":\n",
      "    print(\"Product Type = KonicaMinolta : Product ID 1: 0x00004B4D\")\n",
      "  elif product_type == \"kyocera\":\n",
      "    print(\"Product Type = Kyocera       : Product ID 1: 0x00004B59\")\n",
      "  else:\n",
      "    print(\"Product Type = Unknown       : Product ID 1: 0x0000????\")\n",
      "  # Product ID 0\n",
      "  if image_type == \"user\":\n",
      "    print(\"Image Type   = User          : Product ID 0: 0x00005355\")\n",
      "  elif image_type == \"factory\":\n",
      "    print(\"Image Type   = Factory       : Product ID 0: 0x00004146\")\n",
      "  else:\n",
      "    print(\"Image Type   = Unknown       : Product ID 0: 0x0000????\")\n",
      "    "
     ],
     "language": "python",
     "metadata": {},
     "outputs": [],
     "prompt_number": 2
    },
    {
     "cell_type": "markdown",
     "metadata": {},
     "source": [
      "## Product Info Creation"
     ]
    },
    {
     "cell_type": "markdown",
     "metadata": {},
     "source": [
      "### Ricoh GEN5"
     ]
    },
    {
     "cell_type": "code",
     "collapsed": false,
     "input": [
      "gen_product_id(\"1.1.0\", \"Ricoh\", \"User\")"
     ],
     "language": "python",
     "metadata": {},
     "outputs": [
      {
       "output_type": "stream",
       "stream": "stdout",
       "text": [
        "Product Version = 001001000  : Product ID 3: 0x0000000f\n",
        "                             : Product ID 2: 0x00004628\n",
        "Product Type = Ricoh         : Product ID 1: 0x00005249\n",
        "Image Type   = User          : Product ID 0: 0x00005355\n"
       ]
      }
     ],
     "prompt_number": 3
    },
    {
     "cell_type": "markdown",
     "metadata": {},
     "source": [
      "### Kyocera KJ4B 30kHz"
     ]
    },
    {
     "cell_type": "code",
     "collapsed": false,
     "input": [
      "gen_product_id(\"1.1.0\", \"Kyocera\", \"User\")"
     ],
     "language": "python",
     "metadata": {},
     "outputs": [
      {
       "output_type": "stream",
       "stream": "stdout",
       "text": [
        "Product Version = 001001000  : Product ID 3: 0x0000000f\n",
        "                             : Product ID 2: 0x00004628\n",
        "Product Type = Kyocera       : Product ID 1: 0x00004B59\n",
        "Image Type   = User          : Product ID 0: 0x00005355\n"
       ]
      }
     ],
     "prompt_number": 4
    },
    {
     "cell_type": "markdown",
     "metadata": {},
     "source": [
      "### KonicaMinolta 1024i"
     ]
    },
    {
     "cell_type": "code",
     "collapsed": false,
     "input": [
      "gen_product_id(\"1.2.1\", \"KonicaMinolta\", \"User\")"
     ],
     "language": "python",
     "metadata": {},
     "outputs": [
      {
       "output_type": "stream",
       "stream": "stdout",
       "text": [
        "Product Version = 001002001  : Product ID 3: 0x0000000f\n",
        "                             : Product ID 2: 0x00004a11\n",
        "Product Type = KonicaMinolta : Product ID 1: 0x00004B4D\n",
        "Image Type   = User          : Product ID 0: 0x00005355\n"
       ]
      }
     ],
     "prompt_number": 8
    },
    {
     "cell_type": "markdown",
     "metadata": {},
     "source": [
      "## Get Product Info"
     ]
    },
    {
     "cell_type": "code",
     "collapsed": false,
     "input": [
      "import binascii\n",
      "def get_product_id(version=\"000F4628\", product_type=\"4B4D\", image_type=\"5355\"):\n",
      "  version_norm = version.lower()\n",
      "  product_type_norm = product_type.lower()\n",
      "  image_type_norm = image_type.lower()\n",
      "  \n",
      "  # Calculate Version\n",
      "  version_int = int(version_norm,16)\n",
      "  version_int_string = str(version_int)\n",
      "    \n",
      "  # Calculate Product\n",
      "  product_type_ascii = product_type_norm.decode(\"hex\").lower()\n",
      "  \n",
      "  # Calculate Image\n",
      "  image_type_ascii = image_type_norm.decode(\"hex\").lower()\n",
      "  \n",
      "  # Print Version\n",
      "  print(\"Version: {}.{}.{}\".format(version_int_string[-9:-6], version_int_string[-6:-3], version_int_string[-3:]))\n",
      "  \n",
      "  # Print Product\n",
      "  if product_type_ascii == \"ri\":\n",
      "    print(\"Product: Ricoh\")\n",
      "  elif product_type_ascii == \"km\":\n",
      "    print(\"Product: KonicaMinolta\")\n",
      "  elif product_type_ascii == \"ky\":\n",
      "    print(\"Product: Kyocera\")\n",
      "  else:\n",
      "    print(\"Product: Unknown\")\n",
      "\n",
      "  # Print Image\n",
      "  if image_type_ascii == \"su\":\n",
      "    print(\"Image: User\")\n",
      "  elif image_type_ascii == \"af\":\n",
      "    print(\"Image: Factory\")\n",
      "  else:\n",
      "    print(\"Image: Unknown\")"
     ],
     "language": "python",
     "metadata": {},
     "outputs": [],
     "prompt_number": 6
    },
    {
     "cell_type": "code",
     "collapsed": false,
     "input": [
      "get_product_id(\"000f4629\", \"4d49\", \"5355\")"
     ],
     "language": "python",
     "metadata": {},
     "outputs": [
      {
       "output_type": "stream",
       "stream": "stdout",
       "text": [
        "Version: 1.001.001\n",
        "Product: Unknown\n",
        "Image: User\n"
       ]
      }
     ],
     "prompt_number": 7
    }
   ],
   "metadata": {}
  }
 ]
}