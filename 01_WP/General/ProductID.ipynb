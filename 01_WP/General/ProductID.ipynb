{
 "metadata": {
  "name": "",
  "signature": "sha256:64158399ed8084f3feb89d28fce27ed3687a2a0fa3d72a6d66ba740d235b4adc"
 },
 "nbformat": 3,
 "nbformat_minor": 0,
 "worksheets": [
  {
   "cells": [
    {
     "cell_type": "markdown",
     "metadata": {},
     "source": [
      "# Product ID Calculations"
     ]
    },
    {
     "cell_type": "markdown",
     "metadata": {},
     "source": [
      "Needed for ProductID Register of Ethercat Core\n",
      "\n",
      "* Product ID 3 = 16 Bit MSB of Version\n",
      "* Product ID 2 = 16 Bit LSB of Version\n",
      "* Product ID 1 = Product Type\n",
      "* Product ID 0 = Image Type"
     ]
    },
    {
     "cell_type": "code",
     "collapsed": false,
     "input": [
      "def gen_product_id(version=\"1.2.3\", product_type=\"Ricoh\", image_type=\"User\"):\n",
      "  version_norm = version.lower()\n",
      "  product_type = product_type.lower()\n",
      "  image_type   = image_type.lower()\n",
      "  \n",
      "  # Calculate Version\n",
      "  version_split = version_norm.split(\".\")\n",
      "  version_int = int(version_split[0])*1000000 + int(version_split[1])*1000 + int(version_split[2])*1\n",
      "  version_hex = hex(version_int)[2:]\n",
      "  \n",
      "  version_msb = version_hex[:-4]\n",
      "  version_lsb = version_hex[-4:]\n",
      "  \n",
      "  print(\"Ethercat Product ID Registers\")\n",
      "  print(\"-----------------------------\")\n",
      "  # Product ID 3\n",
      "  print(\"Product Version = {:09}  : Product ID 3: 0x0000000{:}\".format(version_int,version_msb))\n",
      "    \n",
      "  # Product ID 2\n",
      "  print(\"                             : Product ID 2: 0x0000{}\".format((version_lsb)))\n",
      "  \n",
      "  # Product ID 1\n",
      "  if product_type == \"ricoh\":\n",
      "    print(\"Product Type = Ricoh         : Product ID 1: 0x00005249\")\n",
      "  elif product_type == \"konicaminolta\":\n",
      "    print(\"Product Type = KonicaMinolta : Product ID 1: 0x00004B4D\")\n",
      "  elif product_type == \"kyocera\":\n",
      "    print(\"Product Type = Kyocera       : Product ID 1: 0x00004B59\")\n",
      "  elif product_type == \"generic\":\n",
      "    print(\"Product Type = Generic       : Product ID 1: 0x00004745\")\n",
      "  else:\n",
      "    print(\"Product Type = Unknown       : Product ID 1: 0x0000????\")\n",
      "  # Product ID 0\n",
      "  if image_type == \"user\":\n",
      "    print(\"Image Type   = User          : Product ID 0: 0x00005355\")\n",
      "  elif image_type == \"factory\":\n",
      "    print(\"Image Type   = Factory       : Product ID 0: 0x00004146\")\n",
      "  else:\n",
      "    print(\"Image Type   = Unknown       : Product ID 0: 0x0000????\")\n",
      "  print(\"\")\n",
      "def gen_system_manager(version=\"1.2.3.0\", product_type=\"Kyocera\", printhead_type=\"KJ4B_QA06NTB_STDV_4B\", image_type=\"User\"):\n",
      "  version_norm   = version.lower()\n",
      "  product_type   = product_type.lower()\n",
      "  image_type     = image_type.lower()\n",
      "  printhead_type = printhead_type.lower()\n",
      "  \n",
      "  # Calculate Version\n",
      "  version_split = version_norm.split(\".\")\n",
      "  version_int = int(version_split[0])*2**24 + int(version_split[1])*2**16 + int(version_split[2])*2**8 + int(version_split[3])*2**0\n",
      "  \n",
      "  print(\"System Management Registers\")\n",
      "  print(\"---------------------------\")\n",
      "  \n",
      "  # FPGA Version\n",
      "  print(\"FPGA Version : 0x{:08X}\".format(version_int))\n",
      "  # Product Type\n",
      "  if product_type == \"generic\":\n",
      "    product_type_msb = 0\n",
      "  elif product_type == \"kyocera\":\n",
      "    product_type_msb = 1\n",
      "  elif product_type == \"konicaminolta\":\n",
      "    product_type_msb = 2\n",
      "  elif product_type == \"ricoh\":\n",
      "    product_type_msb = 3\n",
      "  else:\n",
      "    product_type_msb = -1\n",
      "    \n",
      "  if printhead_type == \"generic\":\n",
      "    product_type_lsb = 0\n",
      "  elif printhead_type == \"kj4b_qa06ntb_stdv_4b\":\n",
      "    product_type_lsb = 0\n",
      "  elif printhead_type == \"kj4b_qg06ntt_pt1v\":\n",
      "    product_type_lsb = 1\n",
      "  elif printhead_type == \"kj4b_yh06wst_stdv\":\n",
      "    product_type_lsb = 2\n",
      "  elif printhead_type == \"kj4b_1200_008st_wfg1\":\n",
      "    product_type_lsb = 3\n",
      "  elif printhead_type == \"km1024i\" or printhead_type == \"km1024\":\n",
      "    product_type_lsb = 0\n",
      "  elif printhead_type == \"gen5\":\n",
      "    product_type_lsb = 0\n",
      "  else:\n",
      "    product_type_lsb = -1\n",
      "    \n",
      "  if (product_type_msb != -1 and product_type_lsb != -1):\n",
      "    product_type_int = product_type_msb * 2**16 + product_type_lsb * 2**0\n",
      "    print(\"Product Type : 0x{:08X}\").format(product_type_int)\n",
      "  else:\n",
      "    print(\"Product Type : 0x????????\")\n",
      "    \n",
      "  # Image Type\n",
      "  if image_type == \"user\":\n",
      "    print(\"Image Type   : 0x00005355\")\n",
      "  elif image_type == \"factory\":\n",
      "    print(\"Image Type   : 0x00004146\")\n",
      "  else:\n",
      "    print(\"Image Type   : 0x0000????\")\n",
      "  print(\"\")"
     ],
     "language": "python",
     "metadata": {},
     "outputs": [],
     "prompt_number": 3
    },
    {
     "cell_type": "markdown",
     "metadata": {},
     "source": [
      "## Product Info Creation"
     ]
    },
    {
     "cell_type": "markdown",
     "metadata": {},
     "source": [
      "### Ricoh GEN5"
     ]
    },
    {
     "cell_type": "code",
     "collapsed": false,
     "input": [
      "gen_product_id(\"1.2.0\", \"Ricoh\", \"User\")\n",
      "gen_system_manager(\"1.2.0.0\", \"Ricoh\", \"Gen5\", \"User\")"
     ],
     "language": "python",
     "metadata": {},
     "outputs": [
      {
       "output_type": "stream",
       "stream": "stdout",
       "text": [
        "Ethercat Product ID Registers\n",
        "-----------------------------\n",
        "Product Version = 001002000  : Product ID 3: 0x0000000f\n",
        "                             : Product ID 2: 0x00004a10\n",
        "Product Type = Ricoh         : Product ID 1: 0x00005249\n",
        "Image Type   = User          : Product ID 0: 0x00005355\n",
        "\n",
        "System Management Registers\n",
        "---------------------------\n",
        "FPGA Version : 0x01020000\n",
        "Product Type : 0x00030000\n",
        "Image Type   : 0x00005355\n",
        "\n"
       ]
      }
     ],
     "prompt_number": 43
    },
    {
     "cell_type": "markdown",
     "metadata": {},
     "source": [
      "### Kyocera KJ4B 30kHz PT1V"
     ]
    },
    {
     "cell_type": "code",
     "collapsed": false,
     "input": [
      "gen_product_id(\"1.1.0\", \"Kyocera\", \"User\")\n",
      "gen_system_manager(\"1.1.0.0\", \"Kyocera\", \"KJ4B_QG06NTT_PT1V\", \"User\")"
     ],
     "language": "python",
     "metadata": {},
     "outputs": [
      {
       "output_type": "stream",
       "stream": "stdout",
       "text": [
        "Ethercat Product ID Registers\n",
        "-----------------------------\n",
        "Product Version = 001001000  : Product ID 3: 0x0000000f\n",
        "                             : Product ID 2: 0x00004628\n",
        "Product Type = Kyocera       : Product ID 1: 0x00004B59\n",
        "Image Type   = User          : Product ID 0: 0x00005355\n",
        "\n",
        "System Management Registers\n",
        "---------------------------\n",
        "FPGA Version : 0x01010000\n",
        "Product Type : 0x00010001\n",
        "Image Type   : 0x00005355\n",
        "\n"
       ]
      }
     ],
     "prompt_number": 51
    },
    {
     "cell_type": "markdown",
     "metadata": {},
     "source": [
      "### Kyocera KJ4B 30kHz STDV"
     ]
    },
    {
     "cell_type": "code",
     "collapsed": false,
     "input": [
      "gen_product_id(\"1.0.0\", \"Kyocera\", \"User\")\n",
      "gen_system_manager(\"1.0.0.0\", \"Kyocera\", \"KJ4B_QA06NTB_STDV_4B\", \"User\")"
     ],
     "language": "python",
     "metadata": {},
     "outputs": [
      {
       "output_type": "stream",
       "stream": "stdout",
       "text": [
        "Ethercat Product ID Registers\n",
        "-----------------------------\n",
        "Product Version = 001000000  : Product ID 3: 0x0000000f\n",
        "                             : Product ID 2: 0x00004240\n",
        "Product Type = Kyocera       : Product ID 1: 0x00004B59\n",
        "Image Type   = User          : Product ID 0: 0x00005355\n",
        "\n",
        "System Management Registers\n",
        "---------------------------\n",
        "FPGA Version : 0x01000000\n",
        "Product Type : 0x00010000\n",
        "Image Type   : 0x00005355\n",
        "\n"
       ]
      }
     ],
     "prompt_number": 52
    },
    {
     "cell_type": "markdown",
     "metadata": {},
     "source": [
      "### Kyocera KJ4B 40kHz"
     ]
    },
    {
     "cell_type": "code",
     "collapsed": false,
     "input": [
      "gen_product_id(\"2.0.3\", \"Kyocera\", \"User\")\n",
      "gen_system_manager(\"2.0.3.0\", \"Kyocera\", \"KJ4B_YH06WST_STDV\", \"User\")"
     ],
     "language": "python",
     "metadata": {},
     "outputs": [
      {
       "output_type": "stream",
       "stream": "stdout",
       "text": [
        "Ethercat Product ID Registers\n",
        "-----------------------------\n",
        "Product Version = 002000003  : Product ID 3: 0x00000001e\n",
        "                             : Product ID 2: 0x00008483\n",
        "Product Type = Kyocera       : Product ID 1: 0x00004B59\n",
        "Image Type   = User          : Product ID 0: 0x00005355\n",
        "\n",
        "System Management Registers\n",
        "---------------------------\n",
        "FPGA Version : 0x02000300\n",
        "Product Type : 0x00010002\n",
        "Image Type   : 0x00005355\n",
        "\n"
       ]
      }
     ],
     "prompt_number": 53
    },
    {
     "cell_type": "markdown",
     "metadata": {},
     "source": [
      "### Kyocera KJ4B 64kHz"
     ]
    },
    {
     "cell_type": "code",
     "collapsed": false,
     "input": [
      "gen_product_id(\"1.0.0\", \"Kyocera\", \"User\")\n",
      "gen_system_manager(\"1.0.0.0\", \"Kyocera\", \"KJ4B_1200_008ST_WFG1\", \"User\")"
     ],
     "language": "python",
     "metadata": {},
     "outputs": [
      {
       "output_type": "stream",
       "stream": "stdout",
       "text": [
        "Ethercat Product ID Registers\n",
        "-----------------------------\n",
        "Product Version = 001000000  : Product ID 3: 0x0000000f\n",
        "                             : Product ID 2: 0x00004240\n",
        "Product Type = Kyocera       : Product ID 1: 0x00004B59\n",
        "Image Type   = User          : Product ID 0: 0x00005355\n",
        "\n",
        "System Management Registers\n",
        "---------------------------\n",
        "FPGA Version : 0x01000000\n",
        "Product Type : 0x00010003\n",
        "Image Type   : 0x00005355\n",
        "\n"
       ]
      }
     ],
     "prompt_number": 4
    },
    {
     "cell_type": "markdown",
     "metadata": {},
     "source": [
      "### KonicaMinolta 1024i"
     ]
    },
    {
     "cell_type": "code",
     "collapsed": false,
     "input": [
      "gen_product_id(\"1.2.1\", \"KonicaMinolta\", \"User\")\n",
      "gen_system_manager(\"1.2.1.0\", \"KonicaMinolta\", \"KM1024i\", \"User\")"
     ],
     "language": "python",
     "metadata": {},
     "outputs": [
      {
       "output_type": "stream",
       "stream": "stdout",
       "text": [
        "Ethercat Product ID Registers\n",
        "-----------------------------\n",
        "Product Version = 001002001  : Product ID 3: 0x0000000f\n",
        "                             : Product ID 2: 0x00004a11\n",
        "Product Type = KonicaMinolta : Product ID 1: 0x00004B4D\n",
        "Image Type   = User          : Product ID 0: 0x00005355\n",
        "\n",
        "System Management Registers\n",
        "---------------------------\n",
        "FPGA Version : 0x01020100\n",
        "Product Type : 0x00020000\n",
        "Image Type   : 0x00005355\n",
        "\n"
       ]
      }
     ],
     "prompt_number": 55
    },
    {
     "cell_type": "markdown",
     "metadata": {},
     "source": [
      "### Generic"
     ]
    },
    {
     "cell_type": "code",
     "collapsed": false,
     "input": [
      "gen_product_id(\"1.0.0\", \"Generic\", \"Factory\")\n",
      "gen_system_manager(\"1.0.0.0\", \"Generic\", \"Generic\", \"Factory\")"
     ],
     "language": "python",
     "metadata": {},
     "outputs": [
      {
       "output_type": "stream",
       "stream": "stdout",
       "text": [
        "Ethercat Product ID Registers\n",
        "-----------------------------\n",
        "Product Version = 001000000  : Product ID 3: 0x0000000f\n",
        "                             : Product ID 2: 0x00004240\n",
        "Product Type = Generic       : Product ID 1: 0x00004745\n",
        "Image Type   = Factory       : Product ID 0: 0x00004146\n",
        "\n",
        "System Management Registers\n",
        "---------------------------\n",
        "FPGA Version : 0x01000000\n",
        "Product Type : 0x00000000\n",
        "Image Type   : 0x00004146\n",
        "\n"
       ]
      }
     ],
     "prompt_number": 57
    },
    {
     "cell_type": "markdown",
     "metadata": {},
     "source": [
      "## Get Product Info"
     ]
    },
    {
     "cell_type": "code",
     "collapsed": false,
     "input": [
      "import binascii\n",
      "def get_product_id(version=\"000F4628\", product_type=\"4B4D\", image_type=\"5355\"):\n",
      "  version_norm = version.lower()\n",
      "  product_type_norm = product_type.lower()\n",
      "  image_type_norm = image_type.lower()\n",
      "  \n",
      "  # Calculate Version\n",
      "  version_int = int(version_norm,16)\n",
      "  version_int_string = str(version_int)\n",
      "    \n",
      "  # Calculate Product\n",
      "  product_type_ascii = product_type_norm.decode(\"hex\").lower()\n",
      "  \n",
      "  # Calculate Image\n",
      "  image_type_ascii = image_type_norm.decode(\"hex\").lower()\n",
      "  \n",
      "  # Print Version\n",
      "  print(\"Version: {}.{}.{}\".format(version_int_string[-9:-6], version_int_string[-6:-3], version_int_string[-3:]))\n",
      "  \n",
      "  # Print Product\n",
      "  if product_type_ascii == \"ri\":\n",
      "    print(\"Product: Ricoh\")\n",
      "  elif product_type_ascii == \"km\":\n",
      "    print(\"Product: KonicaMinolta\")\n",
      "  elif product_type_ascii == \"ky\":\n",
      "    print(\"Product: Kyocera\")\n",
      "  elif product_type_ascii == \"ge\":\n",
      "    print(\"Product: Generic\")\n",
      "  else:\n",
      "    print(\"Product: Unknown\")\n",
      "\n",
      "  # Print Image\n",
      "  if image_type_ascii == \"su\":\n",
      "    print(\"Image: User\")\n",
      "  elif image_type_ascii == \"af\":\n",
      "    print(\"Image: Factory\")\n",
      "  else:\n",
      "    print(\"Image: Unknown\")"
     ],
     "language": "python",
     "metadata": {},
     "outputs": [],
     "prompt_number": 4
    },
    {
     "cell_type": "code",
     "collapsed": false,
     "input": [
      "get_product_id(\"000f4628\", \"4b59\", \"5355\")"
     ],
     "language": "python",
     "metadata": {},
     "outputs": [
      {
       "output_type": "stream",
       "stream": "stdout",
       "text": [
        "Version: 1.001.000\n",
        "Product: Kyocera\n",
        "Image: User\n"
       ]
      }
     ],
     "prompt_number": 5
    }
   ],
   "metadata": {}
  }
 ]
}