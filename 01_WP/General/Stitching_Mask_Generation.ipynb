{
 "metadata": {
  "name": "",
  "signature": "sha256:bcfd0497918b7678a2ddfe2324edb0a73778606eaf1160d513edc8601878d9aa"
 },
 "nbformat": 3,
 "nbformat_minor": 0,
 "worksheets": [
  {
   "cells": [
    {
     "cell_type": "markdown",
     "metadata": {},
     "source": [
      "# Stitching Mask Generation\n",
      "Thsi python script can create the stitching masks for different printheads. It will generate a .msk file"
     ]
    },
    {
     "cell_type": "code",
     "collapsed": false,
     "input": [
      "def gen_stitching_mask(nozzle_number=1024, stitch_size=32, asymetric=3, mask_size=64)\n",
      "  \"\"\"\n",
      "  Generate stitching mask for different printheads\n",
      "   \n",
      "  :param int nozzle_number: numbers of nozzels of the printhead default 1024 nozzles (km1024i)\n",
      "  :param int stitch_size: number of nozzles to stich default 32 nozzles (Digiround)\n",
      "  :param int asymetric: creation of asymetric masks 0 = no asymetric mask | 1 = up & down (2 ph) | 2 = up & middle & down (>3 ph)\n",
      "  :param int mask_size: size of the mask in bit default 64bit\n",
      "    \n",
      "  :return: True or False, depending if successful or not\n",
      "  :rtype: bool\n",
      "  \"\"\"\n",
      "  "
     ],
     "language": "python",
     "metadata": {},
     "outputs": []
    },
    {
     "cell_type": "markdown",
     "metadata": {},
     "source": [
      "## Digiround settings\n",
      "### KM1024\n",
      "Mask linear blending [%] calculations for .xlsm file"
     ]
    },
    {
     "cell_type": "code",
     "collapsed": false,
     "input": [
      "import numpy as np\n",
      "stitching_size = 32\n",
      "random_percent = np.linspace(0, 1, stitching_size)\n",
      "print(random_percent)"
     ],
     "language": "python",
     "metadata": {},
     "outputs": [
      {
       "output_type": "stream",
       "stream": "stdout",
       "text": [
        "[ 0.          0.03225806  0.06451613  0.09677419  0.12903226  0.16129032\n",
        "  0.19354839  0.22580645  0.25806452  0.29032258  0.32258065  0.35483871\n",
        "  0.38709677  0.41935484  0.4516129   0.48387097  0.51612903  0.5483871\n",
        "  0.58064516  0.61290323  0.64516129  0.67741935  0.70967742  0.74193548\n",
        "  0.77419355  0.80645161  0.83870968  0.87096774  0.90322581  0.93548387\n",
        "  0.96774194  1.        ]\n"
       ]
      }
     ],
     "prompt_number": 6
    }
   ],
   "metadata": {}
  }
 ]
}