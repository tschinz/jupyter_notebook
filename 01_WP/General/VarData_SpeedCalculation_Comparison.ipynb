{
 "cells": [
  {
   "cell_type": "markdown",
   "metadata": {},
   "source": [
    "# VarData Speed Calculation Comparison\n",
    "Notebook for calculation a VarData Test Case and have a Unit Number for Comparison\n",
    "\n",
    "For more speed calculations see [VarData Speed Calculations](http://jupyter.polytype.com:8888/notebooks/General/VarData_SpeedCalculations.ipynb)"
   ]
  },
  {
   "cell_type": "code",
   "execution_count": 1,
   "metadata": {
    "collapsed": false
   },
   "outputs": [],
   "source": [
    "import math\n",
    "import datetime\n",
    "\n",
    "def varData_speedCalc_comparison(test_case, test_title, test_description, test_time=None, cups_speed=250.0, substrate_size_mm=None, substrate_size_px=None, dpi_image=[360.0,360.0]):\n",
    "  inch2mm          = 25.4  # mm/inch\n",
    "  bpp              = 4.0   # bit/px\n",
    "  \n",
    "  if test_time == None:\n",
    "    test_time = datetime.datetime.now()\n",
    "  \n",
    "  # cup speed\n",
    "  cup_speed_sec = cups_speed / 60 # cup/sec\n",
    "  cup_cycle     = 1/cup_speed_sec # sec\n",
    "  \n",
    "  # pixel pitch\n",
    "  pixel_pitch   = [inch2mm / dpi_image[0] , inch2mm / dpi_image[1]]# mm\n",
    "  \n",
    "  # Substrate size (image size)\n",
    "  if not(substrate_size_px == None):\n",
    "    substrate_size_mm = [int(math.ceil(substrate_size_px[0]/pixel_pitch[0])), int(math.ceil(substrate_size_px[1]/pixel_pitch[1]))]\n",
    "    substrate_size_px = substrate_size_px\n",
    "  elif not(substrate_size_mm == None):\n",
    "    substrate_size_mm = substrate_size_mm\n",
    "    substrate_size_px = [int(math.ceil(substrate_size_mm[0]/pixel_pitch[0])), int(math.ceil(substrate_size_mm[1]/pixel_pitch[1]))]\n",
    "  \n",
    "  # print speed\n",
    "  print_speed = (substrate_size_mm[0]/cup_cycle) # mm/s\n",
    "  print_speed_area = (substrate_size_mm[0]*substrate_size_mm[1])/cup_cycle # mm^2/s\n",
    "  \n",
    "  # data size per image\n",
    "  image_size_bytes = (substrate_size_px[0]*substrate_size_px[1])*bpp/8 # bytes\n",
    "\n",
    "  # Print all results\n",
    "  print(\"------------------- {} -------------------\".format(test_title))\n",
    "  print(\"-- Test Case: #{}\".format(str(test_case)))\n",
    "  print(\"-- Test Time: {}\".format(str(test_time)))\n",
    "  print(\"----------------------------------------------------------------\")\n",
    "  print(test_description)\n",
    "  print(\"----------------------------------------------------------------\")\n",
    "  print(\"Image info:         {:.3f} mm x {:.3f} mm\".format(substrate_size_mm[0], substrate_size_mm[1]))\n",
    "  print(\"                    {:.3f} px x {:.3f} px\".format(substrate_size_px[0], substrate_size_px[1]))\n",
    "  if image_size_bytes < 1024:\n",
    "    print(\"                    {:.3f} Bytes\".format(image_size_bytes))\n",
    "  elif image_size_bytes/1024 < 1024:\n",
    "    print(\"                    {:.3f} kB\".format(image_size_bytes/1024))\n",
    "  elif image_size_bytes/1024/1024 < 1024:\n",
    "    print(\"                    {:.3f} MB\".format(image_size_bytes/1024/1024))\n",
    "  else:\n",
    "    print(\"                    {:.3f} GB\".format(image_size_bytes/1024/1024/1024))\n",
    "  print(\"\")\n",
    "  print(\"Cup info:           {:.3f} cups/sec\".format(cup_speed_sec))\n",
    "  print(\"                    {:.3f} ms/cup\".format(cup_cycle*1000))\n",
    "  print(\"\")\n",
    "  print(\"Print Speed Linear  {:.3f} mm/s => {:.3f} m/min\".format(print_speed, print_speed/1000*60))\n",
    "  print(\"Print Speed Area    {:.3f} mm^2/s => {:.3f} m^2/s\".format(print_speed_area, print_speed_area*10e-7))\n",
    "  print(\"----------------------------------------------------------------\")"
   ]
  },
  {
   "cell_type": "markdown",
   "metadata": {},
   "source": [
    "## Test Example"
   ]
  },
  {
   "cell_type": "code",
   "execution_count": 2,
   "metadata": {
    "collapsed": false
   },
   "outputs": [
    {
     "name": "stdout",
     "output_type": "stream",
     "text": [
      "------------------- Digiround Max Speed Test -------------------\n",
      "-- Test Case: #1\n",
      "-- Test Time: 2018-05-25 13:23:56.301243\n",
      "----------------------------------------------------------------\n",
      "Digiround Spectra PC \n",
      " CPU: i5-4570 \n",
      " RAM: 8GB 12800MHz \n",
      " SSD: 120GB \n",
      " 1 Gbps Ethernet Port for Calmar data\n",
      "----------------------------------------------------------------\n",
      "Image info:         280.000 mm x 140.000 mm\n",
      "                    3969.000 px x 1985.000 px\n",
      "                    3.757 MB\n",
      "\n",
      "Cup info:           4.167 cups/sec\n",
      "                    240.000 ms/cup\n",
      "\n",
      "Print Speed Linear  1166.667 mm/s => 70.000 m/min\n",
      "Print Speed Area    163333.333 mm^2/s => 0.163 m^2/s\n",
      "----------------------------------------------------------------\n"
     ]
    }
   ],
   "source": [
    "test_case         = 1 # Unique test number (UTN)\n",
    "test_title        = \"Digiround Max Speed Test\"\n",
    "test_description  = \"Digiround Spectra PC \\n CPU: i5-4570 \\n RAM: 8GB 12800MHz \\n SSD: 120GB \\n 1 Gbps Ethernet Port for Calmar data\"\n",
    "#test_time         = \"2017-11-29 14:02:00\" # if not existing uses current time\n",
    "test_time         = None\n",
    "cups_speed        = 250.0            # cups/min\n",
    "substrate_size_mm = [280.0, 140.0]   # [mm]\n",
    "substrate_size_px = None             # [px]\n",
    "dpi_image         = [360.0, 360.0]   # [dpi] dpi_x and dpy_y\n",
    "\n",
    "varData_speedCalc_comparison(test_case, test_title, test_description, test_time, cups_speed, substrate_size_mm, substrate_size_px, dpi_image)"
   ]
  },
  {
   "cell_type": "markdown",
   "metadata": {},
   "source": [
    "## Your Test Here"
   ]
  },
  {
   "cell_type": "code",
   "execution_count": 3,
   "metadata": {
    "collapsed": false
   },
   "outputs": [
    {
     "name": "stdout",
     "output_type": "stream",
     "text": [
      "------------------- Digiround Max Speed Test -------------------\n",
      "-- Test Case: #1\n",
      "-- Test Time: 2018-05-25 13:23:57.756377\n",
      "----------------------------------------------------------------\n",
      "Digiround Spectra PC \n",
      " CPU: i5-4570 \n",
      " RAM: 8GB 12800MHz \n",
      " SSD: 120GB \n",
      " 1 Gbps Ethernet Port for Calmar data\n",
      "----------------------------------------------------------------\n",
      "Image info:         280.000 mm x 140.000 mm\n",
      "                    3969.000 px x 1985.000 px\n",
      "                    3.757 MB\n",
      "\n",
      "Cup info:           2.000 cups/sec\n",
      "                    500.000 ms/cup\n",
      "\n",
      "Print Speed Linear  560.000 mm/s => 33.600 m/min\n",
      "Print Speed Area    78400.000 mm^2/s => 0.078 m^2/s\n",
      "----------------------------------------------------------------\n"
     ]
    }
   ],
   "source": [
    "test_case         = 1 # Unique test number (UTN)\n",
    "test_title        = \"Digiround Max Speed Test\"\n",
    "test_description  = \"Digiround Spectra PC \\n CPU: i5-4570 \\n RAM: 8GB 12800MHz \\n SSD: 120GB \\n 1 Gbps Ethernet Port for Calmar data\"\n",
    "#test_time         = \"2017-11-29 14:02:00\" # if not existing uses current time\n",
    "test_time         = None\n",
    "cups_speed        = 120.0            # cups/min\n",
    "substrate_size_mm = [280.0, 140.0]   # [mm]\n",
    "substrate_size_px = None             # [px]\n",
    "dpi_image         = [360.0, 360.0]   # [dpi] dpi_x and dpy_y\n",
    "\n",
    "varData_speedCalc_comparison(test_case, test_title, test_description, test_time, cups_speed, substrate_size_mm, substrate_size_px, dpi_image)"
   ]
  },
  {
   "cell_type": "code",
   "execution_count": 4,
   "metadata": {
    "collapsed": false
   },
   "outputs": [
    {
     "name": "stdout",
     "output_type": "stream",
     "text": [
      "------------------- WK308 120 cups/min + Ergosoft running -------------------\n",
      "-- Test Case: #1\n",
      "-- Test Time: 2018-05-25 13:24:01.309247\n",
      "----------------------------------------------------------------\n",
      "Spectra PC \n",
      " CPU: i5-4570 \n",
      " RAM: 24GB 12800MHz \n",
      " SSD: 223GB \n",
      " 1 Gbps Ethernet Port for Calmar data\n",
      "----------------------------------------------------------------\n",
      "Image info:         56282.000 mm x 28545.000 mm\n",
      "                    3971.000 px x 2014.000 px\n",
      "                    3.814 MB\n",
      "\n",
      "Cup info:           4.000 cups/sec\n",
      "                    250.000 ms/cup\n",
      "\n",
      "Print Speed Linear  225128.000 mm/s => 13507.680 m/min\n",
      "Print Speed Area    6426278760.000 mm^2/s => 6426.279 m^2/s\n",
      "----------------------------------------------------------------\n"
     ]
    }
   ],
   "source": [
    "test_case         = 1 # Unique test number (UTN)\n",
    "test_title        = \"WK308 120 cups/min + Ergosoft running\"\n",
    "test_description  = \"Spectra PC \\n CPU: i5-4570 \\n RAM: 24GB 12800MHz \\n SSD: 223GB \\n 1 Gbps Ethernet Port for Calmar data\"\n",
    "#test_time         = \"2017-11-29 14:02:00\" # if not existing uses current time\n",
    "test_time         = None\n",
    "cups_speed        = 240.0            # cups/min\n",
    "substrate_size_mm = None   # [mm]\n",
    "substrate_size_px = [3971, 2014]             # [px]\n",
    "dpi_image         = [360.0, 360.0]   # [dpi] dpi_x and dpy_y\n",
    "\n",
    "varData_speedCalc_comparison(test_case, test_title, test_description, test_time, cups_speed, substrate_size_mm, substrate_size_px, dpi_image)"
   ]
  }
 ],
 "metadata": {
  "kernelspec": {
   "display_name": "Python 3",
   "language": "python",
   "name": "python3"
  },
  "language_info": {
   "codemirror_mode": {
    "name": "ipython",
    "version": 3
   },
   "file_extension": ".py",
   "mimetype": "text/x-python",
   "name": "python",
   "nbconvert_exporter": "python",
   "pygments_lexer": "ipython3",
   "version": "3.6.5"
  }
 },
 "nbformat": 4,
 "nbformat_minor": 2
}
