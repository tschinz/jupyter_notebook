{
 "cells": [
  {
   "cell_type": "markdown",
   "metadata": {},
   "source": [
    "# speed calc functions\n",
    "\n",
    "Base calculation between different domains\n"
   ]
  },
  {
   "cell_type": "code",
   "execution_count": 3,
   "metadata": {
    "collapsed": false
   },
   "outputs": [],
   "source": [
    "import math\n",
    "\n",
    "\"\"\"\n",
    "Calculation for max speed on DigiRound\n",
    "\"\"\"\n",
    "inch2mm          = 25.4  # mm/inch\n",
    "bpp              = 4.0   # bit/px\n",
    "\n",
    "def speedCalc(cups_speed, printing_speed, substrate_size, turn_time, printhead_dpi):\n",
    "  \"\"\"\n",
    "  speedCalc, calculated the theoretical speed of a machine with the given settings\n",
    " \n",
    "  :param cups_speed: mechanical max of [cups/min]\n",
    "  :param printing_speed: max printing speed of Calmar system [mm/s]\n",
    "  :param substrate_size: 2-dim array [w,h] of the subrate size in [mm]\n",
    "  :param turn_time: time for loading new cup (in digiround turn mechanism) in [seconds], rotate and new indexing\n",
    "  :param printhead_dpi: dpi of a printhead [dpi]\n",
    "  \"\"\"\n",
    "  inch2mm          = 25.4  # mm/inch\n",
    "  bpp              = 4.0   # bit/px\n",
    "\n",
    "  # cup speed\n",
    "  cup_speed_sec = cups_speed / 60 # cup/sec\n",
    "  cup_cycle     = 1/cup_speed_sec # sec\n",
    "  \n",
    "  # print speed\n",
    "  print_time = substrate_size[0] / printing_speed # sec\n",
    "  print_cycle   = turn_time + print_time # sec\n",
    "\n",
    "  # image size\n",
    "  pixel_pitch   = inch2mm / printhead_dpi # mm\n",
    "  image_size_px = [int(math.ceil(substrate_size[0]/pixel_pitch)), int(math.ceil(substrate_size[1]/pixel_pitch))]\n",
    "  \n",
    "  # image data size per image\n",
    "  image_size_bytes = (image_size_px[0]*image_size_px[1])*bpp/8 # bytes\n",
    "  \n",
    "  # Print all results\n",
    "  print(\"cup_speed_sec           = {:.3f} cup/sec\".format(cup_speed_sec))\n",
    "  print(\"cup_cycle               = {:.3f} ms (Mechanic Maximum)\".format(cup_cycle*1000))\n",
    "  print(\"print_time              = {:.3f} ms\".format(print_time*1000))\n",
    "  print(\"print_cycle             = {:.3f} ms\".format(print_cycle*1000))\n",
    "  print(\"image_size_px (x : y)   = ( {}px : {}px )\".format(image_size_px[0], image_size_px[1]))\n",
    "  print(\"image_size_bytes        = {:.3f} MB\".format(image_size_bytes/1024/1024))\n",
    "  "
   ]
  },
  {
   "cell_type": "markdown",
   "metadata": {},
   "source": [
    "# Case HC22T"
   ]
  },
  {
   "cell_type": "code",
   "execution_count": 4,
   "metadata": {
    "collapsed": false
   },
   "outputs": [
    {
     "name": "stdout",
     "output_type": "stream",
     "text": [
      "cup_speed_sec           = 3.617 cup/sec\n",
      "cup_cycle               = 276.498 ms (Mechanic Maximum)\n",
      "print_time              = 329.412 ms\n",
      "print_cycle             = 429.412 ms\n",
      "image_size_px (x : y)   = ( 3969px : 1985px )\n",
      "image_size_bytes        = 3.757 MB\n"
     ]
    }
   ],
   "source": [
    "cups_speed       = 217.0 # cups/min\n",
    "printing_speed   = 850.0 # mm/s\n",
    "substrate_size   = [280.0, 140.0] # mm [w, h]\n",
    "\n",
    "turn_time        = 0.1   # sec\n",
    "printhead_dpi    = 360.0 # dpi\n",
    "\n",
    "speedCalc(cups_speed, printing_speed, substrate_size, turn_time, printhead_dpi)"
   ]
  }
 ],
 "metadata": {
  "kernelspec": {
   "display_name": "Python 3",
   "language": "python",
   "name": "python3"
  },
  "language_info": {
   "codemirror_mode": {
    "name": "ipython",
    "version": 3
   },
   "file_extension": ".py",
   "mimetype": "text/x-python",
   "name": "python",
   "nbconvert_exporter": "python",
   "pygments_lexer": "ipython3",
   "version": "3.6.5"
  }
 },
 "nbformat": 4,
 "nbformat_minor": 2
}
