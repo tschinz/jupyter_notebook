{
 "cells": [
  {
   "cell_type": "markdown",
   "metadata": {},
   "source": [
    "# Calculations DecoType\n"
   ]
  },
  {
   "cell_type": "code",
   "execution_count": 2,
   "metadata": {
    "collapsed": false
   },
   "outputs": [
    {
     "name": "stdout",
     "output_type": "stream",
     "text": [
      "Calculations\n",
      "----------------------------------\n",
      "Machine settings\n",
      "------------------\n",
      "Machine speed          = 24000    [Bottles/hr]\n",
      "Carroussel diameter    = 2400.0   [mm]\n",
      "Bottels per carroussel = 60.0     [pcs]\n",
      "Resolution             = 810.0    [dpi]\n",
      "DPD                    = 1.0      [-]\n",
      "Image length           = 80.0     [mm]\n",
      "Print station spacing  = 6.4      [°]\n",
      "Print restart time     = 30       [ms]\n",
      "\n",
      "Speed calculations\n",
      "----------\n",
      "Carroussel speed       = 6.6667   [rev/min]\n",
      "Print linear speed     = 0.8378   [m/s]\n",
      "Print frequency        = 26.7159  [kHz]\n",
      "\n",
      "Positioning\n",
      "----------\n",
      "Bottle spacing         = 125.66   [°]\n",
      "Bottle spacing linear  = 125.66   [mm]\n",
      "PrintSt. lin. spacing  = 134.04   [mm]\n",
      "Print length           = 88.38    [mm]\n",
      "Bottle spacing         = 125.66   [mm]\n",
      "Idle space             = 37.29    [mm]\n",
      "\n",
      "Timings\n",
      "----------\n",
      "Idle time              = 44.507   [ms]\n",
      "Spare time             = 14.507   [ms]\n"
     ]
    }
   ],
   "source": [
    "import math\n",
    "\n",
    "def grad_to_mm(diameter, grad_dist):\n",
    "  return diameter/2 * grad_dist/180 * math.pi\n",
    "\n",
    "# Machine Settings\n",
    "Machine_speed = 24000     # Bottles/hr\n",
    "Carroussel_diameter = 2400.0 # mm\n",
    "Bottles_per_carroussel = 60.0 # pcs\n",
    "Resolution = 810.00 # dpi\n",
    "DPD = 1.00\n",
    "Image_length = 80.00 # mm\n",
    "Print_station_spacing = 6.4 # °\n",
    "Print_restart_time = 30 # ms\n",
    "\n",
    "# Speed\n",
    "Carroussel_speed = Machine_speed / (Bottles_per_carroussel * 60) # rev/min\n",
    "Print_linear_speed = (math.pi * Carroussel_diameter) / 1000 * Carroussel_speed / 60 # m/s\n",
    "Print_frequency = 1/1000 * DPD * Print_linear_speed / (0.0254 / Resolution) # kHz\n",
    "\n",
    "# Positioning\n",
    "Bottle_spacing = 360 / Bottles_per_carroussel # °\n",
    "Bottle_spacing_linear = grad_to_mm(Carroussel_diameter, Bottle_spacing) # mm\n",
    "Print_station_spacing_linear = grad_to_mm(Carroussel_diameter, Print_station_spacing) # mm\n",
    "Print_length = Image_length + (Print_station_spacing_linear - Bottle_spacing_linear) # mm\n",
    "Bottle_spacing = math.pi * Carroussel_diameter / Bottles_per_carroussel # mm\n",
    "Idle_space = Bottle_spacing - Print_length # mm\n",
    "\n",
    "# Timings\n",
    "Idle_time = Idle_space * 1 / Print_linear_speed # ms\n",
    "Spare_time = Idle_time - Print_restart_time # ms\n",
    "\n",
    "print(\"Calculations\")\n",
    "print(\"----------------------------------\")\n",
    "print(\"Machine settings\")\n",
    "print(\"------------------\")\n",
    "print(\"Machine speed          = {:<8} [Bottles/hr]\".format(Machine_speed))\n",
    "print(\"Carroussel diameter    = {:<8} [mm]\".format(Carroussel_diameter))\n",
    "print(\"Bottels per carroussel = {:<8} [pcs]\".format(Bottles_per_carroussel))\n",
    "print(\"Resolution             = {:<8} [dpi]\".format(Resolution))\n",
    "print(\"DPD                    = {:<8} [-]\".format(DPD))\n",
    "print(\"Image length           = {:<8} [mm]\".format(Image_length))\n",
    "print(\"Print station spacing  = {:<8} [°]\".format(Print_station_spacing))\n",
    "print(\"Print restart time     = {:<8} [ms]\".format(Print_restart_time))\n",
    "print(\"\")\n",
    "print(\"Speed calculations\")\n",
    "print(\"----------\")\n",
    "print(\"Carroussel speed       = {:<8.4f} [rev/min]\".format(Carroussel_speed))\n",
    "print(\"Print linear speed     = {:<8.4f} [m/s]\".format(Print_linear_speed))\n",
    "print(\"Print frequency        = {:<8.4f} [kHz]\".format(Print_frequency))\n",
    "print(\"\")\n",
    "print(\"Positioning\")\n",
    "print(\"----------\")\n",
    "print(\"Bottle spacing         = {:<8.2f} [°]\".format(Bottle_spacing))\n",
    "print(\"Bottle spacing linear  = {:<8.2f} [mm]\".format(Bottle_spacing_linear))\n",
    "print(\"PrintSt. lin. spacing  = {:<8.2f} [mm]\".format(Print_station_spacing_linear))\n",
    "print(\"Print length           = {:<8.2f} [mm]\".format(Print_length))\n",
    "print(\"Bottle spacing         = {:<8.2f} [mm]\".format(Bottle_spacing))\n",
    "print(\"Idle space             = {:<8.2f} [mm]\".format(Idle_space))\n",
    "print(\"\")\n",
    "print(\"Timings\")\n",
    "print(\"----------\")\n",
    "print(\"Idle time              = {:<8.3f} [ms]\".format(Idle_time))\n",
    "print(\"Spare time             = {:<8.3f} [ms]\".format(Spare_time))\n",
    "\n",
    "\n"
   ]
  }
 ],
 "metadata": {
  "kernelspec": {
   "display_name": "Python 3",
   "language": "python",
   "name": "python3"
  },
  "language_info": {
   "codemirror_mode": {
    "name": "ipython",
    "version": 3
   },
   "file_extension": ".py",
   "mimetype": "text/x-python",
   "name": "python",
   "nbconvert_exporter": "python",
   "pygments_lexer": "ipython3",
   "version": "3.6.5"
  }
 },
 "nbformat": 4,
 "nbformat_minor": 2
}
