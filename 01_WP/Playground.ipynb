{
 "cells": [
  {
   "cell_type": "markdown",
   "metadata": {},
   "source": [
    "## Ricoh  Waveform"
   ]
  },
  {
   "cell_type": "code",
   "execution_count": 1,
   "metadata": {
    "collapsed": false
   },
   "outputs": [
    {
     "name": "stdout",
     "output_type": "stream",
     "text": [
      "DAC_Value = 653.1291482112437 AMP_XLS = 1050.0\n"
     ]
    }
   ],
   "source": [
    "#out = PH_FIRE_VOLTAGE_OFFSET + 1023*out*aCalibration/(1000 * PH_FIRE_VOLTAGE_AMPLITUDE);\n",
    "PH_FIRE_VOLTAGE_OFFSET = 65.0\n",
    "PH_FIRE_VOLTAGE_AMPLITUDE = 2935.0\n",
    "Calibrated_PH_Voltage = 1607.0\n",
    "\n",
    "amp_xls = 1050.0\n",
    "\n",
    "dac_value = PH_FIRE_VOLTAGE_OFFSET + 1023.0*amp_xls*Calibrated_PH_Voltage/(1000.0 * PH_FIRE_VOLTAGE_AMPLITUDE);\n",
    "print(\"DAC_Value = {} AMP_XLS = {}\".format(dac_value, amp_xls))"
   ]
  },
  {
   "cell_type": "markdown",
   "metadata": {},
   "source": [
    "Rip speed calc"
   ]
  },
  {
   "cell_type": "code",
   "execution_count": 2,
   "metadata": {
    "collapsed": false
   },
   "outputs": [],
   "source": [
    "def pages_per_min(time, pages):\n",
    "  pages_sec = pages/time\n",
    "  pages_min = pages_sec*60.0\n",
    "  print(\"pages per min = {}\".format(pages_min))"
   ]
  },
  {
   "cell_type": "code",
   "execution_count": 3,
   "metadata": {
    "collapsed": false
   },
   "outputs": [
    {
     "name": "stdout",
     "output_type": "stream",
     "text": [
      "pages per min = 30.0\n",
      "pages per min = 7.5\n"
     ]
    }
   ],
   "source": [
    "pages = 1.0\n",
    "time = 2.0\n",
    "pages_per_min(time, pages)\n",
    "time = 8.0\n",
    "pages_per_min(time, pages)\n",
    "\n"
   ]
  },
  {
   "cell_type": "code",
   "execution_count": 4,
   "metadata": {
    "collapsed": false
   },
   "outputs": [
    {
     "name": "stdout",
     "output_type": "stream",
     "text": [
      "pages per min = 3.75\n",
      "pages per min = 8.571428571428571\n"
     ]
    }
   ],
   "source": [
    "pages = 1.0\n",
    "time = 16.0\n",
    "pages_per_min(time, pages)\n",
    "time = 7.0\n",
    "pages_per_min(time, pages)"
   ]
  },
  {
   "cell_type": "code",
   "execution_count": 5,
   "metadata": {
    "collapsed": false
   },
   "outputs": [
    {
     "name": "stdout",
     "output_type": "stream",
     "text": [
      "pages per min = 18.0\n",
      "pages per min = 30.0\n"
     ]
    }
   ],
   "source": [
    "pages = 3.0\n",
    "time = 10.0\n",
    "pages_per_min(time, pages)\n",
    "time = 6.0\n",
    "pages_per_min(time, pages)"
   ]
  },
  {
   "cell_type": "code",
   "execution_count": 6,
   "metadata": {
    "collapsed": false
   },
   "outputs": [
    {
     "name": "stdout",
     "output_type": "stream",
     "text": [
      "pages per min = 4.186046511627907\n",
      "pages per min = 22.5\n"
     ]
    }
   ],
   "source": [
    "pages = 3.0\n",
    "time = 43.0\n",
    "pages_per_min(time, pages)\n",
    "time = 8.0\n",
    "pages_per_min(time, pages)"
   ]
  },
  {
   "cell_type": "code",
   "execution_count": 7,
   "metadata": {
    "collapsed": false
   },
   "outputs": [
    {
     "name": "stdout",
     "output_type": "stream",
     "text": [
      "pages per min = 40.0\n",
      "pages per min = 18.461538461538463\n"
     ]
    }
   ],
   "source": [
    "pages = 4.0\n",
    "time = 6.0\n",
    "pages_per_min(time, pages)\n",
    "time = 13.0\n",
    "pages_per_min(time, pages)"
   ]
  },
  {
   "cell_type": "code",
   "execution_count": 8,
   "metadata": {
    "collapsed": false
   },
   "outputs": [
    {
     "name": "stdout",
     "output_type": "stream",
     "text": [
      "pages per min = 4.615384615384616\n",
      "pages per min = 21.81818181818182\n"
     ]
    }
   ],
   "source": [
    "pages = 4.0\n",
    "time = 52.0\n",
    "pages_per_min(time, pages)\n",
    "time = 11.0\n",
    "pages_per_min(time, pages)"
   ]
  },
  {
   "cell_type": "code",
   "execution_count": 9,
   "metadata": {
    "collapsed": false
   },
   "outputs": [
    {
     "name": "stdout",
     "output_type": "stream",
     "text": [
      "pages per min = 75.0\n",
      "pages per min = 15.306122448979592\n"
     ]
    }
   ],
   "source": [
    "pages = 25.0\n",
    "time = 20.0\n",
    "pages_per_min(time, pages)\n",
    "time = 98.0\n",
    "pages_per_min(time, pages)"
   ]
  },
  {
   "cell_type": "code",
   "execution_count": 10,
   "metadata": {
    "collapsed": false
   },
   "outputs": [
    {
     "name": "stdout",
     "output_type": "stream",
     "text": [
      "pages per min = 18.75\n",
      "pages per min = 9.036144578313253\n"
     ]
    }
   ],
   "source": [
    "pages = 25.0\n",
    "time = 80.0\n",
    "pages_per_min(time, pages)\n",
    "time = 166.0\n",
    "pages_per_min(time, pages)"
   ]
  },
  {
   "cell_type": "code",
   "execution_count": 11,
   "metadata": {
    "collapsed": false
   },
   "outputs": [
    {
     "name": "stdout",
     "output_type": "stream",
     "text": [
      "pages per min = 17.543859649122805\n"
     ]
    }
   ],
   "source": [
    "pages = 100.0\n",
    "time = 342.0\n",
    "pages_per_min(time, pages)"
   ]
  },
  {
   "cell_type": "code",
   "execution_count": 12,
   "metadata": {
    "collapsed": false
   },
   "outputs": [
    {
     "name": "stdout",
     "output_type": "stream",
     "text": [
      "pages per min = 8.0\n"
     ]
    }
   ],
   "source": [
    "pages = 100.0\n",
    "time = 750.0\n",
    "pages_per_min(time, pages)"
   ]
  },
  {
   "cell_type": "code",
   "execution_count": 13,
   "metadata": {
    "collapsed": false
   },
   "outputs": [
    {
     "name": "stdout",
     "output_type": "stream",
     "text": [
      "pages per min = 8.185538881309686\n"
     ]
    }
   ],
   "source": [
    "pages = 100.0\n",
    "time = 733.0\n",
    "pages_per_min(time, pages)"
   ]
  },
  {
   "cell_type": "code",
   "execution_count": 14,
   "metadata": {
    "collapsed": false
   },
   "outputs": [
    {
     "name": "stdout",
     "output_type": "stream",
     "text": [
      "pages per min = 2.7649769585253456\n",
      "pages per min = 4.373177842565598\n"
     ]
    }
   ],
   "source": [
    "pages = 100.0\n",
    "time = 36*60+10.0\n",
    "pages_per_min(time, pages)\n",
    "time = (10+12)*60.0+52\n",
    "pages_per_min(time, pages)"
   ]
  },
  {
   "cell_type": "code",
   "execution_count": 15,
   "metadata": {
    "collapsed": false
   },
   "outputs": [
    {
     "name": "stdout",
     "output_type": "stream",
     "text": [
      "pages per min = 15.625000000000002\n",
      "pages per min = 5.405405405405405\n"
     ]
    }
   ],
   "source": [
    "pages = 100.0\n",
    "time = 6*60.0+24\n",
    "pages_per_min(time, pages)\n",
    "time = (11+6)*60.0+40+50\n",
    "pages_per_min(time, pages)"
   ]
  },
  {
   "cell_type": "code",
   "execution_count": 16,
   "metadata": {
    "collapsed": false
   },
   "outputs": [
    {
     "data": {
      "text/plain": [
       "array([ 100.        ,   98.46666667,   96.93333333,   95.4       ])"
      ]
     },
     "execution_count": 16,
     "metadata": {},
     "output_type": "execute_result"
    }
   ],
   "source": [
    "import numpy as np\n",
    "np.linspace(100, 84, num=8)\n",
    "np.linspace(100,95.4, num=4)"
   ]
  },
  {
   "cell_type": "code",
   "execution_count": null,
   "metadata": {
    "collapsed": true
   },
   "outputs": [],
   "source": []
  }
 ],
 "metadata": {
  "kernelspec": {
   "display_name": "Python 3",
   "language": "python",
   "name": "python3"
  },
  "language_info": {
   "codemirror_mode": {
    "name": "ipython",
    "version": 3
   },
   "file_extension": ".py",
   "mimetype": "text/x-python",
   "name": "python",
   "nbconvert_exporter": "python",
   "pygments_lexer": "ipython3",
   "version": "3.6.5"
  }
 },
 "nbformat": 4,
 "nbformat_minor": 2
}
