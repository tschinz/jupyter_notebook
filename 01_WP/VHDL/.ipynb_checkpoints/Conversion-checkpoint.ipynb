{
 "metadata": {
  "name": "",
  "signature": "sha256:b97a9d9bac1a4e4187bc98594f81b9974c051e946ccd5e937e734598ea62188b"
 },
 "nbformat": 3,
 "nbformat_minor": 0,
 "worksheets": [
  {
   "cells": [
    {
     "cell_type": "markdown",
     "metadata": {},
     "source": [
      "## Dec => Bin => Hex"
     ]
    },
    {
     "cell_type": "code",
     "collapsed": false,
     "input": [
      "dec = 5\n",
      "nbr = 10\n",
      "\n",
      "print(\"   i |    Decimal |                           Binary | Hexadecimal\")\n",
      "print(\"-----|------------|----------------------------------|-------------\")\n",
      "for i in range(nbr):\n",
      "  print(\"{0:4} | {1:10d} | {1:32b} | {1:11x}\".format(i,dec+i))"
     ],
     "language": "python",
     "metadata": {},
     "outputs": [
      {
       "output_type": "stream",
       "stream": "stdout",
       "text": [
        "   i |    Decimal |                           Binary | Hexadecimal\n",
        "-----|------------|----------------------------------|-------------\n",
        "   0 |          5 |                              101 |           5\n",
        "   1 |          6 |                              110 |           6\n",
        "   2 |          7 |                              111 |           7\n",
        "   3 |          8 |                             1000 |           8\n",
        "   4 |          9 |                             1001 |           9\n",
        "   5 |         10 |                             1010 |           a\n",
        "   6 |         11 |                             1011 |           b\n",
        "   7 |         12 |                             1100 |           c\n",
        "   8 |         13 |                             1101 |           d\n",
        "   9 |         14 |                             1110 |           e\n"
       ]
      }
     ],
     "prompt_number": 1
    }
   ],
   "metadata": {}
  }
 ]
}