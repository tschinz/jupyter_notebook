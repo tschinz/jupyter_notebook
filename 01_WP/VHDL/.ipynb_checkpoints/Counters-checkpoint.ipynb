{
 "cells": [
  {
   "cell_type": "markdown",
   "metadata": {},
   "source": [
    "# General Counter Calculations\n",
    "Calulation about VHDL Counters"
   ]
  },
  {
   "cell_type": "code",
   "execution_count": 9,
   "metadata": {
    "collapsed": false
   },
   "outputs": [
    {
     "name": "stdout",
     "output_type": "stream",
     "text": [
      "Requested Period       : 0.5 s\n",
      "Requested Frequence    : 2 Hz\n",
      "Counter Step           : 1 increment\n",
      "Should count to        : 2.5e+07 counts\n",
      "Result Period          : 0.5 s\n",
      "Result Frequence       : 2 Hz\n",
      "Required Bits          : 26 bits\n",
      "Count to               : 2.5e+07 counts\n",
      "Error                  : 0 %\n",
      "-------------------------------------\n",
      "SysClk                 : 5e+07 Hz\n",
      "Counter Bit Nb         : 26 Bits\n",
      "Counter Stepssize      : + 1\n",
      "Count max value (int)  : 2.5e+07\n",
      "Count max value (hex)  : 0x17D7840\n"
     ]
    }
   ],
   "source": [
    "import numpy as np\n",
    "import pylab as pl\n",
    "\n",
    "# User settings\n",
    "freq     = 2     # in [Hz]\n",
    "sys_freq = 50e6  # in [Hz]\n",
    "step     = 1     # counter increment\n",
    "\n",
    "# Calculation\n",
    "def unsigned_num_bits(num):\n",
    "  _nbits = 1\n",
    "  _n = num\n",
    "  while(_n > 1):\n",
    "    _nbits = _nbits + 1\n",
    "    _n     = _n / 2\n",
    "  return _nbits\n",
    "\n",
    "def calcCounter(freq=2, sys_freq=50e6, step=1):\n",
    "  \"\"\" freq in [Hz]\n",
    "      sys_freq in [Hz]\n",
    "      step as [integer]\n",
    "  \"\"\"\n",
    "  do         = True\n",
    "  period     = (1.0/freq)\n",
    "  sys_period = (1.0/sys_freq)\n",
    "  count      = (period/sys_period)/step\n",
    "\n",
    "  if (period < sys_period):\n",
    "    print(\"Requested period smaller than system period\")\n",
    "    do = False\n",
    "  if (count < 1):\n",
    "    print(\"Too small steps not possible\")\n",
    "    do = False\n",
    "\n",
    "  count_int  = int(count)\n",
    "  period_int = (count_int*sys_period)*step\n",
    "  freq_int   = 1/period_int\n",
    "  bitNb = unsigned_num_bits(count_int)\n",
    "  error = (100*freq_int)/freq-100\n",
    "\n",
    "  if do:\n",
    "    # Output Values\n",
    "    print(\"Requested Period       : {:g} s\".format(period))\n",
    "    print(\"Requested Frequence    : {:g} Hz\".format(freq))\n",
    "    print(\"Counter Step           : {:g} increment\".format(step))\n",
    "    print(\"Should count to        : {:g} counts\".format(count))\n",
    "    print(\"Result Period          : {:g} s\".format(period_int))\n",
    "    print(\"Result Frequence       : {:g} Hz\".format(freq_int))\n",
    "    print(\"Required Bits          : {:g} bits\".format(bitNb))\n",
    "    print(\"Count to               : {:g} counts\".format(count_int))\n",
    "    print(\"Error                  : {:g} %\".format(error))\n",
    "\n",
    "    print(\"-------------------------------------\")\n",
    "    print(\"SysClk                 : {:g} Hz\".format(sys_freq))\n",
    "    print(\"Counter Bit Nb         : {:g} Bits\".format(bitNb))\n",
    "    print(\"Counter Stepssize      : + {:g}\".format(step))\n",
    "    print(\"Count max value (int)  : {:g}\".format(count_int))\n",
    "    print(\"Count max value (hex)  : 0x{:X}\".format(count_int))\n",
    "\n",
    "    #if False:\n",
    "    #  ## Plot\n",
    "    #  init = 0\n",
    "    #  time = np.linspace(init, (count_int*sys_period), count_int*2) # 1sec in ns steps\n",
    "    #  counter = np.linspace(init,numpy.mod(count_int*2,count_int),count_int*2)\n",
    "\n",
    "    #  # Plot graph  \n",
    "    #  pl.plot(time,counter,label=\"Counter\")\n",
    "    #  #\n",
    "    #  ## Place legend, Axis and Title\n",
    "    #  pl.legend(loc='best')\n",
    "    #  pl.xlabel(\"time [s]\")\n",
    "    #  pl.ylabel(\"Counter Value [int]\")\n",
    "    #  pl.title(\"Counter Waveform\")\n",
    "  \n",
    "calcCounter(freq, sys_freq, step)"
   ]
  },
  {
   "cell_type": "markdown",
   "metadata": {},
   "source": [
    "## KS412S HIB CPLD"
   ]
  },
  {
   "cell_type": "markdown",
   "metadata": {},
   "source": [
    "### Test Counter"
   ]
  },
  {
   "cell_type": "code",
   "execution_count": 6,
   "metadata": {
    "collapsed": false
   },
   "outputs": [
    {
     "name": "stdout",
     "output_type": "stream",
     "text": [
      "Requested Period       : 0.5 s\n",
      "Requested Frequence    : 2 Hz\n",
      "Counter Step           : 1 increment\n",
      "Should count to        : 2.5e+07 counts\n",
      "Result Period          : 0.5 s\n",
      "Result Frequence       : 2 Hz\n",
      "Required Bits          : 26 bits\n",
      "Count to               : 2.5e+07 counts\n",
      "Error                  : 0 %\n",
      "-------------------------------------\n",
      "SysClk                 : 5e+07 Hz\n",
      "Counter Bit Nb         : 26 Bits\n",
      "Counter Stepssize      : + 1\n",
      "Count max value (int)  : 2.5e+07\n",
      "Count max value (hex)  : 0x17D7840\n"
     ]
    }
   ],
   "source": [
    "calcCounter(freq=2, sys_freq=50e6, step=1)"
   ]
  },
  {
   "cell_type": "markdown",
   "metadata": {},
   "source": [
    "### Motor Reset Counter"
   ]
  },
  {
   "cell_type": "code",
   "execution_count": 3,
   "metadata": {
    "collapsed": false
   },
   "outputs": [
    {
     "name": "stdout",
     "output_type": "stream",
     "text": [
      "Requested Period       : 1e-06 s\n",
      "Requested Frequence    : 1e+06 Hz\n",
      "Counter Step           : 1 increment\n",
      "Should count to        : 50 counts\n",
      "Result Period          : 1e-06 s\n",
      "Result Frequence       : 1e+06 Hz\n",
      "Required Bits          : 7 bits\n",
      "Count to               : 50 counts\n",
      "Error                  : 0 %\n",
      "-------------------------------------\n",
      "SysClk                 : 5e+07 Hz\n",
      "Counter Bit Nb         : 7 Bits\n",
      "Counter Stepssize      : + 1\n",
      "Count max value (int)  : 50\n",
      "Count max value (hex)  : 0x32\n"
     ]
    }
   ],
   "source": [
    "calcCounter(1e6, 50e6, 1)"
   ]
  },
  {
   "cell_type": "markdown",
   "metadata": {},
   "source": [
    "## Jetmapping"
   ]
  },
  {
   "cell_type": "markdown",
   "metadata": {},
   "source": [
    "### Hw_Encoder Pulse"
   ]
  },
  {
   "cell_type": "code",
   "execution_count": 4,
   "metadata": {
    "collapsed": false
   },
   "outputs": [],
   "source": [
    "import numpy as np\n",
    "import pylab as pl\n",
    "\n",
    "# User settings\n",
    "incr_quadenc = 500e3       # in [Hz]\n",
    "step         = 26214       # steps per increment\n",
    "maxval       = pow(2,16)-1 # 2^16-1\n",
    "cntbits      = 48"
   ]
  },
  {
   "cell_type": "markdown",
   "metadata": {},
   "source": [
    "# SCLK Counter Xaar"
   ]
  },
  {
   "cell_type": "code",
   "execution_count": 10,
   "metadata": {
    "collapsed": false
   },
   "outputs": [
    {
     "name": "stdout",
     "output_type": "stream",
     "text": [
      "Requested Period       : 1e-06 s\n",
      "Requested Frequence    : 1e+06 Hz\n",
      "Counter Step           : 1 increment\n",
      "Should count to        : 100 counts\n",
      "Result Period          : 1e-06 s\n",
      "Result Frequence       : 1e+06 Hz\n",
      "Required Bits          : 8 bits\n",
      "Count to               : 100 counts\n",
      "Error                  : 0 %\n",
      "-------------------------------------\n",
      "SysClk                 : 1e+08 Hz\n",
      "Counter Bit Nb         : 8 Bits\n",
      "Counter Stepssize      : + 1\n",
      "Count max value (int)  : 100\n",
      "Count max value (hex)  : 0x64\n"
     ]
    },
    {
     "data": {
      "text/plain": [
       "8"
      ]
     },
     "execution_count": 10,
     "metadata": {},
     "output_type": "execute_result"
    }
   ],
   "source": [
    "calcCounter(1e6, 100e6, 1)\n",
    "unsigned_num_bits(128)"
   ]
  }
 ],
 "metadata": {
  "kernelspec": {
   "display_name": "Python 3",
   "language": "python",
   "name": "python3"
  },
  "language_info": {
   "codemirror_mode": {
    "name": "ipython",
    "version": 3
   },
   "file_extension": ".py",
   "mimetype": "text/x-python",
   "name": "python",
   "nbconvert_exporter": "python",
   "pygments_lexer": "ipython3",
   "version": "3.6.5"
  }
 },
 "nbformat": 4,
 "nbformat_minor": 2
}
