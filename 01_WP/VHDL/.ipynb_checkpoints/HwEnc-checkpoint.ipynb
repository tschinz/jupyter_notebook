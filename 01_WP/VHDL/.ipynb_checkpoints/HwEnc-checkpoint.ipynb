{
 "metadata": {
  "name": "",
  "signature": "sha256:ad0ba35e0d227c761afe7daa488bca4957d344e0f30e485b3d325ec61f1887a6"
 },
 "nbformat": 3,
 "nbformat_minor": 0,
 "worksheets": [
  {
   "cells": [
    {
     "cell_type": "markdown",
     "metadata": {},
     "source": [
      "# HwEnc Calculations"
     ]
    },
    {
     "cell_type": "code",
     "collapsed": false,
     "input": [
      "# Function to calculate the Bits needed fo a given number\n",
      "def unsigned_num_bits(num):\n",
      "  _nbits = 1\n",
      "  _n = num\n",
      "  while(_n > 1):\n",
      "    _nbits = _nbits + 1\n",
      "    _n     = _n / 2\n",
      "  return _nbits"
     ],
     "language": "python",
     "metadata": {},
     "outputs": [],
     "prompt_number": 12
    },
    {
     "cell_type": "markdown",
     "metadata": {},
     "source": [
      "## Pixel & SubPixel Calculations\n",
      "$ pixel_{Pitch}=\\frac{25400\\frac{\\mu m}{inch}}{{Resolution}} $\n",
      "\n",
      "$ sub\\_pixel_{Pitch}=\\frac{25400\\frac{\\mu m}{inch}}{{Resolution*NbrOfSubpixels}} $"
     ]
    },
    {
     "cell_type": "code",
     "collapsed": false,
     "input": [
      "resolutions    = [360, 600, 1200, 2400, 4800] # dpi\n",
      "inch2cm        = 2.54 # cm/inch\n",
      "nbrOfSubpixels = 32\n",
      "\n",
      "# Calulation Pixel Pinach\n",
      "pixel_pitch = np.empty(shape=[size(resolutions)], dtype=np.float64) # um\n",
      "for i in range(size(resolutions)):\n",
      "  pixel_pitch[i] = (inch2cm/resolutions[i])*10000\n",
      "\n",
      "# Calculation Subpixel Pinch\n",
      "sub_pixel_pitch = np.empty(shape=[size(resolutions)], dtype=np.float64) # um\n",
      "for i in range(size(resolutions)):\n",
      "  sub_pixel_pitch[i] = pixel_pitch[i]/subpixels\n",
      "  \n",
      "  \n",
      "for i in range(size(resolutions)):\n",
      "  print(\"Resolution: {:4} dpi   Pixel Pitch: {} um   Sub Pixel Pitch: {} um\".format(resolutions[i], pixel_pitch[i], sub_pixel_pitch[i]))"
     ],
     "language": "python",
     "metadata": {},
     "outputs": [
      {
       "output_type": "stream",
       "stream": "stdout",
       "text": [
        "Resolution:  360 dpi   Pixel Pitch: 70.5555555556 um   Sub Pixel Pitch: 2.20486111111 um\n",
        "Resolution:  600 dpi   Pixel Pitch: 42.3333333333 um   Sub Pixel Pitch: 1.32291666667 um\n",
        "Resolution: 1200 dpi   Pixel Pitch: 21.1666666667 um   Sub Pixel Pitch: 0.661458333333 um\n",
        "Resolution: 2400 dpi   Pixel Pitch: 10.5833333333 um   Sub Pixel Pitch: 0.330729166667 um\n",
        "Resolution: 4800 dpi   Pixel Pitch: 5.29166666667 um   Sub Pixel Pitch: 0.165364583333 um\n"
       ]
      }
     ],
     "prompt_number": 3
    },
    {
     "cell_type": "markdown",
     "metadata": {},
     "source": [
      "## Resolution Gain Calculations\n",
      "$Resolution_{Gain} = 2^{16}\\frac{Encoder_{Resolution}}{Input_{Resolution}}$"
     ]
    },
    {
     "cell_type": "code",
     "collapsed": false,
     "input": [
      "encoder_resolution = 2 # um\n",
      "input_resolution   = sub_pixel_pitch\n",
      "\n",
      "gain = np.empty(shape=[size(resolutions)], dtype=np.float64)\n",
      "for i in range(size(resolutions)):\n",
      "  gain[i] = 2**16 * (encoder_resolution/input_resolution[i])\n",
      "\n",
      "for i in range(size(resolutions)):\n",
      "  print(\"Resolution: {:4} dpi   Resolution Gain: {} or 0x{:08X} needs {} Bits\".format(resolutions[i],gain[i],int(gain[i]),unsigned_num_bits(int(gain[i]))))"
     ],
     "language": "python",
     "metadata": {},
     "outputs": [
      {
       "output_type": "stream",
       "stream": "stdout",
       "text": [
        "Resolution:  360 dpi   Resolution Gain: 59446.8283465 or 0x0000E836 needs 16 Bits\n",
        "Resolution:  600 dpi   Resolution Gain: 99078.0472441 or 0x00018306 needs 17 Bits\n",
        "Resolution: 1200 dpi   Resolution Gain: 198156.094488 or 0x0003060C needs 18 Bits\n",
        "Resolution: 2400 dpi   Resolution Gain: 396312.188976 or 0x00060C18 needs 19 Bits\n",
        "Resolution: 4800 dpi   Resolution Gain: 792624.377953 or 0x000C1830 needs 20 Bits\n"
       ]
      }
     ],
     "prompt_number": 15
    },
    {
     "cell_type": "code",
     "collapsed": false,
     "input": [],
     "language": "python",
     "metadata": {},
     "outputs": []
    }
   ],
   "metadata": {}
  }
 ]
}