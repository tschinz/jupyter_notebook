{
 "metadata": {
  "name": "",
  "signature": "sha256:3427b9b5c6329c2a234f69f62a2fc71576896829eb124a9a23465aa038e52c01"
 },
 "nbformat": 3,
 "nbformat_minor": 0,
 "worksheets": [
  {
   "cells": [
    {
     "cell_type": "markdown",
     "metadata": {},
     "source": [
      "# VHDL implementation of Steppermotordriver for L6208PD"
     ]
    },
    {
     "cell_type": "code",
     "collapsed": false,
     "input": [
      "# Function to calculate the Bits needed fo a given number\n",
      "def unsigned_num_bits(num):\n",
      "  _nbits = 1\n",
      "  _n = num\n",
      "  while(_n > 1):\n",
      "    _nbits = _nbits + 1\n",
      "    _n     = _n / 2\n",
      "  return _nbits"
     ],
     "language": "python",
     "metadata": {},
     "outputs": [],
     "prompt_number": 20
    },
    {
     "cell_type": "markdown",
     "metadata": {},
     "source": [
      "## Steppermotor ST4118S0206-A settings\n",
      "Speed = $120\\frac{1}{min}$\n",
      "\n",
      "1 Revolution = $0.5mm$\n",
      "\n",
      "1 Step = $1.8\u00b0$"
     ]
    },
    {
     "cell_type": "markdown",
     "metadata": {},
     "source": [
      "### Distance calulcation"
     ]
    },
    {
     "cell_type": "code",
     "collapsed": false,
     "input": [
      "rev_distance = 0.5 # mm\n",
      "step_angle   = 1.8 # \u00b0\n",
      "\n",
      "# Calculation one Step\n",
      "step_distance = rev_distance/360*step_angle\n",
      "print(\"Step Distance               = {} mm\".format(step_distance))\n",
      "print(\"Step Distance               = {} um\".format(step_distance*1000))\n",
      "\n",
      "# Calculation max and min register position\n",
      "RegBitNb = 32\n",
      "regval_max =  2**(RegBitNb-1)-1\n",
      "regval_min = -2**(RegBitNb-1)\n",
      "\n",
      "step_distance_max = regval_max*step_distance\n",
      "step_distance_min = regval_min*step_distance\n",
      "\n",
      "print(\"Register Position Values    = {} ... {}\".format(regval_max, regval_min))\n",
      "print(\"Position Register distances = {} m ... {} m\".format(step_distance_max/1000, step_distance_min/1000))"
     ],
     "language": "python",
     "metadata": {},
     "outputs": [
      {
       "output_type": "stream",
       "stream": "stdout",
       "text": [
        "Step Distance               = 0.0025 mm\n",
        "Step Distance               = 2.5 um\n",
        "Register Position Values    = 2147483647 ... -2147483648\n",
        "Position Register distances = 5368.7091175 m ... -5368.70912 m\n"
       ]
      }
     ],
     "prompt_number": 21
    },
    {
     "cell_type": "markdown",
     "metadata": {},
     "source": [
      "### Max Frequency calulation\n",
      "$f_{max} = speed * steps = \\frac{1}{s}*1 = \\frac{1}{s} $"
     ]
    },
    {
     "cell_type": "code",
     "collapsed": false,
     "input": [
      "speed_max =  120# rev/min\n",
      "step_angle = 1.8 # \u00b0\n",
      "\n",
      "steps_per_rev = 360/step_angle\n",
      "speed_max_sec = speed_max/60 # rev/sec\n",
      "\n",
      "f_max = speed_max_sec * steps_per_rev\n",
      "print(\"Max Frequency of Steppermotor is {} Hz\".format(f_max))\n"
     ],
     "language": "python",
     "metadata": {},
     "outputs": [
      {
       "output_type": "stream",
       "stream": "stdout",
       "text": [
        "Max Frequency of Steppermotor is 400.0 Hz\n"
       ]
      }
     ],
     "prompt_number": 22
    },
    {
     "cell_type": "markdown",
     "metadata": {},
     "source": [
      "### Max Speed calculations\n",
      "$g\\_MAX\\_SPEED = \\frac{(speed_{resolution}-1)*clk_{freq}}{speed_{max}*steps\\_per\\_rev} = \\frac{([values]-1)*[Hz]}{[\\frac{rev}{s}]*[\\frac{steps}{rev}]}$"
     ]
    },
    {
     "cell_type": "code",
     "collapsed": false,
     "input": [
      "speed_resolution     = 2**8   # different speed values\n",
      "clk_freq             = 100e6  # Hz\n",
      "speed_max            = 120*1/60 # rev/min * min/s = rev/s\n",
      "steps_per_rev        = 200    # steps per revolution\n",
      "\n",
      "g_max_speed = ((speed_resolution-1)*clk_freq)/(speed_max*steps_per_rev)\n",
      "print(\"g_MAX_SPEED = {} needs {} Bits\".format(int(g_max_speed), unsigned_num_bits(int(g_max_speed))))"
     ],
     "language": "python",
     "metadata": {},
     "outputs": [
      {
       "output_type": "stream",
       "stream": "stdout",
       "text": [
        "g_MAX_SPEED = 63750000 needs 26 Bits\n"
       ]
      }
     ],
     "prompt_number": 23
    },
    {
     "cell_type": "markdown",
     "metadata": {},
     "source": [
      "### Max Acceleration calculations\n",
      "$g\\_MAX\\_ACCELERATION = \\frac{speed_{max}*clk_{freq}}{(speed_{resolution}-1)*acceleration\\_speed} = \\frac{[\\frac{rev}{s}]*[Hz]}{([values]-1)*[\\frac{rev}{s^{2}}]}$\n",
      "\n",
      "$g\\_MAX\\_DECCELERATION = \\frac{speed_{max}*clk_{freq}}{(speed_{resolution}-1)*decceleration\\_speed} = \\frac{[\\frac{rev}{s}]*[Hz]}{([values]-1)*[\\frac{rev}{s^{2}}]}$"
     ]
    },
    {
     "cell_type": "code",
     "collapsed": false,
     "input": [
      "speed_resolution     = 2**8   # different speed values\n",
      "clk_freq             = 100e6  # Hz\n",
      "speed_max            = 120*1/60 # rev/min * min/s = rev/s\n",
      "\n",
      "max_acceleration_time = 2 # seconds from 0 to max speed\n",
      "max_acceleration_rev  = speed_max/max_acceleration_time # rev/s^2\n",
      "\n",
      "max_decceleration_time = 1 # seconds from max to 0 speed\n",
      "max_decceleration_rev  = speed_max/max_decceleration_time # rev/s^2\n",
      "\n",
      "g_max_acceleration  = (speed_max*clk_freq)/((speed_resolution-1)*max_acceleration_rev)\n",
      "g_max_decceleration = (speed_max*clk_freq)/((speed_resolution-1)*max_decceleration_rev)\n",
      "\n",
      "print(\"g_MAX_ACCELERATION  = {} needs {} Bits\".format(int(g_max_acceleration),unsigned_num_bits(int(g_max_acceleration))))\n",
      "print(\"g_MAX_DECCELERATION = {} needs {} Bits\".format(int(g_max_decceleration),unsigned_num_bits(int(g_max_decceleration))))"
     ],
     "language": "python",
     "metadata": {},
     "outputs": [
      {
       "output_type": "stream",
       "stream": "stdout",
       "text": [
        "g_MAX_ACCELERATION  = 784313 needs 20 Bits\n",
        "g_MAX_DECCELERATION = 392156 needs 19 Bits\n"
       ]
      }
     ],
     "prompt_number": 24
    },
    {
     "cell_type": "markdown",
     "metadata": {},
     "source": [
      "### Speed intended calculations\n",
      "$ speed_{indended} = \\sqrt[2]{2*g\\_MAX\\_ACCELERATION*|position_{difference}|} $"
     ]
    },
    {
     "cell_type": "code",
     "collapsed": false,
     "input": [
      "from math import sqrt\n",
      "speed_resolution      = 2**8 # different speed values\n",
      "speed_max             = 120*1/60 # rev/min * min/s = rev/s\n",
      "max_acceleration_time = 2 # seconds from 0 to max speed\n",
      "max_acceleration_rev  = speed_max/max_acceleration_time # rev/s^2\n",
      "\n",
      "for position_difference in [0,1,2,4,8,16,32,64,128,256,512,1024,2048,4096,8192,16384,32768,65536]:\n",
      "  speed_intended = round(sqrt(2*max_acceleration_rev*position_difference))\n",
      "  if speed_intended > speed_resolution-1:\n",
      "    speed_intended = speed_resolution-1\n",
      "  print(\"speed_intended: {:3} @ position_difference: {:5}\".format(int(speed_intended),position_difference))"
     ],
     "language": "python",
     "metadata": {},
     "outputs": [
      {
       "output_type": "stream",
       "stream": "stdout",
       "text": [
        "speed_intended:   0 @ position_difference:     0\n",
        "speed_intended:   1 @ position_difference:     1\n",
        "speed_intended:   2 @ position_difference:     2\n",
        "speed_intended:   3 @ position_difference:     4\n",
        "speed_intended:   4 @ position_difference:     8\n",
        "speed_intended:   6 @ position_difference:    16\n",
        "speed_intended:   8 @ position_difference:    32\n",
        "speed_intended:  11 @ position_difference:    64\n",
        "speed_intended:  16 @ position_difference:   128\n",
        "speed_intended:  23 @ position_difference:   256\n",
        "speed_intended:  32 @ position_difference:   512\n",
        "speed_intended:  45 @ position_difference:  1024\n",
        "speed_intended:  64 @ position_difference:  2048\n",
        "speed_intended:  91 @ position_difference:  4096\n",
        "speed_intended: 128 @ position_difference:  8192\n",
        "speed_intended: 181 @ position_difference: 16384\n",
        "speed_intended: 255 @ position_difference: 32768\n",
        "speed_intended: 255 @ position_difference: 65536\n"
       ]
      }
     ],
     "prompt_number": 25
    },
    {
     "cell_type": "code",
     "collapsed": false,
     "input": [
      "import numpy as np\n",
      "import pylab as pl\n",
      "pl.clf()\n",
      "nbrOfPoints = 500\n",
      "position_difference = np.linspace(0,nbrOfPoints,nbrOfPoints)\n",
      "\n",
      "speed_intended = np.empty(shape=[size(position_difference)], dtype=np.float64)\n",
      "for i in range(size(position_difference)):\n",
      "  speed_intended[i] = round(sqrt(2*max_acceleration_rev*position_difference[i]))\n",
      "  if speed_intended[i] > speed_resolution-1:\n",
      "    speed_intended[i] = speed_resolution-1\n",
      "# Plot graph\n",
      "pl.plot(position_difference,speed_intended)#,label=\"$sqrt(2*max_acc*pos_dif)$\")\n",
      "\n",
      "# Place legend, Axis and Title\n",
      "#pl.legend(loc='best')\n",
      "pl.xlabel(\"PositionDifference [Steps]\")\n",
      "pl.ylabel(\"Speed [0-255]\")\n",
      "pl.title(\"Acceleration & Deccleration\")"
     ],
     "language": "python",
     "metadata": {},
     "outputs": [
      {
       "metadata": {},
       "output_type": "pyout",
       "prompt_number": 26,
       "text": [
        "<matplotlib.text.Text at 0xa8e3128>"
       ]
      },
      {
       "metadata": {},
       "output_type": "display_data",
       "png": "[encoded data removed]",
       "text": [
        "<matplotlib.figure.Figure at 0xa2af4e0>"
       ]
      }
     ],
     "prompt_number": 26
    },
    {
     "cell_type": "markdown",
     "metadata": {},
     "source": [
      "### Max Step Frequency"
     ]
    },
    {
     "cell_type": "markdown",
     "metadata": {},
     "source": [
      "$g\\_STEP\\_FREQ = \\frac{f_{clk}}{f\\_step\\_driver_{max}}$\n",
      "\n",
      "For $f\\_step\\_driver_{max}$ see datasheet motor driver (L6208 = $100kHz$)"
     ]
    },
    {
     "cell_type": "code",
     "collapsed": false,
     "input": [
      "f_clk      = 100e6 # Hz\n",
      "f_step_max = 100e3 # Hz\n",
      "\n",
      "g_step_freq = f_clk/f_step_max\n",
      "print(\"Number of steps for max step frequency: {} needs {} Bits\".format(int(g_step_freq), unsigned_num_bits(g_step_freq)))"
     ],
     "language": "python",
     "metadata": {},
     "outputs": [
      {
       "output_type": "stream",
       "stream": "stdout",
       "text": [
        "Number of steps for max step frequency: 1000 needs 11 Bits\n"
       ]
      }
     ],
     "prompt_number": 27
    }
   ],
   "metadata": {}
  }
 ]
}