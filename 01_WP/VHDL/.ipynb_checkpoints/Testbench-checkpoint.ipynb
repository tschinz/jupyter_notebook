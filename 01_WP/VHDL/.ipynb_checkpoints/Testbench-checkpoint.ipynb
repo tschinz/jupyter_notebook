{
 "cells": [
  {
   "cell_type": "markdown",
   "metadata": {},
   "source": [
    "## unsigned_num_bits()\n",
    "Testing function unsigned_num_bit() from the\n",
    "    \n",
    "    JetMapping_defs_pkg.vhd"
   ]
  },
  {
   "cell_type": "code",
   "execution_count": 1,
   "metadata": {
    "collapsed": false
   },
   "outputs": [
    {
     "name": "stdout",
     "output_type": "stream",
     "text": [
      "Testing Function unsigned_num_bits()\n",
      "    unsigned_num_bits(   1) =   1\n",
      "    unsigned_num_bits(   2) =   2\n",
      "    unsigned_num_bits(   3) =   3\n",
      "    unsigned_num_bits(   3) =   3\n",
      "    unsigned_num_bits(   4) =   3\n",
      "    unsigned_num_bits(   5) =   4\n",
      "    unsigned_num_bits(   7) =   4\n",
      "    unsigned_num_bits(   8) =   4\n",
      "    unsigned_num_bits(   9) =   5\n",
      "    unsigned_num_bits(  15) =   5\n",
      "    unsigned_num_bits(  16) =   5\n",
      "    unsigned_num_bits(  17) =   6\n",
      "    unsigned_num_bits(  31) =   6\n",
      "    unsigned_num_bits(  32) =   6\n",
      "    unsigned_num_bits(  33) =   7\n",
      "    unsigned_num_bits(  63) =   7\n",
      "    unsigned_num_bits(  64) =   7\n",
      "    unsigned_num_bits(  65) =   8\n",
      "    unsigned_num_bits( 127) =   8\n",
      "    unsigned_num_bits( 128) =   8\n",
      "    unsigned_num_bits( 129) =   9\n",
      "    unsigned_num_bits( 255) =   9\n",
      "    unsigned_num_bits( 256) =   9\n",
      "    unsigned_num_bits( 257) =  10\n",
      "    unsigned_num_bits( 511) =  10\n",
      "    unsigned_num_bits( 512) =  10\n",
      "    unsigned_num_bits( 513) =  11\n",
      "    unsigned_num_bits(1023) =  11\n",
      "    unsigned_num_bits(1024) =  11\n",
      "    unsigned_num_bits(1025) =  12\n"
     ]
    }
   ],
   "source": [
    "# vhdl function ported to python\n",
    "def unsigned_num_bits(num):\n",
    "  _nbits = 1\n",
    "  _n = num\n",
    "  while(_n > 1):\n",
    "    _nbits = _nbits + 1\n",
    "    _n     = _n / 2\n",
    "  return _nbits\n",
    "\n",
    "# Test function\n",
    "print(\"Testing Function unsigned_num_bits()\")\n",
    "maxPowOf2 = 10\n",
    "for i in range(1, maxPowOf2+1):\n",
    "  for offset in range(-1, 2):\n",
    "    value = 2**i + offset\n",
    "    bitNb = unsigned_num_bits(value)\n",
    "    print(\"    unsigned_num_bits({:4}) = {:3}\".format(value, bitNb))\n",
    "  print"
   ]
  },
  {
   "cell_type": "markdown",
   "metadata": {},
   "source": [
    "## Dummy test calc or Xaar1003"
   ]
  },
  {
   "cell_type": "code",
   "execution_count": 5,
   "metadata": {
    "collapsed": false
   },
   "outputs": [
    {
     "name": "stdout",
     "output_type": "stream",
     "text": [
      "data_vector = 191 downto 0\n",
      "addr_size = 1.0 , txdata_size = 24.0\n",
      " counter =  0 , 191.0 downto 184.0\n",
      " counter =  1 , 183.0 downto 176.0\n",
      " counter =  2 , 175.0 downto 168.0\n",
      " counter =  3 , 167.0 downto 160.0\n",
      " counter =  4 , 159.0 downto 152.0\n",
      " counter =  5 , 151.0 downto 144.0\n",
      " counter =  6 , 143.0 downto 136.0\n",
      " counter =  7 , 135.0 downto 128.0\n",
      " counter =  8 , 127.0 downto 120.0\n",
      " counter =  9 , 119.0 downto 112.0\n",
      " counter = 10 , 111.0 downto 104.0\n",
      " counter = 11 , 103.0 downto 96.0\n",
      " counter = 12 , 95.0 downto 88.0\n",
      " counter = 13 , 87.0 downto 80.0\n",
      " counter = 14 , 79.0 downto 72.0\n",
      " counter = 15 , 71.0 downto 64.0\n",
      " counter = 16 , 63.0 downto 56.0\n",
      " counter = 17 , 55.0 downto 48.0\n",
      " counter = 18 , 47.0 downto 40.0\n",
      " counter = 19 , 39.0 downto 32.0\n",
      " counter = 20 , 31.0 downto 24.0\n",
      " counter = 21 , 23.0 downto 16.0\n",
      " counter = 22 , 15.0 downto 8.0\n",
      " counter = 23 , 7.0 downto 0.0\n",
      " counter = 24 , -1.0 downto -8.0\n",
      "24.0\n"
     ]
    }
   ],
   "source": [
    "ADDRESS_REGISTER_SIZE = 8\n",
    "COMMAND_REGISTER_SIZE = 24\n",
    "TXDATA_MAXSIZE = 24\n",
    "\n",
    "print(\"data_vector = {} downto {}\".format(TXDATA_MAXSIZE*8-1, 0))\n",
    "\n",
    "addr_size = ADDRESS_REGISTER_SIZE/8\n",
    "txdata_size = (COMMAND_REGISTER_SIZE/8)*8\n",
    "print(\"addr_size = {} , txdata_size = {}\".format(addr_size, txdata_size))\n",
    "for counter in range(int(addr_size+txdata_size)):\n",
    "  high = (addr_size + txdata_size - counter - 1) * 8 - 1\n",
    "  low  = ((addr_size + txdata_size - counter - 2) * 8)\n",
    "  \n",
    "  print(\" counter = {:2} , {:3} downto {:3}\".format(counter, high, low))\n",
    "print(\"{}\".format(addr_size + txdata_size -1))"
   ]
  }
 ],
 "metadata": {
  "kernelspec": {
   "display_name": "Python 3",
   "language": "python",
   "name": "python3"
  },
  "language_info": {
   "codemirror_mode": {
    "name": "ipython",
    "version": 3
   },
   "file_extension": ".py",
   "mimetype": "text/x-python",
   "name": "python",
   "nbconvert_exporter": "python",
   "pygments_lexer": "ipython3",
   "version": "3.6.5"
  }
 },
 "nbformat": 4,
 "nbformat_minor": 2
}
