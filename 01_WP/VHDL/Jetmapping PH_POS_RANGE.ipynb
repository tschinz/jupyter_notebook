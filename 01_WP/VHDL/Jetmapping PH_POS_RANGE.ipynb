{
 "metadata": {
  "name": "",
  "signature": "sha256:99cf11878582d0d110628a2b53709ecb7c6509a9f58632395f5fc2cf1153f23b"
 },
 "nbformat": 3,
 "nbformat_minor": 0,
 "worksheets": [
  {
   "cells": [
    {
     "cell_type": "markdown",
     "metadata": {},
     "source": [
      "# Jetmapping Table Pos Range X and Y and Addr Range"
     ]
    },
    {
     "cell_type": "markdown",
     "metadata": {},
     "source": [
      "The calculated values are minium values. The actual values can be seen in the Jetmapping_table.xlsm"
     ]
    },
    {
     "cell_type": "code",
     "collapsed": false,
     "input": [
      "import math\n",
      "\n",
      "def ph_pos_range_calc(pos_max_x, pos_max_y):\n",
      "  ph_pos_range_x = log(pos_max_x)/log(2)\n",
      "  ph_pos_range_y = log(pos_max_y)/log(2)\n",
      "  print(\"Pos Range X    : {:.5} => {:2}bit\".format(ph_pos_range_x, int(ceil(ph_pos_range_x))))\n",
      "  print(\"Pos Range Y    : {:.5} => {:2}bit\".format(ph_pos_range_y, int(ceil(ph_pos_range_y))))\n",
      "  \n",
      "\n",
      "def ph_pos_addr_range_calc(nozzle_nbr):\n",
      "  ph_pos_addr_range = log(nozzle_nbr)/log(2)\n",
      "  print(\"Pos Addr Range : {:.5} => {:2}bit\".format(ph_pos_addr_range, int(ceil(ph_pos_addr_range))))"
     ],
     "language": "python",
     "metadata": {},
     "outputs": [],
     "prompt_number": 49
    },
    {
     "cell_type": "markdown",
     "metadata": {},
     "source": [
      "## Kyocera KJ4B 40kHz"
     ]
    },
    {
     "cell_type": "code",
     "collapsed": false,
     "input": [
      "ph_pos_range_calc(480, 2753)\n",
      "ph_pos_addr_range_calc(2655)"
     ],
     "language": "python",
     "metadata": {},
     "outputs": [
      {
       "output_type": "stream",
       "stream": "stdout",
       "text": [
        "Pos Range X    : 8.9069 =>  9bit\n",
        "Pos Range Y    : 11.427 => 12bit\n",
        "Pos Addr Range : 11.374 => 12bit\n"
       ]
      }
     ],
     "prompt_number": 50
    },
    {
     "cell_type": "markdown",
     "metadata": {},
     "source": [
      "## Kyocera KJ4B STDV 30k"
     ]
    },
    {
     "cell_type": "code",
     "collapsed": false,
     "input": [
      "ph_pos_range_calc(396, 2753)\n",
      "ph_pos_addr_range_calc(2655)"
     ],
     "language": "python",
     "metadata": {},
     "outputs": [
      {
       "output_type": "stream",
       "stream": "stdout",
       "text": [
        "Pos Range X    : 8.6294 =>  9bit\n",
        "Pos Range Y    : 11.427 => 12bit\n",
        "Pos Addr Range : 11.374 => 12bit\n"
       ]
      }
     ],
     "prompt_number": 51
    },
    {
     "cell_type": "markdown",
     "metadata": {},
     "source": [
      "## Kyocera KJ4B PT1V 30k"
     ]
    },
    {
     "cell_type": "code",
     "collapsed": false,
     "input": [
      "ph_pos_range_calc(396, 2753)\n",
      "ph_pos_addr_range_calc(2655)"
     ],
     "language": "python",
     "metadata": {},
     "outputs": [
      {
       "output_type": "stream",
       "stream": "stdout",
       "text": [
        "Pos Range X    : 8.6294 =>  9bit\n",
        "Pos Range Y    : 11.427 => 12bit\n",
        "Pos Addr Range : 11.374 => 12bit\n"
       ]
      }
     ],
     "prompt_number": 52
    },
    {
     "cell_type": "markdown",
     "metadata": {},
     "source": [
      "## Kyocera KJ4B_1200_64k"
     ]
    },
    {
     "cell_type": "code",
     "collapsed": false,
     "input": [
      "ph_pos_range_calc(1520, 5312)\n",
      "ph_pos_addr_range_calc(6639)"
     ],
     "language": "python",
     "metadata": {},
     "outputs": [
      {
       "output_type": "stream",
       "stream": "stdout",
       "text": [
        "Pos Range X    : 10.57 => 11bit\n",
        "Pos Range Y    : 12.375 => 13bit\n",
        "Pos Addr Range : 12.697 => 13bit\n"
       ]
      }
     ],
     "prompt_number": 53
    }
   ],
   "metadata": {}
  }
 ]
}