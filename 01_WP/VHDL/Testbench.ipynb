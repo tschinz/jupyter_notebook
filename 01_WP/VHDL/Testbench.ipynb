{
 "metadata": {
  "name": "",
  "signature": "sha256:2dbe2d3eb39987f0e1f39e8161bed06edc636a2fe15481d93d298a0529d4b604"
 },
 "nbformat": 3,
 "nbformat_minor": 0,
 "worksheets": [
  {
   "cells": [
    {
     "cell_type": "markdown",
     "metadata": {},
     "source": [
      "## unsigned_num_bits()\n",
      "Testing function unsigned_num_bit() from the\n",
      "    \n",
      "    JetMapping_defs_pkg.vhd"
     ]
    },
    {
     "cell_type": "code",
     "collapsed": false,
     "input": [
      "# vhdl function ported to python\n",
      "def unsigned_num_bits(num):\n",
      "  _nbits = 1\n",
      "  _n = num\n",
      "  while(_n > 1):\n",
      "    _nbits = _nbits + 1\n",
      "    _n     = _n / 2\n",
      "  return _nbits\n",
      "\n",
      "# Test function\n",
      "print(\"Testing Function unsigned_num_bits()\")\n",
      "maxPowOf2 = 10\n",
      "for i in range(1, maxPowOf2+1):\n",
      "  for offset in range(-1, 2):\n",
      "    value = 2**i + offset\n",
      "    bitNb = unsigned_num_bits(value)\n",
      "    print(\"    unsigned_num_bits({:4}) = {:3}\".format(value, bitNb))\n",
      "  print"
     ],
     "language": "python",
     "metadata": {},
     "outputs": [
      {
       "output_type": "stream",
       "stream": "stdout",
       "text": [
        "Testing Function unsigned_num_bits()\n",
        "    unsigned_num_bits(   1) =   1\n",
        "    unsigned_num_bits(   2) =   2\n",
        "    unsigned_num_bits(   3) =   2\n",
        "\n",
        "    unsigned_num_bits(   3) =   2\n",
        "    unsigned_num_bits(   4) =   3\n",
        "    unsigned_num_bits(   5) =   3\n",
        "\n",
        "    unsigned_num_bits(   7) =   3\n",
        "    unsigned_num_bits(   8) =   4\n",
        "    unsigned_num_bits(   9) =   4\n",
        "\n",
        "    unsigned_num_bits(  15) =   4\n",
        "    unsigned_num_bits(  16) =   5\n",
        "    unsigned_num_bits(  17) =   5\n",
        "\n",
        "    unsigned_num_bits(  31) =   5\n",
        "    unsigned_num_bits(  32) =   6\n",
        "    unsigned_num_bits(  33) =   6\n",
        "\n",
        "    unsigned_num_bits(  63) =   6\n",
        "    unsigned_num_bits(  64) =   7\n",
        "    unsigned_num_bits(  65) =   7\n",
        "\n",
        "    unsigned_num_bits( 127) =   7\n",
        "    unsigned_num_bits( 128) =   8\n",
        "    unsigned_num_bits( 129) =   8\n",
        "\n",
        "    unsigned_num_bits( 255) =   8\n",
        "    unsigned_num_bits( 256) =   9\n",
        "    unsigned_num_bits( 257) =   9\n",
        "\n",
        "    unsigned_num_bits( 511) =   9\n",
        "    unsigned_num_bits( 512) =  10\n",
        "    unsigned_num_bits( 513) =  10\n",
        "\n",
        "    unsigned_num_bits(1023) =  10\n",
        "    unsigned_num_bits(1024) =  11\n",
        "    unsigned_num_bits(1025) =  11\n",
        "\n"
       ]
      }
     ],
     "prompt_number": 1
    },
    {
     "cell_type": "code",
     "collapsed": false,
     "input": [],
     "language": "python",
     "metadata": {},
     "outputs": []
    }
   ],
   "metadata": {}
  }
 ]
}