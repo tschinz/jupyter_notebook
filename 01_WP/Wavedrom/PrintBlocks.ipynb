{
 "cells": [
  {
   "cell_type": "markdown",
   "metadata": {},
   "source": [
    "# PrintBuffer\n"
   ]
  },
  {
   "cell_type": "code",
   "execution_count": 1,
   "metadata": {
    "collapsed": false,
    "scrolled": false
   },
   "outputs": [],
   "source": [
    "import wavedrom\n",
    "\n",
    "signal_in = ['input', \n",
    "      {'name': 'register',      'wave': '010....|.10...' , 'node': '.a.......b..'},\n",
    "      {'name': 'pContainer',    'wave': 'x3.x...|.4.x..' , 'data': ['pC1', 'pC2'], 'phase': 0.5},\n",
    "      {'name': 'trig',          'wave': 'pPp....|.Pp...'},\n",
    "      {'name': 'position',      'wave': '=======|......' , 'data': ['p0','p1','p2','p3','p4','p5','p..']},\n",
    "      {'name': 'Count',         'wave': '==.....|.=....' , 'data': ['0', '1', '2']},\n",
    "      {'name': 'first',         'wave': '=......|......' , 'data': ['1']},\n",
    "      {'name': 'next',          'wave': '==.....|.=....' , 'data': ['1', '2', '3']}\n",
    "    ]\n",
    "\n",
    "signal_out = ['output',\n",
    "      {'name': 'shifted trig.', 'wave': '0....1..0..|....' , 'node': '.....e..f..'},\n",
    "      {'name': 'pContainer',    'wave': 'x....3..x..|....' , 'data': ['pC1', 'pC2']},\n",
    "      {'name': 'Count',         'wave': '=.......=..|....' , 'data': ['1', '0']},\n",
    "      {'name': 'first',         'wave': '=.......=..|....' , 'data': ['1', '2']},\n",
    "      {'name': 'next',          'wave': '=..........|....' , 'data': ['2', '3']}\n",
    "    ]\n",
    "\n",
    "\n",
    "wave_json = { \n",
    "    # Wavedrom Config\n",
    "  'config': { \n",
    "    'hscale': 1,      # horizontal scale\n",
    "    'skin':'default', # narrow\n",
    "  },\n",
    "  # Title\n",
    "  'head':{\n",
    "     'text':'PrintBuffer timing',\n",
    "     'tick':0, # Numeration top\n",
    "  },\n",
    "  # Signal\n",
    "  'signal': [signal_in, signal_out],\n",
    "  \n",
    "  # Arrows\n",
    "  'edge': [\n",
    "    'a<->b t_cycle',\n",
    "    'a~>e t_shift',\n",
    "    'e<->f t_trigger',\n",
    "  ],\n",
    "    # Footer\n",
    "  'foot': {\n",
    "    'text':['tspan', 'brm 09.05.2017',\n",
    "    ],\n",
    "    'tock':0, # Numeration bottom\n",
    "  },\n",
    "}\n",
    "\n",
    "wavedrom.draw_wavedrom(wave_json)"
   ]
  }
 ],
 "metadata": {
  "kernelspec": {
   "display_name": "Python 3",
   "language": "python",
   "name": "python3"
  },
  "language_info": {
   "codemirror_mode": {
    "name": "ipython",
    "version": 3
   },
   "file_extension": ".py",
   "mimetype": "text/x-python",
   "name": "python",
   "nbconvert_exporter": "python",
   "pygments_lexer": "ipython3",
   "version": "3.6.5"
  }
 },
 "nbformat": 4,
 "nbformat_minor": 2
}
