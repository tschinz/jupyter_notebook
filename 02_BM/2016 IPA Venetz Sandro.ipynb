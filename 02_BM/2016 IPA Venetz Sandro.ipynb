{
 "cells": [
  {
   "cell_type": "markdown",
   "metadata": {},
   "source": [
    "# Venetz Sandro IPA Berechnungen\n",
    "Lines of code\n",
    " find . -name '*.asp' | xargs wc -l\n",
    "     193 ./Client/Bewertungsformular/Rating.asp\n",
    "     127 ./Client/Bewertungsformular/Rating_Save.asp\n",
    "     405 ./Client/Home.asp\n",
    "      64 ./Client/index.asp\n",
    "     132 ./Client/Ticket/overview.asp\n",
    "    1313 ./Support/constTicket.asp\n",
    "     160 ./Support/Settings/EmailTexte/add.asp\n",
    "      42 ./Support/Settings/EmailTexte/addSave.asp\n",
    "      12 ./Support/Settings/EmailTexte/delete.asp\n",
    "     177 ./Support/Settings/EmailTexte/modify.asp\n",
    "      43 ./Support/Settings/EmailTexte/modifySave.asp\n",
    "     120 ./Support/Settings/EmailTexte/Overview.asp\n",
    "     114 ./Support/Settings/ForwardAdr/add.asp\n",
    "      21 ./Support/Settings/ForwardAdr/addSave.asp\n",
    "      10 ./Support/Settings/ForwardAdr/delete.asp\n",
    "     125 ./Support/Settings/ForwardAdr/modify.asp\n",
    "      22 ./Support/Settings/ForwardAdr/modifySave.asp\n",
    "     116 ./Support/Settings/ForwardAdr/overview.asp\n",
    "      56 ./Support/Settings/MailKonto/connectionTestIMAP.asp\n",
    "      48 ./Support/Settings/MailKonto/connectionTestSMTP.asp\n",
    "     484 ./Support/Settings/MailKonto/Overview.asp\n",
    "      59 ./Support/Settings/MailKonto/Save.asp\n",
    "     141 ./Support/Settings/Status/add.asp\n",
    "      35 ./Support/Settings/Status/addSave.asp\n",
    "      12 ./Support/Settings/Status/delete.asp\n",
    "     216 ./Support/Settings/Status/modify.asp\n",
    "      63 ./Support/Settings/Status/modifySave.asp\n",
    "     201 ./Support/Settings/Status/overview.asp\n",
    "     974 ./Support/Statistik/Statistik.asp\n",
    "     281 ./Support/Tickets/addTicket.asp\n",
    "      81 ./Support/Tickets/addTicketFromEmail.asp\n",
    "     108 ./Support/Tickets/addTicketSave.asp\n",
    "     228 ./Support/Tickets/AJAX_Overview.asp\n",
    "     140 ./Support/Tickets/bewertung.asp\n",
    "     241 ./Support/Tickets/Clients/addTicketClient.asp\n",
    "     120 ./Support/Tickets/Clients/addTicketClientSave.asp\n",
    "     244 ./Support/Tickets/Clients/AJAX_Overview.asp\n",
    "      81 ./Support/Tickets/Clients/navbar.asp\n",
    "     393 ./Support/Tickets/Clients/overview.asp\n",
    "     148 ./Support/Tickets/Clients/timeline.asp\n",
    "     133 ./Support/Tickets/cloneTicket.asp\n",
    "      90 ./Support/Tickets/cloneTicketSave.asp\n",
    "      16 ./Support/Tickets/deleteTicket.asp\n",
    "     358 ./Support/Tickets/Dokumente/Modify_Dokumente.asp\n",
    "      51 ./Support/Tickets/Dokumente/Modify_Dokumente_Operations.asp\n",
    "      41 ./Support/Tickets/Dokumente/Modify_Dokumente_Upload.asp\n",
    "     412 ./Support/Tickets/modifyTicket.asp\n",
    "     251 ./Support/Tickets/modifyTicketSave.asp\n",
    "     189 ./Support/Tickets/navbar.asp\n",
    "      27 ./Support/Tickets/Notizen/addNotizSave.asp\n",
    "      49 ./Support/Tickets/Notizen/AJAX_Notizen.asp\n",
    "     292 ./Support/Tickets/Notizen/overview.asp\n",
    "     382 ./Support/Tickets/overview.asp\n",
    "      20 ./Support/Tickets/sendMail.asp\n",
    "     193 ./Support/Tickets/timeline.asp\n",
    "     186 ./Support/Tickets/Zeiterfassung/addZeit.asp\n",
    "      28 ./Support/Tickets/Zeiterfassung/addZeitSave.asp\n",
    "     237 ./Support/Tickets/Zeiterfassung/AJAX_Zeiterfassung.asp\n",
    "      12 ./Support/Tickets/Zeiterfassung/deleteZeit.asp\n",
    "     157 ./Support/Tickets/Zeiterfassung/modifyZeit.asp\n",
    "      29 ./Support/Tickets/Zeiterfassung/modifyZeitSave.asp\n",
    "     208 ./Support/Tickets/Zeiterfassung/overview.asp\n",
    "     112 ./Support/Tickets/Zeiterfassung/saveArbeiter.asp\n",
    "   11023 total\n"
   ]
  },
  {
   "cell_type": "code",
   "execution_count": 5,
   "metadata": {
    "collapsed": false
   },
   "outputs": [
    {
     "name": "stdout",
     "output_type": "stream",
     "text": [
      "Time per line 43.5453143427 sec\n"
     ]
    }
   ],
   "source": [
    "loc   = 11023 # lines\n",
    "hours = 80    # hours\n",
    "overhead = 0.4\n",
    "timeperline = hours*60.0*60.0/(loc*(1-overhead))\n",
    "print(\"Time per line {} sec\".format(timeperline))"
   ]
  },
  {
   "cell_type": "code",
   "execution_count": null,
   "metadata": {
    "collapsed": true
   },
   "outputs": [],
   "source": []
  }
 ],
 "metadata": {
  "kernelspec": {
   "display_name": "Python 2",
   "language": "python",
   "name": "python2"
  },
  "language_info": {
   "codemirror_mode": {
    "name": "ipython",
    "version": 2
   },
   "file_extension": ".py",
   "mimetype": "text/x-python",
   "name": "python",
   "nbconvert_exporter": "python",
   "pygments_lexer": "ipython2",
   "version": "2.7.11"
  }
 },
 "nbformat": 4,
 "nbformat_minor": 0
}
