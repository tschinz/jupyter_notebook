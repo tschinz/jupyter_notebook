{
 "cells": [
  {
   "cell_type": "code",
   "execution_count": 1,
   "metadata": {
    "collapsed": true
   },
   "outputs": [],
   "source": [
    "def calcMark(a,b,c):\n",
    "  print(\"A={} B={} C={}\".format(a, b, c))\n",
    "  mark = 5*(float(a) + 2*float(b) + float(c))/69 + 1\n",
    "  print(\"Note ist: {}\".format(round(mark,1)))"
   ]
  },
  {
   "cell_type": "code",
   "execution_count": 2,
   "metadata": {},
   "outputs": [
    {
     "name": "stdout",
     "output_type": "stream",
     "text": [
      "A=14 B=9 C=22\n",
      "Note ist: 4.9\n"
     ]
    }
   ],
   "source": [
    "# Beeler Steven\n",
    "a=3+2+2+2+2+3\n",
    "b=2+2+3+2\n",
    "c=2+2+3+2+2+3 +2+3+3\n",
    "calcMark(a,b,c)"
   ]
  },
  {
   "cell_type": "code",
   "execution_count": 3,
   "metadata": {},
   "outputs": [
    {
     "name": "stdout",
     "output_type": "stream",
     "text": [
      "A=15 B=10 C=22\n",
      "Note ist: 5.1\n"
     ]
    }
   ],
   "source": [
    "# Schnydrig Marc\n",
    "a=3+2+2+3+2+3\n",
    "b=3+3+2+2\n",
    "c=3+3+2+3+2+3+2+3+1\n",
    "calcMark(a,b,c)"
   ]
  },
  {
   "cell_type": "code",
   "execution_count": 4,
   "metadata": {
    "collapsed": true
   },
   "outputs": [],
   "source": [
    "import math\n",
    "def half_note_round(note):\n",
    "    note = tenth_note_round(note)\n",
    "    if note <= 1.2:\n",
    "        return 1.0\n",
    "    elif note > 1.2 and note <= 1.7:\n",
    "        return 1.5\n",
    "    elif note > 1.7 and note <= 2.2:\n",
    "        return 2.0\n",
    "    elif note > 2.2 and note <= 2.7:\n",
    "        return 2.5\n",
    "    elif note > 2.7 and note <= 3.2:\n",
    "        return 3.0\n",
    "    elif note > 3.2 and note <= 3.7:\n",
    "        return 3.5\n",
    "    elif note > 3.7 and note <= 4.2:\n",
    "        return 4.0\n",
    "    elif note > 4.2 and note <= 4.7:\n",
    "        return 4.5\n",
    "    elif note > 4.7 and note <= 5.2:\n",
    "        return 5.0\n",
    "    elif note > 5.2 and note <= 5.7:\n",
    "        return 5.5\n",
    "    elif note > 5.7:\n",
    "        return 6.0\n",
    "\n",
    "def my_round(x):\n",
    "    return int(x + math.copysign(0.5, x))\n",
    "\n",
    "def tenth_note_round(note):\n",
    "    return my_round(note*10)/10"
   ]
  },
  {
   "cell_type": "code",
   "execution_count": 5,
   "metadata": {
    "collapsed": true
   },
   "outputs": [],
   "source": [
    "def calc_note(points_a, points_b, points_c):\n",
    "    points_a_max = 39\n",
    "    points_b_max = 30\n",
    "    points_c_max = 30\n",
    "    note_a = (5*points_a/points_a_max)+1\n",
    "    note_b = (5*points_b/points_b_max)+1\n",
    "    note_c = (5*points_c/points_c_max)+1\n",
    "    note_total = half_note_round(note_a)*0.5+half_note_round(note_b)*0.25+half_note_round(note_c)*0.25\n",
    "    print(\"Note Partie A: {}/{}Pt = {} = {}\".format(points_a, points_a_max, note_a, half_note_round(note_a)))\n",
    "    print(\"Note Partie B: {}/{}Pt = {} = {}\".format(points_b, points_b_max, note_b, half_note_round(note_b)))\n",
    "    print(\"Note Partie C: {}/{}Pt = {} = {}\".format(points_c, points_c_max, note_c, half_note_round(note_c)))\n",
    "    print(\"Note Total: {} = {}\".format(note_total, tenth_note_round(note_total)))"
   ]
  },
  {
   "cell_type": "code",
   "execution_count": 6,
   "metadata": {},
   "outputs": [
    {
     "name": "stdout",
     "output_type": "stream",
     "text": [
      "Note Partie A: 26/39Pt = 4.333333333333334 = 4.5\n",
      "Note Partie B: 17/30Pt = 3.8333333333333335 = 4.0\n",
      "Note Partie C: 23/30Pt = 4.833333333333334 = 5.0\n",
      "Note Total: 4.5 = 4.5\n"
     ]
    }
   ],
   "source": [
    "calc_note(26, 17, 23)"
   ]
  },
  {
   "cell_type": "code",
   "execution_count": 7,
   "metadata": {},
   "outputs": [
    {
     "name": "stdout",
     "output_type": "stream",
     "text": [
      "Note Partie A: 34/39Pt = 5.358974358974359 = 5.5\n",
      "Note Partie B: 25/30Pt = 5.166666666666667 = 5.0\n",
      "Note Partie C: 22/30Pt = 4.666666666666666 = 4.5\n",
      "Note Total: 5.125 = 5.1\n"
     ]
    }
   ],
   "source": [
    "# Oliver Werlen\n",
    "a = 34\n",
    "b = 25\n",
    "c = 22\n",
    "calc_note(a,b,c)"
   ]
  },
  {
   "cell_type": "code",
   "execution_count": 8,
   "metadata": {},
   "outputs": [
    {
     "name": "stdout",
     "output_type": "stream",
     "text": [
      "Note Partie A: 31/39Pt = 4.9743589743589745 = 5.0\n",
      "Note Partie B: 20/30Pt = 4.333333333333334 = 4.5\n",
      "Note Partie C: 20/30Pt = 4.333333333333334 = 4.5\n",
      "Note Total: 4.75 = 4.8\n"
     ]
    }
   ],
   "source": [
    "# Kai Zeiter\n",
    "a = 31\n",
    "b = 20\n",
    "c = 20\n",
    "calc_note(a,b,c)"
   ]
  },
  {
   "cell_type": "code",
   "execution_count": 9,
   "metadata": {},
   "outputs": [
    {
     "name": "stdout",
     "output_type": "stream",
     "text": [
      "Note Partie A: 27/39Pt = 4.461538461538462 = 4.5\n",
      "Note Partie B: 22/30Pt = 4.666666666666666 = 4.5\n",
      "Note Partie C: 25/30Pt = 5.166666666666667 = 5.0\n",
      "Note Total: 4.625 = 4.6\n"
     ]
    }
   ],
   "source": [
    "# Romeo Köppel\n",
    "a = 39-12 # 27\n",
    "b = 30-8\n",
    "c = 30-5\n",
    "calc_note(a,b,c)"
   ]
  }
 ],
 "metadata": {
  "anaconda-cloud": {},
  "kernelspec": {
   "display_name": "Python 3",
   "language": "python",
   "name": "python3"
  },
  "language_info": {
   "codemirror_mode": {
    "name": "ipython",
    "version": 3
   },
   "file_extension": ".py",
   "mimetype": "text/x-python",
   "name": "python",
   "nbconvert_exporter": "python",
   "pygments_lexer": "ipython3",
   "version": "3.6.4"
  }
 },
 "nbformat": 4,
 "nbformat_minor": 2
}
