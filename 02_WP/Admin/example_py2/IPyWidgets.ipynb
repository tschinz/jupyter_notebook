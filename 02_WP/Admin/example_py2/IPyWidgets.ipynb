{
 "cells": [
  {
   "cell_type": "markdown",
   "metadata": {},
   "source": [
    "# Playground"
   ]
  },
  {
   "cell_type": "markdown",
   "metadata": {},
   "source": [
    "## Widgets"
   ]
  },
  {
   "cell_type": "code",
   "execution_count": 2,
   "metadata": {
    "collapsed": false
   },
   "outputs": [
    {
     "data": {
      "text/plain": [
       "[ipywidgets.widgets.widget_string.Text,\n",
       " ipywidgets.widgets.widget_string.Latex,\n",
       " ipywidgets.widgets.widget_box.Box,\n",
       " ipywidgets.widgets.widget_controller.Axis,\n",
       " ipywidgets.widgets.widget_bool.Checkbox,\n",
       " ipywidgets.widgets.widget_int.IntRangeSlider,\n",
       " ipywidgets.widgets.widget_selection.RadioButtons,\n",
       " ipywidgets.widgets.widget_string.HTML,\n",
       " ipywidgets.widgets.widget_float.FloatRangeSlider,\n",
       " ipywidgets.widgets.widget_box.PlaceProxy,\n",
       " ipywidgets.widgets.widget_selection.ToggleButtons,\n",
       " ipywidgets.widgets.widget_int.IntText,\n",
       " ipywidgets.widgets.widget_selection.Dropdown,\n",
       " ipywidgets.widgets.widget_bool.Valid,\n",
       " ipywidgets.widgets.widget_bool.ToggleButton,\n",
       " ipywidgets.widgets.widget_float.FloatSlider,\n",
       " ipywidgets.widgets.widget_int.IntProgress,\n",
       " ipywidgets.widgets.widget_selection.SelectMultiple,\n",
       " ipywidgets.widgets.widget_float.FloatProgress,\n",
       " ipywidgets.widgets.widget_color.ColorPicker,\n",
       " ipywidgets.widgets.widget_box.FlexBox,\n",
       " ipywidgets.widgets.widget_string.Textarea,\n",
       " ipywidgets.widgets.widget_float.BoundedFloatText,\n",
       " ipywidgets.widgets.widget_controller.Button,\n",
       " ipywidgets.widgets.widget_selection.Select,\n",
       " ipywidgets.widgets.widget_selectioncontainer.Accordion,\n",
       " ipywidgets.widgets.widget_float.FloatText,\n",
       " ipywidgets.widgets.widget_image.Image,\n",
       " ipywidgets.widgets.widget_button.Button,\n",
       " ipywidgets.widgets.widget_int.BoundedIntText,\n",
       " ipywidgets.widgets.widget_box.Proxy,\n",
       " ipywidgets.widgets.widget_selectioncontainer.Tab,\n",
       " ipywidgets.widgets.widget_int.IntSlider,\n",
       " ipywidgets.widgets.widget_controller.Controller]"
      ]
     },
     "execution_count": 2,
     "metadata": {},
     "output_type": "execute_result"
    }
   ],
   "source": [
    "import ipywidgets as widgets\n",
    "widgets.Widget.widget_types.values()"
   ]
  },
  {
   "cell_type": "code",
   "execution_count": 3,
   "metadata": {
    "collapsed": false
   },
   "outputs": [],
   "source": [
    "from ipywidgets import widgets\n",
    "from IPython.display import display\n",
    "\n",
    "float_slider = widgets.FloatSlider(\n",
    "    value=7.5,\n",
    "    min=5.0,\n",
    "    max=10.0,\n",
    "    step=0.1,\n",
    "    description='Float Slider Horizontal:',\n",
    ")\n",
    "display(float_slider)\n",
    "\n",
    "float_slider_vert = widgets.FloatSlider(\n",
    "    value=7.5,\n",
    "    min=5.0,\n",
    "    max=10.0,\n",
    "    step=0.1,\n",
    "    description='Float Slider Vertical',\n",
    "    orientation='vertical',\n",
    ")\n",
    "display(float_slider_vert)\n",
    "\n",
    "float_progress = widgets.FloatProgress(\n",
    "    value=7.5,\n",
    "    min=5.0,\n",
    "    max=10.0,\n",
    "    step=0.1,\n",
    "    description='Float Progress:',\n",
    ")\n",
    "display(float_progress)\n",
    "\n",
    "bounded_float_text = widgets.BoundedFloatText(\n",
    "    value=7.5,\n",
    "    min=5.0,\n",
    "    max=10.0,\n",
    "    description='Bounded Float Text:',\n",
    ")\n",
    "display(bounded_float_text)\n",
    "\n",
    "float_text = widgets.FloatText(\n",
    "    value=7.5,\n",
    "    description='Float Text:',\n",
    ")\n",
    "display(float_text)\n",
    "\n",
    "toggle_button = widgets.ToggleButton(\n",
    "    description='Toggle Button',\n",
    "    value=False,\n",
    ")\n",
    "display(toggle_button)\n",
    "\n",
    "checkbox = widgets.Checkbox(\n",
    "    description='Checkbox',\n",
    "    value=True,\n",
    ")\n",
    "display(checkbox)\n",
    "\n",
    "# Read Only Widget\n",
    "valid = widgets.Valid(\n",
    "    value=True,\n",
    ")\n",
    "display(valid)\n",
    "\n",
    "# Selection Widget\n",
    "from IPython.display import display\n",
    "dropdown1 = widgets.Dropdown(\n",
    "    options=['1', '2', '3'],\n",
    "    value='2',\n",
    "    description='Dropbox 1:',\n",
    ")\n",
    "display(dropdown1)\n",
    "dropdown1.value\n",
    "\n",
    "dropdown2 = widgets.Dropdown(\n",
    "    options={'One': 1, 'Two': 2, 'Three': 3},\n",
    "    value=2,\n",
    "    description='Dropbox 2:',\n",
    ")\n",
    "display(dropdown2)\n",
    "dropdown2.value\n",
    "\n",
    "radio_buttons = widgets.RadioButtons(\n",
    "    description='Radio Buttons:',\n",
    "    options=['pepperoni', 'pineapple', 'anchovies'],\n",
    ")\n",
    "display(radio_buttons)\n",
    "\n",
    "select = widgets.Select(\n",
    "    description='Select:',\n",
    "    options=['Linux', 'Windows', 'OSX'],\n",
    ")\n",
    "display(select)\n",
    "\n",
    "#selection_slider = widgets.SelectionSlider(\n",
    "#    description='Selection Slider',\n",
    "#    options=['scrambled', 'sunny side up', 'poached', 'over easy'],\n",
    "#)\n",
    "#display(selection_slider)\n",
    "\n",
    "toggle_buttons = widgets.ToggleButtons(\n",
    "    description='Toggle Buttons:',\n",
    "    options=['Slow', 'Regular', 'Fast'],\n",
    ")\n",
    "display(toggle_buttons)\n",
    "\n",
    "select_multiple = widgets.SelectMultiple(\n",
    "    description=\"Select Multiple\",\n",
    "    options=['Apples', 'Oranges', 'Pears']\n",
    ")\n",
    "display(select_multiple)\n",
    "\n",
    "# String\n",
    "string = widgets.Text(\n",
    "    description='String:',\n",
    "    value='Hello World',\n",
    ")\n",
    "display(string)\n",
    "\n",
    "text_area = widgets.Textarea(\n",
    "    description='String:',\n",
    "    value='Hello World',\n",
    ")\n",
    "display(text_area)\n",
    "\n",
    "#label = widgets.Label(\n",
    "#    value=\"$$\\\\frac{n!}{k!(n-k)!} = \\\\binom{n}{k}$$\",\n",
    "#)\n",
    "#display(label)\n",
    "\n",
    "button = widgets.Button(description='Button')"
   ]
  },
  {
   "cell_type": "markdown",
   "metadata": {},
   "source": [
    "#### Widget Events"
   ]
  },
  {
   "cell_type": "code",
   "execution_count": 4,
   "metadata": {
    "collapsed": false
   },
   "outputs": [],
   "source": [
    "text = widgets.Text()\n",
    "display(text)\n",
    "\n",
    "def handle_submit(sender):\n",
    "    print(text.value)\n",
    "\n",
    "text.on_submit(handle_submit)"
   ]
  },
  {
   "cell_type": "code",
   "execution_count": 5,
   "metadata": {
    "collapsed": false
   },
   "outputs": [],
   "source": [
    "from IPython.display import display\n",
    "button = widgets.Button(description=\"Click Me!\")\n",
    "display(button)\n",
    "\n",
    "def on_button_clicked(b):\n",
    "    print(\"Button clicked.\")\n",
    "\n",
    "button.on_click(on_button_clicked)\n",
    "\n",
    "\n"
   ]
  },
  {
   "cell_type": "markdown",
   "metadata": {},
   "source": [
    "### File Upload Widget"
   ]
  },
  {
   "cell_type": "markdown",
   "metadata": {},
   "source": [
    "### Styling Widgets"
   ]
  },
  {
   "cell_type": "markdown",
   "metadata": {},
   "source": [
    "#### Accordion"
   ]
  },
  {
   "cell_type": "code",
   "execution_count": 6,
   "metadata": {
    "collapsed": false
   },
   "outputs": [],
   "source": [
    "name1 = widgets.Text(description='Location:')\n",
    "zip1 = widgets.BoundedIntText(description='Zip:', min=0, max=99999)\n",
    "page1 = widgets.Box(children=[name1, zip1])\n",
    "\n",
    "name2 = widgets.Text(description='Location:')\n",
    "zip2 = widgets.BoundedIntText(description='Zip:', min=0, max=99999)\n",
    "page2 = widgets.Box(children=[name2, zip2])\n",
    "\n",
    "accord = widgets.Accordion(children=[page1, page2], width=400)\n",
    "display(accord)\n",
    "\n",
    "accord.set_title(0, 'From')\n",
    "accord.set_title(1, 'To')"
   ]
  },
  {
   "cell_type": "markdown",
   "metadata": {},
   "source": [
    "#### Tab widget"
   ]
  },
  {
   "cell_type": "code",
   "execution_count": 7,
   "metadata": {
    "collapsed": false
   },
   "outputs": [],
   "source": [
    "name = widgets.Text(description='Name:', padding=4)\n",
    "name.padding = 4\n",
    "color = widgets.Dropdown(description='Color:', options=['red', 'orange', 'yellow', 'green', 'blue', 'indigo', 'violet'])\n",
    "color.padding = 4\n",
    "page1 = widgets.Box(children=[name, color])\n",
    "page1.padding = 4\n",
    "\n",
    "age = widgets.IntSlider(description='Age:', min=0, max=120, value=50)\n",
    "age.padding = 4\n",
    "gender = widgets.RadioButtons(description='Gender:', options=['male', 'female'])\n",
    "gender.padding = 4\n",
    "page2 = widgets.Box(children=[age, gender])\n",
    "page2.padding = 4\n",
    "\n",
    "tabs = widgets.Tab(children=[page1, page2])\n",
    "display(tabs)\n",
    "\n",
    "tabs.set_title(0, 'Name')\n",
    "tabs.set_title(1, 'Details')"
   ]
  },
  {
   "cell_type": "markdown",
   "metadata": {},
   "source": [
    "#### Alignment"
   ]
  },
  {
   "cell_type": "code",
   "execution_count": 8,
   "metadata": {
    "collapsed": true
   },
   "outputs": [],
   "source": [
    "# Vertical\n",
    "buttons = [widgets.Button(description=str(i)) for i in range(3)]\n",
    "display(*buttons)\n",
    "\n",
    "# Horizontal\n",
    "container = widgets.HBox(children=buttons)\n",
    "display(container)"
   ]
  },
  {
   "cell_type": "markdown",
   "metadata": {},
   "source": [
    "## interact\n",
    "Creates UI Elements automatically"
   ]
  },
  {
   "cell_type": "code",
   "execution_count": 9,
   "metadata": {
    "collapsed": false
   },
   "outputs": [
    {
     "ename": "NameError",
     "evalue": "name 'fixed' is not defined",
     "output_type": "error",
     "traceback": [
      "\u001b[1;31m---------------------------------------------------------------------------\u001b[0m",
      "\u001b[1;31mNameError\u001b[0m                                 Traceback (most recent call last)",
      "\u001b[1;32m<ipython-input-9-8be4eeacbcd8>\u001b[0m in \u001b[0;36m<module>\u001b[1;34m()\u001b[0m\n\u001b[0;32m      2\u001b[0m   \u001b[1;32mreturn\u001b[0m \u001b[1;33m(\u001b[0m\u001b[0mp\u001b[0m\u001b[1;33m,\u001b[0m \u001b[0mq\u001b[0m\u001b[1;33m)\u001b[0m\u001b[1;33m\u001b[0m\u001b[0m\n\u001b[0;32m      3\u001b[0m \u001b[0mget_ipython\u001b[0m\u001b[1;33m(\u001b[0m\u001b[1;33m)\u001b[0m\u001b[1;33m.\u001b[0m\u001b[0mmagic\u001b[0m\u001b[1;33m(\u001b[0m\u001b[1;34mu'pinfo widgets.interact'\u001b[0m\u001b[1;33m)\u001b[0m\u001b[1;33m\u001b[0m\u001b[0m\n\u001b[1;32m----> 4\u001b[1;33m \u001b[0mwidgets\u001b[0m\u001b[1;33m.\u001b[0m\u001b[0minteract\u001b[0m\u001b[1;33m(\u001b[0m\u001b[0mh\u001b[0m\u001b[1;33m,\u001b[0m \u001b[0mp\u001b[0m\u001b[1;33m=\u001b[0m\u001b[1;36m5\u001b[0m\u001b[1;33m,\u001b[0m \u001b[0mq\u001b[0m\u001b[1;33m=\u001b[0m\u001b[0mfixed\u001b[0m\u001b[1;33m(\u001b[0m\u001b[1;36m20\u001b[0m\u001b[1;33m)\u001b[0m\u001b[1;33m)\u001b[0m\u001b[1;33m\u001b[0m\u001b[0m\n\u001b[0m\u001b[0;32m      5\u001b[0m \u001b[1;33m\u001b[0m\u001b[0m\n\u001b[0;32m      6\u001b[0m \u001b[0mwidgets\u001b[0m\u001b[1;33m.\u001b[0m\u001b[0minteract\u001b[0m\u001b[1;33m(\u001b[0m\u001b[0mf\u001b[0m\u001b[1;33m,\u001b[0m \u001b[0mvar\u001b[0m\u001b[1;33m=\u001b[0m\u001b[0mwidgets\u001b[0m\u001b[1;33m.\u001b[0m\u001b[0mIntSlider\u001b[0m\u001b[1;33m(\u001b[0m\u001b[0mmin\u001b[0m\u001b[1;33m=\u001b[0m\u001b[1;33m-\u001b[0m\u001b[1;36m10\u001b[0m\u001b[1;33m,\u001b[0m \u001b[0mmax\u001b[0m\u001b[1;33m=\u001b[0m\u001b[1;36m30\u001b[0m\u001b[1;33m,\u001b[0m \u001b[0mstep\u001b[0m\u001b[1;33m=\u001b[0m\u001b[1;36m1\u001b[0m\u001b[1;33m,\u001b[0m \u001b[0mvalue\u001b[0m\u001b[1;33m=\u001b[0m\u001b[1;36m10\u001b[0m\u001b[1;33m)\u001b[0m\u001b[1;33m)\u001b[0m\u001b[1;33m\u001b[0m\u001b[0m\n",
      "\u001b[1;31mNameError\u001b[0m: name 'fixed' is not defined"
     ]
    }
   ],
   "source": [
    "def h(p, q):\n",
    "  return (p, q)\n",
    "widgets.interact?\n",
    "widgets.interact(h, p=5, q=fixed(20))\n",
    "\n",
    "widgets.interact(f, var=widgets.IntSlider(min=-10, max=30, step=1, value=10))\n",
    "\n",
    "widgets.interact(f, var=10)\n",
    "widgets.interact(f, var=(-10,10)) # min, max\n",
    "widgets.interact(f, var=(-100,1000,100)) # min, max ,step\n",
    "\n",
    "widgets.interact(f, var=False)\n",
    "widgets.interact(f, var=True)\n",
    "widgets.interact(f, var=\"Textbox\")\n",
    "widgets.interact(f, var=(\"orange\",\"apple\"))\n",
    "widgets.interact(f, var={\"one\":1,\"two\":2})"
   ]
  },
  {
   "cell_type": "markdown",
   "metadata": {},
   "source": [
    "## interactive\n"
   ]
  },
  {
   "cell_type": "code",
   "execution_count": null,
   "metadata": {
    "collapsed": false
   },
   "outputs": [],
   "source": [
    "def f(a, b):\n",
    "    return a+b\n",
    "\n",
    "w = interactive(f, a=10, b=20)\n",
    "print(\"Widget Type=> {}\".format(type(w)))\n",
    "print(\"Widget Childreen=> {}\".format(w.children))\n",
    "display(w) # display widget\n",
    "print(\"Widget Argument=> {}\".format(w.kwargs))\n",
    "print(\"Widget Result=> {}\".format(w.result))"
   ]
  },
  {
   "cell_type": "markdown",
   "metadata": {},
   "source": [
    "## Link Widgets"
   ]
  },
  {
   "cell_type": "code",
   "execution_count": null,
   "metadata": {
    "collapsed": false
   },
   "outputs": [],
   "source": [
    "from traitlets import link\n",
    "a = FloatText()\n",
    "b = FloatSlider()\n",
    "display(a,b)\n",
    "\n",
    "mylink = link((a, 'value'), (b, 'value'))\n",
    "# unlink\n",
    "mylink.unlink()"
   ]
  },
  {
   "cell_type": "markdown",
   "metadata": {},
   "source": [
    "## Examples"
   ]
  },
  {
   "cell_type": "code",
   "execution_count": null,
   "metadata": {
    "collapsed": false
   },
   "outputs": [],
   "source": [
    "from IPython.html.widgets import *\n",
    "import numpy as np\n",
    "import math\n",
    "t = np.arange(0.0, 1.0, 0.01)\n",
    "\n",
    "def pltsin(f):\n",
    "  plt.plot(x, math.sin(2*math.pi*t*f))\n",
    "  plt.show()\n",
    "\n",
    "widgets.interact(pltsin, f=(1,10,0.1))"
   ]
  },
  {
   "cell_type": "code",
   "execution_count": null,
   "metadata": {
    "collapsed": false
   },
   "outputs": [],
   "source": [
    "%matplotlib inline\n",
    "import matplotlib.pyplot as plt\n",
    "import numpy as np\n",
    "\n",
    "from ipywidgets import interactive\n",
    "from IPython.display import Audio, display\n",
    "import numpy as np\n",
    "\n",
    "def beat_freq(f1=220.0, f2=224.0):\n",
    "    max_time = 3\n",
    "    rate = 8000\n",
    "    times = np.linspace(0,max_time,rate*max_time)\n",
    "    signal = np.sin(2*np.pi*f1*times) + np.sin(2*np.pi*f2*times)\n",
    "    print(f1, f2, abs(f1-f2))\n",
    "    display(Audio(data=signal, rate=rate))\n",
    "    return signal\n",
    "  \n",
    "v = interactive(beat_freq, f1=(200.0,300.0), f2=(200.0,300.0))\n",
    "display(v)\n",
    "v.kwargs\n",
    "\n",
    "f1, f2 = v.children\n",
    "f1.value = 255\n",
    "f2.value = 260\n",
    "plt.plot(v.result[0:6000])"
   ]
  },
  {
   "cell_type": "code",
   "execution_count": null,
   "metadata": {
    "collapsed": false
   },
   "outputs": [],
   "source": [
    "from ipywidgets import interact\n",
    "\n",
    "%matplotlib inline\n",
    "import matplotlib.pyplot as plt\n",
    "\n",
    "import networkx as nx\n",
    "\n",
    "# wrap a few graph generation functions so they have the same signature\n",
    "\n",
    "def random_lobster(n, m, k, p):\n",
    "    return nx.random_lobster(n, p, p / m)\n",
    "\n",
    "def powerlaw_cluster(n, m, k, p):\n",
    "    return nx.powerlaw_cluster_graph(n, m, p)\n",
    "\n",
    "def erdos_renyi(n, m, k, p):\n",
    "    return nx.erdos_renyi_graph(n, p)\n",
    "\n",
    "def newman_watts_strogatz(n, m, k, p):\n",
    "    return nx.newman_watts_strogatz_graph(n, k, p)\n",
    "\n",
    "def plot_random_graph(n, m, k, p, generator):\n",
    "    g = generator(n, m, k, p)\n",
    "    nx.draw(g)\n",
    "    plt.show()\n",
    "\n",
    "interact(plot_random_graph, n=(2,30), m=(1,10), k=(1,10), p=(0.0, 1.0, 0.001),\n",
    "        generator={'lobster': random_lobster,\n",
    "                   'power law': powerlaw_cluster,\n",
    "                   'Newman-Watts-Strogatz': newman_watts_strogatz,\n",
    "                   u'Erdős-Rényi': erdos_renyi,\n",
    "                   });"
   ]
  }
 ],
 "metadata": {
  "kernelspec": {
   "display_name": "Python 2",
   "language": "python",
   "name": "python2"
  },
  "language_info": {
   "codemirror_mode": {
    "name": "ipython",
    "version": 2
   },
   "file_extension": ".py",
   "mimetype": "text/x-python",
   "name": "python",
   "nbconvert_exporter": "python",
   "pygments_lexer": "ipython2",
   "version": "2.7.10"
  }
 },
 "nbformat": 4,
 "nbformat_minor": 0
}
