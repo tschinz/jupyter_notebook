{
 "cells": [
  {
   "cell_type": "markdown",
   "metadata": {},
   "source": [
    "# RemoteUpdate HIB file analysis\n",
    "\n",
    "Copy file into the same folder as the script and configure file name\n",
    "\n",
    "**NOTE** This script would need python3!\n"
   ]
  },
  {
   "cell_type": "code",
   "execution_count": 1,
   "metadata": {
    "collapsed": false
   },
   "outputs": [],
   "source": [
    "# imports\n",
    "import os, sys\n",
    "import binascii\n",
    "\n",
    "# Configuration\n",
    "rupd_file = \"./user.hib\"  # path to file\n",
    "out_path = './out/'               # file output destination foder\n",
    "out_file_stream = 'stream.txt'    # data as hex strings in chunk per line\n",
    "out_file_checks = 'checksum.txt'  # checksum live generated\n",
    "write_file = True                 # enable output files\n",
    "chunksize = 2                     # number of bytes to read from file per chunk"
   ]
  },
  {
   "cell_type": "code",
   "execution_count": 2,
   "metadata": {
    "collapsed": false
   },
   "outputs": [
    {
     "name": "stdout",
     "output_type": "stream",
     "text": [
      "--- Start Remote Update file analysis --------------------------\n",
      "sys.version_info(major=3, minor=6, micro=5, releaselevel='final', serial=0)\n",
      "--- End --------------------------------------------------------\n"
     ]
    }
   ],
   "source": [
    "def to_hex_ascii(chunk):\n",
    "    \"\"\"\n",
    "    returns a hex ascii string representing the chunk.\n",
    "    :param chunk:  data chunk\n",
    "    :return: -\n",
    "    \"\"\"\n",
    "    # Given raw bytes, get an ASCII string representing the hex values\n",
    "    hex_data = binascii.hexlify(chunk)  # Two bytes values 0 and 255\n",
    "    # The resulting value will be an ASCII string but it will be a bytes type\n",
    "    # It may be necessary to decode it to a regular string\n",
    "    text_string = hex_data.decode('utf-8')  # Result is string \"00ff\"\n",
    "    #print(text_string)\n",
    "\n",
    "    return text_string\n",
    "\n",
    "\n",
    "def write_line(data, filehandle):\n",
    "    \"\"\"\n",
    "    Just another line writer, prints and write to file if given\n",
    "    :param data:  string to print\n",
    "    :param filehandle:  file handle\n",
    "    :return:\n",
    "    \"\"\"\n",
    "    #print(print_data)\n",
    "    if filehandle is not None and write_file:\n",
    "        filehandle.write(data + '\\n')\n",
    "\n",
    "\n",
    "def chunks_from_file(filename, chunksize=8192):\n",
    "    \"\"\"\n",
    "    reads binary chunks from a file and generates an iterator\n",
    "    :param filename:\n",
    "    :param chunksize:\n",
    "    :return:\n",
    "    \"\"\"\n",
    "    with open(filename, \"rb\") as f:\n",
    "        while True:\n",
    "            chunk = f.read(chunksize)\n",
    "            if chunk:\n",
    "                yield chunk\n",
    "                \"\"\"for b in chunk:\n",
    "                    yield b\"\"\"\n",
    "            else:\n",
    "                break\n",
    "\n",
    "\n",
    "def read_n_print(chunksize):\n",
    "    \"\"\"\n",
    "    Read and print whole file in a structured way in to a file.\n",
    "    - Chunks as line seperated hex string\n",
    "    - Current checksum after chunk\n",
    "    :return:\n",
    "    \"\"\"\n",
    "    # create output dir\n",
    "    if not os.path.exists(out_path):\n",
    "        os.makedirs(out_path)\n",
    "\n",
    "    # read file in chunks\n",
    "    fh_stream = open(out_path + out_file_stream, 'w')\n",
    "    for chunk in chunks_from_file(rupd_file, chunksize):\n",
    "        chunk_str = to_hex_ascii(chunk)\n",
    "        write_line(chunk_str, fh_stream)\n",
    "\n",
    "    # read file in chunks\n",
    "    fh_cks = open(out_path + out_file_checks, 'w')\n",
    "    checks = 0\n",
    "    for chunk in chunks_from_file(rupd_file, 2):\n",
    "        chunk_int = int.from_bytes(chunk, byteorder='little')\n",
    "        checks += chunk_int\n",
    "        checks_limited = to_hex_ascii(checks.to_bytes(4, byteorder='big'))[-4:]\n",
    "        write_line(\"{} >> {}\".format(hex(chunk_int), checks_limited), fh_cks)\n",
    "        checks = int.from_bytes(binascii.unhexlify(checks_limited), byteorder='big')\n",
    "\n",
    "    # close open files\n",
    "    if fh_stream is not None:\n",
    "        fh_stream.close()\n",
    "    if fh_cks is not None:\n",
    "        fh_cks.close()\n",
    "\n",
    "\n",
    "# Program Code\n",
    "# ===================================================\n",
    "# File Read & Analyze\n",
    "print(\"--- Start Remote Update file analysis --------------------------\")\n",
    "\n",
    "# Print remote update data in structured format\n",
    "print(sys.version_info)\n",
    "if sys.version_info[0] == 3:\n",
    "  read_n_print(chunksize)\n",
    "else:\n",
    "  print(\"Python 3 is needed!\")\n",
    "print(\"--- End --------------------------------------------------------\")\n"
   ]
  }
 ],
 "metadata": {
  "kernelspec": {
   "display_name": "Python 3",
   "language": "python",
   "name": "python3"
  },
  "language_info": {
   "codemirror_mode": {
    "name": "ipython",
    "version": 3
   },
   "file_extension": ".py",
   "mimetype": "text/x-python",
   "name": "python",
   "nbconvert_exporter": "python",
   "pygments_lexer": "ipython3",
   "version": "3.6.5"
  }
 },
 "nbformat": 4,
 "nbformat_minor": 2
}
