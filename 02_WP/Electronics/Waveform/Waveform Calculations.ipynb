{
 "cells": [
  {
   "cell_type": "code",
   "execution_count": 1,
   "metadata": {
    "collapsed": false
   },
   "outputs": [],
   "source": [
    "def calc_speed(title, dpi, freq, dpds, drop_volume_1dpd):\n",
    "  inch2mm = 25.4 # mm/inch\n",
    "  print(\"+-----------------------------------------+\")\n",
    "  print(\"| {:39} |\".format(title))\n",
    "  print(\"+-----+--------------+--------------------+\")\n",
    "  print(\"| DPI | Speed normal | Drop Volume @ 1dpd |\")\n",
    "  print(\"+-----+--------------+--------------------+\")\n",
    "  for dpi in dpis:\n",
    "    speed_norm         = (inch2mm/dpi)*freq\n",
    "    print(\"| {:3} | {:.6} mm/s | {:15} pl |\".format(dpi, speed_norm, drop_volume_1dpd))\n",
    "  print(\"+-----------------------------------------+\")\n",
    "    "
   ]
  },
  {
   "cell_type": "code",
   "execution_count": 2,
   "metadata": {
    "collapsed": false,
    "scrolled": false
   },
   "outputs": [
    {
     "name": "stdout",
     "output_type": "stream",
     "text": [
      "+-----------------------------------------+\n",
      "| GS12 White CUR-SLM 6KHz 8dpd            |\n",
      "+-----+--------------+--------------------+\n",
      "| DPI | Speed normal | Drop Volume @ 1dpd |\n",
      "+-----+--------------+--------------------+\n",
      "| 360 | 423.333 mm/s |            12.8 pl |\n",
      "| 720 | 211.667 mm/s |            12.8 pl |\n",
      "+-----------------------------------------+\n",
      "+-----------------------------------------+\n",
      "| GS12 White CUR-SLM 16KHz 3dpd           |\n",
      "+-----+--------------+--------------------+\n",
      "| DPI | Speed normal | Drop Volume @ 1dpd |\n",
      "+-----+--------------+--------------------+\n",
      "| 360 | 1128.89 mm/s |            15.3 pl |\n",
      "| 720 | 564.444 mm/s |            15.3 pl |\n",
      "+-----------------------------------------+\n",
      "+-----------------------------------------+\n",
      "| GS12 Cyan Altamira Pack LMX 6KHz 7dpd   |\n",
      "+-----+--------------+--------------------+\n",
      "| DPI | Speed normal | Drop Volume @ 1dpd |\n",
      "+-----+--------------+--------------------+\n",
      "| 360 | 423.333 mm/s |            12.9 pl |\n",
      "| 720 | 211.667 mm/s |            12.9 pl |\n",
      "+-----------------------------------------+\n",
      "+-----------------------------------------+\n",
      "| GS12 Cyan Altamira Pack LMX 16KHz 3dpd  |\n",
      "+-----+--------------+--------------------+\n",
      "| DPI | Speed normal | Drop Volume @ 1dpd |\n",
      "+-----+--------------+--------------------+\n",
      "| 360 | 1128.89 mm/s |            15.2 pl |\n",
      "| 720 | 564.444 mm/s |            15.2 pl |\n",
      "+-----------------------------------------+\n",
      "+-----------------------------------------+\n",
      "| GS12 Cyan Altamira Pack LMX 30KHz 2dpd  |\n",
      "+-----+--------------+--------------------+\n",
      "| DPI | Speed normal | Drop Volume @ 1dpd |\n",
      "+-----+--------------+--------------------+\n",
      "| 360 | 2116.67 mm/s |            17.7 pl |\n",
      "| 720 | 1058.33 mm/s |            17.7 pl |\n",
      "+-----------------------------------------+\n"
     ]
    }
   ],
   "source": [
    "title = \"GS12 White CUR-SLM 6KHz 8dpd\"\n",
    "dpis = [360, 720]# dpi\n",
    "freq = 6e3       # firing frequency [Hz]\n",
    "dpd  = 8         # dot per drop\n",
    "drop_volume_1dpd = 12.8 # pl\n",
    "drop_volume_7dpd = 80.3 # pl\n",
    "calc_speed(title, dpis, freq, dpd, drop_volume_1dpd)\n",
    "\n",
    "title = \"GS12 White CUR-SLM 16KHz 3dpd\"\n",
    "dpis = [360, 720]# dpi\n",
    "freq = 16e3      # firing frequency [Hz]\n",
    "dpd  = 3         # dot per drop\n",
    "drop_volume_1dpd = 15.3 # pl\n",
    "drop_volume_2dpd = 31.3 # pl\n",
    "calc_speed(title, dpis, freq, dpd, drop_volume_1dpd)\n",
    "\n",
    "title = \"GS12 Cyan Altamira Pack LMX 6KHz 7dpd\"\n",
    "dpis = [360, 720]# dpi\n",
    "freq = 6e3      # firing frequency [Hz]\n",
    "dpd  = 7         # dot per drop\n",
    "drop_volume_1dpd = 12.9 # pl\n",
    "drop_volume_6dpd = 77.4 # pl\n",
    "calc_speed(title, dpis, freq, dpd, drop_volume_1dpd)\n",
    "\n",
    "title = \"GS12 Cyan Altamira Pack LMX 16KHz 3dpd\"\n",
    "dpis = [360, 720]# dpi\n",
    "freq = 16e3      # firing frequency [Hz]\n",
    "dpd  = 3         # dot per drop\n",
    "drop_volume_1dpd = 15.2 # pl\n",
    "drop_volume_2dpd = 30.4 # pl\n",
    "calc_speed(title, dpis, freq, dpd, drop_volume_1dpd)\n",
    "\n",
    "title = \"GS12 Cyan Altamira Pack LMX 30KHz 2dpd\"\n",
    "dpis = [360, 720]# dpi\n",
    "freq = 30e3      # firing frequency [Hz]\n",
    "dpd  = 2         # dot per drop\n",
    "drop_volume_1dpd = 17.7 # pl\n",
    "calc_speed(title, dpis, freq, dpd, drop_volume_1dpd)"
   ]
  }
 ],
 "metadata": {
  "kernelspec": {
   "display_name": "Python 3",
   "language": "python",
   "name": "python3"
  },
  "language_info": {
   "codemirror_mode": {
    "name": "ipython",
    "version": 3
   },
   "file_extension": ".py",
   "mimetype": "text/x-python",
   "name": "python",
   "nbconvert_exporter": "python",
   "pygments_lexer": "ipython3",
   "version": "3.6.5"
  }
 },
 "nbformat": 4,
 "nbformat_minor": 2
}
