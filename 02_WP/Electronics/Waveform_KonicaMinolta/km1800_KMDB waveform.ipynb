{
 "cells": [
  {
   "cell_type": "markdown",
   "metadata": {},
   "source": [
    "# KM1800i KMDB waveform calculations"
   ]
  },
  {
   "cell_type": "code",
   "execution_count": 13,
   "metadata": {},
   "outputs": [
    {
     "name": "stdout",
     "output_type": "stream",
     "text": [
      "Waveform parameter\n",
      "TM0         = 2.5us\n",
      "TM1         = 5.0us\n",
      "DropletTime = 12.5us\n",
      "CycleTime   = 87.5us\n"
     ]
    }
   ],
   "source": [
    "jettingFreq=80000  # typical jetting frequency[Hz]\n",
    "grayScales=7       # number of max. gray scales\n",
    "\n",
    "dropletTime=1/jettingFreq                # time  \n",
    "numAL=5\n",
    "t_seg=dropletTime/numAL\n",
    "\n",
    "TM0_NumAL=1  # number of acoustic length for TM0\n",
    "TM1_NumAL=2  # \n",
    "TIdle=numAL-TM0_NumAL-TM1_NumAL * t_seg  # Idle time afer all TMs\n",
    "TM0 = TM0_NumAL * t_seg                  # TM0 time\n",
    "TM1 = TM1_NumAL * t_seg                  # TM1 time\n",
    "\n",
    "cycleTime=grayScales*dropletTime         # whole max. cycle time for one pixel\n",
    "\n",
    "## Print results\n",
    "us_factor=1000000\n",
    "print(\"Waveform parameter\")\n",
    "print(\"TM0         = {}us\".format(TM0*us_factor))\n",
    "print(\"TM1         = {}us\".format(TM1*us_factor))\n",
    "print(\"DropletTime = {}us\".format(dropletTime*us_factor))\n",
    "print(\"CycleTime   = {}us\".format(cycleTime*us_factor))"
   ]
  }
 ],
 "metadata": {
  "kernelspec": {
   "display_name": "Python 3",
   "language": "python",
   "name": "python3"
  },
  "language_info": {
   "codemirror_mode": {
    "name": "ipython",
    "version": 3
   },
   "file_extension": ".py",
   "mimetype": "text/x-python",
   "name": "python",
   "nbconvert_exporter": "python",
   "pygments_lexer": "ipython3",
   "version": "3.6.5"
  }
 },
 "nbformat": 4,
 "nbformat_minor": 2
}
