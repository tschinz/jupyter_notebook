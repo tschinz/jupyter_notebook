{
 "cells": [
  {
   "cell_type": "markdown",
   "metadata": {},
   "source": [
    "# BMP Header\n",
    "Reads an bmp header and displays it's values. See also: http://wpwiki/doku.php?id=internal:general:bmp_file_specification\n",
    "\n",
    "**Copy from HxD Editor beginning of bmp file**\n",
    "\n",
    "Works with \n",
    "* Gimp BMP\n",
    "* Ergosoft Rip BMP (Number of colors are not written)\n",
    "* ImageEditor BMP\n",
    "\n",
    "**Example usage see below**"
   ]
  },
  {
   "cell_type": "code",
   "execution_count": 10,
   "metadata": {
    "collapsed": false
   },
   "outputs": [],
   "source": [
    "def bmp_header_analysis(bmp_header = \"42 4D 76 30 D9 00 00 00 00 00 76 00 00 00 28 00 00 00 00 19 00 00 60 11 00 00 01 00 04 00 00 00 00 00 00 30 D9 00 46 5C 00 00 46 5C 00 00 00 00 00 00 00 00 00 00 FF FF FF 00 80 80 80 00 00 00 00 00 00 00 00 00 00 00 00 00 00 00 00 00 00 00 00 00 00 00 00 00 00 00 00 00 00 00 00 00 00 00 00 00 00 00 00 00\"):\n",
    "  bmp_header_def = [[0, 2, \"BMP Header Field\", \"\"],\n",
    "                    [2, 4, \"BMP file size\", \"\"],\n",
    "                    [6, 2, \"Unused 1\", \"\"],\n",
    "                    [8, 2, \"Unused 2\", \"\"],\n",
    "                    [10, 4, \"Offset of BMP Data\", \"\"],\n",
    "                    [14, 4, \"Number of Bytes in DIP Header\", \"\"],\n",
    "                    [18, 4, \"Width of Bitmap in Pixels\", \"\"],\n",
    "                    [22, 4, \"Height of Bitmap in Pixels\", \"\"],\n",
    "                    [26, 2, \"Number of color planes being used\", \"\"],\n",
    "                    [28, 2, \"bits/pixels\", \"\"],\n",
    "                    [30, 4, \"Pixel Array Compression\", \"\"],\n",
    "                    [34, 4, \"Size of Raw Bitmap Data\", \"\"],\n",
    "                    [38, 4, \"pixels/meter X Print Resolution\", \"\"],\n",
    "                    [42, 4, \"pixels/meter Y Print Resolution\", \"\"],\n",
    "                    [46, 4, \"Numbers of color in palette\", \"\"],\n",
    "                    [50, 4, \"Important Colors\", \"\"],\n",
    "                    [1000, 3, \"Color 1\", \"\"],           # offset address will be calculated\n",
    "                    [1000, 3, \"Color 2\", \"\"],           # offset address will be calculated\n",
    "                    [1000, 3, \"Color 3\", \"\"],           # offset address will be calculated\n",
    "                    [1000, 3, \"Color 4\", \"\"],           # offset address will be calculated\n",
    "                    [1000, 2000, \"Raw Bitmap Data\", \"\"] # offset address will be calculated\n",
    "  ]\n",
    "  bmp_header_size = 14\n",
    "\n",
    "  # Clean bmp header\n",
    "  bmp_header = bmp_header.replace(\" \", \"\")\n",
    "\n",
    "  # Split bmp header in byte pieces\n",
    "  i = 0\n",
    "  bmp_header_bytes = []\n",
    "  while i < len(bmp_header):\n",
    "    #print(\"{0} {1}\".format(i, bmp_header[i]))\n",
    "    bmp_header_bytes.append(bmp_header[i] + bmp_header[i+1])\n",
    "    i += 2\n",
    "  \n",
    "  #print bmp_header_bytes\n",
    "  \n",
    "  # Get Header Fields according to spec\n",
    "  for i in range(0, len(bmp_header_bytes)):\n",
    "    for j in range(0, len(bmp_header_def)):\n",
    "      if i >= bmp_header_def[j][0] and i < (bmp_header_def[j][0] + bmp_header_def[j][1]):\n",
    "        #print(\"Field {0} found\".format(bmp_header_analysis[j][2]))\n",
    "        bmp_header_def[j][3] = bmp_header_bytes[i] + bmp_header_def[j][3]\n",
    "        # write correct offset of color table and raw bitmap data\n",
    "        if j == 5:\n",
    "          value   = int(bmp_header_def[j][3],16)\n",
    "          bmp_header_def[16][0] = bmp_header_size + value\n",
    "          bmp_header_def[17][0] = bmp_header_def[16][0] + bmp_header_def[16][1] + 1\n",
    "          bmp_header_def[18][0] = bmp_header_def[17][0] + bmp_header_def[17][1] + 1 \n",
    "          bmp_header_def[19][0] = bmp_header_def[18][0] + bmp_header_def[18][1] + 1\n",
    "          bmp_header_def[20][0] = bmp_header_def[19][0] + bmp_header_def[19][1] + 1\n",
    "  \n",
    "  # Analysis\n",
    "  print(\"Field name                        | Hex Value  | Add Value  | Comment\")\n",
    "  print(\"----------------------------------+------------+------------+----------------------------------------\")\n",
    "  error = False\n",
    "  for field in bmp_header_def:\n",
    "    comment = \"Unknown\"\n",
    "    value = \"\"\n",
    "    if field[2] == \"BMP Header Field\" and field[3] == \"4D42\":\n",
    "      if field[3] == \"4D42\":\n",
    "        comment = \"BMP Header Field detected => CORRECT\"\n",
    "        value   = \"BM\"\n",
    "      else:\n",
    "        comment = \"BMP Header Field detected => ERROR\"\n",
    "        value   = \"-\"\n",
    "        error = True\n",
    "    elif field[2] == \"BMP file size\":\n",
    "      comment = \"Filesize in bytes\"\n",
    "      value   = int(field[3], 16)\n",
    "      if value > 1024:\n",
    "        value   = round(float(value)/1024,4)\n",
    "        comment = \"kbytes Filesize\"\n",
    "      if value > 1024:\n",
    "        value   = round(float(value)/1024,4)\n",
    "        comment = \"Mbytes Filesize\"\n",
    "      if value > 1024:\n",
    "        value   = round(float(value)/1024,4)\n",
    "        comment = \"Gbytes Filesize\"\n",
    "    elif field[2] == \"Unused 1\" or field[2] ==\"Unused 2\":\n",
    "      value   = \"-\"\n",
    "      comment = \"Unused Application specific settings\"\n",
    "    elif field[2] == \"Offset of BMP Data\":\n",
    "      value   = int(field[3], 16)\n",
    "      comment = field[2]\n",
    "    elif field[2] == \"Number of Bytes in DIP Header\":\n",
    "      value   = int(field[3],16)\n",
    "      comment = field[2]\n",
    "    elif field[2] == \"Width of Bitmap in Pixels\":\n",
    "      value   = int(field[3],16)\n",
    "      comment = \"px Width of Bitmap\"\n",
    "    elif field[2] == \"Height of Bitmap in Pixels\":\n",
    "      value   = int(field[3],16)\n",
    "      comment = \"px Height of Bitmap\"\n",
    "    elif field[2] == \"Number of color planes being used\":\n",
    "      value   = int(field[3],16)\n",
    "      comment = field[2]\n",
    "    elif field[2] == \"bits/pixels\":\n",
    "      value   = int(field[3],16)\n",
    "      if value == 4:\n",
    "        comment = \"bits/pixels => CORRECT\"\n",
    "      else:\n",
    "        comment = \"bits/pixels => ERROR\"\n",
    "        error = True\n",
    "    elif field[2] == \"Pixel Array Compression\":\n",
    "      value   = int(field[3],16)\n",
    "      comment = field[2]\n",
    "    elif field[2] == \"Size of Raw Bitmap Data\":\n",
    "      value   = int(field[3], 16)\n",
    "      comment = \"Raw Bitmap data in bytes\"\n",
    "      if value > 1024:\n",
    "        value   = round(float(value)/1024,4)\n",
    "        comment = \"kbytes Raw Bitmap data\"\n",
    "      if value > 1024:\n",
    "        value   = round(float(value)/1024,4)\n",
    "        comment = \"Mbytes Raw Bitmap data\"\n",
    "      if value > 1024:\n",
    "        value   = round(float(value)/1024,4)\n",
    "        comment = \"Gbytes Raw Bitmap data\"\n",
    "    elif field[2] == \"pixels/meter X Print Resolution\":\n",
    "      value   = float(int(field[3],16))/(100.0)*2.54\n",
    "      comment = \"dpi X Print Resolution\"\n",
    "    elif field[2] == \"pixels/meter Y Print Resolution\":\n",
    "      value   = float(int(field[3],16))/(100.0)*2.54\n",
    "      comment = \"dpi Y Print Resolution\"\n",
    "    elif field[2] == \"Numbers of color in palette\":\n",
    "      value   = int(field[3],16)\n",
    "      comment = field[2]\n",
    "      if value == 4:\n",
    "        comment = \"Colors in Palette => CORRECT\"\n",
    "      else:\n",
    "        comment = \"Colors in Palette => ERROR\"\n",
    "        error = True\n",
    "    elif field[2] == \"Important Colors\":\n",
    "      value   = int(field[3],16)\n",
    "      comment = field[2]\n",
    "    elif field[2] == \"Color 1\":\n",
    "      value   = field[3]\n",
    "      comment = \"display color for pixel value 0\"\n",
    "    elif field[2] == \"Color 2\":\n",
    "      value   = field[3]\n",
    "      comment = \"display color for pixel value 1\"\n",
    "    elif field[2] == \"Color 3\":\n",
    "      value   = field[3]\n",
    "      comment = \"display color for pixel value 2\"\n",
    "    elif field[2] == \"Color 4\":\n",
    "      value   = field[3]\n",
    "      comment = \"display color for pixel value 3\"\n",
    "    elif field[2] == \"Raw Bitmap Data\":\n",
    "      value   = \"-\"\n",
    "      comment = field[2]\n",
    "     \n",
    "    if len(field[3]) <= 8:\n",
    "      print(\"{0:33} | {1:10} | {2:10} | {3}\".format(field[2], field[3], value, comment))\n",
    "    else:\n",
    "      print(\"{0:33} | see below  | {1:10} | {2}\".format(field[2], value, comment))\n",
    "      print(field[3])\n",
    "      \n",
    "  \n",
    "  print(\"-----------------------------------------------------------------------------------------------------\")\n",
    "  if error:\n",
    "    print(\"Header has an Error: see Table above\")\n",
    "  else:\n",
    "    print(\"Header is CORRECT\")\n",
    "  print(\"-----------------------------------------------------------------------------------------------------\")"
   ]
  },
  {
   "cell_type": "markdown",
   "metadata": {},
   "source": [
    "### ErgoSoft Header Example"
   ]
  },
  {
   "cell_type": "code",
   "execution_count": 4,
   "metadata": {
    "collapsed": false
   },
   "outputs": [
    {
     "name": "stdout",
     "output_type": "stream",
     "text": [
      "Field name                        | Hex Value  | Add Value  | Comment\n",
      "----------------------------------+------------+------------+----------------------------------------\n",
      "BMP Header Field                  | 4D42       | BM         | BMP Header Field detected => CORRECT\n",
      "BMP file size                     | 00D93076   |    13.5743 | Mbytes Filesize\n",
      "Unused 1                          | 0000       | -          | Unused Application specific settings\n",
      "Unused 2                          | 0000       | -          | Unused Application specific settings\n",
      "Offset of BMP Data                | 00000076   |        118 | Offset of BMP Data\n",
      "Number of Bytes in DIP Header     | 00000028   |         40 | Number of Bytes in DIP Header\n",
      "Width of Bitmap in Pixels         | 00001900   |       6400 | px Width of Bitmap\n",
      "Height of Bitmap in Pixels        | 00001160   |       4448 | px Height of Bitmap\n",
      "Number of color planes being used | 0001       |          1 | Number of color planes being used\n",
      "bits/pixels                       | 0004       |          4 | bits/pixels => CORRECT\n",
      "Pixel Array Compression           | 00000000   |          0 | Pixel Array Compression\n",
      "Size of Raw Bitmap Data           | 00D93000   |    13.5742 | Mbytes Raw Bitmap data\n",
      "pixels/meter X Print Resolution   | 00005C46   |   599.9988 | dpi X Print Resolution\n",
      "pixels/meter Y Print Resolution   | 00005C46   |   599.9988 | dpi Y Print Resolution\n",
      "Numbers of color in palette       | 00000000   |          0 | Colors in Palette => ERROR\n",
      "Important Colors                  | 00000000   |          0 | Important Colors\n",
      "Color 1                           | FFFFFF     | FFFFFF     | display color for pixel value 0\n",
      "Color 2                           | 808080     | 808080     | display color for pixel value 1\n",
      "Color 3                           | 000000     | 000000     | display color for pixel value 2\n",
      "Color 4                           | 000000     | 000000     | display color for pixel value 3\n",
      "Raw Bitmap Data                   | 00000000   | -          | Raw Bitmap Data\n",
      "-----------------------------------------------------------------------------------------------------\n",
      "Header has an Error: see Table above\n",
      "-----------------------------------------------------------------------------------------------------\n"
     ]
    }
   ],
   "source": [
    "bmp_header = \"42 4D 76 30 D9 00 00 00 00 00 76 00 00 00 28 00 00 00 00 19 00 00 60 11 00 00 01 00 04 00 00 00 00 00 00 30 D9 00 46 5C 00 00 46 5C 00 00 00 00 00 00 00 00 00 00 FF FF FF 00 80 80 80 00 00 00 00 00 00 00 00 00 00 00 00 00\"\n",
    "\n",
    "bmp_header_analysis(bmp_header)"
   ]
  },
  {
   "cell_type": "markdown",
   "metadata": {},
   "source": [
    "### Gimp Header Example"
   ]
  },
  {
   "cell_type": "code",
   "execution_count": 6,
   "metadata": {
    "collapsed": false
   },
   "outputs": [
    {
     "name": "stdout",
     "output_type": "stream",
     "text": [
      "Field name                        | Hex Value  | Add Value  | Comment\n",
      "----------------------------------+------------+------------+----------------------------------------\n",
      "BMP Header Field                  | 4D42       | BM         | BMP Header Field detected => CORRECT\n",
      "BMP file size                     | 00271436   |     2.4424 | Mbytes Filesize\n",
      "Unused 1                          | 0000       | -          | Unused Application specific settings\n",
      "Unused 2                          | 0000       | -          | Unused Application specific settings\n",
      "Offset of BMP Data                | 00000436   |       1078 | Offset of BMP Data\n",
      "Number of Bytes in DIP Header     | 00000028   |         40 | Number of Bytes in DIP Header\n",
      "Width of Bitmap in Pixels         | 000007D0   |       2000 | px Width of Bitmap\n",
      "Height of Bitmap in Pixels        | 00000500   |       1280 | px Height of Bitmap\n",
      "Number of color planes being used | 0001       |          1 | Number of color planes being used\n",
      "bits/pixels                       | 0008       |          8 | bits/pixels => ERROR\n",
      "Pixel Array Compression           | 00000000   |          0 | Pixel Array Compression\n",
      "Size of Raw Bitmap Data           | 00271000   |     2.4414 | Mbytes Raw Bitmap data\n",
      "pixels/meter X Print Resolution   | 00000EC3   |    95.9866 | dpi X Print Resolution\n",
      "pixels/meter Y Print Resolution   | 00000EC3   |    95.9866 | dpi Y Print Resolution\n",
      "Numbers of color in palette       | 00000100   |        256 | Colors in Palette => ERROR\n",
      "Important Colors                  | 00000100   |        256 | Important Colors\n",
      "Color 1                           | FFFFFF     | FFFFFF     | display color for pixel value 0\n",
      "Color 2                           | 7F7F7F     | 7F7F7F     | display color for pixel value 1\n",
      "Color 3                           | 000000     | 000000     | display color for pixel value 2\n",
      "Color 4                           | 030303     | 030303     | display color for pixel value 3\n",
      "Raw Bitmap Data                   | see below  | -          | Raw Bitmap Data\n",
      "006565650064646400636363006262620061616100606060005F5F5F005E5E5E005D5D5D005C5C5C005B5B5B005A5A5A00595959005858580057575700565656005555550054545400535353005252520051515100505050004F4F4F004E4E4E004D4D4D004C4C4C004B4B4B004A4A4A00494949004848480047474700464646004545450044444400434343004242420041414100404040003F3F3F003E3E3E003D3D3D003C3C3C003B3B3B003A3A3A00393939003838380037373700363636003535350034343400333333003232320031313100303030002F2F2F002E2E2E002D2D2D002C2C2C002B2B2B002A2A2A00292929002828280027272700262626002525250024242400232323002222220021212100202020001F1F1F001E1E1E001D1D1D001C1C1C001B1B1B001A1A1A00191919001818180017171700161616001515150014141400131313001212120011111100101010000F0F0F000E0E0E000D0D0D000C0C0C000B0B0B000A0A0A000909090008080800070707000606060005050500040404\n",
      "-----------------------------------------------------------------------------------------------------\n",
      "Header has an Error: see Table above\n",
      "-----------------------------------------------------------------------------------------------------\n"
     ]
    }
   ],
   "source": [
    "\"42 4D 8A 00 DC 00 00 00 00 00 8A 00 00 00 6C 00 00 00 00 14 00 00 00 16 00 00 01 00 04 00 00 00 00 00 00 00 DC 00 13 0B 00 00 13 0B 00 00 04 00 00 00 04 00 00 00 42 47 52 73 00 00 00 00 00 00 00 00 00 00 00 00 00 00 00 00 00 00 00 00 00 00 00 00 00 00 00 00 00 00 00 00 00 00 00 00 00 00 00 00 00 00 00 00 00 00 00 00 02 00 00 00 00 00 00 00 00 00 00 00 00 00 00 00 FD FD FD 00 99 99 99 00 66 66 66 00 03 03 03 00 33 33 33 33\"\n",
    "\n",
    "bmp_header_analysis(bmp_header)"
   ]
  },
  {
   "cell_type": "markdown",
   "metadata": {},
   "source": [
    "## Test your own Header here ;-)"
   ]
  },
  {
   "cell_type": "code",
   "execution_count": 7,
   "metadata": {
    "collapsed": false
   },
   "outputs": [
    {
     "name": "stdout",
     "output_type": "stream",
     "text": [
      "Field name                        | Hex Value  | Add Value  | Comment\n",
      "----------------------------------+------------+------------+----------------------------------------\n",
      "BMP Header Field                  | 4D42       | BM         | BMP Header Field detected => CORRECT\n",
      "BMP file size                     | 000889C6   |   546.4434 | kbytes Filesize\n",
      "Unused 1                          | 0000       | -          | Unused Application specific settings\n",
      "Unused 2                          | 0000       | -          | Unused Application specific settings\n",
      "Offset of BMP Data                | 00000046   |         70 | Offset of BMP Data\n",
      "Number of Bytes in DIP Header     | 00000028   |         40 | Number of Bytes in DIP Header\n",
      "Width of Bitmap in Pixels         | 00000467   |       1127 | px Width of Bitmap\n",
      "Height of Bitmap in Pixels        | 000003E0   |        992 | px Height of Bitmap\n",
      "Number of color planes being used | 0001       |          1 | Number of color planes being used\n",
      "bits/pixels                       | 0004       |          4 | bits/pixels => CORRECT\n",
      "Pixel Array Compression           | 00000000   |          0 | Pixel Array Compression\n",
      "Size of Raw Bitmap Data           | 00000000   |          0 | Raw Bitmap data in bytes\n",
      "pixels/meter X Print Resolution   | 00000EC4   |     96.012 | dpi X Print Resolution\n",
      "pixels/meter Y Print Resolution   | 00000EC4   |     96.012 | dpi Y Print Resolution\n",
      "Numbers of color in palette       | 00000004   |          4 | Colors in Palette => CORRECT\n",
      "Important Colors                  | 00000004   |          4 | Important Colors\n",
      "Color 1                           | FFFFFF     | FFFFFF     | display color for pixel value 0\n",
      "Color 2                           | C0C0C0     | C0C0C0     | display color for pixel value 1\n",
      "Color 3                           | 818181     | 818181     | display color for pixel value 2\n",
      "Color 4                           | 424242     | 424242     | display color for pixel value 3\n",
      "Raw Bitmap Data                   | see below  | -          | Raw Bitmap Data\n",
      "3333333333333333333333333333333333333333333333333333333333333333333333333333333333333333333333333333333333333333333333333333333333333333333333333333333333333333333333333333333333333333333333333333333333333333333333333333333333333333333333333333333333333333333333333333333333333333333333333333333333333333333333333333333333333333333333333333333333333333333333333333333333333333333333333333333333333333333333333333333333333333333333333333333333333333333333333333333333333333333333333333333333333333333300000000000000000000\n",
      "-----------------------------------------------------------------------------------------------------\n",
      "Header is CORRECT\n",
      "-----------------------------------------------------------------------------------------------------\n"
     ]
    }
   ],
   "source": [
    "bmp_header =\"42 4D C6 89 08 00 00 00 00 00 46 00 00 00 28 00 00 00 67 04 00 00 E0 03 00 00 01 00 04 00 00 00 00 00 00 00 00 00 C4 0E 00 00 C4 0E 00 00 04 00 00 00 04 00 00 00 FF FF FF FF C0 C0 C0 FF 81 81 81 FF 42 42 42 FF 00 00 00 00 00 00 00 00 00 00 33 33 33 33 33 33 33 33 33 33 33 33 33 33 33 33 33 33 33 33 33 33 33 33 33 33 33 33 33 33 33 33 33 33 33 33 33 33 33 33 33 33 33 33 33 33 33 33 33 33 33 33 33 33 33 33 33 33 33 33 33 33 33 33 33 33 33 33 33 33 33 33 33 33 33 33 33 33 33 33 33 33 33 33 33 33 33 33 33 33 33 33 33 33 33 33 33 33 33 33 33 33 33 33 33 33 33 33 33 33 33 33 33 33 33 33 33 33 33 33 33 33 33 33 33 33 33 33 33 33 33 33 33 33 33 33 33 33 33 33 33 33 33 33 33 33 33 33 33 33 33 33 33 33 33 33 33 33 33 33 33 33 33 33 33 33 33 33 33 33 33 33 33 33 33 33 33 33 33 33 33 33 33 33 33 33 33 33 33 33 33 33 33 33 33 33 33 33 33 33 33 33 33 33 33 33 33 33 33 33 33 33 33 33 33 33 33 33 33 33 33 33 33 33 33 33 33 33 33 33 33 33 33 33 33 33 33 33 33 33 33 33 33 33 33 33 33 33 33 33\"\n",
    "bmp_header_analysis(bmp_header)"
   ]
  },
  {
   "cell_type": "code",
   "execution_count": 8,
   "metadata": {
    "collapsed": false
   },
   "outputs": [
    {
     "name": "stdout",
     "output_type": "stream",
     "text": [
      "Field name                        | Hex Value  | Add Value  | Comment\n",
      "----------------------------------+------------+------------+----------------------------------------\n",
      "BMP Header Field                  | 4D42       | BM         | BMP Header Field detected => CORRECT\n",
      "BMP file size                     | 001D1B4E   |     1.8192 | Mbytes Filesize\n",
      "Unused 1                          | 0000       | -          | Unused Application specific settings\n",
      "Unused 2                          | 0000       | -          | Unused Application specific settings\n",
      "Offset of BMP Data                | 00000056   |         86 | Offset of BMP Data\n",
      "Number of Bytes in DIP Header     | 00000028   |         40 | Number of Bytes in DIP Header\n",
      "Width of Bitmap in Pixels         | 000010AA   |       4266 | px Width of Bitmap\n",
      "Height of Bitmap in Pixels        | 0000037D   |        893 | px Height of Bitmap\n",
      "Number of color planes being used | 0001       |          1 | Number of color planes being used\n",
      "bits/pixels                       | 0004       |          4 | bits/pixels => CORRECT\n",
      "Pixel Array Compression           | 00000000   |          0 | Pixel Array Compression\n",
      "Size of Raw Bitmap Data           | 001D1AF8   |     1.8191 | Mbytes Raw Bitmap data\n",
      "pixels/meter X Print Resolution   | 0000375D   |   359.9942 | dpi X Print Resolution\n",
      "pixels/meter Y Print Resolution   | 0000375D   |   359.9942 | dpi Y Print Resolution\n",
      "Numbers of color in palette       | 00000008   |          8 | Colors in Palette => ERROR\n",
      "Important Colors                  | 00000000   |          0 | Important Colors\n",
      "Color 1                           | FFFFFF     | FFFFFF     | display color for pixel value 0\n",
      "Color 2                           | DBDBDB     | DBDBDB     | display color for pixel value 1\n",
      "Color 3                           | B7B7B7     | B7B7B7     | display color for pixel value 2\n",
      "Color 4                           | 929292     | 929292     | display color for pixel value 3\n",
      "Raw Bitmap Data                   | see below  | -          | Raw Bitmap Data\n",
      "000000000000000000000000100000010001000000000000010001000000000000000000000001000000000100001000000000000000000000000000001000000001000000000010000001000000001000010010000000000100000000000025252500494949006E6E6E\n",
      "-----------------------------------------------------------------------------------------------------\n",
      "Header has an Error: see Table above\n",
      "-----------------------------------------------------------------------------------------------------\n"
     ]
    }
   ],
   "source": [
    "bmp_header =\"42 4D 4E 1B 1D 00 00 00 00 00 56 00 00 00 28 00 00 00 AA 10 00 00 7D 03 00 00 01 00 04 00 00 00 00 00 F8 1A 1D 00 5D 37 00 00 5D 37 00 00 08 00 00 00 00 00 00 00 FF FF FF 00 DB DB DB 00 B7 B7 B7 00 92 92 92 00 6E 6E 6E 00 49 49 49 00 25 25 25 00 00 00 00 00 00 01 00 00 00 00 10 00 01 00 10 00 00 00 00 01 00 00 10 00 00 00 00 00 01 00 00 00 10 00 00 00 00 00 00 00 00 00 00 00 00 00 00 10 00 00 01 00 00 00 00 01 00 00 00 00 00 00 00 00 00 00 00 01 00 01 00 00 00 00 00 00 01 00 01 00 00 10 00 00 00 00 00 00 00 00 00 00 00 00\"\n",
    "bmp_header_analysis(bmp_header)"
   ]
  },
  {
   "cell_type": "code",
   "execution_count": 10,
   "metadata": {
    "collapsed": false
   },
   "outputs": [
    {
     "name": "stdout",
     "output_type": "stream",
     "text": [
      "Field name                        | Hex Value  | Add Value  | Comment\n",
      "----------------------------------+------------+------------+----------------------------------------\n",
      "BMP Header Field                  | 4D42       | BM         | BMP Header Field detected => CORRECT\n",
      "BMP file size                     | 00DC008A   |    13.7501 | Mbytes Filesize\n",
      "Unused 1                          | 0000       | -          | Unused Application specific settings\n",
      "Unused 2                          | 0000       | -          | Unused Application specific settings\n",
      "Offset of BMP Data                | 0000008A   |        138 | Offset of BMP Data\n",
      "Number of Bytes in DIP Header     | 0000006C   |        108 | Number of Bytes in DIP Header\n",
      "Width of Bitmap in Pixels         | 00001400   |       5120 | px Width of Bitmap\n",
      "Height of Bitmap in Pixels        | 00001600   |       5632 | px Height of Bitmap\n",
      "Number of color planes being used | 0001       |          1 | Number of color planes being used\n",
      "bits/pixels                       | 0004       |          4 | bits/pixels => CORRECT\n",
      "Pixel Array Compression           | 00000000   |          0 | Pixel Array Compression\n",
      "Size of Raw Bitmap Data           | 00DC0000   |      13.75 | Mbytes Raw Bitmap data\n",
      "pixels/meter X Print Resolution   | 00005C46   |   599.9988 | dpi X Print Resolution\n",
      "pixels/meter Y Print Resolution   | 00005C46   |   599.9988 | dpi Y Print Resolution\n",
      "Numbers of color in palette       | 00000004   |          4 | Colors in Palette => CORRECT\n",
      "Important Colors                  | 00000004   |          4 | Important Colors\n",
      "Color 1                           | FDFDFD     | FDFDFD     | display color for pixel value 0\n",
      "Color 2                           | 9999       | 9999       | display color for pixel value 1\n",
      "Color 3                           |            |            | display color for pixel value 2\n",
      "Color 4                           |            |            | display color for pixel value 3\n",
      "Raw Bitmap Data                   |            | -          | Raw Bitmap Data\n",
      "-----------------------------------------------------------------------------------------------------\n",
      "Header is CORRECT\n",
      "-----------------------------------------------------------------------------------------------------\n"
     ]
    }
   ],
   "source": [
    "bmp_header = \"42 4D 8A 00 DC 00 00 00 00 00 8A 00 00 00 6C 00 00 00 00 14 00 00 00 16 00 00 01 00 04 00 00 00 00 00 00 00 DC 00 46 5C 00 00 46 5C 00 00 04 00 00 00 04 00 00 00 42 47 52 73 00 00 00 00 00 00 00 00 00 00 00 00 00 00 00 00 00 00 00 00 00 00 00 00 00 00 00 00 00 00 00 00 00 00 00 00 00 00 00 00 00 00 00 00 00 00 00 00 02 00 00 00 00 00 00 00 00 00 00 00 00 00 00 00 FD FD FD 00 99 99\"\n",
    "bmp_header_analysis(bmp_header)"
   ]
  },
  {
   "cell_type": "code",
   "execution_count": 11,
   "metadata": {
    "collapsed": false
   },
   "outputs": [
    {
     "name": "stdout",
     "output_type": "stream",
     "text": [
      "Field name                        | Hex Value  | Add Value  | Comment\n",
      "----------------------------------+------------+------------+----------------------------------------\n",
      "BMP Header Field                  | 4D42       | BM         | BMP Header Field detected => CORRECT\n",
      "BMP file size                     | 000000DA   |        218 | Filesize in bytes\n",
      "Unused 1                          | 0000       | -          | Unused Application specific settings\n",
      "Unused 2                          | 0000       | -          | Unused Application specific settings\n",
      "Offset of BMP Data                | 0000008A   |        138 | Offset of BMP Data\n",
      "Number of Bytes in DIP Header     | 0000006C   |        108 | Number of Bytes in DIP Header\n",
      "Width of Bitmap in Pixels         | 0000000F   |         15 | px Width of Bitmap\n",
      "Height of Bitmap in Pixels        | 0000000A   |         10 | px Height of Bitmap\n",
      "Number of color planes being used | 0001       |          1 | Number of color planes being used\n",
      "bits/pixels                       | 0004       |          4 | bits/pixels => CORRECT\n",
      "Pixel Array Compression           | 00000000   |          0 | Pixel Array Compression\n",
      "Size of Raw Bitmap Data           | 00000050   |         80 | Raw Bitmap data in bytes\n",
      "pixels/meter X Print Resolution   | 0000530C   |    540.004 | dpi X Print Resolution\n",
      "pixels/meter Y Print Resolution   | 0000375D   |   359.9942 | dpi Y Print Resolution\n",
      "Numbers of color in palette       | 00000004   |          4 | Colors in Palette => CORRECT\n",
      "Important Colors                  | 00000004   |          4 | Important Colors\n",
      "Color 1                           | FFFFFF     | FFFFFF     | display color for pixel value 0\n",
      "Color 2                           | AAAAAA     | AAAAAA     | display color for pixel value 1\n",
      "Color 3                           | 555555     | 555555     | display color for pixel value 2\n",
      "Color 4                           | 000000     | 000000     | display color for pixel value 3\n",
      "Raw Bitmap Data                   | see below  | -          | Raw Bitmap Data\n",
      "0033333333330000003333333333000000333333333300000033333333330000003333333333\n",
      "-----------------------------------------------------------------------------------------------------\n",
      "Header is CORRECT\n",
      "-----------------------------------------------------------------------------------------------------\n"
     ]
    }
   ],
   "source": [
    "bmp_header = \"42 4D DA 00 00 00 00 00 00 00 8A 00 00 00 6C 00 00 00 0F 00 00 00 0A 00 00 00 01 00 04 00 00 00 00 00 50 00 00 00 0C 53 00 00 5D 37 00 00 04 00 00 00 04 00 00 00 42 47 52 73 00 00 00 00 00 00 00 00 00 00 00 00 00 00 00 00 00 00 00 00 00 00 00 00 00 00 00 00 00 00 00 00 00 00 00 00 00 00 00 00 00 00 00 00 00 00 00 00 02 00 00 00 00 00 00 00 00 00 00 00 00 00 00 00 FF FF FF 00 AA AA AA 00 55 55 55 00 00 00 00 00 33 33 33 33 33 00 00 00 33 33 33 33 33 00 00 00 33 33 33 33 33 00 00 00 33 33 33 33 33 00 00 00 33 33 33 33 33 00\"\n",
    "bmp_header_analysis(bmp_header)"
   ]
  },
  {
   "cell_type": "code",
   "execution_count": null,
   "metadata": {},
   "outputs": [],
   "source": []
  }
 ],
 "metadata": {
  "kernelspec": {
   "display_name": "Python 3",
   "language": "python",
   "name": "python3"
  },
  "language_info": {
   "codemirror_mode": {
    "name": "ipython",
    "version": 3
   },
   "file_extension": ".py",
   "mimetype": "text/x-python",
   "name": "python",
   "nbconvert_exporter": "python",
   "pygments_lexer": "ipython3",
   "version": "3.6.5"
  }
 },
 "nbformat": 4,
 "nbformat_minor": 2
}
