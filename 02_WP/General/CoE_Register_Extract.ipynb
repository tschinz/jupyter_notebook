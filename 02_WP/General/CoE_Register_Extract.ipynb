{
 "cells": [
  {
   "cell_type": "markdown",
   "metadata": {},
   "source": [
    "# Coe Register Extract"
   ]
  },
  {
   "cell_type": "markdown",
   "metadata": {},
   "source": [
    "Register Extract Function"
   ]
  },
  {
   "cell_type": "code",
   "execution_count": 1,
   "metadata": {
    "collapsed": false
   },
   "outputs": [],
   "source": [
    "import binascii\n",
    "\n",
    "def register_extract(hex_string='abcd0123', definition=([ 0, 'RegisterName', 'Comment'],) ):\n",
    "  num_of_bits = 32\n",
    "  bin_string = bin(int(hex_string, 16))[2:].zfill(num_of_bits)\n",
    "  \n",
    "  print(\"^ Hexadezimal Value: 0x{0} {1}  =>  Binary Value: 0b{2} {3} {4} {5} {6} {7} {8} {9} ^^^\".format(hex_string[0:4],hex_string[4:8], bin_string[0:4], bin_string[4:8], bin_string[8:12], bin_string[12:16], bin_string[16:20], bin_string[20:24], bin_string[24:28], bin_string[28:32]))\n",
    "  print(\"^ {0:>4} ^  {1:>15} ^ {2:50} ^\".format(\"Bit\", \"Registername\", \"Comment\"))\n",
    "  \n",
    "  for i in range(num_of_bits):\n",
    "    for entry in definition:\n",
    "      bit = bin_string[num_of_bits-1-i]\n",
    "      if bit == \"1\" and entry[0] == i:\n",
    "        print(\"| {0:4} | {1:>16} | {2:50} |\".format(i, entry[1], entry[2]))\n",
    "  print(\"\")"
   ]
  },
  {
   "cell_type": "markdown",
   "metadata": {},
   "source": [
    "## CoE 0x8000 - Print Mode Setup Register (PrintControl)\n",
    "[WpWiki CoE Registers](http://wpwiki/doku.php?id=internal:cpp:products:coeregisters)\n",
    "\n",
    "Link table doc [PrintMode-PrintControl](PrintMode%20-%20PrintControl.ipynb)"
   ]
  },
  {
   "cell_type": "code",
   "execution_count": 2,
   "metadata": {
    "collapsed": false
   },
   "outputs": [],
   "source": [
    "printModeSetup_def  = ([ 4, '', 'Drop Multiplication'],)\n",
    "printModeSetup_def += ([ 8, '', 'Start Absolut'],)\n",
    "printModeSetup_def += ([ 9, '', 'Start Relativ'],)\n",
    "printModeSetup_def += ([10, '', 'Activate Img Offset'],)\n",
    "printModeSetup_def += ([11, '', 'Activate Img Shift'],)\n",
    "printModeSetup_def += ([12, '', 'ImageRotation'],)\n",
    "printModeSetup_def += ([13, '', 'ImageMapping'],)\n",
    "printModeSetup_def += ([16, '', 'Flip-X'],)\n",
    "printModeSetup_def += ([17, '', 'Flip-Y'],)\n",
    "printModeSetup_def += ([18, '', 'Activate Masking'],)\n",
    "printModeSetup_def += ([24, '', 'Emulation Encoder'],)\n",
    "printModeSetup_def += ([25, '', 'Use HW Encoder'],)\n",
    "printModeSetup_def += ([26, '', 'Reverse HW Encoder'],)\n",
    "printModeSetup_def += ([27, '', 'Encoder Single Phase Mode'],)\n",
    "printModeSetup_def += ([28, '', 'RS422 option [0] 0=HW_Enc, 1=Dropwatcher, 2=Cam_Sync, 3=NoOutput'],)\n",
    "printModeSetup_def += ([29, '', 'RS422 option [1] 0=HW_Enc, 1=Dropwatcher, 2=Cam_Sync, 3=NoOutput'],)"
   ]
  },
  {
   "cell_type": "markdown",
   "metadata": {},
   "source": [
    "### Digiround Settings"
   ]
  },
  {
   "cell_type": "code",
   "execution_count": 3,
   "metadata": {
    "collapsed": false
   },
   "outputs": [
    {
     "name": "stdout",
     "output_type": "stream",
     "text": [
      "^ Hexadezimal Value: 0x0004 0C00  =>  Binary Value: 0b0000 0000 0000 0100 0000 1100 0000 0000 ^^^\n",
      "^  Bit ^     Registername ^ Comment                                            ^\n",
      "|   10 |                  | Activate Img Offset                                |\n",
      "|   11 |                  | Activate Img Shift                                 |\n",
      "|   18 |                  | Activate Masking                                   |\n",
      "\n",
      "^ Hexadezimal Value: 0x0004 2C00  =>  Binary Value: 0b0000 0000 0000 0100 0010 1100 0000 0000 ^^^\n",
      "^  Bit ^     Registername ^ Comment                                            ^\n",
      "|   10 |                  | Activate Img Offset                                |\n",
      "|   11 |                  | Activate Img Shift                                 |\n",
      "|   13 |                  | ImageMapping                                       |\n",
      "|   18 |                  | Activate Masking                                   |\n",
      "\n"
     ]
    }
   ],
   "source": [
    "register_extract(\"00040C00\", printModeSetup_def) # Digiround Settings original\n",
    "register_extract(\"00042C00\", printModeSetup_def) # Digiround Settings with image mapping"
   ]
  },
  {
   "cell_type": "markdown",
   "metadata": {},
   "source": [
    "### Arcolor Settings"
   ]
  },
  {
   "cell_type": "code",
   "execution_count": 4,
   "metadata": {
    "collapsed": false,
    "scrolled": false
   },
   "outputs": [
    {
     "name": "stdout",
     "output_type": "stream",
     "text": [
      "^ Hexadezimal Value: 0x1002 0C10  =>  Binary Value: 0b0001 0000 0000 0010 0000 1100 0001 0000 ^^^\n",
      "^  Bit ^     Registername ^ Comment                                            ^\n",
      "|    4 |                  | Drop Multiplication                                |\n",
      "|   10 |                  | Activate Img Offset                                |\n",
      "|   11 |                  | Activate Img Shift                                 |\n",
      "|   17 |                  | Flip-Y                                             |\n",
      "|   28 |                  | RS422 option [0] 0=HW_Enc, 1=Dropwatcher, 2=Cam_Sync, 3=NoOutput |\n",
      "\n"
     ]
    }
   ],
   "source": [
    "# Old < FPGA v1.3.0\n",
    "#register_extract(\"00021C10\", printModeSetup_def) #          Flip Y <- Used @ Arcolor 20170608\n",
    "# New >= FPGA v1.3.0\n",
    "#register_extract(\"10010C10\", printModeSetup_def) # Flip X\n",
    "#register_extract(\"10011C10\", printModeSetup_def) # Flip X\n",
    "#register_extract(\"10021C10\", printModeSetup_def) #          Flip Y <- Used @ Arcolor 20170608\n",
    "#register_extract(\"10031C10\", printModeSetup_def) # Flip X + Flip Y\n",
    "\n",
    "#register_extract(\"10001C10\", printModeSetup_def) # Flip X + Flip Y\n",
    "\n",
    "\n",
    "register_extract(\"10020C10\", printModeSetup_def) #          Flip Y <- Used @ Arcolor 20170608"
   ]
  },
  {
   "cell_type": "markdown",
   "metadata": {},
   "source": [
    "### Krones Settings"
   ]
  },
  {
   "cell_type": "code",
   "execution_count": 5,
   "metadata": {
    "collapsed": false,
    "scrolled": true
   },
   "outputs": [
    {
     "name": "stdout",
     "output_type": "stream",
     "text": [
      "^ Hexadezimal Value: 0x0004 0C00  =>  Binary Value: 0b0000 0000 0000 0100 0000 1100 0000 0000 ^^^\n",
      "^  Bit ^     Registername ^ Comment                                            ^\n",
      "|   10 |                  | Activate Img Offset                                |\n",
      "|   11 |                  | Activate Img Shift                                 |\n",
      "|   18 |                  | Activate Masking                                   |\n",
      "\n",
      "^ Hexadezimal Value: 0x0007 0C00  =>  Binary Value: 0b0000 0000 0000 0111 0000 1100 0000 0000 ^^^\n",
      "^  Bit ^     Registername ^ Comment                                            ^\n",
      "|   10 |                  | Activate Img Offset                                |\n",
      "|   11 |                  | Activate Img Shift                                 |\n",
      "|   16 |                  | Flip-X                                             |\n",
      "|   17 |                  | Flip-Y                                             |\n",
      "|   18 |                  | Activate Masking                                   |\n",
      "\n"
     ]
    }
   ],
   "source": [
    "register_extract(\"00040C00\", printModeSetup_def) # Technikum Machine\n",
    "register_extract(\"00070C00\", printModeSetup_def) # DecoType + Flip X + Flip Y"
   ]
  },
  {
   "cell_type": "markdown",
   "metadata": {},
   "source": [
    "### Steinemann DMAX CPI-Books Settings\n",
    "DMAX CPI-Books default settings without Camera"
   ]
  },
  {
   "cell_type": "code",
   "execution_count": 6,
   "metadata": {
    "collapsed": false
   },
   "outputs": [
    {
     "name": "stdout",
     "output_type": "stream",
     "text": [
      "^ Hexadezimal Value: 0x0005 1C10  =>  Binary Value: 0b0000 0000 0000 0101 0001 1100 0001 0000 ^^^\n",
      "^  Bit ^     Registername ^ Comment                                            ^\n",
      "|    4 |                  | Drop Multiplication                                |\n",
      "|   10 |                  | Activate Img Offset                                |\n",
      "|   11 |                  | Activate Img Shift                                 |\n",
      "|   12 |                  | ImageRotation                                      |\n",
      "|   16 |                  | Flip-X                                             |\n",
      "|   18 |                  | Activate Masking                                   |\n",
      "\n",
      "^ Hexadezimal Value: 0x1005 1C10  =>  Binary Value: 0b0001 0000 0000 0101 0001 1100 0001 0000 ^^^\n",
      "^  Bit ^     Registername ^ Comment                                            ^\n",
      "|    4 |                  | Drop Multiplication                                |\n",
      "|   10 |                  | Activate Img Offset                                |\n",
      "|   11 |                  | Activate Img Shift                                 |\n",
      "|   12 |                  | ImageRotation                                      |\n",
      "|   16 |                  | Flip-X                                             |\n",
      "|   18 |                  | Activate Masking                                   |\n",
      "|   28 |                  | RS422 option [0] 0=HW_Enc, 1=Dropwatcher, 2=Cam_Sync, 3=NoOutput |\n",
      "\n"
     ]
    }
   ],
   "source": [
    "register_extract(\"00051C10\", printModeSetup_def) # Dmax (Printlack, Mainfranken)\n",
    "register_extract(\"10051C10\", printModeSetup_def) # Dmax (Printlack, Mainfranken)"
   ]
  },
  {
   "cell_type": "markdown",
   "metadata": {},
   "source": [
    "DMAX CPI-Books settings with Camera Sync Output"
   ]
  },
  {
   "cell_type": "code",
   "execution_count": 7,
   "metadata": {
    "collapsed": false
   },
   "outputs": [
    {
     "name": "stdout",
     "output_type": "stream",
     "text": [
      "^ Hexadezimal Value: 0x2005 1C10  =>  Binary Value: 0b0010 0000 0000 0101 0001 1100 0001 0000 ^^^\n",
      "^  Bit ^     Registername ^ Comment                                            ^\n",
      "|    4 |                  | Drop Multiplication                                |\n",
      "|   10 |                  | Activate Img Offset                                |\n",
      "|   11 |                  | Activate Img Shift                                 |\n",
      "|   12 |                  | ImageRotation                                      |\n",
      "|   16 |                  | Flip-X                                             |\n",
      "|   18 |                  | Activate Masking                                   |\n",
      "|   29 |                  | RS422 option [1] 0=HW_Enc, 1=Dropwatcher, 2=Cam_Sync, 3=NoOutput |\n",
      "\n",
      "^ Hexadezimal Value: 0x0006 1C10  =>  Binary Value: 0b0000 0000 0000 0110 0001 1100 0001 0000 ^^^\n",
      "^  Bit ^     Registername ^ Comment                                            ^\n",
      "|    4 |                  | Drop Multiplication                                |\n",
      "|   10 |                  | Activate Img Offset                                |\n",
      "|   11 |                  | Activate Img Shift                                 |\n",
      "|   12 |                  | ImageRotation                                      |\n",
      "|   17 |                  | Flip-Y                                             |\n",
      "|   18 |                  | Activate Masking                                   |\n",
      "\n",
      "^ Hexadezimal Value: 0x0007 1C10  =>  Binary Value: 0b0000 0000 0000 0111 0001 1100 0001 0000 ^^^\n",
      "^  Bit ^     Registername ^ Comment                                            ^\n",
      "|    4 |                  | Drop Multiplication                                |\n",
      "|   10 |                  | Activate Img Offset                                |\n",
      "|   11 |                  | Activate Img Shift                                 |\n",
      "|   12 |                  | ImageRotation                                      |\n",
      "|   16 |                  | Flip-X                                             |\n",
      "|   17 |                  | Flip-Y                                             |\n",
      "|   18 |                  | Activate Masking                                   |\n",
      "\n"
     ]
    }
   ],
   "source": [
    "register_extract(\"20051C10\", printModeSetup_def) # Dmax @ Steinemann + Camera sync\n",
    "register_extract(\"00061C10\", printModeSetup_def)\n",
    "register_extract(\"00071C10\", printModeSetup_def)"
   ]
  },
  {
   "cell_type": "markdown",
   "metadata": {},
   "source": [
    "## Steinemann DMAX WinTaiWoo Settings"
   ]
  },
  {
   "cell_type": "code",
   "execution_count": 8,
   "metadata": {
    "collapsed": false
   },
   "outputs": [
    {
     "name": "stdout",
     "output_type": "stream",
     "text": [
      "^ Hexadezimal Value: 0x0005 1C10  =>  Binary Value: 0b0000 0000 0000 0101 0001 1100 0001 0000 ^^^\n",
      "^  Bit ^     Registername ^ Comment                                            ^\n",
      "|    4 |                  | Drop Multiplication                                |\n",
      "|   10 |                  | Activate Img Offset                                |\n",
      "|   11 |                  | Activate Img Shift                                 |\n",
      "|   12 |                  | ImageRotation                                      |\n",
      "|   16 |                  | Flip-X                                             |\n",
      "|   18 |                  | Activate Masking                                   |\n",
      "\n",
      "^ Hexadezimal Value: 0x1005 1C10  =>  Binary Value: 0b0001 0000 0000 0101 0001 1100 0001 0000 ^^^\n",
      "^  Bit ^     Registername ^ Comment                                            ^\n",
      "|    4 |                  | Drop Multiplication                                |\n",
      "|   10 |                  | Activate Img Offset                                |\n",
      "|   11 |                  | Activate Img Shift                                 |\n",
      "|   12 |                  | ImageRotation                                      |\n",
      "|   16 |                  | Flip-X                                             |\n",
      "|   18 |                  | Activate Masking                                   |\n",
      "|   28 |                  | RS422 option [0] 0=HW_Enc, 1=Dropwatcher, 2=Cam_Sync, 3=NoOutput |\n",
      "\n",
      "^ Hexadezimal Value: 0x1005 1C20  =>  Binary Value: 0b0001 0000 0000 0101 0001 1100 0010 0000 ^^^\n",
      "^  Bit ^     Registername ^ Comment                                            ^\n",
      "|   10 |                  | Activate Img Offset                                |\n",
      "|   11 |                  | Activate Img Shift                                 |\n",
      "|   12 |                  | ImageRotation                                      |\n",
      "|   16 |                  | Flip-X                                             |\n",
      "|   18 |                  | Activate Masking                                   |\n",
      "|   28 |                  | RS422 option [0] 0=HW_Enc, 1=Dropwatcher, 2=Cam_Sync, 3=NoOutput |\n",
      "\n",
      "^ Hexadezimal Value: 0x0004 1C10  =>  Binary Value: 0b0000 0000 0000 0100 0001 1100 0001 0000 ^^^\n",
      "^  Bit ^     Registername ^ Comment                                            ^\n",
      "|    4 |                  | Drop Multiplication                                |\n",
      "|   10 |                  | Activate Img Offset                                |\n",
      "|   11 |                  | Activate Img Shift                                 |\n",
      "|   12 |                  | ImageRotation                                      |\n",
      "|   18 |                  | Activate Masking                                   |\n",
      "\n"
     ]
    }
   ],
   "source": [
    "register_extract(\"00051C10\", printModeSetup_def) # Dmax @ Steinemann\n",
    "register_extract(\"10051C10\", printModeSetup_def) # Dmax @ Steinemann + Dropwatcher output\n",
    "register_extract(\"10051C20\", printModeSetup_def) # Dmax @ Steinemann + Dropwatcher output\n",
    "register_extract(\"00041C10\", printModeSetup_def) # DEM @ Gallus"
   ]
  },
  {
   "cell_type": "markdown",
   "metadata": {},
   "source": [
    "## XPrinter Settings"
   ]
  },
  {
   "cell_type": "code",
   "execution_count": 9,
   "metadata": {
    "collapsed": false
   },
   "outputs": [
    {
     "name": "stdout",
     "output_type": "stream",
     "text": [
      "^ Hexadezimal Value: 0x0007 0C00  =>  Binary Value: 0b0000 0000 0000 0111 0000 1100 0000 0000 ^^^\n",
      "^  Bit ^     Registername ^ Comment                                            ^\n",
      "|   10 |                  | Activate Img Offset                                |\n",
      "|   11 |                  | Activate Img Shift                                 |\n",
      "|   16 |                  | Flip-X                                             |\n",
      "|   17 |                  | Flip-Y                                             |\n",
      "|   18 |                  | Activate Masking                                   |\n",
      "\n"
     ]
    }
   ],
   "source": [
    "register_extract(\"00070C00\", printModeSetup_def) # DecoType + Flip X + Flip Y"
   ]
  },
  {
   "cell_type": "code",
   "execution_count": 10,
   "metadata": {
    "collapsed": false
   },
   "outputs": [
    {
     "name": "stdout",
     "output_type": "stream",
     "text": [
      "^ Hexadezimal Value: 0x0006 0C00  =>  Binary Value: 0b0000 0000 0000 0110 0000 1100 0000 0000 ^^^\n",
      "^  Bit ^     Registername ^ Comment                                            ^\n",
      "|   10 |                  | Activate Img Offset                                |\n",
      "|   11 |                  | Activate Img Shift                                 |\n",
      "|   17 |                  | Flip-Y                                             |\n",
      "|   18 |                  | Activate Masking                                   |\n",
      "\n"
     ]
    }
   ],
   "source": [
    "register_extract(\"00060C00\", printModeSetup_def)"
   ]
  },
  {
   "cell_type": "markdown",
   "metadata": {},
   "source": [
    "## CoE 0xA010:06 - Print Mode Register (aka Job Settings)\n",
    "[WpWiki CoE Registers](http://wpwiki/doku.php?id=internal:cpp:products:coeregisters)\n",
    "\n",
    "Link table doc [PrintMode-Job](PrintMode%20-%20Job.ipynb)"
   ]
  },
  {
   "cell_type": "code",
   "execution_count": 11,
   "metadata": {
    "collapsed": false
   },
   "outputs": [
    {
     "name": "stdout",
     "output_type": "stream",
     "text": [
      "^ Hexadezimal Value: 0xffff ffff  =>  Binary Value: 0b1111 1111 1111 1111 1111 1111 1111 1111 ^^^\n",
      "^  Bit ^     Registername ^ Comment                                            ^\n",
      "|    8 |      SRC_NOTHING | -                                                  |\n",
      "|    9 |      SRC_PATTERN | Fix pattern                                        |\n",
      "|   10 |      SRC_GIGABIT | Data taken from Ethernet Gigabit interface         |\n",
      "|   11 |          SRC_FOE | Data taken from File over EtherCAT interface       |\n",
      "|   13 |          ENDLESS | wrap mode is enabled in the JetMapping part        |\n",
      "|   16 |         INFINITE | -                                                  |\n",
      "|   17 |     PREPOSTBLANK | Added PrePost Blank on the image                   |\n",
      "|   18 |        SEGMENTED | -                                                  |\n",
      "|   22 |            BPP_0 | -                                                  |\n",
      "|   23 |            BPP_1 | -                                                  |\n",
      "|   31 |             TEST | -                                                  |\n",
      "\n",
      "^ Hexadezimal Value: 0x0082 0800  =>  Binary Value: 0b0000 0000 1000 0010 0000 1000 0000 0000 ^^^\n",
      "^  Bit ^     Registername ^ Comment                                            ^\n",
      "|   11 |          SRC_FOE | Data taken from File over EtherCAT interface       |\n",
      "|   17 |     PREPOSTBLANK | Added PrePost Blank on the image                   |\n",
      "|   23 |            BPP_1 | -                                                  |\n",
      "\n",
      "^ Hexadezimal Value: 0x0086 0400  =>  Binary Value: 0b0000 0000 1000 0110 0000 0100 0000 0000 ^^^\n",
      "^  Bit ^     Registername ^ Comment                                            ^\n",
      "|   10 |      SRC_GIGABIT | Data taken from Ethernet Gigabit interface         |\n",
      "|   17 |     PREPOSTBLANK | Added PrePost Blank on the image                   |\n",
      "|   18 |        SEGMENTED | -                                                  |\n",
      "|   23 |            BPP_1 | -                                                  |\n",
      "\n",
      "^ Hexadezimal Value: 0x0086 0800  =>  Binary Value: 0b0000 0000 1000 0110 0000 1000 0000 0000 ^^^\n",
      "^  Bit ^     Registername ^ Comment                                            ^\n",
      "|   11 |          SRC_FOE | Data taken from File over EtherCAT interface       |\n",
      "|   17 |     PREPOSTBLANK | Added PrePost Blank on the image                   |\n",
      "|   18 |        SEGMENTED | -                                                  |\n",
      "|   23 |            BPP_1 | -                                                  |\n",
      "\n"
     ]
    }
   ],
   "source": [
    "printMode_def =  ([ 8, 'SRC_NOTHING' , '-'],)\n",
    "printMode_def += ([ 9, 'SRC_PATTERN' , 'Fix pattern'],)\n",
    "printMode_def += ([10, 'SRC_GIGABIT' , 'Data taken from Ethernet Gigabit interface'],)\n",
    "printMode_def += ([11, 'SRC_FOE'     , 'Data taken from File over EtherCAT interface'],)\n",
    "printMode_def += ([13, 'ENDLESS'     , 'wrap mode is enabled in the JetMapping part'],)\n",
    "printMode_def += ([16, 'INFINITE'    , '-'],)\n",
    "printMode_def += ([17, 'PREPOSTBLANK', 'Added PrePost Blank on the image'],)\n",
    "printMode_def += ([18, 'SEGMENTED'   , '-'],)\n",
    "printMode_def += ([22, 'BPP_0'       , '-'],)\n",
    "printMode_def += ([23, 'BPP_1'       , '-'],)\n",
    "printMode_def += ([31, 'TEST'        , '-'],)\n",
    "\n",
    "register_extract(\"ffffffff\", printMode_def)\n",
    "register_extract(\"00820800\", printMode_def)\n",
    "register_extract(\"00860400\", printMode_def)\n",
    "\n",
    "register_extract(\"00860800\", printMode_def)"
   ]
  },
  {
   "cell_type": "markdown",
   "metadata": {},
   "source": [
    "## CoE 0x8041:02 - Test pattern config\n",
    "[WpWiki CoE Registers](http://wpwiki/doku.php?id=internal:cpp:products:coeregisters)"
   ]
  },
  {
   "cell_type": "code",
   "execution_count": 12,
   "metadata": {
    "collapsed": false
   },
   "outputs": [
    {
     "name": "stdout",
     "output_type": "stream",
     "text": [
      "^ Hexadezimal Value: 0xffff ffff  =>  Binary Value: 0b1111 1111 1111 1111 1111 1111 1111 1111 ^^^\n",
      "^  Bit ^     Registername ^ Comment                                            ^\n",
      "|    0 |             VOID | clear memory                                       |\n",
      "|    1 |             FULL | fill memory                                        |\n",
      "|    2 |            LINEX | lines in x                                         |\n",
      "|    3 |            LINEY | lines in y                                         |\n",
      "|    4 |            CHECK | check board                                        |\n",
      "|    5 |           NOZZLE | ?                                                  |\n",
      "|    6 |             DIAG | ?                                                  |\n",
      "|    7 |             GRAY | ?                                                  |\n",
      "|    8 |             EVEN | ?                                                  |\n",
      "|    9 |              ODD | ?                                                  |\n",
      "|   10 |          ROWTEST | ?                                                  |\n",
      "\n"
     ]
    }
   ],
   "source": [
    "pattern_def =  ([ 0, 'VOID'     , 'clear memory'],)\n",
    "pattern_def += ([ 1, 'FULL'     , 'fill memory'],)\n",
    "pattern_def += ([ 2, 'LINEX'    , 'lines in x'],)\n",
    "pattern_def += ([ 3, 'LINEY'    , 'lines in y'],)\n",
    "pattern_def += ([ 4, 'CHECK'    , 'check board'],)\n",
    "pattern_def += ([ 5, 'NOZZLE'   , '?'],)\n",
    "pattern_def += ([ 6, 'DIAG'     , '?'],)\n",
    "pattern_def += ([ 7, 'GRAY'     , '?'],)\n",
    "pattern_def += ([ 8, 'EVEN'     , '?'],)\n",
    "pattern_def += ([ 9, 'ODD'      , '?'],)\n",
    "pattern_def += ([ 10,'ROWTEST'  , '?'],)\n",
    "\n",
    "register_extract(\"ffffffff\", pattern_def)\n"
   ]
  },
  {
   "cell_type": "markdown",
   "metadata": {},
   "source": [
    "## CoE 0xA011:03 - Job status\n",
    "[WpWiki CoE Registers](http://wpwiki/doku.php?id=internal:cpp:products:coeregisters)"
   ]
  },
  {
   "cell_type": "code",
   "execution_count": 13,
   "metadata": {
    "collapsed": false
   },
   "outputs": [
    {
     "name": "stdout",
     "output_type": "stream",
     "text": [
      "^ Hexadezimal Value: 0xffff ffff  =>  Binary Value: 0b1111 1111 1111 1111 1111 1111 1111 1111 ^^^\n",
      "^  Bit ^     Registername ^ Comment                                            ^\n",
      "|    0 |            ERROR | Error exists in job preparing                      |\n",
      "|    1 |            READY | Current job is ready for printing                  |\n",
      "|    4 |  TRANSFER_ACTIVE | Data is being downloaded at the moment             |\n",
      "|    5 |      TRANSFER_25 | Transfer progress, if both flags are active this means the transfer is at 50% |\n",
      "|    6 |      TRANSFER_50 | Transfer progress, transfer is at 50%              |\n",
      "|    7 |    TRANSFER_DONE | Active when job has been transferred completely    |\n",
      "|   16 |      TRANSFER_R0 | file requested for channel 0                       |\n",
      "|   17 |      TRANSFER_R1 | file requested for channel 1                       |\n",
      "|   18 |      TRANSFER_R2 | file requested for channel 2                       |\n",
      "|   19 |      TRANSFER_R3 | file requested for channel 3                       |\n",
      "|   20 |   TRANSFER_READY | Transfer ready for download                        |\n",
      "|   28 |           LOCKED | Current job is locked                              |\n",
      "\n",
      "^ Hexadezimal Value: 0x1010 0010  =>  Binary Value: 0b0001 0000 0001 0000 0000 0000 0001 0000 ^^^\n",
      "^  Bit ^     Registername ^ Comment                                            ^\n",
      "|    4 |  TRANSFER_ACTIVE | Data is being downloaded at the moment             |\n",
      "|   20 |   TRANSFER_READY | Transfer ready for download                        |\n",
      "|   28 |           LOCKED | Current job is locked                              |\n",
      "\n"
     ]
    }
   ],
   "source": [
    "job_status =  ([ 0, 'ERROR'                , 'Error exists in job preparing'],)\n",
    "job_status += ([ 1, 'READY'                , 'Current job is ready for printing'],)\n",
    "job_status += ([ 4, 'TRANSFER_ACTIVE'      , 'Data is being downloaded at the moment'],)\n",
    "job_status += ([ 5, 'TRANSFER_25'          , 'Transfer progress, if both flags are active this means the transfer is at 50%'],)\n",
    "job_status += ([ 6, 'TRANSFER_50'          , 'Transfer progress, transfer is at 50%'],)\n",
    "job_status += ([ 7, 'TRANSFER_DONE'        , 'Active when job has been transferred completely'],)\n",
    "job_status += ([ 16, 'TRANSFER_R0'         , 'file requested for channel 0'],)\n",
    "job_status += ([ 17, 'TRANSFER_R1'         , 'file requested for channel 1'],)\n",
    "job_status += ([ 18, 'TRANSFER_R2'         , 'file requested for channel 2'],)\n",
    "job_status += ([ 19, 'TRANSFER_R3'         , 'file requested for channel 3'],)\n",
    "job_status += ([ 20, 'TRANSFER_READY'      , 'Transfer ready for download'],)\n",
    "job_status += ([ 28, 'LOCKED'              , 'Current job is locked'],)\n",
    "\n",
    "register_extract(\"ffffffff\", job_status)\n",
    "register_extract(\"10100010\", job_status)"
   ]
  }
 ],
 "metadata": {
  "kernelspec": {
   "display_name": "Python 3",
   "language": "python",
   "name": "python3"
  },
  "language_info": {
   "codemirror_mode": {
    "name": "ipython",
    "version": 3
   },
   "file_extension": ".py",
   "mimetype": "text/x-python",
   "name": "python",
   "nbconvert_exporter": "python",
   "pygments_lexer": "ipython3",
   "version": "3.6.5"
  }
 },
 "nbformat": 4,
 "nbformat_minor": 2
}
