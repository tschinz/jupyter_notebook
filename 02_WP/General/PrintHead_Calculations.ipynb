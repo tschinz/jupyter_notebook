{
 "cells": [
  {
   "cell_type": "markdown",
   "metadata": {},
   "source": [
    "# Printhead Calculations"
   ]
  },
  {
   "cell_type": "markdown",
   "metadata": {},
   "source": [
    "## Pixel Pitch\n",
    "$pixel_{Pitch} = \\frac{25400\\frac{\\mu m}{inch}}{{Resolution}}$\n",
    "\n",
    "$sub\\_pixel_{Pitch} = \\frac{25400\\frac{\\mu m}{inch}}{{Resolution*NbrOfSubpixels}}$"
   ]
  },
  {
   "cell_type": "code",
   "execution_count": 1,
   "metadata": {
    "collapsed": false
   },
   "outputs": [
    {
     "name": "stdout",
     "output_type": "stream",
     "text": [
      "Resolution:  150 dpi   Pixel Pitch: 169.33333333333334 um   Sub Pixel Pitch: 5.291666666666667 um\n",
      "Resolution:  360 dpi   Pixel Pitch: 70.55555555555556 um   Sub Pixel Pitch: 2.204861111111111 um\n",
      "Resolution:  600 dpi   Pixel Pitch: 42.333333333333336 um   Sub Pixel Pitch: 1.3229166666666667 um\n",
      "Resolution: 1200 dpi   Pixel Pitch: 21.166666666666668 um   Sub Pixel Pitch: 0.6614583333333334 um\n",
      "Resolution: 2400 dpi   Pixel Pitch: 10.583333333333334 um   Sub Pixel Pitch: 0.3307291666666667 um\n",
      "Resolution: 4800 dpi   Pixel Pitch: 5.291666666666667 um   Sub Pixel Pitch: 0.16536458333333334 um\n"
     ]
    }
   ],
   "source": [
    "import numpy as np\n",
    "resolutions    = [150, 360, 600, 1200, 2400, 4800] # dpi\n",
    "inch2cm        = 2.54 # cm/inch\n",
    "nbrOfSubpixels = 32\n",
    "\n",
    "# Calulation Pixel Pinch\n",
    "pixel_pitch = np.empty(shape=[len(resolutions)], dtype=np.float64) # um\n",
    "for i in range(len(resolutions)):\n",
    "  pixel_pitch[i] = (inch2cm/resolutions[i])*10000\n",
    "\n",
    "# Calculation Subpixel Pinch\n",
    "sub_pixel_pitch = np.empty(shape=[len(resolutions)], dtype=np.float64) # um\n",
    "for i in range(len(resolutions)):\n",
    "  sub_pixel_pitch[i] = pixel_pitch[i]/nbrOfSubpixels\n",
    "  \n",
    "for i in range(len(resolutions)):\n",
    "  print(\"Resolution: {:4} dpi   Pixel Pitch: {} um   Sub Pixel Pitch: {} um\".format(resolutions[i], pixel_pitch[i], sub_pixel_pitch[i]))\n",
    "  "
   ]
  },
  {
   "cell_type": "markdown",
   "metadata": {},
   "source": [
    "Error in Pixel Pitch $\\Delta x_{Pitch}$because of substrate speed and clock frequency\n",
    "$\\Delta x_{Pitch} = v_{Substrate}∙\\Delta t$\n",
    "\n",
    "Error is the modulus of the achieved and the ideal pixel pitch.\n",
    "$e = Rest(\\frac{pixel_{Pitch}}{\\Delta x_{Raster}})$"
   ]
  },
  {
   "cell_type": "code",
   "execution_count": 2,
   "metadata": {
    "collapsed": false
   },
   "outputs": [
    {
     "data": {
      "text/plain": [
       "Text(0.5,1,'Pixel Pitch Errors @ 360dpi')"
      ]
     },
     "execution_count": 2,
     "metadata": {},
     "output_type": "execute_result"
    }
   ],
   "source": [
    "import numpy as np\n",
    "import pylab as pl\n",
    "pl.clf()\n",
    "frequencies = [50e6, 100e6, 150e6, 200e6] # MHz\n",
    "speed = np.linspace(0,10,50) # 50 x points from 0m/s to 10m/s\n",
    "\n",
    "for freq in frequencies:\n",
    "  delta_x_pitch = (speed*100000) * 1/freq # um/s / s\n",
    "  #error = numpy.mod(pixel_pitch[1],delta_x_pitch)\n",
    "  # Plot graph  \n",
    "  pl.plot(speed,delta_x_pitch,label=str(int(freq/1000000))+\" MHz\")\n",
    "\n",
    "# Place legend, Axis and Title\n",
    "pl.legend(loc='best')\n",
    "pl.xlabel(\"Speed [m/s]\")\n",
    "pl.ylabel(\"$\\Delta$ x_pitch or Error [um]\")\n",
    "pl.title(\"Pixel Pitch Errors @ {}dpi\".format(resolutions[1]))"
   ]
  },
  {
   "cell_type": "markdown",
   "metadata": {},
   "source": [
    "## Resolution"
   ]
  },
  {
   "cell_type": "code",
   "execution_count": 3,
   "metadata": {
    "collapsed": false
   },
   "outputs": [
    {
     "name": "stdout",
     "output_type": "stream",
     "text": [
      "Resolution: 150.1182033096927 dpi   Pixel Pitch: 0.1692 um\n"
     ]
    }
   ],
   "source": [
    "pixel_pitch = 0.1692 # mm\n",
    "inch2cm = 2.54 # cm/inch\n",
    "resolution = (inch2cm/pixel_pitch)*10\n",
    "print(\"Resolution: {:4} dpi   Pixel Pitch: {} um\".format(resolution, pixel_pitch))"
   ]
  },
  {
   "cell_type": "markdown",
   "metadata": {},
   "source": [
    "## Stitching"
   ]
  },
  {
   "cell_type": "markdown",
   "metadata": {},
   "source": [
    "### For Steinemann machine (KonicaMinolta KM1024i)\n",
    "$pixel_{overlap} = \\frac{ph_{resolution}}{2.54\\frac{cm}{inch}* ph_{overlapping}}$"
   ]
  },
  {
   "cell_type": "code",
   "execution_count": 4,
   "metadata": {
    "collapsed": false
   },
   "outputs": [
    {
     "name": "stdout",
     "output_type": "stream",
     "text": [
      "27.77952755905512 dots\n"
     ]
    }
   ],
   "source": [
    "ph_resolution  = 360   # dpi\n",
    "inch2cm        = 2.54  # cm/inch\n",
    "ph_overlapping = 0.196 # cm\n",
    "\n",
    "pixel_overlap = ph_resolution / inch2cm * ph_overlapping\n",
    "\n",
    "print(\"{} dots\".format(pixel_overlap))"
   ]
  },
  {
   "cell_type": "markdown",
   "metadata": {},
   "source": [
    "## Pixel distance"
   ]
  },
  {
   "cell_type": "markdown",
   "metadata": {},
   "source": [
    "### KonicaMinolta KM1024i & KM1024\n",
    "$ pixel_{pitch} = \\frac{25.4\\frac{mm}{inch}}{ph_{resolution}} $"
   ]
  },
  {
   "cell_type": "markdown",
   "metadata": {},
   "source": [
    "# Printing Speed"
   ]
  },
  {
   "cell_type": "markdown",
   "metadata": {},
   "source": [
    "$pixel_{pitch} = \\frac{25.4\\frac{mm}{inch}}{resolution_{ph}} = [mm]$\n",
    "\n",
    "$freq_{adjusted} = \\frac{freq_{ph}*percent_{speed}}{100} = [Hz]$\n",
    "\n",
    "$speed = pixel_{pitch} * freq_{adjusted} * \\frac{resolution_{ph}}{resolution_{job}} = [\\frac{mm}{s}]$"
   ]
  },
  {
   "cell_type": "code",
   "execution_count": 2,
   "metadata": {
    "collapsed": false
   },
   "outputs": [
    {
     "name": "stdout",
     "output_type": "stream",
     "text": [
      "==== Printspeed km1024i ====\n",
      "Pixel Pinch = 0.07055555555555555 mm\n",
      "Adjusted Frequency = 100% of 30000.0 Hz = 30000.0 Hz\n",
      "Speed = 1058.3333333333333 mm/s\n",
      "Speed = 1.0583333333333333 m/s\n",
      "==== Printspeed km800i ====\n",
      "Pixel Pinch = 0.042333333333333334 mm\n",
      "Adjusted Frequency = 100% of 60000.0 Hz = 60000.0 Hz\n",
      "Speed = 2540.0 mm/s\n",
      "Speed = 2.54 m/s\n"
     ]
    }
   ],
   "source": [
    "print(\"==== Printspeed km1024i ====\")\n",
    "resolution_job = 720  # dpi\n",
    "resolution_ph  = 360  # dpi\n",
    "f_ph           = 30e3 # Hz\n",
    "speed_percent  = 100  # %\n",
    "#-------------------------------------\n",
    "inch2mm     = 25.4 # mm/inch\n",
    "#-------------------------------------\n",
    "pixel_pinch = inch2mm/resolution_ph          # (inch/mm)/(dot/inch) = mm/dot\n",
    "adjusted_frequency = f_ph / 100 * speed_percent # Hz\n",
    "\n",
    "speed = pixel_pinch * adjusted_frequency * resolution_ph/resolution_job # (mm/dot) * 1/s * (dot/inch)/(dot/inch) = mm/s\n",
    "\n",
    "print(\"Pixel Pinch = {} mm\".format(pixel_pinch))\n",
    "print(\"Adjusted Frequency = {}% of {} Hz = {} Hz\".format(speed_percent, f_ph, adjusted_frequency))\n",
    "\n",
    "print(\"Speed = {} mm/s\".format(speed))\n",
    "print(\"Speed = {} m/s\".format(speed/1000))\n",
    "\n",
    "print(\"==== Printspeed km800i ====\")\n",
    "resolution_job = 600  # dpi\n",
    "resolution_ph  = 600  # dpi\n",
    "f_ph           = 60e3 # Hz\n",
    "speed_percent  = 100  # %\n",
    "#-------------------------------------\n",
    "inch2mm     = 25.4 # mm/inch\n",
    "#-------------------------------------\n",
    "pixel_pinch = inch2mm/resolution_ph          # (inch/mm)/(dot/inch) = mm/dot\n",
    "adjusted_frequency = f_ph / 100 * speed_percent # Hz\n",
    "\n",
    "speed = pixel_pinch * adjusted_frequency * resolution_ph/resolution_job # (mm/dot) * 1/s * (dot/inch)/(dot/inch) = mm/s\n",
    "\n",
    "print(\"Pixel Pinch = {} mm\".format(pixel_pinch))\n",
    "print(\"Adjusted Frequency = {}% of {} Hz = {} Hz\".format(speed_percent, f_ph, adjusted_frequency))\n",
    "\n",
    "print(\"Speed = {} mm/s\".format(speed))\n",
    "print(\"Speed = {} m/s\".format(speed/1000))"
   ]
  },
  {
   "cell_type": "markdown",
   "metadata": {},
   "source": [
    "# Print dimension"
   ]
  },
  {
   "cell_type": "markdown",
   "metadata": {},
   "source": [
    "For calculating the Printing dimensions in x and y axis. The following values are needed.\n",
    "* section_witdh = Number of bytes of a section. Can be found in CoE Memory Organization 8040:1\n",
    "* section_depth = Number of bytes of a section. Can be found in CoE Memory Organization 8040:2\n",
    "* Number of sections = Number of bytes of a section. Can be found in CoE Memory Organization 8040:3\n",
    "* Number_of_channels = Equals number of colors per board\n",
    "* Resolution of the Printhead"
   ]
  },
  {
   "cell_type": "markdown",
   "metadata": {},
   "source": [
    "$print_{width} = section_{width} * 2\\frac{pixel}{byte} * \\frac{0.0254\\frac{m}{inch}}{ph_{dpi}} = [m]$\n",
    "\n",
    "$print_{length} = section_{depth} * section_{numbers} * 2\\frac{pixel}{byte} * \\frac{0.0254\\frac{m}{inch}}{ph_{dpi}} = [m]$"
   ]
  },
  {
   "cell_type": "code",
   "execution_count": 6,
   "metadata": {
    "collapsed": false
   },
   "outputs": [],
   "source": [
    "import math\n",
    "def printing_dimensions(section_width, section_depth, section_numbers, number_of_channels, ph_dpi):\n",
    "  \"\"\"\n",
    "  printing_dimensions calculates the printing width and length of a printhead with the available memory\n",
    "  :param section_width      : (bytes^=pixel/channel) Can be found in CoE Memory Organization 8040:1\n",
    "  :param section_depth      : (bytes => 1 byte=2 px) Can be found in CoE Memory Organization 8040:2\n",
    "  :param section_numbers    : Can be found in CoE Memory Organization 8040:3\n",
    "  :param number_of_channels : Equals number of colors per board\n",
    "  :param ph_dpi             : Dpi of the printheads\n",
    "  :return print_width       : height (cross print axis) in mm of the printable width per printhead\n",
    "  :return print_length      : length (print axis) in mm of the printable job\n",
    "  \"\"\"\n",
    "  # Constants\n",
    "  inch2m     = 0.0254 # m/inch\n",
    "  pixel_byte = 2      # pixel/byte\n",
    "  \n",
    "  # Calc Pixel Pitch\n",
    "  pixel_pitch = inch2m/ph_dpi # in m\n",
    "  \n",
    "  # Calc Print width = Y Axis = Crossprint Axis\n",
    "  section_width_pixel = section_width # this is already in bytes (1 byte = 1 px)\n",
    "  print_width = section_width_pixel*pixel_pitch\n",
    "  \n",
    "  # Calc Print length = X Axis = Print Axis\n",
    "  section_depth_pixel = section_depth * pixel_byte\n",
    "  print_length = section_depth_pixel*section_numbers*pixel_pitch\n",
    "  \n",
    "  # Calc memory size\n",
    "  memory_size_byte  = section_width*section_depth*section_numbers*number_of_channels\n",
    "  memory_size_pixel = memory_size_byte * pixel_byte\n",
    "  \n",
    "  # Print\n",
    "  print(\"Memory Size              : {} MBytes = {} MPixels\".format((memory_size_byte/1000/1000), (memory_size_pixel/1000/1000)))\n",
    "  print(\"PixelPitch @ {:3}dpi     : {} um\".format(ph_dpi,pixel_pitch*1000*1000))\n",
    "  print(\"Image width              : {} mm\".format(print_width*1000))\n",
    "  print(\"Print length             : {} m\".format(print_length))\n",
    "  \n",
    "  # m_number_of_sections=MEMORY_SIZE/(Memory_Section::get_width()*Memory_Section::get_depth()*anheads);\n",
    "  # m_memory_depth=m_number_of_sections*Memory_Section::get_depth();\n",
    "  \n",
    "  return print_width, print_length\n",
    "\n",
    "def biggest_multipage_job(print_length, max_image_size):\n",
    "  \"\"\"\n",
    "  calculates the max number of multipages in job with a given substratesize (max_image_size).\n",
    "  :param print_length       : max length of the job according to printing_dimensions() return value\n",
    "  :param max_image_size     : max size of one image\n",
    "  :return nbr_of_multipages : max number of multipage in the entire job\n",
    "  \"\"\"\n",
    "  nbr_of_multipages = print_length*1000/max_image_size\n",
    "  print(\"Max Number of Multipages : {} pages = {} pages\".format(nbr_of_multipages, int(math.floor(nbr_of_multipages))))\n",
    "  return nbr_of_multipages"
   ]
  },
  {
   "cell_type": "markdown",
   "metadata": {},
   "source": [
    "## Techma 4"
   ]
  },
  {
   "cell_type": "code",
   "execution_count": 7,
   "metadata": {
    "collapsed": false
   },
   "outputs": [
    {
     "name": "stdout",
     "output_type": "stream",
     "text": [
      "Memory Size              : 1056.964608 MBytes = 2113.929216 MPixels\n",
      "PixelPitch @ 600dpi     : 42.33333333333333 um\n",
      "Image width              : 130.048 mm\n",
      "Print length             : 29.130751999999998 m\n",
      "Print length (4GB)       : 116.52300799999999 m\n"
     ]
    }
   ],
   "source": [
    "section_width      = 3072  # bytes = pixel\n",
    "section_depth      = 16384 # bytes (1 bytes = 1 px)\n",
    "section_numbers    = 21    # Nbr per Channel (Color)\n",
    "number_of_channels = 1     # Number of printheads per board\n",
    "ph_dpi             = 600   # dpi\n",
    "print_width, print_length = printing_dimensions(section_width, section_depth, section_numbers, number_of_channels, ph_dpi)\n",
    "\n",
    "# For 4 GB of RAM\n",
    "print_length = print_length *4\n",
    "print(\"Print length (4GB)       : {} m\".format(print_length))"
   ]
  },
  {
   "cell_type": "markdown",
   "metadata": {},
   "source": [
    "## Digiround"
   ]
  },
  {
   "cell_type": "code",
   "execution_count": 8,
   "metadata": {
    "collapsed": false
   },
   "outputs": [
    {
     "name": "stdout",
     "output_type": "stream",
     "text": [
      "Memory Size              : 1056.964608 MBytes = 2113.929216 MPixels\n",
      "PixelPitch @ 360dpi     : 70.55555555555556 um\n",
      "Image width              : 108.37333333333333 mm\n",
      "Print length             : 24.275626666666668 m\n",
      "Max Number of Multipages : 86.10210210210211 pages = 86 pages\n"
     ]
    }
   ],
   "source": [
    "section_width      = 1536  # bytes ^= pixel per channel\n",
    "section_depth      = 8192  # bytes => 1bytes = 2 pixel (by 4bpp)\n",
    "section_numbers    = 21    # Nbr per Channel (Color)\n",
    "number_of_channels = 4     # Number of printheads per board\n",
    "ph_dpi             = 360   # dpi\n",
    "subrate_length     = (281.94, 125.56) # (x, y) in mm (DART_24PX_SHORT_CMYK)\n",
    "print_width, print_length = printing_dimensions(section_width, section_depth, section_numbers, number_of_channels, ph_dpi)\n",
    "nbr_of_multipages = biggest_multipage_job(print_length,subrate_length[0] )"
   ]
  },
  {
   "cell_type": "markdown",
   "metadata": {},
   "source": [
    "## RDA Multihead"
   ]
  },
  {
   "cell_type": "code",
   "execution_count": 9,
   "metadata": {
    "collapsed": false
   },
   "outputs": [
    {
     "name": "stdout",
     "output_type": "stream",
     "text": [
      "Memory Size              : 1056.964608 MBytes = 2113.929216 MPixels\n",
      "PixelPitch @ 360dpi     : 70.55555555555556 um\n",
      "Image width              : 108.37333333333333 mm\n",
      "Print length             : 24.275626666666668 m\n",
      "Max Number of Multipages : 210.0291105954608 pages = 210 pages\n"
     ]
    }
   ],
   "source": [
    "section_width      = 1536  # bytes ^= pixel per channel\n",
    "section_depth      = 8192  # bytes => 1bytes = 2 pixel (by 4bpp)\n",
    "section_numbers    = 21    # Nbr per Channel (Color)\n",
    "number_of_channels = 4     # Number of printheads per board\n",
    "ph_dpi             = 360   # dpi\n",
    "subrate_length     = (115.5822, 80) # (x, y) in mm\n",
    "print_width, print_length = printing_dimensions(section_width, section_depth, section_numbers, number_of_channels, ph_dpi)\n",
    "nbr_of_multipages = biggest_multipage_job(print_length,subrate_length[0] )"
   ]
  },
  {
   "cell_type": "markdown",
   "metadata": {},
   "source": [
    "# Fire Time"
   ]
  },
  {
   "cell_type": "code",
   "execution_count": 13,
   "metadata": {
    "collapsed": false
   },
   "outputs": [
    {
     "name": "stdout",
     "output_type": "stream",
     "text": [
      "Speed         = 10 m/min = 0.1667 m/s\n",
      "Resolution    = 1200 dpi\n",
      "Fire Time GS1 = 0.000127 s = 7.874 kHz\n",
      "Fire Time GS3 = 0.000381 s = 23.62 kHz\n",
      "Distance       = 6.667e-07 \n",
      "\n",
      "Speed         = 66 m/min = 1.1 m/s\n",
      "Resolution    = 600 dpi\n",
      "Fire Time GS1 = 3.848e-05 s = 25.98 kHz\n",
      "Fire Time GS3 = 0.0001155 s = 77.95 kHz\n",
      "Distance       = 0.0001018 \n",
      "\n",
      "Speed         = 10 m/min = 0.1667 m/s\n",
      "Resolution    = 150 dpi\n",
      "Fire Time GS1 = 0.001016 s = 0.9843 kHz\n",
      "Fire Time GS3 = 0.003048 s = 2.953 kHz\n",
      "Distance       = -0.0001475 \n",
      "\n",
      "Speed         = 50 m/min = 0.8333 m/s\n",
      "Resolution    = 150 dpi\n",
      "Fire Time GS1 = 0.0002032 s = 4.921 kHz\n",
      "Fire Time GS3 = 0.0006096 s = 14.76 kHz\n",
      "Distance       = -6.017e-05 \n",
      "\n"
     ]
    }
   ],
   "source": [
    "def calc_fire_time(speed=10, dpi=1200): # speed = [m/min] dpi = [dpi]\n",
    "  inch2m      = 0.0254\n",
    "  pixel_pitch = inch2m/dpi # m\n",
    "  fire_time = float(pixel_pitch) / (float(speed)/float(60))\n",
    "  print(\"Speed         = {} m/min = {:.4} m/s\".format(speed, speed/60))\n",
    "  print(\"Resolution    = {} dpi\".format(dpi))\n",
    "  print(\"Fire Time GS1 = {:.4} s = {:.4} kHz\".format(fire_time, 1/fire_time/1000))\n",
    "  print(\"Fire Time GS3 = {:.4} s = {:.4} kHz\".format(fire_time*3, (1/fire_time/1000)*3))\n",
    "  fire_time_act = 0.000131\n",
    "  dif = fire_time_act - fire_time\n",
    "  dist = float(speed)/float(60)*dif\n",
    "  print(\"Distance       = {:.4} \".format(dist))\n",
    "  print(\"\")\n",
    "\n",
    "calc_fire_time(speed=10,dpi=1200)\n",
    "calc_fire_time(speed=66,dpi=600)\n",
    "calc_fire_time(speed=10,dpi=150)\n",
    "calc_fire_time(speed=50,dpi=150)"
   ]
  }
 ],
 "metadata": {
  "kernelspec": {
   "display_name": "Python 3",
   "language": "python",
   "name": "python3"
  },
  "language_info": {
   "codemirror_mode": {
    "name": "ipython",
    "version": 3
   },
   "file_extension": ".py",
   "mimetype": "text/x-python",
   "name": "python",
   "nbconvert_exporter": "python",
   "pygments_lexer": "ipython3",
   "version": "3.6.5"
  }
 },
 "nbformat": 4,
 "nbformat_minor": 2
}
