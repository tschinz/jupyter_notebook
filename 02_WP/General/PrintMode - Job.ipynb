{
 "cells": [
  {
   "cell_type": "markdown",
   "metadata": {},
   "source": [
    "## PrintMode definition for a print job"
   ]
  },
  {
   "cell_type": "markdown",
   "metadata": {},
   "source": [
    "### generate wiki register documentation"
   ]
  },
  {
   "cell_type": "code",
   "execution_count": 1,
   "metadata": {
    "collapsed": false,
    "scrolled": true
   },
   "outputs": [
    {
     "name": "stdout",
     "output_type": "stream",
     "text": [
      "| bit ^                           Binary ^ Hex      ^   Decimal  ^    ^ Register name   ^ Comment ^\n",
      "|-----|----------------------------------|----------|------------|----|-----------------|--------------------------------|\n",
      "|   0 | 00000000000000000000000000000001 | 00000001 |          1 |  0 |                 |                                |\n",
      "|   1 | 00000000000000000000000000000010 | 00000002 |          2 |  1 |                 |                                |\n",
      "|   2 | 00000000000000000000000000000100 | 00000004 |          4 |  2 |                 |                                |\n",
      "|   3 | 00000000000000000000000000001000 | 00000008 |          8 |  3 |                 |                                |\n",
      "|   4 | 00000000000000000000000000010000 | 00000010 |         16 |  4 |                 |                                |\n",
      "|   5 | 00000000000000000000000000100000 | 00000020 |         32 |  5 |                 |                                |\n",
      "|   6 | 00000000000000000000000001000000 | 00000040 |         64 |  6 |                 |                                |\n",
      "|   7 | 00000000000000000000000010000000 | 00000080 |        128 |  7 |                 |                                |\n",
      "|   8 | 00000000000000000000000100000000 | 00000100 |        256 |  8 | SRC_NOTHING     | -                              |\n",
      "|   9 | 00000000000000000000001000000000 | 00000200 |        512 |  9 | SRC_PATTERN     | Fix pattern                    |\n",
      "|  10 | 00000000000000000000010000000000 | 00000400 |       1024 | 10 | SRC_GIGABIT     | Data taken from Ethernet Gigabit interface |\n",
      "|  11 | 00000000000000000000100000000000 | 00000800 |       2048 | 11 | SRC_FOE         | Data taken from File over EtherCAT interface |\n",
      "|  12 | 00000000000000000001000000000000 | 00001000 |       4096 | 12 |                 |                                |\n",
      "|  13 | 00000000000000000010000000000000 | 00002000 |       8192 | 13 | ENDLESS         | wrap mode is enabled in the JetMapping part |\n",
      "|  14 | 00000000000000000100000000000000 | 00004000 |      16384 | 14 |                 |                                |\n",
      "|  15 | 00000000000000001000000000000000 | 00008000 |      32768 | 15 |                 |                                |\n",
      "|  16 | 00000000000000010000000000000000 | 00010000 |      65536 | 16 | INFINITE        | -                              |\n",
      "|  17 | 00000000000000100000000000000000 | 00020000 |     131072 | 17 | PREPOSTBLANK    |  Added PrePost Blank on the image |\n",
      "|  18 | 00000000000001000000000000000000 | 00040000 |     262144 | 18 | SEGMENTED       | -                              |\n",
      "|  19 | 00000000000010000000000000000000 | 00080000 |     524288 | 19 | VARDATA         | -                              |\n",
      "|  20 | 00000000000100000000000000000000 | 00100000 |    1048576 | 20 |                 |                                |\n",
      "|  21 | 00000000001000000000000000000000 | 00200000 |    2097152 | 21 |                 |                                |\n",
      "|  22 | 00000000010000000000000000000000 | 00400000 |    4194304 | 22 | BPP_0           | -                              |\n",
      "|  23 | 00000000100000000000000000000000 | 00800000 |    8388608 | 23 | BPP_1           | -                              |\n",
      "|  24 | 00000001000000000000000000000000 | 01000000 |   16777216 | 24 |                 |                                |\n",
      "|  25 | 00000010000000000000000000000000 | 02000000 |   33554432 | 25 |                 |                                |\n",
      "|  26 | 00000100000000000000000000000000 | 04000000 |   67108864 | 26 |                 |                                |\n",
      "|  27 | 00001000000000000000000000000000 | 08000000 |  134217728 | 27 |                 |                                |\n",
      "|  28 | 00010000000000000000000000000000 | 10000000 |  268435456 | 28 |                 |                                |\n",
      "|  29 | 00100000000000000000000000000000 | 20000000 |  536870912 | 29 |                 |                                |\n",
      "|  30 | 01000000000000000000000000000000 | 40000000 | 1073741824 | 30 |                 |                                |\n",
      "|  31 | 10000000000000000000000000000000 | 80000000 | 2147483648 | 31 | TEST            | -                              |\n"
     ]
    }
   ],
   "source": [
    "nbr = 32\n",
    "\n",
    "PrintMode =  ([8,  'SRC_NOTHING', '-'],)\n",
    "PrintMode += ([9,  'SRC_PATTERN', 'Fix pattern'],)\n",
    "PrintMode += ([10, 'SRC_GIGABIT', 'Data taken from Ethernet Gigabit interface'],)\n",
    "PrintMode += ([11, 'SRC_FOE',     'Data taken from File over EtherCAT interface'],)\n",
    "PrintMode += ([13, 'ENDLESS',     'wrap mode is enabled in the JetMapping part'],)\n",
    "PrintMode += ([16, 'INFINITE',    '-'],)\n",
    "PrintMode += ([17, 'PREPOSTBLANK',' Added PrePost Blank on the image'],)\n",
    "PrintMode += ([18, 'SEGMENTED',   '-'],)\n",
    "PrintMode += ([19, 'VARDATA',   '-'],)\n",
    "PrintMode += ([22, 'BPP_0',       '-'],)\n",
    "PrintMode += ([23, 'BPP_1',       '-'],)\n",
    "PrintMode += ([31, 'TEST',        '-'],)\n",
    "\n",
    "\n",
    "print(\"| bit ^                           Binary ^ Hex      ^   Decimal  ^    ^ Register name   ^ Comment ^\")\n",
    "print(\"|-----|----------------------------------|----------|------------|----|-----------------|--------------------------------|\")\n",
    "for i in range(nbr):\n",
    "  desc = [0, '', '']\n",
    "  for k in PrintMode:\n",
    "    if k[0] == i:\n",
    "      desc = k\n",
    "  print(\"|{0:4} | {1:032b} | {1:08X} | {1:10d} | {0:2} | {2:15} | {3:30} |\".format(i,1<<i,desc[1],desc[2]))"
   ]
  },
  {
   "cell_type": "markdown",
   "metadata": {},
   "source": [
    "### convert register"
   ]
  },
  {
   "cell_type": "markdown",
   "metadata": {},
   "source": [
    "see Jupyter Notebook -> [CoE_Register_extract](http://jupyter.polytype.com:8888/notebooks/General/CoE_Register_Extract.ipynb)"
   ]
  }
 ],
 "metadata": {
  "kernelspec": {
   "display_name": "Python 3",
   "language": "python",
   "name": "python3"
  },
  "language_info": {
   "codemirror_mode": {
    "name": "ipython",
    "version": 3
   },
   "file_extension": ".py",
   "mimetype": "text/x-python",
   "name": "python",
   "nbconvert_exporter": "python",
   "pygments_lexer": "ipython3",
   "version": "3.6.5"
  }
 },
 "nbformat": 4,
 "nbformat_minor": 2
}
