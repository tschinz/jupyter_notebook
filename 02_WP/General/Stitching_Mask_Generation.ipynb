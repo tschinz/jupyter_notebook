{
 "cells": [
  {
   "cell_type": "markdown",
   "metadata": {},
   "source": [
    "# Stitching Mask Generation\n"
   ]
  },
  {
   "cell_type": "markdown",
   "metadata": {},
   "source": [
    "## Digiround settings\n",
    "### KM1024\n",
    "Mask linear blending [%] calculations for .xlsm file"
   ]
  },
  {
   "cell_type": "code",
   "execution_count": 5,
   "metadata": {
    "collapsed": false
   },
   "outputs": [
    {
     "name": "stdout",
     "output_type": "stream",
     "text": [
      "[ 0.          0.03225806  0.06451613  0.09677419  0.12903226  0.16129032\n",
      "  0.19354839  0.22580645  0.25806452  0.29032258  0.32258065  0.35483871\n",
      "  0.38709677  0.41935484  0.4516129   0.48387097  0.51612903  0.5483871\n",
      "  0.58064516  0.61290323  0.64516129  0.67741935  0.70967742  0.74193548\n",
      "  0.77419355  0.80645161  0.83870968  0.87096774  0.90322581  0.93548387\n",
      "  0.96774194  1.        ]\n"
     ]
    }
   ],
   "source": [
    "import numpy as np\n",
    "stitching_size = 32\n",
    "random_percent = np.linspace(0, 1, stitching_size)\n",
    "print(random_percent)"
   ]
  },
  {
   "cell_type": "code",
   "execution_count": 6,
   "metadata": {
    "collapsed": false
   },
   "outputs": [
    {
     "name": "stdout",
     "output_type": "stream",
     "text": [
      "[ 100.   96.   92.   88.   84.   80.   76.   72.   68.   64.   60.   56.\n",
      "   52.   48.   44.   40.   36.   32.   28.   24.   20.   16.   12.    8.\n",
      "    4.    0.]\n"
     ]
    }
   ],
   "source": [
    "import numpy as np\n",
    "nbr_of_values = 26\n",
    "amplitude_value = np.linspace(100, 0, nbr_of_values)\n",
    "print(amplitude_value)"
   ]
  }
 ],
 "metadata": {
  "kernelspec": {
   "display_name": "Python 3",
   "language": "python",
   "name": "python3"
  },
  "language_info": {
   "codemirror_mode": {
    "name": "ipython",
    "version": 3
   },
   "file_extension": ".py",
   "mimetype": "text/x-python",
   "name": "python",
   "nbconvert_exporter": "python",
   "pygments_lexer": "ipython3",
   "version": "3.6.5"
  }
 },
 "nbformat": 4,
 "nbformat_minor": 2
}
