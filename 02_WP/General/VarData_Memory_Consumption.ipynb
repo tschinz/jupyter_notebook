{
 "cells": [
  {
   "cell_type": "markdown",
   "metadata": {},
   "source": [
    "# VarData Speed Memory Consumption\n",
    "Notebook for calculation a VarData Test Case and have a Unit Number for Comparison\n",
    "\n",
    "For more speed calculations see:\n",
    "[VarData Speed Calculations](http://jupyter.polytype.com:8888/notebooks/General/VarData_SpeedCalculations.ipynb)\n",
    "and \n",
    "[VarData_SpeedCalculation_Comparison](http://jupyter.polytype.com:8888/notebooks/General/VarData_SpeedCalculation_Comparison.ipynb)\n"
   ]
  },
  {
   "cell_type": "code",
   "execution_count": 82,
   "metadata": {
    "collapsed": false
   },
   "outputs": [],
   "source": [
    "import math\n",
    "import datetime\n",
    "import json\n",
    "\n",
    "def varData_speedCalc_consumption(test_case, test_title, test_description, test_time=None, diskdef=None, NumPages=5, ImageSize=8, Channels=1):\n",
    "  \"\"\"\n",
    "  disktype  : selection of disk spec {json}\n",
    "  NumPages  : Number of pages(products) to be printed\n",
    "  ImageSize : size of one image for one color [MByte]\n",
    "  Channels  : number of color channels\n",
    "  \"\"\"\n",
    "  inch2mm          = 25.4  # mm/inch\n",
    "  bpp              = 4.0   # bit/px\n",
    "  KB = 1024\n",
    "  MB = 1024*1024 \n",
    "  GB = 1024*1024*1024\n",
    "  TB = 1024*1024*1024*1024\n",
    "  \n",
    "  if test_time == None:\n",
    "    test_time = datetime.datetime.now()\n",
    "  \n",
    "  # image data requirements\n",
    "  dataBytesPerJob = NumPages * ImageSize * Channels   # image data requirements per job [MBytes]\n",
    "  dataBytesPerJob = dataBytesPerJob * MB   # in [Bytes]\n",
    "  \n",
    "  # spool data requirents\n",
    "  # puc data requirements\n",
    "  # ram data requirements\n",
    "  \n",
    "  # extract disk information\n",
    "  disk = json.loads(diskdef)\n",
    "  disk_size         = disk[\"size\"] if disk[\"size\"] else 0\n",
    "  disk_tbw          = disk[\"TBW\"] if disk[\"TBW\"] else 0\n",
    "  disk_type         = disk[\"type\"] if disk[\"type\"] else 0\n",
    "  disk_manufacturer = disk[\"manufacturer\"] if disk[\"manufacturer\"] else 0\n",
    "  disk_nand         = disk[\"nand\"] if disk[\"nand\"] else 0\n",
    "  \n",
    "  disk_write_speed  = disk[\"writeSpeed\"] if disk[\"writeSpeed\"] else 0\n",
    "  disk_read_speed   = disk[\"readSpeed\"] if disk[\"readSpeed\"] else 0\n",
    "\n",
    "  \n",
    "  # Print all results\n",
    "  print(\"------------------- {} -------------------\".format(test_title))\n",
    "  print(\"-- Test Case: #{}\".format(str(test_case)))\n",
    "  print(\"-- Test Time: {}\".format(str(test_time)))\n",
    "  print(\"----------------------------------------------------------------\")\n",
    "  print(test_description)\n",
    "  print(\"----------------------------------------------------------------\")\n",
    "  print(\"ImageData:          \")\n",
    "  image_size_bytes = dataBytesPerJob\n",
    "  if image_size_bytes < 1024:\n",
    "    print(\"                    {:.3f} Bytes\".format(image_size_bytes))\n",
    "  elif image_size_bytes/1024 < 1024:\n",
    "    print(\"                    {:.3f} kB\".format(image_size_bytes/KB))\n",
    "  elif image_size_bytes/1024/1024 < 1024:\n",
    "    print(\"                    {:.3f} MB\".format(image_size_bytes/MB))\n",
    "  elif image_size_bytes/1024/1024/1024 < 1024:\n",
    "    print(\"                    {:.3f} GB\".format(image_size_bytes/GB))\n",
    "  else:\n",
    "    print(\"                    {:.3f} TB\".format(image_size_bytes/TB))\n",
    "  print(\"\")\n",
    "  print(\"DiskInfo:\")\n",
    "  print(\"- Type             {}, {}, {}\".format(disk_manufacturer, disk_type, disk_nand))\n",
    "  print(\"- Disk size        {:.3f} GB\".format(disk_size))\n",
    "  print(\"- TBW              {:.3f} TB\".format(disk_tbw))\n",
    "  print(\"\")\n",
    "  print(\"-------------------------------------------\")\n",
    "  print(\"Performance (theoretic speed)\")\n",
    "  print(\"- write: {} s\".format(str(datetime.timedelta(seconds=(image_size_bytes/MB)/disk_write_speed))))\n",
    "  print(\"- read:  {} s\".format(str(datetime.timedelta(seconds=(image_size_bytes/MB)/disk_read_speed))))\n",
    "  print(\"\")\n",
    "  print(\"Service plan\")\n",
    "  print(\"--> Disk warranty lost after {} jobs\".format(disk_tbw*TB/image_size_bytes))\n",
    "\n",
    "  print(\"----------------------------------------------------------------\")"
   ]
  },
  {
   "cell_type": "markdown",
   "metadata": {},
   "source": [
    "# SSD Disk definitions\n",
    "Reference all used SSDs here for comparision\n",
    "## Disks"
   ]
  },
  {
   "cell_type": "markdown",
   "metadata": {},
   "source": [
    "### Beckhoff SSD in C6650"
   ]
  },
  {
   "cell_type": "code",
   "execution_count": 83,
   "metadata": {},
   "outputs": [],
   "source": [
    "MZ7KM120 = {\n",
    "  \"type\": \"MZ-7KM120\",\n",
    "  \"manufacturer\":\"Samsung\",\n",
    "  \"size\": 120,\n",
    "  \"TBW\": 750,\n",
    "  \"form\": \"2.5\",\n",
    "  \"connection\":\"SATA III 6.0Gb/s\",\n",
    "  \"nand\": \"MLC\",\n",
    "  \"controller\": \"Mercury\",\n",
    "  \"readSpeed\":500,\n",
    "  \"writeSpeed\":460\n",
    "}\n",
    "\n",
    "MZ7KM120_json = json.dumps(MZ7KM120,sort_keys=True, indent=4, separators=(',', ': '))\n",
    "# print(MZ7KM120_json)\n"
   ]
  },
  {
   "cell_type": "markdown",
   "metadata": {},
   "source": [
    "### Spectra SSD (Cervoz)"
   ]
  },
  {
   "cell_type": "code",
   "execution_count": 84,
   "metadata": {},
   "outputs": [],
   "source": [
    "M335MKB256G = {\n",
    "  \"type\": \"CIS-2SM335MKB256G\",\n",
    "  \"manufacturer\":\"Cervoz\",\n",
    "  \"size\": 256,\n",
    "  \"TBW\": 250,\n",
    "  \"MTBF\":2000000,\n",
    "  \"form\": \"2.5\",\n",
    "  \"connection\":\"SATA III 6.0Gb/s\",\n",
    "  \"nand\": \"MLC\",\n",
    "  \"controller\": \"undef\",\n",
    "  \"readSpeed\":560,\n",
    "  \"writeSpeed\":420\n",
    "}\n",
    "\n",
    "M335MKB256G_json = json.dumps(M335MKB256G,sort_keys=True, indent=4, separators=(',', ': '))\n",
    "# print(M335MKB256G_json)\n"
   ]
  },
  {
   "cell_type": "markdown",
   "metadata": {},
   "source": [
    "## Test Example"
   ]
  },
  {
   "cell_type": "code",
   "execution_count": 85,
   "metadata": {
    "collapsed": false
   },
   "outputs": [
    {
     "name": "stdout",
     "output_type": "stream",
     "text": [
      "------------------- Default Consumption Test -------------------\n",
      "-- Test Case: #1\n",
      "-- Test Time: 2018-10-18 15:15:39.481040\n",
      "----------------------------------------------------------------\n",
      "Digiround Spectra PC \n",
      " DiskType: EVO \n",
      " RAM: 8GB 12800MHz \n",
      " SSD: 120GB \n",
      " 1 Gbps Ethernet Port for Calmar data\n",
      "----------------------------------------------------------------\n",
      "ImageData:          \n",
      "                    3.815 TB\n",
      "\n",
      "DiskInfo:\n",
      "- Type             Samsung, MZ-7KM120, MLC\n",
      "- Disk size        120.000 GB\n",
      "- TBW              750.000 TB\n",
      "\n",
      "-------------------------------------------\n",
      "Performance (theoretic speed)\n",
      "- write: 2:24:55.652174 s\n",
      "- read:  2:13:20 s\n",
      "\n",
      "Service plan\n",
      "--> Disk warranty lost after 196.608 jobs\n",
      "----------------------------------------------------------------\n"
     ]
    }
   ],
   "source": [
    "test_case         = 1 # Unique test number (UTN)\n",
    "test_title        = \"Default Consumption Test\"\n",
    "test_description  = \"Digiround Spectra PC \\n DiskType: EVO \\n RAM: 8GB 12800MHz \\n SSD: 120GB \\n 1 Gbps Ethernet Port for Calmar data\"\n",
    "test_time         = None\n",
    "disk              = MZ7KM120_json    # DiskDefinition   MZ7KM120_json, M335MKB256G_json\n",
    "pages             = 100000           # Number of VD pages\n",
    "page_size         = 8                # Image/Page size in [MB]\n",
    "colors            = 5                # number of color channels\n",
    "\n",
    "varData_speedCalc_consumption(test_case, test_title, test_description, test_time, disk, pages, page_size, colors)"
   ]
  }
 ],
 "metadata": {
  "kernelspec": {
   "display_name": "Python 3",
   "language": "python",
   "name": "python3"
  },
  "language_info": {
   "codemirror_mode": {
    "name": "ipython",
    "version": 3
   },
   "file_extension": ".py",
   "mimetype": "text/x-python",
   "name": "python",
   "nbconvert_exporter": "python",
   "pygments_lexer": "ipython3",
   "version": "3.6.5"
  }
 },
 "nbformat": 4,
 "nbformat_minor": 2
}
