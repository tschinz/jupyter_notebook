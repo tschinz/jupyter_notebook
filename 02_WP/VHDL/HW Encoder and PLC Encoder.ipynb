{
 "cells": [
  {
   "cell_type": "markdown",
   "metadata": {},
   "source": [
    "# HwEnc Calculations"
   ]
  },
  {
   "cell_type": "code",
   "execution_count": 1,
   "metadata": {
    "collapsed": false
   },
   "outputs": [],
   "source": [
    "# Function to calculate the Bits needed for a given number\n",
    "def unsigned_num_bits(num):\n",
    "  _nbits = 1\n",
    "  _n = num\n",
    "  while(_n > 1):\n",
    "    _nbits = _nbits + 1\n",
    "    _n     = _n / 2\n",
    "  return _nbits"
   ]
  },
  {
   "cell_type": "markdown",
   "metadata": {},
   "source": [
    "## Pixel & SubPixel Calculations\n",
    "$ pixel_{Pitch}=\\frac{25400\\frac{\\mu m}{inch}}{{Resolution}} $\n",
    "\n",
    "$ sub\\_pixel_{Pitch}=\\frac{25400\\frac{\\mu m}{inch}}{{Resolution*NbrOfSubpixels}} $"
   ]
  },
  {
   "cell_type": "code",
   "execution_count": 24,
   "metadata": {
    "collapsed": false
   },
   "outputs": [
    {
     "name": "stdout",
     "output_type": "stream",
     "text": [
      "Resolution:  150.00000 dpi   Pixel Pitch:  169.33333 um   Sub Pixel Pitch: 5.29167 um\n",
      "Resolution:  360.00000 dpi   Pixel Pitch:   70.55556 um   Sub Pixel Pitch: 2.20486 um\n",
      "Resolution:  600.00000 dpi   Pixel Pitch:   42.33333 um   Sub Pixel Pitch: 1.32292 um\n",
      "Resolution: 1200.00000 dpi   Pixel Pitch:   21.16667 um   Sub Pixel Pitch: 0.66146 um\n",
      "Resolution: 2400.00000 dpi   Pixel Pitch:   10.58333 um   Sub Pixel Pitch: 0.33073 um\n",
      "Resolution: 4800.00000 dpi   Pixel Pitch:    5.29167 um   Sub Pixel Pitch: 0.16536 um\n"
     ]
    }
   ],
   "source": [
    "import numpy as np\n",
    "resolutions    = [150, 360, 600, 1200, 2400, 4800] # dpi\n",
    "inch2cm        = 2.54 # cm/inch\n",
    "nbrOfSubpixels = 32\n",
    "\n",
    "len(resolutions)\n",
    "# Calulation Pixel Pinch\n",
    "pixel_pitch = np.empty(shape=[ len(resolutions) ], dtype=np.float64) # um\n",
    "for i in range(len(resolutions)):\n",
    "  pixel_pitch[i] = (inch2cm/resolutions[i])*10000\n",
    "\n",
    "# Calculation Subpixel Pinch\n",
    "sub_pixel_pitch = np.empty(shape=[len(resolutions)], dtype=np.float64) # um\n",
    "for i in range(len(resolutions)):\n",
    "  sub_pixel_pitch[i] = pixel_pitch[i]/nbrOfSubpixels\n",
    "  \n",
    "  \n",
    "for i in range(len(resolutions)):\n",
    "  print(\"Resolution: {:>10.5f} dpi   Pixel Pitch: {:>10.5f} um   Sub Pixel Pitch: {:>7.5f} um\".format(resolutions[i], pixel_pitch[i], sub_pixel_pitch[i]))"
   ]
  },
  {
   "cell_type": "markdown",
   "metadata": {},
   "source": [
    "## Resolution Gain Calculations\n",
    "$Resolution_{Gain} = 2^{16}\\frac{Encoder_{Resolution}}{Input_{Resolution}}$"
   ]
  },
  {
   "cell_type": "code",
   "execution_count": 26,
   "metadata": {
    "collapsed": false
   },
   "outputs": [
    {
     "name": "stdout",
     "output_type": "stream",
     "text": [
      "Resolution:  150 dpi   Resolution Gain:  24769.51181 or 0x000060C1 needs 16 Bits\n",
      "Resolution:  360 dpi   Resolution Gain:  59446.82835 or 0x0000E836 needs 17 Bits\n",
      "Resolution:  600 dpi   Resolution Gain:  99078.04724 or 0x00018306 needs 18 Bits\n",
      "Resolution: 1200 dpi   Resolution Gain: 198156.09449 or 0x0003060C needs 19 Bits\n",
      "Resolution: 2400 dpi   Resolution Gain: 396312.18898 or 0x00060C18 needs 20 Bits\n",
      "Resolution: 4800 dpi   Resolution Gain: 792624.37795 or 0x000C1830 needs 21 Bits\n"
     ]
    }
   ],
   "source": [
    "import numpy as np\n",
    "encoder_resolution = 2 # um\n",
    "input_resolution   = sub_pixel_pitch\n",
    "\n",
    "gain = np.empty(shape=[len(resolutions)], dtype=np.float64)\n",
    "for i in range(len(resolutions)):\n",
    "  gain[i] = 2**16 * (encoder_resolution/input_resolution[i])\n",
    "\n",
    "for i in range(len(resolutions)):\n",
    "  print(\"Resolution: {:4} dpi   Resolution Gain: {:>12.5f} or 0x{:08X} needs {} Bits\".format(resolutions[i],gain[i],int(gain[i]),unsigned_num_bits(int(gain[i]))))"
   ]
  },
  {
   "cell_type": "markdown",
   "metadata": {},
   "source": [
    "## HW Encoder divider calculation"
   ]
  },
  {
   "cell_type": "code",
   "execution_count": 6,
   "metadata": {
    "collapsed": false
   },
   "outputs": [
    {
     "name": "stdout",
     "output_type": "stream",
     "text": [
      "Hardware Encoder Settings\n",
      "--------------------------\n",
      "encoder resolution[um]:       6\n",
      "pixel resolution:             600\n",
      "required pulse per pixel:     32\n",
      "\n",
      "pulse per pixel:              7.055555555555556 ( @ 600dpi )\n",
      "HWEnc resolution range:       65536 ( 17bit )\n",
      "Resolution divider:           0.22048611111111113 ( e:6,r:600,s:32 )\n",
      "HWEnc divider:                297234.14173228346 ( rounded: 297234 )\n",
      "\n",
      "Register value\n",
      "--------------------------\n",
      "Enter as HWEnc divder:        0x48912    >>> !!! Hardware Encoder divider has too many bits (max 19bit)\n"
     ]
    }
   ],
   "source": [
    "# Settings\n",
    "encoder_resolution = 6    # external encoder resolution [um p. pulse] \n",
    "input_resolution   = 32   # resolution wanted for interpolator [sub pixel] \n",
    "print_resolution   = 600  # print resolution [dpi]\n",
    "maxResBitNb        = 19   # FPGA limitation for HW Encoder resolution\n",
    "\n",
    "# Calculations & print\n",
    "px_dist = (25.4 * 1000 / print_resolution)     # pixel distance [um]\n",
    "pulse_p_pixel = px_dist / encoder_resolution   # pulse generated between pixel\n",
    "#print \"pixel distance [um]:      {}\".format(px_dist)\n",
    "\n",
    "print(\"Hardware Encoder Settings\")\n",
    "print(\"--------------------------\")\n",
    "print(\"encoder resolution[um]:       {}\".format(encoder_resolution))\n",
    "print(\"pixel resolution:             {}\".format(print_resolution))\n",
    "print(\"required pulse per pixel:     {}\".format(input_resolution))\n",
    "print(\"\")\n",
    "print(\"pulse per pixel:              {} ( @{:4}dpi )\".format(pulse_p_pixel, print_resolution))\n",
    "\n",
    "HW_Enc_resolution_range = 2**16                                   # full divider range of fpga\n",
    "\n",
    "HW_Enc_reso_div       = pulse_p_pixel / input_resolution          # divider needed (exact)\n",
    "HW_Enc_reso_setting_f = HW_Enc_resolution_range / HW_Enc_reso_div # setting for hw encoder resolution (floating number)\n",
    "HW_Enc_reso_setting   = int(HW_Enc_reso_setting_f)                # setting for hw encoder resolution (divider rounded)\n",
    "\n",
    "# if (pulse_p_pixel < input_resolution):\n",
    "# hint = \"!!! Encoder resolution is too small !!!\"\n",
    "if unsigned_num_bits(int(HW_Enc_reso_setting)) > maxResBitNb:\n",
    "  hint = \"!!! Hardware Encoder divider has too many bits (max {}bit)\".format(maxResBitNb)\n",
    "else:\n",
    "  hint = \"Encoder resolution is OK\"\n",
    "\n",
    "print(\"HWEnc resolution range:       {} ( {}bit )\".format(HW_Enc_resolution_range, unsigned_num_bits(int(HW_Enc_resolution_range)-1)))\n",
    "print(\"Resolution divider:           {} ( e:{},r:{},s:{} )\".format(HW_Enc_reso_div, encoder_resolution, print_resolution, input_resolution))\n",
    "print(\"HWEnc divider:                {} ( rounded: {} )\".format(HW_Enc_reso_setting_f, HW_Enc_reso_setting))\n",
    "print(\"\")\n",
    "print(\"Register value\")\n",
    "print(\"--------------------------\")\n",
    "print(\"Enter as HWEnc divder:        0x{:X}\".format(HW_Enc_reso_setting) + \"    >>> \" + hint )\n"
   ]
  },
  {
   "cell_type": "markdown",
   "metadata": {},
   "source": [
    "## Calculation of .... ask FAF"
   ]
  },
  {
   "cell_type": "code",
   "execution_count": 37,
   "metadata": {
    "collapsed": false
   },
   "outputs": [
    {
     "name": "stdout",
     "output_type": "stream",
     "text": [
      "pixel distance      :        21.16667 [um]\n",
      "subpixel speed      :   1511811.02362 [1/s]\n",
      "subpixel/cycle      :      3023.62205 [ - ]\n",
      "Interpolator Period :      8338.66667 [ - ]\n",
      "Print frequency     :     47969.29965 [ - ]\n"
     ]
    }
   ],
   "source": [
    "\n",
    "# Settings\n",
    "speed = 1 # m/s\n",
    "print_resolution   = 1200  # print resolution [dpi]\n",
    "cycle_time = 0.002 # [sec] PLC Cycle Time\n",
    "fpga_clk = 100E6\n",
    "interpolator_step = 128\n",
    "\n",
    "# Calculations & print\n",
    "px_dist = (25.4 * 1000 / print_resolution)     # pixel distance [um]\n",
    "subpixel_sec = (speed * 32) /(px_dist * 0.000001)\n",
    "subpixel_cycle = subpixel_sec * cycle_time\n",
    "\n",
    "print(\"pixel distance      : {:>15.5f} [um]\".format(px_dist))\n",
    "print(\"subpixel speed      : {:>15.5f} [1/s]\".format(subpixel_sec))\n",
    "print(\"subpixel/cycle      : {:>15.5f} [ - ]\".format(subpixel_cycle))\n",
    "\n",
    "# Calculations in NIOS\n",
    "period_base_value = fpga_clk/(1/cycle_time) * interpolator_step\n",
    "output            = period_base_value/subpixel_cycle - interpolator_step\n",
    "freq              = 1/(32*(output/interpolator_step)*1/fpga_clk)\n",
    "print(\"Interpolator Period : {:>15.5f} [ - ]\".format(output))\n",
    "print(\"Print frequency     : {:>15.5f} [ - ]\".format(freq))\n"
   ]
  },
  {
   "cell_type": "markdown",
   "metadata": {},
   "source": [
    "## Calculation PLC Encoder Resolution"
   ]
  },
  {
   "cell_type": "code",
   "execution_count": 38,
   "metadata": {
    "collapsed": false
   },
   "outputs": [
    {
     "name": "stdout",
     "output_type": "stream",
     "text": [
      "Pulse Per Revelation = 53718 Pulses\n",
      "Circumference Wheel  = 282.6 mm = 282600.0um\n",
      "Encoder Resolution   = 5.2608064335976765 um/pulse /4=1.3152016083994191 um/pulse\n"
     ]
    }
   ],
   "source": [
    "# Calc Encoder Resolution\n",
    "def encoder_resolution(pulse_per_rev=0, circumference_wheel_mm=0):\n",
    "  enc_resolution = (circumference_wheel_mm*1000)/pulse_per_rev\n",
    "\n",
    "  print(\"Pulse Per Revelation = {} Pulses\".format(pulse_per_rev))\n",
    "  print(\"Circumference Wheel  = {} mm = {}um\".format(circumference_wheel_mm, circumference_wheel_mm*1000))\n",
    "  print(\"Encoder Resolution   = {} um/pulse /4={} um/pulse\".format(enc_resolution, enc_resolution/4))\n",
    "  \n",
    "#Steinemann\n",
    "pulse_per_rev = 53718 # Pulses per revelation\n",
    "circumference_wheel_mm = 282.6 #mm\n",
    "encoder_resolution(pulse_per_rev, circumference_wheel_mm)"
   ]
  },
  {
   "cell_type": "markdown",
   "metadata": {},
   "source": [
    "## Calculation PLC Encoder Pulses Settings"
   ]
  },
  {
   "cell_type": "code",
   "execution_count": 39,
   "metadata": {
    "collapsed": false
   },
   "outputs": [
    {
     "name": "stdout",
     "output_type": "stream",
     "text": [
      "Encoder Resolution   = 2.012 um/pulse\n",
      "Circumference Wheel  = 282.6 mm = 282600.0um\n",
      "Pulse Per Revelation = 140457.2564612326 Pulses /4=35114.31411530815 Pulses\n"
     ]
    }
   ],
   "source": [
    "# Calc Encoder Pulses Setting\n",
    "def ppr(enc_resolution=0, circumference_wheel_mm=0):\n",
    "  pulse_per_rev = (circumference_wheel_mm*1000)/enc_resolution\n",
    "\n",
    "  print(\"Encoder Resolution   = {} um/pulse\".format(enc_resolution))\n",
    "  print(\"Circumference Wheel  = {} mm = {}um\".format(circumference_wheel_mm, circumference_wheel_mm*1000))\n",
    "  print(\"Pulse Per Revelation = {} Pulses /4={} Pulses\".format(pulse_per_rev, pulse_per_rev/4))\n",
    "\n",
    "enc_resolution = 2.012 # um / pulse\n",
    "circumference_wheel_mm = 282.6 #mm\n",
    "ppr(enc_resolution, circumference_wheel_mm)"
   ]
  },
  {
   "cell_type": "code",
   "execution_count": 40,
   "metadata": {
    "collapsed": false
   },
   "outputs": [
    {
     "name": "stdout",
     "output_type": "stream",
     "text": [
      "Speed => 2.0m/min = 0.03333333333333333m/s\n",
      "Speed => 150.0m/min = 2.5m/s\n"
     ]
    }
   ],
   "source": [
    "def speed_calc(speed):\n",
    "  speed_m_s = speed/60.0\n",
    "  print(\"Speed => {}m/min = {}m/s\".format(speed, speed_m_s))\n",
    "\n",
    "speed = 2.0 # m/min\n",
    "speed_calc(speed)\n",
    "\n",
    "speed = 150.0 # m/min\n",
    "speed_calc(speed)\n",
    "\n",
    " "
   ]
  },
  {
   "cell_type": "markdown",
   "metadata": {},
   "source": [
    "## [Gemini Bug - Print Stops after 2500m](http://gemini/workspace/0/item/2353)"
   ]
  },
  {
   "cell_type": "markdown",
   "metadata": {},
   "source": [
    "$$2^{31}*\\frac{0.0254}{600}*\\frac{1}{32} = 2840m = 2500\\frac{sheets}{90cm} + 25cm(gap)$$"
   ]
  },
  {
   "cell_type": "code",
   "execution_count": 42,
   "metadata": {
    "collapsed": false
   },
   "outputs": [
    {
     "name": "stdout",
     "output_type": "stream",
     "text": [
      "Pixel Pitch    = 4.233333333333333e-05 m\n",
      "Pixels         = 67108864.0 px\n",
      "Pixels         = 0x4000000 px\n",
      "Needs          = 27 bit\n",
      "Counter length = 2840.941909333333 m\n",
      "Total Length   = 2875.0 m\n"
     ]
    }
   ],
   "source": [
    "# Constants\n",
    "dpi            = 600  # dpi\n",
    "inch2mm        = 25.4 # mm/inch\n",
    "subpixels      = 32   # subpixels\n",
    "\n",
    "counterBitNb   = 31   # bit\n",
    "\n",
    "# Calculation\n",
    "pixel_pitch = (((inch2mm/1000)/dpi))\n",
    "counterlength = (2**counterBitNb / subpixels) * pixel_pitch\n",
    "\n",
    "\n",
    "pixels = counterlength / pixel_pitch\n",
    "bits_needed = unsigned_num_bits(int(pixels))\n",
    "\n",
    "print(\"Pixel Pitch    = {} m\".format(pixel_pitch))\n",
    "print(\"Pixels         = {} px\".format(pixels))\n",
    "print(\"Pixels         = 0x{:X} px\".format(int(pixels)))\n",
    "print(\"Needs          = {} bit\".format(bits_needed))\n",
    "print(\"Counter length = {} m\".format(counterlength))\n",
    "\n",
    "\n",
    "# Papers\n",
    "papers    = 2500 # Pcs\n",
    "gap       = 25   # cm\n",
    "papersize = 90   # cm\n",
    "\n",
    "total_length = (papersize+gap)*papers\n",
    "print(\"Total Length   = {} m\".format(total_length/100))"
   ]
  }
 ],
 "metadata": {
  "kernelspec": {
   "display_name": "Python 3",
   "language": "python",
   "name": "python3"
  },
  "language_info": {
   "codemirror_mode": {
    "name": "ipython",
    "version": 3
   },
   "file_extension": ".py",
   "mimetype": "text/x-python",
   "name": "python",
   "nbconvert_exporter": "python",
   "pygments_lexer": "ipython3",
   "version": "3.6.5"
  }
 },
 "nbformat": 4,
 "nbformat_minor": 2
}
