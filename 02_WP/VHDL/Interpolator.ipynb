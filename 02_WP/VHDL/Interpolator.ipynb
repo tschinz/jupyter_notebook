{
 "cells": [
  {
   "cell_type": "markdown",
   "metadata": {},
   "source": [
    "# Fire Calculations"
   ]
  },
  {
   "cell_type": "code",
   "execution_count": 3,
   "metadata": {
    "collapsed": false
   },
   "outputs": [],
   "source": [
    "def fire_calc(speed, dpi):\n",
    "  '''\n",
    "  Calculates the fire period and frequency\n",
    "  e.g.\n",
    "  speed   = 0.5  # m/s\n",
    "  dpi     = 600  # dpi\n",
    "  '''\n",
    "  inch2mm = 25.4 # mm/inch\n",
    "  speed_mm_s = speed*1000 # mm/s\n",
    "  pixel_pitch = (inch2mm/dpi) # mm\n",
    "\n",
    "  fire_freq = speed_mm_s/pixel_pitch # Hz\n",
    "  fire_period = 1/fire_freq\n",
    "\n",
    "  print(\"Calculating Fire Frequency / Time\")\n",
    "  print(\"----------------------------------\")\n",
    "  print(\"Speed = {} m/s\".format(speed))\n",
    "  print(\"DPI   = {}\".format(dpi))\n",
    "  print(\"----------------------------------\")\n",
    "  print(\"Pixel Pitch    = {:>5.3} mm  =  {:>5.4} um\".format(pixel_pitch, pixel_pitch*1000))\n",
    "  print(\"Fire Period    = {:>5.2} s  = {:>5.3} ms = {} us\".format(fire_period, fire_period*1000, fire_period*1000*1000))\n",
    "  print(\"Fire Frequency = {:>5.2} Hz = {:>5.4} kHz = {} MHz\".format(fire_freq, fire_freq/1000, fire_freq/(1000*1000)))"
   ]
  },
  {
   "cell_type": "code",
   "execution_count": 4,
   "metadata": {
    "collapsed": false
   },
   "outputs": [
    {
     "name": "stdout",
     "output_type": "stream",
     "text": [
      "Calculating Fire Frequency / Time\n",
      "----------------------------------\n",
      "Speed = 0.5 m/s\n",
      "DPI   = 600\n",
      "----------------------------------\n",
      "Pixel Pitch    = 0.0423 mm  =  42.33 um\n",
      "Fire Period    = 8.5e-05 s  = 0.0847 ms = 84.66666666666667 us\n",
      "Fire Frequency = 1.2e+04 Hz = 11.81 kHz = 0.011811023622047244 MHz\n"
     ]
    }
   ],
   "source": [
    "speed   = 0.5  # m/s\n",
    "dpi     = 600  # dpi\n",
    "\n",
    "fire_calc(speed, dpi)\n"
   ]
  }
 ],
 "metadata": {
  "kernelspec": {
   "display_name": "Python 3",
   "language": "python",
   "name": "python3"
  },
  "language_info": {
   "codemirror_mode": {
    "name": "ipython",
    "version": 3
   },
   "file_extension": ".py",
   "mimetype": "text/x-python",
   "name": "python",
   "nbconvert_exporter": "python",
   "pygments_lexer": "ipython3",
   "version": "3.6.5"
  }
 },
 "nbformat": 4,
 "nbformat_minor": 2
}
