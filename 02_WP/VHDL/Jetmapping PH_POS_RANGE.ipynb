{
 "cells": [
  {
   "cell_type": "markdown",
   "metadata": {},
   "source": [
    "# Jetmapping Table Pos Range X and Y and Addr Range"
   ]
  },
  {
   "cell_type": "markdown",
   "metadata": {},
   "source": [
    "The calculated values are minium values. The actual values can be seen in the Jetmapping_table.xlsm"
   ]
  },
  {
   "cell_type": "code",
   "execution_count": 2,
   "metadata": {
    "collapsed": false
   },
   "outputs": [],
   "source": [
    "import math\n",
    "\n",
    "def ph_pos_range_calc(pos_max_x, pos_max_y):\n",
    "  ph_pos_range_x = math.log(pos_max_x)/math.log(2)\n",
    "  ph_pos_range_y = math.log(pos_max_y)/math.log(2)\n",
    "  print(\"Pos Range X    : {:.5} => {:2}bit\".format(ph_pos_range_x, int(math.ceil(ph_pos_range_x))))\n",
    "  print(\"Pos Range Y    : {:.5} => {:2}bit\".format(ph_pos_range_y, int(math.ceil(ph_pos_range_y))))\n",
    "  \n",
    "\n",
    "def ph_pos_addr_range_calc(nozzle_nbr):\n",
    "  ph_pos_addr_range = math.log(nozzle_nbr)/math.log(2)\n",
    "  print(\"Pos Addr Range : {:.5} => {:2}bit\".format(ph_pos_addr_range, int(math.ceil(ph_pos_addr_range))))"
   ]
  },
  {
   "cell_type": "markdown",
   "metadata": {},
   "source": [
    "## Kyocera KJ4B 40kHz"
   ]
  },
  {
   "cell_type": "code",
   "execution_count": 2,
   "metadata": {
    "collapsed": false
   },
   "outputs": [
    {
     "name": "stdout",
     "output_type": "stream",
     "text": [
      "Pos Range X    : 8.9069 =>  9bit\n",
      "Pos Range Y    : 11.427 => 12bit\n",
      "Pos Addr Range : 11.374 => 12bit\n"
     ]
    }
   ],
   "source": [
    "ph_pos_range_calc(480, 2753)\n",
    "ph_pos_addr_range_calc(2655)"
   ]
  },
  {
   "cell_type": "markdown",
   "metadata": {},
   "source": [
    "## Kyocera KJ4B STDV 30k"
   ]
  },
  {
   "cell_type": "code",
   "execution_count": 3,
   "metadata": {
    "collapsed": false
   },
   "outputs": [
    {
     "name": "stdout",
     "output_type": "stream",
     "text": [
      "Pos Range X    : 8.6294 =>  9bit\n",
      "Pos Range Y    : 11.427 => 12bit\n",
      "Pos Addr Range : 11.374 => 12bit\n"
     ]
    }
   ],
   "source": [
    "ph_pos_range_calc(396, 2753)\n",
    "ph_pos_addr_range_calc(2655)"
   ]
  },
  {
   "cell_type": "markdown",
   "metadata": {},
   "source": [
    "## Kyocera KJ4B PT1V 30k"
   ]
  },
  {
   "cell_type": "code",
   "execution_count": 4,
   "metadata": {
    "collapsed": false
   },
   "outputs": [
    {
     "name": "stdout",
     "output_type": "stream",
     "text": [
      "Pos Range X    : 8.6294 =>  9bit\n",
      "Pos Range Y    : 11.427 => 12bit\n",
      "Pos Addr Range : 11.374 => 12bit\n"
     ]
    }
   ],
   "source": [
    "ph_pos_range_calc(396, 2753)\n",
    "ph_pos_addr_range_calc(2655)"
   ]
  },
  {
   "cell_type": "markdown",
   "metadata": {},
   "source": [
    "## Kyocera KJ4B_1200_64k"
   ]
  },
  {
   "cell_type": "code",
   "execution_count": 5,
   "metadata": {
    "collapsed": false
   },
   "outputs": [
    {
     "name": "stdout",
     "output_type": "stream",
     "text": [
      "Pos Range X    : 10.57 => 11bit\n",
      "Pos Range Y    : 12.375 => 13bit\n",
      "Pos Addr Range : 12.697 => 13bit\n"
     ]
    }
   ],
   "source": [
    "ph_pos_range_calc(1520, 5312)\n",
    "ph_pos_addr_range_calc(6639)"
   ]
  },
  {
   "cell_type": "markdown",
   "metadata": {},
   "source": [
    "## Xaar 1003 & 1002"
   ]
  },
  {
   "cell_type": "markdown",
   "metadata": {},
   "source": [
    "### GU6S and GU12S"
   ]
  },
  {
   "cell_type": "code",
   "execution_count": 6,
   "metadata": {
    "collapsed": false
   },
   "outputs": [
    {
     "name": "stdout",
     "output_type": "stream",
     "text": [
      "Pos Range X    : 6.0875 =>  7bit\n",
      "Pos Range Y    : 9.9986 => 10bit\n",
      "Pos Addr Range : 10.0 => 10bit\n"
     ]
    }
   ],
   "source": [
    "ph_pos_range_calc(68, 1023)\n",
    "ph_pos_addr_range_calc(1024)"
   ]
  },
  {
   "cell_type": "markdown",
   "metadata": {},
   "source": [
    "### GU40S"
   ]
  },
  {
   "cell_type": "code",
   "execution_count": 7,
   "metadata": {
    "collapsed": false
   },
   "outputs": [
    {
     "name": "stdout",
     "output_type": "stream",
     "text": [
      "Pos Range X    : 6.2288 =>  7bit\n",
      "Pos Range Y    : 9.9986 => 10bit\n",
      "Pos Addr Range : 10.0 => 10bit\n"
     ]
    }
   ],
   "source": [
    "ph_pos_range_calc(75, 1023)\n",
    "ph_pos_addr_range_calc(1024)"
   ]
  },
  {
   "cell_type": "markdown",
   "metadata": {},
   "source": [
    "## KonicaMinolta"
   ]
  },
  {
   "cell_type": "markdown",
   "metadata": {},
   "source": [
    " ### KM1800i"
   ]
  },
  {
   "cell_type": "code",
   "execution_count": 3,
   "metadata": {},
   "outputs": [
    {
     "name": "stdout",
     "output_type": "stream",
     "text": [
      "Pos Range X    : 6.8074 =>  7bit\n",
      "Pos Range Y    : 10.794 => 11bit\n",
      "Pos Addr Range : 10.794 => 11bit\n"
     ]
    }
   ],
   "source": [
    "ph_pos_range_calc(112, 1775)\n",
    "ph_pos_addr_range_calc(1776)"
   ]
  }
 ],
 "metadata": {
  "kernelspec": {
   "display_name": "Python 3",
   "language": "python",
   "name": "python3"
  },
  "language_info": {
   "codemirror_mode": {
    "name": "ipython",
    "version": 3
   },
   "file_extension": ".py",
   "mimetype": "text/x-python",
   "name": "python",
   "nbconvert_exporter": "python",
   "pygments_lexer": "ipython3",
   "version": "3.6.5"
  }
 },
 "nbformat": 4,
 "nbformat_minor": 2
}
