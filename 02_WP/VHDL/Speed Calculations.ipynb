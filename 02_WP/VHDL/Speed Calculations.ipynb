{
 "cells": [
  {
   "cell_type": "markdown",
   "metadata": {},
   "source": [
    "# Speed Calculations"
   ]
  },
  {
   "cell_type": "markdown",
   "metadata": {},
   "source": [
    "## Arcolor Dropwatcher Calculations"
   ]
  },
  {
   "cell_type": "code",
   "execution_count": 1,
   "metadata": {
    "collapsed": false
   },
   "outputs": [
    {
     "name": "stdout",
     "output_type": "stream",
     "text": [
      "With Max Waveform size\n",
      "Waveform length = 5e-05 sec\n",
      "Max Frequency   = 20.0 kHz\n",
      "Speed           = 203.2 m/min\n",
      "\n",
      "With your defined Waveform size\n",
      "Waveform length = 3.74e-05 sec\n",
      "Max Frequency   = 26.7379679144385 kHz\n",
      "Speed           = 271.65775401069516 m/min\n",
      "\n",
      "With your existing errornous Waveform size\n",
      "Waveform length = 0.0002 sec\n",
      "Max Frequency   = 5.0 kHz\n",
      "Speed           = 50.8 m/min\n",
      "\n"
     ]
    }
   ],
   "source": [
    "import os\n",
    "def calc_speed(t=None, dpi=None):\n",
    "  frequency = 1/t\n",
    "  pixel_pitch = 25.4 / dpi # mm\n",
    "  speed = pixel_pitch*frequency /1000*60 # m/min\n",
    "  print(\"Waveform length = {} sec\".format(t))\n",
    "  print(\"Max Frequency   = {} kHz\".format(frequency/1000))\n",
    "  print(\"Speed           = {} m/min{}\".format(speed, os.linesep))\n",
    "\n",
    "print(\"With Max Waveform size\")\n",
    "waveform_length = 50.0e-6 # sec\n",
    "dpi = 150.0 # dpi\n",
    "calc_speed(waveform_length, dpi)  \n",
    "  \n",
    "print(\"With your defined Waveform size\")\n",
    "waveform_length = 37.4e-6 # sec\n",
    "dpi = 150.0 # dpi\n",
    "calc_speed(waveform_length, dpi)  \n",
    "\n",
    "print(\"With your existing errornous Waveform size\")\n",
    "waveform_length = 200.0e-6 # sec\n",
    "dpi = 150.0 # dpi\n",
    "calc_speed(waveform_length, dpi)  \n"
   ]
  }
 ],
 "metadata": {
  "kernelspec": {
   "display_name": "Python 3",
   "language": "python",
   "name": "python3"
  },
  "language_info": {
   "codemirror_mode": {
    "name": "ipython",
    "version": 3
   },
   "file_extension": ".py",
   "mimetype": "text/x-python",
   "name": "python",
   "nbconvert_exporter": "python",
   "pygments_lexer": "ipython3",
   "version": "3.6.5"
  }
 },
 "nbformat": 4,
 "nbformat_minor": 2
}
