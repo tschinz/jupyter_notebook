{
 "cells": [
  {
   "cell_type": "markdown",
   "metadata": {},
   "source": [
    "# VHDL implementation of Steppermotordriver for L6208PD"
   ]
  },
  {
   "cell_type": "code",
   "execution_count": 8,
   "metadata": {
    "collapsed": false
   },
   "outputs": [],
   "source": [
    "# Function to calculate the Bits needed fo a given number\n",
    "def unsigned_num_bits(num):\n",
    "  _nbits = 1\n",
    "  _n = num\n",
    "  while(_n > 1):\n",
    "    _nbits = _nbits + 1\n",
    "    _n     = _n / 2\n",
    "  return _nbits"
   ]
  },
  {
   "cell_type": "markdown",
   "metadata": {},
   "source": [
    "## Steppermotor ST4118S0206-A settings\n",
    "Speed = $120\\frac{1}{min}$\n",
    "\n",
    "1 Revolution = $0.5mm$\n",
    "\n",
    "1 Step = $1.8°$"
   ]
  },
  {
   "cell_type": "markdown",
   "metadata": {},
   "source": [
    "### Distance calulcation"
   ]
  },
  {
   "cell_type": "code",
   "execution_count": 9,
   "metadata": {
    "collapsed": false
   },
   "outputs": [
    {
     "name": "stdout",
     "output_type": "stream",
     "text": [
      "Step Distance               = 0.0025 mm\n",
      "Step Distance               = 2.5 um\n",
      "Register Position Values    = 2147483647 ... -2147483648\n",
      "Position Register distances = 5368.7091175 m ... -5368.70912 m\n"
     ]
    }
   ],
   "source": [
    "rev_distance = 0.5 # mm\n",
    "step_angle   = 1.8 # °\n",
    "\n",
    "# Calculation one Step\n",
    "step_distance = rev_distance/360*step_angle\n",
    "print(\"Step Distance               = {} mm\".format(step_distance))\n",
    "print(\"Step Distance               = {} um\".format(step_distance*1000))\n",
    "\n",
    "# Calculation max and min register position\n",
    "RegBitNb = 32\n",
    "regval_max =  2**(RegBitNb-1)-1\n",
    "regval_min = -2**(RegBitNb-1)\n",
    "\n",
    "step_distance_max = regval_max*step_distance\n",
    "step_distance_min = regval_min*step_distance\n",
    "\n",
    "print(\"Register Position Values    = {} ... {}\".format(regval_max, regval_min))\n",
    "print(\"Position Register distances = {} m ... {} m\".format(step_distance_max/1000, step_distance_min/1000))"
   ]
  },
  {
   "cell_type": "markdown",
   "metadata": {},
   "source": [
    "### Max Frequency calulation\n",
    "$f_{max} = speed * steps = \\frac{1}{s}*1 = \\frac{1}{s} $"
   ]
  },
  {
   "cell_type": "code",
   "execution_count": 10,
   "metadata": {
    "collapsed": false
   },
   "outputs": [
    {
     "name": "stdout",
     "output_type": "stream",
     "text": [
      "Max Frequency of Steppermotor is 200.0 Hz\n"
     ]
    }
   ],
   "source": [
    "speed_max =  60# rev/min\n",
    "step_angle = 1.8 # °\n",
    "\n",
    "steps_per_rev = 360/step_angle\n",
    "speed_max_sec = speed_max/60 # rev/sec\n",
    "\n",
    "f_max = speed_max_sec * steps_per_rev\n",
    "print(\"Max Frequency of Steppermotor is {} Hz\".format(f_max))\n"
   ]
  },
  {
   "cell_type": "markdown",
   "metadata": {},
   "source": [
    "### Max Speed calculations\n",
    "$g\\_MAX\\_SPEED = \\frac{(speed_{resolution}-1)*clk_{freq}}{speed_{max}*steps\\_per\\_rev} = \\frac{([values]-1)*[Hz]}{[\\frac{rev}{s}]*[\\frac{steps}{rev}]}$"
   ]
  },
  {
   "cell_type": "code",
   "execution_count": 11,
   "metadata": {
    "collapsed": false
   },
   "outputs": [
    {
     "name": "stdout",
     "output_type": "stream",
     "text": [
      "g_MAX_SPEED = 63750000 needs 27 Bits\n"
     ]
    }
   ],
   "source": [
    "speed_resolution     = 2**8   # different speed values\n",
    "clk_freq             = 100e6  # Hz\n",
    "speed_max            = 120*1/60 # rev/min * min/s = rev/s\n",
    "steps_per_rev        = 200    # steps per revolution\n",
    "\n",
    "g_max_speed = ((speed_resolution-1)*clk_freq)/(speed_max*steps_per_rev)\n",
    "print(\"g_MAX_SPEED = {} needs {} Bits\".format(int(g_max_speed), unsigned_num_bits(int(g_max_speed))))"
   ]
  },
  {
   "cell_type": "markdown",
   "metadata": {},
   "source": [
    "### Max Acceleration calculations\n",
    "$g\\_MAX\\_ACCELERATION = \\frac{speed_{max}*clk_{freq}}{(speed_{resolution}-1)*acceleration\\_speed} = \\frac{[\\frac{rev}{s}]*[Hz]}{([values]-1)*[\\frac{rev}{s^{2}}]}$\n",
    "\n",
    "$g\\_MAX\\_DECCELERATION = \\frac{speed_{max}*clk_{freq}}{(speed_{resolution}-1)*decceleration\\_speed} = \\frac{[\\frac{rev}{s}]*[Hz]}{([values]-1)*[\\frac{rev}{s^{2}}]}$"
   ]
  },
  {
   "cell_type": "code",
   "execution_count": 12,
   "metadata": {
    "collapsed": false
   },
   "outputs": [
    {
     "name": "stdout",
     "output_type": "stream",
     "text": [
      "g_MAX_ACCELERATION  = 784313 needs 21 Bits\n",
      "g_MAX_DECCELERATION = 392156 needs 20 Bits\n"
     ]
    }
   ],
   "source": [
    "speed_resolution     = 2**8   # different speed values\n",
    "clk_freq             = 100e6  # Hz\n",
    "speed_max            = 60*1/60 # rev/min * min/s = rev/s\n",
    "\n",
    "max_acceleration_time = 2.0 # seconds from 0 to max speed\n",
    "max_acceleration_rev  = speed_max/max_acceleration_time # rev/s^2\n",
    "\n",
    "max_decceleration_time = 1.0 # seconds from max to 0 speed\n",
    "max_decceleration_rev  = speed_max/max_decceleration_time # rev/s^2\n",
    "\n",
    "g_max_acceleration  = (speed_max*clk_freq)/((speed_resolution-1)*max_acceleration_rev)\n",
    "g_max_decceleration = (speed_max*clk_freq)/((speed_resolution-1)*max_decceleration_rev)\n",
    "\n",
    "print(\"g_MAX_ACCELERATION  = {} needs {} Bits\".format(int(g_max_acceleration),unsigned_num_bits(int(g_max_acceleration))))\n",
    "print(\"g_MAX_DECCELERATION = {} needs {} Bits\".format(int(g_max_decceleration),unsigned_num_bits(int(g_max_decceleration))))"
   ]
  },
  {
   "cell_type": "markdown",
   "metadata": {},
   "source": [
    "### Speed intended calculations\n",
    "$ speed_{indended} = \\sqrt[2]{2*64*g\\_MAX\\_ACCELERATION*|position_{difference}|} $\n",
    "or\n",
    "$ speed_{indended} = 41*\\log({g\\_MAX\\_ACCELERATION*|position_{difference}|}) $"
   ]
  },
  {
   "cell_type": "code",
   "execution_count": 13,
   "metadata": {
    "collapsed": false
   },
   "outputs": [
    {
     "name": "stdout",
     "output_type": "stream",
     "text": [
      "speed_intended:   0 @ position_difference:     0\n",
      "speed_intended:  28 @ position_difference:     1\n",
      "speed_intended:  45 @ position_difference:     2\n",
      "speed_intended:  66 @ position_difference:     4\n",
      "speed_intended:  90 @ position_difference:     8\n",
      "speed_intended: 116 @ position_difference:    16\n",
      "speed_intended: 143 @ position_difference:    32\n",
      "speed_intended: 171 @ position_difference:    64\n",
      "speed_intended: 199 @ position_difference:   128\n",
      "speed_intended: 228 @ position_difference:   256\n",
      "speed_intended: 255 @ position_difference:   512\n",
      "speed_intended: 255 @ position_difference:  1024\n",
      "speed_intended: 255 @ position_difference:  2048\n",
      "speed_intended: 255 @ position_difference:  4096\n",
      "speed_intended: 255 @ position_difference:  8192\n",
      "speed_intended: 255 @ position_difference: 16384\n",
      "speed_intended: 255 @ position_difference: 32768\n",
      "speed_intended: 255 @ position_difference: 65536\n"
     ]
    },
    {
     "data": {
      "text/plain": [
       "Text(0.5,1,'Acceleration & Deccleration')"
      ]
     },
     "execution_count": 13,
     "metadata": {},
     "output_type": "execute_result"
    },
    {
     "data": {
      "image/png": "[encoded data removed]",
      "text/plain": [
       "<Figure size 432x288 with 1 Axes>"
      ]
     },
     "metadata": {},
     "output_type": "display_data"
    }
   ],
   "source": [
    "import math\n",
    "speed_resolution      = 2**8 # different speed values\n",
    "speed_max             = 120*1/60 # rev/min * min/s = rev/s\n",
    "max_acceleration_time = 2.0 # seconds from 0 to max speed\n",
    "max_acceleration_rev  = speed_max/max_acceleration_time # rev/s^2\n",
    "\n",
    "def calc_speed_intended(max_acceleration_rev, position_difference):\n",
    "#  return round(math.sqrt(2*64*max_acceleration_rev*position_difference))\n",
    "  return round(41*math.log(max_acceleration_rev*position_difference+1))\n",
    "\n",
    "for position_difference in [0,1,2,4,8,16,32,64,128,256,512,1024,2048,4096,8192,16384,32768,65536]:\n",
    "  speed_intended = calc_speed_intended(max_acceleration_rev, position_difference)\n",
    "  if speed_intended > speed_resolution-1:\n",
    "    speed_intended = speed_resolution-1\n",
    "  print(\"speed_intended: {:3} @ position_difference: {:5}\".format(int(speed_intended),position_difference))\n",
    "\n",
    "# Draw Plot\n",
    "import numpy as np\n",
    "import pylab as pl\n",
    "pl.clf()\n",
    "\n",
    "nbrOfPoints = 600\n",
    "position_difference = np.linspace(0,nbrOfPoints,nbrOfPoints)\n",
    "\n",
    "speed_intended = np.empty(shape=[len(position_difference)], dtype=np.float64)\n",
    "for i in range(len(position_difference)):\n",
    "  speed_intended[i] = calc_speed_intended(max_acceleration_rev, position_difference[i])\n",
    "  if speed_intended[i] > speed_resolution-1:\n",
    "    speed_intended[i] = speed_resolution-1\n",
    "# Plot graph\n",
    "pl.plot(position_difference,speed_intended, label=\"Acceleration\")\n",
    "\n",
    "speed_intended = np.empty(shape=[len(position_difference)], dtype=np.float64)\n",
    "for i in range(len(position_difference)):\n",
    "  speed_intended[i] = 255-calc_speed_intended(max_acceleration_rev, position_difference[i])\n",
    "  if speed_intended[i] <= 0:\n",
    "    speed_intended[i] = 0\n",
    "# Plot graph\n",
    "pl.plot(position_difference,speed_intended, label=\"Decceleration\")\n",
    "\n",
    "# Place legend, Axis and Title\n",
    "pl.legend(loc='best')\n",
    "pl.xlabel(\"PositionDifference [Steps]\")\n",
    "pl.ylabel(\"Speed [0-255]\")\n",
    "pl.title(\"Acceleration & Deccleration\")\n"
   ]
  },
  {
   "cell_type": "markdown",
   "metadata": {},
   "source": [
    "### Max Step Frequency"
   ]
  },
  {
   "cell_type": "markdown",
   "metadata": {},
   "source": [
    "$g\\_STEP\\_FREQ = \\frac{f_{clk}}{f\\_step\\_driver_{max}}$\n",
    "\n",
    "For $f\\_step\\_driver_{max}$ see datasheet motor driver (L6208 = $100kHz$)"
   ]
  },
  {
   "cell_type": "code",
   "execution_count": 14,
   "metadata": {
    "collapsed": false
   },
   "outputs": [
    {
     "name": "stdout",
     "output_type": "stream",
     "text": [
      "Number of steps for max step frequency: 1000 needs 11 Bits\n"
     ]
    }
   ],
   "source": [
    "f_clk      = 100e6 # Hz\n",
    "f_step_max = 100e3 # Hz\n",
    "\n",
    "g_step_freq = f_clk/f_step_max\n",
    "print(\"Number of steps for max step frequency: {} needs {} Bits\".format(int(g_step_freq), unsigned_num_bits(g_step_freq)))"
   ]
  }
 ],
 "metadata": {
  "kernelspec": {
   "display_name": "Python 3",
   "language": "python",
   "name": "python3"
  },
  "language_info": {
   "codemirror_mode": {
    "name": "ipython",
    "version": 3
   },
   "file_extension": ".py",
   "mimetype": "text/x-python",
   "name": "python",
   "nbconvert_exporter": "python",
   "pygments_lexer": "ipython3",
   "version": "3.6.5"
  }
 },
 "nbformat": 4,
 "nbformat_minor": 2
}
