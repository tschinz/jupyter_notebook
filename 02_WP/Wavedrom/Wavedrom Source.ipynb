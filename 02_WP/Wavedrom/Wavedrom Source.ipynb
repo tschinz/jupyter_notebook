{
 "cells": [
  {
   "cell_type": "code",
   "execution_count": 1,
   "metadata": {
    "collapsed": false
   },
   "outputs": [
    {
     "ename": "NameError",
     "evalue": "name 'hscale' is not defined",
     "output_type": "error",
     "traceback": [
      "\u001b[1;31m---------------------------------------------------------------------------\u001b[0m",
      "\u001b[1;31mNameError\u001b[0m                                 Traceback (most recent call last)",
      "\u001b[1;32m<ipython-input-1-cac71f21c25e>\u001b[0m in \u001b[0;36m<module>\u001b[1;34m()\u001b[0m\n\u001b[0;32m     11\u001b[0m a = { # Wavedrom Config\n\u001b[0;32m     12\u001b[0m   'config': { \n\u001b[1;32m---> 13\u001b[1;33m     \u001b[0mhscale\u001b[0m\u001b[1;33m:\u001b[0m \u001b[1;36m1\u001b[0m\u001b[1;33m,\u001b[0m      \u001b[1;31m# horizontal scale\u001b[0m\u001b[1;33m\u001b[0m\u001b[0m\n\u001b[0m\u001b[0;32m     14\u001b[0m     \u001b[0mskin\u001b[0m\u001b[1;33m:\u001b[0m\u001b[1;34m'default'\u001b[0m\u001b[1;33m,\u001b[0m \u001b[1;31m# narrow\u001b[0m\u001b[1;33m\u001b[0m\u001b[0m\n\u001b[0;32m     15\u001b[0m   },\n",
      "\u001b[1;31mNameError\u001b[0m: name 'hscale' is not defined"
     ]
    }
   ],
   "source": [
    "import wavedrom\n",
    "\n",
    "a = {'signal': [\n",
    "  {'name': 'clk', 'wave': 'p.....|...'},\n",
    "  {'name': 'dat', 'wave': 'x.345x|=.xxxxxxxxxxxxxxxxxxxxxxxxxxxxxxxxxxxxxx', 'data': ['head', 'body', 'tail', 'data']},\n",
    "  {'name': 'req', 'wave': '0.1..0|1.0'},\n",
    "  {},\n",
    "  {'name': 'ack', 'wave': '1.....|01.'}\n",
    "]}\n",
    "\n",
    "a = { # Wavedrom Config\n",
    "  'config': { \n",
    "    hscale: 1,      # horizontal scale\n",
    "    skin:'default', # narrow\n",
    "  },\n",
    "  # Title\n",
    "  head:{\n",
    "     text:'Timing Xaar1003 Explanation',\n",
    "     tick:0, # Numeration top\n",
    "  },\n",
    "  # Signal\n",
    "  signal: [\n",
    "    # Group 1\n",
    "    ['Data',\n",
    "      { name: \"DA-[0..3]\", wave: 'z23.4z.......23.4z..........', data: [\"1\", \"2..255\", \"256\",\"1\", \"2..255\", \"256\"]},\n",
    "      { name: \"DCLKA\", wave: 'ln...l.......n...l..........', data: [\"1\", \"2..255\"], node: '.....a.......b'},\n",
    "    ],\n",
    "    # Group 2\n",
    "    ['Clocks',\n",
    "      { name: \"PCLK\", wave: '0.....50..50..50..50..50..50', data:[\"CycA\",\"CycB\",\"CycC\",\"CycA\",\"CycB\",\"CycC\"], node: '.....cd...e...f...g' },\n",
    "      { name: \"SCLK\", wave: 'N...........................' },\n",
    "    ],\n",
    "  ],\n",
    "  # Arrows\n",
    "  edge: [\n",
    "    'a<->b t_fire',\n",
    "    'c<->d t_DHold',\n",
    "    'd<->e t_Cycle',\n",
    "    'e<->f t_Cycle',\n",
    "    'f<->g t_Cycle',\n",
    "    \n",
    "  ],\n",
    "  # Footer\n",
    "  foot: {\n",
    "    text:['tspan', 'zas 08.09.2017',\n",
    "    ],\n",
    "    tock:0, # Numeration bottom\n",
    "  },\n",
    "}\n",
    "wavedrom.draw_wavedrom(a)"
   ]
  },
  {
   "cell_type": "code",
   "execution_count": null,
   "metadata": {
    "collapsed": true
   },
   "outputs": [],
   "source": []
  }
 ],
 "metadata": {
  "kernelspec": {
   "display_name": "Python 3",
   "language": "python",
   "name": "python3"
  },
  "language_info": {
   "codemirror_mode": {
    "name": "ipython",
    "version": 3
   },
   "file_extension": ".py",
   "mimetype": "text/x-python",
   "name": "python",
   "nbconvert_exporter": "python",
   "pygments_lexer": "ipython3",
   "version": "3.6.5"
  }
 },
 "nbformat": 4,
 "nbformat_minor": 2
}
