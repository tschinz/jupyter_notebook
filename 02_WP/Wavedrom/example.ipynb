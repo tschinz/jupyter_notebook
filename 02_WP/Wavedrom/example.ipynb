{
 "cells": [
  {
   "cell_type": "code",
   "execution_count": 13,
   "metadata": {
    "collapsed": false,
    "slideshow": {
     "slide_type": "-"
    }
   },
   "outputs": [],
   "source": [
    "import wavedrom\n",
    "\n",
    "a = {'signal': [\n",
    "    {'name': 'clk', 'wave': 'p.....|...'},\n",
    "    {'name': 'dat', 'wave': 'x.345x|=.x', 'data': ['head', 'body', 'tail', 'data']},\n",
    "    {'name': 'req', 'wave': '0.1..0|1.0'},\n",
    "    {},\n",
    "    {'name': 'ack', 'wave': '1.....|01.'}\n",
    "]}\n",
    "\n",
    "wavedrom.draw_wavedrom(a)"
   ]
  },
  {
   "cell_type": "code",
   "execution_count": 12,
   "metadata": {
    "collapsed": false
   },
   "outputs": [
    {
     "data": {
      "text/html": [
       "<div style=\"width: 2000px\"><script type=\"WaveDrom\">{\"signal\": [{\"name\": \"clk\", \"wave\": \"p.....|...\"}, {\"name\": \"dat\", \"wave\": \"x.345x|=.xxxxxxxxxxxxxxxxxxxxxxxx\", \"data\": [\"head\", \"body\", \"tail\", \"data\"]}, {\"name\": \"req\", \"wave\": \"0.1..0|1.0\"}, {}, {\"name\": \"ack\", \"wave\": \"1.....|01.\"}]}</script></div>"
      ]
     },
     "metadata": {},
     "output_type": "display_data"
    },
    {
     "data": {
      "application/javascript": [
       "$.getScript(\"files/js/wavedrom.min.js\", function () {\n",
       "$.getScript(\"files/js/wavedromskin.js\", function () {\n",
       "WaveDrom.ProcessAll();});\n",
       "});\n"
      ]
     },
     "metadata": {},
     "output_type": "display_data"
    }
   ],
   "source": [
    "'''\n",
    "This picture is really long, we set a width to stop it from scaling\n",
    "'''\n",
    "a = {'signal': [\n",
    "  {'name': 'clk', 'wave': 'p.....|...'},\n",
    "  {'name': 'dat', 'wave': 'x.345x|=.xxxxxxxxxxxxxxxxxxxxxxxx', 'data': ['head', 'body', 'tail', 'data']},\n",
    "  {'name': 'req', 'wave': '0.1..0|1.0'},\n",
    "  {},\n",
    "  {'name': 'ack', 'wave': '1.....|01.'}\n",
    "]}\n",
    "\n",
    "wavedrom.draw_wavedrom(a, 2000)"
   ]
  },
  {
   "cell_type": "code",
   "execution_count": null,
   "metadata": {},
   "outputs": [],
   "source": []
  }
 ],
 "metadata": {
  "kernelspec": {
   "display_name": "Python 3",
   "language": "python",
   "name": "python3"
  },
  "language_info": {
   "codemirror_mode": {
    "name": "ipython",
    "version": 3
   },
   "file_extension": ".py",
   "mimetype": "text/x-python",
   "name": "python",
   "nbconvert_exporter": "python",
   "pygments_lexer": "ipython3",
   "version": "3.6.5"
  }
 },
 "nbformat": 4,
 "nbformat_minor": 2
}
