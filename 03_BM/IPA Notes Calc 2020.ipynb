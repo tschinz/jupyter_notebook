{
 "cells": [
  {
   "cell_type": "code",
   "execution_count": 3,
   "metadata": {},
   "outputs": [],
   "source": [
    "def calcMark(a,b,c):\n",
    "  print(\"A={} B={} C={}\".format(a, b, c))\n",
    "  mark = (2*float(a) + float(b) + float(c))/4\n",
    "  print(\"Note ist: {}\".format(round(mark,1)))"
   ]
  },
  {
   "cell_type": "code",
   "execution_count": 4,
   "metadata": {},
   "outputs": [],
   "source": [
    "import math\n",
    "def half_note_round(note):\n",
    "    note = tenth_note_round(note)\n",
    "    if note <= 1.2:\n",
    "        return 1.0\n",
    "    elif note > 1.2 and note <= 1.7:\n",
    "        return 1.5\n",
    "    elif note > 1.7 and note <= 2.2:\n",
    "        return 2.0\n",
    "    elif note > 2.2 and note <= 2.7:\n",
    "        return 2.5\n",
    "    elif note > 2.7 and note <= 3.2:\n",
    "        return 3.0\n",
    "    elif note > 3.2 and note <= 3.7:\n",
    "        return 3.5\n",
    "    elif note > 3.7 and note <= 4.2:\n",
    "        return 4.0\n",
    "    elif note > 4.2 and note <= 4.7:\n",
    "        return 4.5\n",
    "    elif note > 4.7 and note <= 5.2:\n",
    "        return 5.0\n",
    "    elif note > 5.2 and note <= 5.7:\n",
    "        return 5.5\n",
    "    elif note > 5.7:\n",
    "        return 6.0\n",
    "\n",
    "def my_round(x):\n",
    "    return int(x + math.copysign(0.5, x))\n",
    "\n",
    "def tenth_note_round(note):\n",
    "    return my_round(note*10)/10"
   ]
  },
  {
   "cell_type": "code",
   "execution_count": 5,
   "metadata": {},
   "outputs": [],
   "source": [
    "def calc_note(points_a, points_b, points_c):\n",
    "    points_a_max = 60\n",
    "    points_b_max = 30\n",
    "    points_c_max = 30\n",
    "    note_a = (5*points_a/points_a_max)+1\n",
    "    note_b = (5*points_b/points_b_max)+1\n",
    "    note_c = (5*points_c/points_c_max)+1\n",
    "    note_total = half_note_round(note_a)*0.5+half_note_round(note_b)*0.25+half_note_round(note_c)*0.25\n",
    "    print(\"Note Partie A: {}/{}Pt = {} = {}\".format(points_a, points_a_max, note_a, half_note_round(note_a)))\n",
    "    print(\"Note Partie B: {}/{}Pt = {} = {}\".format(points_b, points_b_max, note_b, half_note_round(note_b)))\n",
    "    print(\"Note Partie C: {}/{}Pt = {} = {}\".format(points_c, points_c_max, note_c, half_note_round(note_c)))\n",
    "    print(\"Note Total: {} = {}\".format(note_total, tenth_note_round(note_total)))"
   ]
  },
  {
   "cell_type": "code",
   "execution_count": 6,
   "metadata": {},
   "outputs": [
    {
     "name": "stdout",
     "output_type": "stream",
     "text": [
      "Note Partie A: 26/60Pt = 3.1666666666666665 = 3.0\n",
      "Note Partie B: 17/30Pt = 3.8333333333333335 = 4.0\n",
      "Note Partie C: 23/30Pt = 4.833333333333334 = 5.0\n",
      "Note Total: 3.75 = 3.8\n"
     ]
    }
   ],
   "source": [
    "calc_note(26, 17, 23)"
   ]
  },
  {
   "cell_type": "code",
   "execution_count": 7,
   "metadata": {},
   "outputs": [
    {
     "name": "stdout",
     "output_type": "stream",
     "text": [
      "Note Partie A: 49/60Pt = 5.083333333333333 = 5.0\n",
      "Note Partie B: 23/30Pt = 4.833333333333334 = 5.0\n",
      "Note Partie C: 0/30Pt = 1.0 = 1.0\n",
      "Note Total: 4.0 = 4.0\n"
     ]
    }
   ],
   "source": [
    "# Noe Yannick Aufdenblatten\n",
    "a = 2+1+3+2+3+2+3+2+2+3+3+2+3+2+2+3+3+2+3+3\n",
    "b = 3+3+1+2+1+3+2+3+2+3\n",
    "c = 0\n",
    "calc_note(a,b,c)"
   ]
  },
  {
   "cell_type": "code",
   "execution_count": 18,
   "metadata": {},
   "outputs": [
    {
     "name": "stdout",
     "output_type": "stream",
     "text": [
      "Note Partie A: 50/60Pt = 5.166666666666667 = 5.0\n",
      "Note Partie B: 27/30Pt = 5.5 = 5.5\n",
      "Note Partie C: 0/30Pt = 1.0 = 1.0\n",
      "Note Total: 4.125 = 4.1\n"
     ]
    }
   ],
   "source": [
    "# Clausen Tibo\n",
    "a = 3+1+3+3+2+2+2+3+3+2+3+2+3+2+2+3+2+3+3+3\n",
    "b = 3+3+3+2+2+3+2+3+3+3\n",
    "c = 0\n",
    "calc_note(a,b,c)"
   ]
  },
  {
   "cell_type": "code",
   "execution_count": null,
   "metadata": {},
   "outputs": [],
   "source": []
  }
 ],
 "metadata": {
  "anaconda-cloud": {},
  "kernelspec": {
   "display_name": "Python 3",
   "language": "python",
   "name": "python3"
  },
  "language_info": {
   "codemirror_mode": {
    "name": "ipython",
    "version": 3
   },
   "file_extension": ".py",
   "mimetype": "text/x-python",
   "name": "python",
   "nbconvert_exporter": "python",
   "pygments_lexer": "ipython3",
   "version": "3.7.4"
  }
 },
 "nbformat": 4,
 "nbformat_minor": 4
}
