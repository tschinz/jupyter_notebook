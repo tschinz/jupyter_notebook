{
 "cells": [
  {
   "cell_type": "markdown",
   "metadata": {},
   "source": [
    "# Aging Oven - Data Preparation for Process Mining"
   ]
  },
  {
   "cell_type": "markdown",
   "metadata": {},
   "source": [
    "## Setup"
   ]
  },
  {
   "cell_type": "markdown",
   "metadata": {},
   "source": [
    "### Confidentiality\n",
    "**All information in this document is strictly confidiental**\n",
    "**Copyright (C) 2019 HES-SO Valais-Wallis - All Rights Reserved**"
   ]
  },
  {
   "cell_type": "markdown",
   "metadata": {},
   "source": [
    "### Import sub-modules"
   ]
  },
  {
   "cell_type": "code",
   "execution_count": 35,
   "metadata": {},
   "outputs": [
    {
     "data": {
      "text/html": [
       "<script type=\"text/javascript\">window.PlotlyConfig = {MathJaxConfig: 'local'};</script><script type=\"text/javascript\">if (window.MathJax) {MathJax.Hub.Config({SVG: {font: \"STIX-Web\"}});}</script><script>requirejs.config({paths: { 'plotly': ['https://cdn.plot.ly/plotly-latest.min']},});if(!window._Plotly) {require(['plotly'],function(plotly) {window._Plotly=plotly;});}</script>"
      ],
      "text/vnd.plotly.v1+html": [
       "<script type=\"text/javascript\">window.PlotlyConfig = {MathJaxConfig: 'local'};</script><script type=\"text/javascript\">if (window.MathJax) {MathJax.Hub.Config({SVG: {font: \"STIX-Web\"}});}</script><script>requirejs.config({paths: { 'plotly': ['https://cdn.plot.ly/plotly-latest.min']},});if(!window._Plotly) {require(['plotly'],function(plotly) {window._Plotly=plotly;});}</script>"
      ]
     },
     "metadata": {},
     "output_type": "display_data"
    },
    {
     "name": "stdout",
     "output_type": "stream",
     "text": [
      "python: 3.7.1 (default, Dec 14 2018, 19:28:38) \n",
      "[GCC 7.3.0]\n",
      "    - os\n",
      "    - datetime\n",
      "    - enum\n",
      "ipython 7.2.0\n",
      "pandas: 0.23.4\n",
      "numpy: 1.15.4\n",
      "plotly: 3.7.1\n"
     ]
    }
   ],
   "source": [
    "# Import required sub-modules\n",
    "\n",
    "# python\n",
    "import sys\n",
    "import os\n",
    "import enum\n",
    "# import datetime\n",
    "\n",
    "# iPython\n",
    "import IPython\n",
    "# from IPython.display import display\n",
    "\n",
    "# pandas\n",
    "import pandas as pd\n",
    "\n",
    "# numpy\n",
    "import numpy as np\n",
    "\n",
    "# plotly\n",
    "import plotly as ply\n",
    "# import plotly.figure_factory as ff\n",
    "ply.offline.init_notebook_mode(connected=True)\n",
    "\n",
    "# Verbose what we are working with\n",
    "print(\"python: {}\".format(sys.version))\n",
    "print(\"    - os\")\n",
    "print(\"    - datetime\")\n",
    "print(\"    - enum\")\n",
    "print(\"ipython {}\".format(IPython.__version__))\n",
    "print(\"pandas: {}\".format(pd.__version__))\n",
    "print(\"numpy: {}\".format(np.__version__))\n",
    "print(\"plotly: {}\".format(ply.__version__))"
   ]
  },
  {
   "cell_type": "markdown",
   "metadata": {},
   "source": [
    "### Configurations"
   ]
  },
  {
   "cell_type": "code",
   "execution_count": 36,
   "metadata": {},
   "outputs": [],
   "source": [
    "# Setup local input directories\n",
    "inputDir = \"input/\"\n",
    "\n",
    "if (os.path.exists(inputDir)) is False:\n",
    "    os.makedirs(inputDir)\n",
    "if (os.path.isdir(inputDir)) is False:\n",
    "    raise NotADirectoryError(\"{} is not a directory\".format(inputDir))"
   ]
  },
  {
   "cell_type": "code",
   "execution_count": 37,
   "metadata": {},
   "outputs": [],
   "source": [
    "# Setup local input directories\n",
    "outputDir = \"output/\"\n",
    "\n",
    "if (os.path.exists(outputDir)) is False:\n",
    "    os.makedirs(outputDir)\n",
    "if (os.path.isdir(outputDir)) is False:\n",
    "    raise NotADirectoryError(\"{} is not a directory\".format(outputDir))"
   ]
  },
  {
   "cell_type": "code",
   "execution_count": 38,
   "metadata": {},
   "outputs": [],
   "source": [
    "# Graph output type\n",
    "class GraphOutputOption(enum.Enum):\n",
    "    none = 'none'            # Do not generate any plots\n",
    "    inline = 'inline'        # Generate inline plots only\n",
    "    htmlFile = 'htmlFile'    # Generate plots in external HTML files\n",
    "    both = 'both'            # Generate plots both inline and in external html files\n",
    "\n",
    "\n",
    "notebookGraphingOutputs = GraphOutputOption('both')\n",
    "GraphAutoOpenHTML = False              # Auto opn external HTML files [True/False]"
   ]
  },
  {
   "cell_type": "markdown",
   "metadata": {},
   "source": [
    "## Data Import"
   ]
  },
  {
   "cell_type": "markdown",
   "metadata": {},
   "source": [
    "### Data source"
   ]
  },
  {
   "cell_type": "markdown",
   "metadata": {},
   "source": [
    "Prepared csv file from jerome: ``2018_DataRevenuPresse_V2_Clean.csv``"
   ]
  },
  {
   "cell_type": "markdown",
   "metadata": {},
   "source": [
    "### CSV to pandas DF"
   ]
  },
  {
   "cell_type": "code",
   "execution_count": 39,
   "metadata": {},
   "outputs": [
    {
     "data": {
      "text/html": [
       "<div>\n",
       "<style scoped>\n",
       "    .dataframe tbody tr th:only-of-type {\n",
       "        vertical-align: middle;\n",
       "    }\n",
       "\n",
       "    .dataframe tbody tr th {\n",
       "        vertical-align: top;\n",
       "    }\n",
       "\n",
       "    .dataframe thead th {\n",
       "        text-align: right;\n",
       "    }\n",
       "</style>\n",
       "<table border=\"1\" class=\"dataframe\">\n",
       "  <thead>\n",
       "    <tr style=\"text-align: right;\">\n",
       "      <th></th>\n",
       "      <th>ordre</th>\n",
       "      <th>qtePlan</th>\n",
       "      <th>pdtPlan</th>\n",
       "      <th>debut</th>\n",
       "      <th>fin</th>\n",
       "      <th>qteBon</th>\n",
       "      <th>poidsBon</th>\n",
       "      <th>noFour</th>\n",
       "      <th>noCharge</th>\n",
       "      <th>profile</th>\n",
       "      <th>alliage</th>\n",
       "      <th>tempRevenu1</th>\n",
       "      <th>dureeRevenu1</th>\n",
       "      <th>tempRevenu2</th>\n",
       "      <th>dureeRevenu2</th>\n",
       "    </tr>\n",
       "  </thead>\n",
       "  <tbody>\n",
       "    <tr>\n",
       "      <th>0</th>\n",
       "      <td>300306</td>\n",
       "      <td>2</td>\n",
       "      <td>FOUR_7</td>\n",
       "      <td>20180207 083714</td>\n",
       "      <td>20180208 014135</td>\n",
       "      <td>2</td>\n",
       "      <td>430.000000</td>\n",
       "      <td>67</td>\n",
       "      <td>2018670046</td>\n",
       "      <td>P62244</td>\n",
       "      <td>6065</td>\n",
       "      <td>153</td>\n",
       "      <td>17.0</td>\n",
       "      <td>NaN</td>\n",
       "      <td>NaN</td>\n",
       "    </tr>\n",
       "    <tr>\n",
       "      <th>1</th>\n",
       "      <td>299569</td>\n",
       "      <td>2</td>\n",
       "      <td>FOUR_9</td>\n",
       "      <td>20180110 063615</td>\n",
       "      <td>20180110 234222</td>\n",
       "      <td>2</td>\n",
       "      <td>252.000000</td>\n",
       "      <td>65</td>\n",
       "      <td>2018650010</td>\n",
       "      <td>P62147</td>\n",
       "      <td>6084</td>\n",
       "      <td>158</td>\n",
       "      <td>17.0</td>\n",
       "      <td>NaN</td>\n",
       "      <td>NaN</td>\n",
       "    </tr>\n",
       "    <tr>\n",
       "      <th>2</th>\n",
       "      <td>301578</td>\n",
       "      <td>44</td>\n",
       "      <td>FOUR_9</td>\n",
       "      <td>20180403 101227</td>\n",
       "      <td>20180404 031148</td>\n",
       "      <td>43</td>\n",
       "      <td>4351.795455</td>\n",
       "      <td>68</td>\n",
       "      <td>2018680107</td>\n",
       "      <td>P62900</td>\n",
       "      <td>6065</td>\n",
       "      <td>153</td>\n",
       "      <td>17.0</td>\n",
       "      <td>NaN</td>\n",
       "      <td>NaN</td>\n",
       "    </tr>\n",
       "    <tr>\n",
       "      <th>3</th>\n",
       "      <td>300704</td>\n",
       "      <td>12</td>\n",
       "      <td>FOUR_9</td>\n",
       "      <td>20180306 203310</td>\n",
       "      <td>20180307 133158</td>\n",
       "      <td>12</td>\n",
       "      <td>1450.000000</td>\n",
       "      <td>65</td>\n",
       "      <td>2018650071</td>\n",
       "      <td>P63388</td>\n",
       "      <td>6065</td>\n",
       "      <td>153</td>\n",
       "      <td>17.0</td>\n",
       "      <td>NaN</td>\n",
       "      <td>NaN</td>\n",
       "    </tr>\n",
       "    <tr>\n",
       "      <th>4</th>\n",
       "      <td>303693</td>\n",
       "      <td>13</td>\n",
       "      <td>FOUR_9</td>\n",
       "      <td>20180514 191318</td>\n",
       "      <td>20180515 051344</td>\n",
       "      <td>13</td>\n",
       "      <td>2837.000000</td>\n",
       "      <td>49</td>\n",
       "      <td>2018490139</td>\n",
       "      <td>P63192</td>\n",
       "      <td>6084</td>\n",
       "      <td>140</td>\n",
       "      <td>6.0</td>\n",
       "      <td>175.0</td>\n",
       "      <td>4.0</td>\n",
       "    </tr>\n",
       "  </tbody>\n",
       "</table>\n",
       "</div>"
      ],
      "text/plain": [
       "    ordre  qtePlan pdtPlan            debut              fin  qteBon  \\\n",
       "0  300306        2  FOUR_7  20180207 083714  20180208 014135       2   \n",
       "1  299569        2  FOUR_9  20180110 063615  20180110 234222       2   \n",
       "2  301578       44  FOUR_9  20180403 101227  20180404 031148      43   \n",
       "3  300704       12  FOUR_9  20180306 203310  20180307 133158      12   \n",
       "4  303693       13  FOUR_9  20180514 191318  20180515 051344      13   \n",
       "\n",
       "      poidsBon  noFour    noCharge profile  alliage  tempRevenu1  \\\n",
       "0   430.000000      67  2018670046  P62244     6065          153   \n",
       "1   252.000000      65  2018650010  P62147     6084          158   \n",
       "2  4351.795455      68  2018680107  P62900     6065          153   \n",
       "3  1450.000000      65  2018650071  P63388     6065          153   \n",
       "4  2837.000000      49  2018490139  P63192     6084          140   \n",
       "\n",
       "   dureeRevenu1  tempRevenu2  dureeRevenu2  \n",
       "0          17.0          NaN           NaN  \n",
       "1          17.0          NaN           NaN  \n",
       "2          17.0          NaN           NaN  \n",
       "3          17.0          NaN           NaN  \n",
       "4           6.0        175.0           4.0  "
      ]
     },
     "execution_count": 39,
     "metadata": {},
     "output_type": "execute_result"
    }
   ],
   "source": [
    "# Import CSV files into a pandas dataframe\n",
    "ovenExcelExportFileName = '2018_DataRevenuPresse_V2_Clean.csv'\n",
    "ovenExcelExportFilePath = inputDir + ovenExcelExportFileName\n",
    "rawOvenDf = pd.read_csv(ovenExcelExportFilePath, sep=';')\n",
    "\n",
    "rawOvenDf.head()"
   ]
  },
  {
   "cell_type": "markdown",
   "metadata": {},
   "source": [
    "### Data Header Description"
   ]
  },
  {
   "cell_type": "code",
   "execution_count": 40,
   "metadata": {},
   "outputs": [
    {
     "name": "stdout",
     "output_type": "stream",
     "text": [
      "Number of Columns: 15\n",
      "Number of Rows   : 6158\n",
      "Header Elements  : ['ordre', 'qtePlan', 'pdtPlan', 'debut', 'fin', 'qteBon', 'poidsBon', 'noFour', 'noCharge', 'profile', 'alliage', 'tempRevenu1', 'dureeRevenu1', 'tempRevenu2', 'dureeRevenu2']\n"
     ]
    }
   ],
   "source": [
    "# Count the number of columns in the Data\n",
    "print(\"Number of Columns: {}\".format(rawOvenDf.shape[1]))\n",
    "print(\"Number of Rows   : {}\".format(rawOvenDf.shape[0]))\n",
    "# List all headers\n",
    "print(\"Header Elements  : {}\".format(list(rawOvenDf)))"
   ]
  },
  {
   "cell_type": "markdown",
   "metadata": {},
   "source": [
    "***\n",
    "**'ordre'**: French abbreviation 'ordre de fabrication' or 'O.F.', meanning 'Work Order'. Constellium work order number\n",
    "***\n",
    "**'qtePlan'**: To be clarified\n",
    "***\n",
    "**'pdtPlan'**: The planned oven location\n",
    "***\n",
    "**'debut'**:  The date and time at which the bake for this OF started\n",
    "***\n",
    "**'fin'**:  The date and time at which the bake for this OF ended\n",
    "***\n",
    "**'qteBon'**:  To be clarified\n",
    "***\n",
    "**'poidsBon'**:  To be clarified\n",
    "***\n",
    "**'noFour'**: The actual Oven ID in which the bake was done\n",
    "***\n",
    "**'noCharge'**:  A unique ID for each oven bake\n",
    "***\n",
    "**'profile'**: A unique profile ID number (internal to CVSA)\n",
    "***\n",
    "**'alliage'**: CVSA internal Alloy code (Note, it uses the same alloy familly\n",
    "e.g. 6XXX than the one in the international standard)\n",
    "***\n",
    "**'tempRevenu1'**: The duration of the first revenu in the recipe (in hours)\n",
    "***\n",
    "**'dureeRevenu1'**: The temperature of the first revenu in the recipe (in °C)\n",
    "***\n",
    "**'tempRevenu2'**: The duration of the second revenu, it if exists in the recipe! (in hours)\n",
    "***\n",
    "**'dureeRevenu2'**: The temperature of the first revenu, it if exists in the recipe! (in °C)\n",
    "***"
   ]
  },
  {
   "cell_type": "markdown",
   "metadata": {},
   "source": [
    "## Data preparation"
   ]
  },
  {
   "cell_type": "markdown",
   "metadata": {},
   "source": [
    "### Drop unimportant data for processmining"
   ]
  },
  {
   "cell_type": "code",
   "execution_count": 41,
   "metadata": {},
   "outputs": [
    {
     "data": {
      "text/html": [
       "<div>\n",
       "<style scoped>\n",
       "    .dataframe tbody tr th:only-of-type {\n",
       "        vertical-align: middle;\n",
       "    }\n",
       "\n",
       "    .dataframe tbody tr th {\n",
       "        vertical-align: top;\n",
       "    }\n",
       "\n",
       "    .dataframe thead th {\n",
       "        text-align: right;\n",
       "    }\n",
       "</style>\n",
       "<table border=\"1\" class=\"dataframe\">\n",
       "  <thead>\n",
       "    <tr style=\"text-align: right;\">\n",
       "      <th></th>\n",
       "      <th>ordre</th>\n",
       "      <th>debut</th>\n",
       "      <th>noFour</th>\n",
       "      <th>profile</th>\n",
       "      <th>alliage</th>\n",
       "    </tr>\n",
       "  </thead>\n",
       "  <tbody>\n",
       "    <tr>\n",
       "      <th>0</th>\n",
       "      <td>300306</td>\n",
       "      <td>20180207 083714</td>\n",
       "      <td>67</td>\n",
       "      <td>P62244</td>\n",
       "      <td>6065</td>\n",
       "    </tr>\n",
       "    <tr>\n",
       "      <th>1</th>\n",
       "      <td>299569</td>\n",
       "      <td>20180110 063615</td>\n",
       "      <td>65</td>\n",
       "      <td>P62147</td>\n",
       "      <td>6084</td>\n",
       "    </tr>\n",
       "    <tr>\n",
       "      <th>2</th>\n",
       "      <td>301578</td>\n",
       "      <td>20180403 101227</td>\n",
       "      <td>68</td>\n",
       "      <td>P62900</td>\n",
       "      <td>6065</td>\n",
       "    </tr>\n",
       "    <tr>\n",
       "      <th>3</th>\n",
       "      <td>300704</td>\n",
       "      <td>20180306 203310</td>\n",
       "      <td>65</td>\n",
       "      <td>P63388</td>\n",
       "      <td>6065</td>\n",
       "    </tr>\n",
       "    <tr>\n",
       "      <th>4</th>\n",
       "      <td>303693</td>\n",
       "      <td>20180514 191318</td>\n",
       "      <td>49</td>\n",
       "      <td>P63192</td>\n",
       "      <td>6084</td>\n",
       "    </tr>\n",
       "  </tbody>\n",
       "</table>\n",
       "</div>"
      ],
      "text/plain": [
       "    ordre            debut  noFour profile  alliage\n",
       "0  300306  20180207 083714      67  P62244     6065\n",
       "1  299569  20180110 063615      65  P62147     6084\n",
       "2  301578  20180403 101227      68  P62900     6065\n",
       "3  300704  20180306 203310      65  P63388     6065\n",
       "4  303693  20180514 191318      49  P63192     6084"
      ]
     },
     "execution_count": 41,
     "metadata": {},
     "output_type": "execute_result"
    }
   ],
   "source": [
    "ovenDf = rawOvenDf.drop(['qteBon', 'noCharge', 'pdtPlan', 'poidsBon', 'qtePlan', 'fin', 'tempRevenu1', 'dureeRevenu1', 'tempRevenu2', 'dureeRevenu2'], axis=1)\n",
    "ovenDf.head()"
   ]
  },
  {
   "cell_type": "markdown",
   "metadata": {},
   "source": [
    "### Reorder Coloums"
   ]
  },
  {
   "cell_type": "code",
   "execution_count": 42,
   "metadata": {},
   "outputs": [
    {
     "data": {
      "text/html": [
       "<div>\n",
       "<style scoped>\n",
       "    .dataframe tbody tr th:only-of-type {\n",
       "        vertical-align: middle;\n",
       "    }\n",
       "\n",
       "    .dataframe tbody tr th {\n",
       "        vertical-align: top;\n",
       "    }\n",
       "\n",
       "    .dataframe thead th {\n",
       "        text-align: right;\n",
       "    }\n",
       "</style>\n",
       "<table border=\"1\" class=\"dataframe\">\n",
       "  <thead>\n",
       "    <tr style=\"text-align: right;\">\n",
       "      <th></th>\n",
       "      <th>ordre</th>\n",
       "      <th>debut</th>\n",
       "      <th>noFour</th>\n",
       "      <th>profile</th>\n",
       "      <th>alliage</th>\n",
       "    </tr>\n",
       "  </thead>\n",
       "  <tbody>\n",
       "    <tr>\n",
       "      <th>0</th>\n",
       "      <td>300306</td>\n",
       "      <td>20180207 083714</td>\n",
       "      <td>67</td>\n",
       "      <td>P62244</td>\n",
       "      <td>6065</td>\n",
       "    </tr>\n",
       "    <tr>\n",
       "      <th>1</th>\n",
       "      <td>299569</td>\n",
       "      <td>20180110 063615</td>\n",
       "      <td>65</td>\n",
       "      <td>P62147</td>\n",
       "      <td>6084</td>\n",
       "    </tr>\n",
       "    <tr>\n",
       "      <th>2</th>\n",
       "      <td>301578</td>\n",
       "      <td>20180403 101227</td>\n",
       "      <td>68</td>\n",
       "      <td>P62900</td>\n",
       "      <td>6065</td>\n",
       "    </tr>\n",
       "    <tr>\n",
       "      <th>3</th>\n",
       "      <td>300704</td>\n",
       "      <td>20180306 203310</td>\n",
       "      <td>65</td>\n",
       "      <td>P63388</td>\n",
       "      <td>6065</td>\n",
       "    </tr>\n",
       "    <tr>\n",
       "      <th>4</th>\n",
       "      <td>303693</td>\n",
       "      <td>20180514 191318</td>\n",
       "      <td>49</td>\n",
       "      <td>P63192</td>\n",
       "      <td>6084</td>\n",
       "    </tr>\n",
       "  </tbody>\n",
       "</table>\n",
       "</div>"
      ],
      "text/plain": [
       "    ordre            debut  noFour profile  alliage\n",
       "0  300306  20180207 083714      67  P62244     6065\n",
       "1  299569  20180110 063615      65  P62147     6084\n",
       "2  301578  20180403 101227      68  P62900     6065\n",
       "3  300704  20180306 203310      65  P63388     6065\n",
       "4  303693  20180514 191318      49  P63192     6084"
      ]
     },
     "execution_count": 42,
     "metadata": {},
     "output_type": "execute_result"
    }
   ],
   "source": [
    "cols = ['ordre', 'debut', 'noFour', 'profile', 'alliage']\n",
    "ovenDf = ovenDf[cols]\n",
    "ovenDf.head()"
   ]
  },
  {
   "cell_type": "markdown",
   "metadata": {},
   "source": [
    "## Output data"
   ]
  },
  {
   "cell_type": "code",
   "execution_count": 45,
   "metadata": {},
   "outputs": [],
   "source": [
    "ovenDf.to_csv(outputDir + 'FullProcess.csv', index=False)"
   ]
  }
 ],
 "metadata": {
  "kernelspec": {
   "display_name": "Python 3",
   "language": "python",
   "name": "python3"
  },
  "language_info": {
   "codemirror_mode": {
    "name": "ipython",
    "version": 3
   },
   "file_extension": ".py",
   "mimetype": "text/x-python",
   "name": "python",
   "nbconvert_exporter": "python",
   "pygments_lexer": "ipython3",
   "version": "3.7.1"
  }
 },
 "nbformat": 4,
 "nbformat_minor": 2
}
