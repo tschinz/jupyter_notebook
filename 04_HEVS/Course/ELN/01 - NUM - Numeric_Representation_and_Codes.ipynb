{
 "cells": [
  {
   "cell_type": "markdown",
   "metadata": {},
   "source": [
    "# 01 - NUM - Numeric Representation and Codes"
   ]
  },
  {
   "cell_type": "markdown",
   "metadata": {},
   "source": [
    "## Number System\n",
    "### Representation Integer\n",
    "$$ A=\\sum_{i=0}^{n-1}a_i*p^i$$\n",
    "$$ 0\\leq a_i\\leq p-1$$\n",
    "$$ 0 \\leq A \\leq p^n$$\n",
    "\n",
    "### Decimal System\n",
    "$$245_{10} =2*10^2+4*10^1+5*10^0$$\n",
    "\n",
    "\n",
    "### Binary System\n",
    "$$11110101_2=1*2^7+1*2^6+1*2^5+1*2^4+0*2^4+0*2^3+1+2^2+0*2^1+1*2^0$$\n",
    "\n",
    "<img alt=\"Binary Resresenation\" src=\"./img/01/binary representation.svg\" width=\"150\" />\n",
    "\n",
    "### Hexadecimal System\n",
    "$$F5_{16}=F*16^1+5*16^1+5*16^0$$\n",
    "\n",
    "| Decimal | Hexadecimal | Binary |\n",
    "|:-------:|:-----------:|:------:|\n",
    "|0|0|0000|\n",
    "|1|1|0001|\n",
    "|2|2|0010|\n",
    "|3|3|0011|\n",
    "|4|4|0100|\n",
    "|5|5|0101|\n",
    "|6|6|0110|\n",
    "|7|7|0111|\n",
    "|8|8|1000|\n",
    "|9|9|1001|\n",
    "|10|A|1010|\n",
    "|11|B|1011|\n",
    "|12|C|1100|\n",
    "|13|D|1101|\n",
    "|14|E|1110|\n",
    "|15|F|1111|"
   ]
  },
  {
   "cell_type": "markdown",
   "metadata": {},
   "source": [
    "## Transformations of Number Systems\n",
    "### Binary to Decimal\n",
    "$$11110101_2=2^7+2^6+2^5+2^4+2^2+2^0 \\\\ \\;\\;\\;\\;\\;\\;\\;\\;\\;\\;\\;\\;\\;\\;\\;\\;\\;\\;\\;\\;\\;\\;\\;\\;\\;\\; 128+64+32+16+4+1=245_{10}$$\n",
    "\n",
    "### Decimal to Binary\n",
    "$$77_{10}=...128+\\underline{64}+32+16+\\underline{8}+\\underline{4}+\\underline{1}=01001101_2$$\n",
    "\n",
    "<img alt=\"Decimal to Binary\" src=\"./img/01/decimal to binary.svg\" width=\"300\" align=\"middle\" />\n",
    "\n",
    "### Hexadecimal to Binary\n",
    "$$F5_{16} = 11110101_2$$\n",
    "\n",
    "<img alt=\"Herxadecimal to Binary\" src=\"./img/01/hexadecimal to binary.svg\" align=\"middle\" width=\"100\" />\n",
    "\n",
    "### Binary to Hexadecimal\n",
    "<img alt=\"Binary to Hexadecimal\" src=\"./img/01/binary to hexadecimal.svg\" align=\"middle\" width=\"100\" />\n",
    "\n",
    "### Hexadecimal to Decimal\n",
    "$$F5_{16}=15*16^1+5+16^0 \\\\ \\;\\;\\;\\;\\;\\;\\;\\;\\;\\;\\;\\;\\;\\;\\;\\;\\;\\;\\;\\;\\;\\;15*16+5+1=254_{10}$$\n",
    "\n",
    "### Decimal to Hexaddecimal\n",
    "\n",
    "<img alt=\"Decimal to Hexadecimal\" src=\"./img/01/decimal to hexadecimal.svg\" align=\"middle\" width=\"300\" />\n"
   ]
  },
  {
   "cell_type": "markdown",
   "metadata": {},
   "source": [
    "## Operation on Integers\n",
    "### Binary Addition\n",
    "\n",
    "<img alt=\"Binary Addition\" src=\"./img/01/binary addition.svg\" align=\"middle\" width=\"200\" />\n",
    "\n",
    "### Binary Substraction\n",
    "\n",
    "<img alt=\"Binary Substraction\" src=\"./img/01/binary substraction.svg\" align=\"middle\" width=\"200\" />\n",
    "\n",
    "### Binary Multiplication\n",
    "\n",
    "<img alt=\"Binary Multiplication\" src=\"./img/01/binary multiplication.svg\" align=\"middle\" width=\"200\" />\n"
   ]
  },
  {
   "cell_type": "code",
   "execution_count": null,
   "metadata": {},
   "outputs": [],
   "source": []
  }
 ],
 "metadata": {
  "kernelspec": {
   "display_name": "Python 3",
   "language": "python",
   "name": "python3"
  },
  "language_info": {
   "codemirror_mode": {
    "name": "ipython",
    "version": 3
   },
   "file_extension": ".py",
   "mimetype": "text/x-python",
   "name": "python",
   "nbconvert_exporter": "python",
   "pygments_lexer": "ipython3",
   "version": "3.7.3"
  }
 },
 "nbformat": 4,
 "nbformat_minor": 2
}
