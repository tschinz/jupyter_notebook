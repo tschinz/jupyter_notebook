{
 "cells": [
  {
   "cell_type": "markdown",
   "metadata": {},
   "source": [
    "# 06 - LAT - Memory & FlipFlops"
   ]
  },
  {
   "cell_type": "code",
   "execution_count": 3,
   "metadata": {},
   "outputs": [],
   "source": [
    "import sys\n",
    "sys.path.insert(0, './../../../00_Admin/library')\n",
    "\n",
    "import schemdraw_lib\n",
    "import SchemDraw as schem\n",
    "import SchemDraw.logic as l\n",
    "import SchemDraw.elements as e"
   ]
  },
  {
   "cell_type": "markdown",
   "metadata": {},
   "source": [
    "## Latch\n",
    "The simplest memory element consists of two inverters. The inverters are lloped so that the saved signal is trapped."
   ]
  },
  {
   "cell_type": "code",
   "execution_count": 47,
   "metadata": {},
   "outputs": [
    {
     "data": {
      "image/png": "[encoded data removed]",
      "text/plain": [
       "<Figure size 307.17x126 with 1 Axes>"
      ]
     },
     "metadata": {
      "needs_background": "light"
     },
     "output_type": "display_data"
    }
   ],
   "source": [
    "d = schem.Drawing()\n",
    "not1 = d.add(l.NOT, xy=(0,0))\n",
    "line1 = d.add(e.LINE, d='right', l=d.unit/4)\n",
    "dot1 = d.add(e.DOT, xy=line1.center)\n",
    "not2 = d.add(l.NOT, xy=line1.end)\n",
    "line2 = d.add(e.LINE, d='right', l=d.unit/4, rgtlabel='$q$')\n",
    "line3 = d.add(e.LINE, d='up', xy=not2.end, l=d.unit/2)\n",
    "dot2 = d.add(e.DOT, xy=line3.start)\n",
    "line4 = d.add(e.LINE, d='left', xy=line3.end, l=d.unit*2.25)\n",
    "line5 = d.add(e.LINE, d='down', xy=line4.end, l=d.unit/2)\n",
    "line6 = d.add(e.LINE, d='down', xy=dot1.center, l=d.unit/2)\n",
    "line7 = d.add(e.LINE, d='right', xy=line6.end, l=d.unit*1.4, rgtlabel='$\\overline{q}$')\n",
    "d.draw()"
   ]
  },
  {
   "cell_type": "markdown",
   "metadata": {},
   "source": [
    "## SR-Latch\n",
    "$$ q = s + \\overline{r}q $$\n",
    "\n",
    "| $$s$$ | $$r$$ | $$q$$ | $$\\overline{q}$$ | Function |\n",
    "|---|---|---|----------------|----------|\n",
    "| 0 | 0 | unchanged | unchanged | Storage |\n",
    "| 0 | 1 | 0 | 1 | Set to Zero |\n",
    "| 1 | 0 | 1 | 0 | Set to One |\n",
    "| 1 | 1 | 0 | 0 | Not allowed |"
   ]
  },
  {
   "cell_type": "markdown",
   "metadata": {},
   "source": [
    "## D-FlipFlop"
   ]
  },
  {
   "cell_type": "code",
   "execution_count": null,
   "metadata": {},
   "outputs": [],
   "source": []
  },
  {
   "cell_type": "markdown",
   "metadata": {},
   "source": [
    "## E-FlipFlop"
   ]
  },
  {
   "cell_type": "code",
   "execution_count": null,
   "metadata": {},
   "outputs": [],
   "source": []
  },
  {
   "cell_type": "markdown",
   "metadata": {},
   "source": [
    "## T-FlipFlop"
   ]
  },
  {
   "cell_type": "code",
   "execution_count": null,
   "metadata": {},
   "outputs": [],
   "source": []
  },
  {
   "cell_type": "code",
   "execution_count": null,
   "metadata": {},
   "outputs": [],
   "source": []
  }
 ],
 "metadata": {
  "kernelspec": {
   "display_name": "Python 3",
   "language": "python",
   "name": "python3"
  },
  "language_info": {
   "codemirror_mode": {
    "name": "ipython",
    "version": 3
   },
   "file_extension": ".py",
   "mimetype": "text/x-python",
   "name": "python",
   "nbconvert_exporter": "python",
   "pygments_lexer": "ipython3",
   "version": "3.7.3"
  },
  "toc-autonumbering": true
 },
 "nbformat": 4,
 "nbformat_minor": 2
}
