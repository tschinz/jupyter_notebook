{
 "cells": [
  {
   "cell_type": "markdown",
   "metadata": {},
   "source": [
    "# 07 - CNT - Synchronous Counter"
   ]
  },
  {
   "cell_type": "markdown",
   "metadata": {},
   "source": [
    "## Up counter\n",
    "0 => 1 => 2 => 3 ...\n",
    "\n",
    "### D-FlipFlops\n",
    "$$D_0 = Q_0 \\oplus 1 = \\overline{Q_0}$$\n",
    "$$D_1 = Q_1 \\oplus Q_0$$\n",
    "$$D_2 = Q_2 \\oplus Q_1Q_0$$\n",
    "$$D_3 = Q_3 \\oplus Q_2Q_1Q_0$$\n",
    "\n",
    "### T-FlipFlops\n",
    "$$T_0 = 1$$\n",
    "$$T_1 = Q_0$$\n",
    "$$T_2 = Q_1Q_0$$\n",
    "$$T_3 = Q_2Q_1Q_0$$\n"
   ]
  },
  {
   "cell_type": "markdown",
   "metadata": {},
   "source": [
    "## Translation Table\n",
    "### D-FF\n",
    "| $Q$ | $Q^+$ | $D$ |\n",
    "|-----|-------|-----|\n",
    "| 0   | 0     | 0   |\n",
    "| 0   | 1     | 1   |\n",
    "| 1   | 0     | 0   |\n",
    "| 1   | 1     | 1   |\n",
    "\n",
    "### T-FF\n",
    "| $Q$ | $Q^+$ | $T$ |\n",
    "|-----|-------|-----|\n",
    "| 0   | 0     | 0   |\n",
    "| 0   | 1     | 1   |\n",
    "| 1   | 0     | 1   |\n",
    "| 1   | 1     | 0   |\n",
    "\n",
    "### DE-FF\n",
    "| $Q$ | $Q^+$ | $E$ | $D$ |\n",
    "|-----|-------|-----|-----|\n",
    "| 0   | 0     | 0<br>1| -<br>0|\n",
    "| 0   | 1     | 1   | 1   |\n",
    "| 1   | 0     | 0   | 0   |\n",
    "| 1   | 1     | 1<br>1   | -<br>1   |\n"
   ]
  },
  {
   "cell_type": "code",
   "execution_count": null,
   "metadata": {},
   "outputs": [],
   "source": []
  }
 ],
 "metadata": {
  "kernelspec": {
   "display_name": "Python 3",
   "language": "python",
   "name": "python3"
  },
  "language_info": {
   "codemirror_mode": {
    "name": "ipython",
    "version": 3
   },
   "file_extension": ".py",
   "mimetype": "text/x-python",
   "name": "python",
   "nbconvert_exporter": "python",
   "pygments_lexer": "ipython3",
   "version": "3.7.3"
  }
 },
 "nbformat": 4,
 "nbformat_minor": 2
}
