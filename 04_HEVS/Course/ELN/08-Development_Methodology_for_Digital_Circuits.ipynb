{
 "cells": [
  {
   "cell_type": "markdown",
   "metadata": {},
   "source": [
    "# 8 - Development Methodology for Digital Circuits"
   ]
  },
  {
   "cell_type": "markdown",
   "metadata": {},
   "source": [
    "## Development Model - V Diagram\n",
    "<img alt=\"V Diagram\" src=\"./img/08/v_model.svg\" align=\"middle\" width=500/>\n"
   ]
  },
  {
   "cell_type": "markdown",
   "metadata": {},
   "source": [
    "## Scrumm Planning Poker\n",
    "https://en.wikipedia.org/wiki/Planning_poker\n",
    "\n",
    "Weight Tasks only with specfic values, mostly close to Fibbonacci numnber.\n",
    "\n",
    "| Value        | Description |\n",
    "|:------------:|:-----------:|\n",
    "| coffee       | Omit from evaluation |\n",
    "| 0            | No effort |\n",
    "| $\\frac{1}{2}$| - |\n",
    "| 1            | - |\n",
    "| 2            | - |\n",
    "| 3            | - |\n",
    "| 5            | - |\n",
    "| 8            | - |\n",
    "| 13           | - |\n",
    "| 20           | - |\n",
    "| 40           | - |\n",
    "| 100          | - |\n",
    "| ?            | unsure |\n",
    "| $\\infty$     | cannot be completed |\n"
   ]
  },
  {
   "cell_type": "markdown",
   "metadata": {},
   "source": [
    "### Specification Phase\n",
    "#### System Specification\n",
    "Solely created by Costomer\n",
    "\n",
    "#### Specification Documents\n",
    "* General Spezification\n",
    "* Funktional Specification\n",
    "* Performance specification"
   ]
  },
  {
   "cell_type": "markdown",
   "metadata": {},
   "source": [
    "### Draft Phase\n",
    "* Split per functions\n",
    "* Architecture Document\n",
    "  * Small Description\n",
    "  * List In- Outputs and Pin definitions\n",
    "  * Split digital circuit into functional blocs\n",
    "  * Estamation of size of digital circuit\n",
    "  * Estimation consumation\n",
    "  * List critical functions\n",
    "  * Test strategy, Validation strategy, definition Test-I/O\n",
    "\n",
    "<img alt=\"Bloc Diagram\" src=\"./img/08/bloc_diagram.svg\" align=\"middle\" width=500/>\n"
   ]
  },
  {
   "cell_type": "markdown",
   "metadata": {},
   "source": [
    "## Synchron vs Asynchrone Systems\n",
    "### Gate Delay Considerations\n",
    "The gate delay time must be taken into account when designing the circuit.\n",
    "\n",
    "Due to the cycle time, there is often a delay between a change at the input and the corresponding adaptation at the output. This depends on the technology used and can vary greatly from one gate to another within the same technology. The delay also depends on the gate load.\n",
    "\n",
    "Due to these delays, the output of a logic block may be in a different state than the input for a short moment. Such a time delay corresponds to the situation where two almost simultaneous transitions between two identical successive states occur at the block output. Such time disturbances are due to the delay times. The variation of an input signal can reach the output in two or more parallel paths, each with different delays.\n",
    "\n",
    "### Gate Delay Independence\n",
    "Gate delay times are unreliable system parameters. It is therefore recommended that systems be designed so that they are not affected by gate delay times.\n",
    "\n",
    "Synchronous logic is used for this purpose. A synchronous logic system is a system in which the clock signals of all toggle circuits are connected to the same command signal.\n",
    "\n",
    "### Sequential Logic and Gate Delay Rules\n",
    "#### Rule 1\n",
    "Any sequential logic must be synchronous. Therefore, if possible, use a single external clock generator that is only active on one edge. The most important elements of these sequential systems are the D or E flip-flop.\n",
    "\n",
    "#### Rule 2\n",
    "It is forbidden to use the logic element cycle time to generate pulses (different cycle times of the original signal and the delay chain).\n",
    "\n",
    "<img alt=\"Gate Rule\" src=\"./img/08/gate_rules_001.png\" align=\"middle\" width=500/>\n",
    "\n",
    "#### Rule 3\n",
    "It is preferable to route the clock signals directly to the flip-flop rather than controlling them with a logical element to avoid any time interference at the inputs. It is also necessary that the signals at the inputs synchronized by the clock keep the setup and hold times with respect to the clock.\n",
    "\n",
    "<img alt=\"Gate Rule\" src=\"./img/08/gate_rules_002.png\" align=\"middle\" width=500/>\n",
    "\n",
    "**Remarks:** If the number of gates or consumption is to be kept as low as possible, compliance with the third rule may prove unfavourable. Asynchronous frequency dividers require much less elements than synchronous frequency dividers. If they are used together with logic elements that work at a higher frequency, the divider outputs must be re-synchronized with the higher frequency signal. Some input or output blocks require asynchronous operation to respond quickly to external conditions. In this case, the asynchronous part of the system must be kept to a minimum. It is important to intensively analyze the system's timing behavior for the asynchronous system parts and to design function blocks without gate delays.\n",
    "\n",
    "#### Rule 4\n",
    "Each circuit must be set to a known state when it is fed into the circuit and at the start of simulation. The asynchronous inputs set and reset of the flipflops must be used. These inputs must not be used to operate the circuit, but only to ensure testability. Therefore, no signals with time interferences should be routed to the asynchronous inputs of the flip-flops. The set and reset signals must not originate from purely combinatorial decodings.\n",
    "\n",
    "<img alt=\"Gate Rule\" src=\"./img/08/gate_rules_003.png\" align=\"middle\" width=500/>\n",
    "\n",
    "#### Rule 5\n",
    "The shortest period of a clock generator of a synchronous computer is calculated as follows:\n",
    "$$T_{min} \\leq T_{ClkQ_{max}}+T{QD_{max}}+T_{skew}-T_{setup_{max}}$$\n",
    "\n",
    "* $T{ClkQ}$ - is the delay time between the clock edge and the flip-flop output Q\n",
    "* $T{QD_{max}}$ - is the delay of the longest chain of gates between an output Q of a sequential logic and an input D of a sequential logic responsive to the same edge of the same clock\n",
    "* $T{skew}$ - is the clock shift with respect to the clock inputs of the sequential logic\n",
    "* $T{setup}$ - is the setup time of the sequential logic\n",
    "\n",
    "**Remarks:** In order to increase the functional speed of a circuit, synchronization registers can be inserted into the large gate chains.\n",
    "\n",
    "#### Rule 6\n",
    "The input and output signals of a system must be synchronized with the aid of D-flip-flops. By means of the figure below, the time disturbances and metastable states that occur when a signal passes from an asynchronous to a synchronous system can be filtered.\n",
    "\n",
    "<img alt=\"Gate Rule\" src=\"./img/08/gate_rules_004.png\" align=\"middle\" width=500/>\n",
    "\n",
    "#### Rule 7\n",
    "The disappearance of the internal initialization signal of the circuit must be synchronous to the clock, but its appearance is asynchronous.\n",
    "\n",
    "<img alt=\"Gate Rule\" src=\"./img/08/gate_rules_005.png\" align=\"middle\" width=500/>\n",
    "\n",
    "#### Rule 8\n",
    "Do not overload the gate outputs too much. For large signals, estimate the fan-out of the gate that generates it and the fan-in of the gate that must control it.\n"
   ]
  },
  {
   "cell_type": "markdown",
   "metadata": {},
   "source": [
    "## Verification Phase\n",
    "### Validation\n",
    "Do we create **THE** correct product?\n",
    "\n",
    "### Verification\n",
    "Do we create a correct product?\n",
    "\n",
    "### Techniques\n",
    "* Simulation of VHDL code\n",
    "* Examination of the design documentation by competent auditors\n",
    "* Mutual proofreading of the VHDL code by the various team members\n",
    "\n",
    "| Identificationnumber of the Specification request | Description | Testbench & Simulation Setup | Time of validation | Validation status | Attachment |\n",
    "|---------------------------------------------------|-------------|------------------------------|--------------------|-------------------|------------|\n",
    "| ``DSxx-YYXXX`` <br> ``DSxx`` Number in Specification document <br> ``YY`` Chapter number <br> ``XXX`` Number of Functional Specification | Keywords of Functional Specification to be validated | Identification of used Testbanch and Simulation Steps | Time when the validation took place | Validation Method (Analyses, visual verification, Print, Log file, automatic validation | Validation Status (OK|NOK|measured Value) | Number of attachment if needed |\n"
   ]
  },
  {
   "cell_type": "markdown",
   "metadata": {},
   "source": [
    "## Integration Phase\n",
    "### Results\n",
    "The following elements needs to be part of the document:\n",
    "* A detailed design report with a detailed description of the design activities, the coding and verification, the validations of the partial circuits as well as the integration and final validation. The focus must be on the conscientiousness of the validations performed and on the elements that will allow another team to continue the project at a later stage.\n",
    "* User manual. This is the document that is delivered to the customer (end user). It must describe the installation, settings and use of the material. This document is actually written in the course of the project, as it adopts the model developed during the general design phase (which is based on the functional description of the product created during the specification phase).\n",
    "\n",
    "### Execution Techniques\n",
    "* Scheduling problems: The delays accumulated in the previous phases will inevitably become noticeable as the deadline approaches. Participants therefore often panic instead of focusing on quality and organisation. There is only one solution: PREVIEW, PREVIEW, PREVIEW. Whether the deadline is met is already decided during the specification phase. The developers and especially the project managers have to be very careful, especially in the initial phase (the two weeks that are missing at the end are often lost at the beginning). By conscientious project monitoring, catastrophes can also be avoided by redefining objectives in good time.\n",
    "* Managing the work of the group: Many reflections of the previous phases can and/or must be carried out together in the group. However, this phase is characterised by a lot of individual work. The work can only be done if it is managed in parallel. But the simple addition of individual tasks does not automatically lead to their sum. This requires organization. Therefore, a structure must be set up for the distribution of tasks among team members and the time required for synchronization. The larger the group, the more precise the organization needs to be and the longer the synchronization takes. This time must be explicitly taken into account during planning. For a group of 5 to 6 people working full-time on a project, a daily briefing (coffee break) and a structured weekly meeting seem to be a realistic solution.\n",
    "\n",
    "See also [Scrum Development](https://en.wikipedia.org/wiki/Scrum_(software_development))"
   ]
  },
  {
   "cell_type": "code",
   "execution_count": null,
   "metadata": {},
   "outputs": [],
   "source": []
  }
 ],
 "metadata": {
  "kernelspec": {
   "display_name": "Python 3",
   "language": "python",
   "name": "python3"
  },
  "language_info": {
   "codemirror_mode": {
    "name": "ipython",
    "version": 3
   },
   "file_extension": ".py",
   "mimetype": "text/x-python",
   "name": "python",
   "nbconvert_exporter": "python",
   "pygments_lexer": "ipython3",
   "version": "3.7.3"
  },
  "toc-autonumbering": true
 },
 "nbformat": 4,
 "nbformat_minor": 2
}
