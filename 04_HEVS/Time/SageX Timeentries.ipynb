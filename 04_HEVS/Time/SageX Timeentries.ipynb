{
 "cells": [
  {
   "cell_type": "markdown",
   "metadata": {},
   "source": [
    "# SageX TimeEntries\n",
    "Todo for each month"
   ]
  },
  {
   "cell_type": "code",
   "execution_count": 41,
   "metadata": {},
   "outputs": [],
   "source": [
    "from datetime import timedelta\n",
    "\n",
    "def timeentry(asciitime=\"24:60:60\"): # HH:MM:SS\n",
    "  time_list = asciitime.split(':')\n",
    "  time_list = list(map(int, time_list))\n",
    "  if len(time_list) == 3:\n",
    "    return timedelta(hours=time_list[0], minutes=time_list[1], seconds=time_list[2])  \n",
    "  elif len(time_list) == 2:\n",
    "    return timedelta(hours=time_list[0], minutes=time_list[1])\n",
    "  elif len(time_list) == 1:\n",
    "    return timedelta(hours=time_list[0])\n",
    "\n",
    "def time_addition(list):\n",
    "  total_time = timedelta(hours=0, minutes=0, seconds=0)\n",
    "  for time in list:\n",
    "    total_time = total_time + time\n",
    "  return total_time\n",
    "\n",
    "def convert_timedelta(duration):\n",
    "    days, seconds = duration.days, duration.seconds\n",
    "    hours = days * 24 + seconds // 3600\n",
    "    minutes = (seconds % 3600) // 60\n",
    "    seconds = (seconds % 60)\n",
    "    return hours, minutes, seconds"
   ]
  },
  {
   "cell_type": "markdown",
   "metadata": {},
   "source": [
    "## April 2019"
   ]
  },
  {
   "cell_type": "code",
   "execution_count": 42,
   "metadata": {},
   "outputs": [
    {
     "name": "stdout",
     "output_type": "stream",
     "text": [
      "Constellium Project Time = 51 59 38\n"
     ]
    }
   ],
   "source": [
    "# Constellium\n",
    "constellium_projects = []\n",
    "hevs = []\n",
    "\n",
    "constellium_projects.append(timeentry(\"24:45:00\"))\n",
    "constellium_projects.append(timeentry(\"15:00:00\"))\n",
    "#constellium_projects.append(\":::\")\n",
    "\n",
    "h,m,s = convert_timedelta(time_addition(constellium_projects))\n",
    "print(\"Constellium Project Time = {} {} {}\".format(h,m,s))\n"
   ]
  }
 ],
 "metadata": {
  "kernelspec": {
   "display_name": "Python 3",
   "language": "python",
   "name": "python3"
  },
  "language_info": {
   "codemirror_mode": {
    "name": "ipython",
    "version": 3
   },
   "file_extension": ".py",
   "mimetype": "text/x-python",
   "name": "python",
   "nbconvert_exporter": "python",
   "pygments_lexer": "ipython3",
   "version": "3.7.3"
  }
 },
 "nbformat": 4,
 "nbformat_minor": 2
}
