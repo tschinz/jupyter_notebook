{
 "cells": [
  {
   "cell_type": "markdown",
   "metadata": {},
   "source": [
    "# Toggl Reports Downloader"
   ]
  },
  {
   "cell_type": "markdown",
   "metadata": {},
   "source": [
    "Script to Extract from Toggl API and create CSV Export of **Latest and Complete Timelogs** as as well as separate exports of Clients, Projects, Workspace Lists. \n",
    "\n",
    "Useful for back up purposes or additional data analysis. "
   ]
  },
  {
   "cell_type": "markdown",
   "metadata": {},
   "source": [
    "----"
   ]
  },
  {
   "cell_type": "markdown",
   "metadata": {},
   "source": [
    "### Add Dependencies"
   ]
  },
  {
   "cell_type": "code",
   "execution_count": 1,
   "metadata": {
    "collapsed": true
   },
   "outputs": [],
   "source": [
    "import pandas as pd\n",
    "from datetime import datetime\n",
    "from dateutil.parser import parse\n",
    "import time\n",
    "import pytz"
   ]
  },
  {
   "cell_type": "code",
   "execution_count": 2,
   "metadata": {
    "collapsed": true
   },
   "outputs": [],
   "source": [
    "# Toggl Wrapper API \n",
    "# https://github.com/matthewdowney/TogglPy\n",
    "import TogglPy"
   ]
  },
  {
   "cell_type": "markdown",
   "metadata": {},
   "source": [
    "----"
   ]
  },
  {
   "cell_type": "markdown",
   "metadata": {},
   "source": [
    "## Authentication"
   ]
  },
  {
   "cell_type": "code",
   "execution_count": 88,
   "metadata": {
    "collapsed": true
   },
   "outputs": [],
   "source": [
    "import json\n",
    "\n",
    "with open(\"credentials.json\", \"r\") as file:\n",
    "    credentials = json.load(file)\n",
    "    toggl_cr = credentials['toggl']\n",
    "    APIKEY = toggl_cr['APIKEY']"
   ]
  },
  {
   "cell_type": "code",
   "execution_count": 89,
   "metadata": {
    "collapsed": true
   },
   "outputs": [],
   "source": [
    "toggl = TogglPy.Toggl()\n",
    "toggl.setAPIKey(APIKEY) "
   ]
  },
  {
   "cell_type": "markdown",
   "metadata": {},
   "source": [
    "-----"
   ]
  },
  {
   "cell_type": "markdown",
   "metadata": {},
   "source": [
    "## User Data"
   ]
  },
  {
   "cell_type": "code",
   "execution_count": 90,
   "metadata": {
    "collapsed": true
   },
   "outputs": [],
   "source": [
    "user = toggl.request(\"https://www.toggl.com/api/v8/me\")"
   ]
  },
  {
   "cell_type": "code",
   "execution_count": 91,
   "metadata": {
    "collapsed": true
   },
   "outputs": [],
   "source": [
    "user_id = user['data']['id']"
   ]
  },
  {
   "cell_type": "code",
   "execution_count": 92,
   "metadata": {},
   "outputs": [
    {
     "data": {
      "text/plain": [
       "'Whynotlogic'"
      ]
     },
     "execution_count": 92,
     "metadata": {},
     "output_type": "execute_result"
    }
   ],
   "source": [
    "user['data']['fullname']"
   ]
  },
  {
   "cell_type": "code",
   "execution_count": 93,
   "metadata": {},
   "outputs": [
    {
     "data": {
      "text/plain": [
       "datetime.datetime(2016, 10, 23, 11, 0, 17)"
      ]
     },
     "execution_count": 93,
     "metadata": {},
     "output_type": "execute_result"
    }
   ],
   "source": [
    "join_date = parse(user['data']['created_at'])\n",
    "join_date = join_date.replace(tzinfo=None)\n",
    "join_date"
   ]
  },
  {
   "cell_type": "code",
   "execution_count": 94,
   "metadata": {},
   "outputs": [
    {
     "name": "stdout",
     "output_type": "stream",
     "text": [
      "Days Since Joining: 968\n"
     ]
    }
   ],
   "source": [
    "today = datetime.now()\n",
    "dates = list(pd.date_range(join_date, today))\n",
    "print(\"Days Since Joining: \" + str(len(dates))) # days since joining"
   ]
  },
  {
   "cell_type": "markdown",
   "metadata": {},
   "source": [
    "-----"
   ]
  },
  {
   "cell_type": "markdown",
   "metadata": {},
   "source": [
    "## Clients"
   ]
  },
  {
   "cell_type": "code",
   "execution_count": 95,
   "metadata": {
    "collapsed": true
   },
   "outputs": [],
   "source": [
    "user_clients = toggl.request(\"https://www.toggl.com/api/v8/clients\")"
   ]
  },
  {
   "cell_type": "code",
   "execution_count": 96,
   "metadata": {
    "collapsed": true
   },
   "outputs": [],
   "source": [
    "clients = pd.DataFrame()\n",
    "for i in list(range(0, len(user_clients))):\n",
    "    clients_df_temp = pd.DataFrame.from_dict(user_clients)\n",
    "    clients = pd.concat([clients_df_temp, clients])"
   ]
  },
  {
   "cell_type": "code",
   "execution_count": 97,
   "metadata": {
    "collapsed": true
   },
   "outputs": [],
   "source": [
    "clients.to_csv('data/toggl-clients.csv')"
   ]
  },
  {
   "cell_type": "markdown",
   "metadata": {},
   "source": [
    "-----"
   ]
  },
  {
   "cell_type": "markdown",
   "metadata": {},
   "source": [
    "## Workplaces"
   ]
  },
  {
   "cell_type": "markdown",
   "metadata": {},
   "source": [
    "API Ref: https://github.com/toggl/toggl_api_docs/blob/master/chapters/workspaces.md#get-workspaces"
   ]
  },
  {
   "cell_type": "code",
   "execution_count": 98,
   "metadata": {
    "collapsed": true
   },
   "outputs": [],
   "source": [
    "workspaces_list = toggl.request(\"https://www.toggl.com/api/v8/workspaces\")"
   ]
  },
  {
   "cell_type": "code",
   "execution_count": 99,
   "metadata": {},
   "outputs": [
    {
     "data": {
      "text/plain": [
       "2"
      ]
     },
     "execution_count": 99,
     "metadata": {},
     "output_type": "execute_result"
    }
   ],
   "source": [
    "len(workspaces_list)"
   ]
  },
  {
   "cell_type": "code",
   "execution_count": 100,
   "metadata": {
    "collapsed": true
   },
   "outputs": [],
   "source": [
    "workspaces = pd.DataFrame.from_dict(workspaces_list)"
   ]
  },
  {
   "cell_type": "code",
   "execution_count": 101,
   "metadata": {},
   "outputs": [],
   "source": [
    "workspaces_dict = dict(zip(workspaces.id, workspaces.name))"
   ]
  },
  {
   "cell_type": "code",
   "execution_count": 102,
   "metadata": {
    "collapsed": true
   },
   "outputs": [],
   "source": [
    "workspaces.to_csv('data/toggl-workspaces.csv')"
   ]
  },
  {
   "cell_type": "markdown",
   "metadata": {},
   "source": [
    "----"
   ]
  },
  {
   "cell_type": "markdown",
   "metadata": {},
   "source": [
    "## Workplace Projects"
   ]
  },
  {
   "cell_type": "markdown",
   "metadata": {},
   "source": [
    "* API Ref: https://github.com/toggl/toggl_api_docs/blob/master/chapters/workspaces.md#get-workspace-projects\n",
    "* Endpoint: https://www.toggl.com/api/v8/workspaces/{workspace_id}/projects"
   ]
  },
  {
   "cell_type": "code",
   "execution_count": 103,
   "metadata": {
    "collapsed": true
   },
   "outputs": [],
   "source": [
    "projects = pd.DataFrame()\n",
    "for i in list(range(0, len(workspaces_list))):\n",
    "    projects_list = toggl.request(\"https://www.toggl.com/api/v8/workspaces/\" + str(workspaces_list[i]['id']) + \"/projects\")\n",
    "    projects_df_temp = pd.DataFrame.from_dict(projects_list)\n",
    "    projects = pd.concat([projects_df_temp, projects])"
   ]
  },
  {
   "cell_type": "code",
   "execution_count": 104,
   "metadata": {},
   "outputs": [
    {
     "data": {
      "text/plain": [
       "20"
      ]
     },
     "execution_count": 104,
     "metadata": {},
     "output_type": "execute_result"
    }
   ],
   "source": [
    "len(projects)"
   ]
  },
  {
   "cell_type": "code",
   "execution_count": 105,
   "metadata": {},
   "outputs": [],
   "source": [
    "# map workspace name onto projects\n",
    "projects['workspace_name'] = projects.wid.map(workspaces_dict)"
   ]
  },
  {
   "cell_type": "code",
   "execution_count": 106,
   "metadata": {},
   "outputs": [
    {
     "data": {
      "text/html": [
       "<div>\n",
       "<style scoped>\n",
       "    .dataframe tbody tr th:only-of-type {\n",
       "        vertical-align: middle;\n",
       "    }\n",
       "\n",
       "    .dataframe tbody tr th {\n",
       "        vertical-align: top;\n",
       "    }\n",
       "\n",
       "    .dataframe thead th {\n",
       "        text-align: right;\n",
       "    }\n",
       "</style>\n",
       "<table border=\"1\" class=\"dataframe\">\n",
       "  <thead>\n",
       "    <tr style=\"text-align: right;\">\n",
       "      <th></th>\n",
       "      <th>active</th>\n",
       "      <th>actual_hours</th>\n",
       "      <th>at</th>\n",
       "      <th>auto_estimates</th>\n",
       "      <th>billable</th>\n",
       "      <th>cid</th>\n",
       "      <th>color</th>\n",
       "      <th>created_at</th>\n",
       "      <th>hex_color</th>\n",
       "      <th>id</th>\n",
       "      <th>is_private</th>\n",
       "      <th>name</th>\n",
       "      <th>template</th>\n",
       "      <th>wid</th>\n",
       "      <th>workspace_name</th>\n",
       "    </tr>\n",
       "  </thead>\n",
       "  <tbody>\n",
       "    <tr>\n",
       "      <th>0</th>\n",
       "      <td>True</td>\n",
       "      <td>10.0</td>\n",
       "      <td>2019-03-21T07:39:44+00:00</td>\n",
       "      <td>False</td>\n",
       "      <td>False</td>\n",
       "      <td>NaN</td>\n",
       "      <td>9</td>\n",
       "      <td>2019-03-21T07:39:44+00:00</td>\n",
       "      <td>#a01aa5</td>\n",
       "      <td>150378408</td>\n",
       "      <td>True</td>\n",
       "      <td>InternalTrelloTogglTest</td>\n",
       "      <td>False</td>\n",
       "      <td>3316671</td>\n",
       "      <td>Smart Process Lab</td>\n",
       "    </tr>\n",
       "    <tr>\n",
       "      <th>1</th>\n",
       "      <td>True</td>\n",
       "      <td>NaN</td>\n",
       "      <td>2019-03-20T16:48:42+00:00</td>\n",
       "      <td>False</td>\n",
       "      <td>False</td>\n",
       "      <td>NaN</td>\n",
       "      <td>7</td>\n",
       "      <td>2019-03-20T16:37:17+00:00</td>\n",
       "      <td>#e19a86</td>\n",
       "      <td>150366206</td>\n",
       "      <td>True</td>\n",
       "      <td>SPL Space</td>\n",
       "      <td>False</td>\n",
       "      <td>3316671</td>\n",
       "      <td>Smart Process Lab</td>\n",
       "    </tr>\n",
       "    <tr>\n",
       "      <th>2</th>\n",
       "      <td>True</td>\n",
       "      <td>NaN</td>\n",
       "      <td>2019-03-20T16:37:29+00:00</td>\n",
       "      <td>False</td>\n",
       "      <td>False</td>\n",
       "      <td>44010598.0</td>\n",
       "      <td>4</td>\n",
       "      <td>2019-03-20T16:37:29+00:00</td>\n",
       "      <td>#c7741c</td>\n",
       "      <td>150366215</td>\n",
       "      <td>True</td>\n",
       "      <td>USP</td>\n",
       "      <td>False</td>\n",
       "      <td>3316671</td>\n",
       "      <td>Smart Process Lab</td>\n",
       "    </tr>\n",
       "  </tbody>\n",
       "</table>\n",
       "</div>"
      ],
      "text/plain": [
       "   active  actual_hours                         at  auto_estimates  billable  \\\n",
       "0    True          10.0  2019-03-21T07:39:44+00:00           False     False   \n",
       "1    True           NaN  2019-03-20T16:48:42+00:00           False     False   \n",
       "2    True           NaN  2019-03-20T16:37:29+00:00           False     False   \n",
       "\n",
       "          cid color                 created_at hex_color         id  \\\n",
       "0         NaN     9  2019-03-21T07:39:44+00:00   #a01aa5  150378408   \n",
       "1         NaN     7  2019-03-20T16:37:17+00:00   #e19a86  150366206   \n",
       "2  44010598.0     4  2019-03-20T16:37:29+00:00   #c7741c  150366215   \n",
       "\n",
       "   is_private                     name  template      wid     workspace_name  \n",
       "0        True  InternalTrelloTogglTest     False  3316671  Smart Process Lab  \n",
       "1        True                SPL Space     False  3316671  Smart Process Lab  \n",
       "2        True                      USP     False  3316671  Smart Process Lab  "
      ]
     },
     "execution_count": 106,
     "metadata": {},
     "output_type": "execute_result"
    }
   ],
   "source": [
    "projects.head(3)"
   ]
  },
  {
   "cell_type": "code",
   "execution_count": 107,
   "metadata": {},
   "outputs": [
    {
     "data": {
      "text/plain": [
       "683.0"
      ]
     },
     "execution_count": 107,
     "metadata": {},
     "output_type": "execute_result"
    }
   ],
   "source": [
    "# total time of active projects\n",
    "projects.actual_hours.sum()"
   ]
  },
  {
   "cell_type": "code",
   "execution_count": 108,
   "metadata": {
    "collapsed": true
   },
   "outputs": [],
   "source": [
    "projects.to_csv('data/toggl-current-projects.csv')"
   ]
  },
  {
   "cell_type": "markdown",
   "metadata": {},
   "source": [
    "----"
   ]
  },
  {
   "cell_type": "markdown",
   "metadata": {},
   "source": [
    "# Collect Yearly Export of Detailed Timelogs"
   ]
  },
  {
   "cell_type": "code",
   "execution_count": 109,
   "metadata": {
    "collapsed": true
   },
   "outputs": [],
   "source": [
    "def get_detailed_reports(wid, since, until):  # max 365 days\n",
    "    uid = user_id\n",
    "    param = {\n",
    "        'workspace_id': wid,\n",
    "        'since': since,\n",
    "        'until': until,\n",
    "        'uid': uid\n",
    "    }\n",
    "    #print(str(workspace_id) + \" \" + since)\n",
    "    toggl.getDetailedReportCSV(param, \"data/detailed/toggl-detailed-report-\" + wid + \"-\" + since + \"-\" + until + \".csv\")"
   ]
  },
  {
   "cell_type": "code",
   "execution_count": 110,
   "metadata": {},
   "outputs": [
    {
     "data": {
      "text/plain": [
       "[2016, 2017, 2018, 2019]"
      ]
     },
     "execution_count": 110,
     "metadata": {},
     "output_type": "execute_result"
    }
   ],
   "source": [
    "# years since joinging\n",
    "last_year = today.year + 1\n",
    "years = list(range(join_date.year, last_year))\n",
    "years"
   ]
  },
  {
   "cell_type": "code",
   "execution_count": 111,
   "metadata": {
    "collapsed": true
   },
   "outputs": [],
   "source": [
    "# list of workspace ids\n",
    "workspace_ids = []\n",
    "for i in workspaces_list:\n",
    "    workspace_ids.append(i['id'])\n",
    "# workspace_ids"
   ]
  },
  {
   "cell_type": "code",
   "execution_count": 112,
   "metadata": {},
   "outputs": [
    {
     "data": {
      "text/plain": [
       "[1721871, 3316671]"
      ]
     },
     "execution_count": 112,
     "metadata": {},
     "output_type": "execute_result"
    }
   ],
   "source": [
    "workspace_ids"
   ]
  },
  {
   "cell_type": "code",
   "execution_count": 113,
   "metadata": {
    "collapsed": true
   },
   "outputs": [],
   "source": [
    "# Generate Detail CSV Tester\n",
    "workspace_id = \"3316671\"\n",
    "since = \"2019-01-01\"\n",
    "until = \"2019-12-31\"\n",
    "\n",
    "get_detailed_reports(workspace_id, since, until)"
   ]
  },
  {
   "cell_type": "code",
   "execution_count": 114,
   "metadata": {},
   "outputs": [
    {
     "name": "stdout",
     "output_type": "stream",
     "text": [
      "Generating CSV... for Workspace: 1721871 from 2016-01-01 until 2016-12-31\n",
      "Generating CSV... for Workspace: 1721871 from 2017-01-01 until 2017-12-31\n",
      "Generating CSV... for Workspace: 1721871 from 2018-01-01 until 2018-12-31\n",
      "Generating CSV... for Workspace: 1721871 from 2019-01-01 until 2019-12-31\n",
      "Generating CSV... for Workspace: 3316671 from 2016-01-01 until 2016-12-31\n",
      "Generating CSV... for Workspace: 3316671 from 2017-01-01 until 2017-12-31\n",
      "Generating CSV... for Workspace: 3316671 from 2018-01-01 until 2018-12-31\n",
      "Generating CSV... for Workspace: 3316671 from 2019-01-01 until 2019-12-31\n"
     ]
    }
   ],
   "source": [
    "# generate a yearly report for each workspace\n",
    "for i in workspace_ids:\n",
    "    wid = str(i)\n",
    "    for y in years:\n",
    "        try: \n",
    "            since = str(y) + \"-01-01\" # \"2013-01-01\"\n",
    "            until = str(y) + \"-12-31\" # \"2013-12-31\"\n",
    "            print(\"Generating CSV... \" + \"for Workspace: \" + str(wid) + \" from \" + since + \" until \" + until)\n",
    "            get_detailed_reports(wid, since, until)            \n",
    "        except:\n",
    "            print(\"ERROR On:  \" + str(uid) + \" \" + str(wid) + \" from \" + since + \" until \" + until)"
   ]
  },
  {
   "cell_type": "markdown",
   "metadata": {},
   "source": [
    "-----"
   ]
  },
  {
   "cell_type": "markdown",
   "metadata": {},
   "source": [
    "## Log of Latest Time Entries for that User "
   ]
  },
  {
   "cell_type": "markdown",
   "metadata": {},
   "source": [
    "* API Ref: https://github.com/toggl/toggl_api_docs/blob/master/chapters/time_entries.md#get-time-entries-started-in-a-specific-time-range\n",
    "* Endpoint: https://www.toggl.com/api/v8/time_entries \n",
    "* Note: start_date and end_date must be ISO 8601 date and time strings."
   ]
  },
  {
   "cell_type": "code",
   "execution_count": 115,
   "metadata": {
    "collapsed": true
   },
   "outputs": [],
   "source": [
    "# latest_time_entries from last 9 days\n",
    "latest_time_entries = toggl.request(\"https://www.toggl.com/api/v8/time_entries\")"
   ]
  },
  {
   "cell_type": "code",
   "execution_count": 116,
   "metadata": {},
   "outputs": [
    {
     "data": {
      "text/plain": [
       "11"
      ]
     },
     "execution_count": 116,
     "metadata": {},
     "output_type": "execute_result"
    }
   ],
   "source": [
    "len(latest_time_entries)"
   ]
  },
  {
   "cell_type": "code",
   "execution_count": 117,
   "metadata": {},
   "outputs": [
    {
     "data": {
      "text/plain": [
       "{'id': 1219471139,\n",
       " 'guid': 'e861abfdf16c7158b0150710c0c5ac0e',\n",
       " 'wid': 1721871,\n",
       " 'pid': 150954342,\n",
       " 'billable': False,\n",
       " 'start': '2019-06-17T10:30:00+00:00',\n",
       " 'stop': '2019-06-17T14:00:00+00:00',\n",
       " 'duration': 12600,\n",
       " 'description': 'Write Project Demand SLS',\n",
       " 'duronly': False,\n",
       " 'at': '2019-06-17T11:16:27+00:00',\n",
       " 'uid': 2523441}"
      ]
     },
     "execution_count": 117,
     "metadata": {},
     "output_type": "execute_result"
    }
   ],
   "source": [
    "latest_time_entries[-1]"
   ]
  },
  {
   "cell_type": "code",
   "execution_count": 118,
   "metadata": {
    "collapsed": true
   },
   "outputs": [],
   "source": [
    "latest_timelog = pd.DataFrame.from_dict(latest_time_entries)"
   ]
  },
  {
   "cell_type": "code",
   "execution_count": 119,
   "metadata": {
    "scrolled": true
   },
   "outputs": [
    {
     "data": {
      "text/html": [
       "<div>\n",
       "<style scoped>\n",
       "    .dataframe tbody tr th:only-of-type {\n",
       "        vertical-align: middle;\n",
       "    }\n",
       "\n",
       "    .dataframe tbody tr th {\n",
       "        vertical-align: top;\n",
       "    }\n",
       "\n",
       "    .dataframe thead th {\n",
       "        text-align: right;\n",
       "    }\n",
       "</style>\n",
       "<table border=\"1\" class=\"dataframe\">\n",
       "  <thead>\n",
       "    <tr style=\"text-align: right;\">\n",
       "      <th></th>\n",
       "      <th>at</th>\n",
       "      <th>billable</th>\n",
       "      <th>description</th>\n",
       "      <th>duration</th>\n",
       "      <th>duronly</th>\n",
       "      <th>guid</th>\n",
       "      <th>id</th>\n",
       "      <th>pid</th>\n",
       "      <th>start</th>\n",
       "      <th>stop</th>\n",
       "      <th>uid</th>\n",
       "      <th>wid</th>\n",
       "    </tr>\n",
       "  </thead>\n",
       "  <tbody>\n",
       "    <tr>\n",
       "      <th>6</th>\n",
       "      <td>2019-06-13T16:05:15+00:00</td>\n",
       "      <td>False</td>\n",
       "      <td>Seance Personel</td>\n",
       "      <td>7200</td>\n",
       "      <td>False</td>\n",
       "      <td>e879d7959fbd4f1b9da95f7b572bf8fa</td>\n",
       "      <td>1217105514</td>\n",
       "      <td>150034131</td>\n",
       "      <td>2019-06-13T14:00:00+00:00</td>\n",
       "      <td>2019-06-13T16:00:00+00:00</td>\n",
       "      <td>2523441</td>\n",
       "      <td>1721871</td>\n",
       "    </tr>\n",
       "    <tr>\n",
       "      <th>7</th>\n",
       "      <td>2019-06-17T09:06:21+00:00</td>\n",
       "      <td>False</td>\n",
       "      <td>USP Data Analytics and Meeting</td>\n",
       "      <td>18000</td>\n",
       "      <td>False</td>\n",
       "      <td>fe282961a01724ac18acda51d0274a5c</td>\n",
       "      <td>1219331435</td>\n",
       "      <td>150366067</td>\n",
       "      <td>2019-06-14T05:00:00+00:00</td>\n",
       "      <td>2019-06-14T10:00:00+00:00</td>\n",
       "      <td>2523441</td>\n",
       "      <td>1721871</td>\n",
       "    </tr>\n",
       "    <tr>\n",
       "      <th>8</th>\n",
       "      <td>2019-06-17T09:06:54+00:00</td>\n",
       "      <td>False</td>\n",
       "      <td>Preparation ELN Labo Trimlibs fixes</td>\n",
       "      <td>10800</td>\n",
       "      <td>False</td>\n",
       "      <td>a95992a6d7ba52d030b9f1e4ec035d21</td>\n",
       "      <td>1219332037</td>\n",
       "      <td>150388923</td>\n",
       "      <td>2019-06-14T11:00:00+00:00</td>\n",
       "      <td>2019-06-14T14:00:00+00:00</td>\n",
       "      <td>2523441</td>\n",
       "      <td>1721871</td>\n",
       "    </tr>\n",
       "    <tr>\n",
       "      <th>9</th>\n",
       "      <td>2019-06-17T11:15:32+00:00</td>\n",
       "      <td>False</td>\n",
       "      <td>Write Project Demand SLS</td>\n",
       "      <td>18000</td>\n",
       "      <td>False</td>\n",
       "      <td>c059a63412a057f9dfd6d9f903b2a712</td>\n",
       "      <td>1219470044</td>\n",
       "      <td>150954342</td>\n",
       "      <td>2019-06-17T05:00:00+00:00</td>\n",
       "      <td>2019-06-17T10:00:00+00:00</td>\n",
       "      <td>2523441</td>\n",
       "      <td>1721871</td>\n",
       "    </tr>\n",
       "    <tr>\n",
       "      <th>10</th>\n",
       "      <td>2019-06-17T11:16:27+00:00</td>\n",
       "      <td>False</td>\n",
       "      <td>Write Project Demand SLS</td>\n",
       "      <td>12600</td>\n",
       "      <td>False</td>\n",
       "      <td>e861abfdf16c7158b0150710c0c5ac0e</td>\n",
       "      <td>1219471139</td>\n",
       "      <td>150954342</td>\n",
       "      <td>2019-06-17T10:30:00+00:00</td>\n",
       "      <td>2019-06-17T14:00:00+00:00</td>\n",
       "      <td>2523441</td>\n",
       "      <td>1721871</td>\n",
       "    </tr>\n",
       "  </tbody>\n",
       "</table>\n",
       "</div>"
      ],
      "text/plain": [
       "                           at  billable                          description  \\\n",
       "6   2019-06-13T16:05:15+00:00     False                      Seance Personel   \n",
       "7   2019-06-17T09:06:21+00:00     False       USP Data Analytics and Meeting   \n",
       "8   2019-06-17T09:06:54+00:00     False  Preparation ELN Labo Trimlibs fixes   \n",
       "9   2019-06-17T11:15:32+00:00     False             Write Project Demand SLS   \n",
       "10  2019-06-17T11:16:27+00:00     False             Write Project Demand SLS   \n",
       "\n",
       "    duration  duronly                              guid          id  \\\n",
       "6       7200    False  e879d7959fbd4f1b9da95f7b572bf8fa  1217105514   \n",
       "7      18000    False  fe282961a01724ac18acda51d0274a5c  1219331435   \n",
       "8      10800    False  a95992a6d7ba52d030b9f1e4ec035d21  1219332037   \n",
       "9      18000    False  c059a63412a057f9dfd6d9f903b2a712  1219470044   \n",
       "10     12600    False  e861abfdf16c7158b0150710c0c5ac0e  1219471139   \n",
       "\n",
       "          pid                      start                       stop      uid  \\\n",
       "6   150034131  2019-06-13T14:00:00+00:00  2019-06-13T16:00:00+00:00  2523441   \n",
       "7   150366067  2019-06-14T05:00:00+00:00  2019-06-14T10:00:00+00:00  2523441   \n",
       "8   150388923  2019-06-14T11:00:00+00:00  2019-06-14T14:00:00+00:00  2523441   \n",
       "9   150954342  2019-06-17T05:00:00+00:00  2019-06-17T10:00:00+00:00  2523441   \n",
       "10  150954342  2019-06-17T10:30:00+00:00  2019-06-17T14:00:00+00:00  2523441   \n",
       "\n",
       "        wid  \n",
       "6   1721871  \n",
       "7   1721871  \n",
       "8   1721871  \n",
       "9   1721871  \n",
       "10  1721871  "
      ]
     },
     "execution_count": 119,
     "metadata": {},
     "output_type": "execute_result"
    }
   ],
   "source": [
    "latest_timelog.tail()"
   ]
  },
  {
   "cell_type": "code",
   "execution_count": 120,
   "metadata": {},
   "outputs": [
    {
     "data": {
      "text/html": [
       "<div>\n",
       "<style scoped>\n",
       "    .dataframe tbody tr th:only-of-type {\n",
       "        vertical-align: middle;\n",
       "    }\n",
       "\n",
       "    .dataframe tbody tr th {\n",
       "        vertical-align: top;\n",
       "    }\n",
       "\n",
       "    .dataframe thead th {\n",
       "        text-align: right;\n",
       "    }\n",
       "</style>\n",
       "<table border=\"1\" class=\"dataframe\">\n",
       "  <thead>\n",
       "    <tr style=\"text-align: right;\">\n",
       "      <th></th>\n",
       "      <th>at</th>\n",
       "      <th>billable</th>\n",
       "      <th>description</th>\n",
       "      <th>duration</th>\n",
       "      <th>duronly</th>\n",
       "      <th>guid</th>\n",
       "      <th>id</th>\n",
       "      <th>pid</th>\n",
       "      <th>start</th>\n",
       "      <th>stop</th>\n",
       "      <th>uid</th>\n",
       "      <th>wid</th>\n",
       "    </tr>\n",
       "  </thead>\n",
       "  <tbody>\n",
       "    <tr>\n",
       "      <th>0</th>\n",
       "      <td>2019-06-13T16:01:27+00:00</td>\n",
       "      <td>False</td>\n",
       "      <td>Compensation Day</td>\n",
       "      <td>28800</td>\n",
       "      <td>False</td>\n",
       "      <td>827005b71c250be9b8b6a5e45f331064</td>\n",
       "      <td>1217101074</td>\n",
       "      <td>151295149</td>\n",
       "      <td>2019-06-11T06:00:00+00:00</td>\n",
       "      <td>2019-06-11T14:00:00+00:00</td>\n",
       "      <td>2523441</td>\n",
       "      <td>1721871</td>\n",
       "    </tr>\n",
       "    <tr>\n",
       "      <th>1</th>\n",
       "      <td>2019-06-13T03:50:18+00:00</td>\n",
       "      <td>False</td>\n",
       "      <td>Preparation ELN Labo</td>\n",
       "      <td>18000</td>\n",
       "      <td>False</td>\n",
       "      <td>7de46356acbb340ab759ce49c1f8be08</td>\n",
       "      <td>1216338822</td>\n",
       "      <td>150388923</td>\n",
       "      <td>2019-06-12T05:00:00+00:00</td>\n",
       "      <td>2019-06-12T10:00:00+00:00</td>\n",
       "      <td>2523441</td>\n",
       "      <td>1721871</td>\n",
       "    </tr>\n",
       "    <tr>\n",
       "      <th>2</th>\n",
       "      <td>2019-06-13T03:51:32+00:00</td>\n",
       "      <td>False</td>\n",
       "      <td>Preparation ELN Labo</td>\n",
       "      <td>18000</td>\n",
       "      <td>False</td>\n",
       "      <td>a3a1650e490f06da83628f074089a92b</td>\n",
       "      <td>1216339202</td>\n",
       "      <td>150388923</td>\n",
       "      <td>2019-06-12T10:00:00+00:00</td>\n",
       "      <td>2019-06-12T15:00:00+00:00</td>\n",
       "      <td>2523441</td>\n",
       "      <td>1721871</td>\n",
       "    </tr>\n",
       "    <tr>\n",
       "      <th>3</th>\n",
       "      <td>2019-06-13T03:52:07+00:00</td>\n",
       "      <td>False</td>\n",
       "      <td>Preparation ELN Labo</td>\n",
       "      <td>10800</td>\n",
       "      <td>False</td>\n",
       "      <td>7a971ea849e081de3731138ca599f636</td>\n",
       "      <td>1216339388</td>\n",
       "      <td>150388923</td>\n",
       "      <td>2019-06-12T18:00:00+00:00</td>\n",
       "      <td>2019-06-12T21:00:00+00:00</td>\n",
       "      <td>2523441</td>\n",
       "      <td>1721871</td>\n",
       "    </tr>\n",
       "    <tr>\n",
       "      <th>4</th>\n",
       "      <td>2019-06-13T16:00:37+00:00</td>\n",
       "      <td>False</td>\n",
       "      <td>Preparation ELN Labo</td>\n",
       "      <td>21600</td>\n",
       "      <td>False</td>\n",
       "      <td>10fc289bafbb251d7fd0f90b57316ea2</td>\n",
       "      <td>1217099893</td>\n",
       "      <td>150388923</td>\n",
       "      <td>2019-06-13T10:00:00+00:00</td>\n",
       "      <td>2019-06-13T16:00:00+00:00</td>\n",
       "      <td>2523441</td>\n",
       "      <td>1721871</td>\n",
       "    </tr>\n",
       "  </tbody>\n",
       "</table>\n",
       "</div>"
      ],
      "text/plain": [
       "                          at  billable           description  duration  \\\n",
       "0  2019-06-13T16:01:27+00:00     False      Compensation Day     28800   \n",
       "1  2019-06-13T03:50:18+00:00     False  Preparation ELN Labo     18000   \n",
       "2  2019-06-13T03:51:32+00:00     False  Preparation ELN Labo     18000   \n",
       "3  2019-06-13T03:52:07+00:00     False  Preparation ELN Labo     10800   \n",
       "4  2019-06-13T16:00:37+00:00     False  Preparation ELN Labo     21600   \n",
       "\n",
       "   duronly                              guid          id        pid  \\\n",
       "0    False  827005b71c250be9b8b6a5e45f331064  1217101074  151295149   \n",
       "1    False  7de46356acbb340ab759ce49c1f8be08  1216338822  150388923   \n",
       "2    False  a3a1650e490f06da83628f074089a92b  1216339202  150388923   \n",
       "3    False  7a971ea849e081de3731138ca599f636  1216339388  150388923   \n",
       "4    False  10fc289bafbb251d7fd0f90b57316ea2  1217099893  150388923   \n",
       "\n",
       "                       start                       stop      uid      wid  \n",
       "0  2019-06-11T06:00:00+00:00  2019-06-11T14:00:00+00:00  2523441  1721871  \n",
       "1  2019-06-12T05:00:00+00:00  2019-06-12T10:00:00+00:00  2523441  1721871  \n",
       "2  2019-06-12T10:00:00+00:00  2019-06-12T15:00:00+00:00  2523441  1721871  \n",
       "3  2019-06-12T18:00:00+00:00  2019-06-12T21:00:00+00:00  2523441  1721871  \n",
       "4  2019-06-13T10:00:00+00:00  2019-06-13T16:00:00+00:00  2523441  1721871  "
      ]
     },
     "execution_count": 120,
     "metadata": {},
     "output_type": "execute_result"
    }
   ],
   "source": [
    "latest_timelog.head()"
   ]
  },
  {
   "cell_type": "code",
   "execution_count": 121,
   "metadata": {
    "collapsed": true
   },
   "outputs": [],
   "source": [
    "latest_timelog.to_csv('data/toggl-timelog-latest.csv')"
   ]
  },
  {
   "cell_type": "markdown",
   "metadata": {},
   "source": [
    "-----"
   ]
  },
  {
   "cell_type": "markdown",
   "metadata": {},
   "source": [
    "# BONUS: Extract Times Entries for Every Single Day Using Toggl API"
   ]
  },
  {
   "cell_type": "markdown",
   "metadata": {},
   "source": [
    "**NOTE:** A bit of a hackish solution. But this is a possible approach to getting individual day logs. "
   ]
  },
  {
   "cell_type": "code",
   "execution_count": 122,
   "metadata": {
    "collapsed": true
   },
   "outputs": [],
   "source": [
    "extract_date_start = join_date.strftime(\"%Y-%m-%d\") # join date\n",
    "extract_date_end = today.strftime(\"%Y-%m-%d\") # today\n",
    "\n",
    "# UNCOMMENT TO Overide Full Extract \n",
    "extract_date_start = \"2018-05-23\"\n",
    "# extract_date_end = \"2018-05-01\".strftime(\"%Y-%m-%d\")\n",
    "# extract_date_end = today.strftime(\"%Y-%m-%d\") # today\n",
    "\n",
    "# Function that turns datetimes back to strings since that's what the API likes\n",
    "def date_only(datetimeVal):\n",
    "      datePart = datetimeVal.strftime(\"%Y-%m-%d\")\n",
    "      return datePart\n",
    "\n",
    "# List of Dates of Dates to Extract Time Entries\n",
    "dates_range = list(pd.date_range(extract_date_start, extract_date_end))\n",
    "dates_list = [date_only(x) for x in dates_range]"
   ]
  },
  {
   "cell_type": "code",
   "execution_count": 123,
   "metadata": {
    "collapsed": true
   },
   "outputs": [],
   "source": [
    "# Extract Timelogs Between Two Dates and Export to a CSV\n",
    "def toggl_timelog_extractor(input_date1, input_date2):\n",
    "    date1 = parse(input_date1).isoformat() + '+00:00'\n",
    "    date2 = parse(input_date2).isoformat() + '+00:00'\n",
    "    param = {\n",
    "        'start_date': date1,\n",
    "        'end_date': date2,\n",
    "    } \n",
    "    try:\n",
    "        temp_log =  pd.DataFrame.from_dict(toggl.request(\"https://www.toggl.com/api/v8/time_entries\", parameters=param))\n",
    "        temp_log.to_csv('data/detailed/toggl-time-entries-' + input_date1 + '.csv')\n",
    "    except: \n",
    "        # try again if there is an issue the first time\n",
    "        temp_log =  pd.DataFrame.from_dict(toggl.request(\"https://www.toggl.com/api/v8/time_entries\", parameters=param))\n",
    "        temp_log.to_csv('data/daily-detailed/toggl-time-entries-' + input_date1 + '.csv')"
   ]
  },
  {
   "cell_type": "code",
   "execution_count": 124,
   "metadata": {
    "collapsed": true
   },
   "outputs": [],
   "source": [
    "# UNCOMMENT to Test Between Two Date\n",
    "# date1 = '2013-07-23'\n",
    "# date2 = '2013-07-24'\n",
    "# toggl_timelog_extractor(date1, date2)"
   ]
  },
  {
   "cell_type": "code",
   "execution_count": 125,
   "metadata": {
    "collapsed": true
   },
   "outputs": [],
   "source": [
    "# UNCOMMENT TO RUN\n",
    "# Extract All Time Entry Data from Previous Days\n",
    "#for count, item in enumerate(dates_list):\n",
    "#    if item != dates_list[-1]:\n",
    "#        date1 = item\n",
    "#        date2 = (dates_list[count + 1])\n",
    "#        # print(item + \" ~ \"+ date2)\n",
    "#        time.sleep(1)\n",
    "#        toggl_timelog_extractor(date1, date2)"
   ]
  },
  {
   "cell_type": "markdown",
   "metadata": {},
   "source": [
    "-----"
   ]
  },
  {
   "cell_type": "markdown",
   "metadata": {},
   "source": [
    "# Simple Data Analysis  (Using Exported CSV Logs)"
   ]
  },
  {
   "cell_type": "code",
   "execution_count": 126,
   "metadata": {
    "collapsed": true
   },
   "outputs": [],
   "source": [
    "import glob\n",
    "import os"
   ]
  },
  {
   "cell_type": "code",
   "execution_count": 127,
   "metadata": {
    "collapsed": true
   },
   "outputs": [
    {
     "name": "stderr",
     "output_type": "stream",
     "text": [
      "C:\\Users\\silvan.zahno\\AppData\\Local\\Continuum\\anaconda3\\lib\\site-packages\\ipykernel_launcher.py:9: FutureWarning: Sorting because non-concatenation axis is not aligned. A future version\n",
      "of pandas will change to not sort by default.\n",
      "\n",
      "To accept the future behavior, pass 'sort=False'.\n",
      "\n",
      "To retain the current behavior and silence the warning, pass 'sort=True'.\n",
      "\n",
      "  if __name__ == '__main__':\n"
     ]
    }
   ],
   "source": [
    "# import all days of time entries and create data frame\n",
    "path = 'data/detailed/'\n",
    "allFiles = glob.glob(path + \"/*.csv\")\n",
    "timelogs = pd.DataFrame()\n",
    "list_ = []\n",
    "for file_ in allFiles:\n",
    "    df = pd.read_csv(file_,index_col=None, header=0)\n",
    "    list_.append(df)\n",
    "timelog = pd.concat(list_)"
   ]
  },
  {
   "cell_type": "code",
   "execution_count": 128,
   "metadata": {},
   "outputs": [
    {
     "data": {
      "text/html": [
       "<div>\n",
       "<style scoped>\n",
       "    .dataframe tbody tr th:only-of-type {\n",
       "        vertical-align: middle;\n",
       "    }\n",
       "\n",
       "    .dataframe tbody tr th {\n",
       "        vertical-align: top;\n",
       "    }\n",
       "\n",
       "    .dataframe thead th {\n",
       "        text-align: right;\n",
       "    }\n",
       "</style>\n",
       "<table border=\"1\" class=\"dataframe\">\n",
       "  <thead>\n",
       "    <tr style=\"text-align: right;\">\n",
       "      <th></th>\n",
       "      <th>Amount ()</th>\n",
       "      <th>Billable</th>\n",
       "      <th>Client</th>\n",
       "      <th>Description</th>\n",
       "      <th>Duration</th>\n",
       "      <th>Email</th>\n",
       "      <th>End date</th>\n",
       "      <th>End time</th>\n",
       "      <th>Project</th>\n",
       "      <th>Start date</th>\n",
       "      <th>Start time</th>\n",
       "      <th>Tags</th>\n",
       "      <th>Task</th>\n",
       "      <th>User</th>\n",
       "    </tr>\n",
       "  </thead>\n",
       "  <tbody>\n",
       "    <tr>\n",
       "      <th>0</th>\n",
       "      <td>NaN</td>\n",
       "      <td>No</td>\n",
       "      <td>HESSO</td>\n",
       "      <td>Write Project Demand SLS</td>\n",
       "      <td>03:30:00</td>\n",
       "      <td>whynotlogic@gmail.com</td>\n",
       "      <td>2019-06-17</td>\n",
       "      <td>14:00:00</td>\n",
       "      <td>Aquisition de projects</td>\n",
       "      <td>2019-06-17</td>\n",
       "      <td>10:30:00</td>\n",
       "      <td>NaN</td>\n",
       "      <td>NaN</td>\n",
       "      <td>Whynotlogic</td>\n",
       "    </tr>\n",
       "    <tr>\n",
       "      <th>1</th>\n",
       "      <td>NaN</td>\n",
       "      <td>No</td>\n",
       "      <td>HESSO</td>\n",
       "      <td>Write Project Demand SLS</td>\n",
       "      <td>05:00:00</td>\n",
       "      <td>whynotlogic@gmail.com</td>\n",
       "      <td>2019-06-17</td>\n",
       "      <td>10:00:00</td>\n",
       "      <td>Aquisition de projects</td>\n",
       "      <td>2019-06-17</td>\n",
       "      <td>05:00:00</td>\n",
       "      <td>NaN</td>\n",
       "      <td>NaN</td>\n",
       "      <td>Whynotlogic</td>\n",
       "    </tr>\n",
       "    <tr>\n",
       "      <th>2</th>\n",
       "      <td>NaN</td>\n",
       "      <td>No</td>\n",
       "      <td>HESSO</td>\n",
       "      <td>Preparation ELN Labo Trimlibs fixes</td>\n",
       "      <td>03:00:00</td>\n",
       "      <td>whynotlogic@gmail.com</td>\n",
       "      <td>2019-06-14</td>\n",
       "      <td>14:00:00</td>\n",
       "      <td>Cours dispensé</td>\n",
       "      <td>2019-06-14</td>\n",
       "      <td>11:00:00</td>\n",
       "      <td>NaN</td>\n",
       "      <td>NaN</td>\n",
       "      <td>Whynotlogic</td>\n",
       "    </tr>\n",
       "    <tr>\n",
       "      <th>3</th>\n",
       "      <td>NaN</td>\n",
       "      <td>No</td>\n",
       "      <td>Constellium</td>\n",
       "      <td>USP Data Analytics and Meeting</td>\n",
       "      <td>05:00:00</td>\n",
       "      <td>whynotlogic@gmail.com</td>\n",
       "      <td>2019-06-14</td>\n",
       "      <td>10:00:00</td>\n",
       "      <td>AT - USP</td>\n",
       "      <td>2019-06-14</td>\n",
       "      <td>05:00:00</td>\n",
       "      <td>NaN</td>\n",
       "      <td>NaN</td>\n",
       "      <td>Whynotlogic</td>\n",
       "    </tr>\n",
       "    <tr>\n",
       "      <th>4</th>\n",
       "      <td>NaN</td>\n",
       "      <td>No</td>\n",
       "      <td>HESSO</td>\n",
       "      <td>Seance Personel</td>\n",
       "      <td>02:00:00</td>\n",
       "      <td>whynotlogic@gmail.com</td>\n",
       "      <td>2019-06-13</td>\n",
       "      <td>16:00:00</td>\n",
       "      <td>Admin</td>\n",
       "      <td>2019-06-13</td>\n",
       "      <td>14:00:00</td>\n",
       "      <td>NaN</td>\n",
       "      <td>NaN</td>\n",
       "      <td>Whynotlogic</td>\n",
       "    </tr>\n",
       "  </tbody>\n",
       "</table>\n",
       "</div>"
      ],
      "text/plain": [
       "   Amount () Billable       Client                          Description  \\\n",
       "0        NaN       No        HESSO             Write Project Demand SLS   \n",
       "1        NaN       No        HESSO             Write Project Demand SLS   \n",
       "2        NaN       No        HESSO  Preparation ELN Labo Trimlibs fixes   \n",
       "3        NaN       No  Constellium       USP Data Analytics and Meeting   \n",
       "4        NaN       No        HESSO                      Seance Personel   \n",
       "\n",
       "   Duration                  Email    End date  End time  \\\n",
       "0  03:30:00  whynotlogic@gmail.com  2019-06-17  14:00:00   \n",
       "1  05:00:00  whynotlogic@gmail.com  2019-06-17  10:00:00   \n",
       "2  03:00:00  whynotlogic@gmail.com  2019-06-14  14:00:00   \n",
       "3  05:00:00  whynotlogic@gmail.com  2019-06-14  10:00:00   \n",
       "4  02:00:00  whynotlogic@gmail.com  2019-06-13  16:00:00   \n",
       "\n",
       "                  Project  Start date Start time Tags Task         User  \n",
       "0  Aquisition de projects  2019-06-17   10:30:00  NaN  NaN  Whynotlogic  \n",
       "1  Aquisition de projects  2019-06-17   05:00:00  NaN  NaN  Whynotlogic  \n",
       "2          Cours dispensé  2019-06-14   11:00:00  NaN  NaN  Whynotlogic  \n",
       "3                AT - USP  2019-06-14   05:00:00  NaN  NaN  Whynotlogic  \n",
       "4                   Admin  2019-06-13   14:00:00  NaN  NaN  Whynotlogic  "
      ]
     },
     "execution_count": 128,
     "metadata": {},
     "output_type": "execute_result"
    }
   ],
   "source": [
    "timelog.head()"
   ]
  },
  {
   "cell_type": "code",
   "execution_count": 129,
   "metadata": {},
   "outputs": [
    {
     "data": {
      "text/plain": [
       "193"
      ]
     },
     "execution_count": 129,
     "metadata": {},
     "output_type": "execute_result"
    }
   ],
   "source": [
    "len(timelog)"
   ]
  },
  {
   "cell_type": "code",
   "execution_count": 130,
   "metadata": {
    "collapsed": true
   },
   "outputs": [],
   "source": [
    "# drop unused columns\n",
    "timelog = timelog.drop(['Email', 'User', 'Amount ()', 'Client', 'Billable'], axis=1)"
   ]
  },
  {
   "cell_type": "code",
   "execution_count": 131,
   "metadata": {
    "collapsed": true
   },
   "outputs": [],
   "source": [
    "# helper functions to convert duration string to seconds\n",
    "def get_sec(time_str):\n",
    "    h, m, s = time_str.split(':')\n",
    "    return int(h) * 3600 + int(m) * 60 + int(s)\n",
    "\n",
    "# get_sec(\"01:16:36\")\n",
    "\n",
    "def dur2sec(row):\n",
    "    return get_sec(row['Duration'])\n",
    "\n",
    "# timelog.apply(dur2sec, axis=1)"
   ]
  },
  {
   "cell_type": "code",
   "execution_count": 132,
   "metadata": {
    "collapsed": true
   },
   "outputs": [],
   "source": [
    "timelog['seconds'] = timelog.apply(dur2sec, axis=1)"
   ]
  },
  {
   "cell_type": "code",
   "execution_count": 133,
   "metadata": {},
   "outputs": [
    {
     "name": "stdout",
     "output_type": "stream",
     "text": [
      "<class 'pandas.core.frame.DataFrame'>\n",
      "Int64Index: 193 entries, 0 to 17\n",
      "Data columns (total 10 columns):\n",
      "Description    191 non-null object\n",
      "Duration       193 non-null object\n",
      "End date       193 non-null object\n",
      "End time       193 non-null object\n",
      "Project        190 non-null object\n",
      "Start date     193 non-null object\n",
      "Start time     193 non-null object\n",
      "Tags           74 non-null object\n",
      "Task           0 non-null object\n",
      "seconds        193 non-null int64\n",
      "dtypes: int64(1), object(9)\n",
      "memory usage: 16.6+ KB\n"
     ]
    }
   ],
   "source": [
    "timelog.info()"
   ]
  },
  {
   "cell_type": "code",
   "execution_count": 134,
   "metadata": {},
   "outputs": [
    {
     "data": {
      "text/html": [
       "<div>\n",
       "<style scoped>\n",
       "    .dataframe tbody tr th:only-of-type {\n",
       "        vertical-align: middle;\n",
       "    }\n",
       "\n",
       "    .dataframe tbody tr th {\n",
       "        vertical-align: top;\n",
       "    }\n",
       "\n",
       "    .dataframe thead th {\n",
       "        text-align: right;\n",
       "    }\n",
       "</style>\n",
       "<table border=\"1\" class=\"dataframe\">\n",
       "  <thead>\n",
       "    <tr style=\"text-align: right;\">\n",
       "      <th></th>\n",
       "      <th>seconds</th>\n",
       "    </tr>\n",
       "  </thead>\n",
       "  <tbody>\n",
       "    <tr>\n",
       "      <th>count</th>\n",
       "      <td>193.000000</td>\n",
       "    </tr>\n",
       "    <tr>\n",
       "      <th>mean</th>\n",
       "      <td>12919.715026</td>\n",
       "    </tr>\n",
       "    <tr>\n",
       "      <th>std</th>\n",
       "      <td>7787.048987</td>\n",
       "    </tr>\n",
       "    <tr>\n",
       "      <th>min</th>\n",
       "      <td>2.000000</td>\n",
       "    </tr>\n",
       "    <tr>\n",
       "      <th>25%</th>\n",
       "      <td>7200.000000</td>\n",
       "    </tr>\n",
       "    <tr>\n",
       "      <th>50%</th>\n",
       "      <td>12600.000000</td>\n",
       "    </tr>\n",
       "    <tr>\n",
       "      <th>75%</th>\n",
       "      <td>18000.000000</td>\n",
       "    </tr>\n",
       "    <tr>\n",
       "      <th>max</th>\n",
       "      <td>29700.000000</td>\n",
       "    </tr>\n",
       "  </tbody>\n",
       "</table>\n",
       "</div>"
      ],
      "text/plain": [
       "            seconds\n",
       "count    193.000000\n",
       "mean   12919.715026\n",
       "std     7787.048987\n",
       "min        2.000000\n",
       "25%     7200.000000\n",
       "50%    12600.000000\n",
       "75%    18000.000000\n",
       "max    29700.000000"
      ]
     },
     "execution_count": 134,
     "metadata": {},
     "output_type": "execute_result"
    }
   ],
   "source": [
    "timelog.describe()"
   ]
  },
  {
   "cell_type": "code",
   "execution_count": 135,
   "metadata": {},
   "outputs": [
    {
     "data": {
      "text/html": [
       "<div>\n",
       "<style scoped>\n",
       "    .dataframe tbody tr th:only-of-type {\n",
       "        vertical-align: middle;\n",
       "    }\n",
       "\n",
       "    .dataframe tbody tr th {\n",
       "        vertical-align: top;\n",
       "    }\n",
       "\n",
       "    .dataframe thead th {\n",
       "        text-align: right;\n",
       "    }\n",
       "</style>\n",
       "<table border=\"1\" class=\"dataframe\">\n",
       "  <thead>\n",
       "    <tr style=\"text-align: right;\">\n",
       "      <th></th>\n",
       "      <th>Description</th>\n",
       "      <th>Duration</th>\n",
       "      <th>End date</th>\n",
       "      <th>End time</th>\n",
       "      <th>Project</th>\n",
       "      <th>Start date</th>\n",
       "      <th>Start time</th>\n",
       "      <th>Tags</th>\n",
       "      <th>Task</th>\n",
       "      <th>seconds</th>\n",
       "    </tr>\n",
       "  </thead>\n",
       "  <tbody>\n",
       "    <tr>\n",
       "      <th>0</th>\n",
       "      <td>Write Project Demand SLS</td>\n",
       "      <td>03:30:00</td>\n",
       "      <td>2019-06-17</td>\n",
       "      <td>14:00:00</td>\n",
       "      <td>Aquisition de projects</td>\n",
       "      <td>2019-06-17</td>\n",
       "      <td>10:30:00</td>\n",
       "      <td>NaN</td>\n",
       "      <td>NaN</td>\n",
       "      <td>12600</td>\n",
       "    </tr>\n",
       "    <tr>\n",
       "      <th>1</th>\n",
       "      <td>Write Project Demand SLS</td>\n",
       "      <td>05:00:00</td>\n",
       "      <td>2019-06-17</td>\n",
       "      <td>10:00:00</td>\n",
       "      <td>Aquisition de projects</td>\n",
       "      <td>2019-06-17</td>\n",
       "      <td>05:00:00</td>\n",
       "      <td>NaN</td>\n",
       "      <td>NaN</td>\n",
       "      <td>18000</td>\n",
       "    </tr>\n",
       "    <tr>\n",
       "      <th>2</th>\n",
       "      <td>Preparation ELN Labo Trimlibs fixes</td>\n",
       "      <td>03:00:00</td>\n",
       "      <td>2019-06-14</td>\n",
       "      <td>14:00:00</td>\n",
       "      <td>Cours dispensé</td>\n",
       "      <td>2019-06-14</td>\n",
       "      <td>11:00:00</td>\n",
       "      <td>NaN</td>\n",
       "      <td>NaN</td>\n",
       "      <td>10800</td>\n",
       "    </tr>\n",
       "    <tr>\n",
       "      <th>3</th>\n",
       "      <td>USP Data Analytics and Meeting</td>\n",
       "      <td>05:00:00</td>\n",
       "      <td>2019-06-14</td>\n",
       "      <td>10:00:00</td>\n",
       "      <td>AT - USP</td>\n",
       "      <td>2019-06-14</td>\n",
       "      <td>05:00:00</td>\n",
       "      <td>NaN</td>\n",
       "      <td>NaN</td>\n",
       "      <td>18000</td>\n",
       "    </tr>\n",
       "    <tr>\n",
       "      <th>4</th>\n",
       "      <td>Seance Personel</td>\n",
       "      <td>02:00:00</td>\n",
       "      <td>2019-06-13</td>\n",
       "      <td>16:00:00</td>\n",
       "      <td>Admin</td>\n",
       "      <td>2019-06-13</td>\n",
       "      <td>14:00:00</td>\n",
       "      <td>NaN</td>\n",
       "      <td>NaN</td>\n",
       "      <td>7200</td>\n",
       "    </tr>\n",
       "  </tbody>\n",
       "</table>\n",
       "</div>"
      ],
      "text/plain": [
       "                           Description  Duration    End date  End time  \\\n",
       "0             Write Project Demand SLS  03:30:00  2019-06-17  14:00:00   \n",
       "1             Write Project Demand SLS  05:00:00  2019-06-17  10:00:00   \n",
       "2  Preparation ELN Labo Trimlibs fixes  03:00:00  2019-06-14  14:00:00   \n",
       "3       USP Data Analytics and Meeting  05:00:00  2019-06-14  10:00:00   \n",
       "4                      Seance Personel  02:00:00  2019-06-13  16:00:00   \n",
       "\n",
       "                  Project  Start date Start time Tags Task  seconds  \n",
       "0  Aquisition de projects  2019-06-17   10:30:00  NaN  NaN    12600  \n",
       "1  Aquisition de projects  2019-06-17   05:00:00  NaN  NaN    18000  \n",
       "2          Cours dispensé  2019-06-14   11:00:00  NaN  NaN    10800  \n",
       "3                AT - USP  2019-06-14   05:00:00  NaN  NaN    18000  \n",
       "4                   Admin  2019-06-13   14:00:00  NaN  NaN     7200  "
      ]
     },
     "execution_count": 135,
     "metadata": {},
     "output_type": "execute_result"
    }
   ],
   "source": [
    "timelog.head()"
   ]
  },
  {
   "cell_type": "code",
   "execution_count": 136,
   "metadata": {},
   "outputs": [
    {
     "data": {
      "text/html": [
       "<div>\n",
       "<style scoped>\n",
       "    .dataframe tbody tr th:only-of-type {\n",
       "        vertical-align: middle;\n",
       "    }\n",
       "\n",
       "    .dataframe tbody tr th {\n",
       "        vertical-align: top;\n",
       "    }\n",
       "\n",
       "    .dataframe thead th {\n",
       "        text-align: right;\n",
       "    }\n",
       "</style>\n",
       "<table border=\"1\" class=\"dataframe\">\n",
       "  <thead>\n",
       "    <tr style=\"text-align: right;\">\n",
       "      <th></th>\n",
       "      <th>Description</th>\n",
       "      <th>Duration</th>\n",
       "      <th>End date</th>\n",
       "      <th>End time</th>\n",
       "      <th>Project</th>\n",
       "      <th>Start date</th>\n",
       "      <th>Start time</th>\n",
       "      <th>Tags</th>\n",
       "      <th>Task</th>\n",
       "      <th>seconds</th>\n",
       "    </tr>\n",
       "  </thead>\n",
       "  <tbody>\n",
       "    <tr>\n",
       "      <th>13</th>\n",
       "      <td>USP: Initial Meeting with Idiap</td>\n",
       "      <td>00:00:02</td>\n",
       "      <td>2019-03-21</td>\n",
       "      <td>09:07:44</td>\n",
       "      <td>InternalTrelloTogglTest</td>\n",
       "      <td>2019-03-21</td>\n",
       "      <td>09:07:42</td>\n",
       "      <td>NaN</td>\n",
       "      <td>NaN</td>\n",
       "      <td>2</td>\n",
       "    </tr>\n",
       "    <tr>\n",
       "      <th>14</th>\n",
       "      <td>Type up and share meeting notes for \"A&amp;T Suppl...</td>\n",
       "      <td>01:23:00</td>\n",
       "      <td>2019-03-21</td>\n",
       "      <td>09:07:02</td>\n",
       "      <td>InternalTrelloTogglTest</td>\n",
       "      <td>2019-03-21</td>\n",
       "      <td>07:44:02</td>\n",
       "      <td>NaN</td>\n",
       "      <td>NaN</td>\n",
       "      <td>4980</td>\n",
       "    </tr>\n",
       "    <tr>\n",
       "      <th>15</th>\n",
       "      <td>Type up and share meeting notes for \"A&amp;T Suppl...</td>\n",
       "      <td>00:00:08</td>\n",
       "      <td>2019-03-21</td>\n",
       "      <td>07:41:30</td>\n",
       "      <td>NaN</td>\n",
       "      <td>2019-03-21</td>\n",
       "      <td>07:41:22</td>\n",
       "      <td>NaN</td>\n",
       "      <td>NaN</td>\n",
       "      <td>8</td>\n",
       "    </tr>\n",
       "    <tr>\n",
       "      <th>16</th>\n",
       "      <td>Type up and share meeting notes for \"A&amp;T Suppl...</td>\n",
       "      <td>00:00:14</td>\n",
       "      <td>2019-03-21</td>\n",
       "      <td>07:38:35</td>\n",
       "      <td>NaN</td>\n",
       "      <td>2019-03-21</td>\n",
       "      <td>07:38:21</td>\n",
       "      <td>NaN</td>\n",
       "      <td>NaN</td>\n",
       "      <td>14</td>\n",
       "    </tr>\n",
       "    <tr>\n",
       "      <th>17</th>\n",
       "      <td>Meeting: A&amp;T Supply Chain Brainstorm</td>\n",
       "      <td>02:20:00</td>\n",
       "      <td>2019-03-20</td>\n",
       "      <td>15:40:00</td>\n",
       "      <td>InternalTrelloTogglTest</td>\n",
       "      <td>2019-03-20</td>\n",
       "      <td>13:20:00</td>\n",
       "      <td>NaN</td>\n",
       "      <td>NaN</td>\n",
       "      <td>8400</td>\n",
       "    </tr>\n",
       "  </tbody>\n",
       "</table>\n",
       "</div>"
      ],
      "text/plain": [
       "                                          Description  Duration    End date  \\\n",
       "13                    USP: Initial Meeting with Idiap  00:00:02  2019-03-21   \n",
       "14  Type up and share meeting notes for \"A&T Suppl...  01:23:00  2019-03-21   \n",
       "15  Type up and share meeting notes for \"A&T Suppl...  00:00:08  2019-03-21   \n",
       "16  Type up and share meeting notes for \"A&T Suppl...  00:00:14  2019-03-21   \n",
       "17               Meeting: A&T Supply Chain Brainstorm  02:20:00  2019-03-20   \n",
       "\n",
       "    End time                  Project  Start date Start time Tags Task  \\\n",
       "13  09:07:44  InternalTrelloTogglTest  2019-03-21   09:07:42  NaN  NaN   \n",
       "14  09:07:02  InternalTrelloTogglTest  2019-03-21   07:44:02  NaN  NaN   \n",
       "15  07:41:30                      NaN  2019-03-21   07:41:22  NaN  NaN   \n",
       "16  07:38:35                      NaN  2019-03-21   07:38:21  NaN  NaN   \n",
       "17  15:40:00  InternalTrelloTogglTest  2019-03-20   13:20:00  NaN  NaN   \n",
       "\n",
       "    seconds  \n",
       "13        2  \n",
       "14     4980  \n",
       "15        8  \n",
       "16       14  \n",
       "17     8400  "
      ]
     },
     "execution_count": 136,
     "metadata": {},
     "output_type": "execute_result"
    }
   ],
   "source": [
    "timelog.tail()"
   ]
  },
  {
   "cell_type": "code",
   "execution_count": 137,
   "metadata": {},
   "outputs": [
    {
     "data": {
      "text/plain": [
       "692.6"
      ]
     },
     "execution_count": 137,
     "metadata": {},
     "output_type": "execute_result"
    }
   ],
   "source": [
    "# Total hours\n",
    "round((timelog.seconds.sum() / 60 / 60), 1)"
   ]
  },
  {
   "cell_type": "code",
   "execution_count": 138,
   "metadata": {},
   "outputs": [
    {
     "data": {
      "text/plain": [
       "28.9"
      ]
     },
     "execution_count": 138,
     "metadata": {},
     "output_type": "execute_result"
    }
   ],
   "source": [
    "# total days\n",
    "round((timelog.seconds.sum() / 60 / 60 / 24), 1)"
   ]
  },
  {
   "cell_type": "code",
   "execution_count": 139,
   "metadata": {
    "collapsed": true
   },
   "outputs": [],
   "source": [
    "timelog.to_csv(\"data/toggl-detailed-logs-full-export.csv\")"
   ]
  },
  {
   "cell_type": "markdown",
   "metadata": {},
   "source": [
    "-----"
   ]
  },
  {
   "cell_type": "markdown",
   "metadata": {},
   "source": [
    "## Combine to a Daily Project Time Number"
   ]
  },
  {
   "cell_type": "code",
   "execution_count": 140,
   "metadata": {},
   "outputs": [
    {
     "name": "stdout",
     "output_type": "stream",
     "text": [
      "81 total project time data\n"
     ]
    },
    {
     "name": "stderr",
     "output_type": "stream",
     "text": [
      "C:\\Users\\silvan.zahno\\AppData\\Local\\Continuum\\anaconda3\\lib\\site-packages\\ipykernel_launcher.py:4: FutureWarning: The signature of `Series.to_csv` was aligned to that of `DataFrame.to_csv`, and argument 'header' will change its default value from False to True: please pass an explicit value to suppress this warning.\n",
      "  after removing the cwd from sys.path.\n"
     ]
    },
    {
     "data": {
      "text/plain": [
       "Start date\n",
       "2019-06-11    28800\n",
       "2019-06-12    46800\n",
       "2019-06-13    39600\n",
       "2019-06-14    28800\n",
       "2019-06-17    30600\n",
       "Name: seconds, dtype: int64"
      ]
     },
     "execution_count": 140,
     "metadata": {},
     "output_type": "execute_result"
    }
   ],
   "source": [
    "# combine to daily number\n",
    "daily_project_time = timelog.groupby(['Start date'])['seconds'].sum()\n",
    "print('{:,} total project time data'.format(len(daily_project_time)))\n",
    "daily_project_time.to_csv('data/daily_project_time.csv')\n",
    "daily_project_time.tail(5)"
   ]
  },
  {
   "cell_type": "code",
   "execution_count": null,
   "metadata": {},
   "outputs": [],
   "source": []
  },
  {
   "cell_type": "code",
   "execution_count": null,
   "metadata": {},
   "outputs": [],
   "source": []
  }
 ],
 "metadata": {
  "kernelspec": {
   "display_name": "Python 3",
   "language": "python",
   "name": "python3"
  },
  "language_info": {
   "codemirror_mode": {
    "name": "ipython",
    "version": 3
   },
   "file_extension": ".py",
   "mimetype": "text/x-python",
   "name": "python",
   "nbconvert_exporter": "python",
   "pygments_lexer": "ipython3",
   "version": "3.7.3"
  }
 },
 "nbformat": 4,
 "nbformat_minor": 2
}
