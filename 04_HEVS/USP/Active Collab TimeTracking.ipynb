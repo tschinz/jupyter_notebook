{
 "cells": [
  {
   "cell_type": "markdown",
   "metadata": {},
   "source": [
    "# Toggle Time Tracking"
   ]
  },
  {
   "cell_type": "markdown",
   "metadata": {},
   "source": [
    "## Configuration"
   ]
  },
  {
   "cell_type": "markdown",
   "metadata": {},
   "source": [
    "## Setup"
   ]
  },
  {
   "cell_type": "markdown",
   "metadata": {},
   "source": [
    "### Import sub-modules"
   ]
  },
  {
   "cell_type": "code",
   "execution_count": 7,
   "metadata": {},
   "outputs": [
    {
     "data": {
      "text/html": [
       "        <script type=\"text/javascript\">\n",
       "        window.PlotlyConfig = {MathJaxConfig: 'local'};\n",
       "        if (window.MathJax) {MathJax.Hub.Config({SVG: {font: \"STIX-Web\"}});}\n",
       "        if (typeof require !== 'undefined') {\n",
       "        require.undef(\"plotly\");\n",
       "        requirejs.config({\n",
       "            paths: {\n",
       "                'plotly': ['https://cdn.plot.ly/plotly-latest.min']\n",
       "            }\n",
       "        });\n",
       "        require(['plotly'], function(Plotly) {\n",
       "            window._Plotly = Plotly;\n",
       "        });\n",
       "        }\n",
       "        </script>\n",
       "        "
      ]
     },
     "metadata": {},
     "output_type": "display_data"
    },
    {
     "ename": "ModuleNotFoundError",
     "evalue": "No module named 'TogglPy'",
     "output_type": "error",
     "traceback": [
      "\u001b[1;31m---------------------------------------------------------------------------\u001b[0m",
      "\u001b[1;31mModuleNotFoundError\u001b[0m                       Traceback (most recent call last)",
      "\u001b[1;32m<ipython-input-7-e59d6f6a8895>\u001b[0m in \u001b[0;36m<module>\u001b[1;34m\u001b[0m\n\u001b[0;32m     31\u001b[0m \u001b[1;31m# Toggl Wrapper API\u001b[0m\u001b[1;33m\u001b[0m\u001b[1;33m\u001b[0m\u001b[1;33m\u001b[0m\u001b[0m\n\u001b[0;32m     32\u001b[0m \u001b[1;31m# https://github.com/matthewdowney/TogglPy\u001b[0m\u001b[1;33m\u001b[0m\u001b[1;33m\u001b[0m\u001b[1;33m\u001b[0m\u001b[0m\n\u001b[1;32m---> 33\u001b[1;33m \u001b[1;32mimport\u001b[0m \u001b[0mTogglPy\u001b[0m\u001b[1;33m\u001b[0m\u001b[1;33m\u001b[0m\u001b[0m\n\u001b[0m\u001b[0;32m     34\u001b[0m \u001b[1;33m\u001b[0m\u001b[0m\n\u001b[0;32m     35\u001b[0m \u001b[1;31m# Verbose what we are working with\u001b[0m\u001b[1;33m\u001b[0m\u001b[1;33m\u001b[0m\u001b[1;33m\u001b[0m\u001b[0m\n",
      "\u001b[1;31mModuleNotFoundError\u001b[0m: No module named 'TogglPy'"
     ]
    }
   ],
   "source": [
    "# Import required sub-modules\n",
    "\n",
    "# python\n",
    "import sys\n",
    "import os\n",
    "import enum\n",
    "import datetime\n",
    "from dateutil.parser import parse\n",
    "import time\n",
    "import pytz\n",
    "import json\n",
    "\n",
    "# iPython\n",
    "import IPython\n",
    "from IPython.display import display\n",
    "from IPython.display import Image\n",
    "\n",
    "# pandas\n",
    "import pandas as pd\n",
    "\n",
    "# numpy\n",
    "import numpy as np\n",
    "\n",
    "# plotly\n",
    "import plotly as ply\n",
    "import plotly.graph_objs as go\n",
    "import plotly.figure_factory as ff\n",
    "ply.offline.init_notebook_mode(connected=True)\n",
    "import plotly.io as pio\n",
    "\n",
    "# Toggl Wrapper API \n",
    "# https://github.com/matthewdowney/TogglPy\n",
    "import TogglPy\n",
    "\n",
    "# Verbose what we are working with\n",
    "print(\"python: {}\".format(sys.version))\n",
    "print(\"    - os\")\n",
    "print(\"    - datetime\")\n",
    "print(\"    - enum\")\n",
    "\n",
    "print(\"ipython {}\".format(IPython.__version__))\n",
    "print(\"pandas: {}\".format(pd.__version__))\n",
    "print(\"numpy: {}\".format(np.__version__))\n",
    "print(\"plotly: {}\".format(ply.__version__))"
   ]
  },
  {
   "cell_type": "markdown",
   "metadata": {},
   "source": [
    "### Configuration"
   ]
  },
  {
   "cell_type": "code",
   "execution_count": null,
   "metadata": {},
   "outputs": [],
   "source": [
    "# Setup local input directories\n",
    "inputDir = \"input/\"\n",
    "if (os.path.exists(inputDir)) is False:\n",
    "    os.makedirs(inputDir)\n",
    "if (os.path.isdir(inputDir)) is False:\n",
    "    raise NotADirectoryError(\"{} is not a directory\".format(inputDir))"
   ]
  },
  {
   "cell_type": "code",
   "execution_count": null,
   "metadata": {},
   "outputs": [],
   "source": [
    "# Setup local input directories\n",
    "outputDir = \"output/\"\n",
    "if (os.path.exists(outputDir)) is False:\n",
    "    os.makedirs(outputDir)\n",
    "if (os.path.isdir(outputDir)) is False:\n",
    "    raise NotADirectoryError(\"{} is not a directory\".format(outputDir))"
   ]
  },
  {
   "cell_type": "code",
   "execution_count": null,
   "metadata": {},
   "outputs": [],
   "source": [
    "# Graph output Options\n",
    "class GraphOutputOption(enum.Enum):\n",
    "    none = 'none'                     # Do not generate any plots\n",
    "    inline = 'inline'                 # Generate inline plots only\n",
    "    htmlFile = 'htmlFile'             # Generate plots in external HTML files\n",
    "    both = 'both'                     # Generate plots both inline and in external html files\n",
    "    \n",
    "class GraphInteractionOption(enum.Enum):\n",
    "    static = 'static'                 # Generate static inline plots (as images)\n",
    "    interactive = 'interactive'       # Generate interactive inline plots\n",
    "\n",
    "notebookGraphingInteraction = GraphInteractionOption('interactive')\n",
    "notebookGraphingOutputs = GraphOutputOption('both')\n",
    "\n",
    "staticImageSize = {'width':1000, 'height':500, 'scale':1}\n",
    "\n",
    "GraphAutoOpenHTML = False              # Auto open external HTML files [True/False]"
   ]
  },
  {
   "cell_type": "code",
   "execution_count": null,
   "metadata": {},
   "outputs": [],
   "source": [
    "# Pandas output options\n",
    "pd.set_option('display.max_rows', 200)\n",
    "pd.set_option('display.max_columns', 50)\n",
    "pd.set_option('display.width', 50)"
   ]
  },
  {
   "cell_type": "markdown",
   "metadata": {},
   "source": [
    "### Common Functions"
   ]
  },
  {
   "cell_type": "code",
   "execution_count": null,
   "metadata": {},
   "outputs": [],
   "source": [
    "# Plot figures\n",
    "def plot_figure(graphFilename, fig, overrideNotebookGraphingInteraction=None):\n",
    "    \"\"\"Creates the graph plots depenmding on the choosen option\n",
    "\n",
    "    Args:\n",
    "        graphFilename: Filename of the output html-file in case of Option htmlfile\n",
    "        fig: ply.graph_objs.Figure(data=traces, layout=mylayout)\n",
    "        overrideNotebookGraphingInteraction: overrides graphic output for this figure\n",
    "    Returns:\n",
    "        None\n",
    "    Raises:\n",
    "        None\n",
    "\n",
    "    \"\"\"\n",
    "    if (notebookGraphingOutputs == GraphOutputOption('htmlFile')) or (notebookGraphingOutputs == GraphOutputOption('both')):\n",
    "        ply.offline.plot(fig, filename=graphFilename, auto_open=GraphAutoOpenHTML)\n",
    "    if (notebookGraphingOutputs == GraphOutputOption('inline')) or (notebookGraphingOutputs == GraphOutputOption('both')):\n",
    "        choice = None\n",
    "        if overrideNotebookGraphingInteraction == None:\n",
    "            if notebookGraphingInteraction == GraphInteractionOption('static'):\n",
    "                choice = 'static'\n",
    "            elif notebookGraphingInteraction == GraphInteractionOption('interactive'):\n",
    "                choice = 'interactive'\n",
    "        elif overrideNotebookGraphingInteraction == GraphInteractionOption('static'):\n",
    "            choice = 'static'\n",
    "        elif overrideNotebookGraphingInteraction == GraphInteractionOption('interactive'):\n",
    "            choice = 'interactive'\n",
    "        else:\n",
    "            choice = 'static'\n",
    "            \n",
    "        if choice == 'static':\n",
    "            plot_img = pio.to_image(fig, format='png', width=staticImageSize['width'], height=staticImageSize['height'], scale=staticImageSize['scale'])\n",
    "            display(Image(plot_img))\n",
    "        else:\n",
    "            ply.offline.iplot(fig)\n",
    "            "
   ]
  },
  {
   "cell_type": "markdown",
   "metadata": {},
   "source": [
    "## Data Import"
   ]
  },
  {
   "cell_type": "code",
   "execution_count": null,
   "metadata": {},
   "outputs": [],
   "source": [
    "import json\n",
    "\n",
    "with open(\"toggl_credentials.json\", \"r\") as file:\n",
    "    credentials = json.load(file)\n",
    "    toggl_cr = credentials['toggl']\n",
    "    APIKEY = toggl_cr['APIKEY']\n",
    "\n",
    "toggl = TogglPy.Toggl()\n",
    "toggl.setAPIKey(APIKEY)"
   ]
  },
  {
   "cell_type": "markdown",
   "metadata": {},
   "source": [
    "### Get toggle information"
   ]
  },
  {
   "cell_type": "code",
   "execution_count": null,
   "metadata": {},
   "outputs": [],
   "source": [
    "toggl_time_entries_url = \"https://www.toggl.com/api/v8/time_entries\"\n",
    "toggl_user_url = \"https://www.toggl.com/api/v8/me\"\n",
    "toggl_workspaces_url = \"https://www.toggl.com/api/v8/workspaces\"\n",
    "toggl_clients_url = \"https://www.toggl.com/api/v8/clients\""
   ]
  },
  {
   "cell_type": "markdown",
   "metadata": {},
   "source": [
    "### User Info"
   ]
  },
  {
   "cell_type": "code",
   "execution_count": null,
   "metadata": {},
   "outputs": [],
   "source": [
    "user = pd.DataFrame.from_dict(toggl.request(toggl_user_url))\n",
    "user"
   ]
  },
  {
   "cell_type": "markdown",
   "metadata": {},
   "source": [
    "### Workspaces Info"
   ]
  },
  {
   "cell_type": "code",
   "execution_count": null,
   "metadata": {},
   "outputs": [],
   "source": [
    "workspaces_list = pd.DataFrame.from_dict(toggl.request(toggl_workspaces_url))\n",
    "workspaces_list\n",
    "\n",
    "workspaces = pd.DataFrame()\n",
    "for wid in workspaces_list['id']:\n",
    "    workspaces = pd.DataFrame.from_dict(toggl.request(toggl_workspaces_url + \"/\" + str(wid) + \"/clients\"))\n",
    "workspaces"
   ]
  },
  {
   "cell_type": "markdown",
   "metadata": {},
   "source": [
    "### User Client Info"
   ]
  },
  {
   "cell_type": "code",
   "execution_count": null,
   "metadata": {},
   "outputs": [],
   "source": [
    "user_clients = pd.DataFrame.from_dict(toggl.request(toggl_clients_url))\n",
    "user_clients"
   ]
  },
  {
   "cell_type": "markdown",
   "metadata": {},
   "source": [
    "### Projects Info"
   ]
  },
  {
   "cell_type": "code",
   "execution_count": null,
   "metadata": {},
   "outputs": [],
   "source": [
    "projects = pd.DataFrame()\n",
    "for i in list(range(0, len(workspaces_list))):\n",
    "    projects_list = toggl.request(toggl_workspaces_url + \"/\" + str(workspaces_list['id'][i]) + \"/projects\")\n",
    "    projects_df_temp = pd.DataFrame.from_dict(projects_list)\n",
    "    projects = pd.concat([projects_df_temp, projects])\n",
    "projects"
   ]
  },
  {
   "cell_type": "markdown",
   "metadata": {},
   "source": [
    "### Time Entries"
   ]
  },
  {
   "cell_type": "markdown",
   "metadata": {},
   "source": [
    "#### Some standart functions"
   ]
  },
  {
   "cell_type": "code",
   "execution_count": null,
   "metadata": {},
   "outputs": [],
   "source": [
    "\n",
    "def fill_clean_timeentries(df, projects, user_clients):\n",
    "    # Add project name and client name to dataframe\n",
    "    df['project'] = df.pid.map(projects.set_index('id')['name'].to_dict())\n",
    "    projects['client'] = projects.cid.map(user_clients.set_index('id')['name'].to_dict())\n",
    "    df['client'] = df.pid.map(projects.set_index('id')['client'].to_dict())\n",
    "    # drop unused columns\n",
    "    drop_columns = ['at', 'billable', 'duronly', 'guid', 'id', 'pid', 'uid', 'wid']\n",
    "    df = df.drop(drop_columns, axis=1)\n",
    "    # rearrange columns\n",
    "    df = df[['client', 'project', 'description', 'start', 'stop', 'duration']]\n",
    "    # calculate timedelta\n",
    "    df['duration'] = pd.to_timedelta(df['duration'], unit='sec')\n",
    "    # transform to datetime\n",
    "    df['start'] = pd.to_datetime(df['start'])\n",
    "    df['stop'] = pd.to_datetime(df['stop'])\n",
    "    \n",
    "    return df\n",
    "    \n",
    "#latest_time_entries = pd.DataFrame.from_dict(toggl.request(toggl_time_entries_url))\n",
    "#latest_time_entries = fill_clean_timeentries(latest_time_entries, projects, user_clients)\n",
    "#latest_time_entries.head"
   ]
  },
  {
   "cell_type": "code",
   "execution_count": null,
   "metadata": {},
   "outputs": [],
   "source": [
    "def get_join_date():\n",
    "    join_date = parse(user['data']['created_at'])\n",
    "    join_date = join_date.replace(tzinfo=None)\n",
    "    return join_date\n",
    "\n",
    "def get_today_date():\n",
    "    today = datetime.datetime.now()\n",
    "    return today\n",
    "\n",
    "def get_last_dom(any_day):\n",
    "    next_month = any_day.replace(day=28) + datetime.timedelta(days=4)\n",
    "    return next_month - datetime.timedelta(days=next_month.day)\n",
    "\n",
    "def get_first_dom(any_day):\n",
    "    any_day = any_day.replace(day=1)\n",
    "    return any_day\n",
    "\n",
    "def get_month(addMonth = 0):\n",
    "    if addMonth > 0:\n",
    "        date = get_today_date() + datetime.timedelta(addMonth*365/12)\n",
    "    elif addMonth < 0:\n",
    "        date = get_today_date() - datetime.timedelta(-1*addMonth*365/12)\n",
    "    else:\n",
    "        date = get_today_date()\n",
    "    startdate = get_first_dom(date)\n",
    "    enddate = get_last_dom(date)\n",
    "    return startdate, enddate\n",
    "\n",
    "def get_week(date):\n",
    "    start = date - timedelta(days=date.weekday())\n",
    "    end = start + timedelta(days=6)\n",
    "    return (start, end)\n",
    "\n",
    "(start, end) = get_week(get_today_date())\n",
    "print(start)\n",
    "print(end)\n",
    "    \n",
    "# Function that turns datetimes back to strings since that's what the API likes\n",
    "def date_only(datetimeVal):\n",
    "    datePart = datetimeVal.strftime(\"%Y-%m-%d\")\n",
    "    return datePart\n",
    "\n",
    "def filterByMonth(df, addMonth = 0):\n",
    "    startdate, enddate = get_month(addMonth)\n",
    "    #startdate = get_first_dom(date)\n",
    "    #enddate = get_last_dom(date)\n",
    "    filteredTimeEntriesDf = df[(df['start'] > startdate.strftime('%Y-%m-%d')) & (df['start'] < enddate.strftime('%Y-%m-%d'))]\n",
    "    return filteredTimeEntriesDf, startdate, enddate\n",
    "    #timeEntriesDf[(timeEntriesDf['start'] > '2019-03-23 07:30:00') & (timeEntriesDf['start'] < '2019-04-23 09:00:00')]\n",
    "    #timeEntriesDf[(timeEntriesDf['start'] > '2019-03-23') & (timeEntriesDf['start'] < '2019-04-23')]\n",
    "    \n",
    "def filterByWeek(df, date):\n",
    "    startdate, enddate = get_week(date)\n",
    "    filteredTimeEntriesDf = df[(df['start'] > startdate.strftime('%Y-%m-%d')) & (df['start'] < enddate.strftime('%Y-%m-%d'))]\n",
    "    return filteredTimeEntriesDf, startdate, enddate\n",
    "\n",
    "(df, start, end) = filterByWeek(get_today_date())\n"
   ]
  },
  {
   "cell_type": "code",
   "execution_count": null,
   "metadata": {},
   "outputs": [],
   "source": [
    "# Extract Timelogs Between Two Dates and Export to a CSV\n",
    "def toggl_timelog_extractor(input_date1, input_date2, save_csv=False, outputdir='output'):\n",
    "    date1 = parse(input_date1).isoformat() + '+00:00'\n",
    "    date2 = parse(input_date2).isoformat() + '+00:00'\n",
    "    param = {\n",
    "        'start_date': date1,\n",
    "        'end_date': date2,\n",
    "    } \n",
    "    try:\n",
    "        temp_log =  pd.DataFrame.from_dict(toggl.request(toggl_time_entries_url, parameters=param))\n",
    "        if save_csv:\n",
    "            if not os.path.exists(outputdir + '/detailed/'):\n",
    "                os.makedirs(outputdir + '/detailed/')\n",
    "            temp_log.to_csv(outputdir + '/detailed/toggl-time-entries-' + input_date1 + '.csv')\n",
    "    except: \n",
    "        # try again if there is an issue the first time\n",
    "        temp_log =  pd.DataFrame.from_dict(toggl.request(toggl_time_entries_url, parameters=param))\n",
    "        if save_csv:\n",
    "            if not os.path.exists(outputdir + '/daily-detailed/'):\n",
    "                os.makedirs(outputdir + '/detailed/')\n",
    "            temp_log.to_csv(outputdir + '/detailed/toggl-time-entries-' + input_date1 + '.csv')\n",
    "    return temp_log"
   ]
  },
  {
   "cell_type": "markdown",
   "metadata": {},
   "source": [
    "#### Get all time entries"
   ]
  },
  {
   "cell_type": "code",
   "execution_count": null,
   "metadata": {},
   "outputs": [],
   "source": [
    "date1 = date_only(get_join_date())\n",
    "date2 = date_only(get_today_date())\n",
    "timeEntriesDf = toggl_timelog_extractor(date1, date2)\n",
    "timeEntriesDf = fill_clean_timeentries(timeEntriesDf, projects, user_clients)"
   ]
  },
  {
   "cell_type": "code",
   "execution_count": null,
   "metadata": {},
   "outputs": [],
   "source": [
    "# Filter by date or month\n",
    "(filteredTimeEntiresDf, startdate, enddate) = filterByMonth(timeEntriesDf, addMonth) # -1 = previous month\n",
    "#filteredTimeEntiresDf"
   ]
  },
  {
   "cell_type": "markdown",
   "metadata": {},
   "source": [
    "## Analytics"
   ]
  },
  {
   "cell_type": "markdown",
   "metadata": {},
   "source": [
    "### Parameter Unique Values"
   ]
  },
  {
   "cell_type": "code",
   "execution_count": null,
   "metadata": {},
   "outputs": [],
   "source": [
    "dfSize = filteredTimeEntiresDf.shape\n",
    "paramList = list(filteredTimeEntiresDf)\n",
    "print(\"| {:>11} | {:13} | {:10} | \".format(\"Parameter\", \"Unique Values\", \"Total Rows\"))\n",
    "print(\"+{}+{}+{}+\".format(13*\"-\", 15*\"-\", 12*\"-\"))\n",
    "for param in paramList:\n",
    "  uniqueEntries = filteredTimeEntiresDf[param].unique()\n",
    "  uniqueEntryOccurence = uniqueEntries.shape[0]\n",
    "  print(\"| {:>11} | {:13} | {:10} | \".format(param, uniqueEntryOccurence, dfSize[0]))"
   ]
  },
  {
   "cell_type": "markdown",
   "metadata": {},
   "source": [
    "### Summary of Working Hours"
   ]
  },
  {
   "cell_type": "code",
   "execution_count": null,
   "metadata": {},
   "outputs": [],
   "source": [
    "# Split Dataframe by Clients\n",
    "uniqueEntries = filteredTimeEntiresDf['client'].unique()\n",
    "clientDfs = []\n",
    "for uniqueEntry in uniqueEntries:\n",
    "    clientDfs.append(filteredTimeEntiresDf[filteredTimeEntiresDf['client'] == uniqueEntry])     "
   ]
  },
  {
   "cell_type": "code",
   "execution_count": null,
   "metadata": {},
   "outputs": [],
   "source": [
    "print(\"Working Hours per Clients and Project\")\n",
    "print(\"  Timeframe: {} => {}\".format(startdate.strftime('%d-%m-%Y'), enddate.strftime('%d-%m-%Y')))\n",
    "print(\"-------------------------------------\")\n",
    "for i in range(len(clientDfs)):\n",
    "    print(\"Client {}\".format(uniqueEntries[i]))\n",
    "    print(\"------------------\")\n",
    "    clientDfs[i]['duration_hours'] = (clientDfs[i]['duration'].dt.total_seconds() / 3600)\n",
    "    print(clientDfs[i].groupby('project')['duration_hours'].sum())\n",
    "    print()"
   ]
  },
  {
   "cell_type": "markdown",
   "metadata": {},
   "source": [
    "## Visualizations"
   ]
  },
  {
   "cell_type": "markdown",
   "metadata": {},
   "source": [
    "### Working Hours Pie Chart"
   ]
  },
  {
   "cell_type": "code",
   "execution_count": null,
   "metadata": {},
   "outputs": [],
   "source": [
    "title = \"Work by Clients\"\n",
    "labels = filteredTimeEntiresDf['client']\n",
    "values = filteredTimeEntiresDf['duration']\n",
    "trace1 = go.Pie(title=title,\n",
    "                labels=labels,\n",
    "                values=values,\n",
    "                hoverinfo='label+percent+value',\n",
    "                domain=dict(x=[0,0.5]))\n",
    "\n",
    "title = \"Work by Projects\"\n",
    "labels = filteredTimeEntiresDf['project']\n",
    "values = filteredTimeEntiresDf['duration']\n",
    "trace2 = go.Pie(title=title,\n",
    "                labels=labels,\n",
    "                values=values,\n",
    "                hoverinfo='label+percent+value',\n",
    "                domain=dict(x=[0.5,1.0]))\n",
    "\n",
    "title = \"{} - {} Work partition Pie\".format(startdate.strftime('%Y-%m-%d'), enddate.strftime('%Y-%m-%d'))\n",
    "layout = go.Layout(title=title,\n",
    "                   #annotations=[ann1,ann2],\n",
    "                   # Hide legend if you want\n",
    "                   #showlegend=False\n",
    "                   )\n",
    "\n",
    "data = [trace1, trace2]\n",
    "# Create fig with data and layout\n",
    "fig = go.Figure(data=data,layout=layout)\n",
    "\n",
    "graphFilename = outputDir + title + '.html'\n",
    "plot_figure(graphFilename, fig)\n"
   ]
  },
  {
   "cell_type": "markdown",
   "metadata": {},
   "source": [
    "### Working Hours Bar Chart"
   ]
  },
  {
   "cell_type": "code",
   "execution_count": null,
   "metadata": {},
   "outputs": [],
   "source": [
    "title = \"{} - {} Work Partition Bar\".format(startdate.strftime('%Y-%m-%d'), enddate.strftime('%Y-%m-%d'))\n",
    "clientDfs[0]['duration'] = clientDfs[0]['duration'].apply(lambda x: pd.to_timedelta(x, unit='h'))\n",
    "labels = clientDfs[0]['project']\n",
    "values = clientDfs[0]['duration']\n",
    "trace1 = go.Bar(name=uniqueEntries[0],\n",
    "                x=labels,\n",
    "                y=values\n",
    "                #hoverinfo='label+percent+value'\n",
    "                #domain=dict(x=[0,0.5])\n",
    "               )\n",
    "\n",
    "labels = clientDfs[1]['project']\n",
    "values = clientDfs[1]['duration']\n",
    "trace2 = go.Bar(name=uniqueEntries[1],\n",
    "                x=labels,\n",
    "                y=values\n",
    "                #hoverinfo='label+percent+value',\n",
    "                #domain=dict(x=[0.5,1])\n",
    "               )\n",
    "\n",
    "#title = \"Work partition from {} to {}\".format(startdate.strftime('%d-%m-%Y'), enddate.strftime('%d-%m-%Y'))\n",
    "layout = go.Layout(title=title,\n",
    "                   #annotations=[ann1,ann2],\n",
    "                   # Hide legend if you want\n",
    "                   #showlegend=False\n",
    "                   )\n",
    "\n",
    "data = [trace1, trace2]\n",
    "# Create fig with data and layout\n",
    "fig = go.Figure(data=data, layout=layout)\n",
    "\n",
    "graphFilename = outputDir + title + '.html'\n",
    "plot_figure(graphFilename, fig)\n"
   ]
  },
  {
   "cell_type": "code",
   "execution_count": null,
   "metadata": {},
   "outputs": [],
   "source": []
  }
 ],
 "metadata": {
  "kernelspec": {
   "display_name": "Python 3",
   "language": "python",
   "name": "python3"
  },
  "language_info": {
   "codemirror_mode": {
    "name": "ipython",
    "version": 3
   },
   "file_extension": ".py",
   "mimetype": "text/x-python",
   "name": "python",
   "nbconvert_exporter": "python",
   "pygments_lexer": "ipython3",
   "version": "3.7.3"
  }
 },
 "nbformat": 4,
 "nbformat_minor": 2
}
