{
 "cells": [
  {
   "cell_type": "markdown",
   "metadata": {},
   "source": [
    "# Unique Plate Stability - Value Creation"
   ]
  },
  {
   "cell_type": "markdown",
   "metadata": {},
   "source": [
    "## Value creation\n",
    "Aluminium Weight calculation"
   ]
  },
  {
   "cell_type": "code",
   "execution_count": 20,
   "metadata": {},
   "outputs": [
    {
     "name": "stdout",
     "output_type": "stream",
     "text": [
      "Plate Size:           [500, 500, 20] mm\n",
      "Plate Volume:         5000.0 cm³\n",
      "Plate Weight:         14.05 kg\n",
      "Plate Cost:           80 CHF\n",
      "Machining Cost:       [270, 360] CHF\n",
      "Scrap Cost:           [17.5, 70.0] CHF\n",
      "Scrap Cost/Ton:       [1245.5516014234875, 4982.20640569395] CHF\n",
      "Machine Opt:          [8.1, 10.799999999999999] CHF\n",
      "Machine Opt Cost/Ton: [576.5124555160141, 768.6832740213522] CHF\n"
     ]
    }
   ],
   "source": [
    "plate_size           = [500, 500, 20] # mm [Width. Depth, Height]\n",
    "plate_cost           = 80 # CHF\n",
    "\n",
    "density_7075         = 2.810 # g/cm³\n",
    "machining_hours      = [3,4]           # hours [min,max]\n",
    "machining_cost_rate  = 90 # CHF/hour\n",
    "scrap_rates          = [0.05, 0.2]     # % [min,max]\n",
    "machine_optimization_rate = 0.03       # % less fabrication steps/ time gain\n",
    "\n",
    "\n",
    "plate_volume = plate_size[0] * plate_size[1] * plate_size[2]\n",
    "plate_weight = plate_volume/1000*density_7075/1000 # kg\n",
    "machining_costs = []\n",
    "for machining_hour in machining_hours:\n",
    "  machining_costs.append(machining_cost_rate*machining_hour)\n",
    "\n",
    "# Calculation scrap costs\n",
    "scrap_costs = []\n",
    "for scap_rate in scrap_rates:\n",
    "  scrap_costs.append(scap_rate*(plate_cost + machining_costs[0]))\n",
    "\n",
    "scrap_cost_per_ton = []\n",
    "for scrap_cost in scrap_costs:\n",
    "  scrap_cost_per_ton.append(scrap_cost/plate_weight*1000)\n",
    "\n",
    "# Calculation machine optimization gain\n",
    "machine_optimization = []\n",
    "machine_optimization_chf = []\n",
    "machine_optimization_per_ton_chf = []\n",
    "for i in range(len(machining_hours)):\n",
    "  machine_optimization.append(machine_optimization_rate*machining_hours[i])\n",
    "  machine_optimization_chf.append(machine_optimization[i]*machining_cost_rate)\n",
    "  machine_optimization_per_ton_chf.append(machine_optimization_chf[i]/plate_weight*1000)\n",
    "\n",
    "print(\"Plate Size:           {} mm\".format(plate_size))\n",
    "print(\"Plate Volume:         {} cm³\".format(plate_volume/1000))\n",
    "print(\"Plate Weight:         {} kg\".format(plate_weight))\n",
    "print(\"Plate Cost:           {} CHF\".format(plate_cost))\n",
    "print(\"Machining Cost:       {} CHF\".format(machining_costs))\n",
    "print(\"Scrap Cost:           {} CHF\".format(scrap_costs))\n",
    "print(\"Scrap Cost/Ton:       {} CHF\".format(scrap_cost_per_ton))\n",
    "print(\"Machine Opt:          {} CHF\".format(machine_optimization_chf))\n",
    "print(\"Machine Opt Cost/Ton: {} CHF\".format(machine_optimization_per_ton_chf))\n",
    "\n",
    "\n",
    "\n",
    "\n",
    "\n"
   ]
  },
  {
   "cell_type": "code",
   "execution_count": null,
   "metadata": {},
   "outputs": [],
   "source": []
  }
 ],
 "metadata": {
  "kernelspec": {
   "display_name": "Python 3",
   "language": "python",
   "name": "python3"
  },
  "language_info": {
   "codemirror_mode": {
    "name": "ipython",
    "version": 3
   },
   "file_extension": ".py",
   "mimetype": "text/x-python",
   "name": "python",
   "nbconvert_exporter": "python",
   "pygments_lexer": "ipython3",
   "version": "3.7.3"
  }
 },
 "nbformat": 4,
 "nbformat_minor": 2
}
