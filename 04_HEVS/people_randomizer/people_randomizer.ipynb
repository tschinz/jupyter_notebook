{
 "cells": [
  {
   "cell_type": "markdown",
   "metadata": {},
   "source": [
    "# People Randomizer\n",
    "Allows creating randomized groups and people lists"
   ]
  },
  {
   "cell_type": "markdown",
   "metadata": {},
   "source": [
    "## Imports"
   ]
  },
  {
   "cell_type": "code",
   "execution_count": 12,
   "metadata": {},
   "outputs": [],
   "source": [
    "import random\n",
    "import numpy as np\n",
    "import math\n",
    "import pandas as pd"
   ]
  },
  {
   "cell_type": "markdown",
   "metadata": {},
   "source": [
    "## Constants"
   ]
  },
  {
   "cell_type": "code",
   "execution_count": 13,
   "metadata": {},
   "outputs": [],
   "source": [
    "plist = [\n",
    "    [\"name1\", \"email1\"],\n",
    "    [\"name2\", \"email2\"],\n",
    "    [\"name3\", \"email3\"],\n",
    "    [\"name4\", \"email4\"],\n",
    "    [\"name5\", \"email5\"],\n",
    "    [\"name6\", \"email6\"],\n",
    "    [\"name7\", \"email7\"],\n",
    "    [\"name8\", \"email8\"],\n",
    "    [\"name9\", \"email9\"],\n",
    "]\n",
    "# min, default\n",
    "groupsize = [1,2]"
   ]
  },
  {
   "cell_type": "markdown",
   "metadata": {},
   "source": [
    "## Code"
   ]
  },
  {
   "cell_type": "code",
   "execution_count": 25,
   "metadata": {},
   "outputs": [],
   "source": [
    "def importCSV(file=\"./database.xlsx\"):\n",
    "    df = pd.read_excel(file)\n",
    "    df = df[df['Name'].notna()]\n",
    "    return(df.values.tolist())\n",
    "    \n",
    "def peopleRandomizerV1(plist=[], groupsize=2):\n",
    "    selection = []\n",
    "    while len(plist) > 0:\n",
    "        group = []\n",
    "        for i in range(groupsize):\n",
    "            if len(plist) != 0:\n",
    "              idx = random.randrange(len(plist))\n",
    "              group.append(plist[idx])\n",
    "              plist = plist[:idx] + plist[idx+1:]\n",
    "        selection.append(group)\n",
    "    return selection\n",
    "\n",
    "def peopleRandomizerV2(plist=[], groupsize=2, favor_smaller_groups=False):\n",
    "    nbr_of_groups = len(plist) / groupsize\n",
    "    if favor_smaller_groups:\n",
    "        nbr_of_groups = math.floor(nbr_of_groups)\n",
    "    else:\n",
    "        nbr_of_groups = math.ceil(nbr_of_groups)\n",
    "    selection = np.array_split(plist, nbr_of_groups)\n",
    "    return selection\n",
    "\n",
    "def printGroups(grouplist, idx=0):\n",
    "    for i in range(len(grouplist)):\n",
    "        group = \"Group {}:\".format(i)\n",
    "        for j in range(len(grouplist[i])):\n",
    "            if j == 0:\n",
    "                group += \" \" + str(grouplist[i][j][idx])\n",
    "            else:\n",
    "                group += \" / \" + str(grouplist[i][j][idx])\n",
    "        print(group)\n"
   ]
  },
  {
   "cell_type": "markdown",
   "metadata": {},
   "source": [
    "## Execution"
   ]
  },
  {
   "cell_type": "code",
   "execution_count": 26,
   "metadata": {},
   "outputs": [
    {
     "name": "stdout",
     "output_type": "stream",
     "text": [
      "v1\n",
      "Group 0: Hoffer / Crettenand\n",
      "Group 1: Sterren / Syrbe\n",
      "Group 2: Pfammatter / Pansardi\n",
      "Group 3: Deriaz / Kummer\n",
      "Group 4: Fux / Bonvin\n",
      "Group 5: Oggier / De Tribolet-Hardy\n",
      "Group 6: Zenhäusern\n",
      "v2\n",
      "Group 0: Bonvin / Crettenand\n",
      "Group 1: De Tribolet-Hardy / Deriaz\n",
      "Group 2: Fux / Hoffer\n",
      "Group 3: Kummer / Oggier\n",
      "Group 4: Pansardi / Pfammatter\n",
      "Group 5: Sterren / Syrbe\n",
      "Group 6: Zenhäusern\n",
      "v2\n",
      "Group 0: Bonvin / Crettenand / De Tribolet-Hardy\n",
      "Group 1: Deriaz / Fux\n",
      "Group 2: Hoffer / Kummer\n",
      "Group 3: Oggier / Pansardi\n",
      "Group 4: Pfammatter / Sterren\n",
      "Group 5: Syrbe / Zenhäusern\n"
     ]
    }
   ],
   "source": [
    "plist = importCSV(\"2021-se1d.xlsx\")\n",
    "print(\"v1\")\n",
    "printGroups(peopleRandomizerV1(plist, 2))\n",
    "print(\"v2\")\n",
    "printGroups(peopleRandomizerV2(plist, 2, False))\n",
    "print(\"v2\")\n",
    "printGroups(peopleRandomizerV2(plist, 2, True))"
   ]
  }
 ],
 "metadata": {
  "interpreter": {
   "hash": "5c2668c32beab4e62bb37fe4b3c34990577bb9be9bdf584310fe77cee86a9d5d"
  },
  "kernelspec": {
   "display_name": "Python 3.8.11 64-bit ('base': conda)",
   "language": "python",
   "name": "python3"
  },
  "language_info": {
   "codemirror_mode": {
    "name": "ipython",
    "version": 3
   },
   "file_extension": ".py",
   "mimetype": "text/x-python",
   "name": "python",
   "nbconvert_exporter": "python",
   "pygments_lexer": "ipython3",
   "version": "3.8.11"
  },
  "orig_nbformat": 4
 },
 "nbformat": 4,
 "nbformat_minor": 2
}
