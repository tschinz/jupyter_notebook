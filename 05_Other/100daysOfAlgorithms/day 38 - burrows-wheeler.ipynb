{
 "cells": [
  {
   "cell_type": "markdown",
   "metadata": {},
   "source": [
    "# Burrows-Wheeler\n",
    "[Burrows-Wheeler transform](https://en.wikipedia.org/wiki/Burrows%E2%80%93Wheeler_transform) is a text transformation used to improve compression in bzip2 to outperform other state-of-the-art techniques [at the time].\n",
    "\n",
    "The idea is to use advantage of frequently occurring bigrams. `he`, `the`, `there`, `her`, `where` are all frequent words containing bigram `he`. BWT permutes the text so that `h` is grouped together.\n",
    "\n",
    "Let’s transform text `he her hers`.\n",
    "\n",
    "\n",
    "```\n",
    " her hershe\n",
    " hershe her\n",
    "e her hersh\n",
    "er hershe h\n",
    "ershe her h\n",
    "he her hers *\n",
    "her hershe\n",
    "hershe her\n",
    "r hershe he\n",
    "rshe her he\n",
    "she her her\n",
    "\n",
    "erhhs eer\n",
    "```\n",
    "\n",
    "BWT first creates all permutations given by translations. Than the set is sorted alphabetically and the last column represents the final permutation.\n",
    "\n",
    "To reverse the process we start by an empty set. The original column is prepended to the current set and the set is sorted alphabetically. Repeating column by column, IBWT reconstructs the original table.\n",
    "\n",
    "There are two obvious problems, speed and memory. BWT doesn’t need to keep all the permutations in memory, points will do. And authors also claimed they were able to sort in almost linear time. However, to achieve significant results, blocks of 1MB size have to be processed. While today 1MB is worth of nothing, at the time bzip2 came it was a lot."
   ]
  },
  {
   "cell_type": "markdown",
   "metadata": {},
   "source": [
    "## algorithm"
   ]
  },
  {
   "cell_type": "code",
   "execution_count": 1,
   "metadata": {
    "collapsed": true
   },
   "outputs": [],
   "source": [
    "def bwt(source):\n",
    "    aux = [source[i:] + source[:i] for i in range(len(source))]\n",
    "    aux.sort()\n",
    "    idx = aux.index(source)\n",
    "    return ''.join(i[-1] for i in aux), idx"
   ]
  },
  {
   "cell_type": "code",
   "execution_count": 2,
   "metadata": {
    "collapsed": false
   },
   "outputs": [],
   "source": [
    "def ibwt(source, idx):\n",
    "    n = len(source)\n",
    "    aux = [''] * n\n",
    "    for _ in range(n):\n",
    "        aux = sorted([i + j for i, j in zip(source, aux)])\n",
    "    return aux[idx]"
   ]
  },
  {
   "cell_type": "markdown",
   "metadata": {},
   "source": [
    "## run"
   ]
  },
  {
   "cell_type": "code",
   "execution_count": 3,
   "metadata": {
    "collapsed": false
   },
   "outputs": [
    {
     "data": {
      "text/plain": [
       "('es,de,aet wnrhrhhhhttt taeeeaer    ', 30)"
      ]
     },
     "execution_count": 3,
     "metadata": {},
     "output_type": "execute_result"
    }
   ],
   "source": [
    "target, i = bwt('the theta, there and there, was her')\n",
    "target, i"
   ]
  },
  {
   "cell_type": "code",
   "execution_count": 4,
   "metadata": {
    "collapsed": false
   },
   "outputs": [
    {
     "data": {
      "text/plain": [
       "'the theta, there and there, was her'"
      ]
     },
     "execution_count": 4,
     "metadata": {},
     "output_type": "execute_result"
    }
   ],
   "source": [
    "ibwt(target, i)"
   ]
  },
  {
   "cell_type": "code",
   "execution_count": null,
   "metadata": {
    "collapsed": true
   },
   "outputs": [],
   "source": []
  }
 ],
 "metadata": {
  "kernelspec": {
   "display_name": "Python 3",
   "language": "python",
   "name": "python3"
  },
  "language_info": {
   "codemirror_mode": {
    "name": "ipython",
    "version": 3
   },
   "file_extension": ".py",
   "mimetype": "text/x-python",
   "name": "python",
   "nbconvert_exporter": "python",
   "pygments_lexer": "ipython3",
   "version": "3.6.5"
  }
 },
 "nbformat": 4,
 "nbformat_minor": 2
}
