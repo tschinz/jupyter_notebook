{
 "cells": [
  {
   "cell_type": "markdown",
   "metadata": {},
   "source": [
    "# Factoradic\n",
    "[Factorial number system](https://en.wikipedia.org/wiki/Factorial_number_system) is an interesting showcase of a mixed radix. Instead of powers of homogeneous base as we are usually used to, factoradic uses factorials.\n",
    "\n",
    "For example,\n",
    "\n",
    "$$6281 = 6*10^3 + 2*10^2 + 8*10^1 + 10^0$$\n",
    "$$11412210 = 7! + 6! + 4*5! + 4! + 2*3! + 2*2! + 1! + 0*0!$$\n",
    "\n",
    "What’s interesting about representations of a number in different [homogeneous or mixed] radices? If a numeral representation in radix R shows a high entropy, it will keep high entropy in all the representations. This is very powerful idea that brings notion of what information is. The information contained in the number can be transferred [to radix system] or hidden, but cannot vanish.\n",
    "\n",
    "For joy, I decided to use a one-liner today. Or two one-liners to be exact. Have fun!"
   ]
  },
  {
   "cell_type": "markdown",
   "metadata": {},
   "source": [
    "## algorithm"
   ]
  },
  {
   "cell_type": "code",
   "execution_count": 1,
   "metadata": {
    "collapsed": true
   },
   "outputs": [],
   "source": [
    "fac = lambda i, *j: i and fac(*divmod(i, len(j) + 1), *j) or j or (i,)"
   ]
  },
  {
   "cell_type": "code",
   "execution_count": 2,
   "metadata": {
    "collapsed": true
   },
   "outputs": [],
   "source": [
    "dec = lambda i, k=0, *j: j and dec(i * len(j) + i + k, *j) or i"
   ]
  },
  {
   "cell_type": "markdown",
   "metadata": {},
   "source": [
    "## run"
   ]
  },
  {
   "cell_type": "code",
   "execution_count": 3,
   "metadata": {
    "collapsed": false
   },
   "outputs": [
    {
     "name": "stdout",
     "output_type": "stream",
     "text": [
      "0 <-> 0\n",
      "1 <-> 1 0\n",
      "8 <-> 1 1 0 0\n",
      "27 <-> 1 0 1 1 0\n",
      "64 <-> 2 2 2 0 0\n",
      "125 <-> 1 0 0 2 1 0\n",
      "216 <-> 1 4 0 0 0 0\n",
      "343 <-> 2 4 1 0 1 0\n",
      "512 <-> 4 1 1 1 0 0\n",
      "729 <-> 1 0 0 1 1 1 0\n",
      "1000 <-> 1 2 1 2 2 0 0\n"
     ]
    }
   ],
   "source": [
    "for i in range(0, 11):\n",
    "    f = fac(i ** 3)\n",
    "    d = dec(*f)\n",
    "    print(d, '<->', ' '.join(map(str, f)))"
   ]
  },
  {
   "cell_type": "code",
   "execution_count": 4,
   "metadata": {
    "collapsed": false
   },
   "outputs": [
    {
     "data": {
      "text/plain": [
       "(1, 1, 4, 1, 2, 2, 1, 0)"
      ]
     },
     "execution_count": 4,
     "metadata": {},
     "output_type": "execute_result"
    }
   ],
   "source": [
    "fac(6281)"
   ]
  },
  {
   "cell_type": "code",
   "execution_count": 5,
   "metadata": {
    "collapsed": false
   },
   "outputs": [
    {
     "data": {
      "text/plain": [
       "6281"
      ]
     },
     "execution_count": 5,
     "metadata": {},
     "output_type": "execute_result"
    }
   ],
   "source": [
    "dec(*(1, 1, 4, 1, 2, 2, 1, 0))"
   ]
  }
 ],
 "metadata": {
  "kernelspec": {
   "display_name": "Python 3",
   "language": "python",
   "name": "python3"
  },
  "language_info": {
   "codemirror_mode": {
    "name": "ipython",
    "version": 3
   },
   "file_extension": ".py",
   "mimetype": "text/x-python",
   "name": "python",
   "nbconvert_exporter": "python",
   "pygments_lexer": "ipython3",
   "version": "3.6.5"
  }
 },
 "nbformat": 4,
 "nbformat_minor": 2
}
