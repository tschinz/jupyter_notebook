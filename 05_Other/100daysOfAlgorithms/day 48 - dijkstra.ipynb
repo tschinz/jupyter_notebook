{
 "cells": [
  {
   "cell_type": "markdown",
   "metadata": {},
   "source": [
    "# Dijkstra\n",
    "If I remember correctly, [Dijkstra’s algorithm](https://en.wikipedia.org/wiki/Dijkstra%27s_algorithm) was the very first graph algorithm they taught us in Discrete mathematics lectures.\n",
    "\n",
    "And I think there are many reasons to why it is a good starting point.\n",
    "\n",
    "  * finite graph traversal is a key technique\n",
    "  * there’s a beautiful proof of correctness using mathematical induction\n",
    "  * it works for unweighted and weighted graphs\n",
    "  * it works for undirected and directed graphs\n",
    "  * its deep understanding helps to implement other algorithms with ease\n",
    "\n",
    "If you would like to practice on your own, here are few hints to think about.\n",
    "\n",
    " * what happens if an edge weight is negative?\n",
    " * what conditions can be added to avoid redundant cycles in outer loop?\n",
    " * how would you extend the single-source implementation to a multi-source? (multi-source means we start searching at multiple points)\n",
    " * what happens if the condition for the next node to be searched changes? how to alter the algorithm to deal with it?\n",
    "\n",
    "The last point is a key to successful implementation of [A*](https://en.wikipedia.org/wiki/A*_search_algorithm) algorithm."
   ]
  },
  {
   "cell_type": "code",
   "execution_count": 1,
   "metadata": {
    "collapsed": false
   },
   "outputs": [],
   "source": [
    "from heapq import heappush, heappop\n",
    "import numpy as np\n",
    "import networkx as nx\n",
    "import matplotlib.pyplot as plt\n",
    "%matplotlib inline"
   ]
  },
  {
   "cell_type": "markdown",
   "metadata": {},
   "source": [
    "## algorithm"
   ]
  },
  {
   "cell_type": "code",
   "execution_count": 2,
   "metadata": {
    "collapsed": false
   },
   "outputs": [],
   "source": [
    "def dijkstra(graph, source):\n",
    "    distance = {}\n",
    "    queue = [(0, source)]\n",
    "    \n",
    "    while queue:\n",
    "        # shortest unexplored path\n",
    "        p, v = heappop(queue)\n",
    "        if v in distance:\n",
    "            continue\n",
    "\n",
    "        # shortest path (source, ..., v)\n",
    "        print('({}, ..., {}) = {}'.format(source, v, p))\n",
    "        distance[v] = p\n",
    "\n",
    "        # extend path to (source, ..., v, u)\n",
    "        for _, u, e in graph.edges(v, data=True):\n",
    "            heappush(queue, (p + e['weight'], u))\n",
    "    \n",
    "    return distance"
   ]
  },
  {
   "cell_type": "markdown",
   "metadata": {},
   "source": [
    "## graph"
   ]
  },
  {
   "cell_type": "code",
   "execution_count": 3,
   "metadata": {
    "collapsed": false
   },
   "outputs": [],
   "source": [
    "n = 20\n",
    "graph = nx.Graph()\n",
    "graph.add_nodes_from(range(n))\n",
    "for u, v in np.random.randint(0, n, (n, 2)):\n",
    "    graph.add_edge(u, v, weight=abs(u - v))"
   ]
  },
  {
   "cell_type": "code",
   "execution_count": 6,
   "metadata": {
    "collapsed": false
   },
   "outputs": [
    {
     "data": {
      "image/png": "[encoded data removed]",
      "text/plain": [
       "<Figure size 864x576 with 1 Axes>"
      ]
     },
     "metadata": {},
     "output_type": "display_data"
    }
   ],
   "source": [
    "weights = [e['weight'] / n * 10  for (u, v, e) in graph.edges(data=True)]\n",
    "\n",
    "plt.figure(figsize=(12, 8))\n",
    "plt.axis('off')\n",
    "\n",
    "layout = nx.spring_layout(graph)\n",
    "nx.draw_networkx_nodes(graph, layout, node_color='steelblue', node_size=520)\n",
    "nx.draw_networkx_edges(graph, layout, edge_color='gray', width=weights)\n",
    "nx.draw_networkx_labels(graph, layout, font_color='white')\n",
    "\n",
    "None"
   ]
  },
  {
   "cell_type": "markdown",
   "metadata": {},
   "source": [
    "## run"
   ]
  },
  {
   "cell_type": "code",
   "execution_count": 7,
   "metadata": {
    "collapsed": false
   },
   "outputs": [
    {
     "name": "stdout",
     "output_type": "stream",
     "text": [
      "(0, ..., 0) = 0\n",
      "(0, ..., 3) = 3\n",
      "(0, ..., 5) = 5\n",
      "(0, ..., 15) = 15\n",
      "(0, ..., 14) = 16\n",
      "(0, ..., 16) = 16\n",
      "(0, ..., 1) = 29\n",
      "(0, ..., 18) = 46\n",
      "(0, ..., 11) = 53\n"
     ]
    }
   ],
   "source": [
    "distances = dijkstra(graph, 0)"
   ]
  }
 ],
 "metadata": {
  "kernelspec": {
   "display_name": "Python 3",
   "language": "python",
   "name": "python3"
  },
  "language_info": {
   "codemirror_mode": {
    "name": "ipython",
    "version": 3
   },
   "file_extension": ".py",
   "mimetype": "text/x-python",
   "name": "python",
   "nbconvert_exporter": "python",
   "pygments_lexer": "ipython3",
   "version": "3.6.5"
  }
 },
 "nbformat": 4,
 "nbformat_minor": 2
}
