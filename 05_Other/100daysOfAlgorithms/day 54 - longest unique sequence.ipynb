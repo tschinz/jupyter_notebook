{
 "cells": [
  {
   "cell_type": "markdown",
   "metadata": {},
   "source": [
    "# Longest Unique Sequence\n",
    "Today I’d like to implement an algorithm and keep a track of the process. It may seem to be out of scope of the series, but implementation of algorithm is an incremental process, and often a long one.\n",
    "\n",
    "A good showcase is somewhat typical task you may receive at a job interview.\n",
    "\n",
    "In a sequence find the longest unique consecutive subsequence, i.e. sequence consisting of unique items. Make the algorithm run in O(n) time in worst case.\n",
    "\n",
    "The text often offers a hints in form of restrictions that tell you what to do.\n",
    "\n",
    "* O(1) time — there’s a pattern; take pen a pencil and find it; solution can be found in a constant number of steps; no cycles needed\n",
    "* O(log n) time — there’s a recursive pattern; you can eliminate half of input at each step; use single cycle\n",
    "* O(n) time — you have to cycle through; constants number of cycles can be used, but no nested cycles are allowed (not entirely true, there are exceptions, but rare)\n",
    "* O(n.log n) time — efficient solution requires sorting or sorted auxiliary structure\n",
    "* O(n²) time — an auxiliary table has to be built\n",
    "* O(1) memory — no structures, use as many variables as you wish, but any complex structure must be limited by constant\n",
    "* O(log n) memory — there is a pattern in bit representation of input that can be captured and applied\n",
    "* O(n) memory — auxiliary array is needed, maybe table; if it is a table all but one dimension must be constant\n",
    "* O(n²) memory — auxiliary table is required; time can never be below O(n²) in this case (and you rarely see this one on an interview)"
   ]
  },
  {
   "cell_type": "code",
   "execution_count": 1,
   "metadata": {
    "collapsed": false
   },
   "outputs": [],
   "source": [
    "from functools import reduce"
   ]
  },
  {
   "cell_type": "markdown",
   "metadata": {},
   "source": [
    "## text"
   ]
  },
  {
   "cell_type": "code",
   "execution_count": 2,
   "metadata": {
    "collapsed": true
   },
   "outputs": [],
   "source": [
    "text = 'Premature optimization is the root of all evil -- DonaldKnuth'"
   ]
  },
  {
   "cell_type": "markdown",
   "metadata": {},
   "source": [
    "## version 1\n",
    "Somewhat obvious solution is to cycle through the sequence and iteratively shrink and expand sliding window over unique sequences. I will keep track of the items using set to comply O(n) time."
   ]
  },
  {
   "cell_type": "code",
   "execution_count": 3,
   "metadata": {
    "collapsed": true
   },
   "outputs": [],
   "source": [
    "def longest_unique_sequence(sequence):\n",
    "    i, j, k = 0, 0, set()\n",
    "    bi, bj = 0, 0\n",
    "    \n",
    "    while j < len(sequence):\n",
    "        if sequence[j] in k:\n",
    "            k.remove(sequence[i])\n",
    "            i += 1\n",
    "        else:\n",
    "            k.add(sequence[j])\n",
    "            j += 1\n",
    "\n",
    "        if j - i > bj - bi:\n",
    "            bi, bj = i, j\n",
    "\n",
    "    return bi, bj"
   ]
  },
  {
   "cell_type": "code",
   "execution_count": 4,
   "metadata": {
    "collapsed": false
   },
   "outputs": [
    {
     "name": "stdout",
     "output_type": "stream",
     "text": [
      "3 12 \"mature op\"\n"
     ]
    }
   ],
   "source": [
    "i, j = longest_unique_sequence(text)\n",
    "print(i, j, '\"%s\"' % text[i:j])"
   ]
  },
  {
   "cell_type": "markdown",
   "metadata": {},
   "source": [
    "## version 2\n",
    "OMG, why did I use set? Because I was expected to use it? The linearity is disputable and I fell into trap of premature optimization. Get rid of it."
   ]
  },
  {
   "cell_type": "code",
   "execution_count": 5,
   "metadata": {
    "collapsed": true
   },
   "outputs": [],
   "source": [
    "def longest_unique_sequence(sequence):\n",
    "    i, j = 0, 0\n",
    "    bi, bj = 0, 0\n",
    "    \n",
    "    while j < len(sequence):\n",
    "        if sequence[j] in sequence[i:j]:\n",
    "            i += 1\n",
    "        else:\n",
    "            j += 1\n",
    "    \n",
    "        if j - i > bj - bi:\n",
    "            bi, bj = i, j\n",
    "            \n",
    "    return bi, bj"
   ]
  },
  {
   "cell_type": "code",
   "execution_count": 6,
   "metadata": {
    "collapsed": false
   },
   "outputs": [
    {
     "name": "stdout",
     "output_type": "stream",
     "text": [
      "3 12 \"mature op\"\n"
     ]
    }
   ],
   "source": [
    "i, j = longest_unique_sequence(text)\n",
    "print(i, j, '\"%s\"' % text[i:j])"
   ]
  },
  {
   "cell_type": "markdown",
   "metadata": {},
   "source": [
    "## version 3\n",
    "That’s … very expressive. Never mind, implementation is a process, any step [even in a wrong direction] is still a good step giving a lesson."
   ]
  },
  {
   "cell_type": "code",
   "execution_count": 7,
   "metadata": {
    "collapsed": false
   },
   "outputs": [],
   "source": [
    "def longest_unique_sequence(sequence):\n",
    "    i, j = 0, 0\n",
    "    b = 0, 0, 0\n",
    "    \n",
    "    while j < len(sequence):\n",
    "        k = sequence[j] in sequence[i:j]\n",
    "        i, j = i + k, j + 1 - k\n",
    "        b = max(b, (j - i, i, j))\n",
    "\n",
    "    return slice(b[1], b[2])"
   ]
  },
  {
   "cell_type": "code",
   "execution_count": 8,
   "metadata": {
    "collapsed": false
   },
   "outputs": [
    {
     "name": "stdout",
     "output_type": "stream",
     "text": [
      "slice(48, 57, None) \"- DonaldK\"\n"
     ]
    }
   ],
   "source": [
    "i = longest_unique_sequence(text)\n",
    "print(i, '\"%s\"' % text[i])"
   ]
  },
  {
   "cell_type": "markdown",
   "metadata": {},
   "source": [
    "## version 4\n",
    "Let’s return to version #2 and ask if we need all the pointers and all the conditions?"
   ]
  },
  {
   "cell_type": "code",
   "execution_count": 9,
   "metadata": {
    "collapsed": true
   },
   "outputs": [],
   "source": [
    "def longest_unique_sequence(sequence):\n",
    "    i, b = 0, ''\n",
    "    \n",
    "    while i < len(sequence):\n",
    "        if sequence[i] in sequence[:i]:\n",
    "            i -= 1\n",
    "            sequence = sequence[1:]\n",
    "        else:\n",
    "            i += 1\n",
    "            b = max(b, sequence[:i], key=len)\n",
    "\n",
    "    return b"
   ]
  },
  {
   "cell_type": "code",
   "execution_count": 10,
   "metadata": {
    "collapsed": false
   },
   "outputs": [
    {
     "data": {
      "text/plain": [
       "'mature op'"
      ]
     },
     "execution_count": 10,
     "metadata": {},
     "output_type": "execute_result"
    }
   ],
   "source": [
    "longest_unique_sequence(text)"
   ]
  },
  {
   "cell_type": "markdown",
   "metadata": {},
   "source": [
    "## version 5\n",
    "Here’s an idea. What I particularly don’t like about all the previous attempts is searching for the best solution. We shouldn’t be reinventing the wheel. If it’s in Python, do not implement it."
   ]
  },
  {
   "cell_type": "code",
   "execution_count": 11,
   "metadata": {
    "collapsed": false
   },
   "outputs": [],
   "source": [
    "def longest_unique_sequence(sequence):\n",
    "    i, j = 0, 0\n",
    "\n",
    "    while j < len(sequence):\n",
    "        if sequence[j] in sequence[i:j]:\n",
    "            i += 1\n",
    "        else:\n",
    "            j += 1\n",
    "            yield sequence[i:j]"
   ]
  },
  {
   "cell_type": "code",
   "execution_count": 12,
   "metadata": {
    "collapsed": false
   },
   "outputs": [
    {
     "data": {
      "text/plain": [
       "'mature op'"
      ]
     },
     "execution_count": 12,
     "metadata": {},
     "output_type": "execute_result"
    }
   ],
   "source": [
    "max(longest_unique_sequence(text), key=len)"
   ]
  },
  {
   "cell_type": "markdown",
   "metadata": {},
   "source": [
    "## version 6\n",
    "Getting back to the version #1 and applying gathered experience."
   ]
  },
  {
   "cell_type": "code",
   "execution_count": 13,
   "metadata": {
    "collapsed": true
   },
   "outputs": [],
   "source": [
    "def longest_unique_sequence(sequence):\n",
    "    i, k = 0, {}\n",
    "\n",
    "    for j, x in enumerate(sequence):\n",
    "        i = max(i, k.get(x, 0))\n",
    "        k[x] = j + 1\n",
    "        yield sequence[i:j + 1]"
   ]
  },
  {
   "cell_type": "code",
   "execution_count": 14,
   "metadata": {
    "collapsed": false
   },
   "outputs": [
    {
     "data": {
      "text/plain": [
       "'mature op'"
      ]
     },
     "execution_count": 14,
     "metadata": {},
     "output_type": "execute_result"
    }
   ],
   "source": [
    "max(longest_unique_sequence(text), key=len)"
   ]
  },
  {
   "cell_type": "markdown",
   "metadata": {},
   "source": [
    "## version 7\n",
    "nyways, I still don’t like using set or dict and don’t think I need one. Once again, I am going to get rid of it."
   ]
  },
  {
   "cell_type": "code",
   "execution_count": 15,
   "metadata": {
    "collapsed": true
   },
   "outputs": [],
   "source": [
    "def longest_unique_sequence(sequence, best=''):\n",
    "    for x in sequence:\n",
    "        best = best[best.find(x) + 1:] + x\n",
    "        yield best"
   ]
  },
  {
   "cell_type": "code",
   "execution_count": 16,
   "metadata": {
    "collapsed": false
   },
   "outputs": [
    {
     "data": {
      "text/plain": [
       "'mature op'"
      ]
     },
     "execution_count": 16,
     "metadata": {},
     "output_type": "execute_result"
    }
   ],
   "source": [
    "max(longest_unique_sequence(text), key=len)"
   ]
  },
  {
   "cell_type": "markdown",
   "metadata": {},
   "source": [
    "This version is (a) idiomatic, (b) the only one that works with iterators. And I love it.\n",
    "\n",
    "But what about O(n) worst case requirement? Well, that’s a lie.\n",
    "\n",
    "Version #6 looks like O(n) and almost always runs in O(n), but its worst case is O(n*a) where a is size of alphabet (all items that can occur). It can run at worst in O(n) if you use non-deterministic hashing. Java and C# do not have it and I assume Python neither.\n",
    "\n",
    "Version #7 runs in O(n*a) and unless you expect troubles, you really don’t need advanced structures. Do not make the best solution. Do the solution you need.\n",
    "\n",
    "Is your solution better than mine? Feel free to share with me."
   ]
  }
 ],
 "metadata": {
  "kernelspec": {
   "display_name": "Python 3",
   "language": "python",
   "name": "python3"
  },
  "language_info": {
   "codemirror_mode": {
    "name": "ipython",
    "version": 3
   },
   "file_extension": ".py",
   "mimetype": "text/x-python",
   "name": "python",
   "nbconvert_exporter": "python",
   "pygments_lexer": "ipython3",
   "version": "3.6.5"
  }
 },
 "nbformat": 4,
 "nbformat_minor": 2
}
