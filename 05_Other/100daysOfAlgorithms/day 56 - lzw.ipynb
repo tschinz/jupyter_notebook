{
 "cells": [
  {
   "cell_type": "markdown",
   "metadata": {},
   "source": [
    "# LZW\n",
    "[Lempel-Ziv-Welch](https://en.wikipedia.org/wiki/Lempel%E2%80%93Ziv%E2%80%93Welch), or LZW, is a dictionary-based compression algorithm from [LZ](https://en.wikipedia.org/wiki/LZ77_and_LZ78) family of algorithms.\n",
    "\n",
    "The idea behind is cute. And even though its performance was heavily outperformed by other algorithms, I still consider it as one of the most clever techniques.\n",
    "\n",
    "![day56-lzw](resource/day56-lzw.png)\n",
    "\n",
    "LZW iteratively builds a `(code, word)` dictionary as it reads input data. At the beginning, the whole alphabet is inserted and hence needs not to be stored to output.\n",
    "\n",
    "Input is then matched to the longest known word in dictionary and its code is sent to output. The word extended by the next input character is stored as a new entry.\n",
    "\n",
    "This technique is fast as it needs no extra search inside large blocks. And unlike my implementation with `dict`, it just needs an array with pointers.\n",
    "\n",
    "However, major flaw of the algorithm are the dictionary codes. To store the code, we have to periodically enlarge number of bits from 9 up to 12 or 16. At this point, dictionary is usually erased and algorithm starts over.\n",
    "\n",
    "That empowers its weakness — the dictionary is built very slowly. Once it contains enough information to compress efficiently, it is erased. But allowing larger size is tricky due to long codes and decrease in performance.\n",
    "\n",
    "I’ve inserted only encoding portion of code in here, check the notebook for decoder."
   ]
  },
  {
   "cell_type": "markdown",
   "metadata": {},
   "source": [
    "## algorithm"
   ]
  },
  {
   "cell_type": "code",
   "execution_count": 1,
   "metadata": {
    "collapsed": false
   },
   "outputs": [],
   "source": [
    "def lzw_encode(data):\n",
    "    code, code_bits = {bytes([i]): i for i in range(256)}, 8\n",
    "    buffer, buffer_bits = 0, 0\n",
    "    index, aux = 0, []\n",
    "\n",
    "    while index < len(data):\n",
    "        # find word\n",
    "        for j in range(index + 1, len(data) + 1):\n",
    "            word = data[index:j]\n",
    "\n",
    "            # store word\n",
    "            if word not in code:\n",
    "                code[word] = len(code)\n",
    "                word = word[:-1]\n",
    "                break\n",
    "\n",
    "        # write buffer\n",
    "        buffer <<= code_bits\n",
    "        buffer |= code[word]\n",
    "        buffer_bits += code_bits\n",
    "\n",
    "        # code length\n",
    "        if len(code) > 2 ** code_bits:\n",
    "            code_bits += 1\n",
    "\n",
    "        # shift\n",
    "        index += len(word)\n",
    "\n",
    "        # buffer alignment\n",
    "        if index >= len(data) and buffer_bits % 8:\n",
    "            r = 8 - (buffer_bits % 8)\n",
    "            buffer <<= r\n",
    "            buffer_bits += r\n",
    "\n",
    "        # emit output\n",
    "        if not buffer_bits % 8:\n",
    "            aux += int.to_bytes(buffer, buffer_bits >> 3, 'big')\n",
    "            buffer, buffer_bits = 0, 0\n",
    "\n",
    "    return bytes(aux)"
   ]
  },
  {
   "cell_type": "code",
   "execution_count": 2,
   "metadata": {
    "collapsed": true
   },
   "outputs": [],
   "source": [
    "def lzw_decode(data):\n",
    "    code, code_bits = {i: bytes([i]) for i in range(256)}, 8\n",
    "    buffer, buffer_bits = 0, 0\n",
    "    index, aux = 0, []\n",
    "    prefix = b''\n",
    "\n",
    "    while index < len(data) or buffer_bits >= code_bits:\n",
    "        # read buffer\n",
    "        while index < len(data) and buffer_bits < code_bits:\n",
    "            buffer <<= 8\n",
    "            buffer |= data[index]\n",
    "            buffer_bits += 8\n",
    "            index += 1\n",
    "\n",
    "        # find word\n",
    "        buffer_bits -= code_bits\n",
    "        key = buffer >> buffer_bits\n",
    "        buffer &= (1 << buffer_bits) - 1\n",
    "        word = code.get(key, prefix + prefix[:1])\n",
    "\n",
    "        # store word\n",
    "        if prefix:\n",
    "            code[len(code)] = prefix + word[:1]\n",
    "        prefix = word\n",
    "\n",
    "        # code length\n",
    "        if len(code) >= 2 ** code_bits:\n",
    "            code_bits += 1\n",
    "\n",
    "        # emit output\n",
    "        aux += word\n",
    "        \n",
    "    return bytes(aux)"
   ]
  },
  {
   "cell_type": "markdown",
   "metadata": {},
   "source": [
    "## run"
   ]
  },
  {
   "cell_type": "code",
   "execution_count": 3,
   "metadata": {
    "collapsed": false
   },
   "outputs": [],
   "source": [
    "def compress(data):\n",
    "    encoded = lzw_encode(data.encode('ASCII'))\n",
    "    decoded = lzw_decode(encoded).decode('ASCII')\n",
    "    assert data == decoded\n",
    "    \n",
    "    print('compression', len(data), '->', len(encoded), 'bytes')"
   ]
  },
  {
   "cell_type": "code",
   "execution_count": 4,
   "metadata": {
    "collapsed": false
   },
   "outputs": [
    {
     "name": "stdout",
     "output_type": "stream",
     "text": [
      "compression 11 -> 9 bytes\n"
     ]
    }
   ],
   "source": [
    "compress('ATGATCATGAG')"
   ]
  },
  {
   "cell_type": "code",
   "execution_count": 5,
   "metadata": {
    "collapsed": false
   },
   "outputs": [
    {
     "name": "stdout",
     "output_type": "stream",
     "text": [
      "compression 1000 -> 51 bytes\n"
     ]
    }
   ],
   "source": [
    "compress('x' * 1000)"
   ]
  },
  {
   "cell_type": "code",
   "execution_count": 6,
   "metadata": {
    "collapsed": false
   },
   "outputs": [
    {
     "name": "stdout",
     "output_type": "stream",
     "text": [
      "compression 112 -> 84 bytes\n"
     ]
    }
   ],
   "source": [
    "compress(\"\"\"\n",
    "I wish that I knew what I know now\n",
    "When I was younger.\n",
    "I wish that I knew what I know now\n",
    "When I was stronger.\n",
    "\"\"\")"
   ]
  },
  {
   "cell_type": "code",
   "execution_count": null,
   "metadata": {
    "collapsed": true
   },
   "outputs": [],
   "source": []
  }
 ],
 "metadata": {
  "kernelspec": {
   "display_name": "Python 3",
   "language": "python",
   "name": "python3"
  },
  "language_info": {
   "codemirror_mode": {
    "name": "ipython",
    "version": 3
   },
   "file_extension": ".py",
   "mimetype": "text/x-python",
   "name": "python",
   "nbconvert_exporter": "python",
   "pygments_lexer": "ipython3",
   "version": "3.6.5"
  }
 },
 "nbformat": 4,
 "nbformat_minor": 2
}
