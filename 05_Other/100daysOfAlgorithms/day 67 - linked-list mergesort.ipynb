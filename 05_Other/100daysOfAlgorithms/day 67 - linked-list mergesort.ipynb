{
 "cells": [
  {
   "cell_type": "markdown",
   "metadata": {},
   "source": [
    "# Linked-list mergesort\n",
    "I was pretty sure I wouldn’t implement [mergesort](https://en.wikipedia.org/wiki/Merge_sort) in the series. [Quicksort](https://medium.com/100-days-of-algorithms/day-57-quicksort-7adbebe69801) was at least interesting since its implementation is tricky. Is there anything interesting about merging? Sure there is — computational models.\n",
    "\n",
    "Regular mergesort on a fixed array has O(n.log n) time complexity and O(n) space complexity. What is the difference if we use linked-list instead?\n",
    "\n",
    "I have implemented both, recursive and iterative versions of the algorithm.\n",
    "\n",
    "Recursive version splits the list into two equally long partitions using fast/slow pointer trick from day 62. Each sublist is sorted and result is merged.\n",
    "\n",
    "Time complexity is obviously O(n.log n) and space complexity is O(log n). Why not O(1)? Space complexity measured on heap would be O(1), but we have to take into account that recursive call has its cost and space used on stack is still O(log n).\n",
    "\n",
    "Iterative version takes “sorted” lists of length one and repeatedly merges lists of the same length until a single complete list remains.\n",
    "\n",
    "Time complexity is again O(n.log n) and this time we can clearly see that space complexity is O(log n).\n",
    "\n",
    "What is surprising, the linked-list version of algorithm seems to require less memory than fixed array version. Is that true?\n",
    "\n",
    "Not really. First thing to notice is that linked-list itself requires more space than fixed-array, hence the list has a larger information capacity.\n",
    "\n",
    "Mergesort is able to use this capacity to avoid further allocations. It’s a similar case to stack vs. heap allocations discussed above. The requirement is still there, just hidden.\n",
    "\n",
    "To be precise, linked-list mergesort requires extra O(log n) allocated space, but still requires extra O(n) space to keep the order."
   ]
  },
  {
   "cell_type": "code",
   "execution_count": 1,
   "metadata": {
    "collapsed": true
   },
   "outputs": [],
   "source": [
    "from types import SimpleNamespace\n",
    "from random import randint"
   ]
  },
  {
   "cell_type": "markdown",
   "metadata": {},
   "source": [
    "## algorithm"
   ]
  },
  {
   "cell_type": "code",
   "execution_count": 2,
   "metadata": {
    "collapsed": true
   },
   "outputs": [],
   "source": [
    "def _merge(p, q):\n",
    "    r, s = [Node()] * 2\n",
    "    \n",
    "    while p or q:\n",
    "        if not q or p and p.value < q.value:\n",
    "            r.next = p\n",
    "            r, p = r.next, p.next\n",
    "        else:\n",
    "            r.next = q\n",
    "            r, q = r.next, q.next\n",
    "\n",
    "    return s.next"
   ]
  },
  {
   "cell_type": "markdown",
   "metadata": {},
   "source": [
    "### recursive"
   ]
  },
  {
   "cell_type": "code",
   "execution_count": 3,
   "metadata": {
    "collapsed": false
   },
   "outputs": [],
   "source": [
    "def mergesort_recursive(head):\n",
    "    # list is sorted\n",
    "    if not (head and head.next):\n",
    "        return head\n",
    "\n",
    "    # make equal split\n",
    "    p, q, r = head, head.next, None\n",
    "    while q:\n",
    "        p, q, r = p.next, q.next and q.next.next, p\n",
    "    r.next = None\n",
    "\n",
    "    # sort recursively\n",
    "    p = mergesort_recursive(p)\n",
    "    q = mergesort_recursive(head)\n",
    "\n",
    "    # merge\n",
    "    return _merge(p, q)"
   ]
  },
  {
   "cell_type": "markdown",
   "metadata": {},
   "source": [
    "### iterative"
   ]
  },
  {
   "cell_type": "code",
   "execution_count": 4,
   "metadata": {
    "collapsed": false
   },
   "outputs": [],
   "source": [
    "def mergesort_iterative(head):\n",
    "    splits = []\n",
    "\n",
    "    while head:\n",
    "        # sorted list of length 1\n",
    "        head, p = head.next, head\n",
    "        p.next = None\n",
    "        splits.append((1, p))\n",
    "\n",
    "        while len(splits) > 1:\n",
    "            (i, p), (j, q) = splits[-2:]\n",
    "            if i != j and head:\n",
    "                break\n",
    "            \n",
    "            # merge\n",
    "            splits[-2:] = [(i + j, _merge(p, q))]\n",
    "\n",
    "    return splits and splits[0][1] or None"
   ]
  },
  {
   "cell_type": "markdown",
   "metadata": {},
   "source": [
    "## utilities"
   ]
  },
  {
   "cell_type": "code",
   "execution_count": 5,
   "metadata": {
    "collapsed": false
   },
   "outputs": [],
   "source": [
    "Node = SimpleNamespace"
   ]
  },
  {
   "cell_type": "code",
   "execution_count": 6,
   "metadata": {
    "collapsed": true
   },
   "outputs": [],
   "source": [
    "def random_linked_list(size, r):\n",
    "    head = None\n",
    "    for i in range(size):\n",
    "        head = Node(value=randint(0, r), next=head)\n",
    "    return head"
   ]
  },
  {
   "cell_type": "code",
   "execution_count": 7,
   "metadata": {
    "collapsed": true
   },
   "outputs": [],
   "source": [
    "def print_list(head):\n",
    "    def _iter(head):\n",
    "        while head:\n",
    "            yield head.value\n",
    "            head = head.next\n",
    "\n",
    "    print(list(_iter(head)))"
   ]
  },
  {
   "cell_type": "markdown",
   "metadata": {},
   "source": [
    "## run"
   ]
  },
  {
   "cell_type": "code",
   "execution_count": 8,
   "metadata": {
    "collapsed": false
   },
   "outputs": [
    {
     "name": "stdout",
     "output_type": "stream",
     "text": [
      "[2, 8, 7, 1, 1, 3, 1, 3, 10, 8, 2, 0, 4, 2, 9, 2, 5, 1, 7, 0]\n"
     ]
    }
   ],
   "source": [
    "head = random_linked_list(size=20, r=10)\n",
    "print_list(head)"
   ]
  },
  {
   "cell_type": "code",
   "execution_count": 9,
   "metadata": {
    "collapsed": false
   },
   "outputs": [
    {
     "name": "stdout",
     "output_type": "stream",
     "text": [
      "[]\n",
      "[4, 10, 10]\n",
      "[0, 3, 6, 8, 8, 9]\n",
      "[0, 1, 2, 2, 3, 5, 7, 7, 10]\n",
      "[0, 1, 2, 2, 3, 4, 5, 6, 7, 7, 9, 10]\n",
      "[1, 2, 2, 3, 3, 4, 5, 5, 6, 6, 7, 8, 9, 10, 10]\n",
      "[0, 1, 2, 3, 3, 5, 6, 6, 7, 7, 7, 8, 8, 8, 9, 9, 9, 10]\n",
      "[1, 1, 2, 2, 2, 2, 3, 3, 3, 4, 4, 5, 5, 5, 5, 7, 8, 8, 8, 9, 10]\n",
      "[0, 0, 1, 1, 1, 2, 2, 2, 3, 3, 4, 4, 5, 5, 6, 7, 7, 8, 8, 8, 8, 9, 10, 10]\n",
      "[0, 0, 0, 0, 0, 0, 1, 1, 1, 1, 1, 3, 3, 4, 5, 5, 6, 7, 7, 8, 9, 9, 9, 9, 9, 10, 10]\n"
     ]
    }
   ],
   "source": [
    "for i in range(10):\n",
    "    head = random_linked_list(size=3 * i, r=10)\n",
    "    head = mergesort_recursive(head)\n",
    "    print_list(head)"
   ]
  },
  {
   "cell_type": "code",
   "execution_count": 10,
   "metadata": {
    "collapsed": false
   },
   "outputs": [
    {
     "name": "stdout",
     "output_type": "stream",
     "text": [
      "[]\n",
      "[7, 7, 9]\n",
      "[0, 0, 6, 8, 8, 9]\n",
      "[0, 3, 4, 6, 6, 8, 8, 9, 9]\n",
      "[0, 1, 2, 2, 2, 2, 4, 6, 6, 9, 9, 9]\n",
      "[2, 2, 3, 4, 4, 5, 5, 6, 6, 7, 8, 8, 9, 10, 10]\n",
      "[1, 1, 1, 2, 2, 3, 3, 4, 5, 5, 5, 6, 6, 6, 7, 7, 8, 9]\n",
      "[0, 0, 1, 1, 1, 1, 2, 2, 2, 3, 4, 5, 5, 5, 5, 6, 7, 7, 7, 8, 9]\n",
      "[0, 0, 1, 2, 3, 3, 4, 4, 4, 4, 5, 5, 7, 7, 8, 8, 9, 9, 9, 9, 9, 9, 9, 10]\n",
      "[0, 0, 1, 1, 1, 2, 2, 2, 2, 2, 3, 3, 3, 4, 4, 4, 4, 5, 6, 7, 7, 7, 8, 9, 9, 9, 9]\n"
     ]
    }
   ],
   "source": [
    "for i in range(10):\n",
    "    head = random_linked_list(size=3 * i, r=10)\n",
    "    head = mergesort_iterative(head)\n",
    "    print_list(head)"
   ]
  }
 ],
 "metadata": {
  "kernelspec": {
   "display_name": "Python 3",
   "language": "python",
   "name": "python3"
  },
  "language_info": {
   "codemirror_mode": {
    "name": "ipython",
    "version": 3
   },
   "file_extension": ".py",
   "mimetype": "text/x-python",
   "name": "python",
   "nbconvert_exporter": "python",
   "pygments_lexer": "ipython3",
   "version": "3.6.5"
  }
 },
 "nbformat": 4,
 "nbformat_minor": 2
}
