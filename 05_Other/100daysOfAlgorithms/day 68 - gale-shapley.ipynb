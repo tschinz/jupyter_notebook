{
 "cells": [
  {
   "cell_type": "markdown",
   "metadata": {},
   "source": [
    "# Gale-Shapley\n",
    "I was a fresh undergraduate, it was our very first lecture of programming [in Pascal] and [stable marriage problem](https://en.wikipedia.org/wiki/Stable_marriage_problem) was the first thing we were taught.\n",
    "\n",
    "The teacher had his own special style of teaching, changing problem terminology to m**chos and b**ches and we were shocked. Yet, it probably worked, I still remember the lesson even today.\n",
    "\n",
    "There is a group of men and group of women seeking for a partner. Each man and each woman has own preferences and the goal is to find a stable matching. The matching is called stable if neither one of pair can change partner such that both partners in a new pair would gain in their preferences.\n",
    "\n",
    "```\n",
    "Adam prefers Alice\n",
    "Bob prefers Alice\n",
    "Alice prefers Bob\n",
    "Betty prefers Adam\n",
    "\n",
    "unstable: Adam-Alice, Bob-Betty\n",
    "stable: Adam-Betty, Bob-Alice\n",
    "```\n",
    "\n",
    "The algorithm is actually pretty easy.\n",
    "\n",
    "Pair each man with a woman according to man’s preferences. If a woman has already been in pair, but could gain by another man’s proposal, release the original pair and make a new one.\n",
    "\n",
    "The difficult part is to prove the correctness. If this problem seems like searching for [Nash equilibrium](https://en.wikipedia.org/wiki/Nash_equilibrium), you’re right. That’s the kind of thing people receive a Nobel prize for."
   ]
  },
  {
   "cell_type": "code",
   "execution_count": 1,
   "metadata": {
    "collapsed": true
   },
   "outputs": [],
   "source": [
    "from collections import deque, defaultdict"
   ]
  },
  {
   "cell_type": "markdown",
   "metadata": {},
   "source": [
    "## algorithm"
   ]
  },
  {
   "cell_type": "code",
   "execution_count": 2,
   "metadata": {
    "collapsed": true
   },
   "outputs": [],
   "source": [
    "def stable_match(men, women):\n",
    "    free_men = deque(men)\n",
    "    engaged = defaultdict(lambda: None)\n",
    "\n",
    "    while free_men:\n",
    "        i = free_men.popleft()\n",
    "\n",
    "        # man proposes women according his preferences\n",
    "        for j in men[i]:\n",
    "            preference = women[j].index\n",
    "            fiance = engaged[j]\n",
    "\n",
    "            # woman accepts the better offer\n",
    "            if not fiance or preference(i) < preference(fiance):\n",
    "                engaged[j] = i\n",
    "                fiance and free_men.append(fiance)\n",
    "                break\n",
    "\n",
    "    return [(m, w) for w, m in engaged.items()]"
   ]
  },
  {
   "cell_type": "markdown",
   "metadata": {},
   "source": [
    "## run"
   ]
  },
  {
   "cell_type": "code",
   "execution_count": 3,
   "metadata": {
    "collapsed": true
   },
   "outputs": [],
   "source": [
    "men = {\n",
    "    'adam': ['claire', 'diana'],\n",
    "    'bob': ['diana', 'claire'],\n",
    "}\n",
    "women = {\n",
    "    'claire': ['bob', 'adam'],\n",
    "    'diana': ['adam', 'bob'],\n",
    "}"
   ]
  },
  {
   "cell_type": "code",
   "execution_count": 4,
   "metadata": {
    "collapsed": false
   },
   "outputs": [
    {
     "data": {
      "text/plain": [
       "[('adam', 'claire'), ('bob', 'diana')]"
      ]
     },
     "execution_count": 4,
     "metadata": {},
     "output_type": "execute_result"
    }
   ],
   "source": [
    "stable_match(men, women)"
   ]
  },
  {
   "cell_type": "code",
   "execution_count": 5,
   "metadata": {
    "collapsed": true
   },
   "outputs": [],
   "source": [
    "men = {\n",
    "    'adam': ['betty', 'claire', 'diana'],\n",
    "    'bob': ['betty', 'claire', 'diana'],\n",
    "    'charlie': ['betty', 'claire', 'diana'],\n",
    "}\n",
    "women = {\n",
    "    'betty': ['charlie', 'bob', 'adam'],\n",
    "    'claire': ['charlie', 'bob', 'adam'],\n",
    "    'diana': ['charlie', 'bob', 'adam'],\n",
    "}"
   ]
  },
  {
   "cell_type": "code",
   "execution_count": 6,
   "metadata": {
    "collapsed": false
   },
   "outputs": [
    {
     "data": {
      "text/plain": [
       "[('charlie', 'betty'), ('bob', 'claire'), ('adam', 'diana')]"
      ]
     },
     "execution_count": 6,
     "metadata": {},
     "output_type": "execute_result"
    }
   ],
   "source": [
    "stable_match(men, women)"
   ]
  },
  {
   "cell_type": "code",
   "execution_count": 7,
   "metadata": {
    "collapsed": false
   },
   "outputs": [],
   "source": [
    "men = {\n",
    "    'adam': ['diana', 'alice', 'betty', 'claire'],\n",
    "    'bob': ['betty', 'claire', 'alice', 'diana'],\n",
    "    'charlie': ['betty', 'diana', 'claire', 'alice'],\n",
    "    'david': ['claire', 'alice', 'diana', 'betty'],\n",
    "}\n",
    "women = {\n",
    "    'alice': ['david', 'adam', 'charlie', 'bob'],\n",
    "    'betty': ['adam', 'charlie', 'bob', 'david'],\n",
    "    'claire': ['adam', 'bob', 'charlie', 'david'],\n",
    "    'diana': ['david', 'adam', 'charlie', 'bob'],\n",
    "}"
   ]
  },
  {
   "cell_type": "code",
   "execution_count": 8,
   "metadata": {
    "collapsed": false
   },
   "outputs": [
    {
     "data": {
      "text/plain": [
       "[('adam', 'diana'),\n",
       " ('charlie', 'betty'),\n",
       " ('bob', 'claire'),\n",
       " ('david', 'alice')]"
      ]
     },
     "execution_count": 8,
     "metadata": {},
     "output_type": "execute_result"
    }
   ],
   "source": [
    "stable_match(men, women)"
   ]
  }
 ],
 "metadata": {
  "kernelspec": {
   "display_name": "Python 3",
   "language": "python",
   "name": "python3"
  },
  "language_info": {
   "codemirror_mode": {
    "name": "ipython",
    "version": 3
   },
   "file_extension": ".py",
   "mimetype": "text/x-python",
   "name": "python",
   "nbconvert_exporter": "python",
   "pygments_lexer": "ipython3",
   "version": "3.6.5"
  }
 },
 "nbformat": 4,
 "nbformat_minor": 2
}
