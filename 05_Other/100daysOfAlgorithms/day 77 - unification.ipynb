{
 "cells": [
  {
   "cell_type": "markdown",
   "metadata": {},
   "source": [
    "# Unification\n",
    "For today I have something really cool. It’s a [unification](https://en.wikipedia.org/wiki/Unification_%28computer_science%29) process and it will allow me to write a mind-bending function. If you have programmed in [Prolog](https://en.wikipedia.org/wiki/Prolog) before, you know where I am heading, right?\n",
    "\n",
    "But first, what is unification? It is similar to equality, but it is a much deeper concept and I will be a little bit formal, now.\n",
    "\n",
    "Equality says that two objects `X` and `Y` are equal, `X=Y`, if and only if they both belong to the same equality class `E`. Or should I say, equality is a property of an object `X` and means `X` belongs to class `E`.\n",
    "\n",
    "Unification, on the other hand, says that two objects `X` and `Y` are unified, `X=Y`, if and only if they both represent the same entity.\n",
    "\n",
    "In advance, unification brings a concept of free and bound variables. Free variable can be always unified [even to self] and bound variable can be unified only if its bound value can be unified.\n",
    "\n",
    "It’s probably easier to show some examples. `X` and `Y` denote free variables.\n",
    "\n",
    "```\n",
    "1 = 1    # unifiable\n",
    "1 = 2    # not unifiable\n",
    "\n",
    "X = 1, Y = 1, X = Y    # unifiable\n",
    "X = 1, Y = 2, X = Y    # not unifiable\n",
    "\n",
    "(X, Y) = (1, (2, 3))   # unifiable for X=1, Y=(2,3)\n",
    "\n",
    "X = (1, X)    # tricky one...\n",
    "```\n",
    "\n",
    "For my purpose, I will only support these Python types:\n",
    "\n",
    "* integer — represents atomic value\n",
    "* string — represents variable\n",
    "* tuple — represents compound structure\n",
    "\n",
    "I will also represent lists using nested tuples, e.g. `(1, (2, (3, tuple())))` is a list of values `[1, 2, 3]`.\n",
    "\n",
    "## concatenation\n",
    "\n",
    "Now I can implement a function to concatenate two lists using recursive definition.\n",
    "\n",
    "conc(PREFIX, SUFFIX, RESULT)\n",
    "\n",
    "* if PREFIX is empty, SUFFIX is RESULT\n",
    "* otherwise RESULT is the head of PREFIX followed by concatenation of PREFIX tail with SUFFIX\n",
    "\n",
    "```\n",
    "unify = Unify()\n",
    "EMPTY = tuple()\n",
    "\n",
    "def conc(PREFIX, SUFFIX, RESULT):\n",
    "    HEAD, TAIL, CONC = unify.variable('HEAD', 'TAIL', 'CONC')\n",
    "\n",
    "    with unify:\n",
    "        unify(PREFIX, EMPTY) and unify(SUFFIX, RESULT)\n",
    "        yield\n",
    "\n",
    "    with unify:\n",
    "        unify(PREFIX, (HEAD, TAIL)) and unify(RESULT, (HEAD, CONC))\n",
    "        yield from conc(TAIL, SUFFIX, CONC)\n",
    "```\n",
    "\n",
    "Let’s give it a try. Remember that string represents a free variable.\n",
    "\n",
    "```\n",
    "prefix = (1, (2, EMPTY))\n",
    "suffix = (3, (4, EMPTY))\n",
    "\n",
    "for _ in conc(prefix, suffix, 'RESULT'):\n",
    "    print(unify['RESULT'])\n",
    "\n",
    ">>>\n",
    "\n",
    "(1, (2, (3, (4, ()))))\n",
    "```\n",
    "\n",
    "Sooo… I have written 100+ lines to just append one list to another? In which way is this cool?\n",
    "\n",
    "What about this one.\n",
    "\n",
    "```\n",
    "prefix = (1, (2, EMPTY))\n",
    "result = (1, (2, (3, (4, EMPTY))))\n",
    "\n",
    "for _ in conc(prefix, 'SUFFIX', result):\n",
    "    print(unify['SUFFIX'])\n",
    "\n",
    ">>>\n",
    "\n",
    "(3, (4, ()))\n",
    "```\n",
    "\n",
    "I asked what do I need to append to `[1, 2]` to get `[1, 2, 3, 4]` and the same function gave me an answer `[3, 4]`!\n",
    "\n",
    "What about something even more cool?\n",
    "\n",
    "```\n",
    "result = (1, (2, (3, (4, EMPTY))))\n",
    "\n",
    "for _ in conc('PREFIX', 'SUFFIX', result):\n",
    "    print('possible answer is', unify['PREFIX'], \n",
    "          'and', unify['SUFFIX'])\n",
    "\n",
    ">>>\n",
    "\n",
    "possible answer is () and (1, (2, (3, (4, ()))))\n",
    "possible answer is (1, ()) and (2, (3, (4, ())))\n",
    "possible answer is (1, (2, ())) and (3, (4, ()))\n",
    "possible answer is (1, (2, (3, ()))) and (4, ())\n",
    "possible answer is (1, (2, (3, (4, ())))) and ()\n",
    "```\n",
    "\n",
    "I only know the result is `[1, 2, 3, 4]`, what did I concatenated? And it gave me all the possible answers!\n",
    "\n",
    "And here’s the killer.\n",
    "\n",
    "If I don’t know neither prefix nor suffix nor result, the answer is rather intriguing. I get all the possible lists… until stack overflow stops the fun.\n",
    "\n",
    "```\n",
    "for _ in conc('PREFIX', 'SUFFIX', 'RESULT'):\n",
    "    print('PREFIX =', unify['PREFIX'])\n",
    "    print('SUFFIX =', unify['SUFFIX'])\n",
    "    print('RESULT =', unify['RESULT'])\n",
    "    print()\n",
    "\n",
    ">>>\n",
    "\n",
    "PREFIX = ()\n",
    "SUFFIX = RESULT\n",
    "RESULT = RESULT\n",
    "\n",
    "PREFIX = ('HEAD_18', ())\n",
    "SUFFIX = CONC_18\n",
    "RESULT = ('HEAD_18', 'CONC_18')\n",
    "\n",
    "PREFIX = ('HEAD_18', ('HEAD_19', ()))\n",
    "SUFFIX = CONC_19\n",
    "RESULT = ('HEAD_18', ('HEAD_19', 'CONC_19'))\n",
    "\n",
    "PREFIX = ('HEAD_18', ('HEAD_19', ('HEAD_20', ())))\n",
    "SUFFIX = CONC_20\n",
    "RESULT = ('HEAD_18', ('HEAD_19', ('HEAD_20', 'CONC_20')))\n",
    "\n",
    "...\n",
    "```"
   ]
  },
  {
   "cell_type": "markdown",
   "metadata": {},
   "source": [
    "## algorithm"
   ]
  },
  {
   "cell_type": "code",
   "execution_count": 1,
   "metadata": {
    "collapsed": false
   },
   "outputs": [],
   "source": [
    "class Unify:\n",
    "    \n",
    "    def __init__(self):\n",
    "        self.reference = {}   # variable bindings\n",
    "        self.checkpoint = []  # unification checkpoints\n",
    "        self.var_ctx = 0      # unique variable id\n",
    "\n",
    "    def variable(self, *args):\n",
    "        self.var_ctx += 1\n",
    "        return ['%s_%d' % (var, self.var_ctx) for var in args]\n",
    "\n",
    "    def __call__(self, var_x, var_y):\n",
    "        # resolve variable X\n",
    "        while isinstance(var_x, str) and var_x in self.reference:\n",
    "            var_x = self.reference[var_x]\n",
    "\n",
    "        # resolve variable Y\n",
    "        while isinstance(var_y, str) and var_y in self.reference:\n",
    "            var_y = self.reference[var_y]\n",
    "\n",
    "        # unified to self?\n",
    "        if isinstance(var_x, str) and isinstance(var_y, str):\n",
    "            if var_x == var_y:\n",
    "                return True\n",
    "\n",
    "        # unify free variable X\n",
    "        if isinstance(var_x, str):\n",
    "            self.reference[var_x] = var_y\n",
    "            self.checkpoint[-1].append(var_x)\n",
    "            return True\n",
    "\n",
    "        # unify free variable Y\n",
    "        if isinstance(var_y, str):\n",
    "            self.reference[var_y] = var_x\n",
    "            self.checkpoint[-1].append(var_y)\n",
    "            return True\n",
    "\n",
    "        # tuple is unified element-wise\n",
    "        if isinstance(var_x, tuple) and isinstance(var_y, tuple):\n",
    "            if len(var_x) == len(var_y):\n",
    "                return all(self(i, j) for i, j in zip(var_x, var_y))\n",
    "\n",
    "        # atom is unified on equality\n",
    "        if isinstance(var_x, int) and isinstance(var_y, int):\n",
    "            if var_x == var_y:\n",
    "                return True\n",
    "\n",
    "        # not unifiable\n",
    "        raise KeyError()\n",
    "\n",
    "    def __getitem__(self, var):\n",
    "        # resolve tuple by members\n",
    "        if isinstance(var, tuple):\n",
    "            return tuple(self[i] for i in var)\n",
    "\n",
    "        # resolve variable recursively\n",
    "        if isinstance(var, str):\n",
    "            if var in self.reference:\n",
    "                return self[self.reference[var]]\n",
    "            return var\n",
    "\n",
    "        # atomic value\n",
    "        if isinstance(var, int):\n",
    "            return var\n",
    "\n",
    "        # invalid object\n",
    "        raise TypeError()\n",
    "\n",
    "    def __enter__(self):\n",
    "        # store unification checkpoint\n",
    "        self.checkpoint.append([])\n",
    "\n",
    "    def __exit__(self, exc_type, *args):\n",
    "        # remove checkpoint and unbind variables\n",
    "        for var in self.checkpoint.pop():\n",
    "            if var in self.reference:\n",
    "                del self.reference[var]\n",
    "\n",
    "        # suppress exception\n",
    "        if exc_type is not GeneratorExit:\n",
    "            return True"
   ]
  },
  {
   "cell_type": "code",
   "execution_count": 2,
   "metadata": {
    "collapsed": true
   },
   "outputs": [],
   "source": [
    "def conc(PREFIX, SUFFIX, RESULT):\n",
    "    HEAD, TAIL, CONC = unify.variable('HEAD', 'TAIL', 'CONC')\n",
    "\n",
    "    with unify:\n",
    "        unify(PREFIX, EMPTY) and unify(SUFFIX, RESULT)\n",
    "        yield\n",
    "\n",
    "    with unify:\n",
    "        unify(PREFIX, (HEAD, TAIL)) and unify(RESULT, (HEAD, CONC))\n",
    "        yield from conc(TAIL, SUFFIX, CONC)"
   ]
  },
  {
   "cell_type": "markdown",
   "metadata": {},
   "source": [
    "## run"
   ]
  },
  {
   "cell_type": "code",
   "execution_count": 3,
   "metadata": {
    "collapsed": false
   },
   "outputs": [],
   "source": [
    "unify = Unify()"
   ]
  },
  {
   "cell_type": "code",
   "execution_count": 4,
   "metadata": {
    "collapsed": true
   },
   "outputs": [],
   "source": [
    "EMPTY = tuple()\n",
    "prefix = (1, (2, EMPTY))\n",
    "suffix = (3, (4, EMPTY))\n",
    "result = (1, (2, (3, (4, EMPTY))))"
   ]
  },
  {
   "cell_type": "markdown",
   "metadata": {},
   "source": [
    "#### concatenate PREFIX and SUFFIX"
   ]
  },
  {
   "cell_type": "code",
   "execution_count": 5,
   "metadata": {
    "collapsed": false
   },
   "outputs": [
    {
     "name": "stdout",
     "output_type": "stream",
     "text": [
      "(1, (2, (3, (4, ()))))\n"
     ]
    }
   ],
   "source": [
    "for _ in conc(prefix, suffix, 'RESULT'):\n",
    "    print(unify['RESULT'])"
   ]
  },
  {
   "cell_type": "markdown",
   "metadata": {},
   "source": [
    "#### what was concatenated to PREFIX if RESULT is this?"
   ]
  },
  {
   "cell_type": "code",
   "execution_count": 6,
   "metadata": {
    "collapsed": false
   },
   "outputs": [
    {
     "name": "stdout",
     "output_type": "stream",
     "text": [
      "(3, (4, ()))\n"
     ]
    }
   ],
   "source": [
    "for _ in conc(prefix, 'SUFFIX', result):\n",
    "    print(unify['SUFFIX'])"
   ]
  },
  {
   "cell_type": "markdown",
   "metadata": {},
   "source": [
    "#### this is super cool! if RESULT is this, what was PREFIX and SUFFIX?"
   ]
  },
  {
   "cell_type": "code",
   "execution_count": 7,
   "metadata": {
    "collapsed": false
   },
   "outputs": [
    {
     "name": "stdout",
     "output_type": "stream",
     "text": [
      "possible answer is () and (1, (2, (3, (4, ()))))\n",
      "possible answer is (1, ()) and (2, (3, (4, ())))\n",
      "possible answer is (1, (2, ())) and (3, (4, ()))\n",
      "possible answer is (1, (2, (3, ()))) and (4, ())\n",
      "possible answer is (1, (2, (3, (4, ())))) and ()\n"
     ]
    }
   ],
   "source": [
    "for _ in conc('PREFIX', 'SUFFIX', result):\n",
    "    print('possible answer is', unify['PREFIX'], 'and', unify['SUFFIX'])"
   ]
  },
  {
   "cell_type": "markdown",
   "metadata": {},
   "source": [
    "#### if PREFIX and SUFFIX are concatenated, would this be RESULT?"
   ]
  },
  {
   "cell_type": "code",
   "execution_count": 8,
   "metadata": {
    "collapsed": false
   },
   "outputs": [
    {
     "name": "stdout",
     "output_type": "stream",
     "text": [
      "yes\n"
     ]
    }
   ],
   "source": [
    "for _ in conc(prefix, suffix, result):\n",
    "    print('yes')\n",
    "    break\n",
    "else:\n",
    "    print('no')"
   ]
  },
  {
   "cell_type": "code",
   "execution_count": 9,
   "metadata": {
    "collapsed": false
   },
   "outputs": [
    {
     "name": "stdout",
     "output_type": "stream",
     "text": [
      "yes\n"
     ]
    }
   ],
   "source": [
    "for _ in conc(prefix, suffix, result):\n",
    "    print('yes')\n",
    "    break\n",
    "else:\n",
    "    print('no')"
   ]
  },
  {
   "cell_type": "markdown",
   "metadata": {},
   "source": [
    "## most people won't solve this one"
   ]
  },
  {
   "cell_type": "code",
   "execution_count": 10,
   "metadata": {
    "collapsed": false
   },
   "outputs": [
    {
     "name": "stdout",
     "output_type": "stream",
     "text": [
      "PREFIX = ()\n",
      "SUFFIX = RESULT\n",
      "RESULT = RESULT\n",
      "\n",
      "PREFIX = ('HEAD_18', ())\n",
      "SUFFIX = CONC_18\n",
      "RESULT = ('HEAD_18', 'CONC_18')\n",
      "\n",
      "PREFIX = ('HEAD_18', ('HEAD_19', ()))\n",
      "SUFFIX = CONC_19\n",
      "RESULT = ('HEAD_18', ('HEAD_19', 'CONC_19'))\n",
      "\n",
      "PREFIX = ('HEAD_18', ('HEAD_19', ('HEAD_20', ())))\n",
      "SUFFIX = CONC_20\n",
      "RESULT = ('HEAD_18', ('HEAD_19', ('HEAD_20', 'CONC_20')))\n",
      "\n",
      "PREFIX = ('HEAD_18', ('HEAD_19', ('HEAD_20', ('HEAD_21', ()))))\n",
      "SUFFIX = CONC_21\n",
      "RESULT = ('HEAD_18', ('HEAD_19', ('HEAD_20', ('HEAD_21', 'CONC_21'))))\n",
      "\n"
     ]
    }
   ],
   "source": [
    "for _ in zip(range(5), conc('PREFIX', 'SUFFIX', 'RESULT')):\n",
    "    print('PREFIX =', unify['PREFIX'])\n",
    "    print('SUFFIX =', unify['SUFFIX'])\n",
    "    print('RESULT =', unify['RESULT'])\n",
    "    print()"
   ]
  }
 ],
 "metadata": {
  "kernelspec": {
   "display_name": "Python 3",
   "language": "python",
   "name": "python3"
  },
  "language_info": {
   "codemirror_mode": {
    "name": "ipython",
    "version": 3
   },
   "file_extension": ".py",
   "mimetype": "text/x-python",
   "name": "python",
   "nbconvert_exporter": "python",
   "pygments_lexer": "ipython3",
   "version": "3.6.5"
  }
 },
 "nbformat": 4,
 "nbformat_minor": 2
}
