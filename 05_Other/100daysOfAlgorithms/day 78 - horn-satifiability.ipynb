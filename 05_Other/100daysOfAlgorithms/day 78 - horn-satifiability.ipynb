{
 "cells": [
  {
   "cell_type": "markdown",
   "metadata": {},
   "source": [
    "# Horn-satisfiability\n",
    "Yesterday I spent some time on [unification](https://en.wikipedia.org/wiki/Unification_%28computer_science%29) which is a building block of [Prolog](https://en.wikipedia.org/wiki/Prolog) programs. Another important concept used in Prolog is satisfiability of propositional formulae.\n",
    "\n",
    "In general, propositional formulae satisfiability, or SAT problem, is NP-complete and therefore provably intractable.\n",
    "\n",
    "Fortunately, there is a special case called [Horn satisfiability](https://en.wikipedia.org/wiki/Horn-satisfiability) which can be solved in linear time proportionally to number of occurrences of negative literals.\n",
    "\n",
    "Horn clause has a form `A & B & C … => P`, or equivalently can be written as `¬A ∨ ¬B ∨ ¬C ∨ … ∨ P`. Hence the formula in disjunctive form contains a finite set of negative literals and at most one positive literal. We usually recognize three kinds of formulae.\n",
    "\n",
    "* rule: `Q => P`\n",
    "* fact: `true => P`\n",
    "* goal: `P => false`\n",
    "\n",
    "Function `conc` I implemented yesterday can be written in logic like this.\n",
    "\n",
    "```\n",
    "X=.() & Y=Z => conc(X, Y, Z)\n",
    "X=.(H, T) & Z=.(H, S) & conc(T, S, Z) => conc(X, Y, Z)\n",
    "```\n",
    "\n",
    "To “call” this program we ask for satisfiability of this goal.\n",
    "\n",
    "```\n",
    "X=.(1, .()) & Y=.(2, .()) & conc(X, Y, Z) => false\n",
    "```\n",
    "\n",
    "And Prolog interpret will try to solve the problem and find the answer using proof by contradiction."
   ]
  },
  {
   "cell_type": "code",
   "execution_count": 1,
   "metadata": {
    "collapsed": true
   },
   "outputs": [],
   "source": [
    "from collections import defaultdict, deque"
   ]
  },
  {
   "cell_type": "markdown",
   "metadata": {},
   "source": [
    "## algorithm"
   ]
  },
  {
   "cell_type": "code",
   "execution_count": 2,
   "metadata": {
    "collapsed": true
   },
   "outputs": [],
   "source": [
    "def knowledge_base(formulas):\n",
    "    rules, variable, dependency = [], defaultdict(bool), defaultdict(list)\n",
    "\n",
    "    def _clause(formula):\n",
    "        # A, B, C => P\n",
    "        neg, pos = formula.replace(' ', '').split('=>')\n",
    "        neg, pos = set(neg.split('&')) - {''}, pos or None\n",
    "\n",
    "        # add rule\n",
    "        rules.append((neg, pos))\n",
    "        \n",
    "        # set variable and track dependencies\n",
    "        for i in neg:\n",
    "            dependency[i].append((neg, pos))\n",
    "\n",
    "    # parse formulas and build knowledge base\n",
    "    deque((_clause(i) for i in formulas.split('\\n') if i), 0)\n",
    "    \n",
    "    return rules, variable, dependency"
   ]
  },
  {
   "cell_type": "code",
   "execution_count": 3,
   "metadata": {
    "collapsed": true
   },
   "outputs": [],
   "source": [
    "def resolution(rules, variable, dependency):\n",
    "    # initial variables that have to be satisfied\n",
    "    to_satisfy = [(neg, pos) for neg, pos in rules if not neg]\n",
    "\n",
    "    while to_satisfy:\n",
    "        neg, pos = to_satisfy.pop()\n",
    "\n",
    "        # contradiction: true => false\n",
    "        if not pos:\n",
    "            return False\n",
    "\n",
    "        # satisfy variable\n",
    "        variable[pos] = True\n",
    "\n",
    "        # update dependent rules\n",
    "        for d_neg, d_pos in dependency[pos]:\n",
    "            d_neg.remove(pos)\n",
    "            \n",
    "            # next variable to be satisfied\n",
    "            if not d_neg and d_pos not in variable:\n",
    "                to_satisfy.append((d_neg, d_pos))\n",
    "\n",
    "    return True"
   ]
  },
  {
   "cell_type": "code",
   "execution_count": 4,
   "metadata": {
    "collapsed": true
   },
   "outputs": [],
   "source": [
    "def hornsat(formulas):\n",
    "    rules, variable, dependency = knowledge_base(formulas)\n",
    "    satisfiable = resolution(rules, variable, dependency)\n",
    "\n",
    "    print(['CONTRADICTION', 'SATISFIABLE'][satisfiable])\n",
    "    print(', '.join('%s=%s' % i for i in variable.items()))"
   ]
  },
  {
   "cell_type": "markdown",
   "metadata": {},
   "source": [
    "## run"
   ]
  },
  {
   "cell_type": "code",
   "execution_count": 5,
   "metadata": {
    "collapsed": false
   },
   "outputs": [
    {
     "name": "stdout",
     "output_type": "stream",
     "text": [
      "SATISFIABLE\n",
      "X=True, Y=True, Z=True\n"
     ]
    }
   ],
   "source": [
    "hornsat(\"\"\"\n",
    "X => Y\n",
    "Y => Z\n",
    "=> X\n",
    "\"\"\")"
   ]
  },
  {
   "cell_type": "code",
   "execution_count": 6,
   "metadata": {
    "collapsed": false
   },
   "outputs": [
    {
     "name": "stdout",
     "output_type": "stream",
     "text": [
      "CONTRADICTION\n",
      "X=True, Y=True\n"
     ]
    }
   ],
   "source": [
    "hornsat(\"\"\"\n",
    "X => Y\n",
    "Y => X\n",
    "=> X\n",
    "Y =>\n",
    "\"\"\")"
   ]
  },
  {
   "cell_type": "code",
   "execution_count": 7,
   "metadata": {
    "collapsed": false
   },
   "outputs": [
    {
     "name": "stdout",
     "output_type": "stream",
     "text": [
      "SATISFIABLE\n",
      "R=True, S=True, P=True\n"
     ]
    }
   ],
   "source": [
    "hornsat(\"\"\"\n",
    "P & Q & R & S => X\n",
    "P & Q => R\n",
    "R => S\n",
    "X =>\n",
    "=> P\n",
    "=> R\n",
    "\"\"\")"
   ]
  },
  {
   "cell_type": "code",
   "execution_count": 8,
   "metadata": {
    "collapsed": false
   },
   "outputs": [
    {
     "name": "stdout",
     "output_type": "stream",
     "text": [
      "CONTRADICTION\n",
      "Q=True, P=True, R=True, S=True, X=True\n"
     ]
    }
   ],
   "source": [
    "hornsat(\"\"\"\n",
    "P & Q & R & S => X\n",
    "P & Q => R\n",
    "R => S\n",
    "X =>\n",
    "=> P\n",
    "=> Q\n",
    "\"\"\")"
   ]
  }
 ],
 "metadata": {
  "kernelspec": {
   "display_name": "Python 3",
   "language": "python",
   "name": "python3"
  },
  "language_info": {
   "codemirror_mode": {
    "name": "ipython",
    "version": 3
   },
   "file_extension": ".py",
   "mimetype": "text/x-python",
   "name": "python",
   "nbconvert_exporter": "python",
   "pygments_lexer": "ipython3",
   "version": "3.6.5"
  }
 },
 "nbformat": 4,
 "nbformat_minor": 2
}
