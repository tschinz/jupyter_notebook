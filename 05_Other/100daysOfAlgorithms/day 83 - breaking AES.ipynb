{
 "cells": [
  {
   "cell_type": "markdown",
   "metadata": {},
   "source": [
    "# Breaking AES\n",
    "Two months ago I was [breaking OTP](https://medium.com/100-days-of-algorithms/day-15-breaking-otp-52a45c0fa6d4) cipher and today I am going to focus on a more sophisticated mechanism called [padding oracle](https://en.wikipedia.org/wiki/Padding_oracle_attack).\n",
    "\n",
    "AES is a mathematical function called [pseudo-random permutation](https://en.wikipedia.org/wiki/Pseudorandom_permutation). It works on a block of fixed size and produces another block of the same size that is computationally indistinguishable from random data.\n",
    "\n",
    "In case of AES-128 the block size is 16 bytes which I will consider as default.\n",
    "\n",
    "When you have less than 16 bytes, the missing part has to be padded. [PKCS #7](https://en.wikipedia.org/wiki/PKCS) is a standard that is often used and works as follows. If `P` bytes are missing in the block, byte `P` is appended `P`-times. It’s simple and fast.\n",
    "\n",
    "To encrypt a stream of data [instead of just 16 bytes], we need to use an encryption scheme. I conveniently chose AES-CBC.\n",
    "![day83-breaking_aes_1](resource/day83-breaking_aes_1.png)\n",
    "\n",
    "AES in CBC mode splits the stream into 16-byte blocks. Each block is encrypted using AES and the result is sent to output and XORed with the following block before it gets encrypted.\n",
    "\n",
    "I have used Python package PyCrypto to implement AES-CBC with PKCS #7 padding.\n",
    "\n",
    "Assuming that my function is secure, I created a simple service that receives encrypted JSON document. And if you look at the code it seems to be innocent. But you may notice that the service raises two kinds of exceptions.\n",
    "\n",
    "* `Exception` — if padding is corrupted\n",
    "* `ValueError` — if JSON is corrupted\n",
    "\n",
    "It might be surprising, but these two exceptions are as valuable as the secret key itself.\n",
    "![day83-breaking_aes_2](resource/day83-breaking_aes_2.png)\n",
    "\n",
    "Notice how decryption works. Adversary can’t see any of the decrypted blocks. But if she has a possibility to alter the ciphertext, she can also directly alter the plaintext [marked red on the picture].\n",
    "\n",
    "Let’s say adversary makes a guess that the last byte in message is `Y`. She can put `Y xor 1` into the preceding block and let the service decrypt the message. What happens?\n",
    "\n",
    "* `Y` is not the correct byte — `Exception` is raised since PKCS #7 padding is corrupted\n",
    "* `Y` is the correct byte — `ValueError` is raised since is padding is ok, but JSON is now corrupted\n",
    "\n",
    "If we progress backwards through the message, the service acting as an oracle quickly reveals the full plaintext by confirming the correct bytes via `ValueError`.\n",
    "\n",
    "That’s just 128 trials per byte on average. If you know that the message is JSON, you need about 30 trials per byte on average. No need for the secret key."
   ]
  },
  {
   "cell_type": "code",
   "execution_count": 1,
   "metadata": {
    "collapsed": true
   },
   "outputs": [],
   "source": [
    "from Crypto import Random\n",
    "from Crypto.Cipher import AES"
   ]
  },
  {
   "cell_type": "markdown",
   "metadata": {},
   "source": [
    "## AES-CBC"
   ]
  },
  {
   "cell_type": "code",
   "execution_count": 2,
   "metadata": {
    "collapsed": true
   },
   "outputs": [],
   "source": [
    "def encrypt(plaintext):\n",
    "    # initialize AES\n",
    "    random = Random.new()\n",
    "    iv = random.read(16)\n",
    "    key = random.read(16)\n",
    "    aes = AES.new(key, AES.MODE_CBC, iv)\n",
    "\n",
    "    # add PKCS#7 padding\n",
    "    pad = 16 - len(plaintext) % 16\n",
    "    plaintext += bytes([pad] * pad)\n",
    "    \n",
    "    # encrypt\n",
    "    ciphertext = iv + aes.encrypt(plaintext)\n",
    "\n",
    "    return key, ciphertext"
   ]
  },
  {
   "cell_type": "code",
   "execution_count": 3,
   "metadata": {
    "collapsed": true
   },
   "outputs": [],
   "source": [
    "def decrypt(ciphertext, key):\n",
    "    # initialize AES\n",
    "    iv = ciphertext[:16]\n",
    "    aes = AES.new(key, AES.MODE_CBC, iv)\n",
    "\n",
    "    # decrypt\n",
    "    plaintext = aes.decrypt(ciphertext[16:])\n",
    "    \n",
    "    # check PKCS#7 padding\n",
    "    pad = plaintext[-1]\n",
    "    if pad not in range(1, 17):\n",
    "        raise Exception()\n",
    "    if plaintext[-pad:] != bytes([pad] * pad):\n",
    "        raise Exception()\n",
    "\n",
    "    # remove padding\n",
    "    return plaintext[:-pad]"
   ]
  },
  {
   "cell_type": "markdown",
   "metadata": {},
   "source": [
    "## secure service"
   ]
  },
  {
   "cell_type": "code",
   "execution_count": 4,
   "metadata": {
    "collapsed": true
   },
   "outputs": [],
   "source": [
    "def secure_service(message):\n",
    "    secret_key = b'\\xed\\xcc\\xb5\\x8a\\xf4\\x8f\\xd9\\x1e\\x1bS\\xce~p\\xa2s\\xcc'\n",
    "\n",
    "    # decrypt message\n",
    "    plaintext = decrypt(message, secret_key)\n",
    "\n",
    "    # process message\n",
    "    try:\n",
    "        from json import loads\n",
    "        print('ACK', loads(plaintext))\n",
    "    except Exception:\n",
    "        raise ValueError()"
   ]
  },
  {
   "cell_type": "markdown",
   "metadata": {},
   "source": [
    "## adversarial client"
   ]
  },
  {
   "cell_type": "code",
   "execution_count": 5,
   "metadata": {
    "collapsed": false
   },
   "outputs": [],
   "source": [
    "def attack(message):\n",
    "    reconstructed = b''\n",
    "\n",
    "    while len(message) >= 32:\n",
    "        # retrieved block\n",
    "        block = [0] * 16\n",
    "\n",
    "        # byte in block\n",
    "        for i in range(1, 17):\n",
    "            # PKCS#7 padding\n",
    "            pad = [0] * (16 - i) + [i] * i\n",
    "\n",
    "            for x in range(256):\n",
    "                # tested byte\n",
    "                block[-i] = x\n",
    "                if x == i:\n",
    "                    continue\n",
    "                \n",
    "                # alter message\n",
    "                test = bytearray(message)\n",
    "                for j in range(16):\n",
    "                    test[-32 + j] ^= block[j] ^ pad[j]\n",
    "                test = bytes(test)\n",
    "\n",
    "                try:\n",
    "                    # call service\n",
    "                    secure_service(test)\n",
    "                except ValueError as e:\n",
    "                    break  # incorrect content\n",
    "                except Exception as e:\n",
    "                    pass   # incorrect padding\n",
    "            else:\n",
    "                block[-i] = i\n",
    "\n",
    "        # store retrieved block and continue\n",
    "        reconstructed = bytes(block) + reconstructed\n",
    "        message = message[:-16]\n",
    "\n",
    "    return reconstructed"
   ]
  },
  {
   "cell_type": "code",
   "execution_count": 6,
   "metadata": {
    "collapsed": true
   },
   "outputs": [],
   "source": [
    "intercepted_message = b'\\xd97\\xea\\xc8\\xfe\\xdf\\x06\\xf7b3\\x16UG\\xd5#>\\xa8\\x1c.l\\xf1+\\xc9H\\xbd\\xb1\\x91\\x90\\xc0\\xac?\\x92\\x1c\\xa0\\x08\\xc7d/\\x10\\xe6\\xae\\xe0 F\\x1a\\x13\\xc1\\xb0\\xf0,\\xd7\\xb9\\xca\\xfb\\xde\\x13\\xa5\\xfd92\\xff*\\x17\\xbc\\x8f\\xd3Z\\xe81\\x8f\\x1c\\xb4\\x17@\\xeb5\\t\\xa4\\x16\\xb2\\x07\\x06\\xd6\\x83x\\xac\\xf3\\xc9\\xb2\\xb7\\xf6Q3\\xc0\\x7f\\x92\\xd4p\\xfeV\\xad{\\xc7(}\\x8f[L>\\x08\\xab\\xfe'"
   ]
  },
  {
   "cell_type": "code",
   "execution_count": 7,
   "metadata": {
    "collapsed": false
   },
   "outputs": [
    {
     "data": {
      "text/plain": [
       "b'{\"user\":\"John Doe\",\"message\":\"and what is your favorite way to screw your security up?\"}\\x08\\x08\\x08\\x08\\x08\\x08\\x08\\x08'"
      ]
     },
     "execution_count": 7,
     "metadata": {},
     "output_type": "execute_result"
    }
   ],
   "source": [
    "attack(intercepted_message)"
   ]
  }
 ],
 "metadata": {
  "kernelspec": {
   "display_name": "Python 3",
   "language": "python",
   "name": "python3"
  },
  "language_info": {
   "codemirror_mode": {
    "name": "ipython",
    "version": 3
   },
   "file_extension": ".py",
   "mimetype": "text/x-python",
   "name": "python",
   "nbconvert_exporter": "python",
   "pygments_lexer": "ipython3",
   "version": "3.6.5"
  }
 },
 "nbformat": 4,
 "nbformat_minor": 2
}
