{
 "cells": [
  {
   "cell_type": "markdown",
   "metadata": {},
   "source": [
    "# Variations\n",
    "Take all the natural numbers in which each digit occurs at most once and sort them in the ascending order. Given this ordering, write two functions: **(1) order->number**: find a number `N` at index `I`, **(2) number->order**: find an index `I` of number `N`.\n",
    "\n",
    "Notes: (a) zero is a natural number, (b) consider index to be zero-based\n",
    "left column: index, right column: number\n",
    "\n",
    "![day91-variations](resource/day91-variations.png)\n",
    "\n",
    "I drew this problem when I was at my very first exam at university. This exam was also the very first I failed in and had to repeat few weeks later. Almost 20 years later, I would like to give myself a second chance.\n",
    "\n",
    "Could a viable solution be to generate all the variations and sort them out? Well, there are 8,877,691 variations and machine was 386 with 1MB of memory. Remind me, how big the data has to be to call them [Big data](https://en.wikipedia.org/wiki/Big_data)?\n",
    "\n",
    "This is clearly a combinatorial problem and requires a little bit of thinking and a lots of counting.\n",
    "\n",
    "I tried to avoid most of built-in functions except for a fixed `list`, which is easy to implement even in Pascal. But still, I have a feeling that my solution is too complicated. Did I miss something?"
   ]
  },
  {
   "cell_type": "code",
   "execution_count": 1,
   "metadata": {
    "collapsed": true
   },
   "outputs": [],
   "source": [
    "from random import randrange"
   ]
  },
  {
   "cell_type": "markdown",
   "metadata": {},
   "source": [
    "## algorithm"
   ]
  },
  {
   "cell_type": "code",
   "execution_count": 2,
   "metadata": {
    "collapsed": true
   },
   "outputs": [],
   "source": [
    "def ffact(n, k, _cache={}):\n",
    "    if (n, k) not in _cache:\n",
    "        f = 1\n",
    "        for i in range(k):\n",
    "            f *= n - i\n",
    "        \n",
    "        _cache[n, k] = f\n",
    "        \n",
    "    return _cache[n, k]"
   ]
  },
  {
   "cell_type": "code",
   "execution_count": 3,
   "metadata": {
    "collapsed": true
   },
   "outputs": [],
   "source": [
    "def variation_to_order(variation):\n",
    "    alphabet = list('0123456789')\n",
    "    n = len(variation)\n",
    "\n",
    "    order = 1\n",
    "    order -= ffact(9, n - 1)\n",
    "    for i in range(1, n):\n",
    "        order += ffact(10, i) - ffact(9, i - 1)\n",
    "\n",
    "    for i in range(n):\n",
    "        index = alphabet.index(variation[i])\n",
    "        order += index * ffact(9 - i, n - i - 1)\n",
    "        del alphabet[index]\n",
    "\n",
    "    return order"
   ]
  },
  {
   "cell_type": "code",
   "execution_count": 4,
   "metadata": {
    "collapsed": true
   },
   "outputs": [],
   "source": [
    "def order_to_variation(order):\n",
    "    for n in range(1, 11):\n",
    "        k = ffact(10, n) - ffact(9, n - 1)\n",
    "        if k >= order:\n",
    "            break\n",
    "        order -= k\n",
    "\n",
    "    order -= (n != 1)\n",
    "    alphabet = list('0123456789')\n",
    "    variation = ''\n",
    "\n",
    "    for i in range(n):\n",
    "        k = ffact(9 - i, n - i - 1)\n",
    "        index = order // k + (i == 0) - (n == 1)\n",
    "        order %= k\n",
    "        variation += alphabet[index]\n",
    "        del alphabet[index]\n",
    "\n",
    "    return variation"
   ]
  },
  {
   "cell_type": "markdown",
   "metadata": {},
   "source": [
    "## run"
   ]
  },
  {
   "cell_type": "code",
   "execution_count": 5,
   "metadata": {
    "collapsed": false
   },
   "outputs": [
    {
     "data": {
      "text/plain": [
       "8877690"
      ]
     },
     "execution_count": 5,
     "metadata": {},
     "output_type": "execute_result"
    }
   ],
   "source": [
    "variation_to_order('9876543210')"
   ]
  },
  {
   "cell_type": "code",
   "execution_count": 7,
   "metadata": {
    "collapsed": false
   },
   "outputs": [
    {
     "name": "stdout",
     "output_type": "stream",
     "text": [
      " variation    order\n",
      "4839765012 ## 7002805\n",
      "3214679508 ## 6424239\n",
      " 209841365 ## 2748573\n",
      "5063784291 ## 7085338\n",
      "8693412570 ## 8431684\n",
      "  56481970 ## 1551448\n",
      "2780569413 ## 6247265\n",
      "   6973421 ## 530200\n",
      " 731940852 ## 4653711\n",
      " 931765084 ## 5379048\n"
     ]
    }
   ],
   "source": [
    "print(' variation    order')\n",
    "for _ in range(10):\n",
    "    i = randrange(8877691)\n",
    "    variation = order_to_variation(i)\n",
    "    order = variation_to_order(variation)\n",
    "    assert i == order\n",
    "    print('%10s ## %d' % (variation, order))"
   ]
  }
 ],
 "metadata": {
  "kernelspec": {
   "display_name": "Python 3",
   "language": "python",
   "name": "python3"
  },
  "language_info": {
   "codemirror_mode": {
    "name": "ipython",
    "version": 3
   },
   "file_extension": ".py",
   "mimetype": "text/x-python",
   "name": "python",
   "nbconvert_exporter": "python",
   "pygments_lexer": "ipython3",
   "version": "3.6.5"
  }
 },
 "nbformat": 4,
 "nbformat_minor": 2
}
