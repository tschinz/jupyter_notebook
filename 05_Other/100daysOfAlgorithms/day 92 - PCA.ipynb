{
 "cells": [
  {
   "cell_type": "markdown",
   "metadata": {},
   "source": [
    "# PCA\n",
    "[Principal Component Analysis](https://en.wikipedia.org/wiki/Principal_component_analysis) [PCA] is incredibly useful when you need [among others] to visualise high-dimensional data. It’s also very simple to implement, but requires plenty of work beforehand.\n",
    "\n",
    "A friend of mine, [Pavel](https://medium.com/@hanpari), has complained that I often don’t dive deep into the topic. And I hope that PCA will satisfy even such an eager mind.\n",
    "\n",
    "Let’s say we have a bunch of multi-dimensional data stored in a matrix `X`. Each row represents a sample, and each column represents a variable.\n",
    "\n",
    "We say that two variables are correlated if there is a linear relationship in between them. Their scatterplot may look similarly to this one.\n",
    "\n",
    "![day92-pca_1](resource/day92-pca_1.png)\n",
    "\n",
    "strongly correlated data\n",
    "\n",
    "On the other hand, the variables on the next scatterplot are uncorrelated.\n",
    "\n",
    "![day92-pca_2](resource/day92-pca_2.png)\n",
    "\n",
    "uncorrelated data\n",
    "\n",
    "While the first plot seems to be more useful, PCA takes the advantage of the second one.\n",
    "\n",
    "$\\Sigma_X=(X-\\mu_X)^T(X-\\mu_X)$\n",
    "\n",
    "$\\Sigma_XV=VA$\n",
    "\n",
    "$V^TV=E$\n",
    "\n",
    "To study these dependencies between variables, we use a [covariance matrix](https://en.wikipedia.org/wiki/Covariance_matrix). When data has no correlated variables, all off-diagonal elements of the $\\Sigma$ matrix must be zero.\n",
    "\n",
    "And as a side note, for any covariance matrix $\\Sigma$ there exists matrix $V$ called [eigenvector matrix](https://en.wikipedia.org/wiki/Eigenvalues_and_eigenvectors) and diagonal matrix $A$ called [eigenvalue matrix](https://en.wikipedia.org/wiki/Eigenvalues_and_eigenvectors), such that the expressions above hold. Both matrices are unique except for the order of columns.\n",
    "\n",
    "How does PCA work?\n",
    "\n",
    "$PCA(X)=(X-\\mu_X)P$\n",
    "\n",
    "PCA normalizes the data matrix $X$ to zero mean and then multiples by some matrix $P$. The multiplication is actually linear transformation of data. That means if we choose $P$ very carefully, we can either rotate, scale or project the data into vector subspace.\n",
    "\n",
    "$Z=PCA(X)=(X-\\mu_X)P$\n",
    "\n",
    "Say we have applied PCA to data matrix $X$ and received another matrix $Z$. What do we know about $\\Sigma$ matrix of $Z$?\n",
    "\n",
    "$\\Sigma_Z=[(X-\\mu_X)P]^T[(X-\\mu_X)P]$\n",
    "\n",
    "$\\Sigma_Z=P^T(X-\\mu_X)^T[(X-\\mu_X)P]$\n",
    "\n",
    "$\\Sigma_Z=P^T\\Sigma_XP$\n",
    "\n",
    "There is a [quadratic] relationship between both covariance matrices of $X$ and $Z$! And what happens if we choose P to be eigenvector matrix $V$ defined above?\n",
    "\n",
    "$\\Sigma_Z = V^T\\Sigma_XV=V^TVA=EA$\n",
    "\n",
    "$\\Sigma_Z = A$\n",
    "\n",
    "This means that the projected matrix $Z$ is uncorrelated and its variables have no longer any kind of linear dependency [because $A$ is diagonal matrix].\n",
    "\n",
    "Wait! What just happened?\n",
    "\n",
    "Let me show you an example and another point of view.\n",
    "\n",
    "![day92-pca_3](resource/day92-pca_3.png)\n",
    "\n",
    "first and second principal components\n",
    "\n",
    "PCA finds the **data mean** and **principal components**. In case of 2D data the principal components are axes **x** and **y** rotated to the point that the data became uncorrelated.\n",
    "\n",
    "There is also another term that is often used. We say that the **first principal** component is a rotation of **x-axis** to maximize the variance of the data projected onto it.\n",
    "\n",
    "![day92-pca_4](resource/day92-pca_4.png)\n",
    "\n",
    "PCA: data with maximum variance\n",
    "\n",
    "Is PCA just a rotation of coordinate systems? Why on earth should this have any use?\n",
    "\n",
    "If you look at the code below, I generate a set of binary vectors, and each vector has 30 dimensions. Is there any linear relationship in the data?\n",
    "\n",
    "```python\n",
    "X = np.random.rand(90, 30)\n",
    "X[:30, :] = X[:30, :] < ([.4] * 10 + [.1] * 10 + [.1] * 10)\n",
    "X[30:60, :] = X[30:60, :] < ([.1] * 10 + [.4] * 10 + [.1] * 10)\n",
    "X[60:, :] = X[60:, :] < ([.1] * 10 + [.1] * 10 + [.4] * 10)\n",
    "```\n",
    "\n",
    "Well, there is, because I generated the data to have one [while it may not be immediately obvious]. But in practice we do not know and would like to find out.\n",
    "\n",
    "In advance, each vector I generated sits in a corner of 30D unit cube and human brain can’t sort information of this kind.\n",
    "\n",
    "When we apply PCA to this data, all the variables become uncorrelated and the dimensions now hold as much information as possible independently of one another and in descending order.\n",
    "\n",
    "Also projection from 30D to 2D is now trivial — simply remove 28 trailing variables [because variables are independent] and plot the graph.\n",
    "\n",
    "![day92-pca_5](resource/day92-pca_5.png)\n",
    "\n",
    "PCA: 2D visualization of 30D data\n",
    "\n",
    "As you can see, the data projected from 30D onto 2D still contain the key information that I generated vectors of the same color to be close to each other. And each set of 30 vectors forms a nice cluster [but I need to say the reason behind is because I generated the data carefully to make such clusters].\n",
    "\n",
    "I wish a had more time. The last sample, corners of 30D unit cube, moves us to the most interesting topic, [latent factor](https://en.wikipedia.org/wiki/Factor_analysis) analysis, which offers another view on PCA and more advanced techniques.\n",
    "\n",
    "Anyways, how to implement PCA?\n",
    "\n",
    "$PCA(X) = (X-\\mu_X)P$\n",
    "\n",
    "$\\Sigma_X = (X-\\mu_X)^T(X-\\mu_X)$\n",
    "\n",
    "$\\Sigma_XV = VA$\n",
    "\n",
    "* normalize X to zero mean\n",
    "* calculate covariance matrix $\\Sigma$\n",
    "* find [orthonormal] eigenvectors of $\\Sigma$\n",
    "\n",
    "After a ton of paperwork, the algorithm is only on few lines of code. And you know, sometimes typing the code itself is the easiest part of all the work."
   ]
  },
  {
   "cell_type": "code",
   "execution_count": 1,
   "metadata": {},
   "outputs": [
    {
     "data": {
      "text/html": [
       "\n",
       "    <div class=\"bk-root\">\n",
       "        <a href=\"https://bokeh.pydata.org\" target=\"_blank\" class=\"bk-logo bk-logo-small bk-logo-notebook\"></a>\n",
       "        <span id=\"a1663193-4e95-4c03-a4e5-ccaa69e269a5\">Loading BokehJS ...</span>\n",
       "    </div>"
      ]
     },
     "metadata": {},
     "output_type": "display_data"
    },
    {
     "data": {
      "application/javascript": [
       "\n",
       "(function(root) {\n",
       "  function now() {\n",
       "    return new Date();\n",
       "  }\n",
       "\n",
       "  var force = true;\n",
       "\n",
       "  if (typeof (root._bokeh_onload_callbacks) === \"undefined\" || force === true) {\n",
       "    root._bokeh_onload_callbacks = [];\n",
       "    root._bokeh_is_loading = undefined;\n",
       "  }\n",
       "\n",
       "  var JS_MIME_TYPE = 'application/javascript';\n",
       "  var HTML_MIME_TYPE = 'text/html';\n",
       "  var EXEC_MIME_TYPE = 'application/vnd.bokehjs_exec.v0+json';\n",
       "  var CLASS_NAME = 'output_bokeh rendered_html';\n",
       "\n",
       "  /**\n",
       "   * Render data to the DOM node\n",
       "   */\n",
       "  function render(props, node) {\n",
       "    var script = document.createElement(\"script\");\n",
       "    node.appendChild(script);\n",
       "  }\n",
       "\n",
       "  /**\n",
       "   * Handle when an output is cleared or removed\n",
       "   */\n",
       "  function handleClearOutput(event, handle) {\n",
       "    var cell = handle.cell;\n",
       "\n",
       "    var id = cell.output_area._bokeh_element_id;\n",
       "    var server_id = cell.output_area._bokeh_server_id;\n",
       "    // Clean up Bokeh references\n",
       "    if (id !== undefined) {\n",
       "      Bokeh.index[id].model.document.clear();\n",
       "      delete Bokeh.index[id];\n",
       "    }\n",
       "\n",
       "    if (server_id !== undefined) {\n",
       "      // Clean up Bokeh references\n",
       "      var cmd = \"from bokeh.io.state import curstate; print(curstate().uuid_to_server['\" + server_id + \"'].get_sessions()[0].document.roots[0]._id)\";\n",
       "      cell.notebook.kernel.execute(cmd, {\n",
       "        iopub: {\n",
       "          output: function(msg) {\n",
       "            var element_id = msg.content.text.trim();\n",
       "            Bokeh.index[element_id].model.document.clear();\n",
       "            delete Bokeh.index[element_id];\n",
       "          }\n",
       "        }\n",
       "      });\n",
       "      // Destroy server and session\n",
       "      var cmd = \"import bokeh.io.notebook as ion; ion.destroy_server('\" + server_id + \"')\";\n",
       "      cell.notebook.kernel.execute(cmd);\n",
       "    }\n",
       "  }\n",
       "\n",
       "  /**\n",
       "   * Handle when a new output is added\n",
       "   */\n",
       "  function handleAddOutput(event, handle) {\n",
       "    var output_area = handle.output_area;\n",
       "    var output = handle.output;\n",
       "\n",
       "    // limit handleAddOutput to display_data with EXEC_MIME_TYPE content only\n",
       "    if ((output.output_type != \"display_data\") || (!output.data.hasOwnProperty(EXEC_MIME_TYPE))) {\n",
       "      return\n",
       "    }\n",
       "\n",
       "    var toinsert = output_area.element.find(\".\" + CLASS_NAME.split(' ')[0]);\n",
       "\n",
       "    if (output.metadata[EXEC_MIME_TYPE][\"id\"] !== undefined) {\n",
       "      toinsert[toinsert.length - 1].firstChild.textContent = output.data[JS_MIME_TYPE];\n",
       "      // store reference to embed id on output_area\n",
       "      output_area._bokeh_element_id = output.metadata[EXEC_MIME_TYPE][\"id\"];\n",
       "    }\n",
       "    if (output.metadata[EXEC_MIME_TYPE][\"server_id\"] !== undefined) {\n",
       "      var bk_div = document.createElement(\"div\");\n",
       "      bk_div.innerHTML = output.data[HTML_MIME_TYPE];\n",
       "      var script_attrs = bk_div.children[0].attributes;\n",
       "      for (var i = 0; i < script_attrs.length; i++) {\n",
       "        toinsert[toinsert.length - 1].firstChild.setAttribute(script_attrs[i].name, script_attrs[i].value);\n",
       "      }\n",
       "      // store reference to server id on output_area\n",
       "      output_area._bokeh_server_id = output.metadata[EXEC_MIME_TYPE][\"server_id\"];\n",
       "    }\n",
       "  }\n",
       "\n",
       "  function register_renderer(events, OutputArea) {\n",
       "\n",
       "    function append_mime(data, metadata, element) {\n",
       "      // create a DOM node to render to\n",
       "      var toinsert = this.create_output_subarea(\n",
       "        metadata,\n",
       "        CLASS_NAME,\n",
       "        EXEC_MIME_TYPE\n",
       "      );\n",
       "      this.keyboard_manager.register_events(toinsert);\n",
       "      // Render to node\n",
       "      var props = {data: data, metadata: metadata[EXEC_MIME_TYPE]};\n",
       "      render(props, toinsert[toinsert.length - 1]);\n",
       "      element.append(toinsert);\n",
       "      return toinsert\n",
       "    }\n",
       "\n",
       "    /* Handle when an output is cleared or removed */\n",
       "    events.on('clear_output.CodeCell', handleClearOutput);\n",
       "    events.on('delete.Cell', handleClearOutput);\n",
       "\n",
       "    /* Handle when a new output is added */\n",
       "    events.on('output_added.OutputArea', handleAddOutput);\n",
       "\n",
       "    /**\n",
       "     * Register the mime type and append_mime function with output_area\n",
       "     */\n",
       "    OutputArea.prototype.register_mime_type(EXEC_MIME_TYPE, append_mime, {\n",
       "      /* Is output safe? */\n",
       "      safe: true,\n",
       "      /* Index of renderer in `output_area.display_order` */\n",
       "      index: 0\n",
       "    });\n",
       "  }\n",
       "\n",
       "  // register the mime type if in Jupyter Notebook environment and previously unregistered\n",
       "  if (root.Jupyter !== undefined) {\n",
       "    var events = require('base/js/events');\n",
       "    var OutputArea = require('notebook/js/outputarea').OutputArea;\n",
       "\n",
       "    if (OutputArea.prototype.mime_types().indexOf(EXEC_MIME_TYPE) == -1) {\n",
       "      register_renderer(events, OutputArea);\n",
       "    }\n",
       "  }\n",
       "\n",
       "  \n",
       "  if (typeof (root._bokeh_timeout) === \"undefined\" || force === true) {\n",
       "    root._bokeh_timeout = Date.now() + 5000;\n",
       "    root._bokeh_failed_load = false;\n",
       "  }\n",
       "\n",
       "  var NB_LOAD_WARNING = {'data': {'text/html':\n",
       "     \"<div style='background-color: #fdd'>\\n\"+\n",
       "     \"<p>\\n\"+\n",
       "     \"BokehJS does not appear to have successfully loaded. If loading BokehJS from CDN, this \\n\"+\n",
       "     \"may be due to a slow or bad network connection. Possible fixes:\\n\"+\n",
       "     \"</p>\\n\"+\n",
       "     \"<ul>\\n\"+\n",
       "     \"<li>re-rerun `output_notebook()` to attempt to load from CDN again, or</li>\\n\"+\n",
       "     \"<li>use INLINE resources instead, as so:</li>\\n\"+\n",
       "     \"</ul>\\n\"+\n",
       "     \"<code>\\n\"+\n",
       "     \"from bokeh.resources import INLINE\\n\"+\n",
       "     \"output_notebook(resources=INLINE)\\n\"+\n",
       "     \"</code>\\n\"+\n",
       "     \"</div>\"}};\n",
       "\n",
       "  function display_loaded() {\n",
       "    var el = document.getElementById(\"a1663193-4e95-4c03-a4e5-ccaa69e269a5\");\n",
       "    if (el != null) {\n",
       "      el.textContent = \"BokehJS is loading...\";\n",
       "    }\n",
       "    if (root.Bokeh !== undefined) {\n",
       "      if (el != null) {\n",
       "        el.textContent = \"BokehJS \" + root.Bokeh.version + \" successfully loaded.\";\n",
       "      }\n",
       "    } else if (Date.now() < root._bokeh_timeout) {\n",
       "      setTimeout(display_loaded, 100)\n",
       "    }\n",
       "  }\n",
       "\n",
       "\n",
       "  function run_callbacks() {\n",
       "    try {\n",
       "      root._bokeh_onload_callbacks.forEach(function(callback) { callback() });\n",
       "    }\n",
       "    finally {\n",
       "      delete root._bokeh_onload_callbacks\n",
       "    }\n",
       "    console.info(\"Bokeh: all callbacks have finished\");\n",
       "  }\n",
       "\n",
       "  function load_libs(js_urls, callback) {\n",
       "    root._bokeh_onload_callbacks.push(callback);\n",
       "    if (root._bokeh_is_loading > 0) {\n",
       "      console.log(\"Bokeh: BokehJS is being loaded, scheduling callback at\", now());\n",
       "      return null;\n",
       "    }\n",
       "    if (js_urls == null || js_urls.length === 0) {\n",
       "      run_callbacks();\n",
       "      return null;\n",
       "    }\n",
       "    console.log(\"Bokeh: BokehJS not loaded, scheduling load and callback at\", now());\n",
       "    root._bokeh_is_loading = js_urls.length;\n",
       "    for (var i = 0; i < js_urls.length; i++) {\n",
       "      var url = js_urls[i];\n",
       "      var s = document.createElement('script');\n",
       "      s.src = url;\n",
       "      s.async = false;\n",
       "      s.onreadystatechange = s.onload = function() {\n",
       "        root._bokeh_is_loading--;\n",
       "        if (root._bokeh_is_loading === 0) {\n",
       "          console.log(\"Bokeh: all BokehJS libraries loaded\");\n",
       "          run_callbacks()\n",
       "        }\n",
       "      };\n",
       "      s.onerror = function() {\n",
       "        console.warn(\"failed to load library \" + url);\n",
       "      };\n",
       "      console.log(\"Bokeh: injecting script tag for BokehJS library: \", url);\n",
       "      document.getElementsByTagName(\"head\")[0].appendChild(s);\n",
       "    }\n",
       "  };var element = document.getElementById(\"a1663193-4e95-4c03-a4e5-ccaa69e269a5\");\n",
       "  if (element == null) {\n",
       "    console.log(\"Bokeh: ERROR: autoload.js configured with elementid 'a1663193-4e95-4c03-a4e5-ccaa69e269a5' but no matching script tag was found. \")\n",
       "    return false;\n",
       "  }\n",
       "\n",
       "  var js_urls = [\"https://cdn.pydata.org/bokeh/release/bokeh-0.12.16.min.js\", \"https://cdn.pydata.org/bokeh/release/bokeh-widgets-0.12.16.min.js\", \"https://cdn.pydata.org/bokeh/release/bokeh-tables-0.12.16.min.js\", \"https://cdn.pydata.org/bokeh/release/bokeh-gl-0.12.16.min.js\"];\n",
       "\n",
       "  var inline_js = [\n",
       "    function(Bokeh) {\n",
       "      Bokeh.set_log_level(\"info\");\n",
       "    },\n",
       "    \n",
       "    function(Bokeh) {\n",
       "      \n",
       "    },\n",
       "    function(Bokeh) {\n",
       "      console.log(\"Bokeh: injecting CSS: https://cdn.pydata.org/bokeh/release/bokeh-0.12.16.min.css\");\n",
       "      Bokeh.embed.inject_css(\"https://cdn.pydata.org/bokeh/release/bokeh-0.12.16.min.css\");\n",
       "      console.log(\"Bokeh: injecting CSS: https://cdn.pydata.org/bokeh/release/bokeh-widgets-0.12.16.min.css\");\n",
       "      Bokeh.embed.inject_css(\"https://cdn.pydata.org/bokeh/release/bokeh-widgets-0.12.16.min.css\");\n",
       "      console.log(\"Bokeh: injecting CSS: https://cdn.pydata.org/bokeh/release/bokeh-tables-0.12.16.min.css\");\n",
       "      Bokeh.embed.inject_css(\"https://cdn.pydata.org/bokeh/release/bokeh-tables-0.12.16.min.css\");\n",
       "    }\n",
       "  ];\n",
       "\n",
       "  function run_inline_js() {\n",
       "    \n",
       "    if ((root.Bokeh !== undefined) || (force === true)) {\n",
       "      for (var i = 0; i < inline_js.length; i++) {\n",
       "        inline_js[i].call(root, root.Bokeh);\n",
       "      }if (force === true) {\n",
       "        display_loaded();\n",
       "      }} else if (Date.now() < root._bokeh_timeout) {\n",
       "      setTimeout(run_inline_js, 100);\n",
       "    } else if (!root._bokeh_failed_load) {\n",
       "      console.log(\"Bokeh: BokehJS failed to load within specified timeout.\");\n",
       "      root._bokeh_failed_load = true;\n",
       "    } else if (force !== true) {\n",
       "      var cell = $(document.getElementById(\"a1663193-4e95-4c03-a4e5-ccaa69e269a5\")).parents('.cell').data().cell;\n",
       "      cell.output_area.append_execute_result(NB_LOAD_WARNING)\n",
       "    }\n",
       "\n",
       "  }\n",
       "\n",
       "  if (root._bokeh_is_loading === 0) {\n",
       "    console.log(\"Bokeh: BokehJS loaded, going straight to plotting\");\n",
       "    run_inline_js();\n",
       "  } else {\n",
       "    load_libs(js_urls, function() {\n",
       "      console.log(\"Bokeh: BokehJS plotting callback run at\", now());\n",
       "      run_inline_js();\n",
       "    });\n",
       "  }\n",
       "}(window));"
      ],
      "application/vnd.bokehjs_load.v0+json": "\n(function(root) {\n  function now() {\n    return new Date();\n  }\n\n  var force = true;\n\n  if (typeof (root._bokeh_onload_callbacks) === \"undefined\" || force === true) {\n    root._bokeh_onload_callbacks = [];\n    root._bokeh_is_loading = undefined;\n  }\n\n  \n\n  \n  if (typeof (root._bokeh_timeout) === \"undefined\" || force === true) {\n    root._bokeh_timeout = Date.now() + 5000;\n    root._bokeh_failed_load = false;\n  }\n\n  var NB_LOAD_WARNING = {'data': {'text/html':\n     \"<div style='background-color: #fdd'>\\n\"+\n     \"<p>\\n\"+\n     \"BokehJS does not appear to have successfully loaded. If loading BokehJS from CDN, this \\n\"+\n     \"may be due to a slow or bad network connection. Possible fixes:\\n\"+\n     \"</p>\\n\"+\n     \"<ul>\\n\"+\n     \"<li>re-rerun `output_notebook()` to attempt to load from CDN again, or</li>\\n\"+\n     \"<li>use INLINE resources instead, as so:</li>\\n\"+\n     \"</ul>\\n\"+\n     \"<code>\\n\"+\n     \"from bokeh.resources import INLINE\\n\"+\n     \"output_notebook(resources=INLINE)\\n\"+\n     \"</code>\\n\"+\n     \"</div>\"}};\n\n  function display_loaded() {\n    var el = document.getElementById(\"a1663193-4e95-4c03-a4e5-ccaa69e269a5\");\n    if (el != null) {\n      el.textContent = \"BokehJS is loading...\";\n    }\n    if (root.Bokeh !== undefined) {\n      if (el != null) {\n        el.textContent = \"BokehJS \" + root.Bokeh.version + \" successfully loaded.\";\n      }\n    } else if (Date.now() < root._bokeh_timeout) {\n      setTimeout(display_loaded, 100)\n    }\n  }\n\n\n  function run_callbacks() {\n    try {\n      root._bokeh_onload_callbacks.forEach(function(callback) { callback() });\n    }\n    finally {\n      delete root._bokeh_onload_callbacks\n    }\n    console.info(\"Bokeh: all callbacks have finished\");\n  }\n\n  function load_libs(js_urls, callback) {\n    root._bokeh_onload_callbacks.push(callback);\n    if (root._bokeh_is_loading > 0) {\n      console.log(\"Bokeh: BokehJS is being loaded, scheduling callback at\", now());\n      return null;\n    }\n    if (js_urls == null || js_urls.length === 0) {\n      run_callbacks();\n      return null;\n    }\n    console.log(\"Bokeh: BokehJS not loaded, scheduling load and callback at\", now());\n    root._bokeh_is_loading = js_urls.length;\n    for (var i = 0; i < js_urls.length; i++) {\n      var url = js_urls[i];\n      var s = document.createElement('script');\n      s.src = url;\n      s.async = false;\n      s.onreadystatechange = s.onload = function() {\n        root._bokeh_is_loading--;\n        if (root._bokeh_is_loading === 0) {\n          console.log(\"Bokeh: all BokehJS libraries loaded\");\n          run_callbacks()\n        }\n      };\n      s.onerror = function() {\n        console.warn(\"failed to load library \" + url);\n      };\n      console.log(\"Bokeh: injecting script tag for BokehJS library: \", url);\n      document.getElementsByTagName(\"head\")[0].appendChild(s);\n    }\n  };var element = document.getElementById(\"a1663193-4e95-4c03-a4e5-ccaa69e269a5\");\n  if (element == null) {\n    console.log(\"Bokeh: ERROR: autoload.js configured with elementid 'a1663193-4e95-4c03-a4e5-ccaa69e269a5' but no matching script tag was found. \")\n    return false;\n  }\n\n  var js_urls = [\"https://cdn.pydata.org/bokeh/release/bokeh-0.12.16.min.js\", \"https://cdn.pydata.org/bokeh/release/bokeh-widgets-0.12.16.min.js\", \"https://cdn.pydata.org/bokeh/release/bokeh-tables-0.12.16.min.js\", \"https://cdn.pydata.org/bokeh/release/bokeh-gl-0.12.16.min.js\"];\n\n  var inline_js = [\n    function(Bokeh) {\n      Bokeh.set_log_level(\"info\");\n    },\n    \n    function(Bokeh) {\n      \n    },\n    function(Bokeh) {\n      console.log(\"Bokeh: injecting CSS: https://cdn.pydata.org/bokeh/release/bokeh-0.12.16.min.css\");\n      Bokeh.embed.inject_css(\"https://cdn.pydata.org/bokeh/release/bokeh-0.12.16.min.css\");\n      console.log(\"Bokeh: injecting CSS: https://cdn.pydata.org/bokeh/release/bokeh-widgets-0.12.16.min.css\");\n      Bokeh.embed.inject_css(\"https://cdn.pydata.org/bokeh/release/bokeh-widgets-0.12.16.min.css\");\n      console.log(\"Bokeh: injecting CSS: https://cdn.pydata.org/bokeh/release/bokeh-tables-0.12.16.min.css\");\n      Bokeh.embed.inject_css(\"https://cdn.pydata.org/bokeh/release/bokeh-tables-0.12.16.min.css\");\n    }\n  ];\n\n  function run_inline_js() {\n    \n    if ((root.Bokeh !== undefined) || (force === true)) {\n      for (var i = 0; i < inline_js.length; i++) {\n        inline_js[i].call(root, root.Bokeh);\n      }if (force === true) {\n        display_loaded();\n      }} else if (Date.now() < root._bokeh_timeout) {\n      setTimeout(run_inline_js, 100);\n    } else if (!root._bokeh_failed_load) {\n      console.log(\"Bokeh: BokehJS failed to load within specified timeout.\");\n      root._bokeh_failed_load = true;\n    } else if (force !== true) {\n      var cell = $(document.getElementById(\"a1663193-4e95-4c03-a4e5-ccaa69e269a5\")).parents('.cell').data().cell;\n      cell.output_area.append_execute_result(NB_LOAD_WARNING)\n    }\n\n  }\n\n  if (root._bokeh_is_loading === 0) {\n    console.log(\"Bokeh: BokehJS loaded, going straight to plotting\");\n    run_inline_js();\n  } else {\n    load_libs(js_urls, function() {\n      console.log(\"Bokeh: BokehJS plotting callback run at\", now());\n      run_inline_js();\n    });\n  }\n}(window));"
     },
     "metadata": {},
     "output_type": "display_data"
    }
   ],
   "source": [
    "import numpy as np\n",
    "from bokeh.plotting import figure, show, output_notebook\n",
    "\n",
    "output_notebook()"
   ]
  },
  {
   "cell_type": "markdown",
   "metadata": {},
   "source": [
    "## algorithm"
   ]
  },
  {
   "cell_type": "code",
   "execution_count": 2,
   "metadata": {
    "collapsed": true
   },
   "outputs": [],
   "source": [
    "def PCA(X, n_components):\n",
    "    # normalize to zero mean\n",
    "    mu = X.mean(axis=0)\n",
    "    X = X - mu\n",
    "    \n",
    "    # eigenvectors of covariance matrix\n",
    "    sigma = X.T @ X\n",
    "    eigvals, eigvecs = np.linalg.eig(sigma)\n",
    "    \n",
    "    # principal components\n",
    "    order = np.argsort(eigvals)[::-1]\n",
    "    components = eigvecs[:, order[:n_components]]\n",
    "    \n",
    "    # projection\n",
    "    Z = X @ components\n",
    "    \n",
    "    # result\n",
    "    return Z, components"
   ]
  },
  {
   "cell_type": "markdown",
   "metadata": {},
   "source": [
    "## 2D data & principal components"
   ]
  },
  {
   "cell_type": "code",
   "execution_count": 3,
   "metadata": {
    "collapsed": false
   },
   "outputs": [],
   "source": [
    "# generate points\n",
    "x = np.linspace(0, 13, num=100)\n",
    "y = x + np.sin(x) - np.cos(x)\n",
    "\n",
    "# 2D data\n",
    "X = np.c_[x, y]"
   ]
  },
  {
   "cell_type": "code",
   "execution_count": 4,
   "metadata": {
    "collapsed": false
   },
   "outputs": [
    {
     "data": {
      "text/plain": [
       "array([[ 0.72299657, -0.69085162],\n",
       "       [ 0.69085162,  0.72299657]])"
      ]
     },
     "execution_count": 4,
     "metadata": {},
     "output_type": "execute_result"
    }
   ],
   "source": [
    "# PCA\n",
    "projection, components = PCA(X, n_components=2)\n",
    "\n",
    "# principal components\n",
    "components"
   ]
  },
  {
   "cell_type": "code",
   "execution_count": 5,
   "metadata": {
    "collapsed": false
   },
   "outputs": [
    {
     "data": {
      "text/plain": [
       "array([[2705.081,   -0.   ],\n",
       "       [  -0.   ,   47.716]])"
      ]
     },
     "execution_count": 5,
     "metadata": {},
     "output_type": "execute_result"
    }
   ],
   "source": [
    "# convariance matrix of projected data\n",
    "(projection.T @ projection).round(3)"
   ]
  },
  {
   "cell_type": "code",
   "execution_count": 6,
   "metadata": {
    "collapsed": false
   },
   "outputs": [],
   "source": [
    "# prepare plot data\n",
    "mean = np.mean(X, axis=0)\n",
    "extent = projection.min(), projection.max()\n",
    "angle = np.arctan(components[1] / components[0]) + np.pi * (components[0] < 0)"
   ]
  },
  {
   "cell_type": "code",
   "execution_count": 7,
   "metadata": {
    "collapsed": false
   },
   "outputs": [
    {
     "data": {
      "text/html": [
       "\n",
       "<div class=\"bk-root\">\n",
       "    <div class=\"bk-plotdiv\" id=\"7d285f8b-d116-439d-b031-569202ae2293\"></div>\n",
       "</div>"
      ]
     },
     "metadata": {},
     "output_type": "display_data"
    },
    {
     "data": {
      "application/javascript": [
       "(function(root) {\n",
       "  function embed_document(root) {\n",
       "    \n",
       "  var docs_json = {\"23ac0a16-818f-4bfc-9701-2dff699b69e3\":{\"roots\":{\"references\":[{\"attributes\":{\"plot\":null,\"text\":\"\"},\"id\":\"3bb95a47-cd6b-4bf5-8571-497d214c64be\",\"type\":\"Title\"},{\"attributes\":{\"data_source\":{\"id\":\"38d07676-7c4b-4cd5-92f5-7dc43cba537c\",\"type\":\"ColumnDataSource\"},\"glyph\":{\"id\":\"e93dcf1f-27ad-45c6-8b6a-77487f3e1996\",\"type\":\"Ray\"},\"hover_glyph\":null,\"muted_glyph\":null,\"nonselection_glyph\":{\"id\":\"a20381fd-51d6-4f16-90e7-0815bd777fb9\",\"type\":\"Ray\"},\"selection_glyph\":null,\"view\":{\"id\":\"83d759c1-9fc1-460b-b590-ef108bb3db95\",\"type\":\"CDSView\"}},\"id\":\"748004c8-f1a5-47da-8ee4-ed0fbbdfb646\",\"type\":\"GlyphRenderer\"},{\"attributes\":{\"source\":{\"id\":\"38d07676-7c4b-4cd5-92f5-7dc43cba537c\",\"type\":\"ColumnDataSource\"}},\"id\":\"83d759c1-9fc1-460b-b590-ef108bb3db95\",\"type\":\"CDSView\"},{\"attributes\":{\"source\":{\"id\":\"6350e067-0695-4623-8245-312298b5e316\",\"type\":\"ColumnDataSource\"}},\"id\":\"0e98ac91-b24c-42fb-b902-dcaa76331612\",\"type\":\"CDSView\"},{\"attributes\":{\"callback\":null,\"data\":{},\"selected\":{\"id\":\"db4c66d4-35df-43f7-8b25-d78adee7e95d\",\"type\":\"Selection\"},\"selection_policy\":{\"id\":\"5c941c7a-a5c9-46f5-bac9-57abba844a81\",\"type\":\"UnionRenderers\"}},\"id\":\"6350e067-0695-4623-8245-312298b5e316\",\"type\":\"ColumnDataSource\"},{\"attributes\":{\"angle\":{\"units\":\"rad\",\"value\":2.333462623510682},\"length\":{\"units\":\"data\",\"value\":0},\"line_color\":{\"value\":\"green\"},\"line_width\":{\"value\":2},\"x\":{\"value\":6.500000000000001},\"y\":{\"value\":6.467650409265912}},\"id\":\"8448a81a-9ffe-4cca-a7c5-e12c0f43df9c\",\"type\":\"Ray\"},{\"attributes\":{\"callback\":null,\"data\":{\"x\":{\"__ndarray__\":\"AAAAAAAAAAB6O0Ni3s7AP3o7Q2LeztA/N9lkk0022T96O0Ni3s7gP1gK1PqVAuU/N9lkk0026T8WqPUrBWrtP3o7Q2LezvA/6aKLLrro8j9YCtT6lQL1P8hxHMdxHPc/N9lkk002+T+mQK1fKVD7Pxao9SsFav0/hQ8++OCD/z96O0Ni3s4AQDJvZ0jM2wFA6aKLLrroAkCh1q8UqPUDQFgK1PqVAgVAED744IMPBkDIcRzHcRwHQH+lQK1fKQhAN9lkk002CUDvDIl5O0MKQKZArV8pUAtAXnTRRRddDEAWqPUrBWoNQM3bGRLzdg5AhQ8++OCDD0CeITFvZ0gQQHo7Q2LezhBAVlVVVVVVEUAyb2dIzNsRQA2JeTtDYhJA6aKLLrroEkDFvJ0hMW8TQKHWrxSo9RNAffDBBx98FEBYCtT6lQIVQDQk5u0MiRVAED744IMPFkDsVwrU+pUWQMhxHMdxHBdApIsuuuiiF0B/pUCtXykYQFu/UqDWrxhAN9lkk002GUAT83aGxLwZQO8MiXk7QxpAyiabbLLJGkCmQK1fKVAbQIJav1Kg1htAXnTRRRddHEA6juM4juMcQBao9SsFah1A8cEHH3zwHUDN2xkS83YeQKn1KwVq/R5AhQ8++OCDH0CwFKj1KwUgQJ4hMW9nSCBAjC666KKLIEB6O0Ni3s4gQGhIzNsZEiFAVlVVVVVVIUBEYt7OkJghQDJvZ0jM2yFAIHzwwQcfIkANiXk7Q2IiQPuVArV+pSJA6aKLLrroIkDXrxSo9SsjQMW8nSExbyNAs8kmm2yyI0Ch1q8UqPUjQI/jOI7jOCRAffDBBx98JEBr/UqBWr8kQFgK1PqVAiVARhdddNFFJUA0JObtDIklQCIxb2dIzCVAED744IMPJkD+SoFav1ImQOxXCtT6lSZA2mSTTTbZJkDIcRzHcRwnQLZ+pUCtXydApIsuuuiiJ0CRmLczJOYnQH+lQK1fKShAbbLJJptsKEBbv1Kg1q8oQEnM2xkS8yhAN9lkk002KUAl5u0MiXkpQBPzdobEvClAAAAAAAAAKkA=\",\"dtype\":\"float64\",\"shape\":[100]},\"y\":{\"__ndarray__\":\"AAAAAAAA8L9GVXvDIFXnv8qDdcnFYdy/DE90KzGkwr/EaWZ/mKvEPxCutOxPZN4/wezopwpT6T/m1xRWt7nxP9wbkVSbvPY/PGjOR12l+z9aM6IszjMAQJY2trnQewJAWyq3ckmlBECW93UbUqsGQDvRjKygiQhAS8VgO5o8CkDgSELeYsELQB/VoEbqFQ1AdcvE2fQ4DkD30/YfISoPQECjIHLp6Q9AyLJA79A8EEBAfN8muW0QQBONEYEmiRBAI/dzzfCQEEAbaGlqRocQQFfU3aeibhBA0Ufh1sJJEEDEvFE2mhsQQHKRnOOJzg9Ae4SL2PRfD0CYURwl/vEOQF/JBekriw5AwZVKyOQxDkBqqEC0U+wNQN05vbtMwA1Af5o7WjOzDUCY8zy34skNQFnJkz6YCA5AgkH17+ByDkClgDG4iQsPQFKeEBmT1A9AZOIeK5RnEEBxJhMnzf0QQM22wQqvrBFAxd/YrYdzEkC8t6VGO1ETQLoH/UxJRBRAMB82GdNKFUAyRAgipGIWQMaq9rQ7iRdA9jly/te7GEDknRAxgvcZQK+2RpYbORtAeyYPT2t9HEC8Td6HLMEdQBPHSOEcAR9AnZXsZgUdIEDOyODScbQgQLoILplgRSFAeeziOnvOIUDN9h+7jU4iQII6rOyLxCJADy0OEJYvI0C5Fc6t/I4jQKDC5ptD4iNAu0MTISQpJEB4NY0sjmMkQHV43ZyokSRAvzCHlNCzJECkQ4Dfl8okQAvniHDC1iRAoghzAUPZJEAIwDjlNtMkQBneTR7hxSRAkFbUzqSyJED8dzcb/5okQPgMIpqAgCRAlNm8bsZkJEBPvZwrc0kkQH+Tu50nMCRA2YZAn3saJEBuH7oR9wkkQH50vh4LACRA5Zuv3Av+I0CABqlzKgUkQJaOZdxvFiRAIUxHULgyJEACe51+r1okQFVS35fNjiRA7pHjO1XPJECiATRUUhwlQOJei9+ZdSVA1Ctlr8raJUAvzlsUT0smQKLJ9HFfxiZAfcJ+rgVLJ0DY6dpvIdgnQFAwhBJtbChAXa3xRIMGKUA=\",\"dtype\":\"float64\",\"shape\":[100]}},\"selected\":{\"id\":\"750680ee-a1fb-481b-b554-7fd137c85756\",\"type\":\"Selection\"},\"selection_policy\":{\"id\":\"afdaa829-60ee-489a-9844-f20bc9f8dd90\",\"type\":\"UnionRenderers\"}},\"id\":\"e6f456f5-96dd-4498-b60c-ae8c299f055d\",\"type\":\"ColumnDataSource\"},{\"attributes\":{\"data_source\":{\"id\":\"6350e067-0695-4623-8245-312298b5e316\",\"type\":\"ColumnDataSource\"},\"glyph\":{\"id\":\"8448a81a-9ffe-4cca-a7c5-e12c0f43df9c\",\"type\":\"Ray\"},\"hover_glyph\":null,\"muted_glyph\":null,\"nonselection_glyph\":{\"id\":\"c67ca575-e057-40b2-9d96-30d961d068e6\",\"type\":\"Ray\"},\"selection_glyph\":null,\"view\":{\"id\":\"0e98ac91-b24c-42fb-b902-dcaa76331612\",\"type\":\"CDSView\"}},\"id\":\"5d6f1669-43ce-4e2a-aba3-4b3317bd8af0\",\"type\":\"GlyphRenderer\"},{\"attributes\":{\"below\":[{\"id\":\"0d53fed0-3f2f-460e-b867-49eb8d12a331\",\"type\":\"LinearAxis\"}],\"left\":[{\"id\":\"1acba02a-817d-4b7f-830d-4a3c4b375b02\",\"type\":\"LinearAxis\"}],\"renderers\":[{\"id\":\"0d53fed0-3f2f-460e-b867-49eb8d12a331\",\"type\":\"LinearAxis\"},{\"id\":\"2df1e31d-3177-4cec-ace9-1081629f0e96\",\"type\":\"Grid\"},{\"id\":\"1acba02a-817d-4b7f-830d-4a3c4b375b02\",\"type\":\"LinearAxis\"},{\"id\":\"9f94910e-5990-4d11-a173-001c6bfdf33e\",\"type\":\"Grid\"},{\"id\":\"1008dab7-9733-4265-b0a1-7587b6139733\",\"type\":\"BoxAnnotation\"},{\"id\":\"7eb3ef5a-5816-4053-81d0-c2e5d933afb9\",\"type\":\"GlyphRenderer\"},{\"id\":\"748004c8-f1a5-47da-8ee4-ed0fbbdfb646\",\"type\":\"GlyphRenderer\"},{\"id\":\"5d6f1669-43ce-4e2a-aba3-4b3317bd8af0\",\"type\":\"GlyphRenderer\"}],\"title\":{\"id\":\"3bb95a47-cd6b-4bf5-8571-497d214c64be\",\"type\":\"Title\"},\"toolbar\":{\"id\":\"c3656c43-dc1f-4af8-9c7a-3265805ec365\",\"type\":\"Toolbar\"},\"x_range\":{\"id\":\"84a9ad1d-7295-4b9d-aa40-ae2b072942ff\",\"type\":\"DataRange1d\"},\"x_scale\":{\"id\":\"27edcbc5-1ec2-4489-bf53-5314c343f5c2\",\"type\":\"LinearScale\"},\"y_range\":{\"id\":\"65c362b9-f50e-4506-ae72-589ecdf3d470\",\"type\":\"DataRange1d\"},\"y_scale\":{\"id\":\"ae78821e-4c40-483f-abf5-4e95e6597c22\",\"type\":\"LinearScale\"}},\"id\":\"5474f8ed-46ee-4ca6-af37-d4f43c8c9ef5\",\"subtype\":\"Figure\",\"type\":\"Plot\"},{\"attributes\":{\"angle\":{\"units\":\"rad\",\"value\":0.7626662967157859},\"length\":{\"units\":\"data\",\"value\":0},\"line_color\":{\"value\":\"red\"},\"line_width\":{\"value\":2},\"x\":{\"value\":6.500000000000001},\"y\":{\"value\":6.467650409265912}},\"id\":\"e93dcf1f-27ad-45c6-8b6a-77487f3e1996\",\"type\":\"Ray\"},{\"attributes\":{\"angle\":{\"units\":\"rad\",\"value\":2.333462623510682},\"length\":{\"units\":\"data\",\"value\":0},\"line_alpha\":{\"value\":0.1},\"line_color\":{\"value\":\"#1f77b4\"},\"line_width\":{\"value\":2},\"x\":{\"value\":6.500000000000001},\"y\":{\"value\":6.467650409265912}},\"id\":\"c67ca575-e057-40b2-9d96-30d961d068e6\",\"type\":\"Ray\"},{\"attributes\":{\"active_drag\":\"auto\",\"active_inspect\":\"auto\",\"active_scroll\":\"auto\",\"active_tap\":\"auto\",\"tools\":[{\"id\":\"d072eadc-9147-425d-9b1a-f40d5d05382b\",\"type\":\"PanTool\"},{\"id\":\"7f33a26d-feba-42b8-bcde-fa9a17fadd09\",\"type\":\"WheelZoomTool\"},{\"id\":\"9744c3f1-587b-4db4-8d3d-de7c03102d20\",\"type\":\"BoxZoomTool\"},{\"id\":\"e54ab73c-00aa-405e-ba6c-cfa79763520e\",\"type\":\"SaveTool\"},{\"id\":\"93c41a01-24be-4ba8-abad-325bb1c5cf49\",\"type\":\"ResetTool\"},{\"id\":\"286346c7-2934-4075-8bab-1d70634f5cc1\",\"type\":\"HelpTool\"}]},\"id\":\"c3656c43-dc1f-4af8-9c7a-3265805ec365\",\"type\":\"Toolbar\"},{\"attributes\":{\"callback\":null},\"id\":\"84a9ad1d-7295-4b9d-aa40-ae2b072942ff\",\"type\":\"DataRange1d\"},{\"attributes\":{},\"id\":\"afdaa829-60ee-489a-9844-f20bc9f8dd90\",\"type\":\"UnionRenderers\"},{\"attributes\":{},\"id\":\"750680ee-a1fb-481b-b554-7fd137c85756\",\"type\":\"Selection\"},{\"attributes\":{\"callback\":null},\"id\":\"65c362b9-f50e-4506-ae72-589ecdf3d470\",\"type\":\"DataRange1d\"},{\"attributes\":{},\"id\":\"08ca238c-b8a2-41af-9ee6-cefbedc10a94\",\"type\":\"BasicTickFormatter\"},{\"attributes\":{},\"id\":\"27edcbc5-1ec2-4489-bf53-5314c343f5c2\",\"type\":\"LinearScale\"},{\"attributes\":{},\"id\":\"ab9ac2a3-a79a-48e6-97b3-d4112487ccee\",\"type\":\"BasicTickFormatter\"},{\"attributes\":{},\"id\":\"ae78821e-4c40-483f-abf5-4e95e6597c22\",\"type\":\"LinearScale\"},{\"attributes\":{},\"id\":\"3fa5a1aa-b63b-4f29-b0a5-81b43d573eed\",\"type\":\"Selection\"},{\"attributes\":{\"formatter\":{\"id\":\"ab9ac2a3-a79a-48e6-97b3-d4112487ccee\",\"type\":\"BasicTickFormatter\"},\"plot\":{\"id\":\"5474f8ed-46ee-4ca6-af37-d4f43c8c9ef5\",\"subtype\":\"Figure\",\"type\":\"Plot\"},\"ticker\":{\"id\":\"c85d4ec1-6469-4e6f-9ad4-eeb3523dbf95\",\"type\":\"BasicTicker\"}},\"id\":\"0d53fed0-3f2f-460e-b867-49eb8d12a331\",\"type\":\"LinearAxis\"},{\"attributes\":{},\"id\":\"db4c66d4-35df-43f7-8b25-d78adee7e95d\",\"type\":\"Selection\"},{\"attributes\":{},\"id\":\"c85d4ec1-6469-4e6f-9ad4-eeb3523dbf95\",\"type\":\"BasicTicker\"},{\"attributes\":{},\"id\":\"af49bef8-c13d-4fcc-9e88-98a971dad1d0\",\"type\":\"UnionRenderers\"},{\"attributes\":{\"plot\":{\"id\":\"5474f8ed-46ee-4ca6-af37-d4f43c8c9ef5\",\"subtype\":\"Figure\",\"type\":\"Plot\"},\"ticker\":{\"id\":\"c85d4ec1-6469-4e6f-9ad4-eeb3523dbf95\",\"type\":\"BasicTicker\"}},\"id\":\"2df1e31d-3177-4cec-ace9-1081629f0e96\",\"type\":\"Grid\"},{\"attributes\":{},\"id\":\"5c941c7a-a5c9-46f5-bac9-57abba844a81\",\"type\":\"UnionRenderers\"},{\"attributes\":{\"formatter\":{\"id\":\"08ca238c-b8a2-41af-9ee6-cefbedc10a94\",\"type\":\"BasicTickFormatter\"},\"plot\":{\"id\":\"5474f8ed-46ee-4ca6-af37-d4f43c8c9ef5\",\"subtype\":\"Figure\",\"type\":\"Plot\"},\"ticker\":{\"id\":\"6e3a9129-b3b3-4a3b-9799-1ee4bed49ba7\",\"type\":\"BasicTicker\"}},\"id\":\"1acba02a-817d-4b7f-830d-4a3c4b375b02\",\"type\":\"LinearAxis\"},{\"attributes\":{},\"id\":\"6e3a9129-b3b3-4a3b-9799-1ee4bed49ba7\",\"type\":\"BasicTicker\"},{\"attributes\":{\"source\":{\"id\":\"e6f456f5-96dd-4498-b60c-ae8c299f055d\",\"type\":\"ColumnDataSource\"}},\"id\":\"6e1e13de-5514-43b1-93db-35f1491c60c3\",\"type\":\"CDSView\"},{\"attributes\":{\"dimension\":1,\"plot\":{\"id\":\"5474f8ed-46ee-4ca6-af37-d4f43c8c9ef5\",\"subtype\":\"Figure\",\"type\":\"Plot\"},\"ticker\":{\"id\":\"6e3a9129-b3b3-4a3b-9799-1ee4bed49ba7\",\"type\":\"BasicTicker\"}},\"id\":\"9f94910e-5990-4d11-a173-001c6bfdf33e\",\"type\":\"Grid\"},{\"attributes\":{\"bottom_units\":\"screen\",\"fill_alpha\":{\"value\":0.5},\"fill_color\":{\"value\":\"lightgrey\"},\"left_units\":\"screen\",\"level\":\"overlay\",\"line_alpha\":{\"value\":1.0},\"line_color\":{\"value\":\"black\"},\"line_dash\":[4,4],\"line_width\":{\"value\":2},\"plot\":null,\"render_mode\":\"css\",\"right_units\":\"screen\",\"top_units\":\"screen\"},\"id\":\"1008dab7-9733-4265-b0a1-7587b6139733\",\"type\":\"BoxAnnotation\"},{\"attributes\":{\"callback\":null,\"data\":{},\"selected\":{\"id\":\"3fa5a1aa-b63b-4f29-b0a5-81b43d573eed\",\"type\":\"Selection\"},\"selection_policy\":{\"id\":\"af49bef8-c13d-4fcc-9e88-98a971dad1d0\",\"type\":\"UnionRenderers\"}},\"id\":\"38d07676-7c4b-4cd5-92f5-7dc43cba537c\",\"type\":\"ColumnDataSource\"},{\"attributes\":{\"angle\":{\"units\":\"rad\",\"value\":0.7626662967157859},\"length\":{\"units\":\"data\",\"value\":0},\"line_alpha\":{\"value\":0.1},\"line_color\":{\"value\":\"#1f77b4\"},\"line_width\":{\"value\":2},\"x\":{\"value\":6.500000000000001},\"y\":{\"value\":6.467650409265912}},\"id\":\"a20381fd-51d6-4f16-90e7-0815bd777fb9\",\"type\":\"Ray\"},{\"attributes\":{},\"id\":\"d072eadc-9147-425d-9b1a-f40d5d05382b\",\"type\":\"PanTool\"},{\"attributes\":{\"fill_color\":{\"value\":\"#1f77b4\"},\"line_color\":{\"value\":\"#1f77b4\"},\"x\":{\"field\":\"x\"},\"y\":{\"field\":\"y\"}},\"id\":\"350a524c-7a8f-445f-9bdd-9862fad8ce90\",\"type\":\"Circle\"},{\"attributes\":{\"data_source\":{\"id\":\"e6f456f5-96dd-4498-b60c-ae8c299f055d\",\"type\":\"ColumnDataSource\"},\"glyph\":{\"id\":\"350a524c-7a8f-445f-9bdd-9862fad8ce90\",\"type\":\"Circle\"},\"hover_glyph\":null,\"muted_glyph\":null,\"nonselection_glyph\":{\"id\":\"070eebc8-f238-4156-807e-7844a63ba851\",\"type\":\"Circle\"},\"selection_glyph\":null,\"view\":{\"id\":\"6e1e13de-5514-43b1-93db-35f1491c60c3\",\"type\":\"CDSView\"}},\"id\":\"7eb3ef5a-5816-4053-81d0-c2e5d933afb9\",\"type\":\"GlyphRenderer\"},{\"attributes\":{},\"id\":\"7f33a26d-feba-42b8-bcde-fa9a17fadd09\",\"type\":\"WheelZoomTool\"},{\"attributes\":{\"overlay\":{\"id\":\"1008dab7-9733-4265-b0a1-7587b6139733\",\"type\":\"BoxAnnotation\"}},\"id\":\"9744c3f1-587b-4db4-8d3d-de7c03102d20\",\"type\":\"BoxZoomTool\"},{\"attributes\":{\"fill_alpha\":{\"value\":0.1},\"fill_color\":{\"value\":\"#1f77b4\"},\"line_alpha\":{\"value\":0.1},\"line_color\":{\"value\":\"#1f77b4\"},\"x\":{\"field\":\"x\"},\"y\":{\"field\":\"y\"}},\"id\":\"070eebc8-f238-4156-807e-7844a63ba851\",\"type\":\"Circle\"},{\"attributes\":{},\"id\":\"e54ab73c-00aa-405e-ba6c-cfa79763520e\",\"type\":\"SaveTool\"},{\"attributes\":{},\"id\":\"93c41a01-24be-4ba8-abad-325bb1c5cf49\",\"type\":\"ResetTool\"},{\"attributes\":{},\"id\":\"286346c7-2934-4075-8bab-1d70634f5cc1\",\"type\":\"HelpTool\"}],\"root_ids\":[\"5474f8ed-46ee-4ca6-af37-d4f43c8c9ef5\"]},\"title\":\"Bokeh Application\",\"version\":\"0.12.16\"}};\n",
       "  var render_items = [{\"docid\":\"23ac0a16-818f-4bfc-9701-2dff699b69e3\",\"elementid\":\"7d285f8b-d116-439d-b031-569202ae2293\",\"modelid\":\"5474f8ed-46ee-4ca6-af37-d4f43c8c9ef5\"}];\n",
       "  root.Bokeh.embed.embed_items_notebook(docs_json, render_items);\n",
       "\n",
       "  }\n",
       "  if (root.Bokeh !== undefined) {\n",
       "    embed_document(root);\n",
       "  } else {\n",
       "    var attempts = 0;\n",
       "    var timer = setInterval(function(root) {\n",
       "      if (root.Bokeh !== undefined) {\n",
       "        embed_document(root);\n",
       "        clearInterval(timer);\n",
       "      }\n",
       "      attempts++;\n",
       "      if (attempts > 100) {\n",
       "        console.log(\"Bokeh: ERROR: Unable to run BokehJS code because BokehJS library is missing\")\n",
       "        clearInterval(timer);\n",
       "      }\n",
       "    }, 10, root)\n",
       "  }\n",
       "})(window);"
      ],
      "application/vnd.bokehjs_exec.v0+json": ""
     },
     "metadata": {
      "application/vnd.bokehjs_exec.v0+json": {
       "id": "5474f8ed-46ee-4ca6-af37-d4f43c8c9ef5"
      }
     },
     "output_type": "display_data"
    }
   ],
   "source": [
    "# plot original data & principal components\n",
    "plot = figure()\n",
    "\n",
    "plot.scatter(x, y)\n",
    "plot.ray(*mean, length=0, angle=angle[0], line_width=2, line_color='red')\n",
    "plot.ray(*mean, length=0, angle=angle[1], line_width=2, line_color='green')\n",
    "\n",
    "show(plot)"
   ]
  },
  {
   "cell_type": "code",
   "execution_count": 8,
   "metadata": {
    "collapsed": false
   },
   "outputs": [
    {
     "data": {
      "text/html": [
       "\n",
       "<div class=\"bk-root\">\n",
       "    <div class=\"bk-plotdiv\" id=\"3f0399e7-c1ef-4463-9f7a-3f51ad2f0b57\"></div>\n",
       "</div>"
      ]
     },
     "metadata": {},
     "output_type": "display_data"
    },
    {
     "data": {
      "application/javascript": [
       "(function(root) {\n",
       "  function embed_document(root) {\n",
       "    \n",
       "  var docs_json = {\"d7ad0c6e-3788-4d7d-a1c5-a2da4389437c\":{\"roots\":{\"references\":[{\"attributes\":{\"below\":[{\"id\":\"f17086e9-76cd-47cb-8b15-f697cdaad82f\",\"type\":\"LinearAxis\"}],\"left\":[{\"id\":\"19612aee-356a-467e-aa09-c2223d4af31a\",\"type\":\"LinearAxis\"}],\"renderers\":[{\"id\":\"f17086e9-76cd-47cb-8b15-f697cdaad82f\",\"type\":\"LinearAxis\"},{\"id\":\"c7a940c0-aaaf-4431-9fb0-c955998b9ba4\",\"type\":\"Grid\"},{\"id\":\"19612aee-356a-467e-aa09-c2223d4af31a\",\"type\":\"LinearAxis\"},{\"id\":\"860476a7-afd2-46ac-aeb8-f03328dd6178\",\"type\":\"Grid\"},{\"id\":\"b257ae1c-1224-468d-9db8-538363141be9\",\"type\":\"BoxAnnotation\"},{\"id\":\"5d0cec0a-538a-4843-ad0c-ec1de1fc38ac\",\"type\":\"GlyphRenderer\"}],\"title\":{\"id\":\"969fddce-a1a9-4c4b-9d51-e0d2a8808f60\",\"type\":\"Title\"},\"toolbar\":{\"id\":\"76abfe4e-0c00-4652-addb-16db0d17ca06\",\"type\":\"Toolbar\"},\"x_range\":{\"id\":\"d9bf7eb0-2398-410b-bbff-217d384c65e5\",\"type\":\"Range1d\"},\"x_scale\":{\"id\":\"7fb9f547-0663-43e8-9461-3ce96d21a56e\",\"type\":\"LinearScale\"},\"y_range\":{\"id\":\"ed1d22a6-dcf0-4ac9-9edb-68d0ce8ffa9d\",\"type\":\"Range1d\"},\"y_scale\":{\"id\":\"7241be26-6e9b-4502-9f34-926536258382\",\"type\":\"LinearScale\"}},\"id\":\"3036d3b6-000f-409e-b5de-230b80e383c6\",\"subtype\":\"Figure\",\"type\":\"Plot\"},{\"attributes\":{},\"id\":\"ff92dc90-cab8-4a6f-8a09-fc1f9908c364\",\"type\":\"WheelZoomTool\"},{\"attributes\":{\"callback\":null,\"end\":8.875723995994452,\"start\":-9.8585160853027},\"id\":\"d9bf7eb0-2398-410b-bbff-217d384c65e5\",\"type\":\"Range1d\"},{\"attributes\":{},\"id\":\"e60531a1-3edc-47ab-8da8-698e35d91683\",\"type\":\"UnionRenderers\"},{\"attributes\":{},\"id\":\"1dc55e7b-7241-4cfe-af6f-7d004f589ee1\",\"type\":\"BasicTickFormatter\"},{\"attributes\":{},\"id\":\"cacbfccc-9f3b-402b-b47e-79a4b8ed3af9\",\"type\":\"BasicTicker\"},{\"attributes\":{\"callback\":null,\"end\":8.875723995994452,\"start\":-9.8585160853027},\"id\":\"ed1d22a6-dcf0-4ac9-9edb-68d0ce8ffa9d\",\"type\":\"Range1d\"},{\"attributes\":{},\"id\":\"8597a5a3-179f-4c16-b70c-ad400f048bd8\",\"type\":\"BasicTicker\"},{\"attributes\":{},\"id\":\"7241be26-6e9b-4502-9f34-926536258382\",\"type\":\"LinearScale\"},{\"attributes\":{},\"id\":\"2f300f65-d2f2-4474-a07d-d7e09609d4b7\",\"type\":\"PanTool\"},{\"attributes\":{},\"id\":\"8d463474-7c65-4331-b0df-b0776252d221\",\"type\":\"Selection\"},{\"attributes\":{\"bottom_units\":\"screen\",\"fill_alpha\":{\"value\":0.5},\"fill_color\":{\"value\":\"lightgrey\"},\"left_units\":\"screen\",\"level\":\"overlay\",\"line_alpha\":{\"value\":1.0},\"line_color\":{\"value\":\"black\"},\"line_dash\":[4,4],\"line_width\":{\"value\":2},\"plot\":null,\"render_mode\":\"css\",\"right_units\":\"screen\",\"top_units\":\"screen\"},\"id\":\"b257ae1c-1224-468d-9db8-538363141be9\",\"type\":\"BoxAnnotation\"},{\"attributes\":{},\"id\":\"7fb9f547-0663-43e8-9461-3ce96d21a56e\",\"type\":\"LinearScale\"},{\"attributes\":{\"formatter\":{\"id\":\"f7638862-d63e-4036-bebb-cc37dbd417c3\",\"type\":\"BasicTickFormatter\"},\"plot\":{\"id\":\"3036d3b6-000f-409e-b5de-230b80e383c6\",\"subtype\":\"Figure\",\"type\":\"Plot\"},\"ticker\":{\"id\":\"cacbfccc-9f3b-402b-b47e-79a4b8ed3af9\",\"type\":\"BasicTicker\"}},\"id\":\"f17086e9-76cd-47cb-8b15-f697cdaad82f\",\"type\":\"LinearAxis\"},{\"attributes\":{\"overlay\":{\"id\":\"b257ae1c-1224-468d-9db8-538363141be9\",\"type\":\"BoxAnnotation\"}},\"id\":\"4f20b1f9-1b7a-41f7-b226-946dab560f2b\",\"type\":\"BoxZoomTool\"},{\"attributes\":{\"formatter\":{\"id\":\"1dc55e7b-7241-4cfe-af6f-7d004f589ee1\",\"type\":\"BasicTickFormatter\"},\"plot\":{\"id\":\"3036d3b6-000f-409e-b5de-230b80e383c6\",\"subtype\":\"Figure\",\"type\":\"Plot\"},\"ticker\":{\"id\":\"8597a5a3-179f-4c16-b70c-ad400f048bd8\",\"type\":\"BasicTicker\"}},\"id\":\"19612aee-356a-467e-aa09-c2223d4af31a\",\"type\":\"LinearAxis\"},{\"attributes\":{},\"id\":\"76244f1e-e2be-43b1-8eb4-4e3e2de9789f\",\"type\":\"SaveTool\"},{\"attributes\":{\"plot\":null,\"text\":\"\"},\"id\":\"969fddce-a1a9-4c4b-9d51-e0d2a8808f60\",\"type\":\"Title\"},{\"attributes\":{\"plot\":{\"id\":\"3036d3b6-000f-409e-b5de-230b80e383c6\",\"subtype\":\"Figure\",\"type\":\"Plot\"},\"ticker\":{\"id\":\"cacbfccc-9f3b-402b-b47e-79a4b8ed3af9\",\"type\":\"BasicTicker\"}},\"id\":\"c7a940c0-aaaf-4431-9fb0-c955998b9ba4\",\"type\":\"Grid\"},{\"attributes\":{},\"id\":\"f7638862-d63e-4036-bebb-cc37dbd417c3\",\"type\":\"BasicTickFormatter\"},{\"attributes\":{},\"id\":\"e01e45d2-8d26-479e-a8f6-4b93666f9945\",\"type\":\"ResetTool\"},{\"attributes\":{\"active_drag\":\"auto\",\"active_inspect\":\"auto\",\"active_scroll\":\"auto\",\"active_tap\":\"auto\",\"tools\":[{\"id\":\"2f300f65-d2f2-4474-a07d-d7e09609d4b7\",\"type\":\"PanTool\"},{\"id\":\"ff92dc90-cab8-4a6f-8a09-fc1f9908c364\",\"type\":\"WheelZoomTool\"},{\"id\":\"4f20b1f9-1b7a-41f7-b226-946dab560f2b\",\"type\":\"BoxZoomTool\"},{\"id\":\"76244f1e-e2be-43b1-8eb4-4e3e2de9789f\",\"type\":\"SaveTool\"},{\"id\":\"e01e45d2-8d26-479e-a8f6-4b93666f9945\",\"type\":\"ResetTool\"},{\"id\":\"e7f4bb8a-1bf0-4c4f-b1d3-f2d86be6e605\",\"type\":\"HelpTool\"}]},\"id\":\"76abfe4e-0c00-4652-addb-16db0d17ca06\",\"type\":\"Toolbar\"},{\"attributes\":{},\"id\":\"e7f4bb8a-1bf0-4c4f-b1d3-f2d86be6e605\",\"type\":\"HelpTool\"},{\"attributes\":{\"fill_color\":{\"value\":\"#1f77b4\"},\"line_color\":{\"value\":\"#1f77b4\"},\"x\":{\"field\":\"x\"},\"y\":{\"field\":\"y\"}},\"id\":\"a7fc884c-05b3-42f7-9a75-3704e8fee4b0\",\"type\":\"Circle\"},{\"attributes\":{\"data_source\":{\"id\":\"bcceb311-53a8-4f51-b019-840821f30161\",\"type\":\"ColumnDataSource\"},\"glyph\":{\"id\":\"a7fc884c-05b3-42f7-9a75-3704e8fee4b0\",\"type\":\"Circle\"},\"hover_glyph\":null,\"muted_glyph\":null,\"nonselection_glyph\":{\"id\":\"ef5907be-3f10-4a4d-b914-ef91a901393a\",\"type\":\"Circle\"},\"selection_glyph\":null,\"view\":{\"id\":\"33065c9a-2d46-4dee-a3ee-0f8b668ba194\",\"type\":\"CDSView\"}},\"id\":\"5d0cec0a-538a-4843-ad0c-ec1de1fc38ac\",\"type\":\"GlyphRenderer\"},{\"attributes\":{\"dimension\":1,\"plot\":{\"id\":\"3036d3b6-000f-409e-b5de-230b80e383c6\",\"subtype\":\"Figure\",\"type\":\"Plot\"},\"ticker\":{\"id\":\"8597a5a3-179f-4c16-b70c-ad400f048bd8\",\"type\":\"BasicTicker\"}},\"id\":\"860476a7-afd2-46ac-aeb8-f03328dd6178\",\"type\":\"Grid\"},{\"attributes\":{\"fill_alpha\":{\"value\":0.1},\"fill_color\":{\"value\":\"#1f77b4\"},\"line_alpha\":{\"value\":0.1},\"line_color\":{\"value\":\"#1f77b4\"},\"x\":{\"field\":\"x\"},\"y\":{\"field\":\"y\"}},\"id\":\"ef5907be-3f10-4a4d-b914-ef91a901393a\",\"type\":\"Circle\"},{\"attributes\":{\"callback\":null,\"data\":{\"x\":{\"__ndarray__\":\"Gu6aa4+3I8BN73kAJScjwBAmLwJ9kSLA9MmQHIj3IcDuiiLwSVohwAhcrJnUuiDADo/3+UMaIMACTwClcfMewNESTJmntB3AkNyQAmF6HMD6a2gtwUYbwMiF1hTOGxrAFJMTd2f7GMD1UeOSPucXwMbQ4LHO4BbAEn6hoFbpFcCJtngx0wEVwGD2DeL6KhTAVOj1tjplE8BzDChbtLASwMYjl4s9DRLAHIh60WB6EcDnTROIX/cQwFToAiU1gxDA7C27tJscEMDnE4PuIoQPwAV8EAm/4w7A7HQttkJUDsCkiWJvmtENwOJRdCJ6Vw3Amp1lInDhDMAaczu++GoMwE1EKieS7wvA2LZ1TtBqC8B683BjcNgKwAoKtJtrNArA9kq88gh7CcCMt7uS7agIwDLEQp4ruwfAbJWVGU+vBsCVIMO6aIMFwPm11HAWNgTApK5+fInGAsA33nL/iTQBwLiHR+XvAP+/j/N1/pJW+798MReDDW33v7e9XhGGSPO/l6VEwk7c7b84i9/6Esjkv2nMHqBbxNa/BFaBpMOdq7+bElUIAEHQP5+Z1JSoG+I/5HoUj84l7D+kKat7cBbzP6OIxzBuD/g/PZ74Kw31/D9mWvfJZ98AQNSWhy9ZMgNAPq0dUqhvBUBKn0oZApQHQBbYS3CBnAlAx3aoCLyGC0A456D/zFANQFZSgzdd+Q5AvOALoNQ/EEDMqwxawvEQQLyqc36tkhFA86iHvBYjEkDHzuuGx6MSQIo0qZvOFRNAbuTGWnt6E0ACt/z/V9MTQP8/9dgiIhRA5ZgKlsZoFECQil3XUakUQJj7hBvu5RRAgsXNN9YgFUCgIA2ETFwVQO24WOWQmhVAT2iJ49bdFUBAAT71OygWQERZIy2+exZArQCacTPaFkBELXBlQUUXQATSWSVWvhdAlR0n+qFGGEDTyoIbEt8YQONkUJpMiBlAEIqrhK1CGkDKxiJQRQ4bQF2hKpHY6htA3KEIAeHXHEAg1LPNj9QdQL/TeSnR3x5ArfC1ClH4H0B01VWDQI4gQNnb2pZPJSFAujxG5V7AIUA=\",\"dtype\":\"float64\",\"shape\":[100]},\"y\":{\"__ndarray__\":\"iPUDmdcS7b/4XuEqxLXpv5jCl8bwAOa/CGTHVRsE4r+QlStTfqDbvyCXPkCU7tK/wO8SczYvxL8AOBb2lRWUv+BiOVW5ub0/0Fk1DEWlzz9gjpb2dsfXP2DmZVcKK98/0AWuzv3u4j/sVC8p+uHlPwQPL78SYug/GO7lgNpk6j/U+sS/DOLrP8gGl6Cx0+w/2oolajg27T/sP2s8hwjtP/iSDuv/S+w/2jq/5XkE6z8sqFFJMTjpP6IZPGSr7+Y/IDGZJ5E15D/Y/T0qgBbhP8yPAxqmQds/xJqqasTI0z+YRjjU98jHP+CfPzQ1xq0/cPKf8ZlUsr+oMLiM/77Jv8yx9EOJANW/ePrsGj3T3L9CH8ld9xniv2QqHBB0gOW/LIrEMn+N6L8kYliWDTPrv3hi6jTcZO2/YiWNPqYY77+MR3AuKSPwv2gvEjMLdPC/RuQ5cUh98L9sHVb5az7wvyKYT1d9cO+/UNqhhYfZ7b+3A4DpX77rv/bFJaK2J+m/3A92Nlwg5r9nWZTpEbXiv+I13AOj6N2/0HcO9Rrc1b9mFy3fqs3Kv7gx462ns7K/KAQqG4axsD8QIHEVef7JP3TG9iXzpdU/2hRJ8ZP73T881fJ3Se7iPwkkqh+zk+Y/3vOX9oze6T8qIZMz7MDsPyj35pWyLu8/l/zg5+GO8D+JaJoLGUPxP9rOp4wwsfE/zs6nWo/X8T+L/WyJ2LXxP13nlersTPE/mzmSLuee8D82c0o8JV7vP/wekCq5A+0/0CvZ/oE56j8w10pWZAznP5TNgb/4iuM/sABfyJaK3z8YmG2ZKpnXP7DjT9bBy84/AEqPKUBYvD+AiN7DPweTv0B2WzUAkMK/SOAWS7gL0b+IyPQIMljYv3hQam0QDN+/7Ntdn0uE4r+Yclg1GRnlvxCqWct3OOe/eJjo1nPY6L8wma9NS/Hpv6TXwtePfeq/qHcgwD566r/gguQ5zubpv/gOsr8vxei/DDbcgscZ57+AsxAQWevkv7DI1n7pQuK/mIWbXi9X3r/QzteK1mTXv8D0PedsmM+/wE9h6me2vr8=\",\"dtype\":\"float64\",\"shape\":[100]}},\"selected\":{\"id\":\"8d463474-7c65-4331-b0df-b0776252d221\",\"type\":\"Selection\"},\"selection_policy\":{\"id\":\"e60531a1-3edc-47ab-8da8-698e35d91683\",\"type\":\"UnionRenderers\"}},\"id\":\"bcceb311-53a8-4f51-b019-840821f30161\",\"type\":\"ColumnDataSource\"},{\"attributes\":{\"source\":{\"id\":\"bcceb311-53a8-4f51-b019-840821f30161\",\"type\":\"ColumnDataSource\"}},\"id\":\"33065c9a-2d46-4dee-a3ee-0f8b668ba194\",\"type\":\"CDSView\"}],\"root_ids\":[\"3036d3b6-000f-409e-b5de-230b80e383c6\"]},\"title\":\"Bokeh Application\",\"version\":\"0.12.16\"}};\n",
       "  var render_items = [{\"docid\":\"d7ad0c6e-3788-4d7d-a1c5-a2da4389437c\",\"elementid\":\"3f0399e7-c1ef-4463-9f7a-3f51ad2f0b57\",\"modelid\":\"3036d3b6-000f-409e-b5de-230b80e383c6\"}];\n",
       "  root.Bokeh.embed.embed_items_notebook(docs_json, render_items);\n",
       "\n",
       "  }\n",
       "  if (root.Bokeh !== undefined) {\n",
       "    embed_document(root);\n",
       "  } else {\n",
       "    var attempts = 0;\n",
       "    var timer = setInterval(function(root) {\n",
       "      if (root.Bokeh !== undefined) {\n",
       "        embed_document(root);\n",
       "        clearInterval(timer);\n",
       "      }\n",
       "      attempts++;\n",
       "      if (attempts > 100) {\n",
       "        console.log(\"Bokeh: ERROR: Unable to run BokehJS code because BokehJS library is missing\")\n",
       "        clearInterval(timer);\n",
       "      }\n",
       "    }, 10, root)\n",
       "  }\n",
       "})(window);"
      ],
      "application/vnd.bokehjs_exec.v0+json": ""
     },
     "metadata": {
      "application/vnd.bokehjs_exec.v0+json": {
       "id": "3036d3b6-000f-409e-b5de-230b80e383c6"
      }
     },
     "output_type": "display_data"
    }
   ],
   "source": [
    "# plot projected data\n",
    "plot = figure(x_range=extent, y_range=extent)\n",
    "plot.scatter(projection[:, 0], projection[:, 1])\n",
    "show(plot)"
   ]
  },
  {
   "cell_type": "markdown",
   "metadata": {},
   "source": [
    "## binary vectors & dimensionality reduction"
   ]
  },
  {
   "cell_type": "code",
   "execution_count": 9,
   "metadata": {
    "collapsed": false
   },
   "outputs": [],
   "source": [
    "# generate binary vectors\n",
    "X = np.random.rand(90, 30)\n",
    "X[:30, :] = X[:30, :] < ([.4] * 10 + [.1] * 10 + [.1] * 10)\n",
    "X[30:60, :] = X[30:60, :] < ([.1] * 10 + [.4] * 10 + [.1] * 10)\n",
    "X[60:, :] = X[60:, :] < ([.1] * 10 + [.1] * 10 + [.4] * 10)\n",
    "\n",
    "# define 3 classes\n",
    "Y = ['red'] * 30 + ['green'] * 30 + ['blue'] * 30"
   ]
  },
  {
   "cell_type": "code",
   "execution_count": 10,
   "metadata": {
    "collapsed": false
   },
   "outputs": [],
   "source": [
    "# PCA\n",
    "projection, _ = PCA(X, n_components=2)"
   ]
  },
  {
   "cell_type": "code",
   "execution_count": 11,
   "metadata": {
    "collapsed": false
   },
   "outputs": [
    {
     "data": {
      "text/html": [
       "\n",
       "<div class=\"bk-root\">\n",
       "    <div class=\"bk-plotdiv\" id=\"2f266c61-108c-4bba-8d51-d76a954233fd\"></div>\n",
       "</div>"
      ]
     },
     "metadata": {},
     "output_type": "display_data"
    },
    {
     "data": {
      "application/javascript": [
       "(function(root) {\n",
       "  function embed_document(root) {\n",
       "    \n",
       "  var docs_json = {\"46cdad63-5b44-43d1-b02f-1ad5278f13b5\":{\"roots\":{\"references\":[{\"attributes\":{},\"id\":\"0e525dbf-e38d-44e9-b920-58fbedfef685\",\"type\":\"BasicTicker\"},{\"attributes\":{},\"id\":\"94c49c60-bc9f-4894-99cf-10c287fe3364\",\"type\":\"BasicTicker\"},{\"attributes\":{},\"id\":\"494f1e31-825c-40ae-a029-d23c7b67004d\",\"type\":\"LinearScale\"},{\"attributes\":{},\"id\":\"6365e5f5-21d4-442d-85a3-beff782c52ca\",\"type\":\"PanTool\"},{\"attributes\":{},\"id\":\"2e16faa1-07a5-4d19-9749-12a772baf7cb\",\"type\":\"BasicTickFormatter\"},{\"attributes\":{\"source\":{\"id\":\"79273b78-2f7a-473d-9b9f-b0b46eec1b34\",\"type\":\"ColumnDataSource\"}},\"id\":\"05c8abae-3cab-4561-a8db-45e023a09175\",\"type\":\"CDSView\"},{\"attributes\":{\"formatter\":{\"id\":\"2e16faa1-07a5-4d19-9749-12a772baf7cb\",\"type\":\"BasicTickFormatter\"},\"plot\":{\"id\":\"e57f1a16-c700-445b-97b4-8d0910c1d404\",\"subtype\":\"Figure\",\"type\":\"Plot\"},\"ticker\":{\"id\":\"94c49c60-bc9f-4894-99cf-10c287fe3364\",\"type\":\"BasicTicker\"}},\"id\":\"3bfd6c7b-60b0-4593-af27-03622d4e8e99\",\"type\":\"LinearAxis\"},{\"attributes\":{\"overlay\":{\"id\":\"fce04783-0031-4aed-b59f-0911bcd34522\",\"type\":\"BoxAnnotation\"}},\"id\":\"e120e193-66c8-4ff7-b6ac-11aa5ff3e3e5\",\"type\":\"BoxZoomTool\"},{\"attributes\":{\"callback\":null,\"data\":{\"fill_color\":[\"red\",\"red\",\"red\",\"red\",\"red\",\"red\",\"red\",\"red\",\"red\",\"red\",\"red\",\"red\",\"red\",\"red\",\"red\",\"red\",\"red\",\"red\",\"red\",\"red\",\"red\",\"red\",\"red\",\"red\",\"red\",\"red\",\"red\",\"red\",\"red\",\"red\",\"green\",\"green\",\"green\",\"green\",\"green\",\"green\",\"green\",\"green\",\"green\",\"green\",\"green\",\"green\",\"green\",\"green\",\"green\",\"green\",\"green\",\"green\",\"green\",\"green\",\"green\",\"green\",\"green\",\"green\",\"green\",\"green\",\"green\",\"green\",\"green\",\"green\",\"blue\",\"blue\",\"blue\",\"blue\",\"blue\",\"blue\",\"blue\",\"blue\",\"blue\",\"blue\",\"blue\",\"blue\",\"blue\",\"blue\",\"blue\",\"blue\",\"blue\",\"blue\",\"blue\",\"blue\",\"blue\",\"blue\",\"blue\",\"blue\",\"blue\",\"blue\",\"blue\",\"blue\",\"blue\",\"blue\"],\"line_color\":[\"red\",\"red\",\"red\",\"red\",\"red\",\"red\",\"red\",\"red\",\"red\",\"red\",\"red\",\"red\",\"red\",\"red\",\"red\",\"red\",\"red\",\"red\",\"red\",\"red\",\"red\",\"red\",\"red\",\"red\",\"red\",\"red\",\"red\",\"red\",\"red\",\"red\",\"green\",\"green\",\"green\",\"green\",\"green\",\"green\",\"green\",\"green\",\"green\",\"green\",\"green\",\"green\",\"green\",\"green\",\"green\",\"green\",\"green\",\"green\",\"green\",\"green\",\"green\",\"green\",\"green\",\"green\",\"green\",\"green\",\"green\",\"green\",\"green\",\"green\",\"blue\",\"blue\",\"blue\",\"blue\",\"blue\",\"blue\",\"blue\",\"blue\",\"blue\",\"blue\",\"blue\",\"blue\",\"blue\",\"blue\",\"blue\",\"blue\",\"blue\",\"blue\",\"blue\",\"blue\",\"blue\",\"blue\",\"blue\",\"blue\",\"blue\",\"blue\",\"blue\",\"blue\",\"blue\",\"blue\"],\"x\":{\"__ndarray__\":\"bI8CATqJ+D8unMbkW7boPx5R+VUR7Og/DOl0wxB1+D9Ocx5/Wo77P/GPbitfs/E/fJlRulkR7T/irksvyzDxP8Q0lxmORfI/borJigjQ4T8OCXlmLdngP3QWFYJCkO8/7ZABCjha6z8Xcpg25HTxP+Ge7t7q9dk/m6rJL6AN2z9OfKAoRSvMP/J33Hs2g9w/+QnUJU3S5j+SGbXLI+b0P2ZLpiTMRtE/co8AUpB97j/U4HzKRR7lPyTfrExPceM/qMPw5jpA5z/hminCZETtPyTEqIlBtvY/FzeBRRzf7T+kL/icxv3ZP9z+n5obss4/u9R2/ny24L9P+C2PDAbtv3J6Zdd6NvG/pEO47BD557/a3p9oSSS1v3SqyLgh9te/1j0qBqhx6r+SF+XevljVv3Z8usegf+O/dAOSiUNS4b9tzqh4fnPvv/dPeBLpJsA/QKaq2JBm5r+IYagUKlu5v+reKafBsNe/8ttv4XY0878gHh0VghGbv/erySKJPO2/Xi3al04s3r9KNQVk0GHdP74JWDy3etE/cAlTfnz71T+s2kbDsD/Wv3FVtgPDi8M/Qv0o6WmD67+IQJQsn1XRPzsrafjxs+G/Mte6tPy64b/oxPGjN37Uv/A9ZtYuQfC/0DaQAQhi6b/EPNSXnMXEvy5DEyQk5uO/7Ks/N6db6r8Hq4B/JSTTv0+JiEutpOS/YU0crNZ1vT9/LGwz+8PEPxkVp8CrUuS/Sm9tmfDL6b/0Gz77Ddf1v0HCNujGQ+y/aHzoFCgKv7+VktMPgLPCv6istiVzZtG/PEhjg1GN3r/d0lbx1ePov3KP5p21Zuy/yg6DyA4L1b98FR6/MPzXv7C+dQvgSt+/wBQuEKoG1z9IDPloBI/tvzbUaLRjR+K/5Esq5wwyur+wIoTpz7aWv/CyVe65NIm/IOJiDrtPeT+ul7/7q/jPv3IFwsrNFdG/\",\"dtype\":\"float64\",\"shape\":[90]},\"y\":{\"__ndarray__\":\"xwB3trMYxL8UwNfF8IyxP0RBpk9Kucc/bw023PpMzD9YMpOO2eKgP2daTUkswcm/H/qs9SCmyz8QYbkPtlbUPza+oWfR/70/+s3YrT4byT8EDhzkBu7JP2vsYEOZx9w/0M8dzQ5mij/YwwasKw7Pv2+44udg0dI/ALMCyoiywr/HGPnh+v+/P27BKzzkRrS/RMVUmSlewD8PwcTnrUvVv04dHCJYBdM/eOWGa8f4kD86Lu9ufMfkv1YlWuhN9fS/0NRUAB472T/aTyfgd3jYvwDEw6tPsyw/j2HckxpZ5b8cY9zwnl/Bv3xf4P34Bts/JypSCuKf2L+XeRtUNcjiv3yFU+oOnPe/muf4jyF05L+6Ye5s1N3XvzvxZNxTa9q/oL0E+heN5r/XSFbhliL0v+C6KZIYS/C/XKLDYQZt2r99Y83OXQL0v3zYSuMqd9W/d1Bt8xPO5r+Ef0pd2nfmv5f42AZmxOS/jQSXfEjq1L/jwBHD7hjcv0c2IuAdD+a/ytauRlSF5b8GYugoQ+3Bv90lw1iLDuK/9SRNh/ym0D9Ezqh4bJHzv+buOFimy+m/tGThJ66g778U5hD32Tzwv8ds5GD4Z9i/KhkUTdEj8L8ASzf3FwTiv3VLssRpQfi/oKCvThek6T+CiaE38YzuP2jCXhWm4fI/1Erj4W/LxD9TS5g5T17mP8nTlSzBKew/RDLIiMNs2j9YJv2a9myfPxy9Fnpsieo/eILBJSHw8z8CHS3LEUXfP+/lbIOgJPA/EAzYlwJ1rT+ec1F7eRz2P+5r9OATass/c6BntQ8G7j9la/M5iNnhPxfwdwa9n/c/qJKYiHux0T+P9+PdXW/aPwjEZZM8+fQ/JWHTM54T3j98eu+sYdnpPxMpUBYpyu4/UP/O5zi27z90AqXOXOLdP8BZ2qxAqt4/QurVhUjuwT9okNue3mv2PylY2tE3y+E/\",\"dtype\":\"float64\",\"shape\":[90]}},\"selected\":{\"id\":\"6dbe3cf4-b7e6-4069-88a1-58c569903e73\",\"type\":\"Selection\"},\"selection_policy\":{\"id\":\"efde6a64-de05-495c-bdd0-36211ec24845\",\"type\":\"UnionRenderers\"}},\"id\":\"79273b78-2f7a-473d-9b9f-b0b46eec1b34\",\"type\":\"ColumnDataSource\"},{\"attributes\":{},\"id\":\"a99f5460-7511-4326-b230-a046369ab5f5\",\"type\":\"ResetTool\"},{\"attributes\":{},\"id\":\"9bf2a340-ad4b-416b-b10d-abbce1221135\",\"type\":\"SaveTool\"},{\"attributes\":{\"callback\":null},\"id\":\"02bc3fa5-ba26-440b-b71f-6b2e1fbee5d9\",\"type\":\"DataRange1d\"},{\"attributes\":{},\"id\":\"67f36bb7-ddc5-4525-bf30-2e5358c521c7\",\"type\":\"HelpTool\"},{\"attributes\":{},\"id\":\"bec8789a-d16c-4561-8452-e954db5e951b\",\"type\":\"BasicTickFormatter\"},{\"attributes\":{\"active_drag\":\"auto\",\"active_inspect\":\"auto\",\"active_scroll\":\"auto\",\"active_tap\":\"auto\",\"tools\":[{\"id\":\"6365e5f5-21d4-442d-85a3-beff782c52ca\",\"type\":\"PanTool\"},{\"id\":\"14807496-ccd0-4dec-b4ed-c2cd272a8ca6\",\"type\":\"WheelZoomTool\"},{\"id\":\"e120e193-66c8-4ff7-b6ac-11aa5ff3e3e5\",\"type\":\"BoxZoomTool\"},{\"id\":\"9bf2a340-ad4b-416b-b10d-abbce1221135\",\"type\":\"SaveTool\"},{\"id\":\"a99f5460-7511-4326-b230-a046369ab5f5\",\"type\":\"ResetTool\"},{\"id\":\"67f36bb7-ddc5-4525-bf30-2e5358c521c7\",\"type\":\"HelpTool\"}]},\"id\":\"469c8bbc-7cfb-45f3-b80b-5a5eeb0a384d\",\"type\":\"Toolbar\"},{\"attributes\":{\"dimension\":1,\"plot\":{\"id\":\"e57f1a16-c700-445b-97b4-8d0910c1d404\",\"subtype\":\"Figure\",\"type\":\"Plot\"},\"ticker\":{\"id\":\"0e525dbf-e38d-44e9-b920-58fbedfef685\",\"type\":\"BasicTicker\"}},\"id\":\"fc6c1b1c-46f4-4eb0-b55d-f41ff3783279\",\"type\":\"Grid\"},{\"attributes\":{},\"id\":\"efde6a64-de05-495c-bdd0-36211ec24845\",\"type\":\"UnionRenderers\"},{\"attributes\":{\"fill_alpha\":{\"value\":0.1},\"fill_color\":{\"value\":\"#1f77b4\"},\"line_alpha\":{\"value\":0.1},\"line_color\":{\"value\":\"#1f77b4\"},\"x\":{\"field\":\"x\"},\"y\":{\"field\":\"y\"}},\"id\":\"e8fa1ae9-a13c-4968-8c92-fab48d804638\",\"type\":\"Circle\"},{\"attributes\":{\"data_source\":{\"id\":\"79273b78-2f7a-473d-9b9f-b0b46eec1b34\",\"type\":\"ColumnDataSource\"},\"glyph\":{\"id\":\"1026cb4d-2c94-4da5-a8ad-6d648527178d\",\"type\":\"Circle\"},\"hover_glyph\":null,\"muted_glyph\":null,\"nonselection_glyph\":{\"id\":\"e8fa1ae9-a13c-4968-8c92-fab48d804638\",\"type\":\"Circle\"},\"selection_glyph\":null,\"view\":{\"id\":\"05c8abae-3cab-4561-a8db-45e023a09175\",\"type\":\"CDSView\"}},\"id\":\"e2c76221-a882-44dc-9022-8cbdce5137c9\",\"type\":\"GlyphRenderer\"},{\"attributes\":{\"below\":[{\"id\":\"3bfd6c7b-60b0-4593-af27-03622d4e8e99\",\"type\":\"LinearAxis\"}],\"left\":[{\"id\":\"2290d6c8-b017-453b-9524-274876d91771\",\"type\":\"LinearAxis\"}],\"renderers\":[{\"id\":\"3bfd6c7b-60b0-4593-af27-03622d4e8e99\",\"type\":\"LinearAxis\"},{\"id\":\"5c84c7c3-b06e-4bbd-ae09-e605fd45514f\",\"type\":\"Grid\"},{\"id\":\"2290d6c8-b017-453b-9524-274876d91771\",\"type\":\"LinearAxis\"},{\"id\":\"fc6c1b1c-46f4-4eb0-b55d-f41ff3783279\",\"type\":\"Grid\"},{\"id\":\"fce04783-0031-4aed-b59f-0911bcd34522\",\"type\":\"BoxAnnotation\"},{\"id\":\"e2c76221-a882-44dc-9022-8cbdce5137c9\",\"type\":\"GlyphRenderer\"}],\"title\":{\"id\":\"6371895f-3ebf-45d2-9ba6-9516889cb2ed\",\"type\":\"Title\"},\"toolbar\":{\"id\":\"469c8bbc-7cfb-45f3-b80b-5a5eeb0a384d\",\"type\":\"Toolbar\"},\"x_range\":{\"id\":\"02bc3fa5-ba26-440b-b71f-6b2e1fbee5d9\",\"type\":\"DataRange1d\"},\"x_scale\":{\"id\":\"8ed0ef80-2a4f-47dc-849b-6e1c0e956b0e\",\"type\":\"LinearScale\"},\"y_range\":{\"id\":\"30d25638-3c30-467f-abfb-67074b5cddd1\",\"type\":\"DataRange1d\"},\"y_scale\":{\"id\":\"494f1e31-825c-40ae-a029-d23c7b67004d\",\"type\":\"LinearScale\"}},\"id\":\"e57f1a16-c700-445b-97b4-8d0910c1d404\",\"subtype\":\"Figure\",\"type\":\"Plot\"},{\"attributes\":{},\"id\":\"14807496-ccd0-4dec-b4ed-c2cd272a8ca6\",\"type\":\"WheelZoomTool\"},{\"attributes\":{\"fill_color\":{\"field\":\"fill_color\"},\"line_color\":{\"field\":\"line_color\"},\"x\":{\"field\":\"x\"},\"y\":{\"field\":\"y\"}},\"id\":\"1026cb4d-2c94-4da5-a8ad-6d648527178d\",\"type\":\"Circle\"},{\"attributes\":{},\"id\":\"8ed0ef80-2a4f-47dc-849b-6e1c0e956b0e\",\"type\":\"LinearScale\"},{\"attributes\":{},\"id\":\"6dbe3cf4-b7e6-4069-88a1-58c569903e73\",\"type\":\"Selection\"},{\"attributes\":{\"bottom_units\":\"screen\",\"fill_alpha\":{\"value\":0.5},\"fill_color\":{\"value\":\"lightgrey\"},\"left_units\":\"screen\",\"level\":\"overlay\",\"line_alpha\":{\"value\":1.0},\"line_color\":{\"value\":\"black\"},\"line_dash\":[4,4],\"line_width\":{\"value\":2},\"plot\":null,\"render_mode\":\"css\",\"right_units\":\"screen\",\"top_units\":\"screen\"},\"id\":\"fce04783-0031-4aed-b59f-0911bcd34522\",\"type\":\"BoxAnnotation\"},{\"attributes\":{\"formatter\":{\"id\":\"bec8789a-d16c-4561-8452-e954db5e951b\",\"type\":\"BasicTickFormatter\"},\"plot\":{\"id\":\"e57f1a16-c700-445b-97b4-8d0910c1d404\",\"subtype\":\"Figure\",\"type\":\"Plot\"},\"ticker\":{\"id\":\"0e525dbf-e38d-44e9-b920-58fbedfef685\",\"type\":\"BasicTicker\"}},\"id\":\"2290d6c8-b017-453b-9524-274876d91771\",\"type\":\"LinearAxis\"},{\"attributes\":{\"callback\":null},\"id\":\"30d25638-3c30-467f-abfb-67074b5cddd1\",\"type\":\"DataRange1d\"},{\"attributes\":{\"plot\":null,\"text\":\"\"},\"id\":\"6371895f-3ebf-45d2-9ba6-9516889cb2ed\",\"type\":\"Title\"},{\"attributes\":{\"plot\":{\"id\":\"e57f1a16-c700-445b-97b4-8d0910c1d404\",\"subtype\":\"Figure\",\"type\":\"Plot\"},\"ticker\":{\"id\":\"94c49c60-bc9f-4894-99cf-10c287fe3364\",\"type\":\"BasicTicker\"}},\"id\":\"5c84c7c3-b06e-4bbd-ae09-e605fd45514f\",\"type\":\"Grid\"}],\"root_ids\":[\"e57f1a16-c700-445b-97b4-8d0910c1d404\"]},\"title\":\"Bokeh Application\",\"version\":\"0.12.16\"}};\n",
       "  var render_items = [{\"docid\":\"46cdad63-5b44-43d1-b02f-1ad5278f13b5\",\"elementid\":\"2f266c61-108c-4bba-8d51-d76a954233fd\",\"modelid\":\"e57f1a16-c700-445b-97b4-8d0910c1d404\"}];\n",
       "  root.Bokeh.embed.embed_items_notebook(docs_json, render_items);\n",
       "\n",
       "  }\n",
       "  if (root.Bokeh !== undefined) {\n",
       "    embed_document(root);\n",
       "  } else {\n",
       "    var attempts = 0;\n",
       "    var timer = setInterval(function(root) {\n",
       "      if (root.Bokeh !== undefined) {\n",
       "        embed_document(root);\n",
       "        clearInterval(timer);\n",
       "      }\n",
       "      attempts++;\n",
       "      if (attempts > 100) {\n",
       "        console.log(\"Bokeh: ERROR: Unable to run BokehJS code because BokehJS library is missing\")\n",
       "        clearInterval(timer);\n",
       "      }\n",
       "    }, 10, root)\n",
       "  }\n",
       "})(window);"
      ],
      "application/vnd.bokehjs_exec.v0+json": ""
     },
     "metadata": {
      "application/vnd.bokehjs_exec.v0+json": {
       "id": "e57f1a16-c700-445b-97b4-8d0910c1d404"
      }
     },
     "output_type": "display_data"
    }
   ],
   "source": [
    "# plot projected data: 30D -> 2D\n",
    "plot = figure()\n",
    "plot.scatter(projection[:, 0], projection[:, 1], color=Y)\n",
    "show(plot)"
   ]
  }
 ],
 "metadata": {
  "kernelspec": {
   "display_name": "Python 3",
   "language": "python",
   "name": "python3"
  },
  "language_info": {
   "codemirror_mode": {
    "name": "ipython",
    "version": 3
   },
   "file_extension": ".py",
   "mimetype": "text/x-python",
   "name": "python",
   "nbconvert_exporter": "python",
   "pygments_lexer": "ipython3",
   "version": "3.6.5"
  }
 },
 "nbformat": 4,
 "nbformat_minor": 2
}
