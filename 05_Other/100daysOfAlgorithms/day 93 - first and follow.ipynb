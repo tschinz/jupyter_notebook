{
 "cells": [
  {
   "cell_type": "markdown",
   "metadata": {},
   "source": [
    "# First And Follow\n",
    "If you plan to implement own parser for a [context-free grammar](https://en.wikipedia.org/wiki/Context-free_grammar), construction of FIRST and FOLLOW sets will be the first algorithm you will have to spend your time on.\n",
    "\n",
    "And since definition of formal languages and grammars is much more complicated than we need at the moment, I’ll stick to the intuitive explanation.\n",
    "\n",
    "$$S \\rightarrow A$$\n",
    "$$A \\rightarrow A1$$\n",
    "$$A \\rightarrow 1$$\n",
    "\n",
    "Context-free grammar is a set of production rules that consists of terminals and non-terminals. Terminal is a “physical” character that may occur in the parsed text. Non-terminal is a “meta” character that must occur on the left side of production rule.\n",
    "\n",
    "In the grammar above, $S$, $A$ are non-terminals, while $1$ is terminal.\n",
    "\n",
    "$$ S \\rightarrow A \\rightarrow A1 \\rightarrow A11 \\rightarrow 111$$\n",
    "\n",
    "We start with a starting symbol $S$ and repetitively rewrite non-terminals using production rules. Once the sequence contains only terminals, we get a word that is accepted by the grammar.\n",
    "\n",
    "$$S \\rightarrow A$$\n",
    "$$A \\rightarrow 1A$$\n",
    "$$A \\rightarrow 1$$\n",
    "\n",
    "Notice that this grammar is different from the first one, yet, it produces the same language.\n",
    "\n",
    "$$ S \\rightarrow A \\rightarrow A1 \\rightarrow A11 \\rightarrow 111$$\n",
    "\n",
    "Due to the second rule in each grammar, the first one is called left-recursive and the second one is called right-recursive.\n",
    "\n",
    "$$S \\rightarrow A$$\n",
    "$$A \\rightarrow 1A$$\n",
    "$$A \\rightarrow A1$$\n",
    "$$A \\rightarrow 1$$\n",
    "\n",
    "The third grammar also describes the same language. It is both, left-recursive and right-recursive [which is not a good thing]. And what’s worse, it is ambiguous, since it can produce the same word by a different productions.\n",
    "\n",
    "$$S \\rightarrow A \\rightarrow A1 \\rightarrow A11 \\rightarrow 111$$\n",
    "$$S \\rightarrow A \\rightarrow 1A \\rightarrow 11A \\rightarrow 111$$\n",
    "$$S \\rightarrow A \\rightarrow A1 \\rightarrow 1A1 \\rightarrow 111$$\n",
    "\n",
    "Ambiguity is very bad and there are different types of parsers that deal with these kinds of problems in a different ways.\n",
    "\n",
    "$$ S \\rightarrow A $$\n",
    "$$ A \\rightarrow (A) $$\n",
    "$$ A \\rightarrow () $$\n",
    "$$ S \\rightarrow A \\rightarrow (A) \\rightarrow ((A)) \\rightarrow (((...)))$$\n",
    "\n",
    "This last grammar is able to generate any finite word with matching parentheses.\n",
    "\n",
    "If you know regular expressions, you are probably aware that it is not possible to write regex that would match any number of parentheses. This is what makes context-free grammars so important for compilers — it is the simplest grammar that is strong enough to describe syntax of programming language.\n",
    "\n",
    "Now, back to the algorithm.\n",
    "\n",
    "The FIRST set enumerates possible terminals that a non-terminal may begin with.\n",
    "\n",
    "The FOLLOW set enumerates possible terminals that a non-terminal may be followed by.\n",
    "\n",
    "Check the two examples I have provided at the end of this article.\n",
    "\n",
    "When you build your parser, either it is SLR, LALR, LR(k) or LL(k), you will need to construct the FIRST and FOLLOW sets. These sets are used to build a parsing table to control a finite state automaton processing the language."
   ]
  },
  {
   "cell_type": "markdown",
   "metadata": {},
   "source": [
    "## algorithm"
   ]
  },
  {
   "cell_type": "code",
   "execution_count": 1,
   "metadata": {
    "collapsed": true
   },
   "outputs": [],
   "source": [
    "def first_and_follow(grammar):\n",
    "    # first & follow sets, epsilon-productions\n",
    "    first = {i: set() for i in grammar.nonterminals}\n",
    "    first.update((i, {i}) for i in grammar.terminals)\n",
    "    follow = {i: set() for i in grammar.nonterminals}\n",
    "    epsilon = set()\n",
    "\n",
    "    while True:\n",
    "        updated = False\n",
    "        \n",
    "        for nt, expression in grammar.rules:\n",
    "            # FIRST set w.r.t epsilon-productions\n",
    "            for symbol in expression:\n",
    "                updated |= union(first[nt], first[symbol])\n",
    "                if symbol not in epsilon:\n",
    "                    break\n",
    "            else:\n",
    "                updated |= union(epsilon, {nt})\n",
    "                \n",
    "            # FOLLOW set w.r.t epsilon-productions\n",
    "            aux = follow[nt]\n",
    "            for symbol in reversed(expression):\n",
    "                if symbol in follow:\n",
    "                    updated |= union(follow[symbol], aux)\n",
    "                if symbol in epsilon:\n",
    "                    aux = aux.union(first[symbol])\n",
    "                else:\n",
    "                    aux = first[symbol]\n",
    "        \n",
    "        if not updated:\n",
    "            return first, follow, epsilon"
   ]
  },
  {
   "cell_type": "code",
   "execution_count": 2,
   "metadata": {
    "collapsed": true
   },
   "outputs": [],
   "source": [
    "def union(first, begins):\n",
    "    n = len(first)\n",
    "    first |= begins\n",
    "    return len(first) != n"
   ]
  },
  {
   "cell_type": "code",
   "execution_count": 3,
   "metadata": {
    "collapsed": true
   },
   "outputs": [],
   "source": [
    "class Grammar:\n",
    "    \n",
    "    def __init__(self, *rules):\n",
    "        self.rules = tuple(self._parse(rule) for rule in rules)\n",
    "\n",
    "    def _parse(self, rule):\n",
    "        return tuple(rule.replace(' ', '').split('::='))\n",
    "        \n",
    "    def __getitem__(self, nonterminal):\n",
    "        yield from [rule for rule in self.rules if rule[0] == nonterminal]\n",
    "        \n",
    "    @staticmethod\n",
    "    def is_nonterminal(symbol):\n",
    "        return symbol.isalpha() and symbol.isupper()\n",
    "        \n",
    "    @property\n",
    "    def nonterminals(self):\n",
    "        return set(nt for nt, _ in self.rules)\n",
    "        \n",
    "    @property\n",
    "    def terminals(self):\n",
    "        return set(\n",
    "            symbol\n",
    "            for _, expression in self.rules\n",
    "            for symbol in expression\n",
    "            if not self.is_nonterminal(symbol)\n",
    "        )"
   ]
  },
  {
   "cell_type": "markdown",
   "metadata": {},
   "source": [
    "## left-recursive grammar w/ epsilon-production"
   ]
  },
  {
   "cell_type": "code",
   "execution_count": 4,
   "metadata": {
    "collapsed": true
   },
   "outputs": [],
   "source": [
    "first, follow, epsilon = first_and_follow(Grammar(\n",
    "    '^ ::= A $',\n",
    "    'A ::= ABBC',\n",
    "    'A ::= B',\n",
    "    'A ::= 1',\n",
    "    'B ::= C',\n",
    "    'B ::= 2',\n",
    "    'C ::= 3',\n",
    "    'C ::= ',\n",
    "))"
   ]
  },
  {
   "cell_type": "code",
   "execution_count": 5,
   "metadata": {
    "collapsed": false
   },
   "outputs": [
    {
     "data": {
      "text/plain": [
       "{'C': {'3'},\n",
       " 'B': {'2', '3'},\n",
       " '^': {'$', '1', '2', '3'},\n",
       " 'A': {'1', '2', '3'},\n",
       " '2': {'2'},\n",
       " '1': {'1'},\n",
       " '3': {'3'},\n",
       " '$': {'$'}}"
      ]
     },
     "execution_count": 5,
     "metadata": {},
     "output_type": "execute_result"
    }
   ],
   "source": [
    "first"
   ]
  },
  {
   "cell_type": "code",
   "execution_count": 6,
   "metadata": {
    "collapsed": false
   },
   "outputs": [
    {
     "data": {
      "text/plain": [
       "{'C': {'$', '2', '3'}, 'B': {'$', '2', '3'}, '^': set(), 'A': {'$', '2', '3'}}"
      ]
     },
     "execution_count": 6,
     "metadata": {},
     "output_type": "execute_result"
    }
   ],
   "source": [
    "follow"
   ]
  },
  {
   "cell_type": "code",
   "execution_count": 7,
   "metadata": {
    "collapsed": false
   },
   "outputs": [
    {
     "data": {
      "text/plain": [
       "{'A', 'B', 'C'}"
      ]
     },
     "execution_count": 7,
     "metadata": {},
     "output_type": "execute_result"
    }
   ],
   "source": [
    "epsilon"
   ]
  },
  {
   "cell_type": "markdown",
   "metadata": {},
   "source": [
    "## arithmetic expressions"
   ]
  },
  {
   "cell_type": "code",
   "execution_count": 8,
   "metadata": {
    "collapsed": true
   },
   "outputs": [],
   "source": [
    "first, follow, epsilon = first_and_follow(Grammar(\n",
    "    '^ ::= E $',\n",
    "    'E ::= E + T',\n",
    "    'E ::= T',\n",
    "    'T ::= T * F',\n",
    "    'T ::= F',\n",
    "    'F ::= ( E )',\n",
    "    'F ::= x',\n",
    "))"
   ]
  },
  {
   "cell_type": "code",
   "execution_count": 9,
   "metadata": {
    "collapsed": false
   },
   "outputs": [
    {
     "data": {
      "text/plain": [
       "{'^': {'(', 'x'},\n",
       " 'T': {'(', 'x'},\n",
       " 'E': {'(', 'x'},\n",
       " 'F': {'(', 'x'},\n",
       " '*': {'*'},\n",
       " '(': {'('},\n",
       " 'x': {'x'},\n",
       " ')': {')'},\n",
       " '+': {'+'},\n",
       " '$': {'$'}}"
      ]
     },
     "execution_count": 9,
     "metadata": {},
     "output_type": "execute_result"
    }
   ],
   "source": [
    "first"
   ]
  },
  {
   "cell_type": "code",
   "execution_count": 10,
   "metadata": {
    "collapsed": false
   },
   "outputs": [
    {
     "data": {
      "text/plain": [
       "{'^': set(),\n",
       " 'T': {'$', ')', '*', '+'},\n",
       " 'E': {'$', ')', '+'},\n",
       " 'F': {'$', ')', '*', '+'}}"
      ]
     },
     "execution_count": 10,
     "metadata": {},
     "output_type": "execute_result"
    }
   ],
   "source": [
    "follow"
   ]
  },
  {
   "cell_type": "code",
   "execution_count": 11,
   "metadata": {
    "collapsed": false
   },
   "outputs": [
    {
     "data": {
      "text/plain": [
       "set()"
      ]
     },
     "execution_count": 11,
     "metadata": {},
     "output_type": "execute_result"
    }
   ],
   "source": [
    "epsilon"
   ]
  }
 ],
 "metadata": {
  "kernelspec": {
   "display_name": "Python 3",
   "language": "python",
   "name": "python3"
  },
  "language_info": {
   "codemirror_mode": {
    "name": "ipython",
    "version": 3
   },
   "file_extension": ".py",
   "mimetype": "text/x-python",
   "name": "python",
   "nbconvert_exporter": "python",
   "pygments_lexer": "ipython3",
   "version": "3.6.5"
  }
 },
 "nbformat": 4,
 "nbformat_minor": 2
}
