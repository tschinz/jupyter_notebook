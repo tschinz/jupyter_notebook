{
 "cells": [
  {
   "cell_type": "markdown",
   "metadata": {},
   "source": [
    "# Romberg integration\n",
    "[Romberg’s method](https://en.wikipedia.org/wiki/Romberg%27s_method) to find a definite integral combines two formulas, [extended trapezoidal](https://en.wikipedia.org/wiki/Trapezoidal_rule) rule and [Richardson extrapolation](https://en.wikipedia.org/wiki/Richardson_extrapolation), to get a good approximation in relatively low number of steps.\n",
    "\n",
    "Let’s explain how it all works without causing a serious headache.\n",
    "\n",
    "The simplest way to find a definite integral of function **f** on interval **(a, b)** is to use a trapezoidal rule.\n",
    "\n",
    "$\\int_a^bf(x)dx \\approx \\frac{b-a}{2}(f(a)+f(b))$\n",
    "\n",
    "trapezoidal rule\n",
    "\n",
    "It’s the left-most chart and you can see that the formula is merely an area of [trapezoid](https://en.wikipedia.org/wiki/Trapezoid).\n",
    "\n",
    "![day98-romberg_integration_1](resource/day98-romberg_integration_1.png)\n",
    "\n",
    "definite integral estimates\n",
    "\n",
    "You can also notice that there’s a certain error which can be improved using extended trapezoidal rule. Split interval **(a, b)** into two halves, apply trapezoidal rule onto each half and sum them up.\n",
    "\n",
    "$\\int_a^bf(x)dx \\approx \\frac{b-a}{4}(f(a)+2f(\\frac{a+b}{2}+f(b)))$\n",
    "\n",
    "extended trapezoidal rule\n",
    "\n",
    "It’s the chart in the middle. The formula is merely an area of two trapezoids.\n",
    "\n",
    "The third plot contains another halving and even better estimate. We can go on and on until we are satisfied with the estimate error.\n",
    "\n",
    "The problem is, the convergence in this way would be very slow. And here comes Richardson extrapolation to the rescue.\n",
    "\n",
    "In Richardson extrapolation we take two bad estimates and combine them into a good one. The best explanation I’ve ever seen is definitely described in this Dilbert strip, check it out.\n",
    "\n",
    "![day96-romber_integration_2](resource/day96-romber_integration_2.gif)\n",
    "\n",
    "Dilbert Comic Strip on 2008-05-07 | Dilbert by Scott Adams\n",
    "\n",
    "However, unlike Dilbert we are lucky since we know error bound of each estimate.\n",
    "\n",
    "In other words, if we are sure that one estimate is better that the other [e.g. due to smaller interval in extended trapezoidal rule], we also know in which direction should we expect the exact solution.\n",
    "\n",
    "$F(0) = \\frac{2^kF(\\frac{h}{2})-F(h)}{2^k-1}+O(h^{k+1})$\n",
    "\n",
    "Richardson extrapolation\n",
    "\n",
    "Finally, Romberg’s method builds a table of estimates with surprisingly accurate results.\n",
    "\n",
    "![day98-romberg_integration_2](resource/day98-romberg_integration_2.png)\n",
    "\n",
    "Romberg integration\n",
    "\n",
    "The first column contains results of extended trapezoidal rule, each row using twice as many splits as the row before. All the other values are results of Richardson extrapolation.\n",
    "\n",
    "The diagonal contains the final estimates and each diagonal element gives about **two more digits of precision**. Hence the element at 5th row and 5th column gives an estimate of about 10 digits of accuracy."
   ]
  },
  {
   "cell_type": "code",
   "execution_count": 1,
   "metadata": {
    "collapsed": true
   },
   "outputs": [],
   "source": [
    "import numpy as np\n",
    "import sys\n",
    "\n",
    "np.set_printoptions(precision=14, linewidth=120)"
   ]
  },
  {
   "cell_type": "markdown",
   "metadata": {},
   "source": [
    "## algorithm"
   ]
  },
  {
   "cell_type": "code",
   "execution_count": 2,
   "metadata": {
    "collapsed": true
   },
   "outputs": [],
   "source": [
    "def integrate(fn, a, b, steps=5, debug=False, exact=None):\n",
    "    table = np.zeros((steps, steps), dtype=np.float64)\n",
    "    pow_4 = 4 ** np.arange(steps, dtype=np.float64) - 1\n",
    "\n",
    "    # trapezoidal rule\n",
    "    h = (b - a)\n",
    "    table[0, 0] = h * (fn(a) + fn(b)) / 2\n",
    "\n",
    "    for j in range(1, steps):\n",
    "        h /= 2\n",
    "\n",
    "        # extended trapezoidal rule\n",
    "        table[j, 0] = table[j - 1, 0] / 2\n",
    "        table[j, 0] += h * np.sum(fn(a + i * h) for i in range(1, 2 ** j + 1, 2))\n",
    "\n",
    "        # richardson extrapolation\n",
    "        for k in range(1, j + 1):\n",
    "            table[j, k] = table[j, k - 1] + (table[j, k - 1] - table[j - 1, k - 1]) / pow_4[k]\n",
    "\n",
    "    # debug\n",
    "    if debug:\n",
    "        print(table, file=sys.stderr)\n",
    "        if exact is not None:\n",
    "            errors = ['%.2e' % i for i in np.abs(table.diagonal() - exact)]\n",
    "            print('abs. error:', errors, file=sys.stderr)\n",
    "\n",
    "    return table[-1, -1]"
   ]
  },
  {
   "cell_type": "markdown",
   "metadata": {},
   "source": [
    "## integration"
   ]
  },
  {
   "cell_type": "code",
   "execution_count": 3,
   "metadata": {},
   "outputs": [
    {
     "name": "stderr",
     "output_type": "stream",
     "text": [
      "[[0.68393972058572 0.               0.               0.               0.              ]\n",
      " [0.73137025182856 0.74718042890951 0.               0.               0.              ]\n",
      " [0.74298409780038 0.74685537979099 0.74683370984975 0.               0.              ]\n",
      " [0.7458656148457  0.74682612052747 0.7468241699099  0.74682401848228 0.              ]\n",
      " [0.74658459678822 0.74682425743573 0.74682413322961 0.74682413264739 0.74682413309509]]\n",
      "abs. error: ['6.29e-02', '3.56e-04', '9.58e-06', '1.14e-07', '2.83e-10']\n"
     ]
    },
    {
     "data": {
      "text/plain": [
       "0.7468241330950943"
      ]
     },
     "execution_count": 3,
     "metadata": {},
     "output_type": "execute_result"
    }
   ],
   "source": [
    "# integral[0, 1] of e^(-x^2)\n",
    "integrate(lambda x: np.exp(-x * x), 0, 1, debug=True, exact=0.746824132812427)"
   ]
  },
  {
   "cell_type": "code",
   "execution_count": 4,
   "metadata": {},
   "outputs": [
    {
     "name": "stderr",
     "output_type": "stream",
     "text": [
      "[[0.75             0.               0.               0.               0.              ]\n",
      " [0.70833333333333 0.69444444444444 0.               0.               0.              ]\n",
      " [0.69702380952381 0.69325396825397 0.6931746031746  0.               0.              ]\n",
      " [0.69412185037185 0.69315453065453 0.69314790148123 0.69314747764483 0.              ]\n",
      " [0.69339120220753 0.69314765281942 0.69314719429708 0.69314718307193 0.69314718191674]]\n",
      "abs. error: ['5.69e-02', '1.30e-03', '2.74e-05', '2.97e-07', '1.36e-09']\n"
     ]
    },
    {
     "data": {
      "text/plain": [
       "0.693147181916745"
      ]
     },
     "execution_count": 4,
     "metadata": {},
     "output_type": "execute_result"
    }
   ],
   "source": [
    "# ln(2)\n",
    "integrate(1..__truediv__, 1, 2, debug=True, exact=np.log(2))"
   ]
  },
  {
   "cell_type": "code",
   "execution_count": 5,
   "metadata": {},
   "outputs": [
    {
     "name": "stderr",
     "output_type": "stream",
     "text": [
      "[[0.5          0.           0.           0.           0.          ]\n",
      " [0.3125       0.25         0.           0.           0.          ]\n",
      " [0.265625     0.25         0.25         0.           0.          ]\n",
      " [0.25390625   0.25         0.25         0.25         0.          ]\n",
      " [0.2509765625 0.25         0.25         0.25         0.25        ]]\n",
      "abs. error: ['2.50e-01', '0.00e+00', '0.00e+00', '0.00e+00', '0.00e+00']\n"
     ]
    },
    {
     "data": {
      "text/plain": [
       "0.25"
      ]
     },
     "execution_count": 5,
     "metadata": {},
     "output_type": "execute_result"
    }
   ],
   "source": [
    "# integral[0, 1] of x^3\n",
    "integrate(lambda x: x**3, 0, 1, debug=True, exact=.25)"
   ]
  },
  {
   "cell_type": "markdown",
   "metadata": {},
   "source": [
    "## logarithmus naturalis"
   ]
  },
  {
   "cell_type": "code",
   "execution_count": 6,
   "metadata": {
    "collapsed": true
   },
   "outputs": [],
   "source": [
    "def ln(x):\n",
    "    if x <= 0:\n",
    "        raise ValueError()\n",
    "    m, e = np.frexp(x)\n",
    "    return integrate(1..__truediv__, 1, m) + e * 0.6931471805599453"
   ]
  },
  {
   "cell_type": "code",
   "execution_count": 7,
   "metadata": {},
   "outputs": [
    {
     "data": {
      "text/plain": [
       "0.999999999997895"
      ]
     },
     "execution_count": 7,
     "metadata": {},
     "output_type": "execute_result"
    }
   ],
   "source": [
    "ln(np.e)"
   ]
  },
  {
   "cell_type": "code",
   "execution_count": 8,
   "metadata": {},
   "outputs": [
    {
     "data": {
      "text/plain": [
       "0.6931471792031456"
      ]
     },
     "execution_count": 8,
     "metadata": {},
     "output_type": "execute_result"
    }
   ],
   "source": [
    "ln(2)"
   ]
  },
  {
   "cell_type": "code",
   "execution_count": 9,
   "metadata": {},
   "outputs": [
    {
     "data": {
      "text/plain": [
       "1.1447298858493882"
      ]
     },
     "execution_count": 9,
     "metadata": {},
     "output_type": "execute_result"
    }
   ],
   "source": [
    "ln(np.pi)"
   ]
  },
  {
   "cell_type": "markdown",
   "metadata": {},
   "source": [
    "## normal distribution"
   ]
  },
  {
   "cell_type": "code",
   "execution_count": 10,
   "metadata": {
    "collapsed": true
   },
   "outputs": [],
   "source": [
    "def norm_pdf(x, mean, sd):\n",
    "    x0 = (x - mean) ** 2\n",
    "    v2 = 2 * sd ** 2\n",
    "    return np.exp(-x0 / v2) / np.sqrt(np.pi * v2)"
   ]
  },
  {
   "cell_type": "code",
   "execution_count": 11,
   "metadata": {
    "collapsed": true
   },
   "outputs": [],
   "source": [
    "def norm_cdf(x, mean, sd):\n",
    "    return integrate(lambda x: norm_pdf(x, mean, sd), mean, x) + .5"
   ]
  },
  {
   "cell_type": "code",
   "execution_count": 12,
   "metadata": {},
   "outputs": [
    {
     "data": {
      "text/plain": [
       "0.9750021118942748"
      ]
     },
     "execution_count": 12,
     "metadata": {},
     "output_type": "execute_result"
    }
   ],
   "source": [
    "norm_cdf(1.96, mean=0, sd=1)"
   ]
  },
  {
   "cell_type": "code",
   "execution_count": 13,
   "metadata": {},
   "outputs": [
    {
     "data": {
      "text/plain": [
       "0.6826894921375496"
      ]
     },
     "execution_count": 13,
     "metadata": {},
     "output_type": "execute_result"
    }
   ],
   "source": [
    "norm_cdf(1.2, mean=1, sd=.2) - norm_cdf(0.8, mean=1, sd=.2)"
   ]
  }
 ],
 "metadata": {
  "kernelspec": {
   "display_name": "Python 3",
   "language": "python",
   "name": "python3"
  },
  "language_info": {
   "codemirror_mode": {
    "name": "ipython",
    "version": 3
   },
   "file_extension": ".py",
   "mimetype": "text/x-python",
   "name": "python",
   "nbconvert_exporter": "python",
   "pygments_lexer": "ipython3",
   "version": "3.6.5"
  }
 },
 "nbformat": 4,
 "nbformat_minor": 2
}
