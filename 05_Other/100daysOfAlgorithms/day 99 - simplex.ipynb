{
 "cells": [
  {
   "cell_type": "markdown",
   "metadata": {},
   "source": [
    "# Simplex\n",
    "[Linear programming](https://en.wikipedia.org/wiki/Linear_programming) is an area of mathematics that deals with the simplest form of constrained optimization problem — linear program. And [simplex](https://en.wikipedia.org/wiki/Simplex_algorithm) should definitely be in your toolbox if you are serious about algorithms.\n",
    "\n",
    "Here is an example of a linear program [in standard form].\n",
    "\n",
    "```\n",
    "maximize: -x + 3y + 2z\n",
    "\n",
    "subject to:\n",
    "x + y + z ≤ 6\n",
    "x     + z ≤ 4\n",
    "    y + z ≤ 3\n",
    "x + y     ≤ 2\n",
    "\n",
    "x, y, z ≥ 0\n",
    "```\n",
    "\n",
    "The goal is to maximize a linear function given a set of linear constraints.\n",
    "\n",
    "The simplex algorithm is rather straightforward. We convert the system of inequalities into system of equalities and then use [Gaussian elimination(https://en.wikipedia.org/wiki/Gaussian_elimination) with clever pivot selections.\n",
    "\n",
    "If you get lost during my explanation, get back to pen and paper and rewrite the table into system of equations. All we are doing is merely solving linear equations.\n",
    "\n",
    "---\n",
    "\n",
    "Notice that each inequality in linear program above is in form of f(x) ≤ b. We can add some non-negative number to the left side to get $f(x) + s = b$. Variable $s$ is called a slack variable and it will compensate the difference between $f(x)$ and b so that we can get rid of inequality.\n",
    "\n",
    "```\n",
    " x +  y + z + r             = 6\n",
    " x      + z     + s         = 4\n",
    "      y + z         + t     = 3\n",
    " x +  y                 + u = 2\n",
    "\n",
    "-x + 3y + 2z                = 0\n",
    "\n",
    "subject to: x, y, z, r, s, t, u ≥ 0\n",
    "```\n",
    "\n",
    "I have rewritten the original problem by introducing slack variable into each inequality. And I have also appended the function to be maximized and set it equal to $0$. Why?\n",
    "\n",
    "Notice that the equation system has a trivial solution. We can set $x=y=z=0$ and let slack variables compensate the system. It’s not the best solution, but it’s a good starter.\n",
    "\n",
    "![day99-simpex_1](resource/day99-simpex_1.png)\n",
    "\n",
    "From now on, we rewrite the system into Excel and use the table, instead.\n",
    "\n",
    "The table you are looking at is called a simplex tableau.\n",
    "\n",
    "And I want you to remember this rule. If a column contains all zeros but a single one, the variable is takes on non-zero value. Otherwise is the variable set to zero.\n",
    "\n",
    "Hence the initial solution is $x=y=z=0$, $r=6$, $s=4$, $t=3$, $u=2$. And no, it is not a coincidence. Remember we chose a trivial solution for starter to obey the rule above. And it shows that it is pretty much all that we need to solve the problem.\n",
    "\n",
    "![day99-simpex_2](resource/day99-simpex_2.png)\n",
    "\n",
    "The last row contains the function to be maximized. We can’t increase $x$ since the function would decrease. But we can increase y since its coefficient is positive.\n",
    "\n",
    "How much can y be increased? Divide the last column [right sides of equalities] by y-column: $6/1$, $4/0$, $3/1$, $2/1$ and take the row where y contains a positive value and result of division is the smallest.\n",
    "\n",
    "We need to take the smallest value so that we do not violate conditions in other rows — we are still solving an equation system, think about it!\n",
    "\n",
    "Then do Gaussian elimination.\n",
    "\n",
    "![day99-simpex_3](resource/day99-simpex_3.png)\n",
    "\n",
    "Notice how the system changed. Still remember the rule? New values of variables are now $x=z=u=0$, $y=2$, $r=4$, $s=4$, $t=1$ and function value is $6$.\n",
    "\n",
    "There is still another variable that can be increased. It’s $z$ due to its positive coefficient in the last row. Find the correct row and eliminate.\n",
    "\n",
    "![day99-simpex_4](resource/day99-simpex_4.png)\n",
    "\n",
    "\n",
    "At this moment, the last row contains no positive value, which means we are done. What is the final solution?\n",
    "\n",
    "![day99-simpex_5](resource/day99-simpex_5.png)\n",
    "\n",
    "Set $x=0$, $y=2$, $z=1$ and the function value is $-x + 3y + 2z = 8$.\n",
    "\n",
    "---\n",
    "\n",
    "I would definitely recommend you to solve this problem on the paper. Here are some points you can think about in terms of equation system that will help you to understand the simplex algorithm.\n",
    "\n",
    "* when we did elimination using column y, the last row [containing the function] ended up with zero coefficient — what’s the consequence?\n",
    "* we started the table with 4 pivotal columns [those that contain all zeroes but a single one], we ended up with another 4 pivotal columns — why?\n",
    "* setting non-pivotal variables to zero is compensated by pivotal variables; as a consequence the function value increases — why?\n",
    "* the red cell in the tableau always contains a current value of $-f(x)$ — why?\n",
    "\n",
    "That’s all about simplex. Is it really so simple?\n",
    "\n",
    "In general, solving a linear program is pretty difficult and theoretical bounds put simplex into exponential algorithms.\n",
    "\n",
    "There are also further problems: Solution can be unbounded, system may degenerate, simplex may cycle forever, etc. My implementation doesn’t care as long as it is able to return at least one solution.\n",
    "\n",
    "In practice, however, it is easy. Simplex can be [and usually is] implemented specifically for a given problem and real problems tend to be solved quickly and efficiently.\n",
    "\n",
    "And if you got interested by linear programming, go ahead and read more about the topic. Keep in mind that you are just working with equations and you won’t get surprised by in-depth explanations of feasible regions, dual problems and all the theory behind."
   ]
  },
  {
   "cell_type": "code",
   "execution_count": 1,
   "metadata": {
    "collapsed": true
   },
   "outputs": [],
   "source": [
    "import numpy as np"
   ]
  },
  {
   "cell_type": "markdown",
   "metadata": {},
   "source": [
    "## algorithm"
   ]
  },
  {
   "cell_type": "code",
   "execution_count": 2,
   "metadata": {
    "collapsed": true
   },
   "outputs": [],
   "source": [
    "def simplex(c, A, b):\n",
    "    table = initialize(c, A, b)\n",
    "    while not search_optimum(table):\n",
    "        pass\n",
    "    return solution(c, table)"
   ]
  },
  {
   "cell_type": "code",
   "execution_count": 3,
   "metadata": {
    "collapsed": true
   },
   "outputs": [],
   "source": [
    "def initialize(c, A, b):\n",
    "    (m, n), k = A.shape, len(c)\n",
    "\n",
    "    # simplex table:\n",
    "    # |A|E|b|\n",
    "    # |c|0|0|\n",
    "    table = np.zeros((m + 1, m + n + 1))\n",
    "    table[:m, :n] = A\n",
    "    table[range(m), range(n, n + m)] = 1\n",
    "    table[:-1, -1] = b\n",
    "    table[-1, :k] = c\n",
    "\n",
    "    return table"
   ]
  },
  {
   "cell_type": "code",
   "execution_count": 4,
   "metadata": {
    "collapsed": true
   },
   "outputs": [],
   "source": [
    "def search_optimum(table):\n",
    "    index = np.argwhere(table[-1, :-1] > 0).ravel()\n",
    "    \n",
    "    # optimum found\n",
    "    if not len(index):\n",
    "        return True\n",
    "    \n",
    "    # pivotal column\n",
    "    j = index[0]\n",
    "    column = table[:-1, j].copy()\n",
    "    column[column <= 0] = -1\n",
    "    \n",
    "    if np.all(column <= 0):\n",
    "        raise ArithmeticError('the system is unbounded')\n",
    "\n",
    "    # pivotal row\n",
    "    pivots = table[:-1, -1] / column\n",
    "    pivots[column <= 0] = np.inf\n",
    "    i = np.argmin(pivots).ravel()[0]\n",
    "\n",
    "    # eliminate by pivot at (i, j)\n",
    "    row = table[i] / table[i][j]\n",
    "    table[:] -= np.outer(table[:, j], row)\n",
    "    table[i, :] = row\n",
    "    table[:, j] = table[:, j].round()"
   ]
  },
  {
   "cell_type": "code",
   "execution_count": 5,
   "metadata": {
    "collapsed": true
   },
   "outputs": [],
   "source": [
    "def solution(c, table):\n",
    "    (m, n), k = table.shape, len(c)\n",
    "\n",
    "    # pivotal columns\n",
    "    s = np.sum(table == 0, axis=0) == m - 1\n",
    "    t = np.sum(table == 1, axis=0) == 1\n",
    "\n",
    "    # solution\n",
    "    x = np.zeros(n - 1)\n",
    "\n",
    "    for j in range(n - 1):\n",
    "        if s[j] and t[j]:\n",
    "            x[j] = table[:, j] @ table[:, -1]\n",
    "\n",
    "    return dict(\n",
    "        x=x[:k],\n",
    "        slack=x[k:],\n",
    "        max=-table[-1, -1],\n",
    "        table=table,\n",
    "    )"
   ]
  },
  {
   "cell_type": "markdown",
   "metadata": {},
   "source": [
    "## linear program #1"
   ]
  },
  {
   "cell_type": "markdown",
   "metadata": {},
   "source": [
    "```\n",
    "maximize: -x + 3y + 2z\n",
    "\n",
    "subject to:\n",
    "x + y + z <= 6\n",
    "x     + z <= 4\n",
    "    y + z <= 3\n",
    "x + y     <= 2\n",
    "\n",
    "x, y, z >= 0\n",
    "```"
   ]
  },
  {
   "cell_type": "code",
   "execution_count": 6,
   "metadata": {
    "collapsed": true
   },
   "outputs": [],
   "source": [
    "c = np.array([-1, 3, 2])\n",
    "A = np.array([\n",
    "    [1, 1, 1],\n",
    "    [1, 0, 1],\n",
    "    [0, 1, 1],\n",
    "    [1, 1, 0],\n",
    "])\n",
    "b = np.array([6, 4, 3, 2])"
   ]
  },
  {
   "cell_type": "code",
   "execution_count": 7,
   "metadata": {},
   "outputs": [
    {
     "name": "stdout",
     "output_type": "stream",
     "text": [
      "x \n",
      " [0. 2. 1.] \n",
      "\n",
      "slack \n",
      " [3. 3. 0. 0.] \n",
      "\n",
      "table \n",
      " [[ 1.  0.  0.  1.  0. -1.  0.  3.]\n",
      " [ 2.  0.  0.  0.  1. -1.  1.  3.]\n",
      " [-1.  0.  1.  0.  0.  1. -1.  1.]\n",
      " [ 1.  1.  0.  0.  0.  0.  1.  2.]\n",
      " [-2.  0.  0.  0.  0. -2. -1. -8.]] \n",
      "\n",
      "max \n",
      " 8.0 \n",
      "\n"
     ]
    }
   ],
   "source": [
    "lp = simplex(c, A, b)\n",
    "\n",
    "for k in ['x', 'slack', 'table', 'max']:\n",
    "    print(k, '\\n', lp[k], '\\n')"
   ]
  },
  {
   "cell_type": "markdown",
   "metadata": {},
   "source": [
    "## linear program #2"
   ]
  },
  {
   "cell_type": "markdown",
   "metadata": {},
   "source": [
    "```\n",
    "maximize: 2r + 4s + 3t + u\n",
    "\n",
    "subject to:\n",
    "3r +  s +  t + 4u <= 12\n",
    " r - 3s + 2t + 3u <= 7\n",
    "2r +  s + 3t -  u <= 10\n",
    "\n",
    "r, s, t, u >= 0\n",
    "```"
   ]
  },
  {
   "cell_type": "code",
   "execution_count": 8,
   "metadata": {
    "collapsed": true
   },
   "outputs": [],
   "source": [
    "c = np.array([2, 4, 3, 1])\n",
    "A = np.array([\n",
    "    [3, 1, 1, 4],\n",
    "    [1, -3, 2, 3],\n",
    "    [2, 1, 3, -1]\n",
    "])\n",
    "b = np.array([12, 7, 10])"
   ]
  },
  {
   "cell_type": "code",
   "execution_count": 9,
   "metadata": {},
   "outputs": [
    {
     "name": "stdout",
     "output_type": "stream",
     "text": [
      "x \n",
      " [ 0.  10.4  0.   0.4] \n",
      "\n",
      "slack \n",
      " [ 0. 37.  0.] \n",
      "\n",
      "table \n",
      " [[  0.2   0.   -0.4   1.    0.2   0.   -0.2   0.4]\n",
      " [  7.    0.   11.    0.    0.    1.    3.   37. ]\n",
      " [  2.2   1.    2.6   0.    0.2   0.    0.8  10.4]\n",
      " [ -7.    0.   -7.    0.   -1.    0.   -3.  -42. ]] \n",
      "\n",
      "max \n",
      " 42.0 \n",
      "\n"
     ]
    }
   ],
   "source": [
    "lp = simplex(c, A, b)\n",
    "\n",
    "for k in ['x', 'slack', 'table', 'max']:\n",
    "    print(k, '\\n', lp[k], '\\n')"
   ]
  }
 ],
 "metadata": {
  "kernelspec": {
   "display_name": "Python 3",
   "language": "python",
   "name": "python3"
  },
  "language_info": {
   "codemirror_mode": {
    "name": "ipython",
    "version": 3
   },
   "file_extension": ".py",
   "mimetype": "text/x-python",
   "name": "python",
   "nbconvert_exporter": "python",
   "pygments_lexer": "ipython3",
   "version": "3.6.5"
  }
 },
 "nbformat": 4,
 "nbformat_minor": 2
}
