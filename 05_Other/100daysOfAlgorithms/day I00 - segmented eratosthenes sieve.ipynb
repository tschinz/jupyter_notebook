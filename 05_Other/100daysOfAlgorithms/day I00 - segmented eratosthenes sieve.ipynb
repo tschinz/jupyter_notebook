{
 "cells": [
  {
   "cell_type": "markdown",
   "metadata": {},
   "source": [
    "## Segmented Eratosthenes sieve\n",
    "For the 100th algorithm I chose a segmented [Eratosthenes sieve](https://en.wikipedia.org/wiki/Sieve_of_Eratosthenes#Implementation) for primes up to $10^9$ implemented in [Cython](http://cython.org/). And this time the goal is to provide an algorithm that is as fast as possible.\n",
    "\n",
    "There are several reasons why I diverged from Python and the usual type of implementation. Among others, I like breaking rules and I like optimizations. But what’s most important…\n",
    "\n",
    "In most of the articles I have tried to provide as short and nice implementation as possible. I was aware that the algorithm could have been improved, but I didn’t do it since I would have to add another 5 or 10 lines. And here is my reasoning.\n",
    "\n",
    "---\n",
    "\n",
    "I have seen many people talking about time complexity and witnessed a common [mis]understanding of how asymptotical notations work. I have also seen many who do understand very well and [unlike textbooks] their evidence supports mine.\n",
    "\n",
    "In theory, analysis of  [Big-O notation](https://en.wikipedia.org/wiki/Big_O_notation) starts with a theoretical computational model beneath the algorithm to study its behaviour in relation to data. With respect to algorithms, $f(n) = O(g(n))$ states that for large enough data algorithm $f$ requires at most number of steps required by algorithm $g$. And $f$ can be divided by any positive constant to make the claim to be true.\n",
    "\n",
    "If you are interested, check my [Amortized Algorithm Analysis](https://medium.com/@tomas.bouda/amortized-algorithm-analysis-bb6a227be324) to see a small example of complexity analysis.\n",
    "\n",
    "In practice, however, Big-O notation works a different way. Given two algorithms solving the same problem, there are [a common] data that **O(n.log n)** algorithm will perform worse than **O(n²)** algorithm. And it is not unlikely that it is the case for most of your data.\n",
    "\n",
    "I have already touched the topic in this series. It is [almost] impossible to write a complex algorithm that performs best under any scenario. Standard libraries are usually written to perform well in expected situations and to survive the unexpected.\n",
    "\n",
    "If, for example, you need to sort data on regular basis and your array has few tens of items, built-in sort is not the best algorithm. You can do many times faster, but the total time is negligible and you don’t have to care anyways. That means to perform well.\n",
    "\n",
    "If you need to sort millions of records on regular basis, calling built-in sort is likely the worst thing you can do. You better use a different data structure like binary search trees to avoid batch sorting at all.\n",
    "\n",
    "Or maybe not. My own evidence shows that the best performing algorithm is usually the one you would expect least. You simply have to try and give it a chance.\n",
    "\n",
    "---\n",
    "\n",
    "In practice, complexity analysis always starts with a [profiler](https://en.wikipedia.org/wiki/Profiling_%28computer_programming%29).\n",
    "\n",
    "![day100-segmented_eratisthemes sieve_1](resource/day100-segmented_eratisthemes sieve_1.png)\n",
    "\n",
    "Write a referential implementation and let the profiler show you any bottlenecks. Think about improvements, improve and profile again. And again.\n",
    "\n",
    "That’s how I implemented segmented Eratosthenes sieve. I identified critical functions, wrote several implementations for each one of them and checked the results.\n",
    "\n",
    "The main idea behind segmented sieve is that modern CPU can’t address a single byte and not even an integer. CPU has several layers of cache and whenever you address anywhere in memory, it has to fetch the block and store it inside cache, first.\n",
    "\n",
    "This takes a lot of time and Eratosthenes sieve addressing wide consecutive areas of memory is simply wasteful. Fortunately, the algorithm can be rewritten to sieve primes in local segments that fit inside CPU cache.\n",
    "\n",
    "![day100-segmented_eratisthemes sieve_2](resource/day100-segmented_eratisthemes sieve_2.png)\n",
    "\n",
    "The gain is enormous and my implementation is able find number of primes below $10^6$ in time about .6 ms. Number of primes below $10^9$ can be found in about .8 s. For a reference, my machine is MacBook Pro 2014, 2.2GHz i7.\n",
    "\n",
    "If you are using [Anaconda](https://www.continuum.io/downloads) distribution, the notebook will work fine. To run the algorithm outside of notebook, follow these steps.\n",
    "\n",
    "* make sure you have [Cython](http://cython.org/) installed\n",
    "* create file `day100.pyx` and put the code inside; do not forget to remove `%%cython` directive\n",
    "* create and run file `main.py` with the following code\n",
    "\n",
    "```python\n",
    "import pyximport; pyximport.install()\n",
    "import day100\n",
    "\n",
    "print(day100.eratosthenes(10 ** 9))\n",
    "```"
   ]
  },
  {
   "cell_type": "code",
   "execution_count": 5,
   "metadata": {
    "collapsed": true
   },
   "outputs": [
    {
     "name": "stdout",
     "output_type": "stream",
     "text": [
      "The Cython extension is already loaded. To reload it, use:\n",
      "  %reload_ext Cython\n"
     ]
    }
   ],
   "source": [
    "%load_ext Cython"
   ]
  },
  {
   "cell_type": "markdown",
   "metadata": {},
   "source": [
    "## algorithm"
   ]
  },
  {
   "cell_type": "code",
   "execution_count": 2,
   "metadata": {
    "collapsed": true
   },
   "outputs": [],
   "source": [
    "%%cython\n",
    "\n",
    "from libc.stdlib cimport malloc, free\n",
    "\n",
    "DEF LIMIT = 1024 * 31\n",
    "DEF PRIME = 1024 * 4\n",
    "DEF SIEVE = 1024 * 32\n",
    "\n",
    "cdef inline int imin(int a, int b) nogil:\n",
    "    return a if a < b else b\n",
    "\n",
    "cdef inline int memset(char *p, int n) nogil:\n",
    "    cdef:\n",
    "        short *q = <short *>p\n",
    "        int i, j = 0\n",
    "\n",
    "    for i in range((n + 1) >> 1):\n",
    "        j += q[i]\n",
    "        q[i] = 0x0100\n",
    "\n",
    "    return j >> 8\n",
    "\n",
    "cdef int naive_sieve(char *sieve, int *primes, int *offsets, int n) nogil:\n",
    "    cdef int i, j\n",
    "\n",
    "    memset(sieve, n)\n",
    "\n",
    "    for i in range(3, n, 2):\n",
    "        if sieve[i]:\n",
    "            j = i * i\n",
    "            while j < n:\n",
    "                sieve[j] = 0\n",
    "                j += i << 1\n",
    "\n",
    "            primes[0] = i\n",
    "            offsets[0] = j\n",
    "            primes += 1\n",
    "            offsets += 1\n",
    "\n",
    "    primes[0] = 0\n",
    "    offsets[0] = 0\n",
    "\n",
    "    return memset(sieve, n)\n",
    "\n",
    "cdef int segmented_sieve(char *sieve, int *primes, int *offsets, int k, int n) nogil:\n",
    "    cdef int i\n",
    "\n",
    "    while primes[0]:\n",
    "        i = offsets[0] - k\n",
    "        while i < n:\n",
    "            sieve[i] = 0\n",
    "            i += primes[0] << 1\n",
    "        offsets[0] = i + k\n",
    "\n",
    "        primes += 1\n",
    "        offsets += 1\n",
    "\n",
    "    return memset(sieve, n)\n",
    "\n",
    "cpdef int eratosthenes(int n) nogil:\n",
    "    cdef:\n",
    "        char *sieve\n",
    "        int *primes\n",
    "        int *offsets\n",
    "        int k, total\n",
    "\n",
    "    if n > LIMIT * LIMIT:\n",
    "        return -1\n",
    "\n",
    "    sieve = <char *>malloc(SIEVE)\n",
    "    primes = <int *>malloc(PRIME * sizeof(int))\n",
    "    offsets = <int *>malloc(PRIME * sizeof(int))\n",
    "\n",
    "    total = naive_sieve(sieve, primes, offsets, imin(n, LIMIT))\n",
    "\n",
    "    memset(sieve, SIEVE)\n",
    "    k = LIMIT\n",
    "    n -= LIMIT\n",
    "\n",
    "    while n > 0:\n",
    "        total += segmented_sieve(sieve, primes, offsets, k, imin(n, SIEVE))\n",
    "        k += SIEVE\n",
    "        n -= SIEVE\n",
    "\n",
    "    free(sieve)\n",
    "    free(primes)\n",
    "    free(offsets)\n",
    "\n",
    "    return total"
   ]
  },
  {
   "cell_type": "markdown",
   "metadata": {},
   "source": [
    "## run"
   ]
  },
  {
   "cell_type": "code",
   "execution_count": 3,
   "metadata": {},
   "outputs": [
    {
     "name": "stdout",
     "output_type": "stream",
     "text": [
      "primes below 10**1: 4\n",
      "primes below 10**2: 25\n",
      "primes below 10**3: 168\n",
      "primes below 10**4: 1229\n",
      "primes below 10**5: 9592\n",
      "primes below 10**6: 78498\n",
      "primes below 10**7: 664579\n",
      "primes below 10**8: 5761455\n",
      "primes below 10**9: 50847534\n"
     ]
    }
   ],
   "source": [
    "for i in range(1, 10):\n",
    "    print('primes below 10**%d: %d' % (i, eratosthenes(10**i)))"
   ]
  },
  {
   "cell_type": "markdown",
   "metadata": {},
   "source": [
    "## timeit"
   ]
  },
  {
   "cell_type": "code",
   "execution_count": 4,
   "metadata": {},
   "outputs": [
    {
     "name": "stdout",
     "output_type": "stream",
     "text": [
      "49.2 µs ± 602 ns per loop (mean ± std. dev. of 7 runs, 10000 loops each)\n",
      "664 µs ± 7.53 µs per loop (mean ± std. dev. of 7 runs, 1000 loops each)\n",
      "7.01 ms ± 32.4 µs per loop (mean ± std. dev. of 7 runs, 100 loops each)\n",
      "77.7 ms ± 296 µs per loop (mean ± std. dev. of 7 runs, 10 loops each)\n",
      "896 ms ± 1.76 ms per loop (mean ± std. dev. of 7 runs, 1 loop each)\n"
     ]
    }
   ],
   "source": [
    "%timeit eratosthenes(1024 * 31)\n",
    "%timeit eratosthenes(10**6)\n",
    "%timeit eratosthenes(10**7)\n",
    "%timeit eratosthenes(10**8)\n",
    "%timeit eratosthenes(10**9)"
   ]
  }
 ],
 "metadata": {
  "kernelspec": {
   "display_name": "Python 3",
   "language": "python",
   "name": "python3"
  },
  "language_info": {
   "codemirror_mode": {
    "name": "ipython",
    "version": 3
   },
   "file_extension": ".py",
   "mimetype": "text/x-python",
   "name": "python",
   "nbconvert_exporter": "python",
   "pygments_lexer": "ipython3",
   "version": "3.6.5"
  }
 },
 "nbformat": 4,
 "nbformat_minor": 2
}
