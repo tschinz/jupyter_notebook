{
 "cells": [
  {
   "cell_type": "markdown",
   "metadata": {},
   "source": [
    "# Lab 2: Importing and plotting data\n",
    "**Data Science for Biologists** &#8226; University of Washington &#8226; BIOL 419/519 &#8226; Winter 2019\n",
    "\n",
    "Course design and lecture material by [Bingni Brunton](https://github.com/bwbrunton) and [Kameron Harris](https://github.com/kharris/). Lab design and materials by [Eleanor Lutz](https://github.com/eleanorlutz/), with helpful comments and suggestions from Bing and Kam.\n",
    "\n",
    "### Table of Contents\n",
    "1. Review of Numpy arrays\n",
    "2. Importing data from a file into a Numpy array\n",
    "3. Examining and plotting data in a Numpy array\n",
    "4. Bonus exercise\n",
    "\n",
    "### Helpful Resources\n",
    "- [Python Data Science Handbook](http://shop.oreilly.com/product/0636920034919.do) by Jake VanderPlas\n",
    "- [Python Basics Cheat Sheet](https://datacamp-community-prod.s3.amazonaws.com/e30fbcd9-f595-4a9f-803d-05ca5bf84612) by Python for Data Science\n",
    "- [Jupyter Notebook Cheat Sheet](https://datacamp-community-prod.s3.amazonaws.com/48093c40-5303-45f4-bbf9-0c96c0133c40) by Python for Data Science\n",
    "- [Matplotlib Cheat Sheet](https://datacamp-community-prod.s3.amazonaws.com/28b8210c-60cc-4f13-b0b4-5b4f2ad4790b) by Python for Data Science\n",
    "- [Numpy Cheat Sheet](https://datacamp-community-prod.s3.amazonaws.com/e9f83f72-a81b-42c7-af44-4e35b48b20b7) by Python for Data Science\n",
    "\n",
    "### Data\n",
    "- The data in this lab was downloaded from [Kaggle](https://www.kaggle.com/uciml/iris) (originally from [Fisher 1936](http://rcs.chemometrics.ru/Tutorials/classification/Fisher.pdf)) and was edited for teaching purposes. \n",
    "\n",
    "## Lab 2 Part 1: Review of Numpy arrays\n",
    "\n",
    "In lecture this week we used Numpy arrays to generate random numbers, look at data, and make patterns. In this first lab section we'll review how to create, access, and edit parts of a Numpy array. \n",
    "\n",
    "To use the Numpy library we need to first import it using the command `import numpy as np`. We'll also import Matplotlib in this same code block, since we'll use this library later in the lab. It's good practice to import all of your libraries at the very beginning of your code file, so that anyone can quickly see what external libraries are necessary to run your code."
   ]
  },
  {
   "cell_type": "code",
   "execution_count": 1,
   "metadata": {
    "collapsed": true
   },
   "outputs": [],
   "source": [
    "import numpy as np\n",
    "import matplotlib.pyplot as plt\n",
    "\n",
    "# Magic command to turn on in-line plotting \n",
    "# (show plots within the Jupyter Notebook)\n",
    "%matplotlib inline"
   ]
  },
  {
   "cell_type": "markdown",
   "metadata": {},
   "source": [
    "### Creating a Numpy array from existing data\n",
    "To review some important concepts about Numpy arrays, let's make a small 3x3 array called `alphabet_data`, filled with different letters of the alphabet:"
   ]
  },
  {
   "cell_type": "code",
   "execution_count": 2,
   "metadata": {},
   "outputs": [
    {
     "name": "stdout",
     "output_type": "stream",
     "text": [
      "[['A' 'B' 'C']\n",
      " ['D' 'E' 'F']\n",
      " ['G' 'H' 'I']]\n"
     ]
    }
   ],
   "source": [
    "row_A = [\"A\", \"B\", \"C\"]\n",
    "row_D = [\"D\", \"E\", \"F\"]\n",
    "row_G = [\"G\", \"H\", \"I\"]\n",
    "\n",
    "alphabet_data = np.array([row_A, row_D, row_G])\n",
    "print(alphabet_data)"
   ]
  },
  {
   "cell_type": "markdown",
   "metadata": {},
   "source": [
    "We can use the `print` command to look at the entire `alphabet_data` Numpy array. But often we'll work with very large arrays full of data, and we'll want to pick small subsets of the data to look at. Therefore, it's useful to know how to ask Python to give you just a section of any Numpy array. \n",
    "\n",
    "### Selecting subsets of Numpy arrays\n",
    "In lab 1, we talked about how index values describe where to find a specific item within a Python list or array. For example, the variable `example_list` is a list with one row, containing three items. To print the first item in the list we would print `example_list[0]`, or *the value in the variable example_list at index 0*. Remember that the first item in a Python list corresponds to the *index* 0. "
   ]
  },
  {
   "cell_type": "code",
   "execution_count": 3,
   "metadata": {},
   "outputs": [
    {
     "name": "stdout",
     "output_type": "stream",
     "text": [
      "example_list is: ['avocado', 'tomato', 'onion']\n",
      "example_list[0] is: avocado\n"
     ]
    }
   ],
   "source": [
    "example_list = [\"avocado\", \"tomato\", \"onion\"]\n",
    "\n",
    "print(\"example_list is:\", example_list)\n",
    "print(\"example_list[0] is:\", example_list[0])"
   ]
  },
  {
   "cell_type": "markdown",
   "metadata": {},
   "source": [
    "### Selecting a single value in a Numpy array\n",
    "`alphabet_data` is a little more complicated since it has rows *and* columns, but the general principle of indexing is still the same. Each value in a Numpy array has a unique index value for its row location, and a separate unique index value for its column location. We can ask Numpy to give us just the value we want by using the syntax `alphabet_data[row index, column index]`. \n",
    "\n",
    "![Array indexing figure](figures/array_indexing.jpg)\n",
    "\n",
    "**Exercise 1:** Use indexing to print the second item in the first row of `alphabet_data`:"
   ]
  },
  {
   "cell_type": "code",
   "execution_count": 4,
   "metadata": {},
   "outputs": [
    {
     "name": "stdout",
     "output_type": "stream",
     "text": [
      "B\n"
     ]
    }
   ],
   "source": [
    "print(alphabet_data[0, 1])"
   ]
  },
  {
   "cell_type": "markdown",
   "metadata": {},
   "source": [
    "### Selecting a range of values in a Numpy array\n",
    "\n",
    "In addition to selecting just one value, we can use the syntax `lower index range : upper index range` to select a range of values. Remember that ranges in Python are *exclusive* - the last index in the range is not included. Below is an example of range indexing syntax used on `example_list`: "
   ]
  },
  {
   "cell_type": "code",
   "execution_count": 5,
   "metadata": {},
   "outputs": [
    {
     "name": "stdout",
     "output_type": "stream",
     "text": [
      "example_list is: ['avocado', 'tomato', 'onion']\n",
      "example_list[0:2] is: ['avocado', 'tomato']\n"
     ]
    }
   ],
   "source": [
    "example_list = [\"avocado\", \"tomato\", \"onion\"]\n",
    "\n",
    "print(\"example_list is:\", example_list)\n",
    "print(\"example_list[0:2] is:\", example_list[0:2])"
   ]
  },
  {
   "cell_type": "markdown",
   "metadata": {},
   "source": [
    "We can use exactly the same notation in a Numpy array. However, since we have both row *and* column indices, we can declare one range for the rows and one range for the columns. For example, the following code prints all rows from index 0 to index 3, and all columns from index 0 to index 2. Note that index 3 doesn't actually exist - but since the upper index range is not included in a Python range, we need to use an index of 3 to print everything up to index 2. "
   ]
  },
  {
   "cell_type": "code",
   "execution_count": 6,
   "metadata": {},
   "outputs": [
    {
     "name": "stdout",
     "output_type": "stream",
     "text": [
      "[['A' 'B']\n",
      " ['D' 'E']\n",
      " ['G' 'H']]\n"
     ]
    }
   ],
   "source": [
    "print(alphabet_data[0:3, 0:2])"
   ]
  },
  {
   "cell_type": "markdown",
   "metadata": {},
   "source": [
    "**Exercise 2:** Print the first two rows of the first two columns in `alphabet_data`. "
   ]
  },
  {
   "cell_type": "code",
   "execution_count": 7,
   "metadata": {},
   "outputs": [
    {
     "name": "stdout",
     "output_type": "stream",
     "text": [
      "[['A' 'B']\n",
      " ['D' 'E']]\n"
     ]
    }
   ],
   "source": [
    "print(alphabet_data[0:2, 0:2])"
   ]
  },
  {
   "cell_type": "markdown",
   "metadata": {},
   "source": [
    "**Exercise 3:** Print the last two rows of the last two columns in `alphabet_data`. "
   ]
  },
  {
   "cell_type": "code",
   "execution_count": 8,
   "metadata": {},
   "outputs": [
    {
     "name": "stdout",
     "output_type": "stream",
     "text": [
      "[['E' 'F']\n",
      " ['H' 'I']]\n"
     ]
    }
   ],
   "source": [
    "print(alphabet_data[1:, 1:])"
   ]
  },
  {
   "cell_type": "markdown",
   "metadata": {},
   "source": [
    "Once we know how to select subsets of arrays, we can use this knowledge to *change* the items in these selections. For example, in a list we can assign a value found at a specific index to be something else. In this example we use indexing to reference the first item in `example_list`, and then change it. "
   ]
  },
  {
   "cell_type": "code",
   "execution_count": 9,
   "metadata": {},
   "outputs": [
    {
     "name": "stdout",
     "output_type": "stream",
     "text": [
      "before assignment, the example_list is: ['avocado', 'tomato', 'onion']\n",
      "after assignment, the example_list is: ['banana', 'tomato', 'onion']\n"
     ]
    }
   ],
   "source": [
    "example_list = [\"avocado\", \"tomato\", \"onion\"]\n",
    "print(\"before assignment, the example_list is:\", example_list)\n",
    "\n",
    "example_list[0] = \"banana\"\n",
    "print(\"after assignment, the example_list is:\", example_list)"
   ]
  },
  {
   "cell_type": "markdown",
   "metadata": {},
   "source": [
    "Similarly, we can change items in a Numpy array using indexing:"
   ]
  },
  {
   "cell_type": "code",
   "execution_count": 10,
   "metadata": {},
   "outputs": [
    {
     "name": "stdout",
     "output_type": "stream",
     "text": [
      "before assignment, alphabet_data is:\n",
      "[['A' 'B' 'C']\n",
      " ['D' 'E' 'F']\n",
      " ['G' 'H' 'I']]\n",
      "after assignment, alphabet_data is:\n",
      "[['Z' 'B' 'C']\n",
      " ['D' 'E' 'F']\n",
      " ['G' 'H' 'I']]\n"
     ]
    }
   ],
   "source": [
    "print(\"before assignment, alphabet_data is:\")\n",
    "print(alphabet_data)\n",
    "\n",
    "alphabet_data[0, 0] = \"Z\"\n",
    "print(\"after assignment, alphabet_data is:\")\n",
    "print(alphabet_data)"
   ]
  },
  {
   "cell_type": "markdown",
   "metadata": {},
   "source": [
    "**Exercise 4:** Replace the item in the third row and second column of `alphabet_data` with `\"V\"`. "
   ]
  },
  {
   "cell_type": "code",
   "execution_count": 11,
   "metadata": {},
   "outputs": [
    {
     "name": "stdout",
     "output_type": "stream",
     "text": [
      "[['Z' 'B' 'C']\n",
      " ['D' 'E' 'F']\n",
      " ['G' 'V' 'I']]\n"
     ]
    }
   ],
   "source": [
    "alphabet_data[2, 1] = \"V\"\n",
    "print(alphabet_data)"
   ]
  },
  {
   "cell_type": "markdown",
   "metadata": {},
   "source": [
    "**Exercise 5:** Replace the entire second row of `alphabet_data` with a new row: `[\"X\", \"Y\", \"X\"]`"
   ]
  },
  {
   "cell_type": "code",
   "execution_count": 12,
   "metadata": {},
   "outputs": [
    {
     "name": "stdout",
     "output_type": "stream",
     "text": [
      "[['Z' 'B' 'C']\n",
      " ['X' 'Y' 'X']\n",
      " ['G' 'V' 'I']]\n"
     ]
    }
   ],
   "source": [
    "alphabet_data[1] = [\"X\", \"Y\", \"X\"]\n",
    "print(alphabet_data)"
   ]
  },
  {
   "cell_type": "markdown",
   "metadata": {},
   "source": [
    "## Lab 2 Part 2: Importing data from a file into a Numpy array\n",
    "\n",
    "Let's apply these principles of Numpy arrays to some real biological data. In the `Lab_02` data folder there are three data files: \n",
    "- `./data/Lab_02/Iris_setosa_data.csv`\n",
    "- `./data/Lab_02/Iris_versicolor_data.csv`\n",
    "- `./data/Lab_02/Iris_virginica_data.csv`\n",
    "\n",
    "These files contain data collected by botanist Edgar Anderson in the Gaspe Peninsula for three species of irises: *Iris setosa*, *Iris versicolor*, and *Iris virginica*. Anderson was interested in investigating the morphologic variation in these three related species. He collected 50 individual flowers for each species, and recorded four different measurements for each flower: the length and width of the sepals and petals. \n",
    "\n",
    "The data is formatted as a large table, with one file for each species. The files contain 50 rows, each representing one individual, and four columns, which represent sepal length, sepal width, petal length, and petal width. For example, `Iris_setosa_data.csv` corresponds to the column and row labels shown below:  \n",
    "\n",
    "| Sample ID      | Sepal length (cm) | Sepal width (cm) | Petal length (cm) | Petal width (cm) |\n",
    "| --- | ----------- | ----------- | ----------- | ----------- |\n",
    "| Individual 1  |    5.1 |\t3.5\t |1.4\t |0.2 |\n",
    "| Individual 2  |  4.9\t|3\t|1.4|\t0.2|\n",
    "| Individual 3  |  4.7\t|3.2\t|1.3\t|0.2   |\n",
    "| ...      | ...      | ...      | ...      | ...      |       \n",
    "| Individual 50 |  5\t|3.3|\t1.4\t|0.2|\n",
    "\n",
    "We'll use the Numpy command `loadtxt` to read in our first file, `Iris_setosa_data.csv`. We will save this data in a Numpy array called `iris_data`."
   ]
  },
  {
   "cell_type": "code",
   "execution_count": 13,
   "metadata": {
    "collapsed": true
   },
   "outputs": [],
   "source": [
    "# Load our file data from \"filename\" into a variable called iris_data\n",
    "filename = \"./data/Lab_02/Iris_setosa_data.csv\"\n",
    "iris_data = np.loadtxt(fname=filename, delimiter=\",\")"
   ]
  },
  {
   "cell_type": "markdown",
   "metadata": {},
   "source": [
    "The data description above tells us that `iris_data` should contain 50 rows and 4 columns, so let's use the Numpy `shape` command to double check that's the case. Numpy `shape` will print two numbers in the format `(number of rows, number of columns)`. \n",
    "\n",
    "**Exercise 6:** Right now, the code below prints a warning if we don't have the expected 50 rows. Edit the code so that the warning is also printed if the number of columns is not 4. "
   ]
  },
  {
   "cell_type": "code",
   "execution_count": 14,
   "metadata": {},
   "outputs": [
    {
     "name": "stdout",
     "output_type": "stream",
     "text": [
      "Iris data shape is: (50, 4)\n",
      "Correct data shape of 50 rows, 4 columns!\n"
     ]
    }
   ],
   "source": [
    "# Print the shape of the loaded dataset\n",
    "data_shape = iris_data.shape\n",
    "print(\"Iris data shape is:\", data_shape)\n",
    "\n",
    "# Print a warning if the data shape is not what we expect\n",
    "if (data_shape[0] != 50) or (data_shape[1] != 4):\n",
    "    print(\"Unexpected data shape!\")\n",
    "else:\n",
    "    print(\"Correct data shape of 50 rows, 4 columns!\")"
   ]
  },
  {
   "cell_type": "markdown",
   "metadata": {},
   "source": [
    "It looks like our `iris_data` Numpy array is the shape we expect. Now let's look at a subset of data to see what kind of data we're working with. \n",
    "\n",
    "**Exercise 7:** Use Python array indexing to print the first three rows, first four columns of `iris_data`. Check to make sure that the printed data matches what is given to you in the data description above. "
   ]
  },
  {
   "cell_type": "code",
   "execution_count": 15,
   "metadata": {},
   "outputs": [
    {
     "name": "stdout",
     "output_type": "stream",
     "text": [
      "[[ 5.1  3.5  1.4  0.2]\n",
      " [ 4.9  3.   1.4  0.2]\n",
      " [ 4.7  3.2  1.3  0.2]]\n"
     ]
    }
   ],
   "source": [
    "print(iris_data[0:3, 0:5])"
   ]
  },
  {
   "cell_type": "markdown",
   "metadata": {},
   "source": [
    "## Lab 2 Part 3: Examining and plotting data in a Numpy array\n",
    "\n",
    "### Calculate interesting characteristics of a Numpy array\n",
    "Now that we have loaded our Iris data into a Numpy array, there are several interesting commands we can use to find out more about our data. First let's look at the sepal length column for *Iris setosa* (the first column in the dataset). Using array indexing, we will put this entire first column into a new variable called `sepal_lengths`. When indexing between a range of values, leaving the upper range bound blank causes Python to include everything until the end of the array:"
   ]
  },
  {
   "cell_type": "code",
   "execution_count": 16,
   "metadata": {},
   "outputs": [
    {
     "name": "stdout",
     "output_type": "stream",
     "text": [
      "The sepal lengths in this dataset is:\n",
      "[ 5.1  4.9  4.7  4.6  5.   5.4  4.6  5.   4.4  4.9  5.4  4.8  4.8  4.3  5.8\n",
      "  5.7  5.4  5.1  5.7  5.1  5.4  5.1  4.6  5.1  4.8  5.   5.   5.2  5.2  4.7\n",
      "  4.8  5.4  5.2  5.5  4.9  5.   5.5  4.9  4.4  5.1  5.   4.5  4.4  5.   5.1\n",
      "  4.8  5.1  4.6  5.3  5. ]\n"
     ]
    }
   ],
   "source": [
    "# put the sepal lengths for this dataset in a variable called sepal_lengths\n",
    "sepal_lengths = iris_data[0:, 0]\n",
    "print(\"The sepal lengths in this dataset is:\")\n",
    "print(sepal_lengths)"
   ]
  },
  {
   "cell_type": "markdown",
   "metadata": {},
   "source": [
    "Numpy contains many useful functions for finding out different characteristics of a dataset. The code below shows some examples:"
   ]
  },
  {
   "cell_type": "code",
   "execution_count": 17,
   "metadata": {},
   "outputs": [
    {
     "name": "stdout",
     "output_type": "stream",
     "text": [
      "Mean: 5.006\n",
      "Standard deviation: 0.348946987378\n",
      "Median: 5.0\n",
      "Minimum: 4.3\n",
      "Maximum: 5.8\n"
     ]
    }
   ],
   "source": [
    "# Print some interesting characteristics of the data\n",
    "print(\"Mean:\", np.mean(sepal_lengths))  \n",
    "print(\"Standard deviation:\", np.std(sepal_lengths))   \n",
    "print(\"Median:\", np.median(sepal_lengths)) \n",
    "print(\"Minimum:\", np.min(sepal_lengths))    \n",
    "print(\"Maximum:\", np.max(sepal_lengths))"
   ]
  },
  {
   "cell_type": "markdown",
   "metadata": {},
   "source": [
    "We can use our `sepal_lengths` variable and the useful characteristics we found above to make a histogram of our data. In the below code we've created a histogram, and added a line that shows where the mean of the dataset is.\n",
    "\n",
    "**Exercise 8:** Edit the code block below to plot the maximum and minimum data values as two additional vertical lines."
   ]
  },
  {
   "cell_type": "code",
   "execution_count": 18,
   "metadata": {},
   "outputs": [
    {
     "data": {
      "image/png": "[encoded data removed]",
      "text/plain": [
       "<matplotlib.figure.Figure at 0x7f1a9c16a630>"
      ]
     },
     "metadata": {},
     "output_type": "display_data"
    }
   ],
   "source": [
    "# Create a histogram with an opacity of 50% (alpha=0.5)\n",
    "plt.hist(sepal_lengths, alpha=0.5)\n",
    "\n",
    "# Add a vertical line to the plot showing the mean. \n",
    "plt.axvline(np.mean(sepal_lengths), label=\"mean\") \n",
    "# Your code here!\n",
    "plt.axvline(np.max(sepal_lengths), label=\"maximum\") \n",
    "plt.axvline(np.min(sepal_lengths), label=\"minimum\") \n",
    "\n",
    "# Don't forget to label the axes! \n",
    "plt.xlabel(\"Sepal length (cm)\")\n",
    "plt.ylabel(\"Frequency (number of individuals)\")\n",
    "\n",
    "# Add a legend to the plot\n",
    "plt.legend()\n",
    "\n",
    "# Show the plot in our jupyter notebook\n",
    "plt.show()"
   ]
  },
  {
   "cell_type": "markdown",
   "metadata": {},
   "source": [
    "#### Review of for loops using indexing\n",
    "\n",
    "Last week in lab we went over an example of a `for` loop that uses indices to loop through a list. Let's pretend that in this *Iris setosa* dataset, we have marked in our lab notebook that the first, 12th, 26th, and 44th irises we sampled seemed suspiciously small. Let's use a `for` loop to print out the sepal length of each of these irises. "
   ]
  },
  {
   "cell_type": "code",
   "execution_count": 19,
   "metadata": {},
   "outputs": [
    {
     "name": "stdout",
     "output_type": "stream",
     "text": [
      "The sepal length at index 0 : 5.1\n",
      "The sepal length at index 11 : 4.8\n",
      "The sepal length at index 25 : 5.0\n",
      "The sepal length at index 43 : 5.0\n"
     ]
    }
   ],
   "source": [
    "# First let's make a list of all of the indexes where we can find suspicious irises.\n",
    "interesting_indices = [0, 11, 25, 43]\n",
    "\n",
    "# Now we'll look at every single index in the list of suspicious indices.\n",
    "for index in interesting_indices:\n",
    "    \n",
    "    # Because we are looking at indices, we need to use indexing to find the \n",
    "    # value in sepal_lengths that we're interested in. \n",
    "    sepal = sepal_lengths[index]\n",
    "    \n",
    "    print(\"The sepal length at index\", index, \":\", sepal)"
   ]
  },
  {
   "cell_type": "markdown",
   "metadata": {},
   "source": [
    "**Exercise 9:** Instead of using a `for` loop to look at just the indices in `interesting_indices`, use a `for` loop to look at *all* indices in the `sepal_lengths` dataset. Remember that you can use the command `len(sepal_lengths)` to find out how many values are in the data. Print the sepal length and index if the sepal length is larger than the mean sepal length. "
   ]
  },
  {
   "cell_type": "code",
   "execution_count": 20,
   "metadata": {},
   "outputs": [
    {
     "name": "stdout",
     "output_type": "stream",
     "text": [
      "The sepal length at index 0 : 5.1\n",
      "The sepal length at index 5 : 5.4\n",
      "The sepal length at index 10 : 5.4\n",
      "The sepal length at index 14 : 5.8\n",
      "The sepal length at index 15 : 5.7\n",
      "The sepal length at index 16 : 5.4\n",
      "The sepal length at index 17 : 5.1\n",
      "The sepal length at index 18 : 5.7\n",
      "The sepal length at index 19 : 5.1\n",
      "The sepal length at index 20 : 5.4\n",
      "The sepal length at index 21 : 5.1\n",
      "The sepal length at index 23 : 5.1\n",
      "The sepal length at index 27 : 5.2\n",
      "The sepal length at index 28 : 5.2\n",
      "The sepal length at index 31 : 5.4\n",
      "The sepal length at index 32 : 5.2\n",
      "The sepal length at index 33 : 5.5\n",
      "The sepal length at index 36 : 5.5\n",
      "The sepal length at index 39 : 5.1\n",
      "The sepal length at index 44 : 5.1\n",
      "The sepal length at index 46 : 5.1\n",
      "The sepal length at index 48 : 5.3\n"
     ]
    }
   ],
   "source": [
    "all_indices = np.arange(0, len(iris_data))\n",
    "\n",
    "for index in all_indices:\n",
    "    sepal = sepal_lengths[index]\n",
    "    if sepal > sepal_lengths.mean():\n",
    "        print(\"The sepal length at index\", index, \":\", sepal)"
   ]
  },
  {
   "cell_type": "markdown",
   "metadata": {},
   "source": [
    "So far we've only looked at the sepal lengths in this dataset. Let's use a `for` loop to also look at the sepal widths, petal lengths, and petal widths. Remember that the columns in this dataset stand for:"
   ]
  },
  {
   "cell_type": "code",
   "execution_count": 21,
   "metadata": {},
   "outputs": [
    {
     "data": {
      "image/png": "[encoded data removed]",
      "text/plain": [
       "<matplotlib.figure.Figure at 0x7f1a9a06b668>"
      ]
     },
     "metadata": {},
     "output_type": "display_data"
    },
    {
     "data": {
      "image/png": "[encoded data removed]",
      "text/plain": [
       "<matplotlib.figure.Figure at 0x7f1a9c1a9128>"
      ]
     },
     "metadata": {},
     "output_type": "display_data"
    },
    {
     "data": {
      "image/png": "[encoded data removed]",
      "text/plain": [
       "<matplotlib.figure.Figure at 0x7f1a99f861d0>"
      ]
     },
     "metadata": {},
     "output_type": "display_data"
    },
    {
     "data": {
      "image/png": "[encoded data removed]",
      "text/plain": [
       "<matplotlib.figure.Figure at 0x7f1a9a11fe10>"
      ]
     },
     "metadata": {},
     "output_type": "display_data"
    }
   ],
   "source": [
    "sepal_lengths = iris_data[0:, 0]\n",
    "sepal_widths = iris_data[0:, 1]\n",
    "petal_lengths = iris_data[0:, 2]\n",
    "petal_widths = iris_data[0:, 3]\n",
    "\n",
    "morphologies = [sepal_lengths, sepal_widths, petal_lengths, petal_widths]\n",
    "\n",
    "for morphology in morphologies: \n",
    "    # Create a histogram \n",
    "    plt.hist(morphology)\n",
    "    # Show the plot in our jupyter notebook\n",
    "    plt.show()"
   ]
  },
  {
   "cell_type": "markdown",
   "metadata": {},
   "source": [
    "Notice that the code in the above box is doing the same action for every column in the array. So instead of re-assigning every column in the array to a new variable called `sepal_lengths`, `sepal_widths`, etc, let's use array indexing to loop through the data instead. Notice that the only thing changing when looking at different columns is the *column index*. \n",
    "\n",
    "**Exercise 10:** Change the following code so that it creates a histogram for all columns in *Iris setosa*, like in the previous block. However, instead of making a new variable for each column called `sepal_lengths`, `sepal_widths`, etc, use indexing instead. "
   ]
  },
  {
   "cell_type": "code",
   "execution_count": 22,
   "metadata": {},
   "outputs": [
    {
     "data": {
      "image/png": "[encoded data removed]",
      "text/plain": [
       "<matplotlib.figure.Figure at 0x7f1a9a07fa20>"
      ]
     },
     "metadata": {},
     "output_type": "display_data"
    },
    {
     "data": {
      "image/png": "[encoded data removed]",
      "text/plain": [
       "<matplotlib.figure.Figure at 0x7f1a99e154a8>"
      ]
     },
     "metadata": {},
     "output_type": "display_data"
    },
    {
     "data": {
      "image/png": "[encoded data removed]",
      "text/plain": [
       "<matplotlib.figure.Figure at 0x7f1a99e72128>"
      ]
     },
     "metadata": {},
     "output_type": "display_data"
    },
    {
     "data": {
      "image/png": "[encoded data removed]",
      "text/plain": [
       "<matplotlib.figure.Figure at 0x7f1a99d21b38>"
      ]
     },
     "metadata": {},
     "output_type": "display_data"
    }
   ],
   "source": [
    "column_indices = [0, 1, 2, 3]\n",
    "\n",
    "for index in column_indices:\n",
    "    data_subset = iris_data[0:, index]\n",
    "    # Create a histogram \n",
    "    plt.hist(data_subset)\n",
    "    # Show the plot in our jupyter notebook\n",
    "    plt.show()"
   ]
  },
  {
   "cell_type": "markdown",
   "metadata": {},
   "source": [
    "### Putting it all together: Using a for loop to load, analyze, and plot multiple data files\n",
    "\n",
    "We've now found some interesting things about *Iris setosa*. But our original dataset included three different species - *Iris setosa*, *Iris versicolor*, and *Iris virginica*. We probably want to run these exact same analyses for each species, and this is a great opportunity to use a `for` loop to make our lives easier. Because all three of our datasets are exactly the same shape and format, we can reuse all of our code that we've already written. "
   ]
  },
  {
   "cell_type": "code",
   "execution_count": 23,
   "metadata": {
    "collapsed": true
   },
   "outputs": [],
   "source": [
    "# First, make a list of each filename that we're interested in analyzing\n",
    "filenames = [\"./data/Lab_02/Iris_setosa_data.csv\", \n",
    "             \"./data/Lab_02/Iris_versicolor_data.csv\", \n",
    "             \"./data/Lab_02/Iris_virginica_data.csv\"]"
   ]
  },
  {
   "cell_type": "markdown",
   "metadata": {},
   "source": [
    "Now that we have a list of filenames to analyze, we can turn this into a `for` loop that loads each file and then runs analyses on the file. The code block below has started the process - for each filename, we load in the file data as a variable called `iris_data`. Note that we're not actually doing anything with the data yet, so we don't see many interesting things being printed. "
   ]
  },
  {
   "cell_type": "code",
   "execution_count": 24,
   "metadata": {},
   "outputs": [
    {
     "name": "stdout",
     "output_type": "stream",
     "text": [
      "NOW ANALYZING DATASET:  ./data/Lab_02/Iris_setosa_data.csv\n",
      "NOW ANALYZING DATASET:  ./data/Lab_02/Iris_versicolor_data.csv\n",
      "NOW ANALYZING DATASET:  ./data/Lab_02/Iris_virginica_data.csv\n"
     ]
    }
   ],
   "source": [
    "for filename in filenames:\n",
    "    # Load our file data from \"filename\" into a variable called iris_data\n",
    "    iris_data = np.loadtxt(fname=filename, delimiter=\",\")\n",
    "    print(\"NOW ANALYZING DATASET: \", filename)"
   ]
  },
  {
   "cell_type": "markdown",
   "metadata": {},
   "source": [
    "The data loading doesn't seem to have caused any errors, so we'll continue to copy and paste the code we've already written to work with the data. Note that everything we've copied and pasted is code we've already written - but now we're asking Python to run this same code on *all* the data files, instead of just *Iris setosa*. For the purposes of this exercise, we'll analyze just the sepal lengths of the dataset, so that we end up with a manageable number of output plots. "
   ]
  },
  {
   "cell_type": "code",
   "execution_count": 25,
   "metadata": {},
   "outputs": [
    {
     "name": "stdout",
     "output_type": "stream",
     "text": [
      "----\n",
      "NOW ANALYZING DATASET:  ./data/Lab_02/Iris_setosa_data.csv\n",
      "Iris data shape is: (50, 4)\n",
      "Correct data shape of 50 rows, 4 columns!\n",
      "The sepal lengths in this dataset is:\n",
      "[ 5.1  4.9  4.7  4.6  5.   5.4  4.6  5.   4.4  4.9  5.4  4.8  4.8  4.3  5.8\n",
      "  5.7  5.4  5.1  5.7  5.1  5.4  5.1  4.6  5.1  4.8  5.   5.   5.2  5.2  4.7\n",
      "  4.8  5.4  5.2  5.5  4.9  5.   5.5  4.9  4.4  5.1  5.   4.5  4.4  5.   5.1\n",
      "  4.8  5.1  4.6  5.3  5. ]\n",
      "----\n",
      "NOW ANALYZING DATASET:  ./data/Lab_02/Iris_versicolor_data.csv\n",
      "Iris data shape is: (50, 4)\n",
      "Correct data shape of 50 rows, 4 columns!\n",
      "The sepal lengths in this dataset is:\n",
      "[ 7.   6.4  6.9  5.5  6.5  5.7  6.3  4.9  6.6  5.2  5.   5.9  6.   6.1  5.6\n",
      "  6.7  5.6  5.8  6.2  5.6  5.9  6.1  6.3  6.1  6.4  6.6  6.8  6.7  6.   5.7\n",
      "  5.5  5.5  5.8  6.   5.4  6.   6.7  6.3  5.6  5.5  5.5  6.1  5.8  5.   5.6\n",
      "  5.7  5.7  6.2  5.1  5.7]\n",
      "----\n",
      "NOW ANALYZING DATASET:  ./data/Lab_02/Iris_virginica_data.csv\n",
      "Iris data shape is: (50, 4)\n",
      "Correct data shape of 50 rows, 4 columns!\n",
      "The sepal lengths in this dataset is:\n",
      "[ 6.3  5.8  7.1  6.3  6.5  7.6  4.9  7.3  6.7  7.2  6.5  6.4  6.8  5.7  5.8\n",
      "  6.4  6.5  7.7  7.7  6.   6.9  5.6  7.7  6.3  6.7  7.2  6.2  6.1  6.4  7.2\n",
      "  7.4  7.9  6.4  6.3  6.1  7.7  6.3  6.4  6.   6.9  6.7  6.9  5.8  6.8  6.7\n",
      "  6.7  6.3  6.5  6.2  5.9]\n"
     ]
    }
   ],
   "source": [
    "for filename in filenames:\n",
    "    # Load our file data from \"filename\" into a variable called iris_data\n",
    "    iris_data = np.loadtxt(fname=filename, delimiter=\",\")\n",
    "    print(\"----\")\n",
    "    print(\"NOW ANALYZING DATASET: \", filename)\n",
    "    \n",
    "    # Print the shape of the loaded dataset\n",
    "    data_shape = iris_data.shape\n",
    "    print(\"Iris data shape is:\", data_shape)\n",
    "\n",
    "    # Print a warning if the data shape is not what we expect\n",
    "    if (data_shape[0] != 50) or (data_shape[1] != 4):\n",
    "        print(\"Unexpected data shape!\")\n",
    "    else:\n",
    "        print(\"Correct data shape of 50 rows, 4 columns!\")\n",
    "        \n",
    "    # put the sepal lengths for this dataset in a variable called sepal_lengths\n",
    "    sepal_lengths = iris_data[0:, 0]\n",
    "    print(\"The sepal lengths in this dataset is:\")\n",
    "    print(sepal_lengths)"
   ]
  },
  {
   "cell_type": "markdown",
   "metadata": {},
   "source": [
    "**Exercise 11:** Similarly, add in the code you've already written to print the interesting characteristics of the data (mean, median, max, etc.) and create a histogram for each data file that includes the mean and median. Run your final for loop. Which iris species has the longest mean sepal length? Smallest minimum sepal length? "
   ]
  },
  {
   "cell_type": "code",
   "execution_count": 26,
   "metadata": {},
   "outputs": [
    {
     "name": "stdout",
     "output_type": "stream",
     "text": [
      "----\n",
      "NOW ANALYZING DATASET:  ./data/Lab_02/Iris_setosa_data.csv\n",
      "Iris data shape is: (50, 4)\n",
      "Correct data shape of 50 rows, 4 columns!\n",
      "The sepal lengths in this dataset is:\n",
      "[ 5.1  4.9  4.7  4.6  5.   5.4  4.6  5.   4.4  4.9  5.4  4.8  4.8  4.3  5.8\n",
      "  5.7  5.4  5.1  5.7  5.1  5.4  5.1  4.6  5.1  4.8  5.   5.   5.2  5.2  4.7\n",
      "  4.8  5.4  5.2  5.5  4.9  5.   5.5  4.9  4.4  5.1  5.   4.5  4.4  5.   5.1\n",
      "  4.8  5.1  4.6  5.3  5. ]\n",
      "Mean: 5.006\n",
      "Standard deviation: 0.348946987378\n",
      "Median: 5.0\n",
      "Minimum: 4.3\n",
      "Maximum: 5.8\n"
     ]
    },
    {
     "data": {
      "image/png": "[encoded data removed]",
      "text/plain": [
       "<matplotlib.figure.Figure at 0x7f1a99d93860>"
      ]
     },
     "metadata": {},
     "output_type": "display_data"
    },
    {
     "name": "stdout",
     "output_type": "stream",
     "text": [
      "----\n",
      "NOW ANALYZING DATASET:  ./data/Lab_02/Iris_versicolor_data.csv\n",
      "Iris data shape is: (50, 4)\n",
      "Correct data shape of 50 rows, 4 columns!\n",
      "The sepal lengths in this dataset is:\n",
      "[ 7.   6.4  6.9  5.5  6.5  5.7  6.3  4.9  6.6  5.2  5.   5.9  6.   6.1  5.6\n",
      "  6.7  5.6  5.8  6.2  5.6  5.9  6.1  6.3  6.1  6.4  6.6  6.8  6.7  6.   5.7\n",
      "  5.5  5.5  5.8  6.   5.4  6.   6.7  6.3  5.6  5.5  5.5  6.1  5.8  5.   5.6\n",
      "  5.7  5.7  6.2  5.1  5.7]\n",
      "Mean: 5.936\n",
      "Standard deviation: 0.510983365678\n",
      "Median: 5.9\n",
      "Minimum: 4.9\n",
      "Maximum: 7.0\n"
     ]
    },
    {
     "data": {
      "image/png": "[encoded data removed]",
      "text/plain": [
       "<matplotlib.figure.Figure at 0x7f1a99e5e710>"
      ]
     },
     "metadata": {},
     "output_type": "display_data"
    },
    {
     "name": "stdout",
     "output_type": "stream",
     "text": [
      "----\n",
      "NOW ANALYZING DATASET:  ./data/Lab_02/Iris_virginica_data.csv\n",
      "Iris data shape is: (50, 4)\n",
      "Correct data shape of 50 rows, 4 columns!\n",
      "The sepal lengths in this dataset is:\n",
      "[ 6.3  5.8  7.1  6.3  6.5  7.6  4.9  7.3  6.7  7.2  6.5  6.4  6.8  5.7  5.8\n",
      "  6.4  6.5  7.7  7.7  6.   6.9  5.6  7.7  6.3  6.7  7.2  6.2  6.1  6.4  7.2\n",
      "  7.4  7.9  6.4  6.3  6.1  7.7  6.3  6.4  6.   6.9  6.7  6.9  5.8  6.8  6.7\n",
      "  6.7  6.3  6.5  6.2  5.9]\n",
      "Mean: 6.588\n",
      "Standard deviation: 0.629488681391\n",
      "Median: 6.5\n",
      "Minimum: 4.9\n",
      "Maximum: 7.9\n"
     ]
    },
    {
     "data": {
      "image/png": "[encoded data removed]",
      "text/plain": [
       "<matplotlib.figure.Figure at 0x7f1a99d8fe80>"
      ]
     },
     "metadata": {},
     "output_type": "display_data"
    }
   ],
   "source": [
    "for filename in filenames:\n",
    "    # Load our file data from \"filename\" into a variable called iris_data\n",
    "    iris_data = np.loadtxt(fname=filename, delimiter=\",\")\n",
    "    print(\"----\")\n",
    "    print(\"NOW ANALYZING DATASET: \", filename)\n",
    "    \n",
    "    # Print the shape of the loaded dataset\n",
    "    data_shape = iris_data.shape\n",
    "    print(\"Iris data shape is:\", data_shape)\n",
    "\n",
    "    # Print a warning if the data shape is not what we expect\n",
    "    if (data_shape[0] != 50) or (data_shape[1] != 4):\n",
    "        print(\"Unexpected data shape!\")\n",
    "    else:\n",
    "        print(\"Correct data shape of 50 rows, 4 columns!\")\n",
    "        \n",
    "    # put the sepal lengths for this dataset in a variable called sepal_lengths\n",
    "    sepal_lengths = iris_data[0:, 0]\n",
    "    print(\"The sepal lengths in this dataset is:\")\n",
    "    print(sepal_lengths)\n",
    "    \n",
    "    # Print some interesting characteristics of the data\n",
    "    print(\"Mean:\", np.mean(sepal_lengths))  \n",
    "    print(\"Standard deviation:\", np.std(sepal_lengths))   \n",
    "    print(\"Median:\", np.median(sepal_lengths)) \n",
    "    print(\"Minimum:\", np.min(sepal_lengths))    \n",
    "    print(\"Maximum:\", np.max(sepal_lengths))\n",
    "    \n",
    "    # Create a histogram with an opacity of 50% (alpha=0.5)\n",
    "    plt.hist(sepal_lengths, alpha=0.5)\n",
    "\n",
    "    # Add a vertical line to the plot showing the mean. \n",
    "    plt.axvline(np.mean(sepal_lengths), label=\"mean\") \n",
    "    plt.axvline(np.median(sepal_lengths), label=\"median\") \n",
    "    # Your code here!\n",
    "\n",
    "    # Don't forget to label the axes! \n",
    "    plt.xlabel(\"Sepal length (cm)\")\n",
    "    plt.ylabel(\"Frequency (number of individuals)\")\n",
    "\n",
    "    # Add a legend to the plot\n",
    "    plt.legend()\n",
    "\n",
    "    # Show the plot in our jupyter notebook\n",
    "    plt.show()"
   ]
  },
  {
   "cell_type": "markdown",
   "metadata": {},
   "source": [
    "## Lab 2 Bonus exercise\n",
    "\n",
    "**Bonus Exercise 1:** Now take the above code and edit it so that we analyze all of the 4 flower morphology variables, for all of the species of plants. Label the plot axis and title with the appropriate information (flower species for title, and the morphological variable on the x axis). "
   ]
  },
  {
   "cell_type": "code",
   "execution_count": 27,
   "metadata": {
    "scrolled": false
   },
   "outputs": [
    {
     "name": "stdout",
     "output_type": "stream",
     "text": [
      "----\n",
      "NOW ANALYZING DATASET:  ./data/Lab_02/Iris_setosa_data.csv\n",
      "Iris data shape is: (50, 4)\n",
      "Correct data shape of 50 rows, 4 columns!\n",
      "Mean: 5.006\n",
      "Standard deviation: 0.348946987378\n",
      "Median: 5.0\n",
      "Minimum: 4.3\n",
      "Maximum: 5.8\n"
     ]
    },
    {
     "data": {
      "image/png": "[encoded data removed]",
      "text/plain": [
       "<matplotlib.figure.Figure at 0x7f1a9a098208>"
      ]
     },
     "metadata": {},
     "output_type": "display_data"
    },
    {
     "name": "stdout",
     "output_type": "stream",
     "text": [
      "Mean: 3.418\n",
      "Standard deviation: 0.377194909828\n",
      "Median: 3.4\n",
      "Minimum: 2.3\n",
      "Maximum: 4.4\n"
     ]
    },
    {
     "data": {
      "image/png": "[encoded data removed]",
      "text/plain": [
       "<matplotlib.figure.Figure at 0x7f1a9a14bfd0>"
      ]
     },
     "metadata": {},
     "output_type": "display_data"
    },
    {
     "name": "stdout",
     "output_type": "stream",
     "text": [
      "Mean: 1.464\n",
      "Standard deviation: 0.171767284429\n",
      "Median: 1.5\n",
      "Minimum: 1.0\n",
      "Maximum: 1.9\n"
     ]
    },
    {
     "data": {
      "image/png": "[encoded data removed]",
      "text/plain": [
       "<matplotlib.figure.Figure at 0x7f1a99ce0fd0>"
      ]
     },
     "metadata": {},
     "output_type": "display_data"
    },
    {
     "name": "stdout",
     "output_type": "stream",
     "text": [
      "Mean: 0.244\n",
      "Standard deviation: 0.106131993291\n",
      "Median: 0.2\n",
      "Minimum: 0.1\n",
      "Maximum: 0.6\n"
     ]
    },
    {
     "data": {
      "image/png": "[encoded data removed]",
      "text/plain": [
       "<matplotlib.figure.Figure at 0x7f1a99eee320>"
      ]
     },
     "metadata": {},
     "output_type": "display_data"
    },
    {
     "name": "stdout",
     "output_type": "stream",
     "text": [
      "----\n",
      "NOW ANALYZING DATASET:  ./data/Lab_02/Iris_versicolor_data.csv\n",
      "Iris data shape is: (50, 4)\n",
      "Correct data shape of 50 rows, 4 columns!\n",
      "Mean: 5.936\n",
      "Standard deviation: 0.510983365678\n",
      "Median: 5.9\n",
      "Minimum: 4.9\n",
      "Maximum: 7.0\n"
     ]
    },
    {
     "data": {
      "image/png": "[encoded data removed]",
      "text/plain": [
       "<matplotlib.figure.Figure at 0x7f1a9a1527f0>"
      ]
     },
     "metadata": {},
     "output_type": "display_data"
    },
    {
     "name": "stdout",
     "output_type": "stream",
     "text": [
      "Mean: 2.77\n",
      "Standard deviation: 0.31064449134\n",
      "Median: 2.8\n",
      "Minimum: 2.0\n",
      "Maximum: 3.4\n"
     ]
    },
    {
     "data": {
      "image/png": "[encoded data removed]",
      "text/plain": [
       "<matplotlib.figure.Figure at 0x7f1a99db54a8>"
      ]
     },
     "metadata": {},
     "output_type": "display_data"
    },
    {
     "name": "stdout",
     "output_type": "stream",
     "text": [
      "Mean: 4.26\n",
      "Standard deviation: 0.465188133985\n",
      "Median: 4.35\n",
      "Minimum: 3.0\n",
      "Maximum: 5.1\n"
     ]
    },
    {
     "data": {
      "image/png": "[encoded data removed]",
      "text/plain": [
       "<matplotlib.figure.Figure at 0x7f1a99dc3be0>"
      ]
     },
     "metadata": {},
     "output_type": "display_data"
    },
    {
     "name": "stdout",
     "output_type": "stream",
     "text": [
      "Mean: 1.326\n",
      "Standard deviation: 0.195765165441\n",
      "Median: 1.3\n",
      "Minimum: 1.0\n",
      "Maximum: 1.8\n"
     ]
    },
    {
     "data": {
      "image/png": "[encoded data removed]",
      "text/plain": [
       "<matplotlib.figure.Figure at 0x7f1a99e95c50>"
      ]
     },
     "metadata": {},
     "output_type": "display_data"
    },
    {
     "name": "stdout",
     "output_type": "stream",
     "text": [
      "----\n",
      "NOW ANALYZING DATASET:  ./data/Lab_02/Iris_virginica_data.csv\n",
      "Iris data shape is: (50, 4)\n",
      "Correct data shape of 50 rows, 4 columns!\n",
      "Mean: 6.588\n",
      "Standard deviation: 0.629488681391\n",
      "Median: 6.5\n",
      "Minimum: 4.9\n",
      "Maximum: 7.9\n"
     ]
    },
    {
     "data": {
      "image/png": "[encoded data removed]",
      "text/plain": [
       "<matplotlib.figure.Figure at 0x7f1a99d0cc88>"
      ]
     },
     "metadata": {},
     "output_type": "display_data"
    },
    {
     "name": "stdout",
     "output_type": "stream",
     "text": [
      "Mean: 2.974\n",
      "Standard deviation: 0.319255383666\n",
      "Median: 3.0\n",
      "Minimum: 2.2\n",
      "Maximum: 3.8\n"
     ]
    },
    {
     "data": {
      "image/png": "[encoded data removed]",
      "text/plain": [
       "<matplotlib.figure.Figure at 0x7f1a99f24518>"
      ]
     },
     "metadata": {},
     "output_type": "display_data"
    },
    {
     "name": "stdout",
     "output_type": "stream",
     "text": [
      "Mean: 5.552\n",
      "Standard deviation: 0.546347874527\n",
      "Median: 5.55\n",
      "Minimum: 4.5\n",
      "Maximum: 6.9\n"
     ]
    },
    {
     "data": {
      "image/png": "[encoded data removed]",
      "text/plain": [
       "<matplotlib.figure.Figure at 0x7f1a99d0ada0>"
      ]
     },
     "metadata": {},
     "output_type": "display_data"
    },
    {
     "name": "stdout",
     "output_type": "stream",
     "text": [
      "Mean: 2.026\n",
      "Standard deviation: 0.271889683512\n",
      "Median: 2.0\n",
      "Minimum: 1.4\n",
      "Maximum: 2.5\n"
     ]
    },
    {
     "data": {
      "image/png": "[encoded data removed]",
      "text/plain": [
       "<matplotlib.figure.Figure at 0x7f1a99e359b0>"
      ]
     },
     "metadata": {},
     "output_type": "display_data"
    }
   ],
   "source": [
    "for filename in filenames:\n",
    "    # Load our file data from \"filename\" into a variable called iris_data\n",
    "    iris_data = np.loadtxt(fname=filename, delimiter=\",\")\n",
    "    print(\"----\")\n",
    "    print(\"NOW ANALYZING DATASET: \", filename)\n",
    "    \n",
    "    # Print the shape of the loaded dataset\n",
    "    data_shape = iris_data.shape\n",
    "    print(\"Iris data shape is:\", data_shape)\n",
    "\n",
    "    # Print a warning if the data shape is not what we expect\n",
    "    if (data_shape[0] != 50) or (data_shape[1] != 4):\n",
    "        print(\"Unexpected data shape!\")\n",
    "    else:\n",
    "        print(\"Correct data shape of 50 rows, 4 columns!\")\n",
    "        \n",
    "    # the number of columns is the same as the number of items in the first row\n",
    "    num_columns = len(iris_data[0]) \n",
    "    axis_labels = [\"Sepal length (cm)\", \n",
    "                   \"Sepal width (cm)\", \n",
    "                   \"Petal length (cm)\", \n",
    "                   \"Petal width (cm)\"]\n",
    "    \n",
    "    # THIS IS CALLED A NESTED FOR LOOP!\n",
    "    # A NESTED FOR LOOP HAS A FOR LOOP INSIDE OF ANOTHER FOR LOOP. \n",
    "    for index in np.arange(0, num_columns):\n",
    "        data_subset = iris_data[0:, index]\n",
    "\n",
    "        # Print some interesting characteristics of the data\n",
    "        print(\"Mean:\", np.mean(data_subset))  \n",
    "        print(\"Standard deviation:\", np.std(data_subset))   \n",
    "        print(\"Median:\", np.median(data_subset)) \n",
    "        print(\"Minimum:\", np.min(data_subset))    \n",
    "        print(\"Maximum:\", np.max(data_subset))\n",
    "\n",
    "        # Create a histogram with an opacity of 50% (alpha=0.5)\n",
    "        plt.hist(data_subset, alpha=0.5)\n",
    "\n",
    "        # Add a vertical line to the plot showing the mean. \n",
    "        plt.axvline(np.mean(data_subset), label=\"mean\") \n",
    "        plt.axvline(np.median(data_subset), label=\"median\") \n",
    "        # Your code here!\n",
    "\n",
    "        # Don't forget to label the axes!\n",
    "        plt.xlabel(axis_labels[index])\n",
    "        plt.ylabel(\"Frequency (number of individuals)\")\n",
    "        \n",
    "        species_name = filename.strip('.csv')\n",
    "        plt.title(species_name)\n",
    "\n",
    "        # Add a legend to the plot\n",
    "        plt.legend()\n",
    "\n",
    "        # Show the plot in our jupyter notebook\n",
    "        plt.show()"
   ]
  },
  {
   "cell_type": "code",
   "execution_count": null,
   "metadata": {
    "collapsed": true
   },
   "outputs": [],
   "source": []
  }
 ],
 "metadata": {
  "kernelspec": {
   "display_name": "Python 3",
   "language": "python",
   "name": "python3"
  },
  "language_info": {
   "codemirror_mode": {
    "name": "ipython",
    "version": 3
   },
   "file_extension": ".py",
   "mimetype": "text/x-python",
   "name": "python",
   "nbconvert_exporter": "python",
   "pygments_lexer": "ipython3",
   "version": "3.5.2"
  }
 },
 "nbformat": 4,
 "nbformat_minor": 2
}
