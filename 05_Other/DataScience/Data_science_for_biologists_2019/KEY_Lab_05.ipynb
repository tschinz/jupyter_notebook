{
 "cells": [
  {
   "cell_type": "markdown",
   "metadata": {},
   "source": [
    "# Lab 5: Data cleaning and analysis with Pandas\n",
    "**Data Science for Biologists** &#8226; University of Washington &#8226; BIOL 419/519 &#8226; Winter 2019\n",
    "\n",
    "Course design and lecture material by [Bingni Brunton](https://github.com/bwbrunton) and [Kameron Harris](https://github.com/kharris/). Lab design and materials by [Eleanor Lutz](https://github.com/eleanorlutz/), with helpful comments and suggestions from Bing and Kam.\n",
    "\n",
    "### Table of Contents\n",
    "1. Inspecting and cleaning data in Pandas\n",
    "2. Working with figure objects in Matplotlib\n",
    "3. Joining two Pandas dataframes\n",
    "4. Bonus exercises\n",
    "\n",
    "### Helpful resources\n",
    "- [Python Data Science Handbook](http://shop.oreilly.com/product/0636920034919.do) by Jake VanderPlas\n",
    "- [10 minute Pandas tutorial](http://pandas.pydata.org/pandas-docs/stable/getting_started/10min.html)\n",
    "- [Pandas Cheat Sheet](https://datacamp-community-prod.s3.amazonaws.com/9f0f2ae1-8bd8-4302-a67b-e17f3059d9e8) by Python for Data Science\n",
    "- [Importing Data Cheat Sheet](https://datacamp-community-prod.s3.amazonaws.com/50d31142-3de0-4159-89b9-18b718a728ef) by Python for Data Science\n",
    "- [Matplotlib introduction to Pyplot](https://matplotlib.org/tutorials/introductory/pyplot.html)\n",
    "- [Matplotlib usage guide: includes helpful anatomy of a figure](https://matplotlib.org/tutorials/introductory/usage.html)\n",
    "- [Detailed explanation of joining dataframes in Pandas](http://chris.friedline.net/2015-12-15-rutgers/lessons/python2/04-merging-data.html)\n",
    "\n",
    "### Data\n",
    "- The data in this lab is originally from [Gapminder](https://www.gapminder.org/data/) and was edited for teaching purposes. "
   ]
  },
  {
   "cell_type": "code",
   "execution_count": 1,
   "metadata": {
    "collapsed": true
   },
   "outputs": [],
   "source": [
    "import pandas as pd\n",
    "import numpy as np\n",
    "import matplotlib.pyplot as plt\n",
    "%matplotlib inline"
   ]
  },
  {
   "cell_type": "markdown",
   "metadata": {},
   "source": [
    "## Lab 5 Part 1: Inspecting and cleaning data in Pandas\n",
    "In Lab 4 we imported and worked with a very clean dataset. However, real data often has missing values or is saved in several different files. In this lab we'll review common issues when working with real data, such as removing missing values, reshaping and merging data matrices, and creating more complex figures. \n",
    "\n",
    "Today we will work with two spreadsheets in the `Lab_05` folder: `fertility_data.csv` and `child_mortality_data.csv`. These spreadsheets contain data from the years 1800 to 2000 on a small subset of countries. One dataset contains fertility over time (children per woman), and the other contains child mortality over time (deaths in children aged 0-5 years per 1000 births).\n",
    "\n",
    "**Exercise 1:** Import the data using the code below. Edit the code to look at the first five rows of each dataset. "
   ]
  },
  {
   "cell_type": "code",
   "execution_count": 2,
   "metadata": {},
   "outputs": [
    {
     "data": {
      "text/html": [
       "<div>\n",
       "<style>\n",
       "    .dataframe thead tr:only-child th {\n",
       "        text-align: right;\n",
       "    }\n",
       "\n",
       "    .dataframe thead th {\n",
       "        text-align: left;\n",
       "    }\n",
       "\n",
       "    .dataframe tbody tr th {\n",
       "        vertical-align: top;\n",
       "    }\n",
       "</style>\n",
       "<table border=\"1\" class=\"dataframe\">\n",
       "  <thead>\n",
       "    <tr style=\"text-align: right;\">\n",
       "      <th></th>\n",
       "      <th>country</th>\n",
       "      <th>continent</th>\n",
       "      <th>1800</th>\n",
       "      <th>1805</th>\n",
       "      <th>1810</th>\n",
       "      <th>1815</th>\n",
       "      <th>1820</th>\n",
       "      <th>1825</th>\n",
       "      <th>1830</th>\n",
       "      <th>1835</th>\n",
       "      <th>...</th>\n",
       "      <th>1955</th>\n",
       "      <th>1960</th>\n",
       "      <th>1965</th>\n",
       "      <th>1970</th>\n",
       "      <th>1975</th>\n",
       "      <th>1980</th>\n",
       "      <th>1985</th>\n",
       "      <th>1990</th>\n",
       "      <th>1995</th>\n",
       "      <th>2000</th>\n",
       "    </tr>\n",
       "  </thead>\n",
       "  <tbody>\n",
       "    <tr>\n",
       "      <th>0</th>\n",
       "      <td>Afghanistan</td>\n",
       "      <td>Asia</td>\n",
       "      <td>7.00</td>\n",
       "      <td>7.00</td>\n",
       "      <td>7.00</td>\n",
       "      <td>7.00</td>\n",
       "      <td>7.00</td>\n",
       "      <td>7.00</td>\n",
       "      <td>7.00</td>\n",
       "      <td>7.00</td>\n",
       "      <td>...</td>\n",
       "      <td>7.67</td>\n",
       "      <td>7.67</td>\n",
       "      <td>7.67</td>\n",
       "      <td>7.67</td>\n",
       "      <td>7.67</td>\n",
       "      <td>7.67</td>\n",
       "      <td>7.68</td>\n",
       "      <td>7.69</td>\n",
       "      <td>7.83</td>\n",
       "      <td>7.73</td>\n",
       "    </tr>\n",
       "    <tr>\n",
       "      <th>1</th>\n",
       "      <td>Aruba</td>\n",
       "      <td>South America</td>\n",
       "      <td>5.64</td>\n",
       "      <td>5.64</td>\n",
       "      <td>5.64</td>\n",
       "      <td>5.64</td>\n",
       "      <td>NaN</td>\n",
       "      <td>NaN</td>\n",
       "      <td>5.64</td>\n",
       "      <td>5.64</td>\n",
       "      <td>...</td>\n",
       "      <td>5.44</td>\n",
       "      <td>4.82</td>\n",
       "      <td>3.84</td>\n",
       "      <td>2.91</td>\n",
       "      <td>2.51</td>\n",
       "      <td>2.39</td>\n",
       "      <td>2.33</td>\n",
       "      <td>2.25</td>\n",
       "      <td>2.06</td>\n",
       "      <td>1.87</td>\n",
       "    </tr>\n",
       "    <tr>\n",
       "      <th>2</th>\n",
       "      <td>Brazil</td>\n",
       "      <td>South America</td>\n",
       "      <td>6.26</td>\n",
       "      <td>6.26</td>\n",
       "      <td>6.26</td>\n",
       "      <td>6.26</td>\n",
       "      <td>6.26</td>\n",
       "      <td>6.26</td>\n",
       "      <td>6.26</td>\n",
       "      <td>6.26</td>\n",
       "      <td>...</td>\n",
       "      <td>6.14</td>\n",
       "      <td>6.21</td>\n",
       "      <td>5.82</td>\n",
       "      <td>5.02</td>\n",
       "      <td>4.50</td>\n",
       "      <td>4.07</td>\n",
       "      <td>3.45</td>\n",
       "      <td>2.81</td>\n",
       "      <td>2.50</td>\n",
       "      <td>2.36</td>\n",
       "    </tr>\n",
       "    <tr>\n",
       "      <th>3</th>\n",
       "      <td>China</td>\n",
       "      <td>Asia</td>\n",
       "      <td>5.50</td>\n",
       "      <td>5.50</td>\n",
       "      <td>5.50</td>\n",
       "      <td>5.50</td>\n",
       "      <td>5.50</td>\n",
       "      <td>5.50</td>\n",
       "      <td>5.50</td>\n",
       "      <td>5.50</td>\n",
       "      <td>...</td>\n",
       "      <td>5.98</td>\n",
       "      <td>3.99</td>\n",
       "      <td>6.02</td>\n",
       "      <td>5.75</td>\n",
       "      <td>3.58</td>\n",
       "      <td>2.32</td>\n",
       "      <td>2.65</td>\n",
       "      <td>2.43</td>\n",
       "      <td>1.68</td>\n",
       "      <td>1.45</td>\n",
       "    </tr>\n",
       "    <tr>\n",
       "      <th>4</th>\n",
       "      <td>Egypt</td>\n",
       "      <td>Africa</td>\n",
       "      <td>6.06</td>\n",
       "      <td>6.06</td>\n",
       "      <td>6.06</td>\n",
       "      <td>6.05</td>\n",
       "      <td>6.05</td>\n",
       "      <td>6.05</td>\n",
       "      <td>6.05</td>\n",
       "      <td>6.05</td>\n",
       "      <td>...</td>\n",
       "      <td>6.66</td>\n",
       "      <td>6.63</td>\n",
       "      <td>6.41</td>\n",
       "      <td>5.94</td>\n",
       "      <td>5.59</td>\n",
       "      <td>5.37</td>\n",
       "      <td>5.05</td>\n",
       "      <td>4.35</td>\n",
       "      <td>3.66</td>\n",
       "      <td>3.31</td>\n",
       "    </tr>\n",
       "  </tbody>\n",
       "</table>\n",
       "<p>5 rows × 43 columns</p>\n",
       "</div>"
      ],
      "text/plain": [
       "       country      continent  1800  1805  1810  1815  1820  1825  1830  1835  \\\n",
       "0  Afghanistan           Asia  7.00  7.00  7.00  7.00  7.00  7.00  7.00  7.00   \n",
       "1        Aruba  South America  5.64  5.64  5.64  5.64   NaN   NaN  5.64  5.64   \n",
       "2       Brazil  South America  6.26  6.26  6.26  6.26  6.26  6.26  6.26  6.26   \n",
       "3        China           Asia  5.50  5.50  5.50  5.50  5.50  5.50  5.50  5.50   \n",
       "4        Egypt         Africa  6.06  6.06  6.06  6.05  6.05  6.05  6.05  6.05   \n",
       "\n",
       "   ...   1955  1960  1965  1970  1975  1980  1985  1990  1995  2000  \n",
       "0  ...   7.67  7.67  7.67  7.67  7.67  7.67  7.68  7.69  7.83  7.73  \n",
       "1  ...   5.44  4.82  3.84  2.91  2.51  2.39  2.33  2.25  2.06  1.87  \n",
       "2  ...   6.14  6.21  5.82  5.02  4.50  4.07  3.45  2.81  2.50  2.36  \n",
       "3  ...   5.98  3.99  6.02  5.75  3.58  2.32  2.65  2.43  1.68  1.45  \n",
       "4  ...   6.66  6.63  6.41  5.94  5.59  5.37  5.05  4.35  3.66  3.31  \n",
       "\n",
       "[5 rows x 43 columns]"
      ]
     },
     "execution_count": 2,
     "metadata": {},
     "output_type": "execute_result"
    }
   ],
   "source": [
    "fertility = pd.read_csv(\"./data/Lab_05/fertility_data.csv\")\n",
    "fertility.head()"
   ]
  },
  {
   "cell_type": "code",
   "execution_count": 3,
   "metadata": {},
   "outputs": [
    {
     "data": {
      "text/html": [
       "<div>\n",
       "<style>\n",
       "    .dataframe thead tr:only-child th {\n",
       "        text-align: right;\n",
       "    }\n",
       "\n",
       "    .dataframe thead th {\n",
       "        text-align: left;\n",
       "    }\n",
       "\n",
       "    .dataframe tbody tr th {\n",
       "        vertical-align: top;\n",
       "    }\n",
       "</style>\n",
       "<table border=\"1\" class=\"dataframe\">\n",
       "  <thead>\n",
       "    <tr style=\"text-align: right;\">\n",
       "      <th></th>\n",
       "      <th>country</th>\n",
       "      <th>continent</th>\n",
       "      <th>1800</th>\n",
       "      <th>1805</th>\n",
       "      <th>1810</th>\n",
       "      <th>1815</th>\n",
       "      <th>1820</th>\n",
       "      <th>1825</th>\n",
       "      <th>1830</th>\n",
       "      <th>1835</th>\n",
       "      <th>...</th>\n",
       "      <th>1955</th>\n",
       "      <th>1960</th>\n",
       "      <th>1965</th>\n",
       "      <th>1970</th>\n",
       "      <th>1975</th>\n",
       "      <th>1980</th>\n",
       "      <th>1985</th>\n",
       "      <th>1990</th>\n",
       "      <th>1995</th>\n",
       "      <th>2000</th>\n",
       "    </tr>\n",
       "  </thead>\n",
       "  <tbody>\n",
       "    <tr>\n",
       "      <th>0</th>\n",
       "      <td>Afghanistan</td>\n",
       "      <td>Asia</td>\n",
       "      <td>468.58</td>\n",
       "      <td>468.58</td>\n",
       "      <td>469.98</td>\n",
       "      <td>469.98</td>\n",
       "      <td>471.38</td>\n",
       "      <td>471.38</td>\n",
       "      <td>472.81</td>\n",
       "      <td>472.81</td>\n",
       "      <td>...</td>\n",
       "      <td>398.07</td>\n",
       "      <td>362.40</td>\n",
       "      <td>334.10</td>\n",
       "      <td>307.8</td>\n",
       "      <td>279.4</td>\n",
       "      <td>249.1</td>\n",
       "      <td>216.0</td>\n",
       "      <td>181.0</td>\n",
       "      <td>152.3</td>\n",
       "      <td>137.0</td>\n",
       "    </tr>\n",
       "    <tr>\n",
       "      <th>1</th>\n",
       "      <td>Brazil</td>\n",
       "      <td>South America</td>\n",
       "      <td>417.44</td>\n",
       "      <td>417.44</td>\n",
       "      <td>417.44</td>\n",
       "      <td>417.44</td>\n",
       "      <td>417.44</td>\n",
       "      <td>417.44</td>\n",
       "      <td>417.44</td>\n",
       "      <td>417.44</td>\n",
       "      <td>...</td>\n",
       "      <td>198.10</td>\n",
       "      <td>171.80</td>\n",
       "      <td>150.60</td>\n",
       "      <td>133.7</td>\n",
       "      <td>115.6</td>\n",
       "      <td>95.6</td>\n",
       "      <td>75.3</td>\n",
       "      <td>61.1</td>\n",
       "      <td>46.7</td>\n",
       "      <td>32.4</td>\n",
       "    </tr>\n",
       "    <tr>\n",
       "      <th>2</th>\n",
       "      <td>China</td>\n",
       "      <td>Asia</td>\n",
       "      <td>417.44</td>\n",
       "      <td>417.44</td>\n",
       "      <td>417.44</td>\n",
       "      <td>417.44</td>\n",
       "      <td>417.44</td>\n",
       "      <td>417.44</td>\n",
       "      <td>417.44</td>\n",
       "      <td>417.44</td>\n",
       "      <td>...</td>\n",
       "      <td>290.96</td>\n",
       "      <td>308.99</td>\n",
       "      <td>115.43</td>\n",
       "      <td>113.3</td>\n",
       "      <td>85.2</td>\n",
       "      <td>62.4</td>\n",
       "      <td>54.0</td>\n",
       "      <td>53.8</td>\n",
       "      <td>47.5</td>\n",
       "      <td>36.9</td>\n",
       "    </tr>\n",
       "    <tr>\n",
       "      <th>3</th>\n",
       "      <td>Egypt</td>\n",
       "      <td>Africa</td>\n",
       "      <td>404.69</td>\n",
       "      <td>404.69</td>\n",
       "      <td>NaN</td>\n",
       "      <td>404.69</td>\n",
       "      <td>404.69</td>\n",
       "      <td>404.69</td>\n",
       "      <td>404.69</td>\n",
       "      <td>404.69</td>\n",
       "      <td>...</td>\n",
       "      <td>360.50</td>\n",
       "      <td>NaN</td>\n",
       "      <td>NaN</td>\n",
       "      <td>NaN</td>\n",
       "      <td>NaN</td>\n",
       "      <td>NaN</td>\n",
       "      <td>118.8</td>\n",
       "      <td>85.9</td>\n",
       "      <td>64.6</td>\n",
       "      <td>46.5</td>\n",
       "    </tr>\n",
       "    <tr>\n",
       "      <th>4</th>\n",
       "      <td>France</td>\n",
       "      <td>Europe</td>\n",
       "      <td>412.34</td>\n",
       "      <td>384.88</td>\n",
       "      <td>333.01</td>\n",
       "      <td>282.37</td>\n",
       "      <td>284.84</td>\n",
       "      <td>305.66</td>\n",
       "      <td>282.91</td>\n",
       "      <td>277.27</td>\n",
       "      <td>...</td>\n",
       "      <td>40.20</td>\n",
       "      <td>28.50</td>\n",
       "      <td>22.30</td>\n",
       "      <td>18.2</td>\n",
       "      <td>15.0</td>\n",
       "      <td>12.4</td>\n",
       "      <td>10.3</td>\n",
       "      <td>9.0</td>\n",
       "      <td>6.5</td>\n",
       "      <td>5.4</td>\n",
       "    </tr>\n",
       "  </tbody>\n",
       "</table>\n",
       "<p>5 rows × 43 columns</p>\n",
       "</div>"
      ],
      "text/plain": [
       "       country      continent    1800    1805    1810    1815    1820    1825  \\\n",
       "0  Afghanistan           Asia  468.58  468.58  469.98  469.98  471.38  471.38   \n",
       "1       Brazil  South America  417.44  417.44  417.44  417.44  417.44  417.44   \n",
       "2        China           Asia  417.44  417.44  417.44  417.44  417.44  417.44   \n",
       "3        Egypt         Africa  404.69  404.69     NaN  404.69  404.69  404.69   \n",
       "4       France         Europe  412.34  384.88  333.01  282.37  284.84  305.66   \n",
       "\n",
       "     1830    1835  ...      1955    1960    1965   1970   1975   1980   1985  \\\n",
       "0  472.81  472.81  ...    398.07  362.40  334.10  307.8  279.4  249.1  216.0   \n",
       "1  417.44  417.44  ...    198.10  171.80  150.60  133.7  115.6   95.6   75.3   \n",
       "2  417.44  417.44  ...    290.96  308.99  115.43  113.3   85.2   62.4   54.0   \n",
       "3  404.69  404.69  ...    360.50     NaN     NaN    NaN    NaN    NaN  118.8   \n",
       "4  282.91  277.27  ...     40.20   28.50   22.30   18.2   15.0   12.4   10.3   \n",
       "\n",
       "    1990   1995   2000  \n",
       "0  181.0  152.3  137.0  \n",
       "1   61.1   46.7   32.4  \n",
       "2   53.8   47.5   36.9  \n",
       "3   85.9   64.6   46.5  \n",
       "4    9.0    6.5    5.4  \n",
       "\n",
       "[5 rows x 43 columns]"
      ]
     },
     "execution_count": 3,
     "metadata": {},
     "output_type": "execute_result"
    }
   ],
   "source": [
    "mortality = pd.read_csv(\"./data/Lab_05/child_mortality_data.csv\")\n",
    "mortality.head()"
   ]
  },
  {
   "cell_type": "markdown",
   "metadata": {},
   "source": [
    "### Removing discrepancies between datasets\n",
    "In this lab we plan to directly compare global fertility trends to child mortality trends. Therefore, we are not interested in countries that only have data for one of the two variables. To remove these countries we first need to find out what they are. The `numpy` function `setdiff1d` returns all values in the first array that are not in the second array:"
   ]
  },
  {
   "cell_type": "code",
   "execution_count": 4,
   "metadata": {},
   "outputs": [
    {
     "name": "stdout",
     "output_type": "stream",
     "text": [
      "['Aruba']\n"
     ]
    }
   ],
   "source": [
    "missing_in_mortality = np.setdiff1d(fertility['country'], mortality['country'])\n",
    "print(missing_in_mortality)"
   ]
  },
  {
   "cell_type": "markdown",
   "metadata": {},
   "source": [
    "**Exercise 2:** Similarly, use `setdiff1d` to find the coutries in the mortality dataset that are missing from the fertility dataset. Place these missing countries in a variable called `missing_in_fertility`. "
   ]
  },
  {
   "cell_type": "code",
   "execution_count": 5,
   "metadata": {},
   "outputs": [
    {
     "name": "stdout",
     "output_type": "stream",
     "text": [
      "['San Marino']\n"
     ]
    }
   ],
   "source": [
    "missing_in_fertility = np.setdiff1d(mortality['country'], fertility['country'])\n",
    "print(missing_in_fertility)"
   ]
  },
  {
   "cell_type": "markdown",
   "metadata": {},
   "source": [
    "Next, remove the problem countries from each dataset. In English, the code below means \"create a new dataframe called `clean_F` that does not (`~`) contain any rows in which the `country` column value is in the `missing_in_mortality` array. "
   ]
  },
  {
   "cell_type": "code",
   "execution_count": 6,
   "metadata": {
    "collapsed": true
   },
   "outputs": [],
   "source": [
    "clean_F = fertility[~fertility['country'].isin(missing_in_mortality)]"
   ]
  },
  {
   "cell_type": "markdown",
   "metadata": {},
   "source": [
    "**Exercise 3:** Create a new dataframe called `clean_M` that similarly removes problematic countries from the original mortality dataset. "
   ]
  },
  {
   "cell_type": "code",
   "execution_count": 7,
   "metadata": {
    "collapsed": true
   },
   "outputs": [],
   "source": [
    "clean_M = mortality[~mortality['country'].isin(missing_in_fertility)]"
   ]
  },
  {
   "cell_type": "markdown",
   "metadata": {},
   "source": [
    "At this point both cleaned datasets should have the same shape:"
   ]
  },
  {
   "cell_type": "code",
   "execution_count": 8,
   "metadata": {},
   "outputs": [
    {
     "name": "stdout",
     "output_type": "stream",
     "text": [
      "shape of fertility data: (25, 43)\n",
      "shape of mortality data: (25, 43)\n"
     ]
    }
   ],
   "source": [
    "print(\"shape of fertility data:\", clean_F.shape)\n",
    "print(\"shape of mortality data:\", clean_M.shape)"
   ]
  },
  {
   "cell_type": "markdown",
   "metadata": {},
   "source": [
    "## Lab 5 Part 2: Working with figure objects in Matplotlib\n",
    "\n",
    "Now that we are working with data that has many different variables, it's useful to know some more complex plotting commands to look at this data. \n",
    "\n",
    "In particular, we can declare `Matplotlib` figures as variables. Giving these objects variable names allows us to edit the objects after they are made - for example, by adding multiple subplots or graphs to the same figure, or adding a colorbar key for all colors used to create a heatmap. \n",
    "\n",
    "### Making a heatmap in Matplotlib\n",
    "Since both of our datasets are three dimensional (years, countries, and fertility / mortality data), a heatmap might help visualize this data in a way that's easier to understand. \n",
    "\n",
    "To create a heatmap in `Matplotlib`, we need three variables: \n",
    "- The values for the x variables (in our case, years)\n",
    "- The values for the y variables (in our case, country)\n",
    "- A matrix or Pandas dataframe containing only the numbers to visualize (in our case, fertility or mortality)"
   ]
  },
  {
   "cell_type": "code",
   "execution_count": 9,
   "metadata": {},
   "outputs": [
    {
     "name": "stdout",
     "output_type": "stream",
     "text": [
      "['Afghanistan' 'Brazil' 'China' 'Egypt' 'France' 'Germany' 'India' 'Iran'\n",
      " 'Israel' 'Italy' 'Japan' 'Mexico' 'Netherlands' 'Nigeria' 'Pakistan'\n",
      " 'Qatar' 'Russia' 'Saudi Arabia' 'Singapore' 'Spain' 'Sweden' 'Switzerland'\n",
      " 'Turkey' 'United States' 'Venezuela']\n"
     ]
    }
   ],
   "source": [
    "# Get the values for all of the y variables by \n",
    "# creating a variable \"countries\" holding all values from \n",
    "# the \"country\" column in the clean_F dataframe\n",
    "\n",
    "countries = clean_F['country'].values\n",
    "print(countries)"
   ]
  },
  {
   "cell_type": "markdown",
   "metadata": {},
   "source": [
    "To get all of the year values in a list, we can use the `Pandas` `df.columns.values` function to get a list of column headers. However, since the `clean_F` dataframe also contains \"continent\" and \"country\" columns, we need to remove these using the `drop()` function. "
   ]
  },
  {
   "cell_type": "code",
   "execution_count": 10,
   "metadata": {},
   "outputs": [
    {
     "name": "stdout",
     "output_type": "stream",
     "text": [
      "['1800' '1805' '1810' '1815' '1820' '1825' '1830' '1835' '1840' '1845'\n",
      " '1850' '1855' '1860' '1865' '1870' '1875' '1880' '1885' '1890' '1895'\n",
      " '1900' '1905' '1910' '1915' '1920' '1925' '1930' '1935' '1940' '1945'\n",
      " '1950' '1955' '1960' '1965' '1970' '1975' '1980' '1985' '1990' '1995'\n",
      " '2000']\n"
     ]
    },
    {
     "data": {
      "text/html": [
       "<div>\n",
       "<style>\n",
       "    .dataframe thead tr:only-child th {\n",
       "        text-align: right;\n",
       "    }\n",
       "\n",
       "    .dataframe thead th {\n",
       "        text-align: left;\n",
       "    }\n",
       "\n",
       "    .dataframe tbody tr th {\n",
       "        vertical-align: top;\n",
       "    }\n",
       "</style>\n",
       "<table border=\"1\" class=\"dataframe\">\n",
       "  <thead>\n",
       "    <tr style=\"text-align: right;\">\n",
       "      <th></th>\n",
       "      <th>1800</th>\n",
       "      <th>1805</th>\n",
       "      <th>1810</th>\n",
       "      <th>1815</th>\n",
       "      <th>1820</th>\n",
       "      <th>1825</th>\n",
       "      <th>1830</th>\n",
       "      <th>1835</th>\n",
       "      <th>1840</th>\n",
       "      <th>1845</th>\n",
       "      <th>...</th>\n",
       "      <th>1955</th>\n",
       "      <th>1960</th>\n",
       "      <th>1965</th>\n",
       "      <th>1970</th>\n",
       "      <th>1975</th>\n",
       "      <th>1980</th>\n",
       "      <th>1985</th>\n",
       "      <th>1990</th>\n",
       "      <th>1995</th>\n",
       "      <th>2000</th>\n",
       "    </tr>\n",
       "  </thead>\n",
       "  <tbody>\n",
       "    <tr>\n",
       "      <th>0</th>\n",
       "      <td>7.00</td>\n",
       "      <td>7.00</td>\n",
       "      <td>7.00</td>\n",
       "      <td>7.00</td>\n",
       "      <td>7.00</td>\n",
       "      <td>7.00</td>\n",
       "      <td>7.00</td>\n",
       "      <td>7.00</td>\n",
       "      <td>7.00</td>\n",
       "      <td>NaN</td>\n",
       "      <td>...</td>\n",
       "      <td>7.67</td>\n",
       "      <td>7.67</td>\n",
       "      <td>7.67</td>\n",
       "      <td>7.67</td>\n",
       "      <td>7.67</td>\n",
       "      <td>7.67</td>\n",
       "      <td>7.68</td>\n",
       "      <td>7.69</td>\n",
       "      <td>7.83</td>\n",
       "      <td>7.73</td>\n",
       "    </tr>\n",
       "    <tr>\n",
       "      <th>2</th>\n",
       "      <td>6.26</td>\n",
       "      <td>6.26</td>\n",
       "      <td>6.26</td>\n",
       "      <td>6.26</td>\n",
       "      <td>6.26</td>\n",
       "      <td>6.26</td>\n",
       "      <td>6.26</td>\n",
       "      <td>6.26</td>\n",
       "      <td>6.26</td>\n",
       "      <td>6.26</td>\n",
       "      <td>...</td>\n",
       "      <td>6.14</td>\n",
       "      <td>6.21</td>\n",
       "      <td>5.82</td>\n",
       "      <td>5.02</td>\n",
       "      <td>4.50</td>\n",
       "      <td>4.07</td>\n",
       "      <td>3.45</td>\n",
       "      <td>2.81</td>\n",
       "      <td>2.50</td>\n",
       "      <td>2.36</td>\n",
       "    </tr>\n",
       "    <tr>\n",
       "      <th>3</th>\n",
       "      <td>5.50</td>\n",
       "      <td>5.50</td>\n",
       "      <td>5.50</td>\n",
       "      <td>5.50</td>\n",
       "      <td>5.50</td>\n",
       "      <td>5.50</td>\n",
       "      <td>5.50</td>\n",
       "      <td>5.50</td>\n",
       "      <td>5.50</td>\n",
       "      <td>5.50</td>\n",
       "      <td>...</td>\n",
       "      <td>5.98</td>\n",
       "      <td>3.99</td>\n",
       "      <td>6.02</td>\n",
       "      <td>5.75</td>\n",
       "      <td>3.58</td>\n",
       "      <td>2.32</td>\n",
       "      <td>2.65</td>\n",
       "      <td>2.43</td>\n",
       "      <td>1.68</td>\n",
       "      <td>1.45</td>\n",
       "    </tr>\n",
       "    <tr>\n",
       "      <th>4</th>\n",
       "      <td>6.06</td>\n",
       "      <td>6.06</td>\n",
       "      <td>6.06</td>\n",
       "      <td>6.05</td>\n",
       "      <td>6.05</td>\n",
       "      <td>6.05</td>\n",
       "      <td>6.05</td>\n",
       "      <td>6.05</td>\n",
       "      <td>6.05</td>\n",
       "      <td>6.04</td>\n",
       "      <td>...</td>\n",
       "      <td>6.66</td>\n",
       "      <td>6.63</td>\n",
       "      <td>6.41</td>\n",
       "      <td>5.94</td>\n",
       "      <td>5.59</td>\n",
       "      <td>5.37</td>\n",
       "      <td>5.05</td>\n",
       "      <td>4.35</td>\n",
       "      <td>3.66</td>\n",
       "      <td>3.31</td>\n",
       "    </tr>\n",
       "    <tr>\n",
       "      <th>5</th>\n",
       "      <td>4.41</td>\n",
       "      <td>4.16</td>\n",
       "      <td>3.90</td>\n",
       "      <td>3.87</td>\n",
       "      <td>3.84</td>\n",
       "      <td>3.78</td>\n",
       "      <td>3.72</td>\n",
       "      <td>3.64</td>\n",
       "      <td>3.56</td>\n",
       "      <td>3.52</td>\n",
       "      <td>...</td>\n",
       "      <td>2.68</td>\n",
       "      <td>2.77</td>\n",
       "      <td>2.77</td>\n",
       "      <td>2.49</td>\n",
       "      <td>2.06</td>\n",
       "      <td>1.83</td>\n",
       "      <td>1.84</td>\n",
       "      <td>1.75</td>\n",
       "      <td>1.72</td>\n",
       "      <td>1.82</td>\n",
       "    </tr>\n",
       "  </tbody>\n",
       "</table>\n",
       "<p>5 rows × 41 columns</p>\n",
       "</div>"
      ],
      "text/plain": [
       "   1800  1805  1810  1815  1820  1825  1830  1835  1840  1845  ...   1955  \\\n",
       "0  7.00  7.00  7.00  7.00  7.00  7.00  7.00  7.00  7.00   NaN  ...   7.67   \n",
       "2  6.26  6.26  6.26  6.26  6.26  6.26  6.26  6.26  6.26  6.26  ...   6.14   \n",
       "3  5.50  5.50  5.50  5.50  5.50  5.50  5.50  5.50  5.50  5.50  ...   5.98   \n",
       "4  6.06  6.06  6.06  6.05  6.05  6.05  6.05  6.05  6.05  6.04  ...   6.66   \n",
       "5  4.41  4.16  3.90  3.87  3.84  3.78  3.72  3.64  3.56  3.52  ...   2.68   \n",
       "\n",
       "   1960  1965  1970  1975  1980  1985  1990  1995  2000  \n",
       "0  7.67  7.67  7.67  7.67  7.67  7.68  7.69  7.83  7.73  \n",
       "2  6.21  5.82  5.02  4.50  4.07  3.45  2.81  2.50  2.36  \n",
       "3  3.99  6.02  5.75  3.58  2.32  2.65  2.43  1.68  1.45  \n",
       "4  6.63  6.41  5.94  5.59  5.37  5.05  4.35  3.66  3.31  \n",
       "5  2.77  2.77  2.49  2.06  1.83  1.84  1.75  1.72  1.82  \n",
       "\n",
       "[5 rows x 41 columns]"
      ]
     },
     "execution_count": 10,
     "metadata": {},
     "output_type": "execute_result"
    }
   ],
   "source": [
    "# axis=1 specifies that we are dropping columns, not rows\n",
    "temp = clean_F.drop(['continent', 'country'], axis=1)\n",
    "years = temp.columns.values\n",
    "\n",
    "print(years)\n",
    "temp.head()"
   ]
  },
  {
   "cell_type": "markdown",
   "metadata": {},
   "source": [
    "Using these three variables we can now plot the heatmap in `Matplotlib`. Notice that the missing values in the dataset show up as white blocks in the heatmap - `Matplotlib` does this automatically to missing data in heatmaps. "
   ]
  },
  {
   "cell_type": "code",
   "execution_count": 11,
   "metadata": {},
   "outputs": [
    {
     "data": {
      "image/png": "[encoded data removed]",
      "text/plain": [
       "<matplotlib.figure.Figure at 0x7f6f367d7f28>"
      ]
     },
     "metadata": {},
     "output_type": "display_data"
    }
   ],
   "source": [
    "# Create a figure called fig\n",
    "# with the sizes 10 inches wide by 4 inches high.\n",
    "fig = plt.figure(figsize=(10, 4))\n",
    "\n",
    "# Add a subplot within the figure\n",
    "ax1 = fig.add_subplot(1,1,1)\n",
    "\n",
    "# Create the heatmap as the variable img\n",
    "img = ax1.imshow(temp.values)\n",
    "\n",
    "# Plot the labels for the y axis (countries)\n",
    "ax1.set_yticks(np.arange(len(countries)))\n",
    "ax1.set_yticklabels(countries)\n",
    "\n",
    "# Plot the labels for the x axis (years)\n",
    "ax1.set_xticks(np.arange(len(years)))\n",
    "ax1.set_xticklabels(years, rotation=90)\n",
    "\n",
    "# Add a colorbar for the variable img\n",
    "cbar = fig.colorbar(img, ax=ax1)\n",
    "\n",
    "cbar.set_label('Mean children per woman')\n",
    "ax1.set_title(\"Fertility over time\")\n",
    "plt.show()"
   ]
  },
  {
   "cell_type": "markdown",
   "metadata": {},
   "source": [
    "**Exercise 4:** Similarly, make a heatmap showing the mortality data over time."
   ]
  },
  {
   "cell_type": "code",
   "execution_count": 12,
   "metadata": {},
   "outputs": [
    {
     "data": {
      "image/png": "[encoded data removed]",
      "text/plain": [
       "<matplotlib.figure.Figure at 0x7f6f367b6f28>"
      ]
     },
     "metadata": {},
     "output_type": "display_data"
    }
   ],
   "source": [
    "countries = clean_M['country'].values\n",
    "temp = clean_M.drop(['continent', 'country'], axis=1) # axis=1 specifies that we are dropping columns, not rows\n",
    "years = temp.columns.values\n",
    "\n",
    "fig = plt.figure(figsize=(10, 4))\n",
    "ax1 = fig.add_subplot(1,1,1)\n",
    "img = ax1.imshow(temp.values)\n",
    "ax1.set_yticks(np.arange(len(countries)))\n",
    "ax1.set_yticklabels(countries)\n",
    "ax1.set_xticks(np.arange(len(years)))\n",
    "ax1.set_xticklabels(years, rotation=90)\n",
    "cbar = fig.colorbar(img, ax=ax1)\n",
    "\n",
    "cbar.set_label('Mean deaths per 10000 births')\n",
    "ax1.set_title(\"Child mortality over time\")\n",
    "plt.show()"
   ]
  },
  {
   "cell_type": "markdown",
   "metadata": {},
   "source": [
    "## Lab 5 Part 3: Joining two Pandas dataframes\n",
    "\n",
    "After visualizing both the fertility and mortality dataset, it looks like both datasets seem to be following similar trends. We would like to see if this relationship can be described using a linear regression model. \n",
    "\n",
    "Right now the data is in two different datasets, so before we can place these data points in a matrix we need a way to pair each mortality value to the corresponding fertility value (by year and country). \n",
    "\n",
    "### Melting Pandas dataframes\n",
    "The first step is to reduce the dataframe to a format that facilitates merging. Right now the fertility values are arranged throughout the fertility dataframe under many different columns. It would be more helpful if the year values were contained in their own column, so that all of the fertility data could be contained a single column instead of many:"
   ]
  },
  {
   "cell_type": "code",
   "execution_count": 13,
   "metadata": {},
   "outputs": [
    {
     "data": {
      "text/html": [
       "<div>\n",
       "<style>\n",
       "    .dataframe thead tr:only-child th {\n",
       "        text-align: right;\n",
       "    }\n",
       "\n",
       "    .dataframe thead th {\n",
       "        text-align: left;\n",
       "    }\n",
       "\n",
       "    .dataframe tbody tr th {\n",
       "        vertical-align: top;\n",
       "    }\n",
       "</style>\n",
       "<table border=\"1\" class=\"dataframe\">\n",
       "  <thead>\n",
       "    <tr style=\"text-align: right;\">\n",
       "      <th></th>\n",
       "      <th>continent</th>\n",
       "      <th>country</th>\n",
       "      <th>year</th>\n",
       "      <th>fertility</th>\n",
       "    </tr>\n",
       "  </thead>\n",
       "  <tbody>\n",
       "    <tr>\n",
       "      <th>0</th>\n",
       "      <td>Asia</td>\n",
       "      <td>Afghanistan</td>\n",
       "      <td>1800</td>\n",
       "      <td>7.00</td>\n",
       "    </tr>\n",
       "    <tr>\n",
       "      <th>1</th>\n",
       "      <td>South America</td>\n",
       "      <td>Brazil</td>\n",
       "      <td>1800</td>\n",
       "      <td>6.26</td>\n",
       "    </tr>\n",
       "    <tr>\n",
       "      <th>2</th>\n",
       "      <td>Asia</td>\n",
       "      <td>China</td>\n",
       "      <td>1800</td>\n",
       "      <td>5.50</td>\n",
       "    </tr>\n",
       "    <tr>\n",
       "      <th>3</th>\n",
       "      <td>Africa</td>\n",
       "      <td>Egypt</td>\n",
       "      <td>1800</td>\n",
       "      <td>6.06</td>\n",
       "    </tr>\n",
       "    <tr>\n",
       "      <th>4</th>\n",
       "      <td>Europe</td>\n",
       "      <td>France</td>\n",
       "      <td>1800</td>\n",
       "      <td>4.41</td>\n",
       "    </tr>\n",
       "  </tbody>\n",
       "</table>\n",
       "</div>"
      ],
      "text/plain": [
       "       continent      country  year  fertility\n",
       "0           Asia  Afghanistan  1800       7.00\n",
       "1  South America       Brazil  1800       6.26\n",
       "2           Asia        China  1800       5.50\n",
       "3         Africa        Egypt  1800       6.06\n",
       "4         Europe       France  1800       4.41"
      ]
     },
     "execution_count": 13,
     "metadata": {},
     "output_type": "execute_result"
    }
   ],
   "source": [
    "# Using a temporary dataframe like before, \n",
    "# create a list that contains all of the year values\n",
    "# that should be stored in the new \"year\" column\n",
    "temp = clean_F.drop(['continent', 'country'], axis=1)\n",
    "years = temp.columns.values\n",
    "\n",
    "# The pandas melt function pivots dataframes into different arrangements.\n",
    "# Here is what each argument means:\n",
    "# id_vars: columns that should remain the same after melting\n",
    "# value_vars: the column heades that should be unwrapped to the row axis\n",
    "# var_name: the column header for the new column created by unwrapping value_vars (years)\n",
    "# value_name: the column header for the new column created by unwrapping the values\n",
    "melt_F = clean_F.melt(id_vars=['continent','country'], value_name='fertility', \n",
    "                 value_vars=years, var_name=\"year\")\n",
    "melt_F.head()"
   ]
  },
  {
   "cell_type": "markdown",
   "metadata": {},
   "source": [
    "**Exercise 5:** Similarly, melt the `clean_M` cleaned mortality dataframe. *Hint:* Remember to change the `value_name` argument to something that best describes the data in this particular dataframe!"
   ]
  },
  {
   "cell_type": "code",
   "execution_count": 14,
   "metadata": {},
   "outputs": [
    {
     "data": {
      "text/html": [
       "<div>\n",
       "<style>\n",
       "    .dataframe thead tr:only-child th {\n",
       "        text-align: right;\n",
       "    }\n",
       "\n",
       "    .dataframe thead th {\n",
       "        text-align: left;\n",
       "    }\n",
       "\n",
       "    .dataframe tbody tr th {\n",
       "        vertical-align: top;\n",
       "    }\n",
       "</style>\n",
       "<table border=\"1\" class=\"dataframe\">\n",
       "  <thead>\n",
       "    <tr style=\"text-align: right;\">\n",
       "      <th></th>\n",
       "      <th>continent</th>\n",
       "      <th>country</th>\n",
       "      <th>year</th>\n",
       "      <th>mortality</th>\n",
       "    </tr>\n",
       "  </thead>\n",
       "  <tbody>\n",
       "    <tr>\n",
       "      <th>0</th>\n",
       "      <td>Asia</td>\n",
       "      <td>Afghanistan</td>\n",
       "      <td>1800</td>\n",
       "      <td>468.58</td>\n",
       "    </tr>\n",
       "    <tr>\n",
       "      <th>1</th>\n",
       "      <td>South America</td>\n",
       "      <td>Brazil</td>\n",
       "      <td>1800</td>\n",
       "      <td>417.44</td>\n",
       "    </tr>\n",
       "    <tr>\n",
       "      <th>2</th>\n",
       "      <td>Asia</td>\n",
       "      <td>China</td>\n",
       "      <td>1800</td>\n",
       "      <td>417.44</td>\n",
       "    </tr>\n",
       "    <tr>\n",
       "      <th>3</th>\n",
       "      <td>Africa</td>\n",
       "      <td>Egypt</td>\n",
       "      <td>1800</td>\n",
       "      <td>404.69</td>\n",
       "    </tr>\n",
       "    <tr>\n",
       "      <th>4</th>\n",
       "      <td>Europe</td>\n",
       "      <td>France</td>\n",
       "      <td>1800</td>\n",
       "      <td>412.34</td>\n",
       "    </tr>\n",
       "  </tbody>\n",
       "</table>\n",
       "</div>"
      ],
      "text/plain": [
       "       continent      country  year  mortality\n",
       "0           Asia  Afghanistan  1800     468.58\n",
       "1  South America       Brazil  1800     417.44\n",
       "2           Asia        China  1800     417.44\n",
       "3         Africa        Egypt  1800     404.69\n",
       "4         Europe       France  1800     412.34"
      ]
     },
     "execution_count": 14,
     "metadata": {},
     "output_type": "execute_result"
    }
   ],
   "source": [
    "temp = clean_M.drop(['continent', 'country'], axis=1)\n",
    "years = temp.columns.values\n",
    "melt_M = clean_M.melt(id_vars=['continent','country'], value_name='mortality', \n",
    "                 value_vars=years, var_name=\"year\")\n",
    "melt_M.head()"
   ]
  },
  {
   "cell_type": "markdown",
   "metadata": {},
   "source": [
    "### Merging Pandas dataframes\n",
    "Now that both dataframes are in a simplified, identical format, they can be merged together. The `Pandas` `merge` function can join two or more dataframes together in many different ways. We will use only the default way in this lab (an inner join) but you can read about other options [here](http://chris.friedline.net/2015-12-15-rutgers/lessons/python2/04-merging-data.html) if you're interested. The `on` argument in `merge()` specifies that rows from the two dataframes will only be included if they share the same values for `country` *and* `continent` *and* `year` in both columns. Rows with these \"join keys\" present in only one dataframe will not be included. "
   ]
  },
  {
   "cell_type": "code",
   "execution_count": 15,
   "metadata": {},
   "outputs": [
    {
     "data": {
      "text/html": [
       "<div>\n",
       "<style>\n",
       "    .dataframe thead tr:only-child th {\n",
       "        text-align: right;\n",
       "    }\n",
       "\n",
       "    .dataframe thead th {\n",
       "        text-align: left;\n",
       "    }\n",
       "\n",
       "    .dataframe tbody tr th {\n",
       "        vertical-align: top;\n",
       "    }\n",
       "</style>\n",
       "<table border=\"1\" class=\"dataframe\">\n",
       "  <thead>\n",
       "    <tr style=\"text-align: right;\">\n",
       "      <th></th>\n",
       "      <th>continent</th>\n",
       "      <th>country</th>\n",
       "      <th>year</th>\n",
       "      <th>fertility</th>\n",
       "      <th>mortality</th>\n",
       "    </tr>\n",
       "  </thead>\n",
       "  <tbody>\n",
       "    <tr>\n",
       "      <th>0</th>\n",
       "      <td>Asia</td>\n",
       "      <td>Afghanistan</td>\n",
       "      <td>1800</td>\n",
       "      <td>7.00</td>\n",
       "      <td>468.58</td>\n",
       "    </tr>\n",
       "    <tr>\n",
       "      <th>1</th>\n",
       "      <td>South America</td>\n",
       "      <td>Brazil</td>\n",
       "      <td>1800</td>\n",
       "      <td>6.26</td>\n",
       "      <td>417.44</td>\n",
       "    </tr>\n",
       "    <tr>\n",
       "      <th>2</th>\n",
       "      <td>Asia</td>\n",
       "      <td>China</td>\n",
       "      <td>1800</td>\n",
       "      <td>5.50</td>\n",
       "      <td>417.44</td>\n",
       "    </tr>\n",
       "    <tr>\n",
       "      <th>3</th>\n",
       "      <td>Africa</td>\n",
       "      <td>Egypt</td>\n",
       "      <td>1800</td>\n",
       "      <td>6.06</td>\n",
       "      <td>404.69</td>\n",
       "    </tr>\n",
       "    <tr>\n",
       "      <th>4</th>\n",
       "      <td>Europe</td>\n",
       "      <td>France</td>\n",
       "      <td>1800</td>\n",
       "      <td>4.41</td>\n",
       "      <td>412.34</td>\n",
       "    </tr>\n",
       "  </tbody>\n",
       "</table>\n",
       "</div>"
      ],
      "text/plain": [
       "       continent      country  year  fertility  mortality\n",
       "0           Asia  Afghanistan  1800       7.00     468.58\n",
       "1  South America       Brazil  1800       6.26     417.44\n",
       "2           Asia        China  1800       5.50     417.44\n",
       "3         Africa        Egypt  1800       6.06     404.69\n",
       "4         Europe       France  1800       4.41     412.34"
      ]
     },
     "execution_count": 15,
     "metadata": {},
     "output_type": "execute_result"
    }
   ],
   "source": [
    "merge = pd.merge(melt_F, melt_M, on=['country', 'continent', 'year'])\n",
    "merge.head()"
   ]
  },
  {
   "cell_type": "markdown",
   "metadata": {},
   "source": [
    "Now that we've combined the two dataframes, we can manipulate pairs of data points individually. For example, now we can remove all data pairs where one (or more) of the data points are missing. First we'll print out the total number of missing (or NaN) values in this merged dataframe."
   ]
  },
  {
   "cell_type": "code",
   "execution_count": 16,
   "metadata": {},
   "outputs": [
    {
     "data": {
      "text/plain": [
       "23"
      ]
     },
     "execution_count": 16,
     "metadata": {},
     "output_type": "execute_result"
    }
   ],
   "source": [
    "merge.isnull().sum().sum()"
   ]
  },
  {
   "cell_type": "markdown",
   "metadata": {},
   "source": [
    "The Pandas `dropna()` function can remove missing data from our dataframe. The [userguide](https://pandas.pydata.org/pandas-docs/stable/reference/api/pandas.DataFrame.dropna.html) for `dropna()` informs us that the parameter `axis=0` will \"Drop rows which contain any missing values\" (as opposed to columns):"
   ]
  },
  {
   "cell_type": "code",
   "execution_count": 17,
   "metadata": {
    "collapsed": true
   },
   "outputs": [],
   "source": [
    "merge = merge.dropna(axis=0)"
   ]
  },
  {
   "cell_type": "markdown",
   "metadata": {},
   "source": [
    "Now when we count the number of missing values in this dataset again, we can see that there are (hopefully) no NaN values left. This is important because many statistical tests, such as the matrix linear regression we learned (`np.linalg.lstsq()`), will not work if there are missing data points."
   ]
  },
  {
   "cell_type": "code",
   "execution_count": 18,
   "metadata": {},
   "outputs": [
    {
     "data": {
      "text/plain": [
       "0"
      ]
     },
     "execution_count": 18,
     "metadata": {},
     "output_type": "execute_result"
    }
   ],
   "source": [
    "merge.isnull().sum().sum()"
   ]
  },
  {
   "cell_type": "markdown",
   "metadata": {},
   "source": [
    "**Exercise 6:** Using the dataframe with no missing values, compute ${p1}$ and ${p2}$ for the regression equation ${mortality = p1*fertility + p2}$."
   ]
  },
  {
   "cell_type": "code",
   "execution_count": 19,
   "metadata": {},
   "outputs": [
    {
     "name": "stdout",
     "output_type": "stream",
     "text": [
      "[ 74.37144479] [-84.62657672]\n"
     ]
    }
   ],
   "source": [
    "ones = np.ones(len(merge['mortality']))\n",
    "A = np.vstack([merge['fertility'], ones]).T\n",
    "b = np.vstack(merge['mortality'])\n",
    "p1, p2 = np.linalg.lstsq(A, b)[0]\n",
    "print(p1, p2)"
   ]
  },
  {
   "cell_type": "markdown",
   "metadata": {},
   "source": [
    "**Exercise 7:** Make a scatterplot of data from all countries and all years. Add the linear regression line you just computed to this plot. "
   ]
  },
  {
   "cell_type": "code",
   "execution_count": 20,
   "metadata": {
    "scrolled": false
   },
   "outputs": [
    {
     "data": {
      "image/png": "[encoded data removed]",
      "text/plain": [
       "<matplotlib.figure.Figure at 0x7f6f34645da0>"
      ]
     },
     "metadata": {},
     "output_type": "display_data"
    }
   ],
   "source": [
    "fig = plt.figure(figsize=(4, 4))\n",
    "ax = fig.add_subplot(1,1,1)\n",
    "\n",
    "ax.scatter(merge[\"fertility\"], merge[\"mortality\"])\n",
    "xhat = np.arange(min(merge['fertility']), max(merge['fertility']+1))\n",
    "yhat = p1*xhat + p2\n",
    "ax.plot(xhat, yhat, color=\"k\")\n",
    "    \n",
    "ax.set_xlabel(\"Fertility\")\n",
    "ax.set_ylabel(\"Child mortality\")\n",
    "plt.show()"
   ]
  },
  {
   "cell_type": "markdown",
   "metadata": {},
   "source": [
    "## Lab 5 Bonus exercises\n",
    "\n",
    "**Bonus Exercise 1:** On the code for the previous graph, color the scatterpoints from each continent a different color. Add a legend to the plot. "
   ]
  },
  {
   "cell_type": "code",
   "execution_count": 21,
   "metadata": {},
   "outputs": [
    {
     "data": {
      "image/png": "[encoded data removed]",
      "text/plain": [
       "<matplotlib.figure.Figure at 0x7f6f344f4128>"
      ]
     },
     "metadata": {},
     "output_type": "display_data"
    }
   ],
   "source": [
    "fig = plt.figure(figsize=(4, 4))\n",
    "ax = fig.add_subplot(1,1,1)\n",
    "\n",
    "groups = merge.groupby('continent')\n",
    "for name, group in groups:\n",
    "    ax.plot(group[\"fertility\"], group[\"mortality\"], \n",
    "            marker='o', linestyle='', ms=5, label=name)\n",
    "\n",
    "xhat = np.arange(min(merge['fertility']), max(merge['fertility']+1))\n",
    "yhat = p1*xhat + p2\n",
    "ax.plot(xhat, yhat, color=\"blue\", label=\"Linear regression\")\n",
    "    \n",
    "ax.set_xlabel(\"Fertility\")\n",
    "ax.set_ylabel(\"Child mortality\")\n",
    "ax.legend()\n",
    "plt.show()"
   ]
  },
  {
   "cell_type": "markdown",
   "metadata": {},
   "source": [
    "So far this lab has only included `Matplotlib` figures with one subplot. However, the same syntax used today can be used to create many subplots and plot several different datasets on the same figure. The block below provides the bare bones code to plot the fertility vs mortality data for each individual country. \n",
    "\n",
    "**Bonus Exercise 2:** Add the country name as the title of each subplot.\n",
    "\n",
    "**Bonus Exercise 3:** Set the axis limits of all subplots to be the same, for easier comparison between countries. Make sure that the limits are appropriate and do not omit any data points. \n",
    "\n",
    "**Bonus Exercise 4:** Add a y axis label for just the leftmost five subplots. Add a x axis label for just the bottom five subplots. "
   ]
  },
  {
   "cell_type": "code",
   "execution_count": 24,
   "metadata": {},
   "outputs": [
    {
     "data": {
      "image/png": "[encoded data removed]",
      "text/plain": [
       "<matplotlib.figure.Figure at 0x7f6f33d9b780>"
      ]
     },
     "metadata": {},
     "output_type": "display_data"
    }
   ],
   "source": [
    "fig = plt.figure(figsize=(10,10))\n",
    "countries = merge[\"country\"].unique()\n",
    "\n",
    "for n in range(len(countries)):\n",
    "    country = countries[n]\n",
    "    ax = fig.add_subplot(5, 5, n+1)\n",
    "    temp = merge[merge[\"country\"] == country]\n",
    "    ax.scatter(temp['fertility'], temp['mortality'])\n",
    "    \n",
    "    ax.set_title(country)\n",
    "    ax.set_ylim(0, max(merge[\"mortality\"]))\n",
    "    ax.set_xlim(0, max(merge[\"fertility\"]))\n",
    "    \n",
    "    if n % 5 == 0:\n",
    "        ax.set_ylabel(\"Child mortality\")\n",
    "    if n >= 20:\n",
    "        ax.set_xlabel(\"Fertility\")\n",
    "    \n",
    "plt.tight_layout()\n",
    "plt.show()"
   ]
  },
  {
   "cell_type": "markdown",
   "metadata": {},
   "source": [
    "**Bonus exercise 4:** By default, `Matplotlib` plots figures in its \"default\" style. However, there are many others that use different different color schemes, label locations, etc. The code below sets the `Matplotlib` style to the popular \"ggplot\" style. Like `%matplotlib inline`, this command will apply to any code cell run subsequently. \n",
    "\n",
    "After running the cell, try re-running the figure code from Bonus Exercises 2~4. Look through the [stylesheet gallery](https://matplotlib.org/gallery/style_sheets/style_sheets_reference.html) and try a couple other styles for the figure you created in Bonus Exercises 2~4. \n",
    "\n",
    "A particularly helpful plot style is `seaborn-colorblind`, which changes the default colors to be distinguishable to colorblind people. "
   ]
  },
  {
   "cell_type": "code",
   "execution_count": 23,
   "metadata": {
    "collapsed": true
   },
   "outputs": [],
   "source": [
    "plt.style.use(\"ggplot\")"
   ]
  },
  {
   "cell_type": "code",
   "execution_count": null,
   "metadata": {
    "collapsed": true
   },
   "outputs": [],
   "source": []
  }
 ],
 "metadata": {
  "kernelspec": {
   "display_name": "Python 3",
   "language": "python",
   "name": "python3"
  },
  "language_info": {
   "codemirror_mode": {
    "name": "ipython",
    "version": 3
   },
   "file_extension": ".py",
   "mimetype": "text/x-python",
   "name": "python",
   "nbconvert_exporter": "python",
   "pygments_lexer": "ipython3",
   "version": "3.5.2"
  }
 },
 "nbformat": 4,
 "nbformat_minor": 2
}
