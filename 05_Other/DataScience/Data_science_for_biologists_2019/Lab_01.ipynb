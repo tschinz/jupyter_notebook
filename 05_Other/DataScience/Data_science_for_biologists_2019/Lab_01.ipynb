{
 "cells": [
  {
   "cell_type": "markdown",
   "metadata": {},
   "source": [
    "# Lab 1: Introduction to Python, data types, and logic\n",
    "**Data Science for Biologists** &#8226; University of Washington &#8226; BIOL 419/519 &#8226; Winter 2019\n",
    "\n",
    "Course design and lecture material by [Bingni Brunton](https://github.com/bwbrunton) and [Kameron Harris](https://github.com/kharris/). Lab design and materials by [Eleanor Lutz](https://github.com/eleanorlutz/), with helpful comments and suggestions from Bing and Kam.\n",
    "\n",
    "### Table of Contents\n",
    "1. Review of Python data types\n",
    "2. Conditional logic in Python\n",
    "3. Looping over data in Python\n",
    "4. Introduction to libraries\n",
    "5. Bonus exercises\n",
    "\n",
    "### Helpful Resources\n",
    "- [Python Data Science Handbook](http://shop.oreilly.com/product/0636920034919.do) by Jake VanderPlas\n",
    "- [Python Basics Cheat Sheet](https://datacamp-community-prod.s3.amazonaws.com/e30fbcd9-f595-4a9f-803d-05ca5bf84612) by Python for Data Science\n",
    "- [Jupyter Notebook Cheat Sheet](https://datacamp-community-prod.s3.amazonaws.com/48093c40-5303-45f4-bbf9-0c96c0133c40) by Python for Data Science\n",
    "- [Matplotlib Cheat Sheet](https://datacamp-community-prod.s3.amazonaws.com/28b8210c-60cc-4f13-b0b4-5b4f2ad4790b) by Python for Data Science\n",
    "- [Numpy Cheat Sheet](https://datacamp-community-prod.s3.amazonaws.com/e9f83f72-a81b-42c7-af44-4e35b48b20b7) by Python for Data Science\n",
    "- [Jupyter Notebook documentation](https://jupyter-notebook.readthedocs.io/en/stable/)\n",
    "- [A gallery of interesting Jupyter Notebooks](https://github.com/jupyter/jupyter/wiki/A-gallery-of-interesting-Jupyter-Notebooks)\n",
    "- [Markdown syntax](https://github.com/adam-p/markdown-here/wiki/Markdown-Cheatsheet) if you are interested in incorporating Markdown blocks (such as this one) into your own Jupyter Notebooks.\n",
    "\n",
    "### Data\n",
    "- The data in this lab is from [Hendry et al 1999](https://www.jstor.org/stable/pdf/3546699.pdf?casa_token=ap-R7uPGOaAAAAAA:HFkWyeP0MmkcSrjYFP3Xtz-C5JHAFicrXA7atRBAck3AhiMVWFwKWuj-bhyfL3PEDTBGKitQpy1R_Ym4NKZjFYSbFgICllBwwaJBMHze_q3GQ_poOg) and was edited for teaching purposes. \n",
    "\n",
    "## Lab 1 Part 1: Review of Python data types\n",
    "\n",
    "There are several basic data types we can work with in Python. This week we'll look at some of the most common types of data - comments, numbers, strings, variables, and lists. Each of these types of data have specific rules for how Python can understand and manipulate the data. For example, strings and lists can be evaluated using the command `len()` to find the length. However, Python cannot use `len()` to find the number of digits in a number. \n",
    "\n",
    "### Comments\n",
    "Comments are like notes in the margins of your wet lab notebook. Use comments to describe what a piece of code is doing and why, so that other people (or future you!) can more easily understand your code. Although comments are ignored by Python, they are crucial for making sure that your code is legible and useful for research. \n",
    "\n",
    "**Exercise 1:** Add a comment with your name and today's date to the bottom line of the block below:"
   ]
  },
  {
   "cell_type": "code",
   "execution_count": null,
   "metadata": {
    "collapsed": true
   },
   "outputs": [],
   "source": [
    "# Any line of code preceded by a pound sign \"#\" is a comment.\n",
    "# Comments can span\n",
    "# multiple lines."
   ]
  },
  {
   "cell_type": "markdown",
   "metadata": {},
   "source": [
    "### Numbers\n",
    "Most data you work with will be numbers. Python supports whole and decimal numbers, and numbers can be added, subtracted, multiplied, etc. "
   ]
  },
  {
   "cell_type": "code",
   "execution_count": null,
   "metadata": {
    "collapsed": true
   },
   "outputs": [],
   "source": [
    "# Numbers can be evaluated in Python using standard order of operations. \n",
    "(2 + 3) * 4.14"
   ]
  },
  {
   "cell_type": "markdown",
   "metadata": {},
   "source": [
    "**Exercise 2:** Evaluate the sum of 15.756, 12.445, and 90.265."
   ]
  },
  {
   "cell_type": "code",
   "execution_count": null,
   "metadata": {
    "collapsed": true
   },
   "outputs": [],
   "source": []
  },
  {
   "cell_type": "markdown",
   "metadata": {},
   "source": [
    "### Strings\n",
    "If biology data are not numbers, they may be strings, or characters used to represent text. Strings can represent sample names, locales, DNA sequences, etc. Python strings must be enclosed by single or double quotes.\n",
    "\n",
    "Using Python, we can look at some interesting characteristics of a piece of string data. For example, we can see whether or not something we are interested in is contained within the string. Here we would like to evaluate whether or not \"AUG\", a start codon sequence marking the beginning of a protein, is present in this long string of RNA text data. \n",
    "\n",
    "**Note:** Python will print either `True` or `False` to answer this question. `True` and `False` are another type of data called booleans."
   ]
  },
  {
   "cell_type": "code",
   "execution_count": null,
   "metadata": {
    "collapsed": true
   },
   "outputs": [],
   "source": [
    "\"AUG\" in \"AUGUGCACGUCGAUCCCGACCGGCGCGCGAUCGCAUCGCUUUUCGGAAAUCGAUCGAUUA\""
   ]
  },
  {
   "cell_type": "code",
   "execution_count": null,
   "metadata": {
    "collapsed": true
   },
   "outputs": [],
   "source": [
    "# Strings have lengths, and we can use the command len() to return the length: \n",
    "len(\"AUGUGCACGUCGAUCCCGACCGGCGCGCGAUCGCAUCGCUUUUCGGAAAUCGAUCGAUUA\")"
   ]
  },
  {
   "cell_type": "markdown",
   "metadata": {},
   "source": [
    "**Exercise 3:** A RNA codon is a sequence of 3 RNA nucleotides. Find out how many 3-letter codons are in this particular piece of RNA."
   ]
  },
  {
   "cell_type": "code",
   "execution_count": null,
   "metadata": {
    "collapsed": true
   },
   "outputs": [],
   "source": []
  },
  {
   "cell_type": "markdown",
   "metadata": {},
   "source": [
    "### Variables\n",
    "A variable is a nickname for a value, list, or dataset. In Python, we can assign a value to a variable name using the `=` equals sign. For example, to assign the value 25.2394857182 to a variable `weight_mg`:"
   ]
  },
  {
   "cell_type": "code",
   "execution_count": null,
   "metadata": {
    "collapsed": true
   },
   "outputs": [],
   "source": [
    "weight_mg = 25.2394857182"
   ]
  },
  {
   "cell_type": "markdown",
   "metadata": {},
   "source": [
    "From now on, whenever we use the name `weight_mg`, Python will substitute the assigned value, 25.2394857182."
   ]
  },
  {
   "cell_type": "code",
   "execution_count": null,
   "metadata": {
    "collapsed": true
   },
   "outputs": [],
   "source": [
    "weight_mg + 5"
   ]
  },
  {
   "cell_type": "markdown",
   "metadata": {},
   "source": [
    "Variables are useful for reducing typing errors. In the previous example, it would be tedious to retype or paste `25.2394857182` every time we wanted to run a different calculation. Instead, we can use the variable nickname `weight_mg`, which is easy to type and conveys something useful about what the data means. \n",
    "\n",
    "In Python, variable names: \n",
    "- can include letters, digits, and underscores\n",
    "- cannot start with a digit\n",
    "- are case sensitive.\n",
    "\n",
    "This means that, for example:\n",
    "\n",
    "- `location_0` is a valid variable name, but `0_location` is not\n",
    "- `DNA` and `dna` are different variables\n",
    "\n",
    "It is best practice to pick a name that describes something useful about the variable. For example, if I wanted to create a variable to store the value of room temperature in Kelvin, I might name it something like: `room_temp_K`. "
   ]
  },
  {
   "cell_type": "code",
   "execution_count": null,
   "metadata": {
    "collapsed": true
   },
   "outputs": [],
   "source": [
    "# In the previous \"string\" lab section, we had to copy and paste our RNA sequence twice \n",
    "# to ask two different questions. \n",
    "# Let's use a variable so we only need to input our data once:\n",
    "\n",
    "test_RNA = \"AUGUGCACGUCGAUCCCGACCGGCGCGCGAUCGCAUCGCUUUUCGGAAAUCGAUCGAUUA\""
   ]
  },
  {
   "cell_type": "code",
   "execution_count": null,
   "metadata": {
    "collapsed": true
   },
   "outputs": [],
   "source": [
    "\"AUG\" in test_RNA"
   ]
  },
  {
   "cell_type": "code",
   "execution_count": null,
   "metadata": {
    "collapsed": true
   },
   "outputs": [],
   "source": [
    "len(test_RNA)"
   ]
  },
  {
   "cell_type": "markdown",
   "metadata": {},
   "source": [
    "**Exercise 4:** Using the variable `test_RNA`, find out again how many 3-letter codons are in this RNA sequence. "
   ]
  },
  {
   "cell_type": "code",
   "execution_count": null,
   "metadata": {
    "collapsed": true
   },
   "outputs": [],
   "source": [
    "len(test_RNA)/3"
   ]
  },
  {
   "cell_type": "markdown",
   "metadata": {},
   "source": [
    "### Lists\n",
    "A python list is a collection of multiple objects, such as numbers or strings, gathered into one entity. Lists are enclosed by brackets `[]`, and each item in the list is separated by a `,`. Items in a list do not all have to be of the same type - strings, booleans, floats, and many others can coexist in the same list. "
   ]
  },
  {
   "cell_type": "code",
   "execution_count": null,
   "metadata": {
    "collapsed": true
   },
   "outputs": [],
   "source": [
    "example_list = [123.456, \"hello\", True, 2]"
   ]
  },
  {
   "cell_type": "markdown",
   "metadata": {},
   "source": [
    "To retrieve items we want from a list, we use a process called list indexing. In python, each item in a list is assigned an *index value*, which describes where to find that specific item. Python lists have two different indexing systems: *forward indexing* and *backward indexing*, to allow us to count from both the front and back of the list easily.\n",
    "\n",
    "![Indexing figure](figures/indexing.jpg)"
   ]
  },
  {
   "cell_type": "code",
   "execution_count": null,
   "metadata": {
    "collapsed": true
   },
   "outputs": [],
   "source": [
    "# Print the first item in the list by referencing its index value, 0\n",
    "print(example_list[0])"
   ]
  },
  {
   "cell_type": "markdown",
   "metadata": {},
   "source": [
    "The data below is adapted from [*Hendry et al 1999*](https://www.jstor.org/stable/pdf/3546699.pdf?casa_token=ap-R7uPGOaAAAAAA:HFkWyeP0MmkcSrjYFP3Xtz-C5JHAFicrXA7atRBAck3AhiMVWFwKWuj-bhyfL3PEDTBGKitQpy1R_Ym4NKZjFYSbFgICllBwwaJBMHze_q3GQ_poOg), and lists the body masses of a subset of female sockeye salmon sampled in Pick Creek, Alaska. \n",
    "\n",
    "**Exercise 5:** Print the mass of the 1st, 12th, and the last salmon to be weighed in this research study. "
   ]
  },
  {
   "cell_type": "code",
   "execution_count": null,
   "metadata": {
    "collapsed": true
   },
   "outputs": [],
   "source": [
    "masses = [3.09, 2.91, 3.06, 2.69, 2.88, 2.98, 1.61, 2.16, 1.56, 1.76, 1.79, 3.3, 1.91, 1.99, 1.69]\n",
    "\n",
    "# Your code goes here"
   ]
  },
  {
   "cell_type": "markdown",
   "metadata": {},
   "source": [
    "Using Python, we can quickly find useful attributes of a dataset, such as the number of salmon in the study, or the total weight of all salmon."
   ]
  },
  {
   "cell_type": "code",
   "execution_count": null,
   "metadata": {
    "collapsed": true
   },
   "outputs": [],
   "source": [
    "# len() returns the length of a list\n",
    "\n",
    "number_of_salmon = len(masses)\n",
    "print(\"Number of salmon is:\", number_of_salmon)"
   ]
  },
  {
   "cell_type": "code",
   "execution_count": null,
   "metadata": {
    "collapsed": true
   },
   "outputs": [],
   "source": [
    "# sum() returns the sum of values in the list\n",
    "\n",
    "sum_of_salmon_weights = sum(masses)\n",
    "print(\"Sum of salmon weights is:\", sum_of_salmon_weights)"
   ]
  },
  {
   "cell_type": "code",
   "execution_count": null,
   "metadata": {
    "collapsed": true
   },
   "outputs": [],
   "source": [
    "# Lists can also be modified to include new values. \n",
    "# Here we are adding another salmon to the dataset:\n",
    "masses.append(1.44)\n",
    "\n",
    "# When we inspect the list, we now see that the \n",
    "# new salmon has been added to the end of the list. \n",
    "print(masses)"
   ]
  },
  {
   "cell_type": "code",
   "execution_count": null,
   "metadata": {
    "collapsed": true
   },
   "outputs": [],
   "source": [
    "# Like strings, you can also search for the existence of individual elements in a list.\n",
    "2.91 in masses"
   ]
  },
  {
   "cell_type": "code",
   "execution_count": null,
   "metadata": {
    "collapsed": true
   },
   "outputs": [],
   "source": [
    "# Lists can also be sorted by value...\n",
    "masses.sort()\n",
    "print(masses)"
   ]
  },
  {
   "cell_type": "code",
   "execution_count": null,
   "metadata": {
    "collapsed": true
   },
   "outputs": [],
   "source": [
    "# Or reversed\n",
    "masses.reverse()\n",
    "print(masses)"
   ]
  },
  {
   "cell_type": "markdown",
   "metadata": {},
   "source": [
    "## Lab 1 Part 2: Conditional logic in Python\n",
    "To analyze data, we need to test individual data values. For instance: Is this number greater than a biologically important threshold? Does this value match our predictions? Logical operators are used to see if these statements are `True` or `False`.\n",
    "\n",
    "### Logical operators\n",
    "Logic tests depend on several \"operators\" which are mostly the same across all programming languages.\n",
    "\n",
    "- Equal to: `==`\n",
    "- Not equal to: `!=`\n",
    "- Greater than: `>`\n",
    "- Less than: `<`\n",
    "- Less than or equal to: `<=`\n",
    "- Greater than or equal to: `>=`\n",
    "\n",
    "Logical tests return the boolean values `True` or `False` to answer the logical test."
   ]
  },
  {
   "cell_type": "code",
   "execution_count": null,
   "metadata": {
    "collapsed": true
   },
   "outputs": [],
   "source": [
    "# Test for equality between an arithmetic statement and a value.\n",
    "2 + 2 == 4"
   ]
  },
  {
   "cell_type": "markdown",
   "metadata": {},
   "source": [
    "**Exercise 6:** Run a logical test to see if 5.01 is greater than or equal to 6."
   ]
  },
  {
   "cell_type": "code",
   "execution_count": null,
   "metadata": {
    "collapsed": true
   },
   "outputs": [],
   "source": []
  },
  {
   "cell_type": "markdown",
   "metadata": {},
   "source": [
    "### If statements\n",
    "We can ask Python to make different choices based on the results of a logical test. This is called an `if` statement. In a Python `if` statement:\n",
    "- The first line begins with the command `if`, followed by a logical test, followed by a `:`\n",
    "- The subsequent lines describes what should happen if the statement is true. \n",
    "- The subsequent lines are always indented one tab more from the original if statement. This formatting style indicates to Python that the indented code should be run only when the if statement is true. "
   ]
  },
  {
   "cell_type": "code",
   "execution_count": null,
   "metadata": {
    "collapsed": true
   },
   "outputs": [],
   "source": [
    "temperature_F = 125\n",
    "\n",
    "if temperature_F > 115:\n",
    "    print(\"Excessive heat warning!\")"
   ]
  },
  {
   "cell_type": "markdown",
   "metadata": {},
   "source": [
    "If the logical test in an `if` statement is false, Python will ignore the indented block of code following the `if` statement. However, everything else in the code will still run as normal:"
   ]
  },
  {
   "cell_type": "code",
   "execution_count": null,
   "metadata": {
    "collapsed": true
   },
   "outputs": [],
   "source": [
    "print(\"We are printing something before the if statement.\")\n",
    "\n",
    "temperature_F = 101\n",
    "\n",
    "if temperature_F > 115:\n",
    "    print(\"Excessive heat warning!\")\n",
    "    \n",
    "# This code is no longer indented, so it is not part of the if statement.\n",
    "print(\"We are printing something after the if statement.\")"
   ]
  },
  {
   "cell_type": "markdown",
   "metadata": {},
   "source": [
    "### elif and else\n",
    "We can also chain several tests together using the commands `else` and `elif` (short for else if). For example:"
   ]
  },
  {
   "cell_type": "code",
   "execution_count": null,
   "metadata": {
    "collapsed": true
   },
   "outputs": [],
   "source": [
    "temperature_F = 101\n",
    "\n",
    "if temperature_F > 115:\n",
    "    print(\"Excessive heat warning!\")\n",
    "elif temperature_F < 32:\n",
    "    print(\"You need a jacket to go outside today!\")\n",
    "else:\n",
    "    print(\"It's not too hot or cold today.\")"
   ]
  },
  {
   "cell_type": "markdown",
   "metadata": {},
   "source": [
    "**Exercise 7:** Write an `if` statement that fulfils the following requirements: \n",
    "- if the dam water level is above 50, print a flood warning\n",
    "- if the dam water level is below 5, print a drought warning\n",
    "- otherwise, print that nothing is wrong\n",
    "\n",
    "Make sure to run the code several times with different `dam_level` values (e.g. 60, 0, and 20) to make sure your code works as expected."
   ]
  },
  {
   "cell_type": "code",
   "execution_count": null,
   "metadata": {
    "collapsed": true
   },
   "outputs": [],
   "source": [
    "dam_level = 20\n",
    "\n",
    "# Your code goes here"
   ]
  },
  {
   "cell_type": "markdown",
   "metadata": {},
   "source": [
    "### Logical tests can be combined\n",
    "We can use `and` to require multiple logical tests to be true. We can also use `or` to accept one or more tests as true.\n",
    "\n",
    "### An example of a test with an `and` statement:\n",
    "We predict that an aurora will probably not be visible unless the sky is clear *and* solar activity is high. This code runs a logical test for these two questions, and depending on the results, makes different choices in what to print. "
   ]
  },
  {
   "cell_type": "code",
   "execution_count": null,
   "metadata": {
    "collapsed": true
   },
   "outputs": [],
   "source": [
    "cloudy = False\n",
    "solar_activity = 172.0\n",
    "\n",
    "if cloudy == False and solar_activity > 150:\n",
    "    print(\"Conditions may be good for seeing an aurora tonight\")\n",
    "else:\n",
    "    print(\"It seems unlikely that you will see an aurora tonight.\")"
   ]
  },
  {
   "cell_type": "markdown",
   "metadata": {},
   "source": [
    "### An example of a test with an `or` statement:\n",
    "\n",
    "There are 3 possible RNA stop codons that mark the end of a protein sequence: UAG, UAA, *or* UGA. We want to see if any one of the three are present in an RNA sequence, since all 3 stop codons serve the same function in biology. "
   ]
  },
  {
   "cell_type": "code",
   "execution_count": null,
   "metadata": {
    "collapsed": true
   },
   "outputs": [],
   "source": [
    "RNA = \"AUGUUGAGGGGUAGUAGUAGUGGGUGUAGUGAUCCCCCCCCCCGUGUCGCUCGAUCGUAACCUA\"\n",
    "\n",
    "if \"UAG\" in RNA or \"UAA\" in RNA or \"UGA\" in RNA: \n",
    "    print(\"There is at least one stop codon present in this RNA data.\")\n",
    "else:\n",
    "    print(\"There is no stop codon in this RNA data.\")"
   ]
  },
  {
   "cell_type": "markdown",
   "metadata": {},
   "source": [
    "**Exercise 8:** Both excessively high or low blood pressure can be dangerous. Edit the code below to print a warning if `patient_blood_pressure` is either above 140, *or* below 50. Make sure to change the value of `patient_blood_pressure` to several different values to make sure your code works as expected. "
   ]
  },
  {
   "cell_type": "code",
   "execution_count": null,
   "metadata": {
    "collapsed": true
   },
   "outputs": [],
   "source": [
    "patient_blood_pressure = 100\n",
    "\n",
    "# Your code goes here"
   ]
  },
  {
   "cell_type": "markdown",
   "metadata": {},
   "source": [
    "### An example of a test with both an `and` and `or` statement: \n",
    "Tests can combine `and` and `or` statements together. For example, some animals have distinct fur colors adapted to the animal's environment. Here we are studying a group of rabbits living on the edge of the forest and the beach. We would like to test our rabbits to see if the fur color matches what we expect for its environment:"
   ]
  },
  {
   "cell_type": "code",
   "execution_count": null,
   "metadata": {
    "collapsed": true
   },
   "outputs": [],
   "source": [
    "location = \"beach\"\n",
    "color = \"black\"\n",
    "\n",
    "if (location == \"beach\" and color == \"white\") or (location == \"forest\" and color == \"black\"):\n",
    "    print(\"This rabbit has the expected color for its habitat location.\")\n",
    "else:\n",
    "    print(\"There is something unexpected about this rabbit.\")"
   ]
  },
  {
   "cell_type": "markdown",
   "metadata": {},
   "source": [
    "**Exercise 9:** Write an `if`/`else` statement to check if a plant sample belongs to \"Species X.\" A plant is a member of \"Species X\" if both of these statements are true:\n",
    "- Its leaf length is under 1mm *or* over 3mm\n",
    "- Its leaf color is either green *or* red"
   ]
  },
  {
   "cell_type": "code",
   "execution_count": null,
   "metadata": {
    "collapsed": true
   },
   "outputs": [],
   "source": [
    "leaf_color = \"green\"\n",
    "leaf_length_mm = 1.56\n",
    "\n",
    "# Your code goes here"
   ]
  },
  {
   "cell_type": "markdown",
   "metadata": {},
   "source": [
    "## Lab 1 Part 3: Looping over data in Python\n",
    "\n",
    "Computers are extremely useful for repeating tasks over and over. In Python, a `for` loop asks Python to *do the exact same thing many times*. You might ask Python to run the same probability test 1000 times, or you might want to create the same graph for 100 different data samples. \n",
    "\n",
    "Similar to an `if` statement, a `for` loop begins with the word `for`, followed by a statement describing what we should evaluate, followed by a `:`. The subsequent indented lines describe what should happen during each repeated evaluation of the code.\n",
    "\n",
    "In class we worked on using a `for` loop to find the maximum value in a dataset. Let's walk through an example of similar code that finds the longest word in a list of words:"
   ]
  },
  {
   "cell_type": "code",
   "execution_count": null,
   "metadata": {
    "collapsed": true
   },
   "outputs": [],
   "source": [
    "word_list = [\"dog\", \"mouse\", \"cat\"]\n",
    "\n",
    "longest_word = word_list[0]\n",
    "\n",
    "for word in word_list:\n",
    "    if len(word) > len(longest_word):\n",
    "        longest_word = word\n",
    "\n",
    "print(longest_word)"
   ]
  },
  {
   "cell_type": "markdown",
   "metadata": {},
   "source": [
    "The command `for word in word_list:` asks Python to run all of the following indented lines of code once, **for each word in the variable word_list**. As Python loops through a for loop, it can make calculations, update variables, print statements, and do other actions. In this example, here is what Python is doing during each iteration of the loop:\n",
    "\n",
    "![For loop figure](figures/for_loops.jpg)\n",
    "\n",
    "**Exercise 10:** Using a `for` loop, print every item in `vocabulary` that is longer than 5 letters long. "
   ]
  },
  {
   "cell_type": "code",
   "execution_count": null,
   "metadata": {
    "collapsed": true
   },
   "outputs": [],
   "source": [
    "vocabulary = [\"mosquito\", \"bee\", \"spider\", \"albatross\"]\n",
    "\n",
    "# Your code goes here"
   ]
  },
  {
   "cell_type": "markdown",
   "metadata": {},
   "source": [
    "## Lab 1 Part 4: Introduction to libraries\n",
    "In class this week we used the command `import numpy as np` to create an **array** - a special kind of data structure that can only store values of the same data type (remember that a Python list can store many different kinds of data types, such as strings and numbers). \n",
    "\n",
    "Libraries like `numpy` are a collection of code written by other people. By importing a library, you can use all of *their* code in addition to the code you write yourself. There are thousands of useful Python libraries you can use, and you can even write your own libraries to share with other scientists. In this class we'll learn to use several of the default libraries including `numpy` (which contains code to efficiently work with matrices, linear algebra, and random numbers).\n",
    "\n",
    "For this lab, we will use another library called `matplotlib` as an example. Matplotlib is a plotting library - it helps you make figures and plots quickly. Matplotlib is a very large library, so it has some subsections that we can reference. For this lab we want to import a specific subsection of the `matplotlib` library called `pyplot`. To do this we can import the library subsection using the command `import matplotlib.pyplot`. Then we can use code kept within the library subsection by using the keyword `matplotlib.pyplot`. \n",
    "\n",
    "However, `matplotlib.pyplot` is a very long phrase to have to type multiple times. Similar to variables, we can give libraries nicknames as well, by using the phrase `as` right after importing the library. For example, if we type `import matplotlib.pyplot as plt`, we can use the nickname `plt` to reference `matplotlib.pyplot` instead of typing out the full name of the library.\n",
    "\n",
    "You'll notice in the code block below, where we import the `matplotlib.pyplot` library, there is also another line of code: `% matplotlib inline`. This is a snippet of code called a **magic command**. This particular magic command tells your Jupyter Notebook to show your plots and figures inside of the Jupyter Notebook itself, instead of saving them elsewhere. We will be using this code snippet throughout this class to quickly see what we are plotting within our Jupyter Notebook. "
   ]
  },
  {
   "cell_type": "code",
   "execution_count": null,
   "metadata": {
    "collapsed": true
   },
   "outputs": [],
   "source": [
    "import matplotlib.pyplot as plt\n",
    "%matplotlib inline"
   ]
  },
  {
   "cell_type": "markdown",
   "metadata": {},
   "source": [
    "Now that we have imported this matplotlib pyplot library, we can use any of the code commands contained within it. To reference these commands, we use the name (or nickname) of the library - in this case, `plt` - followed by a `.`, followed by the command we want to use. Each library comes with its own set of useful commands, and you will need to read the documentation of each specific library to understand what is possible. \n",
    "\n",
    "For this lab, we'll first use the matplotlib command `scatter`, which is a command that creates a scatterplot of a given set of data. \n",
    "\n",
    "**Exercise 11:** Look at the output of the following code, and try to understand how the `plt.scatter()` command works. Which variable goes on the x axis - the first variable given to the `plt.scatter()` command, or the second? "
   ]
  },
  {
   "cell_type": "code",
   "execution_count": null,
   "metadata": {
    "collapsed": true
   },
   "outputs": [],
   "source": [
    "time = [0, 1, 2, 3, 4, 5]\n",
    "weight = [125, 130, 134, 135, 120, 121]\n",
    "\n",
    "plt.scatter(time, weight)"
   ]
  },
  {
   "cell_type": "markdown",
   "metadata": {},
   "source": [
    "Matplotlib can also create bar plots using the command bar()..."
   ]
  },
  {
   "cell_type": "code",
   "execution_count": null,
   "metadata": {
    "collapsed": true
   },
   "outputs": [],
   "source": [
    "x = [58, 56, 71, 85, 83, 95, 29, 8, 69, 22]\n",
    "y = [33, 47, 49, 95, 45, 39, 74, 6, 37, 64]\n",
    "\n",
    "plt.bar(x, y)"
   ]
  },
  {
   "cell_type": "markdown",
   "metadata": {},
   "source": [
    "Or a line plot using the command plot():"
   ]
  },
  {
   "cell_type": "code",
   "execution_count": null,
   "metadata": {
    "collapsed": true
   },
   "outputs": [],
   "source": [
    "x = [58, 56, 71, 85, 83, 95, 29, 8, 69, 22]\n",
    "y = [33, 47, 49, 95, 45, 39, 74, 6, 37, 64]\n",
    "\n",
    "plt.plot(x, y)"
   ]
  },
  {
   "cell_type": "markdown",
   "metadata": {},
   "source": [
    "## Lab 1 Bonus exercises\n",
    "\n",
    "**Bonus Exercise 1:** To create a string variable, we enclosed the text in quotes, like this: `x = \"hello\"`. But what if you want to create a variable that includes quote characters? Declare this sentence as one variable: `\"Begin at the beginning,\" the King said, very gravely, 'and go on till you come to the end: then stop.' - Lewis Carroll`"
   ]
  },
  {
   "cell_type": "code",
   "execution_count": null,
   "metadata": {
    "collapsed": true
   },
   "outputs": [],
   "source": []
  },
  {
   "cell_type": "markdown",
   "metadata": {},
   "source": [
    "**Bonus Exercise 2A:** The symbol `%`, also called modulo, is a logical operator that returns the remainder in a division operation. Use the internet to learn more about using modulo in python, then use `%` and an `if` statement to print whether or not x is an even number. "
   ]
  },
  {
   "cell_type": "code",
   "execution_count": null,
   "metadata": {
    "collapsed": true
   },
   "outputs": [],
   "source": [
    "x = 127\n",
    "\n",
    "# Your code goes here"
   ]
  },
  {
   "cell_type": "markdown",
   "metadata": {},
   "source": [
    "**Bonus Exercise 2B:** We are interested in analyzing only the RNA that encodes a protein sequence. This means that the number of letters, or nucleotide bases, in the data should be divisible by three (the number of nucleotides per amino acid codon). Does our data contain errors? Use `%` to see how many extraneous letters are present in the data (if any). "
   ]
  },
  {
   "cell_type": "code",
   "execution_count": null,
   "metadata": {
    "collapsed": true
   },
   "outputs": [],
   "source": [
    "RNA = \"AUGUUGAGGGGUUAGUAGUGAGUGGGUGUAGUGAUCCCCCAUCCCCCGUGUCGCUCGAUCGUAACCUA\"\n",
    "\n",
    "# Your code goes here"
   ]
  },
  {
   "cell_type": "markdown",
   "metadata": {},
   "source": [
    "**Bonus Exercise 3:** In Part 2 of this lab, we looked at a scenario in which we updated one variable and looked at the results on another variable that used the first:"
   ]
  },
  {
   "cell_type": "code",
   "execution_count": null,
   "metadata": {
    "collapsed": true
   },
   "outputs": [],
   "source": [
    "x = \"AUGUGCA\"\n",
    "y = len(x)\n",
    "x = \"A\"\n",
    "\n",
    "print(\"The length of x is:\", len(x))\n",
    "print(\"The value of y is:\", y)"
   ]
  },
  {
   "cell_type": "markdown",
   "metadata": {},
   "source": [
    "Here is a different example of this scenario, where we are assigning `y` to equal `x` without making any changes. Do you notice anything unexpected when comparing these outputs? Use the internet to try and understand what may be causing these differences."
   ]
  },
  {
   "cell_type": "code",
   "execution_count": null,
   "metadata": {
    "collapsed": true
   },
   "outputs": [],
   "source": [
    "x = [1, 2, 3]\n",
    "y = x\n",
    "x[0] = \"A\"\n",
    "\n",
    "print(\"The value of x is:\", x)\n",
    "print(\"The value of y is:\", y)"
   ]
  },
  {
   "cell_type": "code",
   "execution_count": null,
   "metadata": {
    "collapsed": true
   },
   "outputs": [],
   "source": []
  }
 ],
 "metadata": {
  "kernelspec": {
   "display_name": "Python 3",
   "language": "python",
   "name": "python3"
  },
  "language_info": {
   "codemirror_mode": {
    "name": "ipython",
    "version": 3
   },
   "file_extension": ".py",
   "mimetype": "text/x-python",
   "name": "python",
   "nbconvert_exporter": "python",
   "pygments_lexer": "ipython3",
   "version": "3.7.3"
  }
 },
 "nbformat": 4,
 "nbformat_minor": 2
}
