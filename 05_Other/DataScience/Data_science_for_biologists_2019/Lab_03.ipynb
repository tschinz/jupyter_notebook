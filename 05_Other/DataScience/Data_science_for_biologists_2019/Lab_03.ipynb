{
 "cells": [
  {
   "cell_type": "markdown",
   "metadata": {},
   "source": [
    "# Lab 3: Functions and matrix algebra\n",
    "**Data Science for Biologists** &#8226; University of Washington &#8226; BIOL 419/519 &#8226; Winter 2019\n",
    "\n",
    "Course design and lecture material by [Bingni Brunton](https://github.com/bwbrunton) and [Kameron Harris](https://github.com/kharris/). Lab design and materials by [Eleanor Lutz](https://github.com/eleanorlutz/), with helpful comments and suggestions from Bing and Kam.\n",
    "\n",
    "### Table of Contents\n",
    "1. Matrix algebra in Python\n",
    "2. Review of functions\n",
    "3. Bonus exercises\n",
    "\n",
    "### Helpful Resources\n",
    "- [A Primer on Matrices](https://see.stanford.edu/materials/lsoeldsee263/Additional1-notes-matrix-primer.pdf) by Stephen Boyd\n",
    "- [Python Data Science Handbook](http://shop.oreilly.com/product/0636920034919.do) by Jake VanderPlas\n",
    "- [Python Basics Cheat Sheet](https://datacamp-community-prod.s3.amazonaws.com/e30fbcd9-f595-4a9f-803d-05ca5bf84612) by Python for Data Science\n",
    "- [Jupyter Notebook Cheat Sheet](https://datacamp-community-prod.s3.amazonaws.com/48093c40-5303-45f4-bbf9-0c96c0133c40) by Python for Data Science\n",
    "- [Numpy Cheat Sheet](https://datacamp-community-prod.s3.amazonaws.com/e9f83f72-a81b-42c7-af44-4e35b48b20b7) by Python for Data Science\n",
    "\n",
    "## Lab 3 Part 1: Matrix algebra in Python\n",
    "\n",
    "In Python we can do matrix algebra without having to calculate each value by hand. Given the numpy arrays `A` and `B`, `A+B` or `A-B` returns the elementwise addition or subtraction, and `A*B` returns the elementwise multiplication. *Elementwise* operations are performed on two matrices of the exact same shape, and produces an output matrix that also has the same dimensions. In elementwise addition, each value from matrix `A` is added to the single value in matrix `B` that is in the same position. Similarly, elementwise multiplication multiplies each value in `A` by the corresponding value in `B`. \n",
    "\n",
    "The elementwise addition for the following two matrices `A` and `B`, (calculated in Python as `A+B` ), looks like this:\n",
    "![Elementwise addition figure](figures/matrices_1.jpg)\n",
    "\n",
    "A **matrix product** is different from elementwise matrix multiplication. A matrix product calculates the product of each value in the *rows* of the first matrix against the *columns* of the second matrix. Matrix products can only be calculated if the **number of columns in the first matrix equals the number of rows of the second matrix**. \n",
    "\n",
    "The matrix product for `A` and `B` looks like this:\n",
    "![Matrix product figure](figures/matrices_2.jpg)\n",
    "\n",
    "To calculate the matrix product for `A` and `B` in Python, we use the function `np.dot(A, B)`:"
   ]
  },
  {
   "cell_type": "code",
   "execution_count": null,
   "metadata": {
    "collapsed": true
   },
   "outputs": [],
   "source": [
    "import numpy as np"
   ]
  },
  {
   "cell_type": "code",
   "execution_count": null,
   "metadata": {},
   "outputs": [],
   "source": [
    "A = np.array([[0, 1], \n",
    "              [2, 3]])\n",
    "B = np.array([[4, 5], \n",
    "              [6, 7]])\n",
    "\n",
    "print(np.dot(A,B))"
   ]
  },
  {
   "cell_type": "markdown",
   "metadata": {},
   "source": [
    "Although Python runs all of these calculations without requiring our input, we can also calculate the matrix product the long way in Python. This is probably not something you'll need to do in your research, but it's a good learning exercise to practice array indexing and matrix algebra. \n",
    "\n",
    "To use array indexing to calculate each value in the `AB` matrix product, this is what we need to type in Python:"
   ]
  },
  {
   "cell_type": "code",
   "execution_count": null,
   "metadata": {},
   "outputs": [],
   "source": [
    "output = np.zeros([2, 2])\n",
    "output[0, 0] = A[0, 0]*B[0, 0] + A[0, 1]*B[1, 0]\n",
    "output[0, 1] = A[0, 0]*B[0, 1] + A[0, 1]*B[1, 1]\n",
    "output[1, 0] = A[1, 0]*B[0, 0] + A[1, 1]*B[1, 0]\n",
    "output[1, 1] = A[1, 0]*B[0, 1] + A[1, 1]*B[1, 1]\n",
    "print(output)"
   ]
  },
  {
   "cell_type": "markdown",
   "metadata": {},
   "source": [
    "**Exercise 1:** To practice indexing and matrix algebra, go through a similar process for the equation `A + B`. Your code should create a new matrix called `output` of the correct size, and then fill each value in the `output` matrix individually using indexing. Check that your answer matches the Numpy matrix addition `A+B`. "
   ]
  },
  {
   "cell_type": "code",
   "execution_count": null,
   "metadata": {},
   "outputs": [],
   "source": [
    "A = np.array([[0, 1], \n",
    "              [2, 3]])\n",
    "B = np.array([[4, 5], \n",
    "              [6, 7]])\n",
    "\n",
    "# Your code here"
   ]
  },
  {
   "cell_type": "code",
   "execution_count": null,
   "metadata": {},
   "outputs": [],
   "source": [
    "print(A + B)"
   ]
  },
  {
   "cell_type": "markdown",
   "metadata": {},
   "source": [
    "## Lab 3 Part 2: Review of functions\n",
    "\n",
    "Functions enclose a set of operations into a package that can be easily reused. We have actually already been using functions imported from other libraries many times throughout the quarter. For example, `np.mean(x)` is a function that returns the mean of variable `x` and `np.median(x)` is another function that returns the median. Functions can do many things, from calculating statistics to plotting figures. In the Matplotlib library, `plt.hist(x)` is a function that returns a histogram of values in variable `x`. \n",
    "\n",
    "If you were to write your own version of the `np.sum()` function, it might look something like this:"
   ]
  },
  {
   "cell_type": "code",
   "execution_count": null,
   "metadata": {
    "collapsed": true
   },
   "outputs": [],
   "source": [
    "# Define a function that sums a list of numbers.\n",
    "def sum_values(values):\n",
    "    sum_of_values = 0\n",
    "    \n",
    "    for value in values:\n",
    "        sum_of_values = sum_of_values + value\n",
    "    \n",
    "    return sum_of_values"
   ]
  },
  {
   "cell_type": "markdown",
   "metadata": {},
   "source": [
    "After defining the function by running the code block above, we can use our function to calculate the sum of any list of values:"
   ]
  },
  {
   "cell_type": "code",
   "execution_count": null,
   "metadata": {},
   "outputs": [],
   "source": [
    "print(sum_values([0, 1, 2]))\n",
    "print(sum_values([-2, -5, -6]))\n",
    "print(sum_values([100, 100, 100]))\n",
    "print(sum_values([2]))"
   ]
  },
  {
   "cell_type": "markdown",
   "metadata": {},
   "source": [
    "Similarly, we can write our own function to find the length of a list, instead of using the built-in `len()` function:"
   ]
  },
  {
   "cell_type": "code",
   "execution_count": null,
   "metadata": {
    "collapsed": true
   },
   "outputs": [],
   "source": [
    "# Define a function that counts the number of values in a list of numbers.\n",
    "def count_values(values):\n",
    "    count_of_values = 0\n",
    "    \n",
    "    for value in values:\n",
    "        count_of_values = count_of_values + 1\n",
    "    \n",
    "    return count_of_values"
   ]
  },
  {
   "cell_type": "code",
   "execution_count": null,
   "metadata": {},
   "outputs": [],
   "source": [
    "print(count_values([0, 1, 2]))\n",
    "print(count_values([-2, -5, -6]))\n",
    "print(count_values([100, 100, 100]))\n",
    "print(count_values([2]))"
   ]
  },
  {
   "cell_type": "markdown",
   "metadata": {},
   "source": [
    "**Exercise 2:** Write a new function called `my_mean` that takes a list of numbers called `values` as an input, and returns the mean. Your function should use the previous two functions, `sum_values` and `count_values`.  Test your function using the code block given below. All five statements should print `True` if you have written your function correctly. "
   ]
  },
  {
   "cell_type": "code",
   "execution_count": null,
   "metadata": {
    "collapsed": true
   },
   "outputs": [],
   "source": []
  },
  {
   "cell_type": "code",
   "execution_count": null,
   "metadata": {},
   "outputs": [],
   "source": [
    "print(my_mean([1, 3, 2, 0]) == 1.5)\n",
    "print(my_mean([1, 3, 2]) == 2)\n",
    "print(my_mean([-3, -4, -7, -8, -9, -10]) == -7)\n",
    "print(my_mean([1]) == 1)\n",
    "print(my_mean([1, -1]) == 0)"
   ]
  },
  {
   "cell_type": "markdown",
   "metadata": {},
   "source": [
    "**Exercise 3:** Write a new function called `my_median` that takes a list of numbers as an input, and returns the median of the set of values. You should not use the builtin function `np.median()`. Test your function using the code block given below. All five statements should print `True` if you have written your function correctly. "
   ]
  },
  {
   "cell_type": "code",
   "execution_count": null,
   "metadata": {},
   "outputs": [],
   "source": []
  },
  {
   "cell_type": "code",
   "execution_count": null,
   "metadata": {},
   "outputs": [],
   "source": [
    "print(my_median([1, 3, 2, 0]) == 1.5)\n",
    "print(my_median([1, 3, 2]) == 2)\n",
    "print(my_median([-3, -4, -7, -8, -10, -10]) == -7.5)\n",
    "print(my_median([1]) == 1)\n",
    "print(my_median([1, -1]) == 0)"
   ]
  },
  {
   "cell_type": "markdown",
   "metadata": {},
   "source": [
    "## Lab 3 Bonus exercises\n",
    "\n",
    "**Bonus Exercise 1:** Write a function that calculates the elementwise sum of any two Numpy arrays. Your function should also check that both matrices are the same size, and print an error message if this is not the case. It may be helpful to use the code you wrote in Exercise 1 for reference. "
   ]
  },
  {
   "cell_type": "code",
   "execution_count": null,
   "metadata": {
    "collapsed": true
   },
   "outputs": [],
   "source": []
  },
  {
   "cell_type": "code",
   "execution_count": null,
   "metadata": {},
   "outputs": [],
   "source": [
    "# Check that your function works as expected: \n",
    "\n",
    "A = np.array([[0, 1], \n",
    "              [2, 3]])\n",
    "B = np.array([[4, 5], \n",
    "              [6, 7]])\n",
    "\n",
    "print(elementwise_sum(A,B))"
   ]
  },
  {
   "cell_type": "markdown",
   "metadata": {},
   "source": [
    "**Bonus Exercise 2:** Write a function that calculates the matrix product of any two Numpy arrays. Your function should also check that multiplication is possible, and print an error message if the matrices are not the correct shape. "
   ]
  },
  {
   "cell_type": "code",
   "execution_count": null,
   "metadata": {
    "collapsed": true
   },
   "outputs": [],
   "source": []
  },
  {
   "cell_type": "code",
   "execution_count": null,
   "metadata": {},
   "outputs": [],
   "source": [
    "# Check that your function works as expected: \n",
    "\n",
    "A = np.array([[0, 1], \n",
    "              [2, 3]])\n",
    "B = np.array([[4, 5], \n",
    "              [6, 7]])\n",
    "\n",
    "print(matrix_product(A,B))"
   ]
  },
  {
   "cell_type": "code",
   "execution_count": null,
   "metadata": {
    "collapsed": true
   },
   "outputs": [],
   "source": []
  }
 ],
 "metadata": {
  "kernelspec": {
   "display_name": "Python 3",
   "language": "python",
   "name": "python3"
  },
  "language_info": {
   "codemirror_mode": {
    "name": "ipython",
    "version": 3
   },
   "file_extension": ".py",
   "mimetype": "text/x-python",
   "name": "python",
   "nbconvert_exporter": "python",
   "pygments_lexer": "ipython3",
   "version": "3.5.2"
  }
 },
 "nbformat": 4,
 "nbformat_minor": 2
}
