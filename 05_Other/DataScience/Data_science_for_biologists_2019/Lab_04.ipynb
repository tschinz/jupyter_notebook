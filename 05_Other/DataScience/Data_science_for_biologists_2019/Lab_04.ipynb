{
 "cells": [
  {
   "cell_type": "markdown",
   "metadata": {},
   "source": [
    "# Lab 4: Linear regression using matrix algebra\n",
    "**Data Science for Biologists** &#8226; University of Washington &#8226; BIOL 419/519 &#8226; Winter 2019\n",
    "\n",
    "Course design and lecture material by [Bingni Brunton](https://github.com/bwbrunton) and [Kameron Harris](https://github.com/kharris/). Lab design and materials by [Eleanor Lutz](https://github.com/eleanorlutz/), with helpful comments and suggestions from Bing and Kam.\n",
    "\n",
    "### Table of Contents\n",
    "1. Reading in data using the Pandas library\n",
    "2. Review of linear regression \n",
    "3. Bonus exercises\n",
    "\n",
    "### Helpful resources\n",
    "- [Python Data Science Handbook](http://shop.oreilly.com/product/0636920034919.do) by Jake VanderPlas\n",
    "- [10 minute Pandas tutorial](http://pandas.pydata.org/pandas-docs/stable/getting_started/10min.html)\n",
    "- [Pandas Cheat Sheet](https://datacamp-community-prod.s3.amazonaws.com/9f0f2ae1-8bd8-4302-a67b-e17f3059d9e8) by Python for Data Science\n",
    "- [Importing Data Cheat Sheet](https://datacamp-community-prod.s3.amazonaws.com/50d31142-3de0-4159-89b9-18b718a728ef) by Python for Data Science\n",
    "\n",
    "### Data\n",
    "- The data in this lab is from [Tager et al 1983](https://www.nejm.org/doi/full/10.1056/NEJM198309223091204) and was edited for teaching purposes. \n",
    "\n",
    "## Lab 4 Part 1: Reading in data using the Pandas library\n",
    "\n",
    "The Pandas library is a powerful tool for working with large datasets. We'll work with Pandas in depth throughout the quarter, so don't worry about understanding every single detail by the end of this lab. Today we'll mainly use Pandas to load in data to use for linear regression practice. \n",
    "\n",
    "A Pandas `dataframe` is a type of object (like a Numpy `array`) that stores information. However, unlike a Numpy `array`, a Pandas `dataframe` can store values of many different types, such as strings or numbers. This can be very useful when working with biology data, which often includes descriptive variables like sex, color, or location. \n",
    "\n",
    "It's conventional to import the Pandas library using the nickname `pd`:"
   ]
  },
  {
   "cell_type": "code",
   "execution_count": null,
   "metadata": {
    "collapsed": true
   },
   "outputs": [],
   "source": [
    "import pandas as pd"
   ]
  },
  {
   "cell_type": "markdown",
   "metadata": {},
   "source": [
    "Also import the other libraries we plan to use today, and set up Matplotlib for inline plotting:"
   ]
  },
  {
   "cell_type": "code",
   "execution_count": null,
   "metadata": {
    "collapsed": true
   },
   "outputs": [],
   "source": [
    "import numpy as np\n",
    "import matplotlib.pyplot as plt\n",
    "%matplotlib inline"
   ]
  },
  {
   "cell_type": "markdown",
   "metadata": {},
   "source": [
    "### Importing data in Pandas \n",
    "In today's lab we'll investigate data from [Tager et al 1983](https://www.nejm.org/doi/full/10.1056/NEJM198309223091204) on the effects of smoking on lung function. The dataset includes 654 children aged 3 to 19. Tager's team collected information on each child's age, sex, and smoking status (non-smoker or smoking). Tager also recorded the child's height in inches, and measured the FEV, or Forced Expiratory Volume (a measure of healthy lung function).\n",
    "\n",
    "In the following code block we'll read in this data from `FEV_data.csv`, located in the `Lab_04` folder. \n",
    "\n",
    "We'll load the data in this file as a variable called `df` (short for \"dataframe\")."
   ]
  },
  {
   "cell_type": "code",
   "execution_count": null,
   "metadata": {
    "collapsed": true
   },
   "outputs": [],
   "source": [
    "df = pd.read_csv(\"./data/Lab_04/FEV_data.csv\")"
   ]
  },
  {
   "cell_type": "markdown",
   "metadata": {},
   "source": [
    "### Inspecting data in Pandas\n",
    "\n",
    "Pandas has its own set of useful functions to inspect data. Two examples of these functions are `.head()` and `.tail()`. \n",
    "\n",
    "In each of these functions, we first reference the name of our Pandas dataframe - `df` - and follow this by `.head()` or `.tail()`. `df.head()` prints the first five rows of the `df` dataframe, and `df.tail()` prints the last five rows.\n",
    "\n",
    "**Exercise 1:** Run the code in the block below to look at the output. Then, create a new code block that prints the *last* five rows instead of the first five. "
   ]
  },
  {
   "cell_type": "code",
   "execution_count": null,
   "metadata": {
    "collapsed": true
   },
   "outputs": [],
   "source": [
    "df.head()"
   ]
  },
  {
   "cell_type": "code",
   "execution_count": null,
   "metadata": {
    "collapsed": true
   },
   "outputs": [],
   "source": [
    "# Your code here"
   ]
  },
  {
   "cell_type": "markdown",
   "metadata": {},
   "source": [
    "Notice that the Pandas dataframe has bold column names at the top of the table. Unlike in Numpy, we can use Pandas column names to directly reference a specific column. For example, `df[\"ht\"]` refers to all values in just the **ht** (or height) column. We can use Numpy functions we already know to find interesting attributes of these columns, such as the median or mean height: "
   ]
  },
  {
   "cell_type": "code",
   "execution_count": null,
   "metadata": {
    "collapsed": true
   },
   "outputs": [],
   "source": [
    "np.median( df[\"ht\"] )"
   ]
  },
  {
   "cell_type": "code",
   "execution_count": null,
   "metadata": {
    "collapsed": true
   },
   "outputs": [],
   "source": [
    "np.mean( df[\"ht\"] )"
   ]
  },
  {
   "cell_type": "markdown",
   "metadata": {},
   "source": [
    "**Exercise 2:** Print the minimum and maximum age of people in this dataset using the built-in functions `min()` and `max()`."
   ]
  },
  {
   "cell_type": "code",
   "execution_count": null,
   "metadata": {
    "collapsed": true
   },
   "outputs": [],
   "source": []
  },
  {
   "cell_type": "markdown",
   "metadata": {},
   "source": [
    "### Describing interesting properties of data in Pandas\n",
    "We can use the Pandas function `describe` to calculate interesting attributes of our dataset. In the output below, you should see a new table with the same columns as `df.head()`. However, instead of showing the original data, we see descriptive variables such as `count` (the number of data points), `mean` (the mean), `std` (the standard deviation), etc. "
   ]
  },
  {
   "cell_type": "code",
   "execution_count": null,
   "metadata": {
    "collapsed": true
   },
   "outputs": [],
   "source": [
    "df.describe(include=\"all\")"
   ]
  },
  {
   "cell_type": "markdown",
   "metadata": {},
   "source": [
    "### Cleaning data in Pandas\n",
    "We'll talk more extensively about data hygiene later on in the course, but for now it's sufficient to know that we can use Pandas to filter out problematic data. For example, we can use a logical statement to remove all rows that say \"Equipment malfunction\" in the comment column. "
   ]
  },
  {
   "cell_type": "code",
   "execution_count": null,
   "metadata": {
    "collapsed": true
   },
   "outputs": [],
   "source": [
    "df = df[df[\"comments\"] != 'Equipment malfunction']"
   ]
  },
  {
   "cell_type": "markdown",
   "metadata": {},
   "source": [
    "Now when we print the head of the dataset, the problem rows at the 0 and 2 index have been removed (try comparing this to the output of Exercise 1)."
   ]
  },
  {
   "cell_type": "code",
   "execution_count": null,
   "metadata": {
    "collapsed": true
   },
   "outputs": [],
   "source": [
    "df.head()"
   ]
  },
  {
   "cell_type": "markdown",
   "metadata": {},
   "source": [
    "In this lab we'll use least squares linear regression to describe the relationship between different variables in this dataset. For example, let's try to describe the relationship between child age and FEV using the equation ${y = p_1x+p_2}$, where ${x}$ is age and ${y}$ is FEV. \n",
    "\n",
    "To get a rough idea of the data we're working with, plot the ${x}$ age column against the ${y}$  FEV column in Matplotlib:"
   ]
  },
  {
   "cell_type": "code",
   "execution_count": null,
   "metadata": {
    "collapsed": true
   },
   "outputs": [],
   "source": [
    "x = df[\"age\"]\n",
    "y = df[\"FEV\"]\n",
    "\n",
    "plt.scatter(x, y, alpha=0.25, color=\"blue\")\n",
    "plt.xlabel(\"Age (years)\")\n",
    "plt.ylabel(\"FEV (liters)\")\n",
    "plt.title(\"Relationship of age and forced exhalation volume\")\n",
    "plt.show()"
   ]
  },
  {
   "cell_type": "markdown",
   "metadata": {},
   "source": [
    "## Lab 4 Part 2 Review of linear regression\n",
    "\n",
    "In lecture we used matrix algebra to solve for ${p_1}$ and ${p_2}$ given datasets ${x}$ and ${y}$ and the equation ${y = p_1x + p_2}$. \n",
    "\n",
    "![Matrix regression figure](figures/regression_1.jpg)\n",
    "\n",
    "Once we make the matrices ${A}$ and ${C}$ in Python, we can solve for ${B}$ (and therefore ${p_1}$ and ${p_2}$) using the Numpy linear algebra library. So if we want to find the least squares regression between ${x}$ = age and ${y}$ = FEV from our dataset, we want ${A}$ and ${C}$ matrices that look like this: \n",
    "\n",
    "![Matrix regression with data figure](figures/regression_2.jpg)\n",
    "\n",
    "**Exercise 3:** Create a matrix called ${A}$ with the first column containing all ${x}$ values from the `df` age column and the second column containing all 1s. Print ${A}$. "
   ]
  },
  {
   "cell_type": "code",
   "execution_count": null,
   "metadata": {
    "collapsed": true
   },
   "outputs": [],
   "source": []
  },
  {
   "cell_type": "markdown",
   "metadata": {},
   "source": [
    "**Exercise 4:** Create a column vector called ${C}$ containing all ${y}$ values from the `df` FEV column."
   ]
  },
  {
   "cell_type": "code",
   "execution_count": null,
   "metadata": {
    "collapsed": true
   },
   "outputs": [],
   "source": []
  },
  {
   "cell_type": "markdown",
   "metadata": {},
   "source": [
    "Now that we have ${A}$ and ${C}$, we can use Numpy to solve this system of equations. The function `np.linalg.lstsq` solves matrix equations, and returns a variety of different values representing things like the p value and the solution constants. The first item returned is a list of each constant in order. "
   ]
  },
  {
   "cell_type": "code",
   "execution_count": null,
   "metadata": {
    "collapsed": true
   },
   "outputs": [],
   "source": [
    "ps = np.linalg.lstsq(A, C)[0]\n",
    "print(ps)"
   ]
  },
  {
   "cell_type": "markdown",
   "metadata": {},
   "source": [
    "For the matrix equation ${y = p_1x + p_2}$ we just solved, ${p_1}$ is the first constant and ${p_2}$ is the second:"
   ]
  },
  {
   "cell_type": "code",
   "execution_count": null,
   "metadata": {
    "collapsed": true
   },
   "outputs": [],
   "source": [
    "p1 = ps[0]\n",
    "p2 = ps[1]"
   ]
  },
  {
   "cell_type": "markdown",
   "metadata": {},
   "source": [
    "Using these constants we can plot our linear regression line and see how it compares to the actual data. To plot this line, we'll create a Numpy array of ${x}$ values spanning the range of our data, and calculate the predicted ${y}$ value for each ${x}$:"
   ]
  },
  {
   "cell_type": "code",
   "execution_count": null,
   "metadata": {
    "collapsed": true
   },
   "outputs": [],
   "source": [
    "# Create predicted y values for a range of x values\n",
    "xhat = np.arange(min(x), max(x)+1)\n",
    "yhat = p1*xhat + p2"
   ]
  },
  {
   "cell_type": "code",
   "execution_count": null,
   "metadata": {
    "collapsed": true
   },
   "outputs": [],
   "source": [
    "# Plot the actual data\n",
    "plt.scatter(x, y, color=\"blue\", alpha=0.25)\n",
    "\n",
    "# Plot the predicted y values from our regression\n",
    "plt.plot(xhat, yhat, color=\"black\")\n",
    "\n",
    "plt.xlabel(\"Age (years)\")\n",
    "plt.ylabel(\"FEV (liters)\")\n",
    "plt.title(\"Forced exhalation volume increases with age\")\n",
    "plt.show()"
   ]
  },
  {
   "cell_type": "markdown",
   "metadata": {},
   "source": [
    "### Working with subsets of data in Pandas\n",
    "\n",
    "So far we have one equation to describe our entire dataset. However, let's say that we're interested in creating two different models - one for smokers and one for non-smokers. We can select just the smokers in this Pandas dataframe by using a logical statement to pick just the rows where the `smoke` column value is `Yes`. This code creates a new Pandas dataframe containing just data from smokers. "
   ]
  },
  {
   "cell_type": "code",
   "execution_count": null,
   "metadata": {
    "collapsed": true
   },
   "outputs": [],
   "source": [
    "df_smokers = df[df[\"smoke\"] == \"Yes\"]\n",
    "df_smokers.head()"
   ]
  },
  {
   "cell_type": "markdown",
   "metadata": {},
   "source": [
    "**Exercise 5A:** Construct ${A}$ and ${C}$ for data in `df_smokers`. Use ${A}$, ${C}$, and `np.linalg.lstsq` to calculate  ${p_1}$ and ${p_2}$ values for ${y = p_1x + p_2}$. Save the ${p_1}$ value as a variable called `p1_smokers`, and save ${p_2}$ as another variable called `p2_smokers`. "
   ]
  },
  {
   "cell_type": "code",
   "execution_count": null,
   "metadata": {
    "collapsed": true
   },
   "outputs": [],
   "source": []
  },
  {
   "cell_type": "markdown",
   "metadata": {},
   "source": [
    "**Exercise 5B:** Similarly, calculate the least squares regression for data in `df_nonsmokers`. Save ${p_1}$ as `p1_nonsmokers` and ${p_2}$ as `p2_nonsmokers`. "
   ]
  },
  {
   "cell_type": "code",
   "execution_count": null,
   "metadata": {
    "collapsed": true
   },
   "outputs": [],
   "source": [
    "df_nonsmokers = df[df[\"smoke\"] == \"No\"]\n",
    "df_nonsmokers.head()"
   ]
  },
  {
   "cell_type": "code",
   "execution_count": null,
   "metadata": {
    "collapsed": true
   },
   "outputs": [],
   "source": [
    "# Your code here"
   ]
  },
  {
   "cell_type": "markdown",
   "metadata": {},
   "source": [
    "**Exercise 5C:** Create a scatterplot that shows the `df_smokers` age and FEV data in red and `df_nonsmokers` in blue. Plot the linear regression line for `df_smokers` in red and `df_nonsmokers` in blue."
   ]
  },
  {
   "cell_type": "code",
   "execution_count": null,
   "metadata": {
    "collapsed": true
   },
   "outputs": [],
   "source": []
  },
  {
   "cell_type": "markdown",
   "metadata": {},
   "source": [
    "## Lab 4 Bonus exercises\n",
    "\n",
    "**Bonus Exercise 1:** The principles we discussed in *Exercise 3* can be used to solve linear regression equations with more than two variables. For example, to find the least squares regression line for the equation ${y = p_1x^2 + p_2x + p_3}$, we would construct the following ${A}$ and ${C}$ matrices: \n",
    "\n",
    "![Matrix regression with quadratics figure](figures/regression_3.jpg)\n",
    "\n",
    "In Python, create ${A}$ and ${C}$ where ${x}$ is age and ${y}$ is FEV. Use `np.linalg.lstsq` to solve for ${p_1}$, ${p_2}$, and ${p_3}$. Plot the resulting equation alongside the data. "
   ]
  },
  {
   "cell_type": "code",
   "execution_count": null,
   "metadata": {
    "collapsed": true
   },
   "outputs": [],
   "source": []
  },
  {
   "cell_type": "markdown",
   "metadata": {},
   "source": [
    "**Bonus Exercise 2:** Create ${A}$ and ${C}$ to solve for ${p_1}$, ${p_2}$, and ${p_3}$ given the equation ${z = p_1x + p_2y + p_3}$ where ${x}$ is age, ${y}$ is height, and ${z}$ is FEV. Make a plot that includes the original data and the fitted regression line. \n",
    "\n",
    "The code to create a 3D matplotlib plot is given to you below."
   ]
  },
  {
   "cell_type": "code",
   "execution_count": null,
   "metadata": {
    "collapsed": true
   },
   "outputs": [],
   "source": []
  },
  {
   "cell_type": "code",
   "execution_count": null,
   "metadata": {
    "collapsed": true
   },
   "outputs": [],
   "source": [
    "from mpl_toolkits.mplot3d import Axes3D\n",
    "\n",
    "fig = plt.figure(figsize=(6, 6))\n",
    "ax = fig.add_subplot(111, projection='3d')\n",
    "\n",
    "# Plot the original data\n",
    "ax.scatter(df[\"age\"], df[\"ht\"], df[\"FEV\"], color=\"green\", alpha=0.25)\n",
    "\n",
    "# Your code here to plot your regression line:\n",
    "xhat = np.linspace(min(x), max(x)+1, 100)\n",
    "yhat = np.linspace(min(y), max(y)+1, 100)\n",
    "zhat = bonus_p1*xhat + bonus_p2*yhat + bonus_p3\n",
    "ax.plot(xhat, yhat, zhat, color=\"k\", lw=2)\n",
    "ax.set_xlabel(\"Age (years)\")\n",
    "ax.set_ylabel(\"Height (inches)\")\n",
    "ax.set_zlabel(\"FEV (liters)\")\n",
    "plt.show()"
   ]
  },
  {
   "cell_type": "markdown",
   "metadata": {},
   "source": [
    "**Bonus Exercise 3:** Create ${A}$ and ${C}$ to solve for each ${p}$ constant given the equation ${z = p_1x^2 + p_2y^2 + p_3x + p_4y + p_5}$ where ${x}$ is age, ${y}$ is height, and ${z}$ is FEV. Make a 3D plot that includes the original data and the fitted regression line. "
   ]
  },
  {
   "cell_type": "code",
   "execution_count": null,
   "metadata": {
    "collapsed": true
   },
   "outputs": [],
   "source": []
  },
  {
   "cell_type": "code",
   "execution_count": null,
   "metadata": {
    "collapsed": true
   },
   "outputs": [],
   "source": []
  }
 ],
 "metadata": {
  "kernelspec": {
   "display_name": "Python 3",
   "language": "python",
   "name": "python3"
  },
  "language_info": {
   "codemirror_mode": {
    "name": "ipython",
    "version": 3
   },
   "file_extension": ".py",
   "mimetype": "text/x-python",
   "name": "python",
   "nbconvert_exporter": "python",
   "pygments_lexer": "ipython3",
   "version": "3.5.2"
  }
 },
 "nbformat": 4,
 "nbformat_minor": 2
}
