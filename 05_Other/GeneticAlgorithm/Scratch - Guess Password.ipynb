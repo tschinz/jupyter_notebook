{
  "cells": [
    {
      "cell_type": "markdown",
      "metadata": {
        "pycharm": {}
      },
      "source": [
        "# Genetic Algorithm Learning - Guess Password"
      ]
    },
    {
      "cell_type": "markdown",
      "metadata": {
        "pycharm": {}
      },
      "source": [
        "https://blog.sicara.com/getting-started-genetic-algorithms-python-tutorial-81ffa1dd72f9\n"
      ]
    },
    {
      "cell_type": "code",
      "execution_count": 3,
      "metadata": {
        "pycharm": {
          "is_executing": false
        }
      },
      "outputs": [
        {
          "name": "stdout",
          "text": [
            "solution: \"banana\" de fitness: 100.0\n",
            "0.35010266304016113\n"
          ],
          "output_type": "stream"
        },
        {
          "data": {
            "text/plain": "\u003cFigure size 432x288 with 1 Axes\u003e",
            "image/png": "[encoded data removed]"
          },
          "metadata": {
            "needs_background": "light"
          },
          "output_type": "display_data"
        },
        {
          "data": {
            "text/plain": "\u003cFigure size 432x288 with 1 Axes\u003e",
            "image/png": "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\u003d\n"
          },
          "metadata": {
            "needs_background": "light"
          },
          "output_type": "display_data"
        }
      ],
      "source": [
        "#!/usr/bin/python3.5\n",
        "# -*-coding:Utf-8 -*\n",
        "\n",
        "import random\n",
        "import operator\n",
        "import time\n",
        "import matplotlib.pyplot as plt\n",
        "\n",
        "temps1 \u003d time.time()\n",
        "\n",
        "#genetic algorithm function\n",
        "def fitness (password, test_word):\n",
        "  score \u003d 0\n",
        "  i \u003d 0\n",
        "  while (i \u003c len(password)):\n",
        "    if (password[i] \u003d\u003d test_word[i]):\n",
        "      score+\u003d1\n",
        "    i+\u003d1\n",
        "  return score * 100 / len(password)\n",
        "\n",
        "def generateAWord (length):\n",
        "  i \u003d 0\n",
        "  result \u003d \"\"\n",
        "  while i \u003c length:\n",
        "    letter \u003d chr(97 + int(26 * random.random()))\n",
        "    result +\u003d letter\n",
        "    i +\u003d1\n",
        "  return result\n",
        "\n",
        "def generateFirstPopulation(sizePopulation, password):\n",
        "  population \u003d []\n",
        "  i \u003d 0\n",
        "  while i \u003c sizePopulation:\n",
        "    population.append(generateAWord(len(password)))\n",
        "    i+\u003d1\n",
        "  return population\n",
        "\n",
        "def computePerfPopulation(population, password):\n",
        "  populationPerf \u003d {}\n",
        "  for individual in population:\n",
        "    populationPerf[individual] \u003d fitness(password, individual)\n",
        "  return sorted(populationPerf.items(), key \u003d operator.itemgetter(1), reverse\u003dTrue)\n",
        "\n",
        "def selectFromPopulation(populationSorted, best_sample, lucky_few):\n",
        "  nextGeneration \u003d []\n",
        "  for i in range(best_sample):\n",
        "    nextGeneration.append(populationSorted[i][0])\n",
        "  for i in range(lucky_few):\n",
        "    nextGeneration.append(random.choice(populationSorted)[0])\n",
        "  random.shuffle(nextGeneration)\n",
        "  return nextGeneration\n",
        "\n",
        "def createChild(individual1, individual2):\n",
        "  child \u003d \"\"\n",
        "  for i in range(len(individual1)):\n",
        "    if (int(100 * random.random()) \u003c 50):\n",
        "      child +\u003d individual1[i]\n",
        "    else:\n",
        "      child +\u003d individual2[i]\n",
        "  return child\n",
        "\n",
        "def createChildren(breeders, number_of_child):\n",
        "  nextPopulation \u003d []\n",
        "  for i in range(int(len(breeders)/2)):\n",
        "  #for i in range(len(breeders)/2):\n",
        "    for j in range(number_of_child):\n",
        "      nextPopulation.append(createChild(breeders[i], breeders[len(breeders) -1 -i]))\n",
        "  return nextPopulation\n",
        "\n",
        "def mutateWord(word):\n",
        "  index_modification \u003d int(random.random() * len(word))\n",
        "  if (index_modification \u003d\u003d 0):\n",
        "    word \u003d chr(97 + int(26 * random.random())) + word[1:]\n",
        "  else:\n",
        "    word \u003d word[:index_modification] + chr(97 + int(26 * random.random())) + word[index_modification+1:]\n",
        "  return word\n",
        "  \n",
        "def mutatePopulation(population, chance_of_mutation):\n",
        "  for i in range(len(population)):\n",
        "    if random.random() * 100 \u003c chance_of_mutation:\n",
        "      population[i] \u003d mutateWord(population[i])\n",
        "  return population\n",
        "\n",
        "def nextGeneration (firstGeneration, password, best_sample, lucky_few, number_of_child, chance_of_mutation):\n",
        "   populationSorted \u003d computePerfPopulation(firstGeneration, password)\n",
        "   nextBreeders \u003d selectFromPopulation(populationSorted, best_sample, lucky_few)\n",
        "   nextPopulation \u003d createChildren(nextBreeders, number_of_child)\n",
        "   nextGeneration \u003d mutatePopulation(nextPopulation, chance_of_mutation)\n",
        "   return nextGeneration\n",
        "\n",
        "def multipleGeneration(number_of_generation, password, size_population, best_sample, lucky_few, number_of_child, chance_of_mutation):\n",
        "  historic \u003d []\n",
        "  historic.append(generateFirstPopulation(size_population, password))\n",
        "  for i in range (number_of_generation):\n",
        "    historic.append(nextGeneration(historic[i], password, best_sample, lucky_few, number_of_child, chance_of_mutation))\n",
        "  return historic\n",
        "\n",
        "#print result:\n",
        "def printSimpleResult(historic, password, number_of_generation): #bestSolution in historic. Caution not the last\n",
        "  result \u003d getListBestIndividualFromHistorique(historic, password)[number_of_generation-1]\n",
        "  print (\"solution: \\\"\" + result[0] + \"\\\" de fitness: \" + str(result[1]))\n",
        "\n",
        "#analysis tools\n",
        "def getBestIndividualFromPopulation (population, password):\n",
        "  return computePerfPopulation(population, password)[0]\n",
        "\n",
        "def getListBestIndividualFromHistorique (historic, password):\n",
        "  bestIndividuals \u003d []\n",
        "  for population in historic:\n",
        "    bestIndividuals.append(getBestIndividualFromPopulation(population, password))\n",
        "  return bestIndividuals\n",
        "\n",
        "#graph\n",
        "def evolutionBestFitness(historic, password):\n",
        "  plt.axis([0,len(historic),0,105])\n",
        "  plt.title(password)\n",
        "  \n",
        "  evolutionFitness \u003d []\n",
        "  for population in historic:\n",
        "    evolutionFitness.append(getBestIndividualFromPopulation(population, password)[1])\n",
        "  plt.plot(evolutionFitness)\n",
        "  plt.ylabel(\u0027fitness best individual\u0027)\n",
        "  plt.xlabel(\u0027generation\u0027)\n",
        "  plt.show()\n",
        "\n",
        "def evolutionAverageFitness(historic, password, size_population):\n",
        "  plt.axis([0,len(historic),0,105])\n",
        "  plt.title(password)\n",
        "  \n",
        "  evolutionFitness \u003d []\n",
        "  for population in historic:\n",
        "    populationPerf \u003d computePerfPopulation(population, password)\n",
        "    averageFitness \u003d 0\n",
        "    for individual in populationPerf:\n",
        "      averageFitness +\u003d individual[1]\n",
        "    evolutionFitness.append(averageFitness/size_population)\n",
        "  plt.plot(evolutionFitness)\n",
        "  plt.ylabel(\u0027Average fitness\u0027)\n",
        "  plt.xlabel(\u0027generation\u0027)\n",
        "  plt.show()\n",
        "\n",
        "#variables\n",
        "password \u003d \"banana\"\n",
        "size_population \u003d 100\n",
        "best_sample \u003d 20\n",
        "lucky_few \u003d 20\n",
        "number_of_child \u003d 5\n",
        "number_of_generation \u003d 50\n",
        "chance_of_mutation \u003d 5\n",
        "\n",
        "#program\n",
        "if ((best_sample + lucky_few) / 2 * number_of_child !\u003d size_population):\n",
        "  print (\"population size not stable\")\n",
        "else:\n",
        "  historic \u003d multipleGeneration(number_of_generation, password, size_population, best_sample, lucky_few, number_of_child, chance_of_mutation)\n",
        "  \n",
        "  printSimpleResult(historic, password, number_of_generation)\n",
        "  \n",
        "  evolutionBestFitness(historic, password)\n",
        "  evolutionAverageFitness(historic, password, size_population)\n",
        "\n",
        "print(time.time() - temps1)"
      ]
    },
    {
      "cell_type": "code",
      "execution_count": null,
      "metadata": {
        "pycharm": {}
      },
      "outputs": [],
      "source": []
    }
  ],
  "metadata": {
    "kernelspec": {
      "display_name": "Python 3",
      "language": "python",
      "name": "python3"
    },
    "language_info": {
      "codemirror_mode": {
        "name": "ipython",
        "version": 3
      },
      "file_extension": ".py",
      "mimetype": "text/x-python",
      "name": "python",
      "nbconvert_exporter": "python",
      "pygments_lexer": "ipython3",
      "version": "3.6.5"
    }
  },
  "nbformat": 4,
  "nbformat_minor": 2
}