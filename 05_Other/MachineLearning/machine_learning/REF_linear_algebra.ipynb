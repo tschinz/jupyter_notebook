{
 "metadata": {
  "name": "REF_linear_algebra"
 },
 "nbformat": 3,
 "nbformat_minor": 0,
 "worksheets": [
  {
   "cells": [
    {
     "cell_type": "markdown",
     "metadata": {},
     "source": [
      "<h1>Trace Properties</h1>\n",
      "<p> For the square matric A, define tr A = trace(A) = $\\sum_{i}A_{i,i}$. Let $\\bigtriangledown f(A)$ be the matrix of partial\n",
      "    derivatives of f with respect to the elements of A. The following hold:\n",
      "    <ol>\n",
      "        <li>tr AB = tr BA </li>\n",
      "        <li> $\\bigtriangledown tr AB = B^T$</li>\n",
      "        <li> $tr A = tr A^T$</li>\n",
      "        <li> $\\bigtriangledown tr ABA^TC = CAB + C^TAB^T$</li>\n",
      "      \n",
      "    </ol>\n",
      "</p>"
     ]
    },
    {
     "cell_type": "markdown",
     "metadata": {},
     "source": [
      "<h1>Transpose Properties</h1>\n",
      "<ol>\n",
      "    <li>$(A+B)^T= A^T+ B^T$</li>\n",
      "    <li>$(AB)^T = B^TA^T$</li>\n",
      "    <li>$det(A^T) = det(A)$</li>\n",
      "    <li>$(A^T)^{-1}=(A^{-1})^T$</li>\n",
      "</ol>"
     ]
    },
    {
     "cell_type": "markdown",
     "metadata": {},
     "source": [
      "<h1>Inverse Properpties</h1>\n",
      "\n",
      "1. $(AB)^{-1} = B^{-1}A^{-1}$"
     ]
    },
    {
     "cell_type": "markdown",
     "metadata": {},
     "source": [
      "<h1>Matrix Derivatives</h1>\n",
      "\n",
      "1. $\\frac{\\partial}{\\partial \\mathbf{x}} (\\mathbf{x}^T \\mathbf{y}) = \\frac{\\partial}{\\partial \\mathbf{x}} (\\mathbf{y}^T \\mathbf{x}) = \\mathbf{y}$"
     ]
    },
    {
     "cell_type": "code",
     "collapsed": false,
     "input": [],
     "language": "python",
     "metadata": {},
     "outputs": []
    }
   ],
   "metadata": {}
  }
 ]
}