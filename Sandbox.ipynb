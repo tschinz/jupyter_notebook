{
 "cells": [
  {
   "cell_type": "markdown",
   "metadata": {},
   "source": [
    "# Jupyterlab Sandbox\n",
    "<img src=\"./00_Admin/sample_files/logos/sandbox.svg\" width=\"150\" />"
   ]
  },
  {
   "cell_type": "code",
   "execution_count": null,
   "metadata": {},
   "outputs": [],
   "source": [
    "pwd"
   ]
  },
  {
   "cell_type": "code",
   "execution_count": 1,
   "metadata": {},
   "outputs": [
    {
     "name": "stdout",
     "output_type": "stream",
     "text": [
      "nct6776-isa-0a00\n",
      "Adapter: ISA adapter\n",
      "Vcore:                  +0.82 V  (min =  +0.00 V, max =  +1.74 V)\n",
      "in1:                    +1.02 V  (min =  +0.00 V, max =  +0.00 V)  ALARM\n",
      "AVCC:                   +3.36 V  (min =  +2.98 V, max =  +3.63 V)\n",
      "+3.3V:                  +3.36 V  (min =  +2.98 V, max =  +3.63 V)\n",
      "in4:                    +1.03 V  (min =  +0.00 V, max =  +0.00 V)  ALARM\n",
      "in5:                    +0.98 V  (min =  +0.00 V, max =  +0.00 V)  ALARM\n",
      "in6:                    +1.06 V  (min =  +0.00 V, max =  +0.00 V)  ALARM\n",
      "3VSB:                   +3.36 V  (min =  +2.98 V, max =  +3.63 V)\n",
      "Vbat:                   +3.31 V  (min =  +2.70 V, max =  +3.63 V)\n",
      "fan1:                     0 RPM  (min =    0 RPM)\n",
      "fan2:                     0 RPM  (min =    0 RPM)\n",
      "fan3:                     0 RPM  (min =    0 RPM)\n",
      "SYSTIN:                 +43.0°C  (high =  +0.0°C, hyst =  +0.0°C)  ALARM  sensor = CPU diode\n",
      "CPUTIN:                 +44.0°C  (high = +80.0°C, hyst = +75.0°C)  sensor = CPU diode\n",
      "AUXTIN:                +123.0°C  (high = +80.0°C, hyst = +75.0°C)  sensor = CPU diode\n",
      "PECI Agent 0:           +40.0°C  (high = +80.0°C, hyst = +75.0°C)\n",
      "                                 (crit = +94.0°C)\n",
      "PCH_CHIP_CPU_MAX_TEMP:  +59.0°C  (high = +80.0°C, hyst = +75.0°C)\n",
      "PECI Agent 1:            +0.0°C  (high = +80.0°C, hyst = +75.0°C)\n",
      "                                 (crit =  +0.0°C)\n",
      "PCH_CHIP_TEMP:           +0.0°C  \n",
      "cpu0_vid:              +0.000 V\n",
      "intrusion0:            ALARM\n",
      "intrusion1:            ALARM\n",
      "beep_enable:           disabled\n",
      "\n",
      "acpitz-virtual-0\n",
      "Adapter: Virtual device\n",
      "temp1:        +27.8°C  (crit = +95.0°C)\n",
      "temp2:        +29.8°C  (crit = +95.0°C)\n",
      "\n",
      "coretemp-isa-0000\n",
      "Adapter: ISA adapter\n",
      "Package id 0:  +42.0°C  (high = +90.0°C, crit = +94.0°C)\n",
      "Core 0:        +42.0°C  (high = +90.0°C, crit = +94.0°C)\n",
      "Core 1:        +42.0°C  (high = +90.0°C, crit = +94.0°C)\n",
      "Core 2:        +40.0°C  (high = +90.0°C, crit = +94.0°C)\n",
      "Core 3:        +41.0°C  (high = +90.0°C, crit = +94.0°C)\n",
      "\n"
     ]
    }
   ],
   "source": [
    "!sensors"
   ]
  },
  {
   "cell_type": "code",
   "execution_count": 6,
   "metadata": {},
   "outputs": [
    {
     "data": {
      "text/plain": [
       "0"
      ]
     },
     "execution_count": 6,
     "metadata": {},
     "output_type": "execute_result"
    }
   ],
   "source": [
    "import os\n",
    "size = os.path.getsize(\"/mnt/data/multimedia/Music/Podcast/La Planète Bleue/2019/20190104 - La Planète Bleue - no 962_test.mp3\")\n",
    "size"
   ]
  },
  {
   "cell_type": "code",
   "execution_count": 1,
   "metadata": {},
   "outputs": [
    {
     "name": "stdout",
     "output_type": "stream",
     "text": [
      "length    = 108600972\n",
      "blocksize = 1086009\n",
      " Downloading 100% [=========>]"
     ]
    }
   ],
   "source": [
    "import urllib.request\n",
    "from urllib.parse import urlparse\n",
    "import math\n",
    "\n",
    "dlmp3 = urllib.request.urlopen(\"https://podcast.radiovostok.ch/laplanetebleue/media/2019-01-04_pad_planete_962_-_podcast_-_16bits.mp3\")\n",
    "length = dlmp3.getheader('content-length')\n",
    "if length:\n",
    "  length = int(length)\n",
    "  blocksize = max(4096, length//100)\n",
    "else:\n",
    "  blocksize = 100000000//100 # just made something up (100MB/100)\n",
    "blocnumber = 1\n",
    "\n",
    "print(\"length    = {}\".format(length))\n",
    "print(\"blocksize = {}\".format(blocksize))\n",
    "\n",
    "with open(\"test.mp3\", 'wb') as file:\n",
    "  while True:\n",
    "    chunk = dlmp3.read(blocksize)\n",
    "    if not chunk:\n",
    "      break\n",
    "    file.write(chunk)\n",
    "    percent = int(((blocksize*blocnumber)/length*100))\n",
    "    percentbar = math.floor(percent/10)\n",
    "    print(\"\\r Downloading {}% [\".format(percent)+(percentbar-1)*\"=\"+\">\"+(10-percentbar)*\" \"+\"]\",end=\"\")\n",
    "    blocnumber += 1\n"
   ]
  },
  {
   "cell_type": "code",
   "execution_count": 5,
   "metadata": {},
   "outputs": [],
   "source": [
    "import mutagen.mp3\n",
    "import mutagen.id3\n",
    "\n",
    "# Read ID3 tag or create it if not present\n",
    "try: \n",
    "  tags = mutagen.id3.ID3(\"test.mp3\")\n",
    "except mutagen.id3.ID3NoHeaderError:\n",
    "  print(\"Adding ID3 header\")\n",
    "  tags = mutagen.id3.ID3()\n",
    "\n",
    "tags[\"TIT2\"] = mutagen.id3.TIT2(encoding=3, text=u'title')\n",
    "tags[\"TALB\"] = mutagen.id3.TALB(encoding=3, text=u'mutagen Album Name')\n",
    "tags[\"TPE2\"] = mutagen.id3.TPE2(encoding=3, text=u'mutagen Band')\n",
    "tags[\"COMM\"] = mutagen.id3.COMM(encoding=3, lang=u'eng', desc='desc', text=u'mutagen comment')\n",
    "tags[\"TPE1\"] = mutagen.id3.TPE1(encoding=3, text=u'mutagen Artist')\n",
    "tags[\"TCOM\"] = mutagen.id3.TCOM(encoding=3, text=u'mutagen Composer')\n",
    "tags[\"TCON\"] = mutagen.id3.TCON(encoding=3, text=u'mutagen Genre')\n",
    "tags[\"TDRC\"] = mutagen.id3.TDRC(encoding=3, text=u'2010')\n",
    "tags[\"TRCK\"] = mutagen.id3.TRCK(encoding=3, text=u'track_number')\n",
    "tags.save(\"test.mp3\")"
   ]
  },
  {
   "cell_type": "code",
   "execution_count": 6,
   "metadata": {},
   "outputs": [
    {
     "name": "stdout",
     "output_type": "stream",
     "text": [
      "{'TIT2': TIT2(encoding=<Encoding.UTF8: 3>, text=['title']), 'TPE1': TPE1(encoding=<Encoding.UTF8: 3>, text=['mutagen Artist']), 'TRCK': TRCK(encoding=<Encoding.UTF8: 3>, text=['track_number']), 'TALB': TALB(encoding=<Encoding.UTF8: 3>, text=['mutagen Album Name']), 'TDRC': TDRC(encoding=<Encoding.UTF8: 3>, text=['2010']), 'TCON': TCON(encoding=<Encoding.UTF8: 3>, text=['mutagen Genre']), 'TPE2': TPE2(encoding=<Encoding.UTF8: 3>, text=['mutagen Band']), 'TCOM': TCOM(encoding=<Encoding.UTF8: 3>, text=['mutagen Composer']), 'COMM:desc:eng': COMM(encoding=<Encoding.UTF8: 3>, lang='eng', desc='desc', text=['mutagen comment'])}\n"
     ]
    }
   ],
   "source": [
    "import mutagen.mp3\n",
    "import mutagen.id3\n",
    "try: \n",
    "  tags = mutagen.id3.ID3(\"test.mp3\")\n",
    "  print(tags)\n",
    "except mutagen.id3.ID3NoHeaderError:\n",
    "  print(\"No id3 Tags Present\")"
   ]
  },
  {
   "cell_type": "code",
   "execution_count": null,
   "metadata": {},
   "outputs": [],
   "source": [
    "from mutagen.mp3 import MP3\n",
    "from mutagen.id3 import ID3NoHeaderError\n",
    "from mutagen.id3 import ID3, TIT2, TALB, TPE1, TPE2, COMM, USLT, TCOM, TCON, TDRC\n",
    "\n",
    "# Read ID3 tag or create it if not present\n",
    "try: \n",
    "    tags = ID3(fname)\n",
    "except ID3NoHeaderError:\n",
    "    print(\"Adding ID3 header\")\n",
    "    tags = ID3()\n",
    "\n",
    "tags[\"TIT2\"] = TIT2(encoding=3, text=title)\n",
    "tags[\"TALB\"] = TALB(encoding=3, text=u'mutagen Album Name')\n",
    "tags[\"TPE2\"] = TPE2(encoding=3, text=u'mutagen Band')\n",
    "tags[\"COMM\"] = COMM(encoding=3, lang=u'eng', desc='desc', text=u'mutagen comment')\n",
    "tags[\"TPE1\"] = TPE1(encoding=3, text=u'mutagen Artist')\n",
    "tags[\"TCOM\"] = TCOM(encoding=3, text=u'mutagen Composer')\n",
    "tags[\"TCON\"] = TCON(encoding=3, text=u'mutagen Genre')\n",
    "tags[\"TDRC\"] = TDRC(encoding=3, text=u'2010')\n",
    "tags[\"TRCK\"] = TRCK(encoding=3, text=u'track_number')\n"
   ]
  },
  {
   "cell_type": "code",
   "execution_count": 3,
   "metadata": {},
   "outputs": [
    {
     "name": "stderr",
     "output_type": "stream",
     "text": [
      "/home/zas/anaconda3/lib/python3.6/site-packages/matplotlib/font_manager.py:1328: UserWarning: findfont: Font family ['xkcd', 'Humor Sans', 'Comic Sans MS'] not found. Falling back to DejaVu Sans\n",
      "  (prop.get_family(), self.defaultFamily[fontext]))\n"
     ]
    },
    {
     "data": {
      "image/png": "[encoded data removed]",
      "text/plain": [
       "<Figure size 432x288 with 1 Axes>"
      ]
     },
     "metadata": {},
     "output_type": "display_data"
    },
    {
     "data": {
      "image/png": "[encoded data removed]",
      "text/plain": [
       "<Figure size 432x288 with 1 Axes>"
      ]
     },
     "metadata": {},
     "output_type": "display_data"
    }
   ],
   "source": [
    "%matplotlib inline\n",
    "from matplotlib import pyplot as plt\n",
    "import numpy as np\n",
    "\n",
    "plt.xkcd()\n",
    "\n",
    "fig = plt.figure()\n",
    "ax = fig.add_subplot(1, 1, 1)\n",
    "ax.spines['right'].set_color('none')\n",
    "ax.spines['top'].set_color('none')\n",
    "plt.xticks([])\n",
    "plt.yticks([])\n",
    "ax.set_ylim([-30, 10])\n",
    "\n",
    "data = np.ones(100)\n",
    "data[70:] -= np.arange(30)\n",
    "\n",
    "plt.annotate(\n",
    "    'THE DAY I REALIZED\\nI COULD COOK BACON\\nWHENEVER I WANTED',\n",
    "    xy=(70, 1), arrowprops=dict(arrowstyle='->'), xytext=(15, -10))\n",
    "\n",
    "plt.plot(data)\n",
    "\n",
    "plt.xlabel('time')\n",
    "plt.ylabel('my overall health')\n",
    "\n",
    "fig = plt.figure()\n",
    "ax = fig.add_subplot(1, 1, 1)\n",
    "ax.bar([-0.125, 1.0-0.125], [0, 100], 0.25)\n",
    "ax.spines['right'].set_color('none')\n",
    "ax.spines['top'].set_color('none')\n",
    "ax.xaxis.set_ticks_position('bottom')\n",
    "ax.set_xticks([0, 1])\n",
    "ax.set_xlim([-0.5, 1.5])\n",
    "ax.set_ylim([0, 110])\n",
    "ax.set_xticklabels(['CONFIRMED BY\\nEXPERIMENT', 'REFUTED BY\\nEXPERIMENT'])\n",
    "plt.yticks([])\n",
    "\n",
    "plt.title(\"CLAIMS OF SUPERNATURAL POWERS\")\n",
    "\n",
    "plt.show()"
   ]
  }
 ],
 "metadata": {
  "kernelspec": {
   "display_name": "Python 3",
   "language": "python",
   "name": "python3"
  },
  "language_info": {
   "codemirror_mode": {
    "name": "ipython",
    "version": 3
   },
   "file_extension": ".py",
   "mimetype": "text/x-python",
   "name": "python",
   "nbconvert_exporter": "python",
   "pygments_lexer": "ipython3",
   "version": "3.6.8"
  }
 },
 "nbformat": 4,
 "nbformat_minor": 2
}
