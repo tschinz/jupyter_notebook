{
 "cells": [
  {
   "cell_type": "markdown",
   "metadata": {},
   "source": [
    "# Jupyterlab Sandbox\n",
    "<img src=\"./00_Admin/sample_files/logos/sandbox.svg\" width=\"150\" />"
   ]
  },
  {
   "cell_type": "code",
   "execution_count": 8,
   "metadata": {},
   "outputs": [
    {
     "data": {
      "text/plain": [
       "'c:\\\\work\\\\repo\\\\my\\\\jupyter_notebook'"
      ]
     },
     "execution_count": 8,
     "metadata": {},
     "output_type": "execute_result"
    }
   ],
   "source": [
    "pwd"
   ]
  },
  {
   "cell_type": "code",
   "execution_count": 9,
   "metadata": {},
   "outputs": [
    {
     "name": "stderr",
     "output_type": "stream",
     "text": [
      "'sensors' is not recognized as an internal or external command,\n",
      "operable program or batch file.\n"
     ]
    }
   ],
   "source": [
    "!sensors"
   ]
  },
  {
   "cell_type": "code",
   "execution_count": 10,
   "metadata": {},
   "outputs": [
    {
     "ename": "FileNotFoundError",
     "evalue": "[WinError 3] The system cannot find the path specified: '/mnt/data/multimedia/Music/Podcast/La Planète Bleue/2019/20190104 - La Planète Bleue - no 962_test.mp3'",
     "output_type": "error",
     "traceback": [
      "\u001b[1;31m---------------------------------------------------------------------------\u001b[0m",
      "\u001b[1;31mFileNotFoundError\u001b[0m                         Traceback (most recent call last)",
      "\u001b[1;32m<ipython-input-10-e90a8fb6fa9c>\u001b[0m in \u001b[0;36m<module>\u001b[1;34m\u001b[0m\n\u001b[0;32m      1\u001b[0m \u001b[1;32mimport\u001b[0m \u001b[0mos\u001b[0m\u001b[1;33m\u001b[0m\u001b[1;33m\u001b[0m\u001b[0m\n\u001b[1;32m----> 2\u001b[1;33m \u001b[0msize\u001b[0m \u001b[1;33m=\u001b[0m \u001b[0mos\u001b[0m\u001b[1;33m.\u001b[0m\u001b[0mpath\u001b[0m\u001b[1;33m.\u001b[0m\u001b[0mgetsize\u001b[0m\u001b[1;33m(\u001b[0m\u001b[1;34m\"/mnt/data/multimedia/Music/Podcast/La Planète Bleue/2019/20190104 - La Planète Bleue - no 962_test.mp3\"\u001b[0m\u001b[1;33m)\u001b[0m\u001b[1;33m\u001b[0m\u001b[1;33m\u001b[0m\u001b[0m\n\u001b[0m\u001b[0;32m      3\u001b[0m \u001b[0msize\u001b[0m\u001b[1;33m\u001b[0m\u001b[1;33m\u001b[0m\u001b[0m\n",
      "\u001b[1;32m~\\anaconda3\\lib\\genericpath.py\u001b[0m in \u001b[0;36mgetsize\u001b[1;34m(filename)\u001b[0m\n\u001b[0;32m     48\u001b[0m \u001b[1;32mdef\u001b[0m \u001b[0mgetsize\u001b[0m\u001b[1;33m(\u001b[0m\u001b[0mfilename\u001b[0m\u001b[1;33m)\u001b[0m\u001b[1;33m:\u001b[0m\u001b[1;33m\u001b[0m\u001b[1;33m\u001b[0m\u001b[0m\n\u001b[0;32m     49\u001b[0m     \u001b[1;34m\"\"\"Return the size of a file, reported by os.stat().\"\"\"\u001b[0m\u001b[1;33m\u001b[0m\u001b[1;33m\u001b[0m\u001b[0m\n\u001b[1;32m---> 50\u001b[1;33m     \u001b[1;32mreturn\u001b[0m \u001b[0mos\u001b[0m\u001b[1;33m.\u001b[0m\u001b[0mstat\u001b[0m\u001b[1;33m(\u001b[0m\u001b[0mfilename\u001b[0m\u001b[1;33m)\u001b[0m\u001b[1;33m.\u001b[0m\u001b[0mst_size\u001b[0m\u001b[1;33m\u001b[0m\u001b[1;33m\u001b[0m\u001b[0m\n\u001b[0m\u001b[0;32m     51\u001b[0m \u001b[1;33m\u001b[0m\u001b[0m\n\u001b[0;32m     52\u001b[0m \u001b[1;33m\u001b[0m\u001b[0m\n",
      "\u001b[1;31mFileNotFoundError\u001b[0m: [WinError 3] The system cannot find the path specified: '/mnt/data/multimedia/Music/Podcast/La Planète Bleue/2019/20190104 - La Planète Bleue - no 962_test.mp3'"
     ]
    }
   ],
   "source": [
    "import os\n",
    "size = os.path.getsize(\"/mnt/data/multimedia/Music/Podcast/La Planète Bleue/2019/20190104 - La Planète Bleue - no 962_test.mp3\")\n",
    "size"
   ]
  },
  {
   "cell_type": "code",
   "execution_count": null,
   "metadata": {},
   "outputs": [],
   "source": [
    "import urllib.request\n",
    "from urllib.parse import urlparse\n",
    "import math\n",
    "\n",
    "dlmp3 = urllib.request.urlopen(\"https://podcast.radiovostok.ch/laplanetebleue/media/2019-01-04_pad_planete_962_-_podcast_-_16bits.mp3\")\n",
    "length = dlmp3.getheader('content-length')\n",
    "if length:\n",
    "  length = int(length)\n",
    "  blocksize = max(4096, length//100)\n",
    "else:\n",
    "  blocksize = 100000000//100 # just made something up (100MB/100)\n",
    "blocnumber = 1\n",
    "\n",
    "print(\"length    = {}\".format(length))\n",
    "print(\"blocksize = {}\".format(blocksize))\n",
    "\n",
    "with open(\"test.mp3\", 'wb') as file:\n",
    "  while True:\n",
    "    chunk = dlmp3.read(blocksize)\n",
    "    if not chunk:\n",
    "      break\n",
    "    file.write(chunk)\n",
    "    percent = int(((blocksize*blocnumber)/length*100))\n",
    "    percentbar = math.floor(percent/10)\n",
    "    print(\"\\r Downloading {}% [\".format(percent)+(percentbar-1)*\"=\"+\">\"+(10-percentbar)*\" \"+\"]\",end=\"\")\n",
    "    blocnumber += 1\n"
   ]
  },
  {
   "cell_type": "code",
   "execution_count": null,
   "metadata": {},
   "outputs": [],
   "source": [
    "import mutagen.mp3\n",
    "import mutagen.id3\n",
    "\n",
    "# Read ID3 tag or create it if not present\n",
    "try: \n",
    "  tags = mutagen.id3.ID3(\"test.mp3\")\n",
    "except mutagen.id3.ID3NoHeaderError:\n",
    "  print(\"Adding ID3 header\")\n",
    "  tags = mutagen.id3.ID3()\n",
    "\n",
    "tags[\"TIT2\"] = mutagen.id3.TIT2(encoding=3, text=u'title')\n",
    "tags[\"TALB\"] = mutagen.id3.TALB(encoding=3, text=u'mutagen Album Name')\n",
    "tags[\"TPE2\"] = mutagen.id3.TPE2(encoding=3, text=u'mutagen Band')\n",
    "tags[\"COMM\"] = mutagen.id3.COMM(encoding=3, lang=u'eng', desc='desc', text=u'mutagen comment')\n",
    "tags[\"TPE1\"] = mutagen.id3.TPE1(encoding=3, text=u'mutagen Artist')\n",
    "tags[\"TCOM\"] = mutagen.id3.TCOM(encoding=3, text=u'mutagen Composer')\n",
    "tags[\"TCON\"] = mutagen.id3.TCON(encoding=3, text=u'mutagen Genre')\n",
    "tags[\"TDRC\"] = mutagen.id3.TDRC(encoding=3, text=u'2010')\n",
    "tags[\"TRCK\"] = mutagen.id3.TRCK(encoding=3, text=u'track_number')\n",
    "tags.save(\"test.mp3\")"
   ]
  },
  {
   "cell_type": "code",
   "execution_count": null,
   "metadata": {},
   "outputs": [],
   "source": [
    "import mutagen.mp3\n",
    "import mutagen.id3\n",
    "try: \n",
    "  tags = mutagen.id3.ID3(\"test.mp3\")\n",
    "  print(tags)\n",
    "except mutagen.id3.ID3NoHeaderError:\n",
    "  print(\"No id3 Tags Present\")"
   ]
  },
  {
   "cell_type": "code",
   "execution_count": null,
   "metadata": {},
   "outputs": [],
   "source": [
    "from mutagen.mp3 import MP3\n",
    "from mutagen.id3 import ID3NoHeaderError\n",
    "from mutagen.id3 import ID3, TIT2, TALB, TPE1, TPE2, COMM, USLT, TCOM, TCON, TDRC\n",
    "\n",
    "# Read ID3 tag or create it if not present\n",
    "try: \n",
    "    tags = ID3(fname)\n",
    "except ID3NoHeaderError:\n",
    "    print(\"Adding ID3 header\")\n",
    "    tags = ID3()\n",
    "\n",
    "tags[\"TIT2\"] = TIT2(encoding=3, text=title)\n",
    "tags[\"TALB\"] = TALB(encoding=3, text=u'mutagen Album Name')\n",
    "tags[\"TPE2\"] = TPE2(encoding=3, text=u'mutagen Band')\n",
    "tags[\"COMM\"] = COMM(encoding=3, lang=u'eng', desc='desc', text=u'mutagen comment')\n",
    "tags[\"TPE1\"] = TPE1(encoding=3, text=u'mutagen Artist')\n",
    "tags[\"TCOM\"] = TCOM(encoding=3, text=u'mutagen Composer')\n",
    "tags[\"TCON\"] = TCON(encoding=3, text=u'mutagen Genre')\n",
    "tags[\"TDRC\"] = TDRC(encoding=3, text=u'2010')\n",
    "tags[\"TRCK\"] = TRCK(encoding=3, text=u'track_number')\n"
   ]
  },
  {
   "cell_type": "code",
   "execution_count": null,
   "metadata": {},
   "outputs": [],
   "source": [
    "%matplotlib inline\n",
    "from matplotlib import pyplot as plt\n",
    "import numpy as np\n",
    "\n",
    "plt.xkcd()\n",
    "\n",
    "fig = plt.figure()\n",
    "ax = fig.add_subplot(1, 1, 1)\n",
    "ax.spines['right'].set_color('none')\n",
    "ax.spines['top'].set_color('none')\n",
    "plt.xticks([])\n",
    "plt.yticks([])\n",
    "ax.set_ylim([-30, 10])\n",
    "\n",
    "data = np.ones(100)\n",
    "data[70:] -= np.arange(30)\n",
    "\n",
    "plt.annotate(\n",
    "    'THE DAY I REALIZED\\nI COULD COOK BACON\\nWHENEVER I WANTED',\n",
    "    xy=(70, 1), arrowprops=dict(arrowstyle='->'), xytext=(15, -10))\n",
    "\n",
    "plt.plot(data)\n",
    "\n",
    "plt.xlabel('time')\n",
    "plt.ylabel('my overall health')\n",
    "\n",
    "fig = plt.figure()\n",
    "ax = fig.add_subplot(1, 1, 1)\n",
    "ax.bar([-0.125, 1.0-0.125], [0, 100], 0.25)\n",
    "ax.spines['right'].set_color('none')\n",
    "ax.spines['top'].set_color('none')\n",
    "ax.xaxis.set_ticks_position('bottom')\n",
    "ax.set_xticks([0, 1])\n",
    "ax.set_xlim([-0.5, 1.5])\n",
    "ax.set_ylim([0, 110])\n",
    "ax.set_xticklabels(['CONFIRMED BY\\nEXPERIMENT', 'REFUTED BY\\nEXPERIMENT'])\n",
    "plt.yticks([])\n",
    "\n",
    "plt.title(\"CLAIMS OF SUPERNATURAL POWERS\")\n",
    "\n",
    "plt.show()"
   ]
  },
  {
   "cell_type": "code",
   "execution_count": 5,
   "metadata": {},
   "outputs": [
    {
     "name": "stdout",
     "output_type": "stream",
     "text": [
      "2020-06-15 13:29:26 |\u001b[32m INFO     \u001b[0m| root | Info\n",
      "2020-06-15 13:29:26 |\u001b[33m WARNING  \u001b[0m| root | Warning\n",
      "2020-06-15 13:29:26 |\u001b[31m ERROR    \u001b[0m| root | Error\n",
      "2020-06-15 13:29:26 |\u001b[31m\u001b[47m\u001b[1m CRITICAL \u001b[0m| root | Critical\n"
     ]
    }
   ],
   "source": [
    "import sys\n",
    "import logging\n",
    "from typing import Optional, Dict\n",
    "\n",
    "from colorama import Fore, Back, Style\n",
    "\n",
    "\n",
    "class ColoredFormatter(logging.Formatter):\n",
    "    \"\"\"Colored log formatter.\"\"\"\n",
    "\n",
    "    def __init__(self, *args, colors: Optional[Dict[str, str]]=None, **kwargs) -> None:\n",
    "        \"\"\"Initialize the formatter with specified format strings.\"\"\"\n",
    "\n",
    "        super().__init__(*args, **kwargs)\n",
    "\n",
    "        self.colors = colors if colors else {}\n",
    "\n",
    "    def format(self, record) -> str:\n",
    "        \"\"\"Format the specified record as text.\"\"\"\n",
    "\n",
    "        record.color = self.colors.get(record.levelname, '')\n",
    "        record.reset = Style.RESET_ALL\n",
    "\n",
    "        return super().format(record)\n",
    "\n",
    "\n",
    "formatter = ColoredFormatter(\n",
    "    '{asctime} |{color} {levelname:8} {reset}| {name} | {message}',\n",
    "    style='{', datefmt='%Y-%m-%d %H:%M:%S',\n",
    "    colors={\n",
    "        'DEBUG': Fore.CYAN,\n",
    "        'INFO': Fore.GREEN,\n",
    "        'WARNING': Fore.YELLOW,\n",
    "        'ERROR': Fore.RED,\n",
    "        'CRITICAL': Fore.RED + Back.WHITE + Style.BRIGHT,\n",
    "    }\n",
    ")\n",
    "\n",
    "handler = logging.StreamHandler(sys.stdout)\n",
    "handler.setFormatter(formatter)\n",
    "\n",
    "log = logging.getLogger()\n",
    "log.handlers[:] = []\n",
    "log.addHandler(handler)\n",
    "log.setLevel(logging.INFO)\n",
    "log.debug(\"Debug\")\n",
    "log.info(\"Info\")\n",
    "log.warning(\"Warning\")\n",
    "log.error(\"Error\")\n",
    "log.critical(\"Critical\")"
   ]
  },
  {
   "cell_type": "code",
   "execution_count": 12,
   "metadata": {},
   "outputs": [
    {
     "name": "stdout",
     "output_type": "stream",
     "text": [
      "sha1:9c0638042d95:7907894c37cf6cd7f6bcbd76f8def4297f3fb8fc\n"
     ]
    }
   ],
   "source": [
    "from IPython.lib import passwd\n",
    "password = passwd(\"test\")\n",
    "print(password)"
   ]
  },
  {
   "cell_type": "code",
   "execution_count": null,
   "metadata": {},
   "outputs": [],
   "source": [
    "sha1:4d07e0ee282d:7fee1d7062f5e051ad0d3a20dc87f3e85c07dffe"
   ]
  }
 ],
 "metadata": {
  "kernelspec": {
   "display_name": "Python 3",
   "language": "python",
   "name": "python3"
  },
  "language_info": {
   "codemirror_mode": {
    "name": "ipython",
    "version": 3
   },
   "file_extension": ".py",
   "mimetype": "text/x-python",
   "name": "python",
   "nbconvert_exporter": "python",
   "pygments_lexer": "ipython3",
   "version": "3.7.6"
  }
 },
 "nbformat": 4,
 "nbformat_minor": 4
}
